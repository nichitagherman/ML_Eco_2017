{
 "cells": [
  {
   "cell_type": "markdown",
   "metadata": {},
   "source": [
    "# Машинное обучение, ФЭН ВШЭ\n",
    "\n",
    "# Практическое задание 2\n",
    "(Основано на материалах курса машинного обучения на фкн)\n",
    "\n",
    "## Общая информация\n",
    "\n",
    "Дата выдачи: 21.09.2017\n",
    "\n",
    "Срок сдачи: 8.10.2017 23:59MSK\n",
    "\n",
    "### О задании\n",
    "\n",
    "Практическое задание 1 посвящено изучению основных библиотек для анализа данных, а также линейных моделей и методов их обучения. Вы научитесь:\n",
    " * применять библиотеку NumPy;\n",
    " * подготавливать данные для обучения линейных моделей;\n",
    " * обучать линейную, Lasso и Ridge-регрессии при помощи модуля scikit-learn;\n",
    " * реализовывать обычный и стохастический градиентные спуски;\n",
    " * обучать линейную регрессию для произвольного функционала качества.\n",
    " \n",
    "\n",
    "### Оценивание и штрафы\n",
    "\n",
    "Каждая из задач имеет определенную «стоимость» (указана в скобках около задачи). Максимально допустимая оценка за работу — 10 баллов. Кроме того, некоторые из заданий являются опциональными (необязательными), однако за их выполнение можно получить дополнительные баллы.\n",
    "\n",
    "\n",
    "Задание выполняется самостоятельно. «Похожие» решения считаются плагиатом и все задействованные студенты (в том числе те, у кого списали) не могут получить за него больше 0 баллов (подробнее о плагиате см. на странице курса). Если вы нашли решение какого-то из заданий (или его часть) в открытом источнике, необходимо указать ссылку на этот источник в отдельном блоке в конце Вашей работы (скорее всего вы будете не единственным, кто это нашел, поэтому чтобы исключить подозрение в плагиате, необходима ссылка на источник). \n",
    "\n",
    "Неэффективная реализация кода может негативно отразиться на оценке.\n",
    "\n",
    "\n",
    "### Формат сдачи\n",
    "Для сдачи задания переименуйте получившийся файл \\*.ipynb в соответствии со следующим форматом: *HW1_Username.ipynb*, где *Username* — Ваша фамилия и инициалы на латинице (например, *HW1_IvanovII.ipynb*). Далее отправьте этот файл на почту курса, указав соответствующую тему (см. вики-страничку курча)."
   ]
  },
  {
   "cell_type": "markdown",
   "metadata": {},
   "source": [
    "## Библиотеки для анализа данных\n",
    "\n",
    "### NumPy\n",
    "\n",
    "Во всех заданиях данного раздела запрещено использовать циклы  и list comprehensions. Под вектором и матрицей в данных заданиях понимается одномерный и двумерный numpy.array соответственно."
   ]
  },
  {
   "cell_type": "code",
   "execution_count": 1,
   "metadata": {},
   "outputs": [],
   "source": [
    "import numpy as np"
   ]
  },
  {
   "cell_type": "markdown",
   "metadata": {},
   "source": [
    "**1. (0.3 балла)** Реализуйте функцию, возвращающую максимальный элемент в векторе x среди элементов, перед которыми стоит нулевой. Для x = np.array([6, 2, 0, 3, 0, 0, 5, 7, 0]) ответом является 5. Если нулевых элементов нет, функция должна возвращать None.\n"
   ]
  },
  {
   "cell_type": "code",
   "execution_count": 2,
   "metadata": {},
   "outputs": [],
   "source": [
    "def max_element(arr):\n",
    "    if 0 not in arr or arr[-1]==0:\n",
    "        return print('None')\n",
    "    b = arr==0\n",
    "    b = np.roll(b,1)\n",
    "    b[0] = False\n",
    "    return max(arr[b])"
   ]
  },
  {
   "cell_type": "markdown",
   "metadata": {},
   "source": [
    "**2. (0.3 балла)** Реализуйте функцию, принимающую на вход матрицу и некоторое число и возвращающую ближайший к числу элемент матрицы. Например: для X = np.arange(0,10).reshape((2, 5)) и v = 3.6 ответом будет 4."
   ]
  },
  {
   "cell_type": "code",
   "execution_count": 3,
   "metadata": {},
   "outputs": [],
   "source": [
    "def nearest_value(X, v):\n",
    "    X = X.reshape((1,X.size))\n",
    "    idx = (np.abs(X-v)).argmin()\n",
    "    return X[0,idx]"
   ]
  },
  {
   "cell_type": "markdown",
   "metadata": {},
   "source": [
    "**3. (0.3 балла)** Реализуйте функцию scale(X), которая принимает на вход матрицу и масштабирует каждый ее столбец (вычитает выборочное среднее и делит на стандартное отклонение). Убедитесь, что в функции не будет происходить деления на ноль. Протестируйте на случайной матрице (для её генерации можно использовать, например, функцию [numpy.random.randint](http://docs.scipy.org/doc/numpy/reference/generated/numpy.random.randint.html))."
   ]
  },
  {
   "cell_type": "code",
   "execution_count": 4,
   "metadata": {},
   "outputs": [],
   "source": [
    "def scale(x):\n",
    "    std = x.std(axis=0)\n",
    "    std[x.std(axis=0) == 0]+=0.00000000001\n",
    "    x_normed = (x - x.mean(axis=0))/std\n",
    "    return x_normed"
   ]
  },
  {
   "cell_type": "markdown",
   "metadata": {},
   "source": [
    "**4. (0.3 балла)** Реализуйте функцию, которая для заданной матрицы находит:\n",
    " - определитель\n",
    " - след\n",
    " - наименьший и наибольший элементы\n",
    " - норму Фробениуса\n",
    " - собственные числа\n",
    " - обратную матрицу\n",
    "\n",
    "Для тестирования сгенерируйте матрицу с элементами из нормального распределения $\\mathcal{N}$(10,1)"
   ]
  },
  {
   "cell_type": "code",
   "execution_count": 5,
   "metadata": {},
   "outputs": [],
   "source": [
    "def get_stats(X):\n",
    "    if len(X.shape)==2 and X.shape[0]==X.shape[1]:\n",
    "        det = np.linalg.det(X)\n",
    "        trace = np.trace(X)\n",
    "        minim = np.min(X)\n",
    "        maxim = np.max(X)\n",
    "        fnorm = np.linalg.norm(X, ord='fro')\n",
    "        eigenval = np.linalg.eigvals(X)\n",
    "        try:\n",
    "            inv = np.linalg.inv(X)\n",
    "        except:\n",
    "            inv = 'Вырождена'\n",
    "        print('детерминант: ',det,\"\\n след \", trace,\"\\n минимум \", minim,\"\\n максимум \",\n",
    "              maxim,\"\\n норма Фробениуса\", fnorm,\"\\n собственные числа \", eigenval,\"\\n обратная матрица \\n\", inv)\n",
    "    else:\n",
    "        print('Не квадратная матрица')"
   ]
  },
  {
   "cell_type": "markdown",
   "metadata": {},
   "source": [
    "**5. (0.3 балла)** Повторите 100 раз следующий эксперимент: сгенерируйте две матрицы размера 10×10 из стандартного нормального распределения, перемножьте их (как матрицы) и найдите максимальный элемент. Какое среднее значение по экспериментам у максимальных элементов? 95-процентная квантиль?"
   ]
  },
  {
   "cell_type": "code",
   "execution_count": 6,
   "metadata": {},
   "outputs": [],
   "source": [
    "def experiment(exp_num):\n",
    "    np.random.seed(exp_num)#для воспроизводимости\n",
    "    s = np.random.standard_normal((10, 10))\n",
    "    return np.max(s@s)\n",
    "\n",
    "means = []\n",
    "for exp_num in range(100):\n",
    "    means.append(experiment(exp_num))\n",
    "    # Your code here"
   ]
  },
  {
   "cell_type": "markdown",
   "metadata": {},
   "source": [
    "## Линейная регрессия\n",
    "\n",
    "В этой части мы разберемся с линейной регрессией, способами её обучения и измерением качества ее прогнозов. \n",
    "\n",
    "Будем рассматривать данные по авиарейсам в США за январь-апрель 2008 года для предсказания времени задержки отправления рейса в минутах (DepDelay). Отметим, что под задержкой подразумевается не только опоздание рейса относительно планируемого времени вылета, но и отправление до планируемого времени.\n",
    "\n",
    "\n",
    "[Данные](https://www.dropbox.com/s/dvfitn93obn0rql/2008.csv?dl=0) и их [описание](http://stat-computing.org/dataexpo/2009/the-data.html)\n",
    "\n",
    "### Подготовка данных\n",
    "\n",
    "**6. (0.75 балла)** Считайте выборку из файла при помощи функции pd.read_csv и ответьте на следующие вопросы:\n",
    "   "
   ]
  },
  {
   "cell_type": "code",
   "execution_count": 7,
   "metadata": {
    "scrolled": true
   },
   "outputs": [],
   "source": [
    "import pandas as pd\n",
    "df = pd.read_csv('2008.csv')\n",
    "# Your code here"
   ]
  },
  {
   "cell_type": "markdown",
   "metadata": {},
   "source": [
    "   - Имеются ли в данных пропущенные значения?"
   ]
  },
  {
   "cell_type": "code",
   "execution_count": 8,
   "metadata": {},
   "outputs": [
    {
     "data": {
      "text/plain": [
       "355215"
      ]
     },
     "execution_count": 8,
     "metadata": {},
     "output_type": "execute_result"
    }
   ],
   "source": [
    "sum(df.isnull().sum()) #Да"
   ]
  },
  {
   "cell_type": "markdown",
   "metadata": {},
   "source": [
    "   - Сколько всего пропущенных элементов в таблице \"объект-признак\"?"
   ]
  },
  {
   "cell_type": "markdown",
   "metadata": {},
   "source": [
    "355215"
   ]
  },
  {
   "cell_type": "markdown",
   "metadata": {},
   "source": [
    "   - Сколько объектов имеют хотя бы один пропуск?"
   ]
  },
  {
   "cell_type": "code",
   "execution_count": 9,
   "metadata": {},
   "outputs": [
    {
     "data": {
      "text/plain": [
       "70000"
      ]
     },
     "execution_count": 9,
     "metadata": {},
     "output_type": "execute_result"
    }
   ],
   "source": [
    "sum(df.isnull().any(axis=1)) #все, хотя бы один"
   ]
  },
  {
   "cell_type": "markdown",
   "metadata": {},
   "source": [
    "   - Сколько признаков имеют хотя бы одно пропущенное значение?"
   ]
  },
  {
   "cell_type": "code",
   "execution_count": 10,
   "metadata": {},
   "outputs": [
    {
     "data": {
      "text/plain": [
       "16"
      ]
     },
     "execution_count": 10,
     "metadata": {},
     "output_type": "execute_result"
    }
   ],
   "source": [
    "sum(df.isnull().sum()!=0)"
   ]
  },
  {
   "cell_type": "markdown",
   "metadata": {},
   "source": [
    "Как вы понимаете, также не имеет смысла рассматривать при решении поставленной задачи объекты с пропущенным значением целевой переменной. В связи с этим ответьте на следующие вопросы и выполните соответствующие действия:\n",
    "- Имеются ли пропущенные значения в целевой переменной?"
   ]
  },
  {
   "cell_type": "code",
   "execution_count": 11,
   "metadata": {},
   "outputs": [
    {
     "data": {
      "text/plain": [
       "1399"
      ]
     },
     "execution_count": 11,
     "metadata": {},
     "output_type": "execute_result"
    }
   ],
   "source": [
    "sum(df['DepDelay'].isnull()) #Да"
   ]
  },
  {
   "cell_type": "markdown",
   "metadata": {},
   "source": [
    "- Проанализируйте объекты с пропущенными значениями целевой переменной. Чем вызвано это явление? Что их объединяет?"
   ]
  },
  {
   "cell_type": "code",
   "execution_count": 12,
   "metadata": {},
   "outputs": [],
   "source": [
    "pd.set_option('display.max_columns', 500)\n",
    "pd.set_option('display.max_rows', 500)\n",
    "#df.loc[df['DepDelay'].isnull(),]"
   ]
  },
  {
   "cell_type": "markdown",
   "metadata": {},
   "source": [
    "Для таких объектов отсутствуют все переменные связанные со временем"
   ]
  },
  {
   "cell_type": "markdown",
   "metadata": {},
   "source": [
    " Можно ли в связи с этим, на ваш взгляд, исключить какие-то признаки из рассмотрения? Обоснуйте свою точку зрения.\n",
    "\n",
    "Исключите из выборки объекты **с пропущенным значением целевой переменной и со значением целевой переменной, равным 0**, а также при необходимости исключите признаки в соответствии с вашим ответом на последний вопрос из списка и выделите целевую переменную в отдельный вектор, исключив её из матрицы \"объект-признак\"."
   ]
  },
  {
   "cell_type": "code",
   "execution_count": 13,
   "metadata": {},
   "outputs": [],
   "source": [
    "# Your code here\n",
    "df = df.loc[-df['DepDelay'].isnull(),]\n",
    "df = df.loc[df['DepDelay']!=0,]"
   ]
  },
  {
   "cell_type": "markdown",
   "metadata": {},
   "source": [
    "**7. (1 балл)** Обратите внимание, что признаки DepTime, CRSDepTime, ArrTime, CRSArrTime приведены в формате hhmm, в связи с чем будет не вполне корректно рассматривать их как вещественные.\n",
    "\n",
    "Преобразуйте каждый признак FeatureName из указанных в пару новых признаков FeatureName\\_Hour, FeatureName\\_Minute, разделив каждое из значений на часы и минуты. Не забудьте при этом исключить исходный признак из выборки. В случае, если значение признака отсутствует, значения двух новых признаков, его заменяющих, также должны отсутствовать. \n",
    "\n",
    "Например, признак DepTime необходимо заменить на пару признаков DepTime_Hour, DepTime_Minute. При этом, например, значение 155 исходного признака будет преобразовано в значения 1 и 55 признаков DepTime_Hour, DepTime_Minute соответственно."
   ]
  },
  {
   "cell_type": "code",
   "execution_count": 14,
   "metadata": {},
   "outputs": [],
   "source": [
    "df['DepTime_Minute'] = df['DepTime'].apply(lambda x: str(int(x))[-2:] if not np.isnan(x) else None).astype(int)\n",
    "df['DepTime_Hour'] = df['DepTime'].apply(lambda x: str(int(x))[:-2] if not np.isnan(x) else 0)\n",
    "df.loc[df['DepTime_Hour'] == '','DepTime_Hour'] = 0\n",
    "df['DepTime_Hour'] = df['DepTime_Hour'].astype(int)\n",
    "del df['DepTime']"
   ]
  },
  {
   "cell_type": "code",
   "execution_count": 15,
   "metadata": {},
   "outputs": [],
   "source": [
    "df['CRSDepTime_Minute'] = df['CRSDepTime'].apply(lambda x: str(int(x))[-2:] if not np.isnan(x) else None).astype(int)\n",
    "df['CRSDepTime_Hour'] = df['CRSDepTime'].apply(lambda x: str(int(x))[:-2] if not np.isnan(x) else 0)\n",
    "df.loc[df['CRSDepTime_Hour'] == '','CRSDepTime_Hour'] = 0\n",
    "df['CRSDepTime_Hour'] = df['CRSDepTime_Hour'].astype(int)\n",
    "del df['CRSDepTime']"
   ]
  },
  {
   "cell_type": "code",
   "execution_count": 16,
   "metadata": {},
   "outputs": [],
   "source": [
    "df['ArrTime_Minute'] = df['ArrTime'].apply(lambda x: str(int(x))[-2:] if not np.isnan(x) else np.nan)\n",
    "df = df.loc[df['ArrTime_Minute'].isnull() == False,:]\n",
    "df['ArrTime_Minute'] = df['ArrTime_Minute'].astype(int)\n",
    "df['ArrTime_Hour'] = df['ArrTime'].apply(lambda x: str(int(x))[:-2] if not np.isnan(x) else 0)\n",
    "df.loc[df['ArrTime_Hour'] == '','ArrTime_Hour'] = 0\n",
    "df['ArrTime_Hour'] = df['ArrTime_Hour'].astype(int)\n",
    "del df['ArrTime']"
   ]
  },
  {
   "cell_type": "code",
   "execution_count": 17,
   "metadata": {},
   "outputs": [],
   "source": [
    "df['CRSArrTime_Minute'] = df['CRSArrTime'].apply(lambda x: str(int(x))[-2:] if not np.isnan(x) else None).astype(int)\n",
    "df['CRSArrTime_Hour'] = df['CRSArrTime'].apply(lambda x: str(int(x))[:-2] if not np.isnan(x) else 0)\n",
    "df.loc[df['CRSArrTime_Hour'] == '','CRSArrTime_Hour'] = 0\n",
    "df['CRSArrTime_Hour'] = df['CRSArrTime_Hour'].astype(int)\n",
    "del df['CRSArrTime']"
   ]
  },
  {
   "cell_type": "markdown",
   "metadata": {},
   "source": [
    "**8. (0.5 балла)** Некоторые из признаков, отличных от целевой переменной, могут оказывать чересчур значимое влияние на прогноз, поскольку по своему смыслу содержат большую долю информации о значении целевой переменной. Изучите описание датасета и исключите признаки, сильно коррелирующие с ответами. Ваш выбор признаков для исключения из выборки обоснуйте. Кроме того, исключите признаки TailNum и Year."
   ]
  },
  {
   "cell_type": "code",
   "execution_count": 18,
   "metadata": {},
   "outputs": [],
   "source": [
    "df.drop(['Year', 'TailNum'], axis=1, inplace=True)"
   ]
  },
  {
   "cell_type": "code",
   "execution_count": 19,
   "metadata": {},
   "outputs": [
    {
     "data": {
      "text/plain": [
       "DepDelay             1.000000\n",
       "ArrDelay             0.933526\n",
       "LateAircraftDelay    0.553806\n",
       "CarrierDelay         0.532696\n",
       "WeatherDelay         0.238872\n",
       "DepTime_Hour         0.203472\n",
       "NASDelay             0.171591\n",
       "CRSDepTime_Hour      0.140416\n",
       "CRSArrTime_Hour      0.135523\n",
       "TaxiOut              0.100504\n",
       "ArrTime_Hour         0.070181\n",
       "ActualElapsedTime    0.041946\n",
       "CRSElapsedTime       0.033961\n",
       "AirTime              0.025237\n",
       "Distance             0.024078\n",
       "CRSDepTime_Minute    0.022270\n",
       "FlightNum            0.021709\n",
       "TaxiIn               0.020640\n",
       "SecurityDelay        0.010668\n",
       "CRSArrTime_Minute    0.009172\n",
       "DayofMonth           0.008777\n",
       "DayOfWeek            0.008467\n",
       "ArrTime_Minute       0.006171\n",
       "Diverted            -0.002425\n",
       "DepTime_Minute      -0.017047\n",
       "Month               -0.029353\n",
       "Cancelled                 NaN\n",
       "Name: DepDelay, dtype: float64"
      ]
     },
     "execution_count": 19,
     "metadata": {},
     "output_type": "execute_result"
    }
   ],
   "source": [
    "corr = df.corr()\n",
    "corr['DepDelay'].sort_values(ascending=False)"
   ]
  },
  {
   "cell_type": "code",
   "execution_count": 20,
   "metadata": {},
   "outputs": [
    {
     "data": {
      "text/plain": [
       "(63264, 23)"
      ]
     },
     "execution_count": 20,
     "metadata": {},
     "output_type": "execute_result"
    }
   ],
   "source": [
    "df.drop(['ArrDelay','LateAircraftDelay','CarrierDelay','WeatherDelay','NASDelay', 'Cancelled','SecurityDelay','CancellationCode'], axis=1, inplace=True)\n",
    "df.shape"
   ]
  },
  {
   "cell_type": "markdown",
   "metadata": {
    "collapsed": true
   },
   "source": [
    "**Эти колонки исключены, так как являются частью DepDelay(этим объясняется высокая скоррелированность) и не могут быть известны заранее, то есть быть использованы в предсказании.\n",
    "Cancelled убрана, так как содержит  только нули**"
   ]
  },
  {
   "cell_type": "markdown",
   "metadata": {},
   "source": [
    "Приведем данные к виду, пригодному для обучения линейных моделей. Для этого вещественные признаки надо отмасштабировать, а категориальные — привести к числовому виду. Также надо устранить пропуски в данных."
   ]
  },
  {
   "cell_type": "markdown",
   "metadata": {},
   "source": [
    "**9*. (1 бонусный балл) ** В первую очередь поймем, зачем необходимо применять масштабирование. Следующие ячейки с кодом построят гистограммы для 3 вещественных признаков выборки."
   ]
  },
  {
   "cell_type": "code",
   "execution_count": 252,
   "metadata": {
    "scrolled": true
   },
   "outputs": [
    {
     "data": {
      "text/plain": [
       "<matplotlib.axes._subplots.AxesSubplot at 0x7f43030d0630>"
      ]
     },
     "execution_count": 252,
     "metadata": {},
     "output_type": "execute_result"
    },
    {
     "data": {
      "image/png": "[encoded data removed]",
      "text/plain": [
       "<matplotlib.figure.Figure at 0x7f43030e6f28>"
      ]
     },
     "metadata": {},
     "output_type": "display_data"
    }
   ],
   "source": [
    "df['DepTime_Hour'].hist(bins=20)"
   ]
  },
  {
   "cell_type": "code",
   "execution_count": 253,
   "metadata": {},
   "outputs": [
    {
     "data": {
      "text/plain": [
       "<matplotlib.axes._subplots.AxesSubplot at 0x7f43227b2ba8>"
      ]
     },
     "execution_count": 253,
     "metadata": {},
     "output_type": "execute_result"
    },
    {
     "data": {
      "image/png": "[encoded data removed]",
      "text/plain": [
       "<matplotlib.figure.Figure at 0x7f42f7d65b38>"
      ]
     },
     "metadata": {},
     "output_type": "display_data"
    }
   ],
   "source": [
    "df['TaxiIn'].hist(bins=20)"
   ]
  },
  {
   "cell_type": "code",
   "execution_count": 254,
   "metadata": {},
   "outputs": [
    {
     "data": {
      "text/plain": [
       "<matplotlib.axes._subplots.AxesSubplot at 0x7f42f7d58e48>"
      ]
     },
     "execution_count": 254,
     "metadata": {},
     "output_type": "execute_result"
    },
    {
     "data": {
      "image/png": "[encoded data removed]",
      "text/plain": [
       "<matplotlib.figure.Figure at 0x7f43002fc438>"
      ]
     },
     "metadata": {},
     "output_type": "display_data"
    }
   ],
   "source": [
    "df['FlightNum'].hist(bins=20)"
   ]
  },
  {
   "cell_type": "markdown",
   "metadata": {},
   "source": [
    "Какую проблему вы наблюдаете на этих графиках? Как масштабирование поможет её исправить?"
   ]
  },
  {
   "cell_type": "raw",
   "metadata": {},
   "source": [
    "Есть довольно много наблюдений с каким-то определенным числом в регрессорах. Если не применять масштабирование, то признаки имеющие отличные от \"популярных\" значения \"испытывать на себе\" влияние этих соседей. Масштабирование сгладит слишком высокие значения, сохранив структуру данных."
   ]
  },
  {
   "cell_type": "markdown",
   "metadata": {},
   "source": [
    "**10. (1 балл)** Вдобавок к масштабированию, некоторые из признаков в нашем датасете являются категориальными. Типичным подходом к работе с ними является бинарное, или [one-hot-кодирование](https://en.wikipedia.org/wiki/One-hot).\n",
    "\n",
    "\n",
    "Реализуйте функцию transform_data, которая принимает на вход DataFrame с признаками и выполняет следующие шаги:\n",
    "1. Замена пропущенных значений на нули для вещественных признаков и на строки 'nan' для категориальных.\n",
    "2. Масштабирование вещественных признаков с помощью [StandardScaler](http://scikit-learn.org/stable/modules/generated/sklearn.preprocessing.StandardScaler.html).\n",
    "3. One-hot-кодирование категориальных признаков с помощью [DictVectorizer](http://scikit-learn.org/stable/modules/generated/sklearn.feature_extraction.DictVectorizer.html) или функции [pd.get_dummies](http://pandas.pydata.org/pandas-docs/stable/generated/pandas.get_dummies.html).\n",
    "\n",
    "Метод должен возвращать преобразованный DataFrame, который должна состоять из масштабированных вещественных признаков и закодированных категориальных (исходные признаки должны быть исключены из выборки)."
   ]
  },
  {
   "cell_type": "code",
   "execution_count": 24,
   "metadata": {},
   "outputs": [],
   "source": [
    "from sklearn.preprocessing import LabelEncoder\n",
    "from sklearn.pipeline import Pipeline\n",
    "class MultiColumnLabelEncoder:\n",
    "    def __init__(self,columns = None):\n",
    "        self.columns = columns # array of column names to encode\n",
    "\n",
    "    def fit(self,X,y=None):\n",
    "        return self # not relevant here\n",
    "\n",
    "    def transform(self,X):\n",
    "        '''\n",
    "        Transforms columns of X specified in self.columns using\n",
    "        LabelEncoder(). If no columns specified, transforms all\n",
    "        columns in X.\n",
    "        '''\n",
    "        output = X.copy()\n",
    "        if self.columns is not None:\n",
    "            for col in self.columns:\n",
    "                output[col] = LabelEncoder().fit_transform(output[col])\n",
    "        else:\n",
    "            for colname,col in output.iteritems():\n",
    "                output[colname] = LabelEncoder().fit_transform(col)\n",
    "        return output\n",
    "\n",
    "    def fit_transform(self,X,y=None):\n",
    "        return self.fit(X,y).transform(X)"
   ]
  },
  {
   "cell_type": "code",
   "execution_count": 25,
   "metadata": {},
   "outputs": [],
   "source": [
    "from sklearn.preprocessing import StandardScaler, OneHotEncoder, LabelEncoder\n",
    "y = df['DepDelay']\n",
    "X = df.drop(['DepDelay'], axis=1)\n",
    "def transform_data(df):\n",
    "    # Define which columns should be encoded vs scaled\n",
    "    columns_to_encode = ['Month','DayOfWeek', 'UniqueCarrier', 'Diverted']#drop Origin and Dest \n",
    "    columns_to_scale  = ['ActualElapsedTime', 'CRSElapsedTime', 'AirTime', \n",
    "       'Distance', 'TaxiIn', 'TaxiOut', 'DepTime_Minute',\n",
    "       'DepTime_Hour', 'CRSDepTime_Minute', 'CRSDepTime_Hour',\n",
    "       'ArrTime_Minute', 'ArrTime_Hour', 'CRSArrTime_Minute',\n",
    "       'CRSArrTime_Hour']\n",
    "    df.fillna({x:0 for x in columns_to_scale}, inplace=True)\n",
    "    df.fillna({x:'nan' for x in columns_to_encode}, inplace=True)\n",
    "    df = MultiColumnLabelEncoder(columns = columns_to_encode).fit_transform(df)\n",
    "    # Instantiate encoder/scaler\n",
    "    scaler = StandardScaler()\n",
    "    ohe    = OneHotEncoder(sparse=False)\n",
    "\n",
    "    # Scale and Encode Separate Columns\n",
    "    scaled_columns  = scaler.fit_transform(df[columns_to_scale]) \n",
    "    encoded_columns =    ohe.fit_transform(df[columns_to_encode])\n",
    "\n",
    "    # Concatenate (Column-Bind) Processed Columns Back Together\n",
    "    processed_data = np.concatenate([scaled_columns, encoded_columns], axis=1)\n",
    "    return processed_data\n",
    "    # Your code here"
   ]
  },
  {
   "cell_type": "markdown",
   "metadata": {},
   "source": [
    "Примените функцию transform_data к данным. Сколько признаков получилось после преобразования?"
   ]
  },
  {
   "cell_type": "code",
   "execution_count": 26,
   "metadata": {},
   "outputs": [],
   "source": [
    "# Your code here\n",
    "X = transform_data(X)"
   ]
  },
  {
   "cell_type": "markdown",
   "metadata": {},
   "source": [
    "**11. (0.75 балла)** Разбейте выборку и вектор целевой переменной на обучение и контроль в отношении 70/30 (для этого можно использовать, например, функцию [train_test_split](http://scikit-learn.org/stable/modules/generated/sklearn.cross_validation.train_test_split.html)). "
   ]
  },
  {
   "cell_type": "code",
   "execution_count": 27,
   "metadata": {},
   "outputs": [
    {
     "data": {
      "text/plain": [
       "(44284, 55)"
      ]
     },
     "execution_count": 27,
     "metadata": {},
     "output_type": "execute_result"
    }
   ],
   "source": [
    "# Your code here\n",
    "from sklearn.model_selection import train_test_split\n",
    "y.reset_index(drop=True, inplace=True)\n",
    "X_train, X_test, y_train, y_test = train_test_split(X, y, test_size=0.3, random_state=42)\n",
    "X_train.shape"
   ]
  },
  {
   "cell_type": "code",
   "execution_count": null,
   "metadata": {},
   "outputs": [],
   "source": [
    "\n"
   ]
  },
  {
   "cell_type": "markdown",
   "metadata": {},
   "source": [
    "### Scikit-learn\n",
    "\n",
    "<img src = \"https://pp.vk.me/c4534/u35727827/93547647/x_d31c4463.jpg\">\n",
    "Теперь, когда мы привели данные к пригодному виду, попробуем решить задачу при помощи метода наименьших квадратов. Напомним, что данный метод заключается в оптимизации функционала $MSE$:\n",
    "\n",
    "$$MSE(X, y) = \\frac{1}{l} \\sum_{i=1}^l (<w, x_i> - y_i)^2 \\to \\min_{w},$$\n",
    "\n",
    "где $\\{ (x_i, y_i ) \\}_{i=1}^l$ — обучающая выборка, состоящая из $l$ пар объект-ответ.\n",
    "\n",
    "Заметим, что решение данной задачи уже реализовано в модуле sklearn в виде класса [LinearRegression](http://scikit-learn.org/stable/modules/generated/sklearn.linear_model.LinearRegression.html#sklearn.linear_model.LinearRegression).\n",
    "\n",
    "**12. (0.5 балла)** Обучите линейную регрессию на 1000 объектах из обучающей выборки и выведите значения $MSE$ и $R^2$ на этой подвыборке и контрольной выборке (итого 4 различных числа). Проинтерпретируйте полученный результат — насколько качественные прогнозы строит полученная модель? Какие проблемы наблюдаются в модели?\n",
    "\n",
    "**Подсказка**: изучите значения полученных коэффициентов $w$, сохраненных в атрибуте coef_ объекта LinearRegression."
   ]
  },
  {
   "cell_type": "code",
   "execution_count": 28,
   "metadata": {},
   "outputs": [
    {
     "data": {
      "text/plain": [
       "LinearRegression(copy_X=True, fit_intercept=True, n_jobs=1, normalize=False)"
      ]
     },
     "execution_count": 28,
     "metadata": {},
     "output_type": "execute_result"
    }
   ],
   "source": [
    "# Your code here\n",
    "from sklearn import linear_model\n",
    "lr = linear_model.LinearRegression()\n",
    "X_sub = X_train[0:1001,:]\n",
    "y_sub = y_train[0:1001]\n",
    "y_sub.reset_index(drop=True, inplace=True)\n",
    "lr.fit(X_train, y_train)\n"
   ]
  },
  {
   "cell_type": "code",
   "execution_count": 29,
   "metadata": {},
   "outputs": [
    {
     "data": {
      "text/plain": [
       "134.5"
      ]
     },
     "execution_count": 29,
     "metadata": {},
     "output_type": "execute_result"
    }
   ],
   "source": [
    "y_pred = lr.predict(X_test)\n",
    "y_pred_sub = lr.predict(X_sub)\n",
    "max(y_pred)"
   ]
  },
  {
   "cell_type": "code",
   "execution_count": 30,
   "metadata": {},
   "outputs": [
    {
     "name": "stdout",
     "output_type": "stream",
     "text": [
      "Mean squared error on test: 1254.21\n"
     ]
    }
   ],
   "source": [
    "from sklearn.metrics import mean_squared_error, r2_score\n",
    "print(\"Mean squared error on test: %.2f\"\n",
    "      % mean_squared_error(y_test, y_pred))"
   ]
  },
  {
   "cell_type": "code",
   "execution_count": 31,
   "metadata": {},
   "outputs": [
    {
     "name": "stdout",
     "output_type": "stream",
     "text": [
      "Variance score on test: 0.12\n"
     ]
    }
   ],
   "source": [
    "print('Variance score on test: %.2f' % r2_score(y_test, y_pred))"
   ]
  },
  {
   "cell_type": "code",
   "execution_count": 32,
   "metadata": {},
   "outputs": [
    {
     "name": "stdout",
     "output_type": "stream",
     "text": [
      "Mean squared error on train: 789.61\n"
     ]
    }
   ],
   "source": [
    "print(\"Mean squared error on train: %.2f\"\n",
    "      % mean_squared_error(y_sub, y_pred_sub))"
   ]
  },
  {
   "cell_type": "code",
   "execution_count": 33,
   "metadata": {},
   "outputs": [
    {
     "name": "stdout",
     "output_type": "stream",
     "text": [
      "Variance score on train: 0.23\n"
     ]
    }
   ],
   "source": [
    "print('Variance score on train: %.2f' % r2_score(y_sub, y_pred_sub))"
   ]
  },
  {
   "cell_type": "code",
   "execution_count": 34,
   "metadata": {},
   "outputs": [
    {
     "name": "stderr",
     "output_type": "stream",
     "text": [
      "/home/ivan/.local/lib/python3.5/site-packages/statsmodels/compat/pandas.py:56: FutureWarning: The pandas.core.datetools module is deprecated and will be removed in a future version. Please use the pandas.tseries module instead.\n",
      "  from pandas.core import datetools\n"
     ]
    },
    {
     "name": "stdout",
     "output_type": "stream",
     "text": [
      "                            OLS Regression Results                            \n",
      "==============================================================================\n",
      "Dep. Variable:               DepDelay   R-squared:                       0.379\n",
      "Model:                            OLS   Adj. R-squared:                  0.347\n",
      "Method:                 Least Squares   F-statistic:                     11.85\n",
      "Date:                Sat, 07 Oct 2017   Prob (F-statistic):           6.27e-69\n",
      "Time:                        14:30:15   Log-Likelihood:                -4653.6\n",
      "No. Observations:                1001   AIC:                             9407.\n",
      "Df Residuals:                     951   BIC:                             9653.\n",
      "Df Model:                          49                                         \n",
      "Covariance Type:            nonrobust                                         \n",
      "==============================================================================\n",
      "                 coef    std err          t      P>|t|      [0.025      0.975]\n",
      "------------------------------------------------------------------------------\n",
      "x1            -1.9271      3.206     -0.601      0.548      -8.219       4.365\n",
      "x2            -1.0450      7.085     -0.147      0.883     -14.950      12.860\n",
      "x3            -2.7869      3.420     -0.815      0.415      -9.499       3.925\n",
      "x4             7.4959      5.821      1.288      0.198      -3.928      18.920\n",
      "x5             2.4896      0.964      2.581      0.010       0.597       4.382\n",
      "x6             3.5890      1.119      3.209      0.001       1.394       5.784\n",
      "x7             4.9991      0.913      5.475      0.000       3.207       6.791\n",
      "x8            92.3157      4.638     19.906      0.000      83.214     101.417\n",
      "x9            -4.2610      0.923     -4.615      0.000      -6.073      -2.449\n",
      "x10          -80.4158      4.425    -18.174      0.000     -89.099     -71.732\n",
      "x11            0.6274      0.840      0.747      0.455      -1.021       2.275\n",
      "x12            0.0810      2.234      0.036      0.971      -4.303       4.465\n",
      "x13           -2.0338      0.849     -2.397      0.017      -3.699      -0.369\n",
      "x14           -4.7799      2.650     -1.804      0.072      -9.981       0.421\n",
      "x15            5.3335      2.529      2.109      0.035       0.370      10.297\n",
      "x16           10.9043      2.989      3.648      0.000       5.038      16.771\n",
      "x17            0.6049      2.521      0.240      0.810      -4.343       5.553\n",
      "x18           -1.8944      2.798     -0.677      0.499      -7.386       3.597\n",
      "x19           -2.3918      2.834     -0.844      0.399      -7.953       3.170\n",
      "x20            1.9572      2.904      0.674      0.500      -3.741       7.656\n",
      "x21            3.7926      2.582      1.469      0.142      -1.274       8.859\n",
      "x22           -2.0585      2.664     -0.773      0.440      -7.287       3.170\n",
      "x23           -2.7637      2.794     -0.989      0.323      -8.247       2.719\n",
      "x24           -6.5032      3.137     -2.073      0.038     -12.659      -0.348\n",
      "x25           -3.8745      2.831     -1.369      0.171      -9.429       1.681\n",
      "x26            2.5252      3.044      0.830      0.407      -3.449       8.499\n",
      "x27           -0.7508      2.025     -0.371      0.711      -4.726       3.224\n",
      "x28           -0.3251      1.979     -0.164      0.870      -4.209       3.559\n",
      "x29           -1.2123      2.042     -0.594      0.553      -5.219       2.794\n",
      "x30           -0.8967      2.026     -0.443      0.658      -4.872       3.078\n",
      "x31            3.3853      2.001      1.692      0.091      -0.541       7.312\n",
      "x32            3.4333      2.226      1.543      0.123      -0.934       7.801\n",
      "x33            1.9980      2.139      0.934      0.350      -2.199       6.195\n",
      "x34           -0.4006      4.768     -0.084      0.933      -9.757       8.956\n",
      "x35            8.5039      2.796      3.041      0.002       3.017      13.991\n",
      "x36          -11.7335     14.750     -0.796      0.427     -40.679      17.212\n",
      "x37            1.3601      5.092      0.267      0.789      -8.632      11.352\n",
      "x38            2.6313      4.815      0.546      0.585      -6.818      12.081\n",
      "x39           -0.1395      4.545     -0.031      0.976      -9.059       8.780\n",
      "x40           -0.8834      3.546     -0.249      0.803      -7.842       6.075\n",
      "x41           -1.8381      4.254     -0.432      0.666     -10.186       6.510\n",
      "x42           -3.0752      6.423     -0.479      0.632     -15.679       9.529\n",
      "x43           -0.4782      4.207     -0.114      0.910      -8.735       7.779\n",
      "x44           -2.8842      7.796     -0.370      0.712     -18.184      12.416\n",
      "x45            3.4852      3.294      1.058      0.290      -2.979       9.949\n",
      "x46           -4.7256      4.041     -1.170      0.242     -12.655       3.204\n",
      "x47           -2.7818      6.234     -0.446      0.656     -15.015       9.452\n",
      "x48            1.0990      3.046      0.361      0.718      -4.878       7.076\n",
      "x49            4.2094      3.652      1.153      0.249      -2.957      11.376\n",
      "x50           -1.8847      3.241     -0.582      0.561      -8.244       4.475\n",
      "x51            5.3212      2.345      2.270      0.023       0.720       9.922\n",
      "x52            6.8181      3.421      1.993      0.047       0.104      13.532\n",
      "x53            3.0284      4.487      0.675      0.500      -5.778      11.834\n",
      "const          5.6316      0.994      5.667      0.000       3.681       7.582\n",
      "x54                 0          0        nan        nan           0           0\n",
      "==============================================================================\n",
      "Omnibus:                     1359.616   Durbin-Watson:                   2.013\n",
      "Prob(Omnibus):                  0.000   Jarque-Bera (JB):           425706.403\n",
      "Skew:                           7.140   Prob(JB):                         0.00\n",
      "Kurtosis:                     103.014   Cond. No.                     1.93e+16\n",
      "==============================================================================\n",
      "\n",
      "Warnings:\n",
      "[1] Standard Errors assume that the covariance matrix of the errors is correctly specified.\n",
      "[2] The smallest eigenvalue is 9.8e-30. This might indicate that there are\n",
      "strong multicollinearity problems or that the design matrix is singular.\n"
     ]
    }
   ],
   "source": [
    "import statsmodels.api as sm\n",
    "from scipy import stats\n",
    "np.seterr(divide='ignore', invalid='ignore')\n",
    "X2 = sm.add_constant(X_sub)\n",
    "est = sm.OLS(y_sub, X2)\n",
    "est2 = est.fit()\n",
    "print(est2.summary())"
   ]
  },
  {
   "cell_type": "markdown",
   "metadata": {
    "collapsed": true
   },
   "source": [
    "**Модель получилась плохой, так как $R^2$ на тестовой выборке и большом количестве регресоров достаточно мал. Многие коэффициенты незначимы. Также возможно большая мульти коллинеарность Имеет смысл применить регуляризацию**"
   ]
  },
  {
   "cell_type": "markdown",
   "metadata": {
    "collapsed": true
   },
   "source": [
    "Для решения описанных вами в предыдущем пункте проблем используем L1- или L2-регуляризацию, тем самым получив Lasso и Ridge регрессии соответственно и изменив оптимизационную задачу одним из следующих образов:\n",
    "$$MSE_{L1}(X, y) = \\frac{1}{l} \\sum_{i=1}^l (<w, x_i> - y_i)^2 + \\alpha ||w||_1 \\to \\min_{w},$$\n",
    "$$MSE_{L2}(X, y) = \\frac{1}{l} \\sum_{i=1}^l (<w, x_i> - y_i)^2 + \\alpha ||w||_2^2 \\to \\min_{w},$$\n",
    "\n",
    "где $\\alpha$ — коэффициент регуляризации. Один из способов его подбора заключается в переборе некоторого количества значений и оценке качества на кросс-валидации для каждого из них, после чего выбирается значение, для которого было получено наилучшее качество.\n",
    "\n",
    "**13. (1 балл)** Обучите линейные регрессии с L1- и L2-регуляризатором, подобрав лучшее значение параметра регуляризации из списка alpha_grid при помощи кросс-валидации c 5 фолдами на тех же 1000 объектах, что и в п.12. Выведите значения $MSE$ и $R^2$ на обучающей и контрольной выборках. Удалось ли решить указанные вами ранее проблемы?\n",
    "\n",
    "Для выполнения данного задания вам могут понадобиться реализованные в библиотеке объекты [LassoCV](http://scikit-learn.org/stable/modules/generated/sklearn.linear_model.LassoCV.html), [RidgeCV](http://scikit-learn.org/stable/modules/generated/sklearn.linear_model.RidgeCV.html) и [KFold](http://scikit-learn.org/stable/modules/generated/sklearn.cross_validation.KFold.html).\n"
   ]
  },
  {
   "cell_type": "code",
   "execution_count": 35,
   "metadata": {},
   "outputs": [
    {
     "name": "stderr",
     "output_type": "stream",
     "text": [
      "/usr/local/lib/python3.5/dist-packages/sklearn/cross_validation.py:41: DeprecationWarning: This module was deprecated in version 0.18 in favor of the model_selection module into which all the refactored classes and functions are moved. Also note that the interface of the new CV iterators are different from that of this module. This module will be removed in 0.20.\n",
      "  \"This module will be removed in 0.20.\", DeprecationWarning)\n"
     ]
    },
    {
     "data": {
      "text/plain": [
       "GridSearchCV(cv=sklearn.cross_validation.KFold(n=1001, n_folds=5, shuffle=True, random_state=None),\n",
       "       error_score='raise',\n",
       "       estimator=Lasso(alpha=1.0, copy_X=True, fit_intercept=True, max_iter=10000,\n",
       "   normalize=False, positive=False, precompute=False, random_state=None,\n",
       "   selection='cyclic', tol=0.0001, warm_start=False),\n",
       "       fit_params=None, iid=True, n_jobs=-1,\n",
       "       param_grid={'alpha': (0.01, 0.1, 0.5, 1, 1.5, 2, 2.5, 3, 4.5, 5, 5.5, 10)},\n",
       "       pre_dispatch='2*n_jobs', refit=True, return_train_score=True,\n",
       "       scoring='neg_mean_squared_error', verbose=0)"
      ]
     },
     "execution_count": 35,
     "metadata": {},
     "output_type": "execute_result"
    }
   ],
   "source": [
    "from sklearn.linear_model import Lasso, Ridge\n",
    "from sklearn.model_selection import GridSearchCV\n",
    "from sklearn.cross_validation import KFold\n",
    "np.random.seed(50)\n",
    "kf=KFold(len(y_sub),n_folds=5,shuffle=True)\n",
    "parameters = {'alpha':(1e-2, 1e-1, 5e-1, 1,1.5, 2, 2.5, 3, 4.5, 5, 5.5, 10)}\n",
    "lasso = Lasso(max_iter=10000)\n",
    "lgcv = GridSearchCV(lasso, parameters, cv=kf, scoring=\"neg_mean_squared_error\", verbose=0, n_jobs=-1)\n",
    "lgcv.fit(X_sub,y_sub)"
   ]
  },
  {
   "cell_type": "code",
   "execution_count": 36,
   "metadata": {},
   "outputs": [],
   "source": [
    "lgcv.best_params_\n",
    "lcv = Lasso(**lgcv.best_params_).fit(X_sub,y_sub)"
   ]
  },
  {
   "cell_type": "code",
   "execution_count": 37,
   "metadata": {},
   "outputs": [],
   "source": [
    "y_pred_lcv = lcv.predict(X_test)\n",
    "y_pred_sub_lcv = lcv.predict(X_sub)"
   ]
  },
  {
   "cell_type": "code",
   "execution_count": 38,
   "metadata": {},
   "outputs": [
    {
     "name": "stdout",
     "output_type": "stream",
     "text": [
      "Mean squared error on test: 1356.08\n"
     ]
    }
   ],
   "source": [
    "print(\"Mean squared error on test: %.2f\"\n",
    "      % mean_squared_error(y_test, y_pred_lcv))"
   ]
  },
  {
   "cell_type": "code",
   "execution_count": 39,
   "metadata": {},
   "outputs": [
    {
     "name": "stdout",
     "output_type": "stream",
     "text": [
      "Variance score on test: 0.05\n"
     ]
    }
   ],
   "source": [
    "print('Variance score on test: %.2f' % r2_score(y_test, y_pred_lcv))"
   ]
  },
  {
   "cell_type": "code",
   "execution_count": 40,
   "metadata": {},
   "outputs": [
    {
     "name": "stdout",
     "output_type": "stream",
     "text": [
      "Mean squared error on train: 947.78\n"
     ]
    }
   ],
   "source": [
    "print(\"Mean squared error on train: %.2f\"\n",
    "      % mean_squared_error(y_sub, y_pred_sub_lcv))"
   ]
  },
  {
   "cell_type": "code",
   "execution_count": 41,
   "metadata": {},
   "outputs": [
    {
     "name": "stdout",
     "output_type": "stream",
     "text": [
      "Variance score on train: 0.08\n"
     ]
    }
   ],
   "source": [
    "print('Variance score on train: %.2f' % r2_score(y_sub, y_pred_sub_lcv))"
   ]
  },
  {
   "cell_type": "code",
   "execution_count": 42,
   "metadata": {},
   "outputs": [
    {
     "data": {
      "text/plain": [
       "array([ 0.        ,  0.        ,  0.        ,  0.        ,  0.84018905,\n",
       "        2.3044764 , -0.        ,  6.14003699,  0.        , -0.        ,\n",
       "        0.        ,  0.        , -0.        ,  0.        ,  0.        ,\n",
       "        0.        ,  0.        , -0.        , -0.        ,  0.        ,\n",
       "        0.        , -0.        , -0.        , -0.        , -0.        ,\n",
       "        0.        , -0.        , -0.        , -0.        , -0.        ,\n",
       "        0.        , -0.        ,  0.        , -0.        ,  0.        ,\n",
       "       -0.        , -0.        ,  0.        , -0.        , -0.        ,\n",
       "       -0.        , -0.        , -0.        , -0.        ,  0.        ,\n",
       "       -0.        , -0.        , -0.        ,  0.        , -0.        ,\n",
       "        0.        ,  0.        , -0.        ,  0.        ,  0.        ])"
      ]
     },
     "execution_count": 42,
     "metadata": {},
     "output_type": "execute_result"
    }
   ],
   "source": [
    "lcv.coef_"
   ]
  },
  {
   "cell_type": "markdown",
   "metadata": {},
   "source": [
    "**Довольно много коэффициентов занулилось + дисперсия хуже объясняется**"
   ]
  },
  {
   "cell_type": "code",
   "execution_count": 43,
   "metadata": {},
   "outputs": [
    {
     "data": {
      "text/plain": [
       "GridSearchCV(cv=sklearn.cross_validation.KFold(n=1001, n_folds=5, shuffle=True, random_state=None),\n",
       "       error_score='raise',\n",
       "       estimator=Ridge(alpha=1.0, copy_X=True, fit_intercept=True, max_iter=10000,\n",
       "   normalize=False, random_state=None, solver='auto', tol=0.001),\n",
       "       fit_params=None, iid=True, n_jobs=-1,\n",
       "       param_grid={'alpha': (1, 3, 4.5, 5, 5.5, 10, 15, 20, 23, 25, 27, 30)},\n",
       "       pre_dispatch='2*n_jobs', refit=True, return_train_score=True,\n",
       "       scoring='neg_mean_squared_error', verbose=0)"
      ]
     },
     "execution_count": 43,
     "metadata": {},
     "output_type": "execute_result"
    }
   ],
   "source": [
    "parameters = {'alpha':( 1, 3, 4.5, 5, 5.5, 10, 15, 20, 23, 25, 27, 30)}\n",
    "ridge = Ridge(max_iter=10000)\n",
    "rgcv = GridSearchCV(ridge, parameters, cv=kf, scoring=\"neg_mean_squared_error\", verbose=0, n_jobs=-1)\n",
    "rgcv.fit(X_sub,y_sub)"
   ]
  },
  {
   "cell_type": "code",
   "execution_count": 44,
   "metadata": {},
   "outputs": [
    {
     "data": {
      "text/plain": [
       "{'alpha': 23}"
      ]
     },
     "execution_count": 44,
     "metadata": {},
     "output_type": "execute_result"
    }
   ],
   "source": [
    "rgcv.best_params_"
   ]
  },
  {
   "cell_type": "code",
   "execution_count": 45,
   "metadata": {},
   "outputs": [],
   "source": [
    "rcv = Ridge(**rgcv.best_params_).fit(X_sub,y_sub)\n",
    "y_pred_rcv = rcv.predict(X_test)\n",
    "y_pred_sub_rcv = rcv.predict(X_sub)"
   ]
  },
  {
   "cell_type": "code",
   "execution_count": 46,
   "metadata": {},
   "outputs": [
    {
     "name": "stdout",
     "output_type": "stream",
     "text": [
      "Mean squared error on test: 1311.59\n"
     ]
    }
   ],
   "source": [
    "print(\"Mean squared error on test: %.2f\"\n",
    "      % mean_squared_error(y_test, y_pred_rcv))"
   ]
  },
  {
   "cell_type": "code",
   "execution_count": 47,
   "metadata": {},
   "outputs": [
    {
     "name": "stdout",
     "output_type": "stream",
     "text": [
      "Variance score on test: 0.08\n"
     ]
    }
   ],
   "source": [
    "print('Variance score on test: %.2f' % r2_score(y_test, y_pred_rcv))"
   ]
  },
  {
   "cell_type": "code",
   "execution_count": 48,
   "metadata": {},
   "outputs": [
    {
     "name": "stdout",
     "output_type": "stream",
     "text": [
      "Mean squared error on train: 725.39\n"
     ]
    }
   ],
   "source": [
    "print(\"Mean squared error on train: %.2f\"\n",
    "      % mean_squared_error(y_sub, y_pred_sub_rcv))"
   ]
  },
  {
   "cell_type": "code",
   "execution_count": 49,
   "metadata": {},
   "outputs": [
    {
     "name": "stdout",
     "output_type": "stream",
     "text": [
      "Variance score on train: 0.30\n"
     ]
    }
   ],
   "source": [
    "print('Variance score on train: %.2f' % r2_score(y_sub, y_pred_sub_rcv))"
   ]
  },
  {
   "cell_type": "code",
   "execution_count": 50,
   "metadata": {},
   "outputs": [
    {
     "data": {
      "text/plain": [
       "array([  0.46843181,   0.93313682,  -0.40898792,   0.27674383,\n",
       "         2.9033414 ,   4.09384461,   1.56755386,  41.33373937,\n",
       "        -0.83649476, -32.48285841,   1.11390446,  -0.70474018,\n",
       "        -2.09214497,  -1.45094563,   4.93587285,   6.11081628,\n",
       "         0.27163088,  -1.96150957,  -2.23769161,   1.91085065,\n",
       "         4.22804193,  -1.96915468,  -3.08986408,  -5.84238832,\n",
       "        -4.10650278,   1.74989845,  -0.91764473,  -0.73491513,\n",
       "        -2.01652291,  -1.6155893 ,   2.82487727,   0.71861096,\n",
       "         1.74118384,  -1.72753004,   5.08587176,  -1.53702972,\n",
       "         0.65896188,   0.94003414,  -1.35458048,  -1.14633048,\n",
       "        -2.62340502,  -2.60616438,  -1.95016491,  -1.2229767 ,\n",
       "         2.56551943,  -3.97986004,  -2.80473118,  -0.0420543 ,\n",
       "         3.13634835,  -2.12917914,   5.06511828,   4.74580178,\n",
       "         0.92635076,   0.        ,   0.        ])"
      ]
     },
     "execution_count": 50,
     "metadata": {},
     "output_type": "execute_result"
    }
   ],
   "source": [
    "rcv.coef_"
   ]
  },
  {
   "cell_type": "markdown",
   "metadata": {},
   "source": [
    "**Ridge регрессия показала лучшее, чем Lasso результат, но хуже исходной**"
   ]
  },
  {
   "cell_type": "markdown",
   "metadata": {},
   "source": [
    "### Градиентный спуск\n",
    "\n",
    "В предыдущем разделе мы использовали существующие реализации методов обучения линейной регрессии с регуляризацией и без. Тем не менее, подобные реализации, как правило, имеются лишь для ограниченного набора стандартных методов. В частности, при выходе функционала качества за пределы стандартного множества необходимо самостоятельно реализовывать составляющие процесса решения оптимизационной задачи. Именно этому и посвящен данный раздел задания.\n",
    "\n",
    "Пусть необходимо минимизировать следующий функционал (Mean Square Percentage Error — модифицированный [RMSPE](https://www.kaggle.com/c/rossmann-store-sales/details/evaluation)):\n",
    "$$MSPE(\\{x_i, y_i\\}_{i=1}^l, \\, w) = \\frac{1}{l}\\sum_{i=1}^l \\left( \\frac{y_i - \\langle w, x_i \\rangle }{y_i} \\right)^2,$$\n",
    "\n",
    "где $\\{x_i, y_i\\}_{i=1}^l$ — обучающая выборка, $w$ — вектор весов линейной модели. Будем также рассматривать функционал $MSPE$ с L2-регуляризацией:\n",
    "\n",
    "$$MSPE(\\{x_i, y_i\\}_{i=1}^l, \\, w) = \\frac{1}{l}\\sum_{i=1}^l \\left( \\frac{y_i - \\langle w, x_i \\rangle }{y_i} \\right)^2 + ||w||_2^2.$$\n",
    "\n",
    "**14. (0 баллов)** Добавьте к объектам обеих выборок из п. 11 единичный признак."
   ]
  },
  {
   "cell_type": "code",
   "execution_count": 51,
   "metadata": {},
   "outputs": [],
   "source": [
    "# Your code here\n",
    "ones = np.ones(X_sub.shape[0])\n",
    "X_one = np.hstack((X_sub, np.array([ones]).T))\n"
   ]
  },
  {
   "cell_type": "markdown",
   "metadata": {},
   "source": [
    "**15. (1 балл)** Реализуйте функции, которые вычисляют:\n",
    " * прогнозы линейной модели;"
   ]
  },
  {
   "cell_type": "code",
   "execution_count": 52,
   "metadata": {},
   "outputs": [],
   "source": [
    "# возвращает вектор прогнозов линейной модели с вектором весов w для выборки X\n",
    "def make_pred(X, w):\n",
    "    y_pred = X@w\n",
    "    return y_pred"
   ]
  },
  {
   "cell_type": "markdown",
   "metadata": {},
   "source": [
    " * функционал $MSPE$ и его градиент;"
   ]
  },
  {
   "cell_type": "code",
   "execution_count": 228,
   "metadata": {},
   "outputs": [],
   "source": [
    "# возвращает значение функционала MSPE для выборки (X, y) и вектора весов w\n",
    "def get_func(w, X, y):\n",
    "    return sum(((y-X@w)/y)**2)/len(y)"
   ]
  },
  {
   "cell_type": "code",
   "execution_count": 229,
   "metadata": {},
   "outputs": [],
   "source": [
    "# возвращает градиент функционала MSPE для выборки (X, y) и вектора весов w\n",
    "def get_grad(w, X, y):\n",
    "    return 2*X.T@(np.array((X@w - y)/y**2))"
   ]
  },
  {
   "cell_type": "markdown",
   "metadata": {},
   "source": [
    " * регуляризованный $MSPE$ и его градиент."
   ]
  },
  {
   "cell_type": "code",
   "execution_count": 240,
   "metadata": {},
   "outputs": [],
   "source": [
    "# возвращает значение регуляризованного функционала MSPE для выборки (X, y) и вектора весов w\n",
    "def get_reg_func(w, X, y):\n",
    "    return sum(((y-X@w)/y)**2)/len(y) + sum(w**2)"
   ]
  },
  {
   "cell_type": "code",
   "execution_count": 231,
   "metadata": {},
   "outputs": [],
   "source": [
    "# возвращает градиент регуляризованного функционала MSPE для выборки (X, y) и вектора весов w\n",
    "def get_reg_grad(w, X, y):\n",
    "    return 2*X.T@(np.array((X@w - y)/y**2)) + 2*w"
   ]
  },
  {
   "cell_type": "code",
   "execution_count": 232,
   "metadata": {},
   "outputs": [
    {
     "data": {
      "text/plain": [
       "array([  5.05992647e+05,   3.38908007e+05,   2.80607672e+05,\n",
       "         2.23294439e+05,   6.37914379e+05,   1.18919805e+06,\n",
       "        -9.55177470e+04,   2.19441660e+06,   5.94470490e+05,\n",
       "         1.72276268e+06,   4.32606766e+05,   1.56561382e+06,\n",
       "        -4.51467248e+05,   1.70896490e+06,   2.51088904e+05,\n",
       "         1.38560943e+05,   9.11747990e+04,   8.57800320e+03,\n",
       "        -3.33614480e+04,   3.88680956e+04,   1.95812103e+05,\n",
       "        -1.24041899e+03,  -8.85896183e+04,  -9.80837529e+04,\n",
       "        -1.31696476e+05,   7.35146352e+04,   7.03276933e+04,\n",
       "         6.28066178e+04,  -1.00141121e+05,  -1.17002229e+04,\n",
       "         2.37951132e+05,   2.18862267e+04,   1.63495442e+05,\n",
       "         2.54525364e+03,   1.70371086e+05,  -1.11291729e+03,\n",
       "         2.75026144e+04,   1.75535190e+04,   3.19912159e+03,\n",
       "        -6.18411974e+03,  -5.15798367e+04,  -1.29424608e+04,\n",
       "        -3.33637099e+04,  -1.43065016e+04,   1.22753435e+05,\n",
       "        -2.01705108e+04,  -8.92738471e+03,  -4.32860964e+04,\n",
       "         8.13897197e+04,  -6.65793381e+04,   1.77062632e+05,\n",
       "         8.60725605e+04,   1.46287015e+04,   4.44625768e+05,\n",
       "         0.00000000e+00])"
      ]
     },
     "execution_count": 232,
     "metadata": {},
     "output_type": "execute_result"
    }
   ],
   "source": [
    "X = X_sub\n",
    "y = y_sub\n",
    "w = rcv.coef_\n",
    "a = 1/y\n",
    "a=np.array([a])\n",
    "-2*sum(a.T*X)+sum((a**2).T*w@(2*X.T@X))"
   ]
  },
  {
   "cell_type": "markdown",
   "metadata": {},
   "source": [
    "**16. (1 балл)** Реализуйте метод градиентного спуска для описанных функционалов ($MSPE$ и его регуляризованный вариант). Функция должна принимать следующие параметры:\n",
    " - X — матрица \"объект-признак\";\n",
    " - y — вектор целевой переменной;\n",
    " - w0 — начальное значение вектора весов;\n",
    " - step_size — значение темпа обучения;\n",
    " - max_iter — максимальное число итераций;\n",
    " - eps — значение, используемое в критерии останова;\n",
    " - is_reg — бинарный параметр, принимает значение True в случае наличия регуляризации функционала, False — в противном случае.\n",
    " \n",
    "Процесс должен быть остановлен, если выполнено хотя бы одно из следующих условий:\n",
    " - было выполнено заданное количество итераций max_iter;\n",
    " - евклидова норма разности векторов $w$ на соседних итерациях стала меньше, чем eps.\n",
    "\n",
    "Функция должна возвращать полученный в результате оптимизации вектор $w$ и список значений функционала на каждой итерации."
   ]
  },
  {
   "cell_type": "code",
   "execution_count": 233,
   "metadata": {},
   "outputs": [],
   "source": [
    "import seaborn as sns\n",
    "%matplotlib inline\n",
    "import math\n",
    "import matplotlib.pyplot as plt\n",
    "def grad_descent(X, y, w0=None, step_size=0.01, max_iter=1000, eps=1e-5, is_reg=True, plot=False):\n",
    "    np.seterr(all='warn')\n",
    "    try:\n",
    "        w0.size\n",
    "    except:\n",
    "        w0 = np.zeros(X.shape[1])\n",
    "    w_t = w0\n",
    "    loss = []\n",
    "    iters = []\n",
    "    if is_reg:\n",
    "        for i in range(max_iter):\n",
    "            if get_reg_func(w_t, X, y) >1e+10:\n",
    "                print('explosion')\n",
    "                break\n",
    "            loss.append(get_reg_func(w_t, X, y))\n",
    "            iters.append(i)\n",
    "            grad_t = get_reg_grad(w_t, X, y)\n",
    "            if np.linalg.norm(grad_t)<eps:\n",
    "                break\n",
    "            w_t = w_t-step_size*grad_t\n",
    "    else:\n",
    "        for i in range(max_iter):\n",
    "            #step_size=step_size/2\n",
    "            if get_func(w_t, X, y) >1e+10:\n",
    "                print('explosion')\n",
    "                break\n",
    "            loss.append(get_func(w_t, X, y))\n",
    "            iters.append(i)\n",
    "            grad_t = get_grad(w_t, X, y)\n",
    "            if np.linalg.norm(grad_t)<eps:\n",
    "                break\n",
    "            w_t = w_t-step_size*grad_t\n",
    "    if plot:\n",
    "        plt.subplots(figsize=(12,6))\n",
    "        g = sns.pointplot(x=iters, y=loss)\n",
    "        plt.xlabel(\"\")\n",
    "        plt.ylabel(\"Loss\")\n",
    "        plt.xticks(rotation=90)\n",
    "        g.set(xticklabels=[])\n",
    "        plt.show();\n",
    "    return w_t, loss"
   ]
  },
  {
   "cell_type": "markdown",
   "metadata": {},
   "source": [
    "Обучите линейную регрессию с функционалом $MSPE$ на обучающей выборке при помощи метода градиентного спуска и изобразите кривые зависимости значения функционала от номера итерации для различных:\n",
    " * значений размера шага из набора [0.001, 1, 10];\n",
    " * способов начальной инициализации вектора весов (нули, случайные веса).\n",
    "\n",
    "Проанализируйте полученные результаты — влияют ли данные параметры на скорость сходимости и итоговое качество? Если да, то как?"
   ]
  },
  {
   "cell_type": "code",
   "execution_count": 235,
   "metadata": {},
   "outputs": [
    {
     "data": {
      "image/png": "[encoded data removed]",
      "text/plain": [
       "<matplotlib.figure.Figure at 0x7f42fe9c5ac8>"
      ]
     },
     "metadata": {},
     "output_type": "display_data"
    },
    {
     "data": {
      "text/plain": [
       "1000"
      ]
     },
     "execution_count": 235,
     "metadata": {},
     "output_type": "execute_result"
    }
   ],
   "source": [
    "# Your code here\n",
    "w, loss = grad_descent(X_sub, y_sub,  step_size=0.001,max_iter=1000, is_reg=False, plot=True)\n",
    "len(loss)"
   ]
  },
  {
   "cell_type": "code",
   "execution_count": 236,
   "metadata": {},
   "outputs": [
    {
     "data": {
      "text/plain": [
       "<matplotlib.figure.Figure at 0x7f430c027c50>"
      ]
     },
     "metadata": {},
     "output_type": "display_data"
    },
    {
     "data": {
      "image/png": "[encoded data removed]",
      "text/plain": [
       "<matplotlib.figure.Figure at 0x7f42fe8bb1d0>"
      ]
     },
     "metadata": {},
     "output_type": "display_data"
    },
    {
     "name": "stdout",
     "output_type": "stream",
     "text": [
      "Median loss:  30.8705189358\n",
      "Number of iterations:  1000\n",
      "Minimum loss:  30.5703073012\n",
      "Convergence time: 8.793868780136108 seconds\n",
      "СЛУЧАЙНЫЕ ВЕСА\n"
     ]
    },
    {
     "data": {
      "image/png": "[encoded data removed]",
      "text/plain": [
       "<matplotlib.figure.Figure at 0x7f430cdae438>"
      ]
     },
     "metadata": {},
     "output_type": "display_data"
    },
    {
     "name": "stdout",
     "output_type": "stream",
     "text": [
      "Median loss:  32.4139242345\n",
      "Number of iterations:  1000\n",
      "Minimum loss:  32.2323217827\n",
      "Convergence time: 16.187817096710205 seconds\n"
     ]
    },
    {
     "data": {
      "text/plain": [
       "<matplotlib.figure.Figure at 0x7f42f4e8d240>"
      ]
     },
     "metadata": {},
     "output_type": "display_data"
    },
    {
     "data": {
      "image/png": "[encoded data removed]",
      "text/plain": [
       "<matplotlib.figure.Figure at 0x7f42ff04ad68>"
      ]
     },
     "metadata": {},
     "output_type": "display_data"
    },
    {
     "name": "stdout",
     "output_type": "stream",
     "text": [
      "Median loss:  32.125036577\n",
      "Number of iterations:  1000\n",
      "Minimum loss:  30.5771884077\n",
      "Convergence time: 8.251086473464966 seconds\n",
      "СЛУЧАЙНЫЕ ВЕСА\n"
     ]
    },
    {
     "data": {
      "image/png": "[encoded data removed]",
      "text/plain": [
       "<matplotlib.figure.Figure at 0x7f430d9e8048>"
      ]
     },
     "metadata": {},
     "output_type": "display_data"
    },
    {
     "name": "stdout",
     "output_type": "stream",
     "text": [
      "Median loss:  32.3183559321\n",
      "Number of iterations:  1000\n",
      "Minimum loss:  32.249556182\n",
      "Convergence time: 16.675551176071167 seconds\n",
      "explosion\n"
     ]
    },
    {
     "data": {
      "text/plain": [
       "<matplotlib.figure.Figure at 0x7f42fef6f6a0>"
      ]
     },
     "metadata": {},
     "output_type": "display_data"
    },
    {
     "data": {
      "image/png": "[encoded data removed]",
      "text/plain": [
       "<matplotlib.figure.Figure at 0x7f430c867908>"
      ]
     },
     "metadata": {},
     "output_type": "display_data"
    },
    {
     "name": "stdout",
     "output_type": "stream",
     "text": [
      "Median loss:  3369876.75211\n",
      "Number of iterations:  4\n",
      "Minimum loss:  31.6385840391\n",
      "Convergence time: 0.3308713436126709 seconds\n",
      "СЛУЧАЙНЫЕ ВЕСА\n",
      "explosion\n"
     ]
    },
    {
     "data": {
      "image/png": "[encoded data removed]",
      "text/plain": [
       "<matplotlib.figure.Figure at 0x7f4322c80668>"
      ]
     },
     "metadata": {},
     "output_type": "display_data"
    },
    {
     "name": "stdout",
     "output_type": "stream",
     "text": [
      "Median loss:  28270.5944369\n",
      "Number of iterations:  3\n",
      "Minimum loss:  58.5007362082\n",
      "Convergence time: 0.5708756446838379 seconds\n"
     ]
    }
   ],
   "source": [
    "lr_set = [0.0001, 0.001, 1]\n",
    "import time\n",
    "for i in lr_set:\n",
    "    start_time = time.time()\n",
    "    plt.figure(i)\n",
    "    iters=1000\n",
    "    w, loss = grad_descent(X_sub, y_sub, step_size=i,max_iter=iters, is_reg=True, plot=True);\n",
    "    print('Median loss: ', np.median(loss))\n",
    "    print('Number of iterations: ', len(loss))\n",
    "    print('Minimum loss: ', min(loss))\n",
    "    print('Convergence time: %s seconds' % (time.time() - start_time))\n",
    "    print('СЛУЧАЙНЫЕ ВЕСА')\n",
    "    w, loss = grad_descent(X_sub, y_sub, w0=np.random.sample(X_sub.shape[1]), step_size=i,max_iter=iters, is_reg=True, plot=True);\n",
    "    print('Median loss: ', np.median(loss))\n",
    "    print('Number of iterations: ', len(loss))\n",
    "    print('Minimum loss: ', min(loss))\n",
    "    print('Convergence time: %s seconds' % (time.time() - start_time))"
   ]
  },
  {
   "cell_type": "markdown",
   "metadata": {},
   "source": [
    "**Градиентный спуск с шагом 1 не сходится, а, по-видимому, перешагивает минимум и ошибка тем более не сходится с шагом 10, поэтому для сравнения скорости сходимости был взят шаг 0.0001. Не совсем понятно, почему при начальном значении весов равных нулям градиент убывает, а затем растет.**"
   ]
  },
  {
   "cell_type": "markdown",
   "metadata": {},
   "source": [
    "**17. (0.5 балла)** Обучите линейную регрессию с функционалом MSPE и его регуляризованным вариантом на обучающей выборке при помощи метода градиентного спуска и изобразите кривые зависимости значения функционала от номера итерации. Исследуйте зависимость скорости сходимости от наличия регуляризации. Обоснуйте, почему так происходит."
   ]
  },
  {
   "cell_type": "code",
   "execution_count": 136,
   "metadata": {},
   "outputs": [
    {
     "data": {
      "image/png": "[encoded data removed]",
      "text/plain": [
       "<matplotlib.figure.Figure at 0x7f4322c1b828>"
      ]
     },
     "metadata": {},
     "output_type": "display_data"
    },
    {
     "name": "stdout",
     "output_type": "stream",
     "text": [
      "10000\n",
      "Convergence time: 125.79607820510864 seconds\n"
     ]
    },
    {
     "data": {
      "image/png": "[encoded data removed]",
      "text/plain": [
       "<matplotlib.figure.Figure at 0x7f42ffef70f0>"
      ]
     },
     "metadata": {},
     "output_type": "display_data"
    },
    {
     "name": "stdout",
     "output_type": "stream",
     "text": [
      "7994\n",
      "Convergence time: 91.5658848285675 seconds\n"
     ]
    }
   ],
   "source": [
    "# Your code here\n",
    "is_reg = [False, True]\n",
    "for reg in is_reg:\n",
    "    start_time = time.time()\n",
    "    w, loss = grad_descent(X_sub, y_sub, w0=rcv.coef_, step_size=0.001,max_iter=10000, is_reg=reg, plot=True);\n",
    "    print(len(loss))\n",
    "    print('Convergence time: %s seconds' % (time.time() - start_time))\n",
    "    "
   ]
  },
  {
   "cell_type": "markdown",
   "metadata": {},
   "source": [
    "Метод градиентного спуска может быть весьма трудозатратен в случае большого размера обучающей выборки. Поэтому часто используют метод стохастического градиентного спуска, где на каждой итерации выбирается случайный объект из обучающей выборки и обновление весов происходит только по этому объекту. \n",
    "\n",
    "**18*. (1 бонусный балл)**  Реализуйте метод стохастического градиентного спуска (SGD) для описанных функционалов ($MSPE$ и его регуляризованный вариант). Функция должна иметь параметры и возвращаемое значение, аналогичные оным функции grad\\_descent из п.21. Кроме того, должен использоваться аналогичный критерий останова."
   ]
  },
  {
   "cell_type": "code",
   "execution_count": 241,
   "metadata": {},
   "outputs": [],
   "source": [
    "def sgd(X, y, w0=None, step_size=0.01, max_iter=1000, eps=1e-5, is_reg=True, plot=False, batch_size=10):\n",
    "    np.seterr(all='warn')\n",
    "    X_backup=X.copy()\n",
    "    y_backup=y.copy()\n",
    "    try:\n",
    "        w0.size\n",
    "    except:\n",
    "        w0 = np.zeros(X.shape[1])\n",
    "    w_t = w0\n",
    "    loss = []\n",
    "    iters = []\n",
    "    if is_reg:\n",
    "        for i in range(max_iter):\n",
    "            X = X_backup.copy()\n",
    "            y = y_backup.copy()\n",
    "            idx = np.random.randint(1,len(y),size=batch_size)\n",
    "            X = X[idx,]\n",
    "            y = y[idx]\n",
    "            if get_reg_func(w_t, X, y) >1e+10:\n",
    "                print('explosion')\n",
    "                break\n",
    "            loss.append(get_reg_func(w_t, X, y))\n",
    "            iters.append(i)\n",
    "            grad_t = get_reg_grad(w_t, X, y)\n",
    "            if np.linalg.norm(grad_t)<eps:\n",
    "                break\n",
    "            w_t = w_t-step_size*grad_t\n",
    "    else:\n",
    "        for i in range(max_iter):\n",
    "            X = X_backup.copy()\n",
    "            y = y_backup.copy()\n",
    "            idx = np.random.randint(1,len(y),size=batch_size)\n",
    "            X = X[idx,]\n",
    "            y = y[idx]\n",
    "            if get_func(w_t, X, y) >1e+10:\n",
    "                print('explosion')\n",
    "                break\n",
    "            loss.append(get_func(w_t, X, y))\n",
    "            iters.append(i)\n",
    "            grad_t = get_grad(w_t, X, y)\n",
    "            if np.linalg.norm(grad_t)<eps:\n",
    "                break\n",
    "            w_t = w_t-step_size*grad_t\n",
    "    if plot:\n",
    "        plt.subplots(figsize=(12,6))\n",
    "        g = sns.pointplot(x=iters, y=loss)\n",
    "        plt.xlabel(\"\")\n",
    "        plt.ylabel(\"Loss\")\n",
    "        plt.xticks(rotation=90)\n",
    "        g.set(xticklabels=[])\n",
    "        plt.show();\n",
    "    return w_t, loss\n",
    "    # Your code here"
   ]
  },
  {
   "cell_type": "markdown",
   "metadata": {},
   "source": [
    "Обучите линейную регрессию с функционалом $MSPE$ и его регуляризованным вариантом на обучающей выборке при помощи метода стохастического градиентного спуска, подобрав при этом размер шага, при котором метод будет сходиться. Нарисуйте график сходимости. Выведите значения $MSPE, MSE, R^2$ на контрольной выборке."
   ]
  },
  {
   "cell_type": "code",
   "execution_count": 242,
   "metadata": {},
   "outputs": [
    {
     "data": {
      "image/png": "[encoded data removed]",
      "text/plain": [
       "<matplotlib.figure.Figure at 0x7f42ff0685f8>"
      ]
     },
     "metadata": {},
     "output_type": "display_data"
    }
   ],
   "source": [
    "# Your code here\n",
    "w, loss = sgd(X_sub, y_sub, step_size=0.05,max_iter=10000, is_reg=True, plot=True);"
   ]
  },
  {
   "cell_type": "code",
   "execution_count": 246,
   "metadata": {},
   "outputs": [
    {
     "name": "stdout",
     "output_type": "stream",
     "text": [
      "MSPE:  1.01672330004\n"
     ]
    }
   ],
   "source": [
    "y_mspe_pred = make_pred(X_test, w)\n",
    "print('MSPE: ', get_func(w, X_test, y_test))"
   ]
  },
  {
   "cell_type": "code",
   "execution_count": 248,
   "metadata": {},
   "outputs": [
    {
     "name": "stdout",
     "output_type": "stream",
     "text": [
      "Mean squared error on test: 1551.54\n",
      "Variance score on test: -0.09\n"
     ]
    }
   ],
   "source": [
    "print(\"Mean squared error on test: %.2f\"\n",
    "      % mean_squared_error(y_test, y_mspe_pred))\n",
    "print('Variance score on test: %.2f' % r2_score(y_test, y_mspe_pred))"
   ]
  },
  {
   "cell_type": "markdown",
   "metadata": {},
   "source": [
    "**19*. (0.5 бонусного балла)** Аналогично п.17 исследуйте зависимость скорости сходимости метода SGD от наличия регуляризации. Обоснуйте, почему так происходит."
   ]
  },
  {
   "cell_type": "code",
   "execution_count": 215,
   "metadata": {},
   "outputs": [
    {
     "data": {
      "image/png": "[encoded data removed]",
      "text/plain": [
       "<matplotlib.figure.Figure at 0x7f43049bcbe0>"
      ]
     },
     "metadata": {},
     "output_type": "display_data"
    },
    {
     "name": "stdout",
     "output_type": "stream",
     "text": [
      "1000\n",
      "Convergence time: 6.846858739852905 seconds\n"
     ]
    },
    {
     "data": {
      "image/png": "[encoded data removed]",
      "text/plain": [
       "<matplotlib.figure.Figure at 0x7f42fef5a828>"
      ]
     },
     "metadata": {},
     "output_type": "display_data"
    },
    {
     "name": "stdout",
     "output_type": "stream",
     "text": [
      "1000\n",
      "Convergence time: 9.614546537399292 seconds\n"
     ]
    }
   ],
   "source": [
    "# Your code here\n",
    "# Your code here\n",
    "is_reg = [False, True]\n",
    "for reg in is_reg:\n",
    "    start_time = time.time()\n",
    "    w, loss = sgd(X_sub, y_sub, step_size=0.05,max_iter=10000, is_reg=reg, plot=True, batch_size=5);\n",
    "    print(len(loss))\n",
    "    print('Convergence time: %s seconds' % (time.time() - start_time))\n",
    "    "
   ]
  },
  {
   "cell_type": "markdown",
   "metadata": {},
   "source": [
    "**С регуляризацией считается дольше, так как вычислений больше**"
   ]
  },
  {
   "cell_type": "markdown",
   "metadata": {},
   "source": [
    "**20. (0.5 балла)** Обучите стандартную линейную регрессию с функционалом качества MSE на обучающей выборке и выведите значение MSPE полученного решения на контрольной выборке. Как оно соотносится с аналогичным результатом для решения, полученного в п.17? Почему?"
   ]
  },
  {
   "cell_type": "code",
   "execution_count": 251,
   "metadata": {},
   "outputs": [
    {
     "name": "stdout",
     "output_type": "stream",
     "text": [
      "MSPE:  9.91957879794e+26\n"
     ]
    }
   ],
   "source": [
    "# Your code here\n",
    "print('MSPE: ', get_func(lr.coef_, X_test, y_test))"
   ]
  },
  {
   "cell_type": "markdown",
   "metadata": {
    "collapsed": true
   },
   "source": [
    "**Loss больше, так как оптимизировалась другая функция потерь**"
   ]
  },
  {
   "cell_type": "markdown",
   "metadata": {
    "collapsed": true
   },
   "source": [
    "Ссылки \n",
    "https://stackoverflow.com/questions/43798377/one-hot-encode-categorical-variables-and-scale-continuous-ones-simultaneouely\n",
    "https://stackoverflow.com/questions/2566412/find-nearest-value-in-numpy-array\n",
    "https://stackoverflow.com/questions/29661574/normalize-numpy-array-columns-in-python\n",
    "https://stackoverflow.com/questions/39409866/correlation-heatmap\n",
    "https://stackoverflow.com/questions/27928275/find-p-value-significance-in-scikit-learn-linearregression\n",
    "https://stackoverflow.com/questions/20241205/how-does-sklearn-lassocv-perform-cross-validation\n",
    "https://stackoverflow.com/questions/21998354/pandas-wont-fillna-inplace\n",
    "https://stackoverflow.com/questions/33405219/concatenating-numpy-vector-and-matrix-horizontally\n",
    "https://stats.stackexchange.com/questions/69205/how-to-derive-the-ridge-regression-solution\n",
    "https://stackoverflow.com/questions/1557571/how-do-i-get-time-of-a-python-programs-execution\n",
    "http://ozzieliu.com/2016/02/09/gradient-descent-tutorial/"
   ]
  }
 ],
 "metadata": {
  "anaconda-cloud": {},
  "kernelspec": {
   "display_name": "Python 3",
   "language": "python",
   "name": "python3"
  },
  "language_info": {
   "codemirror_mode": {
    "name": "ipython",
    "version": 3
   },
   "file_extension": ".py",
   "mimetype": "text/x-python",
   "name": "python",
   "nbconvert_exporter": "python",
   "pygments_lexer": "ipython3",
   "version": "3.5.3"
  }
 },
 "nbformat": 4,
 "nbformat_minor": 1
}
