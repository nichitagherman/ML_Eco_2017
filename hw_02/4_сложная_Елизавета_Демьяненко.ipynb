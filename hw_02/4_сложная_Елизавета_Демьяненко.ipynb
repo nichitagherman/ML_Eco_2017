{
 "cells": [
  {
   "cell_type": "markdown",
   "metadata": {},
   "source": [
    "# Машинное обучение, ФЭН ВШЭ\n",
    "\n",
    "# Практическое задание 2\n",
    "(Основано на материалах курса машинного обучения на фкн)\n",
    "\n",
    "## Общая информация\n",
    "\n",
    "Дата выдачи: 21.09.2017\n",
    "\n",
    "Срок сдачи: 8.10.2017 23:59MSK\n",
    "\n",
    "### О задании\n",
    "\n",
    "Практическое задание 1 посвящено изучению основных библиотек для анализа данных, а также линейных моделей и методов их обучения. Вы научитесь:\n",
    " * применять библиотеку NumPy;\n",
    " * подготавливать данные для обучения линейных моделей;\n",
    " * обучать линейную, Lasso и Ridge-регрессии при помощи модуля scikit-learn;\n",
    " * реализовывать обычный и стохастический градиентные спуски;\n",
    " * обучать линейную регрессию для произвольного функционала качества.\n",
    " \n",
    "\n",
    "### Оценивание и штрафы\n",
    "\n",
    "Каждая из задач имеет определенную «стоимость» (указана в скобках около задачи). Максимально допустимая оценка за работу — 10 баллов. Кроме того, некоторые из заданий являются опциональными (необязательными), однако за их выполнение можно получить дополнительные баллы.\n",
    "\n",
    "\n",
    "Задание выполняется самостоятельно. «Похожие» решения считаются плагиатом и все задействованные студенты (в том числе те, у кого списали) не могут получить за него больше 0 баллов (подробнее о плагиате см. на странице курса). Если вы нашли решение какого-то из заданий (или его часть) в открытом источнике, необходимо указать ссылку на этот источник в отдельном блоке в конце Вашей работы (скорее всего вы будете не единственным, кто это нашел, поэтому чтобы исключить подозрение в плагиате, необходима ссылка на источник). \n",
    "\n",
    "Неэффективная реализация кода может негативно отразиться на оценке.\n",
    "\n",
    "\n",
    "### Формат сдачи\n",
    "Для сдачи задания переименуйте получившийся файл \\*.ipynb в соответствии со следующим форматом: *HW1_Username.ipynb*, где *Username* — Ваша фамилия и инициалы на латинице (например, *HW1_IvanovII.ipynb*). Далее отправьте этот файл на почту курса, указав соответствующую тему (см. вики-страничку курча)."
   ]
  },
  {
   "cell_type": "markdown",
   "metadata": {},
   "source": [
    "## Библиотеки для анализа данных\n",
    "\n",
    "### NumPy\n",
    "\n",
    "Во всех заданиях данного раздела запрещено использовать циклы  и list comprehensions. Под вектором и матрицей в данных заданиях понимается одномерный и двумерный numpy.array соответственно."
   ]
  },
  {
   "cell_type": "code",
   "execution_count": 623,
   "metadata": {
    "collapsed": false
   },
   "outputs": [],
   "source": [
    "import numpy as np\n",
    "from math import ceil\n",
    "from sklearn.preprocessing import StandardScaler\n",
    "from sklearn.cross_validation import train_test_split\n",
    "from sklearn import datasets, linear_model\n",
    "from sklearn.metrics import mean_squared_error, r2_score\n",
    "from sklearn.linear_model import LassoCV, LassoLarsCV, LassoLarsIC\n",
    "from sklearn import linear_model\n",
    "from sklearn.linear_model import Ridge,Lasso\n",
    "from sklearn.model_selection import GridSearchCV\n",
    "import warnings\n",
    "from sklearn.model_selection import KFold\n",
    "import random\n",
    "import seaborn as sns\n",
    "import matplotlib.pyplot as plt\n",
    "\n",
    "warnings.filterwarnings(\"ignore\")\n",
    "\n",
    "\n",
    "\n",
    "%matplotlib inline "
   ]
  },
  {
   "cell_type": "markdown",
   "metadata": {},
   "source": [
    "**1. (0.3 балла)** Реализуйте функцию, возвращающую максимальный элемент в векторе x среди элементов, перед которыми стоит нулевой. Для x = np.array([6, 2, 0, 3, 0, 0, 5, 7, 0]) ответом является 5. Если нулевых элементов нет, функция должна возвращать None.\n"
   ]
  },
  {
   "cell_type": "code",
   "execution_count": 624,
   "metadata": {
    "collapsed": false
   },
   "outputs": [],
   "source": [
    "def max_element(arr):\n",
    "    b=arr[1:]+arr[:-1]\n",
    "    c=b==arr[1:]\n",
    "    new=(arr[1:]+1)*c\n",
    "    res=new[new>0]-1\n",
    "    if len(res)==0:\n",
    "        return 'None'\n",
    "    else:    \n",
    "        return(max(res))"
   ]
  },
  {
   "cell_type": "code",
   "execution_count": 625,
   "metadata": {
    "collapsed": false
   },
   "outputs": [
    {
     "data": {
      "text/plain": [
       "'None'"
      ]
     },
     "execution_count": 625,
     "metadata": {},
     "output_type": "execute_result"
    }
   ],
   "source": [
    "a=np.array([1,1,2,1,0])\n",
    "max_element(a)"
   ]
  },
  {
   "cell_type": "markdown",
   "metadata": {},
   "source": [
    "**2. (0.3 балла)** Реализуйте функцию, принимающую на вход матрицу и некоторое число и возвращающую ближайший к числу элемент матрицы. Например: для X = np.arange(0,10).reshape((2, 5)) и v = 3.6 ответом будет 4."
   ]
  },
  {
   "cell_type": "code",
   "execution_count": 626,
   "metadata": {
    "collapsed": false
   },
   "outputs": [],
   "source": [
    "def nearest_value(X, v):\n",
    "    X_abs=abs(X-v)\n",
    "    mind = np.where(X_abs == np.min(X_abs))\n",
    "    return X[mind][0]"
   ]
  },
  {
   "cell_type": "code",
   "execution_count": 627,
   "metadata": {
    "collapsed": false
   },
   "outputs": [
    {
     "data": {
      "text/plain": [
       "9"
      ]
     },
     "execution_count": 627,
     "metadata": {},
     "output_type": "execute_result"
    }
   ],
   "source": [
    "X = np.arange(0,10).reshape((2, 5))\n",
    "v = 100.1\n",
    "nearest_value(X, v)"
   ]
  },
  {
   "cell_type": "markdown",
   "metadata": {},
   "source": [
    "**3. (0.3 балла)** Реализуйте функцию scale(X), которая принимает на вход матрицу и масштабирует каждый ее столбец (вычитает выборочное среднее и делит на стандартное отклонение). Убедитесь, что в функции не будет происходить деления на ноль. Протестируйте на случайной матрице (для её генерации можно использовать, например, функцию [numpy.random.randint](http://docs.scipy.org/doc/numpy/reference/generated/numpy.random.randint.html))."
   ]
  },
  {
   "cell_type": "code",
   "execution_count": 628,
   "metadata": {
    "collapsed": false
   },
   "outputs": [
    {
     "data": {
      "text/plain": [
       "array([[5, 9, 2, 2, 7, 0, 9, 2],\n",
       "       [2, 3, 1, 4, 2, 9, 0, 8],\n",
       "       [3, 7, 4, 0, 3, 2, 2, 0],\n",
       "       [5, 1, 6, 0, 1, 9, 6, 1],\n",
       "       [5, 7, 4, 6, 0, 6, 4, 7],\n",
       "       [5, 7, 9, 1, 3, 3, 4, 9],\n",
       "       [2, 1, 7, 8, 7, 6, 1, 0],\n",
       "       [9, 3, 0, 1, 4, 4, 3, 7]])"
      ]
     },
     "execution_count": 628,
     "metadata": {},
     "output_type": "execute_result"
    }
   ],
   "source": [
    "X=np.random.randint(10,size=(8,8))\n",
    "X"
   ]
  },
  {
   "cell_type": "code",
   "execution_count": 629,
   "metadata": {
    "collapsed": false
   },
   "outputs": [],
   "source": [
    "def scale(X):\n",
    "    mean = X.mean(0)  \n",
    "    std = X.std(0)\n",
    "    means=np.array(list(mean)*(X.shape[0]))\n",
    "    means=means.reshape(X.shape[0],X.shape[1])\n",
    "    stds =np.array(list(std)*(X.shape[0]))\n",
    "    stds=stds.reshape(X.shape[0],X.shape[1])\n",
    "    stds[stds==0]=1\n",
    "    A=np.zeros((X.shape[0],X.shape[1]))\n",
    "    X=np.divide(X-means,stds)\n",
    "    return X"
   ]
  },
  {
   "cell_type": "code",
   "execution_count": 630,
   "metadata": {
    "collapsed": false
   },
   "outputs": [
    {
     "data": {
      "text/plain": [
       "array([[ 0.23570226,  1.46312704, -0.73497409, -0.27050089,  1.51378768,\n",
       "        -1.61521496,  1.99837947, -0.62554324],\n",
       "       [-1.1785113 , -0.60246408, -1.08084425,  0.45083482, -0.57419533,\n",
       "         1.36672035, -1.3477443 ,  1.04257207],\n",
       "       [-0.70710678,  0.77459667, -0.04323377, -0.9918366 , -0.15659873,\n",
       "        -0.95256267, -0.60416124, -1.18158168],\n",
       "       [ 0.23570226, -1.29099445,  0.64850655, -0.9918366 , -0.99179193,\n",
       "         1.36672035,  0.88300488, -0.90356246],\n",
       "       [ 0.23570226,  0.77459667, -0.04323377,  1.17217053, -1.40938853,\n",
       "         0.37274191,  0.13942182,  0.76455285],\n",
       "       [ 0.23570226,  0.77459667,  1.68611703, -0.63116874, -0.15659873,\n",
       "        -0.62123652,  0.13942182,  1.32059129],\n",
       "       [-1.1785113 , -1.29099445,  0.99437671,  1.89350623,  1.51378768,\n",
       "         0.37274191, -0.97595277, -1.18158168],\n",
       "       [ 2.12132034, -0.60246408, -1.42671441, -0.63116874,  0.26099788,\n",
       "        -0.28991038, -0.23236971,  0.76455285]])"
      ]
     },
     "execution_count": 630,
     "metadata": {},
     "output_type": "execute_result"
    }
   ],
   "source": [
    "scale(X)"
   ]
  },
  {
   "cell_type": "markdown",
   "metadata": {},
   "source": [
    "**4. (0.3 балла)** Реализуйте функцию, которая для заданной матрицы находит:\n",
    " - определитель\n",
    " - след\n",
    " - наименьший и наибольший элементы\n",
    " - норму Фробениуса\n",
    " - собственные числа\n",
    " - обратную матрицу\n",
    "\n",
    "Для тестирования сгенерируйте матрицу с элементами из нормального распределения $\\mathcal{N}$(10,1)"
   ]
  },
  {
   "cell_type": "code",
   "execution_count": 632,
   "metadata": {
    "collapsed": false
   },
   "outputs": [],
   "source": [
    "def get_stats(X):\n",
    "    return print('детерминант:', np.linalg.det(X),'\\n след:', np.trace(X),'\\n min:',\n",
    "                 np.min(X),'\\n max:', np.max(X),'\\n норма Фробениуса:', np.linalg.norm(X),\n",
    "                 '\\n собств числа:', np.linalg.eig(X)[0],'\\n обратная матрица: ', np.linalg.inv(X))"
   ]
  },
  {
   "cell_type": "code",
   "execution_count": 633,
   "metadata": {
    "collapsed": false
   },
   "outputs": [
    {
     "name": "stdout",
     "output_type": "stream",
     "text": [
      "детерминант: -23247402.0 \n",
      " след: 23 \n",
      " min: 0 \n",
      " max: 9 \n",
      " норма Фробениуса: 39.7743636027 \n",
      " собств числа: [ 32.43652384+0.j           5.58638408+5.00661653j   5.58638408-5.00661653j\n",
      "  -2.51793837+7.49982992j  -2.51793837-7.49982992j  -4.48826636+3.27139826j\n",
      "  -4.48826636-3.27139826j  -6.59688252+0.j        ] \n",
      " обратная матрица:  [[-0.07286569 -0.11646144  0.05683457  0.00121958  0.06160396 -0.03783416\n",
      "   0.01737553  0.1407833 ]\n",
      " [ 0.00494804  0.03011825  0.13855488 -0.03782741  0.03795697 -0.02871237\n",
      "  -0.03724085 -0.03147173]\n",
      " [-0.04551425 -0.05901778  0.00638747  0.01982742 -0.00354534  0.08496304\n",
      "   0.03643513 -0.02807238]\n",
      " [ 0.00193906 -0.05053795 -0.0610648  -0.04425131  0.120848   -0.04228756\n",
      "   0.06480328 -0.00295302]\n",
      " [ 0.05667795  0.06840235  0.00288613 -0.02655819 -0.13631626  0.01884004\n",
      "   0.04882158  0.02151957]\n",
      " [-0.01017339  0.09134117  0.05173546  0.06115303 -0.02704547 -0.04859975\n",
      "  -0.0141821  -0.02068851]\n",
      " [ 0.10816538 -0.00663085 -0.13903351  0.06959599  0.01335521  0.00765815\n",
      "  -0.02764085 -0.05646997]\n",
      " [ 0.01835624  0.05560781 -0.09535668 -0.02862999 -0.02511046  0.08071379\n",
      "  -0.02358513 -0.00051369]]\n"
     ]
    }
   ],
   "source": [
    "get_stats(X)"
   ]
  },
  {
   "cell_type": "markdown",
   "metadata": {},
   "source": [
    "**5. (0.3 балла)** Повторите 100 раз следующий эксперимент: сгенерируйте две матрицы размера 10×10 из стандартного нормального распределения, перемножьте их (как матрицы) и найдите максимальный элемент. Какое среднее значение по экспериментам у максимальных элементов? 95-процентная квантиль?"
   ]
  },
  {
   "cell_type": "code",
   "execution_count": 634,
   "metadata": {
    "collapsed": false
   },
   "outputs": [
    {
     "name": "stdout",
     "output_type": "stream",
     "text": [
      "среднее максимальных элементов равно 8.4600376297\n",
      "95-процентная квантиль максимальных элементов равна 11.8897438374\n"
     ]
    }
   ],
   "source": [
    "maximums=[]\n",
    "for i in range(100):\n",
    "        U,V=np.random.normal(0, 1,size=(10,10)),np.random.normal(0, 1,size=(10,10))\n",
    "        Dot=np.dot(U, V)\n",
    "        maximums.append(np.max(Dot))\n",
    "print('среднее максимальных элементов равно', np.mean(maximums))\n",
    "print('95-процентная квантиль максимальных элементов равна', np.percentile(maximums, 95))"
   ]
  },
  {
   "cell_type": "markdown",
   "metadata": {},
   "source": [
    "## Линейная регрессия\n",
    "\n",
    "В этой части мы разберемся с линейной регрессией, способами её обучения и измерением качества ее прогнозов. \n",
    "\n",
    "Будем рассматривать данные по авиарейсам в США за январь-апрель 2008 года для предсказания времени задержки отправления рейса в минутах (DepDelay). Отметим, что под задержкой подразумевается не только опоздание рейса относительно планируемого времени вылета, но и отправление до планируемого времени.\n",
    "\n",
    "\n",
    "[Данные](https://www.dropbox.com/s/dvfitn93obn0rql/2008.csv?dl=0) и их [описание](http://stat-computing.org/dataexpo/2009/the-data.html)\n",
    "\n",
    "### Подготовка данных\n",
    "\n",
    "**6. (0.75 балла)** Считайте выборку из файла при помощи функции pd.read_csv и ответьте на следующие вопросы:\n",
    "   - Имеются ли в данных пропущенные значения?\n",
    "   - Сколько всего пропущенных элементов в таблице \"объект-признак\"?\n",
    "   - Сколько объектов имеют хотя бы один пропуск?\n",
    "   - Сколько признаков имеют хотя бы одно пропущенное значение?"
   ]
  },
  {
   "cell_type": "code",
   "execution_count": 753,
   "metadata": {
    "collapsed": false,
    "scrolled": true
   },
   "outputs": [],
   "source": [
    "import pandas as pd\n",
    "data=pd.read_csv('2008.csv')"
   ]
  },
  {
   "cell_type": "markdown",
   "metadata": {},
   "source": [
    "Посмотрим на данные\n"
   ]
  },
  {
   "cell_type": "code",
   "execution_count": 754,
   "metadata": {
    "collapsed": false
   },
   "outputs": [
    {
     "data": {
      "text/html": [
       "<div>\n",
       "<table border=\"1\" class=\"dataframe\">\n",
       "  <thead>\n",
       "    <tr style=\"text-align: right;\">\n",
       "      <th></th>\n",
       "      <th>Year</th>\n",
       "      <th>Month</th>\n",
       "      <th>DayofMonth</th>\n",
       "      <th>DayOfWeek</th>\n",
       "      <th>DepTime</th>\n",
       "      <th>CRSDepTime</th>\n",
       "      <th>ArrTime</th>\n",
       "      <th>CRSArrTime</th>\n",
       "      <th>UniqueCarrier</th>\n",
       "      <th>FlightNum</th>\n",
       "      <th>...</th>\n",
       "      <th>TaxiIn</th>\n",
       "      <th>TaxiOut</th>\n",
       "      <th>Cancelled</th>\n",
       "      <th>CancellationCode</th>\n",
       "      <th>Diverted</th>\n",
       "      <th>CarrierDelay</th>\n",
       "      <th>WeatherDelay</th>\n",
       "      <th>NASDelay</th>\n",
       "      <th>SecurityDelay</th>\n",
       "      <th>LateAircraftDelay</th>\n",
       "    </tr>\n",
       "  </thead>\n",
       "  <tbody>\n",
       "    <tr>\n",
       "      <th>0</th>\n",
       "      <td>2008</td>\n",
       "      <td>6</td>\n",
       "      <td>18</td>\n",
       "      <td>3</td>\n",
       "      <td>2111.0</td>\n",
       "      <td>2055</td>\n",
       "      <td>2308.0</td>\n",
       "      <td>2300</td>\n",
       "      <td>WN</td>\n",
       "      <td>242</td>\n",
       "      <td>...</td>\n",
       "      <td>3.0</td>\n",
       "      <td>8.0</td>\n",
       "      <td>0</td>\n",
       "      <td>NaN</td>\n",
       "      <td>0</td>\n",
       "      <td>NaN</td>\n",
       "      <td>NaN</td>\n",
       "      <td>NaN</td>\n",
       "      <td>NaN</td>\n",
       "      <td>NaN</td>\n",
       "    </tr>\n",
       "    <tr>\n",
       "      <th>1</th>\n",
       "      <td>2008</td>\n",
       "      <td>6</td>\n",
       "      <td>4</td>\n",
       "      <td>3</td>\n",
       "      <td>1426.0</td>\n",
       "      <td>1410</td>\n",
       "      <td>1730.0</td>\n",
       "      <td>1728</td>\n",
       "      <td>XE</td>\n",
       "      <td>2380</td>\n",
       "      <td>...</td>\n",
       "      <td>4.0</td>\n",
       "      <td>12.0</td>\n",
       "      <td>0</td>\n",
       "      <td>NaN</td>\n",
       "      <td>0</td>\n",
       "      <td>NaN</td>\n",
       "      <td>NaN</td>\n",
       "      <td>NaN</td>\n",
       "      <td>NaN</td>\n",
       "      <td>NaN</td>\n",
       "    </tr>\n",
       "    <tr>\n",
       "      <th>2</th>\n",
       "      <td>2008</td>\n",
       "      <td>8</td>\n",
       "      <td>3</td>\n",
       "      <td>7</td>\n",
       "      <td>1143.0</td>\n",
       "      <td>1145</td>\n",
       "      <td>1501.0</td>\n",
       "      <td>1520</td>\n",
       "      <td>WN</td>\n",
       "      <td>1769</td>\n",
       "      <td>...</td>\n",
       "      <td>4.0</td>\n",
       "      <td>9.0</td>\n",
       "      <td>0</td>\n",
       "      <td>NaN</td>\n",
       "      <td>0</td>\n",
       "      <td>NaN</td>\n",
       "      <td>NaN</td>\n",
       "      <td>NaN</td>\n",
       "      <td>NaN</td>\n",
       "      <td>NaN</td>\n",
       "    </tr>\n",
       "    <tr>\n",
       "      <th>3</th>\n",
       "      <td>2008</td>\n",
       "      <td>1</td>\n",
       "      <td>23</td>\n",
       "      <td>3</td>\n",
       "      <td>1141.0</td>\n",
       "      <td>1144</td>\n",
       "      <td>1323.0</td>\n",
       "      <td>1335</td>\n",
       "      <td>OO</td>\n",
       "      <td>3802</td>\n",
       "      <td>...</td>\n",
       "      <td>4.0</td>\n",
       "      <td>19.0</td>\n",
       "      <td>0</td>\n",
       "      <td>NaN</td>\n",
       "      <td>0</td>\n",
       "      <td>NaN</td>\n",
       "      <td>NaN</td>\n",
       "      <td>NaN</td>\n",
       "      <td>NaN</td>\n",
       "      <td>NaN</td>\n",
       "    </tr>\n",
       "    <tr>\n",
       "      <th>4</th>\n",
       "      <td>2008</td>\n",
       "      <td>5</td>\n",
       "      <td>4</td>\n",
       "      <td>7</td>\n",
       "      <td>815.0</td>\n",
       "      <td>820</td>\n",
       "      <td>1243.0</td>\n",
       "      <td>1300</td>\n",
       "      <td>WN</td>\n",
       "      <td>399</td>\n",
       "      <td>...</td>\n",
       "      <td>4.0</td>\n",
       "      <td>8.0</td>\n",
       "      <td>0</td>\n",
       "      <td>NaN</td>\n",
       "      <td>0</td>\n",
       "      <td>NaN</td>\n",
       "      <td>NaN</td>\n",
       "      <td>NaN</td>\n",
       "      <td>NaN</td>\n",
       "      <td>NaN</td>\n",
       "    </tr>\n",
       "  </tbody>\n",
       "</table>\n",
       "<p>5 rows × 29 columns</p>\n",
       "</div>"
      ],
      "text/plain": [
       "   Year  Month  DayofMonth  DayOfWeek  DepTime  CRSDepTime  ArrTime  \\\n",
       "0  2008      6          18          3   2111.0        2055   2308.0   \n",
       "1  2008      6           4          3   1426.0        1410   1730.0   \n",
       "2  2008      8           3          7   1143.0        1145   1501.0   \n",
       "3  2008      1          23          3   1141.0        1144   1323.0   \n",
       "4  2008      5           4          7    815.0         820   1243.0   \n",
       "\n",
       "   CRSArrTime UniqueCarrier  FlightNum        ...         TaxiIn  TaxiOut  \\\n",
       "0        2300            WN        242        ...            3.0      8.0   \n",
       "1        1728            XE       2380        ...            4.0     12.0   \n",
       "2        1520            WN       1769        ...            4.0      9.0   \n",
       "3        1335            OO       3802        ...            4.0     19.0   \n",
       "4        1300            WN        399        ...            4.0      8.0   \n",
       "\n",
       "   Cancelled  CancellationCode  Diverted  CarrierDelay WeatherDelay NASDelay  \\\n",
       "0          0               NaN         0           NaN          NaN      NaN   \n",
       "1          0               NaN         0           NaN          NaN      NaN   \n",
       "2          0               NaN         0           NaN          NaN      NaN   \n",
       "3          0               NaN         0           NaN          NaN      NaN   \n",
       "4          0               NaN         0           NaN          NaN      NaN   \n",
       "\n",
       "   SecurityDelay  LateAircraftDelay  \n",
       "0            NaN                NaN  \n",
       "1            NaN                NaN  \n",
       "2            NaN                NaN  \n",
       "3            NaN                NaN  \n",
       "4            NaN                NaN  \n",
       "\n",
       "[5 rows x 29 columns]"
      ]
     },
     "execution_count": 754,
     "metadata": {},
     "output_type": "execute_result"
    }
   ],
   "source": [
    "data.head()"
   ]
  },
  {
   "cell_type": "markdown",
   "metadata": {},
   "source": [
    "Заметим сразу, что пропущенные значения в таблице имеются, найдем их общее число"
   ]
  },
  {
   "cell_type": "markdown",
   "metadata": {},
   "source": [
    "Общее число пропусков равно"
   ]
  },
  {
   "cell_type": "code",
   "execution_count": 755,
   "metadata": {
    "collapsed": false
   },
   "outputs": [
    {
     "data": {
      "text/plain": [
       "355215"
      ]
     },
     "execution_count": 755,
     "metadata": {},
     "output_type": "execute_result"
    }
   ],
   "source": [
    "data.isnull().sum().sum()"
   ]
  },
  {
   "cell_type": "markdown",
   "metadata": {},
   "source": [
    "Число объектов, имеющих хотя бы один пропуск равно"
   ]
  },
  {
   "cell_type": "code",
   "execution_count": 756,
   "metadata": {
    "collapsed": false
   },
   "outputs": [
    {
     "data": {
      "text/plain": [
       "70000"
      ]
     },
     "execution_count": 756,
     "metadata": {},
     "output_type": "execute_result"
    }
   ],
   "source": [
    "sum(list(data.T.isnull().any()))"
   ]
  },
  {
   "cell_type": "markdown",
   "metadata": {},
   "source": [
    "Число признаков, имеющих хотя бы один пропуск равно"
   ]
  },
  {
   "cell_type": "code",
   "execution_count": 757,
   "metadata": {
    "collapsed": false
   },
   "outputs": [
    {
     "data": {
      "text/plain": [
       "16"
      ]
     },
     "execution_count": 757,
     "metadata": {},
     "output_type": "execute_result"
    }
   ],
   "source": [
    "sum(list(data.isnull().any()))"
   ]
  },
  {
   "cell_type": "markdown",
   "metadata": {},
   "source": [
    "Как вы понимаете, также не имеет смысла рассматривать при решении поставленной задачи объекты с пропущенным значением целевой переменной. В связи с этим ответьте на следующие вопросы и выполните соответствующие действия:\n",
    "- Имеются ли пропущенные значения в целевой переменной?\n",
    "- Проанализируйте объекты с пропущенными значениями целевой переменной. Чем вызвано это явление? Что их объединяет? Можно ли в связи с этим, на ваш взгляд, исключить какие-то признаки из рассмотрения? Обоснуйте свою точку зрения.\n",
    "\n",
    "Исключите из выборки объекты **с пропущенным значением целевой переменной и со значением целевой переменной, равным 0**, а также при необходимости исключите признаки в соответствии с вашим ответом на последний вопрос из списка и выделите целевую переменную в отдельный вектор, исключив её из матрицы \"объект-признак\"."
   ]
  },
  {
   "cell_type": "code",
   "execution_count": 758,
   "metadata": {
    "collapsed": false
   },
   "outputs": [
    {
     "data": {
      "text/html": [
       "<div>\n",
       "<table border=\"1\" class=\"dataframe\">\n",
       "  <thead>\n",
       "    <tr style=\"text-align: right;\">\n",
       "      <th></th>\n",
       "      <th>Year</th>\n",
       "      <th>Month</th>\n",
       "      <th>DayofMonth</th>\n",
       "      <th>DayOfWeek</th>\n",
       "      <th>DepTime</th>\n",
       "      <th>CRSDepTime</th>\n",
       "      <th>ArrTime</th>\n",
       "      <th>CRSArrTime</th>\n",
       "      <th>UniqueCarrier</th>\n",
       "      <th>FlightNum</th>\n",
       "      <th>...</th>\n",
       "      <th>TaxiIn</th>\n",
       "      <th>TaxiOut</th>\n",
       "      <th>Cancelled</th>\n",
       "      <th>CancellationCode</th>\n",
       "      <th>Diverted</th>\n",
       "      <th>CarrierDelay</th>\n",
       "      <th>WeatherDelay</th>\n",
       "      <th>NASDelay</th>\n",
       "      <th>SecurityDelay</th>\n",
       "      <th>LateAircraftDelay</th>\n",
       "    </tr>\n",
       "  </thead>\n",
       "  <tbody>\n",
       "    <tr>\n",
       "      <th>11</th>\n",
       "      <td>2008</td>\n",
       "      <td>3</td>\n",
       "      <td>6</td>\n",
       "      <td>4</td>\n",
       "      <td>NaN</td>\n",
       "      <td>1605</td>\n",
       "      <td>NaN</td>\n",
       "      <td>1940</td>\n",
       "      <td>AA</td>\n",
       "      <td>484</td>\n",
       "      <td>...</td>\n",
       "      <td>NaN</td>\n",
       "      <td>NaN</td>\n",
       "      <td>1</td>\n",
       "      <td>B</td>\n",
       "      <td>0</td>\n",
       "      <td>NaN</td>\n",
       "      <td>NaN</td>\n",
       "      <td>NaN</td>\n",
       "      <td>NaN</td>\n",
       "      <td>NaN</td>\n",
       "    </tr>\n",
       "    <tr>\n",
       "      <th>78</th>\n",
       "      <td>2008</td>\n",
       "      <td>1</td>\n",
       "      <td>19</td>\n",
       "      <td>6</td>\n",
       "      <td>NaN</td>\n",
       "      <td>750</td>\n",
       "      <td>NaN</td>\n",
       "      <td>930</td>\n",
       "      <td>EV</td>\n",
       "      <td>4772</td>\n",
       "      <td>...</td>\n",
       "      <td>NaN</td>\n",
       "      <td>NaN</td>\n",
       "      <td>1</td>\n",
       "      <td>B</td>\n",
       "      <td>0</td>\n",
       "      <td>NaN</td>\n",
       "      <td>NaN</td>\n",
       "      <td>NaN</td>\n",
       "      <td>NaN</td>\n",
       "      <td>NaN</td>\n",
       "    </tr>\n",
       "    <tr>\n",
       "      <th>103</th>\n",
       "      <td>2008</td>\n",
       "      <td>7</td>\n",
       "      <td>24</td>\n",
       "      <td>4</td>\n",
       "      <td>NaN</td>\n",
       "      <td>1230</td>\n",
       "      <td>NaN</td>\n",
       "      <td>1355</td>\n",
       "      <td>FL</td>\n",
       "      <td>816</td>\n",
       "      <td>...</td>\n",
       "      <td>NaN</td>\n",
       "      <td>NaN</td>\n",
       "      <td>1</td>\n",
       "      <td>A</td>\n",
       "      <td>0</td>\n",
       "      <td>NaN</td>\n",
       "      <td>NaN</td>\n",
       "      <td>NaN</td>\n",
       "      <td>NaN</td>\n",
       "      <td>NaN</td>\n",
       "    </tr>\n",
       "    <tr>\n",
       "      <th>112</th>\n",
       "      <td>2008</td>\n",
       "      <td>2</td>\n",
       "      <td>4</td>\n",
       "      <td>1</td>\n",
       "      <td>NaN</td>\n",
       "      <td>620</td>\n",
       "      <td>NaN</td>\n",
       "      <td>758</td>\n",
       "      <td>NW</td>\n",
       "      <td>1281</td>\n",
       "      <td>...</td>\n",
       "      <td>NaN</td>\n",
       "      <td>NaN</td>\n",
       "      <td>1</td>\n",
       "      <td>B</td>\n",
       "      <td>0</td>\n",
       "      <td>NaN</td>\n",
       "      <td>NaN</td>\n",
       "      <td>NaN</td>\n",
       "      <td>NaN</td>\n",
       "      <td>NaN</td>\n",
       "    </tr>\n",
       "    <tr>\n",
       "      <th>128</th>\n",
       "      <td>2008</td>\n",
       "      <td>1</td>\n",
       "      <td>21</td>\n",
       "      <td>1</td>\n",
       "      <td>NaN</td>\n",
       "      <td>1838</td>\n",
       "      <td>NaN</td>\n",
       "      <td>2005</td>\n",
       "      <td>UA</td>\n",
       "      <td>1251</td>\n",
       "      <td>...</td>\n",
       "      <td>NaN</td>\n",
       "      <td>NaN</td>\n",
       "      <td>1</td>\n",
       "      <td>A</td>\n",
       "      <td>0</td>\n",
       "      <td>NaN</td>\n",
       "      <td>NaN</td>\n",
       "      <td>NaN</td>\n",
       "      <td>NaN</td>\n",
       "      <td>NaN</td>\n",
       "    </tr>\n",
       "  </tbody>\n",
       "</table>\n",
       "<p>5 rows × 29 columns</p>\n",
       "</div>"
      ],
      "text/plain": [
       "     Year  Month  DayofMonth  DayOfWeek  DepTime  CRSDepTime  ArrTime  \\\n",
       "11   2008      3           6          4      NaN        1605      NaN   \n",
       "78   2008      1          19          6      NaN         750      NaN   \n",
       "103  2008      7          24          4      NaN        1230      NaN   \n",
       "112  2008      2           4          1      NaN         620      NaN   \n",
       "128  2008      1          21          1      NaN        1838      NaN   \n",
       "\n",
       "     CRSArrTime UniqueCarrier  FlightNum        ...         TaxiIn  TaxiOut  \\\n",
       "11         1940            AA        484        ...            NaN      NaN   \n",
       "78          930            EV       4772        ...            NaN      NaN   \n",
       "103        1355            FL        816        ...            NaN      NaN   \n",
       "112         758            NW       1281        ...            NaN      NaN   \n",
       "128        2005            UA       1251        ...            NaN      NaN   \n",
       "\n",
       "     Cancelled  CancellationCode  Diverted  CarrierDelay WeatherDelay  \\\n",
       "11           1                 B         0           NaN          NaN   \n",
       "78           1                 B         0           NaN          NaN   \n",
       "103          1                 A         0           NaN          NaN   \n",
       "112          1                 B         0           NaN          NaN   \n",
       "128          1                 A         0           NaN          NaN   \n",
       "\n",
       "    NASDelay  SecurityDelay  LateAircraftDelay  \n",
       "11       NaN            NaN                NaN  \n",
       "78       NaN            NaN                NaN  \n",
       "103      NaN            NaN                NaN  \n",
       "112      NaN            NaN                NaN  \n",
       "128      NaN            NaN                NaN  \n",
       "\n",
       "[5 rows x 29 columns]"
      ]
     },
     "execution_count": 758,
     "metadata": {},
     "output_type": "execute_result"
    }
   ],
   "source": [
    "data[data['DepDelay'].isnull()].head()"
   ]
  },
  {
   "cell_type": "markdown",
   "metadata": {},
   "source": [
    "Как видим, пропущенные значения у целевой переменной имеются. Удалим их и нули."
   ]
  },
  {
   "cell_type": "code",
   "execution_count": 759,
   "metadata": {
    "collapsed": false
   },
   "outputs": [],
   "source": [
    "data=data[(data.DepDelay != np.nan)&data.DepDelay != 0]"
   ]
  },
  {
   "cell_type": "code",
   "execution_count": 760,
   "metadata": {
    "collapsed": false
   },
   "outputs": [],
   "source": [
    "data=data.reset_index(drop='True')"
   ]
  },
  {
   "cell_type": "markdown",
   "metadata": {},
   "source": [
    "Заметим, что у объектов, не имеющих целевого значения переменной, также отсутсвуют значения и многих других признаков, в том числе признаки CRSDepTime и DepTime. А так же отметим, что по смыслу значение целевой переменной является разницей этих двух признаков(но приведенных к одному формату, например, минутам), следовательно, знание этих двух признаков вместе нам не поможет больше в предсказании целевой переменной, чем знание одного из этих признаков.Из этих же соображений, когда мы приведем ArrTime к другому формату, мы должны удалить какой-либо признак среди ArrTime,CRSArrTime и ArrDelay, для того чтобы избежать строгой мультиколлинеарности признаков (CRSArrTime-ArrTime=ArrDelay). Также очевидно, что нет задержки у отмененных рейсов, и сама отмена никак не влияет на значение DepDelay (они будут оба NaN в случае отмены).Следовательно, стоит удалить все признаки, связанные с отменой рейса.А так же заметим, что ActualElapsedTime можно вычислить, исходя из времени задержки взлета/посадки и заявленного времени полета CRSElapsedTime. Поэтому мы должны удалить один из этих признаков, например, ActualElapsedTime. Удалим DepTime и ArrTime до изменения формата (т.к. все равно после придется их удалять).Также удалим типы задержек и переадресацию рейса так как они не помогут нам предсказать будущие задержки (мы предполагаем, что у новых объектов еще не будет такого признака), а также потому что в них очень много пропусков."
   ]
  },
  {
   "cell_type": "code",
   "execution_count": 761,
   "metadata": {
    "collapsed": false
   },
   "outputs": [],
   "source": [
    "data = data.drop(['Cancelled','CancellationCode','ActualElapsedTime','DepTime','ArrTime','CarrierDelay', 'WeatherDelay', 'NASDelay',\n",
    "       'SecurityDelay',\"Diverted\"], 1)"
   ]
  },
  {
   "cell_type": "markdown",
   "metadata": {},
   "source": [
    "Далее создадим отдельный вектор для целевой переменной, но не будем пока удалять DepDelya из признаков, чтобы посмотреть его корреляцию с другими в heatmap:"
   ]
  },
  {
   "cell_type": "code",
   "execution_count": 762,
   "metadata": {
    "collapsed": true
   },
   "outputs": [],
   "source": [
    "Y=data['DepDelay']"
   ]
  },
  {
   "cell_type": "markdown",
   "metadata": {},
   "source": [
    "**7. (1 балл)** Обратите внимание, что признаки DepTime, CRSDepTime, ArrTime, CRSArrTime приведены в формате hhmm, в связи с чем будет не вполне корректно рассматривать их как вещественные.\n",
    "\n",
    "Преобразуйте каждый признак FeatureName из указанных в пару новых признаков FeatureName\\_Hour, FeatureName\\_Minute, разделив каждое из значений на часы и минуты. Не забудьте при этом исключить исходный признак из выборки. В случае, если значение признака отсутствует, значения двух новых признаков, его заменяющих, также должны отсутствовать. \n",
    "\n",
    "Например, признак DepTime необходимо заменить на пару признаков DepTime_Hour, DepTime_Minute. При этом, например, значение 155 исходного признака будет преобразовано в значения 1 и 55 признаков DepTime_Hour, DepTime_Minute соответственно."
   ]
  },
  {
   "cell_type": "code",
   "execution_count": 763,
   "metadata": {
    "collapsed": false
   },
   "outputs": [
    {
     "name": "stdout",
     "output_type": "stream",
     "text": [
      "Empty DataFrame\n",
      "Columns: [Year, Month, DayofMonth, DayOfWeek, CRSDepTime, CRSArrTime, UniqueCarrier, FlightNum, TailNum, CRSElapsedTime, AirTime, ArrDelay, DepDelay, Origin, Dest, Distance, TaxiIn, TaxiOut, LateAircraftDelay]\n",
      "Index: []\n",
      "Empty DataFrame\n",
      "Columns: [Year, Month, DayofMonth, DayOfWeek, CRSDepTime, CRSArrTime, UniqueCarrier, FlightNum, TailNum, CRSElapsedTime, AirTime, ArrDelay, DepDelay, Origin, Dest, Distance, TaxiIn, TaxiOut, LateAircraftDelay]\n",
      "Index: []\n"
     ]
    }
   ],
   "source": [
    "print(data[data.CRSDepTime==np.nan])\n",
    "print(data[data.CRSArrTime==np.nan])"
   ]
  },
  {
   "cell_type": "markdown",
   "metadata": {},
   "source": [
    "Заметим, что для данных признаков нет пропущенных значений"
   ]
  },
  {
   "cell_type": "code",
   "execution_count": 764,
   "metadata": {
    "collapsed": true
   },
   "outputs": [],
   "source": [
    "D_Hour=data['CRSDepTime']//100\n",
    "D_minute=data['CRSDepTime']%100\n",
    "A_Hour=data['CRSArrTime']//100\n",
    "A_minute=data['CRSArrTime']%100"
   ]
  },
  {
   "cell_type": "markdown",
   "metadata": {},
   "source": [
    "Создадим новые признаки"
   ]
  },
  {
   "cell_type": "code",
   "execution_count": 765,
   "metadata": {
    "collapsed": true
   },
   "outputs": [],
   "source": [
    "data['CRSDepTime_Hour']=D_Hour\n",
    "data['CRSDepTime_Minute']=D_minute\n",
    "data['CRSArrTime_Hour']=A_Hour\n",
    "data['CRSArrTime_Minute']=A_minute"
   ]
  },
  {
   "cell_type": "code",
   "execution_count": 766,
   "metadata": {
    "collapsed": true
   },
   "outputs": [],
   "source": [
    "data = data.drop(['CRSArrTime','CRSDepTime'],1)"
   ]
  },
  {
   "cell_type": "markdown",
   "metadata": {},
   "source": [
    "**8. (0.5 балла)** Некоторые из признаков, отличных от целевой переменной, могут оказывать чересчур значимое влияние на прогноз, поскольку по своему смыслу содержат большую долю информации о значении целевой переменной. Изучите описание датасета и исключите признаки, сильно коррелирующие с ответами. Ваш выбор признаков для исключения из выборки обоснуйте. Кроме того, исключите признаки TailNum и Year."
   ]
  },
  {
   "cell_type": "markdown",
   "metadata": {
    "collapsed": true
   },
   "source": [
    "Теперь, как было сказано в решении пункта 6, стоит убрать признаки ArrTime, DepTime и ActualElapsedTime (что мы уже сделали в 6-ом пункте), чтобы избавиться от линейной зависимости признаков."
   ]
  },
  {
   "cell_type": "code",
   "execution_count": 767,
   "metadata": {
    "collapsed": true
   },
   "outputs": [],
   "source": [
    "data = data.drop(['TailNum','Year'],1)"
   ]
  },
  {
   "cell_type": "markdown",
   "metadata": {},
   "source": [
    "Для начала посмотрим на корреляции признаков"
   ]
  },
  {
   "cell_type": "code",
   "execution_count": 768,
   "metadata": {
    "collapsed": false
   },
   "outputs": [
    {
     "data": {
      "text/plain": [
       "<matplotlib.axes._subplots.AxesSubplot at 0x14d10be48>"
      ]
     },
     "execution_count": 768,
     "metadata": {},
     "output_type": "execute_result"
    },
    {
     "data": {
      "image/png": "[encoded data removed]",
      "text/plain": [
       "<matplotlib.figure.Figure at 0x14d129c88>"
      ]
     },
     "metadata": {},
     "output_type": "display_data"
    }
   ],
   "source": [
    "plt.figure(figsize=(10,10))\n",
    "sns.heatmap(data.corr())"
   ]
  },
  {
   "cell_type": "markdown",
   "metadata": {},
   "source": [
    "Удалим задержку прибытия ArrDelay так как она сильно коррелирует с задержкой отправки при этом по смыслу не долэна быть связана с задержкой отправления.\n",
    "Помимо этого стоит исключить LateAircraftDelay, так как он сильно коррелирует с целевой переменной (так как является очевидной причиной для задержки)."
   ]
  },
  {
   "cell_type": "code",
   "execution_count": 769,
   "metadata": {
    "collapsed": true
   },
   "outputs": [],
   "source": [
    "data = data.drop(['LateAircraftDelay','ArrDelay'], 1)"
   ]
  },
  {
   "cell_type": "markdown",
   "metadata": {},
   "source": [
    "Вот теперь удалим и DepDelay"
   ]
  },
  {
   "cell_type": "code",
   "execution_count": 770,
   "metadata": {
    "collapsed": true
   },
   "outputs": [],
   "source": [
    "data = data.drop(['DepDelay'], 1)"
   ]
  },
  {
   "cell_type": "markdown",
   "metadata": {},
   "source": [
    "Приведем данные к виду, пригодному для обучения линейных моделей. Для этого вещественные признаки надо отмасштабировать, а категориальные — привести к числовому виду. Также надо устранить пропуски в данных."
   ]
  },
  {
   "cell_type": "markdown",
   "metadata": {},
   "source": [
    "**9*. (1 бонусный балл) ** В первую очередь поймем, зачем необходимо применять масштабирование. Следующие ячейки с кодом построят гистограммы для 3 вещественных признаков выборки."
   ]
  },
  {
   "cell_type": "markdown",
   "metadata": {},
   "source": [
    "Построим гистограмму для CRSDepTime_Hour вместо DepTime (т.к. последний мы уже удалили)"
   ]
  },
  {
   "cell_type": "code",
   "execution_count": 771,
   "metadata": {
    "collapsed": false,
    "scrolled": true
   },
   "outputs": [
    {
     "data": {
      "text/plain": [
       "<matplotlib.axes._subplots.AxesSubplot at 0x171faf1d0>"
      ]
     },
     "execution_count": 771,
     "metadata": {},
     "output_type": "execute_result"
    },
    {
     "data": {
      "image/png": "[encoded data removed]",
      "text/plain": [
       "<matplotlib.figure.Figure at 0x171fb8ba8>"
      ]
     },
     "metadata": {},
     "output_type": "display_data"
    }
   ],
   "source": [
    "data['CRSDepTime_Hour'].hist(bins=20)"
   ]
  },
  {
   "cell_type": "code",
   "execution_count": 772,
   "metadata": {
    "collapsed": false
   },
   "outputs": [
    {
     "data": {
      "text/plain": [
       "<matplotlib.axes._subplots.AxesSubplot at 0x131250da0>"
      ]
     },
     "execution_count": 772,
     "metadata": {},
     "output_type": "execute_result"
    },
    {
     "data": {
      "image/png": "[encoded data removed]",
      "text/plain": [
       "<matplotlib.figure.Figure at 0x13121b278>"
      ]
     },
     "metadata": {},
     "output_type": "display_data"
    }
   ],
   "source": [
    "data['TaxiIn'].hist(bins=20)"
   ]
  },
  {
   "cell_type": "code",
   "execution_count": 773,
   "metadata": {
    "collapsed": false
   },
   "outputs": [
    {
     "data": {
      "text/plain": [
       "<matplotlib.axes._subplots.AxesSubplot at 0x10ce47eb8>"
      ]
     },
     "execution_count": 773,
     "metadata": {},
     "output_type": "execute_result"
    },
    {
     "data": {
      "image/png": "[encoded data removed]",
      "text/plain": [
       "<matplotlib.figure.Figure at 0x148f31390>"
      ]
     },
     "metadata": {},
     "output_type": "display_data"
    }
   ],
   "source": [
    "data['FlightNum'].hist(bins=20)"
   ]
  },
  {
   "cell_type": "markdown",
   "metadata": {},
   "source": [
    "Какую проблему вы наблюдаете на этих графиках? Как масштабирование поможет её исправить?"
   ]
  },
  {
   "cell_type": "markdown",
   "metadata": {},
   "source": [
    "Неравномерное распределение признака (например, у FlightNum и TaxiIn) по диапазону значений может приводить к тому, что дисперсия среди признаков будет сильно различаться, что может влиять на веса этих признаков. Тем не менее, при этом вовсе необязательно, что признак с наибольшей диспресией действительно будет вносить больший вклад в объяснение значений целевой переменной. Масштабирование (например, нормализация признаков) поможет привести разброс значений для всех признаков к одному и тому же. В особенности при регуляризации нам важно, чтобы разброс значений признаков не оказывал влияния на веса, а без масштабирования признаки с большими значениями могут обрести неоправданно больший вес после регуляризации."
   ]
  },
  {
   "cell_type": "markdown",
   "metadata": {},
   "source": [
    "**10. (1 балл)** Вдобавок к масштабированию, некоторые из признаков в нашем датасете являются категориальными. Типичным подходом к работе с ними является бинарное, или [one-hot-кодирование](https://en.wikipedia.org/wiki/One-hot).\n",
    "\n",
    "\n",
    "Реализуйте функцию transform_data, которая принимает на вход DataFrame с признаками и выполняет следующие шаги:\n",
    "1. Замена пропущенных значений на нули для вещественных признаков и на строки 'nan' для категориальных.\n",
    "2. Масштабирование вещественных признаков с помощью [StandardScaler](http://scikit-learn.org/stable/modules/generated/sklearn.preprocessing.StandardScaler.html).\n",
    "3. One-hot-кодирование категориальных признаков с помощью [DictVectorizer](http://scikit-learn.org/stable/modules/generated/sklearn.feature_extraction.DictVectorizer.html) или функции [pd.get_dummies](http://pandas.pydata.org/pandas-docs/stable/generated/pandas.get_dummies.html).\n",
    "\n",
    "Метод должен возвращать преобразованный DataFrame, который должна состоять из масштабированных вещественных признаков и закодированных категориальных (исходные признаки должны быть исключены из выборки)."
   ]
  },
  {
   "cell_type": "markdown",
   "metadata": {},
   "source": [
    "Сначала разберемся какие из оставшихся признаков у нас категориальные, а какие вещественные и проведем соответствующую для них предобработку."
   ]
  },
  {
   "cell_type": "code",
   "execution_count": 785,
   "metadata": {
    "collapsed": true
   },
   "outputs": [],
   "source": [
    "def transform_data(data):\n",
    "        data_cat=data[['Month','DayOfWeek', 'DayofMonth','UniqueCarrier', 'FlightNum','Origin', 'Dest',\n",
    "                       'CRSDepTime_Hour', 'CRSDepTime_Minute',\n",
    "       'CRSArrTime_Hour', 'CRSArrTime_Minute',]]\n",
    "        data_real=data[['DayofMonth','CRSElapsedTime','AirTime','Distance', 'TaxiIn',\n",
    "       'TaxiOut']]\n",
    "        data_cat.fillna('nan',inplace=True)\n",
    "        data_real.fillna(0,inplace=True)\n",
    "        scaler = StandardScaler()\n",
    "        scaler.fit(data_real)\n",
    "        StandardScaler(copy=True, with_mean=True, with_std=True)\n",
    "        data_real_new=pd.DataFrame(scaler.transform(data_real),columns=list(data_real.columns))\n",
    "        data_cat=pd.get_dummies(data_cat)\n",
    "        res = pd.concat([data_cat, data_real_new], axis=1)\n",
    "        return res"
   ]
  },
  {
   "cell_type": "code",
   "execution_count": 786,
   "metadata": {
    "collapsed": false
   },
   "outputs": [],
   "source": [
    "new_df=transform_data(data)"
   ]
  },
  {
   "cell_type": "code",
   "execution_count": 787,
   "metadata": {
    "collapsed": false
   },
   "outputs": [
    {
     "data": {
      "text/html": [
       "<div>\n",
       "<table border=\"1\" class=\"dataframe\">\n",
       "  <thead>\n",
       "    <tr style=\"text-align: right;\">\n",
       "      <th></th>\n",
       "      <th>Month</th>\n",
       "      <th>DayOfWeek</th>\n",
       "      <th>DayofMonth</th>\n",
       "      <th>FlightNum</th>\n",
       "      <th>CRSDepTime_Hour</th>\n",
       "      <th>CRSDepTime_Minute</th>\n",
       "      <th>CRSArrTime_Hour</th>\n",
       "      <th>CRSArrTime_Minute</th>\n",
       "      <th>UniqueCarrier_9E</th>\n",
       "      <th>UniqueCarrier_AA</th>\n",
       "      <th>...</th>\n",
       "      <th>Dest_XNA</th>\n",
       "      <th>Dest_YAK</th>\n",
       "      <th>Dest_YKM</th>\n",
       "      <th>Dest_YUM</th>\n",
       "      <th>DayofMonth</th>\n",
       "      <th>CRSElapsedTime</th>\n",
       "      <th>AirTime</th>\n",
       "      <th>Distance</th>\n",
       "      <th>TaxiIn</th>\n",
       "      <th>TaxiOut</th>\n",
       "    </tr>\n",
       "  </thead>\n",
       "  <tbody>\n",
       "    <tr>\n",
       "      <th>0</th>\n",
       "      <td>6</td>\n",
       "      <td>3</td>\n",
       "      <td>18</td>\n",
       "      <td>242</td>\n",
       "      <td>20</td>\n",
       "      <td>55</td>\n",
       "      <td>23</td>\n",
       "      <td>0</td>\n",
       "      <td>0</td>\n",
       "      <td>0</td>\n",
       "      <td>...</td>\n",
       "      <td>0</td>\n",
       "      <td>0</td>\n",
       "      <td>0</td>\n",
       "      <td>0</td>\n",
       "      <td>0.256485</td>\n",
       "      <td>-0.916826</td>\n",
       "      <td>-0.849307</td>\n",
       "      <td>-0.744130</td>\n",
       "      <td>-0.786908</td>\n",
       "      <td>-0.741204</td>\n",
       "    </tr>\n",
       "    <tr>\n",
       "      <th>1</th>\n",
       "      <td>6</td>\n",
       "      <td>3</td>\n",
       "      <td>4</td>\n",
       "      <td>2380</td>\n",
       "      <td>14</td>\n",
       "      <td>10</td>\n",
       "      <td>17</td>\n",
       "      <td>28</td>\n",
       "      <td>0</td>\n",
       "      <td>0</td>\n",
       "      <td>...</td>\n",
       "      <td>0</td>\n",
       "      <td>0</td>\n",
       "      <td>0</td>\n",
       "      <td>0</td>\n",
       "      <td>-1.332050</td>\n",
       "      <td>0.127377</td>\n",
       "      <td>0.064301</td>\n",
       "      <td>0.183961</td>\n",
       "      <td>-0.582387</td>\n",
       "      <td>-0.389769</td>\n",
       "    </tr>\n",
       "    <tr>\n",
       "      <th>2</th>\n",
       "      <td>8</td>\n",
       "      <td>7</td>\n",
       "      <td>3</td>\n",
       "      <td>1769</td>\n",
       "      <td>11</td>\n",
       "      <td>45</td>\n",
       "      <td>15</td>\n",
       "      <td>20</td>\n",
       "      <td>0</td>\n",
       "      <td>0</td>\n",
       "      <td>...</td>\n",
       "      <td>0</td>\n",
       "      <td>0</td>\n",
       "      <td>0</td>\n",
       "      <td>0</td>\n",
       "      <td>-1.445517</td>\n",
       "      <td>0.370547</td>\n",
       "      <td>0.314806</td>\n",
       "      <td>0.471018</td>\n",
       "      <td>-0.582387</td>\n",
       "      <td>-0.653345</td>\n",
       "    </tr>\n",
       "    <tr>\n",
       "      <th>3</th>\n",
       "      <td>1</td>\n",
       "      <td>3</td>\n",
       "      <td>23</td>\n",
       "      <td>3802</td>\n",
       "      <td>11</td>\n",
       "      <td>44</td>\n",
       "      <td>13</td>\n",
       "      <td>35</td>\n",
       "      <td>0</td>\n",
       "      <td>0</td>\n",
       "      <td>...</td>\n",
       "      <td>0</td>\n",
       "      <td>0</td>\n",
       "      <td>0</td>\n",
       "      <td>0</td>\n",
       "      <td>0.823819</td>\n",
       "      <td>-0.258835</td>\n",
       "      <td>-0.363032</td>\n",
       "      <td>-0.347886</td>\n",
       "      <td>-0.582387</td>\n",
       "      <td>0.225242</td>\n",
       "    </tr>\n",
       "    <tr>\n",
       "      <th>4</th>\n",
       "      <td>5</td>\n",
       "      <td>7</td>\n",
       "      <td>4</td>\n",
       "      <td>399</td>\n",
       "      <td>8</td>\n",
       "      <td>20</td>\n",
       "      <td>13</td>\n",
       "      <td>0</td>\n",
       "      <td>0</td>\n",
       "      <td>0</td>\n",
       "      <td>...</td>\n",
       "      <td>0</td>\n",
       "      <td>0</td>\n",
       "      <td>0</td>\n",
       "      <td>0</td>\n",
       "      <td>-1.332050</td>\n",
       "      <td>0.442068</td>\n",
       "      <td>0.476898</td>\n",
       "      <td>0.634799</td>\n",
       "      <td>-0.582387</td>\n",
       "      <td>-0.741204</td>\n",
       "    </tr>\n",
       "  </tbody>\n",
       "</table>\n",
       "<p>5 rows × 628 columns</p>\n",
       "</div>"
      ],
      "text/plain": [
       "   Month  DayOfWeek  DayofMonth  FlightNum  CRSDepTime_Hour  \\\n",
       "0      6          3          18        242               20   \n",
       "1      6          3           4       2380               14   \n",
       "2      8          7           3       1769               11   \n",
       "3      1          3          23       3802               11   \n",
       "4      5          7           4        399                8   \n",
       "\n",
       "   CRSDepTime_Minute  CRSArrTime_Hour  CRSArrTime_Minute  UniqueCarrier_9E  \\\n",
       "0                 55               23                  0                 0   \n",
       "1                 10               17                 28                 0   \n",
       "2                 45               15                 20                 0   \n",
       "3                 44               13                 35                 0   \n",
       "4                 20               13                  0                 0   \n",
       "\n",
       "   UniqueCarrier_AA    ...     Dest_XNA  Dest_YAK  Dest_YKM  Dest_YUM  \\\n",
       "0                 0    ...            0         0         0         0   \n",
       "1                 0    ...            0         0         0         0   \n",
       "2                 0    ...            0         0         0         0   \n",
       "3                 0    ...            0         0         0         0   \n",
       "4                 0    ...            0         0         0         0   \n",
       "\n",
       "   DayofMonth  CRSElapsedTime   AirTime  Distance    TaxiIn   TaxiOut  \n",
       "0    0.256485       -0.916826 -0.849307 -0.744130 -0.786908 -0.741204  \n",
       "1   -1.332050        0.127377  0.064301  0.183961 -0.582387 -0.389769  \n",
       "2   -1.445517        0.370547  0.314806  0.471018 -0.582387 -0.653345  \n",
       "3    0.823819       -0.258835 -0.363032 -0.347886 -0.582387  0.225242  \n",
       "4   -1.332050        0.442068  0.476898  0.634799 -0.582387 -0.741204  \n",
       "\n",
       "[5 rows x 628 columns]"
      ]
     },
     "execution_count": 787,
     "metadata": {},
     "output_type": "execute_result"
    }
   ],
   "source": [
    "new_df.head()"
   ]
  },
  {
   "cell_type": "markdown",
   "metadata": {},
   "source": [
    "Примените функцию transform_data к данным. Сколько признаков получилось после преобразования?"
   ]
  },
  {
   "cell_type": "code",
   "execution_count": 788,
   "metadata": {
    "collapsed": false
   },
   "outputs": [
    {
     "name": "stdout",
     "output_type": "stream",
     "text": [
      "получилось 628 признаков\n"
     ]
    }
   ],
   "source": [
    "print('получилось',new_df.shape[1],'признаков')"
   ]
  },
  {
   "cell_type": "markdown",
   "metadata": {},
   "source": [
    "**11. (0.75 балла)** Разбейте выборку и вектор целевой переменной на обучение и контроль в отношении 70/30 (для этого можно использовать, например, функцию [train_test_split](http://scikit-learn.org/stable/modules/generated/sklearn.cross_validation.train_test_split.html)). "
   ]
  },
  {
   "cell_type": "code",
   "execution_count": 789,
   "metadata": {
    "collapsed": true
   },
   "outputs": [],
   "source": [
    "X_train, X_test, y_train, y_test = train_test_split(new_df, Y, test_size=0.3, random_state=42)"
   ]
  },
  {
   "cell_type": "markdown",
   "metadata": {},
   "source": [
    "### Scikit-learn\n",
    "\n",
    "<img src = \"https://pp.vk.me/c4534/u35727827/93547647/x_d31c4463.jpg\">\n",
    "Теперь, когда мы привели данные к пригодному виду, попробуем решить задачу при помощи метода наименьших квадратов. Напомним, что данный метод заключается в оптимизации функционала $MSE$:\n",
    "\n",
    "$$MSE(X, y) = \\frac{1}{l} \\sum_{i=1}^l (<w, x_i> - y_i)^2 \\to \\min_{w},$$\n",
    "\n",
    "где $\\{ (x_i, y_i ) \\}_{i=1}^l$ — обучающая выборка, состоящая из $l$ пар объект-ответ.\n",
    "\n",
    "Заметим, что решение данной задачи уже реализовано в модуле sklearn в виде класса [LinearRegression](http://scikit-learn.org/stable/modules/generated/sklearn.linear_model.LinearRegression.html#sklearn.linear_model.LinearRegression).\n",
    "\n",
    "**12. (0.5 балла)** Обучите линейную регрессию на 1000 объектах из обучающей выборки и выведите значения $MSE$ и $R^2$ на этой подвыборке и контрольной выборке (итого 4 различных числа). Проинтерпретируйте полученный результат — насколько качественные прогнозы строит полученная модель? Какие проблемы наблюдаются в модели?\n",
    "\n",
    "**Подсказка**: изучите значения полученных коэффициентов $w$, сохраненных в атрибуте coef_ объекта LinearRegression."
   ]
  },
  {
   "cell_type": "code",
   "execution_count": 790,
   "metadata": {
    "collapsed": false
   },
   "outputs": [],
   "source": [
    "X_train['Y']=Y"
   ]
  },
  {
   "cell_type": "code",
   "execution_count": 791,
   "metadata": {
    "collapsed": true
   },
   "outputs": [],
   "source": [
    "X_thou = X_train.sample(n=1000)\n",
    "Y_thou=X_thou['Y']"
   ]
  },
  {
   "cell_type": "code",
   "execution_count": 792,
   "metadata": {
    "collapsed": true
   },
   "outputs": [],
   "source": [
    "X_train= X_train.drop(['Y'],1)\n",
    "X_thou= X_thou.drop(['Y'],1)"
   ]
  },
  {
   "cell_type": "code",
   "execution_count": 793,
   "metadata": {
    "collapsed": false
   },
   "outputs": [],
   "source": [
    "regr = linear_model.LinearRegression()\n",
    "regr.fit(X_thou, Y_thou)\n",
    "y_pr=regr.predict(X_thou)\n",
    "y_pred = regr.predict(X_test)"
   ]
  },
  {
   "cell_type": "code",
   "execution_count": 794,
   "metadata": {
    "collapsed": false
   },
   "outputs": [
    {
     "name": "stdout",
     "output_type": "stream",
     "text": [
      "Mean squared error: 752.69\n",
      "Variance score: 0.44\n",
      "Mean squared error: 341384194259213440.00\n",
      "Variance score: -255208279167292.59\n"
     ]
    }
   ],
   "source": [
    "print(\"Mean squared error: %.2f\"\n",
    "      % mean_squared_error(Y_thou, y_pr))\n",
    "print('Variance score: %.2f' % r2_score(Y_thou, y_pr))\n",
    "print(\"Mean squared error: %.2f\"\n",
    "      % mean_squared_error(y_test, y_pred))\n",
    "print('Variance score: %.2f' % r2_score(y_test, y_pred))"
   ]
  },
  {
   "cell_type": "markdown",
   "metadata": {},
   "source": [
    "Заметим, что MSE на контрольной выборке намнооого больше, чем на подвыборке,а R2 намного меньше, что может говорить о том, что модель была обучена на недостаточном количестве объектов и переобучилась. Огромные значения весов позволяют добиться хорошего качества на подвыборке, в то время как из-за их разброса качество предсказания заметно ухудшается -> нужно использовать штраф на большие значения весов. "
   ]
  },
  {
   "cell_type": "code",
   "execution_count": 795,
   "metadata": {
    "collapsed": false
   },
   "outputs": [
    {
     "name": "stdout",
     "output_type": "stream",
     "text": [
      "Коэффициенты регрессии: \n",
      " [ -3.29572348e-01  -1.86916134e-03  -2.96478603e+09   1.17305651e-03\n",
      "   7.60167990e-01  -2.89555839e-02   6.41685662e-01   9.64795345e-02\n",
      "  -3.58668564e+10  -3.58668564e+10  -3.58668564e+10  -3.58668564e+10\n",
      "  -3.58668564e+10  -3.58668564e+10  -3.58668564e+10  -3.58668564e+10\n",
      "  -3.58668564e+10  -3.58668564e+10  -3.58668564e+10  -3.58668564e+10\n",
      "  -3.58668564e+10  -3.58668564e+10  -3.58668564e+10  -3.58668564e+10\n",
      "  -3.58668564e+10  -3.58668564e+10  -3.58668564e+10  -3.58668564e+10\n",
      "   4.44667323e+09   3.12898676e+09  -1.69982590e+09  -2.92794909e+09\n",
      "   6.10580314e+07  -4.80284888e+08  -1.79054957e+09  -1.69982589e+09\n",
      "  -1.48666258e+09  -1.76107240e+09  -1.69982589e+09  -1.69982583e+09\n",
      "   6.73905688e+08  -1.69982583e+09  -6.87938149e+08  -1.69982589e+09\n",
      "  -1.69982588e+09  -8.31713021e+08  -1.69982588e+09   2.13787102e+07\n",
      "  -1.69982589e+09  -1.69982588e+09  -1.69982588e+09   1.58310655e+08\n",
      "  -1.69982581e+09   4.18304330e+07  -1.69982590e+09   6.79693577e+07\n",
      "  -2.24369432e+07  -1.69982588e+09  -1.69982588e+09   4.25806162e+07\n",
      "  -1.81373838e+07  -1.69982587e+09  -1.69982587e+09  -1.69982586e+09\n",
      "  -1.69982588e+09   8.65573866e+06  -1.69982591e+09   1.14163273e+08\n",
      "  -3.01383022e+07  -1.27792484e+07   1.37518087e+08  -1.69982578e+09\n",
      "  -1.69982590e+09   1.72899492e+07  -1.69982588e+09  -7.44533802e+07\n",
      "  -1.69982594e+09  -1.69982586e+09  -1.53013569e+06  -6.43479405e+07\n",
      "   3.37231509e+07  -1.69982592e+09   1.09445602e+08  -1.69982585e+09\n",
      "  -6.23010341e+07  -1.69982589e+09   7.39643379e+06  -1.69982590e+09\n",
      "  -2.47429075e+07  -1.69982589e+09  -1.69982588e+09  -1.69982591e+09\n",
      "   6.31597335e+07   3.99739516e+07  -1.69982589e+09  -1.69982590e+09\n",
      "  -1.69982588e+09  -1.69982588e+09   6.91922538e+07  -1.69982589e+09\n",
      "  -2.24781287e+07  -1.69982588e+09  -1.69982588e+09  -1.69982589e+09\n",
      "  -1.69982590e+09  -1.69982587e+09  -1.69982587e+09  -1.69982588e+09\n",
      "   8.96074358e+06   1.10791735e+08   1.30556364e+07  -1.69982592e+09\n",
      "  -1.69982588e+09   2.44468185e+07   1.72440244e+07   5.20587235e+07\n",
      "  -1.69982587e+09   7.71037139e+07  -1.69982591e+09  -1.69982591e+09\n",
      "   8.87112745e+07  -1.69982587e+09  -1.69982586e+09  -2.42246043e+07\n",
      "   5.47292285e+07  -1.69982585e+09  -1.69982588e+09   1.25128490e+08\n",
      "  -5.17829027e+07  -1.69982588e+09  -1.69982587e+09  -1.69982589e+09\n",
      "  -1.69982583e+09   9.17917971e+07  -1.69982588e+09   4.31515072e+07\n",
      "  -1.69982588e+09  -9.45305785e+06  -5.20504567e+07   4.69868914e+07\n",
      "  -5.38747671e+07  -1.69982588e+09  -1.69982587e+09  -4.06261599e+06\n",
      "  -1.69982589e+09  -1.69982590e+09  -7.34277153e+07   9.44481440e+07\n",
      "   2.90197770e+07   8.54441885e+06   1.36756340e+07  -1.69982589e+09\n",
      "   1.08786861e+08  -2.62252188e+07  -1.69982588e+09  -1.69982588e+09\n",
      "  -1.69982592e+09  -1.69982586e+09  -1.69982591e+09  -1.69982591e+09\n",
      "  -1.69982588e+09  -1.69982590e+09  -1.69982589e+09  -1.69542312e+07\n",
      "  -1.69982587e+09  -1.69982582e+09  -9.96864838e+07  -2.13140881e+07\n",
      "   5.94101731e+07  -2.07987417e+07  -1.69982590e+09   8.14286738e+07\n",
      "   2.14997463e+07  -1.69982588e+09  -1.69982589e+09  -1.69982590e+09\n",
      "  -4.91672296e+07   1.04069618e+08  -1.69982587e+09  -1.69982590e+09\n",
      "  -1.69982588e+09   4.10172295e+07  -1.69982588e+09  -1.69982591e+09\n",
      "   8.48241797e+07  -1.69982585e+09  -1.69982589e+09  -1.69982588e+09\n",
      "  -1.69982590e+09  -1.69982591e+09  -1.69982589e+09  -7.19445392e+05\n",
      "   1.19800017e+05  -3.08331359e+04  -3.08646155e+04  -1.69982589e+09\n",
      "  -1.69982590e+09  -2.73319246e+03  -1.69982589e+09  -3.51768719e+02\n",
      "  -1.69982588e+09  -5.02172860e+01  -1.69982588e+09  -2.48817492e+01\n",
      "  -1.69982588e+09  -1.46325109e+00  -1.69982589e+09  -3.67042415e-01\n",
      "  -1.09856203e-03   5.11827096e-02  -1.69982589e+09  -1.69982587e+09\n",
      "  -1.69982588e+09  -2.83837318e-03  -1.69982588e+09  -1.69982592e+09\n",
      "  -3.05175781e-05  -1.69982588e+09  -1.69982591e+09   4.57763672e-05\n",
      "  -1.90734863e-05  -1.69982590e+09  -1.69982589e+09   9.53674316e-07\n",
      "  -1.69982589e+09  -1.69982583e+09  -2.23517418e-08  -1.69982590e+09\n",
      "  -3.72529030e-09  -1.69982589e+09  -1.69982590e+09  -1.69982588e+09\n",
      "  -1.69982587e+09  -5.82076609e-11  -1.69982589e+09  -1.69982589e+09\n",
      "  -1.69982587e+09  -3.81987775e-11   1.28268197e+08  -1.69982594e+09\n",
      "  -1.69982587e+09  -1.69982586e+09   1.23634436e-12  -1.69982591e+09\n",
      "  -1.69982587e+09  -1.69982589e+09  -1.69982588e+09  -1.69982590e+09\n",
      "  -1.69982586e+09   2.17355023e-11  -1.69982590e+09  -1.69982585e+09\n",
      "  -1.69982584e+09  -1.02184927e-11  -1.42108547e-11  -1.69982590e+09\n",
      "  -1.69982587e+09  -1.69982592e+09  -6.07279782e-11  -5.25304245e-11\n",
      "  -1.69982589e+09  -1.69982587e+09   9.27258270e-12  -1.69982582e+09\n",
      "  -1.69982589e+09  -4.89235319e-11  -1.69982587e+09  -1.69982590e+09\n",
      "  -4.67537120e-11  -1.69982570e+09   5.86064530e-12  -1.69982589e+09\n",
      "  -1.69982589e+09  -1.69982588e+09   3.20810045e-11   3.28590488e-11\n",
      "   8.60467253e-12  -1.69982589e+09   6.51283472e-11  -4.32027747e-11\n",
      "  -1.69982580e+09  -1.69982588e+09  -1.69982587e+09  -1.69982589e+09\n",
      "  -4.95177233e-11  -1.69982594e+09   2.37108111e-11  -1.69982590e+09\n",
      "  -4.04583034e-11  -1.69982589e+09  -1.69982588e+09  -6.13340490e-11\n",
      "  -1.69982587e+09  -7.95807864e-13  -1.69982589e+09  -2.69153588e-11\n",
      "   3.96056521e-11  -1.69982588e+09  -1.69982587e+09  -2.74624767e-11\n",
      "  -5.43529666e-11   9.50706180e-12  -1.69982590e+09   3.47277762e-12\n",
      "  -1.69982589e+09  -8.77662387e-11  -1.69982575e+09   5.01216846e-11\n",
      "  -1.69982588e+09  -4.26432223e-11  -1.69982590e+09  -1.69982589e+09\n",
      "  -1.69982590e+09  -2.96083158e-11  -1.69982592e+09  -2.03654871e-11\n",
      "  -1.69982587e+09   1.03184841e-10   2.38031816e-11  -3.21769278e-11\n",
      "  -1.69982587e+09   3.79074550e-11  -4.11120027e-11  -1.69982589e+09\n",
      "  -4.20179447e-11  -1.41842094e-11   1.95636224e+09  -8.14703860e-12\n",
      "  -3.64046571e-11  -1.17750695e-10   1.95636222e+09  -3.26257910e-11\n",
      "  -9.76693370e-11  -1.65307767e-11  -1.84314786e-11   1.95636225e+09\n",
      "   2.55866439e-11   1.95636223e+09   1.95636224e+09   1.95636228e+09\n",
      "   1.95636224e+09   1.95636224e+09   5.02922148e-11   1.95636225e+09\n",
      "   1.95636225e+09   4.46291892e-11  -1.56548108e-11   1.95636229e+09\n",
      "  -2.48689958e-13   1.95636225e+09   1.95636226e+09   1.95636224e+09\n",
      "   1.95636225e+09  -8.64730509e-12  -6.94910796e-12   1.05150983e-11\n",
      "  -7.49622586e-12   1.95636226e+09   1.95636225e+09   1.95636224e+09\n",
      "   1.95636226e+09   2.26059340e-11   3.10222958e-11   4.74713602e-11\n",
      "  -6.90357973e-12  -2.90096003e-11   9.70601377e-12   1.95636226e+09\n",
      "   3.57651686e-11   1.95636226e+09   1.95636226e+09   1.95636225e+09\n",
      "   1.95636223e+09   1.95636228e+09   1.95636226e+09  -5.14432941e-12\n",
      "   6.40365885e-12  -6.64712729e-12  -7.10542736e-15   8.32667268e-16\n",
      "   1.95636224e+09   0.00000000e+00   1.95636225e+09   0.00000000e+00\n",
      "   1.95636223e+09   0.00000000e+00   1.95636224e+09   1.95636231e+09\n",
      "   0.00000000e+00   0.00000000e+00   0.00000000e+00   1.95636223e+09\n",
      "   0.00000000e+00   1.95636224e+09   1.95636225e+09   0.00000000e+00\n",
      "   1.95636226e+09   0.00000000e+00   1.95636223e+09   1.95636226e+09\n",
      "   1.95636227e+09   0.00000000e+00   1.95636225e+09   1.95636225e+09\n",
      "   1.95636225e+09   1.95636225e+09   0.00000000e+00   0.00000000e+00\n",
      "   0.00000000e+00   1.95636224e+09   1.95636224e+09   0.00000000e+00\n",
      "   1.95636224e+09   0.00000000e+00   1.95636226e+09   0.00000000e+00\n",
      "   1.95636223e+09   1.95636225e+09   0.00000000e+00   1.95636227e+09\n",
      "   0.00000000e+00   0.00000000e+00   1.95636223e+09   1.95636226e+09\n",
      "   1.95636240e+09   0.00000000e+00   0.00000000e+00   1.95636225e+09\n",
      "   0.00000000e+00   1.95636226e+09   1.95636226e+09   1.95636225e+09\n",
      "   1.95636239e+09   0.00000000e+00   1.95636224e+09   0.00000000e+00\n",
      "   1.95636223e+09   0.00000000e+00   0.00000000e+00   1.95636224e+09\n",
      "   1.95636224e+09   1.95636226e+09   1.95636224e+09   1.95636225e+09\n",
      "   1.95636226e+09   0.00000000e+00   0.00000000e+00   0.00000000e+00\n",
      "   0.00000000e+00   0.00000000e+00   0.00000000e+00   0.00000000e+00\n",
      "   1.95636227e+09   1.95636224e+09   1.95636227e+09   0.00000000e+00\n",
      "   1.95636229e+09   0.00000000e+00   1.95636228e+09   1.95636224e+09\n",
      "   1.95636225e+09   1.95636222e+09   1.95636225e+09   1.95636225e+09\n",
      "   0.00000000e+00   0.00000000e+00   1.95636224e+09   0.00000000e+00\n",
      "   1.95636226e+09   0.00000000e+00   1.95636225e+09   1.95636226e+09\n",
      "   1.95636224e+09   1.95636225e+09   1.62088251e+08   1.95636224e+09\n",
      "   0.00000000e+00   1.95636241e+09   1.95636226e+09   0.00000000e+00\n",
      "   1.95636226e+09   1.95636225e+09   0.00000000e+00   1.95636229e+09\n",
      "   0.00000000e+00   1.95636226e+09   1.95636223e+09   1.95636224e+09\n",
      "   1.95636225e+09   0.00000000e+00   0.00000000e+00   0.00000000e+00\n",
      "   0.00000000e+00   0.00000000e+00   0.00000000e+00   0.00000000e+00\n",
      "   0.00000000e+00   0.00000000e+00   1.95636226e+09   0.00000000e+00\n",
      "   1.95636228e+09   1.95636222e+09   1.95636225e+09   0.00000000e+00\n",
      "   1.95636225e+09   0.00000000e+00   1.95636229e+09   0.00000000e+00\n",
      "   1.95636222e+09   1.95636226e+09   1.95636226e+09   0.00000000e+00\n",
      "   0.00000000e+00   1.95636226e+09   0.00000000e+00   0.00000000e+00\n",
      "   0.00000000e+00   1.95636224e+09   0.00000000e+00   0.00000000e+00\n",
      "   1.95636225e+09   0.00000000e+00   1.95636225e+09   1.95636225e+09\n",
      "   0.00000000e+00   0.00000000e+00   0.00000000e+00   1.95636227e+09\n",
      "   1.95636225e+09   1.95636225e+09   1.95636226e+09   1.28268197e+08\n",
      "   1.95636224e+09   1.95636226e+09   1.95636228e+09   0.00000000e+00\n",
      "   0.00000000e+00   1.95636224e+09   1.95636224e+09   1.95636226e+09\n",
      "   1.95636234e+09   0.00000000e+00   1.95636225e+09   1.95636225e+09\n",
      "   0.00000000e+00   0.00000000e+00   1.95636225e+09   0.00000000e+00\n",
      "   0.00000000e+00   1.95636225e+09   0.00000000e+00   0.00000000e+00\n",
      "   0.00000000e+00   1.95636227e+09   1.95636238e+09   1.95636224e+09\n",
      "   0.00000000e+00   0.00000000e+00   1.95636223e+09   1.95636226e+09\n",
      "   0.00000000e+00   0.00000000e+00   1.95636229e+09   0.00000000e+00\n",
      "   1.95636239e+09   1.95636225e+09   0.00000000e+00   0.00000000e+00\n",
      "   0.00000000e+00   1.95636225e+09   1.95636226e+09   1.95636225e+09\n",
      "   1.95636224e+09   1.95636222e+09   1.95636225e+09   1.95636224e+09\n",
      "   0.00000000e+00   0.00000000e+00   1.95636224e+09   1.95636225e+09\n",
      "   1.95636227e+09   1.95636224e+09   0.00000000e+00   0.00000000e+00\n",
      "   0.00000000e+00   1.95636224e+09   0.00000000e+00   1.95636224e+09\n",
      "   1.95636225e+09   0.00000000e+00   1.95636228e+09   0.00000000e+00\n",
      "   1.95636224e+09   0.00000000e+00   1.95636226e+09   0.00000000e+00\n",
      "   1.95636227e+09   1.95636225e+09   0.00000000e+00   1.95636223e+09\n",
      "   0.00000000e+00   1.95636227e+09   0.00000000e+00   1.95636224e+09\n",
      "   0.00000000e+00   1.95636225e+09   0.00000000e+00   1.95636228e+09\n",
      "   1.95636224e+09   1.95636226e+09   1.95636224e+09   0.00000000e+00\n",
      "   1.95636224e+09   1.95636227e+09   0.00000000e+00   0.00000000e+00\n",
      "   0.00000000e+00   0.00000000e+00   1.95636223e+09   0.00000000e+00\n",
      "   0.00000000e+00   1.95636224e+09   2.61291024e+10   6.85026741e+00\n",
      "  -1.60344419e+01   7.39976311e+00   7.91623688e+00   2.43996620e-01]\n"
     ]
    }
   ],
   "source": [
    "print('Коэффициенты регрессии: \\n', regr.coef_)"
   ]
  },
  {
   "cell_type": "markdown",
   "metadata": {
    "collapsed": true
   },
   "source": [
    "Для решения описанных вами в предыдущем пункте проблем используем L1- или L2-регуляризацию, тем самым получив Lasso и Ridge регрессии соответственно и изменив оптимизационную задачу одним из следующих образов:\n",
    "$$MSE_{L1}(X, y) = \\frac{1}{l} \\sum_{i=1}^l (<w, x_i> - y_i)^2 + \\alpha ||w||_1 \\to \\min_{w},$$\n",
    "$$MSE_{L2}(X, y) = \\frac{1}{l} \\sum_{i=1}^l (<w, x_i> - y_i)^2 + \\alpha ||w||_2^2 \\to \\min_{w},$$\n",
    "\n",
    "где $\\alpha$ — коэффициент регуляризации. Один из способов его подбора заключается в переборе некоторого количества значений и оценке качества на кросс-валидации для каждого из них, после чего выбирается значение, для которого было получено наилучшее качество.\n",
    "\n",
    "**13. (1 балл)** Обучите линейные регрессии с L1- и L2-регуляризатором, подобрав лучшее значение параметра регуляризации из списка alpha_grid при помощи кросс-валидации c 5 фолдами на тех же 1000 объектах, что и в п.12. Выведите значения $MSE$ и $R^2$ на обучающей и контрольной выборках. Удалось ли решить указанные вами ранее проблемы?\n",
    "\n",
    "Для выполнения данного задания вам могут понадобиться реализованные в библиотеке объекты [LassoCV](http://scikit-learn.org/stable/modules/generated/sklearn.linear_model.LassoCV.html), [RidgeCV](http://scikit-learn.org/stable/modules/generated/sklearn.linear_model.RidgeCV.html) и [KFold](http://scikit-learn.org/stable/modules/generated/sklearn.cross_validation.KFold.html).\n"
   ]
  },
  {
   "cell_type": "markdown",
   "metadata": {
    "collapsed": false
   },
   "source": [
    "Для начала обучим регрессию с L1 регуляризатором (Lasso)"
   ]
  },
  {
   "cell_type": "code",
   "execution_count": 667,
   "metadata": {
    "collapsed": true
   },
   "outputs": [],
   "source": [
    "alpha=np.linspace(-10,20,40)"
   ]
  },
  {
   "cell_type": "code",
   "execution_count": 668,
   "metadata": {
    "collapsed": false
   },
   "outputs": [
    {
     "name": "stdout",
     "output_type": "stream",
     "text": [
      "Лучший alpha для подвыборки 14    0.769231\n",
      "Name: param_alpha, dtype: object\n"
     ]
    }
   ],
   "source": [
    "cv = KFold(n_splits=5, random_state=42, shuffle=True)\n",
    "parameters = {'alpha': alpha}\n",
    "lasso = Lasso()\n",
    "alpha_choose = GridSearchCV(lasso, parameters,cv = cv,scoring='r2')\n",
    "alpha_choose.fit(X_thou,Y_thou)\n",
    "\n",
    "res1 = pd.DataFrame(alpha_choose.cv_results_)\n",
    "ab1=res1[res1.mean_test_score == res1.mean_test_score.max()].param_alpha\n",
    "print('Лучший alpha для подвыборки', ab1)"
   ]
  },
  {
   "cell_type": "code",
   "execution_count": 672,
   "metadata": {
    "collapsed": false
   },
   "outputs": [
    {
     "name": "stdout",
     "output_type": "stream",
     "text": [
      "Mean squared error для подвыборки: 384.85\n",
      "R2 для подвыборки: 0.08\n"
     ]
    }
   ],
   "source": [
    "lasso_2 = Lasso(alpha=float(ab1))\n",
    "lasso_2.fit(X_thou,Y_thou)\n",
    "y_pred = lasso_2.predict(X_thou)\n",
    "\n",
    "print(\"Mean squared error для подвыборки: %.2f\"\n",
    "      % mean_squared_error(y_pred, Y_thou))\n",
    "print('R2 для подвыборки: %.2f' % r2_score(y_pred, Y_thou))"
   ]
  },
  {
   "cell_type": "code",
   "execution_count": 673,
   "metadata": {
    "collapsed": false
   },
   "outputs": [
    {
     "name": "stdout",
     "output_type": "stream",
     "text": [
      "Лучший alpha для контрольной выборки 13    0\n",
      "Name: param_alpha, dtype: object\n"
     ]
    }
   ],
   "source": [
    "alpha_choose = GridSearchCV(lasso, parameters,cv = cv,scoring='r2')\n",
    "alpha_choose.fit(X_test,y_test)\n",
    "\n",
    "res2 = pd.DataFrame(alpha_choose.cv_results_)\n",
    "ab2=res2[res2.mean_test_score == res2.mean_test_score.max()].param_alpha\n",
    "print('Лучший alpha для контрольной выборки', ab2)"
   ]
  },
  {
   "cell_type": "code",
   "execution_count": 674,
   "metadata": {
    "collapsed": false
   },
   "outputs": [
    {
     "name": "stdout",
     "output_type": "stream",
     "text": [
      "Mean squared error для контрольной выборки: 521.93\n",
      "R2 для контрольной выборки: 0.36\n"
     ]
    }
   ],
   "source": [
    "lasso_3 = Lasso(alpha=float(ab2))\n",
    "lasso_3.fit(X_test,y_test)\n",
    "y_pred = lasso_3.predict(X_test)\n",
    "\n",
    "print(\"Mean squared error для контрольной выборки: %.2f\"\n",
    "      % mean_squared_error(y_pred, y_test))\n",
    "print('R2 для контрольной выборки: %.2f' % r2_score(y_pred, y_test))"
   ]
  },
  {
   "cell_type": "markdown",
   "metadata": {},
   "source": [
    "Теперь с регуляризатором L2(Ridge)"
   ]
  },
  {
   "cell_type": "code",
   "execution_count": 675,
   "metadata": {
    "collapsed": false
   },
   "outputs": [
    {
     "name": "stdout",
     "output_type": "stream",
     "text": [
      "Лучший alpha для подвыборки 33    15.3846\n",
      "Name: param_alpha, dtype: object\n"
     ]
    }
   ],
   "source": [
    "ridge = Ridge()\n",
    "alpha_rchoose = GridSearchCV(ridge, parameters,cv = cv,scoring='r2')\n",
    "alpha_rchoose.fit(X_thou,Y_thou)\n",
    "\n",
    "res3 = pd.DataFrame(alpha_rchoose.cv_results_)\n",
    "ab3=res3[res3.mean_test_score == res3.mean_test_score.max()].param_alpha\n",
    "print('Лучший alpha для подвыборки', ab3)"
   ]
  },
  {
   "cell_type": "code",
   "execution_count": 676,
   "metadata": {
    "collapsed": false
   },
   "outputs": [
    {
     "name": "stdout",
     "output_type": "stream",
     "text": [
      "Mean squared error для подвыборки: 311.88\n",
      "R2 для подвыборки: 0.38\n"
     ]
    }
   ],
   "source": [
    "ridge_2 = Ridge(alpha=float(ab3))\n",
    "ridge_2.fit(X_thou,Y_thou)\n",
    "y_pred = ridge_2.predict(X_thou)\n",
    "\n",
    "print(\"Mean squared error для подвыборки: %.2f\"\n",
    "      % mean_squared_error(y_pred, Y_thou))\n",
    "print('R2 для подвыборки: %.2f' % r2_score(y_pred, Y_thou))"
   ]
  },
  {
   "cell_type": "code",
   "execution_count": 677,
   "metadata": {
    "collapsed": false
   },
   "outputs": [
    {
     "name": "stdout",
     "output_type": "stream",
     "text": [
      "Лучший alpha для контрольной выборки 39    20\n",
      "Name: param_alpha, dtype: object\n"
     ]
    }
   ],
   "source": [
    "alpha_rchoose = GridSearchCV(ridge, parameters,cv = cv,scoring='r2')\n",
    "alpha_rchoose.fit(X_test,y_test)\n",
    "\n",
    "res4 = pd.DataFrame(alpha_rchoose.cv_results_)\n",
    "ab4=res4[res4.mean_test_score == res4.mean_test_score.max()].param_alpha\n",
    "print('Лучший alpha для контрольной выборки', ab4)"
   ]
  },
  {
   "cell_type": "code",
   "execution_count": 679,
   "metadata": {
    "collapsed": false
   },
   "outputs": [
    {
     "name": "stdout",
     "output_type": "stream",
     "text": [
      "Mean squared error для контрольной выборки: 528.17\n",
      "R2 для контрольной выборки: 0.34\n"
     ]
    }
   ],
   "source": [
    "ridge_3 = Ridge(alpha=float(ab4))\n",
    "ridge_3.fit(X_test,y_test)\n",
    "y_pred = ridge_3.predict(X_test)\n",
    "\n",
    "print(\"Mean squared error для контрольной выборки: %.2f\"\n",
    "      % mean_squared_error(y_pred, y_test))\n",
    "print('R2 для контрольной выборки: %.2f' % r2_score(y_pred, y_test))"
   ]
  },
  {
   "cell_type": "markdown",
   "metadata": {},
   "source": [
    "Заметим, что после регуляризации качество прогноза для контрольной подвыборки улучшилось и примерно сравнялось с качеством на подвыборке, что означает, что модель уже не является переобученной, однако ее предсказательная способность оставляет желать лечшего. Заметим, что регуляризация L2 справляется чуть лучше, чем L1."
   ]
  },
  {
   "cell_type": "markdown",
   "metadata": {},
   "source": [
    "### Градиентный спуск\n",
    "\n",
    "В предыдущем разделе мы использовали существующие реализации методов обучения линейной регрессии с регуляризацией и без. Тем не менее, подобные реализации, как правило, имеются лишь для ограниченного набора стандартных методов. В частности, при выходе функционала качества за пределы стандартного множества необходимо самостоятельно реализовывать составляющие процесса решения оптимизационной задачи. Именно этому и посвящен данный раздел задания.\n",
    "\n",
    "Пусть необходимо минимизировать следующий функционал (Mean Square Percentage Error — модифицированный [RMSPE](https://www.kaggle.com/c/rossmann-store-sales/details/evaluation)):\n",
    "$$MSPE(\\{x_i, y_i\\}_{i=1}^l, \\, w) = \\frac{1}{l}\\sum_{i=1}^l \\left( \\frac{y_i - \\langle w, x_i \\rangle }{y_i} \\right)^2,$$\n",
    "\n",
    "где $\\{x_i, y_i\\}_{i=1}^l$ — обучающая выборка, $w$ — вектор весов линейной модели. Будем также рассматривать функционал $MSPE$ с L2-регуляризацией:\n",
    "\n",
    "$$MSPE(\\{x_i, y_i\\}_{i=1}^l, \\, w) = \\frac{1}{l}\\sum_{i=1}^l \\left( \\frac{y_i - \\langle w, x_i \\rangle }{y_i} \\right)^2 + ||w||_2^2.$$\n",
    "\n",
    "**14. (0 баллов)** Добавьте к объектам обеих выборок из п. 11 единичный признак."
   ]
  },
  {
   "cell_type": "code",
   "execution_count": 796,
   "metadata": {
    "collapsed": false
   },
   "outputs": [],
   "source": [
    "X_train['one']=1\n",
    "X_test['one']=1"
   ]
  },
  {
   "cell_type": "markdown",
   "metadata": {},
   "source": [
    "**15. (1 балл)** Реализуйте функции, которые вычисляют:\n",
    " * прогнозы линейной модели;\n",
    " * функционал $MSPE$ и его градиент;\n",
    " * регуляризованный $MSPE$ и его градиент."
   ]
  },
  {
   "cell_type": "code",
   "execution_count": 797,
   "metadata": {
    "collapsed": true
   },
   "outputs": [],
   "source": [
    "# возвращает вектор прогнозов линейной модели с вектором весов w для выборки X\n",
    "def make_pred(X, w):\n",
    "    return np.dot(X,w)"
   ]
  },
  {
   "cell_type": "code",
   "execution_count": 798,
   "metadata": {
    "collapsed": true
   },
   "outputs": [],
   "source": [
    "# возвращает значение функционала MSPE для выборки (X, y) и вектора весов w\n",
    "def get_func(w, X, y):\n",
    "    return np.sum(np.square((make_pred(X, w)-y)/y))/X.shape[0]"
   ]
  },
  {
   "cell_type": "code",
   "execution_count": 799,
   "metadata": {
    "collapsed": false
   },
   "outputs": [],
   "source": [
    "# возвращает градиент функционала MSPE для выборки (X, y) и вектора весов w\n",
    "def get_grad(w, X, y):\n",
    "     return 2*np.dot((X.T/y),((make_pred(X, w)-y)/y))/X.shape[0]\n"
   ]
  },
  {
   "cell_type": "code",
   "execution_count": 800,
   "metadata": {
    "collapsed": false
   },
   "outputs": [],
   "source": [
    "# возвращает значение регуляризованного функционала MSPE для выборки (X, y) и вектора весов w\n",
    "def get_reg_func(w, X, y):\n",
    "      return np.sum(np.square(make_pred(X, w)/y))/X.shape[0]+np.dot(w,w)"
   ]
  },
  {
   "cell_type": "code",
   "execution_count": 801,
   "metadata": {
    "collapsed": true
   },
   "outputs": [],
   "source": [
    "# возвращает градиент регуляризованного функционала MSPE для выборки (X, y) и вектора весов w\n",
    "def get_reg_grad(w, X, y):\n",
    "     return 2*np.dot((X.T/y),((make_pred(X, w)-y)/y))/X.shape[0]+2*w.T    "
   ]
  },
  {
   "cell_type": "markdown",
   "metadata": {},
   "source": [
    "**16. (1 балл)** Реализуйте метод градиентного спуска для описанных функционалов ($MSPE$ и его регуляризованный вариант). Функция должна принимать следующие параметры:\n",
    " - X — матрица \"объект-признак\";\n",
    " - y — вектор целевой переменной;\n",
    " - w0 — начальное значение вектора весов;\n",
    " - step_size — значение темпа обучения;\n",
    " - max_iter — максимальное число итераций;\n",
    " - eps — значение, используемое в критерии останова;\n",
    " - is_reg — бинарный параметр, принимает значение True в случае наличия регуляризации функционала, False — в противном случае.\n",
    " \n",
    "Процесс должен быть остановлен, если выполнено хотя бы одно из следующих условий:\n",
    " - было выполнено заданное количество итераций max_iter;\n",
    " - евклидова норма разности векторов $w$ на соседних итерациях стала меньше, чем eps.\n",
    "\n",
    "Функция должна возвращать полученный в результате оптимизации вектор $w$ и список значений функционала на каждой итерации."
   ]
  },
  {
   "cell_type": "code",
   "execution_count": 802,
   "metadata": {
    "collapsed": false
   },
   "outputs": [],
   "source": [
    "X=np.asarray(X_train)\n",
    "y=np.asarray(y_train)\n",
    "w=np.random.normal(size=X.shape[1])\n",
    "w0=np.random.normal(size=X.shape[1])"
   ]
  },
  {
   "cell_type": "code",
   "execution_count": 803,
   "metadata": {
    "collapsed": false
   },
   "outputs": [],
   "source": [
    "def grad_descent(X, y,w0,step_size, max_iter, eps, is_reg):\n",
    "        loss=[]\n",
    "        for i in range(0, max_iter):\n",
    "                if is_reg:\n",
    "                        loss.append(get_reg_func(w0, X, y))\n",
    "                        w=w0-step_size*get_reg_grad(w0, X, y)\n",
    "                        if np.sum(np.square(w-w0))<eps:\n",
    "                            print('остановка на итерации',i)\n",
    "                            break\n",
    "                        w0=w\n",
    "                else:\n",
    "                        loss.append(get_func(w0, X, y))\n",
    "                        w=w0-step_size*get_grad(w0, X, y)\n",
    "                        if np.sum(np.square(w-w0))<eps:\n",
    "                            print('остановка на итерации',i)                            \n",
    "                            break\n",
    "                        w0=w    \n",
    "        return w0,loss   "
   ]
  },
  {
   "cell_type": "code",
   "execution_count": 804,
   "metadata": {
    "collapsed": false
   },
   "outputs": [],
   "source": [
    "w,loss=grad_descent(X, y,w0,0.01, 1000, 0.0001, 0)"
   ]
  },
  {
   "cell_type": "markdown",
   "metadata": {},
   "source": [
    "Обучите линейную регрессию с функционалом $MSPE$ на обучающей выборке при помощи метода градиентного спуска и изобразите кривые зависимости значения функционала от номера итерации для различных:\n",
    " * значений размера шага из набора [0.001, 1, 10];\n",
    " * способов начальной инициализации вектора весов (нули, случайные веса).\n",
    "'\n",
    "Проанализируйте полученные результаты — влияют ли данные параметры на скорость сходимости и итоговое качество? Если да, то как?"
   ]
  },
  {
   "cell_type": "markdown",
   "metadata": {},
   "source": [
    "Disclaimer: после повторной прогонки кода, градиенты некоторые не сошлись, но у меня прописано, где они раньше сходились (при удачных итерациях)"
   ]
  },
  {
   "cell_type": "code",
   "execution_count": 823,
   "metadata": {
    "collapsed": false
   },
   "outputs": [],
   "source": [
    "w0=np.random.normal(size=X.shape[1])"
   ]
  },
  {
   "cell_type": "code",
   "execution_count": 826,
   "metadata": {
    "collapsed": false
   },
   "outputs": [
    {
     "data": {
      "text/plain": [
       "<matplotlib.text.Text at 0x14c7da860>"
      ]
     },
     "execution_count": 826,
     "metadata": {},
     "output_type": "execute_result"
    },
    {
     "data": {
      "image/png": "[encoded data removed]",
      "text/plain": [
       "<matplotlib.figure.Figure at 0x115098dd8>"
      ]
     },
     "metadata": {},
     "output_type": "display_data"
    }
   ],
   "source": [
    "w,loss=grad_descent(X,y,w0,0.001,300,10^(-6),0)\n",
    "plt.plot(loss)\n",
    "plt.title('alpha равна 0.001')\n",
    "plt.xlabel('iterations')\n",
    "plt.ylabel('loss')"
   ]
  },
  {
   "cell_type": "code",
   "execution_count": 816,
   "metadata": {
    "collapsed": false
   },
   "outputs": [
    {
     "data": {
      "text/plain": [
       "<matplotlib.text.Text at 0x1150b1208>"
      ]
     },
     "execution_count": 816,
     "metadata": {},
     "output_type": "execute_result"
    },
    {
     "data": {
      "image/png": "[encoded data removed]",
      "text/plain": [
       "<matplotlib.figure.Figure at 0x14d3d3198>"
      ]
     },
     "metadata": {},
     "output_type": "display_data"
    }
   ],
   "source": [
    "w,loss=grad_descent(X,y,w0,1,200,10^(-6),0)\n",
    "plt.plot(loss)\n",
    "plt.title('alpha равна 1')\n",
    "plt.xlabel('iterations')\n",
    "plt.ylabel('loss')"
   ]
  },
  {
   "cell_type": "code",
   "execution_count": 250,
   "metadata": {
    "collapsed": false
   },
   "outputs": [
    {
     "data": {
      "text/plain": [
       "<matplotlib.text.Text at 0x120365668>"
      ]
     },
     "execution_count": 250,
     "metadata": {},
     "output_type": "execute_result"
    },
    {
     "data": {
      "image/png": "[encoded data removed]",
      "text/plain": [
       "<matplotlib.figure.Figure at 0x11759cdd8>"
      ]
     },
     "metadata": {},
     "output_type": "display_data"
    }
   ],
   "source": [
    "w,loss=grad_descent(X,y,w0,10,1000,10^(-6),0)\n",
    "plt.plot(loss)\n",
    "plt.title('alpha равна 10')\n",
    "plt.xlabel('iterations')\n",
    "plt.ylabel('loss')"
   ]
  },
  {
   "cell_type": "markdown",
   "metadata": {},
   "source": [
    "Теперь посмотрим сходимость при нулевом векторе начальных весов"
   ]
  },
  {
   "cell_type": "code",
   "execution_count": 251,
   "metadata": {
    "collapsed": false
   },
   "outputs": [
    {
     "name": "stdout",
     "output_type": "stream",
     "text": [
      "остановка на итерации 0\n"
     ]
    },
    {
     "data": {
      "text/plain": [
       "<matplotlib.text.Text at 0x11463fd30>"
      ]
     },
     "execution_count": 251,
     "metadata": {},
     "output_type": "execute_result"
    },
    {
     "data": {
      "image/png": "[encoded data removed]",
      "text/plain": [
       "<matplotlib.figure.Figure at 0x10cdd4d30>"
      ]
     },
     "metadata": {},
     "output_type": "display_data"
    }
   ],
   "source": [
    "w0=np.array([0]*X.shape[1])\n",
    "w,loss=grad_descent(X,y,w0,0.001,1000,10^(-6),0)\n",
    "plt.plot(loss)\n",
    "plt.title('alpha равна 0.001')\n",
    "plt.xlabel('iterations')\n",
    "plt.ylabel('loss')"
   ]
  },
  {
   "cell_type": "code",
   "execution_count": 252,
   "metadata": {
    "collapsed": false
   },
   "outputs": [
    {
     "data": {
      "text/plain": [
       "<matplotlib.text.Text at 0x11941a668>"
      ]
     },
     "execution_count": 252,
     "metadata": {},
     "output_type": "execute_result"
    },
    {
     "data": {
      "image/png": "[encoded data removed]",
      "text/plain": [
       "<matplotlib.figure.Figure at 0x10fdb30f0>"
      ]
     },
     "metadata": {},
     "output_type": "display_data"
    }
   ],
   "source": [
    "w,loss=grad_descent(X,y,w0,1,1000,10^(-6),0)\n",
    "plt.plot(loss)\n",
    "plt.title('alpha равна 1')\n",
    "plt.xlabel('iterations')\n",
    "plt.ylabel('loss')"
   ]
  },
  {
   "cell_type": "code",
   "execution_count": 255,
   "metadata": {
    "collapsed": false
   },
   "outputs": [
    {
     "data": {
      "text/plain": [
       "<matplotlib.text.Text at 0x119ffe470>"
      ]
     },
     "execution_count": 255,
     "metadata": {},
     "output_type": "execute_result"
    },
    {
     "data": {
      "image/png": "[encoded data removed]",
      "text/plain": [
       "<matplotlib.figure.Figure at 0x1193f75f8>"
      ]
     },
     "metadata": {},
     "output_type": "display_data"
    }
   ],
   "source": [
    "w,loss=grad_descent(X,y,w0,10,1000,10^(-6),0)\n",
    "plt.plot(loss)\n",
    "plt.title('alpha равна 10')\n",
    "plt.xlabel('iterations')\n",
    "plt.ylabel('loss')"
   ]
  },
  {
   "cell_type": "markdown",
   "metadata": {},
   "source": [
    "Параметры однозначно влияют на сходимость и качество : при больших step_size (alpha) сходимость заметно быстрее, однако при слишком больших шагах появляется вероятность \"проскочить\" точку минимума функционала, в связи с чем градиент не сойдется. Также отметим, что качество выше при случайных весах, градиент сходится быстрее, в то время как при значении шага 0.001 и нулевых начальных весах градиент не сошелся и вовсе.  "
   ]
  },
  {
   "cell_type": "markdown",
   "metadata": {},
   "source": [
    "**17. (0.5 балла)** Обучите линейную регрессию с функционалом MSPE и его регуляризованным вариантом на обучающей выборке при помощи метода градиентного спуска и изобразите кривые зависимости значения функционала от номера итерации. Исследуйте зависимость скорости сходимости от наличия регуляризации. Обоснуйте, почему так происходит."
   ]
  },
  {
   "cell_type": "markdown",
   "metadata": {},
   "source": [
    "Возьмем для этого пункта случайные веса"
   ]
  },
  {
   "cell_type": "code",
   "execution_count": 257,
   "metadata": {
    "collapsed": true
   },
   "outputs": [],
   "source": [
    "w0=np.random.normal(size=X.shape[1])"
   ]
  },
  {
   "cell_type": "code",
   "execution_count": 822,
   "metadata": {
    "collapsed": false
   },
   "outputs": [
    {
     "data": {
      "text/plain": [
       "<matplotlib.text.Text at 0x14ae2efd0>"
      ]
     },
     "execution_count": 822,
     "metadata": {},
     "output_type": "execute_result"
    },
    {
     "data": {
      "image/png": "[encoded data removed]",
      "text/plain": [
       "<matplotlib.figure.Figure at 0x1150b1f60>"
      ]
     },
     "metadata": {},
     "output_type": "display_data"
    }
   ],
   "source": [
    "w_01, loss= grad_descent(X, y,w0, step_size=0.01, max_iter=300, eps=10^(-6), is_reg=False)\n",
    "plt.plot(loss)\n",
    "plt.title('шаг равен 0.1 + регуляризации нет')\n",
    "plt.xlabel('iterations')\n",
    "plt.ylabel('loss')"
   ]
  },
  {
   "cell_type": "code",
   "execution_count": 261,
   "metadata": {
    "collapsed": false
   },
   "outputs": [
    {
     "data": {
      "text/plain": [
       "<matplotlib.text.Text at 0x11b550470>"
      ]
     },
     "execution_count": 261,
     "metadata": {},
     "output_type": "execute_result"
    },
    {
     "data": {
      "image/png": "[encoded data removed]",
      "text/plain": [
       "<matplotlib.figure.Figure at 0x11b08b7b8>"
      ]
     },
     "metadata": {},
     "output_type": "display_data"
    }
   ],
   "source": [
    "w, loss= grad_descent(X, y,w0, step_size=0.01, max_iter=1000, eps=10^(-6), is_reg=True)\n",
    "plt.plot(loss)\n",
    "plt.title('шаг равен 0.1 + регуляризация')\n",
    "plt.xlabel('iterations')\n",
    "plt.ylabel('loss')"
   ]
  },
  {
   "cell_type": "markdown",
   "metadata": {},
   "source": [
    "Cкорость сходимости выше при регуляризации, это можно вывести исходя из форулы градиента (за счет квадрата весов в формуле производная будет больше)"
   ]
  },
  {
   "cell_type": "markdown",
   "metadata": {},
   "source": [
    "Метод градиентного спуска может быть весьма трудозатратен в случае большого размера обучающей выборки. Поэтому часто используют метод стохастического градиентного спуска, где на каждой итерации выбирается случайный объект из обучающей выборки и обновление весов происходит только по этому объекту. \n",
    "\n",
    "**18*. (1 бонусный балл)**  Реализуйте метод стохастического градиентного спуска (SGD) для описанных функционалов ($MSPE$ и его регуляризованный вариант). Функция должна иметь параметры и возвращаемое значение, аналогичные оным функции grad\\_descent из п.21. Кроме того, должен использоваться аналогичный критерий останова."
   ]
  },
  {
   "cell_type": "code",
   "execution_count": 312,
   "metadata": {
    "collapsed": false
   },
   "outputs": [],
   "source": [
    "def sgd(X, y,w0, step_size, max_iter, eps, is_reg):\n",
    "        loss=[]\n",
    "        for i in range(0, max_iter):\n",
    "                random_X=random.choice(X)\n",
    "                random_y=float(y[np.where(np.all(X==random_X,axis=1))])\n",
    "                if is_reg:\n",
    "                        loss.append(get_reg_func(w0, random_X, random_y))\n",
    "                        w=w0-step_size*get_reg_grad(w0,random_X, random_y)\n",
    "                        if np.sum(np.square(w-w0))<eps:\n",
    "                            print('остановка на итерации',i)\n",
    "                            break\n",
    "                        w0=w\n",
    "                else:\n",
    "                        loss.append(get_func(w0,random_X, random_y))\n",
    "                        w=w0-step_size*get_grad(w0,random_X, random_y)\n",
    "                        if np.sum(np.square(w-w0))<eps:\n",
    "                            print('остановка на итерации',i)                            \n",
    "                            break\n",
    "                        w0=w    \n",
    "        return w0,loss  "
   ]
  },
  {
   "cell_type": "code",
   "execution_count": 501,
   "metadata": {
    "collapsed": true
   },
   "outputs": [],
   "source": [
    "X=np.asarray(X_train)\n",
    "y=np.asarray(y_train)"
   ]
  },
  {
   "cell_type": "markdown",
   "metadata": {},
   "source": [
    "Обучите линейную регрессию с функционалом $MSPE$ и его регуляризованным вариантом на обучающей выборке при помощи метода стохастического градиентного спуска, подобрав при этом размер шага, при котором метод будет сходиться. Нарисуйте график сходимости. Выведите значения $MSPE, MSE, R^2$ на контрольной выборке."
   ]
  },
  {
   "cell_type": "code",
   "execution_count": 621,
   "metadata": {
    "collapsed": false
   },
   "outputs": [
    {
     "data": {
      "text/plain": [
       "<matplotlib.text.Text at 0x16fef3400>"
      ]
     },
     "execution_count": 621,
     "metadata": {},
     "output_type": "execute_result"
    },
    {
     "data": {
      "image/png": "[encoded data removed]",
      "text/plain": [
       "<matplotlib.figure.Figure at 0x16e7cd400>"
      ]
     },
     "metadata": {},
     "output_type": "display_data"
    }
   ],
   "source": [
    "w0=np.array([555]*X.shape[1])\n",
    "w_sgd_reg, loss= sgd(X, y,w0,step_size=0.004, max_iter=470, eps=10^(-4), is_reg=1)\n",
    "plt.plot(loss)\n",
    "plt.title('SGD')\n",
    "plt.xlabel('iterations')\n",
    "plt.ylabel('loss')"
   ]
  },
  {
   "cell_type": "code",
   "execution_count": 622,
   "metadata": {
    "collapsed": false
   },
   "outputs": [
    {
     "name": "stdout",
     "output_type": "stream",
     "text": [
      "MSPE для контрольной выборки: 103649.29\n",
      "Mean squared error для контрольной выборки: 5573.46\n",
      "R2 для контрольной выборки: 0.03\n"
     ]
    }
   ],
   "source": [
    "print(\"MSPE для контрольной выборки: %.2f\"\n",
    "    % get_reg_func(w_sgd_reg, X_test, y_test))\n",
    "print(\"Mean squared error для контрольной выборки: %.2f\"\n",
    "      % mean_squared_error(make_pred(X_test, w_sgd_reg), y_test))\n",
    "print('R2 для контрольной выборки: %.2f' % r2_score(make_pred(X_test, w_sgd_reg), y_test))"
   ]
  },
  {
   "cell_type": "code",
   "execution_count": 614,
   "metadata": {
    "collapsed": false
   },
   "outputs": [
    {
     "data": {
      "text/plain": [
       "<matplotlib.text.Text at 0x16eeb2128>"
      ]
     },
     "execution_count": 614,
     "metadata": {},
     "output_type": "execute_result"
    },
    {
     "data": {
      "image/png": "[encoded data removed]",
      "text/plain": [
       "<matplotlib.figure.Figure at 0x16e46d8d0>"
      ]
     },
     "metadata": {},
     "output_type": "display_data"
    }
   ],
   "source": [
    "w0=np.array([555]*X.shape[1])\n",
    "w_sgd, loss= sgd(X, y,w0,step_size=0.1, max_iter=450, eps=10^(-4), is_reg=0)\n",
    "plt.plot(loss)\n",
    "plt.title('SGD')\n",
    "plt.xlabel('iterations')\n",
    "plt.ylabel('loss')"
   ]
  },
  {
   "cell_type": "code",
   "execution_count": 559,
   "metadata": {
    "collapsed": false
   },
   "outputs": [
    {
     "name": "stdout",
     "output_type": "stream",
     "text": [
      "MSPE для контрольной выборки: 19367.12\n",
      "Mean squared error для контрольной выборки: 853.11\n",
      "R2 для контрольной выборки: 0.34\n"
     ]
    }
   ],
   "source": [
    "print(\"MSPE для контрольной выборки: %.2f\"\n",
    "    % get_reg_func(w_sgd, X_test, y_test))\n",
    "print(\"Mean squared error для контрольной выборки: %.2f\"\n",
    "      % mean_squared_error(make_pred(X_test, w_sgd), y_test))\n",
    "print('R2 для контрольной выборки: %.2f' % r2_score(make_pred(X_test, w_sgd), y_test))"
   ]
  },
  {
   "cell_type": "markdown",
   "metadata": {},
   "source": [
    "**19*. (0.5 бонусного балла)** Аналогично п.17 исследуйте зависимость скорости сходимости метода SGD от наличия регуляризации. Обоснуйте, почему так происходит."
   ]
  },
  {
   "cell_type": "markdown",
   "metadata": {
    "collapsed": true
   },
   "source": [
    "Заметим, что сходимость SGD без регуляризации очень плохая и при том медленнее, чем при регуляризации. Это можно объяснить, что возможность назначать любые веса каждому объекту в отдельности назначает слишком разные веса на каждой итерации."
   ]
  },
  {
   "cell_type": "markdown",
   "metadata": {},
   "source": [
    "**20. (0.5 балла)** Обучите стандартную линейную регрессию с функционалом качества MSE на обучающей выборке и выведите значение MSPE полученного решения на контрольной выборке. Как оно соотносится с аналогичным результатом для решения, полученного в п.17? Почему?"
   ]
  },
  {
   "cell_type": "code",
   "execution_count": 363,
   "metadata": {
    "collapsed": false
   },
   "outputs": [
    {
     "data": {
      "text/plain": [
       "1.1672465130057803e+23"
      ]
     },
     "execution_count": 363,
     "metadata": {},
     "output_type": "execute_result"
    }
   ],
   "source": [
    "LR = linear_model.LinearRegression()\n",
    "LR.fit(X_train, y_train)\n",
    "y_pred = make_pred(X_test,LR.coef_)\n",
    "get_func(LR.coef_,X_test, y_test)"
   ]
  },
  {
   "cell_type": "markdown",
   "metadata": {},
   "source": [
    "Возьмем веса GD с шагом 0.01"
   ]
  },
  {
   "cell_type": "code",
   "execution_count": null,
   "metadata": {
    "collapsed": true
   },
   "outputs": [],
   "source": [
    "get_func(w_01, X_test, y_test)"
   ]
  },
  {
   "cell_type": "markdown",
   "metadata": {},
   "source": [
    "Нерегуляризованная линейная регрессия является более простым алгоритмом и назначает большие веса на признаки, что ведет к плохим прогнозам. SGD + регуляризация позволяют достигать лучшей работы алгоритма."
   ]
  }
 ],
 "metadata": {
  "anaconda-cloud": {},
  "kernelspec": {
   "display_name": "Python [conda root]",
   "language": "python",
   "name": "conda-root-py"
  },
  "language_info": {
   "codemirror_mode": {
    "name": "ipython",
    "version": 3
   },
   "file_extension": ".py",
   "mimetype": "text/x-python",
   "name": "python",
   "nbconvert_exporter": "python",
   "pygments_lexer": "ipython3",
   "version": "3.5.2"
  }
 },
 "nbformat": 4,
 "nbformat_minor": 0
}
