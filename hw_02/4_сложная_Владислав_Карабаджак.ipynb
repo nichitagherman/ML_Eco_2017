{
 "cells": [
  {
   "cell_type": "markdown",
   "metadata": {},
   "source": [
    "# Машинное обучение, ФЭН ВШЭ\n",
    "\n",
    "# Практическое задание 2\n",
    "(Основано на материалах курса машинного обучения на фкн)\n",
    "\n",
    "## Общая информация\n",
    "\n",
    "Дата выдачи: 21.09.2017\n",
    "\n",
    "Срок сдачи: 8.10.2017 23:59MSK\n",
    "\n",
    "### О задании\n",
    "\n",
    "Практическое задание 1 посвящено изучению основных библиотек для анализа данных, а также линейных моделей и методов их обучения. Вы научитесь:\n",
    " * применять библиотеку NumPy;\n",
    " * подготавливать данные для обучения линейных моделей;\n",
    " * обучать линейную, Lasso и Ridge-регрессии при помощи модуля scikit-learn;\n",
    " * реализовывать обычный и стохастический градиентные спуски;\n",
    " * обучать линейную регрессию для произвольного функционала качества.\n",
    " \n",
    "\n",
    "### Оценивание и штрафы\n",
    "\n",
    "Каждая из задач имеет определенную «стоимость» (указана в скобках около задачи). Максимально допустимая оценка за работу — 10 баллов. Кроме того, некоторые из заданий являются опциональными (необязательными), однако за их выполнение можно получить дополнительные баллы.\n",
    "\n",
    "\n",
    "Задание выполняется самостоятельно. «Похожие» решения считаются плагиатом и все задействованные студенты (в том числе те, у кого списали) не могут получить за него больше 0 баллов (подробнее о плагиате см. на странице курса). Если вы нашли решение какого-то из заданий (или его часть) в открытом источнике, необходимо указать ссылку на этот источник в отдельном блоке в конце Вашей работы (скорее всего вы будете не единственным, кто это нашел, поэтому чтобы исключить подозрение в плагиате, необходима ссылка на источник). \n",
    "\n",
    "Неэффективная реализация кода может негативно отразиться на оценке.\n",
    "\n",
    "\n",
    "### Формат сдачи\n",
    "Для сдачи задания переименуйте получившийся файл \\*.ipynb в соответствии со следующим форматом: *HW1_Username.ipynb*, где *Username* — Ваша фамилия и инициалы на латинице (например, *HW1_IvanovII.ipynb*). Далее отправьте этот файл на почту курса, указав соответствующую тему (см. вики-страничку курча)."
   ]
  },
  {
   "cell_type": "markdown",
   "metadata": {},
   "source": [
    "## Библиотеки для анализа данных\n",
    "\n",
    "### NumPy\n",
    "\n",
    "Во всех заданиях данного раздела запрещено использовать циклы  и list comprehensions. Под вектором и матрицей в данных заданиях понимается одномерный и двумерный numpy.array соответственно."
   ]
  },
  {
   "cell_type": "code",
   "execution_count": 63,
   "metadata": {
    "collapsed": true
   },
   "outputs": [],
   "source": [
    "import numpy as np"
   ]
  },
  {
   "cell_type": "markdown",
   "metadata": {},
   "source": [
    "**1. (0.3 балла)** Реализуйте функцию, возвращающую максимальный элемент в векторе x среди элементов, перед которыми стоит нулевой. Для x = np.array([6, 2, 0, 3, 0, 0, 5, 7, 0]) ответом является 5. Если нулевых элементов нет, функция должна возвращать None.\n"
   ]
  },
  {
   "cell_type": "code",
   "execution_count": 64,
   "metadata": {
    "collapsed": false
   },
   "outputs": [],
   "source": [
    "def max_element(arr):\n",
    "    next_to_zero = np.where(x == 0)[0] + 1\n",
    "    if len(next_to_zero != 0) and arr[-1]==0:\n",
    "        next_to_zero = next_to_zero[0:-1]\n",
    "        return max(arr[next_to_zero])\n",
    "    elif len(next_to_zero != 0):\n",
    "        return max(arr[next_to_zero])\n",
    "    else:\n",
    "        print('None')"
   ]
  },
  {
   "cell_type": "code",
   "execution_count": 65,
   "metadata": {
    "collapsed": false
   },
   "outputs": [
    {
     "data": {
      "text/plain": [
       "5"
      ]
     },
     "execution_count": 65,
     "metadata": {},
     "output_type": "execute_result"
    }
   ],
   "source": [
    "x = np.array([6, 2, 0, 3, 0, 0, 5, 7, 0])\n",
    "max_element(x)"
   ]
  },
  {
   "cell_type": "markdown",
   "metadata": {},
   "source": [
    "**2. (0.3 балла)** Реализуйте функцию, принимающую на вход матрицу и некоторое число и возвращающую ближайший к числу элемент матрицы. Например: для X = np.arange(0,10).reshape((2, 5)) и v = 3.6 ответом будет 4."
   ]
  },
  {
   "cell_type": "code",
   "execution_count": 68,
   "metadata": {
    "collapsed": false
   },
   "outputs": [
    {
     "data": {
      "text/plain": [
       "4"
      ]
     },
     "execution_count": 68,
     "metadata": {},
     "output_type": "execute_result"
    }
   ],
   "source": [
    "def nearest_value(X, v):\n",
    "    X = np.reshape(X, len(X)*len(X.T))\n",
    "    min_ind = np.abs(X - v).argmin()\n",
    "    return X[int(min_ind)]\n",
    "X = np.arange(0,10).reshape((2, 5))\n",
    "v = 3.6\n",
    "nearest_value(X, v)"
   ]
  },
  {
   "cell_type": "markdown",
   "metadata": {},
   "source": [
    "**3. (0.3 балла)** Реализуйте функцию scale(X), которая принимает на вход матрицу и масштабирует каждый ее столбец (вычитает выборочное среднее и делит на стандартное отклонение). Убедитесь, что в функции не будет происходить деления на ноль. Протестируйте на случайной матрице (для её генерации можно использовать, например, функцию [numpy.random.randint](http://docs.scipy.org/doc/numpy/reference/generated/numpy.random.randint.html))."
   ]
  },
  {
   "cell_type": "code",
   "execution_count": 69,
   "metadata": {
    "collapsed": false
   },
   "outputs": [],
   "source": [
    "def scale(X):\n",
    "    if np.std(X) == 0:\n",
    "        print('Division by zero')\n",
    "    else:\n",
    "        X = (X - np.mean(X))/np.std(X)\n",
    "        return X"
   ]
  },
  {
   "cell_type": "code",
   "execution_count": 70,
   "metadata": {
    "collapsed": false
   },
   "outputs": [
    {
     "data": {
      "text/plain": [
       "array([[ 0.18290856, -1.04551439, -1.04551439,  0.58033952],\n",
       "       [ 1.12229082, -1.04551439,  1.194551  ,  0.32742891],\n",
       "       [-0.32291265,  1.33907134, -0.82873387,  0.363559  ],\n",
       "       [ 0.61646961,  1.41133152, -0.97325421, -1.87650639]])"
      ]
     },
     "execution_count": 70,
     "metadata": {},
     "output_type": "execute_result"
    }
   ],
   "source": [
    "Y = np.random.randint(100, size=16).reshape((4, 4))\n",
    "scale(Y)"
   ]
  },
  {
   "cell_type": "markdown",
   "metadata": {},
   "source": [
    "**4. (0.3 балла)** Реализуйте функцию, которая для заданной матрицы находит:\n",
    " - определитель\n",
    " - след\n",
    " - наименьший и наибольший элементы\n",
    " - норму Фробениуса\n",
    " - собственные числа\n",
    " - обратную матрицу\n",
    "\n",
    "Для тестирования сгенерируйте матрицу с элементами из нормального распределения $\\mathcal{N}$(10,1)"
   ]
  },
  {
   "cell_type": "code",
   "execution_count": 71,
   "metadata": {
    "collapsed": false
   },
   "outputs": [
    {
     "data": {
      "text/plain": [
       "array([[60, 26, 26, 71],\n",
       "       [86, 26, 88, 64],\n",
       "       [46, 92, 32, 65],\n",
       "       [72, 94, 28,  3]])"
      ]
     },
     "execution_count": 71,
     "metadata": {},
     "output_type": "execute_result"
    }
   ],
   "source": [
    "Y"
   ]
  },
  {
   "cell_type": "code",
   "execution_count": 75,
   "metadata": {
    "collapsed": false
   },
   "outputs": [
    {
     "data": {
      "text/plain": [
       "(22939615.999999996,\n",
       " 121,\n",
       " 94,\n",
       " 3,\n",
       " 246.06300006299199,\n",
       " (array([ 217.38295302 +0.j        ,   25.14142611 +0.j        ,\n",
       "          -60.76218957+22.47806635j,  -60.76218957-22.47806635j]),\n",
       "  array([[ 0.39283466+0.j        ,  0.67116994+0.j        ,\n",
       "           0.37874197+0.07574961j,  0.37874197-0.07574961j],\n",
       "         [ 0.58089366+0.j        , -0.30621527+0.j        ,\n",
       "           0.21272909-0.33457402j,  0.21272909+0.33457402j],\n",
       "         [ 0.54633972+0.j        , -0.67445324+0.j        ,\n",
       "           0.06568378+0.3101778j ,  0.06568378-0.3101778j ],\n",
       "         [ 0.45799169+0.j        ,  0.02959654+0.j        ,\n",
       "          -0.77012885+0.j        , -0.77012885-0.j        ]])),\n",
       " array([[ 0.0192209 , -0.00332124, -0.01835096,  0.01356274],\n",
       "        [-0.00812603, -0.00250588,  0.01122373,  0.00259411],\n",
       "        [-0.0231404 ,  0.01722993,  0.00862578, -0.00680744],\n",
       "        [ 0.00929118, -0.00258522,  0.00823902, -0.00991856]]))"
      ]
     },
     "execution_count": 75,
     "metadata": {},
     "output_type": "execute_result"
    }
   ],
   "source": [
    "def get_stats(X):\n",
    "    det = np.linalg.det(X)\n",
    "    trace = np.trace(X)\n",
    "    max_elem = X.max()\n",
    "    min_elem = X.min()\n",
    "    norm = np.linalg.norm(X)\n",
    "    eig = np.linalg.eig(X)\n",
    "    inv = np.linalg.inv(X)\n",
    "    return det, trace, max_elem, min_elem, norm, eig, inv\n",
    "get_stats(Y)"
   ]
  },
  {
   "cell_type": "markdown",
   "metadata": {},
   "source": [
    "**5. (0.3 балла)** Повторите 100 раз следующий эксперимент: сгенерируйте две матрицы размера 10×10 из стандартного нормального распределения, перемножьте их (как матрицы) и найдите максимальный элемент. Какое среднее значение по экспериментам у максимальных элементов? 95-процентная квантиль?"
   ]
  },
  {
   "cell_type": "code",
   "execution_count": null,
   "metadata": {
    "collapsed": false,
    "scrolled": true
   },
   "outputs": [],
   "source": [
    "for exp_num in range(100):\n",
    "    a = np.random.randn(10, 10)\n",
    "    b = np.random.randn(10, 10)\n",
    "    print('Максимальный элемент:', np.matmul(a, b).max())\n"
   ]
  },
  {
   "cell_type": "markdown",
   "metadata": {},
   "source": [
    "## Линейная регрессия\n",
    "\n",
    "В этой части мы разберемся с линейной регрессией, способами её обучения и измерением качества ее прогнозов. \n",
    "\n",
    "Будем рассматривать данные по авиарейсам в США за январь-апрель 2008 года для предсказания времени задержки отправления рейса в минутах (DepDelay). Отметим, что под задержкой подразумевается не только опоздание рейса относительно планируемого времени вылета, но и отправление до планируемого времени.\n",
    "\n",
    "\n",
    "[Данные](https://www.dropbox.com/s/dvfitn93obn0rql/2008.csv?dl=0) и их [описание](http://stat-computing.org/dataexpo/2009/the-data.html)\n",
    "\n",
    "### Подготовка данных\n",
    "\n",
    "**6. (0.75 балла)** Считайте выборку из файла при помощи функции pd.read_csv и ответьте на следующие вопросы:\n",
    "   - Имеются ли в данных пропущенные значения?\n",
    "   - Сколько всего пропущенных элементов в таблице \"объект-признак\"?\n",
    "   - Сколько объектов имеют хотя бы один пропуск?\n",
    "   - Сколько признаков имеют хотя бы одно пропущенное значение?"
   ]
  },
  {
   "cell_type": "code",
   "execution_count": 1,
   "metadata": {
    "collapsed": true,
    "scrolled": true
   },
   "outputs": [],
   "source": [
    "import pandas as pd\n",
    "import numpy as np\n",
    "df = pd.read_csv('2008.csv')"
   ]
  },
  {
   "cell_type": "code",
   "execution_count": 2,
   "metadata": {
    "collapsed": false
   },
   "outputs": [
    {
     "data": {
      "text/html": [
       "<div>\n",
       "<table border=\"1\" class=\"dataframe\">\n",
       "  <thead>\n",
       "    <tr style=\"text-align: right;\">\n",
       "      <th></th>\n",
       "      <th>Year</th>\n",
       "      <th>Month</th>\n",
       "      <th>DayofMonth</th>\n",
       "      <th>DayOfWeek</th>\n",
       "      <th>DepTime</th>\n",
       "      <th>CRSDepTime</th>\n",
       "      <th>ArrTime</th>\n",
       "      <th>CRSArrTime</th>\n",
       "      <th>UniqueCarrier</th>\n",
       "      <th>FlightNum</th>\n",
       "      <th>...</th>\n",
       "      <th>TaxiIn</th>\n",
       "      <th>TaxiOut</th>\n",
       "      <th>Cancelled</th>\n",
       "      <th>CancellationCode</th>\n",
       "      <th>Diverted</th>\n",
       "      <th>CarrierDelay</th>\n",
       "      <th>WeatherDelay</th>\n",
       "      <th>NASDelay</th>\n",
       "      <th>SecurityDelay</th>\n",
       "      <th>LateAircraftDelay</th>\n",
       "    </tr>\n",
       "  </thead>\n",
       "  <tbody>\n",
       "    <tr>\n",
       "      <th>0</th>\n",
       "      <td>2008</td>\n",
       "      <td>6</td>\n",
       "      <td>18</td>\n",
       "      <td>3</td>\n",
       "      <td>2111.0</td>\n",
       "      <td>2055</td>\n",
       "      <td>2308.0</td>\n",
       "      <td>2300</td>\n",
       "      <td>WN</td>\n",
       "      <td>242</td>\n",
       "      <td>...</td>\n",
       "      <td>3.0</td>\n",
       "      <td>8.0</td>\n",
       "      <td>0</td>\n",
       "      <td>NaN</td>\n",
       "      <td>0</td>\n",
       "      <td>NaN</td>\n",
       "      <td>NaN</td>\n",
       "      <td>NaN</td>\n",
       "      <td>NaN</td>\n",
       "      <td>NaN</td>\n",
       "    </tr>\n",
       "    <tr>\n",
       "      <th>1</th>\n",
       "      <td>2008</td>\n",
       "      <td>6</td>\n",
       "      <td>4</td>\n",
       "      <td>3</td>\n",
       "      <td>1426.0</td>\n",
       "      <td>1410</td>\n",
       "      <td>1730.0</td>\n",
       "      <td>1728</td>\n",
       "      <td>XE</td>\n",
       "      <td>2380</td>\n",
       "      <td>...</td>\n",
       "      <td>4.0</td>\n",
       "      <td>12.0</td>\n",
       "      <td>0</td>\n",
       "      <td>NaN</td>\n",
       "      <td>0</td>\n",
       "      <td>NaN</td>\n",
       "      <td>NaN</td>\n",
       "      <td>NaN</td>\n",
       "      <td>NaN</td>\n",
       "      <td>NaN</td>\n",
       "    </tr>\n",
       "    <tr>\n",
       "      <th>2</th>\n",
       "      <td>2008</td>\n",
       "      <td>8</td>\n",
       "      <td>3</td>\n",
       "      <td>7</td>\n",
       "      <td>1143.0</td>\n",
       "      <td>1145</td>\n",
       "      <td>1501.0</td>\n",
       "      <td>1520</td>\n",
       "      <td>WN</td>\n",
       "      <td>1769</td>\n",
       "      <td>...</td>\n",
       "      <td>4.0</td>\n",
       "      <td>9.0</td>\n",
       "      <td>0</td>\n",
       "      <td>NaN</td>\n",
       "      <td>0</td>\n",
       "      <td>NaN</td>\n",
       "      <td>NaN</td>\n",
       "      <td>NaN</td>\n",
       "      <td>NaN</td>\n",
       "      <td>NaN</td>\n",
       "    </tr>\n",
       "    <tr>\n",
       "      <th>3</th>\n",
       "      <td>2008</td>\n",
       "      <td>1</td>\n",
       "      <td>23</td>\n",
       "      <td>3</td>\n",
       "      <td>1141.0</td>\n",
       "      <td>1144</td>\n",
       "      <td>1323.0</td>\n",
       "      <td>1335</td>\n",
       "      <td>OO</td>\n",
       "      <td>3802</td>\n",
       "      <td>...</td>\n",
       "      <td>4.0</td>\n",
       "      <td>19.0</td>\n",
       "      <td>0</td>\n",
       "      <td>NaN</td>\n",
       "      <td>0</td>\n",
       "      <td>NaN</td>\n",
       "      <td>NaN</td>\n",
       "      <td>NaN</td>\n",
       "      <td>NaN</td>\n",
       "      <td>NaN</td>\n",
       "    </tr>\n",
       "    <tr>\n",
       "      <th>4</th>\n",
       "      <td>2008</td>\n",
       "      <td>5</td>\n",
       "      <td>4</td>\n",
       "      <td>7</td>\n",
       "      <td>815.0</td>\n",
       "      <td>820</td>\n",
       "      <td>1243.0</td>\n",
       "      <td>1300</td>\n",
       "      <td>WN</td>\n",
       "      <td>399</td>\n",
       "      <td>...</td>\n",
       "      <td>4.0</td>\n",
       "      <td>8.0</td>\n",
       "      <td>0</td>\n",
       "      <td>NaN</td>\n",
       "      <td>0</td>\n",
       "      <td>NaN</td>\n",
       "      <td>NaN</td>\n",
       "      <td>NaN</td>\n",
       "      <td>NaN</td>\n",
       "      <td>NaN</td>\n",
       "    </tr>\n",
       "  </tbody>\n",
       "</table>\n",
       "<p>5 rows × 29 columns</p>\n",
       "</div>"
      ],
      "text/plain": [
       "   Year  Month  DayofMonth  DayOfWeek  DepTime  CRSDepTime  ArrTime  \\\n",
       "0  2008      6          18          3   2111.0        2055   2308.0   \n",
       "1  2008      6           4          3   1426.0        1410   1730.0   \n",
       "2  2008      8           3          7   1143.0        1145   1501.0   \n",
       "3  2008      1          23          3   1141.0        1144   1323.0   \n",
       "4  2008      5           4          7    815.0         820   1243.0   \n",
       "\n",
       "   CRSArrTime UniqueCarrier  FlightNum        ...         TaxiIn  TaxiOut  \\\n",
       "0        2300            WN        242        ...            3.0      8.0   \n",
       "1        1728            XE       2380        ...            4.0     12.0   \n",
       "2        1520            WN       1769        ...            4.0      9.0   \n",
       "3        1335            OO       3802        ...            4.0     19.0   \n",
       "4        1300            WN        399        ...            4.0      8.0   \n",
       "\n",
       "   Cancelled  CancellationCode  Diverted  CarrierDelay WeatherDelay NASDelay  \\\n",
       "0          0               NaN         0           NaN          NaN      NaN   \n",
       "1          0               NaN         0           NaN          NaN      NaN   \n",
       "2          0               NaN         0           NaN          NaN      NaN   \n",
       "3          0               NaN         0           NaN          NaN      NaN   \n",
       "4          0               NaN         0           NaN          NaN      NaN   \n",
       "\n",
       "   SecurityDelay  LateAircraftDelay  \n",
       "0            NaN                NaN  \n",
       "1            NaN                NaN  \n",
       "2            NaN                NaN  \n",
       "3            NaN                NaN  \n",
       "4            NaN                NaN  \n",
       "\n",
       "[5 rows x 29 columns]"
      ]
     },
     "execution_count": 2,
     "metadata": {},
     "output_type": "execute_result"
    }
   ],
   "source": [
    "df.head()"
   ]
  },
  {
   "cell_type": "code",
   "execution_count": 3,
   "metadata": {
    "collapsed": false
   },
   "outputs": [
    {
     "data": {
      "text/plain": [
       "Year                     0\n",
       "Month                    0\n",
       "DayofMonth               0\n",
       "DayOfWeek                0\n",
       "DepTime               1399\n",
       "CRSDepTime               0\n",
       "ArrTime               1556\n",
       "CRSArrTime               0\n",
       "UniqueCarrier            0\n",
       "FlightNum                0\n",
       "TailNum                820\n",
       "ActualElapsedTime     1582\n",
       "CRSElapsedTime           9\n",
       "AirTime               1582\n",
       "ArrDelay              1582\n",
       "DepDelay              1399\n",
       "Origin                   0\n",
       "Dest                     0\n",
       "Distance                 0\n",
       "TaxiIn                1556\n",
       "TaxiOut               1406\n",
       "Cancelled                0\n",
       "CancellationCode     68589\n",
       "Diverted                 0\n",
       "CarrierDelay         54747\n",
       "WeatherDelay         54747\n",
       "NASDelay             54747\n",
       "SecurityDelay        54747\n",
       "LateAircraftDelay    54747\n",
       "dtype: int64"
      ]
     },
     "execution_count": 3,
     "metadata": {},
     "output_type": "execute_result"
    }
   ],
   "source": [
    "pd.isnull(df).sum()"
   ]
  },
  {
   "cell_type": "markdown",
   "metadata": {
    "collapsed": true
   },
   "source": [
    "Как мы видим, пропущенные значения есть и немало! Посмотрим, сколько всего пропущенных значений, а также их долю в общей массе данных."
   ]
  },
  {
   "cell_type": "code",
   "execution_count": 4,
   "metadata": {
    "collapsed": false
   },
   "outputs": [
    {
     "name": "stdout",
     "output_type": "stream",
     "text": [
      "355215\n",
      "0.17498275862068965\n"
     ]
    }
   ],
   "source": [
    "total_nan = pd.isnull(df).sum().sum()\n",
    "nan_rate = total_nan/(len(df)*len(df.columns))\n",
    "print(total_nan, nan_rate, sep = '\\n')"
   ]
  },
  {
   "cell_type": "markdown",
   "metadata": {
    "collapsed": true
   },
   "source": [
    "Как мы видим, как сам объем пропущенных, так и их доля довольно высока"
   ]
  },
  {
   "cell_type": "markdown",
   "metadata": {},
   "source": [
    "Также мы видим, что, судя по полученным количествам NaN, всего 68589 объектов имеют хотя бы 1 пропуск, а также 15 признаков имеют пропущенные значения."
   ]
  },
  {
   "cell_type": "markdown",
   "metadata": {},
   "source": [
    "-----------------------------------------------------"
   ]
  },
  {
   "cell_type": "markdown",
   "metadata": {},
   "source": [
    "Как вы понимаете, также не имеет смысла рассматривать при решении поставленной задачи объекты с пропущенным значением целевой переменной. В связи с этим ответьте на следующие вопросы и выполните соответствующие действия:\n",
    "- Имеются ли пропущенные значения в целевой переменной?\n",
    "- Проанализируйте объекты с пропущенными значениями целевой переменной. Чем вызвано это явление? Что их объединяет? Можно ли в связи с этим, на ваш взгляд, исключить какие-то признаки из рассмотрения? Обоснуйте свою точку зрения.\n",
    "\n",
    "Исключите из выборки объекты **с пропущенным значением целевой переменной и со значением целевой переменной, равным 0**, а также при необходимости исключите признаки в соответствии с вашим ответом на последний вопрос из списка и выделите целевую переменную в отдельный вектор, исключив её из матрицы \"объект-признак\"."
   ]
  },
  {
   "cell_type": "markdown",
   "metadata": {
    "collapsed": true
   },
   "source": [
    "В целевой переменной есть 1399 пропущенных значений. Как мы видим почти все объекты в нашем датафрейме имеют пропущенные данные (только около полутора тысяч таковыми не являются). Для анализа авиаперевозок это нормальная ситуация, поскольку очень часто данные по времени прилета/вылета, количества зарегистрированных пассажиров и прочего попросту теряется (в основном, ввиду технических причин). Далее подумаем о признаках, которые могут потенциально быть удалены из анализа ввиду ненадобности. "
   ]
  },
  {
   "cell_type": "code",
   "execution_count": 5,
   "metadata": {
    "collapsed": false
   },
   "outputs": [
    {
     "data": {
      "text/html": [
       "<div>\n",
       "<table border=\"1\" class=\"dataframe\">\n",
       "  <thead>\n",
       "    <tr style=\"text-align: right;\">\n",
       "      <th></th>\n",
       "      <th>Year</th>\n",
       "      <th>Month</th>\n",
       "      <th>DayofMonth</th>\n",
       "      <th>DayOfWeek</th>\n",
       "      <th>DepTime</th>\n",
       "      <th>CRSDepTime</th>\n",
       "      <th>ArrTime</th>\n",
       "      <th>CRSArrTime</th>\n",
       "      <th>UniqueCarrier</th>\n",
       "      <th>FlightNum</th>\n",
       "      <th>...</th>\n",
       "      <th>TaxiIn</th>\n",
       "      <th>TaxiOut</th>\n",
       "      <th>Cancelled</th>\n",
       "      <th>CancellationCode</th>\n",
       "      <th>Diverted</th>\n",
       "      <th>CarrierDelay</th>\n",
       "      <th>WeatherDelay</th>\n",
       "      <th>NASDelay</th>\n",
       "      <th>SecurityDelay</th>\n",
       "      <th>LateAircraftDelay</th>\n",
       "    </tr>\n",
       "  </thead>\n",
       "  <tbody>\n",
       "    <tr>\n",
       "      <th>0</th>\n",
       "      <td>2008</td>\n",
       "      <td>6</td>\n",
       "      <td>18</td>\n",
       "      <td>3</td>\n",
       "      <td>2111.0</td>\n",
       "      <td>2055</td>\n",
       "      <td>2308.0</td>\n",
       "      <td>2300</td>\n",
       "      <td>WN</td>\n",
       "      <td>242</td>\n",
       "      <td>...</td>\n",
       "      <td>3.0</td>\n",
       "      <td>8.0</td>\n",
       "      <td>0</td>\n",
       "      <td>NaN</td>\n",
       "      <td>0</td>\n",
       "      <td>NaN</td>\n",
       "      <td>NaN</td>\n",
       "      <td>NaN</td>\n",
       "      <td>NaN</td>\n",
       "      <td>NaN</td>\n",
       "    </tr>\n",
       "    <tr>\n",
       "      <th>1</th>\n",
       "      <td>2008</td>\n",
       "      <td>6</td>\n",
       "      <td>4</td>\n",
       "      <td>3</td>\n",
       "      <td>1426.0</td>\n",
       "      <td>1410</td>\n",
       "      <td>1730.0</td>\n",
       "      <td>1728</td>\n",
       "      <td>XE</td>\n",
       "      <td>2380</td>\n",
       "      <td>...</td>\n",
       "      <td>4.0</td>\n",
       "      <td>12.0</td>\n",
       "      <td>0</td>\n",
       "      <td>NaN</td>\n",
       "      <td>0</td>\n",
       "      <td>NaN</td>\n",
       "      <td>NaN</td>\n",
       "      <td>NaN</td>\n",
       "      <td>NaN</td>\n",
       "      <td>NaN</td>\n",
       "    </tr>\n",
       "    <tr>\n",
       "      <th>2</th>\n",
       "      <td>2008</td>\n",
       "      <td>8</td>\n",
       "      <td>3</td>\n",
       "      <td>7</td>\n",
       "      <td>1143.0</td>\n",
       "      <td>1145</td>\n",
       "      <td>1501.0</td>\n",
       "      <td>1520</td>\n",
       "      <td>WN</td>\n",
       "      <td>1769</td>\n",
       "      <td>...</td>\n",
       "      <td>4.0</td>\n",
       "      <td>9.0</td>\n",
       "      <td>0</td>\n",
       "      <td>NaN</td>\n",
       "      <td>0</td>\n",
       "      <td>NaN</td>\n",
       "      <td>NaN</td>\n",
       "      <td>NaN</td>\n",
       "      <td>NaN</td>\n",
       "      <td>NaN</td>\n",
       "    </tr>\n",
       "    <tr>\n",
       "      <th>3</th>\n",
       "      <td>2008</td>\n",
       "      <td>1</td>\n",
       "      <td>23</td>\n",
       "      <td>3</td>\n",
       "      <td>1141.0</td>\n",
       "      <td>1144</td>\n",
       "      <td>1323.0</td>\n",
       "      <td>1335</td>\n",
       "      <td>OO</td>\n",
       "      <td>3802</td>\n",
       "      <td>...</td>\n",
       "      <td>4.0</td>\n",
       "      <td>19.0</td>\n",
       "      <td>0</td>\n",
       "      <td>NaN</td>\n",
       "      <td>0</td>\n",
       "      <td>NaN</td>\n",
       "      <td>NaN</td>\n",
       "      <td>NaN</td>\n",
       "      <td>NaN</td>\n",
       "      <td>NaN</td>\n",
       "    </tr>\n",
       "    <tr>\n",
       "      <th>4</th>\n",
       "      <td>2008</td>\n",
       "      <td>5</td>\n",
       "      <td>4</td>\n",
       "      <td>7</td>\n",
       "      <td>815.0</td>\n",
       "      <td>820</td>\n",
       "      <td>1243.0</td>\n",
       "      <td>1300</td>\n",
       "      <td>WN</td>\n",
       "      <td>399</td>\n",
       "      <td>...</td>\n",
       "      <td>4.0</td>\n",
       "      <td>8.0</td>\n",
       "      <td>0</td>\n",
       "      <td>NaN</td>\n",
       "      <td>0</td>\n",
       "      <td>NaN</td>\n",
       "      <td>NaN</td>\n",
       "      <td>NaN</td>\n",
       "      <td>NaN</td>\n",
       "      <td>NaN</td>\n",
       "    </tr>\n",
       "  </tbody>\n",
       "</table>\n",
       "<p>5 rows × 29 columns</p>\n",
       "</div>"
      ],
      "text/plain": [
       "   Year  Month  DayofMonth  DayOfWeek  DepTime  CRSDepTime  ArrTime  \\\n",
       "0  2008      6          18          3   2111.0        2055   2308.0   \n",
       "1  2008      6           4          3   1426.0        1410   1730.0   \n",
       "2  2008      8           3          7   1143.0        1145   1501.0   \n",
       "3  2008      1          23          3   1141.0        1144   1323.0   \n",
       "4  2008      5           4          7    815.0         820   1243.0   \n",
       "\n",
       "   CRSArrTime UniqueCarrier  FlightNum        ...         TaxiIn  TaxiOut  \\\n",
       "0        2300            WN        242        ...            3.0      8.0   \n",
       "1        1728            XE       2380        ...            4.0     12.0   \n",
       "2        1520            WN       1769        ...            4.0      9.0   \n",
       "3        1335            OO       3802        ...            4.0     19.0   \n",
       "4        1300            WN        399        ...            4.0      8.0   \n",
       "\n",
       "   Cancelled  CancellationCode  Diverted  CarrierDelay WeatherDelay NASDelay  \\\n",
       "0          0               NaN         0           NaN          NaN      NaN   \n",
       "1          0               NaN         0           NaN          NaN      NaN   \n",
       "2          0               NaN         0           NaN          NaN      NaN   \n",
       "3          0               NaN         0           NaN          NaN      NaN   \n",
       "4          0               NaN         0           NaN          NaN      NaN   \n",
       "\n",
       "   SecurityDelay  LateAircraftDelay  \n",
       "0            NaN                NaN  \n",
       "1            NaN                NaN  \n",
       "2            NaN                NaN  \n",
       "3            NaN                NaN  \n",
       "4            NaN                NaN  \n",
       "\n",
       "[5 rows x 29 columns]"
      ]
     },
     "execution_count": 5,
     "metadata": {},
     "output_type": "execute_result"
    }
   ],
   "source": [
    "df.head()"
   ]
  },
  {
   "cell_type": "markdown",
   "metadata": {},
   "source": [
    " - Это, во-первых, год, месяц, день, день недели: из данных признаков лишь день недели может иметь хоть какое-либо значительное влияние на задержку рейса (в выходные, к примеру, большая нагруженность, что влечет задержки).\n",
    " - Номер самолета вовсе не имеет смысла как признак, поскольку никак не влияет ни на что (насколько я могу понимать)\n",
    "\n",
    "Посмотрим позже, релевантно ли удаление иных признаков."
   ]
  },
  {
   "cell_type": "markdown",
   "metadata": {},
   "source": [
    "Для начала удалим все объекты со значениями целевой переменной 0 и NaN"
   ]
  },
  {
   "cell_type": "code",
   "execution_count": 6,
   "metadata": {
    "collapsed": false
   },
   "outputs": [],
   "source": [
    "df_ = df[df.DepDelay != 0]\n",
    "df__ = df_[np.isfinite(df_.DepDelay)]"
   ]
  },
  {
   "cell_type": "markdown",
   "metadata": {},
   "source": [
    "Теперь избавимся от признаков, признанных выше лишними."
   ]
  },
  {
   "cell_type": "code",
   "execution_count": 7,
   "metadata": {
    "collapsed": false
   },
   "outputs": [
    {
     "data": {
      "text/html": [
       "<div>\n",
       "<table border=\"1\" class=\"dataframe\">\n",
       "  <thead>\n",
       "    <tr style=\"text-align: right;\">\n",
       "      <th></th>\n",
       "      <th>DepTime</th>\n",
       "      <th>CRSDepTime</th>\n",
       "      <th>ArrTime</th>\n",
       "      <th>CRSArrTime</th>\n",
       "      <th>UniqueCarrier</th>\n",
       "      <th>FlightNum</th>\n",
       "      <th>ActualElapsedTime</th>\n",
       "      <th>CRSElapsedTime</th>\n",
       "      <th>AirTime</th>\n",
       "      <th>ArrDelay</th>\n",
       "      <th>...</th>\n",
       "      <th>TaxiIn</th>\n",
       "      <th>TaxiOut</th>\n",
       "      <th>Cancelled</th>\n",
       "      <th>CancellationCode</th>\n",
       "      <th>Diverted</th>\n",
       "      <th>CarrierDelay</th>\n",
       "      <th>WeatherDelay</th>\n",
       "      <th>NASDelay</th>\n",
       "      <th>SecurityDelay</th>\n",
       "      <th>LateAircraftDelay</th>\n",
       "    </tr>\n",
       "  </thead>\n",
       "  <tbody>\n",
       "    <tr>\n",
       "      <th>0</th>\n",
       "      <td>2111.0</td>\n",
       "      <td>2055</td>\n",
       "      <td>2308.0</td>\n",
       "      <td>2300</td>\n",
       "      <td>WN</td>\n",
       "      <td>242</td>\n",
       "      <td>57.0</td>\n",
       "      <td>65.0</td>\n",
       "      <td>46.0</td>\n",
       "      <td>8.0</td>\n",
       "      <td>...</td>\n",
       "      <td>3.0</td>\n",
       "      <td>8.0</td>\n",
       "      <td>0</td>\n",
       "      <td>NaN</td>\n",
       "      <td>0</td>\n",
       "      <td>NaN</td>\n",
       "      <td>NaN</td>\n",
       "      <td>NaN</td>\n",
       "      <td>NaN</td>\n",
       "      <td>NaN</td>\n",
       "    </tr>\n",
       "    <tr>\n",
       "      <th>1</th>\n",
       "      <td>1426.0</td>\n",
       "      <td>1410</td>\n",
       "      <td>1730.0</td>\n",
       "      <td>1728</td>\n",
       "      <td>XE</td>\n",
       "      <td>2380</td>\n",
       "      <td>124.0</td>\n",
       "      <td>138.0</td>\n",
       "      <td>108.0</td>\n",
       "      <td>2.0</td>\n",
       "      <td>...</td>\n",
       "      <td>4.0</td>\n",
       "      <td>12.0</td>\n",
       "      <td>0</td>\n",
       "      <td>NaN</td>\n",
       "      <td>0</td>\n",
       "      <td>NaN</td>\n",
       "      <td>NaN</td>\n",
       "      <td>NaN</td>\n",
       "      <td>NaN</td>\n",
       "      <td>NaN</td>\n",
       "    </tr>\n",
       "    <tr>\n",
       "      <th>2</th>\n",
       "      <td>1143.0</td>\n",
       "      <td>1145</td>\n",
       "      <td>1501.0</td>\n",
       "      <td>1520</td>\n",
       "      <td>WN</td>\n",
       "      <td>1769</td>\n",
       "      <td>138.0</td>\n",
       "      <td>155.0</td>\n",
       "      <td>125.0</td>\n",
       "      <td>-19.0</td>\n",
       "      <td>...</td>\n",
       "      <td>4.0</td>\n",
       "      <td>9.0</td>\n",
       "      <td>0</td>\n",
       "      <td>NaN</td>\n",
       "      <td>0</td>\n",
       "      <td>NaN</td>\n",
       "      <td>NaN</td>\n",
       "      <td>NaN</td>\n",
       "      <td>NaN</td>\n",
       "      <td>NaN</td>\n",
       "    </tr>\n",
       "    <tr>\n",
       "      <th>3</th>\n",
       "      <td>1141.0</td>\n",
       "      <td>1144</td>\n",
       "      <td>1323.0</td>\n",
       "      <td>1335</td>\n",
       "      <td>OO</td>\n",
       "      <td>3802</td>\n",
       "      <td>102.0</td>\n",
       "      <td>111.0</td>\n",
       "      <td>79.0</td>\n",
       "      <td>-12.0</td>\n",
       "      <td>...</td>\n",
       "      <td>4.0</td>\n",
       "      <td>19.0</td>\n",
       "      <td>0</td>\n",
       "      <td>NaN</td>\n",
       "      <td>0</td>\n",
       "      <td>NaN</td>\n",
       "      <td>NaN</td>\n",
       "      <td>NaN</td>\n",
       "      <td>NaN</td>\n",
       "      <td>NaN</td>\n",
       "    </tr>\n",
       "    <tr>\n",
       "      <th>4</th>\n",
       "      <td>815.0</td>\n",
       "      <td>820</td>\n",
       "      <td>1243.0</td>\n",
       "      <td>1300</td>\n",
       "      <td>WN</td>\n",
       "      <td>399</td>\n",
       "      <td>148.0</td>\n",
       "      <td>160.0</td>\n",
       "      <td>136.0</td>\n",
       "      <td>-17.0</td>\n",
       "      <td>...</td>\n",
       "      <td>4.0</td>\n",
       "      <td>8.0</td>\n",
       "      <td>0</td>\n",
       "      <td>NaN</td>\n",
       "      <td>0</td>\n",
       "      <td>NaN</td>\n",
       "      <td>NaN</td>\n",
       "      <td>NaN</td>\n",
       "      <td>NaN</td>\n",
       "      <td>NaN</td>\n",
       "    </tr>\n",
       "  </tbody>\n",
       "</table>\n",
       "<p>5 rows × 24 columns</p>\n",
       "</div>"
      ],
      "text/plain": [
       "   DepTime  CRSDepTime  ArrTime  CRSArrTime UniqueCarrier  FlightNum  \\\n",
       "0   2111.0        2055   2308.0        2300            WN        242   \n",
       "1   1426.0        1410   1730.0        1728            XE       2380   \n",
       "2   1143.0        1145   1501.0        1520            WN       1769   \n",
       "3   1141.0        1144   1323.0        1335            OO       3802   \n",
       "4    815.0         820   1243.0        1300            WN        399   \n",
       "\n",
       "   ActualElapsedTime  CRSElapsedTime  AirTime  ArrDelay        ...          \\\n",
       "0               57.0            65.0     46.0       8.0        ...           \n",
       "1              124.0           138.0    108.0       2.0        ...           \n",
       "2              138.0           155.0    125.0     -19.0        ...           \n",
       "3              102.0           111.0     79.0     -12.0        ...           \n",
       "4              148.0           160.0    136.0     -17.0        ...           \n",
       "\n",
       "   TaxiIn TaxiOut Cancelled  CancellationCode  Diverted  CarrierDelay  \\\n",
       "0     3.0     8.0         0               NaN         0           NaN   \n",
       "1     4.0    12.0         0               NaN         0           NaN   \n",
       "2     4.0     9.0         0               NaN         0           NaN   \n",
       "3     4.0    19.0         0               NaN         0           NaN   \n",
       "4     4.0     8.0         0               NaN         0           NaN   \n",
       "\n",
       "   WeatherDelay NASDelay  SecurityDelay  LateAircraftDelay  \n",
       "0           NaN      NaN            NaN                NaN  \n",
       "1           NaN      NaN            NaN                NaN  \n",
       "2           NaN      NaN            NaN                NaN  \n",
       "3           NaN      NaN            NaN                NaN  \n",
       "4           NaN      NaN            NaN                NaN  \n",
       "\n",
       "[5 rows x 24 columns]"
      ]
     },
     "execution_count": 7,
     "metadata": {},
     "output_type": "execute_result"
    }
   ],
   "source": [
    "df_pure = df__.drop(['Year', 'Month', 'DayofMonth', 'DayOfWeek', 'TailNum'], axis = 1)\n",
    "df_pure.head()"
   ]
  },
  {
   "cell_type": "code",
   "execution_count": 8,
   "metadata": {
    "collapsed": false
   },
   "outputs": [],
   "source": [
    "delay = np.array(df_pure.DepDelay)\n",
    "df_new = df_pure.drop('DepDelay', axis = 1)"
   ]
  },
  {
   "cell_type": "code",
   "execution_count": 9,
   "metadata": {
    "collapsed": true
   },
   "outputs": [],
   "source": [
    "df_new = df_new.reset_index()"
   ]
  },
  {
   "cell_type": "code",
   "execution_count": 10,
   "metadata": {
    "collapsed": false
   },
   "outputs": [],
   "source": [
    "df_new = df_new.drop(['index'], axis = 1)"
   ]
  },
  {
   "cell_type": "markdown",
   "metadata": {},
   "source": [
    "**7. (1 балл)** Обратите внимание, что признаки DepTime, CRSDepTime, ArrTime, CRSArrTime приведены в формате hhmm, в связи с чем будет не вполне корректно рассматривать их как вещественные.\n",
    "\n",
    "Преобразуйте каждый признак FeatureName из указанных в пару новых признаков FeatureName\\_Hour, FeatureName\\_Minute, разделив каждое из значений на часы и минуты. Не забудьте при этом исключить исходный признак из выборки. В случае, если значение признака отсутствует, значения двух новых признаков, его заменяющих, также должны отсутствовать. \n",
    "\n",
    "Например, признак DepTime необходимо заменить на пару признаков DepTime_Hour, DepTime_Minute. При этом, например, значение 155 исходного признака будет преобразовано в значения 1 и 55 признаков DepTime_Hour, DepTime_Minute соответственно."
   ]
  },
  {
   "cell_type": "markdown",
   "metadata": {},
   "source": [
    "Создадим для каждого нового признака списки"
   ]
  },
  {
   "cell_type": "code",
   "execution_count": 11,
   "metadata": {
    "collapsed": false
   },
   "outputs": [],
   "source": [
    "DepTime_Hour = []\n",
    "DepTime_Minute = []\n",
    "CRSDepTime_Hour = []\n",
    "CRSDepTime_Minute = []\n",
    "ArrTime_Hour = []\n",
    "ArrTime_Minute = []\n",
    "CRSArrTime_Hour = []\n",
    "CRSArrTime_Minute = []"
   ]
  },
  {
   "cell_type": "markdown",
   "metadata": {},
   "source": [
    "Теперь разделим на часы и минуты каждый из рассматриваемых признаков"
   ]
  },
  {
   "cell_type": "code",
   "execution_count": 12,
   "metadata": {
    "collapsed": false,
    "scrolled": true
   },
   "outputs": [],
   "source": [
    "for i in df_new.DepTime:\n",
    "    if  i == i:\n",
    "        DepTime_Hour.append(int(i//100))\n",
    "        DepTime_Minute.append(int(i - (i//100)*100))\n",
    "    else:\n",
    "        DepTime_Hour.append('NaN')\n",
    "        DepTime_Minute.append('NaN')"
   ]
  },
  {
   "cell_type": "code",
   "execution_count": 13,
   "metadata": {
    "collapsed": true
   },
   "outputs": [],
   "source": [
    "for i in df_new.CRSDepTime:\n",
    "    if  i == i:\n",
    "        CRSDepTime_Hour.append(int(i//100))\n",
    "        CRSDepTime_Minute.append(int(i - (i//100)*100))\n",
    "    else:\n",
    "        CRSDepTime_Hour.append('NaN')\n",
    "        CRSDepTime_Minute.append('NaN')"
   ]
  },
  {
   "cell_type": "code",
   "execution_count": 14,
   "metadata": {
    "collapsed": false
   },
   "outputs": [],
   "source": [
    "for i in df_new.ArrTime:\n",
    "    if  i == i:\n",
    "        ArrTime_Hour.append(int(i//100))\n",
    "        ArrTime_Minute.append(int(i - (i//100)*100))\n",
    "    else:\n",
    "        ArrTime_Hour.append('NaN')\n",
    "        ArrTime_Minute.append('NaN')"
   ]
  },
  {
   "cell_type": "code",
   "execution_count": 15,
   "metadata": {
    "collapsed": true
   },
   "outputs": [],
   "source": [
    "for i in df_new.CRSArrTime:\n",
    "    if  i == i:\n",
    "        CRSArrTime_Hour.append(int(i//100))\n",
    "        CRSArrTime_Minute.append(int(i - (i//100)*100))\n",
    "    else:\n",
    "        CRSArrTime_Hour.append('NaN')\n",
    "        CRSArrTime_Minute.append('NaN')"
   ]
  },
  {
   "cell_type": "markdown",
   "metadata": {},
   "source": [
    "Удалим изначальные признаки и добавим в датафрейм полученные hh и mm"
   ]
  },
  {
   "cell_type": "code",
   "execution_count": 16,
   "metadata": {
    "collapsed": false
   },
   "outputs": [],
   "source": [
    "df_new = df_new.drop(['DepTime', 'CRSDepTime', 'ArrTime', 'CRSArrTime'], axis = 1)"
   ]
  },
  {
   "cell_type": "code",
   "execution_count": 17,
   "metadata": {
    "collapsed": false
   },
   "outputs": [],
   "source": [
    "df_new['DepTime_Hour'] = DepTime_Hour\n",
    "df_new['DepTime_Minute'] = DepTime_Minute\n",
    "df_new['CRSDepTime_Hour'] = CRSDepTime_Hour\n",
    "df_new['CRSDepTime_Minute'] = CRSDepTime_Minute\n",
    "df_new['ArrTime_Hour'] = ArrTime_Hour\n",
    "df_new['ArrTime_Minute'] = ArrTime_Minute\n",
    "df_new['CRSArrTime_Hour'] = CRSArrTime_Hour\n",
    "df_new['CRSArrTime_Minute'] = CRSArrTime_Minute"
   ]
  },
  {
   "cell_type": "code",
   "execution_count": 18,
   "metadata": {
    "collapsed": false
   },
   "outputs": [
    {
     "data": {
      "text/html": [
       "<div>\n",
       "<table border=\"1\" class=\"dataframe\">\n",
       "  <thead>\n",
       "    <tr style=\"text-align: right;\">\n",
       "      <th></th>\n",
       "      <th>UniqueCarrier</th>\n",
       "      <th>FlightNum</th>\n",
       "      <th>ActualElapsedTime</th>\n",
       "      <th>CRSElapsedTime</th>\n",
       "      <th>AirTime</th>\n",
       "      <th>ArrDelay</th>\n",
       "      <th>Origin</th>\n",
       "      <th>Dest</th>\n",
       "      <th>Distance</th>\n",
       "      <th>TaxiIn</th>\n",
       "      <th>...</th>\n",
       "      <th>SecurityDelay</th>\n",
       "      <th>LateAircraftDelay</th>\n",
       "      <th>DepTime_Hour</th>\n",
       "      <th>DepTime_Minute</th>\n",
       "      <th>CRSDepTime_Hour</th>\n",
       "      <th>CRSDepTime_Minute</th>\n",
       "      <th>ArrTime_Hour</th>\n",
       "      <th>ArrTime_Minute</th>\n",
       "      <th>CRSArrTime_Hour</th>\n",
       "      <th>CRSArrTime_Minute</th>\n",
       "    </tr>\n",
       "  </thead>\n",
       "  <tbody>\n",
       "    <tr>\n",
       "      <th>0</th>\n",
       "      <td>WN</td>\n",
       "      <td>242</td>\n",
       "      <td>57.0</td>\n",
       "      <td>65.0</td>\n",
       "      <td>46.0</td>\n",
       "      <td>8.0</td>\n",
       "      <td>MDW</td>\n",
       "      <td>CLE</td>\n",
       "      <td>307</td>\n",
       "      <td>3.0</td>\n",
       "      <td>...</td>\n",
       "      <td>NaN</td>\n",
       "      <td>NaN</td>\n",
       "      <td>21</td>\n",
       "      <td>11</td>\n",
       "      <td>20</td>\n",
       "      <td>55</td>\n",
       "      <td>23</td>\n",
       "      <td>8</td>\n",
       "      <td>23</td>\n",
       "      <td>0</td>\n",
       "    </tr>\n",
       "    <tr>\n",
       "      <th>1</th>\n",
       "      <td>XE</td>\n",
       "      <td>2380</td>\n",
       "      <td>124.0</td>\n",
       "      <td>138.0</td>\n",
       "      <td>108.0</td>\n",
       "      <td>2.0</td>\n",
       "      <td>IAH</td>\n",
       "      <td>AVL</td>\n",
       "      <td>834</td>\n",
       "      <td>4.0</td>\n",
       "      <td>...</td>\n",
       "      <td>NaN</td>\n",
       "      <td>NaN</td>\n",
       "      <td>14</td>\n",
       "      <td>26</td>\n",
       "      <td>14</td>\n",
       "      <td>10</td>\n",
       "      <td>17</td>\n",
       "      <td>30</td>\n",
       "      <td>17</td>\n",
       "      <td>28</td>\n",
       "    </tr>\n",
       "    <tr>\n",
       "      <th>2</th>\n",
       "      <td>WN</td>\n",
       "      <td>1769</td>\n",
       "      <td>138.0</td>\n",
       "      <td>155.0</td>\n",
       "      <td>125.0</td>\n",
       "      <td>-19.0</td>\n",
       "      <td>MDW</td>\n",
       "      <td>TPA</td>\n",
       "      <td>997</td>\n",
       "      <td>4.0</td>\n",
       "      <td>...</td>\n",
       "      <td>NaN</td>\n",
       "      <td>NaN</td>\n",
       "      <td>11</td>\n",
       "      <td>43</td>\n",
       "      <td>11</td>\n",
       "      <td>45</td>\n",
       "      <td>15</td>\n",
       "      <td>1</td>\n",
       "      <td>15</td>\n",
       "      <td>20</td>\n",
       "    </tr>\n",
       "    <tr>\n",
       "      <th>3</th>\n",
       "      <td>OO</td>\n",
       "      <td>3802</td>\n",
       "      <td>102.0</td>\n",
       "      <td>111.0</td>\n",
       "      <td>79.0</td>\n",
       "      <td>-12.0</td>\n",
       "      <td>SLC</td>\n",
       "      <td>FCA</td>\n",
       "      <td>532</td>\n",
       "      <td>4.0</td>\n",
       "      <td>...</td>\n",
       "      <td>NaN</td>\n",
       "      <td>NaN</td>\n",
       "      <td>11</td>\n",
       "      <td>41</td>\n",
       "      <td>11</td>\n",
       "      <td>44</td>\n",
       "      <td>13</td>\n",
       "      <td>23</td>\n",
       "      <td>13</td>\n",
       "      <td>35</td>\n",
       "    </tr>\n",
       "    <tr>\n",
       "      <th>4</th>\n",
       "      <td>WN</td>\n",
       "      <td>399</td>\n",
       "      <td>148.0</td>\n",
       "      <td>160.0</td>\n",
       "      <td>136.0</td>\n",
       "      <td>-17.0</td>\n",
       "      <td>LAS</td>\n",
       "      <td>AUS</td>\n",
       "      <td>1090</td>\n",
       "      <td>4.0</td>\n",
       "      <td>...</td>\n",
       "      <td>NaN</td>\n",
       "      <td>NaN</td>\n",
       "      <td>8</td>\n",
       "      <td>15</td>\n",
       "      <td>8</td>\n",
       "      <td>20</td>\n",
       "      <td>12</td>\n",
       "      <td>43</td>\n",
       "      <td>13</td>\n",
       "      <td>0</td>\n",
       "    </tr>\n",
       "  </tbody>\n",
       "</table>\n",
       "<p>5 rows × 27 columns</p>\n",
       "</div>"
      ],
      "text/plain": [
       "  UniqueCarrier  FlightNum  ActualElapsedTime  CRSElapsedTime  AirTime  \\\n",
       "0            WN        242               57.0            65.0     46.0   \n",
       "1            XE       2380              124.0           138.0    108.0   \n",
       "2            WN       1769              138.0           155.0    125.0   \n",
       "3            OO       3802              102.0           111.0     79.0   \n",
       "4            WN        399              148.0           160.0    136.0   \n",
       "\n",
       "   ArrDelay Origin Dest  Distance  TaxiIn        ...          SecurityDelay  \\\n",
       "0       8.0    MDW  CLE       307     3.0        ...                    NaN   \n",
       "1       2.0    IAH  AVL       834     4.0        ...                    NaN   \n",
       "2     -19.0    MDW  TPA       997     4.0        ...                    NaN   \n",
       "3     -12.0    SLC  FCA       532     4.0        ...                    NaN   \n",
       "4     -17.0    LAS  AUS      1090     4.0        ...                    NaN   \n",
       "\n",
       "   LateAircraftDelay DepTime_Hour  DepTime_Minute  CRSDepTime_Hour  \\\n",
       "0                NaN           21              11               20   \n",
       "1                NaN           14              26               14   \n",
       "2                NaN           11              43               11   \n",
       "3                NaN           11              41               11   \n",
       "4                NaN            8              15                8   \n",
       "\n",
       "   CRSDepTime_Minute  ArrTime_Hour  ArrTime_Minute  CRSArrTime_Hour  \\\n",
       "0                 55            23               8               23   \n",
       "1                 10            17              30               17   \n",
       "2                 45            15               1               15   \n",
       "3                 44            13              23               13   \n",
       "4                 20            12              43               13   \n",
       "\n",
       "   CRSArrTime_Minute  \n",
       "0                  0  \n",
       "1                 28  \n",
       "2                 20  \n",
       "3                 35  \n",
       "4                  0  \n",
       "\n",
       "[5 rows x 27 columns]"
      ]
     },
     "execution_count": 18,
     "metadata": {},
     "output_type": "execute_result"
    }
   ],
   "source": [
    "df_new.head()"
   ]
  },
  {
   "cell_type": "markdown",
   "metadata": {},
   "source": [
    "----------------"
   ]
  },
  {
   "cell_type": "markdown",
   "metadata": {},
   "source": [
    "**8. (0.5 балла)** Некоторые из признаков, отличных от целевой переменной, могут оказывать чересчур значимое влияние на прогноз, поскольку по своему смыслу содержат большую долю информации о значении целевой переменной. Изучите описание датасета и исключите признаки, сильно коррелирующие с ответами. Ваш выбор признаков для исключения из выборки обоснуйте. Кроме того, исключите признаки TailNum и Year."
   ]
  },
  {
   "cell_type": "markdown",
   "metadata": {
    "collapsed": true
   },
   "source": [
    "Для начала вернем в датафрейм столбец ответов (это необходимо для наглядного представления корреляции)"
   ]
  },
  {
   "cell_type": "code",
   "execution_count": 19,
   "metadata": {
    "collapsed": true
   },
   "outputs": [],
   "source": [
    "from matplotlib import pyplot as plt\n",
    "% matplotlib inline"
   ]
  },
  {
   "cell_type": "code",
   "execution_count": 20,
   "metadata": {
    "collapsed": false
   },
   "outputs": [],
   "source": [
    "df_new['DepDelay'] = delay"
   ]
  },
  {
   "cell_type": "code",
   "execution_count": 21,
   "metadata": {
    "collapsed": false
   },
   "outputs": [
    {
     "data": {
      "text/plain": [
       "FlightNum            0.021166\n",
       "ActualElapsedTime    0.041946\n",
       "CRSElapsedTime       0.034302\n",
       "AirTime              0.025237\n",
       "ArrDelay             0.933526\n",
       "Distance             0.024252\n",
       "TaxiIn               0.020640\n",
       "TaxiOut              0.101294\n",
       "Cancelled           -0.001123\n",
       "Diverted             0.027166\n",
       "CarrierDelay         0.532696\n",
       "WeatherDelay         0.238872\n",
       "NASDelay             0.171591\n",
       "SecurityDelay        0.010668\n",
       "LateAircraftDelay    0.553806\n",
       "DepTime_Hour         0.203125\n",
       "DepTime_Minute      -0.017055\n",
       "CRSDepTime_Hour      0.140084\n",
       "CRSDepTime_Minute    0.022437\n",
       "CRSArrTime_Hour      0.135561\n",
       "CRSArrTime_Minute    0.008609\n",
       "DepDelay             1.000000\n",
       "Name: DepDelay, dtype: float64"
      ]
     },
     "execution_count": 21,
     "metadata": {},
     "output_type": "execute_result"
    }
   ],
   "source": [
    "df_corr = df_new.corr()\n",
    "df_corr.DepDelay"
   ]
  },
  {
   "cell_type": "markdown",
   "metadata": {},
   "source": [
    "Итак, избавимся от следующих признаков:\n",
    " - ArrDelay. Здесь все очевидно: если есть задержка вылета, то, соответственно, высока вероятность задержки прилета и наоборот\n",
    " - CarrierDelay. Задержка по усмотрению компании зачастую в действительности \"приводится в действие\", что приводит к задержке вылета\n",
    " - LateAircraftDelay. Наконец, тут следующая логика (насколько я могу понимать): в большинстве случаев поздняя подача воздушного судна с большой долей вероятности влечет за собой будущую задержку рейса"
   ]
  },
  {
   "cell_type": "code",
   "execution_count": 22,
   "metadata": {
    "collapsed": false
   },
   "outputs": [],
   "source": [
    "df_new = df_new.drop(['DepDelay', 'ArrDelay', 'CarrierDelay', 'LateAircraftDelay'], axis = 1)"
   ]
  },
  {
   "cell_type": "markdown",
   "metadata": {},
   "source": [
    "Приведем данные к виду, пригодному для обучения линейных моделей. Для этого вещественные признаки надо отмасштабировать, а категориальные — привести к числовому виду. Также надо устранить пропуски в данных."
   ]
  },
  {
   "cell_type": "markdown",
   "metadata": {},
   "source": [
    "Насколько я могу понимать, то же самое делается дальше, поэтому пропустим этот шаг на данном этапе.\n"
   ]
  },
  {
   "cell_type": "markdown",
   "metadata": {},
   "source": [
    "-----------------------"
   ]
  },
  {
   "cell_type": "markdown",
   "metadata": {},
   "source": [
    "**9*. (1 бонусный балл) ** В первую очередь поймем, зачем необходимо применять масштабирование. Следующие ячейки с кодом построят гистограммы для 3 вещественных признаков выборки."
   ]
  },
  {
   "cell_type": "code",
   "execution_count": 23,
   "metadata": {
    "collapsed": false,
    "scrolled": true
   },
   "outputs": [
    {
     "data": {
      "text/plain": [
       "<matplotlib.axes._subplots.AxesSubplot at 0x2ace6fc37b8>"
      ]
     },
     "execution_count": 23,
     "metadata": {},
     "output_type": "execute_result"
    },
    {
     "data": {
      "image/png": "[encoded data removed]",
      "text/plain": [
       "<matplotlib.figure.Figure at 0x2ace681af28>"
      ]
     },
     "metadata": {},
     "output_type": "display_data"
    }
   ],
   "source": [
    "df_new['DepTime_Hour'].hist(bins=20)"
   ]
  },
  {
   "cell_type": "code",
   "execution_count": 24,
   "metadata": {
    "collapsed": false
   },
   "outputs": [
    {
     "data": {
      "text/plain": [
       "<matplotlib.axes._subplots.AxesSubplot at 0x2ace63c49e8>"
      ]
     },
     "execution_count": 24,
     "metadata": {},
     "output_type": "execute_result"
    },
    {
     "data": {
      "image/png": "[encoded data removed]",
      "text/plain": [
       "<matplotlib.figure.Figure at 0x2ace63cf4e0>"
      ]
     },
     "metadata": {},
     "output_type": "display_data"
    }
   ],
   "source": [
    "df_new['TaxiIn'].hist(bins=20)"
   ]
  },
  {
   "cell_type": "code",
   "execution_count": 25,
   "metadata": {
    "collapsed": false
   },
   "outputs": [
    {
     "data": {
      "text/plain": [
       "<matplotlib.axes._subplots.AxesSubplot at 0x2ace73c6fd0>"
      ]
     },
     "execution_count": 25,
     "metadata": {},
     "output_type": "execute_result"
    },
    {
     "data": {
      "image/png": "[encoded data removed]",
      "text/plain": [
       "<matplotlib.figure.Figure at 0x2ace73905f8>"
      ]
     },
     "metadata": {},
     "output_type": "display_data"
    }
   ],
   "source": [
    "df_new['FlightNum'].hist(bins=20)"
   ]
  },
  {
   "cell_type": "markdown",
   "metadata": {},
   "source": [
    "Какую проблему вы наблюдаете на этих графиках? Как масштабирование поможет её исправить?"
   ]
  },
  {
   "cell_type": "markdown",
   "metadata": {},
   "source": [
    "Как мы видим, значение объектов в соответствующих признаках сильно отличаются по масштабности значений: от десятков до тысяч. Таким образом, в дальнейшем модель даст не совсем корректные веса для признаков, тем самым ухудшая качество предсказания. Масштабирование призвано избавить от данной проблемы, поскольку приводит значения объектов-признаков к стандартизированному виду, где значения варьируются не сильно."
   ]
  },
  {
   "cell_type": "markdown",
   "metadata": {},
   "source": [
    "---------------"
   ]
  },
  {
   "cell_type": "markdown",
   "metadata": {},
   "source": [
    "**10. (1 балл)** Вдобавок к масштабированию, некоторые из признаков в нашем датасете являются категориальными. Типичным подходом к работе с ними является бинарное, или [one-hot-кодирование](https://en.wikipedia.org/wiki/One-hot).\n",
    "\n",
    "\n",
    "Реализуйте функцию transform_data, которая принимает на вход DataFrame с признаками и выполняет следующие шаги:\n",
    "1. Замена пропущенных значений на нули для вещественных признаков и на строки 'nan' для категориальных.\n",
    "2. Масштабирование вещественных признаков с помощью [StandardScaler](http://scikit-learn.org/stable/modules/generated/sklearn.preprocessing.StandardScaler.html).\n",
    "3. One-hot-кодирование категориальных признаков с помощью [DictVectorizer](http://scikit-learn.org/stable/modules/generated/sklearn.feature_extraction.DictVectorizer.html) или функции [pd.get_dummies](http://pandas.pydata.org/pandas-docs/stable/generated/pandas.get_dummies.html).\n",
    "\n",
    "Метод должен возвращать преобразованный DataFrame, который должна состоять из масштабированных вещественных признаков и закодированных категориальных (исходные признаки должны быть исключены из выборки)."
   ]
  },
  {
   "cell_type": "code",
   "execution_count": 26,
   "metadata": {
    "collapsed": true
   },
   "outputs": [],
   "source": [
    "def transform_data(data):\n",
    "    # замена пропущенных значений: для категориальных \n",
    "    num_cols = data._get_numeric_data().columns\n",
    "    cat_cols = data.columns.difference(num_cols)\n",
    "    data[cat_cols] = data[cat_cols].fillna('nan')\n",
    "    data[num_cols] = data[num_cols].fillna(0)\n",
    "    # шкалирование\n",
    "    from sklearn.preprocessing import StandardScaler\n",
    "    scaler = StandardScaler()\n",
    "    scaler.fit(data[num_cols])\n",
    "    data[num_cols] = scaler.transform(data[num_cols])\n",
    "    # кодирование категориальных признаков\n",
    "    return pd.get_dummies(data, columns = cat_cols)"
   ]
  },
  {
   "cell_type": "markdown",
   "metadata": {},
   "source": [
    "Примените функцию transform_data к данным. Сколько признаков получилось после преобразования?"
   ]
  },
  {
   "cell_type": "code",
   "execution_count": 27,
   "metadata": {
    "collapsed": false,
    "scrolled": true
   },
   "outputs": [
    {
     "data": {
      "text/html": [
       "<div>\n",
       "<table border=\"1\" class=\"dataframe\">\n",
       "  <thead>\n",
       "    <tr style=\"text-align: right;\">\n",
       "      <th></th>\n",
       "      <th>FlightNum</th>\n",
       "      <th>ActualElapsedTime</th>\n",
       "      <th>CRSElapsedTime</th>\n",
       "      <th>AirTime</th>\n",
       "      <th>Distance</th>\n",
       "      <th>TaxiIn</th>\n",
       "      <th>TaxiOut</th>\n",
       "      <th>Cancelled</th>\n",
       "      <th>Diverted</th>\n",
       "      <th>WeatherDelay</th>\n",
       "      <th>...</th>\n",
       "      <th>UniqueCarrier_HA</th>\n",
       "      <th>UniqueCarrier_MQ</th>\n",
       "      <th>UniqueCarrier_NW</th>\n",
       "      <th>UniqueCarrier_OH</th>\n",
       "      <th>UniqueCarrier_OO</th>\n",
       "      <th>UniqueCarrier_UA</th>\n",
       "      <th>UniqueCarrier_US</th>\n",
       "      <th>UniqueCarrier_WN</th>\n",
       "      <th>UniqueCarrier_XE</th>\n",
       "      <th>UniqueCarrier_YV</th>\n",
       "    </tr>\n",
       "  </thead>\n",
       "  <tbody>\n",
       "    <tr>\n",
       "      <th>0</th>\n",
       "      <td>-0.991600</td>\n",
       "      <td>-0.988979</td>\n",
       "      <td>-0.916826</td>\n",
       "      <td>-0.849307</td>\n",
       "      <td>-0.744130</td>\n",
       "      <td>-0.786908</td>\n",
       "      <td>-0.741204</td>\n",
       "      <td>-0.013759</td>\n",
       "      <td>-0.049021</td>\n",
       "      <td>-0.077726</td>\n",
       "      <td>...</td>\n",
       "      <td>0.0</td>\n",
       "      <td>0.0</td>\n",
       "      <td>0.0</td>\n",
       "      <td>0.0</td>\n",
       "      <td>0.0</td>\n",
       "      <td>0.0</td>\n",
       "      <td>0.0</td>\n",
       "      <td>1.0</td>\n",
       "      <td>0.0</td>\n",
       "      <td>0.0</td>\n",
       "    </tr>\n",
       "    <tr>\n",
       "      <th>1</th>\n",
       "      <td>0.106546</td>\n",
       "      <td>-0.040552</td>\n",
       "      <td>0.127377</td>\n",
       "      <td>0.064301</td>\n",
       "      <td>0.183961</td>\n",
       "      <td>-0.582387</td>\n",
       "      <td>-0.389769</td>\n",
       "      <td>-0.013759</td>\n",
       "      <td>-0.049021</td>\n",
       "      <td>-0.077726</td>\n",
       "      <td>...</td>\n",
       "      <td>0.0</td>\n",
       "      <td>0.0</td>\n",
       "      <td>0.0</td>\n",
       "      <td>0.0</td>\n",
       "      <td>0.0</td>\n",
       "      <td>0.0</td>\n",
       "      <td>0.0</td>\n",
       "      <td>0.0</td>\n",
       "      <td>1.0</td>\n",
       "      <td>0.0</td>\n",
       "    </tr>\n",
       "    <tr>\n",
       "      <th>2</th>\n",
       "      <td>-0.207284</td>\n",
       "      <td>0.157627</td>\n",
       "      <td>0.370547</td>\n",
       "      <td>0.314806</td>\n",
       "      <td>0.471018</td>\n",
       "      <td>-0.582387</td>\n",
       "      <td>-0.653345</td>\n",
       "      <td>-0.013759</td>\n",
       "      <td>-0.049021</td>\n",
       "      <td>-0.077726</td>\n",
       "      <td>...</td>\n",
       "      <td>0.0</td>\n",
       "      <td>0.0</td>\n",
       "      <td>0.0</td>\n",
       "      <td>0.0</td>\n",
       "      <td>0.0</td>\n",
       "      <td>0.0</td>\n",
       "      <td>0.0</td>\n",
       "      <td>1.0</td>\n",
       "      <td>0.0</td>\n",
       "      <td>0.0</td>\n",
       "    </tr>\n",
       "    <tr>\n",
       "      <th>3</th>\n",
       "      <td>0.836931</td>\n",
       "      <td>-0.351976</td>\n",
       "      <td>-0.258835</td>\n",
       "      <td>-0.363032</td>\n",
       "      <td>-0.347886</td>\n",
       "      <td>-0.582387</td>\n",
       "      <td>0.225242</td>\n",
       "      <td>-0.013759</td>\n",
       "      <td>-0.049021</td>\n",
       "      <td>-0.077726</td>\n",
       "      <td>...</td>\n",
       "      <td>0.0</td>\n",
       "      <td>0.0</td>\n",
       "      <td>0.0</td>\n",
       "      <td>0.0</td>\n",
       "      <td>1.0</td>\n",
       "      <td>0.0</td>\n",
       "      <td>0.0</td>\n",
       "      <td>0.0</td>\n",
       "      <td>0.0</td>\n",
       "      <td>0.0</td>\n",
       "    </tr>\n",
       "    <tr>\n",
       "      <th>4</th>\n",
       "      <td>-0.910960</td>\n",
       "      <td>0.299183</td>\n",
       "      <td>0.442068</td>\n",
       "      <td>0.476898</td>\n",
       "      <td>0.634799</td>\n",
       "      <td>-0.582387</td>\n",
       "      <td>-0.741204</td>\n",
       "      <td>-0.013759</td>\n",
       "      <td>-0.049021</td>\n",
       "      <td>-0.077726</td>\n",
       "      <td>...</td>\n",
       "      <td>0.0</td>\n",
       "      <td>0.0</td>\n",
       "      <td>0.0</td>\n",
       "      <td>0.0</td>\n",
       "      <td>0.0</td>\n",
       "      <td>0.0</td>\n",
       "      <td>0.0</td>\n",
       "      <td>1.0</td>\n",
       "      <td>0.0</td>\n",
       "      <td>0.0</td>\n",
       "    </tr>\n",
       "  </tbody>\n",
       "</table>\n",
       "<p>5 rows × 722 columns</p>\n",
       "</div>"
      ],
      "text/plain": [
       "   FlightNum  ActualElapsedTime  CRSElapsedTime   AirTime  Distance    TaxiIn  \\\n",
       "0  -0.991600          -0.988979       -0.916826 -0.849307 -0.744130 -0.786908   \n",
       "1   0.106546          -0.040552        0.127377  0.064301  0.183961 -0.582387   \n",
       "2  -0.207284           0.157627        0.370547  0.314806  0.471018 -0.582387   \n",
       "3   0.836931          -0.351976       -0.258835 -0.363032 -0.347886 -0.582387   \n",
       "4  -0.910960           0.299183        0.442068  0.476898  0.634799 -0.582387   \n",
       "\n",
       "    TaxiOut  Cancelled  Diverted  WeatherDelay        ...         \\\n",
       "0 -0.741204  -0.013759 -0.049021     -0.077726        ...          \n",
       "1 -0.389769  -0.013759 -0.049021     -0.077726        ...          \n",
       "2 -0.653345  -0.013759 -0.049021     -0.077726        ...          \n",
       "3  0.225242  -0.013759 -0.049021     -0.077726        ...          \n",
       "4 -0.741204  -0.013759 -0.049021     -0.077726        ...          \n",
       "\n",
       "   UniqueCarrier_HA  UniqueCarrier_MQ  UniqueCarrier_NW  UniqueCarrier_OH  \\\n",
       "0               0.0               0.0               0.0               0.0   \n",
       "1               0.0               0.0               0.0               0.0   \n",
       "2               0.0               0.0               0.0               0.0   \n",
       "3               0.0               0.0               0.0               0.0   \n",
       "4               0.0               0.0               0.0               0.0   \n",
       "\n",
       "   UniqueCarrier_OO  UniqueCarrier_UA  UniqueCarrier_US  UniqueCarrier_WN  \\\n",
       "0               0.0               0.0               0.0               1.0   \n",
       "1               0.0               0.0               0.0               0.0   \n",
       "2               0.0               0.0               0.0               1.0   \n",
       "3               1.0               0.0               0.0               0.0   \n",
       "4               0.0               0.0               0.0               1.0   \n",
       "\n",
       "   UniqueCarrier_XE  UniqueCarrier_YV  \n",
       "0               0.0               0.0  \n",
       "1               1.0               0.0  \n",
       "2               0.0               0.0  \n",
       "3               0.0               0.0  \n",
       "4               0.0               0.0  \n",
       "\n",
       "[5 rows x 722 columns]"
      ]
     },
     "execution_count": 27,
     "metadata": {},
     "output_type": "execute_result"
    }
   ],
   "source": [
    "prep_df = transform_data(df_new)\n",
    "prep_df.head()"
   ]
  },
  {
   "cell_type": "code",
   "execution_count": 28,
   "metadata": {
    "collapsed": false
   },
   "outputs": [
    {
     "name": "stdout",
     "output_type": "stream",
     "text": [
      "Теперь после обработки датафрейма в нем 722 признака\n"
     ]
    }
   ],
   "source": [
    "print('Теперь после обработки датафрейма в нем', len(prep_df.columns), 'признака')"
   ]
  },
  {
   "cell_type": "markdown",
   "metadata": {},
   "source": [
    "**11. (0.75 балла)** Разбейте выборку и вектор целевой переменной на обучение и контроль в отношении 70/30 (для этого можно использовать, например, функцию [train_test_split](http://scikit-learn.org/stable/modules/generated/sklearn.cross_validation.train_test_split.html)). "
   ]
  },
  {
   "cell_type": "code",
   "execution_count": 29,
   "metadata": {
    "collapsed": false
   },
   "outputs": [
    {
     "name": "stderr",
     "output_type": "stream",
     "text": [
      "C:\\Users\\Vlad\\Anaconda3\\lib\\site-packages\\sklearn\\cross_validation.py:41: DeprecationWarning: This module was deprecated in version 0.18 in favor of the model_selection module into which all the refactored classes and functions are moved. Also note that the interface of the new CV iterators are different from that of this module. This module will be removed in 0.20.\n",
      "  \"This module will be removed in 0.20.\", DeprecationWarning)\n"
     ]
    }
   ],
   "source": [
    "from sklearn.cross_validation import train_test_split"
   ]
  },
  {
   "cell_type": "code",
   "execution_count": 30,
   "metadata": {
    "collapsed": true
   },
   "outputs": [],
   "source": [
    "X_train, X_test, y_train, y_test = train_test_split(prep_df, delay, test_size=0.3, random_state=42)"
   ]
  },
  {
   "cell_type": "markdown",
   "metadata": {},
   "source": [
    "### Scikit-learn\n",
    "\n",
    "<img src = \"https://pp.vk.me/c4534/u35727827/93547647/x_d31c4463.jpg\">\n",
    "Теперь, когда мы привели данные к пригодному виду, попробуем решить задачу при помощи метода наименьших квадратов. Напомним, что данный метод заключается в оптимизации функционала $MSE$:\n",
    "\n",
    "$$MSE(X, y) = \\frac{1}{l} \\sum_{i=1}^l (<w, x_i> - y_i)^2 \\to \\min_{w},$$\n",
    "\n",
    "где $\\{ (x_i, y_i ) \\}_{i=1}^l$ — обучающая выборка, состоящая из $l$ пар объект-ответ.\n",
    "\n",
    "Заметим, что решение данной задачи уже реализовано в модуле sklearn в виде класса [LinearRegression](http://scikit-learn.org/stable/modules/generated/sklearn.linear_model.LinearRegression.html#sklearn.linear_model.LinearRegression).\n",
    "\n",
    "**12. (0.5 балла)** Обучите линейную регрессию на 1000 объектах из обучающей выборки и выведите значения $MSE$ и $R^2$ на этой подвыборке и контрольной выборке (итого 4 различных числа). Проинтерпретируйте полученный результат — насколько качественные прогнозы строит полученная модель? Какие проблемы наблюдаются в модели?\n",
    "\n",
    "**Подсказка**: изучите значения полученных коэффициентов $w$, сохраненных в атрибуте coef_ объекта LinearRegression."
   ]
  },
  {
   "cell_type": "code",
   "execution_count": 38,
   "metadata": {
    "collapsed": false
   },
   "outputs": [],
   "source": [
    "X_train1000 = X_train.iloc[:1000]\n",
    "y_train1000 = y_train[:1000]"
   ]
  },
  {
   "cell_type": "code",
   "execution_count": 53,
   "metadata": {
    "collapsed": false
   },
   "outputs": [],
   "source": [
    "from sklearn.linear_model import LinearRegression\n",
    "from sklearn.metrics import mean_squared_error as mse, r2_score as r2\n",
    "lr = LinearRegression()\n",
    "lr.fit(X_train1000, y_train1000)\n",
    "y1000_pred_train = lr.predict(X_train1000)"
   ]
  },
  {
   "cell_type": "code",
   "execution_count": 58,
   "metadata": {
    "collapsed": false
   },
   "outputs": [
    {
     "name": "stdout",
     "output_type": "stream",
     "text": [
      "MSE для обучающей выборки =  323.10794747\n",
      "R_2 для обучающей выборки =  0.695128453522\n"
     ]
    }
   ],
   "source": [
    "mse1 = mse(y_train1000, y1000_pred_train)\n",
    "r2_1 = r2(y_train1000, y1000_pred_train)\n",
    "print('MSE для обучающей выборки = ', mse1)\n",
    "print('R_2 для обучающей выборки = ', r2_1)"
   ]
  },
  {
   "cell_type": "code",
   "execution_count": 55,
   "metadata": {
    "collapsed": true
   },
   "outputs": [],
   "source": [
    "lr.fit(X_train1000, y_train1000)\n",
    "y1000_pred_test = lr.predict(X_test)"
   ]
  },
  {
   "cell_type": "code",
   "execution_count": 61,
   "metadata": {
    "collapsed": false
   },
   "outputs": [
    {
     "name": "stdout",
     "output_type": "stream",
     "text": [
      "MSE для контрольной выборки =  1.26929337433e+30\n",
      "R_2 для контрольной выборки =  -9.48884521512e+26\n"
     ]
    }
   ],
   "source": [
    "mse2 = mse(y_test, y1000_pred_test)\n",
    "r2_2 = r2(y_test, y1000_pred_test)\n",
    "print('MSE для контрольной выборки = ', mse2)\n",
    "print('R_2 для контрольной выборки = ', r2_2)"
   ]
  },
  {
   "cell_type": "markdown",
   "metadata": {},
   "source": [
    "$MSE$ для первой модели очень высок, что говорит о плохом качестве модели и неверном подборе коэффициентов (хотя и $R^2$ довольно высок, что говорит неплохой объяснительной способности модели)\n",
    "Во второй же модели все наоборот: $MSE$ очень мал, но при этом $R^2$ ведет себя очень бурно, что сложно интерпретировать"
   ]
  },
  {
   "cell_type": "markdown",
   "metadata": {},
   "source": [
    "--------------------"
   ]
  },
  {
   "cell_type": "markdown",
   "metadata": {
    "collapsed": true
   },
   "source": [
    "Для решения описанных вами в предыдущем пункте проблем используем L1- или L2-регуляризацию, тем самым получив Lasso и Ridge регрессии соответственно и изменив оптимизационную задачу одним из следующих образов:\n",
    "$$MSE_{L1}(X, y) = \\frac{1}{l} \\sum_{i=1}^l (<w, x_i> - y_i)^2 + \\alpha ||w||_1 \\to \\min_{w},$$\n",
    "$$MSE_{L2}(X, y) = \\frac{1}{l} \\sum_{i=1}^l (<w, x_i> - y_i)^2 + \\alpha ||w||_2^2 \\to \\min_{w},$$\n",
    "\n",
    "где $\\alpha$ — коэффициент регуляризации. Один из способов его подбора заключается в переборе некоторого количества значений и оценке качества на кросс-валидации для каждого из них, после чего выбирается значение, для которого было получено наилучшее качество.\n",
    "\n",
    "**13. (1 балл)** Обучите линейные регрессии с L1- и L2-регуляризатором, подобрав лучшее значение параметра регуляризации из списка alpha_grid при помощи кросс-валидации c 5 фолдами на тех же 1000 объектах, что и в п.12. Выведите значения $MSE$ и $R^2$ на обучающей и контрольной выборках. Удалось ли решить указанные вами ранее проблемы?\n",
    "\n",
    "Для выполнения данного задания вам могут понадобиться реализованные в библиотеке объекты [LassoCV](http://scikit-learn.org/stable/modules/generated/sklearn.linear_model.LassoCV.html), [RidgeCV](http://scikit-learn.org/stable/modules/generated/sklearn.linear_model.RidgeCV.html) и [KFold](http://scikit-learn.org/stable/modules/generated/sklearn.cross_validation.KFold.html).\n"
   ]
  },
  {
   "cell_type": "code",
   "execution_count": 76,
   "metadata": {
    "collapsed": false
   },
   "outputs": [
    {
     "ename": "TypeError",
     "evalue": "__init__() got an unexpected keyword argument 'n_folds'",
     "output_type": "error",
     "traceback": [
      "\u001b[0;31m---------------------------------------------------------------------------\u001b[0m",
      "\u001b[0;31mTypeError\u001b[0m                                 Traceback (most recent call last)",
      "\u001b[0;32m<ipython-input-76-2bdb3606fb67>\u001b[0m in \u001b[0;36m<module>\u001b[0;34m()\u001b[0m\n\u001b[1;32m      1\u001b[0m \u001b[1;32mfrom\u001b[0m \u001b[0msklearn\u001b[0m\u001b[1;33m.\u001b[0m\u001b[0mmodel_selection\u001b[0m \u001b[1;32mimport\u001b[0m \u001b[0mKFold\u001b[0m\u001b[1;33m\u001b[0m\u001b[0m\n\u001b[0;32m----> 2\u001b[0;31m \u001b[0mkf\u001b[0m \u001b[1;33m=\u001b[0m \u001b[0mKFold\u001b[0m\u001b[1;33m(\u001b[0m\u001b[1;36m4\u001b[0m\u001b[1;33m,\u001b[0m \u001b[0mn_folds\u001b[0m\u001b[1;33m=\u001b[0m\u001b[1;36m2\u001b[0m\u001b[1;33m)\u001b[0m\u001b[1;33m\u001b[0m\u001b[0m\n\u001b[0m",
      "\u001b[0;31mTypeError\u001b[0m: __init__() got an unexpected keyword argument 'n_folds'"
     ]
    }
   ],
   "source": [
    "from sklearn.model_selection import KFold\n",
    "kf = KFold(4, n_folds=2)"
   ]
  },
  {
   "cell_type": "markdown",
   "metadata": {},
   "source": [
    "### Градиентный спуск\n",
    "\n",
    "В предыдущем разделе мы использовали существующие реализации методов обучения линейной регрессии с регуляризацией и без. Тем не менее, подобные реализации, как правило, имеются лишь для ограниченного набора стандартных методов. В частности, при выходе функционала качества за пределы стандартного множества необходимо самостоятельно реализовывать составляющие процесса решения оптимизационной задачи. Именно этому и посвящен данный раздел задания.\n",
    "\n",
    "Пусть необходимо минимизировать следующий функционал (Mean Square Percentage Error — модифицированный [RMSPE](https://www.kaggle.com/c/rossmann-store-sales/details/evaluation)):\n",
    "$$MSPE(\\{x_i, y_i\\}_{i=1}^l, \\, w) = \\frac{1}{l}\\sum_{i=1}^l \\left( \\frac{y_i - \\langle w, x_i \\rangle }{y_i} \\right)^2,$$\n",
    "\n",
    "где $\\{x_i, y_i\\}_{i=1}^l$ — обучающая выборка, $w$ — вектор весов линейной модели. Будем также рассматривать функционал $MSPE$ с L2-регуляризацией:\n",
    "\n",
    "$$MSPE(\\{x_i, y_i\\}_{i=1}^l, \\, w) = \\frac{1}{l}\\sum_{i=1}^l \\left( \\frac{y_i - \\langle w, x_i \\rangle }{y_i} \\right)^2 + ||w||_2^2.$$\n",
    "\n",
    "**14. (0 баллов)** Добавьте к объектам обеих выборок из п. 11 единичный признак."
   ]
  },
  {
   "cell_type": "code",
   "execution_count": null,
   "metadata": {
    "collapsed": true
   },
   "outputs": [],
   "source": [
    "# Your code here"
   ]
  },
  {
   "cell_type": "markdown",
   "metadata": {},
   "source": [
    "**15. (1 балл)** Реализуйте функции, которые вычисляют:\n",
    " * прогнозы линейной модели;\n",
    " * функционал $MSPE$ и его градиент;\n",
    " * регуляризованный $MSPE$ и его градиент."
   ]
  },
  {
   "cell_type": "code",
   "execution_count": null,
   "metadata": {
    "collapsed": true
   },
   "outputs": [],
   "source": [
    "# возвращает вектор прогнозов линейной модели с вектором весов w для выборки X\n",
    "def make_pred(X, w):\n",
    "    pass"
   ]
  },
  {
   "cell_type": "code",
   "execution_count": null,
   "metadata": {
    "collapsed": true
   },
   "outputs": [],
   "source": [
    "# возвращает значение функционала MSPE для выборки (X, y) и вектора весов w\n",
    "def get_func(w, X, y):\n",
    "    pass"
   ]
  },
  {
   "cell_type": "code",
   "execution_count": null,
   "metadata": {
    "collapsed": true
   },
   "outputs": [],
   "source": [
    "# возвращает градиент функционала MSPE для выборки (X, y) и вектора весов w\n",
    "def get_grad(w, X, y):\n",
    "    pass"
   ]
  },
  {
   "cell_type": "code",
   "execution_count": null,
   "metadata": {
    "collapsed": true
   },
   "outputs": [],
   "source": [
    "# возвращает значение регуляризованного функционала MSPE для выборки (X, y) и вектора весов w\n",
    "def get_reg_func(w, X, y):\n",
    "    pass"
   ]
  },
  {
   "cell_type": "code",
   "execution_count": null,
   "metadata": {
    "collapsed": true
   },
   "outputs": [],
   "source": [
    "# возвращает градиент регуляризованного функционала MSPE для выборки (X, y) и вектора весов w\n",
    "def get_reg_grad(w, X, y):\n",
    "    pass"
   ]
  },
  {
   "cell_type": "markdown",
   "metadata": {},
   "source": [
    "**16. (1 балл)** Реализуйте метод градиентного спуска для описанных функционалов ($MSPE$ и его регуляризованный вариант). Функция должна принимать следующие параметры:\n",
    " - X — матрица \"объект-признак\";\n",
    " - y — вектор целевой переменной;\n",
    " - w0 — начальное значение вектора весов;\n",
    " - step_size — значение темпа обучения;\n",
    " - max_iter — максимальное число итераций;\n",
    " - eps — значение, используемое в критерии останова;\n",
    " - is_reg — бинарный параметр, принимает значение True в случае наличия регуляризации функционала, False — в противном случае.\n",
    " \n",
    "Процесс должен быть остановлен, если выполнено хотя бы одно из следующих условий:\n",
    " - было выполнено заданное количество итераций max_iter;\n",
    " - евклидова норма разности векторов $w$ на соседних итерациях стала меньше, чем eps.\n",
    "\n",
    "Функция должна возвращать полученный в результате оптимизации вектор $w$ и список значений функционала на каждой итерации."
   ]
  },
  {
   "cell_type": "code",
   "execution_count": null,
   "metadata": {
    "collapsed": true
   },
   "outputs": [],
   "source": [
    "def grad_descent(X, y, step_size, max_iter, eps, is_reg):\n",
    "    # Your code here"
   ]
  },
  {
   "cell_type": "markdown",
   "metadata": {},
   "source": [
    "Обучите линейную регрессию с функционалом $MSPE$ на обучающей выборке при помощи метода градиентного спуска и изобразите кривые зависимости значения функционала от номера итерации для различных:\n",
    " * значений размера шага из набора [0.001, 1, 10];\n",
    " * способов начальной инициализации вектора весов (нули, случайные веса).\n",
    "\n",
    "Проанализируйте полученные результаты — влияют ли данные параметры на скорость сходимости и итоговое качество? Если да, то как?"
   ]
  },
  {
   "cell_type": "code",
   "execution_count": null,
   "metadata": {
    "collapsed": true
   },
   "outputs": [],
   "source": [
    "# Your code here"
   ]
  },
  {
   "cell_type": "markdown",
   "metadata": {},
   "source": [
    "**17. (0.5 балла)** Обучите линейную регрессию с функционалом MSPE и его регуляризованным вариантом на обучающей выборке при помощи метода градиентного спуска и изобразите кривые зависимости значения функционала от номера итерации. Исследуйте зависимость скорости сходимости от наличия регуляризации. Обоснуйте, почему так происходит."
   ]
  },
  {
   "cell_type": "code",
   "execution_count": null,
   "metadata": {
    "collapsed": true
   },
   "outputs": [],
   "source": [
    "# Your code here"
   ]
  },
  {
   "cell_type": "markdown",
   "metadata": {},
   "source": [
    "Метод градиентного спуска может быть весьма трудозатратен в случае большого размера обучающей выборки. Поэтому часто используют метод стохастического градиентного спуска, где на каждой итерации выбирается случайный объект из обучающей выборки и обновление весов происходит только по этому объекту. \n",
    "\n",
    "**18*. (1 бонусный балл)**  Реализуйте метод стохастического градиентного спуска (SGD) для описанных функционалов ($MSPE$ и его регуляризованный вариант). Функция должна иметь параметры и возвращаемое значение, аналогичные оным функции grad\\_descent из п.21. Кроме того, должен использоваться аналогичный критерий останова."
   ]
  },
  {
   "cell_type": "code",
   "execution_count": null,
   "metadata": {
    "collapsed": true
   },
   "outputs": [],
   "source": [
    "def sgd(X, y, step_size, max_iter, eps, is_reg):\n",
    "    # Your code here"
   ]
  },
  {
   "cell_type": "markdown",
   "metadata": {},
   "source": [
    "Обучите линейную регрессию с функционалом $MSPE$ и его регуляризованным вариантом на обучающей выборке при помощи метода стохастического градиентного спуска, подобрав при этом размер шага, при котором метод будет сходиться. Нарисуйте график сходимости. Выведите значения $MSPE, MSE, R^2$ на контрольной выборке."
   ]
  },
  {
   "cell_type": "code",
   "execution_count": null,
   "metadata": {
    "collapsed": true
   },
   "outputs": [],
   "source": [
    "# Your code here"
   ]
  },
  {
   "cell_type": "markdown",
   "metadata": {},
   "source": [
    "**19*. (0.5 бонусного балла)** Аналогично п.17 исследуйте зависимость скорости сходимости метода SGD от наличия регуляризации. Обоснуйте, почему так происходит."
   ]
  },
  {
   "cell_type": "code",
   "execution_count": null,
   "metadata": {
    "collapsed": true
   },
   "outputs": [],
   "source": [
    "# Your code here"
   ]
  },
  {
   "cell_type": "markdown",
   "metadata": {},
   "source": [
    "**20. (0.5 балла)** Обучите стандартную линейную регрессию с функционалом качества MSE на обучающей выборке и выведите значение MSPE полученного решения на контрольной выборке. Как оно соотносится с аналогичным результатом для решения, полученного в п.17? Почему?"
   ]
  },
  {
   "cell_type": "code",
   "execution_count": null,
   "metadata": {
    "collapsed": true
   },
   "outputs": [],
   "source": [
    "# Your code here"
   ]
  }
 ],
 "metadata": {
  "anaconda-cloud": {},
  "kernelspec": {
   "display_name": "Python [default]",
   "language": "python",
   "name": "python3"
  },
  "language_info": {
   "codemirror_mode": {
    "name": "ipython",
    "version": 3
   },
   "file_extension": ".py",
   "mimetype": "text/x-python",
   "name": "python",
   "nbconvert_exporter": "python",
   "pygments_lexer": "ipython3",
   "version": "3.5.2"
  }
 },
 "nbformat": 4,
 "nbformat_minor": 1
}
