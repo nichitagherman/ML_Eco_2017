{
 "cells": [
  {
   "cell_type": "markdown",
   "metadata": {},
   "source": [
    "# Машинное обучение, ФЭН ВШЭ\n",
    "\n",
    "# Практическое задание 2\n",
    "(Основано на материалах курса машинного обучения на фкн)\n",
    "\n",
    "## Общая информация\n",
    "\n",
    "Дата выдачи: 21.09.2017\n",
    "\n",
    "Срок сдачи: 8.10.2017 23:59MSK\n",
    "\n",
    "### О задании\n",
    "\n",
    "Практическое задание 1 посвящено изучению основных библиотек для анализа данных, а также линейных моделей и методов их обучения. Вы научитесь:\n",
    " * применять библиотеку NumPy;\n",
    " * подготавливать данные для обучения линейных моделей;\n",
    " * обучать линейную, Lasso и Ridge-регрессии при помощи модуля scikit-learn;\n",
    " * реализовывать обычный и стохастический градиентные спуски;\n",
    " * обучать линейную регрессию для произвольного функционала качества.\n",
    " \n",
    "\n",
    "### Оценивание и штрафы\n",
    "\n",
    "Каждая из задач имеет определенную «стоимость» (указана в скобках около задачи). Максимально допустимая оценка за работу — 10 баллов. Кроме того, некоторые из заданий являются опциональными (необязательными), однако за их выполнение можно получить дополнительные баллы.\n",
    "\n",
    "\n",
    "Задание выполняется самостоятельно. «Похожие» решения считаются плагиатом и все задействованные студенты (в том числе те, у кого списали) не могут получить за него больше 0 баллов (подробнее о плагиате см. на странице курса). Если вы нашли решение какого-то из заданий (или его часть) в открытом источнике, необходимо указать ссылку на этот источник в отдельном блоке в конце Вашей работы (скорее всего вы будете не единственным, кто это нашел, поэтому чтобы исключить подозрение в плагиате, необходима ссылка на источник). \n",
    "\n",
    "Неэффективная реализация кода может негативно отразиться на оценке.\n",
    "\n",
    "\n",
    "### Формат сдачи\n",
    "Для сдачи задания переименуйте получившийся файл \\*.ipynb в соответствии со следующим форматом: *HW1_Username.ipynb*, где *Username* — Ваша фамилия и инициалы на латинице (например, *HW1_IvanovII.ipynb*). Далее отправьте этот файл на почту курса, указав соответствующую тему (см. вики-страничку курча)."
   ]
  },
  {
   "cell_type": "markdown",
   "metadata": {},
   "source": [
    "## Библиотеки для анализа данных\n",
    "\n",
    "### NumPy\n",
    "\n",
    "Во всех заданиях данного раздела запрещено использовать циклы  и list comprehensions. Под вектором и матрицей в данных заданиях понимается одномерный и двумерный numpy.array соответственно."
   ]
  },
  {
   "cell_type": "code",
   "execution_count": 1,
   "metadata": {
    "collapsed": true
   },
   "outputs": [],
   "source": [
    "import numpy as np"
   ]
  },
  {
   "cell_type": "code",
   "execution_count": 2,
   "metadata": {
    "collapsed": true
   },
   "outputs": [],
   "source": [
    "import warnings\n",
    "warnings.filterwarnings(\"ignore\")"
   ]
  },
  {
   "cell_type": "markdown",
   "metadata": {},
   "source": [
    "**1. (0.3 балла)** Реализуйте функцию, возвращающую максимальный элемент в векторе x среди элементов, перед которыми стоит нулевой. Для x = np.array([6, 2, 0, 3, 0, 0, 5, 7, 0]) ответом является 5. Если нулевых элементов нет, функция должна возвращать None.\n"
   ]
  },
  {
   "cell_type": "code",
   "execution_count": 3,
   "metadata": {
    "collapsed": true
   },
   "outputs": [],
   "source": [
    "def max_element(arr):\n",
    "    if len(np.where(arr==0)[0]) == 0:\n",
    "        print(None)\n",
    "    else:\n",
    "        return np.max(arr[np.setdiff1d(np.where(x==0)[0][:-1] + 1, np.where(x==0)[0][:-1])])"
   ]
  },
  {
   "cell_type": "code",
   "execution_count": 4,
   "metadata": {
    "collapsed": false
   },
   "outputs": [
    {
     "data": {
      "text/plain": [
       "5"
      ]
     },
     "execution_count": 4,
     "metadata": {},
     "output_type": "execute_result"
    }
   ],
   "source": [
    "x = np.array([6, 2, 0, 3, 0, 0, 5, 7, 0])\n",
    "max_element(x)"
   ]
  },
  {
   "cell_type": "code",
   "execution_count": 5,
   "metadata": {
    "collapsed": false
   },
   "outputs": [
    {
     "name": "stdout",
     "output_type": "stream",
     "text": [
      "None\n"
     ]
    }
   ],
   "source": [
    "y = np.array([1, 2, 3, 9, 5, 4])\n",
    "max_element(y)"
   ]
  },
  {
   "cell_type": "markdown",
   "metadata": {},
   "source": [
    "**2. (0.3 балла)** Реализуйте функцию, принимающую на вход матрицу и некоторое число и возвращающую ближайший к числу элемент матрицы. Например: для X = np.arange(0,10).reshape((2, 5)) и v = 3.6 ответом будет 4."
   ]
  },
  {
   "cell_type": "code",
   "execution_count": 6,
   "metadata": {
    "collapsed": true
   },
   "outputs": [],
   "source": [
    "def nearest_value(X, v):\n",
    "    A = X.flatten()\n",
    "    diffs = np.abs(A - v)\n",
    "    return A[np.where(diffs == np.min(diffs))[0][0]]"
   ]
  },
  {
   "cell_type": "code",
   "execution_count": 7,
   "metadata": {
    "collapsed": false
   },
   "outputs": [
    {
     "data": {
      "text/plain": [
       "4"
      ]
     },
     "execution_count": 7,
     "metadata": {},
     "output_type": "execute_result"
    }
   ],
   "source": [
    "X = np.arange(0, 10).reshape((2, 5))\n",
    "v = 3.6\n",
    "nearest_value(X, v)"
   ]
  },
  {
   "cell_type": "code",
   "execution_count": 8,
   "metadata": {
    "collapsed": false
   },
   "outputs": [
    {
     "data": {
      "text/plain": [
       "-15"
      ]
     },
     "execution_count": 8,
     "metadata": {},
     "output_type": "execute_result"
    }
   ],
   "source": [
    "X = np.array([1, 2, 10, -4, -15, 3, 6, 3]).reshape((4, 2))\n",
    "v = -20\n",
    "nearest_value(X, v)"
   ]
  },
  {
   "cell_type": "markdown",
   "metadata": {},
   "source": [
    "**3. (0.3 балла)** Реализуйте функцию scale(X), которая принимает на вход матрицу и масштабирует каждый ее столбец (вычитает выборочное среднее и делит на стандартное отклонение). Убедитесь, что в функции не будет происходить деления на ноль. Протестируйте на случайной матрице (для её генерации можно использовать, например, функцию [numpy.random.randint](http://docs.scipy.org/doc/numpy/reference/generated/numpy.random.randint.html))."
   ]
  },
  {
   "cell_type": "code",
   "execution_count": 9,
   "metadata": {
    "collapsed": true
   },
   "outputs": [],
   "source": [
    "def scale(X):\n",
    "    mean = np.mean(X, axis=0)\n",
    "    std = np.std(X, axis=0)\n",
    "    if len(np.where(std==0)[0]) != 0:\n",
    "        print('Предупреждение: не во всех столбцах стандартное отклонение отлично от нуля')\n",
    "        return (X - mean) / std\n",
    "    else:\n",
    "        return (X - mean) / std"
   ]
  },
  {
   "cell_type": "code",
   "execution_count": 10,
   "metadata": {
    "collapsed": false
   },
   "outputs": [
    {
     "name": "stdout",
     "output_type": "stream",
     "text": [
      "[[7 5 1 7 3]\n",
      " [9 4 1 2 2]]\n",
      "Предупреждение: не во всех столбцах стандартное отклонение отлично от нуля\n"
     ]
    },
    {
     "data": {
      "text/plain": [
       "array([[ -1.,   1.,  nan,   1.,   1.],\n",
       "       [  1.,  -1.,  nan,  -1.,  -1.]])"
      ]
     },
     "execution_count": 10,
     "metadata": {},
     "output_type": "execute_result"
    }
   ],
   "source": [
    "X = np.random.randint(low=1, high=10, size=(2, 5))\n",
    "print(X)\n",
    "scale(X)"
   ]
  },
  {
   "cell_type": "code",
   "execution_count": 11,
   "metadata": {
    "collapsed": false
   },
   "outputs": [
    {
     "name": "stdout",
     "output_type": "stream",
     "text": [
      "[[-5  0 -2  1  4]\n",
      " [-1 -3 -4  3 -3]]\n"
     ]
    },
    {
     "data": {
      "text/plain": [
       "array([[-1.,  1.,  1., -1.,  1.],\n",
       "       [ 1., -1., -1.,  1., -1.]])"
      ]
     },
     "execution_count": 11,
     "metadata": {},
     "output_type": "execute_result"
    }
   ],
   "source": [
    "X = np.random.randint(low=-5, high=5, size=(2, 5))\n",
    "print(X)\n",
    "scale(X)"
   ]
  },
  {
   "cell_type": "markdown",
   "metadata": {},
   "source": [
    "**4. (0.3 балла)** Реализуйте функцию, которая для заданной матрицы находит:\n",
    " - определитель\n",
    " - след\n",
    " - наименьший и наибольший элементы\n",
    " - норму Фробениуса\n",
    " - собственные числа\n",
    " - обратную матрицу\n",
    "\n",
    "Для тестирования сгенерируйте матрицу с элементами из нормального распределения $\\mathcal{N}$(10,1)"
   ]
  },
  {
   "cell_type": "code",
   "execution_count": 12,
   "metadata": {
    "collapsed": false
   },
   "outputs": [],
   "source": [
    "def get_stats(X):\n",
    "    det = np.linalg.det(X)\n",
    "    tr = np.trace(X)\n",
    "    minimum = np.min(X)\n",
    "    maximum = np.max(X)\n",
    "    norm = np.linalg.norm(X, ord='fro')\n",
    "    eig = np.linalg.eig(X)\n",
    "    inv = np.linalg.inv(X)\n",
    "    return det, tr, minimum, maximum, norm, eig, inv"
   ]
  },
  {
   "cell_type": "code",
   "execution_count": 13,
   "metadata": {
    "collapsed": false
   },
   "outputs": [
    {
     "name": "stdout",
     "output_type": "stream",
     "text": [
      "[[ 11.6784014   10.33952217   8.93740228]\n",
      " [  9.09352693  11.82965124   9.1706    ]\n",
      " [ 10.29437006  10.28187992   9.40843747]]\n"
     ]
    },
    {
     "data": {
      "text/plain": [
       "(37.370059157622507,\n",
       " 32.916490101780639,\n",
       " 8.9374022786538969,\n",
       " 11.829651237223638,\n",
       " 30.497713480125704,\n",
       " (array([ 30.3542215 ,   1.92158173,   0.64068687]),\n",
       "  array([[-0.58957395, -0.58804191, -0.14403019],\n",
       "         [-0.57182166,  0.76970861, -0.55463967],\n",
       "         [-0.57045819, -0.24850626,  0.81953044]])),\n",
       " array([[ 0.45511102, -0.14411138, -0.29185744],\n",
       "        [ 0.23681179,  0.4782059 , -0.69107302],\n",
       "        [-0.7567624 , -0.36491923,  1.1808569 ]]))"
      ]
     },
     "execution_count": 13,
     "metadata": {},
     "output_type": "execute_result"
    }
   ],
   "source": [
    "X = np.random.normal(loc=10, scale=1, size=9).reshape((3, 3))\n",
    "print(X)\n",
    "\n",
    "get_stats(X)"
   ]
  },
  {
   "cell_type": "markdown",
   "metadata": {},
   "source": [
    "**5. (0.3 балла)** Повторите 100 раз следующий эксперимент: сгенерируйте две матрицы размера 10×10 из стандартного нормального распределения, перемножьте их (как матрицы) и найдите максимальный элемент. Какое среднее значение по экспериментам у максимальных элементов? 95-процентная квантиль?"
   ]
  },
  {
   "cell_type": "code",
   "execution_count": 14,
   "metadata": {
    "collapsed": false
   },
   "outputs": [
    {
     "name": "stdout",
     "output_type": "stream",
     "text": [
      "Среднее у максимальных эелементов: 8.36\n",
      "Среднее у 95-процентных квантилей: 4.98\n"
     ]
    }
   ],
   "source": [
    "maxs = 0\n",
    "qs = 0\n",
    "\n",
    "for exp_num in range(100):\n",
    "    A = np.random.normal(loc=0, scale=1, size=100).reshape((10, 10))\n",
    "    B = np.random.normal(loc=0, scale=1, size=100).reshape((10, 10))\n",
    "    C = A @ B\n",
    "    \n",
    "    mx = np.max(C)\n",
    "    q = np.percentile(C, q=95)\n",
    "    \n",
    "    maxs = np.hstack((maxs, mx))\n",
    "    qs = np.hstack((qs, q))\n",
    "    \n",
    "mean_maxs = np.mean(maxs[1:])\n",
    "mean_qs = np.mean(qs[1:])\n",
    "\n",
    "print(\"Среднее у максимальных эелементов: {:.3}\".format(mean_maxs))\n",
    "print(\"Среднее у 95-процентных квантилей: {:.3}\".format(mean_qs))"
   ]
  },
  {
   "cell_type": "markdown",
   "metadata": {},
   "source": [
    "## Линейная регрессия\n",
    "\n",
    "В этой части мы разберемся с линейной регрессией, способами её обучения и измерением качества ее прогнозов. \n",
    "\n",
    "Будем рассматривать данные по авиарейсам в США за январь-апрель 2008 года для предсказания времени задержки отправления рейса в минутах (DepDelay). Отметим, что под задержкой подразумевается не только опоздание рейса относительно планируемого времени вылета, но и отправление до планируемого времени.\n",
    "\n",
    "\n",
    "[Данные](https://www.dropbox.com/s/dvfitn93obn0rql/2008.csv?dl=0) и их [описание](http://stat-computing.org/dataexpo/2009/the-data.html)\n",
    "\n",
    "### Подготовка данных\n",
    "\n",
    "**6. (0.75 балла)** Считайте выборку из файла при помощи функции pd.read_csv и ответьте на следующие вопросы:\n",
    "   - Имеются ли в данных пропущенные значения?\n",
    "   - Сколько всего пропущенных элементов в таблице \"объект-признак\"?\n",
    "   - Сколько объектов имеют хотя бы один пропуск?\n",
    "   - Сколько признаков имеют хотя бы одно пропущенное значение?"
   ]
  },
  {
   "cell_type": "code",
   "execution_count": 15,
   "metadata": {
    "collapsed": false,
    "scrolled": true
   },
   "outputs": [],
   "source": [
    "import pandas as pd"
   ]
  },
  {
   "cell_type": "markdown",
   "metadata": {},
   "source": [
    "Загрузим данные и посмотрим на них:"
   ]
  },
  {
   "cell_type": "code",
   "execution_count": 16,
   "metadata": {
    "collapsed": false
   },
   "outputs": [
    {
     "data": {
      "text/html": [
       "<div>\n",
       "<table border=\"1\" class=\"dataframe\">\n",
       "  <thead>\n",
       "    <tr style=\"text-align: right;\">\n",
       "      <th></th>\n",
       "      <th>Year</th>\n",
       "      <th>Month</th>\n",
       "      <th>DayofMonth</th>\n",
       "      <th>DayOfWeek</th>\n",
       "      <th>DepTime</th>\n",
       "      <th>CRSDepTime</th>\n",
       "      <th>ArrTime</th>\n",
       "      <th>CRSArrTime</th>\n",
       "      <th>UniqueCarrier</th>\n",
       "      <th>FlightNum</th>\n",
       "      <th>TailNum</th>\n",
       "      <th>ActualElapsedTime</th>\n",
       "      <th>CRSElapsedTime</th>\n",
       "      <th>AirTime</th>\n",
       "      <th>ArrDelay</th>\n",
       "      <th>DepDelay</th>\n",
       "      <th>Origin</th>\n",
       "      <th>Dest</th>\n",
       "      <th>Distance</th>\n",
       "      <th>TaxiIn</th>\n",
       "      <th>TaxiOut</th>\n",
       "      <th>Cancelled</th>\n",
       "      <th>CancellationCode</th>\n",
       "      <th>Diverted</th>\n",
       "      <th>CarrierDelay</th>\n",
       "      <th>WeatherDelay</th>\n",
       "      <th>NASDelay</th>\n",
       "      <th>SecurityDelay</th>\n",
       "      <th>LateAircraftDelay</th>\n",
       "    </tr>\n",
       "  </thead>\n",
       "  <tbody>\n",
       "    <tr>\n",
       "      <th>0</th>\n",
       "      <td>2008</td>\n",
       "      <td>6</td>\n",
       "      <td>18</td>\n",
       "      <td>3</td>\n",
       "      <td>2111.0</td>\n",
       "      <td>2055</td>\n",
       "      <td>2308.0</td>\n",
       "      <td>2300</td>\n",
       "      <td>WN</td>\n",
       "      <td>242</td>\n",
       "      <td>N699SW</td>\n",
       "      <td>57.0</td>\n",
       "      <td>65.0</td>\n",
       "      <td>46.0</td>\n",
       "      <td>8.0</td>\n",
       "      <td>16.0</td>\n",
       "      <td>MDW</td>\n",
       "      <td>CLE</td>\n",
       "      <td>307</td>\n",
       "      <td>3.0</td>\n",
       "      <td>8.0</td>\n",
       "      <td>0</td>\n",
       "      <td>NaN</td>\n",
       "      <td>0</td>\n",
       "      <td>NaN</td>\n",
       "      <td>NaN</td>\n",
       "      <td>NaN</td>\n",
       "      <td>NaN</td>\n",
       "      <td>NaN</td>\n",
       "    </tr>\n",
       "    <tr>\n",
       "      <th>1</th>\n",
       "      <td>2008</td>\n",
       "      <td>6</td>\n",
       "      <td>4</td>\n",
       "      <td>3</td>\n",
       "      <td>1426.0</td>\n",
       "      <td>1410</td>\n",
       "      <td>1730.0</td>\n",
       "      <td>1728</td>\n",
       "      <td>XE</td>\n",
       "      <td>2380</td>\n",
       "      <td>N15980</td>\n",
       "      <td>124.0</td>\n",
       "      <td>138.0</td>\n",
       "      <td>108.0</td>\n",
       "      <td>2.0</td>\n",
       "      <td>16.0</td>\n",
       "      <td>IAH</td>\n",
       "      <td>AVL</td>\n",
       "      <td>834</td>\n",
       "      <td>4.0</td>\n",
       "      <td>12.0</td>\n",
       "      <td>0</td>\n",
       "      <td>NaN</td>\n",
       "      <td>0</td>\n",
       "      <td>NaN</td>\n",
       "      <td>NaN</td>\n",
       "      <td>NaN</td>\n",
       "      <td>NaN</td>\n",
       "      <td>NaN</td>\n",
       "    </tr>\n",
       "    <tr>\n",
       "      <th>2</th>\n",
       "      <td>2008</td>\n",
       "      <td>8</td>\n",
       "      <td>3</td>\n",
       "      <td>7</td>\n",
       "      <td>1143.0</td>\n",
       "      <td>1145</td>\n",
       "      <td>1501.0</td>\n",
       "      <td>1520</td>\n",
       "      <td>WN</td>\n",
       "      <td>1769</td>\n",
       "      <td>N464WN</td>\n",
       "      <td>138.0</td>\n",
       "      <td>155.0</td>\n",
       "      <td>125.0</td>\n",
       "      <td>-19.0</td>\n",
       "      <td>-2.0</td>\n",
       "      <td>MDW</td>\n",
       "      <td>TPA</td>\n",
       "      <td>997</td>\n",
       "      <td>4.0</td>\n",
       "      <td>9.0</td>\n",
       "      <td>0</td>\n",
       "      <td>NaN</td>\n",
       "      <td>0</td>\n",
       "      <td>NaN</td>\n",
       "      <td>NaN</td>\n",
       "      <td>NaN</td>\n",
       "      <td>NaN</td>\n",
       "      <td>NaN</td>\n",
       "    </tr>\n",
       "    <tr>\n",
       "      <th>3</th>\n",
       "      <td>2008</td>\n",
       "      <td>1</td>\n",
       "      <td>23</td>\n",
       "      <td>3</td>\n",
       "      <td>1141.0</td>\n",
       "      <td>1144</td>\n",
       "      <td>1323.0</td>\n",
       "      <td>1335</td>\n",
       "      <td>OO</td>\n",
       "      <td>3802</td>\n",
       "      <td>N465SW</td>\n",
       "      <td>102.0</td>\n",
       "      <td>111.0</td>\n",
       "      <td>79.0</td>\n",
       "      <td>-12.0</td>\n",
       "      <td>-3.0</td>\n",
       "      <td>SLC</td>\n",
       "      <td>FCA</td>\n",
       "      <td>532</td>\n",
       "      <td>4.0</td>\n",
       "      <td>19.0</td>\n",
       "      <td>0</td>\n",
       "      <td>NaN</td>\n",
       "      <td>0</td>\n",
       "      <td>NaN</td>\n",
       "      <td>NaN</td>\n",
       "      <td>NaN</td>\n",
       "      <td>NaN</td>\n",
       "      <td>NaN</td>\n",
       "    </tr>\n",
       "    <tr>\n",
       "      <th>4</th>\n",
       "      <td>2008</td>\n",
       "      <td>5</td>\n",
       "      <td>4</td>\n",
       "      <td>7</td>\n",
       "      <td>815.0</td>\n",
       "      <td>820</td>\n",
       "      <td>1243.0</td>\n",
       "      <td>1300</td>\n",
       "      <td>WN</td>\n",
       "      <td>399</td>\n",
       "      <td>N489WN</td>\n",
       "      <td>148.0</td>\n",
       "      <td>160.0</td>\n",
       "      <td>136.0</td>\n",
       "      <td>-17.0</td>\n",
       "      <td>-5.0</td>\n",
       "      <td>LAS</td>\n",
       "      <td>AUS</td>\n",
       "      <td>1090</td>\n",
       "      <td>4.0</td>\n",
       "      <td>8.0</td>\n",
       "      <td>0</td>\n",
       "      <td>NaN</td>\n",
       "      <td>0</td>\n",
       "      <td>NaN</td>\n",
       "      <td>NaN</td>\n",
       "      <td>NaN</td>\n",
       "      <td>NaN</td>\n",
       "      <td>NaN</td>\n",
       "    </tr>\n",
       "    <tr>\n",
       "      <th>5</th>\n",
       "      <td>2008</td>\n",
       "      <td>1</td>\n",
       "      <td>3</td>\n",
       "      <td>4</td>\n",
       "      <td>1349.0</td>\n",
       "      <td>1325</td>\n",
       "      <td>1640.0</td>\n",
       "      <td>1609</td>\n",
       "      <td>B6</td>\n",
       "      <td>834</td>\n",
       "      <td>N640JB</td>\n",
       "      <td>171.0</td>\n",
       "      <td>164.0</td>\n",
       "      <td>153.0</td>\n",
       "      <td>31.0</td>\n",
       "      <td>24.0</td>\n",
       "      <td>PBI</td>\n",
       "      <td>JFK</td>\n",
       "      <td>1028</td>\n",
       "      <td>5.0</td>\n",
       "      <td>13.0</td>\n",
       "      <td>0</td>\n",
       "      <td>NaN</td>\n",
       "      <td>0</td>\n",
       "      <td>13.0</td>\n",
       "      <td>0.0</td>\n",
       "      <td>7.0</td>\n",
       "      <td>0.0</td>\n",
       "      <td>11.0</td>\n",
       "    </tr>\n",
       "    <tr>\n",
       "      <th>6</th>\n",
       "      <td>2008</td>\n",
       "      <td>3</td>\n",
       "      <td>31</td>\n",
       "      <td>1</td>\n",
       "      <td>1359.0</td>\n",
       "      <td>1400</td>\n",
       "      <td>1413.0</td>\n",
       "      <td>1415</td>\n",
       "      <td>WN</td>\n",
       "      <td>1589</td>\n",
       "      <td>N387SW</td>\n",
       "      <td>74.0</td>\n",
       "      <td>75.0</td>\n",
       "      <td>55.0</td>\n",
       "      <td>-2.0</td>\n",
       "      <td>-1.0</td>\n",
       "      <td>ABQ</td>\n",
       "      <td>PHX</td>\n",
       "      <td>328</td>\n",
       "      <td>5.0</td>\n",
       "      <td>14.0</td>\n",
       "      <td>0</td>\n",
       "      <td>NaN</td>\n",
       "      <td>0</td>\n",
       "      <td>NaN</td>\n",
       "      <td>NaN</td>\n",
       "      <td>NaN</td>\n",
       "      <td>NaN</td>\n",
       "      <td>NaN</td>\n",
       "    </tr>\n",
       "    <tr>\n",
       "      <th>7</th>\n",
       "      <td>2008</td>\n",
       "      <td>4</td>\n",
       "      <td>22</td>\n",
       "      <td>2</td>\n",
       "      <td>1815.0</td>\n",
       "      <td>1820</td>\n",
       "      <td>2057.0</td>\n",
       "      <td>2131</td>\n",
       "      <td>DL</td>\n",
       "      <td>617</td>\n",
       "      <td>N3765</td>\n",
       "      <td>342.0</td>\n",
       "      <td>371.0</td>\n",
       "      <td>302.0</td>\n",
       "      <td>-34.0</td>\n",
       "      <td>-5.0</td>\n",
       "      <td>JFK</td>\n",
       "      <td>LAS</td>\n",
       "      <td>2248</td>\n",
       "      <td>9.0</td>\n",
       "      <td>31.0</td>\n",
       "      <td>0</td>\n",
       "      <td>NaN</td>\n",
       "      <td>0</td>\n",
       "      <td>NaN</td>\n",
       "      <td>NaN</td>\n",
       "      <td>NaN</td>\n",
       "      <td>NaN</td>\n",
       "      <td>NaN</td>\n",
       "    </tr>\n",
       "    <tr>\n",
       "      <th>8</th>\n",
       "      <td>2008</td>\n",
       "      <td>3</td>\n",
       "      <td>4</td>\n",
       "      <td>2</td>\n",
       "      <td>626.0</td>\n",
       "      <td>630</td>\n",
       "      <td>820.0</td>\n",
       "      <td>830</td>\n",
       "      <td>WN</td>\n",
       "      <td>454</td>\n",
       "      <td>N633SW</td>\n",
       "      <td>174.0</td>\n",
       "      <td>180.0</td>\n",
       "      <td>164.0</td>\n",
       "      <td>-10.0</td>\n",
       "      <td>-4.0</td>\n",
       "      <td>MCO</td>\n",
       "      <td>MCI</td>\n",
       "      <td>1072</td>\n",
       "      <td>4.0</td>\n",
       "      <td>6.0</td>\n",
       "      <td>0</td>\n",
       "      <td>NaN</td>\n",
       "      <td>0</td>\n",
       "      <td>NaN</td>\n",
       "      <td>NaN</td>\n",
       "      <td>NaN</td>\n",
       "      <td>NaN</td>\n",
       "      <td>NaN</td>\n",
       "    </tr>\n",
       "    <tr>\n",
       "      <th>9</th>\n",
       "      <td>2008</td>\n",
       "      <td>10</td>\n",
       "      <td>6</td>\n",
       "      <td>1</td>\n",
       "      <td>1905.0</td>\n",
       "      <td>1907</td>\n",
       "      <td>24.0</td>\n",
       "      <td>37</td>\n",
       "      <td>UA</td>\n",
       "      <td>270</td>\n",
       "      <td>N421UA</td>\n",
       "      <td>199.0</td>\n",
       "      <td>210.0</td>\n",
       "      <td>177.0</td>\n",
       "      <td>-13.0</td>\n",
       "      <td>-2.0</td>\n",
       "      <td>DEN</td>\n",
       "      <td>PHL</td>\n",
       "      <td>1557</td>\n",
       "      <td>6.0</td>\n",
       "      <td>16.0</td>\n",
       "      <td>0</td>\n",
       "      <td>NaN</td>\n",
       "      <td>0</td>\n",
       "      <td>NaN</td>\n",
       "      <td>NaN</td>\n",
       "      <td>NaN</td>\n",
       "      <td>NaN</td>\n",
       "      <td>NaN</td>\n",
       "    </tr>\n",
       "  </tbody>\n",
       "</table>\n",
       "</div>"
      ],
      "text/plain": [
       "   Year  Month  DayofMonth  DayOfWeek  DepTime  CRSDepTime  ArrTime  \\\n",
       "0  2008      6          18          3   2111.0        2055   2308.0   \n",
       "1  2008      6           4          3   1426.0        1410   1730.0   \n",
       "2  2008      8           3          7   1143.0        1145   1501.0   \n",
       "3  2008      1          23          3   1141.0        1144   1323.0   \n",
       "4  2008      5           4          7    815.0         820   1243.0   \n",
       "5  2008      1           3          4   1349.0        1325   1640.0   \n",
       "6  2008      3          31          1   1359.0        1400   1413.0   \n",
       "7  2008      4          22          2   1815.0        1820   2057.0   \n",
       "8  2008      3           4          2    626.0         630    820.0   \n",
       "9  2008     10           6          1   1905.0        1907     24.0   \n",
       "\n",
       "   CRSArrTime UniqueCarrier  FlightNum TailNum  ActualElapsedTime  \\\n",
       "0        2300            WN        242  N699SW               57.0   \n",
       "1        1728            XE       2380  N15980              124.0   \n",
       "2        1520            WN       1769  N464WN              138.0   \n",
       "3        1335            OO       3802  N465SW              102.0   \n",
       "4        1300            WN        399  N489WN              148.0   \n",
       "5        1609            B6        834  N640JB              171.0   \n",
       "6        1415            WN       1589  N387SW               74.0   \n",
       "7        2131            DL        617   N3765              342.0   \n",
       "8         830            WN        454  N633SW              174.0   \n",
       "9          37            UA        270  N421UA              199.0   \n",
       "\n",
       "   CRSElapsedTime  AirTime  ArrDelay  DepDelay Origin Dest  Distance  TaxiIn  \\\n",
       "0            65.0     46.0       8.0      16.0    MDW  CLE       307     3.0   \n",
       "1           138.0    108.0       2.0      16.0    IAH  AVL       834     4.0   \n",
       "2           155.0    125.0     -19.0      -2.0    MDW  TPA       997     4.0   \n",
       "3           111.0     79.0     -12.0      -3.0    SLC  FCA       532     4.0   \n",
       "4           160.0    136.0     -17.0      -5.0    LAS  AUS      1090     4.0   \n",
       "5           164.0    153.0      31.0      24.0    PBI  JFK      1028     5.0   \n",
       "6            75.0     55.0      -2.0      -1.0    ABQ  PHX       328     5.0   \n",
       "7           371.0    302.0     -34.0      -5.0    JFK  LAS      2248     9.0   \n",
       "8           180.0    164.0     -10.0      -4.0    MCO  MCI      1072     4.0   \n",
       "9           210.0    177.0     -13.0      -2.0    DEN  PHL      1557     6.0   \n",
       "\n",
       "   TaxiOut  Cancelled CancellationCode  Diverted  CarrierDelay  WeatherDelay  \\\n",
       "0      8.0          0              NaN         0           NaN           NaN   \n",
       "1     12.0          0              NaN         0           NaN           NaN   \n",
       "2      9.0          0              NaN         0           NaN           NaN   \n",
       "3     19.0          0              NaN         0           NaN           NaN   \n",
       "4      8.0          0              NaN         0           NaN           NaN   \n",
       "5     13.0          0              NaN         0          13.0           0.0   \n",
       "6     14.0          0              NaN         0           NaN           NaN   \n",
       "7     31.0          0              NaN         0           NaN           NaN   \n",
       "8      6.0          0              NaN         0           NaN           NaN   \n",
       "9     16.0          0              NaN         0           NaN           NaN   \n",
       "\n",
       "   NASDelay  SecurityDelay  LateAircraftDelay  \n",
       "0       NaN            NaN                NaN  \n",
       "1       NaN            NaN                NaN  \n",
       "2       NaN            NaN                NaN  \n",
       "3       NaN            NaN                NaN  \n",
       "4       NaN            NaN                NaN  \n",
       "5       7.0            0.0               11.0  \n",
       "6       NaN            NaN                NaN  \n",
       "7       NaN            NaN                NaN  \n",
       "8       NaN            NaN                NaN  \n",
       "9       NaN            NaN                NaN  "
      ]
     },
     "execution_count": 16,
     "metadata": {},
     "output_type": "execute_result"
    }
   ],
   "source": [
    "df = pd.read_csv('2008.csv')\n",
    "pd.set_option('display.max_columns', 100)\n",
    "df.head(10)"
   ]
  },
  {
   "cell_type": "markdown",
   "metadata": {},
   "source": [
    "Проверим, есть ли в данных пропущенные значения:"
   ]
  },
  {
   "cell_type": "code",
   "execution_count": 17,
   "metadata": {
    "collapsed": false
   },
   "outputs": [
    {
     "name": "stdout",
     "output_type": "stream",
     "text": [
      "<class 'pandas.core.frame.DataFrame'>\n",
      "RangeIndex: 70000 entries, 0 to 69999\n",
      "Data columns (total 29 columns):\n",
      "Year                 70000 non-null int64\n",
      "Month                70000 non-null int64\n",
      "DayofMonth           70000 non-null int64\n",
      "DayOfWeek            70000 non-null int64\n",
      "DepTime              68601 non-null float64\n",
      "CRSDepTime           70000 non-null int64\n",
      "ArrTime              68444 non-null float64\n",
      "CRSArrTime           70000 non-null int64\n",
      "UniqueCarrier        70000 non-null object\n",
      "FlightNum            70000 non-null int64\n",
      "TailNum              69180 non-null object\n",
      "ActualElapsedTime    68418 non-null float64\n",
      "CRSElapsedTime       69991 non-null float64\n",
      "AirTime              68418 non-null float64\n",
      "ArrDelay             68418 non-null float64\n",
      "DepDelay             68601 non-null float64\n",
      "Origin               70000 non-null object\n",
      "Dest                 70000 non-null object\n",
      "Distance             70000 non-null int64\n",
      "TaxiIn               68444 non-null float64\n",
      "TaxiOut              68594 non-null float64\n",
      "Cancelled            70000 non-null int64\n",
      "CancellationCode     1411 non-null object\n",
      "Diverted             70000 non-null int64\n",
      "CarrierDelay         15253 non-null float64\n",
      "WeatherDelay         15253 non-null float64\n",
      "NASDelay             15253 non-null float64\n",
      "SecurityDelay        15253 non-null float64\n",
      "LateAircraftDelay    15253 non-null float64\n",
      "dtypes: float64(14), int64(10), object(5)\n",
      "memory usage: 15.5+ MB\n"
     ]
    }
   ],
   "source": [
    "df.info()"
   ]
  },
  {
   "cell_type": "markdown",
   "metadata": {},
   "source": [
    "Из таблицы видно, что не все признаки содержат 70000 значений, то есть пропущенные данные есть."
   ]
  },
  {
   "cell_type": "code",
   "execution_count": 18,
   "metadata": {
    "collapsed": false
   },
   "outputs": [
    {
     "name": "stdout",
     "output_type": "stream",
     "text": [
      "Всего в таблице пропущено 355215 значений\n"
     ]
    }
   ],
   "source": [
    "print('Всего в таблице пропущено {0} значений'.format(df.isnull().sum().sum()))"
   ]
  },
  {
   "cell_type": "code",
   "execution_count": 19,
   "metadata": {
    "collapsed": false
   },
   "outputs": [
    {
     "name": "stdout",
     "output_type": "stream",
     "text": [
      "70000 объектов имеют хотя бы один пропуск\n"
     ]
    }
   ],
   "source": [
    "print('{0} объектов имеют хотя бы один пропуск'.format(df.isnull().any(axis=1).sum()))"
   ]
  },
  {
   "cell_type": "code",
   "execution_count": 20,
   "metadata": {
    "collapsed": false
   },
   "outputs": [
    {
     "name": "stdout",
     "output_type": "stream",
     "text": [
      "16 признаков имеют хотя бы одно пропущенное значение\n"
     ]
    }
   ],
   "source": [
    "print('{0} признаков имеют хотя бы одно пропущенное значение'.format(df.isnull().any(axis=0).sum()))"
   ]
  },
  {
   "cell_type": "markdown",
   "metadata": {},
   "source": [
    "Но как следует из таблицы, действительно пропущенные значения содержатся в столбцах `DepTime`, `ArrTime`, `DepDelay`, `TailNum`, `TaxiIn`, `TaxiOut`, то есть количество пропущенных значений разнится и очевидной причины для этого нет. Напротив, пропуски в `ActualElapsedTime`, `AirTime` и `ArrDelay` должны быть как-то связаны, потому что для каждого признака их ровно 68418, что подозрительно. В столбце `CancellationCode` содержится только 1411 значений, поскольку этот признак соответсвует только отменённым рейсам. Чтобы понять, есть ли действительно пропущенные значения в этом признаке надо посчитать, сколько самолётов было отмнено, и сравнить полученные резульаты:"
   ]
  },
  {
   "cell_type": "code",
   "execution_count": 21,
   "metadata": {
    "collapsed": false
   },
   "outputs": [
    {
     "data": {
      "text/plain": [
       "1411"
      ]
     },
     "execution_count": 21,
     "metadata": {},
     "output_type": "execute_result"
    }
   ],
   "source": [
    "df[df['Cancelled']!=0].shape[0]"
   ]
  },
  {
   "cell_type": "markdown",
   "metadata": {},
   "source": [
    "Получили, что для каждого отменённого самолёта указана причина отмены, так что пропуски «условны» и их можно воспринимать как признак того, что рейс не отменён.\n",
    "\n",
    "Что касается столбцов `CarrierDelay`, `WeatherDelay`, `NASDelay`, `SecurityDelay`, `LateAircraftDelay`, то для них указаны значения только тогда, когда рейс задерживался более чем на 15 минут:"
   ]
  },
  {
   "cell_type": "code",
   "execution_count": 22,
   "metadata": {
    "collapsed": false
   },
   "outputs": [
    {
     "data": {
      "text/html": [
       "<div>\n",
       "<table border=\"1\" class=\"dataframe\">\n",
       "  <thead>\n",
       "    <tr style=\"text-align: right;\">\n",
       "      <th></th>\n",
       "      <th>Year</th>\n",
       "      <th>Month</th>\n",
       "      <th>DayofMonth</th>\n",
       "      <th>DayOfWeek</th>\n",
       "      <th>DepTime</th>\n",
       "      <th>CRSDepTime</th>\n",
       "      <th>ArrTime</th>\n",
       "      <th>CRSArrTime</th>\n",
       "      <th>UniqueCarrier</th>\n",
       "      <th>FlightNum</th>\n",
       "      <th>TailNum</th>\n",
       "      <th>ActualElapsedTime</th>\n",
       "      <th>CRSElapsedTime</th>\n",
       "      <th>AirTime</th>\n",
       "      <th>ArrDelay</th>\n",
       "      <th>DepDelay</th>\n",
       "      <th>Origin</th>\n",
       "      <th>Dest</th>\n",
       "      <th>Distance</th>\n",
       "      <th>TaxiIn</th>\n",
       "      <th>TaxiOut</th>\n",
       "      <th>Cancelled</th>\n",
       "      <th>CancellationCode</th>\n",
       "      <th>Diverted</th>\n",
       "      <th>CarrierDelay</th>\n",
       "      <th>WeatherDelay</th>\n",
       "      <th>NASDelay</th>\n",
       "      <th>SecurityDelay</th>\n",
       "      <th>LateAircraftDelay</th>\n",
       "    </tr>\n",
       "  </thead>\n",
       "  <tbody>\n",
       "    <tr>\n",
       "      <th>5</th>\n",
       "      <td>2008</td>\n",
       "      <td>1</td>\n",
       "      <td>3</td>\n",
       "      <td>4</td>\n",
       "      <td>1349.0</td>\n",
       "      <td>1325</td>\n",
       "      <td>1640.0</td>\n",
       "      <td>1609</td>\n",
       "      <td>B6</td>\n",
       "      <td>834</td>\n",
       "      <td>N640JB</td>\n",
       "      <td>171.0</td>\n",
       "      <td>164.0</td>\n",
       "      <td>153.0</td>\n",
       "      <td>31.0</td>\n",
       "      <td>24.0</td>\n",
       "      <td>PBI</td>\n",
       "      <td>JFK</td>\n",
       "      <td>1028</td>\n",
       "      <td>5.0</td>\n",
       "      <td>13.0</td>\n",
       "      <td>0</td>\n",
       "      <td>NaN</td>\n",
       "      <td>0</td>\n",
       "      <td>13.0</td>\n",
       "      <td>0.0</td>\n",
       "      <td>7.0</td>\n",
       "      <td>0.0</td>\n",
       "      <td>11.0</td>\n",
       "    </tr>\n",
       "    <tr>\n",
       "      <th>10</th>\n",
       "      <td>2008</td>\n",
       "      <td>11</td>\n",
       "      <td>16</td>\n",
       "      <td>7</td>\n",
       "      <td>2042.0</td>\n",
       "      <td>2000</td>\n",
       "      <td>35.0</td>\n",
       "      <td>2355</td>\n",
       "      <td>WN</td>\n",
       "      <td>3596</td>\n",
       "      <td>N325SW</td>\n",
       "      <td>173.0</td>\n",
       "      <td>175.0</td>\n",
       "      <td>146.0</td>\n",
       "      <td>40.0</td>\n",
       "      <td>42.0</td>\n",
       "      <td>MDW</td>\n",
       "      <td>FLL</td>\n",
       "      <td>1166</td>\n",
       "      <td>5.0</td>\n",
       "      <td>22.0</td>\n",
       "      <td>0</td>\n",
       "      <td>NaN</td>\n",
       "      <td>0</td>\n",
       "      <td>40.0</td>\n",
       "      <td>0.0</td>\n",
       "      <td>0.0</td>\n",
       "      <td>0.0</td>\n",
       "      <td>0.0</td>\n",
       "    </tr>\n",
       "    <tr>\n",
       "      <th>12</th>\n",
       "      <td>2008</td>\n",
       "      <td>12</td>\n",
       "      <td>23</td>\n",
       "      <td>2</td>\n",
       "      <td>1101.0</td>\n",
       "      <td>1050</td>\n",
       "      <td>1554.0</td>\n",
       "      <td>1535</td>\n",
       "      <td>FL</td>\n",
       "      <td>52</td>\n",
       "      <td>N316AT</td>\n",
       "      <td>233.0</td>\n",
       "      <td>225.0</td>\n",
       "      <td>218.0</td>\n",
       "      <td>19.0</td>\n",
       "      <td>11.0</td>\n",
       "      <td>BWI</td>\n",
       "      <td>SJU</td>\n",
       "      <td>1565</td>\n",
       "      <td>4.0</td>\n",
       "      <td>11.0</td>\n",
       "      <td>0</td>\n",
       "      <td>NaN</td>\n",
       "      <td>0</td>\n",
       "      <td>11.0</td>\n",
       "      <td>0.0</td>\n",
       "      <td>8.0</td>\n",
       "      <td>0.0</td>\n",
       "      <td>0.0</td>\n",
       "    </tr>\n",
       "    <tr>\n",
       "      <th>17</th>\n",
       "      <td>2008</td>\n",
       "      <td>7</td>\n",
       "      <td>8</td>\n",
       "      <td>2</td>\n",
       "      <td>1951.0</td>\n",
       "      <td>1950</td>\n",
       "      <td>2203.0</td>\n",
       "      <td>2111</td>\n",
       "      <td>US</td>\n",
       "      <td>1632</td>\n",
       "      <td>N957UW</td>\n",
       "      <td>132.0</td>\n",
       "      <td>81.0</td>\n",
       "      <td>59.0</td>\n",
       "      <td>52.0</td>\n",
       "      <td>1.0</td>\n",
       "      <td>CLT</td>\n",
       "      <td>IAD</td>\n",
       "      <td>321</td>\n",
       "      <td>8.0</td>\n",
       "      <td>65.0</td>\n",
       "      <td>0</td>\n",
       "      <td>NaN</td>\n",
       "      <td>0</td>\n",
       "      <td>0.0</td>\n",
       "      <td>1.0</td>\n",
       "      <td>51.0</td>\n",
       "      <td>0.0</td>\n",
       "      <td>0.0</td>\n",
       "    </tr>\n",
       "    <tr>\n",
       "      <th>23</th>\n",
       "      <td>2008</td>\n",
       "      <td>5</td>\n",
       "      <td>19</td>\n",
       "      <td>1</td>\n",
       "      <td>2032.0</td>\n",
       "      <td>2000</td>\n",
       "      <td>2207.0</td>\n",
       "      <td>2146</td>\n",
       "      <td>US</td>\n",
       "      <td>1528</td>\n",
       "      <td>N532AU</td>\n",
       "      <td>95.0</td>\n",
       "      <td>106.0</td>\n",
       "      <td>71.0</td>\n",
       "      <td>21.0</td>\n",
       "      <td>32.0</td>\n",
       "      <td>CLT</td>\n",
       "      <td>PHL</td>\n",
       "      <td>448</td>\n",
       "      <td>3.0</td>\n",
       "      <td>21.0</td>\n",
       "      <td>0</td>\n",
       "      <td>NaN</td>\n",
       "      <td>0</td>\n",
       "      <td>0.0</td>\n",
       "      <td>0.0</td>\n",
       "      <td>0.0</td>\n",
       "      <td>0.0</td>\n",
       "      <td>21.0</td>\n",
       "    </tr>\n",
       "  </tbody>\n",
       "</table>\n",
       "</div>"
      ],
      "text/plain": [
       "    Year  Month  DayofMonth  DayOfWeek  DepTime  CRSDepTime  ArrTime  \\\n",
       "5   2008      1           3          4   1349.0        1325   1640.0   \n",
       "10  2008     11          16          7   2042.0        2000     35.0   \n",
       "12  2008     12          23          2   1101.0        1050   1554.0   \n",
       "17  2008      7           8          2   1951.0        1950   2203.0   \n",
       "23  2008      5          19          1   2032.0        2000   2207.0   \n",
       "\n",
       "    CRSArrTime UniqueCarrier  FlightNum TailNum  ActualElapsedTime  \\\n",
       "5         1609            B6        834  N640JB              171.0   \n",
       "10        2355            WN       3596  N325SW              173.0   \n",
       "12        1535            FL         52  N316AT              233.0   \n",
       "17        2111            US       1632  N957UW              132.0   \n",
       "23        2146            US       1528  N532AU               95.0   \n",
       "\n",
       "    CRSElapsedTime  AirTime  ArrDelay  DepDelay Origin Dest  Distance  TaxiIn  \\\n",
       "5            164.0    153.0      31.0      24.0    PBI  JFK      1028     5.0   \n",
       "10           175.0    146.0      40.0      42.0    MDW  FLL      1166     5.0   \n",
       "12           225.0    218.0      19.0      11.0    BWI  SJU      1565     4.0   \n",
       "17            81.0     59.0      52.0       1.0    CLT  IAD       321     8.0   \n",
       "23           106.0     71.0      21.0      32.0    CLT  PHL       448     3.0   \n",
       "\n",
       "    TaxiOut  Cancelled CancellationCode  Diverted  CarrierDelay  WeatherDelay  \\\n",
       "5      13.0          0              NaN         0          13.0           0.0   \n",
       "10     22.0          0              NaN         0          40.0           0.0   \n",
       "12     11.0          0              NaN         0          11.0           0.0   \n",
       "17     65.0          0              NaN         0           0.0           1.0   \n",
       "23     21.0          0              NaN         0           0.0           0.0   \n",
       "\n",
       "    NASDelay  SecurityDelay  LateAircraftDelay  \n",
       "5        7.0            0.0               11.0  \n",
       "10       0.0            0.0                0.0  \n",
       "12       8.0            0.0                0.0  \n",
       "17      51.0            0.0                0.0  \n",
       "23       0.0            0.0               21.0  "
      ]
     },
     "execution_count": 22,
     "metadata": {},
     "output_type": "execute_result"
    }
   ],
   "source": [
    "df[np.isnan(df['CarrierDelay'])==False].head()"
   ]
  },
  {
   "cell_type": "code",
   "execution_count": 23,
   "metadata": {
    "collapsed": false
   },
   "outputs": [
    {
     "data": {
      "text/html": [
       "<div>\n",
       "<table border=\"1\" class=\"dataframe\">\n",
       "  <thead>\n",
       "    <tr style=\"text-align: right;\">\n",
       "      <th></th>\n",
       "      <th>ArrDelay</th>\n",
       "      <th>CarrierDelay</th>\n",
       "      <th>WeatherDelay</th>\n",
       "      <th>NASDelay</th>\n",
       "      <th>SecurityDelay</th>\n",
       "      <th>LateAircraftDelay</th>\n",
       "    </tr>\n",
       "  </thead>\n",
       "  <tbody>\n",
       "    <tr>\n",
       "      <th>34</th>\n",
       "      <td>16.0</td>\n",
       "      <td>0.0</td>\n",
       "      <td>0.0</td>\n",
       "      <td>16.0</td>\n",
       "      <td>0.0</td>\n",
       "      <td>0.0</td>\n",
       "    </tr>\n",
       "    <tr>\n",
       "      <th>40</th>\n",
       "      <td>16.0</td>\n",
       "      <td>0.0</td>\n",
       "      <td>0.0</td>\n",
       "      <td>16.0</td>\n",
       "      <td>0.0</td>\n",
       "      <td>0.0</td>\n",
       "    </tr>\n",
       "    <tr>\n",
       "      <th>57</th>\n",
       "      <td>14.0</td>\n",
       "      <td>NaN</td>\n",
       "      <td>NaN</td>\n",
       "      <td>NaN</td>\n",
       "      <td>NaN</td>\n",
       "      <td>NaN</td>\n",
       "    </tr>\n",
       "    <tr>\n",
       "      <th>64</th>\n",
       "      <td>15.0</td>\n",
       "      <td>0.0</td>\n",
       "      <td>0.0</td>\n",
       "      <td>15.0</td>\n",
       "      <td>0.0</td>\n",
       "      <td>0.0</td>\n",
       "    </tr>\n",
       "    <tr>\n",
       "      <th>67</th>\n",
       "      <td>14.0</td>\n",
       "      <td>NaN</td>\n",
       "      <td>NaN</td>\n",
       "      <td>NaN</td>\n",
       "      <td>NaN</td>\n",
       "      <td>NaN</td>\n",
       "    </tr>\n",
       "  </tbody>\n",
       "</table>\n",
       "</div>"
      ],
      "text/plain": [
       "    ArrDelay  CarrierDelay  WeatherDelay  NASDelay  SecurityDelay  \\\n",
       "34      16.0           0.0           0.0      16.0            0.0   \n",
       "40      16.0           0.0           0.0      16.0            0.0   \n",
       "57      14.0           NaN           NaN       NaN            NaN   \n",
       "64      15.0           0.0           0.0      15.0            0.0   \n",
       "67      14.0           NaN           NaN       NaN            NaN   \n",
       "\n",
       "    LateAircraftDelay  \n",
       "34                0.0  \n",
       "40                0.0  \n",
       "57                NaN  \n",
       "64                0.0  \n",
       "67                NaN  "
      ]
     },
     "execution_count": 23,
     "metadata": {},
     "output_type": "execute_result"
    }
   ],
   "source": [
    "df[(df['ArrDelay']>13) & (df['ArrDelay']<17)][['ArrDelay', 'CarrierDelay', 'WeatherDelay', 'NASDelay', 'SecurityDelay', 'LateAircraftDelay']].head()"
   ]
  },
  {
   "cell_type": "markdown",
   "metadata": {},
   "source": [
    "Как вы понимаете, также не имеет смысла рассматривать при решении поставленной задачи объекты с пропущенным значением целевой переменной. В связи с этим ответьте на следующие вопросы и выполните соответствующие действия:\n",
    "- Имеются ли пропущенные значения в целевой переменной?\n",
    "- Проанализируйте объекты с пропущенными значениями целевой переменной. Чем вызвано это явление? Что их объединяет? Можно ли в связи с этим, на ваш взгляд, исключить какие-то признаки из рассмотрения? Обоснуйте свою точку зрения.\n",
    "\n",
    "Исключите из выборки объекты **с пропущенным значением целевой переменной и со значением целевой переменной, равным 0**, а также при необходимости исключите признаки в соответствии с вашим ответом на последний вопрос из списка и выделите целевую переменную в отдельный вектор, исключив её из матрицы \"объект-признак\"."
   ]
  },
  {
   "cell_type": "code",
   "execution_count": 24,
   "metadata": {
    "collapsed": false
   },
   "outputs": [
    {
     "name": "stdout",
     "output_type": "stream",
     "text": [
      "В целевой переменной DepDelay 1399 пропущенных значений\n"
     ]
    }
   ],
   "source": [
    "print('В целевой переменной DepDelay {0} пропущенных значений'.format(df['DepDelay'].isnull().sum()))"
   ]
  },
  {
   "cell_type": "markdown",
   "metadata": {},
   "source": [
    "Посмотрим на объекты, у которых отсутствует значение целевой переменной:"
   ]
  },
  {
   "cell_type": "code",
   "execution_count": 25,
   "metadata": {
    "collapsed": false
   },
   "outputs": [
    {
     "data": {
      "text/html": [
       "<div>\n",
       "<table border=\"1\" class=\"dataframe\">\n",
       "  <thead>\n",
       "    <tr style=\"text-align: right;\">\n",
       "      <th></th>\n",
       "      <th>Year</th>\n",
       "      <th>Month</th>\n",
       "      <th>DayofMonth</th>\n",
       "      <th>DayOfWeek</th>\n",
       "      <th>DepTime</th>\n",
       "      <th>CRSDepTime</th>\n",
       "      <th>ArrTime</th>\n",
       "      <th>CRSArrTime</th>\n",
       "      <th>UniqueCarrier</th>\n",
       "      <th>FlightNum</th>\n",
       "      <th>TailNum</th>\n",
       "      <th>ActualElapsedTime</th>\n",
       "      <th>CRSElapsedTime</th>\n",
       "      <th>AirTime</th>\n",
       "      <th>ArrDelay</th>\n",
       "      <th>DepDelay</th>\n",
       "      <th>Origin</th>\n",
       "      <th>Dest</th>\n",
       "      <th>Distance</th>\n",
       "      <th>TaxiIn</th>\n",
       "      <th>TaxiOut</th>\n",
       "      <th>Cancelled</th>\n",
       "      <th>CancellationCode</th>\n",
       "      <th>Diverted</th>\n",
       "      <th>CarrierDelay</th>\n",
       "      <th>WeatherDelay</th>\n",
       "      <th>NASDelay</th>\n",
       "      <th>SecurityDelay</th>\n",
       "      <th>LateAircraftDelay</th>\n",
       "    </tr>\n",
       "  </thead>\n",
       "  <tbody>\n",
       "    <tr>\n",
       "      <th>11</th>\n",
       "      <td>2008</td>\n",
       "      <td>3</td>\n",
       "      <td>6</td>\n",
       "      <td>4</td>\n",
       "      <td>NaN</td>\n",
       "      <td>1605</td>\n",
       "      <td>NaN</td>\n",
       "      <td>1940</td>\n",
       "      <td>AA</td>\n",
       "      <td>484</td>\n",
       "      <td>NaN</td>\n",
       "      <td>NaN</td>\n",
       "      <td>155.0</td>\n",
       "      <td>NaN</td>\n",
       "      <td>NaN</td>\n",
       "      <td>NaN</td>\n",
       "      <td>DFW</td>\n",
       "      <td>MIA</td>\n",
       "      <td>1121</td>\n",
       "      <td>NaN</td>\n",
       "      <td>NaN</td>\n",
       "      <td>1</td>\n",
       "      <td>B</td>\n",
       "      <td>0</td>\n",
       "      <td>NaN</td>\n",
       "      <td>NaN</td>\n",
       "      <td>NaN</td>\n",
       "      <td>NaN</td>\n",
       "      <td>NaN</td>\n",
       "    </tr>\n",
       "    <tr>\n",
       "      <th>78</th>\n",
       "      <td>2008</td>\n",
       "      <td>1</td>\n",
       "      <td>19</td>\n",
       "      <td>6</td>\n",
       "      <td>NaN</td>\n",
       "      <td>750</td>\n",
       "      <td>NaN</td>\n",
       "      <td>930</td>\n",
       "      <td>EV</td>\n",
       "      <td>4772</td>\n",
       "      <td>N683BR</td>\n",
       "      <td>NaN</td>\n",
       "      <td>100.0</td>\n",
       "      <td>NaN</td>\n",
       "      <td>NaN</td>\n",
       "      <td>NaN</td>\n",
       "      <td>ATL</td>\n",
       "      <td>CAK</td>\n",
       "      <td>528</td>\n",
       "      <td>NaN</td>\n",
       "      <td>NaN</td>\n",
       "      <td>1</td>\n",
       "      <td>B</td>\n",
       "      <td>0</td>\n",
       "      <td>NaN</td>\n",
       "      <td>NaN</td>\n",
       "      <td>NaN</td>\n",
       "      <td>NaN</td>\n",
       "      <td>NaN</td>\n",
       "    </tr>\n",
       "    <tr>\n",
       "      <th>103</th>\n",
       "      <td>2008</td>\n",
       "      <td>7</td>\n",
       "      <td>24</td>\n",
       "      <td>4</td>\n",
       "      <td>NaN</td>\n",
       "      <td>1230</td>\n",
       "      <td>NaN</td>\n",
       "      <td>1355</td>\n",
       "      <td>FL</td>\n",
       "      <td>816</td>\n",
       "      <td>N990AT</td>\n",
       "      <td>NaN</td>\n",
       "      <td>85.0</td>\n",
       "      <td>NaN</td>\n",
       "      <td>NaN</td>\n",
       "      <td>NaN</td>\n",
       "      <td>BOS</td>\n",
       "      <td>BWI</td>\n",
       "      <td>370</td>\n",
       "      <td>NaN</td>\n",
       "      <td>NaN</td>\n",
       "      <td>1</td>\n",
       "      <td>A</td>\n",
       "      <td>0</td>\n",
       "      <td>NaN</td>\n",
       "      <td>NaN</td>\n",
       "      <td>NaN</td>\n",
       "      <td>NaN</td>\n",
       "      <td>NaN</td>\n",
       "    </tr>\n",
       "    <tr>\n",
       "      <th>112</th>\n",
       "      <td>2008</td>\n",
       "      <td>2</td>\n",
       "      <td>4</td>\n",
       "      <td>1</td>\n",
       "      <td>NaN</td>\n",
       "      <td>620</td>\n",
       "      <td>NaN</td>\n",
       "      <td>758</td>\n",
       "      <td>NW</td>\n",
       "      <td>1281</td>\n",
       "      <td>N526US</td>\n",
       "      <td>NaN</td>\n",
       "      <td>98.0</td>\n",
       "      <td>NaN</td>\n",
       "      <td>NaN</td>\n",
       "      <td>NaN</td>\n",
       "      <td>MDW</td>\n",
       "      <td>MSP</td>\n",
       "      <td>349</td>\n",
       "      <td>NaN</td>\n",
       "      <td>NaN</td>\n",
       "      <td>1</td>\n",
       "      <td>B</td>\n",
       "      <td>0</td>\n",
       "      <td>NaN</td>\n",
       "      <td>NaN</td>\n",
       "      <td>NaN</td>\n",
       "      <td>NaN</td>\n",
       "      <td>NaN</td>\n",
       "    </tr>\n",
       "    <tr>\n",
       "      <th>128</th>\n",
       "      <td>2008</td>\n",
       "      <td>1</td>\n",
       "      <td>21</td>\n",
       "      <td>1</td>\n",
       "      <td>NaN</td>\n",
       "      <td>1838</td>\n",
       "      <td>NaN</td>\n",
       "      <td>2005</td>\n",
       "      <td>UA</td>\n",
       "      <td>1251</td>\n",
       "      <td>NaN</td>\n",
       "      <td>NaN</td>\n",
       "      <td>87.0</td>\n",
       "      <td>NaN</td>\n",
       "      <td>NaN</td>\n",
       "      <td>NaN</td>\n",
       "      <td>DSM</td>\n",
       "      <td>ORD</td>\n",
       "      <td>299</td>\n",
       "      <td>NaN</td>\n",
       "      <td>NaN</td>\n",
       "      <td>1</td>\n",
       "      <td>A</td>\n",
       "      <td>0</td>\n",
       "      <td>NaN</td>\n",
       "      <td>NaN</td>\n",
       "      <td>NaN</td>\n",
       "      <td>NaN</td>\n",
       "      <td>NaN</td>\n",
       "    </tr>\n",
       "    <tr>\n",
       "      <th>194</th>\n",
       "      <td>2008</td>\n",
       "      <td>1</td>\n",
       "      <td>28</td>\n",
       "      <td>1</td>\n",
       "      <td>NaN</td>\n",
       "      <td>1640</td>\n",
       "      <td>NaN</td>\n",
       "      <td>1719</td>\n",
       "      <td>UA</td>\n",
       "      <td>753</td>\n",
       "      <td>NaN</td>\n",
       "      <td>NaN</td>\n",
       "      <td>99.0</td>\n",
       "      <td>NaN</td>\n",
       "      <td>NaN</td>\n",
       "      <td>NaN</td>\n",
       "      <td>CLE</td>\n",
       "      <td>ORD</td>\n",
       "      <td>316</td>\n",
       "      <td>NaN</td>\n",
       "      <td>NaN</td>\n",
       "      <td>1</td>\n",
       "      <td>C</td>\n",
       "      <td>0</td>\n",
       "      <td>NaN</td>\n",
       "      <td>NaN</td>\n",
       "      <td>NaN</td>\n",
       "      <td>NaN</td>\n",
       "      <td>NaN</td>\n",
       "    </tr>\n",
       "    <tr>\n",
       "      <th>204</th>\n",
       "      <td>2008</td>\n",
       "      <td>6</td>\n",
       "      <td>13</td>\n",
       "      <td>5</td>\n",
       "      <td>NaN</td>\n",
       "      <td>1229</td>\n",
       "      <td>NaN</td>\n",
       "      <td>1421</td>\n",
       "      <td>OH</td>\n",
       "      <td>5765</td>\n",
       "      <td>N528CA</td>\n",
       "      <td>NaN</td>\n",
       "      <td>112.0</td>\n",
       "      <td>NaN</td>\n",
       "      <td>NaN</td>\n",
       "      <td>NaN</td>\n",
       "      <td>LGA</td>\n",
       "      <td>RDU</td>\n",
       "      <td>431</td>\n",
       "      <td>NaN</td>\n",
       "      <td>NaN</td>\n",
       "      <td>1</td>\n",
       "      <td>A</td>\n",
       "      <td>0</td>\n",
       "      <td>NaN</td>\n",
       "      <td>NaN</td>\n",
       "      <td>NaN</td>\n",
       "      <td>NaN</td>\n",
       "      <td>NaN</td>\n",
       "    </tr>\n",
       "    <tr>\n",
       "      <th>236</th>\n",
       "      <td>2008</td>\n",
       "      <td>7</td>\n",
       "      <td>19</td>\n",
       "      <td>6</td>\n",
       "      <td>NaN</td>\n",
       "      <td>544</td>\n",
       "      <td>NaN</td>\n",
       "      <td>917</td>\n",
       "      <td>OO</td>\n",
       "      <td>6151</td>\n",
       "      <td>N728SK</td>\n",
       "      <td>NaN</td>\n",
       "      <td>153.0</td>\n",
       "      <td>NaN</td>\n",
       "      <td>NaN</td>\n",
       "      <td>NaN</td>\n",
       "      <td>EUG</td>\n",
       "      <td>DEN</td>\n",
       "      <td>997</td>\n",
       "      <td>NaN</td>\n",
       "      <td>NaN</td>\n",
       "      <td>1</td>\n",
       "      <td>A</td>\n",
       "      <td>0</td>\n",
       "      <td>NaN</td>\n",
       "      <td>NaN</td>\n",
       "      <td>NaN</td>\n",
       "      <td>NaN</td>\n",
       "      <td>NaN</td>\n",
       "    </tr>\n",
       "    <tr>\n",
       "      <th>257</th>\n",
       "      <td>2008</td>\n",
       "      <td>4</td>\n",
       "      <td>19</td>\n",
       "      <td>6</td>\n",
       "      <td>NaN</td>\n",
       "      <td>1345</td>\n",
       "      <td>NaN</td>\n",
       "      <td>1435</td>\n",
       "      <td>AA</td>\n",
       "      <td>1853</td>\n",
       "      <td>NaN</td>\n",
       "      <td>NaN</td>\n",
       "      <td>110.0</td>\n",
       "      <td>NaN</td>\n",
       "      <td>NaN</td>\n",
       "      <td>NaN</td>\n",
       "      <td>DFW</td>\n",
       "      <td>COS</td>\n",
       "      <td>592</td>\n",
       "      <td>NaN</td>\n",
       "      <td>NaN</td>\n",
       "      <td>1</td>\n",
       "      <td>A</td>\n",
       "      <td>0</td>\n",
       "      <td>NaN</td>\n",
       "      <td>NaN</td>\n",
       "      <td>NaN</td>\n",
       "      <td>NaN</td>\n",
       "      <td>NaN</td>\n",
       "    </tr>\n",
       "    <tr>\n",
       "      <th>267</th>\n",
       "      <td>2008</td>\n",
       "      <td>9</td>\n",
       "      <td>23</td>\n",
       "      <td>2</td>\n",
       "      <td>NaN</td>\n",
       "      <td>1400</td>\n",
       "      <td>NaN</td>\n",
       "      <td>1515</td>\n",
       "      <td>WN</td>\n",
       "      <td>2049</td>\n",
       "      <td>NaN</td>\n",
       "      <td>NaN</td>\n",
       "      <td>75.0</td>\n",
       "      <td>NaN</td>\n",
       "      <td>NaN</td>\n",
       "      <td>NaN</td>\n",
       "      <td>OAK</td>\n",
       "      <td>ONT</td>\n",
       "      <td>361</td>\n",
       "      <td>NaN</td>\n",
       "      <td>NaN</td>\n",
       "      <td>1</td>\n",
       "      <td>A</td>\n",
       "      <td>0</td>\n",
       "      <td>NaN</td>\n",
       "      <td>NaN</td>\n",
       "      <td>NaN</td>\n",
       "      <td>NaN</td>\n",
       "      <td>NaN</td>\n",
       "    </tr>\n",
       "  </tbody>\n",
       "</table>\n",
       "</div>"
      ],
      "text/plain": [
       "     Year  Month  DayofMonth  DayOfWeek  DepTime  CRSDepTime  ArrTime  \\\n",
       "11   2008      3           6          4      NaN        1605      NaN   \n",
       "78   2008      1          19          6      NaN         750      NaN   \n",
       "103  2008      7          24          4      NaN        1230      NaN   \n",
       "112  2008      2           4          1      NaN         620      NaN   \n",
       "128  2008      1          21          1      NaN        1838      NaN   \n",
       "194  2008      1          28          1      NaN        1640      NaN   \n",
       "204  2008      6          13          5      NaN        1229      NaN   \n",
       "236  2008      7          19          6      NaN         544      NaN   \n",
       "257  2008      4          19          6      NaN        1345      NaN   \n",
       "267  2008      9          23          2      NaN        1400      NaN   \n",
       "\n",
       "     CRSArrTime UniqueCarrier  FlightNum TailNum  ActualElapsedTime  \\\n",
       "11         1940            AA        484     NaN                NaN   \n",
       "78          930            EV       4772  N683BR                NaN   \n",
       "103        1355            FL        816  N990AT                NaN   \n",
       "112         758            NW       1281  N526US                NaN   \n",
       "128        2005            UA       1251     NaN                NaN   \n",
       "194        1719            UA        753     NaN                NaN   \n",
       "204        1421            OH       5765  N528CA                NaN   \n",
       "236         917            OO       6151  N728SK                NaN   \n",
       "257        1435            AA       1853     NaN                NaN   \n",
       "267        1515            WN       2049     NaN                NaN   \n",
       "\n",
       "     CRSElapsedTime  AirTime  ArrDelay  DepDelay Origin Dest  Distance  \\\n",
       "11            155.0      NaN       NaN       NaN    DFW  MIA      1121   \n",
       "78            100.0      NaN       NaN       NaN    ATL  CAK       528   \n",
       "103            85.0      NaN       NaN       NaN    BOS  BWI       370   \n",
       "112            98.0      NaN       NaN       NaN    MDW  MSP       349   \n",
       "128            87.0      NaN       NaN       NaN    DSM  ORD       299   \n",
       "194            99.0      NaN       NaN       NaN    CLE  ORD       316   \n",
       "204           112.0      NaN       NaN       NaN    LGA  RDU       431   \n",
       "236           153.0      NaN       NaN       NaN    EUG  DEN       997   \n",
       "257           110.0      NaN       NaN       NaN    DFW  COS       592   \n",
       "267            75.0      NaN       NaN       NaN    OAK  ONT       361   \n",
       "\n",
       "     TaxiIn  TaxiOut  Cancelled CancellationCode  Diverted  CarrierDelay  \\\n",
       "11      NaN      NaN          1                B         0           NaN   \n",
       "78      NaN      NaN          1                B         0           NaN   \n",
       "103     NaN      NaN          1                A         0           NaN   \n",
       "112     NaN      NaN          1                B         0           NaN   \n",
       "128     NaN      NaN          1                A         0           NaN   \n",
       "194     NaN      NaN          1                C         0           NaN   \n",
       "204     NaN      NaN          1                A         0           NaN   \n",
       "236     NaN      NaN          1                A         0           NaN   \n",
       "257     NaN      NaN          1                A         0           NaN   \n",
       "267     NaN      NaN          1                A         0           NaN   \n",
       "\n",
       "     WeatherDelay  NASDelay  SecurityDelay  LateAircraftDelay  \n",
       "11            NaN       NaN            NaN                NaN  \n",
       "78            NaN       NaN            NaN                NaN  \n",
       "103           NaN       NaN            NaN                NaN  \n",
       "112           NaN       NaN            NaN                NaN  \n",
       "128           NaN       NaN            NaN                NaN  \n",
       "194           NaN       NaN            NaN                NaN  \n",
       "204           NaN       NaN            NaN                NaN  \n",
       "236           NaN       NaN            NaN                NaN  \n",
       "257           NaN       NaN            NaN                NaN  \n",
       "267           NaN       NaN            NaN                NaN  "
      ]
     },
     "execution_count": 25,
     "metadata": {},
     "output_type": "execute_result"
    }
   ],
   "source": [
    "df[df['DepDelay'].isnull()==True].head(10)"
   ]
  },
  {
   "cell_type": "markdown",
   "metadata": {},
   "source": [
    "Заметим, что первые десять рейсов были отменены. Проверим, верно ли это для остальных:"
   ]
  },
  {
   "cell_type": "code",
   "execution_count": 26,
   "metadata": {
    "collapsed": false
   },
   "outputs": [
    {
     "data": {
      "text/plain": [
       "1399"
      ]
     },
     "execution_count": 26,
     "metadata": {},
     "output_type": "execute_result"
    }
   ],
   "source": [
    "np.sum(df[df['DepDelay'].isnull()==True]['Cancelled']==1)"
   ]
  },
  {
   "cell_type": "markdown",
   "metadata": {},
   "source": [
    "Получили, что все рейсы, для которых не указано время задержки, были отменены. В связи с этим, нет необходимости в признаках `Cancelled` и `CancellationCode`."
   ]
  },
  {
   "cell_type": "code",
   "execution_count": 27,
   "metadata": {
    "collapsed": false
   },
   "outputs": [],
   "source": [
    "X = df[(df['DepDelay']!=0) & (df['DepDelay'].isnull()==False)]\n",
    "y = X['DepDelay']\n",
    "X.drop(['Cancelled', 'CancellationCode', 'DepDelay'], axis=1, inplace=True)"
   ]
  },
  {
   "cell_type": "code",
   "execution_count": 28,
   "metadata": {
    "collapsed": false
   },
   "outputs": [
    {
     "data": {
      "text/html": [
       "<div>\n",
       "<table border=\"1\" class=\"dataframe\">\n",
       "  <thead>\n",
       "    <tr style=\"text-align: right;\">\n",
       "      <th></th>\n",
       "      <th>Year</th>\n",
       "      <th>Month</th>\n",
       "      <th>DayofMonth</th>\n",
       "      <th>DayOfWeek</th>\n",
       "      <th>DepTime</th>\n",
       "      <th>CRSDepTime</th>\n",
       "      <th>ArrTime</th>\n",
       "      <th>CRSArrTime</th>\n",
       "      <th>UniqueCarrier</th>\n",
       "      <th>FlightNum</th>\n",
       "      <th>TailNum</th>\n",
       "      <th>ActualElapsedTime</th>\n",
       "      <th>CRSElapsedTime</th>\n",
       "      <th>AirTime</th>\n",
       "      <th>ArrDelay</th>\n",
       "      <th>Origin</th>\n",
       "      <th>Dest</th>\n",
       "      <th>Distance</th>\n",
       "      <th>TaxiIn</th>\n",
       "      <th>TaxiOut</th>\n",
       "      <th>Diverted</th>\n",
       "      <th>CarrierDelay</th>\n",
       "      <th>WeatherDelay</th>\n",
       "      <th>NASDelay</th>\n",
       "      <th>SecurityDelay</th>\n",
       "      <th>LateAircraftDelay</th>\n",
       "    </tr>\n",
       "  </thead>\n",
       "  <tbody>\n",
       "    <tr>\n",
       "      <th>0</th>\n",
       "      <td>2008</td>\n",
       "      <td>6</td>\n",
       "      <td>18</td>\n",
       "      <td>3</td>\n",
       "      <td>2111.0</td>\n",
       "      <td>2055</td>\n",
       "      <td>2308.0</td>\n",
       "      <td>2300</td>\n",
       "      <td>WN</td>\n",
       "      <td>242</td>\n",
       "      <td>N699SW</td>\n",
       "      <td>57.0</td>\n",
       "      <td>65.0</td>\n",
       "      <td>46.0</td>\n",
       "      <td>8.0</td>\n",
       "      <td>MDW</td>\n",
       "      <td>CLE</td>\n",
       "      <td>307</td>\n",
       "      <td>3.0</td>\n",
       "      <td>8.0</td>\n",
       "      <td>0</td>\n",
       "      <td>NaN</td>\n",
       "      <td>NaN</td>\n",
       "      <td>NaN</td>\n",
       "      <td>NaN</td>\n",
       "      <td>NaN</td>\n",
       "    </tr>\n",
       "    <tr>\n",
       "      <th>1</th>\n",
       "      <td>2008</td>\n",
       "      <td>6</td>\n",
       "      <td>4</td>\n",
       "      <td>3</td>\n",
       "      <td>1426.0</td>\n",
       "      <td>1410</td>\n",
       "      <td>1730.0</td>\n",
       "      <td>1728</td>\n",
       "      <td>XE</td>\n",
       "      <td>2380</td>\n",
       "      <td>N15980</td>\n",
       "      <td>124.0</td>\n",
       "      <td>138.0</td>\n",
       "      <td>108.0</td>\n",
       "      <td>2.0</td>\n",
       "      <td>IAH</td>\n",
       "      <td>AVL</td>\n",
       "      <td>834</td>\n",
       "      <td>4.0</td>\n",
       "      <td>12.0</td>\n",
       "      <td>0</td>\n",
       "      <td>NaN</td>\n",
       "      <td>NaN</td>\n",
       "      <td>NaN</td>\n",
       "      <td>NaN</td>\n",
       "      <td>NaN</td>\n",
       "    </tr>\n",
       "    <tr>\n",
       "      <th>2</th>\n",
       "      <td>2008</td>\n",
       "      <td>8</td>\n",
       "      <td>3</td>\n",
       "      <td>7</td>\n",
       "      <td>1143.0</td>\n",
       "      <td>1145</td>\n",
       "      <td>1501.0</td>\n",
       "      <td>1520</td>\n",
       "      <td>WN</td>\n",
       "      <td>1769</td>\n",
       "      <td>N464WN</td>\n",
       "      <td>138.0</td>\n",
       "      <td>155.0</td>\n",
       "      <td>125.0</td>\n",
       "      <td>-19.0</td>\n",
       "      <td>MDW</td>\n",
       "      <td>TPA</td>\n",
       "      <td>997</td>\n",
       "      <td>4.0</td>\n",
       "      <td>9.0</td>\n",
       "      <td>0</td>\n",
       "      <td>NaN</td>\n",
       "      <td>NaN</td>\n",
       "      <td>NaN</td>\n",
       "      <td>NaN</td>\n",
       "      <td>NaN</td>\n",
       "    </tr>\n",
       "    <tr>\n",
       "      <th>3</th>\n",
       "      <td>2008</td>\n",
       "      <td>1</td>\n",
       "      <td>23</td>\n",
       "      <td>3</td>\n",
       "      <td>1141.0</td>\n",
       "      <td>1144</td>\n",
       "      <td>1323.0</td>\n",
       "      <td>1335</td>\n",
       "      <td>OO</td>\n",
       "      <td>3802</td>\n",
       "      <td>N465SW</td>\n",
       "      <td>102.0</td>\n",
       "      <td>111.0</td>\n",
       "      <td>79.0</td>\n",
       "      <td>-12.0</td>\n",
       "      <td>SLC</td>\n",
       "      <td>FCA</td>\n",
       "      <td>532</td>\n",
       "      <td>4.0</td>\n",
       "      <td>19.0</td>\n",
       "      <td>0</td>\n",
       "      <td>NaN</td>\n",
       "      <td>NaN</td>\n",
       "      <td>NaN</td>\n",
       "      <td>NaN</td>\n",
       "      <td>NaN</td>\n",
       "    </tr>\n",
       "    <tr>\n",
       "      <th>4</th>\n",
       "      <td>2008</td>\n",
       "      <td>5</td>\n",
       "      <td>4</td>\n",
       "      <td>7</td>\n",
       "      <td>815.0</td>\n",
       "      <td>820</td>\n",
       "      <td>1243.0</td>\n",
       "      <td>1300</td>\n",
       "      <td>WN</td>\n",
       "      <td>399</td>\n",
       "      <td>N489WN</td>\n",
       "      <td>148.0</td>\n",
       "      <td>160.0</td>\n",
       "      <td>136.0</td>\n",
       "      <td>-17.0</td>\n",
       "      <td>LAS</td>\n",
       "      <td>AUS</td>\n",
       "      <td>1090</td>\n",
       "      <td>4.0</td>\n",
       "      <td>8.0</td>\n",
       "      <td>0</td>\n",
       "      <td>NaN</td>\n",
       "      <td>NaN</td>\n",
       "      <td>NaN</td>\n",
       "      <td>NaN</td>\n",
       "      <td>NaN</td>\n",
       "    </tr>\n",
       "  </tbody>\n",
       "</table>\n",
       "</div>"
      ],
      "text/plain": [
       "   Year  Month  DayofMonth  DayOfWeek  DepTime  CRSDepTime  ArrTime  \\\n",
       "0  2008      6          18          3   2111.0        2055   2308.0   \n",
       "1  2008      6           4          3   1426.0        1410   1730.0   \n",
       "2  2008      8           3          7   1143.0        1145   1501.0   \n",
       "3  2008      1          23          3   1141.0        1144   1323.0   \n",
       "4  2008      5           4          7    815.0         820   1243.0   \n",
       "\n",
       "   CRSArrTime UniqueCarrier  FlightNum TailNum  ActualElapsedTime  \\\n",
       "0        2300            WN        242  N699SW               57.0   \n",
       "1        1728            XE       2380  N15980              124.0   \n",
       "2        1520            WN       1769  N464WN              138.0   \n",
       "3        1335            OO       3802  N465SW              102.0   \n",
       "4        1300            WN        399  N489WN              148.0   \n",
       "\n",
       "   CRSElapsedTime  AirTime  ArrDelay Origin Dest  Distance  TaxiIn  TaxiOut  \\\n",
       "0            65.0     46.0       8.0    MDW  CLE       307     3.0      8.0   \n",
       "1           138.0    108.0       2.0    IAH  AVL       834     4.0     12.0   \n",
       "2           155.0    125.0     -19.0    MDW  TPA       997     4.0      9.0   \n",
       "3           111.0     79.0     -12.0    SLC  FCA       532     4.0     19.0   \n",
       "4           160.0    136.0     -17.0    LAS  AUS      1090     4.0      8.0   \n",
       "\n",
       "   Diverted  CarrierDelay  WeatherDelay  NASDelay  SecurityDelay  \\\n",
       "0         0           NaN           NaN       NaN            NaN   \n",
       "1         0           NaN           NaN       NaN            NaN   \n",
       "2         0           NaN           NaN       NaN            NaN   \n",
       "3         0           NaN           NaN       NaN            NaN   \n",
       "4         0           NaN           NaN       NaN            NaN   \n",
       "\n",
       "   LateAircraftDelay  \n",
       "0                NaN  \n",
       "1                NaN  \n",
       "2                NaN  \n",
       "3                NaN  \n",
       "4                NaN  "
      ]
     },
     "execution_count": 28,
     "metadata": {},
     "output_type": "execute_result"
    }
   ],
   "source": [
    "X.head()"
   ]
  },
  {
   "cell_type": "markdown",
   "metadata": {},
   "source": [
    "Также заметим, что в матрице объекты-признаки есть признаки со строковыми значениями. В дальнейшем при обучении это может вызвать проблемы. Посмотрим, сколько уникальных значений в таких признаках. Если их число невилико, то имеет смысл применить one-hot-encoding, если же велико, то такой признак проще удалить, так как вряд ли столь большое количество бинарных переменных улучшит качество модели."
   ]
  },
  {
   "cell_type": "code",
   "execution_count": 29,
   "metadata": {
    "collapsed": false
   },
   "outputs": [
    {
     "name": "stdout",
     "output_type": "stream",
     "text": [
      "В столбце UniqueCarrier 20 уникальных значений\n",
      "В столбце Origin 296 уникальных значений\n",
      "В столбце Dest 298 уникальных значений\n"
     ]
    }
   ],
   "source": [
    "print('В столбце UniqueCarrier {0} уникальных значений'.format(X.UniqueCarrier.unique().shape[0]))\n",
    "print('В столбце Origin {0} уникальных значений'.format(X.Origin.unique().shape[0]))\n",
    "print('В столбце Dest {0} уникальных значений'.format(X.Dest.unique().shape[0]))"
   ]
  },
  {
   "cell_type": "markdown",
   "metadata": {},
   "source": [
    "Получаем, что столбцы `Origin` и `Dest` проще удалить, так и посутпим:"
   ]
  },
  {
   "cell_type": "code",
   "execution_count": 30,
   "metadata": {
    "collapsed": true
   },
   "outputs": [],
   "source": [
    "X.drop(['Origin', 'Dest'], axis=1, inplace=True)"
   ]
  },
  {
   "cell_type": "markdown",
   "metadata": {},
   "source": [
    "**7. (1 балл)** Обратите внимание, что признаки DepTime, CRSDepTime, ArrTime, CRSArrTime приведены в формате hhmm, в связи с чем будет не вполне корректно рассматривать их как вещественные.\n",
    "\n",
    "Преобразуйте каждый признак FeatureName из указанных в пару новых признаков FeatureName\\_Hour, FeatureName\\_Minute, разделив каждое из значений на часы и минуты. Не забудьте при этом исключить исходный признак из выборки. В случае, если значение признака отсутствует, значения двух новых признаков, его заменяющих, также должны отсутствовать. \n",
    "\n",
    "Например, признак DepTime необходимо заменить на пару признаков DepTime_Hour, DepTime_Minute. При этом, например, значение 155 исходного признака будет преобразовано в значения 1 и 55 признаков DepTime_Hour, DepTime_Minute соответственно."
   ]
  },
  {
   "cell_type": "code",
   "execution_count": 31,
   "metadata": {
    "collapsed": true
   },
   "outputs": [],
   "source": [
    "def get_minutes(col):\n",
    "    return col.apply(lambda x: int(str(int(x))[-2:]))\n",
    "\n",
    "def get_hours(col):\n",
    "    '''\n",
    "    В данной функции необходимо отдельно учесть случай, когда время начинается с 0,\n",
    "    так как функция int() в такой ситуации ничего не возвращает\n",
    "    '''\n",
    "    col = col.apply(lambda x: str(int(x))[:-2]) \n",
    "    for i in col.index:\n",
    "        if not col[i]:\n",
    "            col[i] = 0\n",
    "        else:\n",
    "            col[i] = int(col[i])\n",
    "    return col"
   ]
  },
  {
   "cell_type": "code",
   "execution_count": 32,
   "metadata": {
    "collapsed": false
   },
   "outputs": [],
   "source": [
    "X['DepTime_Hour'] = get_hours(X['DepTime'])\n",
    "X['DepTime_Minute'] = get_minutes(X['DepTime'])\n",
    "\n",
    "X['CRSDepTime_Hour'] = get_hours(X['CRSDepTime'])\n",
    "X['CRSDepTime_Minute'] = get_minutes(X['CRSDepTime'])\n",
    "\n",
    "# Объекты с nan для ArrTime обрабатываются отедльно, чтобы не усложнять функцию:\n",
    "# в остальных столбцах пропущенных значений нет\n",
    "\n",
    "X['ArrTime_Hour'] = get_hours(X['ArrTime'].dropna())\n",
    "X['ArrTime_Minute'] = get_minutes(X['ArrTime'].dropna())\n",
    "\n",
    "for i in X[X['ArrTime'].isnull() == True]['ArrTime'].index:\n",
    "    X['ArrTime_Hour'][i] = np.nan\n",
    "    X['ArrTime_Minute'][i] = np.nan\n",
    "\n",
    "X['CRSArrTime_Hour'] = get_hours(X['CRSArrTime'])\n",
    "X['CRSArrTime_Minute'] = get_minutes(X['CRSArrTime'])\n",
    "\n",
    "X.drop(['DepTime', 'CRSDepTime', 'ArrTime', 'CRSArrTime'], axis=1, inplace=True)"
   ]
  },
  {
   "cell_type": "code",
   "execution_count": 33,
   "metadata": {
    "collapsed": false
   },
   "outputs": [
    {
     "data": {
      "text/html": [
       "<div>\n",
       "<table border=\"1\" class=\"dataframe\">\n",
       "  <thead>\n",
       "    <tr style=\"text-align: right;\">\n",
       "      <th></th>\n",
       "      <th>Year</th>\n",
       "      <th>Month</th>\n",
       "      <th>DayofMonth</th>\n",
       "      <th>DayOfWeek</th>\n",
       "      <th>UniqueCarrier</th>\n",
       "      <th>FlightNum</th>\n",
       "      <th>TailNum</th>\n",
       "      <th>ActualElapsedTime</th>\n",
       "      <th>CRSElapsedTime</th>\n",
       "      <th>AirTime</th>\n",
       "      <th>ArrDelay</th>\n",
       "      <th>Distance</th>\n",
       "      <th>TaxiIn</th>\n",
       "      <th>TaxiOut</th>\n",
       "      <th>Diverted</th>\n",
       "      <th>CarrierDelay</th>\n",
       "      <th>WeatherDelay</th>\n",
       "      <th>NASDelay</th>\n",
       "      <th>SecurityDelay</th>\n",
       "      <th>LateAircraftDelay</th>\n",
       "      <th>DepTime_Hour</th>\n",
       "      <th>DepTime_Minute</th>\n",
       "      <th>CRSDepTime_Hour</th>\n",
       "      <th>CRSDepTime_Minute</th>\n",
       "      <th>ArrTime_Hour</th>\n",
       "      <th>ArrTime_Minute</th>\n",
       "      <th>CRSArrTime_Hour</th>\n",
       "      <th>CRSArrTime_Minute</th>\n",
       "    </tr>\n",
       "  </thead>\n",
       "  <tbody>\n",
       "    <tr>\n",
       "      <th>0</th>\n",
       "      <td>2008</td>\n",
       "      <td>6</td>\n",
       "      <td>18</td>\n",
       "      <td>3</td>\n",
       "      <td>WN</td>\n",
       "      <td>242</td>\n",
       "      <td>N699SW</td>\n",
       "      <td>57.0</td>\n",
       "      <td>65.0</td>\n",
       "      <td>46.0</td>\n",
       "      <td>8.0</td>\n",
       "      <td>307</td>\n",
       "      <td>3.0</td>\n",
       "      <td>8.0</td>\n",
       "      <td>0</td>\n",
       "      <td>NaN</td>\n",
       "      <td>NaN</td>\n",
       "      <td>NaN</td>\n",
       "      <td>NaN</td>\n",
       "      <td>NaN</td>\n",
       "      <td>21</td>\n",
       "      <td>11</td>\n",
       "      <td>20</td>\n",
       "      <td>55</td>\n",
       "      <td>23</td>\n",
       "      <td>8.0</td>\n",
       "      <td>23</td>\n",
       "      <td>0</td>\n",
       "    </tr>\n",
       "    <tr>\n",
       "      <th>1</th>\n",
       "      <td>2008</td>\n",
       "      <td>6</td>\n",
       "      <td>4</td>\n",
       "      <td>3</td>\n",
       "      <td>XE</td>\n",
       "      <td>2380</td>\n",
       "      <td>N15980</td>\n",
       "      <td>124.0</td>\n",
       "      <td>138.0</td>\n",
       "      <td>108.0</td>\n",
       "      <td>2.0</td>\n",
       "      <td>834</td>\n",
       "      <td>4.0</td>\n",
       "      <td>12.0</td>\n",
       "      <td>0</td>\n",
       "      <td>NaN</td>\n",
       "      <td>NaN</td>\n",
       "      <td>NaN</td>\n",
       "      <td>NaN</td>\n",
       "      <td>NaN</td>\n",
       "      <td>14</td>\n",
       "      <td>26</td>\n",
       "      <td>14</td>\n",
       "      <td>10</td>\n",
       "      <td>17</td>\n",
       "      <td>30.0</td>\n",
       "      <td>17</td>\n",
       "      <td>28</td>\n",
       "    </tr>\n",
       "    <tr>\n",
       "      <th>2</th>\n",
       "      <td>2008</td>\n",
       "      <td>8</td>\n",
       "      <td>3</td>\n",
       "      <td>7</td>\n",
       "      <td>WN</td>\n",
       "      <td>1769</td>\n",
       "      <td>N464WN</td>\n",
       "      <td>138.0</td>\n",
       "      <td>155.0</td>\n",
       "      <td>125.0</td>\n",
       "      <td>-19.0</td>\n",
       "      <td>997</td>\n",
       "      <td>4.0</td>\n",
       "      <td>9.0</td>\n",
       "      <td>0</td>\n",
       "      <td>NaN</td>\n",
       "      <td>NaN</td>\n",
       "      <td>NaN</td>\n",
       "      <td>NaN</td>\n",
       "      <td>NaN</td>\n",
       "      <td>11</td>\n",
       "      <td>43</td>\n",
       "      <td>11</td>\n",
       "      <td>45</td>\n",
       "      <td>15</td>\n",
       "      <td>1.0</td>\n",
       "      <td>15</td>\n",
       "      <td>20</td>\n",
       "    </tr>\n",
       "    <tr>\n",
       "      <th>3</th>\n",
       "      <td>2008</td>\n",
       "      <td>1</td>\n",
       "      <td>23</td>\n",
       "      <td>3</td>\n",
       "      <td>OO</td>\n",
       "      <td>3802</td>\n",
       "      <td>N465SW</td>\n",
       "      <td>102.0</td>\n",
       "      <td>111.0</td>\n",
       "      <td>79.0</td>\n",
       "      <td>-12.0</td>\n",
       "      <td>532</td>\n",
       "      <td>4.0</td>\n",
       "      <td>19.0</td>\n",
       "      <td>0</td>\n",
       "      <td>NaN</td>\n",
       "      <td>NaN</td>\n",
       "      <td>NaN</td>\n",
       "      <td>NaN</td>\n",
       "      <td>NaN</td>\n",
       "      <td>11</td>\n",
       "      <td>41</td>\n",
       "      <td>11</td>\n",
       "      <td>44</td>\n",
       "      <td>13</td>\n",
       "      <td>23.0</td>\n",
       "      <td>13</td>\n",
       "      <td>35</td>\n",
       "    </tr>\n",
       "    <tr>\n",
       "      <th>4</th>\n",
       "      <td>2008</td>\n",
       "      <td>5</td>\n",
       "      <td>4</td>\n",
       "      <td>7</td>\n",
       "      <td>WN</td>\n",
       "      <td>399</td>\n",
       "      <td>N489WN</td>\n",
       "      <td>148.0</td>\n",
       "      <td>160.0</td>\n",
       "      <td>136.0</td>\n",
       "      <td>-17.0</td>\n",
       "      <td>1090</td>\n",
       "      <td>4.0</td>\n",
       "      <td>8.0</td>\n",
       "      <td>0</td>\n",
       "      <td>NaN</td>\n",
       "      <td>NaN</td>\n",
       "      <td>NaN</td>\n",
       "      <td>NaN</td>\n",
       "      <td>NaN</td>\n",
       "      <td>8</td>\n",
       "      <td>15</td>\n",
       "      <td>8</td>\n",
       "      <td>20</td>\n",
       "      <td>12</td>\n",
       "      <td>43.0</td>\n",
       "      <td>13</td>\n",
       "      <td>0</td>\n",
       "    </tr>\n",
       "  </tbody>\n",
       "</table>\n",
       "</div>"
      ],
      "text/plain": [
       "   Year  Month  DayofMonth  DayOfWeek UniqueCarrier  FlightNum TailNum  \\\n",
       "0  2008      6          18          3            WN        242  N699SW   \n",
       "1  2008      6           4          3            XE       2380  N15980   \n",
       "2  2008      8           3          7            WN       1769  N464WN   \n",
       "3  2008      1          23          3            OO       3802  N465SW   \n",
       "4  2008      5           4          7            WN        399  N489WN   \n",
       "\n",
       "   ActualElapsedTime  CRSElapsedTime  AirTime  ArrDelay  Distance  TaxiIn  \\\n",
       "0               57.0            65.0     46.0       8.0       307     3.0   \n",
       "1              124.0           138.0    108.0       2.0       834     4.0   \n",
       "2              138.0           155.0    125.0     -19.0       997     4.0   \n",
       "3              102.0           111.0     79.0     -12.0       532     4.0   \n",
       "4              148.0           160.0    136.0     -17.0      1090     4.0   \n",
       "\n",
       "   TaxiOut  Diverted  CarrierDelay  WeatherDelay  NASDelay  SecurityDelay  \\\n",
       "0      8.0         0           NaN           NaN       NaN            NaN   \n",
       "1     12.0         0           NaN           NaN       NaN            NaN   \n",
       "2      9.0         0           NaN           NaN       NaN            NaN   \n",
       "3     19.0         0           NaN           NaN       NaN            NaN   \n",
       "4      8.0         0           NaN           NaN       NaN            NaN   \n",
       "\n",
       "   LateAircraftDelay DepTime_Hour  DepTime_Minute CRSDepTime_Hour  \\\n",
       "0                NaN           21              11              20   \n",
       "1                NaN           14              26              14   \n",
       "2                NaN           11              43              11   \n",
       "3                NaN           11              41              11   \n",
       "4                NaN            8              15               8   \n",
       "\n",
       "   CRSDepTime_Minute ArrTime_Hour  ArrTime_Minute CRSArrTime_Hour  \\\n",
       "0                 55           23             8.0              23   \n",
       "1                 10           17            30.0              17   \n",
       "2                 45           15             1.0              15   \n",
       "3                 44           13            23.0              13   \n",
       "4                 20           12            43.0              13   \n",
       "\n",
       "   CRSArrTime_Minute  \n",
       "0                  0  \n",
       "1                 28  \n",
       "2                 20  \n",
       "3                 35  \n",
       "4                  0  "
      ]
     },
     "execution_count": 33,
     "metadata": {},
     "output_type": "execute_result"
    }
   ],
   "source": [
    "X.head()"
   ]
  },
  {
   "cell_type": "markdown",
   "metadata": {},
   "source": [
    "**8. (0.5 балла)** Некоторые из признаков, отличных от целевой переменной, могут оказывать чересчур значимое влияние на прогноз, поскольку по своему смыслу содержат большую долю информации о значении целевой переменной. Изучите описание датасета и исключите признаки, сильно коррелирующие с ответами. Ваш выбор признаков для исключения из выборки обоснуйте. Кроме того, исключите признаки TailNum и Year."
   ]
  },
  {
   "cell_type": "markdown",
   "metadata": {},
   "source": [
    "Из описания следует, что признаки `DepDelay` и `ArrDelay` должны быть связаны: вылетев поздно, самолёт, скорее всего, и прилетит поздно. Посчитаем коэффециент корреляции между ними:"
   ]
  },
  {
   "cell_type": "code",
   "execution_count": 34,
   "metadata": {
    "collapsed": false
   },
   "outputs": [
    {
     "name": "stdout",
     "output_type": "stream",
     "text": [
      "Коэффициент корреляции между DepDelay и ArrDelay равен 0.93\n"
     ]
    }
   ],
   "source": [
    "print('Коэффициент корреляции между DepDelay и ArrDelay равен {:.2}'.format \\\n",
    "      (np.corrcoef(X['ArrDelay'].dropna(), y[X[X['ArrDelay'].isnull() != True].index])[0,1]))"
   ]
  },
  {
   "cell_type": "markdown",
   "metadata": {},
   "source": [
    "Больше очевидно коррелерующих с целевой переменной признаков, кажется, нет. Чтобы убедиться в этом, можно посмотреть, как коррелируют между собой признаки. Если найдётся такой признак, у которого высокая корреляция с `ArrDelay`, то и с целевой переменной он коррелирует. Также можно найти группы коррелирующих признаков в датафрейме и проверить только один из них на корреляцию с `DepDelay`."
   ]
  },
  {
   "cell_type": "code",
   "execution_count": 35,
   "metadata": {
    "collapsed": false
   },
   "outputs": [
    {
     "data": {
      "text/plain": [
       "<matplotlib.text.Text at 0x114dff2e8>"
      ]
     },
     "execution_count": 35,
     "metadata": {},
     "output_type": "execute_result"
    },
    {
     "data": {
      "image/png": "[encoded data removed]",
      "text/plain": [
       "<matplotlib.figure.Figure at 0x114143898>"
      ]
     },
     "metadata": {},
     "output_type": "display_data"
    }
   ],
   "source": [
    "import seaborn as sns\n",
    "import matplotlib.pyplot as plt\n",
    "%matplotlib inline\n",
    "\n",
    "sns.heatmap(X.corr())\n",
    "plt.title('Correlation between features')"
   ]
  },
  {
   "cell_type": "markdown",
   "metadata": {},
   "source": [
    "Группа `ActualElapsedTime`, `CRSEapsedTime`, `AirTime` и `Distance` выделена тёмным по очевидным причинам: первые три признаки почти полностью совпадают, а время связано с дистанцией полёта. И все они связаны с `FlightNum`, но не с `ArrDelay`.\n",
    "\n",
    "Пожалуй, имеет смысл проверить только признаки `CarrierDelay` и `LateAircraftDelay`, поскольку их корреляция с `ArrDelay` достигает 0.5."
   ]
  },
  {
   "cell_type": "code",
   "execution_count": 36,
   "metadata": {
    "collapsed": false
   },
   "outputs": [
    {
     "name": "stdout",
     "output_type": "stream",
     "text": [
      "Коэффициент корреляции между DepDelay и CarrierDelay равен 0.53\n",
      "Коэффициент корреляции между DepDelay и LateAircraftDelay равен 0.55\n"
     ]
    }
   ],
   "source": [
    "print('Коэффициент корреляции между DepDelay и CarrierDelay равен {:.2}'.format \\\n",
    "      (np.corrcoef(X['CarrierDelay'].dropna(), y[X[X['CarrierDelay'].isnull() != True].index])[0,1]))\n",
    "print('Коэффициент корреляции между DepDelay и LateAircraftDelay равен {:.2}'.format \\\n",
    "      (np.corrcoef(X['LateAircraftDelay'].dropna(), y[X[X['LateAircraftDelay'].isnull() != True].index])[0,1]))"
   ]
  },
  {
   "cell_type": "markdown",
   "metadata": {},
   "source": [
    "Будем считать, что корреляция этих признаков с целевой переменной не достаточно высока, чтобы оказывать чересчур значимое влияние на прогноз. Поэтому удалим только признаки, указанные в задании, и `ArrDelay`:"
   ]
  },
  {
   "cell_type": "code",
   "execution_count": 37,
   "metadata": {
    "collapsed": false
   },
   "outputs": [],
   "source": [
    "X.drop(['ArrDelay', 'TailNum', 'Year'], axis=1, inplace=True)"
   ]
  },
  {
   "cell_type": "code",
   "execution_count": 38,
   "metadata": {
    "collapsed": false
   },
   "outputs": [
    {
     "data": {
      "text/html": [
       "<div>\n",
       "<table border=\"1\" class=\"dataframe\">\n",
       "  <thead>\n",
       "    <tr style=\"text-align: right;\">\n",
       "      <th></th>\n",
       "      <th>Month</th>\n",
       "      <th>DayofMonth</th>\n",
       "      <th>DayOfWeek</th>\n",
       "      <th>UniqueCarrier</th>\n",
       "      <th>FlightNum</th>\n",
       "      <th>ActualElapsedTime</th>\n",
       "      <th>CRSElapsedTime</th>\n",
       "      <th>AirTime</th>\n",
       "      <th>Distance</th>\n",
       "      <th>TaxiIn</th>\n",
       "      <th>TaxiOut</th>\n",
       "      <th>Diverted</th>\n",
       "      <th>CarrierDelay</th>\n",
       "      <th>WeatherDelay</th>\n",
       "      <th>NASDelay</th>\n",
       "      <th>SecurityDelay</th>\n",
       "      <th>LateAircraftDelay</th>\n",
       "      <th>DepTime_Hour</th>\n",
       "      <th>DepTime_Minute</th>\n",
       "      <th>CRSDepTime_Hour</th>\n",
       "      <th>CRSDepTime_Minute</th>\n",
       "      <th>ArrTime_Hour</th>\n",
       "      <th>ArrTime_Minute</th>\n",
       "      <th>CRSArrTime_Hour</th>\n",
       "      <th>CRSArrTime_Minute</th>\n",
       "    </tr>\n",
       "  </thead>\n",
       "  <tbody>\n",
       "    <tr>\n",
       "      <th>0</th>\n",
       "      <td>6</td>\n",
       "      <td>18</td>\n",
       "      <td>3</td>\n",
       "      <td>WN</td>\n",
       "      <td>242</td>\n",
       "      <td>57.0</td>\n",
       "      <td>65.0</td>\n",
       "      <td>46.0</td>\n",
       "      <td>307</td>\n",
       "      <td>3.0</td>\n",
       "      <td>8.0</td>\n",
       "      <td>0</td>\n",
       "      <td>NaN</td>\n",
       "      <td>NaN</td>\n",
       "      <td>NaN</td>\n",
       "      <td>NaN</td>\n",
       "      <td>NaN</td>\n",
       "      <td>21</td>\n",
       "      <td>11</td>\n",
       "      <td>20</td>\n",
       "      <td>55</td>\n",
       "      <td>23</td>\n",
       "      <td>8.0</td>\n",
       "      <td>23</td>\n",
       "      <td>0</td>\n",
       "    </tr>\n",
       "    <tr>\n",
       "      <th>1</th>\n",
       "      <td>6</td>\n",
       "      <td>4</td>\n",
       "      <td>3</td>\n",
       "      <td>XE</td>\n",
       "      <td>2380</td>\n",
       "      <td>124.0</td>\n",
       "      <td>138.0</td>\n",
       "      <td>108.0</td>\n",
       "      <td>834</td>\n",
       "      <td>4.0</td>\n",
       "      <td>12.0</td>\n",
       "      <td>0</td>\n",
       "      <td>NaN</td>\n",
       "      <td>NaN</td>\n",
       "      <td>NaN</td>\n",
       "      <td>NaN</td>\n",
       "      <td>NaN</td>\n",
       "      <td>14</td>\n",
       "      <td>26</td>\n",
       "      <td>14</td>\n",
       "      <td>10</td>\n",
       "      <td>17</td>\n",
       "      <td>30.0</td>\n",
       "      <td>17</td>\n",
       "      <td>28</td>\n",
       "    </tr>\n",
       "    <tr>\n",
       "      <th>2</th>\n",
       "      <td>8</td>\n",
       "      <td>3</td>\n",
       "      <td>7</td>\n",
       "      <td>WN</td>\n",
       "      <td>1769</td>\n",
       "      <td>138.0</td>\n",
       "      <td>155.0</td>\n",
       "      <td>125.0</td>\n",
       "      <td>997</td>\n",
       "      <td>4.0</td>\n",
       "      <td>9.0</td>\n",
       "      <td>0</td>\n",
       "      <td>NaN</td>\n",
       "      <td>NaN</td>\n",
       "      <td>NaN</td>\n",
       "      <td>NaN</td>\n",
       "      <td>NaN</td>\n",
       "      <td>11</td>\n",
       "      <td>43</td>\n",
       "      <td>11</td>\n",
       "      <td>45</td>\n",
       "      <td>15</td>\n",
       "      <td>1.0</td>\n",
       "      <td>15</td>\n",
       "      <td>20</td>\n",
       "    </tr>\n",
       "    <tr>\n",
       "      <th>3</th>\n",
       "      <td>1</td>\n",
       "      <td>23</td>\n",
       "      <td>3</td>\n",
       "      <td>OO</td>\n",
       "      <td>3802</td>\n",
       "      <td>102.0</td>\n",
       "      <td>111.0</td>\n",
       "      <td>79.0</td>\n",
       "      <td>532</td>\n",
       "      <td>4.0</td>\n",
       "      <td>19.0</td>\n",
       "      <td>0</td>\n",
       "      <td>NaN</td>\n",
       "      <td>NaN</td>\n",
       "      <td>NaN</td>\n",
       "      <td>NaN</td>\n",
       "      <td>NaN</td>\n",
       "      <td>11</td>\n",
       "      <td>41</td>\n",
       "      <td>11</td>\n",
       "      <td>44</td>\n",
       "      <td>13</td>\n",
       "      <td>23.0</td>\n",
       "      <td>13</td>\n",
       "      <td>35</td>\n",
       "    </tr>\n",
       "    <tr>\n",
       "      <th>4</th>\n",
       "      <td>5</td>\n",
       "      <td>4</td>\n",
       "      <td>7</td>\n",
       "      <td>WN</td>\n",
       "      <td>399</td>\n",
       "      <td>148.0</td>\n",
       "      <td>160.0</td>\n",
       "      <td>136.0</td>\n",
       "      <td>1090</td>\n",
       "      <td>4.0</td>\n",
       "      <td>8.0</td>\n",
       "      <td>0</td>\n",
       "      <td>NaN</td>\n",
       "      <td>NaN</td>\n",
       "      <td>NaN</td>\n",
       "      <td>NaN</td>\n",
       "      <td>NaN</td>\n",
       "      <td>8</td>\n",
       "      <td>15</td>\n",
       "      <td>8</td>\n",
       "      <td>20</td>\n",
       "      <td>12</td>\n",
       "      <td>43.0</td>\n",
       "      <td>13</td>\n",
       "      <td>0</td>\n",
       "    </tr>\n",
       "  </tbody>\n",
       "</table>\n",
       "</div>"
      ],
      "text/plain": [
       "   Month  DayofMonth  DayOfWeek UniqueCarrier  FlightNum  ActualElapsedTime  \\\n",
       "0      6          18          3            WN        242               57.0   \n",
       "1      6           4          3            XE       2380              124.0   \n",
       "2      8           3          7            WN       1769              138.0   \n",
       "3      1          23          3            OO       3802              102.0   \n",
       "4      5           4          7            WN        399              148.0   \n",
       "\n",
       "   CRSElapsedTime  AirTime  Distance  TaxiIn  TaxiOut  Diverted  CarrierDelay  \\\n",
       "0            65.0     46.0       307     3.0      8.0         0           NaN   \n",
       "1           138.0    108.0       834     4.0     12.0         0           NaN   \n",
       "2           155.0    125.0       997     4.0      9.0         0           NaN   \n",
       "3           111.0     79.0       532     4.0     19.0         0           NaN   \n",
       "4           160.0    136.0      1090     4.0      8.0         0           NaN   \n",
       "\n",
       "   WeatherDelay  NASDelay  SecurityDelay  LateAircraftDelay DepTime_Hour  \\\n",
       "0           NaN       NaN            NaN                NaN           21   \n",
       "1           NaN       NaN            NaN                NaN           14   \n",
       "2           NaN       NaN            NaN                NaN           11   \n",
       "3           NaN       NaN            NaN                NaN           11   \n",
       "4           NaN       NaN            NaN                NaN            8   \n",
       "\n",
       "   DepTime_Minute CRSDepTime_Hour  CRSDepTime_Minute ArrTime_Hour  \\\n",
       "0              11              20                 55           23   \n",
       "1              26              14                 10           17   \n",
       "2              43              11                 45           15   \n",
       "3              41              11                 44           13   \n",
       "4              15               8                 20           12   \n",
       "\n",
       "   ArrTime_Minute CRSArrTime_Hour  CRSArrTime_Minute  \n",
       "0             8.0              23                  0  \n",
       "1            30.0              17                 28  \n",
       "2             1.0              15                 20  \n",
       "3            23.0              13                 35  \n",
       "4            43.0              13                  0  "
      ]
     },
     "execution_count": 38,
     "metadata": {},
     "output_type": "execute_result"
    }
   ],
   "source": [
    "X.head()"
   ]
  },
  {
   "cell_type": "markdown",
   "metadata": {},
   "source": [
    "Приведем данные к виду, пригодному для обучения линейных моделей. Для этого вещественные признаки надо отмасштабировать, а категориальные — привести к числовому виду. Также надо устранить пропуски в данных."
   ]
  },
  {
   "cell_type": "markdown",
   "metadata": {},
   "source": [
    "**9*. (1 бонусный балл) ** В первую очередь поймем, зачем необходимо применять масштабирование. Следующие ячейки с кодом построят гистограммы для 3 вещественных признаков выборки."
   ]
  },
  {
   "cell_type": "code",
   "execution_count": 39,
   "metadata": {
    "collapsed": false,
    "scrolled": true
   },
   "outputs": [
    {
     "data": {
      "text/plain": [
       "<matplotlib.axes._subplots.AxesSubplot at 0x114e869b0>"
      ]
     },
     "execution_count": 39,
     "metadata": {},
     "output_type": "execute_result"
    },
    {
     "data": {
      "image/png": "[encoded data removed]",
      "text/plain": [
       "<matplotlib.figure.Figure at 0x114e815f8>"
      ]
     },
     "metadata": {},
     "output_type": "display_data"
    }
   ],
   "source": [
    "X['DepTime_Hour'].hist(bins=20)"
   ]
  },
  {
   "cell_type": "code",
   "execution_count": 40,
   "metadata": {
    "collapsed": false
   },
   "outputs": [
    {
     "data": {
      "text/plain": [
       "<matplotlib.axes._subplots.AxesSubplot at 0x1151a5748>"
      ]
     },
     "execution_count": 40,
     "metadata": {},
     "output_type": "execute_result"
    },
    {
     "data": {
      "image/png": "[encoded data removed]",
      "text/plain": [
       "<matplotlib.figure.Figure at 0x1151abb38>"
      ]
     },
     "metadata": {},
     "output_type": "display_data"
    }
   ],
   "source": [
    "X['TaxiIn'].hist(bins=20)"
   ]
  },
  {
   "cell_type": "code",
   "execution_count": 41,
   "metadata": {
    "collapsed": false
   },
   "outputs": [
    {
     "data": {
      "text/plain": [
       "<matplotlib.axes._subplots.AxesSubplot at 0x1150cd1d0>"
      ]
     },
     "execution_count": 41,
     "metadata": {},
     "output_type": "execute_result"
    },
    {
     "data": {
      "image/png": "[encoded data removed]",
      "text/plain": [
       "<matplotlib.figure.Figure at 0x1151abd30>"
      ]
     },
     "metadata": {},
     "output_type": "display_data"
    }
   ],
   "source": [
    "X['FlightNum'].hist(bins=20)"
   ]
  },
  {
   "cell_type": "markdown",
   "metadata": {},
   "source": [
    "Какую проблему вы наблюдаете на этих графиках? Как масштабирование поможет её исправить?"
   ]
  },
  {
   "cell_type": "markdown",
   "metadata": {
    "collapsed": false
   },
   "source": [
    "Из гистограмм видно, что распределение признаков разнится: те, что связаны с часами, лежат в диапозоне от 0 до 24; те, что с минутами, – от 0 до 59; признаки `TaxiIn` и `TaxiOut` достигают значения 150, а значения столбца `FlightNum` варьируются от 0 до 8000. Следовательно эти признаки оказывают разное влиянние на веса в обычной линейной регрессии.\n",
    "\n",
    "Более того, масштабирование признаков при использовании метода градиентного спуска ускоряет его работу: можно представить проекцию квадратичного функционала качества от двух признаков, с большим и маленьким разбросом – она будет выглядеть как вытянутые овалы, и градиент будет долго спускаться к центру. Если же признаки отмасштабированы, то проекции больше напоминают круги, и градиент сходится к оптимуму быстрее."
   ]
  },
  {
   "cell_type": "markdown",
   "metadata": {},
   "source": [
    "**10. (1 балл)** Вдобавок к масштабированию, некоторые из признаков в нашем датасете являются категориальными. Типичным подходом к работе с ними является бинарное, или [one-hot-кодирование](https://en.wikipedia.org/wiki/One-hot).\n",
    "\n",
    "\n",
    "Реализуйте функцию transform_data, которая принимает на вход DataFrame с признаками и выполняет следующие шаги:\n",
    "1. Замена пропущенных значений на нули для вещественных признаков и на строки 'nan' для категориальных.\n",
    "2. Масштабирование вещественных признаков с помощью [StandardScaler](http://scikit-learn.org/stable/modules/generated/sklearn.preprocessing.StandardScaler.html).\n",
    "3. One-hot-кодирование категориальных признаков с помощью [DictVectorizer](http://scikit-learn.org/stable/modules/generated/sklearn.feature_extraction.DictVectorizer.html) или функции [pd.get_dummies](http://pandas.pydata.org/pandas-docs/stable/generated/pandas.get_dummies.html).\n",
    "\n",
    "Метод должен возвращать преобразованный DataFrame, который должна состоять из масштабированных вещественных признаков и закодированных категориальных (исходные признаки должны быть исключены из выборки)."
   ]
  },
  {
   "cell_type": "code",
   "execution_count": 42,
   "metadata": {
    "collapsed": false
   },
   "outputs": [
    {
     "data": {
      "text/plain": [
       "Month                  int64\n",
       "DayofMonth             int64\n",
       "DayOfWeek              int64\n",
       "UniqueCarrier         object\n",
       "FlightNum              int64\n",
       "ActualElapsedTime    float64\n",
       "CRSElapsedTime       float64\n",
       "AirTime              float64\n",
       "Distance               int64\n",
       "TaxiIn               float64\n",
       "TaxiOut              float64\n",
       "Diverted               int64\n",
       "CarrierDelay         float64\n",
       "WeatherDelay         float64\n",
       "NASDelay             float64\n",
       "SecurityDelay        float64\n",
       "LateAircraftDelay    float64\n",
       "DepTime_Hour          object\n",
       "DepTime_Minute         int64\n",
       "CRSDepTime_Hour       object\n",
       "CRSDepTime_Minute      int64\n",
       "ArrTime_Hour          object\n",
       "ArrTime_Minute       float64\n",
       "CRSArrTime_Hour       object\n",
       "CRSArrTime_Minute      int64\n",
       "dtype: object"
      ]
     },
     "execution_count": 42,
     "metadata": {},
     "output_type": "execute_result"
    }
   ],
   "source": [
    "X.dtypes"
   ]
  },
  {
   "cell_type": "markdown",
   "metadata": {},
   "source": [
    "Поменяем типы значений переменных для удобства в дальнейшем использовании.\n",
    "\n",
    "Отмечу, что признаки, связанные со временем, можно трактовать двояко: с одной стороны, они числовые, поэтому их можно отнормировать и обучать таким образом регрессию, а можно считать категориальными (несмотря на то, что в задании 9 они отнесены к вещественным), так как они принимают значения из фиксированного целочисленного диапозона. Попробовав первый вариант, в котором оказалось 93 столбца, я получила, что качество как на обучении так и на контроле довольно высоко (порядка 0.93-0.95 в обоих случаях), и никаких проблем не обнаружилось. Во втором же случае я столкнулась с проблемой переобучения, которая, вероятно, имелась в виду в задании, и решилась с помощью `Lasso` и `Ridge` регрессий, так что в итоге, признаки времени закодированы как категориальные."
   ]
  },
  {
   "cell_type": "code",
   "execution_count": 43,
   "metadata": {
    "collapsed": false
   },
   "outputs": [],
   "source": [
    "X.Month = X.Month.astype('category')\n",
    "X.DayofMonth = X.DayofMonth.astype('category')\n",
    "X.DayOfWeek = X.DayOfWeek.astype('category')\n",
    "X.UniqueCarrier = X.UniqueCarrier.astype('category')\n",
    "X.Diverted = X.Diverted.astype('category')\n",
    "\n",
    "#X.DepTime_Hour = X.DepTime_Hour.astype('int')\n",
    "#X.DepTime_Minute = X.DepTime_Minute.astype('int')\n",
    "#X.CRSDepTime_Hour = X.CRSDepTime_Hour.astype('int')\n",
    "#X.CRSDepTime_Minute = X.CRSDepTime_Minute.astype('int')\n",
    "#X.ArrTime_Hour = X.ArrTime_Hour.astype('float')\n",
    "#X.ArrTime_Minute = X.ArrTime_Minute.astype('float')\n",
    "#X.CRSArrTime_Hour = X.CRSArrTime_Hour.astype('int')\n",
    "#X.CRSArrTime_Minute = X.CRSArrTime_Minute.astype('int')\n",
    "\n",
    "X.DepTime_Hour = X.DepTime_Hour.astype('category')\n",
    "X.DepTime_Minute = X.DepTime_Minute.astype('category')\n",
    "X.CRSDepTime_Hour = X.CRSDepTime_Hour.astype('category')\n",
    "X.CRSDepTime_Minute = X.CRSDepTime_Minute.astype('category')\n",
    "X.ArrTime_Hour = X.ArrTime_Hour.astype('category')\n",
    "X.ArrTime_Minute = X.ArrTime_Minute.astype('category')\n",
    "X.CRSArrTime_Hour = X.CRSArrTime_Hour.astype('category')\n",
    "X.CRSArrTime_Minute = X.CRSArrTime_Minute.astype('category')"
   ]
  },
  {
   "cell_type": "code",
   "execution_count": 44,
   "metadata": {
    "collapsed": false
   },
   "outputs": [
    {
     "data": {
      "text/plain": [
       "Month                category\n",
       "DayofMonth           category\n",
       "DayOfWeek            category\n",
       "UniqueCarrier        category\n",
       "FlightNum               int64\n",
       "ActualElapsedTime     float64\n",
       "CRSElapsedTime        float64\n",
       "AirTime               float64\n",
       "Distance                int64\n",
       "TaxiIn                float64\n",
       "TaxiOut               float64\n",
       "Diverted             category\n",
       "CarrierDelay          float64\n",
       "WeatherDelay          float64\n",
       "NASDelay              float64\n",
       "SecurityDelay         float64\n",
       "LateAircraftDelay     float64\n",
       "DepTime_Hour         category\n",
       "DepTime_Minute       category\n",
       "CRSDepTime_Hour      category\n",
       "CRSDepTime_Minute    category\n",
       "ArrTime_Hour         category\n",
       "ArrTime_Minute       category\n",
       "CRSArrTime_Hour      category\n",
       "CRSArrTime_Minute    category\n",
       "dtype: object"
      ]
     },
     "execution_count": 44,
     "metadata": {},
     "output_type": "execute_result"
    }
   ],
   "source": [
    "X.dtypes"
   ]
  },
  {
   "cell_type": "code",
   "execution_count": 45,
   "metadata": {
    "collapsed": true
   },
   "outputs": [],
   "source": [
    "from sklearn.preprocessing import StandardScaler\n",
    "\n",
    "scaler = StandardScaler()\n",
    "\n",
    "def transform_data(data):\n",
    "    for i in data.columns:\n",
    "        if data[i].dtype.name == 'category':\n",
    "            data[i] = data[i].fillna(np.nan)\n",
    "            data = pd.concat([data, pd.get_dummies(data[i])], axis=1)\n",
    "            data  = data.drop(i, axis=1)\n",
    "        else:\n",
    "            data[i] = data[i].fillna(0)\n",
    "            data[i] = scaler.fit_transform(data[i])\n",
    "    return data "
   ]
  },
  {
   "cell_type": "markdown",
   "metadata": {},
   "source": [
    "Примените функцию transform_data к данным. Сколько признаков получилось после преобразования?"
   ]
  },
  {
   "cell_type": "code",
   "execution_count": 46,
   "metadata": {
    "collapsed": false
   },
   "outputs": [
    {
     "name": "stderr",
     "output_type": "stream",
     "text": [
      "/Users/ola/anaconda/lib/python3.5/site-packages/sklearn/preprocessing/data.py:586: DeprecationWarning: Passing 1d arrays as data is deprecated in 0.17 and will raise ValueError in 0.19. Reshape your data either using X.reshape(-1, 1) if your data has a single feature or X.reshape(1, -1) if it contains a single sample.\n",
      "  warnings.warn(DEPRECATION_MSG_1D, DeprecationWarning)\n",
      "/Users/ola/anaconda/lib/python3.5/site-packages/sklearn/preprocessing/data.py:649: DeprecationWarning: Passing 1d arrays as data is deprecated in 0.17 and will raise ValueError in 0.19. Reshape your data either using X.reshape(-1, 1) if your data has a single feature or X.reshape(1, -1) if it contains a single sample.\n",
      "  warnings.warn(DEPRECATION_MSG_1D, DeprecationWarning)\n",
      "/Users/ola/anaconda/lib/python3.5/site-packages/sklearn/preprocessing/data.py:586: DeprecationWarning: Passing 1d arrays as data is deprecated in 0.17 and will raise ValueError in 0.19. Reshape your data either using X.reshape(-1, 1) if your data has a single feature or X.reshape(1, -1) if it contains a single sample.\n",
      "  warnings.warn(DEPRECATION_MSG_1D, DeprecationWarning)\n",
      "/Users/ola/anaconda/lib/python3.5/site-packages/sklearn/preprocessing/data.py:649: DeprecationWarning: Passing 1d arrays as data is deprecated in 0.17 and will raise ValueError in 0.19. Reshape your data either using X.reshape(-1, 1) if your data has a single feature or X.reshape(1, -1) if it contains a single sample.\n",
      "  warnings.warn(DEPRECATION_MSG_1D, DeprecationWarning)\n",
      "/Users/ola/anaconda/lib/python3.5/site-packages/sklearn/preprocessing/data.py:586: DeprecationWarning: Passing 1d arrays as data is deprecated in 0.17 and will raise ValueError in 0.19. Reshape your data either using X.reshape(-1, 1) if your data has a single feature or X.reshape(1, -1) if it contains a single sample.\n",
      "  warnings.warn(DEPRECATION_MSG_1D, DeprecationWarning)\n",
      "/Users/ola/anaconda/lib/python3.5/site-packages/sklearn/preprocessing/data.py:649: DeprecationWarning: Passing 1d arrays as data is deprecated in 0.17 and will raise ValueError in 0.19. Reshape your data either using X.reshape(-1, 1) if your data has a single feature or X.reshape(1, -1) if it contains a single sample.\n",
      "  warnings.warn(DEPRECATION_MSG_1D, DeprecationWarning)\n",
      "/Users/ola/anaconda/lib/python3.5/site-packages/sklearn/preprocessing/data.py:586: DeprecationWarning: Passing 1d arrays as data is deprecated in 0.17 and will raise ValueError in 0.19. Reshape your data either using X.reshape(-1, 1) if your data has a single feature or X.reshape(1, -1) if it contains a single sample.\n",
      "  warnings.warn(DEPRECATION_MSG_1D, DeprecationWarning)\n",
      "/Users/ola/anaconda/lib/python3.5/site-packages/sklearn/preprocessing/data.py:649: DeprecationWarning: Passing 1d arrays as data is deprecated in 0.17 and will raise ValueError in 0.19. Reshape your data either using X.reshape(-1, 1) if your data has a single feature or X.reshape(1, -1) if it contains a single sample.\n",
      "  warnings.warn(DEPRECATION_MSG_1D, DeprecationWarning)\n",
      "/Users/ola/anaconda/lib/python3.5/site-packages/sklearn/preprocessing/data.py:586: DeprecationWarning: Passing 1d arrays as data is deprecated in 0.17 and will raise ValueError in 0.19. Reshape your data either using X.reshape(-1, 1) if your data has a single feature or X.reshape(1, -1) if it contains a single sample.\n",
      "  warnings.warn(DEPRECATION_MSG_1D, DeprecationWarning)\n",
      "/Users/ola/anaconda/lib/python3.5/site-packages/sklearn/preprocessing/data.py:649: DeprecationWarning: Passing 1d arrays as data is deprecated in 0.17 and will raise ValueError in 0.19. Reshape your data either using X.reshape(-1, 1) if your data has a single feature or X.reshape(1, -1) if it contains a single sample.\n",
      "  warnings.warn(DEPRECATION_MSG_1D, DeprecationWarning)\n",
      "/Users/ola/anaconda/lib/python3.5/site-packages/sklearn/preprocessing/data.py:586: DeprecationWarning: Passing 1d arrays as data is deprecated in 0.17 and will raise ValueError in 0.19. Reshape your data either using X.reshape(-1, 1) if your data has a single feature or X.reshape(1, -1) if it contains a single sample.\n",
      "  warnings.warn(DEPRECATION_MSG_1D, DeprecationWarning)\n",
      "/Users/ola/anaconda/lib/python3.5/site-packages/sklearn/preprocessing/data.py:649: DeprecationWarning: Passing 1d arrays as data is deprecated in 0.17 and will raise ValueError in 0.19. Reshape your data either using X.reshape(-1, 1) if your data has a single feature or X.reshape(1, -1) if it contains a single sample.\n",
      "  warnings.warn(DEPRECATION_MSG_1D, DeprecationWarning)\n",
      "/Users/ola/anaconda/lib/python3.5/site-packages/sklearn/preprocessing/data.py:586: DeprecationWarning: Passing 1d arrays as data is deprecated in 0.17 and will raise ValueError in 0.19. Reshape your data either using X.reshape(-1, 1) if your data has a single feature or X.reshape(1, -1) if it contains a single sample.\n",
      "  warnings.warn(DEPRECATION_MSG_1D, DeprecationWarning)\n",
      "/Users/ola/anaconda/lib/python3.5/site-packages/sklearn/preprocessing/data.py:649: DeprecationWarning: Passing 1d arrays as data is deprecated in 0.17 and will raise ValueError in 0.19. Reshape your data either using X.reshape(-1, 1) if your data has a single feature or X.reshape(1, -1) if it contains a single sample.\n",
      "  warnings.warn(DEPRECATION_MSG_1D, DeprecationWarning)\n",
      "/Users/ola/anaconda/lib/python3.5/site-packages/sklearn/preprocessing/data.py:586: DeprecationWarning: Passing 1d arrays as data is deprecated in 0.17 and will raise ValueError in 0.19. Reshape your data either using X.reshape(-1, 1) if your data has a single feature or X.reshape(1, -1) if it contains a single sample.\n",
      "  warnings.warn(DEPRECATION_MSG_1D, DeprecationWarning)\n",
      "/Users/ola/anaconda/lib/python3.5/site-packages/sklearn/preprocessing/data.py:649: DeprecationWarning: Passing 1d arrays as data is deprecated in 0.17 and will raise ValueError in 0.19. Reshape your data either using X.reshape(-1, 1) if your data has a single feature or X.reshape(1, -1) if it contains a single sample.\n",
      "  warnings.warn(DEPRECATION_MSG_1D, DeprecationWarning)\n",
      "/Users/ola/anaconda/lib/python3.5/site-packages/sklearn/preprocessing/data.py:586: DeprecationWarning: Passing 1d arrays as data is deprecated in 0.17 and will raise ValueError in 0.19. Reshape your data either using X.reshape(-1, 1) if your data has a single feature or X.reshape(1, -1) if it contains a single sample.\n",
      "  warnings.warn(DEPRECATION_MSG_1D, DeprecationWarning)\n",
      "/Users/ola/anaconda/lib/python3.5/site-packages/sklearn/preprocessing/data.py:649: DeprecationWarning: Passing 1d arrays as data is deprecated in 0.17 and will raise ValueError in 0.19. Reshape your data either using X.reshape(-1, 1) if your data has a single feature or X.reshape(1, -1) if it contains a single sample.\n",
      "  warnings.warn(DEPRECATION_MSG_1D, DeprecationWarning)\n",
      "/Users/ola/anaconda/lib/python3.5/site-packages/sklearn/preprocessing/data.py:586: DeprecationWarning: Passing 1d arrays as data is deprecated in 0.17 and will raise ValueError in 0.19. Reshape your data either using X.reshape(-1, 1) if your data has a single feature or X.reshape(1, -1) if it contains a single sample.\n",
      "  warnings.warn(DEPRECATION_MSG_1D, DeprecationWarning)\n",
      "/Users/ola/anaconda/lib/python3.5/site-packages/sklearn/preprocessing/data.py:649: DeprecationWarning: Passing 1d arrays as data is deprecated in 0.17 and will raise ValueError in 0.19. Reshape your data either using X.reshape(-1, 1) if your data has a single feature or X.reshape(1, -1) if it contains a single sample.\n",
      "  warnings.warn(DEPRECATION_MSG_1D, DeprecationWarning)\n",
      "/Users/ola/anaconda/lib/python3.5/site-packages/sklearn/preprocessing/data.py:586: DeprecationWarning: Passing 1d arrays as data is deprecated in 0.17 and will raise ValueError in 0.19. Reshape your data either using X.reshape(-1, 1) if your data has a single feature or X.reshape(1, -1) if it contains a single sample.\n",
      "  warnings.warn(DEPRECATION_MSG_1D, DeprecationWarning)\n",
      "/Users/ola/anaconda/lib/python3.5/site-packages/sklearn/preprocessing/data.py:649: DeprecationWarning: Passing 1d arrays as data is deprecated in 0.17 and will raise ValueError in 0.19. Reshape your data either using X.reshape(-1, 1) if your data has a single feature or X.reshape(1, -1) if it contains a single sample.\n",
      "  warnings.warn(DEPRECATION_MSG_1D, DeprecationWarning)\n",
      "/Users/ola/anaconda/lib/python3.5/site-packages/sklearn/preprocessing/data.py:586: DeprecationWarning: Passing 1d arrays as data is deprecated in 0.17 and will raise ValueError in 0.19. Reshape your data either using X.reshape(-1, 1) if your data has a single feature or X.reshape(1, -1) if it contains a single sample.\n",
      "  warnings.warn(DEPRECATION_MSG_1D, DeprecationWarning)\n",
      "/Users/ola/anaconda/lib/python3.5/site-packages/sklearn/preprocessing/data.py:649: DeprecationWarning: Passing 1d arrays as data is deprecated in 0.17 and will raise ValueError in 0.19. Reshape your data either using X.reshape(-1, 1) if your data has a single feature or X.reshape(1, -1) if it contains a single sample.\n",
      "  warnings.warn(DEPRECATION_MSG_1D, DeprecationWarning)\n"
     ]
    }
   ],
   "source": [
    "X = transform_data(X)"
   ]
  },
  {
   "cell_type": "code",
   "execution_count": 47,
   "metadata": {
    "collapsed": false
   },
   "outputs": [
    {
     "name": "stdout",
     "output_type": "stream",
     "text": [
      "Количесвто признаков после преобразования: 423\n"
     ]
    }
   ],
   "source": [
    "print('Количесвто признаков после преобразования: {0}'.format(X.shape[1]))"
   ]
  },
  {
   "cell_type": "code",
   "execution_count": 48,
   "metadata": {
    "collapsed": false
   },
   "outputs": [
    {
     "data": {
      "text/html": [
       "<div>\n",
       "<table border=\"1\" class=\"dataframe\">\n",
       "  <thead>\n",
       "    <tr style=\"text-align: right;\">\n",
       "      <th></th>\n",
       "      <th>FlightNum</th>\n",
       "      <th>ActualElapsedTime</th>\n",
       "      <th>CRSElapsedTime</th>\n",
       "      <th>AirTime</th>\n",
       "      <th>Distance</th>\n",
       "      <th>TaxiIn</th>\n",
       "      <th>TaxiOut</th>\n",
       "      <th>CarrierDelay</th>\n",
       "      <th>WeatherDelay</th>\n",
       "      <th>NASDelay</th>\n",
       "      <th>SecurityDelay</th>\n",
       "      <th>LateAircraftDelay</th>\n",
       "      <th>1</th>\n",
       "      <th>2</th>\n",
       "      <th>3</th>\n",
       "      <th>4</th>\n",
       "      <th>5</th>\n",
       "      <th>6</th>\n",
       "      <th>7</th>\n",
       "      <th>8</th>\n",
       "      <th>9</th>\n",
       "      <th>10</th>\n",
       "      <th>11</th>\n",
       "      <th>12</th>\n",
       "      <th>1</th>\n",
       "      <th>2</th>\n",
       "      <th>3</th>\n",
       "      <th>4</th>\n",
       "      <th>5</th>\n",
       "      <th>6</th>\n",
       "      <th>7</th>\n",
       "      <th>8</th>\n",
       "      <th>9</th>\n",
       "      <th>10</th>\n",
       "      <th>11</th>\n",
       "      <th>12</th>\n",
       "      <th>13</th>\n",
       "      <th>14</th>\n",
       "      <th>15</th>\n",
       "      <th>16</th>\n",
       "      <th>17</th>\n",
       "      <th>18</th>\n",
       "      <th>19</th>\n",
       "      <th>20</th>\n",
       "      <th>21</th>\n",
       "      <th>22</th>\n",
       "      <th>23</th>\n",
       "      <th>24</th>\n",
       "      <th>25</th>\n",
       "      <th>26</th>\n",
       "      <th>...</th>\n",
       "      <th>10</th>\n",
       "      <th>11</th>\n",
       "      <th>12</th>\n",
       "      <th>13</th>\n",
       "      <th>14</th>\n",
       "      <th>15</th>\n",
       "      <th>16</th>\n",
       "      <th>17</th>\n",
       "      <th>18</th>\n",
       "      <th>19</th>\n",
       "      <th>20</th>\n",
       "      <th>21</th>\n",
       "      <th>22</th>\n",
       "      <th>23</th>\n",
       "      <th>24</th>\n",
       "      <th>25</th>\n",
       "      <th>26</th>\n",
       "      <th>27</th>\n",
       "      <th>28</th>\n",
       "      <th>29</th>\n",
       "      <th>30</th>\n",
       "      <th>31</th>\n",
       "      <th>32</th>\n",
       "      <th>33</th>\n",
       "      <th>34</th>\n",
       "      <th>35</th>\n",
       "      <th>36</th>\n",
       "      <th>37</th>\n",
       "      <th>38</th>\n",
       "      <th>39</th>\n",
       "      <th>40</th>\n",
       "      <th>41</th>\n",
       "      <th>42</th>\n",
       "      <th>43</th>\n",
       "      <th>44</th>\n",
       "      <th>45</th>\n",
       "      <th>46</th>\n",
       "      <th>47</th>\n",
       "      <th>48</th>\n",
       "      <th>49</th>\n",
       "      <th>50</th>\n",
       "      <th>51</th>\n",
       "      <th>52</th>\n",
       "      <th>53</th>\n",
       "      <th>54</th>\n",
       "      <th>55</th>\n",
       "      <th>56</th>\n",
       "      <th>57</th>\n",
       "      <th>58</th>\n",
       "      <th>59</th>\n",
       "    </tr>\n",
       "  </thead>\n",
       "  <tbody>\n",
       "    <tr>\n",
       "      <th>0</th>\n",
       "      <td>-0.991600</td>\n",
       "      <td>-0.988979</td>\n",
       "      <td>-0.916826</td>\n",
       "      <td>-0.849307</td>\n",
       "      <td>-0.744130</td>\n",
       "      <td>-0.786908</td>\n",
       "      <td>-0.741204</td>\n",
       "      <td>-0.189761</td>\n",
       "      <td>-0.077726</td>\n",
       "      <td>-0.225831</td>\n",
       "      <td>-0.018753</td>\n",
       "      <td>-0.235882</td>\n",
       "      <td>0</td>\n",
       "      <td>0</td>\n",
       "      <td>0</td>\n",
       "      <td>0</td>\n",
       "      <td>0</td>\n",
       "      <td>1</td>\n",
       "      <td>0</td>\n",
       "      <td>0</td>\n",
       "      <td>0</td>\n",
       "      <td>0</td>\n",
       "      <td>0</td>\n",
       "      <td>0</td>\n",
       "      <td>0</td>\n",
       "      <td>0</td>\n",
       "      <td>0</td>\n",
       "      <td>0</td>\n",
       "      <td>0</td>\n",
       "      <td>0</td>\n",
       "      <td>0</td>\n",
       "      <td>0</td>\n",
       "      <td>0</td>\n",
       "      <td>0</td>\n",
       "      <td>0</td>\n",
       "      <td>0</td>\n",
       "      <td>0</td>\n",
       "      <td>0</td>\n",
       "      <td>0</td>\n",
       "      <td>0</td>\n",
       "      <td>0</td>\n",
       "      <td>1</td>\n",
       "      <td>0</td>\n",
       "      <td>0</td>\n",
       "      <td>0</td>\n",
       "      <td>0</td>\n",
       "      <td>0</td>\n",
       "      <td>0</td>\n",
       "      <td>0</td>\n",
       "      <td>0</td>\n",
       "      <td>...</td>\n",
       "      <td>0</td>\n",
       "      <td>0</td>\n",
       "      <td>0</td>\n",
       "      <td>0</td>\n",
       "      <td>0</td>\n",
       "      <td>0</td>\n",
       "      <td>0</td>\n",
       "      <td>0</td>\n",
       "      <td>0</td>\n",
       "      <td>0</td>\n",
       "      <td>0</td>\n",
       "      <td>0</td>\n",
       "      <td>0</td>\n",
       "      <td>0</td>\n",
       "      <td>0</td>\n",
       "      <td>0</td>\n",
       "      <td>0</td>\n",
       "      <td>0</td>\n",
       "      <td>0</td>\n",
       "      <td>0</td>\n",
       "      <td>0</td>\n",
       "      <td>0</td>\n",
       "      <td>0</td>\n",
       "      <td>0</td>\n",
       "      <td>0</td>\n",
       "      <td>0</td>\n",
       "      <td>0</td>\n",
       "      <td>0</td>\n",
       "      <td>0</td>\n",
       "      <td>0</td>\n",
       "      <td>0</td>\n",
       "      <td>0</td>\n",
       "      <td>0</td>\n",
       "      <td>0</td>\n",
       "      <td>0</td>\n",
       "      <td>0</td>\n",
       "      <td>0</td>\n",
       "      <td>0</td>\n",
       "      <td>0</td>\n",
       "      <td>0</td>\n",
       "      <td>0</td>\n",
       "      <td>0</td>\n",
       "      <td>0</td>\n",
       "      <td>0</td>\n",
       "      <td>0</td>\n",
       "      <td>0</td>\n",
       "      <td>0</td>\n",
       "      <td>0</td>\n",
       "      <td>0</td>\n",
       "      <td>0</td>\n",
       "    </tr>\n",
       "    <tr>\n",
       "      <th>1</th>\n",
       "      <td>0.106546</td>\n",
       "      <td>-0.040552</td>\n",
       "      <td>0.127377</td>\n",
       "      <td>0.064301</td>\n",
       "      <td>0.183961</td>\n",
       "      <td>-0.582387</td>\n",
       "      <td>-0.389769</td>\n",
       "      <td>-0.189761</td>\n",
       "      <td>-0.077726</td>\n",
       "      <td>-0.225831</td>\n",
       "      <td>-0.018753</td>\n",
       "      <td>-0.235882</td>\n",
       "      <td>0</td>\n",
       "      <td>0</td>\n",
       "      <td>0</td>\n",
       "      <td>0</td>\n",
       "      <td>0</td>\n",
       "      <td>1</td>\n",
       "      <td>0</td>\n",
       "      <td>0</td>\n",
       "      <td>0</td>\n",
       "      <td>0</td>\n",
       "      <td>0</td>\n",
       "      <td>0</td>\n",
       "      <td>0</td>\n",
       "      <td>0</td>\n",
       "      <td>0</td>\n",
       "      <td>1</td>\n",
       "      <td>0</td>\n",
       "      <td>0</td>\n",
       "      <td>0</td>\n",
       "      <td>0</td>\n",
       "      <td>0</td>\n",
       "      <td>0</td>\n",
       "      <td>0</td>\n",
       "      <td>0</td>\n",
       "      <td>0</td>\n",
       "      <td>0</td>\n",
       "      <td>0</td>\n",
       "      <td>0</td>\n",
       "      <td>0</td>\n",
       "      <td>0</td>\n",
       "      <td>0</td>\n",
       "      <td>0</td>\n",
       "      <td>0</td>\n",
       "      <td>0</td>\n",
       "      <td>0</td>\n",
       "      <td>0</td>\n",
       "      <td>0</td>\n",
       "      <td>0</td>\n",
       "      <td>...</td>\n",
       "      <td>0</td>\n",
       "      <td>0</td>\n",
       "      <td>0</td>\n",
       "      <td>0</td>\n",
       "      <td>0</td>\n",
       "      <td>0</td>\n",
       "      <td>0</td>\n",
       "      <td>0</td>\n",
       "      <td>0</td>\n",
       "      <td>0</td>\n",
       "      <td>0</td>\n",
       "      <td>0</td>\n",
       "      <td>0</td>\n",
       "      <td>0</td>\n",
       "      <td>0</td>\n",
       "      <td>0</td>\n",
       "      <td>0</td>\n",
       "      <td>0</td>\n",
       "      <td>1</td>\n",
       "      <td>0</td>\n",
       "      <td>0</td>\n",
       "      <td>0</td>\n",
       "      <td>0</td>\n",
       "      <td>0</td>\n",
       "      <td>0</td>\n",
       "      <td>0</td>\n",
       "      <td>0</td>\n",
       "      <td>0</td>\n",
       "      <td>0</td>\n",
       "      <td>0</td>\n",
       "      <td>0</td>\n",
       "      <td>0</td>\n",
       "      <td>0</td>\n",
       "      <td>0</td>\n",
       "      <td>0</td>\n",
       "      <td>0</td>\n",
       "      <td>0</td>\n",
       "      <td>0</td>\n",
       "      <td>0</td>\n",
       "      <td>0</td>\n",
       "      <td>0</td>\n",
       "      <td>0</td>\n",
       "      <td>0</td>\n",
       "      <td>0</td>\n",
       "      <td>0</td>\n",
       "      <td>0</td>\n",
       "      <td>0</td>\n",
       "      <td>0</td>\n",
       "      <td>0</td>\n",
       "      <td>0</td>\n",
       "    </tr>\n",
       "    <tr>\n",
       "      <th>2</th>\n",
       "      <td>-0.207284</td>\n",
       "      <td>0.157627</td>\n",
       "      <td>0.370547</td>\n",
       "      <td>0.314806</td>\n",
       "      <td>0.471018</td>\n",
       "      <td>-0.582387</td>\n",
       "      <td>-0.653345</td>\n",
       "      <td>-0.189761</td>\n",
       "      <td>-0.077726</td>\n",
       "      <td>-0.225831</td>\n",
       "      <td>-0.018753</td>\n",
       "      <td>-0.235882</td>\n",
       "      <td>0</td>\n",
       "      <td>0</td>\n",
       "      <td>0</td>\n",
       "      <td>0</td>\n",
       "      <td>0</td>\n",
       "      <td>0</td>\n",
       "      <td>0</td>\n",
       "      <td>1</td>\n",
       "      <td>0</td>\n",
       "      <td>0</td>\n",
       "      <td>0</td>\n",
       "      <td>0</td>\n",
       "      <td>0</td>\n",
       "      <td>0</td>\n",
       "      <td>1</td>\n",
       "      <td>0</td>\n",
       "      <td>0</td>\n",
       "      <td>0</td>\n",
       "      <td>0</td>\n",
       "      <td>0</td>\n",
       "      <td>0</td>\n",
       "      <td>0</td>\n",
       "      <td>0</td>\n",
       "      <td>0</td>\n",
       "      <td>0</td>\n",
       "      <td>0</td>\n",
       "      <td>0</td>\n",
       "      <td>0</td>\n",
       "      <td>0</td>\n",
       "      <td>0</td>\n",
       "      <td>0</td>\n",
       "      <td>0</td>\n",
       "      <td>0</td>\n",
       "      <td>0</td>\n",
       "      <td>0</td>\n",
       "      <td>0</td>\n",
       "      <td>0</td>\n",
       "      <td>0</td>\n",
       "      <td>...</td>\n",
       "      <td>0</td>\n",
       "      <td>0</td>\n",
       "      <td>0</td>\n",
       "      <td>0</td>\n",
       "      <td>0</td>\n",
       "      <td>0</td>\n",
       "      <td>0</td>\n",
       "      <td>0</td>\n",
       "      <td>0</td>\n",
       "      <td>0</td>\n",
       "      <td>1</td>\n",
       "      <td>0</td>\n",
       "      <td>0</td>\n",
       "      <td>0</td>\n",
       "      <td>0</td>\n",
       "      <td>0</td>\n",
       "      <td>0</td>\n",
       "      <td>0</td>\n",
       "      <td>0</td>\n",
       "      <td>0</td>\n",
       "      <td>0</td>\n",
       "      <td>0</td>\n",
       "      <td>0</td>\n",
       "      <td>0</td>\n",
       "      <td>0</td>\n",
       "      <td>0</td>\n",
       "      <td>0</td>\n",
       "      <td>0</td>\n",
       "      <td>0</td>\n",
       "      <td>0</td>\n",
       "      <td>0</td>\n",
       "      <td>0</td>\n",
       "      <td>0</td>\n",
       "      <td>0</td>\n",
       "      <td>0</td>\n",
       "      <td>0</td>\n",
       "      <td>0</td>\n",
       "      <td>0</td>\n",
       "      <td>0</td>\n",
       "      <td>0</td>\n",
       "      <td>0</td>\n",
       "      <td>0</td>\n",
       "      <td>0</td>\n",
       "      <td>0</td>\n",
       "      <td>0</td>\n",
       "      <td>0</td>\n",
       "      <td>0</td>\n",
       "      <td>0</td>\n",
       "      <td>0</td>\n",
       "      <td>0</td>\n",
       "    </tr>\n",
       "    <tr>\n",
       "      <th>3</th>\n",
       "      <td>0.836931</td>\n",
       "      <td>-0.351976</td>\n",
       "      <td>-0.258835</td>\n",
       "      <td>-0.363032</td>\n",
       "      <td>-0.347886</td>\n",
       "      <td>-0.582387</td>\n",
       "      <td>0.225242</td>\n",
       "      <td>-0.189761</td>\n",
       "      <td>-0.077726</td>\n",
       "      <td>-0.225831</td>\n",
       "      <td>-0.018753</td>\n",
       "      <td>-0.235882</td>\n",
       "      <td>1</td>\n",
       "      <td>0</td>\n",
       "      <td>0</td>\n",
       "      <td>0</td>\n",
       "      <td>0</td>\n",
       "      <td>0</td>\n",
       "      <td>0</td>\n",
       "      <td>0</td>\n",
       "      <td>0</td>\n",
       "      <td>0</td>\n",
       "      <td>0</td>\n",
       "      <td>0</td>\n",
       "      <td>0</td>\n",
       "      <td>0</td>\n",
       "      <td>0</td>\n",
       "      <td>0</td>\n",
       "      <td>0</td>\n",
       "      <td>0</td>\n",
       "      <td>0</td>\n",
       "      <td>0</td>\n",
       "      <td>0</td>\n",
       "      <td>0</td>\n",
       "      <td>0</td>\n",
       "      <td>0</td>\n",
       "      <td>0</td>\n",
       "      <td>0</td>\n",
       "      <td>0</td>\n",
       "      <td>0</td>\n",
       "      <td>0</td>\n",
       "      <td>0</td>\n",
       "      <td>0</td>\n",
       "      <td>0</td>\n",
       "      <td>0</td>\n",
       "      <td>0</td>\n",
       "      <td>1</td>\n",
       "      <td>0</td>\n",
       "      <td>0</td>\n",
       "      <td>0</td>\n",
       "      <td>...</td>\n",
       "      <td>0</td>\n",
       "      <td>0</td>\n",
       "      <td>0</td>\n",
       "      <td>0</td>\n",
       "      <td>0</td>\n",
       "      <td>0</td>\n",
       "      <td>0</td>\n",
       "      <td>0</td>\n",
       "      <td>0</td>\n",
       "      <td>0</td>\n",
       "      <td>0</td>\n",
       "      <td>0</td>\n",
       "      <td>0</td>\n",
       "      <td>0</td>\n",
       "      <td>0</td>\n",
       "      <td>0</td>\n",
       "      <td>0</td>\n",
       "      <td>0</td>\n",
       "      <td>0</td>\n",
       "      <td>0</td>\n",
       "      <td>0</td>\n",
       "      <td>0</td>\n",
       "      <td>0</td>\n",
       "      <td>0</td>\n",
       "      <td>0</td>\n",
       "      <td>1</td>\n",
       "      <td>0</td>\n",
       "      <td>0</td>\n",
       "      <td>0</td>\n",
       "      <td>0</td>\n",
       "      <td>0</td>\n",
       "      <td>0</td>\n",
       "      <td>0</td>\n",
       "      <td>0</td>\n",
       "      <td>0</td>\n",
       "      <td>0</td>\n",
       "      <td>0</td>\n",
       "      <td>0</td>\n",
       "      <td>0</td>\n",
       "      <td>0</td>\n",
       "      <td>0</td>\n",
       "      <td>0</td>\n",
       "      <td>0</td>\n",
       "      <td>0</td>\n",
       "      <td>0</td>\n",
       "      <td>0</td>\n",
       "      <td>0</td>\n",
       "      <td>0</td>\n",
       "      <td>0</td>\n",
       "      <td>0</td>\n",
       "    </tr>\n",
       "    <tr>\n",
       "      <th>4</th>\n",
       "      <td>-0.910960</td>\n",
       "      <td>0.299183</td>\n",
       "      <td>0.442068</td>\n",
       "      <td>0.476898</td>\n",
       "      <td>0.634799</td>\n",
       "      <td>-0.582387</td>\n",
       "      <td>-0.741204</td>\n",
       "      <td>-0.189761</td>\n",
       "      <td>-0.077726</td>\n",
       "      <td>-0.225831</td>\n",
       "      <td>-0.018753</td>\n",
       "      <td>-0.235882</td>\n",
       "      <td>0</td>\n",
       "      <td>0</td>\n",
       "      <td>0</td>\n",
       "      <td>0</td>\n",
       "      <td>1</td>\n",
       "      <td>0</td>\n",
       "      <td>0</td>\n",
       "      <td>0</td>\n",
       "      <td>0</td>\n",
       "      <td>0</td>\n",
       "      <td>0</td>\n",
       "      <td>0</td>\n",
       "      <td>0</td>\n",
       "      <td>0</td>\n",
       "      <td>0</td>\n",
       "      <td>1</td>\n",
       "      <td>0</td>\n",
       "      <td>0</td>\n",
       "      <td>0</td>\n",
       "      <td>0</td>\n",
       "      <td>0</td>\n",
       "      <td>0</td>\n",
       "      <td>0</td>\n",
       "      <td>0</td>\n",
       "      <td>0</td>\n",
       "      <td>0</td>\n",
       "      <td>0</td>\n",
       "      <td>0</td>\n",
       "      <td>0</td>\n",
       "      <td>0</td>\n",
       "      <td>0</td>\n",
       "      <td>0</td>\n",
       "      <td>0</td>\n",
       "      <td>0</td>\n",
       "      <td>0</td>\n",
       "      <td>0</td>\n",
       "      <td>0</td>\n",
       "      <td>0</td>\n",
       "      <td>...</td>\n",
       "      <td>0</td>\n",
       "      <td>0</td>\n",
       "      <td>0</td>\n",
       "      <td>0</td>\n",
       "      <td>0</td>\n",
       "      <td>0</td>\n",
       "      <td>0</td>\n",
       "      <td>0</td>\n",
       "      <td>0</td>\n",
       "      <td>0</td>\n",
       "      <td>0</td>\n",
       "      <td>0</td>\n",
       "      <td>0</td>\n",
       "      <td>0</td>\n",
       "      <td>0</td>\n",
       "      <td>0</td>\n",
       "      <td>0</td>\n",
       "      <td>0</td>\n",
       "      <td>0</td>\n",
       "      <td>0</td>\n",
       "      <td>0</td>\n",
       "      <td>0</td>\n",
       "      <td>0</td>\n",
       "      <td>0</td>\n",
       "      <td>0</td>\n",
       "      <td>0</td>\n",
       "      <td>0</td>\n",
       "      <td>0</td>\n",
       "      <td>0</td>\n",
       "      <td>0</td>\n",
       "      <td>0</td>\n",
       "      <td>0</td>\n",
       "      <td>0</td>\n",
       "      <td>0</td>\n",
       "      <td>0</td>\n",
       "      <td>0</td>\n",
       "      <td>0</td>\n",
       "      <td>0</td>\n",
       "      <td>0</td>\n",
       "      <td>0</td>\n",
       "      <td>0</td>\n",
       "      <td>0</td>\n",
       "      <td>0</td>\n",
       "      <td>0</td>\n",
       "      <td>0</td>\n",
       "      <td>0</td>\n",
       "      <td>0</td>\n",
       "      <td>0</td>\n",
       "      <td>0</td>\n",
       "      <td>0</td>\n",
       "    </tr>\n",
       "  </tbody>\n",
       "</table>\n",
       "<p>5 rows × 423 columns</p>\n",
       "</div>"
      ],
      "text/plain": [
       "   FlightNum  ActualElapsedTime  CRSElapsedTime   AirTime  Distance    TaxiIn  \\\n",
       "0  -0.991600          -0.988979       -0.916826 -0.849307 -0.744130 -0.786908   \n",
       "1   0.106546          -0.040552        0.127377  0.064301  0.183961 -0.582387   \n",
       "2  -0.207284           0.157627        0.370547  0.314806  0.471018 -0.582387   \n",
       "3   0.836931          -0.351976       -0.258835 -0.363032 -0.347886 -0.582387   \n",
       "4  -0.910960           0.299183        0.442068  0.476898  0.634799 -0.582387   \n",
       "\n",
       "    TaxiOut  CarrierDelay  WeatherDelay  NASDelay  SecurityDelay  \\\n",
       "0 -0.741204     -0.189761     -0.077726 -0.225831      -0.018753   \n",
       "1 -0.389769     -0.189761     -0.077726 -0.225831      -0.018753   \n",
       "2 -0.653345     -0.189761     -0.077726 -0.225831      -0.018753   \n",
       "3  0.225242     -0.189761     -0.077726 -0.225831      -0.018753   \n",
       "4 -0.741204     -0.189761     -0.077726 -0.225831      -0.018753   \n",
       "\n",
       "   LateAircraftDelay  1  2  3  4  5  6  7  8  9  10  11  12  1  2  3  4  5  6  \\\n",
       "0          -0.235882  0  0  0  0  0  1  0  0  0   0   0   0  0  0  0  0  0  0   \n",
       "1          -0.235882  0  0  0  0  0  1  0  0  0   0   0   0  0  0  0  1  0  0   \n",
       "2          -0.235882  0  0  0  0  0  0  0  1  0   0   0   0  0  0  1  0  0  0   \n",
       "3          -0.235882  1  0  0  0  0  0  0  0  0   0   0   0  0  0  0  0  0  0   \n",
       "4          -0.235882  0  0  0  0  1  0  0  0  0   0   0   0  0  0  0  1  0  0   \n",
       "\n",
       "   7  8  9  10  11  12  13  14  15  16  17  18  19  20  21  22  23  24  25  \\\n",
       "0  0  0  0   0   0   0   0   0   0   0   0   1   0   0   0   0   0   0   0   \n",
       "1  0  0  0   0   0   0   0   0   0   0   0   0   0   0   0   0   0   0   0   \n",
       "2  0  0  0   0   0   0   0   0   0   0   0   0   0   0   0   0   0   0   0   \n",
       "3  0  0  0   0   0   0   0   0   0   0   0   0   0   0   0   0   1   0   0   \n",
       "4  0  0  0   0   0   0   0   0   0   0   0   0   0   0   0   0   0   0   0   \n",
       "\n",
       "   26 ...  10  11  12  13  14  15  16  17  18  19  20  21  22  23  24  25  26  \\\n",
       "0   0 ...   0   0   0   0   0   0   0   0   0   0   0   0   0   0   0   0   0   \n",
       "1   0 ...   0   0   0   0   0   0   0   0   0   0   0   0   0   0   0   0   0   \n",
       "2   0 ...   0   0   0   0   0   0   0   0   0   0   1   0   0   0   0   0   0   \n",
       "3   0 ...   0   0   0   0   0   0   0   0   0   0   0   0   0   0   0   0   0   \n",
       "4   0 ...   0   0   0   0   0   0   0   0   0   0   0   0   0   0   0   0   0   \n",
       "\n",
       "   27  28  29  30  31  32  33  34  35  36  37  38  39  40  41  42  43  44  45  \\\n",
       "0   0   0   0   0   0   0   0   0   0   0   0   0   0   0   0   0   0   0   0   \n",
       "1   0   1   0   0   0   0   0   0   0   0   0   0   0   0   0   0   0   0   0   \n",
       "2   0   0   0   0   0   0   0   0   0   0   0   0   0   0   0   0   0   0   0   \n",
       "3   0   0   0   0   0   0   0   0   1   0   0   0   0   0   0   0   0   0   0   \n",
       "4   0   0   0   0   0   0   0   0   0   0   0   0   0   0   0   0   0   0   0   \n",
       "\n",
       "   46  47  48  49  50  51  52  53  54  55  56  57  58  59  \n",
       "0   0   0   0   0   0   0   0   0   0   0   0   0   0   0  \n",
       "1   0   0   0   0   0   0   0   0   0   0   0   0   0   0  \n",
       "2   0   0   0   0   0   0   0   0   0   0   0   0   0   0  \n",
       "3   0   0   0   0   0   0   0   0   0   0   0   0   0   0  \n",
       "4   0   0   0   0   0   0   0   0   0   0   0   0   0   0  \n",
       "\n",
       "[5 rows x 423 columns]"
      ]
     },
     "execution_count": 48,
     "metadata": {},
     "output_type": "execute_result"
    }
   ],
   "source": [
    "X.head()"
   ]
  },
  {
   "cell_type": "markdown",
   "metadata": {},
   "source": [
    "**11. (0.75 балла)** Разбейте выборку и вектор целевой переменной на обучение и контроль в отношении 70/30 (для этого можно использовать, например, функцию [train_test_split](http://scikit-learn.org/stable/modules/generated/sklearn.cross_validation.train_test_split.html)). "
   ]
  },
  {
   "cell_type": "code",
   "execution_count": 49,
   "metadata": {
    "collapsed": false
   },
   "outputs": [],
   "source": [
    "from sklearn.model_selection import train_test_split\n",
    "\n",
    "X_train, X_test, y_train, y_test = train_test_split(X, y, test_size = 0.3)"
   ]
  },
  {
   "cell_type": "markdown",
   "metadata": {},
   "source": [
    "### Scikit-learn\n",
    "\n",
    "<img src = \"https://pp.vk.me/c4534/u35727827/93547647/x_d31c4463.jpg\">\n",
    "Теперь, когда мы привели данные к пригодному виду, попробуем решить задачу при помощи метода наименьших квадратов. Напомним, что данный метод заключается в оптимизации функционала $MSE$:\n",
    "\n",
    "$$MSE(X, y) = \\frac{1}{l} \\sum_{i=1}^l (<w, x_i> - y_i)^2 \\to \\min_{w},$$\n",
    "\n",
    "где $\\{ (x_i, y_i ) \\}_{i=1}^l$ — обучающая выборка, состоящая из $l$ пар объект-ответ.\n",
    "\n",
    "Заметим, что решение данной задачи уже реализовано в модуле sklearn в виде класса [LinearRegression](http://scikit-learn.org/stable/modules/generated/sklearn.linear_model.LinearRegression.html#sklearn.linear_model.LinearRegression).\n",
    "\n",
    "**12. (0.5 балла)** Обучите линейную регрессию на 1000 объектах из обучающей выборки и выведите значения $MSE$ и $R^2$ на этой подвыборке и контрольной выборке (итого 4 различных числа). Проинтерпретируйте полученный результат — насколько качественные прогнозы строит полученная модель? Какие проблемы наблюдаются в модели?\n",
    "\n",
    "**Подсказка**: изучите значения полученных коэффициентов $w$, сохраненных в атрибуте coef_ объекта LinearRegression."
   ]
  },
  {
   "cell_type": "code",
   "execution_count": 50,
   "metadata": {
    "collapsed": false
   },
   "outputs": [],
   "source": [
    "from sklearn.linear_model import LinearRegression\n",
    "from sklearn.metrics import r2_score\n",
    "from sklearn.metrics import mean_squared_error\n",
    "\n",
    "def regression(reg, X_train, X_test, y_train, y_test):\n",
    "    reg.fit(X_train, y_train)\n",
    "    y_pred_train = reg.predict(X_train)\n",
    "    y_pred_test = reg.predict(X_test)\n",
    "    \n",
    "    print('На обучающей выборке R2 равен: {:.2}'.format(r2_score(y_train, y_pred_train)))\n",
    "    print('На обучающей выборке MSE равен: {:.4}'.format(mean_squared_error(y_train, y_pred_train)))\n",
    "    print('На контрольной выборке R2 равен: {:.2}'.format(r2_score(y_test, y_pred_test)))\n",
    "    print('На контрольной выборке MSE равен: {:.4}'.format(mean_squared_error(y_test, y_pred_test)))\n",
    "    \n",
    "    return reg.coef_"
   ]
  },
  {
   "cell_type": "code",
   "execution_count": 51,
   "metadata": {
    "collapsed": false
   },
   "outputs": [
    {
     "name": "stdout",
     "output_type": "stream",
     "text": [
      "На обучающей выборке R2 равен: 1.0\n",
      "На обучающей выборке MSE равен: 1.261e-24\n",
      "На контрольной выборке R2 равен: 0.12\n",
      "На контрольной выборке MSE равен: 1.144e+03\n"
     ]
    }
   ],
   "source": [
    "coefs = regression(reg=LinearRegression(), X_train=X[:1000], X_test=X[1000:], y_train=y[:1000], y_test=y[1000:])"
   ]
  },
  {
   "cell_type": "code",
   "execution_count": 52,
   "metadata": {
    "collapsed": false
   },
   "outputs": [
    {
     "data": {
      "text/plain": [
       "array([  -0.    ,   -0.    ,    0.    ,    0.    ,   -0.    ,    0.    ,\n",
       "          0.    ,    0.    ,   -0.    ,    0.    ,   -0.    ,    0.    ,\n",
       "          0.    ,    0.    ,    0.    ,    0.    ,    0.    ,    0.    ,\n",
       "          0.    ,    0.    ,    0.    ,    0.    ,    0.    ,   -0.    ,\n",
       "          0.    ,    0.    ,    0.    ,    0.    ,    0.    ,    0.    ,\n",
       "          0.    ,    0.    ,    0.    ,    0.    ,    0.    ,    0.    ,\n",
       "          0.    ,    0.    ,    0.    ,    0.    ,    0.    ,    0.    ,\n",
       "          0.    ,    0.    ,    0.    ,    0.    ,    0.    ,    0.    ,\n",
       "          0.    ,    0.    ,    0.    ,    0.    ,    0.    ,    0.    ,\n",
       "          0.    ,   -0.    ,   -0.    ,   -0.    ,   -0.    ,   -0.    ,\n",
       "         -0.    ,   -0.    ,    0.    ,    0.    ,    0.    ,    0.    ,\n",
       "          0.    ,    0.    ,    0.    ,    0.    ,    0.    ,    0.    ,\n",
       "          0.    ,    0.    ,    0.    ,    0.    ,    0.    ,    0.    ,\n",
       "          0.    ,    0.    ,    0.    ,    0.    ,    9.0704,   -9.0704,\n",
       "          0.    ,  210.2147,    0.    ,   -0.    ,    0.    , -551.0639,\n",
       "       -491.0639, -431.0639, -371.0639, -311.0639, -251.0639, -191.0639,\n",
       "       -131.0639,  -71.0639,  -11.0639,   48.9361,  108.9361,  168.9361,\n",
       "        228.9361,  288.9361,  348.9361,  408.9361,  468.9361,  528.9361,\n",
       "         -0.    ,  -29.5   ,  -28.5   ,  -27.5   ,  -26.5   ,  -25.5   ,\n",
       "        -24.5   ,  -23.5   ,  -22.5   ,  -21.5   ,  -20.5   ,  -19.5   ,\n",
       "        -18.5   ,  -17.5   ,  -16.5   ,  -15.5   ,  -14.5   ,  -13.5   ,\n",
       "        -12.5   ,  -11.5   ,  -10.5   ,   -9.5   ,   -8.5   ,   -7.5   ,\n",
       "         -6.5   ,   -5.5   ,   -4.5   ,   -3.5   ,   -2.5   ,   -1.5   ,\n",
       "         -0.5   ,    0.5   ,    1.5   ,    2.5   ,    3.5   ,    4.5   ,\n",
       "          5.5   ,    6.5   ,    7.5   ,    8.5   ,    9.5   ,   10.5   ,\n",
       "         11.5   ,   12.5   ,   13.5   ,   14.5   ,   15.5   ,   16.5   ,\n",
       "         17.5   ,   18.5   ,   19.5   ,   20.5   ,   21.5   ,   22.5   ,\n",
       "         23.5   ,   24.5   ,   25.5   ,   26.5   ,   27.5   ,   28.5   ,\n",
       "         29.5   ,   -0.    , -210.2147,   -0.    ,    0.    ,    0.    ,\n",
       "        551.0639,  491.0639,  431.0639,  371.0639,  311.0639,  251.0639,\n",
       "        191.0639,  131.0639,   71.0639,   11.0639,  -48.9361, -108.9361,\n",
       "       -168.9361, -228.9361, -288.9361, -348.9361, -408.9361, -468.9361,\n",
       "       -528.9361,   29.2241,   28.2241,   27.2241,   26.2241,   25.2241,\n",
       "         24.2241,   23.2241,   22.2241,   21.2241,   20.2241,   19.2241,\n",
       "         18.2241,   17.2241,   16.2241,   15.2241,   14.2241,   13.2241,\n",
       "         12.2241,   11.2241,   10.2241,    9.2241,    8.2241,    7.2241,\n",
       "          6.2241,    5.2241,    4.2241,    3.2241,    2.2241,    1.2241,\n",
       "          0.2241,   -0.7759,   -1.7759,   -2.7759,   -0.    ,   -4.7759,\n",
       "         -5.7759,   -6.7759,   -7.7759,   -8.7759,   -9.7759,  -10.7759,\n",
       "        -11.7759,    0.    ,  -13.7759,  -14.7759,  -15.7759,  -16.7759,\n",
       "        -17.7759,  -18.7759,  -19.7759,  -20.7759,  -21.7759,  -22.7759,\n",
       "        -23.7759,  -24.7759,  -25.7759,  -26.7759,  -27.7759,  -28.7759,\n",
       "        -29.7759,  -18.2921,  -18.2921,    0.    ,  420.4293,   -8.9333,\n",
       "        -18.2921,  -18.2921,  -18.2921,  -18.2921,  -18.2921,  -18.2921,\n",
       "        -18.2921,  -18.2921,  -18.2921,  -18.2921,  -18.2921,  -18.2921,\n",
       "        -18.2921,  -18.2921,  -18.2921,  -18.2921,  -18.2921,  -18.2921,\n",
       "        -18.2921,  -18.2921,    0.1512,    0.1512,    0.1512,    0.1512,\n",
       "          0.1512,    0.1512,    0.1512,    0.1512,    0.1512,    0.1512,\n",
       "          0.1512,    0.1512,    0.1512,    0.1512,    0.1512,    0.1512,\n",
       "          0.1512,    0.1512,    0.1512,    0.1512,    0.1512,    0.1512,\n",
       "          0.1512,    0.1512,    0.1512,    0.1512,    0.1512,    0.1512,\n",
       "          0.1512,    0.1512,    0.1512,    0.1512,    0.1512,    0.1512,\n",
       "          0.1512,    0.1512,    0.1512,    0.1512,    0.1512,    0.1512,\n",
       "          0.1512,    0.1512,    0.1512,    0.1512,    0.1512,    0.1512,\n",
       "          0.1512,    0.1512,    0.1512,    0.1512,    0.1512,    0.1512,\n",
       "          0.1512,    0.1512,    0.1512,    0.1512,    0.1512,    0.1512,\n",
       "          0.1512,    0.1512,    0.4254,   -0.    ,   -0.    ,   -8.9333,\n",
       "         -0.    ,    0.4254,    0.4254,    0.4254,    0.4254,    0.4254,\n",
       "          0.4254,    0.4254,    0.4254,    0.4254,    0.4254,    0.4254,\n",
       "          0.4254,    0.4254,    0.4254,    0.4254,    0.4254,    0.4254,\n",
       "          0.4254,    0.4254,    0.4254,    0.    ,    0.    ,    0.    ,\n",
       "          0.    ,    0.    ,    0.    ,    0.    ,   -0.    ,    0.    ,\n",
       "         -0.    ,    0.    ,    0.    ,    0.    ,    0.    ,    0.    ,\n",
       "          0.    ,    0.    ,    0.    ,    0.    ,   -0.    ,    0.    ,\n",
       "          0.    ,   -0.    ,    0.    ,    0.    ,    0.    ,    0.    ,\n",
       "         -0.    ,    0.    ,    0.    ,    0.    ,   -0.    ,    0.    ,\n",
       "          0.    ,    0.    ,    0.    ,    0.    ,    0.    ,    0.    ,\n",
       "         -0.    ,    0.    ,    0.    ,    0.    ,    0.    ,    0.    ,\n",
       "          0.    ,    0.    ,    0.    ,    0.    ,    0.    ,   -0.    ,\n",
       "          0.    ,    0.    ,   -0.    ,   -0.    ,    0.    ,    0.    ,\n",
       "          0.    ,    0.    ,   -0.    ])"
      ]
     },
     "execution_count": 52,
     "metadata": {},
     "output_type": "execute_result"
    }
   ],
   "source": [
    "np.set_printoptions(precision=4, suppress=True)\n",
    "coefs"
   ]
  },
  {
   "cell_type": "markdown",
   "metadata": {},
   "source": [
    "Качество модели высоко на обучающей выборке и сильно хуже на контроле, что свидетельствует о переобучении модели. В этом можно убедиться, посмотрев на коэффициенты: среди них много трехзначных, что подтверждает гипотезу."
   ]
  },
  {
   "cell_type": "markdown",
   "metadata": {
    "collapsed": true
   },
   "source": [
    "Для решения описанных вами в предыдущем пункте проблем используем L1- или L2-регуляризацию, тем самым получив Lasso и Ridge регрессии соответственно и изменив оптимизационную задачу одним из следующих образов:\n",
    "$$MSE_{L1}(X, y) = \\frac{1}{l} \\sum_{i=1}^l (<w, x_i> - y_i)^2 + \\alpha ||w||_1 \\to \\min_{w},$$\n",
    "$$MSE_{L2}(X, y) = \\frac{1}{l} \\sum_{i=1}^l (<w, x_i> - y_i)^2 + \\alpha ||w||_2^2 \\to \\min_{w},$$\n",
    "\n",
    "где $\\alpha$ — коэффициент регуляризации. Один из способов его подбора заключается в переборе некоторого количества значений и оценке качества на кросс-валидации для каждого из них, после чего выбирается значение, для которого было получено наилучшее качество.\n",
    "\n",
    "**13. (1 балл)** Обучите линейные регрессии с L1- и L2-регуляризатором, подобрав лучшее значение параметра регуляризации из списка alpha_grid при помощи кросс-валидации c 5 фолдами на тех же 1000 объектах, что и в п.12. Выведите значения $MSE$ и $R^2$ на обучающей и контрольной выборках. Удалось ли решить указанные вами ранее проблемы?\n",
    "\n",
    "Для выполнения данного задания вам могут понадобиться реализованные в библиотеке объекты [LassoCV](http://scikit-learn.org/stable/modules/generated/sklearn.linear_model.LassoCV.html), [RidgeCV](http://scikit-learn.org/stable/modules/generated/sklearn.linear_model.RidgeCV.html) и [KFold](http://scikit-learn.org/stable/modules/generated/sklearn.cross_validation.KFold.html).\n"
   ]
  },
  {
   "cell_type": "code",
   "execution_count": 53,
   "metadata": {
    "collapsed": false
   },
   "outputs": [],
   "source": [
    "from sklearn.linear_model import LassoCV\n",
    "from sklearn.linear_model import RidgeCV\n",
    "from sklearn.model_selection import KFold\n",
    "\n",
    "kf = KFold(n_splits=5, shuffle=True)"
   ]
  },
  {
   "cell_type": "code",
   "execution_count": 54,
   "metadata": {
    "collapsed": false
   },
   "outputs": [
    {
     "name": "stdout",
     "output_type": "stream",
     "text": [
      "Лучшее значение параметра регуляризации: 0.0529\n",
      "\n",
      "На обучающей выборке R2 равен: 0.94\n",
      "На обучающей выборке MSE равен: 53.91\n",
      "На контрольной выборке R2 равен: 0.93\n",
      "На контрольной выборке MSE равен: 85.09\n"
     ]
    }
   ],
   "source": [
    "lasso = LassoCV(cv=kf, n_jobs=-1)\n",
    "lasso.fit(X[:1000], y[:1000])\n",
    "y_pred_train_lasso = lasso.predict(X[:1000])\n",
    "y_pred_test_lasso = lasso.predict(X[1000:])\n",
    "\n",
    "best_alpha_lasso = lasso.alpha_\n",
    "\n",
    "print('Лучшее значение параметра регуляризации: {:.3}'.format(best_alpha_lasso))\n",
    "print()\n",
    "print('На обучающей выборке R2 равен: {:.2}'.format(r2_score(y[:1000], y_pred_train_lasso)))\n",
    "print('На обучающей выборке MSE равен: {:.4}'.format(mean_squared_error(y[:1000], y_pred_train_lasso)))\n",
    "print('На контрольной выборке R2 равен: {:.2}'.format(r2_score(y[1000:], y_pred_test_lasso)))\n",
    "print('На контрольной выборке MSE равен: {:.4}'.format(mean_squared_error(y[1000:], y_pred_test_lasso)))"
   ]
  },
  {
   "cell_type": "code",
   "execution_count": 55,
   "metadata": {
    "collapsed": false
   },
   "outputs": [
    {
     "name": "stdout",
     "output_type": "stream",
     "text": [
      "Лучшее значение параметра регуляризации: 13.9\n",
      "\n",
      "На обучающей выборке R2 равен: 0.95\n",
      "На обучающей выборке MSE равен: 44.81\n",
      "На контрольной выборке R2 равен: 0.93\n",
      "На контрольной выборке MSE равен: 93.62\n"
     ]
    }
   ],
   "source": [
    "alpha_grid = np.logspace(-1, 2, 15)\n",
    "\n",
    "ridge = RidgeCV(alphas=alpha_grid, cv=kf)\n",
    "ridge.fit(X[:1000], y[:1000])\n",
    "y_pred_train_ridge = ridge.predict(X[:1000])\n",
    "y_pred_test_ridge = ridge.predict(X[1000:])\n",
    "\n",
    "best_alpha_ridge = ridge.alpha_\n",
    "\n",
    "print('Лучшее значение параметра регуляризации: {:.3}'.format(best_alpha_ridge))\n",
    "print()\n",
    "print('На обучающей выборке R2 равен: {:.2}'.format(r2_score(y[:1000], y_pred_train_ridge)))\n",
    "print('На обучающей выборке MSE равен: {:.4}'.format(mean_squared_error(y[:1000], y_pred_train_ridge)))\n",
    "print('На контрольной выборке R2 равен: {:.2}'.format(r2_score(y[1000:], y_pred_test_ridge)))\n",
    "print('На контрольной выборке MSE равен: {:.4}'.format(mean_squared_error(y[1000:], y_pred_test_ridge)))"
   ]
  },
  {
   "cell_type": "markdown",
   "metadata": {},
   "source": [
    "Оживлённая дискуссия в чате сподвигла меня дополнительно построить графики зависимости коэффициента R2 от значения параметра alpha. К счастью, у меня проблем не возникло :)"
   ]
  },
  {
   "cell_type": "code",
   "execution_count": 56,
   "metadata": {
    "collapsed": false
   },
   "outputs": [
    {
     "data": {
      "text/plain": [
       "GridSearchCV(cv=KFold(n_splits=5, random_state=None, shuffle=True),\n",
       "       error_score='raise',\n",
       "       estimator=Ridge(alpha=1.0, copy_X=True, fit_intercept=True, max_iter=None,\n",
       "   normalize=False, random_state=None, solver='auto', tol=0.001),\n",
       "       fit_params={}, iid=True, n_jobs=1,\n",
       "       param_grid={'alpha': array([  5.     ,   5.22222, ...,  26.77778,  27.     ])},\n",
       "       pre_dispatch='2*n_jobs', refit=True, return_train_score=True,\n",
       "       scoring='r2', verbose=0)"
      ]
     },
     "execution_count": 56,
     "metadata": {},
     "output_type": "execute_result"
    }
   ],
   "source": [
    "from sklearn.model_selection import GridSearchCV\n",
    "from sklearn.linear_model import Lasso\n",
    "from sklearn.linear_model import Ridge\n",
    "\n",
    "params_lasso = {'alpha': np.linspace(0.01, 3, 100)}\n",
    "gs_lasso = GridSearchCV(estimator=Lasso(), param_grid=params_lasso, scoring='r2', cv=kf)\n",
    "gs_lasso.fit(X[:1000], y[:1000])\n",
    "\n",
    "params_ridge = {'alpha': np.linspace(5, 27, 100)}\n",
    "gs_ridge = GridSearchCV(estimator=Ridge(), param_grid=params_ridge, scoring='r2', cv=kf)\n",
    "gs_ridge.fit(X[:1000], y[:1000])"
   ]
  },
  {
   "cell_type": "code",
   "execution_count": 57,
   "metadata": {
    "collapsed": false
   },
   "outputs": [
    {
     "data": {
      "image/png": "[encoded data removed]",
      "text/plain": [
       "<matplotlib.figure.Figure at 0x10ec67c88>"
      ]
     },
     "metadata": {},
     "output_type": "display_data"
    }
   ],
   "source": [
    "f, axes = plt.subplots(1, 2, figsize=(10,4))\n",
    "\n",
    "axes[0].plot(gs_lasso.cv_results_['param_alpha'].data, gs_lasso.cv_results_['mean_test_score'])\n",
    "axes[0].plot(gs_lasso.cv_results_['param_alpha'].data[gs_lasso.cv_results_['mean_test_score'].argmax()],\n",
    "        gs_lasso.cv_results_['mean_test_score'].max(), marker='^', color='r', label='max')\n",
    "axes[0].set_xlabel('alpha')\n",
    "axes[0].set_ylabel('R2')\n",
    "axes[0].legend()\n",
    "axes[0].set_title('CV results for Lasso Regression - test')\n",
    "\n",
    "axes[1].plot(gs_ridge.cv_results_['param_alpha'].data, gs_ridge.cv_results_['mean_test_score'])\n",
    "axes[1].plot(gs_ridge.cv_results_['param_alpha'].data[gs_ridge.cv_results_['mean_test_score'].argmax()],\n",
    "        gs_ridge.cv_results_['mean_test_score'].max(), marker='^', color='r', label='max')\n",
    "axes[1].set_xlabel('alpha')\n",
    "axes[1].set_ylabel('R2')\n",
    "axes[1].legend()\n",
    "axes[1].set_title('CV results for Ridge Regression - test')\n",
    "\n",
    "plt.tight_layout()"
   ]
  },
  {
   "cell_type": "code",
   "execution_count": 58,
   "metadata": {
    "collapsed": false
   },
   "outputs": [
    {
     "name": "stdout",
     "output_type": "stream",
     "text": [
      "Лучшее значение параметра регуляризации для Lasso: 0.101\n",
      "Лучшее значение параметра регуляризации для Ridge: 15.0\n"
     ]
    }
   ],
   "source": [
    "print('Лучшее значение параметра регуляризации для Lasso: {:.3}'.format(gs_lasso.best_params_['alpha']))\n",
    "print('Лучшее значение параметра регуляризации для Ridge: {:.3}'.format(gs_ridge.best_params_['alpha']))"
   ]
  },
  {
   "cell_type": "markdown",
   "metadata": {},
   "source": [
    "Лучшие параметры оказались близки, как и ожидалось.\n",
    "\n",
    "С помощью регуляризации удалось выровнять значения ошибок на обучении и контроле, а значит, и решить проблему переобучения."
   ]
  },
  {
   "cell_type": "markdown",
   "metadata": {},
   "source": [
    "### Градиентный спуск\n",
    "\n",
    "В предыдущем разделе мы использовали существующие реализации методов обучения линейной регрессии с регуляризацией и без. Тем не менее, подобные реализации, как правило, имеются лишь для ограниченного набора стандартных методов. В частности, при выходе функционала качества за пределы стандартного множества необходимо самостоятельно реализовывать составляющие процесса решения оптимизационной задачи. Именно этому и посвящен данный раздел задания.\n",
    "\n",
    "Пусть необходимо минимизировать следующий функционал (Mean Square Percentage Error — модифицированный [RMSPE](https://www.kaggle.com/c/rossmann-store-sales/details/evaluation)):\n",
    "$$MSPE(\\{x_i, y_i\\}_{i=1}^l, \\, w) = \\frac{1}{l}\\sum_{i=1}^l \\left( \\frac{y_i - \\langle w, x_i \\rangle }{y_i} \\right)^2,$$\n",
    "\n",
    "где $\\{x_i, y_i\\}_{i=1}^l$ — обучающая выборка, $w$ — вектор весов линейной модели. Будем также рассматривать функционал $MSPE$ с L2-регуляризацией:\n",
    "\n",
    "$$MSPE(\\{x_i, y_i\\}_{i=1}^l, \\, w) = \\frac{1}{l}\\sum_{i=1}^l \\left( \\frac{y_i - \\langle w, x_i \\rangle }{y_i} \\right)^2 + ||w||_2^2.$$\n",
    "\n",
    "**14. (0 баллов)** Добавьте к объектам обеих выборок из п. 11 единичный признак."
   ]
  },
  {
   "cell_type": "code",
   "execution_count": 59,
   "metadata": {
    "collapsed": false
   },
   "outputs": [],
   "source": [
    "X_train['a0'] = np.ones(X_train.shape[0])\n",
    "X_test['a0'] = np.ones(X_test.shape[0])"
   ]
  },
  {
   "cell_type": "markdown",
   "metadata": {},
   "source": [
    "**15. (1 балл)** Реализуйте функции, которые вычисляют:\n",
    " * прогнозы линейной модели;\n",
    " * функционал $MSPE$ и его градиент;\n",
    " * регуляризованный $MSPE$ и его градиент."
   ]
  },
  {
   "cell_type": "code",
   "execution_count": 60,
   "metadata": {
    "collapsed": true
   },
   "outputs": [],
   "source": [
    "# возвращает вектор прогнозов линейной модели с вектором весов w для выборки X\n",
    "def make_pred(X, w):\n",
    "    return X @ w"
   ]
  },
  {
   "cell_type": "code",
   "execution_count": 61,
   "metadata": {
    "collapsed": true
   },
   "outputs": [],
   "source": [
    "# возвращает значение функционала MSPE для выборки (X, y) и вектора весов w\n",
    "def get_func(w, X, y):\n",
    "    y_hat = make_pred(X, w)\n",
    "    error = y - y_hat\n",
    "    return np.mean((error / y) ** 2)"
   ]
  },
  {
   "cell_type": "code",
   "execution_count": 62,
   "metadata": {
    "collapsed": true
   },
   "outputs": [],
   "source": [
    "# возвращает градиент функционала MSPE для выборки (X, y) и вектора весов w\n",
    "def get_grad(w, X, y):\n",
    "    y_hat = make_pred(X, w)\n",
    "    error = y - y_hat\n",
    "    return -2 * X.T.dot(error / (y ** 2)) / X.shape[0]"
   ]
  },
  {
   "cell_type": "code",
   "execution_count": 63,
   "metadata": {
    "collapsed": false
   },
   "outputs": [],
   "source": [
    "# возвращает значение регуляризованного функционала MSPE для выборки (X, y) и вектора весов w\n",
    "def get_reg_func(w, X, y):\n",
    "    y_hat = make_pred(X, w)\n",
    "    error = y - y_hat\n",
    "    return np.mean((error / y) ** 2) + w.T @ w"
   ]
  },
  {
   "cell_type": "code",
   "execution_count": 64,
   "metadata": {
    "collapsed": true
   },
   "outputs": [],
   "source": [
    "# возвращает градиент регуляризованного функционала MSPE для выборки (X, y) и вектора весов w\n",
    "def get_reg_grad(w, X, y):\n",
    "    y_hat = make_pred(X, w)\n",
    "    error = y - y_hat\n",
    "    return -2 * X.T.dot(error / (y ** 2)) / X.shape[0] + 2 * w"
   ]
  },
  {
   "cell_type": "markdown",
   "metadata": {},
   "source": [
    "**16. (1 балл)** Реализуйте метод градиентного спуска для описанных функционалов ($MSPE$ и его регуляризованный вариант). Функция должна принимать следующие параметры:\n",
    " - X — матрица \"объект-признак\";\n",
    " - y — вектор целевой переменной;\n",
    " - w0 — начальное значение вектора весов;\n",
    " - step_size — значение темпа обучения;\n",
    " - max_iter — максимальное число итераций;\n",
    " - eps — значение, используемое в критерии останова;\n",
    " - is_reg — бинарный параметр, принимает значение True в случае наличия регуляризации функционала, False — в противном случае.\n",
    " \n",
    "Процесс должен быть остановлен, если выполнено хотя бы одно из следующих условий:\n",
    " - было выполнено заданное количество итераций max_iter;\n",
    " - евклидова норма разности векторов $w$ на соседних итерациях стала меньше, чем eps.\n",
    "\n",
    "Функция должна возвращать полученный в результате оптимизации вектор $w$ и список значений функционала на каждой итерации."
   ]
  },
  {
   "cell_type": "code",
   "execution_count": 65,
   "metadata": {
    "collapsed": false
   },
   "outputs": [],
   "source": [
    "def grad_descent(X, y, w0, step_size, max_iter, eps, is_reg):\n",
    "    \n",
    "    X, y = X.values, y.values\n",
    "    \n",
    "    qs = []        # лист для значений функционала\n",
    "    q_previous = 0 # начальное значение функционала\n",
    "    diff = 10      # начальное значение улучшения функционала (случайное, больше eps)\n",
    "    i = 0\n",
    "    \n",
    "    while (i < max_iter) & (diff > eps):\n",
    "        if is_reg == True:\n",
    "            q = get_reg_func(w0, X, y)    # считаем значение регуляризованного функционала\n",
    "            diff = abs(q_previous - q)    # находим приращение регуляризованного функционала\n",
    "            q_previous = q              \n",
    "            grad = get_reg_grad(w0, X, y) # считаем градиент регуляризованного функционала\n",
    "        else:\n",
    "            q = get_func(w0, X, y)        # считаем значение функционала\n",
    "            diff = abs(q_previous - q)    # находим приращение функционала\n",
    "            q_previous = q\n",
    "            grad = get_grad(w0, X, y)     # считаем градиент функционала\n",
    "            \n",
    "        w0 = w0 - step_size * grad         # обновляем значения весов\n",
    "        qs.append(q)\n",
    "        i+=1\n",
    "        \n",
    "    return w0, qs"
   ]
  },
  {
   "cell_type": "markdown",
   "metadata": {},
   "source": [
    "Обучите линейную регрессию с функционалом $MSPE$ на обучающей выборке при помощи метода градиентного спуска и изобразите кривые зависимости значения функционала от номера итерации для различных:\n",
    " * значений размера шага из набора [0.001, 1, 10];\n",
    " * способов начальной инициализации вектора весов (нули, случайные веса).\n",
    "\n",
    "Проанализируйте полученные результаты — влияют ли данные параметры на скорость сходимости и итоговое качество? Если да, то как?"
   ]
  },
  {
   "cell_type": "code",
   "execution_count": 66,
   "metadata": {
    "collapsed": false
   },
   "outputs": [],
   "source": [
    "step_size = np.array([0.001, 1, 10])\n",
    "\n",
    "def fit_plot(X, y, w0, eps, max_iter, title):\n",
    "    # для графиков\n",
    "    fig, axs = plt.subplots(3, 2, figsize=(14, 10))\n",
    "    fig.subplots_adjust(hspace = .5, wspace=.5)\n",
    "    axs = axs.ravel()\n",
    "    plt.suptitle(title, size=13)\n",
    "    \n",
    "    # списки для значений функционала\n",
    "    qs = []\n",
    "    qs_reg = []\n",
    "    \n",
    "    # считаем и рисуем результаты для обычного функционала\n",
    "    for i in range(0, len(step_size)*2, 2):\n",
    "        w, q = grad_descent(X, y, w0, step_size=step_size[int(i/2)], max_iter=max_iter, is_reg=False, eps=eps)\n",
    "        axs[i].plot(q)\n",
    "        axs[i].set_yticks((np.asarray(q).min() - 0.01, np.asarray(q).max() + 0.01))\n",
    "        axs[i].title.set_text('No regularization, step_size={0}'.format(step_size[int(i/2)]))\n",
    "        axs[i].set_xlabel('Iteration number')\n",
    "        axs[i].set_ylabel('MSPE')\n",
    "        \n",
    "        qs.append(np.mean(q))\n",
    "        \n",
    "    # считаем и рисуем результаты для регуляризованного функционала\n",
    "    for i in range(1, len(step_size)*2+1, 2):\n",
    "        w, q = grad_descent(X, y, w0, step_size=step_size[int(i//2)], max_iter=max_iter, is_reg=True, eps=eps)\n",
    "        axs[i].plot(q)\n",
    "        axs[i].set_yticks((np.asarray(q).min() - 0.01, np.asarray(q).max() + 0.01))\n",
    "        axs[i].title.set_text('L2-regularization, step_size={0}'.format(step_size[int(i//2)]))\n",
    "        axs[i].set_xlabel('Iteration number')\n",
    "        axs[i].set_ylabel('MSPE regularized')\n",
    "        \n",
    "        qs_reg.append(np.mean(q))\n",
    "    \n",
    "    # находим лучшие параметры\n",
    "    min_q = np.asarray(qs).min()\n",
    "    best_step = step_size[np.argmin(min_q)]\n",
    "    min_q_reg = np.asarray(qs_reg).min()\n",
    "    best_step_reg = step_size[np.argmin(min_q_reg)]\n",
    "    \n",
    "    print('Минимальная ошибка для MSPE: {:.4}'.format(min_q))\n",
    "    print('Лучшее значение step_size: {}'.format(best_step))\n",
    "    print()\n",
    "    print('Минимальная ошибка для MSPE-reg: {:.4}'.format(min_q_reg))\n",
    "    print('Лучшее значение step_size: {}'.format(best_step_reg))\n",
    "    return min_q, best_step, min_q_reg, best_step_reg, qs, qs_reg"
   ]
  },
  {
   "cell_type": "code",
   "execution_count": 67,
   "metadata": {
    "collapsed": false
   },
   "outputs": [
    {
     "name": "stdout",
     "output_type": "stream",
     "text": [
      "Минимальная ошибка для MSPE: 0.8595\n",
      "Лучшее значение step_size: 0.001\n",
      "\n",
      "Минимальная ошибка для MSPE-reg: 0.9953\n",
      "Лучшее значение step_size: 0.001\n"
     ]
    },
    {
     "data": {
      "image/png": "[encoded data removed]",
      "text/plain": [
       "<matplotlib.figure.Figure at 0x115ee67f0>"
      ]
     },
     "metadata": {},
     "output_type": "display_data"
    }
   ],
   "source": [
    "a, b, c, d, qs, qs_reg = fit_plot(X_train, y_train, np.zeros((X_train.shape[1])), \n",
    "                      max_iter=100, eps=0.0001, title='Zero w0')"
   ]
  },
  {
   "cell_type": "markdown",
   "metadata": {},
   "source": [
    "Для нулевых весов получили, что градиент с MPSE без регуляризации не сходится при шаге равном 10, поскольку он слишком большой и градиент не может спуститься к точке оптимума при таком значении. Заметим, что в оставшихся случаях критерием останова послужило максимальное количество итераций, то есть качество должно быть ещё лучше.\n",
    "\n",
    "Для случая с регуляризацией сходимость наблюдается только при наименьшем шаге, причём в этой ситуации остановка произошла из-за низкого прироста функционала качества. Отмечу, что для графиков справа на оси ординат расположен регуляризованный MSPE, то есть если вычесть норму весов, то получим превосходство в качестве модели с регуляризованным функционалом."
   ]
  },
  {
   "cell_type": "code",
   "execution_count": 68,
   "metadata": {
    "collapsed": false
   },
   "outputs": [
    {
     "name": "stdout",
     "output_type": "stream",
     "text": [
      "Минимальная ошибка для MSPE: 5.177\n",
      "Лучшее значение step_size: 0.001\n",
      "\n",
      "Минимальная ошибка для MSPE-reg: 2.999e+03\n",
      "Лучшее значение step_size: 0.001\n"
     ]
    },
    {
     "data": {
      "image/png": "[encoded data removed]",
      "text/plain": [
       "<matplotlib.figure.Figure at 0x117abd748>"
      ]
     },
     "metadata": {},
     "output_type": "display_data"
    }
   ],
   "source": [
    "a, b, c, d, e, f = fit_plot(X_train, y_train, np.random.rand(X_train.shape[1])*5, \n",
    "                            max_iter=100, eps=0.01, title='Random w0')"
   ]
  },
  {
   "cell_type": "markdown",
   "metadata": {},
   "source": [
    "Полностью налогичная ситуация по сходимости наблюдается при случайных весах. Различия небольшие: для обычного MSPE градиент сошёлся при шаге равном 1. В остальных случаях, где наблюдается сходимость, стоит ожидать, что при большем значении максимально допустимого числа итераций ошибка должна упасть сильнее.\n",
    "\n",
    "Также важно отметить, что от выбора начальных весов сильно зависит значение ошибки: при нулевых весах она не превышала единицы. А в данном случае, значение MSPE можно изменять, увеличивая или уменьшая начальные веса."
   ]
  },
  {
   "cell_type": "markdown",
   "metadata": {},
   "source": [
    "**17. (0.5 балла)** Обучите линейную регрессию с функционалом MSPE и его регуляризованным вариантом на обучающей выборке при помощи метода градиентного спуска и изобразите кривые зависимости значения функционала от номера итерации. Исследуйте зависимость скорости сходимости от наличия регуляризации. Обоснуйте, почему так происходит."
   ]
  },
  {
   "cell_type": "markdown",
   "metadata": {},
   "source": [
    "Обучим модели с нулевыми и случайными весами при шаге 0.1, так как из приведённого выше анализа он кажется наиболее оптимальным в плане качества и скорости сходимости."
   ]
  },
  {
   "cell_type": "code",
   "execution_count": 69,
   "metadata": {
    "collapsed": false
   },
   "outputs": [
    {
     "name": "stdout",
     "output_type": "stream",
     "text": [
      "Значение MSPE на контрольной выборке для модели без регуляризации равно 0.873\n",
      "Количество итераций: 226\n",
      "\n",
      "Значение MSPE на контрольной выборке для модели с MSPE-reg равно 0.955\n",
      "Количество итераций: 10\n"
     ]
    },
    {
     "data": {
      "image/png": "[encoded data removed]",
      "text/plain": [
       "<matplotlib.figure.Figure at 0x118339940>"
      ]
     },
     "metadata": {},
     "output_type": "display_data"
    }
   ],
   "source": [
    "w0 = np.zeros((X_train.shape[1]))\n",
    "\n",
    "w, q = grad_descent(X_train, y_train, w0, step_size=0.1, \n",
    "                    max_iter=10000, eps=0.0001, is_reg=False)\n",
    "\n",
    "w_reg, q_reg = grad_descent(X_train, y_train, w0, step_size=0.1, \n",
    "                            max_iter=10000, eps=0.0001, is_reg=True)\n",
    "\n",
    "plt.plot(q, label='No regularization')\n",
    "plt.plot(q_reg, label='L2-reg')\n",
    "plt.xlabel('Iteration number')\n",
    "plt.ylabel('MSPE')\n",
    "plt.title('GD convergence, zero w0')\n",
    "plt.legend()\n",
    "\n",
    "print('Значение MSPE на контрольной выборке для модели без регуляризации равно {:.3}'.format \\\n",
    "      (get_func(w, X_test, y_test)))\n",
    "print('Количество итераций: {0}'.format(len(q)))\n",
    "\n",
    "print()\n",
    "\n",
    "print('Значение MSPE на контрольной выборке для модели с MSPE-reg равно {:.3}'.format \\\n",
    "      (get_func(w_reg, X_test, y_test)))\n",
    "print('Количество итераций: {0}'.format(len(q_reg)))"
   ]
  },
  {
   "cell_type": "markdown",
   "metadata": {},
   "source": [
    "Из графика следует, что при нулевых весах градиент с регуляризованным функционалом сходится значительно быстрее. Это можно объяснить тем, что веса при регуляризации меньше, чем без неё, поэтому заданное уменьшение значения функционала также достигается быстрее."
   ]
  },
  {
   "cell_type": "code",
   "execution_count": 70,
   "metadata": {
    "collapsed": false
   },
   "outputs": [
    {
     "name": "stdout",
     "output_type": "stream",
     "text": [
      "Значение MSPE на контрольной выборке для модели без регуляризации равно 0.874\n",
      "Количество итераций: 533\n",
      "\n",
      "Значение MSPE на контрольной выборке для модели с MSPE-reg равно 0.954\n",
      "Количество итераций: 31\n"
     ]
    },
    {
     "data": {
      "image/png": "[encoded data removed]",
      "text/plain": [
       "<matplotlib.figure.Figure at 0x115e494e0>"
      ]
     },
     "metadata": {},
     "output_type": "display_data"
    }
   ],
   "source": [
    "w0 = np.random.rand(X_train.shape[1])\n",
    "\n",
    "w, q = grad_descent(X_train, y_train, w0, step_size=0.1, \n",
    "                    max_iter=10000, eps=0.0001, is_reg=False)\n",
    "\n",
    "w_reg, q_reg = grad_descent(X_train, y_train, w0, step_size=0.1, \n",
    "                            max_iter=10000, eps=0.0001, is_reg=True)\n",
    "\n",
    "plt.plot(q, label='No regularization')\n",
    "plt.plot(q_reg, label='L2-reg')\n",
    "plt.xlabel('Iteration number')\n",
    "plt.ylabel('MSPE')\n",
    "plt.title('GD convergence, random w0')\n",
    "plt.legend()\n",
    "\n",
    "print('Значение MSPE на контрольной выборке для модели без регуляризации равно {:.3}'.format \\\n",
    "      (get_func(w, X_test, y_test)))\n",
    "print('Количество итераций: {0}'.format(len(q)))\n",
    "\n",
    "print()\n",
    "\n",
    "print('Значение MSPE на контрольной выборке для модели с MSPE-reg равно {:.3}'.format \\\n",
    "      (get_func(w_reg, X_test, y_test)))\n",
    "print('Количество итераций: {0}'.format(len(q_reg)))"
   ]
  },
  {
   "cell_type": "markdown",
   "metadata": {},
   "source": [
    "Качественно ситуация не отличается от предыдущего пункта. Однако из-за положительных весов на первой итерации MSPE принимает большое значение в начале, сильно снижаясь уже к приблизительно 20 итерации."
   ]
  },
  {
   "cell_type": "markdown",
   "metadata": {},
   "source": [
    "Метод градиентного спуска может быть весьма трудозатратен в случае большого размера обучающей выборки. Поэтому часто используют метод стохастического градиентного спуска, где на каждой итерации выбирается случайный объект из обучающей выборки и обновление весов происходит только по этому объекту. \n",
    "\n",
    "**18*. (1 бонусный балл)**  Реализуйте метод стохастического градиентного спуска (SGD) для описанных функционалов ($MSPE$ и его регуляризованный вариант). Функция должна иметь параметры и возвращаемое значение, аналогичные оным функции grad\\_descent из п.21. Кроме того, должен использоваться аналогичный критерий останова."
   ]
  },
  {
   "cell_type": "code",
   "execution_count": 71,
   "metadata": {
    "collapsed": true
   },
   "outputs": [],
   "source": [
    "from sklearn.utils import shuffle\n",
    "\n",
    "# написано в соответсвии с алгоритмом iterative sgd,\n",
    "# изложенном на вики: https://en.wikipedia.org/wiki/Stochastic_gradient_descent\n",
    "\n",
    "def sgd(X, y, step_size, max_iter, eps, is_reg):\n",
    "    \n",
    "    n = X.shape[0]\n",
    "    X, y = X.values, y.values # переведём в numpy-матрицы\n",
    "    \n",
    "    w0 = np.random.rand(X.shape[1]) * 10 # начальные веса, выбираются случайно\n",
    "    #w0 = np.zeros((X_train.shape[1]))\n",
    "    qs = []\n",
    "    q_previous = 0\n",
    "    diff = 10\n",
    "    i = 0\n",
    "    \n",
    "    while (i < max_iter) & (diff > eps):\n",
    "        \n",
    "        X, y = shuffle(X, y) # перемешиваем выборку\n",
    "        \n",
    "        for j in range(0, n-1):       # проход по каждому объекту выборки\n",
    "            if is_reg == True:\n",
    "                q = get_reg_func(w0, X[j], y[j]) # считаем занчение регуляризованного MSPE\n",
    "                diff = abs(q_previous - q) # считаем приращение регуляризованного MSPE\n",
    "                q_previous = q\n",
    "                grad = get_reg_grad(w0, X[j], y[j]) # считаем градиент регуляризованного MSPE \n",
    "            else:\n",
    "                q = get_func(w0, X[j], y[j]) # считаем занчение MSPE\n",
    "                diff = abs(q_previous - q) # считаем приращение MSPE\n",
    "                q_previous = q\n",
    "                grad = get_grad(w0, X[j], y[j]) # считаем градиент MSPE \n",
    "            \n",
    "            w0 = w0 - step_size * grad # обновляем веса после каждого объекта\n",
    "            if j % 20 == 0:\n",
    "                qs.append(q) # будем записывать ошибки для каждого 20-ого объекта\n",
    "            \n",
    "        i+=1\n",
    "        \n",
    "    return w0, qs, i"
   ]
  },
  {
   "cell_type": "markdown",
   "metadata": {},
   "source": [
    "Обучите линейную регрессию с функционалом $MSPE$ и его регуляризованным вариантом на обучающей выборке при помощи метода стохастического градиентного спуска, подобрав при этом размер шага, при котором метод будет сходиться. Нарисуйте график сходимости. Выведите значения $MSPE, MSE, R^2$ на контрольной выборке."
   ]
  },
  {
   "cell_type": "code",
   "execution_count": 72,
   "metadata": {
    "collapsed": false
   },
   "outputs": [
    {
     "name": "stdout",
     "output_type": "stream",
     "text": [
      "На контрольной выборке R2 равен: 0.49\n",
      "На контрольной выборке MSE равен: 650.11\n",
      "На контрольной выборке MSPE равен: 1.1282e+04\n"
     ]
    },
    {
     "data": {
      "image/png": "[encoded data removed]",
      "text/plain": [
       "<matplotlib.figure.Figure at 0x11841e940>"
      ]
     },
     "metadata": {},
     "output_type": "display_data"
    }
   ],
   "source": [
    "w, q, i = sgd(X_train, y_train, step_size=0.001, max_iter=100, is_reg=False, eps=0.01)\n",
    "\n",
    "plt.figure(figsize=(20,5))\n",
    "plt.plot(np.linspace(1, i, len(q)), q)\n",
    "plt.xlabel('Iteration number')\n",
    "plt.ylabel('MSPE')\n",
    "plt.title('SGD + MSPE convergence')\n",
    "\n",
    "print('На контрольной выборке R2 равен: {:.2}'.format(r2_score(y_test, make_pred(X_test, w))))\n",
    "print('На контрольной выборке MSE равен: {:.5}'.format(mean_squared_error(y_test, make_pred(X_test, w))))\n",
    "print('На контрольной выборке MSPE равен: {:.5}'.format(get_reg_func(w, X_test, y_test)))"
   ]
  },
  {
   "cell_type": "code",
   "execution_count": 73,
   "metadata": {
    "collapsed": false
   },
   "outputs": [
    {
     "name": "stdout",
     "output_type": "stream",
     "text": [
      "На контрольной выборке R2 равен: -0.087\n",
      "На контрольной выборке MSE равен: 1394.1\n",
      "На контрольной выборке MSPE равен: 1.0114\n"
     ]
    },
    {
     "data": {
      "image/png": "[encoded data removed]",
      "text/plain": [
       "<matplotlib.figure.Figure at 0x119534eb8>"
      ]
     },
     "metadata": {},
     "output_type": "display_data"
    }
   ],
   "source": [
    "w_reg, q_reg, i = sgd(X_train, y_train, step_size=0.00001, max_iter=100, is_reg=True, eps=0.01)\n",
    "\n",
    "plt.figure(figsize=(20,5))\n",
    "plt.plot(np.linspace(1, i, len(q_reg)), q_reg)\n",
    "plt.xlabel('Iteration number')\n",
    "plt.ylabel('MSPE-reg')\n",
    "plt.title('SGD + MSPE-reg convergence')\n",
    "\n",
    "print('На контрольной выборке R2 равен: {:.2}'.format(r2_score(y_test, make_pred(X_test, w_reg))))\n",
    "print('На контрольной выборке MSE равен: {:.5}'.format(mean_squared_error(y_test, make_pred(X_test, w_reg))))\n",
    "print('На контрольной выборке MSPE равен: {:.5}'.format(get_func(w_reg, X_test, y_test)))"
   ]
  },
  {
   "cell_type": "markdown",
   "metadata": {},
   "source": [
    "**19*. (0.5 бонусного балла)** Аналогично п.17 исследуйте зависимость скорости сходимости метода SGD от наличия регуляризации. Обоснуйте, почему так происходит."
   ]
  },
  {
   "cell_type": "markdown",
   "metadata": {
    "collapsed": true
   },
   "source": [
    "Из графиков выше следует, что SGD с регуляризованной MSPE сходится за 8 итераций, против 100 у обычной. Причины аналогичны изложенным ранее: значение имеет величина весов, а при регуляризации они меньше."
   ]
  },
  {
   "cell_type": "markdown",
   "metadata": {},
   "source": [
    "**20. (0.5 балла)** Обучите стандартную линейную регрессию с функционалом качества MSE на обучающей выборке и выведите значение MSPE полученного решения на контрольной выборке. Как оно соотносится с аналогичным результатом для решения, полученного в п.17? Почему?"
   ]
  },
  {
   "cell_type": "code",
   "execution_count": 74,
   "metadata": {
    "collapsed": false
   },
   "outputs": [
    {
     "name": "stdout",
     "output_type": "stream",
     "text": [
      "MSPE на контрольной выборке равно: 4.2407e+25\n"
     ]
    }
   ],
   "source": [
    "reg = LinearRegression()\n",
    "reg.fit(X_train, y_train)\n",
    "y_pred = reg.predict(X_test)\n",
    "print('MSPE на контрольной выборке равно: {:.5}'.format(get_func(reg.coef_, X_test, y_test)))"
   ]
  },
  {
   "cell_type": "markdown",
   "metadata": {},
   "source": [
    "MSPE в пункте 17 не превышало 1.\n",
    "\n",
    "Линейная регрессия в SKlearn - это обычный МНК, то есть по обучающей выборке подбирается прямая, дающая наименьшую величину квадрата ошибок. Как известно она даёт не впечатляющие результаты, когда, например, в матрице X есть коррелирующие признаки. Как было показано в одном из пунктов решения, такие признаки в нашей матрице есть. Отсюда и плохой результат."
   ]
  }
 ],
 "metadata": {
  "anaconda-cloud": {},
  "kernelspec": {
   "display_name": "Python [Root]",
   "language": "python",
   "name": "Python [Root]"
  },
  "language_info": {
   "codemirror_mode": {
    "name": "ipython",
    "version": 3
   },
   "file_extension": ".py",
   "mimetype": "text/x-python",
   "name": "python",
   "nbconvert_exporter": "python",
   "pygments_lexer": "ipython3",
   "version": "3.5.2"
  }
 },
 "nbformat": 4,
 "nbformat_minor": 0
}
