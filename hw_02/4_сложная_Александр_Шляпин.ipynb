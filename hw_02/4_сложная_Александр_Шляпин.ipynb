{
 "cells": [
  {
   "cell_type": "markdown",
   "metadata": {},
   "source": [
    "# Машинное обучение, ФЭН ВШЭ\n",
    "\n",
    "# Практическое задание 2\n",
    "(Основано на материалах курса машинного обучения на фкн)\n",
    "\n",
    "## Общая информация\n",
    "\n",
    "Дата выдачи: 21.09.2017\n",
    "\n",
    "Срок сдачи: 8.10.2017 23:59MSK\n",
    "\n",
    "### О задании\n",
    "\n",
    "Практическое задание 1 посвящено изучению основных библиотек для анализа данных, а также линейных моделей и методов их обучения. Вы научитесь:\n",
    " * применять библиотеку NumPy;\n",
    " * подготавливать данные для обучения линейных моделей;\n",
    " * обучать линейную, Lasso и Ridge-регрессии при помощи модуля scikit-learn;\n",
    " * реализовывать обычный и стохастический градиентные спуски;\n",
    " * обучать линейную регрессию для произвольного функционала качества.\n",
    " \n",
    "\n",
    "### Оценивание и штрафы\n",
    "\n",
    "Каждая из задач имеет определенную «стоимость» (указана в скобках около задачи). Максимально допустимая оценка за работу — 10 баллов. Кроме того, некоторые из заданий являются опциональными (необязательными), однако за их выполнение можно получить дополнительные баллы.\n",
    "\n",
    "\n",
    "Задание выполняется самостоятельно. «Похожие» решения считаются плагиатом и все задействованные студенты (в том числе те, у кого списали) не могут получить за него больше 0 баллов (подробнее о плагиате см. на странице курса). Если вы нашли решение какого-то из заданий (или его часть) в открытом источнике, необходимо указать ссылку на этот источник в отдельном блоке в конце Вашей работы (скорее всего вы будете не единственным, кто это нашел, поэтому чтобы исключить подозрение в плагиате, необходима ссылка на источник). \n",
    "\n",
    "Неэффективная реализация кода может негативно отразиться на оценке.\n",
    "\n",
    "\n",
    "### Формат сдачи\n",
    "Для сдачи задания переименуйте получившийся файл \\*.ipynb в соответствии со следующим форматом: *HW1_Username.ipynb*, где *Username* — Ваша фамилия и инициалы на латинице (например, *HW1_IvanovII.ipynb*). Далее отправьте этот файл на почту курса, указав соответствующую тему (см. вики-страничку курча)."
   ]
  },
  {
   "cell_type": "markdown",
   "metadata": {},
   "source": [
    "## Библиотеки для анализа данных\n",
    "\n",
    "### NumPy\n",
    "\n",
    "Во всех заданиях данного раздела запрещено использовать циклы  и list comprehensions. Под вектором и матрицей в данных заданиях понимается одномерный и двумерный numpy.array соответственно."
   ]
  },
  {
   "cell_type": "code",
   "execution_count": 1,
   "metadata": {
    "collapsed": true
   },
   "outputs": [],
   "source": [
    "import numpy as np"
   ]
  },
  {
   "cell_type": "code",
   "execution_count": 2,
   "metadata": {
    "collapsed": true
   },
   "outputs": [],
   "source": [
    "import math"
   ]
  },
  {
   "cell_type": "markdown",
   "metadata": {},
   "source": [
    "**1. (0.3 балла)** Реализуйте функцию, возвращающую максимальный элемент в векторе x среди элементов, перед которыми стоит нулевой. Для x = np.array([6, 2, 0, 3, 0, 0, 5, 7, 0]) ответом является 5. Если нулевых элементов нет, функция должна возвращать None.\n"
   ]
  },
  {
   "cell_type": "code",
   "execution_count": null,
   "metadata": {
    "collapsed": true
   },
   "outputs": [],
   "source": [
    "def max_element(arr):\n",
    "    # Your code here"
   ]
  },
  {
   "cell_type": "markdown",
   "metadata": {},
   "source": [
    "**2. (0.3 балла)** Реализуйте функцию, принимающую на вход матрицу и некоторое число и возвращающую ближайший к числу элемент матрицы. Например: для X = np.arange(0,10).reshape((2, 5)) и v = 3.6 ответом будет 4."
   ]
  },
  {
   "cell_type": "markdown",
   "metadata": {},
   "source": [
    "Ресурс: https://stackoverflow.com/questions/2566412/find-nearest-value-in-numpy-array"
   ]
  },
  {
   "cell_type": "code",
   "execution_count": null,
   "metadata": {
    "collapsed": true
   },
   "outputs": [],
   "source": [
    "def nearest_value(X, v):\n",
    "    idx = (np.abs(X-v)).argmin()\n",
    "    return array[idx]"
   ]
  },
  {
   "cell_type": "markdown",
   "metadata": {},
   "source": [
    "**3. (0.3 балла)** Реализуйте функцию scale(X), которая принимает на вход матрицу и масштабирует каждый ее столбец (вычитает выборочное среднее и делит на стандартное отклонение). Убедитесь, что в функции не будет происходить деления на ноль. Протестируйте на случайной матрице (для её генерации можно использовать, например, функцию [numpy.random.randint](http://docs.scipy.org/doc/numpy/reference/generated/numpy.random.randint.html))."
   ]
  },
  {
   "cell_type": "markdown",
   "metadata": {},
   "source": [
    "Ресурс: https://stackoverflow.com/questions/1735025/how-to-normalize-a-numpy-array-to-within-a-certain-range"
   ]
  },
  {
   "cell_type": "code",
   "execution_count": 72,
   "metadata": {
    "collapsed": false
   },
   "outputs": [
    {
     "data": {
      "text/plain": [
       "array([[ 0.8268583 ,  0.92621354,  0.8662165 ,  0.84741073,  0.78536464,\n",
       "         0.95679358,  0.94320551,  0.86010064,  0.83592358,  0.89291499],\n",
       "       [ 0.81404281,  0.89539163,  1.        ,  1.        ,  0.76618056,\n",
       "         0.89581251,  0.76017926,  0.87333299,  1.        ,  1.        ],\n",
       "       [ 0.92451384,  0.85525256,  0.65810577,  0.74593229,  0.95203599,\n",
       "         0.84979842,  0.99586438,  0.74287043,  0.7885883 ,  0.74781173],\n",
       "       [ 0.92714506,  0.82484116,  0.96223608,  0.74208122,  0.6629004 ,\n",
       "         0.93840401,  1.        ,  0.75947238,  0.92846523,  0.86740636],\n",
       "       [ 0.96236711,  0.82881511,  0.82677142,  0.77721417,  0.83364602,\n",
       "         0.78810828,  0.87597695,  1.        ,  0.83975073,  0.99093039],\n",
       "       [ 0.93138576,  0.7949837 ,  0.80421552,  0.82794583,  0.67564296,\n",
       "         0.85218041,  0.97245037,  0.7986723 ,  0.78638549,  0.86954227],\n",
       "       [ 0.83469872,  0.8627669 ,  0.91476413,  0.81362024,  0.92890211,\n",
       "         0.92764259,  0.92738936,  0.92027499,  0.69501899,  0.73115105],\n",
       "       [ 0.85948337,  1.        ,  0.87458602,  0.76216598,  1.        ,\n",
       "         0.87494625,  0.87893341,  0.82790823,  0.72479112,  0.94258097],\n",
       "       [ 0.97233355,  0.72878589,  0.87118804,  0.79961155,  0.77016867,\n",
       "         1.        ,  0.88007872,  0.82714438,  0.86337682,  0.93890743],\n",
       "       [ 1.        ,  0.79881368,  0.83360001,  0.76525895,  0.86077022,\n",
       "         0.89093213,  0.98120688,  0.75214657,  0.9882547 ,  0.87778629]])"
      ]
     },
     "execution_count": 72,
     "metadata": {},
     "output_type": "execute_result"
    }
   ],
   "source": [
    "mu, sigma = 10, 1 # mean and standard deviation\n",
    "s = np.random.normal(mu, sigma, 100)\n",
    "s.resize((10,10))\n",
    "def scale(X):\n",
    "    X /= np.max(np.abs(X),axis=0)\n",
    "scale(s)\n",
    "s"
   ]
  },
  {
   "cell_type": "markdown",
   "metadata": {},
   "source": [
    "**4. (0.3 балла)** Реализуйте функцию, которая для заданной матрицы находит:\n",
    " - определитель\n",
    " - след\n",
    " - наименьший и наибольший элементы\n",
    " - норму Фробениуса\n",
    " - собственные числа\n",
    " - обратную матрицу\n",
    "\n",
    "Для тестирования сгенерируйте матрицу с элементами из нормального распределения $\\mathcal{N}$(10,1)"
   ]
  },
  {
   "cell_type": "code",
   "execution_count": 11,
   "metadata": {
    "collapsed": false
   },
   "outputs": [
    {
     "data": {
      "text/plain": [
       "array([[  8.8801814 ,   9.79942952,   8.49766413,  11.48068356,\n",
       "          9.87508646,  10.37898803,   9.66848319,   9.98301456,\n",
       "         10.21130671,  10.41351382],\n",
       "       [  9.59354334,  10.85470916,   9.46354486,   7.96189439,\n",
       "         11.40243826,   8.74713554,  10.3622494 ,   8.16408309,\n",
       "          9.2272987 ,   9.91666943],\n",
       "       [ 10.75444797,   8.35239442,   9.84233398,   9.72769734,\n",
       "          8.82958526,   8.51601763,   9.94656525,   9.91027024,\n",
       "         11.25779363,   9.49796318],\n",
       "       [ 10.52772379,   9.31914558,   9.5293264 ,   9.70620953,\n",
       "          7.93786159,  10.32462774,  10.58239148,   8.22195777,\n",
       "         12.5715985 ,   9.47073932],\n",
       "       [ 11.15646243,  11.18346224,  12.12205161,  10.06201349,\n",
       "          8.99939229,   8.229124  ,   9.47047359,   8.88096805,\n",
       "         10.52563294,   9.90782296],\n",
       "       [ 10.37739615,  11.51603403,  10.21573116,   9.31458664,\n",
       "         11.34396578,  11.13098611,  10.0520422 ,   9.97559652,\n",
       "          9.3282144 ,  10.7678136 ],\n",
       "       [ 11.84365184,  11.5497345 ,   8.6158358 ,   8.82988338,\n",
       "         10.56989855,  11.33392515,   9.80187906,  10.01959568,\n",
       "          9.8872272 ,  11.50236272],\n",
       "       [ 11.24394564,  11.74325381,   9.95945113,  10.07306801,\n",
       "         10.91961855,  10.84476906,  10.13213961,  11.24610834,\n",
       "         10.92115589,   9.61710397],\n",
       "       [  8.96493615,   9.63363039,  11.93912608,  10.61080826,\n",
       "          9.81976223,  10.97527115,   8.81220266,   7.96696573,\n",
       "          9.30798999,   9.87864669],\n",
       "       [ 11.12699126,   9.82142516,   8.53759583,  11.06130402,\n",
       "         11.01464024,  10.37427434,   9.22497615,   8.98901075,\n",
       "         10.01190738,  11.2028199 ]])"
      ]
     },
     "execution_count": 11,
     "metadata": {},
     "output_type": "execute_result"
    }
   ],
   "source": [
    "mu, sigma = 10, 1 # mean and standard deviation\n",
    "s = np.random.normal(mu, sigma, 100)\n",
    "s.resize((10,10))\n",
    "s"
   ]
  },
  {
   "cell_type": "code",
   "execution_count": 37,
   "metadata": {
    "collapsed": false
   },
   "outputs": [],
   "source": [
    "def get_stats(X):\n",
    "    print(\"определитель:\", np.linalg.det(X))\n",
    "    print(\"след:\", np.trace(X, offset=0, axis1=0, axis2=1, dtype=None, out=None))\n",
    "    print(\"наибольший элемент:\", np.amax(X))\n",
    "    print(\"наименьший элемент:\", np.amin(X))\n",
    "    print(\"норма Фробениуса:\", np.linalg.norm(X, ord=None, axis=None, keepdims=False))\n",
    "    print(\"собственные числа:\", np.linalg.eigvals(X))\n",
    "    print(\"обратная матрица:\", np.linalg.inv(X))"
   ]
  },
  {
   "cell_type": "code",
   "execution_count": 38,
   "metadata": {
    "collapsed": false
   },
   "outputs": [
    {
     "name": "stdout",
     "output_type": "stream",
     "text": [
      "определитель: 21978.4763919\n",
      "след: 100.972609754\n",
      "наибольший элемент: 12.571598499\n",
      "наименьший элемент: 7.93786158581\n",
      "норма Фробениуса: 100.952585808\n",
      "собственные числа: [ 100.35186679+0.j           -2.68133753+0.j           -1.99101899+0.j\n",
      "    0.26472567+2.26791071j    0.26472567-2.26791071j\n",
      "   -0.46645717+0.6781742j    -0.46645717-0.6781742j\n",
      "    1.80234738+1.51783304j    1.80234738-1.51783304j    2.09186772+0.j        ]\n",
      "обратная матрица: [[ -6.73553949e-01  -8.90831245e-01  -1.38906171e-01   5.69921906e-01\n",
      "    2.94535189e-01   2.43335251e+00  -1.26663683e+00  -3.51193150e-01\n",
      "   -9.93594137e-01   9.29403515e-01]\n",
      " [  1.91883129e-01   1.31069771e-01  -3.51886987e-01  -8.44036748e-03\n",
      "    2.07190732e-01  -3.83317055e-01   2.06860542e-01   1.77738984e-01\n",
      "   -7.94737928e-03  -1.61686028e-01]\n",
      " [ -3.69652090e-02   1.16001364e-01   1.62492278e-01  -1.69248419e-01\n",
      "   -4.63547209e-03  -3.65147732e-01   2.07089656e-01   2.38693942e-02\n",
      "    3.38060153e-01  -2.39156654e-01]\n",
      " [ -1.81474708e-01  -7.77590203e-01  -3.06408651e-01   5.00262214e-01\n",
      "    3.44423037e-01   2.13217411e+00  -1.34509121e+00  -3.46599652e-01\n",
      "   -8.89672060e-01   8.02988127e-01]\n",
      " [  7.50453888e-02   7.47146855e-01   1.60788066e-01  -4.76556549e-01\n",
      "   -3.57451242e-01  -1.77601996e+00   6.97248965e-01   5.03314129e-01\n",
      "    7.25659289e-01  -2.29233521e-01]\n",
      " [ -1.93606654e-01  -3.20466991e-01  -1.15011694e-01   2.57246390e-01\n",
      "   -1.34456211e-01   6.97135475e-01  -2.49436072e-01  -3.44179341e-02\n",
      "   -7.00269847e-02   1.39926776e-01]\n",
      " [ -6.10959424e-01  -1.41394102e+00  -2.89555970e-01   1.22918579e+00\n",
      "    4.60936818e-01   5.07247278e+00  -2.65829916e+00  -1.08727411e+00\n",
      "   -2.01540342e+00   1.18264864e+00]\n",
      " [  2.29628517e-01   9.00791255e-02   3.00907706e-01  -3.45124297e-01\n",
      "   -1.10591007e-01  -5.75112610e-01   4.39994743e-01   1.83701586e-01\n",
      "    2.17147049e-01  -4.06889212e-01]\n",
      " [  6.50437959e-01   1.52834457e+00   3.07911928e-01  -8.95413275e-01\n",
      "   -5.23087344e-01  -4.75626581e+00   2.35662894e+00   9.58746078e-01\n",
      "    1.76188743e+00  -1.22368543e+00]\n",
      " [  5.51179345e-01   7.37585066e-01   2.95395633e-01  -6.28317869e-01\n",
      "   -1.58106066e-01  -2.27200140e+00   1.52226463e+00  -5.48725962e-02\n",
      "    8.76773958e-01  -7.60648956e-01]]\n"
     ]
    }
   ],
   "source": [
    "get_stats(s)"
   ]
  },
  {
   "cell_type": "markdown",
   "metadata": {},
   "source": [
    "**5. (0.3 балла)** Повторите 100 раз следующий эксперимент: сгенерируйте две матрицы размера 10×10 из стандартного нормального распределения, перемножьте их (как матрицы) и найдите максимальный элемент. Какое среднее значение по экспериментам у максимальных элементов? 95-процентная квантиль?"
   ]
  },
  {
   "cell_type": "code",
   "execution_count": 69,
   "metadata": {
    "collapsed": false
   },
   "outputs": [
    {
     "name": "stdout",
     "output_type": "stream",
     "text": [
      "Среднее значение: 8.28983056365\n",
      "95-процентная квантиль: 5.13150185505\n"
     ]
    }
   ],
   "source": [
    "mu, sigma = 0, 1 # mean and standard deviation\n",
    "list0 = []\n",
    "average = 0\n",
    "for exp_num in range(100): \n",
    "    m1 = np.random.normal(mu, sigma, 100)\n",
    "    m1.resize((10,10))\n",
    "    m2 = np.random.normal(mu, sigma, 100)\n",
    "    m2.resize((10,10))\n",
    "    result = np.dot(m1, m2)\n",
    "    average += np.amax(result) / 100\n",
    "    list0.append(np.amax(result))\n",
    "print(\"Среднее значение:\", average)\n",
    "print(\"95-процентная квантиль:\", np.percentile(list0, 0.95))"
   ]
  },
  {
   "cell_type": "markdown",
   "metadata": {},
   "source": [
    "## Линейная регрессия\n",
    "\n",
    "В этой части мы разберемся с линейной регрессией, способами её обучения и измерением качества ее прогнозов. \n",
    "\n",
    "Будем рассматривать данные по авиарейсам в США за январь-апрель 2008 года для предсказания времени задержки отправления рейса в минутах (DepDelay). Отметим, что под задержкой подразумевается не только опоздание рейса относительно планируемого времени вылета, но и отправление до планируемого времени.\n",
    "\n",
    "\n",
    "[Данные](https://www.dropbox.com/s/dvfitn93obn0rql/2008.csv?dl=0) и их [описание](http://stat-computing.org/dataexpo/2009/the-data.html)\n",
    "\n",
    "### Подготовка данных\n",
    "\n",
    "**6. (0.75 балла)** Считайте выборку из файла при помощи функции pd.read_csv и ответьте на следующие вопросы:\n",
    "   - Имеются ли в данных пропущенные значения?\n",
    "   - Сколько всего пропущенных элементов в таблице \"объект-признак\"?\n",
    "   - Сколько объектов имеют хотя бы один пропуск?\n",
    "   - Сколько признаков имеют хотя бы одно пропущенное значение?"
   ]
  },
  {
   "cell_type": "code",
   "execution_count": 3,
   "metadata": {
    "collapsed": true
   },
   "outputs": [],
   "source": [
    "import pandas as pd"
   ]
  },
  {
   "cell_type": "code",
   "execution_count": 4,
   "metadata": {
    "collapsed": false,
    "scrolled": true
   },
   "outputs": [
    {
     "data": {
      "text/html": [
       "<div>\n",
       "<table border=\"1\" class=\"dataframe\">\n",
       "  <thead>\n",
       "    <tr style=\"text-align: right;\">\n",
       "      <th></th>\n",
       "      <th>Year</th>\n",
       "      <th>Month</th>\n",
       "      <th>DayofMonth</th>\n",
       "      <th>DayOfWeek</th>\n",
       "      <th>DepTime</th>\n",
       "      <th>CRSDepTime</th>\n",
       "      <th>ArrTime</th>\n",
       "      <th>CRSArrTime</th>\n",
       "      <th>UniqueCarrier</th>\n",
       "      <th>FlightNum</th>\n",
       "      <th>...</th>\n",
       "      <th>TaxiIn</th>\n",
       "      <th>TaxiOut</th>\n",
       "      <th>Cancelled</th>\n",
       "      <th>CancellationCode</th>\n",
       "      <th>Diverted</th>\n",
       "      <th>CarrierDelay</th>\n",
       "      <th>WeatherDelay</th>\n",
       "      <th>NASDelay</th>\n",
       "      <th>SecurityDelay</th>\n",
       "      <th>LateAircraftDelay</th>\n",
       "    </tr>\n",
       "  </thead>\n",
       "  <tbody>\n",
       "    <tr>\n",
       "      <th>0</th>\n",
       "      <td>2008</td>\n",
       "      <td>6</td>\n",
       "      <td>18</td>\n",
       "      <td>3</td>\n",
       "      <td>2111.0</td>\n",
       "      <td>2055</td>\n",
       "      <td>2308.0</td>\n",
       "      <td>2300</td>\n",
       "      <td>WN</td>\n",
       "      <td>242</td>\n",
       "      <td>...</td>\n",
       "      <td>3.0</td>\n",
       "      <td>8.0</td>\n",
       "      <td>0</td>\n",
       "      <td>NaN</td>\n",
       "      <td>0</td>\n",
       "      <td>NaN</td>\n",
       "      <td>NaN</td>\n",
       "      <td>NaN</td>\n",
       "      <td>NaN</td>\n",
       "      <td>NaN</td>\n",
       "    </tr>\n",
       "    <tr>\n",
       "      <th>1</th>\n",
       "      <td>2008</td>\n",
       "      <td>6</td>\n",
       "      <td>4</td>\n",
       "      <td>3</td>\n",
       "      <td>1426.0</td>\n",
       "      <td>1410</td>\n",
       "      <td>1730.0</td>\n",
       "      <td>1728</td>\n",
       "      <td>XE</td>\n",
       "      <td>2380</td>\n",
       "      <td>...</td>\n",
       "      <td>4.0</td>\n",
       "      <td>12.0</td>\n",
       "      <td>0</td>\n",
       "      <td>NaN</td>\n",
       "      <td>0</td>\n",
       "      <td>NaN</td>\n",
       "      <td>NaN</td>\n",
       "      <td>NaN</td>\n",
       "      <td>NaN</td>\n",
       "      <td>NaN</td>\n",
       "    </tr>\n",
       "    <tr>\n",
       "      <th>2</th>\n",
       "      <td>2008</td>\n",
       "      <td>8</td>\n",
       "      <td>3</td>\n",
       "      <td>7</td>\n",
       "      <td>1143.0</td>\n",
       "      <td>1145</td>\n",
       "      <td>1501.0</td>\n",
       "      <td>1520</td>\n",
       "      <td>WN</td>\n",
       "      <td>1769</td>\n",
       "      <td>...</td>\n",
       "      <td>4.0</td>\n",
       "      <td>9.0</td>\n",
       "      <td>0</td>\n",
       "      <td>NaN</td>\n",
       "      <td>0</td>\n",
       "      <td>NaN</td>\n",
       "      <td>NaN</td>\n",
       "      <td>NaN</td>\n",
       "      <td>NaN</td>\n",
       "      <td>NaN</td>\n",
       "    </tr>\n",
       "    <tr>\n",
       "      <th>3</th>\n",
       "      <td>2008</td>\n",
       "      <td>1</td>\n",
       "      <td>23</td>\n",
       "      <td>3</td>\n",
       "      <td>1141.0</td>\n",
       "      <td>1144</td>\n",
       "      <td>1323.0</td>\n",
       "      <td>1335</td>\n",
       "      <td>OO</td>\n",
       "      <td>3802</td>\n",
       "      <td>...</td>\n",
       "      <td>4.0</td>\n",
       "      <td>19.0</td>\n",
       "      <td>0</td>\n",
       "      <td>NaN</td>\n",
       "      <td>0</td>\n",
       "      <td>NaN</td>\n",
       "      <td>NaN</td>\n",
       "      <td>NaN</td>\n",
       "      <td>NaN</td>\n",
       "      <td>NaN</td>\n",
       "    </tr>\n",
       "    <tr>\n",
       "      <th>4</th>\n",
       "      <td>2008</td>\n",
       "      <td>5</td>\n",
       "      <td>4</td>\n",
       "      <td>7</td>\n",
       "      <td>815.0</td>\n",
       "      <td>820</td>\n",
       "      <td>1243.0</td>\n",
       "      <td>1300</td>\n",
       "      <td>WN</td>\n",
       "      <td>399</td>\n",
       "      <td>...</td>\n",
       "      <td>4.0</td>\n",
       "      <td>8.0</td>\n",
       "      <td>0</td>\n",
       "      <td>NaN</td>\n",
       "      <td>0</td>\n",
       "      <td>NaN</td>\n",
       "      <td>NaN</td>\n",
       "      <td>NaN</td>\n",
       "      <td>NaN</td>\n",
       "      <td>NaN</td>\n",
       "    </tr>\n",
       "  </tbody>\n",
       "</table>\n",
       "<p>5 rows × 29 columns</p>\n",
       "</div>"
      ],
      "text/plain": [
       "   Year  Month  DayofMonth  DayOfWeek  DepTime  CRSDepTime  ArrTime  \\\n",
       "0  2008      6          18          3   2111.0        2055   2308.0   \n",
       "1  2008      6           4          3   1426.0        1410   1730.0   \n",
       "2  2008      8           3          7   1143.0        1145   1501.0   \n",
       "3  2008      1          23          3   1141.0        1144   1323.0   \n",
       "4  2008      5           4          7    815.0         820   1243.0   \n",
       "\n",
       "   CRSArrTime UniqueCarrier  FlightNum        ...         TaxiIn  TaxiOut  \\\n",
       "0        2300            WN        242        ...            3.0      8.0   \n",
       "1        1728            XE       2380        ...            4.0     12.0   \n",
       "2        1520            WN       1769        ...            4.0      9.0   \n",
       "3        1335            OO       3802        ...            4.0     19.0   \n",
       "4        1300            WN        399        ...            4.0      8.0   \n",
       "\n",
       "   Cancelled  CancellationCode  Diverted  CarrierDelay WeatherDelay NASDelay  \\\n",
       "0          0               NaN         0           NaN          NaN      NaN   \n",
       "1          0               NaN         0           NaN          NaN      NaN   \n",
       "2          0               NaN         0           NaN          NaN      NaN   \n",
       "3          0               NaN         0           NaN          NaN      NaN   \n",
       "4          0               NaN         0           NaN          NaN      NaN   \n",
       "\n",
       "   SecurityDelay  LateAircraftDelay  \n",
       "0            NaN                NaN  \n",
       "1            NaN                NaN  \n",
       "2            NaN                NaN  \n",
       "3            NaN                NaN  \n",
       "4            NaN                NaN  \n",
       "\n",
       "[5 rows x 29 columns]"
      ]
     },
     "execution_count": 4,
     "metadata": {},
     "output_type": "execute_result"
    }
   ],
   "source": [
    "df = pd.read_csv(\"2008.csv\")\n",
    "df.head()"
   ]
  },
  {
   "cell_type": "code",
   "execution_count": 5,
   "metadata": {
    "collapsed": false
   },
   "outputs": [
    {
     "name": "stderr",
     "output_type": "stream",
     "text": [
      "C:\\Program Files\\Anaconda3\\lib\\site-packages\\numpy\\lib\\function_base.py:4116: RuntimeWarning: Invalid value encountered in percentile\n",
      "  interpolation=interpolation)\n"
     ]
    },
    {
     "data": {
      "text/html": [
       "<div>\n",
       "<table border=\"1\" class=\"dataframe\">\n",
       "  <thead>\n",
       "    <tr style=\"text-align: right;\">\n",
       "      <th></th>\n",
       "      <th>Year</th>\n",
       "      <th>Month</th>\n",
       "      <th>DayofMonth</th>\n",
       "      <th>DayOfWeek</th>\n",
       "      <th>DepTime</th>\n",
       "      <th>CRSDepTime</th>\n",
       "      <th>ArrTime</th>\n",
       "      <th>CRSArrTime</th>\n",
       "      <th>FlightNum</th>\n",
       "      <th>ActualElapsedTime</th>\n",
       "      <th>...</th>\n",
       "      <th>Distance</th>\n",
       "      <th>TaxiIn</th>\n",
       "      <th>TaxiOut</th>\n",
       "      <th>Cancelled</th>\n",
       "      <th>Diverted</th>\n",
       "      <th>CarrierDelay</th>\n",
       "      <th>WeatherDelay</th>\n",
       "      <th>NASDelay</th>\n",
       "      <th>SecurityDelay</th>\n",
       "      <th>LateAircraftDelay</th>\n",
       "    </tr>\n",
       "  </thead>\n",
       "  <tbody>\n",
       "    <tr>\n",
       "      <th>count</th>\n",
       "      <td>70000.0</td>\n",
       "      <td>70000.000000</td>\n",
       "      <td>70000.000000</td>\n",
       "      <td>70000.000000</td>\n",
       "      <td>68601.000000</td>\n",
       "      <td>70000.000000</td>\n",
       "      <td>68444.000000</td>\n",
       "      <td>70000.000000</td>\n",
       "      <td>70000.000000</td>\n",
       "      <td>68418.000000</td>\n",
       "      <td>...</td>\n",
       "      <td>70000.000000</td>\n",
       "      <td>68444.000000</td>\n",
       "      <td>68594.000000</td>\n",
       "      <td>70000.000000</td>\n",
       "      <td>70000.000000</td>\n",
       "      <td>15253.000000</td>\n",
       "      <td>15253.000000</td>\n",
       "      <td>15253.000000</td>\n",
       "      <td>15253.000000</td>\n",
       "      <td>15253.000000</td>\n",
       "    </tr>\n",
       "    <tr>\n",
       "      <th>mean</th>\n",
       "      <td>2008.0</td>\n",
       "      <td>6.380300</td>\n",
       "      <td>15.742300</td>\n",
       "      <td>3.925900</td>\n",
       "      <td>1331.025058</td>\n",
       "      <td>1324.217071</td>\n",
       "      <td>1478.600842</td>\n",
       "      <td>1492.904771</td>\n",
       "      <td>2214.752114</td>\n",
       "      <td>126.960931</td>\n",
       "      <td>...</td>\n",
       "      <td>724.508257</td>\n",
       "      <td>6.847189</td>\n",
       "      <td>16.435621</td>\n",
       "      <td>0.020157</td>\n",
       "      <td>0.002443</td>\n",
       "      <td>15.862388</td>\n",
       "      <td>2.829935</td>\n",
       "      <td>16.751918</td>\n",
       "      <td>0.078935</td>\n",
       "      <td>20.698944</td>\n",
       "    </tr>\n",
       "    <tr>\n",
       "      <th>std</th>\n",
       "      <td>0.0</td>\n",
       "      <td>3.419011</td>\n",
       "      <td>8.813738</td>\n",
       "      <td>1.995955</td>\n",
       "      <td>477.005973</td>\n",
       "      <td>463.231562</td>\n",
       "      <td>504.601176</td>\n",
       "      <td>482.071631</td>\n",
       "      <td>1963.606525</td>\n",
       "      <td>70.382109</td>\n",
       "      <td>...</td>\n",
       "      <td>565.485009</td>\n",
       "      <td>4.884862</td>\n",
       "      <td>11.297027</td>\n",
       "      <td>0.140539</td>\n",
       "      <td>0.049365</td>\n",
       "      <td>38.596304</td>\n",
       "      <td>17.687256</td>\n",
       "      <td>32.017588</td>\n",
       "      <td>2.063460</td>\n",
       "      <td>39.068022</td>\n",
       "    </tr>\n",
       "    <tr>\n",
       "      <th>min</th>\n",
       "      <td>2008.0</td>\n",
       "      <td>1.000000</td>\n",
       "      <td>1.000000</td>\n",
       "      <td>1.000000</td>\n",
       "      <td>1.000000</td>\n",
       "      <td>1.000000</td>\n",
       "      <td>1.000000</td>\n",
       "      <td>1.000000</td>\n",
       "      <td>1.000000</td>\n",
       "      <td>19.000000</td>\n",
       "      <td>...</td>\n",
       "      <td>31.000000</td>\n",
       "      <td>0.000000</td>\n",
       "      <td>0.000000</td>\n",
       "      <td>0.000000</td>\n",
       "      <td>0.000000</td>\n",
       "      <td>0.000000</td>\n",
       "      <td>0.000000</td>\n",
       "      <td>0.000000</td>\n",
       "      <td>0.000000</td>\n",
       "      <td>0.000000</td>\n",
       "    </tr>\n",
       "    <tr>\n",
       "      <th>25%</th>\n",
       "      <td>2008.0</td>\n",
       "      <td>3.000000</td>\n",
       "      <td>8.000000</td>\n",
       "      <td>2.000000</td>\n",
       "      <td>NaN</td>\n",
       "      <td>926.000000</td>\n",
       "      <td>NaN</td>\n",
       "      <td>1115.000000</td>\n",
       "      <td>614.000000</td>\n",
       "      <td>NaN</td>\n",
       "      <td>...</td>\n",
       "      <td>324.000000</td>\n",
       "      <td>NaN</td>\n",
       "      <td>NaN</td>\n",
       "      <td>0.000000</td>\n",
       "      <td>0.000000</td>\n",
       "      <td>NaN</td>\n",
       "      <td>NaN</td>\n",
       "      <td>NaN</td>\n",
       "      <td>NaN</td>\n",
       "      <td>NaN</td>\n",
       "    </tr>\n",
       "    <tr>\n",
       "      <th>50%</th>\n",
       "      <td>2008.0</td>\n",
       "      <td>6.000000</td>\n",
       "      <td>16.000000</td>\n",
       "      <td>4.000000</td>\n",
       "      <td>NaN</td>\n",
       "      <td>1316.000000</td>\n",
       "      <td>NaN</td>\n",
       "      <td>1515.000000</td>\n",
       "      <td>1562.000000</td>\n",
       "      <td>NaN</td>\n",
       "      <td>...</td>\n",
       "      <td>575.000000</td>\n",
       "      <td>NaN</td>\n",
       "      <td>NaN</td>\n",
       "      <td>0.000000</td>\n",
       "      <td>0.000000</td>\n",
       "      <td>NaN</td>\n",
       "      <td>NaN</td>\n",
       "      <td>NaN</td>\n",
       "      <td>NaN</td>\n",
       "      <td>NaN</td>\n",
       "    </tr>\n",
       "    <tr>\n",
       "      <th>75%</th>\n",
       "      <td>2008.0</td>\n",
       "      <td>9.000000</td>\n",
       "      <td>23.000000</td>\n",
       "      <td>6.000000</td>\n",
       "      <td>NaN</td>\n",
       "      <td>1715.000000</td>\n",
       "      <td>NaN</td>\n",
       "      <td>1905.000000</td>\n",
       "      <td>3500.000000</td>\n",
       "      <td>NaN</td>\n",
       "      <td>...</td>\n",
       "      <td>950.000000</td>\n",
       "      <td>NaN</td>\n",
       "      <td>NaN</td>\n",
       "      <td>0.000000</td>\n",
       "      <td>0.000000</td>\n",
       "      <td>NaN</td>\n",
       "      <td>NaN</td>\n",
       "      <td>NaN</td>\n",
       "      <td>NaN</td>\n",
       "      <td>NaN</td>\n",
       "    </tr>\n",
       "    <tr>\n",
       "      <th>max</th>\n",
       "      <td>2008.0</td>\n",
       "      <td>12.000000</td>\n",
       "      <td>31.000000</td>\n",
       "      <td>7.000000</td>\n",
       "      <td>2400.000000</td>\n",
       "      <td>2359.000000</td>\n",
       "      <td>2400.000000</td>\n",
       "      <td>2400.000000</td>\n",
       "      <td>7828.000000</td>\n",
       "      <td>686.000000</td>\n",
       "      <td>...</td>\n",
       "      <td>4962.000000</td>\n",
       "      <td>165.000000</td>\n",
       "      <td>317.000000</td>\n",
       "      <td>1.000000</td>\n",
       "      <td>1.000000</td>\n",
       "      <td>1146.000000</td>\n",
       "      <td>516.000000</td>\n",
       "      <td>914.000000</td>\n",
       "      <td>175.000000</td>\n",
       "      <td>784.000000</td>\n",
       "    </tr>\n",
       "  </tbody>\n",
       "</table>\n",
       "<p>8 rows × 24 columns</p>\n",
       "</div>"
      ],
      "text/plain": [
       "          Year         Month    DayofMonth     DayOfWeek       DepTime  \\\n",
       "count  70000.0  70000.000000  70000.000000  70000.000000  68601.000000   \n",
       "mean    2008.0      6.380300     15.742300      3.925900   1331.025058   \n",
       "std        0.0      3.419011      8.813738      1.995955    477.005973   \n",
       "min     2008.0      1.000000      1.000000      1.000000      1.000000   \n",
       "25%     2008.0      3.000000      8.000000      2.000000           NaN   \n",
       "50%     2008.0      6.000000     16.000000      4.000000           NaN   \n",
       "75%     2008.0      9.000000     23.000000      6.000000           NaN   \n",
       "max     2008.0     12.000000     31.000000      7.000000   2400.000000   \n",
       "\n",
       "         CRSDepTime       ArrTime    CRSArrTime     FlightNum  \\\n",
       "count  70000.000000  68444.000000  70000.000000  70000.000000   \n",
       "mean    1324.217071   1478.600842   1492.904771   2214.752114   \n",
       "std      463.231562    504.601176    482.071631   1963.606525   \n",
       "min        1.000000      1.000000      1.000000      1.000000   \n",
       "25%      926.000000           NaN   1115.000000    614.000000   \n",
       "50%     1316.000000           NaN   1515.000000   1562.000000   \n",
       "75%     1715.000000           NaN   1905.000000   3500.000000   \n",
       "max     2359.000000   2400.000000   2400.000000   7828.000000   \n",
       "\n",
       "       ActualElapsedTime        ...              Distance        TaxiIn  \\\n",
       "count       68418.000000        ...          70000.000000  68444.000000   \n",
       "mean          126.960931        ...            724.508257      6.847189   \n",
       "std            70.382109        ...            565.485009      4.884862   \n",
       "min            19.000000        ...             31.000000      0.000000   \n",
       "25%                  NaN        ...            324.000000           NaN   \n",
       "50%                  NaN        ...            575.000000           NaN   \n",
       "75%                  NaN        ...            950.000000           NaN   \n",
       "max           686.000000        ...           4962.000000    165.000000   \n",
       "\n",
       "            TaxiOut     Cancelled      Diverted  CarrierDelay  WeatherDelay  \\\n",
       "count  68594.000000  70000.000000  70000.000000  15253.000000  15253.000000   \n",
       "mean      16.435621      0.020157      0.002443     15.862388      2.829935   \n",
       "std       11.297027      0.140539      0.049365     38.596304     17.687256   \n",
       "min        0.000000      0.000000      0.000000      0.000000      0.000000   \n",
       "25%             NaN      0.000000      0.000000           NaN           NaN   \n",
       "50%             NaN      0.000000      0.000000           NaN           NaN   \n",
       "75%             NaN      0.000000      0.000000           NaN           NaN   \n",
       "max      317.000000      1.000000      1.000000   1146.000000    516.000000   \n",
       "\n",
       "           NASDelay  SecurityDelay  LateAircraftDelay  \n",
       "count  15253.000000   15253.000000       15253.000000  \n",
       "mean      16.751918       0.078935          20.698944  \n",
       "std       32.017588       2.063460          39.068022  \n",
       "min        0.000000       0.000000           0.000000  \n",
       "25%             NaN            NaN                NaN  \n",
       "50%             NaN            NaN                NaN  \n",
       "75%             NaN            NaN                NaN  \n",
       "max      914.000000     175.000000         784.000000  \n",
       "\n",
       "[8 rows x 24 columns]"
      ]
     },
     "execution_count": 5,
     "metadata": {},
     "output_type": "execute_result"
    }
   ],
   "source": [
    "df.describe()"
   ]
  },
  {
   "cell_type": "code",
   "execution_count": 6,
   "metadata": {
    "collapsed": false
   },
   "outputs": [
    {
     "name": "stdout",
     "output_type": "stream",
     "text": [
      "<class 'pandas.core.frame.DataFrame'>\n",
      "RangeIndex: 70000 entries, 0 to 69999\n",
      "Data columns (total 29 columns):\n",
      "Year                 70000 non-null int64\n",
      "Month                70000 non-null int64\n",
      "DayofMonth           70000 non-null int64\n",
      "DayOfWeek            70000 non-null int64\n",
      "DepTime              68601 non-null float64\n",
      "CRSDepTime           70000 non-null int64\n",
      "ArrTime              68444 non-null float64\n",
      "CRSArrTime           70000 non-null int64\n",
      "UniqueCarrier        70000 non-null object\n",
      "FlightNum            70000 non-null int64\n",
      "TailNum              69180 non-null object\n",
      "ActualElapsedTime    68418 non-null float64\n",
      "CRSElapsedTime       69991 non-null float64\n",
      "AirTime              68418 non-null float64\n",
      "ArrDelay             68418 non-null float64\n",
      "DepDelay             68601 non-null float64\n",
      "Origin               70000 non-null object\n",
      "Dest                 70000 non-null object\n",
      "Distance             70000 non-null int64\n",
      "TaxiIn               68444 non-null float64\n",
      "TaxiOut              68594 non-null float64\n",
      "Cancelled            70000 non-null int64\n",
      "CancellationCode     1411 non-null object\n",
      "Diverted             70000 non-null int64\n",
      "CarrierDelay         15253 non-null float64\n",
      "WeatherDelay         15253 non-null float64\n",
      "NASDelay             15253 non-null float64\n",
      "SecurityDelay        15253 non-null float64\n",
      "LateAircraftDelay    15253 non-null float64\n",
      "dtypes: float64(14), int64(10), object(5)\n",
      "memory usage: 15.5+ MB\n"
     ]
    }
   ],
   "source": [
    "df.info()"
   ]
  },
  {
   "cell_type": "code",
   "execution_count": 7,
   "metadata": {
    "collapsed": false
   },
   "outputs": [
    {
     "data": {
      "text/plain": [
       "Year                      0\n",
       "Month                     0\n",
       "DayofMonth                0\n",
       "DayOfWeek                 0\n",
       "DepTime                1399\n",
       "CRSDepTime             1399\n",
       "ArrTime                2955\n",
       "CRSArrTime             2955\n",
       "UniqueCarrier          2955\n",
       "FlightNum              2955\n",
       "TailNum                3775\n",
       "ActualElapsedTime      5357\n",
       "CRSElapsedTime         5366\n",
       "AirTime                6948\n",
       "ArrDelay               8530\n",
       "DepDelay               9929\n",
       "Origin                 9929\n",
       "Dest                   9929\n",
       "Distance               9929\n",
       "TaxiIn                11485\n",
       "TaxiOut               12891\n",
       "Cancelled             12891\n",
       "CancellationCode      81480\n",
       "Diverted              81480\n",
       "CarrierDelay         136227\n",
       "WeatherDelay         190974\n",
       "NASDelay             245721\n",
       "SecurityDelay        300468\n",
       "LateAircraftDelay    355215\n",
       "dtype: int64"
      ]
     },
     "execution_count": 7,
     "metadata": {},
     "output_type": "execute_result"
    }
   ],
   "source": [
    "a = len(df.index)-df.count()\n",
    "a.head()\n",
    "a.cumsum(axis=0, skipna=True)"
   ]
  },
  {
   "cell_type": "markdown",
   "metadata": {},
   "source": [
    "Ресурс: https://stackoverflow.com/questions/22257527/how-do-i-get-a-summary-count-of-missing-nan-data-by-column-in-pandas  \n",
    "Имеются ли в данных пропущенные значения? Да  \n",
    "Сколько всего пропущенных элементов в таблице \"объект-признак\"? 355215"
   ]
  },
  {
   "cell_type": "code",
   "execution_count": 9,
   "metadata": {
    "collapsed": false
   },
   "outputs": [
    {
     "data": {
      "text/plain": [
       "70000"
      ]
     },
     "execution_count": 9,
     "metadata": {},
     "output_type": "execute_result"
    }
   ],
   "source": [
    "a = pd.isnull(df)\n",
    "b = [0] * 70000\n",
    "for i in range(len(a.index)):\n",
    "    for j in range(len(a.columns)):\n",
    "        if a.iloc[i, j] == True and b[i] == 0:\n",
    "            b[i] += 1\n",
    "c = 0\n",
    "for i in range(len(b)):\n",
    "    c += b[i]\n",
    "c"
   ]
  },
  {
   "cell_type": "markdown",
   "metadata": {},
   "source": [
    "Все 70000 объектов имеют хотя бы одно пропущенное значение."
   ]
  },
  {
   "cell_type": "code",
   "execution_count": 45,
   "metadata": {
    "collapsed": false
   },
   "outputs": [
    {
     "data": {
      "text/plain": [
       "16"
      ]
     },
     "execution_count": 45,
     "metadata": {},
     "output_type": "execute_result"
    }
   ],
   "source": [
    "a = pd.isnull(df)\n",
    "b = [0] * len(a.columns)\n",
    "for i in range(len(a.index)):\n",
    "    for j in range(len(a.columns)):\n",
    "        if (a.iloc[i, j] == True or math.isnan(df.iloc[i, j] == True)) and b[j] == 0:\n",
    "            b[j] += 1\n",
    "c = 0\n",
    "for i in range(len(b)):\n",
    "    c += b[i]\n",
    "c"
   ]
  },
  {
   "cell_type": "code",
   "execution_count": null,
   "metadata": {
    "collapsed": true
   },
   "outputs": [],
   "source": [
    "16 признаков имеют хотя бы одно пропущенное значение"
   ]
  },
  {
   "cell_type": "markdown",
   "metadata": {},
   "source": [
    "Как вы понимаете, также не имеет смысла рассматривать при решении поставленной задачи объекты с пропущенным значением целевой переменной. В связи с этим ответьте на следующие вопросы и выполните соответствующие действия:\n",
    "- Имеются ли пропущенные значения в целевой переменной?\n",
    "- Проанализируйте объекты с пропущенными значениями целевой переменной. Чем вызвано это явление? Что их объединяет? Можно ли в связи с этим, на ваш взгляд, исключить какие-то признаки из рассмотрения? Обоснуйте свою точку зрения.\n",
    "\n",
    "Исключите из выборки объекты **с пропущенным значением целевой переменной и со значением целевой переменной, равным 0**, а также при необходимости исключите признаки в соответствии с вашим ответом на последний вопрос из списка и выделите целевую переменную в отдельный вектор, исключив её из матрицы \"объект-признак\"."
   ]
  },
  {
   "cell_type": "code",
   "execution_count": 11,
   "metadata": {
    "collapsed": false
   },
   "outputs": [
    {
     "name": "stdout",
     "output_type": "stream",
     "text": [
      "Пропущено 1399 значений в целевой переменной\n"
     ]
    }
   ],
   "source": [
    "d = 0\n",
    "for i in range(len(a.index)):\n",
    "    if math.isnan(df.iloc[i][\"DepDelay\"]) == True:\n",
    "        d += 1 \n",
    "print(\"Пропущено\", d, \"значений в целевой переменной\")"
   ]
  },
  {
   "cell_type": "code",
   "execution_count": 13,
   "metadata": {
    "collapsed": false
   },
   "outputs": [],
   "source": [
    "df = df[df.DepDelay != 0]"
   ]
  },
  {
   "cell_type": "code",
   "execution_count": 14,
   "metadata": {
    "collapsed": false
   },
   "outputs": [],
   "source": [
    "df = df.dropna(axis=0, how='any', thresh=None, subset=[\"DepDelay\"], inplace=False)"
   ]
  },
  {
   "cell_type": "code",
   "execution_count": 32,
   "metadata": {
    "collapsed": false
   },
   "outputs": [],
   "source": [
    "list = []\n",
    "for i in range(len(df.index)):\n",
    "    cell = df.iloc[i][\"DepDelay\"]\n",
    "    if math.isnan(cell) == True:\n",
    "        list.append(df.index[i])"
   ]
  },
  {
   "cell_type": "code",
   "execution_count": 33,
   "metadata": {
    "collapsed": false
   },
   "outputs": [
    {
     "data": {
      "text/plain": [
       "[11,\n",
       " 28,\n",
       " 31,\n",
       " 34,\n",
       " 70,\n",
       " 71,\n",
       " 75,\n",
       " 78,\n",
       " 85,\n",
       " 92,\n",
       " 94,\n",
       " 100,\n",
       " 103,\n",
       " 104,\n",
       " 112,\n",
       " 120,\n",
       " 125,\n",
       " 128,\n",
       " 133,\n",
       " 135,\n",
       " 137,\n",
       " 144,\n",
       " 171,\n",
       " 179,\n",
       " 194,\n",
       " 200,\n",
       " 201,\n",
       " 204,\n",
       " 234,\n",
       " 236,\n",
       " 239,\n",
       " 244,\n",
       " 257,\n",
       " 267,\n",
       " 269,\n",
       " 275,\n",
       " 282,\n",
       " 288,\n",
       " 290,\n",
       " 302,\n",
       " 308,\n",
       " 310,\n",
       " 318,\n",
       " 332,\n",
       " 352,\n",
       " 375,\n",
       " 398,\n",
       " 415,\n",
       " 423,\n",
       " 428,\n",
       " 429,\n",
       " 430,\n",
       " 438,\n",
       " 439,\n",
       " 445,\n",
       " 446,\n",
       " 469,\n",
       " 480,\n",
       " 490,\n",
       " 500,\n",
       " 526,\n",
       " 538,\n",
       " 539,\n",
       " 542,\n",
       " 553,\n",
       " 554,\n",
       " 556,\n",
       " 564,\n",
       " 572,\n",
       " 582,\n",
       " 583,\n",
       " 584,\n",
       " 590,\n",
       " 591,\n",
       " 604,\n",
       " 635,\n",
       " 648,\n",
       " 654,\n",
       " 675,\n",
       " 686,\n",
       " 690,\n",
       " 696,\n",
       " 697,\n",
       " 712,\n",
       " 718,\n",
       " 720,\n",
       " 721,\n",
       " 737,\n",
       " 802,\n",
       " 811,\n",
       " 816,\n",
       " 817,\n",
       " 821,\n",
       " 823,\n",
       " 830,\n",
       " 838,\n",
       " 839,\n",
       " 848,\n",
       " 865,\n",
       " 876,\n",
       " 882,\n",
       " 898,\n",
       " 943,\n",
       " 965,\n",
       " 975,\n",
       " 992,\n",
       " 1019,\n",
       " 1039,\n",
       " 1048,\n",
       " 1066,\n",
       " 1068,\n",
       " 1072,\n",
       " 1089,\n",
       " 1094,\n",
       " 1100,\n",
       " 1111,\n",
       " 1112,\n",
       " 1127,\n",
       " 1135,\n",
       " 1139,\n",
       " 1150,\n",
       " 1156,\n",
       " 1169,\n",
       " 1186,\n",
       " 1189,\n",
       " 1193,\n",
       " 1198,\n",
       " 1204,\n",
       " 1227,\n",
       " 1261,\n",
       " 1263,\n",
       " 1264,\n",
       " 1267,\n",
       " 1268,\n",
       " 1272,\n",
       " 1280,\n",
       " 1307,\n",
       " 1308,\n",
       " 1315,\n",
       " 1318,\n",
       " 1335,\n",
       " 1345,\n",
       " 1349,\n",
       " 1352,\n",
       " 1379,\n",
       " 1386,\n",
       " 1396,\n",
       " 1401,\n",
       " 1406,\n",
       " 1418,\n",
       " 1424,\n",
       " 1426,\n",
       " 1431,\n",
       " 1438,\n",
       " 1445,\n",
       " 1446,\n",
       " 1448,\n",
       " 1456,\n",
       " 1472,\n",
       " 1478,\n",
       " 1482,\n",
       " 1495,\n",
       " 1508,\n",
       " 1511,\n",
       " 1516,\n",
       " 1519,\n",
       " 1521,\n",
       " 1537,\n",
       " 1540,\n",
       " 1566,\n",
       " 1584,\n",
       " 1593,\n",
       " 1596,\n",
       " 1600,\n",
       " 1605,\n",
       " 1606,\n",
       " 1607,\n",
       " 1616,\n",
       " 1617,\n",
       " 1632,\n",
       " 1650,\n",
       " 1653,\n",
       " 1660,\n",
       " 1673,\n",
       " 1692,\n",
       " 1699,\n",
       " 1704,\n",
       " 1708,\n",
       " 1729,\n",
       " 1742,\n",
       " 1743,\n",
       " 1772,\n",
       " 1774,\n",
       " 1784,\n",
       " 1797,\n",
       " 1799,\n",
       " 1817,\n",
       " 1828,\n",
       " 1840,\n",
       " 1844,\n",
       " 1867,\n",
       " 1870,\n",
       " 1874,\n",
       " 1876,\n",
       " 1888,\n",
       " 1892,\n",
       " 1904,\n",
       " 1906,\n",
       " 1931,\n",
       " 1952,\n",
       " 1961,\n",
       " 1970,\n",
       " 1977,\n",
       " 1989,\n",
       " 1998,\n",
       " 2012,\n",
       " 2016,\n",
       " 2018,\n",
       " 2035,\n",
       " 2039,\n",
       " 2043,\n",
       " 2044,\n",
       " 2049,\n",
       " 2054,\n",
       " 2080,\n",
       " 2081,\n",
       " 2086,\n",
       " 2088,\n",
       " 2093,\n",
       " 2098,\n",
       " 2106,\n",
       " 2113,\n",
       " 2118,\n",
       " 2128,\n",
       " 2131,\n",
       " 2151,\n",
       " 2162,\n",
       " 2167,\n",
       " 2177,\n",
       " 2178,\n",
       " 2190,\n",
       " 2198,\n",
       " 2208,\n",
       " 2216,\n",
       " 2226,\n",
       " 2245,\n",
       " 2256,\n",
       " 2258,\n",
       " 2262,\n",
       " 2272,\n",
       " 2289,\n",
       " 2292,\n",
       " 2303,\n",
       " 2310,\n",
       " 2374,\n",
       " 2376,\n",
       " 2392,\n",
       " 2400,\n",
       " 2403,\n",
       " 2423,\n",
       " 2427,\n",
       " 2474,\n",
       " 2490,\n",
       " 2541,\n",
       " 2542,\n",
       " 2543,\n",
       " 2551,\n",
       " 2555,\n",
       " 2571,\n",
       " 2584,\n",
       " 2597,\n",
       " 2626,\n",
       " 2641,\n",
       " 2648,\n",
       " 2650,\n",
       " 2662,\n",
       " 2669,\n",
       " 2681,\n",
       " 2703,\n",
       " 2710,\n",
       " 2742,\n",
       " 2745,\n",
       " 2746,\n",
       " 2749,\n",
       " 2751,\n",
       " 2755,\n",
       " 2756,\n",
       " 2770,\n",
       " 2780,\n",
       " 2802,\n",
       " 2807,\n",
       " 2811,\n",
       " 2825,\n",
       " 2859,\n",
       " 2879,\n",
       " 2901,\n",
       " 2902,\n",
       " 2922,\n",
       " 2925,\n",
       " 2941,\n",
       " 2944,\n",
       " 2954,\n",
       " 2963,\n",
       " 2965,\n",
       " 2968,\n",
       " 2972,\n",
       " 2973,\n",
       " 2981,\n",
       " 2983,\n",
       " 2984,\n",
       " 2985,\n",
       " 2986,\n",
       " 2989,\n",
       " 2991,\n",
       " 2993,\n",
       " 2996,\n",
       " 3000,\n",
       " 3014,\n",
       " 3025,\n",
       " 3030,\n",
       " 3034,\n",
       " 3036,\n",
       " 3047,\n",
       " 3057,\n",
       " 3061,\n",
       " 3062,\n",
       " 3067,\n",
       " 3086,\n",
       " 3105,\n",
       " 3110,\n",
       " 3118,\n",
       " 3126,\n",
       " 3132,\n",
       " 3135,\n",
       " 3143,\n",
       " 3154,\n",
       " 3165,\n",
       " 3212,\n",
       " 3219,\n",
       " 3221,\n",
       " 3222,\n",
       " 3251,\n",
       " 3252,\n",
       " 3259,\n",
       " 3264,\n",
       " 3326,\n",
       " 3335,\n",
       " 3359,\n",
       " 3363,\n",
       " 3409,\n",
       " 3410,\n",
       " 3440,\n",
       " 3456,\n",
       " 3473,\n",
       " 3477,\n",
       " 3480,\n",
       " 3488,\n",
       " 3495,\n",
       " 3520,\n",
       " 3531,\n",
       " 3539,\n",
       " 3541,\n",
       " 3547,\n",
       " 3556,\n",
       " 3559,\n",
       " 3568,\n",
       " 3581,\n",
       " 3586,\n",
       " 3618,\n",
       " 3626,\n",
       " 3633,\n",
       " 3637,\n",
       " 3650,\n",
       " 3657,\n",
       " 3661,\n",
       " 3692,\n",
       " 3696,\n",
       " 3707,\n",
       " 3711,\n",
       " 3722,\n",
       " 3725,\n",
       " 3733,\n",
       " 3734,\n",
       " 3739,\n",
       " 3744,\n",
       " 3750,\n",
       " 3757,\n",
       " 3765,\n",
       " 3766,\n",
       " 3770,\n",
       " 3775,\n",
       " 3788,\n",
       " 3790,\n",
       " 3795,\n",
       " 3801,\n",
       " 3804,\n",
       " 3815,\n",
       " 3852,\n",
       " 3853,\n",
       " 3859,\n",
       " 3864,\n",
       " 3868,\n",
       " 3887,\n",
       " 3890,\n",
       " 3918,\n",
       " 3943,\n",
       " 3955,\n",
       " 3960,\n",
       " 3980,\n",
       " 3985,\n",
       " 3990,\n",
       " 4001,\n",
       " 4020,\n",
       " 4025,\n",
       " 4038,\n",
       " 4049,\n",
       " 4059,\n",
       " 4089,\n",
       " 4090,\n",
       " 4096,\n",
       " 4108,\n",
       " 4116,\n",
       " 4121,\n",
       " 4128,\n",
       " 4149,\n",
       " 4165,\n",
       " 4176,\n",
       " 4180,\n",
       " 4188,\n",
       " 4200,\n",
       " 4206,\n",
       " 4215,\n",
       " 4237,\n",
       " 4256,\n",
       " 4258,\n",
       " 4272,\n",
       " 4276,\n",
       " 4283,\n",
       " 4302,\n",
       " 4321,\n",
       " 4326,\n",
       " 4328,\n",
       " 4336,\n",
       " 4348,\n",
       " 4352,\n",
       " 4361,\n",
       " 4370,\n",
       " 4372,\n",
       " 4375,\n",
       " 4387,\n",
       " 4431,\n",
       " 4436,\n",
       " 4437,\n",
       " 4438,\n",
       " 4452,\n",
       " 4457,\n",
       " 4468,\n",
       " 4470,\n",
       " 4484,\n",
       " 4491,\n",
       " 4502,\n",
       " 4505,\n",
       " 4517,\n",
       " 4521,\n",
       " 4541,\n",
       " 4545,\n",
       " 4547,\n",
       " 4581,\n",
       " 4599,\n",
       " 4607,\n",
       " 4611,\n",
       " 4616,\n",
       " 4623,\n",
       " 4629,\n",
       " 4672,\n",
       " 4684,\n",
       " 4687,\n",
       " 4692,\n",
       " 4694,\n",
       " 4701,\n",
       " 4704,\n",
       " 4705,\n",
       " 4710,\n",
       " 4717,\n",
       " 4723,\n",
       " 4724,\n",
       " 4733,\n",
       " 4736,\n",
       " 4760,\n",
       " 4762,\n",
       " 4778,\n",
       " 4810,\n",
       " 4821,\n",
       " 4822,\n",
       " 4827,\n",
       " 4831,\n",
       " 4839,\n",
       " 4848,\n",
       " 4849,\n",
       " 4855,\n",
       " 4859,\n",
       " 4880,\n",
       " 4887,\n",
       " 4889,\n",
       " 4897,\n",
       " 4901,\n",
       " 4918,\n",
       " 4927,\n",
       " 4932,\n",
       " 4936,\n",
       " 4975,\n",
       " 4980,\n",
       " 5004,\n",
       " 5008,\n",
       " 5011,\n",
       " 5032,\n",
       " 5037,\n",
       " 5038,\n",
       " 5043,\n",
       " 5055,\n",
       " 5056,\n",
       " 5063,\n",
       " 5065,\n",
       " 5079,\n",
       " 5082,\n",
       " 5088,\n",
       " 5095,\n",
       " 5096,\n",
       " 5098,\n",
       " 5133,\n",
       " 5138,\n",
       " 5140,\n",
       " 5146,\n",
       " 5150,\n",
       " 5157,\n",
       " 5162,\n",
       " 5165,\n",
       " 5166,\n",
       " 5176,\n",
       " 5180,\n",
       " 5194,\n",
       " 5201,\n",
       " 5212,\n",
       " 5219,\n",
       " 5221,\n",
       " 5228,\n",
       " 5230,\n",
       " 5251,\n",
       " 5252,\n",
       " 5283,\n",
       " 5286,\n",
       " 5291,\n",
       " 5318,\n",
       " 5325,\n",
       " 5358,\n",
       " 5362,\n",
       " 5365,\n",
       " 5373,\n",
       " 5378,\n",
       " 5386,\n",
       " 5422,\n",
       " 5423,\n",
       " 5426,\n",
       " 5429,\n",
       " 5436,\n",
       " 5438,\n",
       " 5451,\n",
       " 5459,\n",
       " 5480,\n",
       " 5489,\n",
       " 5492,\n",
       " 5513,\n",
       " 5557,\n",
       " 5560,\n",
       " 5563,\n",
       " 5567,\n",
       " 5573,\n",
       " 5574,\n",
       " 5588,\n",
       " 5639,\n",
       " 5645,\n",
       " 5647,\n",
       " 5656,\n",
       " 5662,\n",
       " 5672,\n",
       " 5677,\n",
       " 5682,\n",
       " 5683,\n",
       " 5698,\n",
       " 5720,\n",
       " 5721,\n",
       " 5744,\n",
       " 5770,\n",
       " 5772,\n",
       " 5775,\n",
       " 5778,\n",
       " 5823,\n",
       " 5841,\n",
       " 5862,\n",
       " 5870,\n",
       " 5872,\n",
       " 5899,\n",
       " 5900,\n",
       " 5913,\n",
       " 5919,\n",
       " 5939,\n",
       " 5955,\n",
       " 5962,\n",
       " 5969,\n",
       " 5987,\n",
       " 5990,\n",
       " 6006,\n",
       " 6012,\n",
       " 6015,\n",
       " 6054,\n",
       " 6077,\n",
       " 6092,\n",
       " 6130,\n",
       " 6142,\n",
       " 6148,\n",
       " 6156,\n",
       " 6160,\n",
       " 6178,\n",
       " 6179,\n",
       " 6184,\n",
       " 6194,\n",
       " 6195,\n",
       " 6210,\n",
       " 6212,\n",
       " 6223,\n",
       " 6250,\n",
       " 6295,\n",
       " 6299,\n",
       " 6310,\n",
       " 6312,\n",
       " 6336,\n",
       " 6352,\n",
       " 6358,\n",
       " 6368,\n",
       " 6382,\n",
       " 6395,\n",
       " 6402,\n",
       " 6403,\n",
       " 6404,\n",
       " 6434,\n",
       " 6454,\n",
       " 6466,\n",
       " 6468,\n",
       " 6480,\n",
       " 6482,\n",
       " 6484,\n",
       " 6490,\n",
       " 6496,\n",
       " 6501,\n",
       " 6505,\n",
       " 6510,\n",
       " 6511,\n",
       " 6512,\n",
       " 6521,\n",
       " 6522,\n",
       " 6537,\n",
       " 6541,\n",
       " 6547,\n",
       " 6558,\n",
       " 6568,\n",
       " 6571,\n",
       " 6582,\n",
       " 6590,\n",
       " 6608,\n",
       " 6609,\n",
       " 6616,\n",
       " 6675,\n",
       " 6676,\n",
       " 6681,\n",
       " 6695,\n",
       " 6700,\n",
       " 6711,\n",
       " 6713,\n",
       " 6714,\n",
       " 6723,\n",
       " 6725,\n",
       " 6735,\n",
       " 6738,\n",
       " 6744,\n",
       " 6745]"
      ]
     },
     "execution_count": 33,
     "metadata": {},
     "output_type": "execute_result"
    }
   ],
   "source": [
    "list"
   ]
  },
  {
   "cell_type": "code",
   "execution_count": 35,
   "metadata": {
    "collapsed": false
   },
   "outputs": [],
   "source": [
    "df = df.drop(list)"
   ]
  },
  {
   "cell_type": "markdown",
   "metadata": {},
   "source": [
    "**7. (1 балл)** Обратите внимание, что признаки DepTime, CRSDepTime, ArrTime, CRSArrTime приведены в формате hhmm, в связи с чем будет не вполне корректно рассматривать их как вещественные.\n",
    "\n",
    "Преобразуйте каждый признак FeatureName из указанных в пару новых признаков FeatureName\\_Hour, FeatureName\\_Minute, разделив каждое из значений на часы и минуты. Не забудьте при этом исключить исходный признак из выборки. В случае, если значение признака отсутствует, значения двух новых признаков, его заменяющих, также должны отсутствовать. \n",
    "\n",
    "Например, признак DepTime необходимо заменить на пару признаков DepTime_Hour, DepTime_Minute. При этом, например, значение 155 исходного признака будет преобразовано в значения 1 и 55 признаков DepTime_Hour, DepTime_Minute соответственно."
   ]
  },
  {
   "cell_type": "code",
   "execution_count": 36,
   "metadata": {
    "collapsed": false
   },
   "outputs": [],
   "source": [
    "df[\"DepTime_Hour\"] = np.nan\n",
    "df[\"DepTime_Minute\"] = np.nan\n",
    "df[\"CRSDepTime_Hour\"] = np.nan\n",
    "df[\"CRSDepTime_Minute\"] = np.nan\n",
    "df[\"ArrTime_Hour\"] = np.nan\n",
    "df[\"ArrTime_Minute\"] = np.nan\n",
    "df[\"CRSArrTime_Hour\"] = np.nan\n",
    "df[\"CRSArrTime_Minute\"] = np.nan"
   ]
  },
  {
   "cell_type": "code",
   "execution_count": 37,
   "metadata": {
    "collapsed": false
   },
   "outputs": [],
   "source": [
    "import math\n",
    "def string_length(str1):\n",
    "    count = 0\n",
    "    for char in str1:\n",
    "        count += 1\n",
    "    return count\n",
    "def convert(X):\n",
    "    for i in range(len(df.index)):\n",
    "        cell = df.iloc[i][X]\n",
    "        if math.isnan(cell) == False:\n",
    "            if cell == 0:\n",
    "                cell = ''.join(('0000', cell))\n",
    "            cell = int(cell)\n",
    "            cell = str(cell)\n",
    "            if string_length(cell) == 1:\n",
    "                cell = ''.join(('000', cell))\n",
    "            if string_length(cell) == 2:\n",
    "                cell = ''.join(('00', cell))\n",
    "            if string_length(cell) == 3:\n",
    "                cell = ''.join(('0', cell))\n",
    "            df.set_value(i, X + '_Hour', float(cell[:2]))\n",
    "            df.set_value(i, X + '_Minute', float(cell[2:]))"
   ]
  },
  {
   "cell_type": "code",
   "execution_count": 38,
   "metadata": {
    "collapsed": false
   },
   "outputs": [],
   "source": [
    "convert(\"DepTime\")\n",
    "convert(\"CRSDepTime\")\n",
    "convert(\"ArrTime\")\n",
    "convert(\"CRSArrTime\")"
   ]
  },
  {
   "cell_type": "markdown",
   "metadata": {},
   "source": [
    "**8. (0.5 балла)** Некоторые из признаков, отличных от целевой переменной, могут оказывать чересчур значимое влияние на прогноз, поскольку по своему смыслу содержат большую долю информации о значении целевой переменной. Изучите описание датасета и исключите признаки, сильно коррелирующие с ответами. Ваш выбор признаков для исключения из выборки обоснуйте. Кроме того, исключите признаки TailNum и Year."
   ]
  },
  {
   "cell_type": "code",
   "execution_count": 56,
   "metadata": {
    "collapsed": false
   },
   "outputs": [
    {
     "data": {
      "text/plain": [
       "['ArrDelay', 'DepDelay', 'CarrierDelay', 'LateAircraftDelay']"
      ]
     },
     "execution_count": 56,
     "metadata": {},
     "output_type": "execute_result"
    }
   ],
   "source": [
    "#Diverted, CarrierDelay, WeatherDelay, NASDelay, SecurityDelay, LateAircraftDelay\n",
    "t = df.corr(method='pearson', min_periods=1)\n",
    "list2 = []\n",
    "for i in range(len(t.columns)):\n",
    "    if t.iloc[13][i] > 0.5 or t.iloc[13][i] < -0.5:\n",
    "        list2.append(t.columns[i])\n",
    "list2"
   ]
  },
  {
   "cell_type": "markdown",
   "metadata": {},
   "source": [
    "Выше указан список признаков, которые по моему мнению нужно удалить (кроме DepDelay): они в достаточной степени скоррелированы с целевой переменной."
   ]
  },
  {
   "cell_type": "code",
   "execution_count": 61,
   "metadata": {
    "collapsed": false
   },
   "outputs": [],
   "source": [
    "df = df.drop(['ArrDelay', 'CarrierDelay', 'LateAircraftDelay'], axis=1)\n",
    "df = df.drop([\"TailNum\", \"Year\"], axis=1)"
   ]
  },
  {
   "cell_type": "markdown",
   "metadata": {},
   "source": []
  },
  {
   "cell_type": "markdown",
   "metadata": {},
   "source": [
    "Приведем данные к виду, пригодному для обучения линейных моделей. Для этого вещественные признаки надо отмасштабировать, а категориальные — привести к числовому виду. Также надо устранить пропуски в данных."
   ]
  },
  {
   "cell_type": "code",
   "execution_count": null,
   "metadata": {
    "collapsed": true
   },
   "outputs": [],
   "source": []
  },
  {
   "cell_type": "markdown",
   "metadata": {},
   "source": [
    "**9*. (1 бонусный балл) ** В первую очередь поймем, зачем необходимо применять масштабирование. Следующие ячейки с кодом построят гистограммы для 3 вещественных признаков выборки."
   ]
  },
  {
   "cell_type": "code",
   "execution_count": null,
   "metadata": {
    "collapsed": false,
    "scrolled": true
   },
   "outputs": [],
   "source": [
    "X['DepTime_Hour'].hist(bins=20)"
   ]
  },
  {
   "cell_type": "code",
   "execution_count": null,
   "metadata": {
    "collapsed": false
   },
   "outputs": [],
   "source": [
    "X['TaxiIn'].hist(bins=20)"
   ]
  },
  {
   "cell_type": "code",
   "execution_count": null,
   "metadata": {
    "collapsed": false
   },
   "outputs": [],
   "source": [
    "X['FlightNum'].hist(bins=20)"
   ]
  },
  {
   "cell_type": "markdown",
   "metadata": {},
   "source": [
    "Какую проблему вы наблюдаете на этих графиках? Как масштабирование поможет её исправить?"
   ]
  },
  {
   "cell_type": "raw",
   "metadata": {},
   "source": []
  },
  {
   "cell_type": "markdown",
   "metadata": {},
   "source": [
    "**10. (1 балл)** Вдобавок к масштабированию, некоторые из признаков в нашем датасете являются категориальными. Типичным подходом к работе с ними является бинарное, или [one-hot-кодирование](https://en.wikipedia.org/wiki/One-hot).\n",
    "\n",
    "\n",
    "Реализуйте функцию transform_data, которая принимает на вход DataFrame с признаками и выполняет следующие шаги:\n",
    "1. Замена пропущенных значений на нули для вещественных признаков и на строки 'nan' для категориальных.\n",
    "2. Масштабирование вещественных признаков с помощью [StandardScaler](http://scikit-learn.org/stable/modules/generated/sklearn.preprocessing.StandardScaler.html).\n",
    "3. One-hot-кодирование категориальных признаков с помощью [DictVectorizer](http://scikit-learn.org/stable/modules/generated/sklearn.feature_extraction.DictVectorizer.html) или функции [pd.get_dummies](http://pandas.pydata.org/pandas-docs/stable/generated/pandas.get_dummies.html).\n",
    "\n",
    "Метод должен возвращать преобразованный DataFrame, который должна состоять из масштабированных вещественных признаков и закодированных категориальных (исходные признаки должны быть исключены из выборки)."
   ]
  },
  {
   "cell_type": "code",
   "execution_count": null,
   "metadata": {
    "collapsed": true
   },
   "outputs": [],
   "source": [
    "def transform_data(data):\n",
    "    # Your code here"
   ]
  },
  {
   "cell_type": "markdown",
   "metadata": {},
   "source": [
    "Примените функцию transform_data к данным. Сколько признаков получилось после преобразования?"
   ]
  },
  {
   "cell_type": "code",
   "execution_count": null,
   "metadata": {
    "collapsed": true
   },
   "outputs": [],
   "source": [
    "# Your code here"
   ]
  },
  {
   "cell_type": "markdown",
   "metadata": {},
   "source": [
    "**11. (0.75 балла)** Разбейте выборку и вектор целевой переменной на обучение и контроль в отношении 70/30 (для этого можно использовать, например, функцию [train_test_split](http://scikit-learn.org/stable/modules/generated/sklearn.cross_validation.train_test_split.html)). "
   ]
  },
  {
   "cell_type": "code",
   "execution_count": null,
   "metadata": {
    "collapsed": true
   },
   "outputs": [],
   "source": [
    "# Your code here"
   ]
  },
  {
   "cell_type": "markdown",
   "metadata": {},
   "source": [
    "### Scikit-learn\n",
    "\n",
    "<img src = \"https://pp.vk.me/c4534/u35727827/93547647/x_d31c4463.jpg\">\n",
    "Теперь, когда мы привели данные к пригодному виду, попробуем решить задачу при помощи метода наименьших квадратов. Напомним, что данный метод заключается в оптимизации функционала $MSE$:\n",
    "\n",
    "$$MSE(X, y) = \\frac{1}{l} \\sum_{i=1}^l (<w, x_i> - y_i)^2 \\to \\min_{w},$$\n",
    "\n",
    "где $\\{ (x_i, y_i ) \\}_{i=1}^l$ — обучающая выборка, состоящая из $l$ пар объект-ответ.\n",
    "\n",
    "Заметим, что решение данной задачи уже реализовано в модуле sklearn в виде класса [LinearRegression](http://scikit-learn.org/stable/modules/generated/sklearn.linear_model.LinearRegression.html#sklearn.linear_model.LinearRegression).\n",
    "\n",
    "**12. (0.5 балла)** Обучите линейную регрессию на 1000 объектах из обучающей выборки и выведите значения $MSE$ и $R^2$ на этой подвыборке и контрольной выборке (итого 4 различных числа). Проинтерпретируйте полученный результат — насколько качественные прогнозы строит полученная модель? Какие проблемы наблюдаются в модели?\n",
    "\n",
    "**Подсказка**: изучите значения полученных коэффициентов $w$, сохраненных в атрибуте coef_ объекта LinearRegression."
   ]
  },
  {
   "cell_type": "code",
   "execution_count": null,
   "metadata": {
    "collapsed": true
   },
   "outputs": [],
   "source": [
    "# Your code here"
   ]
  },
  {
   "cell_type": "markdown",
   "metadata": {
    "collapsed": true
   },
   "source": [
    "Для решения описанных вами в предыдущем пункте проблем используем L1- или L2-регуляризацию, тем самым получив Lasso и Ridge регрессии соответственно и изменив оптимизационную задачу одним из следующих образов:\n",
    "$$MSE_{L1}(X, y) = \\frac{1}{l} \\sum_{i=1}^l (<w, x_i> - y_i)^2 + \\alpha ||w||_1 \\to \\min_{w},$$\n",
    "$$MSE_{L2}(X, y) = \\frac{1}{l} \\sum_{i=1}^l (<w, x_i> - y_i)^2 + \\alpha ||w||_2^2 \\to \\min_{w},$$\n",
    "\n",
    "где $\\alpha$ — коэффициент регуляризации. Один из способов его подбора заключается в переборе некоторого количества значений и оценке качества на кросс-валидации для каждого из них, после чего выбирается значение, для которого было получено наилучшее качество.\n",
    "\n",
    "**13. (1 балл)** Обучите линейные регрессии с L1- и L2-регуляризатором, подобрав лучшее значение параметра регуляризации из списка alpha_grid при помощи кросс-валидации c 5 фолдами на тех же 1000 объектах, что и в п.12. Выведите значения $MSE$ и $R^2$ на обучающей и контрольной выборках. Удалось ли решить указанные вами ранее проблемы?\n",
    "\n",
    "Для выполнения данного задания вам могут понадобиться реализованные в библиотеке объекты [LassoCV](http://scikit-learn.org/stable/modules/generated/sklearn.linear_model.LassoCV.html), [RidgeCV](http://scikit-learn.org/stable/modules/generated/sklearn.linear_model.RidgeCV.html) и [KFold](http://scikit-learn.org/stable/modules/generated/sklearn.cross_validation.KFold.html).\n"
   ]
  },
  {
   "cell_type": "code",
   "execution_count": null,
   "metadata": {
    "collapsed": false
   },
   "outputs": [],
   "source": [
    "# Your code here"
   ]
  },
  {
   "cell_type": "markdown",
   "metadata": {},
   "source": [
    "### Градиентный спуск\n",
    "\n",
    "В предыдущем разделе мы использовали существующие реализации методов обучения линейной регрессии с регуляризацией и без. Тем не менее, подобные реализации, как правило, имеются лишь для ограниченного набора стандартных методов. В частности, при выходе функционала качества за пределы стандартного множества необходимо самостоятельно реализовывать составляющие процесса решения оптимизационной задачи. Именно этому и посвящен данный раздел задания.\n",
    "\n",
    "Пусть необходимо минимизировать следующий функционал (Mean Square Percentage Error — модифицированный [RMSPE](https://www.kaggle.com/c/rossmann-store-sales/details/evaluation)):\n",
    "$$MSPE(\\{x_i, y_i\\}_{i=1}^l, \\, w) = \\frac{1}{l}\\sum_{i=1}^l \\left( \\frac{y_i - \\langle w, x_i \\rangle }{y_i} \\right)^2,$$\n",
    "\n",
    "где $\\{x_i, y_i\\}_{i=1}^l$ — обучающая выборка, $w$ — вектор весов линейной модели. Будем также рассматривать функционал $MSPE$ с L2-регуляризацией:\n",
    "\n",
    "$$MSPE(\\{x_i, y_i\\}_{i=1}^l, \\, w) = \\frac{1}{l}\\sum_{i=1}^l \\left( \\frac{y_i - \\langle w, x_i \\rangle }{y_i} \\right)^2 + ||w||_2^2.$$\n",
    "\n",
    "**14. (0 баллов)** Добавьте к объектам обеих выборок из п. 11 единичный признак."
   ]
  },
  {
   "cell_type": "code",
   "execution_count": null,
   "metadata": {
    "collapsed": true
   },
   "outputs": [],
   "source": [
    "# Your code here"
   ]
  },
  {
   "cell_type": "markdown",
   "metadata": {},
   "source": [
    "**15. (1 балл)** Реализуйте функции, которые вычисляют:\n",
    " * прогнозы линейной модели;\n",
    " * функционал $MSPE$ и его градиент;\n",
    " * регуляризованный $MSPE$ и его градиент."
   ]
  },
  {
   "cell_type": "code",
   "execution_count": null,
   "metadata": {
    "collapsed": true
   },
   "outputs": [],
   "source": [
    "# возвращает вектор прогнозов линейной модели с вектором весов w для выборки X\n",
    "def make_pred(X, w):\n",
    "    pass"
   ]
  },
  {
   "cell_type": "code",
   "execution_count": null,
   "metadata": {
    "collapsed": true
   },
   "outputs": [],
   "source": [
    "# возвращает значение функционала MSPE для выборки (X, y) и вектора весов w\n",
    "def get_func(w, X, y):\n",
    "    pass"
   ]
  },
  {
   "cell_type": "code",
   "execution_count": null,
   "metadata": {
    "collapsed": true
   },
   "outputs": [],
   "source": [
    "# возвращает градиент функционала MSPE для выборки (X, y) и вектора весов w\n",
    "def get_grad(w, X, y):\n",
    "    pass"
   ]
  },
  {
   "cell_type": "code",
   "execution_count": null,
   "metadata": {
    "collapsed": true
   },
   "outputs": [],
   "source": [
    "# возвращает значение регуляризованного функционала MSPE для выборки (X, y) и вектора весов w\n",
    "def get_reg_func(w, X, y):\n",
    "    pass"
   ]
  },
  {
   "cell_type": "code",
   "execution_count": null,
   "metadata": {
    "collapsed": true
   },
   "outputs": [],
   "source": [
    "# возвращает градиент регуляризованного функционала MSPE для выборки (X, y) и вектора весов w\n",
    "def get_reg_grad(w, X, y):\n",
    "    pass"
   ]
  },
  {
   "cell_type": "markdown",
   "metadata": {},
   "source": [
    "**16. (1 балл)** Реализуйте метод градиентного спуска для описанных функционалов ($MSPE$ и его регуляризованный вариант). Функция должна принимать следующие параметры:\n",
    " - X — матрица \"объект-признак\";\n",
    " - y — вектор целевой переменной;\n",
    " - w0 — начальное значение вектора весов;\n",
    " - step_size — значение темпа обучения;\n",
    " - max_iter — максимальное число итераций;\n",
    " - eps — значение, используемое в критерии останова;\n",
    " - is_reg — бинарный параметр, принимает значение True в случае наличия регуляризации функционала, False — в противном случае.\n",
    " \n",
    "Процесс должен быть остановлен, если выполнено хотя бы одно из следующих условий:\n",
    " - было выполнено заданное количество итераций max_iter;\n",
    " - евклидова норма разности векторов $w$ на соседних итерациях стала меньше, чем eps.\n",
    "\n",
    "Функция должна возвращать полученный в результате оптимизации вектор $w$ и список значений функционала на каждой итерации."
   ]
  },
  {
   "cell_type": "code",
   "execution_count": null,
   "metadata": {
    "collapsed": true
   },
   "outputs": [],
   "source": [
    "def grad_descent(X, y, step_size, max_iter, eps, is_reg):\n",
    "    # Your code here"
   ]
  },
  {
   "cell_type": "markdown",
   "metadata": {},
   "source": [
    "Обучите линейную регрессию с функционалом $MSPE$ на обучающей выборке при помощи метода градиентного спуска и изобразите кривые зависимости значения функционала от номера итерации для различных:\n",
    " * значений размера шага из набора [0.001, 1, 10];\n",
    " * способов начальной инициализации вектора весов (нули, случайные веса).\n",
    "\n",
    "Проанализируйте полученные результаты — влияют ли данные параметры на скорость сходимости и итоговое качество? Если да, то как?"
   ]
  },
  {
   "cell_type": "code",
   "execution_count": null,
   "metadata": {
    "collapsed": true
   },
   "outputs": [],
   "source": [
    "# Your code here"
   ]
  },
  {
   "cell_type": "markdown",
   "metadata": {},
   "source": [
    "**17. (0.5 балла)** Обучите линейную регрессию с функционалом MSPE и его регуляризованным вариантом на обучающей выборке при помощи метода градиентного спуска и изобразите кривые зависимости значения функционала от номера итерации. Исследуйте зависимость скорости сходимости от наличия регуляризации. Обоснуйте, почему так происходит."
   ]
  },
  {
   "cell_type": "code",
   "execution_count": null,
   "metadata": {
    "collapsed": true
   },
   "outputs": [],
   "source": [
    "# Your code here"
   ]
  },
  {
   "cell_type": "markdown",
   "metadata": {},
   "source": [
    "Метод градиентного спуска может быть весьма трудозатратен в случае большого размера обучающей выборки. Поэтому часто используют метод стохастического градиентного спуска, где на каждой итерации выбирается случайный объект из обучающей выборки и обновление весов происходит только по этому объекту. \n",
    "\n",
    "**18*. (1 бонусный балл)**  Реализуйте метод стохастического градиентного спуска (SGD) для описанных функционалов ($MSPE$ и его регуляризованный вариант). Функция должна иметь параметры и возвращаемое значение, аналогичные оным функции grad\\_descent из п.21. Кроме того, должен использоваться аналогичный критерий останова."
   ]
  },
  {
   "cell_type": "code",
   "execution_count": null,
   "metadata": {
    "collapsed": true
   },
   "outputs": [],
   "source": [
    "def sgd(X, y, step_size, max_iter, eps, is_reg):\n",
    "    # Your code here"
   ]
  },
  {
   "cell_type": "markdown",
   "metadata": {},
   "source": [
    "Обучите линейную регрессию с функционалом $MSPE$ и его регуляризованным вариантом на обучающей выборке при помощи метода стохастического градиентного спуска, подобрав при этом размер шага, при котором метод будет сходиться. Нарисуйте график сходимости. Выведите значения $MSPE, MSE, R^2$ на контрольной выборке."
   ]
  },
  {
   "cell_type": "code",
   "execution_count": null,
   "metadata": {
    "collapsed": true
   },
   "outputs": [],
   "source": [
    "# Your code here"
   ]
  },
  {
   "cell_type": "markdown",
   "metadata": {},
   "source": [
    "**19*. (0.5 бонусного балла)** Аналогично п.17 исследуйте зависимость скорости сходимости метода SGD от наличия регуляризации. Обоснуйте, почему так происходит."
   ]
  },
  {
   "cell_type": "code",
   "execution_count": null,
   "metadata": {
    "collapsed": true
   },
   "outputs": [],
   "source": [
    "# Your code here"
   ]
  },
  {
   "cell_type": "markdown",
   "metadata": {},
   "source": [
    "**20. (0.5 балла)** Обучите стандартную линейную регрессию с функционалом качества MSE на обучающей выборке и выведите значение MSPE полученного решения на контрольной выборке. Как оно соотносится с аналогичным результатом для решения, полученного в п.17? Почему?"
   ]
  },
  {
   "cell_type": "code",
   "execution_count": null,
   "metadata": {
    "collapsed": true
   },
   "outputs": [],
   "source": [
    "# Your code here"
   ]
  }
 ],
 "metadata": {
  "anaconda-cloud": {},
  "kernelspec": {
   "display_name": "Python [Root]",
   "language": "python",
   "name": "Python [Root]"
  },
  "language_info": {
   "codemirror_mode": {
    "name": "ipython",
    "version": 3
   },
   "file_extension": ".py",
   "mimetype": "text/x-python",
   "name": "python",
   "nbconvert_exporter": "python",
   "pygments_lexer": "ipython3",
   "version": "3.5.2"
  }
 },
 "nbformat": 4,
 "nbformat_minor": 0
}
