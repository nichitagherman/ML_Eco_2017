{
 "cells": [
  {
   "cell_type": "markdown",
   "metadata": {},
   "source": [
    "## HW_2 Ishmaeva Bella"
   ]
  },
  {
   "cell_type": "code",
   "execution_count": 6,
   "metadata": {
    "collapsed": true
   },
   "outputs": [],
   "source": [
    "import numpy as np\n",
    "import pandas as pd\n",
    "from matplotlib import pyplot as plt\n",
    "% matplotlib inline"
   ]
  },
  {
   "cell_type": "markdown",
   "metadata": {},
   "source": [
    "**1. (0.3 балла)** Реализуйте функцию, возвращающую максимальный элемент в векторе x среди элементов, перед которыми стоит нулевой. Для x = np.array([6, 2, 0, 3, 0, 0, 5, 7, 0]) ответом является 5. Если нулевых элементов нет, функция должна возвращать None.\n"
   ]
  },
  {
   "cell_type": "code",
   "execution_count": 7,
   "metadata": {
    "collapsed": false
   },
   "outputs": [
    {
     "data": {
      "text/plain": [
       "5"
      ]
     },
     "execution_count": 7,
     "metadata": {},
     "output_type": "execute_result"
    }
   ],
   "source": [
    "def max_element(arr):\n",
    "    index = np.where(arr == 0)[0] + 1\n",
    "    if not index.any():\n",
    "        return \"None\"\n",
    "    else:\n",
    "        index = index[np.where(index < len(arr))]\n",
    "        res = arr[index].max()\n",
    "        return res\n",
    "    return \n",
    " \n",
    "\n",
    "arr = np.array([6, 2, 0, 3, 0, 0, 5, 7, 0])     \n",
    "max_element(arr)"
   ]
  },
  {
   "cell_type": "markdown",
   "metadata": {},
   "source": [
    "**2. (0.3 балла)** Реализуйте функцию, принимающую на вход матрицу и некоторое число и возвращающую ближайший к числу элемент матрицы. Например: для X = np.arange(0,10).reshape((2, 5)) и v = 3.6 ответом будет 4."
   ]
  },
  {
   "cell_type": "code",
   "execution_count": 8,
   "metadata": {
    "collapsed": false
   },
   "outputs": [
    {
     "data": {
      "text/plain": [
       "4"
      ]
     },
     "execution_count": 8,
     "metadata": {},
     "output_type": "execute_result"
    }
   ],
   "source": [
    "def nearest_value(X, v):\n",
    "    y = np.abs(X - v)\n",
    "    res = X[np.where(y == np.min(y))][0]\n",
    "    return res\n",
    "    \n",
    "x = np.arange(0,10).reshape((2, 5))\n",
    "v = 3.6   \n",
    "\n",
    "nearest_value(x,v)"
   ]
  },
  {
   "cell_type": "markdown",
   "metadata": {},
   "source": [
    "**3. (0.3 балла)** Реализуйте функцию scale(X), которая принимает на вход матрицу и масштабирует каждый ее столбец (вычитает выборочное среднее и делит на стандартное отклонение). Убедитесь, что в функции не будет происходить деления на ноль. Протестируйте на случайной матрице (для её генерации можно использовать, например, функцию [numpy.random.randint](http://docs.scipy.org/doc/numpy/reference/generated/numpy.random.randint.html))."
   ]
  },
  {
   "cell_type": "code",
   "execution_count": 9,
   "metadata": {
    "collapsed": false
   },
   "outputs": [
    {
     "name": "stdout",
     "output_type": "stream",
     "text": [
      "[[0 1]\n",
      " [1 1]]\n",
      "division by 0\n"
     ]
    }
   ],
   "source": [
    "def scale(X):\n",
    "    X = (X - X.mean(axis = 0))\n",
    "    if 0 not in X.std(axis = 0):\n",
    "        X = X/X.std(axis = 0)\n",
    "        return X\n",
    "    else:\n",
    "        print('division by 0')\n",
    "\n",
    "X = np.random.randint(2, size=(2, 2)) \n",
    "print(X)\n",
    "scale(X)"
   ]
  },
  {
   "cell_type": "markdown",
   "metadata": {},
   "source": [
    "**4. (0.3 балла)** Реализуйте функцию, которая для заданной матрицы находит:\n",
    " - определитель\n",
    " - след\n",
    " - наименьший и наибольший элементы\n",
    " - норму Фробениуса\n",
    " - собственные числа\n",
    " - обратную матрицу\n",
    "\n",
    "Для тестирования сгенерируйте матрицу с элементами из нормального распределения $\\mathcal{N}$(10,1)"
   ]
  },
  {
   "cell_type": "code",
   "execution_count": 10,
   "metadata": {
    "collapsed": false
   },
   "outputs": [
    {
     "name": "stdout",
     "output_type": "stream",
     "text": [
      "det:  -278.325738865\n",
      "trace:  50.8433100716\n",
      "min_value:  8.41058598202\n",
      "max_value:  12.0176119628\n",
      "norm 50.272248806\n",
      "eug_values:  [  5.01174151e+01+0.j           2.09205784e+00+0.j          -1.38682276e+00+0.j\n",
      "   1.03299257e-02+1.38348012j   1.03299257e-02-1.38348012j]\n",
      "eug_vectors:  [[-0.44049626+0.j         -0.34235360+0.j         -0.64375042+0.j\n",
      "  -0.04015611+0.25709868j -0.04015611-0.25709868j]\n",
      " [-0.44413791+0.j         -0.48865461+0.j          0.22772254+0.j\n",
      "   0.69125680+0.j          0.69125680-0.j        ]\n",
      " [-0.46256650+0.j          0.09979587+0.j          0.51144741+0.j\n",
      "  -0.25187139+0.33515349j -0.25187139-0.33515349j]\n",
      " [-0.43275860+0.j         -0.10215526+0.j          0.32908224+0.j\n",
      "  -0.26089691-0.34693745j -0.26089691+0.34693745j]\n",
      " [-0.45547425+0.j          0.78969346+0.j         -0.40478917+0.j\n",
      "  -0.12838474-0.27160506j -0.12838474+0.27160506j]]\n"
     ]
    }
   ],
   "source": [
    "def get_stats(X):\n",
    "    print(\"det: \", np.linalg.det(X))\n",
    "    print(\"trace: \", np.matrix.trace(X))\n",
    "    print(\"min_value: \", X.min())\n",
    "    print(\"max_value: \", X.max())\n",
    "    print(\"norm\", np.linalg.norm(X, ord = 'fro'))\n",
    "    print(\"eug_values: \", np.linalg.eig(X)[0])\n",
    "    print(\"eug_vectors: \", np.linalg.eig(X)[1])\n",
    "    return \n",
    "\n",
    "X = np.random.randn(5, 5) + 10\n",
    "get_stats(X)"
   ]
  },
  {
   "cell_type": "markdown",
   "metadata": {},
   "source": [
    "**5. (0.3 балла)** Повторите 100 раз следующий эксперимент: сгенерируйте две матрицы размера 10×10 из стандартного нормального распределения, перемножьте их (как матрицы) и найдите максимальный элемент. Какое среднее значение по экспериментам у максимальных элементов? 95-процентная квантиль?"
   ]
  },
  {
   "cell_type": "code",
   "execution_count": 11,
   "metadata": {
    "collapsed": false
   },
   "outputs": [
    {
     "name": "stdout",
     "output_type": "stream",
     "text": [
      "Среднее по эксперименту:  8.15228819099\n",
      "95-процентный квантиль:  11.1381928464\n"
     ]
    }
   ],
   "source": [
    "result = np.zeros(100)\n",
    "for exp_num in range(100):\n",
    "    X = np.random.randn(10, 10) \n",
    "    Y = np.random.randn(10, 10) \n",
    "    max_value = np.dot(X, Y).max()\n",
    "    result[exp_num] =  max_value\n",
    "   \n",
    "    \n",
    "print(\"Среднее по эксперименту: \", result.mean())\n",
    "print(\"95-процентный квантиль: \", np.percentile(result, 95))"
   ]
  },
  {
   "cell_type": "markdown",
   "metadata": {},
   "source": [
    "## Линейная регрессия\n",
    "\n",
    "### Подготовка данных\n",
    "\n",
    "**6. (0.75 балла)** Считайте выборку из файла при помощи функции pd.read_csv и ответьте на следующие вопросы:\n",
    "   - Имеются ли в данных пропущенные значения?\n",
    "   - Сколько всего пропущенных элементов в таблице \"объект-признак\"?\n",
    "   - Сколько объектов имеют хотя бы один пропуск?\n",
    "   - Сколько признаков имеют хотя бы одно пропущенное значение?"
   ]
  },
  {
   "cell_type": "code",
   "execution_count": 65,
   "metadata": {
    "collapsed": false
   },
   "outputs": [],
   "source": [
    "df = pd.read_csv(\"2008.csv\")"
   ]
  },
  {
   "cell_type": "code",
   "execution_count": 66,
   "metadata": {
    "collapsed": false
   },
   "outputs": [
    {
     "name": "stdout",
     "output_type": "stream",
     "text": [
      "Все пропуски в df:  355215\n",
      "Пропуски в объясняемых признаках:  353816\n",
      "Кол-во признаков в df хотя бы с одним пропуском:  13\n",
      "Кол-во объектов в df хотя бы с одним пропуском:  70000\n"
     ]
    }
   ],
   "source": [
    "print(\"Все пропуски в df: \", df.isnull().sum().sum())\n",
    "print(\"Пропуски в объясняемых признаках: \", df.drop(\"DepDelay\", axis = 1).isnull().sum().sum())\n",
    "print(\"Кол-во признаков в df хотя бы с одним пропуском: \", df.shape[1] - df.isnull().any(axis=0).sum())\n",
    "print(\"Кол-во объектов в df хотя бы с одним пропуском: \", df.isnull().any(axis=1).sum())"
   ]
  },
  {
   "cell_type": "code",
   "execution_count": 67,
   "metadata": {
    "collapsed": false
   },
   "outputs": [
    {
     "name": "stdout",
     "output_type": "stream",
     "text": [
      "Кол-во пропусков в целевой переменной:  1399\n"
     ]
    }
   ],
   "source": [
    "print(\"Кол-во пропусков в целевой переменной: \", df.DepDelay.isnull().sum())"
   ]
  },
  {
   "cell_type": "markdown",
   "metadata": {},
   "source": [
    "Необходимо посмотреть только на те данные, у которых в целевой перемнной стоят пропуски. \n",
    "\n",
    "В данной [статье](https://medium.com/@numanyilmaz61/handling-missing-data-93d3ce5d0161) автор рассказывает, как можно справляться с пропусками в данных и, в частности, пользуется таблицей из пакета **missingno** (Ссылка на [репозиторий](https://github.com/ResidentMario/missingno)). Мы также воспользуемся такой таблицей.\n"
   ]
  },
  {
   "cell_type": "code",
   "execution_count": 68,
   "metadata": {
    "collapsed": false
   },
   "outputs": [
    {
     "data": {
      "image/png": "[encoded data removed]",
      "text/plain": [
       "<matplotlib.figure.Figure at 0x11c6d2ba8>"
      ]
     },
     "metadata": {},
     "output_type": "display_data"
    }
   ],
   "source": [
    "import missingno as msno \n",
    "%matplotlib inline \n",
    "msno.matrix(df[df.DepDelay.isnull()])"
   ]
  },
  {
   "cell_type": "markdown",
   "metadata": {},
   "source": [
    "Можно увидеть, что если переменная Cancelled и CancellationCode принимает ненулевое значение, все перечисленные выше переменные, включая нашу целевую, будут NaN. Так как мы все равно удаляем все нулевые и пропущенные значения DepDelay, эти две переменные можно исключить из рассмотрения.\n",
    "\n",
    "Стоит также отметить, что пропуски в DepDelay имеют место тогда же, когда и пропуски в переменных: DepTime, ArrTime, ActualElapseTime, AirTime, ArrDelay, TaxiIn, TaxiOut, CarrierDelay, WeatherDelay, NASDelay, SequrityDelay, LateAircraftDelay. То есть в тех случаях, когда отсутствуют данные по actual временным характеристикам рейса (реальное время полета, прибытия, таксировани и тд), то мы видим пропуски во всех этих переменных одновременно.\n",
    "\n"
   ]
  },
  {
   "cell_type": "code",
   "execution_count": 69,
   "metadata": {
    "collapsed": false
   },
   "outputs": [],
   "source": [
    "df = df.dropna(subset=[\"DepDelay\"])\n",
    "df = df[df.DepDelay != 0]\n",
    "\n",
    "df = df.drop([\"Cancelled\", \"CancellationCode\"], axis = 1)\n",
    "\n",
    "X = df.drop(\"DepDelay\", axis = 1)\n",
    "y = df.DepDelay"
   ]
  },
  {
   "cell_type": "code",
   "execution_count": null,
   "metadata": {
    "collapsed": true
   },
   "outputs": [],
   "source": []
  },
  {
   "cell_type": "code",
   "execution_count": null,
   "metadata": {
    "collapsed": true
   },
   "outputs": [],
   "source": []
  },
  {
   "cell_type": "code",
   "execution_count": null,
   "metadata": {
    "collapsed": true
   },
   "outputs": [],
   "source": []
  },
  {
   "cell_type": "markdown",
   "metadata": {},
   "source": [
    "**7. (1 балл)** Обратите внимание, что признаки DepTime, CRSDepTime, ArrTime, CRSArrTime приведены в формате hhmm, в связи с чем будет не вполне корректно рассматривать их как вещественные.\n",
    "\n",
    "Преобразуйте каждый признак FeatureName из указанных в пару новых признаков FeatureName\\_Hour, FeatureName\\_Minute, разделив каждое из значений на часы и минуты. Не забудьте при этом исключить исходный признак из выборки. В случае, если значение признака отсутствует, значения двух новых признаков, его заменяющих, также должны отсутствовать. \n",
    "\n",
    "Например, признак DepTime необходимо заменить на пару признаков DepTime_Hour, DepTime_Minute. При этом, например, значение 155 исходного признака будет преобразовано в значения 1 и 55 признаков DepTime_Hour, DepTime_Minute соответственно."
   ]
  },
  {
   "cell_type": "code",
   "execution_count": 70,
   "metadata": {
    "collapsed": false
   },
   "outputs": [
    {
     "data": {
      "text/plain": [
       "DepTime         0\n",
       "CRSDepTime      0\n",
       "ArrTime       140\n",
       "CRSArrTime      0\n",
       "dtype: int64"
      ]
     },
     "execution_count": 70,
     "metadata": {},
     "output_type": "execute_result"
    }
   ],
   "source": [
    "features = ['DepTime', 'CRSDepTime', 'ArrTime', 'CRSArrTime']\n",
    "X[features].isnull().sum()"
   ]
  },
  {
   "cell_type": "code",
   "execution_count": 71,
   "metadata": {
    "collapsed": false
   },
   "outputs": [],
   "source": [
    "for i in features:\n",
    "    col_hour = i + \"_Hour\"\n",
    "    col_minute = i + \"_Minute\"\n",
    "    if i != \"ArrTime\":\n",
    "        X[col_hour] = [int(X[i].iloc[j]//100) for j in range(X.shape[0])]\n",
    "        X[col_minute] = [int(X[i].iloc[j] - (X[i].iloc[j]//100)*100) for j in range(X.shape[0])]\n",
    "    \n",
    "    else:\n",
    "        hour = []\n",
    "        minute = []\n",
    "        \n",
    "        for j in range(X.shape[0]):\n",
    "            if X[i].iloc[j] == X[i].iloc[j]:\n",
    "                hour.append(int(X[i].iloc[j]//100))\n",
    "                minute.append(int(X[i].iloc[j] - (X[i].iloc[j]//100)*100))\n",
    "            else:\n",
    "                hour.append(float(\"NaN\"))\n",
    "                minute.append(float(\"NaN\"))\n",
    "        \n",
    "        X[col_hour] = hour\n",
    "        X[col_minute] = minute"
   ]
  },
  {
   "cell_type": "code",
   "execution_count": 72,
   "metadata": {
    "collapsed": true
   },
   "outputs": [],
   "source": [
    "X= X.drop(features, axis = 1)"
   ]
  },
  {
   "cell_type": "code",
   "execution_count": null,
   "metadata": {
    "collapsed": true
   },
   "outputs": [],
   "source": []
  },
  {
   "cell_type": "code",
   "execution_count": null,
   "metadata": {
    "collapsed": true
   },
   "outputs": [],
   "source": []
  },
  {
   "cell_type": "code",
   "execution_count": null,
   "metadata": {
    "collapsed": true
   },
   "outputs": [],
   "source": []
  },
  {
   "cell_type": "markdown",
   "metadata": {},
   "source": [
    "**8. (0.5 балла)** Некоторые из признаков, отличных от целевой переменной, могут оказывать чересчур значимое влияние на прогноз, поскольку по своему смыслу содержат большую долю информации о значении целевой переменной. Изучите описание датасета и исключите признаки, сильно коррелирующие с ответами. Ваш выбор признаков для исключения из выборки обоснуйте. Кроме того, исключите признаки TailNum и Year."
   ]
  },
  {
   "cell_type": "markdown",
   "metadata": {},
   "source": [
    "**ArrTime, CRSArrTime, AirTime, ArrDelay** - переменные связанные с прибытием самолета в пункт назначения. Это просиходит после DepDelay, поэтому скорее отражает его результат, но не объясняет целевую переменную\n",
    "**SecurityDelay, CarrierDelay, WeatherDelay, NASDelay, LateAircraftDelay** - переменные напрямую влияющие (определяющие размер) DepDelay. Если имеются эти данные задача предсказания  DepDelay теряет смысл."
   ]
  },
  {
   "cell_type": "code",
   "execution_count": 73,
   "metadata": {
    "collapsed": false
   },
   "outputs": [],
   "source": [
    "X = X.drop([\"TailNum\",\"Year\"], axis = 1)\n",
    "X = X.drop(['ArrDelay', 'AirTime', 'ArrDelay', 'SecurityDelay', 'CarrierDelay','WeatherDelay', 'NASDelay', 'LateAircraftDelay'], axis = 1)"
   ]
  },
  {
   "cell_type": "code",
   "execution_count": null,
   "metadata": {
    "collapsed": true
   },
   "outputs": [],
   "source": []
  },
  {
   "cell_type": "code",
   "execution_count": null,
   "metadata": {
    "collapsed": true
   },
   "outputs": [],
   "source": []
  },
  {
   "cell_type": "code",
   "execution_count": null,
   "metadata": {
    "collapsed": true
   },
   "outputs": [],
   "source": []
  },
  {
   "cell_type": "markdown",
   "metadata": {},
   "source": [
    "**9*. (1 бонусный балл) ** В первую очередь поймем, зачем необходимо применять масштабирование. Следующие ячейки с кодом построят гистограммы для 3 вещественных признаков выборки."
   ]
  },
  {
   "cell_type": "code",
   "execution_count": 74,
   "metadata": {
    "collapsed": false,
    "scrolled": true
   },
   "outputs": [
    {
     "data": {
      "text/plain": [
       "<matplotlib.axes._subplots.AxesSubplot at 0x11845b390>"
      ]
     },
     "execution_count": 74,
     "metadata": {},
     "output_type": "execute_result"
    },
    {
     "data": {
      "image/png": "[encoded data removed]",
      "text/plain": [
       "<matplotlib.figure.Figure at 0x11c6906a0>"
      ]
     },
     "metadata": {},
     "output_type": "display_data"
    }
   ],
   "source": [
    "X['DepTime_Hour'].hist(bins=20)"
   ]
  },
  {
   "cell_type": "code",
   "execution_count": 75,
   "metadata": {
    "collapsed": false
   },
   "outputs": [
    {
     "data": {
      "text/plain": [
       "<matplotlib.axes._subplots.AxesSubplot at 0x118481b38>"
      ]
     },
     "execution_count": 75,
     "metadata": {},
     "output_type": "execute_result"
    },
    {
     "data": {
      "image/png": "[encoded data removed]",
      "text/plain": [
       "<matplotlib.figure.Figure at 0x11c6cba90>"
      ]
     },
     "metadata": {},
     "output_type": "display_data"
    }
   ],
   "source": [
    "X['TaxiIn'].hist(bins=20)"
   ]
  },
  {
   "cell_type": "code",
   "execution_count": 76,
   "metadata": {
    "collapsed": false
   },
   "outputs": [
    {
     "data": {
      "text/plain": [
       "<matplotlib.axes._subplots.AxesSubplot at 0x1164a54a8>"
      ]
     },
     "execution_count": 76,
     "metadata": {},
     "output_type": "execute_result"
    },
    {
     "data": {
      "image/png": "[encoded data removed]",
      "text/plain": [
       "<matplotlib.figure.Figure at 0x11fae2748>"
      ]
     },
     "metadata": {},
     "output_type": "display_data"
    }
   ],
   "source": [
    "X['FlightNum'].hist(bins=20)"
   ]
  },
  {
   "cell_type": "markdown",
   "metadata": {},
   "source": [
    "Какую проблему вы наблюдаете на этих графиках? Как масштабирование поможет её исправить?"
   ]
  },
  {
   "cell_type": "markdown",
   "metadata": {},
   "source": [
    "Дело в том, что наши переменные имеют разный масштаб, а значит с точки зрения модели изменения, например, в DepTime_Hour будут несоизмеримыми с изменениями в переменной FlightNum, которая измеряется тысячами. Чтобы они были сравнимы между собой, необходимо отмасштабировать признакми."
   ]
  },
  {
   "cell_type": "code",
   "execution_count": null,
   "metadata": {
    "collapsed": true
   },
   "outputs": [],
   "source": []
  },
  {
   "cell_type": "code",
   "execution_count": null,
   "metadata": {
    "collapsed": true
   },
   "outputs": [],
   "source": []
  },
  {
   "cell_type": "code",
   "execution_count": null,
   "metadata": {
    "collapsed": true
   },
   "outputs": [],
   "source": []
  },
  {
   "cell_type": "markdown",
   "metadata": {},
   "source": [
    "**10. (1 балл)** Вдобавок к масштабированию, некоторые из признаков в нашем датасете являются категориальными. Типичным подходом к работе с ними является бинарное, или [one-hot-кодирование](https://en.wikipedia.org/wiki/One-hot).\n",
    "\n",
    "\n",
    "Реализуйте функцию transform_data, которая принимает на вход DataFrame с признаками и выполняет следующие шаги:\n",
    "1. Замена пропущенных значений на нули для вещественных признаков и на строки 'nan' для категориальных.\n",
    "2. Масштабирование вещественных признаков с помощью [StandardScaler](http://scikit-learn.org/stable/modules/generated/sklearn.preprocessing.StandardScaler.html).\n",
    "3. One-hot-кодирование категориальных признаков с помощью [DictVectorizer](http://scikit-learn.org/stable/modules/generated/sklearn.feature_extraction.DictVectorizer.html) или функции [pd.get_dummies](http://pandas.pydata.org/pandas-docs/stable/generated/pandas.get_dummies.html).\n",
    "\n",
    "Метод должен возвращать преобразованный DataFrame, который должна состоять из масштабированных вещественных признаков и закодированных категориальных (исходные признаки должны быть исключены из выборки)."
   ]
  },
  {
   "cell_type": "code",
   "execution_count": 78,
   "metadata": {
    "collapsed": false
   },
   "outputs": [],
   "source": [
    "from sklearn.preprocessing import StandardScaler\n",
    "\n",
    "def transform_data(X):\n",
    "    num_columns = X._get_numeric_data().columns\n",
    "    cat_columns = list(set(X.columns) - set(num_columns))\n",
    "    \n",
    "    X[num_columns] = X[num_columns].fillna(0)\n",
    "    X[cat_columns] = X[cat_columns].fillna('nan')\n",
    "    \n",
    "    scaler = StandardScaler()\n",
    "    scaler.fit(X[num_columns])\n",
    "    X[num_columns] = scaler.transform(X[num_columns])\n",
    "\n",
    "    X = pd.get_dummies(X, cat_columns)\n",
    "    \n",
    "    return X"
   ]
  },
  {
   "cell_type": "markdown",
   "metadata": {},
   "source": [
    "Примените функцию transform_data к данным. Сколько признаков получилось после преобразования?"
   ]
  },
  {
   "cell_type": "code",
   "execution_count": 79,
   "metadata": {
    "collapsed": false
   },
   "outputs": [
    {
     "name": "stdout",
     "output_type": "stream",
     "text": [
      "Получилось признаков:  632\n"
     ]
    }
   ],
   "source": [
    "X = transform_data(X)\n",
    "print(\"Получилось признаков: \", X.shape[1])"
   ]
  },
  {
   "cell_type": "code",
   "execution_count": null,
   "metadata": {
    "collapsed": true
   },
   "outputs": [],
   "source": []
  },
  {
   "cell_type": "code",
   "execution_count": null,
   "metadata": {
    "collapsed": true
   },
   "outputs": [],
   "source": []
  },
  {
   "cell_type": "markdown",
   "metadata": {},
   "source": [
    "**11. (0.75 балла)** Разбейте выборку и вектор целевой переменной на обучение и контроль в отношении 70/30 (для этого можно использовать, например, функцию [train_test_split](http://scikit-learn.org/stable/modules/generated/sklearn.cross_validation.train_test_split.html)). "
   ]
  },
  {
   "cell_type": "code",
   "execution_count": 80,
   "metadata": {
    "collapsed": false
   },
   "outputs": [],
   "source": [
    "from sklearn.cross_validation import train_test_split\n",
    "X_train, X_test, y_train, y_test = train_test_split(X, y, test_size=0.3, random_state=42)"
   ]
  },
  {
   "cell_type": "markdown",
   "metadata": {},
   "source": [
    "### Scikit-learn\n",
    "\n",
    "<img src = \"https://pp.vk.me/c4534/u35727827/93547647/x_d31c4463.jpg\">\n",
    "Теперь, когда мы привели данные к пригодному виду, попробуем решить задачу при помощи метода наименьших квадратов. Напомним, что данный метод заключается в оптимизации функционала $MSE$:\n",
    "\n",
    "$$MSE(X, y) = \\frac{1}{l} \\sum_{i=1}^l (<w, x_i> - y_i)^2 \\to \\min_{w},$$\n",
    "\n",
    "где $\\{ (x_i, y_i ) \\}_{i=1}^l$ — обучающая выборка, состоящая из $l$ пар объект-ответ.\n",
    "\n",
    "Заметим, что решение данной задачи уже реализовано в модуле sklearn в виде класса [LinearRegression](http://scikit-learn.org/stable/modules/generated/sklearn.linear_model.LinearRegression.html#sklearn.linear_model.LinearRegression).\n",
    "\n",
    "**12. (0.5 балла)** Обучите линейную регрессию на 1000 объектах из обучающей выборки и выведите значения $MSE$ и $R^2$ на этой подвыборке и контрольной выборке (итого 4 различных числа). Проинтерпретируйте полученный результат — насколько качественные прогнозы строит полученная модель? Какие проблемы наблюдаются в модели?\n",
    "\n",
    "**Подсказка**: изучите значения полученных коэффициентов $w$, сохраненных в атрибуте coef_ объекта LinearRegression."
   ]
  },
  {
   "cell_type": "code",
   "execution_count": 82,
   "metadata": {
    "collapsed": false
   },
   "outputs": [
    {
     "name": "stdout",
     "output_type": "stream",
     "text": [
      "MSE  на подвыборке:  638.039462433\n",
      "MSE  на контрольной выборке:  1.24721801138e+25\n",
      "R^2  на подвыборке:  0.307163054801\n",
      "R^2  на контрольной выборке:  -9.3238166202e+21\n"
     ]
    }
   ],
   "source": [
    "X_train_short = X_train[:1000]\n",
    "y_train_short = y[:1000]\n",
    "\n",
    "from sklearn.linear_model import LinearRegression\n",
    "from sklearn.metrics import mean_squared_error\n",
    "from sklearn.metrics import r2_score \n",
    "\n",
    "linreg = LinearRegression()\n",
    "linreg.fit(X_train_short, y_train_short)\n",
    "y_hat_insample = linreg.predict(X_train_short)\n",
    "y_hat = linreg.predict(X_test)\n",
    "\n",
    "\n",
    "print(\"MSE  на train: \", mean_squared_error(y_train_short,y_hat_insample ))\n",
    "print(\"MSE  на test: \", mean_squared_error(y_test, y_hat))\n",
    "print(\"R^2  на train: \", r2_score(y_train_short,y_hat_insample ))\n",
    "print(\"R^2  на test: \", r2_score(y_test, y_hat))"
   ]
  },
  {
   "cell_type": "code",
   "execution_count": 83,
   "metadata": {
    "collapsed": false
   },
   "outputs": [
    {
     "data": {
      "text/plain": [
       "array([  5.37236567e-02,   6.62273183e-01,   6.74083823e-01,\n",
       "        -2.48518167e+00,  -6.15895034e-01,  -2.00872852e+01,\n",
       "         1.85622812e+01,   6.61833179e-02,   8.89540787e-01,\n",
       "         7.96664952e-02,  -2.69696874e+00,   8.24417618e-01,\n",
       "         1.13216560e+00,  -1.74372220e+00,   2.02948110e+00,\n",
       "        -1.46144319e+00,  -2.87548035e+00,   2.56131917e+00,\n",
       "        -2.43718547e+13,  -2.43718547e+13,   6.22673622e+13,\n",
       "        -2.43718547e+13,  -2.43718547e+13,  -2.43718547e+13,\n",
       "        -2.43718547e+13,  -2.43718547e+13,  -2.43718547e+13,\n",
       "        -2.43718547e+13,  -2.43718547e+13,  -2.43718547e+13,\n",
       "        -2.43718547e+13,  -2.43718547e+13,  -2.43718547e+13,\n",
       "        -2.43718547e+13,  -2.43718547e+13,  -2.43718547e+13,\n",
       "        -2.43718547e+13,  -2.43718547e+13,   8.60450277e+12,\n",
       "        -5.24873173e+12])"
      ]
     },
     "execution_count": 83,
     "metadata": {},
     "output_type": "execute_result"
    }
   ],
   "source": [
    "linreg.coef_[:40]"
   ]
  },
  {
   "cell_type": "markdown",
   "metadata": {},
   "source": [
    "Тот факт, что R^2 сильно падает на тестовой выборке, означает, что мы переобучились.\n",
    "Также по коэффициентам видно, что есть много очень больших по абсолютному значению(e+13 = 10^13), что тоже является признаком переобучения."
   ]
  },
  {
   "cell_type": "code",
   "execution_count": null,
   "metadata": {
    "collapsed": true
   },
   "outputs": [],
   "source": []
  },
  {
   "cell_type": "code",
   "execution_count": null,
   "metadata": {
    "collapsed": true
   },
   "outputs": [],
   "source": []
  },
  {
   "cell_type": "markdown",
   "metadata": {
    "collapsed": true
   },
   "source": [
    "Для решения описанных вами в предыдущем пункте проблем используем L1- или L2-регуляризацию, тем самым получив Lasso и Ridge регрессии соответственно и изменив оптимизационную задачу одним из следующих образов:\n",
    "$$MSE_{L1}(X, y) = \\frac{1}{l} \\sum_{i=1}^l (<w, x_i> - y_i)^2 + \\alpha ||w||_1 \\to \\min_{w},$$\n",
    "$$MSE_{L2}(X, y) = \\frac{1}{l} \\sum_{i=1}^l (<w, x_i> - y_i)^2 + \\alpha ||w||_2^2 \\to \\min_{w},$$\n",
    "\n",
    "где $\\alpha$ — коэффициент регуляризации. Один из способов его подбора заключается в переборе некоторого количества значений и оценке качества на кросс-валидации для каждого из них, после чего выбирается значение, для которого было получено наилучшее качество.\n",
    "\n",
    "**13. (1 балл)** Обучите линейные регрессии с L1- и L2-регуляризатором, подобрав лучшее значение параметра регуляризации из списка alpha_grid при помощи кросс-валидации c 5 фолдами на тех же 1000 объектах, что и в п.12. Выведите значения $MSE$ и $R^2$ на обучающей и контрольной выборках. Удалось ли решить указанные вами ранее проблемы?\n",
    "\n",
    "Для выполнения данного задания вам могут понадобиться реализованные в библиотеке объекты [LassoCV](http://scikit-learn.org/stable/modules/generated/sklearn.linear_model.LassoCV.html), [RidgeCV](http://scikit-learn.org/stable/modules/generated/sklearn.linear_model.RidgeCV.html) и [KFold](http://scikit-learn.org/stable/modules/generated/sklearn.cross_validation.KFold.html).\n"
   ]
  },
  {
   "cell_type": "code",
   "execution_count": 108,
   "metadata": {
    "collapsed": false
   },
   "outputs": [
    {
     "name": "stdout",
     "output_type": "stream",
     "text": [
      "MSE  на train:  771.406787487\n",
      "MSE  на test:  1439.85620846\n",
      "R^2  на train:  0.16234158917\n",
      "R^2  на test:  -0.0763920280717\n"
     ]
    }
   ],
   "source": [
    "from sklearn.cross_validation import KFold\n",
    "from sklearn.linear_model import RidgeCV\n",
    "from sklearn.linear_model import LassoCV\n",
    "\n",
    "alpha_grid = [0.1, 1, 5, 10]\n",
    "\n",
    "ridge = RidgeCV(alpha_grid, cv = 5)\n",
    "ridge.fit(X_train_short, y_train_short)\n",
    "\n",
    "y_hat_insample = ridge.predict(X_train_short)\n",
    "y_hat = ridge.predict(X_test) \n",
    "\n",
    "\n",
    "print(\"MSE  на train: \", mean_squared_error(y_train_short,y_hat_insample ))\n",
    "print(\"MSE  на test: \", mean_squared_error(y_test, y_hat))\n",
    "print(\"R^2  на train: \", r2_score(y_train_short,y_hat_insample ))\n",
    "print(\"R^2  на test: \", r2_score(y_test, y_hat))"
   ]
  },
  {
   "cell_type": "code",
   "execution_count": 110,
   "metadata": {
    "collapsed": false
   },
   "outputs": [
    {
     "data": {
      "text/plain": [
       "array([ 0.44463224,  0.55036745,  0.29993235, -1.33039678, -0.11326872,\n",
       "       -4.04245029,  2.97300926, -0.24945688,  1.15378469,  0.48724712,\n",
       "       -3.18108253,  0.34344031,  1.69631821, -1.81335868,  1.54429434,\n",
       "       -1.22874875, -2.37321134,  2.02665648,  0.96030779,  2.06094947,\n",
       "        0.        , -3.63660436,  1.40171873,  6.26700818, -3.94642805,\n",
       "        6.22591868,  3.11863749,  1.26058337, -0.28047909,  2.26492845,\n",
       "       -3.54428995,  8.16444374, -4.47422052, -6.21490957, -0.27801514,\n",
       "       -4.10132714, -1.98931147, -3.25891058,  0.        , -0.79031564])"
      ]
     },
     "execution_count": 110,
     "metadata": {},
     "output_type": "execute_result"
    }
   ],
   "source": [
    "ridge.coef_[:40]"
   ]
  },
  {
   "cell_type": "code",
   "execution_count": 109,
   "metadata": {
    "collapsed": false
   },
   "outputs": [
    {
     "name": "stdout",
     "output_type": "stream",
     "text": [
      "MSE  на train:  906.217752069\n",
      "MSE  на test:  1370.79897237\n",
      "R^2  на train:  0.0159524982438\n",
      "R^2  на test:  -0.0247669713659\n"
     ]
    }
   ],
   "source": [
    "lasso = LassoCV(cv=5)\n",
    "lasso.fit(X_train_short, y_train_short)\n",
    "\n",
    "y_hat_insample = lasso.predict(X_train_short)\n",
    "y_hat = lasso.predict(X_test) \n",
    "\n",
    "print(\"MSE  на train: \", mean_squared_error(y_train_short,y_hat_insample ))\n",
    "print(\"MSE  на test: \", mean_squared_error(y_test, y_hat))\n",
    "print(\"R^2  на train: \", r2_score(y_train_short,y_hat_insample ))\n",
    "print(\"R^2  на test: \", r2_score(y_test, y_hat))"
   ]
  },
  {
   "cell_type": "code",
   "execution_count": 111,
   "metadata": {
    "collapsed": false
   },
   "outputs": [
    {
     "data": {
      "text/plain": [
       "array([ 0.        ,  0.19770028,  0.        , -0.        , -0.        ,\n",
       "       -0.        , -0.        ,  0.        ,  0.78897743,  0.        ,\n",
       "       -1.71940112,  0.        , -0.        , -1.03981269, -0.        ,\n",
       "       -0.55951116, -0.37035502,  0.94547721, -0.        ,  0.        ,\n",
       "        0.        ,  0.        ,  0.        ,  0.        , -0.        ,\n",
       "        0.        ,  0.        ,  0.        ,  0.        ,  0.        ,\n",
       "       -0.        ,  0.        , -0.        , -0.        ,  0.        ,\n",
       "       -0.        , -0.        , -0.        ,  0.        , -0.        ])"
      ]
     },
     "execution_count": 111,
     "metadata": {},
     "output_type": "execute_result"
    }
   ],
   "source": [
    "lasso.coef_[:40]"
   ]
  },
  {
   "cell_type": "markdown",
   "metadata": {
    "collapsed": false
   },
   "source": [
    "Как можно увидеть коэффициенты при признаках стали значительно меньше (в случае с lasso большинство вообще занулилось). Так же видно, что размер самих коэффициентов тоже значительно снизился из-за штрафов, которые ridge и lasso на них налагют. В результате, мы видим, что R^2 на train и test ведет себя почти одинаково, а MSE на test больше, чем на train, что логично ожидать. Нет признаков переобучения."
   ]
  },
  {
   "cell_type": "markdown",
   "metadata": {},
   "source": [
    "### Градиентный спуск\n",
    "\n",
    "В предыдущем разделе мы использовали существующие реализации методов обучения линейной регрессии с регуляризацией и без. Тем не менее, подобные реализации, как правило, имеются лишь для ограниченного набора стандартных методов. В частности, при выходе функционала качества за пределы стандартного множества необходимо самостоятельно реализовывать составляющие процесса решения оптимизационной задачи. Именно этому и посвящен данный раздел задания.\n",
    "\n",
    "Пусть необходимо минимизировать следующий функционал (Mean Square Percentage Error — модифицированный [RMSPE](https://www.kaggle.com/c/rossmann-store-sales/details/evaluation)):\n",
    "$$MSPE(\\{x_i, y_i\\}_{i=1}^l, \\, w) = \\frac{1}{l}\\sum_{i=1}^l \\left( \\frac{y_i - \\langle w, x_i \\rangle }{y_i} \\right)^2,$$\n",
    "\n",
    "где $\\{x_i, y_i\\}_{i=1}^l$ — обучающая выборка, $w$ — вектор весов линейной модели. Будем также рассматривать функционал $MSPE$ с L2-регуляризацией:\n",
    "\n",
    "$$MSPE(\\{x_i, y_i\\}_{i=1}^l, \\, w) = \\frac{1}{l}\\sum_{i=1}^l \\left( \\frac{y_i - \\langle w, x_i \\rangle }{y_i} \\right)^2 + ||w||_2^2.$$\n",
    "\n",
    "**14. (0 баллов)** Добавьте к объектам обеих выборок из п. 11 единичный признак."
   ]
  },
  {
   "cell_type": "code",
   "execution_count": 112,
   "metadata": {
    "collapsed": false
   },
   "outputs": [
    {
     "name": "stderr",
     "output_type": "stream",
     "text": [
      "/Users/Bella/Applications/anaconda3/lib/python3.5/site-packages/ipykernel/__main__.py:1: SettingWithCopyWarning: \n",
      "A value is trying to be set on a copy of a slice from a DataFrame.\n",
      "Try using .loc[row_indexer,col_indexer] = value instead\n",
      "\n",
      "See the caveats in the documentation: http://pandas.pydata.org/pandas-docs/stable/indexing.html#indexing-view-versus-copy\n",
      "  if __name__ == '__main__':\n",
      "/Users/Bella/Applications/anaconda3/lib/python3.5/site-packages/ipykernel/__main__.py:2: SettingWithCopyWarning: \n",
      "A value is trying to be set on a copy of a slice from a DataFrame.\n",
      "Try using .loc[row_indexer,col_indexer] = value instead\n",
      "\n",
      "See the caveats in the documentation: http://pandas.pydata.org/pandas-docs/stable/indexing.html#indexing-view-versus-copy\n",
      "  from ipykernel import kernelapp as app\n"
     ]
    }
   ],
   "source": [
    "X_train[\"1\"] = [1]*X_train.shape[0]\n",
    "X_test[\"1\"] = [1]*X_test.shape[0]"
   ]
  },
  {
   "cell_type": "markdown",
   "metadata": {},
   "source": [
    "**15. (1 балл)** Реализуйте функции, которые вычисляют:\n",
    " * прогнозы линейной модели;\n",
    " * функционал $MSPE$ и его градиент;\n",
    " * регуляризованный $MSPE$ и его градиент."
   ]
  },
  {
   "cell_type": "code",
   "execution_count": 113,
   "metadata": {
    "collapsed": true
   },
   "outputs": [],
   "source": [
    "# возвращает вектор прогнозов линейной модели с вектором весов w для выборки X\n",
    "def make_pred(X, w):\n",
    "    return np.multiply(X,w)"
   ]
  },
  {
   "cell_type": "code",
   "execution_count": 114,
   "metadata": {
    "collapsed": true
   },
   "outputs": [],
   "source": [
    "# возвращает значение функционала MSPE для выборки (X, y) и вектора весов w\n",
    "def get_func(w, X, y):\n",
    "    res = []\n",
    "    for i in y:\n",
    "        res.append((i - make_pred(X, w))^2/i)\n",
    "    return res.sum()/len(res)    "
   ]
  },
  {
   "cell_type": "code",
   "execution_count": null,
   "metadata": {
    "collapsed": true
   },
   "outputs": [],
   "source": [
    "# возвращает градиент функционала MSPE для выборки (X, y) и вектора весов w\n",
    "def get_grad(w, X, y):\n",
    "    pass"
   ]
  },
  {
   "cell_type": "code",
   "execution_count": null,
   "metadata": {
    "collapsed": true
   },
   "outputs": [],
   "source": [
    "# возвращает значение регуляризованного функционала MSPE для выборки (X, y) и вектора весов w\n",
    "def get_reg_func(w, X, y):\n",
    "    return get_func(w, X, y) + make_pred(w, w)"
   ]
  },
  {
   "cell_type": "code",
   "execution_count": null,
   "metadata": {
    "collapsed": true
   },
   "outputs": [],
   "source": [
    "# возвращает градиент регуляризованного функционала MSPE для выборки (X, y) и вектора весов w\n",
    "def get_reg_grad(w, X, y):\n",
    "    pass"
   ]
  },
  {
   "cell_type": "markdown",
   "metadata": {},
   "source": [
    "**16. (1 балл)** Реализуйте метод градиентного спуска для описанных функционалов ($MSPE$ и его регуляризованный вариант). Функция должна принимать следующие параметры:\n",
    " - X — матрица \"объект-признак\";\n",
    " - y — вектор целевой переменной;\n",
    " - w0 — начальное значение вектора весов;\n",
    " - step_size — значение темпа обучения;\n",
    " - max_iter — максимальное число итераций;\n",
    " - eps — значение, используемое в критерии останова;\n",
    " - is_reg — бинарный параметр, принимает значение True в случае наличия регуляризации функционала, False — в противном случае.\n",
    " \n",
    "Процесс должен быть остановлен, если выполнено хотя бы одно из следующих условий:\n",
    " - было выполнено заданное количество итераций max_iter;\n",
    " - евклидова норма разности векторов $w$ на соседних итерациях стала меньше, чем eps.\n",
    "\n",
    "Функция должна возвращать полученный в результате оптимизации вектор $w$ и список значений функционала на каждой итерации."
   ]
  },
  {
   "cell_type": "code",
   "execution_count": null,
   "metadata": {
    "collapsed": true
   },
   "outputs": [],
   "source": [
    "def grad_descent(X, y, step_size, max_iter, eps, is_reg):\n",
    "    # Your code here"
   ]
  },
  {
   "cell_type": "markdown",
   "metadata": {},
   "source": [
    "Обучите линейную регрессию с функционалом $MSPE$ на обучающей выборке при помощи метода градиентного спуска и изобразите кривые зависимости значения функционала от номера итерации для различных:\n",
    " * значений размера шага из набора [0.001, 1, 10];\n",
    " * способов начальной инициализации вектора весов (нули, случайные веса).\n",
    "\n",
    "Проанализируйте полученные результаты — влияют ли данные параметры на скорость сходимости и итоговое качество? Если да, то как?"
   ]
  },
  {
   "cell_type": "code",
   "execution_count": null,
   "metadata": {
    "collapsed": true
   },
   "outputs": [],
   "source": [
    "# Your code here"
   ]
  },
  {
   "cell_type": "markdown",
   "metadata": {},
   "source": [
    "**17. (0.5 балла)** Обучите линейную регрессию с функционалом MSPE и его регуляризованным вариантом на обучающей выборке при помощи метода градиентного спуска и изобразите кривые зависимости значения функционала от номера итерации. Исследуйте зависимость скорости сходимости от наличия регуляризации. Обоснуйте, почему так происходит."
   ]
  },
  {
   "cell_type": "code",
   "execution_count": null,
   "metadata": {
    "collapsed": true
   },
   "outputs": [],
   "source": [
    "# Your code here"
   ]
  },
  {
   "cell_type": "markdown",
   "metadata": {},
   "source": [
    "Метод градиентного спуска может быть весьма трудозатратен в случае большого размера обучающей выборки. Поэтому часто используют метод стохастического градиентного спуска, где на каждой итерации выбирается случайный объект из обучающей выборки и обновление весов происходит только по этому объекту. \n",
    "\n",
    "**18*. (1 бонусный балл)**  Реализуйте метод стохастического градиентного спуска (SGD) для описанных функционалов ($MSPE$ и его регуляризованный вариант). Функция должна иметь параметры и возвращаемое значение, аналогичные оным функции grad\\_descent из п.21. Кроме того, должен использоваться аналогичный критерий останова."
   ]
  },
  {
   "cell_type": "code",
   "execution_count": null,
   "metadata": {
    "collapsed": true
   },
   "outputs": [],
   "source": [
    "def sgd(X, y, step_size, max_iter, eps, is_reg):\n",
    "    # Your code here"
   ]
  },
  {
   "cell_type": "markdown",
   "metadata": {},
   "source": [
    "Обучите линейную регрессию с функционалом $MSPE$ и его регуляризованным вариантом на обучающей выборке при помощи метода стохастического градиентного спуска, подобрав при этом размер шага, при котором метод будет сходиться. Нарисуйте график сходимости. Выведите значения $MSPE, MSE, R^2$ на контрольной выборке."
   ]
  },
  {
   "cell_type": "code",
   "execution_count": null,
   "metadata": {
    "collapsed": true
   },
   "outputs": [],
   "source": [
    "# Your code here"
   ]
  },
  {
   "cell_type": "markdown",
   "metadata": {},
   "source": [
    "**19*. (0.5 бонусного балла)** Аналогично п.17 исследуйте зависимость скорости сходимости метода SGD от наличия регуляризации. Обоснуйте, почему так происходит."
   ]
  },
  {
   "cell_type": "code",
   "execution_count": null,
   "metadata": {
    "collapsed": true
   },
   "outputs": [],
   "source": [
    "# Your code here"
   ]
  },
  {
   "cell_type": "markdown",
   "metadata": {},
   "source": [
    "**20. (0.5 балла)** Обучите стандартную линейную регрессию с функционалом качества MSE на обучающей выборке и выведите значение MSPE полученного решения на контрольной выборке. Как оно соотносится с аналогичным результатом для решения, полученного в п.17? Почему?"
   ]
  },
  {
   "cell_type": "code",
   "execution_count": null,
   "metadata": {
    "collapsed": true
   },
   "outputs": [],
   "source": [
    "# Your code here"
   ]
  }
 ],
 "metadata": {
  "anaconda-cloud": {},
  "kernelspec": {
   "display_name": "Python 3",
   "language": "python",
   "name": "python3"
  },
  "language_info": {
   "codemirror_mode": {
    "name": "ipython",
    "version": 3
   },
   "file_extension": ".py",
   "mimetype": "text/x-python",
   "name": "python",
   "nbconvert_exporter": "python",
   "pygments_lexer": "ipython3",
   "version": "3.5.2"
  }
 },
 "nbformat": 4,
 "nbformat_minor": 0
}
