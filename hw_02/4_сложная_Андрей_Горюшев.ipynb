{
 "cells": [
  {
   "cell_type": "markdown",
   "metadata": {},
   "source": [
    "# Машинное обучение, ФЭН ВШЭ\n",
    "\n",
    "# Практическое задание 2\n",
    "(Основано на материалах курса машинного обучения на фкн)\n",
    "\n",
    "## Общая информация\n",
    "\n",
    "Дата выдачи: 21.09.2017\n",
    "\n",
    "Срок сдачи: 8.10.2017 23:59MSK\n",
    "\n",
    "### О задании\n",
    "\n",
    "Практическое задание 1 посвящено изучению основных библиотек для анализа данных, а также линейных моделей и методов их обучения. Вы научитесь:\n",
    " * применять библиотеку NumPy;\n",
    " * подготавливать данные для обучения линейных моделей;\n",
    " * обучать линейную, Lasso и Ridge-регрессии при помощи модуля scikit-learn;\n",
    " * реализовывать обычный и стохастический градиентные спуски;\n",
    " * обучать линейную регрессию для произвольного функционала качества.\n",
    " \n",
    "\n",
    "### Оценивание и штрафы\n",
    "\n",
    "Каждая из задач имеет определенную «стоимость» (указана в скобках около задачи). Максимально допустимая оценка за работу — 10 баллов. Кроме того, некоторые из заданий являются опциональными (необязательными), однако за их выполнение можно получить дополнительные баллы.\n",
    "\n",
    "\n",
    "Задание выполняется самостоятельно. «Похожие» решения считаются плагиатом и все задействованные студенты (в том числе те, у кого списали) не могут получить за него больше 0 баллов (подробнее о плагиате см. на странице курса). Если вы нашли решение какого-то из заданий (или его часть) в открытом источнике, необходимо указать ссылку на этот источник в отдельном блоке в конце Вашей работы (скорее всего вы будете не единственным, кто это нашел, поэтому чтобы исключить подозрение в плагиате, необходима ссылка на источник). \n",
    "\n",
    "Неэффективная реализация кода может негативно отразиться на оценке.\n",
    "\n",
    "\n",
    "### Формат сдачи\n",
    "Для сдачи задания переименуйте получившийся файл \\*.ipynb в соответствии со следующим форматом: *HW1_Username.ipynb*, где *Username* — Ваша фамилия и инициалы на латинице (например, *HW1_IvanovII.ipynb*). Далее отправьте этот файл на почту курса, указав соответствующую тему (см. вики-страничку курча)."
   ]
  },
  {
   "cell_type": "markdown",
   "metadata": {},
   "source": [
    "## Библиотеки для анализа данных\n",
    "\n",
    "### NumPy\n",
    "\n",
    "Во всех заданиях данного раздела запрещено использовать циклы  и list comprehensions. Под вектором и матрицей в данных заданиях понимается одномерный и двумерный numpy.array соответственно."
   ]
  },
  {
   "cell_type": "code",
   "execution_count": 1,
   "metadata": {
    "collapsed": true
   },
   "outputs": [],
   "source": [
    "import numpy as np"
   ]
  },
  {
   "cell_type": "markdown",
   "metadata": {},
   "source": [
    "**1. (0.3 балла)** Реализуйте функцию, возвращающую максимальный элемент в векторе x среди элементов, перед которыми стоит нулевой. Для x = np.array([6, 2, 0, 3, 0, 0, 5, 7, 0]) ответом является 5. Если нулевых элементов нет, функция должна возвращать None.\n"
   ]
  },
  {
   "cell_type": "code",
   "execution_count": 344,
   "metadata": {},
   "outputs": [
    {
     "data": {
      "text/plain": [
       "5"
      ]
     },
     "execution_count": 344,
     "metadata": {},
     "output_type": "execute_result"
    }
   ],
   "source": [
    "def max_element(arr):\n",
    "    if all(arr != 0):\n",
    "        return \"None\"\n",
    "    else:\n",
    "        n = np.where(arr == 0)[0] + 1\n",
    "        n = np.delete(n, [np.where(n > len(x) - 1)])\n",
    "        return arr[n].max()\n",
    "\n",
    "x = np.array([6, 2, 0, 3, 0, 0, 5, 7, 0]) \n",
    "max_element(x)"
   ]
  },
  {
   "cell_type": "markdown",
   "metadata": {},
   "source": [
    "**2. (0.3 балла)** Реализуйте функцию, принимающую на вход матрицу и некоторое число и возвращающую ближайший к числу элемент матрицы. Например: для X = np.arange(0,10).reshape((2, 5)) и v = 3.6 ответом будет 4."
   ]
  },
  {
   "cell_type": "code",
   "execution_count": 357,
   "metadata": {
    "scrolled": true
   },
   "outputs": [
    {
     "data": {
      "text/plain": [
       "array([4])"
      ]
     },
     "execution_count": 357,
     "metadata": {},
     "output_type": "execute_result"
    }
   ],
   "source": [
    "def nearest_value(X, v):\n",
    "    X1 = X[abs(X - v) == abs(X - v).min()]\n",
    "    return np.unique(X1)\n",
    "\n",
    "X = np.arange(0,10).reshape((2, 5))\n",
    "v = 3.6\n",
    "nearest_value(X, v)"
   ]
  },
  {
   "cell_type": "markdown",
   "metadata": {},
   "source": [
    "**3. (0.3 балла)** Реализуйте функцию scale(X), которая принимает на вход матрицу и масштабирует каждый ее столбец (вычитает выборочное среднее и делит на стандартное отклонение). Убедитесь, что в функции не будет происходить деления на ноль. Протестируйте на случайной матрице (для её генерации можно использовать, например, функцию [numpy.random.randint](http://docs.scipy.org/doc/numpy/reference/generated/numpy.random.randint.html))."
   ]
  },
  {
   "cell_type": "code",
   "execution_count": 156,
   "metadata": {
    "scrolled": true
   },
   "outputs": [
    {
     "data": {
      "text/plain": [
       "array([[-0.08304548,  0.33333333,  1.17953565,  1.03142125],\n",
       "       [ 1.07959124, -0.55555556,  0.58976782, -1.65027399],\n",
       "       [-1.57786412, -1.22222222, -0.29488391,  0.4125685 ],\n",
       "       [ 0.58131836,  1.44444444, -1.47441956,  0.20628425]])"
      ]
     },
     "execution_count": 156,
     "metadata": {},
     "output_type": "execute_result"
    }
   ],
   "source": [
    "def scale(X):\n",
    "    std = X.std(axis = 0)\n",
    "    mean = X.mean(axis = 0)\n",
    "    if any(std == 0):\n",
    "        print(\"Ошибка Деления На Огурец, Переустановите Вселенную И Перезапуститесь\")\n",
    "    else:\n",
    "        X1 = (X - mean) / std\n",
    "        return X1\n",
    "\n",
    "A = np.random.randint(-10, 10, (4, 4))\n",
    "scale(A)"
   ]
  },
  {
   "cell_type": "code",
   "execution_count": 157,
   "metadata": {},
   "outputs": [
    {
     "name": "stdout",
     "output_type": "stream",
     "text": [
      "Ошибка Деления На Огурец, Переустановите Вселенную И Перезапуститесь\n"
     ]
    }
   ],
   "source": [
    "A = np.array([[1, 2, 3, 4], [1, 2, 3, 4], [1, 2, 3, 4], [1, 2, 3, 4]])\n",
    "scale(A)"
   ]
  },
  {
   "cell_type": "markdown",
   "metadata": {},
   "source": [
    "**4. (0.3 балла)** Реализуйте функцию, которая для заданной матрицы находит:\n",
    " - определитель\n",
    " - след\n",
    " - наименьший и наибольший элементы\n",
    " - норму Фробениуса\n",
    " - собственные числа\n",
    " - обратную матрицу\n",
    "\n",
    "Для тестирования сгенерируйте матрицу с элементами из нормального распределения $\\mathcal{N}$(10,1)"
   ]
  },
  {
   "cell_type": "code",
   "execution_count": 63,
   "metadata": {
    "scrolled": true
   },
   "outputs": [
    {
     "data": {
      "text/plain": [
       "array([[ 10.28030025,  11.25704994,   9.76189964],\n",
       "       [  8.46914944,   8.4804313 ,   8.58974203],\n",
       "       [  8.36055141,  10.12542967,  11.50129862]])"
      ]
     },
     "execution_count": 63,
     "metadata": {},
     "output_type": "execute_result"
    }
   ],
   "source": [
    "def get_stats(X):\n",
    "    print (\"Определитель:\", np.linalg.det(X), \"\\n\",\n",
    "               \"След:\", X.trace(), \"\\n\",\n",
    "               \"Минимум:\", X.min(),\"\\n\",\n",
    "               \"Максимум:\", X.max(), \"\\n\",\n",
    "               \"Норма Фробениуса:\", np.linalg.norm(X), \"\\n\",\n",
    "               \"Собственные числа:\", np.linalg.eigvals(X))\n",
    "    if np.linalg.det(X) != 0:\n",
    "        print (\"Обратная матрица:\", \"\\n\", np.linalg.inv(X))\n",
    "        \n",
    "matr = np.random.normal(loc = 10.0, scale = 1.0, size = (3, 3))\n",
    "matr"
   ]
  },
  {
   "cell_type": "code",
   "execution_count": 64,
   "metadata": {},
   "outputs": [
    {
     "name": "stdout",
     "output_type": "stream",
     "text": [
      "Определитель: -34.5195813046 \n",
      " След: 30.2620301713 \n",
      " Минимум: 8.36055141295 \n",
      " Максимум: 11.5012986181 \n",
      " Норма Фробениуса: 29.151866535 \n",
      " Собственные числа: [ 28.86873869   1.99320191  -0.59991043]\n",
      "Обратная матрица: \n",
      " [[-0.30594647  0.88724323 -0.40296073]\n",
      " [ 0.74135421 -1.06090334  0.1630999 ]\n",
      " [-0.43026869  0.28903341  0.23627917]]\n"
     ]
    }
   ],
   "source": [
    "get_stats(matr)"
   ]
  },
  {
   "cell_type": "markdown",
   "metadata": {},
   "source": [
    "**5. (0.3 балла)** Повторите 100 раз следующий эксперимент: сгенерируйте две матрицы размера 10×10 из стандартного нормального распределения, перемножьте их (как матрицы) и найдите максимальный элемент. Какое среднее значение по экспериментам у максимальных элементов? 95-процентная квантиль?"
   ]
  },
  {
   "cell_type": "code",
   "execution_count": 392,
   "metadata": {
    "scrolled": true
   },
   "outputs": [
    {
     "name": "stdout",
     "output_type": "stream",
     "text": [
      "Среднее: 8.35619288433 \n",
      " 95%: 11.649907299\n"
     ]
    }
   ],
   "source": [
    "maximum = np.zeros((100, 1))\n",
    "for exp_num in range(100): # Это тут с самого начала так и было :)\n",
    "    matrix1 = np.random.normal(size = (10, 10))\n",
    "    matrix2 = np.random.normal(size = (10, 10))\n",
    "    maximum[exp_num] = (matrix1 @ matrix2).max()\n",
    "    \n",
    "print (\"Среднее:\", maximum.mean(), \"\\n\",\n",
    "       \"95%:\", np.percentile(maximum, 95))"
   ]
  },
  {
   "cell_type": "markdown",
   "metadata": {},
   "source": [
    "## Линейная регрессия\n",
    "\n",
    "В этой части мы разберемся с линейной регрессией, способами её обучения и измерением качества ее прогнозов. \n",
    "\n",
    "Будем рассматривать данные по авиарейсам в США за январь-апрель 2008 года для предсказания времени задержки отправления рейса в минутах (DepDelay). Отметим, что под задержкой подразумевается не только опоздание рейса относительно планируемого времени вылета, но и отправление до планируемого времени.\n",
    "\n",
    "\n",
    "[Данные](https://www.dropbox.com/s/dvfitn93obn0rql/2008.csv?dl=0) и их [описание](http://stat-computing.org/dataexpo/2009/the-data.html)\n",
    "\n",
    "### Подготовка данных\n",
    "\n",
    "**6. (0.75 балла)** Считайте выборку из файла при помощи функции pd.read_csv и ответьте на следующие вопросы:\n",
    "   - Имеются ли в данных пропущенные значения?\n",
    "   - Сколько всего пропущенных элементов в таблице \"объект-признак\"?\n",
    "   - Сколько объектов имеют хотя бы один пропуск?\n",
    "   - Сколько признаков имеют хотя бы одно пропущенное значение?"
   ]
  },
  {
   "cell_type": "code",
   "execution_count": 474,
   "metadata": {
    "scrolled": true
   },
   "outputs": [
    {
     "data": {
      "text/html": [
       "<div>\n",
       "<style>\n",
       "    .dataframe thead tr:only-child th {\n",
       "        text-align: right;\n",
       "    }\n",
       "\n",
       "    .dataframe thead th {\n",
       "        text-align: left;\n",
       "    }\n",
       "\n",
       "    .dataframe tbody tr th {\n",
       "        vertical-align: top;\n",
       "    }\n",
       "</style>\n",
       "<table border=\"1\" class=\"dataframe\">\n",
       "  <thead>\n",
       "    <tr style=\"text-align: right;\">\n",
       "      <th></th>\n",
       "      <th>Year</th>\n",
       "      <th>Month</th>\n",
       "      <th>DayofMonth</th>\n",
       "      <th>DayOfWeek</th>\n",
       "      <th>DepTime</th>\n",
       "      <th>CRSDepTime</th>\n",
       "      <th>ArrTime</th>\n",
       "      <th>CRSArrTime</th>\n",
       "      <th>UniqueCarrier</th>\n",
       "      <th>FlightNum</th>\n",
       "      <th>...</th>\n",
       "      <th>TaxiIn</th>\n",
       "      <th>TaxiOut</th>\n",
       "      <th>Cancelled</th>\n",
       "      <th>CancellationCode</th>\n",
       "      <th>Diverted</th>\n",
       "      <th>CarrierDelay</th>\n",
       "      <th>WeatherDelay</th>\n",
       "      <th>NASDelay</th>\n",
       "      <th>SecurityDelay</th>\n",
       "      <th>LateAircraftDelay</th>\n",
       "    </tr>\n",
       "  </thead>\n",
       "  <tbody>\n",
       "    <tr>\n",
       "      <th>0</th>\n",
       "      <td>2008</td>\n",
       "      <td>6</td>\n",
       "      <td>18</td>\n",
       "      <td>3</td>\n",
       "      <td>2111.0</td>\n",
       "      <td>2055</td>\n",
       "      <td>2308.0</td>\n",
       "      <td>2300</td>\n",
       "      <td>WN</td>\n",
       "      <td>242</td>\n",
       "      <td>...</td>\n",
       "      <td>3.0</td>\n",
       "      <td>8.0</td>\n",
       "      <td>0</td>\n",
       "      <td>NaN</td>\n",
       "      <td>0</td>\n",
       "      <td>NaN</td>\n",
       "      <td>NaN</td>\n",
       "      <td>NaN</td>\n",
       "      <td>NaN</td>\n",
       "      <td>NaN</td>\n",
       "    </tr>\n",
       "    <tr>\n",
       "      <th>1</th>\n",
       "      <td>2008</td>\n",
       "      <td>6</td>\n",
       "      <td>4</td>\n",
       "      <td>3</td>\n",
       "      <td>1426.0</td>\n",
       "      <td>1410</td>\n",
       "      <td>1730.0</td>\n",
       "      <td>1728</td>\n",
       "      <td>XE</td>\n",
       "      <td>2380</td>\n",
       "      <td>...</td>\n",
       "      <td>4.0</td>\n",
       "      <td>12.0</td>\n",
       "      <td>0</td>\n",
       "      <td>NaN</td>\n",
       "      <td>0</td>\n",
       "      <td>NaN</td>\n",
       "      <td>NaN</td>\n",
       "      <td>NaN</td>\n",
       "      <td>NaN</td>\n",
       "      <td>NaN</td>\n",
       "    </tr>\n",
       "    <tr>\n",
       "      <th>2</th>\n",
       "      <td>2008</td>\n",
       "      <td>8</td>\n",
       "      <td>3</td>\n",
       "      <td>7</td>\n",
       "      <td>1143.0</td>\n",
       "      <td>1145</td>\n",
       "      <td>1501.0</td>\n",
       "      <td>1520</td>\n",
       "      <td>WN</td>\n",
       "      <td>1769</td>\n",
       "      <td>...</td>\n",
       "      <td>4.0</td>\n",
       "      <td>9.0</td>\n",
       "      <td>0</td>\n",
       "      <td>NaN</td>\n",
       "      <td>0</td>\n",
       "      <td>NaN</td>\n",
       "      <td>NaN</td>\n",
       "      <td>NaN</td>\n",
       "      <td>NaN</td>\n",
       "      <td>NaN</td>\n",
       "    </tr>\n",
       "    <tr>\n",
       "      <th>3</th>\n",
       "      <td>2008</td>\n",
       "      <td>1</td>\n",
       "      <td>23</td>\n",
       "      <td>3</td>\n",
       "      <td>1141.0</td>\n",
       "      <td>1144</td>\n",
       "      <td>1323.0</td>\n",
       "      <td>1335</td>\n",
       "      <td>OO</td>\n",
       "      <td>3802</td>\n",
       "      <td>...</td>\n",
       "      <td>4.0</td>\n",
       "      <td>19.0</td>\n",
       "      <td>0</td>\n",
       "      <td>NaN</td>\n",
       "      <td>0</td>\n",
       "      <td>NaN</td>\n",
       "      <td>NaN</td>\n",
       "      <td>NaN</td>\n",
       "      <td>NaN</td>\n",
       "      <td>NaN</td>\n",
       "    </tr>\n",
       "    <tr>\n",
       "      <th>4</th>\n",
       "      <td>2008</td>\n",
       "      <td>5</td>\n",
       "      <td>4</td>\n",
       "      <td>7</td>\n",
       "      <td>815.0</td>\n",
       "      <td>820</td>\n",
       "      <td>1243.0</td>\n",
       "      <td>1300</td>\n",
       "      <td>WN</td>\n",
       "      <td>399</td>\n",
       "      <td>...</td>\n",
       "      <td>4.0</td>\n",
       "      <td>8.0</td>\n",
       "      <td>0</td>\n",
       "      <td>NaN</td>\n",
       "      <td>0</td>\n",
       "      <td>NaN</td>\n",
       "      <td>NaN</td>\n",
       "      <td>NaN</td>\n",
       "      <td>NaN</td>\n",
       "      <td>NaN</td>\n",
       "    </tr>\n",
       "  </tbody>\n",
       "</table>\n",
       "<p>5 rows × 29 columns</p>\n",
       "</div>"
      ],
      "text/plain": [
       "   Year  Month  DayofMonth  DayOfWeek  DepTime  CRSDepTime  ArrTime  \\\n",
       "0  2008      6          18          3   2111.0        2055   2308.0   \n",
       "1  2008      6           4          3   1426.0        1410   1730.0   \n",
       "2  2008      8           3          7   1143.0        1145   1501.0   \n",
       "3  2008      1          23          3   1141.0        1144   1323.0   \n",
       "4  2008      5           4          7    815.0         820   1243.0   \n",
       "\n",
       "   CRSArrTime UniqueCarrier  FlightNum        ...         TaxiIn  TaxiOut  \\\n",
       "0        2300            WN        242        ...            3.0      8.0   \n",
       "1        1728            XE       2380        ...            4.0     12.0   \n",
       "2        1520            WN       1769        ...            4.0      9.0   \n",
       "3        1335            OO       3802        ...            4.0     19.0   \n",
       "4        1300            WN        399        ...            4.0      8.0   \n",
       "\n",
       "   Cancelled  CancellationCode  Diverted  CarrierDelay WeatherDelay NASDelay  \\\n",
       "0          0               NaN         0           NaN          NaN      NaN   \n",
       "1          0               NaN         0           NaN          NaN      NaN   \n",
       "2          0               NaN         0           NaN          NaN      NaN   \n",
       "3          0               NaN         0           NaN          NaN      NaN   \n",
       "4          0               NaN         0           NaN          NaN      NaN   \n",
       "\n",
       "   SecurityDelay  LateAircraftDelay  \n",
       "0            NaN                NaN  \n",
       "1            NaN                NaN  \n",
       "2            NaN                NaN  \n",
       "3            NaN                NaN  \n",
       "4            NaN                NaN  \n",
       "\n",
       "[5 rows x 29 columns]"
      ]
     },
     "execution_count": 474,
     "metadata": {},
     "output_type": "execute_result"
    }
   ],
   "source": [
    "import pandas as pd\n",
    "\n",
    "data = pd.read_csv('2008.csv')\n",
    "data.head()"
   ]
  },
  {
   "cell_type": "code",
   "execution_count": 475,
   "metadata": {},
   "outputs": [
    {
     "data": {
      "text/plain": [
       "True"
      ]
     },
     "execution_count": 475,
     "metadata": {},
     "output_type": "execute_result"
    }
   ],
   "source": [
    "any(data.isnull())"
   ]
  },
  {
   "cell_type": "markdown",
   "metadata": {},
   "source": [
    "**В данных имеются пропуски.**"
   ]
  },
  {
   "cell_type": "code",
   "execution_count": 476,
   "metadata": {
    "scrolled": false
   },
   "outputs": [
    {
     "data": {
      "text/plain": [
       "355215"
      ]
     },
     "execution_count": 476,
     "metadata": {},
     "output_type": "execute_result"
    }
   ],
   "source": [
    "data.isnull().sum().sum()"
   ]
  },
  {
   "cell_type": "markdown",
   "metadata": {},
   "source": [
    "**Общее количество пропущенных значений: 355 215**"
   ]
  },
  {
   "cell_type": "code",
   "execution_count": 477,
   "metadata": {},
   "outputs": [
    {
     "data": {
      "text/plain": [
       "70000"
      ]
     },
     "execution_count": 477,
     "metadata": {},
     "output_type": "execute_result"
    }
   ],
   "source": [
    "data.isnull().sum(axis = 1)[data.isnull().sum(axis = 1) != 0].count()"
   ]
  },
  {
   "cell_type": "markdown",
   "metadata": {},
   "source": [
    "**Пропущенные значения есть во всех 70 000 объектах.**"
   ]
  },
  {
   "cell_type": "code",
   "execution_count": 478,
   "metadata": {},
   "outputs": [
    {
     "data": {
      "text/plain": [
       "16"
      ]
     },
     "execution_count": 478,
     "metadata": {},
     "output_type": "execute_result"
    }
   ],
   "source": [
    "data.isnull().sum()[data.isnull().sum() != 0].count()"
   ]
  },
  {
   "cell_type": "markdown",
   "metadata": {},
   "source": [
    "**16 признаков имеют пропущенные значения**"
   ]
  },
  {
   "cell_type": "markdown",
   "metadata": {},
   "source": [
    "Как вы понимаете, также не имеет смысла рассматривать при решении поставленной задачи объекты с пропущенным значением целевой переменной. В связи с этим ответьте на следующие вопросы и выполните соответствующие действия:\n",
    "- Имеются ли пропущенные значения в целевой переменной?\n",
    "- Проанализируйте объекты с пропущенными значениями целевой переменной. Чем вызвано это явление? Что их объединяет? Можно ли в связи с этим, на ваш взгляд, исключить какие-то признаки из рассмотрения? Обоснуйте свою точку зрения.\n",
    "\n",
    "Исключите из выборки объекты **с пропущенным значением целевой переменной и со значением целевой переменной, равным 0**, а также при необходимости исключите признаки в соответствии с вашим ответом на последний вопрос из списка и выделите целевую переменную в отдельный вектор, исключив её из матрицы \"объект-признак\"."
   ]
  },
  {
   "cell_type": "code",
   "execution_count": 479,
   "metadata": {
    "scrolled": true
   },
   "outputs": [
    {
     "data": {
      "text/plain": [
       "True"
      ]
     },
     "execution_count": 479,
     "metadata": {},
     "output_type": "execute_result"
    }
   ],
   "source": [
    "any(data[\"DepDelay\"].isnull())"
   ]
  },
  {
   "cell_type": "markdown",
   "metadata": {},
   "source": [
    "**В целевой переменной есть пропущенные значения.**"
   ]
  },
  {
   "cell_type": "code",
   "execution_count": 480,
   "metadata": {},
   "outputs": [
    {
     "name": "stdout",
     "output_type": "stream",
     "text": [
      "       Year  Month  DayofMonth  DayOfWeek  DepTime  CRSDepTime  ArrTime  \\\n",
      "11     2008      3           6          4      NaN        1605      NaN   \n",
      "78     2008      1          19          6      NaN         750      NaN   \n",
      "103    2008      7          24          4      NaN        1230      NaN   \n",
      "112    2008      2           4          1      NaN         620      NaN   \n",
      "128    2008      1          21          1      NaN        1838      NaN   \n",
      "194    2008      1          28          1      NaN        1640      NaN   \n",
      "204    2008      6          13          5      NaN        1229      NaN   \n",
      "236    2008      7          19          6      NaN         544      NaN   \n",
      "257    2008      4          19          6      NaN        1345      NaN   \n",
      "267    2008      9          23          2      NaN        1400      NaN   \n",
      "269    2008      2          17          7      NaN        1345      NaN   \n",
      "288    2008      9          14          7      NaN        1115      NaN   \n",
      "352    2008      1          20          7      NaN        2023      NaN   \n",
      "375    2008     12          22          1      NaN         935      NaN   \n",
      "423    2008      1          23          3      NaN        1640      NaN   \n",
      "428    2008     10           3          5      NaN        1229      NaN   \n",
      "429    2008      3           6          4      NaN        1820      NaN   \n",
      "430    2008      8           5          2      NaN         810      NaN   \n",
      "445    2008      2          11          1      NaN         635      NaN   \n",
      "526    2008     12          30          2      NaN         825      NaN   \n",
      "554    2008     12          27          6      NaN         700      NaN   \n",
      "564    2008      9          12          5      NaN        1630      NaN   \n",
      "572    2008      9          13          6      NaN        1439      NaN   \n",
      "583    2008      3           3          1      NaN        1745      NaN   \n",
      "648    2008      1          10          4      NaN        2101      NaN   \n",
      "675    2008      1          29          2      NaN         700      NaN   \n",
      "720    2008      6          29          7      NaN        1500      NaN   \n",
      "721    2008      1          28          1      NaN        1930      NaN   \n",
      "816    2008      9           3          3      NaN        1440      NaN   \n",
      "821    2008      8          11          1      NaN          50      NaN   \n",
      "...     ...    ...         ...        ...      ...         ...      ...   \n",
      "69037  2008      7          11          5      NaN        1225      NaN   \n",
      "69045  2008     10          23          4      NaN        1905      NaN   \n",
      "69046  2008      8          14          4      NaN        1800      NaN   \n",
      "69108  2008      1          30          3      NaN         720      NaN   \n",
      "69130  2008      3          18          2      NaN        1425      NaN   \n",
      "69133  2008      7           1          2      NaN        2024      NaN   \n",
      "69135  2008      2          22          5      NaN        1820      NaN   \n",
      "69136  2008      7          10          4      NaN        1510      NaN   \n",
      "69138  2008      8          15          5      NaN        1755      NaN   \n",
      "69152  2008      2          25          1      NaN        1735      NaN   \n",
      "69184  2008      7          13          7      NaN        1119      NaN   \n",
      "69189  2008      5           9          5      NaN        1400      NaN   \n",
      "69249  2008      8           4          1      NaN        2055      NaN   \n",
      "69310  2008      2          22          5      NaN        2030      NaN   \n",
      "69374  2008      1          16          3      NaN        1959      NaN   \n",
      "69540  2008      3          19          3      NaN        1635      NaN   \n",
      "69570  2008     12          17          3      NaN        1030      NaN   \n",
      "69607  2008      9          26          5      NaN         830      NaN   \n",
      "69672  2008     12          19          5      NaN        1857      NaN   \n",
      "69703  2008      7          18          5      NaN        2005      NaN   \n",
      "69710  2008      7          12          6      NaN        1240      NaN   \n",
      "69748  2008      1          28          1      NaN        1910      NaN   \n",
      "69752  2008      1          22          2      NaN         840      NaN   \n",
      "69755  2008      6           3          2      NaN        1304      NaN   \n",
      "69766  2008      2          12          2      NaN        1123      NaN   \n",
      "69818  2008      6           9          1      NaN        1645      NaN   \n",
      "69836  2008      1          25          5      NaN         938      NaN   \n",
      "69884  2008     12          26          5      NaN        1935      NaN   \n",
      "69918  2008      3           1          6      NaN         600      NaN   \n",
      "69949  2008      1          21          1      NaN        1630      NaN   \n",
      "\n",
      "       CRSArrTime UniqueCarrier  FlightNum TailNum  ActualElapsedTime  \\\n",
      "11           1940            AA        484     NaN                NaN   \n",
      "78            930            EV       4772  N683BR                NaN   \n",
      "103          1355            FL        816  N990AT                NaN   \n",
      "112           758            NW       1281  N526US                NaN   \n",
      "128          2005            UA       1251     NaN                NaN   \n",
      "194          1719            UA        753     NaN                NaN   \n",
      "204          1421            OH       5765  N528CA                NaN   \n",
      "236           917            OO       6151  N728SK                NaN   \n",
      "257          1435            AA       1853     NaN                NaN   \n",
      "267          1515            WN       2049     NaN                NaN   \n",
      "269          1535            MQ       3677     NaN                NaN   \n",
      "288          1222            US        535     NaN                NaN   \n",
      "352          2122            AS        190  N794AS                NaN   \n",
      "375          1208            DL       1053  N651DL                NaN   \n",
      "423          1730            MQ       3965     NaN                NaN   \n",
      "428          1341            DL       1920  N914DE                NaN   \n",
      "429          1934            AA       2473     NaN                NaN   \n",
      "430           911            YV       2748  N37178                NaN   \n",
      "445           912            YV       2668  N922FJ                NaN   \n",
      "526           930            AA        482  N450AA                NaN   \n",
      "554           955            9E       2183     NaN                NaN   \n",
      "564          1739            CO       1678     NaN                NaN   \n",
      "572          1610            NW        135  N8960E                NaN   \n",
      "583          1959            XE       2124     NaN                NaN   \n",
      "648          2140            OO       5452  N223SW                NaN   \n",
      "675           803            NW        411  N316US                NaN   \n",
      "720          1655            MQ       4919     NaN                NaN   \n",
      "721          2149            YV       7278  N27173                NaN   \n",
      "816          1658            B6        119  N712JB                NaN   \n",
      "821           529            AS        132  N625AS                NaN   \n",
      "...           ...           ...        ...     ...                ...   \n",
      "69037        1322            9E       2063   9169E                NaN   \n",
      "69045        2020            WN       1678  N626SW                NaN   \n",
      "69046        2133            B6        647  N563JB                NaN   \n",
      "69108         929            AA       1463     NaN                NaN   \n",
      "69130        1644            XE       2145     NaN                NaN   \n",
      "69133        2146            UA       1221     NaN                NaN   \n",
      "69135        1956            EV       4932  N754EV                NaN   \n",
      "69136        1648            EV       4383  N981EV                NaN   \n",
      "69138        1910            XE       2819     NaN                NaN   \n",
      "69152        1859            MQ       4178     NaN                NaN   \n",
      "69184        1220            OO       6814  N934SW                NaN   \n",
      "69189        1558            9E       4796     NaN                NaN   \n",
      "69249        2345            AA       2470     NaN                NaN   \n",
      "69310        2239            FL        708  N300AT                NaN   \n",
      "69374        2058            EV       4318  N875AS                NaN   \n",
      "69540        1758            XE       2075     NaN                NaN   \n",
      "69570        1201            US       1819     NaN                NaN   \n",
      "69607         946            DL       1912  N908DE                NaN   \n",
      "69672        2010            XE       2144     NaN                NaN   \n",
      "69703        2154            UA        637     NaN                NaN   \n",
      "69710        1501            US       1638     NaN                NaN   \n",
      "69748        1957            OO       6707  N745SK                NaN   \n",
      "69752        1009            EV       4173  N724EV                NaN   \n",
      "69755        1435            OO       5785  N295UX                NaN   \n",
      "69766        1338            US         71     NaN                NaN   \n",
      "69818        1800            MQ       3627     NaN                NaN   \n",
      "69836        1030            MQ       3254     NaN                NaN   \n",
      "69884        2116            NW       1430  N330NW                NaN   \n",
      "69918         742            EV       4715  N635AS                NaN   \n",
      "69949        1729            MQ       4198     NaN                NaN   \n",
      "\n",
      "       CRSElapsedTime  AirTime  ArrDelay  DepDelay Origin Dest  Distance  \\\n",
      "11              155.0      NaN       NaN       NaN    DFW  MIA      1121   \n",
      "78              100.0      NaN       NaN       NaN    ATL  CAK       528   \n",
      "103              85.0      NaN       NaN       NaN    BOS  BWI       370   \n",
      "112              98.0      NaN       NaN       NaN    MDW  MSP       349   \n",
      "128              87.0      NaN       NaN       NaN    DSM  ORD       299   \n",
      "194              99.0      NaN       NaN       NaN    CLE  ORD       316   \n",
      "204             112.0      NaN       NaN       NaN    LGA  RDU       431   \n",
      "236             153.0      NaN       NaN       NaN    EUG  DEN       997   \n",
      "257             110.0      NaN       NaN       NaN    DFW  COS       592   \n",
      "267              75.0      NaN       NaN       NaN    OAK  ONT       361   \n",
      "269             110.0      NaN       NaN       NaN    DFW  DSM       624   \n",
      "288              67.0      NaN       NaN       NaN    SNA  LAS       226   \n",
      "352              59.0      NaN       NaN       NaN    FAI  ANC       261   \n",
      "375             333.0      NaN       NaN       NaN    ATL  SEA      2182   \n",
      "423              50.0      NaN       NaN       NaN    ORD  MLI       139   \n",
      "428              72.0      NaN       NaN       NaN    LGA  BOS       185   \n",
      "429             194.0      NaN       NaN       NaN    DFW  LAX      1235   \n",
      "430             181.0      NaN       NaN       NaN    DSM  PHX      1149   \n",
      "445              97.0      NaN       NaN       NaN    MEM  CLT       512   \n",
      "526              65.0      NaN       NaN       NaN    AUS  DFW       190   \n",
      "554             175.0      NaN       NaN       NaN    BOS  IND       817   \n",
      "564              69.0      NaN       NaN       NaN    SAT  IAH       191   \n",
      "572              91.0      NaN       NaN       NaN    ORD  MSP       334   \n",
      "583              74.0      NaN       NaN       NaN    ORD  CLE       316   \n",
      "648              39.0      NaN       NaN       NaN    MRY  SFO        77   \n",
      "675              63.0      NaN       NaN       NaN    FAR  MSP       223   \n",
      "720             115.0      NaN       NaN       NaN    LGA  CMH       478   \n",
      "721              79.0      NaN       NaN       NaN    ORD  CAK       344   \n",
      "816             198.0      NaN       NaN       NaN    JFK  MSY      1182   \n",
      "821             219.0      NaN       NaN       NaN    ANC  PDX      1542   \n",
      "...               ...      ...       ...       ...    ...  ...       ...   \n",
      "69037             NaN      NaN       NaN       NaN    GSP  ATL       153   \n",
      "69045            75.0      NaN       NaN       NaN    SAN  LAS       258   \n",
      "69046           393.0      NaN       NaN       NaN    JFK  SFO      2586   \n",
      "69108           189.0      NaN       NaN       NaN    PBI  ORD      1144   \n",
      "69130           139.0      NaN       NaN       NaN    OMA  IAH       781   \n",
      "69133           142.0      NaN       NaN       NaN    DEN  BUR       850   \n",
      "69135            96.0      NaN       NaN       NaN    MLB  ATL       443   \n",
      "69136            98.0      NaN       NaN       NaN    ATL  IND       432   \n",
      "69138            75.0      NaN       NaN       NaN    JAN  IAH       351   \n",
      "69152           144.0      NaN       NaN       NaN    RIC  ORD       642   \n",
      "69184            61.0      NaN       NaN       NaN    ORD  CWA       213   \n",
      "69189           118.0      NaN       NaN       NaN    IND  PHL       587   \n",
      "69249           110.0      NaN       NaN       NaN    ORD  RDU       647   \n",
      "69310           129.0      NaN       NaN       NaN    MCO  DAY       808   \n",
      "69374           119.0      NaN       NaN       NaN    ATL  BMI       533   \n",
      "69540            83.0      NaN       NaN       NaN    PVD  EWR       160   \n",
      "69570            91.0      NaN       NaN       NaN    BOS  PHL       280   \n",
      "69607            76.0      NaN       NaN       NaN    LGA  BOS       185   \n",
      "69672            73.0      NaN       NaN       NaN    ROC  CLE       245   \n",
      "69703           169.0      NaN       NaN       NaN    BOS  ORD       867   \n",
      "69710           141.0      NaN       NaN       NaN    ATL  PHL       665   \n",
      "69748            47.0      NaN       NaN       NaN    DEN  ASE       125   \n",
      "69752            89.0      NaN       NaN       NaN    ATL  IND       432   \n",
      "69755            91.0      NaN       NaN       NaN    CEC  SFO       304   \n",
      "69766           195.0      NaN       NaN       NaN    PHX  SEA      1107   \n",
      "69818            75.0      NaN       NaN       NaN    DFW  CRP       354   \n",
      "69836            52.0      NaN       NaN       NaN    ACT  DFW        89   \n",
      "69884           101.0      NaN       NaN       NaN    MEM  MKE       556   \n",
      "69918           102.0      NaN       NaN       NaN    MYR  ATL       317   \n",
      "69949            59.0      NaN       NaN       NaN    GRB  ORD       174   \n",
      "\n",
      "       TaxiIn  TaxiOut  Cancelled CancellationCode  Diverted  CarrierDelay  \\\n",
      "11        NaN      NaN          1                B         0           NaN   \n",
      "78        NaN      NaN          1                B         0           NaN   \n",
      "103       NaN      NaN          1                A         0           NaN   \n",
      "112       NaN      NaN          1                B         0           NaN   \n",
      "128       NaN      NaN          1                A         0           NaN   \n",
      "194       NaN      NaN          1                C         0           NaN   \n",
      "204       NaN      NaN          1                A         0           NaN   \n",
      "236       NaN      NaN          1                A         0           NaN   \n",
      "257       NaN      NaN          1                A         0           NaN   \n",
      "267       NaN      NaN          1                A         0           NaN   \n",
      "269       NaN      NaN          1                B         0           NaN   \n",
      "288       NaN      NaN          1                A         0           NaN   \n",
      "352       NaN      NaN          1                A         0           NaN   \n",
      "375       NaN      NaN          1                A         0           NaN   \n",
      "423       NaN      NaN          1                C         0           NaN   \n",
      "428       NaN      NaN          1                C         0           NaN   \n",
      "429       NaN      NaN          1                B         0           NaN   \n",
      "430       NaN      NaN          1                A         0           NaN   \n",
      "445       NaN      NaN          1                A         0           NaN   \n",
      "526       NaN      NaN          1                A         0           NaN   \n",
      "554       NaN      NaN          1                A         0           NaN   \n",
      "564       NaN      NaN          1                B         0           NaN   \n",
      "572       NaN      NaN          1                B         0           NaN   \n",
      "583       NaN      NaN          1                C         0           NaN   \n",
      "648       NaN      NaN          1                C         0           NaN   \n",
      "675       NaN      NaN          1                B         0           NaN   \n",
      "720       NaN      NaN          1                C         0           NaN   \n",
      "721       NaN      NaN          1                C         0           NaN   \n",
      "816       NaN      NaN          1                B         0           NaN   \n",
      "821       NaN      NaN          1                A         0           NaN   \n",
      "...       ...      ...        ...              ...       ...           ...   \n",
      "69037     NaN      NaN          1                C         0           NaN   \n",
      "69045     NaN      NaN          1                A         0           NaN   \n",
      "69046     NaN      NaN          1                B         0           NaN   \n",
      "69108     NaN      NaN          1                B         0           NaN   \n",
      "69130     NaN      NaN          1                B         0           NaN   \n",
      "69133     NaN      NaN          1                A         0           NaN   \n",
      "69135     NaN      NaN          1                C         0           NaN   \n",
      "69136     NaN      NaN          1                C         0           NaN   \n",
      "69138     NaN      NaN          1                B         0           NaN   \n",
      "69152     NaN      NaN          1                C         0           NaN   \n",
      "69184     NaN      NaN          1                A         0           NaN   \n",
      "69189     NaN      NaN          1                A         0           NaN   \n",
      "69249     NaN      NaN          1                B         0           NaN   \n",
      "69310     NaN      NaN          1                A         0           NaN   \n",
      "69374     NaN      NaN          1                B         0           NaN   \n",
      "69540     NaN      NaN          1                C         0           NaN   \n",
      "69570     NaN      NaN          1                C         0           NaN   \n",
      "69607     NaN      NaN          1                C         0           NaN   \n",
      "69672     NaN      NaN          1                B         0           NaN   \n",
      "69703     NaN      NaN          1                A         0           NaN   \n",
      "69710     NaN      NaN          1                A         0           NaN   \n",
      "69748     NaN      NaN          1                B         0           NaN   \n",
      "69752     NaN      NaN          1                B         0           NaN   \n",
      "69755     NaN      NaN          1                C         0           NaN   \n",
      "69766     NaN      NaN          1                A         0           NaN   \n",
      "69818     NaN      NaN          1                C         0           NaN   \n",
      "69836     NaN      NaN          1                B         0           NaN   \n",
      "69884     NaN      NaN          1                B         0           NaN   \n",
      "69918     NaN      NaN          1                A         0           NaN   \n",
      "69949     NaN      NaN          1                C         0           NaN   \n",
      "\n",
      "       WeatherDelay  NASDelay  SecurityDelay  LateAircraftDelay  \n",
      "11              NaN       NaN            NaN                NaN  \n",
      "78              NaN       NaN            NaN                NaN  \n",
      "103             NaN       NaN            NaN                NaN  \n",
      "112             NaN       NaN            NaN                NaN  \n",
      "128             NaN       NaN            NaN                NaN  \n",
      "194             NaN       NaN            NaN                NaN  \n",
      "204             NaN       NaN            NaN                NaN  \n",
      "236             NaN       NaN            NaN                NaN  \n",
      "257             NaN       NaN            NaN                NaN  \n",
      "267             NaN       NaN            NaN                NaN  \n",
      "269             NaN       NaN            NaN                NaN  \n",
      "288             NaN       NaN            NaN                NaN  \n",
      "352             NaN       NaN            NaN                NaN  \n",
      "375             NaN       NaN            NaN                NaN  \n",
      "423             NaN       NaN            NaN                NaN  \n",
      "428             NaN       NaN            NaN                NaN  \n",
      "429             NaN       NaN            NaN                NaN  \n",
      "430             NaN       NaN            NaN                NaN  \n",
      "445             NaN       NaN            NaN                NaN  \n",
      "526             NaN       NaN            NaN                NaN  \n",
      "554             NaN       NaN            NaN                NaN  \n",
      "564             NaN       NaN            NaN                NaN  \n",
      "572             NaN       NaN            NaN                NaN  \n",
      "583             NaN       NaN            NaN                NaN  \n",
      "648             NaN       NaN            NaN                NaN  \n",
      "675             NaN       NaN            NaN                NaN  \n",
      "720             NaN       NaN            NaN                NaN  \n",
      "721             NaN       NaN            NaN                NaN  \n",
      "816             NaN       NaN            NaN                NaN  \n",
      "821             NaN       NaN            NaN                NaN  \n",
      "...             ...       ...            ...                ...  \n",
      "69037           NaN       NaN            NaN                NaN  \n",
      "69045           NaN       NaN            NaN                NaN  \n",
      "69046           NaN       NaN            NaN                NaN  \n",
      "69108           NaN       NaN            NaN                NaN  \n",
      "69130           NaN       NaN            NaN                NaN  \n",
      "69133           NaN       NaN            NaN                NaN  \n",
      "69135           NaN       NaN            NaN                NaN  \n",
      "69136           NaN       NaN            NaN                NaN  \n",
      "69138           NaN       NaN            NaN                NaN  \n",
      "69152           NaN       NaN            NaN                NaN  \n",
      "69184           NaN       NaN            NaN                NaN  \n",
      "69189           NaN       NaN            NaN                NaN  \n",
      "69249           NaN       NaN            NaN                NaN  \n",
      "69310           NaN       NaN            NaN                NaN  \n",
      "69374           NaN       NaN            NaN                NaN  \n",
      "69540           NaN       NaN            NaN                NaN  \n",
      "69570           NaN       NaN            NaN                NaN  \n",
      "69607           NaN       NaN            NaN                NaN  \n",
      "69672           NaN       NaN            NaN                NaN  \n",
      "69703           NaN       NaN            NaN                NaN  \n",
      "69710           NaN       NaN            NaN                NaN  \n",
      "69748           NaN       NaN            NaN                NaN  \n",
      "69752           NaN       NaN            NaN                NaN  \n",
      "69755           NaN       NaN            NaN                NaN  \n",
      "69766           NaN       NaN            NaN                NaN  \n",
      "69818           NaN       NaN            NaN                NaN  \n",
      "69836           NaN       NaN            NaN                NaN  \n",
      "69884           NaN       NaN            NaN                NaN  \n",
      "69918           NaN       NaN            NaN                NaN  \n",
      "69949           NaN       NaN            NaN                NaN  \n",
      "\n",
      "[1399 rows x 29 columns]\n"
     ]
    }
   ],
   "source": [
    "with pd.option_context('display.max_columns', None):\n",
    "    print(data[data[\"DepDelay\"].isnull()])"
   ]
  },
  {
   "cell_type": "code",
   "execution_count": 481,
   "metadata": {
    "scrolled": true
   },
   "outputs": [
    {
     "name": "stdout",
     "output_type": "stream",
     "text": [
      "         Year        Month   DayofMonth    DayOfWeek  DepTime   CRSDepTime  \\\n",
      "count  1399.0  1399.000000  1399.000000  1399.000000      0.0  1399.000000   \n",
      "mean   2008.0     5.646891    15.562545     3.987848      NaN  1379.989993   \n",
      "std       0.0     3.705114     8.585107     2.018653      NaN   462.847110   \n",
      "min    2008.0     1.000000     1.000000     1.000000      NaN    50.000000   \n",
      "25%    2008.0     2.000000     9.000000     2.000000      NaN  1000.000000   \n",
      "50%    2008.0     5.000000    15.000000     4.000000      NaN  1420.000000   \n",
      "75%    2008.0     9.000000    22.000000     6.000000      NaN  1755.000000   \n",
      "max    2008.0    12.000000    31.000000     7.000000      NaN  2359.000000   \n",
      "\n",
      "       ArrTime   CRSArrTime    FlightNum  ActualElapsedTime  CRSElapsedTime  \\\n",
      "count      0.0  1399.000000  1399.000000                0.0     1395.000000   \n",
      "mean       NaN  1543.809149  2789.937098                NaN      114.856631   \n",
      "std        NaN   480.819451  2131.389377                NaN       57.635620   \n",
      "min        NaN     2.000000     5.000000                NaN       24.000000   \n",
      "25%        NaN  1145.000000   895.000000                NaN       75.000000   \n",
      "50%        NaN  1605.000000  2309.000000                NaN      100.000000   \n",
      "75%        NaN  1940.000000  4444.000000                NaN      141.000000   \n",
      "max        NaN  2359.000000  7794.000000                NaN      404.000000   \n",
      "\n",
      "       AirTime  ArrDelay  DepDelay     Distance  TaxiIn  TaxiOut  Cancelled  \\\n",
      "count      0.0       0.0       0.0  1399.000000     0.0      0.0     1399.0   \n",
      "mean       NaN       NaN       NaN   585.818442     NaN      NaN        1.0   \n",
      "std        NaN       NaN       NaN   461.874840     NaN      NaN        0.0   \n",
      "min        NaN       NaN       NaN    31.000000     NaN      NaN        1.0   \n",
      "25%        NaN       NaN       NaN   256.000000     NaN      NaN        1.0   \n",
      "50%        NaN       NaN       NaN   448.000000     NaN      NaN        1.0   \n",
      "75%        NaN       NaN       NaN   761.000000     NaN      NaN        1.0   \n",
      "max        NaN       NaN       NaN  2704.000000     NaN      NaN        1.0   \n",
      "\n",
      "       Diverted  CarrierDelay  WeatherDelay  NASDelay  SecurityDelay  \\\n",
      "count    1399.0           0.0           0.0       0.0            0.0   \n",
      "mean        0.0           NaN           NaN       NaN            NaN   \n",
      "std         0.0           NaN           NaN       NaN            NaN   \n",
      "min         0.0           NaN           NaN       NaN            NaN   \n",
      "25%         0.0           NaN           NaN       NaN            NaN   \n",
      "50%         0.0           NaN           NaN       NaN            NaN   \n",
      "75%         0.0           NaN           NaN       NaN            NaN   \n",
      "max         0.0           NaN           NaN       NaN            NaN   \n",
      "\n",
      "       LateAircraftDelay  \n",
      "count                0.0  \n",
      "mean                 NaN  \n",
      "std                  NaN  \n",
      "min                  NaN  \n",
      "25%                  NaN  \n",
      "50%                  NaN  \n",
      "75%                  NaN  \n",
      "max                  NaN  \n"
     ]
    }
   ],
   "source": [
    "with pd.option_context('display.max_columns', None):\n",
    "    print(data[data[\"DepDelay\"].isnull()].describe())"
   ]
  },
  {
   "cell_type": "markdown",
   "metadata": {},
   "source": [
    "**Для всех этих объектов значение признака Cancelled равно 1 (рейс отменили, следовательно, не может быть речи о задержке рейса). Для этих объектов также будут отсутствовать значения признаков DepTime, ArrTime, ActualElapsedTime, AirTime, ArrDelay, TaxiIn, TaxiOut, а также признаки, кодирующие причину задержки; признак Diverted - с нулевыми значениями.\n",
    "Исключаем переменную Cancelled, которая (после удаления объектов с нулевыми и отсутствующими значениями целевой переменной) для всех объектов будет равна 0, ergo, не будет иметь никакого смысла; бесполезна будет и переменная CancellationCode, показывающая причину отмены рейса.**"
   ]
  },
  {
   "cell_type": "code",
   "execution_count": 482,
   "metadata": {},
   "outputs": [
    {
     "data": {
      "text/plain": [
       "(63404, 26)"
      ]
     },
     "execution_count": 482,
     "metadata": {},
     "output_type": "execute_result"
    }
   ],
   "source": [
    "data2 = data[(data[\"DepDelay\"].notnull()) & (data[\"DepDelay\"] != 0)].drop([\"Cancelled\", \"CancellationCode\"], axis = 1)\n",
    "DepDelay, data3 = data2[\"DepDelay\"], data2.drop(\"DepDelay\", axis = 1)\n",
    "data3.shape"
   ]
  },
  {
   "cell_type": "code",
   "execution_count": 483,
   "metadata": {
    "scrolled": true
   },
   "outputs": [
    {
     "data": {
      "text/plain": [
       "0    16.0\n",
       "1    16.0\n",
       "2    -2.0\n",
       "3    -3.0\n",
       "4    -5.0\n",
       "Name: DepDelay, dtype: float64"
      ]
     },
     "execution_count": 483,
     "metadata": {},
     "output_type": "execute_result"
    }
   ],
   "source": [
    "DepDelay.head()"
   ]
  },
  {
   "cell_type": "markdown",
   "metadata": {},
   "source": [
    "**7. (1 балл)** Обратите внимание, что признаки DepTime, CRSDepTime, ArrTime, CRSArrTime приведены в формате hhmm, в связи с чем будет не вполне корректно рассматривать их как вещественные.\n",
    "\n",
    "Преобразуйте каждый признак FeatureName из указанных в пару новых признаков FeatureName\\_Hour, FeatureName\\_Minute, разделив каждое из значений на часы и минуты. Не забудьте при этом исключить исходный признак из выборки. В случае, если значение признака отсутствует, значения двух новых признаков, его заменяющих, также должны отсутствовать. \n",
    "\n",
    "Например, признак DepTime необходимо заменить на пару признаков DepTime_Hour, DepTime_Minute. При этом, например, значение 155 исходного признака будет преобразовано в значения 1 и 55 признаков DepTime_Hour, DepTime_Minute соответственно."
   ]
  },
  {
   "cell_type": "code",
   "execution_count": 484,
   "metadata": {
    "scrolled": false
   },
   "outputs": [
    {
     "data": {
      "text/html": [
       "<div>\n",
       "<style>\n",
       "    .dataframe thead tr:only-child th {\n",
       "        text-align: right;\n",
       "    }\n",
       "\n",
       "    .dataframe thead th {\n",
       "        text-align: left;\n",
       "    }\n",
       "\n",
       "    .dataframe tbody tr th {\n",
       "        vertical-align: top;\n",
       "    }\n",
       "</style>\n",
       "<table border=\"1\" class=\"dataframe\">\n",
       "  <thead>\n",
       "    <tr style=\"text-align: right;\">\n",
       "      <th></th>\n",
       "      <th>ArrTime</th>\n",
       "      <th>ArrTime_Hour</th>\n",
       "      <th>ArrTime_Minute</th>\n",
       "    </tr>\n",
       "  </thead>\n",
       "  <tbody>\n",
       "    <tr>\n",
       "      <th>149</th>\n",
       "      <td>NaN</td>\n",
       "      <td>NaN</td>\n",
       "      <td>NaN</td>\n",
       "    </tr>\n",
       "    <tr>\n",
       "      <th>631</th>\n",
       "      <td>NaN</td>\n",
       "      <td>NaN</td>\n",
       "      <td>NaN</td>\n",
       "    </tr>\n",
       "    <tr>\n",
       "      <th>637</th>\n",
       "      <td>NaN</td>\n",
       "      <td>NaN</td>\n",
       "      <td>NaN</td>\n",
       "    </tr>\n",
       "    <tr>\n",
       "      <th>673</th>\n",
       "      <td>NaN</td>\n",
       "      <td>NaN</td>\n",
       "      <td>NaN</td>\n",
       "    </tr>\n",
       "    <tr>\n",
       "      <th>1083</th>\n",
       "      <td>NaN</td>\n",
       "      <td>NaN</td>\n",
       "      <td>NaN</td>\n",
       "    </tr>\n",
       "  </tbody>\n",
       "</table>\n",
       "</div>"
      ],
      "text/plain": [
       "      ArrTime  ArrTime_Hour  ArrTime_Minute\n",
       "149       NaN           NaN             NaN\n",
       "631       NaN           NaN             NaN\n",
       "637       NaN           NaN             NaN\n",
       "673       NaN           NaN             NaN\n",
       "1083      NaN           NaN             NaN"
      ]
     },
     "execution_count": 484,
     "metadata": {},
     "output_type": "execute_result"
    }
   ],
   "source": [
    "data3[\"DepTime_Hour\"] = np.floor((data3[\"DepTime\"] / 100))\n",
    "data3[\"DepTime_Minute\"] = data3[\"DepTime\"] - (data3[\"DepTime_Hour\"] * 100)\n",
    "\n",
    "data3[\"CRSDepTime_Hour\"] = np.floor((data3[\"CRSDepTime\"] / 100))\n",
    "data3[\"CRSDepTime_Minute\"] = data3[\"CRSDepTime\"] - (data3[\"CRSDepTime_Hour\"] * 100)\n",
    "\n",
    "data3[\"ArrTime_Hour\"] = np.floor((data3[\"ArrTime\"] / 100))\n",
    "data3[\"ArrTime_Minute\"] = data3[\"ArrTime\"] - (data3[\"ArrTime_Hour\"] * 100)\n",
    "\n",
    "data3[\"CRSArrTime_Hour\"] = np.floor((data3[\"CRSArrTime\"] / 100))\n",
    "data3[\"CRSArrTime_Minute\"] = data3[\"CRSArrTime\"] - (data3[\"CRSArrTime_Hour\"] * 100)\n",
    "\n",
    "data3.loc[data3[\"ArrTime\"].isnull(), [\"ArrTime\", \"ArrTime_Hour\", \"ArrTime_Minute\"]].head()"
   ]
  },
  {
   "cell_type": "code",
   "execution_count": 485,
   "metadata": {
    "scrolled": true
   },
   "outputs": [
    {
     "data": {
      "text/html": [
       "<div>\n",
       "<style>\n",
       "    .dataframe thead tr:only-child th {\n",
       "        text-align: right;\n",
       "    }\n",
       "\n",
       "    .dataframe thead th {\n",
       "        text-align: left;\n",
       "    }\n",
       "\n",
       "    .dataframe tbody tr th {\n",
       "        vertical-align: top;\n",
       "    }\n",
       "</style>\n",
       "<table border=\"1\" class=\"dataframe\">\n",
       "  <thead>\n",
       "    <tr style=\"text-align: right;\">\n",
       "      <th></th>\n",
       "      <th>Year</th>\n",
       "      <th>Month</th>\n",
       "      <th>DayofMonth</th>\n",
       "      <th>DayOfWeek</th>\n",
       "      <th>UniqueCarrier</th>\n",
       "      <th>FlightNum</th>\n",
       "      <th>TailNum</th>\n",
       "      <th>ActualElapsedTime</th>\n",
       "      <th>CRSElapsedTime</th>\n",
       "      <th>AirTime</th>\n",
       "      <th>...</th>\n",
       "      <th>SecurityDelay</th>\n",
       "      <th>LateAircraftDelay</th>\n",
       "      <th>DepTime_Hour</th>\n",
       "      <th>DepTime_Minute</th>\n",
       "      <th>CRSDepTime_Hour</th>\n",
       "      <th>CRSDepTime_Minute</th>\n",
       "      <th>ArrTime_Hour</th>\n",
       "      <th>ArrTime_Minute</th>\n",
       "      <th>CRSArrTime_Hour</th>\n",
       "      <th>CRSArrTime_Minute</th>\n",
       "    </tr>\n",
       "  </thead>\n",
       "  <tbody>\n",
       "    <tr>\n",
       "      <th>0</th>\n",
       "      <td>2008</td>\n",
       "      <td>6</td>\n",
       "      <td>18</td>\n",
       "      <td>3</td>\n",
       "      <td>WN</td>\n",
       "      <td>242</td>\n",
       "      <td>N699SW</td>\n",
       "      <td>57.0</td>\n",
       "      <td>65.0</td>\n",
       "      <td>46.0</td>\n",
       "      <td>...</td>\n",
       "      <td>NaN</td>\n",
       "      <td>NaN</td>\n",
       "      <td>21.0</td>\n",
       "      <td>11.0</td>\n",
       "      <td>20.0</td>\n",
       "      <td>55.0</td>\n",
       "      <td>23.0</td>\n",
       "      <td>8.0</td>\n",
       "      <td>23.0</td>\n",
       "      <td>0.0</td>\n",
       "    </tr>\n",
       "    <tr>\n",
       "      <th>1</th>\n",
       "      <td>2008</td>\n",
       "      <td>6</td>\n",
       "      <td>4</td>\n",
       "      <td>3</td>\n",
       "      <td>XE</td>\n",
       "      <td>2380</td>\n",
       "      <td>N15980</td>\n",
       "      <td>124.0</td>\n",
       "      <td>138.0</td>\n",
       "      <td>108.0</td>\n",
       "      <td>...</td>\n",
       "      <td>NaN</td>\n",
       "      <td>NaN</td>\n",
       "      <td>14.0</td>\n",
       "      <td>26.0</td>\n",
       "      <td>14.0</td>\n",
       "      <td>10.0</td>\n",
       "      <td>17.0</td>\n",
       "      <td>30.0</td>\n",
       "      <td>17.0</td>\n",
       "      <td>28.0</td>\n",
       "    </tr>\n",
       "    <tr>\n",
       "      <th>2</th>\n",
       "      <td>2008</td>\n",
       "      <td>8</td>\n",
       "      <td>3</td>\n",
       "      <td>7</td>\n",
       "      <td>WN</td>\n",
       "      <td>1769</td>\n",
       "      <td>N464WN</td>\n",
       "      <td>138.0</td>\n",
       "      <td>155.0</td>\n",
       "      <td>125.0</td>\n",
       "      <td>...</td>\n",
       "      <td>NaN</td>\n",
       "      <td>NaN</td>\n",
       "      <td>11.0</td>\n",
       "      <td>43.0</td>\n",
       "      <td>11.0</td>\n",
       "      <td>45.0</td>\n",
       "      <td>15.0</td>\n",
       "      <td>1.0</td>\n",
       "      <td>15.0</td>\n",
       "      <td>20.0</td>\n",
       "    </tr>\n",
       "    <tr>\n",
       "      <th>3</th>\n",
       "      <td>2008</td>\n",
       "      <td>1</td>\n",
       "      <td>23</td>\n",
       "      <td>3</td>\n",
       "      <td>OO</td>\n",
       "      <td>3802</td>\n",
       "      <td>N465SW</td>\n",
       "      <td>102.0</td>\n",
       "      <td>111.0</td>\n",
       "      <td>79.0</td>\n",
       "      <td>...</td>\n",
       "      <td>NaN</td>\n",
       "      <td>NaN</td>\n",
       "      <td>11.0</td>\n",
       "      <td>41.0</td>\n",
       "      <td>11.0</td>\n",
       "      <td>44.0</td>\n",
       "      <td>13.0</td>\n",
       "      <td>23.0</td>\n",
       "      <td>13.0</td>\n",
       "      <td>35.0</td>\n",
       "    </tr>\n",
       "    <tr>\n",
       "      <th>4</th>\n",
       "      <td>2008</td>\n",
       "      <td>5</td>\n",
       "      <td>4</td>\n",
       "      <td>7</td>\n",
       "      <td>WN</td>\n",
       "      <td>399</td>\n",
       "      <td>N489WN</td>\n",
       "      <td>148.0</td>\n",
       "      <td>160.0</td>\n",
       "      <td>136.0</td>\n",
       "      <td>...</td>\n",
       "      <td>NaN</td>\n",
       "      <td>NaN</td>\n",
       "      <td>8.0</td>\n",
       "      <td>15.0</td>\n",
       "      <td>8.0</td>\n",
       "      <td>20.0</td>\n",
       "      <td>12.0</td>\n",
       "      <td>43.0</td>\n",
       "      <td>13.0</td>\n",
       "      <td>0.0</td>\n",
       "    </tr>\n",
       "  </tbody>\n",
       "</table>\n",
       "<p>5 rows × 30 columns</p>\n",
       "</div>"
      ],
      "text/plain": [
       "   Year  Month  DayofMonth  DayOfWeek UniqueCarrier  FlightNum TailNum  \\\n",
       "0  2008      6          18          3            WN        242  N699SW   \n",
       "1  2008      6           4          3            XE       2380  N15980   \n",
       "2  2008      8           3          7            WN       1769  N464WN   \n",
       "3  2008      1          23          3            OO       3802  N465SW   \n",
       "4  2008      5           4          7            WN        399  N489WN   \n",
       "\n",
       "   ActualElapsedTime  CRSElapsedTime  AirTime        ...          \\\n",
       "0               57.0            65.0     46.0        ...           \n",
       "1              124.0           138.0    108.0        ...           \n",
       "2              138.0           155.0    125.0        ...           \n",
       "3              102.0           111.0     79.0        ...           \n",
       "4              148.0           160.0    136.0        ...           \n",
       "\n",
       "   SecurityDelay LateAircraftDelay DepTime_Hour  DepTime_Minute  \\\n",
       "0            NaN               NaN         21.0            11.0   \n",
       "1            NaN               NaN         14.0            26.0   \n",
       "2            NaN               NaN         11.0            43.0   \n",
       "3            NaN               NaN         11.0            41.0   \n",
       "4            NaN               NaN          8.0            15.0   \n",
       "\n",
       "   CRSDepTime_Hour  CRSDepTime_Minute  ArrTime_Hour  ArrTime_Minute  \\\n",
       "0             20.0               55.0          23.0             8.0   \n",
       "1             14.0               10.0          17.0            30.0   \n",
       "2             11.0               45.0          15.0             1.0   \n",
       "3             11.0               44.0          13.0            23.0   \n",
       "4              8.0               20.0          12.0            43.0   \n",
       "\n",
       "   CRSArrTime_Hour  CRSArrTime_Minute  \n",
       "0             23.0                0.0  \n",
       "1             17.0               28.0  \n",
       "2             15.0               20.0  \n",
       "3             13.0               35.0  \n",
       "4             13.0                0.0  \n",
       "\n",
       "[5 rows x 30 columns]"
      ]
     },
     "execution_count": 485,
     "metadata": {},
     "output_type": "execute_result"
    }
   ],
   "source": [
    "data4 = data3.drop([\"DepTime\", \"CRSDepTime\", \"ArrTime\", \"CRSArrTime\"], axis = 1)\n",
    "data4.head()"
   ]
  },
  {
   "cell_type": "markdown",
   "metadata": {},
   "source": [
    "**8. (0.5 балла)** Некоторые из признаков, отличных от целевой переменной, могут оказывать чересчур значимое влияние на прогноз, поскольку по своему смыслу содержат большую долю информации о значении целевой переменной. Изучите описание датасета и исключите признаки, сильно коррелирующие с ответами. Ваш выбор признаков для исключения из выборки обоснуйте. Кроме того, исключите признаки TailNum и Year."
   ]
  },
  {
   "cell_type": "code",
   "execution_count": 486,
   "metadata": {
    "scrolled": true
   },
   "outputs": [
    {
     "name": "stdout",
     "output_type": "stream",
     "text": [
      "<class 'pandas.core.frame.DataFrame'>\n",
      "Int64Index: 63404 entries, 0 to 69999\n",
      "Data columns (total 30 columns):\n",
      "Year                 63404 non-null int64\n",
      "Month                63404 non-null int64\n",
      "DayofMonth           63404 non-null int64\n",
      "DayOfWeek            63404 non-null int64\n",
      "UniqueCarrier        63404 non-null object\n",
      "FlightNum            63404 non-null int64\n",
      "TailNum              63404 non-null object\n",
      "ActualElapsedTime    63240 non-null float64\n",
      "CRSElapsedTime       63399 non-null float64\n",
      "AirTime              63240 non-null float64\n",
      "ArrDelay             63240 non-null float64\n",
      "Origin               63404 non-null object\n",
      "Dest                 63404 non-null object\n",
      "Distance             63404 non-null int64\n",
      "TaxiIn               63264 non-null float64\n",
      "TaxiOut              63397 non-null float64\n",
      "Diverted             63404 non-null int64\n",
      "CarrierDelay         14866 non-null float64\n",
      "WeatherDelay         14866 non-null float64\n",
      "NASDelay             14866 non-null float64\n",
      "SecurityDelay        14866 non-null float64\n",
      "LateAircraftDelay    14866 non-null float64\n",
      "DepTime_Hour         63404 non-null float64\n",
      "DepTime_Minute       63404 non-null float64\n",
      "CRSDepTime_Hour      63404 non-null float64\n",
      "CRSDepTime_Minute    63404 non-null float64\n",
      "ArrTime_Hour         63264 non-null float64\n",
      "ArrTime_Minute       63264 non-null float64\n",
      "CRSArrTime_Hour      63404 non-null float64\n",
      "CRSArrTime_Minute    63404 non-null float64\n",
      "dtypes: float64(19), int64(7), object(4)\n",
      "memory usage: 15.0+ MB\n"
     ]
    }
   ],
   "source": [
    "data4.info()"
   ]
  },
  {
   "cell_type": "code",
   "execution_count": 487,
   "metadata": {},
   "outputs": [
    {
     "data": {
      "text/plain": [
       "ActualElapsedTime    0.041946\n",
       "CRSElapsedTime       0.034302\n",
       "AirTime              0.025237\n",
       "ArrDelay             0.933526\n",
       "TaxiIn               0.020640\n",
       "TaxiOut              0.101294\n",
       "CarrierDelay         0.532696\n",
       "WeatherDelay         0.238872\n",
       "NASDelay             0.171591\n",
       "SecurityDelay        0.010668\n",
       "LateAircraftDelay    0.553806\n",
       "dtype: float64"
      ]
     },
     "execution_count": 487,
     "metadata": {},
     "output_type": "execute_result"
    }
   ],
   "source": [
    "data4.select_dtypes([\"float\"]).corrwith(DepDelay)[:-8]"
   ]
  },
  {
   "cell_type": "markdown",
   "metadata": {},
   "source": [
    "Переменная ArrDelay оказывается СИЛЬНО коррелированной с объясняемой переменной (0.93), что логично, поскольку (по смыслу) задержка прибытия не должна сильно отличаться от задержки отправления.\n",
    "Можно также заметить, что одновременное присутствие в датасете признаков типа DepTime, CRSDepTime, ArrTime и CRSArrTime позволяет вычислить длительность задержки рейса, не прибегая к построению прогностических моделей - достаточно просто вычесть из фактического времени время, указанное в расписании (CRS). Таким образом, одновременное нахождение этих признаков в датасете вовсе не необходимо; кажется логичным оставить только время, указанное в расписании (и попробовать спрогнозировать задержку, исходя из расписания).\n",
    "Показатели причины задержки (CarrierDelay и т. д.), казалось бы, также должны нести значительную информацию о задержке рейса, однако, как видно, эти показатели не так сильно коррелируют с объясняемой переменной."
   ]
  },
  {
   "cell_type": "markdown",
   "metadata": {},
   "source": [
    "**Удаляем ArrDelay, DepTime_Hour, DepTime_Minute, ArrTime_Hour, ArrTime_Minute.**"
   ]
  },
  {
   "cell_type": "code",
   "execution_count": 488,
   "metadata": {},
   "outputs": [
    {
     "name": "stdout",
     "output_type": "stream",
     "text": [
      "<class 'pandas.core.frame.DataFrame'>\n",
      "Int64Index: 63404 entries, 0 to 69999\n",
      "Data columns (total 23 columns):\n",
      "Month                63404 non-null int64\n",
      "DayofMonth           63404 non-null int64\n",
      "DayOfWeek            63404 non-null int64\n",
      "UniqueCarrier        63404 non-null object\n",
      "FlightNum            63404 non-null int64\n",
      "ActualElapsedTime    63240 non-null float64\n",
      "CRSElapsedTime       63399 non-null float64\n",
      "AirTime              63240 non-null float64\n",
      "Origin               63404 non-null object\n",
      "Dest                 63404 non-null object\n",
      "Distance             63404 non-null int64\n",
      "TaxiIn               63264 non-null float64\n",
      "TaxiOut              63397 non-null float64\n",
      "Diverted             63404 non-null int64\n",
      "CarrierDelay         14866 non-null float64\n",
      "WeatherDelay         14866 non-null float64\n",
      "NASDelay             14866 non-null float64\n",
      "SecurityDelay        14866 non-null float64\n",
      "LateAircraftDelay    14866 non-null float64\n",
      "CRSDepTime_Hour      63404 non-null float64\n",
      "CRSDepTime_Minute    63404 non-null float64\n",
      "CRSArrTime_Hour      63404 non-null float64\n",
      "CRSArrTime_Minute    63404 non-null float64\n",
      "dtypes: float64(14), int64(6), object(3)\n",
      "memory usage: 11.6+ MB\n"
     ]
    }
   ],
   "source": [
    "data5 = data4.drop([\"ArrDelay\", \"DepTime_Hour\", \"DepTime_Minute\", \"ArrTime_Hour\", \"ArrTime_Minute\", \"TailNum\", \"Year\"], axis = 1)\n",
    "data5.info()"
   ]
  },
  {
   "cell_type": "markdown",
   "metadata": {},
   "source": [
    "Приведем данные к виду, пригодному для обучения линейных моделей. Для этого вещественные признаки надо отмасштабировать, а категориальные — привести к числовому виду. Также надо устранить пропуски в данных."
   ]
  },
  {
   "cell_type": "markdown",
   "metadata": {},
   "source": [
    "**9*. (1 бонусный балл) ** В первую очередь поймем, зачем необходимо применять масштабирование. Следующие ячейки с кодом построят гистограммы для 3 вещественных признаков выборки."
   ]
  },
  {
   "cell_type": "code",
   "execution_count": 489,
   "metadata": {
    "collapsed": true
   },
   "outputs": [],
   "source": [
    "%matplotlib inline"
   ]
  },
  {
   "cell_type": "code",
   "execution_count": 498,
   "metadata": {
    "scrolled": true
   },
   "outputs": [
    {
     "data": {
      "text/plain": [
       "<matplotlib.axes._subplots.AxesSubplot at 0x1f02ea7eb70>"
      ]
     },
     "execution_count": 498,
     "metadata": {},
     "output_type": "execute_result"
    },
    {
     "data": {
      "image/png": "[encoded data removed]",
      "text/plain": [
       "<matplotlib.figure.Figure at 0x1f037041e10>"
      ]
     },
     "metadata": {},
     "output_type": "display_data"
    }
   ],
   "source": [
    "data4['DepTime_Hour'].hist(bins=20)"
   ]
  },
  {
   "cell_type": "code",
   "execution_count": 496,
   "metadata": {
    "scrolled": true
   },
   "outputs": [
    {
     "data": {
      "text/plain": [
       "<matplotlib.axes._subplots.AxesSubplot at 0x1f032a88f60>"
      ]
     },
     "execution_count": 496,
     "metadata": {},
     "output_type": "execute_result"
    },
    {
     "data": {
      "image/png": "[encoded data removed]",
      "text/plain": [
       "<matplotlib.figure.Figure at 0x1f02ea7e908>"
      ]
     },
     "metadata": {},
     "output_type": "display_data"
    }
   ],
   "source": [
    "data['TaxiIn'].hist(bins=20)"
   ]
  },
  {
   "cell_type": "code",
   "execution_count": 497,
   "metadata": {
    "scrolled": false
   },
   "outputs": [
    {
     "data": {
      "text/plain": [
       "<matplotlib.axes._subplots.AxesSubplot at 0x1f03569ea20>"
      ]
     },
     "execution_count": 497,
     "metadata": {},
     "output_type": "execute_result"
    },
    {
     "data": {
      "image/png": "[encoded data removed]",
      "text/plain": [
       "<matplotlib.figure.Figure at 0x1f032a88e10>"
      ]
     },
     "metadata": {},
     "output_type": "display_data"
    }
   ],
   "source": [
    "data['FlightNum'].hist(bins=20)"
   ]
  },
  {
   "cell_type": "markdown",
   "metadata": {},
   "source": [
    "Какую проблему вы наблюдаете на этих графиках? Как масштабирование поможет её исправить?"
   ]
  },
  {
   "cell_type": "markdown",
   "metadata": {},
   "source": [
    "**Проблема - в различных единицах измерения (часы, минуты, безразмерные номера), что приводит к различному размаху значений и сложностям при сопоставлении признаков. В ходе масштабирования все признаки приводятся к одной шкале измерения (нулевое среднее и единичное стандартное отклонение).**"
   ]
  },
  {
   "cell_type": "markdown",
   "metadata": {},
   "source": [
    "**10. (1 балл)** Вдобавок к масштабированию, некоторые из признаков в нашем датасете являются категориальными. Типичным подходом к работе с ними является бинарное, или [one-hot-кодирование](https://en.wikipedia.org/wiki/One-hot).\n",
    "\n",
    "\n",
    "Реализуйте функцию transform_data, которая принимает на вход DataFrame с признаками и выполняет следующие шаги:\n",
    "1. Замена пропущенных значений на нули для вещественных признаков и на строки 'nan' для категориальных.\n",
    "2. Масштабирование вещественных признаков с помощью [StandardScaler](http://scikit-learn.org/stable/modules/generated/sklearn.preprocessing.StandardScaler.html).\n",
    "3. One-hot-кодирование категориальных признаков с помощью [DictVectorizer](http://scikit-learn.org/stable/modules/generated/sklearn.feature_extraction.DictVectorizer.html) или функции [pd.get_dummies](http://pandas.pydata.org/pandas-docs/stable/generated/pandas.get_dummies.html).\n",
    "\n",
    "Метод должен возвращать преобразованный DataFrame, который должна состоять из масштабированных вещественных признаков и закодированных категориальных (исходные признаки должны быть исключены из выборки)."
   ]
  },
  {
   "cell_type": "code",
   "execution_count": 537,
   "metadata": {
    "collapsed": true
   },
   "outputs": [],
   "source": [
    "def transform_data(data):\n",
    "    # Your code here"
   ]
  },
  {
   "cell_type": "markdown",
   "metadata": {},
   "source": [
    "Примените функцию transform_data к данным. Сколько признаков получилось после преобразования?"
   ]
  },
  {
   "cell_type": "code",
   "execution_count": 538,
   "metadata": {
    "collapsed": true,
    "scrolled": true
   },
   "outputs": [],
   "source": [
    "# Your code here"
   ]
  },
  {
   "cell_type": "markdown",
   "metadata": {},
   "source": [
    "**11. (0.75 балла)** Разбейте выборку и вектор целевой переменной на обучение и контроль в отношении 70/30 (для этого можно использовать, например, функцию [train_test_split](http://scikit-learn.org/stable/modules/generated/sklearn.cross_validation.train_test_split.html)). "
   ]
  },
  {
   "cell_type": "code",
   "execution_count": null,
   "metadata": {
    "collapsed": true
   },
   "outputs": [],
   "source": [
    "# Your code here"
   ]
  },
  {
   "cell_type": "markdown",
   "metadata": {},
   "source": [
    "### Scikit-learn\n",
    "\n",
    "<img src = \"https://pp.vk.me/c4534/u35727827/93547647/x_d31c4463.jpg\">\n",
    "Теперь, когда мы привели данные к пригодному виду, попробуем решить задачу при помощи метода наименьших квадратов. Напомним, что данный метод заключается в оптимизации функционала $MSE$:\n",
    "\n",
    "$$MSE(X, y) = \\frac{1}{l} \\sum_{i=1}^l (<w, x_i> - y_i)^2 \\to \\min_{w},$$\n",
    "\n",
    "где $\\{ (x_i, y_i ) \\}_{i=1}^l$ — обучающая выборка, состоящая из $l$ пар объект-ответ.\n",
    "\n",
    "Заметим, что решение данной задачи уже реализовано в модуле sklearn в виде класса [LinearRegression](http://scikit-learn.org/stable/modules/generated/sklearn.linear_model.LinearRegression.html#sklearn.linear_model.LinearRegression).\n",
    "\n",
    "**12. (0.5 балла)** Обучите линейную регрессию на 1000 объектах из обучающей выборки и выведите значения $MSE$ и $R^2$ на этой подвыборке и контрольной выборке (итого 4 различных числа). Проинтерпретируйте полученный результат — насколько качественные прогнозы строит полученная модель? Какие проблемы наблюдаются в модели?\n",
    "\n",
    "**Подсказка**: изучите значения полученных коэффициентов $w$, сохраненных в атрибуте coef_ объекта LinearRegression."
   ]
  },
  {
   "cell_type": "code",
   "execution_count": null,
   "metadata": {
    "collapsed": true
   },
   "outputs": [],
   "source": [
    "# Your code here"
   ]
  },
  {
   "cell_type": "markdown",
   "metadata": {
    "collapsed": true
   },
   "source": [
    "Для решения описанных вами в предыдущем пункте проблем используем L1- или L2-регуляризацию, тем самым получив Lasso и Ridge регрессии соответственно и изменив оптимизационную задачу одним из следующих образов:\n",
    "$$MSE_{L1}(X, y) = \\frac{1}{l} \\sum_{i=1}^l (<w, x_i> - y_i)^2 + \\alpha ||w||_1 \\to \\min_{w},$$\n",
    "$$MSE_{L2}(X, y) = \\frac{1}{l} \\sum_{i=1}^l (<w, x_i> - y_i)^2 + \\alpha ||w||_2^2 \\to \\min_{w},$$\n",
    "\n",
    "где $\\alpha$ — коэффициент регуляризации. Один из способов его подбора заключается в переборе некоторого количества значений и оценке качества на кросс-валидации для каждого из них, после чего выбирается значение, для которого было получено наилучшее качество.\n",
    "\n",
    "**13. (1 балл)** Обучите линейные регрессии с L1- и L2-регуляризатором, подобрав лучшее значение параметра регуляризации из списка alpha_grid при помощи кросс-валидации c 5 фолдами на тех же 1000 объектах, что и в п.12. Выведите значения $MSE$ и $R^2$ на обучающей и контрольной выборках. Удалось ли решить указанные вами ранее проблемы?\n",
    "\n",
    "Для выполнения данного задания вам могут понадобиться реализованные в библиотеке объекты [LassoCV](http://scikit-learn.org/stable/modules/generated/sklearn.linear_model.LassoCV.html), [RidgeCV](http://scikit-learn.org/stable/modules/generated/sklearn.linear_model.RidgeCV.html) и [KFold](http://scikit-learn.org/stable/modules/generated/sklearn.cross_validation.KFold.html).\n"
   ]
  },
  {
   "cell_type": "code",
   "execution_count": null,
   "metadata": {
    "collapsed": true
   },
   "outputs": [],
   "source": [
    "# Your code here"
   ]
  },
  {
   "cell_type": "markdown",
   "metadata": {},
   "source": [
    "### Градиентный спуск\n",
    "\n",
    "В предыдущем разделе мы использовали существующие реализации методов обучения линейной регрессии с регуляризацией и без. Тем не менее, подобные реализации, как правило, имеются лишь для ограниченного набора стандартных методов. В частности, при выходе функционала качества за пределы стандартного множества необходимо самостоятельно реализовывать составляющие процесса решения оптимизационной задачи. Именно этому и посвящен данный раздел задания.\n",
    "\n",
    "Пусть необходимо минимизировать следующий функционал (Mean Square Percentage Error — модифицированный [RMSPE](https://www.kaggle.com/c/rossmann-store-sales/details/evaluation)):\n",
    "$$MSPE(\\{x_i, y_i\\}_{i=1}^l, \\, w) = \\frac{1}{l}\\sum_{i=1}^l \\left( \\frac{y_i - \\langle w, x_i \\rangle }{y_i} \\right)^2,$$\n",
    "\n",
    "где $\\{x_i, y_i\\}_{i=1}^l$ — обучающая выборка, $w$ — вектор весов линейной модели. Будем также рассматривать функционал $MSPE$ с L2-регуляризацией:\n",
    "\n",
    "$$MSPE(\\{x_i, y_i\\}_{i=1}^l, \\, w) = \\frac{1}{l}\\sum_{i=1}^l \\left( \\frac{y_i - \\langle w, x_i \\rangle }{y_i} \\right)^2 + ||w||_2^2.$$\n",
    "\n",
    "**14. (0 баллов)** Добавьте к объектам обеих выборок из п. 11 единичный признак."
   ]
  },
  {
   "cell_type": "code",
   "execution_count": null,
   "metadata": {
    "collapsed": true
   },
   "outputs": [],
   "source": [
    "# Your code here"
   ]
  },
  {
   "cell_type": "markdown",
   "metadata": {},
   "source": [
    "**15. (1 балл)** Реализуйте функции, которые вычисляют:\n",
    " * прогнозы линейной модели;\n",
    " * функционал $MSPE$ и его градиент;\n",
    " * регуляризованный $MSPE$ и его градиент."
   ]
  },
  {
   "cell_type": "code",
   "execution_count": null,
   "metadata": {
    "collapsed": true
   },
   "outputs": [],
   "source": [
    "# возвращает вектор прогнозов линейной модели с вектором весов w для выборки X\n",
    "def make_pred(X, w):\n",
    "    pass"
   ]
  },
  {
   "cell_type": "code",
   "execution_count": null,
   "metadata": {
    "collapsed": true
   },
   "outputs": [],
   "source": [
    "# возвращает значение функционала MSPE для выборки (X, y) и вектора весов w\n",
    "def get_func(w, X, y):\n",
    "    pass"
   ]
  },
  {
   "cell_type": "code",
   "execution_count": null,
   "metadata": {
    "collapsed": true
   },
   "outputs": [],
   "source": [
    "# возвращает градиент функционала MSPE для выборки (X, y) и вектора весов w\n",
    "def get_grad(w, X, y):\n",
    "    pass"
   ]
  },
  {
   "cell_type": "code",
   "execution_count": null,
   "metadata": {
    "collapsed": true
   },
   "outputs": [],
   "source": [
    "# возвращает значение регуляризованного функционала MSPE для выборки (X, y) и вектора весов w\n",
    "def get_reg_func(w, X, y):\n",
    "    pass"
   ]
  },
  {
   "cell_type": "code",
   "execution_count": null,
   "metadata": {
    "collapsed": true
   },
   "outputs": [],
   "source": [
    "# возвращает градиент регуляризованного функционала MSPE для выборки (X, y) и вектора весов w\n",
    "def get_reg_grad(w, X, y):\n",
    "    pass"
   ]
  },
  {
   "cell_type": "markdown",
   "metadata": {},
   "source": [
    "**16. (1 балл)** Реализуйте метод градиентного спуска для описанных функционалов ($MSPE$ и его регуляризованный вариант). Функция должна принимать следующие параметры:\n",
    " - X — матрица \"объект-признак\";\n",
    " - y — вектор целевой переменной;\n",
    " - w0 — начальное значение вектора весов;\n",
    " - step_size — значение темпа обучения;\n",
    " - max_iter — максимальное число итераций;\n",
    " - eps — значение, используемое в критерии останова;\n",
    " - is_reg — бинарный параметр, принимает значение True в случае наличия регуляризации функционала, False — в противном случае.\n",
    " \n",
    "Процесс должен быть остановлен, если выполнено хотя бы одно из следующих условий:\n",
    " - было выполнено заданное количество итераций max_iter;\n",
    " - евклидова норма разности векторов $w$ на соседних итерациях стала меньше, чем eps.\n",
    "\n",
    "Функция должна возвращать полученный в результате оптимизации вектор $w$ и список значений функционала на каждой итерации."
   ]
  },
  {
   "cell_type": "code",
   "execution_count": null,
   "metadata": {
    "collapsed": true
   },
   "outputs": [],
   "source": [
    "def grad_descent(X, y, step_size, max_iter, eps, is_reg):\n",
    "    # Your code here"
   ]
  },
  {
   "cell_type": "markdown",
   "metadata": {},
   "source": [
    "Обучите линейную регрессию с функционалом $MSPE$ на обучающей выборке при помощи метода градиентного спуска и изобразите кривые зависимости значения функционала от номера итерации для различных:\n",
    " * значений размера шага из набора [0.001, 1, 10];\n",
    " * способов начальной инициализации вектора весов (нули, случайные веса).\n",
    "\n",
    "Проанализируйте полученные результаты — влияют ли данные параметры на скорость сходимости и итоговое качество? Если да, то как?"
   ]
  },
  {
   "cell_type": "code",
   "execution_count": null,
   "metadata": {
    "collapsed": true
   },
   "outputs": [],
   "source": [
    "# Your code here"
   ]
  },
  {
   "cell_type": "markdown",
   "metadata": {},
   "source": [
    "**17. (0.5 балла)** Обучите линейную регрессию с функционалом MSPE и его регуляризованным вариантом на обучающей выборке при помощи метода градиентного спуска и изобразите кривые зависимости значения функционала от номера итерации. Исследуйте зависимость скорости сходимости от наличия регуляризации. Обоснуйте, почему так происходит."
   ]
  },
  {
   "cell_type": "code",
   "execution_count": null,
   "metadata": {
    "collapsed": true
   },
   "outputs": [],
   "source": [
    "# Your code here"
   ]
  },
  {
   "cell_type": "markdown",
   "metadata": {},
   "source": [
    "Метод градиентного спуска может быть весьма трудозатратен в случае большого размера обучающей выборки. Поэтому часто используют метод стохастического градиентного спуска, где на каждой итерации выбирается случайный объект из обучающей выборки и обновление весов происходит только по этому объекту. \n",
    "\n",
    "**18*. (1 бонусный балл)**  Реализуйте метод стохастического градиентного спуска (SGD) для описанных функционалов ($MSPE$ и его регуляризованный вариант). Функция должна иметь параметры и возвращаемое значение, аналогичные оным функции grad\\_descent из п.21. Кроме того, должен использоваться аналогичный критерий останова."
   ]
  },
  {
   "cell_type": "code",
   "execution_count": null,
   "metadata": {
    "collapsed": true
   },
   "outputs": [],
   "source": [
    "def sgd(X, y, step_size, max_iter, eps, is_reg):\n",
    "    # Your code here"
   ]
  },
  {
   "cell_type": "markdown",
   "metadata": {},
   "source": [
    "Обучите линейную регрессию с функционалом $MSPE$ и его регуляризованным вариантом на обучающей выборке при помощи метода стохастического градиентного спуска, подобрав при этом размер шага, при котором метод будет сходиться. Нарисуйте график сходимости. Выведите значения $MSPE, MSE, R^2$ на контрольной выборке."
   ]
  },
  {
   "cell_type": "code",
   "execution_count": null,
   "metadata": {
    "collapsed": true
   },
   "outputs": [],
   "source": [
    "# Your code here"
   ]
  },
  {
   "cell_type": "markdown",
   "metadata": {},
   "source": [
    "**19*. (0.5 бонусного балла)** Аналогично п.17 исследуйте зависимость скорости сходимости метода SGD от наличия регуляризации. Обоснуйте, почему так происходит."
   ]
  },
  {
   "cell_type": "code",
   "execution_count": null,
   "metadata": {
    "collapsed": true
   },
   "outputs": [],
   "source": [
    "# Your code here"
   ]
  },
  {
   "cell_type": "markdown",
   "metadata": {},
   "source": [
    "**20. (0.5 балла)** Обучите стандартную линейную регрессию с функционалом качества MSE на обучающей выборке и выведите значение MSPE полученного решения на контрольной выборке. Как оно соотносится с аналогичным результатом для решения, полученного в п.17? Почему?"
   ]
  },
  {
   "cell_type": "code",
   "execution_count": null,
   "metadata": {
    "collapsed": true
   },
   "outputs": [],
   "source": [
    "# Your code here"
   ]
  }
 ],
 "metadata": {
  "anaconda-cloud": {},
  "kernelspec": {
   "display_name": "Python 3",
   "language": "python",
   "name": "python3"
  },
  "language_info": {
   "codemirror_mode": {
    "name": "ipython",
    "version": 3
   },
   "file_extension": ".py",
   "mimetype": "text/x-python",
   "name": "python",
   "nbconvert_exporter": "python",
   "pygments_lexer": "ipython3",
   "version": "3.6.2"
  }
 },
 "nbformat": 4,
 "nbformat_minor": 1
}
