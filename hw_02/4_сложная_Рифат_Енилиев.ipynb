{
 "cells": [
  {
   "cell_type": "markdown",
   "metadata": {},
   "source": [
    "# Машинное обучение, ФЭН ВШЭ\n",
    "\n",
    "# Практическое задание 2\n",
    "(Основано на материалах курса машинного обучения на фкн)\n",
    "\n",
    "## Общая информация\n",
    "\n",
    "Дата выдачи: 21.09.2017\n",
    "\n",
    "Срок сдачи: 8.10.2017 23:59MSK\n",
    "\n",
    "### О задании\n",
    "\n",
    "Практическое задание 1 посвящено изучению основных библиотек для анализа данных, а также линейных моделей и методов их обучения. Вы научитесь:\n",
    " * применять библиотеку NumPy;\n",
    " * подготавливать данные для обучения линейных моделей;\n",
    " * обучать линейную, Lasso и Ridge-регрессии при помощи модуля scikit-learn;\n",
    " * реализовывать обычный и стохастический градиентные спуски;\n",
    " * обучать линейную регрессию для произвольного функционала качества.\n",
    " \n",
    "\n",
    "### Оценивание и штрафы\n",
    "\n",
    "Каждая из задач имеет определенную «стоимость» (указана в скобках около задачи). Максимально допустимая оценка за работу — 10 баллов. Кроме того, некоторые из заданий являются опциональными (необязательными), однако за их выполнение можно получить дополнительные баллы.\n",
    "\n",
    "\n",
    "Задание выполняется самостоятельно. «Похожие» решения считаются плагиатом и все задействованные студенты (в том числе те, у кого списали) не могут получить за него больше 0 баллов (подробнее о плагиате см. на странице курса). Если вы нашли решение какого-то из заданий (или его часть) в открытом источнике, необходимо указать ссылку на этот источник в отдельном блоке в конце Вашей работы (скорее всего вы будете не единственным, кто это нашел, поэтому чтобы исключить подозрение в плагиате, необходима ссылка на источник). \n",
    "\n",
    "Неэффективная реализация кода может негативно отразиться на оценке.\n",
    "\n",
    "\n",
    "### Формат сдачи\n",
    "Для сдачи задания переименуйте получившийся файл \\*.ipynb в соответствии со следующим форматом: *HW1_Username.ipynb*, где *Username* — Ваша фамилия и инициалы на латинице (например, *HW1_IvanovII.ipynb*). Далее отправьте этот файл на почту курса, указав соответствующую тему (см. вики-страничку курча)."
   ]
  },
  {
   "cell_type": "markdown",
   "metadata": {},
   "source": [
    "## Библиотеки для анализа данных\n",
    "\n",
    "### NumPy\n",
    "\n",
    "Во всех заданиях данного раздела запрещено использовать циклы  и list comprehensions. Под вектором и матрицей в данных заданиях понимается одномерный и двумерный numpy.array соответственно."
   ]
  },
  {
   "cell_type": "code",
   "execution_count": 1,
   "metadata": {
    "collapsed": true
   },
   "outputs": [],
   "source": [
    "import numpy as np"
   ]
  },
  {
   "cell_type": "markdown",
   "metadata": {},
   "source": [
    "**1. (0.3 балла)** Реализуйте функцию, возвращающую максимальный элемент в векторе x среди элементов, перед которыми стоит нулевой. Для x = np.array([6, 2, 0, 3, 0, 0, 5, 7, 0]) ответом является 5. Если нулевых элементов нет, функция должна возвращать None.\n"
   ]
  },
  {
   "cell_type": "code",
   "execution_count": 2,
   "metadata": {
    "collapsed": false
   },
   "outputs": [],
   "source": [
    "def max_element(arr):\n",
    "    elem_null=arr==0\n",
    "    null_sum=elem_null.sum()\n",
    "    if null_sum==0:\n",
    "        return None\n",
    "    else:\n",
    "        k_elem=arr[1:][elem_null[:-1]].max()\n",
    "        return k_elem\n",
    "    \n",
    "# http://www.cyberforum.ru/python/thread1659360.html"
   ]
  },
  {
   "cell_type": "code",
   "execution_count": 3,
   "metadata": {
    "collapsed": false
   },
   "outputs": [
    {
     "name": "stdout",
     "output_type": "stream",
     "text": [
      "5 None\n"
     ]
    }
   ],
   "source": [
    "x = np.array([6, 2, 0, 3, 0, 0, 5, 7, 0])\n",
    "y=np.array([1, 2, 4, 3, 5, 7, 6, 8, 9])\n",
    "print(max_element(x),max_element(y))"
   ]
  },
  {
   "cell_type": "markdown",
   "metadata": {},
   "source": [
    "**2. (0.3 балла)** Реализуйте функцию, принимающую на вход матрицу и некоторое число и возвращающую ближайший к числу элемент матрицы. Например: для X = np.arange(0,10).reshape((2, 5)) и v = 3.6 ответом будет 4."
   ]
  },
  {
   "cell_type": "code",
   "execution_count": 861,
   "metadata": {
    "collapsed": false
   },
   "outputs": [],
   "source": [
    "def nearest_value(X, v):\n",
    "    idx = np.abs(X-v*np.ones_like(X)).min()\n",
    "    return int(X[np.where(abs(X-v)==idx)])"
   ]
  },
  {
   "cell_type": "code",
   "execution_count": 862,
   "metadata": {
    "collapsed": false
   },
   "outputs": [
    {
     "data": {
      "text/plain": [
       "4"
      ]
     },
     "execution_count": 862,
     "metadata": {},
     "output_type": "execute_result"
    }
   ],
   "source": [
    "X = np.arange(0,10).reshape(2,5)\n",
    "idx = np.abs(X-3.6*np.ones_like(X)).argmin()\n",
    "idx"
   ]
  },
  {
   "cell_type": "markdown",
   "metadata": {},
   "source": [
    "**3. (0.3 балла)** Реализуйте функцию scale(X), которая принимает на вход матрицу и масштабирует каждый ее столбец (вычитает выборочное среднее и делит на стандартное отклонение). Убедитесь, что в функции не будет происходить деления на ноль. Протестируйте на случайной матрице (для её генерации можно использовать, например, функцию [numpy.random.randint](http://docs.scipy.org/doc/numpy/reference/generated/numpy.random.randint.html))."
   ]
  },
  {
   "cell_type": "code",
   "execution_count": 1187,
   "metadata": {
    "collapsed": false
   },
   "outputs": [],
   "source": [
    "def scale(X):\n",
    "    m=np.mean(X,axis=0)\n",
    "    std=np.std(X,axis=0)\n",
    "    if np.sum(np.where(std==0))==0:\n",
    "        X=(X-m)/std\n",
    "        return X        \n",
    "    else:\n",
    "        return print('zero division') \n",
    "    \n",
    "#https://pastebin.com/j1BWD39H"
   ]
  },
  {
   "cell_type": "code",
   "execution_count": 1167,
   "metadata": {
    "collapsed": false
   },
   "outputs": [
    {
     "data": {
      "text/plain": [
       "array([[ 1.59200589,  0.70920814, -1.73719807,  1.21987509, -0.51832106,\n",
       "        -0.72547625, -1.11803399],\n",
       "       [ 0.45485883,  0.70920814,  0.26726124, -0.97590007,  0.34554737,\n",
       "        -0.72547625, -0.55901699],\n",
       "       [-0.30323922,  0.98198051,  0.93541435, -0.73192505, -1.38218948,\n",
       "        -0.72547625,  0.55901699],\n",
       "       [-0.30323922, -0.92742603,  0.93541435, -0.73192505, -0.08638684,\n",
       "         1.81369063, -0.55901699],\n",
       "       [-1.44038628, -1.47297076, -0.40089186,  1.21987509,  1.64135001,\n",
       "         0.36273813,  1.67705098]])"
      ]
     },
     "execution_count": 1167,
     "metadata": {},
     "output_type": "execute_result"
    }
   ],
   "source": [
    "X=np.random.randint(10, size=(5, 7))\n",
    "scale(X)"
   ]
  },
  {
   "cell_type": "markdown",
   "metadata": {},
   "source": [
    "**4. (0.3 балла)** Реализуйте функцию, которая для заданной матрицы находит:\n",
    " - определитель\n",
    " - след\n",
    " - наименьший и наибольший элементы\n",
    " - норму Фробениуса\n",
    " - собственные числа\n",
    " - обратную матрицу\n",
    "\n",
    "Для тестирования сгенерируйте матрицу с элементами из нормального распределения $\\mathcal{N}$(10,1)"
   ]
  },
  {
   "cell_type": "code",
   "execution_count": 1170,
   "metadata": {
    "collapsed": false
   },
   "outputs": [
    {
     "data": {
      "text/plain": [
       "(18.594705209681901,\n",
       " 20.972422563428651,\n",
       " 11.169630760884077,\n",
       " 8.4714955572977519,\n",
       " 20.192914269309448,\n",
       " array([  0.92765899,  20.04476357]),\n",
       " array([[ 0.60068878, -0.57704416],\n",
       "        [-0.45558644,  0.52718189]]))"
      ]
     },
     "execution_count": 1170,
     "metadata": {},
     "output_type": "execute_result"
    }
   ],
   "source": [
    "def get_stats(X):\n",
    "    return np.linalg.det(X),np.trace(X),np.amax(X), \\\n",
    "        np.amin(X), np.linalg.norm(X,'fro'), np.linalg.eigvals(X),np.linalg.inv(X) \n",
    "\n",
    "mu, sigma = (10,1)\n",
    "x=np.random.normal(mu, sigma, 4)\n",
    "y=x.reshape(2,2)\n",
    "get_stats(y)"
   ]
  },
  {
   "cell_type": "markdown",
   "metadata": {},
   "source": [
    "**5. (0.3 балла)** Повторите 100 раз следующий эксперимент: сгенерируйте две матрицы размера 10×10 из стандартного нормального распределения, перемножьте их (как матрицы) и найдите максимальный элемент. Какое среднее значение по экспериментам у максимальных элементов? 95-процентная квантиль?"
   ]
  },
  {
   "cell_type": "code",
   "execution_count": 1172,
   "metadata": {
    "collapsed": false
   },
   "outputs": [
    {
     "name": "stdout",
     "output_type": "stream",
     "text": [
      "mean 8.51625758919 квантиль 11.9952038838\n"
     ]
    }
   ],
   "source": [
    "l=[]\n",
    "for exp_num in range(100):\n",
    "    mu, sigma = (0,1)\n",
    "    xx=np.random.normal(mu, sigma, 100)\n",
    "    yy=np.random.normal(mu, sigma, 100)\n",
    "    xxx=xx.reshape(10,10)\n",
    "    yyy=yy.reshape(10,10)\n",
    "    mult=np.dot(xxx,yyy)\n",
    "    l.append(np.amax(mult))\n",
    "\n",
    "print('mean',np.mean(l),'квантиль',np.percentile(l, 95))\n",
    "# Your code here"
   ]
  },
  {
   "cell_type": "code",
   "execution_count": null,
   "metadata": {
    "collapsed": false
   },
   "outputs": [],
   "source": []
  },
  {
   "cell_type": "markdown",
   "metadata": {},
   "source": [
    "## Линейная регрессия\n",
    "\n",
    "В этой части мы разберемся с линейной регрессией, способами её обучения и измерением качества ее прогнозов. \n",
    "\n",
    "Будем рассматривать данные по авиарейсам в США за январь-апрель 2008 года для предсказания времени задержки отправления рейса в минутах (DepDelay). Отметим, что под задержкой подразумевается не только опоздание рейса относительно планируемого времени вылета, но и отправление до планируемого времени.\n",
    "\n",
    "\n",
    "[Данные](https://www.dropbox.com/s/dvfitn93obn0rql/2008.csv?dl=0) и их [описание](http://stat-computing.org/dataexpo/2009/the-data.html)\n",
    "\n",
    "### Подготовка данных\n",
    "\n",
    "**6. (0.75 балла)** Считайте выборку из файла при помощи функции pd.read_csv и ответьте на следующие вопросы:\n",
    "   - Имеются ли в данных пропущенные значения?\n",
    "   - Сколько всего пропущенных элементов в таблице \"объект-признак\"?\n",
    "   - Сколько объектов имеют хотя бы один пропуск?\n",
    "   - Сколько признаков имеют хотя бы одно пропущенное значение?"
   ]
  },
  {
   "cell_type": "code",
   "execution_count": 1173,
   "metadata": {
    "collapsed": false,
    "scrolled": true
   },
   "outputs": [],
   "source": [
    "import pandas as pd\n",
    "df=pd.read_csv(\"2008.csv\",skipinitialspace=True,)"
   ]
  },
  {
   "cell_type": "code",
   "execution_count": 323,
   "metadata": {
    "collapsed": false
   },
   "outputs": [
    {
     "data": {
      "text/html": [
       "<div>\n",
       "<table border=\"1\" class=\"dataframe\">\n",
       "  <thead>\n",
       "    <tr style=\"text-align: right;\">\n",
       "      <th></th>\n",
       "      <th>Year</th>\n",
       "      <th>Month</th>\n",
       "      <th>DayofMonth</th>\n",
       "      <th>DayOfWeek</th>\n",
       "      <th>DepTime</th>\n",
       "      <th>CRSDepTime</th>\n",
       "      <th>ArrTime</th>\n",
       "      <th>CRSArrTime</th>\n",
       "      <th>UniqueCarrier</th>\n",
       "      <th>FlightNum</th>\n",
       "      <th>...</th>\n",
       "      <th>TaxiIn</th>\n",
       "      <th>TaxiOut</th>\n",
       "      <th>Cancelled</th>\n",
       "      <th>CancellationCode</th>\n",
       "      <th>Diverted</th>\n",
       "      <th>CarrierDelay</th>\n",
       "      <th>WeatherDelay</th>\n",
       "      <th>NASDelay</th>\n",
       "      <th>SecurityDelay</th>\n",
       "      <th>LateAircraftDelay</th>\n",
       "    </tr>\n",
       "  </thead>\n",
       "  <tbody>\n",
       "    <tr>\n",
       "      <th>0</th>\n",
       "      <td>2008</td>\n",
       "      <td>6</td>\n",
       "      <td>18</td>\n",
       "      <td>3</td>\n",
       "      <td>2111.0</td>\n",
       "      <td>2055</td>\n",
       "      <td>2308.0</td>\n",
       "      <td>2300</td>\n",
       "      <td>WN</td>\n",
       "      <td>242</td>\n",
       "      <td>...</td>\n",
       "      <td>3.0</td>\n",
       "      <td>8.0</td>\n",
       "      <td>0</td>\n",
       "      <td>NaN</td>\n",
       "      <td>0</td>\n",
       "      <td>NaN</td>\n",
       "      <td>NaN</td>\n",
       "      <td>NaN</td>\n",
       "      <td>NaN</td>\n",
       "      <td>NaN</td>\n",
       "    </tr>\n",
       "    <tr>\n",
       "      <th>1</th>\n",
       "      <td>2008</td>\n",
       "      <td>6</td>\n",
       "      <td>4</td>\n",
       "      <td>3</td>\n",
       "      <td>1426.0</td>\n",
       "      <td>1410</td>\n",
       "      <td>1730.0</td>\n",
       "      <td>1728</td>\n",
       "      <td>XE</td>\n",
       "      <td>2380</td>\n",
       "      <td>...</td>\n",
       "      <td>4.0</td>\n",
       "      <td>12.0</td>\n",
       "      <td>0</td>\n",
       "      <td>NaN</td>\n",
       "      <td>0</td>\n",
       "      <td>NaN</td>\n",
       "      <td>NaN</td>\n",
       "      <td>NaN</td>\n",
       "      <td>NaN</td>\n",
       "      <td>NaN</td>\n",
       "    </tr>\n",
       "    <tr>\n",
       "      <th>2</th>\n",
       "      <td>2008</td>\n",
       "      <td>8</td>\n",
       "      <td>3</td>\n",
       "      <td>7</td>\n",
       "      <td>1143.0</td>\n",
       "      <td>1145</td>\n",
       "      <td>1501.0</td>\n",
       "      <td>1520</td>\n",
       "      <td>WN</td>\n",
       "      <td>1769</td>\n",
       "      <td>...</td>\n",
       "      <td>4.0</td>\n",
       "      <td>9.0</td>\n",
       "      <td>0</td>\n",
       "      <td>NaN</td>\n",
       "      <td>0</td>\n",
       "      <td>NaN</td>\n",
       "      <td>NaN</td>\n",
       "      <td>NaN</td>\n",
       "      <td>NaN</td>\n",
       "      <td>NaN</td>\n",
       "    </tr>\n",
       "    <tr>\n",
       "      <th>3</th>\n",
       "      <td>2008</td>\n",
       "      <td>1</td>\n",
       "      <td>23</td>\n",
       "      <td>3</td>\n",
       "      <td>1141.0</td>\n",
       "      <td>1144</td>\n",
       "      <td>1323.0</td>\n",
       "      <td>1335</td>\n",
       "      <td>OO</td>\n",
       "      <td>3802</td>\n",
       "      <td>...</td>\n",
       "      <td>4.0</td>\n",
       "      <td>19.0</td>\n",
       "      <td>0</td>\n",
       "      <td>NaN</td>\n",
       "      <td>0</td>\n",
       "      <td>NaN</td>\n",
       "      <td>NaN</td>\n",
       "      <td>NaN</td>\n",
       "      <td>NaN</td>\n",
       "      <td>NaN</td>\n",
       "    </tr>\n",
       "    <tr>\n",
       "      <th>4</th>\n",
       "      <td>2008</td>\n",
       "      <td>5</td>\n",
       "      <td>4</td>\n",
       "      <td>7</td>\n",
       "      <td>815.0</td>\n",
       "      <td>820</td>\n",
       "      <td>1243.0</td>\n",
       "      <td>1300</td>\n",
       "      <td>WN</td>\n",
       "      <td>399</td>\n",
       "      <td>...</td>\n",
       "      <td>4.0</td>\n",
       "      <td>8.0</td>\n",
       "      <td>0</td>\n",
       "      <td>NaN</td>\n",
       "      <td>0</td>\n",
       "      <td>NaN</td>\n",
       "      <td>NaN</td>\n",
       "      <td>NaN</td>\n",
       "      <td>NaN</td>\n",
       "      <td>NaN</td>\n",
       "    </tr>\n",
       "  </tbody>\n",
       "</table>\n",
       "<p>5 rows × 29 columns</p>\n",
       "</div>"
      ],
      "text/plain": [
       "   Year  Month  DayofMonth  DayOfWeek  DepTime  CRSDepTime  ArrTime  \\\n",
       "0  2008      6          18          3   2111.0        2055   2308.0   \n",
       "1  2008      6           4          3   1426.0        1410   1730.0   \n",
       "2  2008      8           3          7   1143.0        1145   1501.0   \n",
       "3  2008      1          23          3   1141.0        1144   1323.0   \n",
       "4  2008      5           4          7    815.0         820   1243.0   \n",
       "\n",
       "   CRSArrTime UniqueCarrier  FlightNum        ...         TaxiIn  TaxiOut  \\\n",
       "0        2300            WN        242        ...            3.0      8.0   \n",
       "1        1728            XE       2380        ...            4.0     12.0   \n",
       "2        1520            WN       1769        ...            4.0      9.0   \n",
       "3        1335            OO       3802        ...            4.0     19.0   \n",
       "4        1300            WN        399        ...            4.0      8.0   \n",
       "\n",
       "   Cancelled  CancellationCode  Diverted  CarrierDelay WeatherDelay NASDelay  \\\n",
       "0          0               NaN         0           NaN          NaN      NaN   \n",
       "1          0               NaN         0           NaN          NaN      NaN   \n",
       "2          0               NaN         0           NaN          NaN      NaN   \n",
       "3          0               NaN         0           NaN          NaN      NaN   \n",
       "4          0               NaN         0           NaN          NaN      NaN   \n",
       "\n",
       "   SecurityDelay  LateAircraftDelay  \n",
       "0            NaN                NaN  \n",
       "1            NaN                NaN  \n",
       "2            NaN                NaN  \n",
       "3            NaN                NaN  \n",
       "4            NaN                NaN  \n",
       "\n",
       "[5 rows x 29 columns]"
      ]
     },
     "execution_count": 323,
     "metadata": {},
     "output_type": "execute_result"
    }
   ],
   "source": [
    "df.head()"
   ]
  },
  {
   "cell_type": "code",
   "execution_count": 180,
   "metadata": {
    "collapsed": false
   },
   "outputs": [
    {
     "data": {
      "text/plain": [
       "355215"
      ]
     },
     "execution_count": 180,
     "metadata": {},
     "output_type": "execute_result"
    }
   ],
   "source": [
    "#столько всего NaN\n",
    "df.isnull().sum().sum()"
   ]
  },
  {
   "cell_type": "code",
   "execution_count": 1175,
   "metadata": {
    "collapsed": false
   },
   "outputs": [
    {
     "name": "stdout",
     "output_type": "stream",
     "text": [
      "70000 Столько объектов имеют хотя бы один пропуск\n"
     ]
    }
   ],
   "source": [
    "print(df.shape[0]-df.dropna(0,how='any').shape[0],'Столько объектов имеют хотя бы один пропуск')"
   ]
  },
  {
   "cell_type": "code",
   "execution_count": 1111,
   "metadata": {
    "collapsed": false
   },
   "outputs": [
    {
     "data": {
      "text/plain": [
       "29"
      ]
     },
     "execution_count": 1111,
     "metadata": {},
     "output_type": "execute_result"
    }
   ],
   "source": [
    "sum(df.columns.value_counts()) # признаков всего"
   ]
  },
  {
   "cell_type": "code",
   "execution_count": 1176,
   "metadata": {
    "collapsed": false
   },
   "outputs": [
    {
     "name": "stdout",
     "output_type": "stream",
     "text": [
      "16 есть хотя бы 1 пропуск\n"
     ]
    }
   ],
   "source": [
    "print((df.isnull().sum()>=1).sum() ,'есть хотя бы 1 пропуск')"
   ]
  },
  {
   "cell_type": "markdown",
   "metadata": {},
   "source": [
    "Как вы понимаете, также не имеет смысла рассматривать при решении поставленной задачи объекты с пропущенным значением целевой переменной. В связи с этим ответьте на следующие вопросы и выполните соответствующие действия:\n",
    "- Имеются ли пропущенные значения в целевой переменной?\n",
    "- Проанализируйте объекты с пропущенными значениями целевой переменной. Чем вызвано это явление? Что их объединяет? Можно ли в связи с этим, на ваш взгляд, исключить какие-то признаки из рассмотрения? Обоснуйте свою точку зрения.\n",
    "\n",
    "Исключите из выборки объекты **с пропущенным значением целевой переменной и со значением целевой переменной, равным 0**, а также при необходимости исключите признаки в соответствии с вашим ответом на последний вопрос из списка и выделите целевую переменную в отдельный вектор, исключив её из матрицы \"объект-признак\"."
   ]
  },
  {
   "cell_type": "code",
   "execution_count": 964,
   "metadata": {
    "collapsed": false
   },
   "outputs": [
    {
     "data": {
      "text/html": [
       "<div>\n",
       "<table border=\"1\" class=\"dataframe\">\n",
       "  <thead>\n",
       "    <tr style=\"text-align: right;\">\n",
       "      <th></th>\n",
       "      <th>Year</th>\n",
       "      <th>Month</th>\n",
       "      <th>DayofMonth</th>\n",
       "      <th>DayOfWeek</th>\n",
       "      <th>DepTime</th>\n",
       "      <th>CRSDepTime</th>\n",
       "      <th>ArrTime</th>\n",
       "      <th>CRSArrTime</th>\n",
       "      <th>UniqueCarrier</th>\n",
       "      <th>FlightNum</th>\n",
       "      <th>...</th>\n",
       "      <th>TaxiIn</th>\n",
       "      <th>TaxiOut</th>\n",
       "      <th>Cancelled</th>\n",
       "      <th>CancellationCode</th>\n",
       "      <th>Diverted</th>\n",
       "      <th>CarrierDelay</th>\n",
       "      <th>WeatherDelay</th>\n",
       "      <th>NASDelay</th>\n",
       "      <th>SecurityDelay</th>\n",
       "      <th>LateAircraftDelay</th>\n",
       "    </tr>\n",
       "  </thead>\n",
       "  <tbody>\n",
       "    <tr>\n",
       "      <th>11</th>\n",
       "      <td>2008</td>\n",
       "      <td>3</td>\n",
       "      <td>6</td>\n",
       "      <td>4</td>\n",
       "      <td>NaN</td>\n",
       "      <td>1605</td>\n",
       "      <td>NaN</td>\n",
       "      <td>1940</td>\n",
       "      <td>AA</td>\n",
       "      <td>484</td>\n",
       "      <td>...</td>\n",
       "      <td>NaN</td>\n",
       "      <td>NaN</td>\n",
       "      <td>1</td>\n",
       "      <td>B</td>\n",
       "      <td>0</td>\n",
       "      <td>NaN</td>\n",
       "      <td>NaN</td>\n",
       "      <td>NaN</td>\n",
       "      <td>NaN</td>\n",
       "      <td>NaN</td>\n",
       "    </tr>\n",
       "    <tr>\n",
       "      <th>78</th>\n",
       "      <td>2008</td>\n",
       "      <td>1</td>\n",
       "      <td>19</td>\n",
       "      <td>6</td>\n",
       "      <td>NaN</td>\n",
       "      <td>750</td>\n",
       "      <td>NaN</td>\n",
       "      <td>930</td>\n",
       "      <td>EV</td>\n",
       "      <td>4772</td>\n",
       "      <td>...</td>\n",
       "      <td>NaN</td>\n",
       "      <td>NaN</td>\n",
       "      <td>1</td>\n",
       "      <td>B</td>\n",
       "      <td>0</td>\n",
       "      <td>NaN</td>\n",
       "      <td>NaN</td>\n",
       "      <td>NaN</td>\n",
       "      <td>NaN</td>\n",
       "      <td>NaN</td>\n",
       "    </tr>\n",
       "    <tr>\n",
       "      <th>103</th>\n",
       "      <td>2008</td>\n",
       "      <td>7</td>\n",
       "      <td>24</td>\n",
       "      <td>4</td>\n",
       "      <td>NaN</td>\n",
       "      <td>1230</td>\n",
       "      <td>NaN</td>\n",
       "      <td>1355</td>\n",
       "      <td>FL</td>\n",
       "      <td>816</td>\n",
       "      <td>...</td>\n",
       "      <td>NaN</td>\n",
       "      <td>NaN</td>\n",
       "      <td>1</td>\n",
       "      <td>A</td>\n",
       "      <td>0</td>\n",
       "      <td>NaN</td>\n",
       "      <td>NaN</td>\n",
       "      <td>NaN</td>\n",
       "      <td>NaN</td>\n",
       "      <td>NaN</td>\n",
       "    </tr>\n",
       "    <tr>\n",
       "      <th>112</th>\n",
       "      <td>2008</td>\n",
       "      <td>2</td>\n",
       "      <td>4</td>\n",
       "      <td>1</td>\n",
       "      <td>NaN</td>\n",
       "      <td>620</td>\n",
       "      <td>NaN</td>\n",
       "      <td>758</td>\n",
       "      <td>NW</td>\n",
       "      <td>1281</td>\n",
       "      <td>...</td>\n",
       "      <td>NaN</td>\n",
       "      <td>NaN</td>\n",
       "      <td>1</td>\n",
       "      <td>B</td>\n",
       "      <td>0</td>\n",
       "      <td>NaN</td>\n",
       "      <td>NaN</td>\n",
       "      <td>NaN</td>\n",
       "      <td>NaN</td>\n",
       "      <td>NaN</td>\n",
       "    </tr>\n",
       "    <tr>\n",
       "      <th>128</th>\n",
       "      <td>2008</td>\n",
       "      <td>1</td>\n",
       "      <td>21</td>\n",
       "      <td>1</td>\n",
       "      <td>NaN</td>\n",
       "      <td>1838</td>\n",
       "      <td>NaN</td>\n",
       "      <td>2005</td>\n",
       "      <td>UA</td>\n",
       "      <td>1251</td>\n",
       "      <td>...</td>\n",
       "      <td>NaN</td>\n",
       "      <td>NaN</td>\n",
       "      <td>1</td>\n",
       "      <td>A</td>\n",
       "      <td>0</td>\n",
       "      <td>NaN</td>\n",
       "      <td>NaN</td>\n",
       "      <td>NaN</td>\n",
       "      <td>NaN</td>\n",
       "      <td>NaN</td>\n",
       "    </tr>\n",
       "  </tbody>\n",
       "</table>\n",
       "<p>5 rows × 29 columns</p>\n",
       "</div>"
      ],
      "text/plain": [
       "     Year  Month  DayofMonth  DayOfWeek  DepTime  CRSDepTime  ArrTime  \\\n",
       "11   2008      3           6          4      NaN        1605      NaN   \n",
       "78   2008      1          19          6      NaN         750      NaN   \n",
       "103  2008      7          24          4      NaN        1230      NaN   \n",
       "112  2008      2           4          1      NaN         620      NaN   \n",
       "128  2008      1          21          1      NaN        1838      NaN   \n",
       "\n",
       "     CRSArrTime UniqueCarrier  FlightNum        ...         TaxiIn  TaxiOut  \\\n",
       "11         1940            AA        484        ...            NaN      NaN   \n",
       "78          930            EV       4772        ...            NaN      NaN   \n",
       "103        1355            FL        816        ...            NaN      NaN   \n",
       "112         758            NW       1281        ...            NaN      NaN   \n",
       "128        2005            UA       1251        ...            NaN      NaN   \n",
       "\n",
       "     Cancelled  CancellationCode  Diverted  CarrierDelay WeatherDelay  \\\n",
       "11           1                 B         0           NaN          NaN   \n",
       "78           1                 B         0           NaN          NaN   \n",
       "103          1                 A         0           NaN          NaN   \n",
       "112          1                 B         0           NaN          NaN   \n",
       "128          1                 A         0           NaN          NaN   \n",
       "\n",
       "    NASDelay  SecurityDelay  LateAircraftDelay  \n",
       "11       NaN            NaN                NaN  \n",
       "78       NaN            NaN                NaN  \n",
       "103      NaN            NaN                NaN  \n",
       "112      NaN            NaN                NaN  \n",
       "128      NaN            NaN                NaN  \n",
       "\n",
       "[5 rows x 29 columns]"
      ]
     },
     "execution_count": 964,
     "metadata": {},
     "output_type": "execute_result"
    }
   ],
   "source": [
    "nan_objects=df['DepDelay'].index[df['DepDelay'].isnull()]\n",
    "null_objects=df['DepDelay'].index[df['DepDelay']==0]\n",
    "DF=df.iloc[nan_objects]\n",
    "DF.head()\n",
    "\n",
    "# Здесь можно увидеть такую картину , что для этих наблюдений значение DepTime и ArrTime отсутствует, забавно \n",
    "#Сancelled =1 всюду  a Diverted всюду равен 0"
   ]
  },
  {
   "cell_type": "code",
   "execution_count": 1177,
   "metadata": {
    "collapsed": false
   },
   "outputs": [
    {
     "data": {
      "text/plain": [
       "(63404, 25)"
      ]
     },
     "execution_count": 1177,
     "metadata": {},
     "output_type": "execute_result"
    }
   ],
   "source": [
    "df_nan_out=df['DepDelay'].dropna(axis=0,how='any')\n",
    "df_target=df_nan_out[df_nan_out!=0]\n",
    "idx_list=np.array(df_target.index)\n",
    "\n",
    "New_df=df.iloc[idx_list]\n",
    "df_work=New_df.dropna(1,how='any')\n",
    "\n",
    "\n",
    "Y=df_work['DepDelay']\n",
    "New_df=New_df.drop(['Cancelled','Diverted','CancellationCode','DepDelay'],axis=1) \n",
    "# Cancelled - так как мы рассматриваем рейсы которые не были отменены, поэтому пропадает необходимость рассмотрения C\n",
    "# CancellationCode а такж Diverted \n",
    "New_df.shape"
   ]
  },
  {
   "cell_type": "code",
   "execution_count": null,
   "metadata": {
    "collapsed": true
   },
   "outputs": [],
   "source": []
  },
  {
   "cell_type": "markdown",
   "metadata": {},
   "source": [
    "**7. (1 балл)** Обратите внимание, что признаки DepTime, CRSDepTime, ArrTime, CRSArrTime приведены в формате hhmm, в связи с чем будет не вполне корректно рассматривать их как вещественные.\n",
    "\n",
    "Преобразуйте каждый признак FeatureName из указанных в пару новых признаков FeatureName\\_Hour, FeatureName\\_Minute, разделив каждое из значений на часы и минуты. Не забудьте при этом исключить исходный признак из выборки. В случае, если значение признака отсутствует, значения двух новых признаков, его заменяющих, также должны отсутствовать. \n",
    "\n",
    "Например, признак DepTime необходимо заменить на пару признаков DepTime_Hour, DepTime_Minute. При этом, например, значение 155 исходного признака будет преобразовано в значения 1 и 55 признаков DepTime_Hour, DepTime_Minute соответственно."
   ]
  },
  {
   "cell_type": "code",
   "execution_count": 966,
   "metadata": {
    "collapsed": false
   },
   "outputs": [],
   "source": [
    "def time(name):\n",
    "    New_df[name+'_minute']=[time % 100 for time in New_df[name]] \n",
    "    New_df[name+'_hour']=[time // 100 for time in New_df[name]]"
   ]
  },
  {
   "cell_type": "code",
   "execution_count": 967,
   "metadata": {
    "collapsed": false
   },
   "outputs": [],
   "source": [
    "L=['DepTime','ArrTime','CRSDepTime','CRSArrTime']\n",
    "for i in L:\n",
    "    time(i)"
   ]
  },
  {
   "cell_type": "code",
   "execution_count": 968,
   "metadata": {
    "collapsed": false
   },
   "outputs": [],
   "source": [
    "New_df=New_df.drop(L,axis=1)"
   ]
  },
  {
   "cell_type": "code",
   "execution_count": 969,
   "metadata": {
    "collapsed": false
   },
   "outputs": [],
   "source": [
    "DF=New_df"
   ]
  },
  {
   "cell_type": "markdown",
   "metadata": {},
   "source": [
    "**8. (0.5 балла)** Некоторые из признаков, отличных от целевой переменной, могут оказывать чересчур значимое влияние на прогноз, поскольку по своему смыслу содержат большую долю информации о значении целевой переменной. Изучите описание датасета и исключите признаки, сильно коррелирующие с ответами. Ваш выбор признаков для исключения из выборки обоснуйте. Кроме того, исключите признаки TailNum и Year."
   ]
  },
  {
   "cell_type": "code",
   "execution_count": 970,
   "metadata": {
    "collapsed": false
   },
   "outputs": [],
   "source": [
    "DF=DF.drop(['TailNum','Year','Origin'],axis=1)"
   ]
  },
  {
   "cell_type": "markdown",
   "metadata": {},
   "source": [
    "Убираем признак Origin по нескольким причинам, во-первых данный признак имеет почти 300 уникальных значений, и так как мы будем обучать нашу модель на 1000 объектах мы получим весьма разреженные матрицу, у некоторых признаков будут практически нулевые коэффициенты. Здесь стоит оговорить как стоило бы поступить, необходимо было бы посмотреть на распределение значений данного признака по обэектам и выделить кластеры одного значения признака с наибольшим вхождением объектов и уже для них задать отношение порядка"
   ]
  },
  {
   "cell_type": "code",
   "execution_count": 971,
   "metadata": {
    "collapsed": false
   },
   "outputs": [
    {
     "name": "stdout",
     "output_type": "stream",
     "text": [
      "Month -0.0295284355135\n",
      "DayofMonth 0.00857381395908\n",
      "DayOfWeek 0.0085300821683\n",
      "FlightNum 0.0211664495964\n",
      "ActualElapsedTime 0.0419460588407\n",
      "CRSElapsedTime 0.0343018722712\n",
      "AirTime 0.0252373033045\n",
      "ArrDelay 0.933525938482\n",
      "Distance 0.0242523920732\n",
      "TaxiIn 0.020640432286\n",
      "TaxiOut 0.101294189022\n",
      "CarrierDelay 0.532696179045\n",
      "WeatherDelay 0.238872240063\n",
      "NASDelay 0.171590575897\n",
      "SecurityDelay 0.0106679312951\n",
      "LateAircraftDelay 0.553805903594\n",
      "DepTime_minute -0.0170548066739\n",
      "DepTime_hour 0.203124568913\n",
      "ArrTime_minute 0.00617138358464\n",
      "ArrTime_hour 0.0701811108113\n",
      "CRSDepTime_minute 0.0224373274671\n",
      "CRSDepTime_hour 0.140084486975\n",
      "CRSArrTime_minute 0.00860927622987\n",
      "CRSArrTime_hour 0.135560872548\n"
     ]
    }
   ],
   "source": [
    "for i in DF.columns:\n",
    "    if DF[i].dtype !='object':\n",
    "        print(i,Y.corr(DF[i],method='pearson'))"
   ]
  },
  {
   "cell_type": "code",
   "execution_count": null,
   "metadata": {
    "collapsed": false
   },
   "outputs": [],
   "source": []
  },
  {
   "cell_type": "markdown",
   "metadata": {
    "collapsed": true
   },
   "source": [
    "Как можно заметить ArrDelay сильно скореллирован с нашей целевой переменной, поэтому мы буем его дропатьпо\n",
    "Поскольку логично предположить, что для вновь пришедшего в выборку объекта мы не знаем его парметры по таким признакам, как DepTime_Minute, DepTime_Hour а также ArrTime_minute, ArrTime_Hour, нам лишь изестно время отправления и прибытия самолёта по расписанию."
   ]
  },
  {
   "cell_type": "code",
   "execution_count": 972,
   "metadata": {
    "collapsed": false
   },
   "outputs": [
    {
     "data": {
      "text/plain": [
       "Index(['Month', 'DayofMonth', 'DayOfWeek', 'UniqueCarrier', 'FlightNum',\n",
       "       'ActualElapsedTime', 'CRSElapsedTime', 'AirTime', 'Dest', 'Distance',\n",
       "       'TaxiIn', 'TaxiOut', 'CarrierDelay', 'WeatherDelay', 'NASDelay',\n",
       "       'SecurityDelay', 'LateAircraftDelay', 'CRSDepTime_minute',\n",
       "       'CRSDepTime_hour', 'CRSArrTime_minute', 'CRSArrTime_hour'],\n",
       "      dtype='object')"
      ]
     },
     "execution_count": 972,
     "metadata": {},
     "output_type": "execute_result"
    }
   ],
   "source": [
    "Matrix=DF.drop(['ArrDelay','DepTime_minute','DepTime_hour','ArrTime_minute','ArrTime_hour'],axis=1)\n",
    "Matrix.columns"
   ]
  },
  {
   "cell_type": "code",
   "execution_count": null,
   "metadata": {
    "collapsed": false
   },
   "outputs": [],
   "source": []
  },
  {
   "cell_type": "markdown",
   "metadata": {},
   "source": [
    "Приведем данные к виду, пригодному для обучения линейных моделей. Для этого вещественные признаки надо отмасштабировать, а категориальные — привести к числовому виду. Также надо устранить пропуски в данных."
   ]
  },
  {
   "cell_type": "markdown",
   "metadata": {},
   "source": [
    "**9*. (1 бонусный балл) ** В первую очередь поймем, зачем необходимо применять масштабирование. Следующие ячейки с кодом построят гистограммы для 3 вещественных признаков выборки."
   ]
  },
  {
   "cell_type": "code",
   "execution_count": 869,
   "metadata": {
    "collapsed": false,
    "scrolled": true
   },
   "outputs": [
    {
     "data": {
      "text/plain": [
       "<matplotlib.axes._subplots.AxesSubplot at 0x26a89a6ada0>"
      ]
     },
     "execution_count": 869,
     "metadata": {},
     "output_type": "execute_result"
    },
    {
     "data": {
      "image/png": "[encoded data removed]",
      "text/plain": [
       "<matplotlib.figure.Figure at 0x26a89a541d0>"
      ]
     },
     "metadata": {},
     "output_type": "display_data"
    }
   ],
   "source": [
    "%matplotlib inline\n",
    "DF['DepTime_hour'].hist(bins=20)"
   ]
  },
  {
   "cell_type": "code",
   "execution_count": 1156,
   "metadata": {
    "collapsed": false
   },
   "outputs": [
    {
     "data": {
      "text/plain": [
       "<matplotlib.axes._subplots.AxesSubplot at 0x25a82dfd9b0>"
      ]
     },
     "execution_count": 1156,
     "metadata": {},
     "output_type": "execute_result"
    },
    {
     "data": {
      "image/png": "[encoded data removed]",
      "text/plain": [
       "<matplotlib.figure.Figure at 0x25a82ef1b38>"
      ]
     },
     "metadata": {},
     "output_type": "display_data"
    }
   ],
   "source": [
    "DF['TaxiIn'].hist(bins=20)"
   ]
  },
  {
   "cell_type": "code",
   "execution_count": 1157,
   "metadata": {
    "collapsed": false
   },
   "outputs": [
    {
     "data": {
      "text/plain": [
       "<matplotlib.axes._subplots.AxesSubplot at 0x25a84eeefd0>"
      ]
     },
     "execution_count": 1157,
     "metadata": {},
     "output_type": "execute_result"
    },
    {
     "data": {
      "image/png": "[encoded data removed]",
      "text/plain": [
       "<matplotlib.figure.Figure at 0x25a84f3bac8>"
      ]
     },
     "metadata": {},
     "output_type": "display_data"
    }
   ],
   "source": [
    "DF['FlightNum'].hist(bins=20)"
   ]
  },
  {
   "cell_type": "markdown",
   "metadata": {},
   "source": [
    "Какую проблему вы наблюдаете на этих графиках? Как масштабирование поможет её исправить?"
   ]
  },
  {
   "cell_type": "markdown",
   "metadata": {},
   "source": [
    "На этих графиках наблюдается проблема масштаба, при построении регрессии по данным признакам объекты с большими значениями будут вносить больший вклад, в то время как объекты с меньшими значениями признаков будут восприниматься как шумовые объекты, поэтому нужно масштабировать признаки, так как линейные модели весьма чувствительны к масштабируемости"
   ]
  },
  {
   "cell_type": "raw",
   "metadata": {},
   "source": []
  },
  {
   "cell_type": "markdown",
   "metadata": {},
   "source": [
    "**10. (1 балл)** Вдобавок к масштабированию, некоторые из признаков в нашем датасете являются категориальными. Типичным подходом к работе с ними является бинарное, или [one-hot-кодирование](https://en.wikipedia.org/wiki/One-hot).\n",
    "\n",
    "\n",
    "Реализуйте функцию transform_data, которая принимает на вход DataFrame с признаками и выполняет следующие шаги:\n",
    "1. Замена пропущенных значений на нули для вещественных признаков и на строки 'nan' для категориальных.\n",
    "2. Масштабирование вещественных признаков с помощью [StandardScaler](http://scikit-learn.org/stable/modules/generated/sklearn.preprocessing.StandardScaler.html).\n",
    "3. One-hot-кодирование категориальных признаков с помощью [DictVectorizer](http://scikit-learn.org/stable/modules/generated/sklearn.feature_extraction.DictVectorizer.html) или функции [pd.get_dummies](http://pandas.pydata.org/pandas-docs/stable/generated/pandas.get_dummies.html).\n",
    "\n",
    "Метод должен возвращать преобразованный DataFrame, который должна состоять из масштабированных вещественных признаков и закодированных категориальных (исходные признаки должны быть исключены из выборки)."
   ]
  },
  {
   "cell_type": "code",
   "execution_count": 973,
   "metadata": {
    "collapsed": false
   },
   "outputs": [],
   "source": [
    "from sklearn.feature_extraction import DictVectorizer \n",
    "from sklearn.preprocessing import StandardScaler\n",
    "\n",
    "def transform_data(data):\n",
    "    Scaler = StandardScaler()\n",
    "    binary=[]\n",
    "    R=[]\n",
    "    for j in Matrix.columns:\n",
    "        if Matrix[j].dtype != 'object':\n",
    "            R.append(j)\n",
    "        else:\n",
    "            binary.append(j)\n",
    "    data[binary]=data[binary].fillna('nan')\n",
    "    data[R]=data[R].fillna(0)\n",
    "    data_dummies = pd.get_dummies(data[binary])\n",
    "    data[R] = Scaler.fit_transform(data[R])\n",
    "    data=data[R].join(data_dummies)\n",
    "    return data\n",
    "    # Your code here"
   ]
  },
  {
   "cell_type": "markdown",
   "metadata": {},
   "source": [
    "Примените функцию transform_data к данным. Сколько признаков получилось после преобразования?"
   ]
  },
  {
   "cell_type": "code",
   "execution_count": 974,
   "metadata": {
    "collapsed": false
   },
   "outputs": [],
   "source": [
    "Matrix=transform_data(Matrix)"
   ]
  },
  {
   "cell_type": "code",
   "execution_count": 975,
   "metadata": {
    "collapsed": false
   },
   "outputs": [
    {
     "data": {
      "text/plain": [
       "(63404, 337)"
      ]
     },
     "execution_count": 975,
     "metadata": {},
     "output_type": "execute_result"
    }
   ],
   "source": [
    "Matrix.shape"
   ]
  },
  {
   "cell_type": "code",
   "execution_count": null,
   "metadata": {
    "collapsed": false
   },
   "outputs": [],
   "source": []
  },
  {
   "cell_type": "markdown",
   "metadata": {},
   "source": [
    "**11. (0.75 балла)** Разбейте выборку и вектор целевой переменной на обучение и контроль в отношении 70/30 (для этого можно использовать, например, функцию [train_test_split](http://scikit-learn.org/stable/modules/generated/sklearn.cross_validation.train_test_split.html)). "
   ]
  },
  {
   "cell_type": "code",
   "execution_count": 1178,
   "metadata": {
    "collapsed": false
   },
   "outputs": [],
   "source": [
    "from sklearn.cross_validation import train_test_split\n",
    "(X_train, X_test, Y_train, Y_test) = train_test_split(Matrix, Y, test_size = 0.3,random_state=42)"
   ]
  },
  {
   "cell_type": "code",
   "execution_count": 977,
   "metadata": {
    "collapsed": false
   },
   "outputs": [
    {
     "data": {
      "text/plain": [
       "(44382, 337)"
      ]
     },
     "execution_count": 977,
     "metadata": {},
     "output_type": "execute_result"
    }
   ],
   "source": [
    "X_train.shape"
   ]
  },
  {
   "cell_type": "code",
   "execution_count": null,
   "metadata": {
    "collapsed": false
   },
   "outputs": [],
   "source": []
  },
  {
   "cell_type": "markdown",
   "metadata": {},
   "source": [
    "### Scikit-learn\n",
    "\n",
    "<img src = \"https://pp.vk.me/c4534/u35727827/93547647/x_d31c4463.jpg\">\n",
    "Теперь, когда мы привели данные к пригодному виду, попробуем решить задачу при помощи метода наименьших квадратов. Напомним, что данный метод заключается в оптимизации функционала $MSE$:\n",
    "\n",
    "$$MSE(X, y) = \\frac{1}{l} \\sum_{i=1}^l (<w, x_i> - y_i)^2 \\to \\min_{w},$$\n",
    "\n",
    "где $\\{ (x_i, y_i ) \\}_{i=1}^l$ — обучающая выборка, состоящая из $l$ пар объект-ответ.\n",
    "\n",
    "Заметим, что решение данной задачи уже реализовано в модуле sklearn в виде класса [LinearRegression](http://scikit-learn.org/stable/modules/generated/sklearn.linear_model.LinearRegression.html#sklearn.linear_model.LinearRegression).\n",
    "\n",
    "**12. (0.5 балла)** Обучите линейную регрессию на 1000 объектах из обучающей выборки и выведите значения $MSE$ и $R^2$ на этой подвыборке и контрольной выборке (итого 4 различных числа). Проинтерпретируйте полученный результат — насколько качественные прогнозы строит полученная модель? Какие проблемы наблюдаются в модели?\n",
    "\n",
    "**Подсказка**: изучите значения полученных коэффициентов $w$, сохраненных в атрибуте coef_ объекта LinearRegression."
   ]
  },
  {
   "cell_type": "code",
   "execution_count": 979,
   "metadata": {
    "collapsed": false
   },
   "outputs": [],
   "source": [
    "from sklearn.linear_model import LinearRegression as lm\n",
    "import sklearn.metrics as metrics\n",
    "\n",
    "X_low=X_train[:1000]\n",
    "Y_low=Y_train[:1000]\n",
    "linreg=lm()\n",
    "model_1=linreg.fit(X_low,Y_low)"
   ]
  },
  {
   "cell_type": "code",
   "execution_count": 1132,
   "metadata": {
    "collapsed": false
   },
   "outputs": [
    {
     "name": "stdout",
     "output_type": "stream",
     "text": [
      "MSE Train Subset 56.5093595983\n",
      "R2 Train Subset 0.946680061614\n",
      "MSE Test 1.04771617783e+23\n",
      "R2 Test -7.83240253343e+19\n"
     ]
    }
   ],
   "source": [
    "print('MSE Train Subset',metrics.mean_squared_error(Y_low, model_1.predict(X_low)))\n",
    "print('R2 Train Subset',metrics.r2_score(Y_low, model_1.predict(X_low)))\n",
    "print('MSE Test',metrics.mean_squared_error(Y_test, model_1.predict(X_test)))\n",
    "print('R2 Test',metrics.r2_score(Y_test, model_1.predict(X_test)))"
   ]
  },
  {
   "cell_type": "code",
   "execution_count": 1133,
   "metadata": {
    "collapsed": false
   },
   "outputs": [
    {
     "data": {
      "text/html": [
       "<div>\n",
       "<table border=\"1\" class=\"dataframe\">\n",
       "  <thead>\n",
       "    <tr style=\"text-align: right;\">\n",
       "      <th></th>\n",
       "      <th>Coefficients</th>\n",
       "      <th>col_names</th>\n",
       "    </tr>\n",
       "  </thead>\n",
       "  <tbody>\n",
       "    <tr>\n",
       "      <th>0</th>\n",
       "      <td>-0.464055</td>\n",
       "      <td>Month</td>\n",
       "    </tr>\n",
       "    <tr>\n",
       "      <th>1</th>\n",
       "      <td>-0.452051</td>\n",
       "      <td>DayofMonth</td>\n",
       "    </tr>\n",
       "    <tr>\n",
       "      <th>2</th>\n",
       "      <td>0.363589</td>\n",
       "      <td>DayOfWeek</td>\n",
       "    </tr>\n",
       "    <tr>\n",
       "      <th>3</th>\n",
       "      <td>-0.915303</td>\n",
       "      <td>FlightNum</td>\n",
       "    </tr>\n",
       "    <tr>\n",
       "      <th>4</th>\n",
       "      <td>121.195426</td>\n",
       "      <td>ActualElapsedTime</td>\n",
       "    </tr>\n",
       "  </tbody>\n",
       "</table>\n",
       "</div>"
      ],
      "text/plain": [
       "   Coefficients          col_names\n",
       "0     -0.464055              Month\n",
       "1     -0.452051         DayofMonth\n",
       "2      0.363589          DayOfWeek\n",
       "3     -0.915303          FlightNum\n",
       "4    121.195426  ActualElapsedTime"
      ]
     },
     "execution_count": 1133,
     "metadata": {},
     "output_type": "execute_result"
    }
   ],
   "source": [
    "coefficients = pd.DataFrame({\"col_names\":X_train.columns,\"Coefficients\":np.transpose(linreg.coef_)})\n",
    "coefficients.head()"
   ]
  },
  {
   "cell_type": "markdown",
   "metadata": {},
   "source": [
    "Модель настроилась на наши данные и переобучилась, о чём свидетельствует выокий показатель r2 на обучающей и отрицательный на тестовой"
   ]
  },
  {
   "cell_type": "markdown",
   "metadata": {
    "collapsed": true
   },
   "source": [
    "Для решения описанных вами в предыдущем пункте проблем используем L1- или L2-регуляризацию, тем самым получив Lasso и Ridge регрессии соответственно и изменив оптимизационную задачу одним из следующих образов:\n",
    "$$MSE_{L1}(X, y) = \\frac{1}{l} \\sum_{i=1}^l (<w, x_i> - y_i)^2 + \\alpha ||w||_1 \\to \\min_{w},$$\n",
    "$$MSE_{L2}(X, y) = \\frac{1}{l} \\sum_{i=1}^l (<w, x_i> - y_i)^2 + \\alpha ||w||_2^2 \\to \\min_{w},$$\n",
    "\n",
    "где $\\alpha$ — коэффициент регуляризации. Один из способов его подбора заключается в переборе некоторого количества значений и оценке качества на кросс-валидации для каждого из них, после чего выбирается значение, для которого было получено наилучшее качество.\n",
    "\n",
    "**13. (1 балл)** Обучите линейные регрессии с L1- и L2-регуляризатором, подобрав лучшее значение параметра регуляризации из списка alpha_grid при помощи кросс-валидации c 5 фолдами на тех же 1000 объектах, что и в п.12. Выведите значения $MSE$ и $R^2$ на обучающей и контрольной выборках. Удалось ли решить указанные вами ранее проблемы?\n",
    "\n",
    "Для выполнения данного задания вам могут понадобиться реализованные в библиотеке объекты [LassoCV](http://scikit-learn.org/stable/modules/generated/sklearn.linear_model.LassoCV.html), [RidgeCV](http://scikit-learn.org/stable/modules/generated/sklearn.linear_model.RidgeCV.html) и [KFold](http://scikit-learn.org/stable/modules/generated/sklearn.cross_validation.KFold.html).\n"
   ]
  },
  {
   "cell_type": "code",
   "execution_count": 1129,
   "metadata": {
    "collapsed": false
   },
   "outputs": [],
   "source": [
    "from sklearn.linear_model import LassoCV, RidgeCV\n",
    "alpha_grid = np.arange(0.01, 7, 0.01)\n",
    "\n",
    "lasso = LassoCV(alphas = alpha_grid, cv= 5)\n",
    "ridge = RidgeCV(alphas = alpha_grid, cv= 5)\n",
    "model_lasso = lasso.fit(X_low,Y_low)\n",
    "model_ridge = ridge.fit(X_low, Y_low)"
   ]
  },
  {
   "cell_type": "code",
   "execution_count": 1134,
   "metadata": {
    "collapsed": false
   },
   "outputs": [
    {
     "name": "stdout",
     "output_type": "stream",
     "text": [
      "0.03 \n",
      "MSE_lasso Train 67.0791932673 \n",
      "R2_lasso Train: 0.936706795522 \n",
      "MSE_lasso Test: 79.2426992381 \n",
      "R2_lasso Test: 0.940760605648\n"
     ]
    }
   ],
   "source": [
    "print(model_lasso.alpha_,'\\n'\n",
    "      'MSE_lasso Train', metrics.mean_squared_error(Y_low, model_lasso.predict(X_low)),'\\n'\n",
    "      'R2_lasso Train:', metrics.r2_score(Y_low, model_lasso.predict(X_low)), '\\n'\n",
    "      'MSE_lasso Test:', metrics.mean_squared_error(Y_test, model_lasso.predict(X_test)), '\\n'\n",
    "      'R2_lasso Test:', metrics.r2_score(Y_test, model_lasso.predict(X_test)))"
   ]
  },
  {
   "cell_type": "code",
   "execution_count": 1136,
   "metadata": {
    "collapsed": false
   },
   "outputs": [
    {
     "name": "stdout",
     "output_type": "stream",
     "text": [
      "5.19 \n",
      "MSE_ridge Train 64.8821229934 \n",
      "R2_ridge Train: 0.938779861868 \n",
      "MSE_ridge Test: 81.2873160594 \n",
      "R2_ridge Test: 0.939232113266\n"
     ]
    }
   ],
   "source": [
    "print(model_ridge.alpha_,'\\n'\n",
    "      'MSE_ridge Train', metrics.mean_squared_error(Y_low, model_ridge.predict(X_low)),'\\n'\n",
    "      'R2_ridge Train:', metrics.r2_score(Y_low, model_ridge.predict(X_low)), '\\n'\n",
    "      'MSE_ridge Test:', metrics.mean_squared_error(Y_test, model_ridge.predict(X_test)), '\\n'\n",
    "      'R2_ridge Test:', metrics.r2_score(Y_test, model_ridge.predict(X_test)))"
   ]
  },
  {
   "cell_type": "code",
   "execution_count": null,
   "metadata": {
    "collapsed": true
   },
   "outputs": [],
   "source": []
  },
  {
   "cell_type": "markdown",
   "metadata": {},
   "source": [
    "### Градиентный спуск\n",
    "\n",
    "В предыдущем разделе мы использовали существующие реализации методов обучения линейной регрессии с регуляризацией и без. Тем не менее, подобные реализации, как правило, имеются лишь для ограниченного набора стандартных методов. В частности, при выходе функционала качества за пределы стандартного множества необходимо самостоятельно реализовывать составляющие процесса решения оптимизационной задачи. Именно этому и посвящен данный раздел задания.\n",
    "\n",
    "Пусть необходимо минимизировать следующий функционал (Mean Square Percentage Error — модифицированный [RMSPE](https://www.kaggle.com/c/rossmann-store-sales/details/evaluation)):\n",
    "$$MSPE(\\{x_i, y_i\\}_{i=1}^l, \\, w) = \\frac{1}{l}\\sum_{i=1}^l \\left( \\frac{y_i - \\langle w, x_i \\rangle }{y_i} \\right)^2,$$\n",
    "\n",
    "где $\\{x_i, y_i\\}_{i=1}^l$ — обучающая выборка, $w$ — вектор весов линейной модели. Будем также рассматривать функционал $MSPE$ с L2-регуляризацией:\n",
    "\n",
    "$$MSPE(\\{x_i, y_i\\}_{i=1}^l, \\, w) = \\frac{1}{l}\\sum_{i=1}^l \\left( \\frac{y_i - \\langle w, x_i \\rangle }{y_i} \\right)^2 + ||w||_2^2.$$\n",
    "\n",
    "**14. (0 баллов)** Добавьте к объектам обеих выборок из п. 11 единичный признак."
   ]
  },
  {
   "cell_type": "code",
   "execution_count": 1242,
   "metadata": {
    "collapsed": false
   },
   "outputs": [],
   "source": [
    "X_train['One']=1\n",
    "X_test['One']=1\n",
    "# Your code here"
   ]
  },
  {
   "cell_type": "code",
   "execution_count": 885,
   "metadata": {
    "collapsed": false
   },
   "outputs": [
    {
     "data": {
      "text/plain": [
       "Index(['Month', 'DayofMonth', 'DayOfWeek', 'FlightNum', 'ActualElapsedTime',\n",
       "       'CRSElapsedTime', 'AirTime', 'Distance', 'TaxiIn', 'TaxiOut',\n",
       "       ...\n",
       "       'Dest_TYS', 'Dest_VLD', 'Dest_VPS', 'Dest_WRG', 'Dest_WYS', 'Dest_XNA',\n",
       "       'Dest_YAK', 'Dest_YKM', 'Dest_YUM', 'One'],\n",
       "      dtype='object', length=338)"
      ]
     },
     "execution_count": 885,
     "metadata": {},
     "output_type": "execute_result"
    }
   ],
   "source": [
    "X_train.columns"
   ]
  },
  {
   "cell_type": "markdown",
   "metadata": {},
   "source": [
    "**15. (1 балл)** Реализуйте функции, которые вычисляют:\n",
    " * прогнозы линейной модели;\n",
    " * функционал $MSPE$ и его градиент;\n",
    " * регуляризованный $MSPE$ и его градиент."
   ]
  },
  {
   "cell_type": "code",
   "execution_count": 938,
   "metadata": {
    "collapsed": true
   },
   "outputs": [],
   "source": [
    "# возвращает вектор прогнозов линейной модели с вектором весов w для выборки X\n",
    "def make_pred(X, w):\n",
    "    y_pred=np.dot(X,w)\n",
    "    return y_pred\n",
    "    pass"
   ]
  },
  {
   "cell_type": "code",
   "execution_count": 940,
   "metadata": {
    "collapsed": true
   },
   "outputs": [],
   "source": [
    "# возвращает значение функционала MSPE для выборки (X, y) и вектора весов w\n",
    "def get_func(w, X, y):\n",
    "    y_pred=make_pred(X,w)\n",
    "    MSPE=np.dot(((y-y_pred)/y).T,(y-y_pred)/y)/len(y)\n",
    "    return MSPE\n",
    "    pass"
   ]
  },
  {
   "cell_type": "code",
   "execution_count": 941,
   "metadata": {
    "collapsed": false
   },
   "outputs": [],
   "source": [
    "# возвращает градиент функционала MSPE для выборки (X, y) и вектора весов w\n",
    "def get_grad(w, X, y):\n",
    "    y_pred=make_pred(X,w)\n",
    "    gradient = 2*np.dot((-X.T/y), ((y-y_pred)/y))/len(y)\n",
    "    return gradient\n",
    "    pass"
   ]
  },
  {
   "cell_type": "code",
   "execution_count": 942,
   "metadata": {
    "collapsed": true
   },
   "outputs": [],
   "source": [
    "# возвращает значение регуляризованного функционала MSPE для выборки (X, y) и вектора весов w\n",
    "def get_reg_func(w, X, y):\n",
    "    y_pred = make_pred(X, w)\n",
    "    MSPE = (np.dot(((y-y_pred)/y).T, (y-y_pred)/y))/len(y)+np.dot(w.T, w)\n",
    "    return MSPE\n",
    "    pass"
   ]
  },
  {
   "cell_type": "code",
   "execution_count": 1288,
   "metadata": {
    "collapsed": false
   },
   "outputs": [],
   "source": [
    "# возвращает градиент регуляризованного функционала MSPE для выборки (X, y) и вектора весов w\n",
    "def get_reg_grad(w, X, y):\n",
    "    y_pred = make_pred(X, w)\n",
    "    gradient=2*(np.dot((-X.T/y), ((y-y_pred)/y))/len(y)) + 2*w\n",
    "    return gradient\n",
    "    pass"
   ]
  },
  {
   "cell_type": "markdown",
   "metadata": {},
   "source": [
    "**16. (1 балл)** Реализуйте метод градиентного спуска для описанных функционалов ($MSPE$ и его регуляризованный вариант). Функция должна принимать следующие параметры:\n",
    " - X — матрица \"объект-признак\";\n",
    " - y — вектор целевой переменной;\n",
    " - w0 — начальное значение вектора весов;\n",
    " - step_size — значение темпа обучения;\n",
    " - max_iter — максимальное число итераций;\n",
    " - eps — значение, используемое в критерии останова;\n",
    " - is_reg — бинарный параметр, принимает значение True в случае наличия регуляризации функционала, False — в противном случае.\n",
    " \n",
    "Процесс должен быть остановлен, если выполнено хотя бы одно из следующих условий:\n",
    " - было выполнено заданное количество итераций max_iter;\n",
    " - евклидова норма разности векторов $w$ на соседних итерациях стала меньше, чем eps.\n",
    "\n",
    "Функция должна возвращать полученный в результате оптимизации вектор $w$ и список значений функционала на каждой итерации."
   ]
  },
  {
   "cell_type": "code",
   "execution_count": 1301,
   "metadata": {
    "collapsed": false
   },
   "outputs": [],
   "source": [
    "from numpy import linalg as LA\n",
    "from scipy.linalg import norm\n",
    "import matplotlib.pyplot as plt\n",
    "%matplotlib inline\n",
    "\n",
    "def grad_descent(X, y, w0, step_size, max_iter, eps, is_reg):\n",
    "    if is_reg !=True:\n",
    "        points=[]\n",
    "        MSPE=[]\n",
    "        iterations=[]\n",
    "        plt.figure(figsize=(3, 3))\n",
    "        for i in range (1,max_iter):\n",
    "            iterations.append(i)\n",
    "            step_size=step_size/np.sqrt(i)\n",
    "            f=get_func(w0, X, y)\n",
    "            MSPE.append(f)\n",
    "            points.append(w0)\n",
    "            w = w0 - step_size *get_grad(w0, X, y)\n",
    "            #print(MSPE[-1])\n",
    "            if norm(w - w0) < eps:\n",
    "                break \n",
    "            w0=w\n",
    "        plt.plot(iterations,MSPE)\n",
    "        xlabel('Iteration')\n",
    "        ylabel('MSPE')\n",
    "    \n",
    "    else:\n",
    "        points = []\n",
    "        MSPE=[]\n",
    "        iterations=[]\n",
    "        plt.figure(figsize=(3, 3))\n",
    "        for i in range (1,max_iter):\n",
    "            iterations.append(i)\n",
    "            step_size=step_size/np.sqrt(i)\n",
    "            g=get_reg_func(w0, X, y)\n",
    "            MSPE.append(g)\n",
    "            points.append(w0)\n",
    "            w = w0 - step_size *get_reg_grad(w0, X, y)\n",
    "            #print(MSPE[-1])\n",
    "            if norm(w - w0) < eps:\n",
    "                break\n",
    "            w0=w\n",
    "        plt.plot(iterations,MSPE)\n",
    "        xlabel('Iteration')\n",
    "        ylabel('MSPE')\n",
    "    \n",
    "    return points[-1],MSPE,iterations\n",
    "\n",
    "# https://github.com/FilatovArtm/ML_Eco-NES_2017/blob/master/seminars/sem2/sem02.ipynb"
   ]
  },
  {
   "cell_type": "code",
   "execution_count": null,
   "metadata": {
    "collapsed": false
   },
   "outputs": [],
   "source": []
  },
  {
   "cell_type": "markdown",
   "metadata": {},
   "source": [
    "Обучите линейную регрессию с функционалом $MSPE$ на обучающей выборке при помощи метода градиентного спуска и изобразите кривые зависимости значения функционала от номера итерации для различных:\n",
    " * значений размера шага из набора [0.001, 1, 10];\n",
    " * способов начальной инициализации вектора весов (нули, случайные веса).\n",
    "\n",
    "Проанализируйте полученные результаты — влияют ли данные параметры на скорость сходимости и итоговое качество? Если да, то как?"
   ]
  },
  {
   "cell_type": "code",
   "execution_count": 1012,
   "metadata": {
    "collapsed": true
   },
   "outputs": [],
   "source": [
    "step_list=np.array([0.001,1,10])\n",
    "init_w=list([np.zeros(len(X_train.columns)), np.random.random(len(X_train.columns))])"
   ]
  },
  {
   "cell_type": "code",
   "execution_count": 1298,
   "metadata": {
    "collapsed": false
   },
   "outputs": [
    {
     "data": {
      "image/png": "[encoded data removed]",
      "text/plain": [
       "<matplotlib.figure.Figure at 0x26a89b3fe80>"
      ]
     },
     "metadata": {},
     "output_type": "display_data"
    },
    {
     "data": {
      "image/png": "[encoded data removed]",
      "text/plain": [
       "<matplotlib.figure.Figure at 0x26a89abbeb8>"
      ]
     },
     "metadata": {},
     "output_type": "display_data"
    },
    {
     "data": {
      "image/png": "[encoded data removed]",
      "text/plain": [
       "<matplotlib.figure.Figure at 0x26a89ad2dd8>"
      ]
     },
     "metadata": {},
     "output_type": "display_data"
    },
    {
     "data": {
      "image/png": "[encoded data removed]",
      "text/plain": [
       "<matplotlib.figure.Figure at 0x26a9b19e6d8>"
      ]
     },
     "metadata": {},
     "output_type": "display_data"
    },
    {
     "data": {
      "image/png": "[encoded data removed]",
      "text/plain": [
       "<matplotlib.figure.Figure at 0x26aa24f8278>"
      ]
     },
     "metadata": {},
     "output_type": "display_data"
    },
    {
     "data": {
      "image/png": "[encoded data removed]",
      "text/plain": [
       "<matplotlib.figure.Figure at 0x26a92c5aba8>"
      ]
     },
     "metadata": {},
     "output_type": "display_data"
    }
   ],
   "source": [
    "for step in step_list:\n",
    "    for init in range(len(init_w)):\n",
    "        grad_descent(X_train[:1000],Y_train[:1000],init_w[init],step, 20000,1e-05,False)"
   ]
  },
  {
   "cell_type": "markdown",
   "metadata": {},
   "source": [
    "Лучше всего себя показывает нулевая инициализация весов, градиентный спуск сходится быстрее+ значения наименьшие при нулевой инициализации, это всё следствие того, что у нас всё ещё разреженная матрица с признаком Dest, поэтому в ней в идеале для нашей модели должны быть много нулевых элементов"
   ]
  },
  {
   "cell_type": "code",
   "execution_count": 1299,
   "metadata": {
    "collapsed": false
   },
   "outputs": [
    {
     "data": {
      "image/png": "[encoded data removed]",
      "text/plain": [
       "<matplotlib.figure.Figure at 0x26a89a8ccf8>"
      ]
     },
     "metadata": {},
     "output_type": "display_data"
    },
    {
     "data": {
      "image/png": "[encoded data removed]",
      "text/plain": [
       "<matplotlib.figure.Figure at 0x26a89ac1160>"
      ]
     },
     "metadata": {},
     "output_type": "display_data"
    },
    {
     "data": {
      "image/png": "[encoded data removed]",
      "text/plain": [
       "<matplotlib.figure.Figure at 0x26a92ba7978>"
      ]
     },
     "metadata": {},
     "output_type": "display_data"
    },
    {
     "data": {
      "image/png": "[encoded data removed]",
      "text/plain": [
       "<matplotlib.figure.Figure at 0x26a89ab3b38>"
      ]
     },
     "metadata": {},
     "output_type": "display_data"
    },
    {
     "data": {
      "image/png": "[encoded data removed]",
      "text/plain": [
       "<matplotlib.figure.Figure at 0x26a92badc50>"
      ]
     },
     "metadata": {},
     "output_type": "display_data"
    },
    {
     "data": {
      "image/png": "[encoded data removed]",
      "text/plain": [
       "<matplotlib.figure.Figure at 0x26a8c3204e0>"
      ]
     },
     "metadata": {},
     "output_type": "display_data"
    }
   ],
   "source": [
    "for step in step_list:\n",
    "    for init in range(len(init_w)):\n",
    "        grad_descent(X_train[:1000],Y_train[:1000],init_w[init],step, 20000,1e-05,True)"
   ]
  },
  {
   "cell_type": "markdown",
   "metadata": {},
   "source": [
    "**17. (0.5 балла)** Обучите линейную регрессию с функционалом MSPE и его регуляризованным вариантом на обучающей выборке при помощи метода градиентного спуска и изобразите кривые зависимости значения функционала от номера итерации. Исследуйте зависимость скорости сходимости от наличия регуляризации. Обоснуйте, почему так происходит."
   ]
  },
  {
   "cell_type": "code",
   "execution_count": 1351,
   "metadata": {
    "collapsed": false
   },
   "outputs": [
    {
     "data": {
      "image/png": "[encoded data removed]",
      "text/plain": [
       "<matplotlib.figure.Figure at 0x26a92a11ac8>"
      ]
     },
     "metadata": {},
     "output_type": "display_data"
    },
    {
     "data": {
      "image/png": "[encoded data removed]",
      "text/plain": [
       "<matplotlib.figure.Figure at 0x26a92a112e8>"
      ]
     },
     "metadata": {},
     "output_type": "display_data"
    }
   ],
   "source": [
    "w,mspe,itera=grad_descent(X_train,Y_train,np.random.random(len(X_train.columns)),1, 20000,1e-05,True)\n",
    "w_1,mspe_1,itera_1=grad_descent(X_train,Y_train,np.random.random(len(X_train.columns)),1, 20000,1e-05,False)"
   ]
  },
  {
   "cell_type": "markdown",
   "metadata": {},
   "source": [
    "Регуляризованный функционал быстрее ищет минимум, так как он шрафует за наличие больших весов"
   ]
  },
  {
   "cell_type": "code",
   "execution_count": null,
   "metadata": {
    "collapsed": false
   },
   "outputs": [],
   "source": []
  },
  {
   "cell_type": "markdown",
   "metadata": {},
   "source": [
    "Метод градиентного спуска может быть весьма трудозатратен в случае большого размера обучающей выборки. Поэтому часто используют метод стохастического градиентного спуска, где на каждой итерации выбирается случайный объект из обучающей выборки и обновление весов происходит только по этому объекту. \n",
    "\n",
    "**18*. (1 бонусный балл)**  Реализуйте метод стохастического градиентного спуска (SGD) для описанных функционалов ($MSPE$ и его регуляризованный вариант). Функция должна иметь параметры и возвращаемое значение, аналогичные оным функции grad\\_descent из п.21. Кроме того, должен использоваться аналогичный критерий останова."
   ]
  },
  {
   "cell_type": "code",
   "execution_count": null,
   "metadata": {
    "collapsed": true
   },
   "outputs": [],
   "source": []
  },
  {
   "cell_type": "code",
   "execution_count": 1340,
   "metadata": {
    "collapsed": false
   },
   "outputs": [],
   "source": [
    "def get_idx(X):\n",
    "    index_num = np.random.randint(X.shape[0])\n",
    "    return index_num\n",
    "    pass\n",
    "\n",
    "def sgd(X, y,w0, step_size, max_iter, eps, is_reg):\n",
    "    if is_reg !=True:\n",
    "        points=[]\n",
    "        MSPE=[]\n",
    "        iterations=[]\n",
    "        plt.figure(figsize=(4, 4))\n",
    "        for i in range (1,max_iter):\n",
    "            idx=get_idx(X)\n",
    "            iterations.append(i)\n",
    "            step_size=step_size/np.sqrt(i)\n",
    "            f=get_func(w0, X, y)\n",
    "            MSPE.append(f)\n",
    "            points.append(w0)\n",
    "            y_pred=make_pred(X,w0)\n",
    "            sgrad =2*np.dot((-X.loc[X.index[idx]].T/y[X.index[idx]]), ((y[X.index[idx]] - y_pred[idx])/(y[X.index[idx]])))/len(y)\n",
    "            w = w0 - step_size *sgrad\n",
    "            #print(norm(w-w0),MSPE[-1])\n",
    "            if norm(w - w0) < eps:\n",
    "                break \n",
    "            w0=w\n",
    "        plt.plot(iterations,MSPE)\n",
    "    else:\n",
    "        points = []\n",
    "        MSPE=[]\n",
    "        iterations=[]\n",
    "        for i in range (1,max_iter):\n",
    "            idx=get_idx(X)\n",
    "            iterations.append(i)\n",
    "            step_size=step_size/np.sqrt(i)\n",
    "            g=get_reg_func(w0, X, y)\n",
    "            MSPE.append(g)\n",
    "            points.append(w0)\n",
    "            y_pred=make_pred(X,w0)\n",
    "            sgrad = 2*np.dot((-X.loc[X.index[idx]].T/y[X.index[idx]]), ((y[X.index[idx]] - y_pred[idx])/y[X.index[idx]]))/len(y) + 2*w0\n",
    "            w = w0 - step_size *sgrad\n",
    "            #print(norm(w-w0),MSPE[-1])\n",
    "            if norm(w - w0) < eps:\n",
    "                break\n",
    "            w0=w\n",
    "        plt.plot(iterations,MSPE)\n",
    "    \n",
    "    return points[-1],MSPE,iterations\n",
    "    # Your code here"
   ]
  },
  {
   "cell_type": "code",
   "execution_count": null,
   "metadata": {
    "collapsed": false
   },
   "outputs": [],
   "source": []
  },
  {
   "cell_type": "code",
   "execution_count": 1321,
   "metadata": {
    "collapsed": false
   },
   "outputs": [
    {
     "data": {
      "image/png": "[encoded data removed]",
      "text/plain": [
       "<matplotlib.figure.Figure at 0x26a8c32afd0>"
      ]
     },
     "metadata": {},
     "output_type": "display_data"
    }
   ],
   "source": [
    "weights,mspe_s,itera_s=sgd(X_train[:1000],Y_train[:1000],np.random.random(len(X_train.columns)),0.005, 20000,1e-10,False)"
   ]
  },
  {
   "cell_type": "code",
   "execution_count": 1386,
   "metadata": {
    "collapsed": false
   },
   "outputs": [
    {
     "data": {
      "image/png": "[encoded data removed]",
      "text/plain": [
       "<matplotlib.figure.Figure at 0x26a895d22e8>"
      ]
     },
     "metadata": {},
     "output_type": "display_data"
    }
   ],
   "source": [
    "weights,mspe_s,itera_s=sgd(X_train,Y_train,np.zeros(len(X_train.columns)),0.1, 20000,1e-10,False)"
   ]
  },
  {
   "cell_type": "markdown",
   "metadata": {},
   "source": [
    "Обучите линейную регрессию с функционалом $MSPE$ и его регуляризованным вариантом на обучающей выборке при помощи метода стохастического градиентного спуска, подобрав при этом размер шага, при котором метод будет сходиться. Нарисуйте график сходимости. Выведите значения $MSPE, MSE, R^2$ на контрольной выборке."
   ]
  },
  {
   "cell_type": "code",
   "execution_count": 1387,
   "metadata": {
    "collapsed": false
   },
   "outputs": [
    {
     "name": "stdout",
     "output_type": "stream",
     "text": [
      "R2_Test -0.086833055574\n",
      "MSE_Test 1453.8228469\n",
      "MSPE_Test 1.00000002043\n"
     ]
    }
   ],
   "source": [
    "y_prediction=make_pred(X_test,weights)\n",
    "MSPE_s=get_func(weights,X_test,Y_test)\n",
    "print('R2_Test', metrics.r2_score(Y_test,y_prediction))\n",
    "print('MSE_Test', metrics.mean_squared_error(Y_test,y_prediction))\n",
    "print('MSPE_Test', MSPE_s)"
   ]
  },
  {
   "cell_type": "markdown",
   "metadata": {},
   "source": [
    "Необходима регуляризация"
   ]
  },
  {
   "cell_type": "code",
   "execution_count": 1378,
   "metadata": {
    "collapsed": false
   },
   "outputs": [
    {
     "data": {
      "image/png": "[encoded data removed]",
      "text/plain": [
       "<matplotlib.figure.Figure at 0x26a92a2dbe0>"
      ]
     },
     "metadata": {},
     "output_type": "display_data"
    }
   ],
   "source": [
    "weights_r,mspe_s,itera_s=sgd(X_train,Y_train,np.zeros(len(X_train.columns)),0.02, 20000,1e-10,True)"
   ]
  },
  {
   "cell_type": "code",
   "execution_count": 1379,
   "metadata": {
    "collapsed": false
   },
   "outputs": [
    {
     "name": "stdout",
     "output_type": "stream",
     "text": [
      "R2_Test -0.0868330007982\n",
      "MSE_Test 1453.82277363\n",
      "MSPE_Test 0.999999986564\n"
     ]
    }
   ],
   "source": [
    "y_prediction_r=make_pred(X_test,weights_r)\n",
    "MSPE_s=get_func(weights_r,X_test,Y_test)\n",
    "print('R2_Test', metrics.r2_score(Y_test,y_prediction_r))\n",
    "print('MSE_Test', metrics.mean_squared_error(Y_test,y_prediction_r))\n",
    "print('MSPE_Test', MSPE_s)"
   ]
  },
  {
   "cell_type": "markdown",
   "metadata": {},
   "source": [
    "Грустный результат регуляризация не улучшает резульат"
   ]
  },
  {
   "cell_type": "markdown",
   "metadata": {},
   "source": [
    "**19*. (0.5 бонусного балла)** Аналогично п.17 исследуйте зависимость скорости сходимости метода SGD от наличия регуляризации. Обоснуйте, почему так происходит."
   ]
  },
  {
   "cell_type": "code",
   "execution_count": 1368,
   "metadata": {
    "collapsed": false
   },
   "outputs": [
    {
     "data": {
      "image/png": "[encoded data removed]",
      "text/plain": [
       "<matplotlib.figure.Figure at 0x26a8c3145c0>"
      ]
     },
     "metadata": {},
     "output_type": "display_data"
    },
    {
     "data": {
      "image/png": "[encoded data removed]",
      "text/plain": [
       "<matplotlib.figure.Figure at 0x26a89ac7c88>"
      ]
     },
     "metadata": {},
     "output_type": "display_data"
    }
   ],
   "source": [
    "weights_r,mspe_s,itera_s=sgd(X_train,Y_train,np.random.random(len(X_train.columns)),0.05, 20000,1e-10,True)\n",
    "weights,mspe_s,itera_s=sgd(X_train,Y_train,np.random.random(len(X_train.columns)),0.05, 20000,1e-10,False)"
   ]
  },
  {
   "cell_type": "markdown",
   "metadata": {},
   "source": [
    "Аналогичную картину можно наблюдать и здесь MSPE для регуляризованного варианта падает намного быстрее чем не для регуляризованного"
   ]
  },
  {
   "cell_type": "markdown",
   "metadata": {},
   "source": [
    "**20. (0.5 балла)** Обучите стандартную линейную регрессию с функционалом качества MSE на обучающей выборке и выведите значение MSPE полученного решения на контрольной выборке. Как оно соотносится с аналогичным результатом для решения, полученного в п.17? Почему?"
   ]
  },
  {
   "cell_type": "code",
   "execution_count": 1243,
   "metadata": {
    "collapsed": false
   },
   "outputs": [],
   "source": [
    "X_train=X_train.drop(['One'],axis=1)\n",
    "X_test=X_test.drop(['One'],axis=1)"
   ]
  },
  {
   "cell_type": "code",
   "execution_count": 1244,
   "metadata": {
    "collapsed": false
   },
   "outputs": [],
   "source": [
    "linearreg = linreg.fit(X_train, Y_train)"
   ]
  },
  {
   "cell_type": "code",
   "execution_count": 1246,
   "metadata": {
    "collapsed": false
   },
   "outputs": [
    {
     "data": {
      "text/plain": [
       "2.0483424766935101e+23"
      ]
     },
     "execution_count": 1246,
     "metadata": {},
     "output_type": "execute_result"
    }
   ],
   "source": [
    "get_func(linearreg.coef_,X_test,Y_test)"
   ]
  }
 ],
 "metadata": {
  "anaconda-cloud": {},
  "kernelspec": {
   "display_name": "Python 3",
   "language": "python",
   "name": "python3"
  },
  "language_info": {
   "codemirror_mode": {
    "name": "ipython",
    "version": 3
   },
   "file_extension": ".py",
   "mimetype": "text/x-python",
   "name": "python",
   "nbconvert_exporter": "python",
   "pygments_lexer": "ipython3",
   "version": "3.6.0"
  }
 },
 "nbformat": 4,
 "nbformat_minor": 0
}
