{
 "cells": [
  {
   "cell_type": "markdown",
   "metadata": {},
   "source": [
    "## Практическое задание 2\n",
    "\n",
    "Выполнила Головина Мария, БЭК145, 4-сложная"
   ]
  },
  {
   "cell_type": "markdown",
   "metadata": {},
   "source": [
    "### О задании\n",
    "\n",
    "Практическое задание 1 посвящено изучению основных библиотек для анализа данных, а также линейных моделей и методов их обучения. Вы научитесь:\n",
    " * применять библиотеку NumPy;\n",
    " * подготавливать данные для обучения линейных моделей;\n",
    " * обучать линейную, Lasso и Ridge-регрессии при помощи модуля scikit-learn;\n",
    " * реализовывать обычный и стохастический градиентные спуски;\n",
    " * обучать линейную регрессию для произвольного функционала качества.\n",
    " \n",
    "\n",
    "### Оценивание и штрафы\n",
    "\n",
    "Каждая из задач имеет определенную «стоимость» (указана в скобках около задачи). Максимально допустимая оценка за работу — 10 баллов. Кроме того, некоторые из заданий являются опциональными (необязательными), однако за их выполнение можно получить дополнительные баллы.\n",
    "\n",
    "\n",
    "Задание выполняется самостоятельно. «Похожие» решения считаются плагиатом и все задействованные студенты (в том числе те, у кого списали) не могут получить за него больше 0 баллов (подробнее о плагиате см. на странице курса). Если вы нашли решение какого-то из заданий (или его часть) в открытом источнике, необходимо указать ссылку на этот источник в отдельном блоке в конце Вашей работы (скорее всего вы будете не единственным, кто это нашел, поэтому чтобы исключить подозрение в плагиате, необходима ссылка на источник). \n",
    "\n",
    "Неэффективная реализация кода может негативно отразиться на оценке.\n",
    "\n",
    "\n",
    "### Формат сдачи\n",
    "Для сдачи задания переименуйте получившийся файл \\*.ipynb в соответствии со следующим форматом: *HW1_Username.ipynb*, где *Username* — Ваша фамилия и инициалы на латинице (например, *HW1_IvanovII.ipynb*). Далее отправьте этот файл на почту курса, указав соответствующую тему (см. вики-страничку курча)."
   ]
  },
  {
   "cell_type": "markdown",
   "metadata": {},
   "source": [
    "## Библиотеки для анализа данных\n",
    "\n",
    "### NumPy\n",
    "\n",
    "Во всех заданиях данного раздела запрещено использовать циклы  и list comprehensions. Под вектором и матрицей в данных заданиях понимается одномерный и двумерный numpy.array соответственно."
   ]
  },
  {
   "cell_type": "code",
   "execution_count": 1999,
   "metadata": {
    "collapsed": true
   },
   "outputs": [],
   "source": [
    "import numpy as np\n",
    "import matplotlib.pyplot as plt\n",
    "import warnings\n",
    "warnings.filterwarnings('ignore')\n",
    "% matplotlib inline"
   ]
  },
  {
   "cell_type": "markdown",
   "metadata": {},
   "source": [
    "**1. (0.3 балла)** Реализуйте функцию, возвращающую максимальный элемент в векторе x среди элементов, перед которыми стоит нулевой. Для x = np.array([6, 2, 0, 3, 0, 0, 5, 7, 0]) ответом является 5. Если нулевых элементов нет, функция должна возвращать None.\n"
   ]
  },
  {
   "cell_type": "code",
   "execution_count": 2000,
   "metadata": {
    "collapsed": true
   },
   "outputs": [],
   "source": [
    "def max_element(x):\n",
    "    ind = np.where(x==0) + np.ones(len(np.where(x==0)[0]))\n",
    "    ind = np.array(list(map(int, ind.reshape(ind.shape[1],))))\n",
    "    if ind.size:\n",
    "        return np.max(x[ind[ind<=x.shape[0]-1]])"
   ]
  },
  {
   "cell_type": "markdown",
   "metadata": {},
   "source": [
    "**2. (0.3 балла)** Реализуйте функцию, принимающую на вход матрицу и некоторое число и возвращающую ближайший к числу элемент матрицы. Например: для X = np.arange(0,10).reshape((2, 5)) и v = 3.6 ответом будет 4."
   ]
  },
  {
   "cell_type": "code",
   "execution_count": 2001,
   "metadata": {
    "collapsed": true
   },
   "outputs": [],
   "source": [
    "def nearest_value(X, v):\n",
    "    return X.ravel()[np.argmin(abs(X-v))]"
   ]
  },
  {
   "cell_type": "code",
   "execution_count": 2002,
   "metadata": {},
   "outputs": [
    {
     "data": {
      "text/plain": [
       "4"
      ]
     },
     "execution_count": 2002,
     "metadata": {},
     "output_type": "execute_result"
    }
   ],
   "source": [
    "X = np.arange(0,10).reshape((2, 5))\n",
    "v = 3.6\n",
    "nearest_value(X, v)"
   ]
  },
  {
   "cell_type": "markdown",
   "metadata": {},
   "source": [
    "**3. (0.3 балла)** Реализуйте функцию scale(X), которая принимает на вход матрицу и масштабирует каждый ее столбец (вычитает выборочное среднее и делит на стандартное отклонение). Убедитесь, что в функции не будет происходить деления на ноль. Протестируйте на случайной матрице (для её генерации можно использовать, например, функцию [numpy.random.randint](http://docs.scipy.org/doc/numpy/reference/generated/numpy.random.randint.html))."
   ]
  },
  {
   "cell_type": "code",
   "execution_count": 2003,
   "metadata": {
    "collapsed": true
   },
   "outputs": [],
   "source": [
    "def scale(X):\n",
    "    mean = np.mean(X, axis = 0)\n",
    "    std = np.std(X, axis = 0)\n",
    "    if len(np.where(std==0)[0])==0:\n",
    "        return (X - mean) / std\n",
    "    else:\n",
    "        zerorows = np.where(rowstds==0)\n",
    "        Xstd[Xstd == 0] = 1\n",
    "        print('The following rows were not divided by STD=0:', ','.join(map(str, zerorows)))\n",
    "        return (X - mean) / std "
   ]
  },
  {
   "cell_type": "code",
   "execution_count": 2004,
   "metadata": {},
   "outputs": [
    {
     "data": {
      "text/plain": [
       "array([[-0.09805807,  0.45485883, -1.16563101, -0.22406454, -1.68225038],\n",
       "       [-0.09805807, -1.44038628,  0.2331262 , -1.18434114,  0.98473193],\n",
       "       [-1.07863874, -0.30323922, -0.93250481,  1.69648866,  0.98473193],\n",
       "       [-0.58834841, -0.30323922,  1.63188341,  0.41611986, -0.45133547],\n",
       "       [ 1.86310328,  1.59200589,  0.2331262 , -0.70420284,  0.16412199]])"
      ]
     },
     "execution_count": 2004,
     "metadata": {},
     "output_type": "execute_result"
    }
   ],
   "source": [
    "matr = np.random.randint(low=0, high=20, size = (5,5))\n",
    "scale(matr)"
   ]
  },
  {
   "cell_type": "markdown",
   "metadata": {},
   "source": [
    "**4. (0.3 балла)** Реализуйте функцию, которая для заданной матрицы находит:\n",
    " - определитель\n",
    " - след\n",
    " - наименьший и наибольший элементы\n",
    " - норму Фробениуса\n",
    " - собственные числа\n",
    " - обратную матрицу\n",
    "\n",
    "Для тестирования сгенерируйте матрицу с элементами из нормального распределения $\\mathcal{N}$(10,1)"
   ]
  },
  {
   "cell_type": "code",
   "execution_count": 2005,
   "metadata": {},
   "outputs": [
    {
     "data": {
      "text/plain": [
       "array([[ 10.18863421,  10.76701435,  10.89786593,   9.97323908],\n",
       "       [  8.40655281,  10.08701796,   9.87098155,  10.22026948],\n",
       "       [  9.19837056,  10.08227347,   8.90560586,   9.75158037],\n",
       "       [  7.73408463,  11.58111086,  11.60536065,   9.85289384]])"
      ]
     },
     "execution_count": 2005,
     "metadata": {},
     "output_type": "execute_result"
    }
   ],
   "source": [
    "matr = np.random.normal(10, 1, size = (4,4))\n",
    "matr"
   ]
  },
  {
   "cell_type": "code",
   "execution_count": 2006,
   "metadata": {
    "collapsed": true
   },
   "outputs": [],
   "source": [
    "def get_stats(X):\n",
    "    try:        \n",
    "        det = np.linalg.det(X)\n",
    "        trace = np.trace(X)\n",
    "        min_ = np.min(X)\n",
    "        max_ = np.max(X)\n",
    "        norm = np.linalg.norm(X)\n",
    "        eigenvals = np.linalg.eigvals(X)\n",
    "        inv = np.linalg.inv(X)\n",
    "    except:\n",
    "        min_ = np.min(X)\n",
    "        max_ = np.max(X)\n",
    "        norm = np.linalg.norm(X, ord = 'fro')\n",
    "    try:\n",
    "        return {'det': det, 'trace': trace, 'min': min_, 'max': max_, \n",
    "                'fro norm': norm,'eigenvalues': eigenvals, 'inv': inv}\n",
    "    except:\n",
    "        return {'min': min_, 'max': max_, 'fro norm': norm}"
   ]
  },
  {
   "cell_type": "code",
   "execution_count": 2007,
   "metadata": {},
   "outputs": [
    {
     "data": {
      "text/plain": [
       "{'det': 47.755672987478746,\n",
       " 'eigenvalues': array([ 39.68806118,   1.42851353,  -1.53293716,  -0.54948568]),\n",
       " 'fro norm': 39.983016299945717,\n",
       " 'inv': array([[ 0.40842701, -0.26697129,  0.08979083, -0.22535758],\n",
       "        [-0.48577065, -0.98598441,  0.98792487,  0.53668542],\n",
       "        [ 0.50409534,  0.36748327, -0.86205782, -0.03824412],\n",
       "        [-0.34337664,  0.93564364, -0.21630451, -0.30738603]]),\n",
       " 'max': 11.605360651056685,\n",
       " 'min': 7.7340846299505772,\n",
       " 'trace': 39.034151869807147}"
      ]
     },
     "execution_count": 2007,
     "metadata": {},
     "output_type": "execute_result"
    }
   ],
   "source": [
    "get_stats(matr)"
   ]
  },
  {
   "cell_type": "markdown",
   "metadata": {},
   "source": [
    "**5. (0.3 балла)** Повторите 100 раз следующий эксперимент: сгенерируйте две матрицы размера 10×10 из стандартного нормального распределения, перемножьте их (как матрицы) и найдите максимальный элемент. Какое среднее значение по экспериментам у максимальных элементов? 95-процентная квантиль?"
   ]
  },
  {
   "cell_type": "code",
   "execution_count": 2008,
   "metadata": {
    "collapsed": true
   },
   "outputs": [],
   "source": [
    "lst = []\n",
    "for exp_num in range(100):\n",
    "    A = np.random.normal(0, 1, size = (10,10))\n",
    "    B = np.random.normal(0, 1, size = (10,10))\n",
    "    lst.append(np.max(np.dot(A,B)))"
   ]
  },
  {
   "cell_type": "code",
   "execution_count": 2009,
   "metadata": {},
   "outputs": [
    {
     "data": {
      "text/plain": [
       "8.2280013189778316"
      ]
     },
     "execution_count": 2009,
     "metadata": {},
     "output_type": "execute_result"
    }
   ],
   "source": [
    "np.mean(lst)"
   ]
  },
  {
   "cell_type": "code",
   "execution_count": 2010,
   "metadata": {},
   "outputs": [
    {
     "data": {
      "text/plain": [
       "11.69111093350708"
      ]
     },
     "execution_count": 2010,
     "metadata": {},
     "output_type": "execute_result"
    }
   ],
   "source": [
    "np.percentile(lst, 95)"
   ]
  },
  {
   "cell_type": "markdown",
   "metadata": {},
   "source": [
    "## Линейная регрессия\n",
    "\n",
    "В этой части мы разберемся с линейной регрессией, способами её обучения и измерением качества ее прогнозов. \n",
    "\n",
    "Будем рассматривать данные по авиарейсам в США за январь-апрель 2008 года для предсказания времени задержки отправления рейса в минутах (DepDelay). Отметим, что под задержкой подразумевается не только опоздание рейса относительно планируемого времени вылета, но и отправление до планируемого времени.\n",
    "\n",
    "\n",
    "[Данные](https://www.dropbox.com/s/dvfitn93obn0rql/2008.csv?dl=0) и их [описание](http://stat-computing.org/dataexpo/2009/the-data.html)\n",
    "\n",
    "### Подготовка данных\n",
    "\n",
    "**6. (0.75 балла)** Считайте выборку из файла при помощи функции pd.read_csv и ответьте на следующие вопросы:\n",
    "   - Имеются ли в данных пропущенные значения?\n",
    "   - Сколько всего пропущенных элементов в таблице \"объект-признак\"?\n",
    "   - Сколько объектов имеют хотя бы один пропуск?\n",
    "   - Сколько признаков имеют хотя бы одно пропущенное значение?"
   ]
  },
  {
   "cell_type": "code",
   "execution_count": 2011,
   "metadata": {
    "scrolled": true
   },
   "outputs": [
    {
     "data": {
      "text/plain": [
       "(70000, 29)"
      ]
     },
     "execution_count": 2011,
     "metadata": {},
     "output_type": "execute_result"
    }
   ],
   "source": [
    "import pandas as pd\n",
    "d = pd.read_csv('2008.csv')\n",
    "d.shape"
   ]
  },
  {
   "cell_type": "code",
   "execution_count": 2012,
   "metadata": {},
   "outputs": [
    {
     "name": "stdout",
     "output_type": "stream",
     "text": [
      "Всего 355215 пропущенных элементов.\n",
      "70000 объектов имеют хотя бы один пропуск.\n",
      "Хотя бы одно пропущенное значение есть в 16 признаках.\n"
     ]
    }
   ],
   "source": [
    "print('Всего {} пропущенных элементов.'.format(d.isnull().sum().sum()))\n",
    "print('{} объектов имеют хотя бы один пропуск.'.format(d.isnull().any(axis=1).sum()))\n",
    "print('Хотя бы одно пропущенное значение есть в {} признаках.'.format(d.isnull().any(axis=0).sum()))"
   ]
  },
  {
   "cell_type": "markdown",
   "metadata": {},
   "source": [
    "Как вы понимаете, также не имеет смысла рассматривать при решении поставленной задачи объекты с пропущенным значением целевой переменной. В связи с этим ответьте на следующие вопросы и выполните соответствующие действия:\n",
    "- Имеются ли пропущенные значения в целевой переменной?\n",
    "- Проанализируйте объекты с пропущенными значениями целевой переменной. Чем вызвано это явление? Что их объединяет? Можно ли в связи с этим, на ваш взгляд, исключить какие-то признаки из рассмотрения? Обоснуйте свою точку зрения.\n",
    "\n",
    "Исключите из выборки объекты **с пропущенным значением целевой переменной и со значением целевой переменной, равным 0**, а также при необходимости исключите признаки в соответствии с вашим ответом на последний вопрос из списка и выделите целевую переменную в отдельный вектор, исключив её из матрицы \"объект-признак\"."
   ]
  },
  {
   "cell_type": "code",
   "execution_count": 2013,
   "metadata": {},
   "outputs": [
    {
     "data": {
      "image/png": "[encoded data removed]",
      "text/plain": [
       "<matplotlib.figure.Figure at 0x13fcb93c8>"
      ]
     },
     "metadata": {},
     "output_type": "display_data"
    }
   ],
   "source": [
    "import missingno as msno\n",
    "msno.matrix(d.sample(1000))"
   ]
  },
  {
   "cell_type": "code",
   "execution_count": 2014,
   "metadata": {},
   "outputs": [
    {
     "data": {
      "text/plain": [
       "(1399, 1399)"
      ]
     },
     "execution_count": 2014,
     "metadata": {},
     "output_type": "execute_result"
    }
   ],
   "source": [
    "sum(d.DepDelay.isnull()), d[(d.Cancelled==1) & d.DepDelay.isnull()].shape[0]"
   ]
  },
  {
   "cell_type": "markdown",
   "metadata": {},
   "source": [
    "<font color='hotpink'>Есть пропуски в значениях целевой переменной, что в 100% случаев сопровождалось отменой рейса.  При этом есть 12 рейсов, для которых есть время задержки в минутах, хотя они и были отменены. Учитывая малое число таких рейсов при количестве наблюдений = 70000 можно предположить, что это ошибка в заполнении данных.\n",
    "\n",
    "\n",
    " Удаляем объекты с пропущенным или нулевым значением целевой переменной, удаляем признаки Cancelled и CancellationCode:</font>"
   ]
  },
  {
   "cell_type": "code",
   "execution_count": 2015,
   "metadata": {},
   "outputs": [
    {
     "data": {
      "text/plain": [
       "5976     24.0\n",
       "15680    19.0\n",
       "16382    38.0\n",
       "20622    -1.0\n",
       "22462    -2.0\n",
       "30057    28.0\n",
       "33611    -4.0\n",
       "37581    -1.0\n",
       "40343    -5.0\n",
       "50401    -2.0\n",
       "50810    -7.0\n",
       "67078     7.0\n",
       "Name: DepDelay, dtype: float64"
      ]
     },
     "execution_count": 2015,
     "metadata": {},
     "output_type": "execute_result"
    }
   ],
   "source": [
    "d[(d.Cancelled==1) & d.DepDelay.notnull()]['DepDelay']"
   ]
  },
  {
   "cell_type": "code",
   "execution_count": 2016,
   "metadata": {
    "collapsed": true
   },
   "outputs": [],
   "source": [
    "d = d[(-d.DepDelay.isnull())&(d.DepDelay!=0)].drop(['Cancelled', 'CancellationCode'], 1).reset_index(drop=True)"
   ]
  },
  {
   "cell_type": "code",
   "execution_count": 2017,
   "metadata": {},
   "outputs": [
    {
     "data": {
      "text/plain": [
       "(63404, 27)"
      ]
     },
     "execution_count": 2017,
     "metadata": {},
     "output_type": "execute_result"
    }
   ],
   "source": [
    "d.shape"
   ]
  },
  {
   "cell_type": "markdown",
   "metadata": {},
   "source": [
    "**7. (1 балл)** Обратите внимание, что признаки DepTime, CRSDepTime, ArrTime, CRSArrTime приведены в формате hhmm, в связи с чем будет не вполне корректно рассматривать их как вещественные.\n",
    "\n",
    "Преобразуйте каждый признак FeatureName из указанных в пару новых признаков FeatureName\\_Hour, FeatureName\\_Minute, разделив каждое из значений на часы и минуты. Не забудьте при этом исключить исходный признак из выборки. В случае, если значение признака отсутствует, значения двух новых признаков, его заменяющих, также должны отсутствовать. \n",
    "\n",
    "Например, признак DepTime необходимо заменить на пару признаков DepTime_Hour, DepTime_Minute. При этом, например, значение 155 исходного признака будет преобразовано в значения 1 и 55 признаков DepTime_Hour, DepTime_Minute соответственно."
   ]
  },
  {
   "cell_type": "code",
   "execution_count": 2018,
   "metadata": {
    "collapsed": true
   },
   "outputs": [],
   "source": [
    "def extract_hr(timenum):\n",
    "    if np.isnan(timenum):\n",
    "        return timenum\n",
    "    else:\n",
    "        timenum = str(int(timenum))\n",
    "        hr = timenum[:len(timenum)-2]\n",
    "        if hr == '':\n",
    "            return 0 # время типа 0:35 в исходных столбцах вида hhmm записано как 35\n",
    "        else:\n",
    "            return int(hr)\n",
    "\n",
    "def extract_min(timenum):\n",
    "    if np.isnan(timenum):\n",
    "        return timenum\n",
    "    else:\n",
    "        timenum = str(int(timenum))\n",
    "        mn = timenum[-2:]\n",
    "        return int(mn)"
   ]
  },
  {
   "cell_type": "code",
   "execution_count": 2019,
   "metadata": {
    "collapsed": true
   },
   "outputs": [],
   "source": [
    "d['DepTime_Hour'], d['DepTime_Minute'] = d['DepTime'].apply(lambda x: extract_hr(x)), d['DepTime'].apply(lambda x: extract_min(x))\n",
    "d['CRSDepTime_Hour'], d['CRSDepTime_Minute'] = d['CRSDepTime'].apply(lambda x: extract_hr(x)), d['CRSDepTime'].apply(lambda x: extract_min(x))\n",
    "d['ArrTime_Hour'], d['ArrTime_Minute'] = d['ArrTime'].apply(lambda x: extract_hr(x)), d['ArrTime'].apply(lambda x: extract_min(x))\n",
    "d['CRSArrTime_Hour'], d['CRSArrTime_Minute'] = d['CRSArrTime'].apply(lambda x: extract_hr(x)), d['CRSArrTime'].apply(lambda x: extract_min(x))"
   ]
  },
  {
   "cell_type": "markdown",
   "metadata": {
    "collapsed": true
   },
   "source": [
    "<font color='hotpink'>Кроме того, без привязки к часу, на который запланирован рейс, минуты не играют никакой роли. Правильнее всего было бы перевести данные о времени в формат десятичной дроби, где дробная часть равна минуты/60, но поскольку в задании требовалось разделить время на целочисленные часы и минуты, делать этого не будем, а просто удалим минуты.</font>"
   ]
  },
  {
   "cell_type": "code",
   "execution_count": 2020,
   "metadata": {
    "collapsed": true
   },
   "outputs": [],
   "source": [
    "d.drop(['DepTime', 'CRSDepTime', 'ArrTime', 'CRSArrTime', 'DepTime_Minute', 'CRSDepTime_Minute', 'ArrTime_Minute', 'CRSArrTime_Minute'], axis = 1, inplace = True)"
   ]
  },
  {
   "cell_type": "markdown",
   "metadata": {},
   "source": [
    "**8. (0.5 балла)** Некоторые из признаков, отличных от целевой переменной, могут оказывать чересчур значимое влияние на прогноз, поскольку по своему смыслу содержат большую долю информации о значении целевой переменной. Изучите описание датасета и исключите признаки, сильно коррелирующие с ответами. Ваш выбор признаков для исключения из выборки обоснуйте. Кроме того, исключите признаки TailNum и Year."
   ]
  },
  {
   "cell_type": "code",
   "execution_count": 2021,
   "metadata": {},
   "outputs": [
    {
     "data": {
      "image/png": "[encoded data removed]",
      "text/plain": [
       "<matplotlib.figure.Figure at 0x141453a20>"
      ]
     },
     "metadata": {},
     "output_type": "display_data"
    }
   ],
   "source": [
    "from scipy.stats import pearsonr\n",
    "import seaborn as sns\n",
    "\n",
    "corr = d.corr()\n",
    "plt.figure(figsize=(12, 5))\n",
    "sns.heatmap(corr, xticklabels=corr.columns.values, yticklabels=corr.columns.values, cmap = 'rainbow');"
   ]
  },
  {
   "cell_type": "markdown",
   "metadata": {},
   "source": [
    "<font color='hotpink'> Это другие признаки, которые показывают опоздание, например, ArrDelay, значения в котором вообще по идее становятся известны позже, чем DepDelay, и напрямую от него зависят, так что использование всех этих признаков для предсказания DepDelay спорно\n",
    "\n",
    "Задержка приземления сильно связана с задержкой вылета и с разделением времени общей задержки по её причинам(понятно): </font>"
   ]
  },
  {
   "cell_type": "code",
   "execution_count": 2022,
   "metadata": {},
   "outputs": [
    {
     "data": {
      "text/plain": [
       "0.93352593848198118"
      ]
     },
     "execution_count": 2022,
     "metadata": {},
     "output_type": "execute_result"
    }
   ],
   "source": [
    "d1 = d[d.ArrDelay.notnull()]\n",
    "pearsonr(np.array(d1)[:, 10], np.array(d1['DepDelay']))[0]"
   ]
  },
  {
   "cell_type": "code",
   "execution_count": 2023,
   "metadata": {},
   "outputs": [
    {
     "data": {
      "text/plain": [
       "0.55380590359450033"
      ]
     },
     "execution_count": 2023,
     "metadata": {},
     "output_type": "execute_result"
    }
   ],
   "source": [
    "d1 = d[d.LateAircraftDelay.notnull()]\n",
    "pearsonr(np.array(d1)[:, 22], np.array(d1['DepDelay']))[0]"
   ]
  },
  {
   "cell_type": "code",
   "execution_count": 2024,
   "metadata": {},
   "outputs": [
    {
     "data": {
      "text/plain": [
       "0.17159057589661447"
      ]
     },
     "execution_count": 2024,
     "metadata": {},
     "output_type": "execute_result"
    }
   ],
   "source": [
    "d1 = d[d.CarrierDelay.notnull()]\n",
    "pearsonr(np.array(d1)[:, 20], np.array(d1['DepDelay']))[0]"
   ]
  },
  {
   "cell_type": "markdown",
   "metadata": {},
   "source": [
    "<font color='hotpink'>Сильно связаны признаки, отвечающие за общее время полёта (AirTime, CRSElapsedTime, Actual ElapsedTime). Последний, как и DepTime и AirTime, вообще говоря неизвестны на момент предсказания времени опоздания (а AirTime ещё и бесполезный), если решать эту задачу в режиме реального времени, а не на исторических данных, поэтому их нужно убрать.</font>"
   ]
  },
  {
   "cell_type": "code",
   "execution_count": 2025,
   "metadata": {},
   "outputs": [
    {
     "data": {
      "text/plain": [
       "0.85676117596191137"
      ]
     },
     "execution_count": 2025,
     "metadata": {},
     "output_type": "execute_result"
    }
   ],
   "source": [
    "pearsonr(np.array(d1['DepTime_Hour']), np.array(d1['CRSDepTime_Hour']))[0]"
   ]
  },
  {
   "cell_type": "code",
   "execution_count": 2026,
   "metadata": {},
   "outputs": [
    {
     "data": {
      "text/plain": [
       "(0.96142993684500255, 0.96630051119815841)"
      ]
     },
     "execution_count": 2026,
     "metadata": {},
     "output_type": "execute_result"
    }
   ],
   "source": [
    "pearsonr(np.array(d1)[:, 7], np.array(d1['CRSElapsedTime']))[0], pearsonr(np.array(d1)[:, 7], np.array(d1['AirTime']))[0]"
   ]
  },
  {
   "cell_type": "code",
   "execution_count": 2027,
   "metadata": {},
   "outputs": [],
   "source": [
    "d.drop(['ActualElapsedTime', 'AirTime', 'TailNum', 'Year', 'ArrDelay', 'LateAircraftDelay', 'CarrierDelay'], axis = 1, inplace = True)"
   ]
  },
  {
   "cell_type": "markdown",
   "metadata": {},
   "source": [
    "Приведем данные к виду, пригодному для обучения линейных моделей. Для этого вещественные признаки надо отмасштабировать, а категориальные — привести к числовому виду. Также надо устранить пропуски в данных."
   ]
  },
  {
   "cell_type": "markdown",
   "metadata": {},
   "source": [
    "**9*. (1 бонусный балл) ** В первую очередь поймем, зачем необходимо применять масштабирование. Следующие ячейки с кодом построят гистограммы для 3 вещественных признаков выборки."
   ]
  },
  {
   "cell_type": "code",
   "execution_count": 2028,
   "metadata": {
    "collapsed": true
   },
   "outputs": [],
   "source": [
    "X = d.drop(['DepDelay'], axis=1)\n",
    "y = d.DepDelay"
   ]
  },
  {
   "cell_type": "code",
   "execution_count": 2029,
   "metadata": {},
   "outputs": [
    {
     "data": {
      "image/png": "[encoded data removed]",
      "text/plain": [
       "<matplotlib.figure.Figure at 0x124a1ca90>"
      ]
     },
     "metadata": {},
     "output_type": "display_data"
    }
   ],
   "source": [
    "X['DepTime_Hour'].hist(bins=20, alpha = 0.7);"
   ]
  },
  {
   "cell_type": "code",
   "execution_count": 2030,
   "metadata": {},
   "outputs": [
    {
     "data": {
      "image/png": "[encoded data removed]",
      "text/plain": [
       "<matplotlib.figure.Figure at 0x12be60f98>"
      ]
     },
     "metadata": {},
     "output_type": "display_data"
    }
   ],
   "source": [
    "X['TaxiIn'].hist(bins=20, alpha = 0.7);"
   ]
  },
  {
   "cell_type": "code",
   "execution_count": 2031,
   "metadata": {},
   "outputs": [
    {
     "data": {
      "image/png": "[encoded data removed]",
      "text/plain": [
       "<matplotlib.figure.Figure at 0x13f1d94e0>"
      ]
     },
     "metadata": {},
     "output_type": "display_data"
    }
   ],
   "source": [
    "X['FlightNum'].hist(bins=20, alpha = 0.7);"
   ]
  },
  {
   "cell_type": "markdown",
   "metadata": {},
   "source": [
    "Какую проблему вы наблюдаете на этих графиках? Как масштабирование поможет её исправить?"
   ]
  },
  {
   "cell_type": "markdown",
   "metadata": {},
   "source": [
    "<font color='hotpink'>Из-за разницы в амплитудах признаков (последний принимает значения бОльшие абсолютно и с бОльшим разбросом) последний будет оказывать более сильное влияние на итоговый результат, даже хотя именно вариативность первых признаков может играть большую роль в объяснении дисперсии целевой переменной. \n",
    "\n",
    "Масштабирование позволяет выровнять амплитуду разных признаков, сохранив отношения между значениями признака для разных наблюдений. Допустим, стандартизация (вычитание среднего и деление на стандартное отклонение) центрирует их и приводит примерно к одному масштабу, в результате чего признаки начинают влиять на итоговую переменную пропорционально, без негативного эффекта их масштаба </font>"
   ]
  },
  {
   "cell_type": "markdown",
   "metadata": {},
   "source": [
    "**10. (1 балл)** Вдобавок к масштабированию, некоторые из признаков в нашем датасете являются категориальными. Типичным подходом к работе с ними является бинарное, или [one-hot-кодирование](https://en.wikipedia.org/wiki/One-hot).\n",
    "\n",
    "\n",
    "Реализуйте функцию transform_data, которая принимает на вход DataFrame с признаками и выполняет следующие шаги:\n",
    "1. Замена пропущенных значений на нули для вещественных признаков и на строки 'nan' для категориальных.\n",
    "2. Масштабирование вещественных признаков с помощью [StandardScaler](http://scikit-learn.org/stable/modules/generated/sklearn.preprocessing.StandardScaler.html).\n",
    "3. One-hot-кодирование категориальных признаков с помощью [DictVectorizer](http://scikit-learn.org/stable/modules/generated/sklearn.feature_extraction.DictVectorizer.html) или функции [pd.get_dummies](http://pandas.pydata.org/pandas-docs/stable/generated/pandas.get_dummies.html).\n",
    "\n",
    "Метод должен возвращать преобразованный DataFrame, который должна состоять из масштабированных вещественных признаков и закодированных категориальных (исходные признаки должны быть исключены из выборки)."
   ]
  },
  {
   "cell_type": "markdown",
   "metadata": {},
   "source": [
    "<font color='hotpink'>Ещё стоит удалить DepTime_Hour и FlightNum: он малоинформативен, потому что если он и передаёт какую-то информацию, она может быть почти полностью получена из сочетания origin, destination и carrier, кроме того, его некорректно использовать как числовой признак, а для категориального у него будет слишком много категорий -- почти 7 тысяч.</font>"
   ]
  },
  {
   "cell_type": "code",
   "execution_count": 2032,
   "metadata": {
    "collapsed": true
   },
   "outputs": [],
   "source": [
    "X.drop(['FlightNum', 'DepTime_Hour'], axis = 1, inplace = True)"
   ]
  },
  {
   "cell_type": "code",
   "execution_count": 2033,
   "metadata": {
    "collapsed": true
   },
   "outputs": [],
   "source": [
    "from sklearn.preprocessing import StandardScaler\n",
    "\n",
    "def transform_data(data):\n",
    "    numeric = data._get_numeric_data()\n",
    "    colnames = numeric.columns\n",
    "    numeric = pd.DataFrame(StandardScaler().fit_transform(numeric.fillna(value=0)))\n",
    "    numeric.columns = colnames\n",
    "    categorical = data.select_dtypes(exclude = [np.number, np.int64])\n",
    "    categorical.fillna(value='nan')\n",
    "    categoricaldummies = pd.DataFrame()\n",
    "    for c in categorical.columns.values:\n",
    "        categoricaldummies = pd.concat([categoricaldummies, pd.get_dummies(categorical[c], prefix=c).iloc[:, 1:]], axis = 1)\n",
    "    res = pd.concat([categoricaldummies, numeric], axis = 1)\n",
    "    return res"
   ]
  },
  {
   "cell_type": "markdown",
   "metadata": {},
   "source": [
    "Примените функцию transform_data к данным. Сколько признаков получилось после преобразования?"
   ]
  },
  {
   "cell_type": "code",
   "execution_count": 2034,
   "metadata": {},
   "outputs": [
    {
     "data": {
      "text/plain": [
       "(63404, 625)"
      ]
     },
     "execution_count": 2034,
     "metadata": {},
     "output_type": "execute_result"
    }
   ],
   "source": [
    "Xs = transform_data(X)\n",
    "Xs.shape"
   ]
  },
  {
   "cell_type": "markdown",
   "metadata": {},
   "source": [
    "<font color='hotpink'> В исходных переменных Destination, Origin, Unique Carrier было  много уникальных значений, поэтому one-hot-encoding создал огромное количество бинарных признаков из них. Попробуем уменьшить число признаков. \n",
    "\n",
    "Логика отбора: можно усреднить значения задержек по всем аэропортам отбытия для Origin, аэропортам прибытия для Dest, перевозчикам для UniqueCarrier. Ещё лучше посчитать не среднее, а медиану задержек вылета по аэропортам, чтобы выбросы не влияли на результат. Ожидается, что аэропорты, в которых чаще остальных задерживают рейсы, будут иметь медиану выше медианы по всей выборке. \n",
    "\n",
    "Значение медианы или среднего не показательно для тех аэропортов, по которым мало наблюдений, и бинарные переменные, кодирующие такие аэропорты, лучше просто исключить из числа признаков, потому что оценки по ним будут неточными.</font>"
   ]
  },
  {
   "cell_type": "code",
   "execution_count": 2035,
   "metadata": {},
   "outputs": [
    {
     "data": {
      "text/plain": [
       "(-1.0, 10.774414863415558, 36.04612679438365)"
      ]
     },
     "execution_count": 2035,
     "metadata": {},
     "output_type": "execute_result"
    }
   ],
   "source": [
    "d['DepDelay'].median(), d['DepDelay'].mean(), d['DepDelay'].std()"
   ]
  },
  {
   "cell_type": "code",
   "execution_count": 2036,
   "metadata": {
    "collapsed": true
   },
   "outputs": [],
   "source": [
    "dest_medians = d.groupby(['Dest']).median()['DepDelay']\n",
    "origin_medians = d.groupby(['Origin']).median()['DepDelay']\n",
    "uc_medians = d.groupby(['UniqueCarrier']).median()['DepDelay']\n",
    "\n",
    "dest_medians = list(dest_medians[abs(dest_medians) >= 2].index)\n",
    "origin_medians = list(origin_medians[abs(origin_medians) >= 2].index)\n",
    "uc_medians = list(uc_medians[abs(uc_medians) >= 2].index)\n",
    "\n",
    "dest_count = d.groupby(['Dest']).count()['DepDelay']\n",
    "origin_count = d.groupby(['Origin']).count()['DepDelay']\n",
    "uc_count = d.groupby(['UniqueCarrier']).count()['DepDelay']\n",
    "\n",
    "dest_count = dest_count[dest_count >= 20]\n",
    "origin_count = origin_count[origin_count >= 20]\n",
    "uc_count = uc_count[uc_count >= 20]\n",
    "\n",
    "dest = ['Dest_' + x for x in dest_medians if x in dest_count]\n",
    "origin = ['Origin_' + x for x in origin_medians if x in origin_count]\n",
    "uc = ['UniqueCarrier_' + x for x in uc_medians if x in uc_count]"
   ]
  },
  {
   "cell_type": "code",
   "execution_count": 2037,
   "metadata": {},
   "outputs": [
    {
     "name": "stdout",
     "output_type": "stream",
     "text": [
      "Теперь осталось 302 признака в датасете.\n"
     ]
    }
   ],
   "source": [
    "numcols = list(X._get_numeric_data().columns)\n",
    "dropcols = [x for x in Xs.columns if x not in dest+origin+uc+numcols]\n",
    "Xs.drop(dropcols, axis = 1, inplace = True)\n",
    "print('Теперь осталось {} признака в датасете.'.format(Xs.shape[1]))"
   ]
  },
  {
   "cell_type": "markdown",
   "metadata": {},
   "source": [
    "<font color='hotpink'> Сокращение признакового множества значительно уменьшает MSE / увеличивает R^2 при использовании регрессии без регуляризации, но можно было ещё оптимизировать пороговые значения для количеств наблюдений и для медианы. Но вообще незачем отбирать признаки не вручную, ведь дальше можно будет сделать это автоматически благодаря L1-регуляризации.\n",
    "\n",
    "Тем не менее для сравнения метрики качества линейной регрессии при использовании всех 600+ признаков:</font>"
   ]
  },
  {
   "cell_type": "code",
   "execution_count": 2038,
   "metadata": {},
   "outputs": [
    {
     "data": {
      "text/plain": [
       "(1033.4946065020229, 0.2273913541123409)"
      ]
     },
     "execution_count": 2038,
     "metadata": {},
     "output_type": "execute_result"
    }
   ],
   "source": [
    "lr = LinearRegression().fit(X_train, y_train)\n",
    "y_pred = lr.predict(X_test)\n",
    "mean_squared_error(y_test, y_pred), r2_score(y_test, y_pred)"
   ]
  },
  {
   "cell_type": "markdown",
   "metadata": {},
   "source": [
    "И при произведённом отборе (оставили 304):"
   ]
  },
  {
   "cell_type": "code",
   "execution_count": 2039,
   "metadata": {},
   "outputs": [
    {
     "data": {
      "text/plain": [
       "(1033.4946065020229, 0.2273913541123409)"
      ]
     },
     "execution_count": 2039,
     "metadata": {},
     "output_type": "execute_result"
    }
   ],
   "source": [
    "lr = LinearRegression(fit_intercept=True).fit(X_train, y_train)\n",
    "y_pred = lr.predict(X_test)\n",
    "mean_squared_error(y_test, y_pred), r2_score(y_test, y_pred)"
   ]
  },
  {
   "cell_type": "markdown",
   "metadata": {},
   "source": [
    "**11. (0.75 балла)** Разбейте выборку и вектор целевой переменной на обучение и контроль в отношении 70/30 (для этого можно использовать, например, функцию [train_test_split](http://scikit-learn.org/stable/modules/generated/sklearn.cross_validation.train_test_split.html)). "
   ]
  },
  {
   "cell_type": "code",
   "execution_count": 2040,
   "metadata": {
    "collapsed": true
   },
   "outputs": [],
   "source": [
    "from sklearn.model_selection import train_test_split\n",
    "X_train, X_test, y_train, y_test = train_test_split(Xs, y, test_size = 0.3, random_state = 42)"
   ]
  },
  {
   "cell_type": "markdown",
   "metadata": {},
   "source": [
    "### Scikit-learn\n",
    "\n",
    "<img src = \"https://pp.vk.me/c4534/u35727827/93547647/x_d31c4463.jpg\">\n",
    "Теперь, когда мы привели данные к пригодному виду, попробуем решить задачу при помощи метода наименьших квадратов. Напомним, что данный метод заключается в оптимизации функционала $MSE$:\n",
    "\n",
    "$$MSE(X, y) = \\frac{1}{l} \\sum_{i=1}^l (<w, x_i> - y_i)^2 \\to \\min_{w},$$\n",
    "\n",
    "где $\\{ (x_i, y_i ) \\}_{i=1}^l$ — обучающая выборка, состоящая из $l$ пар объект-ответ.\n",
    "\n",
    "Заметим, что решение данной задачи уже реализовано в модуле sklearn в виде класса [LinearRegression](http://scikit-learn.org/stable/modules/generated/sklearn.linear_model.LinearRegression.html#sklearn.linear_model.LinearRegression).\n",
    "\n",
    "**12. (0.5 балла)** Обучите линейную регрессию на 1000 объектах из обучающей выборки и выведите значения $MSE$ и $R^2$ на этой подвыборке и контрольной выборке (итого 4 различных числа). Проинтерпретируйте полученный результат — насколько качественные прогнозы строит полученная модель? Какие проблемы наблюдаются в модели?\n",
    "\n",
    "**Подсказка**: изучите значения полученных коэффициентов $w$, сохраненных в атрибуте coef_ объекта LinearRegression."
   ]
  },
  {
   "cell_type": "code",
   "execution_count": 2041,
   "metadata": {
    "collapsed": true
   },
   "outputs": [],
   "source": [
    "from sklearn.linear_model import LinearRegression\n",
    "from sklearn.metrics import mean_squared_error, r2_score"
   ]
  },
  {
   "cell_type": "code",
   "execution_count": 2042,
   "metadata": {},
   "outputs": [],
   "source": [
    "def model_report(model, X_train, y_train, X_test, y_test, best_alpha = False):\n",
    "    model_fit = model.fit(X_train, y_train)\n",
    "    train_pred = model_fit.predict(X_train)\n",
    "    test_pred = model_fit.predict(X_test)\n",
    "    print(\"MSE train:\", mean_squared_error(y_train, train_pred))\n",
    "    print(\"R^2 train\",r2_score(y_train, train_pred))\n",
    "    print(\"MSE test:\",mean_squared_error(y_test, test_pred))\n",
    "    print(\"R^2 test:\",r2_score(y_test, test_pred))\n",
    "    if best_alpha:\n",
    "        print(\"Best alpha:\", model_fit.alpha_)"
   ]
  },
  {
   "cell_type": "code",
   "execution_count": 2043,
   "metadata": {},
   "outputs": [
    {
     "name": "stdout",
     "output_type": "stream",
     "text": [
      "MSE train: 962.887504727\n",
      "R^2 train 0.249420692793\n",
      "MSE test: 1033.49392988\n",
      "R^2 test: 0.227391859931\n"
     ]
    }
   ],
   "source": [
    "model_report(LinearRegression(), X_train, y_train, X_test, y_test)"
   ]
  },
  {
   "cell_type": "code",
   "execution_count": 2044,
   "metadata": {},
   "outputs": [
    {
     "name": "stdout",
     "output_type": "stream",
     "text": [
      "MSE train: 559.568194733\n",
      "R^2 train 0.47201416052\n",
      "MSE test: 5.26191521413e+23\n",
      "R^2 test: -3.93364528735e+20\n"
     ]
    }
   ],
   "source": [
    "model_report(LinearRegression(), X_train[:1000], y_train[:1000], X_test, y_test)"
   ]
  },
  {
   "cell_type": "code",
   "execution_count": 2045,
   "metadata": {},
   "outputs": [
    {
     "data": {
      "text/plain": [
       "(776.69921875, 881.0)"
      ]
     },
     "execution_count": 2045,
     "metadata": {},
     "output_type": "execute_result"
    }
   ],
   "source": [
    "max(y_pred), max(y_test)"
   ]
  },
  {
   "cell_type": "markdown",
   "metadata": {},
   "source": [
    "<font color='hotpink'>Значения коэффициентов имеют очень большой разброс. Похоже, какие-то признаки в модели (возможно, вообще нерелевантные) получили очень большие веса. Модель переобучилась, строит плохие прогнозы поэтому такие огромные значения MSE и R2.\n",
    "Действительно, есть очень большие веса при том, что большая их часть имеет маленькие по модулю значения:</font> "
   ]
  },
  {
   "cell_type": "code",
   "execution_count": 2046,
   "metadata": {},
   "outputs": [
    {
     "data": {
      "text/plain": [
       "(-2.1795774410289805, 28.648114321379605, -4005391137626.6084)"
      ]
     },
     "execution_count": 2046,
     "metadata": {},
     "output_type": "execute_result"
    }
   ],
   "source": [
    "np.median(lr.coef_), np.max(lr.coef_), np.min(lr.coef_)"
   ]
  },
  {
   "cell_type": "code",
   "execution_count": 2047,
   "metadata": {
    "scrolled": false
   },
   "outputs": [
    {
     "data": {
      "image/png": "[encoded data removed]",
      "text/plain": [
       "<matplotlib.figure.Figure at 0x13fb17400>"
      ]
     },
     "metadata": {},
     "output_type": "display_data"
    }
   ],
   "source": [
    "pd.DataFrame(lr.coef_).plot.hist(bins=30)\n",
    "plt.title('Веса в модели');"
   ]
  },
  {
   "cell_type": "markdown",
   "metadata": {
    "collapsed": true
   },
   "source": [
    "# Для решения описанных вами в предыдущем пункте проблем используем L1- или L2-регуляризацию, тем самым получив Lasso и Ridge регрессии соответственно и изменив оптимизационную задачу одним из следующих образов:\n",
    "$$MSE_{L1}(X, y) = \\frac{1}{l} \\sum_{i=1}^l (<w, x_i> - y_i)^2 + \\alpha ||w||_1 \\to \\min_{w},$$\n",
    "$$MSE_{L2}(X, y) = \\frac{1}{l} \\sum_{i=1}^l (<w, x_i> - y_i)^2 + \\alpha ||w||_2^2 \\to \\min_{w},$$\n",
    "\n",
    "где $\\alpha$ — коэффициент регуляризации. Один из способов его подбора заключается в переборе некоторого количества значений и оценке качества на кросс-валидации для каждого из них, после чего выбирается значение, для которого было получено наилучшее качество.\n",
    "\n",
    "**13. (1 балл)** Обучите линейные регрессии с L1- и L2-регуляризатором, подобрав лучшее значение параметра регуляризации из списка alpha_grid при помощи кросс-валидации c 5 фолдами на тех же 1000 объектах, что и в п.12. Выведите значения $MSE$ и $R^2$ на обучающей и контрольной выборках. Удалось ли решить указанные вами ранее проблемы?\n",
    "\n",
    "Для выполнения данного задания вам могут понадобиться реализованные в библиотеке объекты [LassoCV](http://scikit-learn.org/stable/modules/generated/sklearn.linear_model.LassoCV.html), [RidgeCV](http://scikit-learn.org/stable/modules/generated/sklearn.linear_model.RidgeCV.html) и [KFold](http://scikit-learn.org/stable/modules/generated/sklearn.cross_validation.KFold.html).\n"
   ]
  },
  {
   "cell_type": "code",
   "execution_count": 2048,
   "metadata": {
    "collapsed": true
   },
   "outputs": [],
   "source": [
    "from sklearn.linear_model import LassoCV, RidgeCV\n",
    "alpha_grid_l1 = np.arange(0, 5, 0.01)\n",
    "alpha_grid_l2 = np.arange(20, 43, 0.1)\n",
    "lr = LinearRegression()\n",
    "l1 = LassoCV(alphas = alpha_grid_l1, cv = 5).fit(X_train[:1000], y_train[:1000])\n",
    "l2 = RidgeCV(alphas = alpha_grid_l2, cv = 5).fit(X_train[:1000], y_train[:1000])"
   ]
  },
  {
   "cell_type": "code",
   "execution_count": 2049,
   "metadata": {},
   "outputs": [
    {
     "name": "stdout",
     "output_type": "stream",
     "text": [
      "MSE train: 709.098968652\n",
      "R^2 train 0.330922990687\n",
      "MSE test: 1064.17206331\n",
      "R^2 test: 0.204457834952\n",
      "Best alpha: 0.21\n"
     ]
    }
   ],
   "source": [
    "model_report(LassoCV(alphas = alpha_grid_l1, cv = 5), X_train[:1000], y_train[:1000], X_test, y_test, best_alpha = True)"
   ]
  },
  {
   "cell_type": "code",
   "execution_count": 2050,
   "metadata": {},
   "outputs": [
    {
     "name": "stdout",
     "output_type": "stream",
     "text": [
      "MSE train: 677.569384275\n",
      "R^2 train 0.360673026935\n",
      "MSE test: 1059.46939139\n",
      "R^2 test: 0.207973407222\n",
      "Best alpha: 34.0\n"
     ]
    }
   ],
   "source": [
    "model_report(RidgeCV(alphas = alpha_grid_l2, cv = 5), X_train[:1000], y_train[:1000], X_test, y_test, best_alpha = True)"
   ]
  },
  {
   "cell_type": "markdown",
   "metadata": {},
   "source": [
    "<font color='hotpink'> По сравнению с регрессией без регуляризации получены хорошие результаты, при Ridge-регуляризации получен положительный $R^2$. Большие значения весов штрафуются при регуляризации, поэтому теперь диапазон весов намного уже: Значительная часть весов при Lasso-регуляризации занулилась, то есть произошёл отбор признаков. Остальные теперь лежат в достаточно небольшом числовом промежутке.</font>"
   ]
  },
  {
   "cell_type": "code",
   "execution_count": 2051,
   "metadata": {},
   "outputs": [
    {
     "data": {
      "image/png": "[encoded data removed]",
      "text/plain": [
       "<matplotlib.figure.Figure at 0x13fb263c8>"
      ]
     },
     "metadata": {},
     "output_type": "display_data"
    }
   ],
   "source": [
    "pd.DataFrame(l1.coef_).plot.hist(bins=70, alpha = 0.7);"
   ]
  },
  {
   "cell_type": "code",
   "execution_count": 2052,
   "metadata": {},
   "outputs": [
    {
     "data": {
      "image/png": "[encoded data removed]",
      "text/plain": [
       "<matplotlib.figure.Figure at 0x13fc9bd30>"
      ]
     },
     "metadata": {},
     "output_type": "display_data"
    }
   ],
   "source": [
    "pd.DataFrame(l2.coef_).plot.hist(bins=100, alpha = 0.7);"
   ]
  },
  {
   "cell_type": "markdown",
   "metadata": {},
   "source": [
    "### Градиентный спуск\n",
    "\n",
    "В предыдущем разделе мы использовали существующие реализации методов обучения линейной регрессии с регуляризацией и без. Тем не менее, подобные реализации, как правило, имеются лишь для ограниченного набора стандартных методов. В частности, при выходе функционала качества за пределы стандартного множества необходимо самостоятельно реализовывать составляющие процесса решения оптимизационной задачи. Именно этому и посвящен данный раздел задания.\n",
    "\n",
    "Пусть необходимо минимизировать следующий функционал (Mean Square Percentage Error — модифицированный [RMSPE](https://www.kaggle.com/c/rossmann-store-sales/details/evaluation)):\n",
    "$$MSPE(\\{x_i, y_i\\}_{i=1}^l, \\, w) = \\frac{1}{l}\\sum_{i=1}^l \\left( \\frac{y_i - \\langle w, x_i \\rangle }{y_i} \\right)^2,$$\n",
    "\n",
    "где $\\{x_i, y_i\\}_{i=1}^l$ — обучающая выборка, $w$ — вектор весов линейной модели. Будем также рассматривать функционал $MSPE$ с L2-регуляризацией:\n",
    "\n",
    "$$MSPE(\\{x_i, y_i\\}_{i=1}^l, \\, w) = \\frac{1}{l}\\sum_{i=1}^l \\left( \\frac{y_i - \\langle w, x_i \\rangle }{y_i} \\right)^2 + ||w||_2^2.$$\n",
    "\n",
    "**14. (0 баллов)** Добавьте к объектам обеих выборок из п. 11 единичный признак."
   ]
  },
  {
   "cell_type": "code",
   "execution_count": 2053,
   "metadata": {
    "collapsed": true
   },
   "outputs": [],
   "source": [
    "ones = pd.DataFrame(np.ones(Xs.shape[0]))\n",
    "Xs = pd.concat([ones, Xs], axis = 1)"
   ]
  },
  {
   "cell_type": "code",
   "execution_count": 2054,
   "metadata": {
    "collapsed": true
   },
   "outputs": [],
   "source": [
    "X_train, X_test, y_train, y_test = train_test_split(Xs, y, test_size = 0.3, random_state = 42)"
   ]
  },
  {
   "cell_type": "code",
   "execution_count": 2055,
   "metadata": {
    "collapsed": true
   },
   "outputs": [],
   "source": [
    "X_train = X_train.reset_index(drop = True)\n",
    "y_train = y_train.reset_index(drop = True)\n",
    "X_test = X_test.reset_index(drop = True)\n",
    "y_test = y_test.reset_index(drop = True)"
   ]
  },
  {
   "cell_type": "markdown",
   "metadata": {},
   "source": [
    "**15. (1 балл)** Реализуйте функции, которые вычисляют:\n",
    " * прогнозы линейной модели;\n",
    " * функционал $MSPE$ и его градиент;\n",
    " * регуляризованный $MSPE$ и его градиент."
   ]
  },
  {
   "cell_type": "code",
   "execution_count": 2056,
   "metadata": {},
   "outputs": [],
   "source": [
    "# возвращает вектор прогнозов линейной модели с вектором весов w для выборки X\n",
    "def make_pred(X, w):\n",
    "    return np.dot(X, w) # wow\n",
    "\n",
    "# возвращает вектор прогнозов линейной модели для выборки X, если веса неизвестны\n",
    "def fit_predict(self, X, Y):\n",
    "    self.coef_ = np.dot(np.linalg.inv(np.dot(X.T, X)), np.dot(X.T, Y))\n",
    "    return np.dot(X, self.coef_)\n",
    "\n",
    "# возвращает значение функционала MSPE для выборки (X, y) и вектора весов w (опционально -- регуляризованного)\n",
    "def get_func(w, X, y, reg = False):\n",
    "    return np.sum(((y - np.dot(X, w))/ y)**2)/X.shape[0] + np.dot(w, w)*reg\n",
    "\n",
    "# возвращает градиент функционала MSPE для выборки (X, y) и вектора весов w (опционально -- регуляризованного)\n",
    "def get_grad(w, X, y, reg = False):\n",
    "    return -2*(np.dot(np.divide(X.T, y), (y - np.dot(X, w)) / y))/X.shape[0] + 2*w.T*reg"
   ]
  },
  {
   "cell_type": "markdown",
   "metadata": {},
   "source": [
    "**16. (1 балл)** Реализуйте метод градиентного спуска для описанных функционалов ($MSPE$ и его регуляризованный вариант). Функция должна принимать следующие параметры:\n",
    " - X — матрица \"объект-признак\";\n",
    " - y — вектор целевой переменной;\n",
    " - w0 — начальное значение вектора весов;\n",
    " - step_size — значение темпа обучения;\n",
    " - max_iter — максимальное число итераций;\n",
    " - eps — значение, используемое в критерии останова;\n",
    " - is_reg — бинарный параметр, принимает значение True в случае наличия регуляризации функционала, False — в противном случае.\n",
    " \n",
    "Процесс должен быть остановлен, если выполнено хотя бы одно из следующих условий:\n",
    " - было выполнено заданное количество итераций max_iter;\n",
    " - евклидова норма разности векторов $w$ на соседних итерациях стала меньше, чем eps.\n",
    "\n",
    "Функция должна возвращать полученный в результате оптимизации вектор $w$ и список значений функционала на каждой итерации."
   ]
  },
  {
   "cell_type": "code",
   "execution_count": 2057,
   "metadata": {},
   "outputs": [],
   "source": [
    "X_train = X_train.as_matrix()\n",
    "X_test = X_test.as_matrix()\n",
    "y_train = y_train.as_matrix()\n",
    "y_test = y_test.as_matrix()"
   ]
  },
  {
   "cell_type": "code",
   "execution_count": 2058,
   "metadata": {
    "collapsed": true
   },
   "outputs": [],
   "source": [
    "def grad_descent(X, y, eps=0.0001, step_size=0.1, max_iter=100, reg = False, random_w_init = False):\n",
    "    w_old = np.zeros(X.shape[1])\n",
    "    if random_w_init:\n",
    "        w_old = np.random.normal(size = X.shape[1])    \n",
    "    func_list = [get_func(w_old, X, y, reg)]\n",
    "    for j in range(max_iter):           \n",
    "        grad = get_grad(w_old, X, y, reg)\n",
    "        w_new = w_old - step_size*grad\n",
    "        func_list.append(get_func(w_new, X, y, reg))\n",
    "        if  sum((w_new - w_old)**2)**0.5 < eps:\n",
    "            print('Converged at {} iteration'.format(j+1))\n",
    "            break  \n",
    "        w_old = w_new  \n",
    "        \n",
    "    return {'w': w_new, 'MSPE': func_list}"
   ]
  },
  {
   "cell_type": "markdown",
   "metadata": {},
   "source": [
    "Обучите линейную регрессию с функционалом $MSPE$ на обучающей выборке при помощи метода градиентного спуска и изобразите кривые зависимости значения функционала от номера итерации для различных:\n",
    " * значений размера шага из набора [0.001, 1, 10];\n",
    " * способов начальной инициализации вектора весов (нули, случайные веса).\n",
    "\n",
    "Проанализируйте полученные результаты — влияют ли данные параметры на скорость сходимости и итоговое качество? Если да, то как?"
   ]
  },
  {
   "cell_type": "code",
   "execution_count": 2059,
   "metadata": {},
   "outputs": [],
   "source": [
    "gd0 = grad_descent(X_train, y_train, step_size=0.001, max_iter = 200)"
   ]
  },
  {
   "cell_type": "code",
   "execution_count": 2063,
   "metadata": {},
   "outputs": [],
   "source": [
    "gd1 = grad_descent(X_train, y_train, step_size=1)"
   ]
  },
  {
   "cell_type": "code",
   "execution_count": 2061,
   "metadata": {},
   "outputs": [],
   "source": [
    "gd2 = grad_descent(X_train, y_train, step_size=10)"
   ]
  },
  {
   "cell_type": "code",
   "execution_count": 2064,
   "metadata": {},
   "outputs": [
    {
     "data": {
      "image/png": "[encoded data removed]",
      "text/plain": [
       "<matplotlib.figure.Figure at 0x12c835470>"
      ]
     },
     "metadata": {},
     "output_type": "display_data"
    }
   ],
   "source": [
    "f, (ax1, ax2, ax3) = plt.subplots(1, 3, figsize = (15, 4))\n",
    "ax1.plot(list(np.arange(len(gd0['MSPE']))), gd0['MSPE'])\n",
    "ax1.set_title('step = 0.001')\n",
    "ax2.plot(list(np.arange(len(gd1['MSPE']))), gd1['MSPE'])\n",
    "ax2.set_title('step = 1')\n",
    "ax3.plot(list(np.arange(len(gd2['MSPE']))), gd2['MSPE'])\n",
    "ax3.set_title('step = 10')\n",
    "plt.show()"
   ]
  },
  {
   "cell_type": "markdown",
   "metadata": {},
   "source": [
    "<font color='hotpink'> Чем меньше значение шага, тем медленнее сходимость. Ста итераций не хватило, чтобы получить ту точность, которую дал на таком числе итераций спуск с шагом 1; потребуется несколько тысяч шагов. При этом слишком большое значение шага может привести к тому, что сходимости вообще не будет, и мы уйдём от минимума. Так произошло при выборе шага 10.</font>"
   ]
  },
  {
   "cell_type": "code",
   "execution_count": 1864,
   "metadata": {},
   "outputs": [],
   "source": [
    "gd3 = grad_descent(X_train, y_train, step_size=0.1, random_w_init = True)"
   ]
  },
  {
   "cell_type": "code",
   "execution_count": 1865,
   "metadata": {},
   "outputs": [],
   "source": [
    "gd31 = grad_descent(X_train, y_train, step_size=0.1)"
   ]
  },
  {
   "cell_type": "code",
   "execution_count": 1866,
   "metadata": {},
   "outputs": [
    {
     "data": {
      "image/png": "[encoded data removed]",
      "text/plain": [
       "<matplotlib.figure.Figure at 0x12fd526d8>"
      ]
     },
     "metadata": {},
     "output_type": "display_data"
    }
   ],
   "source": [
    "f, (ax1, ax2) = plt.subplots(1, 2, figsize = (15, 4))\n",
    "ax1.plot(list(np.arange(len(gd3['MSPE']))), gd3['MSPE'])\n",
    "ax1.set_title('Random initial weights')\n",
    "ax2.plot(list(np.arange(len(gd31['MSPE']))), gd31['MSPE'])\n",
    "ax2.set_title('Zero initial weights')\n",
    "plt.show()"
   ]
  },
  {
   "cell_type": "code",
   "execution_count": 1867,
   "metadata": {},
   "outputs": [
    {
     "data": {
      "text/plain": [
       "(1.1925859653523365, 0.90786127109907211)"
      ]
     },
     "execution_count": 1867,
     "metadata": {},
     "output_type": "execute_result"
    }
   ],
   "source": [
    "min(gd3['MSPE']), min(gd31['MSPE'])"
   ]
  },
  {
   "cell_type": "markdown",
   "metadata": {},
   "source": [
    "<font color='hotpink'> В данном случае многие веса в модели изначально очень близки к 0 (много дамми-переменных, не все важные), поэтому стартовое значение функционала меньше при нулевых начальных весах и поэтому за 100 шагов модель с нулевыми начальными весами успела достичь меньшего значения функционала. При бОльшем количестве шагов модели, вероятно, сойдутся к примерно одинаковому значению MSPE. </font>"
   ]
  },
  {
   "cell_type": "markdown",
   "metadata": {},
   "source": [
    "**17. (0.5 балла)** Обучите линейную регрессию с функционалом MSPE и его регуляризованным вариантом на обучающей выборке при помощи метода градиентного спуска и изобразите кривые зависимости значения функционала от номера итерации. Исследуйте зависимость скорости сходимости от наличия регуляризации. Обоснуйте, почему так происходит."
   ]
  },
  {
   "cell_type": "code",
   "execution_count": 1868,
   "metadata": {},
   "outputs": [],
   "source": [
    "gd4 = grad_descent(X_train, y_train, step_size=1, reg = True, random_w_init = True)"
   ]
  },
  {
   "cell_type": "code",
   "execution_count": 1869,
   "metadata": {},
   "outputs": [
    {
     "name": "stdout",
     "output_type": "stream",
     "text": [
      "Converged at 48 iteration\n"
     ]
    }
   ],
   "source": [
    "gd5 = grad_descent(X_train, y_train, step_size=0.1, reg = True, random_w_init = True)"
   ]
  },
  {
   "cell_type": "code",
   "execution_count": 1871,
   "metadata": {},
   "outputs": [],
   "source": [
    "gd6 = grad_descent(X_train, y_train, max_iter = 150, step_size=0.01, reg = True, random_w_init = True)"
   ]
  },
  {
   "cell_type": "code",
   "execution_count": 1873,
   "metadata": {},
   "outputs": [
    {
     "data": {
      "image/png": "[encoded data removed]",
      "text/plain": [
       "<matplotlib.figure.Figure at 0x127db96a0>"
      ]
     },
     "metadata": {},
     "output_type": "display_data"
    }
   ],
   "source": [
    "f, (ax1, ax2, ax3) = plt.subplots(1, 3, figsize = (15, 4))\n",
    "ax1.plot(list(np.arange(len(gd6['MSPE']))), gd6['MSPE'])\n",
    "ax1.set_title('step = 0.01')\n",
    "ax2.plot(list(np.arange(len(gd5['MSPE']))), gd5['MSPE'])\n",
    "ax2.set_title('step = 0.1')\n",
    "ax3.plot(list(np.arange(len(gd4['MSPE']))), gd4['MSPE'])\n",
    "ax3.set_title('step = 1')\n",
    "plt.show()"
   ]
  },
  {
   "cell_type": "markdown",
   "metadata": {},
   "source": [
    "<font color='hotpink'>  Теперь сходится алгоритм ещё быстрее, так как при том же step_size становится больше абсолютное значение градиента функционала </font>"
   ]
  },
  {
   "cell_type": "markdown",
   "metadata": {},
   "source": [
    "Метод градиентного спуска может быть весьма трудозатратен в случае большого размера обучающей выборки. Поэтому часто используют метод стохастического градиентного спуска, где на каждой итерации выбирается случайный объект из обучающей выборки и обновление весов происходит только по этому объекту. \n",
    "\n",
    "**18*. (1 бонусный балл)**  Реализуйте метод стохастического градиентного спуска (SGD) для описанных функционалов ($MSPE$ и его регуляризованный вариант). Функция должна иметь параметры и возвращаемое значение, аналогичные оным функции grad\\_descent из п.21. Кроме того, должен использоваться аналогичный критерий останова."
   ]
  },
  {
   "cell_type": "markdown",
   "metadata": {},
   "source": [
    "Stochastic gradient descent:"
   ]
  },
  {
   "cell_type": "code",
   "execution_count": 1930,
   "metadata": {
    "collapsed": true
   },
   "outputs": [],
   "source": [
    "def sgd(X, y, eps=0.0001, step_size = 1, max_iter = 100, reg = False, random_w_init = False):\n",
    "    w_old = np.zeros(X.shape[1])\n",
    "    if random_w_init:\n",
    "        w_old = np.random.normal(size = X.shape[1])    \n",
    "    func_list = [get_func(w_old, X, y, reg)]\n",
    "    for j in range(max_iter):\n",
    "        i = np.random.randint(low = 0, high = X.shape[0], size = 1)[0]\n",
    "        grad = get_grad(w_old, X[i], y[i], reg)\n",
    "        w_new = w_old - step_size*grad\n",
    "        func_list.append(get_func(w_new, X, y, reg))\n",
    "        if  sum((w_new - w_old)**2)**0.5 < eps:\n",
    "            print('Converged at {} iteration'.format(j+1))\n",
    "            break  \n",
    "        w_old = w_new  \n",
    "        \n",
    "    return {'w': w_new, 'MSPE': func_list}"
   ]
  },
  {
   "cell_type": "markdown",
   "metadata": {},
   "source": [
    "Обучите линейную регрессию с функционалом $MSPE$ и его регуляризованным вариантом на обучающей выборке при помощи метода стохастического градиентного спуска, подобрав при этом размер шага, при котором метод будет сходиться. Нарисуйте график сходимости. Выведите значения $MSPE, MSE, R^2$ на контрольной выборке."
   ]
  },
  {
   "cell_type": "code",
   "execution_count": 2065,
   "metadata": {},
   "outputs": [],
   "source": [
    "sgd11 = sgd(X_train, y_train, step_size = 1.5, reg = False, max_iter = 500)"
   ]
  },
  {
   "cell_type": "code",
   "execution_count": 1993,
   "metadata": {},
   "outputs": [
    {
     "name": "stdout",
     "output_type": "stream",
     "text": [
      "MSPE: 0.9122949565170873, MSE: 1464.7314867741231, R2: -0.09498801780477217\n"
     ]
    }
   ],
   "source": [
    "y_pred = make_pred(X_test, sgd11['w'])\n",
    "print('MSPE: {}, MSE: {}, R2: {}'.format(get_func(sgd11['w'], X_test, y_test), \n",
    "                                      mean_squared_error(y_test, make_pred(X_test, sgd11['w'])),\n",
    "                                      r2_score(y_test, make_pred(X_test, sgd11['w']))))"
   ]
  },
  {
   "cell_type": "code",
   "execution_count": 1996,
   "metadata": {},
   "outputs": [],
   "source": [
    "sgd12 = sgd(X_train, y_train, step_size = 1.5, reg = False, max_iter = 500)"
   ]
  },
  {
   "cell_type": "code",
   "execution_count": 1997,
   "metadata": {},
   "outputs": [
    {
     "name": "stdout",
     "output_type": "stream",
     "text": [
      "MSPE: 0.9316724625376365, MSE: 1459.9319947052284, R2: -0.0914000657777676\n"
     ]
    }
   ],
   "source": [
    "y_pred = make_pred(X_test, sgd12['w'])\n",
    "print('MSPE: {}, MSE: {}, R2: {}'.format(get_func(sgd12['w'], X_test, y_test), \n",
    "                                      mean_squared_error(y_test, make_pred(X_test, sgd12['w'])),\n",
    "                                      r2_score(y_test, make_pred(X_test, sgd12['w']))))"
   ]
  },
  {
   "cell_type": "markdown",
   "metadata": {},
   "source": [
    "**19*. (0.5 бонусного балла)** Аналогично п.17 исследуйте зависимость скорости сходимости метода SGD от наличия регуляризации. Обоснуйте, почему так происходит."
   ]
  },
  {
   "cell_type": "markdown",
   "metadata": {},
   "source": [
    "<font color='hotpink'> Аналогично пункту 17, добавление регуляризации увеличивает скорость сходимости метода. </font>"
   ]
  },
  {
   "cell_type": "code",
   "execution_count": 2066,
   "metadata": {},
   "outputs": [
    {
     "data": {
      "image/png": "[encoded data removed]",
      "text/plain": [
       "<matplotlib.figure.Figure at 0x12c81eac8>"
      ]
     },
     "metadata": {},
     "output_type": "display_data"
    }
   ],
   "source": [
    "f, (ax1, ax2) = plt.subplots(1, 2, figsize = (15, 4))\n",
    "ax1.plot(list(np.arange(len(sgd11['MSPE']))), sgd11['MSPE'])\n",
    "ax1.set_title('No regularisation')\n",
    "ax2.plot(list(np.arange(len(sgd12['MSPE']))), sgd12['MSPE'])\n",
    "ax2.set_title('L2 regularisation')\n",
    "plt.show()"
   ]
  },
  {
   "cell_type": "markdown",
   "metadata": {},
   "source": [
    "<font color='hotpink'> Для сравнения, мини-батч градиентный спуск сходится лучше, потому что оценка антиградиента точнее:</font>"
   ]
  },
  {
   "cell_type": "code",
   "execution_count": 1958,
   "metadata": {},
   "outputs": [],
   "source": [
    "def mbgd(X, y, eps=0.0001, step_size = 1, max_iter = 100, reg = False, random_w_init = False, batch_size = np.sqrt(X.shape[0])):\n",
    "    w_old = np.zeros(X.shape[1])\n",
    "    if random_w_init:\n",
    "        w_old = np.random.normal(size = X.shape[1])    \n",
    "    func_list = [get_func(w_old, X, y, reg)]\n",
    "    for j in range(max_iter):\n",
    "        n = np.random.randint(low = 0, high = X.shape[0], size = int(batch_size))\n",
    "        grad = get_grad(w_old, np.array([X[i] for i in n]), np.array([y[i] for i in n]), reg)\n",
    "        w_new = w_old - step_size*grad\n",
    "        func_list.append(get_func(w_new, X, y, reg))\n",
    "        if  sum((w_new - w_old)**2)**0.5 < eps:\n",
    "            print('Converged at {} iteration'.format(j+1))\n",
    "            break  \n",
    "        w_old = w_new  \n",
    "        \n",
    "    return {'w': w_new, 'MSPE': func_list}"
   ]
  },
  {
   "cell_type": "code",
   "execution_count": 1982,
   "metadata": {},
   "outputs": [],
   "source": [
    "mbgd11 = mbgd(X_train, y_train, step_size = 0.3, reg = False, max_iter = 500)"
   ]
  },
  {
   "cell_type": "code",
   "execution_count": 1988,
   "metadata": {
    "collapsed": true
   },
   "outputs": [],
   "source": [
    "mbgd12 = mbgd(X_train, y_train, step_size = 0.01, reg = True, max_iter = 700)"
   ]
  },
  {
   "cell_type": "code",
   "execution_count": 1989,
   "metadata": {},
   "outputs": [
    {
     "data": {
      "image/png": "[encoded data removed]",
      "text/plain": [
       "<matplotlib.figure.Figure at 0x12b06d320>"
      ]
     },
     "metadata": {},
     "output_type": "display_data"
    }
   ],
   "source": [
    "f, (ax1, ax2) = plt.subplots(1, 2, figsize = (15, 4))\n",
    "ax1.plot(list(np.arange(len(mbgd11['MSPE']))), mbgd11['MSPE'])\n",
    "ax1.set_title('No regularisation')\n",
    "ax2.plot(list(np.arange(len(mbgd12['MSPE']))), mbgd12['MSPE'])\n",
    "ax2.set_title('L2 regularisation')\n",
    "plt.show()"
   ]
  },
  {
   "cell_type": "markdown",
   "metadata": {},
   "source": [
    "**20. (0.5 балла)** Обучите стандартную линейную регрессию с функционалом качества MSE на обучающей выборке и выведите значение MSPE полученного решения на контрольной выборке. Как оно соотносится с аналогичным результатом для решения, полученного в п.17? Почему?"
   ]
  },
  {
   "cell_type": "code",
   "execution_count": 2067,
   "metadata": {
    "collapsed": true
   },
   "outputs": [],
   "source": [
    "lr = LinearRegression(fit_intercept=False).fit(X_train, y_train)\n",
    "y_pred = lr.predict(X_test)"
   ]
  },
  {
   "cell_type": "code",
   "execution_count": 2069,
   "metadata": {},
   "outputs": [
    {
     "data": {
      "text/plain": [
       "(22.524497675367233, 0.97345455360135802)"
      ]
     },
     "execution_count": 2069,
     "metadata": {},
     "output_type": "execute_result"
    }
   ],
   "source": [
    "get_func(lr.coef_, X_test, y_test), get_func(gd5['w'], X_test, y_test)"
   ]
  },
  {
   "cell_type": "code",
   "execution_count": 2070,
   "metadata": {},
   "outputs": [
    {
     "data": {
      "text/plain": [
       "(1033.4939298835457, 1454.7675475352412)"
      ]
     },
     "execution_count": 2070,
     "metadata": {},
     "output_type": "execute_result"
    }
   ],
   "source": [
    "mean_squared_error(y_test, y_pred), mean_squared_error(y_test, np.dot(X_test, gd5['w']))"
   ]
  },
  {
   "cell_type": "markdown",
   "metadata": {},
   "source": [
    "<font color='hotpink'> При поиске этих двух решений минимизировались разные функционалы, поэтому решение, полученное обученной в этом пункте стандартной линейной регрессией, минимизирующее MSE, не даёт минимальное значение MSPE, а MSE обученной в этом пункте модели меньше, чем MSE решения из пункта 17. </font>"
   ]
  }
 ],
 "metadata": {
  "anaconda-cloud": {},
  "kernelspec": {
   "display_name": "Python 3",
   "language": "python",
   "name": "python3"
  },
  "language_info": {
   "codemirror_mode": {
    "name": "ipython",
    "version": 3
   },
   "file_extension": ".py",
   "mimetype": "text/x-python",
   "name": "python",
   "nbconvert_exporter": "python",
   "pygments_lexer": "ipython3",
   "version": "3.6.1"
  }
 },
 "nbformat": 4,
 "nbformat_minor": 1
}
