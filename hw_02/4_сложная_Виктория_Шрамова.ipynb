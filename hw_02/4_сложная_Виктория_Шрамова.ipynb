{
 "cells": [
  {
   "cell_type": "markdown",
   "metadata": {},
   "source": [
    "# Машинное обучение, ФЭН ВШЭ\n",
    "\n",
    "# Практическое задание 2\n",
    "(Основано на материалах курса машинного обучения на фкн)\n",
    "\n",
    "## Общая информация\n",
    "\n",
    "Дата выдачи: 21.09.2017\n",
    "\n",
    "Срок сдачи: 8.10.2017 23:59MSK\n",
    "\n",
    "### О задании\n",
    "\n",
    "Практическое задание 1 посвящено изучению основных библиотек для анализа данных, а также линейных моделей и методов их обучения. Вы научитесь:\n",
    " * применять библиотеку NumPy;\n",
    " * подготавливать данные для обучения линейных моделей;\n",
    " * обучать линейную, Lasso и Ridge-регрессии при помощи модуля scikit-learn;\n",
    " * реализовывать обычный и стохастический градиентные спуски;\n",
    " * обучать линейную регрессию для произвольного функционала качества.\n",
    " \n",
    "\n",
    "### Оценивание и штрафы\n",
    "\n",
    "Каждая из задач имеет определенную «стоимость» (указана в скобках около задачи). Максимально допустимая оценка за работу — 10 баллов. Кроме того, некоторые из заданий являются опциональными (необязательными), однако за их выполнение можно получить дополнительные баллы.\n",
    "\n",
    "\n",
    "Задание выполняется самостоятельно. «Похожие» решения считаются плагиатом и все задействованные студенты (в том числе те, у кого списали) не могут получить за него больше 0 баллов (подробнее о плагиате см. на странице курса). Если вы нашли решение какого-то из заданий (или его часть) в открытом источнике, необходимо указать ссылку на этот источник в отдельном блоке в конце Вашей работы (скорее всего вы будете не единственным, кто это нашел, поэтому чтобы исключить подозрение в плагиате, необходима ссылка на источник). \n",
    "\n",
    "Неэффективная реализация кода может негативно отразиться на оценке.\n",
    "\n",
    "\n",
    "### Формат сдачи\n",
    "Для сдачи задания переименуйте получившийся файл \\*.ipynb в соответствии со следующим форматом: *HW1_Username.ipynb*, где *Username* — Ваша фамилия и инициалы на латинице (например, *HW1_IvanovII.ipynb*). Далее отправьте этот файл на почту курса, указав соответствующую тему (см. вики-страничку курча)."
   ]
  },
  {
   "cell_type": "markdown",
   "metadata": {},
   "source": [
    "## Библиотеки для анализа данных\n",
    "\n",
    "### NumPy\n",
    "\n",
    "Во всех заданиях данного раздела запрещено использовать циклы  и list comprehensions. Под вектором и матрицей в данных заданиях понимается одномерный и двумерный numpy.array соответственно."
   ]
  },
  {
   "cell_type": "code",
   "execution_count": 1,
   "metadata": {
    "collapsed": true
   },
   "outputs": [],
   "source": [
    "import numpy as np"
   ]
  },
  {
   "cell_type": "markdown",
   "metadata": {},
   "source": [
    "**1. (0.3 балла)** Реализуйте функцию, возвращающую максимальный элемент в векторе x среди элементов, перед которыми стоит нулевой. Для x = np.array([6, 2, 0, 3, 0, 0, 5, 7, 0]) ответом является 5. Если нулевых элементов нет, функция должна возвращать None.\n"
   ]
  },
  {
   "cell_type": "code",
   "execution_count": 124,
   "metadata": {
    "collapsed": true
   },
   "outputs": [],
   "source": [
    "def max_element(arr):\n",
    "    kek = np.arange(len(arr))[arr==0]+1\n",
    "    if kek[-1]==len(arr):\n",
    "        kek=kek[:-1]\n",
    "    if len(kek)>0:\n",
    "        return max(arr[kek])\n",
    "    else:\n",
    "        return None"
   ]
  },
  {
   "cell_type": "markdown",
   "metadata": {},
   "source": [
    "**2. (0.3 балла)** Реализуйте функцию, принимающую на вход матрицу и некоторое число и возвращающую ближайший к числу элемент матрицы. Например: для X = np.arange(0,10).reshape((2, 5)) и v = 3.6 ответом будет 4."
   ]
  },
  {
   "cell_type": "code",
   "execution_count": 154,
   "metadata": {
    "collapsed": true
   },
   "outputs": [],
   "source": [
    "def nearest_value(dog, virginity):\n",
    "    panin = abs(dog - virginity).argmin()\n",
    "    return dog[(panin // dog.shape[1], panin % dog.shape[1])]"
   ]
  },
  {
   "cell_type": "markdown",
   "metadata": {},
   "source": [
    "**3. (0.3 балла)** Реализуйте функцию scale(X), которая принимает на вход матрицу и масштабирует каждый ее столбец (вычитает выборочное среднее и делит на стандартное отклонение). Убедитесь, что в функции не будет происходить деления на ноль. Протестируйте на случайной матрице (для её генерации можно использовать, например, функцию [numpy.random.randint](http://docs.scipy.org/doc/numpy/reference/generated/numpy.random.randint.html))."
   ]
  },
  {
   "cell_type": "code",
   "execution_count": 168,
   "metadata": {
    "collapsed": true
   },
   "outputs": [],
   "source": [
    "def scale(X):\n",
    "    means = X.mean(0)\n",
    "    stds = X.std(0)\n",
    "    if 0 in stds:\n",
    "        return \"Error\"\n",
    "    return (X - means)/stds"
   ]
  },
  {
   "cell_type": "code",
   "execution_count": 185,
   "metadata": {
    "collapsed": false
   },
   "outputs": [
    {
     "name": "stdout",
     "output_type": "stream",
     "text": [
      "[[2 6 2 1]\n",
      " [0 4 8 3]\n",
      " [9 7 9 8]\n",
      " [8 8 8 9]\n",
      " [5 5 1 1]]\n"
     ]
    },
    {
     "data": {
      "text/plain": [
       "array([[-0.81649658,  0.        , -1.06436231, -0.98810493],\n",
       "       [-1.39970842, -1.41421356,  0.70957488, -0.40686674],\n",
       "       [ 1.22474487,  0.70710678,  1.00523107,  1.04622875],\n",
       "       [ 0.93313895,  1.41421356,  0.70957488,  1.33684785],\n",
       "       [ 0.05832118, -0.70710678, -1.36001851, -0.98810493]])"
      ]
     },
     "execution_count": 185,
     "metadata": {},
     "output_type": "execute_result"
    }
   ],
   "source": [
    "# chek with random matrix \n",
    "mat = np.random.randint(low=10,size=(5,4))\n",
    "print(mat)\n",
    "scale(mat)"
   ]
  },
  {
   "cell_type": "markdown",
   "metadata": {},
   "source": [
    "**4. (0.3 балла)** Реализуйте функцию, которая для заданной матрицы находит:\n",
    " - определитель\n",
    " - след\n",
    " - наименьший и наибольший элементы\n",
    " - норму Фробениуса\n",
    " - собственные числа\n",
    " - обратную матрицу\n",
    "\n",
    "Для тестирования сгенерируйте матрицу с элементами из нормального распределения $\\mathcal{N}$(10,1)"
   ]
  },
  {
   "cell_type": "code",
   "execution_count": 176,
   "metadata": {
    "collapsed": false
   },
   "outputs": [],
   "source": [
    "def get_stats(X):\n",
    "    determ = np.linalg.det(X)\n",
    "    t = X.trace()\n",
    "    minelem = X.min()\n",
    "    maxelem = X.max()\n",
    "    frob = np.linalg.norm(X, 'fro')\n",
    "    sobchis = np.linalg.eig(X)\n",
    "    inverse = np.linalg.inv(X)\n",
    "    return determ, t, minelem, maxelem, frob, sobchis[0], inverse"
   ]
  },
  {
   "cell_type": "code",
   "execution_count": 186,
   "metadata": {
    "collapsed": false
   },
   "outputs": [
    {
     "name": "stdout",
     "output_type": "stream",
     "text": [
      "[[-1.36531749  0.03186368 -0.34826233]\n",
      " [ 1.51739399  1.59776679  0.95554682]\n",
      " [-0.76918663 -0.2199122  -0.74691283]]\n"
     ]
    },
    {
     "data": {
      "text/plain": [
       "(1.0433553319451274,\n",
       " -0.5144635299734347,\n",
       " -1.3653174861563191,\n",
       " 1.5977667886552465,\n",
       " 2.9921054402564957,\n",
       " array([ 1.53374681, -1.63116835, -0.41704199]),\n",
       " array([[-0.94239813,  0.09621509,  0.56250177],\n",
       "        [ 0.38181355,  0.72065039,  0.7439207 ],\n",
       "        [ 0.85808485, -0.31126413, -2.13715177]]))"
      ]
     },
     "execution_count": 186,
     "metadata": {},
     "output_type": "execute_result"
    }
   ],
   "source": [
    "# check with matrix from Normal Distribution\n",
    "norm = np.random.normal(size=(3,3))\n",
    "print(norm)\n",
    "get_stats(norm)"
   ]
  },
  {
   "cell_type": "markdown",
   "metadata": {},
   "source": [
    "**5. (0.3 балла)** Повторите 100 раз следующий эксперимент: сгенерируйте две матрицы размера 10×10 из стандартного нормального распределения, перемножьте их (как матрицы) и найдите максимальный элемент. Какое среднее значение по экспериментам у максимальных элементов? 95-процентная квантиль?"
   ]
  },
  {
   "cell_type": "code",
   "execution_count": 205,
   "metadata": {
    "collapsed": false
   },
   "outputs": [
    {
     "name": "stdout",
     "output_type": "stream",
     "text": [
      "Среднее равно: 8.4822240606\n",
      "95-процентная квантиль равна: 11.8624605426\n"
     ]
    }
   ],
   "source": [
    "arr = []\n",
    "for exp_num in range(100):\n",
    "    X, Y = np.random.normal(size=(10,10)), np.random.normal(size=(10,10))\n",
    "    arr.append(np.dot(X, Y).max())\n",
    "print('Среднее равно: %s' % np.mean(arr))\n",
    "print('95-процентная квантиль равна: %s' % np.percentile(arr,95)) "
   ]
  },
  {
   "cell_type": "markdown",
   "metadata": {},
   "source": [
    "## Линейная регрессия\n",
    "\n",
    "В этой части мы разберемся с линейной регрессией, способами её обучения и измерением качества ее прогнозов. \n",
    "\n",
    "Будем рассматривать данные по авиарейсам в США за январь-апрель 2008 года для предсказания времени задержки отправления рейса в минутах (DepDelay). Отметим, что под задержкой подразумевается не только опоздание рейса относительно планируемого времени вылета, но и отправление до планируемого времени.\n",
    "\n",
    "\n",
    "[Данные](https://www.dropbox.com/s/dvfitn93obn0rql/2008.csv?dl=0) и их [описание](http://stat-computing.org/dataexpo/2009/the-data.html)\n",
    "\n",
    "### Подготовка данных\n",
    "\n",
    "**6. (0.75 балла)** Считайте выборку из файла при помощи функции pd.read_csv и ответьте на следующие вопросы:\n",
    "   - Имеются ли в данных пропущенные значения?\n",
    "   - Сколько всего пропущенных элементов в таблице \"объект-признак\"?\n",
    "   - Сколько объектов имеют хотя бы один пропуск?\n",
    "   - Сколько признаков имеют хотя бы одно пропущенное значение?"
   ]
  },
  {
   "cell_type": "code",
   "execution_count": 2,
   "metadata": {
    "collapsed": false,
    "scrolled": true
   },
   "outputs": [],
   "source": [
    "import pandas as pd"
   ]
  },
  {
   "cell_type": "code",
   "execution_count": 4,
   "metadata": {
    "collapsed": false
   },
   "outputs": [
    {
     "data": {
      "text/html": [
       "<div>\n",
       "<style>\n",
       "    .dataframe thead tr:only-child th {\n",
       "        text-align: right;\n",
       "    }\n",
       "\n",
       "    .dataframe thead th {\n",
       "        text-align: left;\n",
       "    }\n",
       "\n",
       "    .dataframe tbody tr th {\n",
       "        vertical-align: top;\n",
       "    }\n",
       "</style>\n",
       "<table border=\"1\" class=\"dataframe\">\n",
       "  <thead>\n",
       "    <tr style=\"text-align: right;\">\n",
       "      <th></th>\n",
       "      <th>Year</th>\n",
       "      <th>Month</th>\n",
       "      <th>DayofMonth</th>\n",
       "      <th>DayOfWeek</th>\n",
       "      <th>DepTime</th>\n",
       "      <th>CRSDepTime</th>\n",
       "      <th>ArrTime</th>\n",
       "      <th>CRSArrTime</th>\n",
       "      <th>UniqueCarrier</th>\n",
       "      <th>FlightNum</th>\n",
       "      <th>...</th>\n",
       "      <th>TaxiIn</th>\n",
       "      <th>TaxiOut</th>\n",
       "      <th>Cancelled</th>\n",
       "      <th>CancellationCode</th>\n",
       "      <th>Diverted</th>\n",
       "      <th>CarrierDelay</th>\n",
       "      <th>WeatherDelay</th>\n",
       "      <th>NASDelay</th>\n",
       "      <th>SecurityDelay</th>\n",
       "      <th>LateAircraftDelay</th>\n",
       "    </tr>\n",
       "  </thead>\n",
       "  <tbody>\n",
       "    <tr>\n",
       "      <th>0</th>\n",
       "      <td>2008</td>\n",
       "      <td>6</td>\n",
       "      <td>18</td>\n",
       "      <td>3</td>\n",
       "      <td>2111.0</td>\n",
       "      <td>2055</td>\n",
       "      <td>2308.0</td>\n",
       "      <td>2300</td>\n",
       "      <td>WN</td>\n",
       "      <td>242</td>\n",
       "      <td>...</td>\n",
       "      <td>3.0</td>\n",
       "      <td>8.0</td>\n",
       "      <td>0</td>\n",
       "      <td>NaN</td>\n",
       "      <td>0</td>\n",
       "      <td>NaN</td>\n",
       "      <td>NaN</td>\n",
       "      <td>NaN</td>\n",
       "      <td>NaN</td>\n",
       "      <td>NaN</td>\n",
       "    </tr>\n",
       "    <tr>\n",
       "      <th>1</th>\n",
       "      <td>2008</td>\n",
       "      <td>6</td>\n",
       "      <td>4</td>\n",
       "      <td>3</td>\n",
       "      <td>1426.0</td>\n",
       "      <td>1410</td>\n",
       "      <td>1730.0</td>\n",
       "      <td>1728</td>\n",
       "      <td>XE</td>\n",
       "      <td>2380</td>\n",
       "      <td>...</td>\n",
       "      <td>4.0</td>\n",
       "      <td>12.0</td>\n",
       "      <td>0</td>\n",
       "      <td>NaN</td>\n",
       "      <td>0</td>\n",
       "      <td>NaN</td>\n",
       "      <td>NaN</td>\n",
       "      <td>NaN</td>\n",
       "      <td>NaN</td>\n",
       "      <td>NaN</td>\n",
       "    </tr>\n",
       "    <tr>\n",
       "      <th>2</th>\n",
       "      <td>2008</td>\n",
       "      <td>8</td>\n",
       "      <td>3</td>\n",
       "      <td>7</td>\n",
       "      <td>1143.0</td>\n",
       "      <td>1145</td>\n",
       "      <td>1501.0</td>\n",
       "      <td>1520</td>\n",
       "      <td>WN</td>\n",
       "      <td>1769</td>\n",
       "      <td>...</td>\n",
       "      <td>4.0</td>\n",
       "      <td>9.0</td>\n",
       "      <td>0</td>\n",
       "      <td>NaN</td>\n",
       "      <td>0</td>\n",
       "      <td>NaN</td>\n",
       "      <td>NaN</td>\n",
       "      <td>NaN</td>\n",
       "      <td>NaN</td>\n",
       "      <td>NaN</td>\n",
       "    </tr>\n",
       "    <tr>\n",
       "      <th>3</th>\n",
       "      <td>2008</td>\n",
       "      <td>1</td>\n",
       "      <td>23</td>\n",
       "      <td>3</td>\n",
       "      <td>1141.0</td>\n",
       "      <td>1144</td>\n",
       "      <td>1323.0</td>\n",
       "      <td>1335</td>\n",
       "      <td>OO</td>\n",
       "      <td>3802</td>\n",
       "      <td>...</td>\n",
       "      <td>4.0</td>\n",
       "      <td>19.0</td>\n",
       "      <td>0</td>\n",
       "      <td>NaN</td>\n",
       "      <td>0</td>\n",
       "      <td>NaN</td>\n",
       "      <td>NaN</td>\n",
       "      <td>NaN</td>\n",
       "      <td>NaN</td>\n",
       "      <td>NaN</td>\n",
       "    </tr>\n",
       "    <tr>\n",
       "      <th>4</th>\n",
       "      <td>2008</td>\n",
       "      <td>5</td>\n",
       "      <td>4</td>\n",
       "      <td>7</td>\n",
       "      <td>815.0</td>\n",
       "      <td>820</td>\n",
       "      <td>1243.0</td>\n",
       "      <td>1300</td>\n",
       "      <td>WN</td>\n",
       "      <td>399</td>\n",
       "      <td>...</td>\n",
       "      <td>4.0</td>\n",
       "      <td>8.0</td>\n",
       "      <td>0</td>\n",
       "      <td>NaN</td>\n",
       "      <td>0</td>\n",
       "      <td>NaN</td>\n",
       "      <td>NaN</td>\n",
       "      <td>NaN</td>\n",
       "      <td>NaN</td>\n",
       "      <td>NaN</td>\n",
       "    </tr>\n",
       "  </tbody>\n",
       "</table>\n",
       "<p>5 rows × 29 columns</p>\n",
       "</div>"
      ],
      "text/plain": [
       "   Year  Month  DayofMonth  DayOfWeek  DepTime  CRSDepTime  ArrTime  \\\n",
       "0  2008      6          18          3   2111.0        2055   2308.0   \n",
       "1  2008      6           4          3   1426.0        1410   1730.0   \n",
       "2  2008      8           3          7   1143.0        1145   1501.0   \n",
       "3  2008      1          23          3   1141.0        1144   1323.0   \n",
       "4  2008      5           4          7    815.0         820   1243.0   \n",
       "\n",
       "   CRSArrTime UniqueCarrier  FlightNum        ...         TaxiIn  TaxiOut  \\\n",
       "0        2300            WN        242        ...            3.0      8.0   \n",
       "1        1728            XE       2380        ...            4.0     12.0   \n",
       "2        1520            WN       1769        ...            4.0      9.0   \n",
       "3        1335            OO       3802        ...            4.0     19.0   \n",
       "4        1300            WN        399        ...            4.0      8.0   \n",
       "\n",
       "   Cancelled  CancellationCode  Diverted  CarrierDelay WeatherDelay NASDelay  \\\n",
       "0          0               NaN         0           NaN          NaN      NaN   \n",
       "1          0               NaN         0           NaN          NaN      NaN   \n",
       "2          0               NaN         0           NaN          NaN      NaN   \n",
       "3          0               NaN         0           NaN          NaN      NaN   \n",
       "4          0               NaN         0           NaN          NaN      NaN   \n",
       "\n",
       "   SecurityDelay  LateAircraftDelay  \n",
       "0            NaN                NaN  \n",
       "1            NaN                NaN  \n",
       "2            NaN                NaN  \n",
       "3            NaN                NaN  \n",
       "4            NaN                NaN  \n",
       "\n",
       "[5 rows x 29 columns]"
      ]
     },
     "execution_count": 4,
     "metadata": {},
     "output_type": "execute_result"
    }
   ],
   "source": [
    "df = pd.read_csv('2008.csv')\n",
    "df.head()"
   ]
  },
  {
   "cell_type": "markdown",
   "metadata": {},
   "source": [
    "- Имеются ли в данных пропущенные значения?"
   ]
  },
  {
   "cell_type": "code",
   "execution_count": 7,
   "metadata": {
    "collapsed": false
   },
   "outputs": [
    {
     "name": "stdout",
     "output_type": "stream",
     "text": [
      "да, пропуски есть\n"
     ]
    }
   ],
   "source": [
    "if df.isnull().values.any() == True:\n",
    "    print('да, пропуски есть')\n",
    "else:\n",
    "    print('нет, пропусков нет')"
   ]
  },
  {
   "cell_type": "markdown",
   "metadata": {},
   "source": [
    "- Сколько всего пропущенных элементов в таблице \"объект-признак\"?"
   ]
  },
  {
   "cell_type": "code",
   "execution_count": 15,
   "metadata": {
    "collapsed": false
   },
   "outputs": [
    {
     "name": "stdout",
     "output_type": "stream",
     "text": [
      "количество пропусков: 355215\n"
     ]
    }
   ],
   "source": [
    "print('количество пропусков: %s' % df.isnull().values.sum())"
   ]
  },
  {
   "cell_type": "markdown",
   "metadata": {},
   "source": [
    "- Сколько объектов имеют хотя бы один пропуск? (будем учитывать пропуски в целевой переменной)"
   ]
  },
  {
   "cell_type": "code",
   "execution_count": 31,
   "metadata": {
    "collapsed": false
   },
   "outputs": [
    {
     "name": "stdout",
     "output_type": "stream",
     "text": [
      "количество объектов с хотя бы одним пропуском: 70000\n"
     ]
    }
   ],
   "source": [
    "print('количество объектов с хотя бы одним пропуском: %s' % df.isnull().values.any(axis=1).sum())"
   ]
  },
  {
   "cell_type": "markdown",
   "metadata": {},
   "source": [
    "- Сколько признаков имеют хотя бы одно пропущенное значение? (будем учитывать целевую переменную)"
   ]
  },
  {
   "cell_type": "code",
   "execution_count": 32,
   "metadata": {
    "collapsed": false
   },
   "outputs": [
    {
     "name": "stdout",
     "output_type": "stream",
     "text": [
      "количество признаков с хотя бы одним пропуском: 16\n"
     ]
    }
   ],
   "source": [
    "print('количество признаков с хотя бы одним пропуском: %s' % df.isnull().values.any(axis=0).sum())"
   ]
  },
  {
   "cell_type": "markdown",
   "metadata": {},
   "source": [
    "Как вы понимаете, также не имеет смысла рассматривать при решении поставленной задачи объекты с пропущенным значением целевой переменной. В связи с этим ответьте на следующие вопросы и выполните соответствующие действия:\n",
    "- Имеются ли пропущенные значения в целевой переменной?\n",
    "- Проанализируйте объекты с пропущенными значениями целевой переменной. Чем вызвано это явление? Что их объединяет? Можно ли в связи с этим, на ваш взгляд, исключить какие-то признаки из рассмотрения? Обоснуйте свою точку зрения.\n",
    "\n",
    "Исключите из выборки объекты **с пропущенным значением целевой переменной и со значением целевой переменной, равным 0**, а также при необходимости исключите признаки в соответствии с вашим ответом на последний вопрос из списка и выделите целевую переменную в отдельный вектор, исключив её из матрицы \"объект-признак\"."
   ]
  },
  {
   "cell_type": "markdown",
   "metadata": {
    "collapsed": true
   },
   "source": [
    "- Имеются ли пропущенные значения в целевой переменной?"
   ]
  },
  {
   "cell_type": "code",
   "execution_count": 41,
   "metadata": {
    "collapsed": false
   },
   "outputs": [
    {
     "name": "stdout",
     "output_type": "stream",
     "text": [
      "да, пропуски есть\n"
     ]
    }
   ],
   "source": [
    "target_null = df['DepDelay'].isnull().values\n",
    "if target_null.any() == True:\n",
    "    print('да, пропуски есть')\n",
    "else:\n",
    "    print('нет, пропусков нет')"
   ]
  },
  {
   "cell_type": "markdown",
   "metadata": {},
   "source": [
    "- Проанализируйте объекты с пропущенными значениями целевой переменной. Чем вызвано это явление? Что их объединяет? Можно ли в связи с этим, на ваш взгляд, исключить какие-то признаки из рассмотрения? Обоснуйте свою точку зрения."
   ]
  },
  {
   "cell_type": "code",
   "execution_count": 112,
   "metadata": {
    "collapsed": false,
    "scrolled": true
   },
   "outputs": [
    {
     "name": "stdout",
     "output_type": "stream",
     "text": [
      "процентная доля объектов с пропусками в DepDelay от всех объектов: 2.0 \n"
     ]
    }
   ],
   "source": [
    "a = round(100*len(df[target_null == True])/len(df),2)\n",
    "print('процентная доля объектов с пропусками в DepDelay от всех объектов: %s ' % a)"
   ]
  },
  {
   "cell_type": "code",
   "execution_count": 92,
   "metadata": {
    "collapsed": false
   },
   "outputs": [
    {
     "name": "stdout",
     "output_type": "stream",
     "text": [
      "Данные признаки содержат пропуски во всех объектах с пропуском в DepDelay \n",
      "и не содержат пропуски во всех объектах без пропуска в DepDelay:\n",
      "\n",
      "DepTime\n"
     ]
    }
   ],
   "source": [
    "df1 = df[target_null == True]\n",
    "df2 = df[target_null == False]\n",
    "print('Данные признаки содержат пропуски во всех объектах с пропуском в DepDelay \\nи не содержат пропуски во всех объектах без пропуска в DepDelay:\\n')\n",
    "for i in df2.columns: \n",
    "    if i != 'DepDelay' and df1[i].isnull().values.all() == True and df2[i].isnull().values.any() == False:\n",
    "        print(i)"
   ]
  },
  {
   "cell_type": "code",
   "execution_count": 94,
   "metadata": {
    "collapsed": false
   },
   "outputs": [
    {
     "name": "stdout",
     "output_type": "stream",
     "text": [
      "объекты с признаком DepDelay имеют идеальное сходство в следующих признаках:\n",
      "\n",
      "признак: DepTime, значение: nan\n",
      "признак: ArrTime, значение: nan\n",
      "признак: ActualElapsedTime, значение: nan\n",
      "признак: AirTime, значение: nan\n",
      "признак: ArrDelay, значение: nan\n",
      "признак: DepDelay, значение: nan\n",
      "признак: TaxiIn, значение: nan\n",
      "признак: TaxiOut, значение: nan\n",
      "признак: Cancelled, значение: 1\n",
      "признак: Diverted, значение: 0\n",
      "признак: CarrierDelay, значение: nan\n",
      "признак: WeatherDelay, значение: nan\n",
      "признак: NASDelay, значение: nan\n",
      "признак: SecurityDelay, значение: nan\n",
      "признак: LateAircraftDelay, значение: nan\n"
     ]
    }
   ],
   "source": [
    "print('объекты с признаком DepDelay имеют идеальное сходство в следующих признаках:\\n')\n",
    "for i in df1.columns: \n",
    "    if len(df1[i].unique()) == 1 and set(df1[i].unique()) != set(df2[i].unique()):\n",
    "        print('признак: %s, значение: %s'% (i, df1[i].unique()[0]))"
   ]
  },
  {
   "cell_type": "markdown",
   "metadata": {},
   "source": [
    "**Выводы:** \n",
    "- пропуски в целевой переменной *DepDelay* (задержки рейса в минутах), которая рассчитывается как модуль разницы между запланированным и фактическим временем отправления рейса, обусловлены пропусками в фактическом времени отправления рейса *DepTime* \n",
    "- объекты с пропусками в целевой переменной *DepDelay* объединяет то, что для всех объектов рейс был отменён (переменная *Cancelled*=1), при этом место прибытия рейса изменено не было (переменная *Diverted*=0). Также имеются признаки, в которых у всех таких объектов есть пропуски (список см. выше)\n",
    "- на основе результатов данного анализа признаки исключать нельзя, тк объекты с пропусками в целевой переменной *DepDelay* составляют всего 2% от всей выборки и в данных признаках может содержаться ценная информация для прогнозирования для объектов без пропусков"
   ]
  },
  {
   "cell_type": "markdown",
   "metadata": {},
   "source": [
    "Исключите из выборки объекты с пропущенным значением целевой переменной и со значением целевой переменной, равным 0, а также при необходимости исключите признаки в соответствии с вашим ответом на последний вопрос из списка и выделите целевую переменную в отдельный вектор, исключив её из матрицы \"объект-признак\"."
   ]
  },
  {
   "cell_type": "code",
   "execution_count": 252,
   "metadata": {
    "collapsed": false
   },
   "outputs": [],
   "source": [
    "df = df2[df2['DepDelay'] != 0]\n",
    "target = df['DepDelay']\n",
    "df= df.drop('DepDelay', axis=1)"
   ]
  },
  {
   "cell_type": "code",
   "execution_count": 253,
   "metadata": {
    "collapsed": false
   },
   "outputs": [
    {
     "data": {
      "text/plain": [
       "Index(['Year', 'Month', 'DayofMonth', 'DayOfWeek', 'DepTime', 'CRSDepTime',\n",
       "       'ArrTime', 'CRSArrTime', 'UniqueCarrier', 'FlightNum', 'TailNum',\n",
       "       'ActualElapsedTime', 'CRSElapsedTime', 'AirTime', 'ArrDelay', 'Origin',\n",
       "       'Dest', 'Distance', 'TaxiIn', 'TaxiOut', 'Cancelled',\n",
       "       'CancellationCode', 'Diverted', 'CarrierDelay', 'WeatherDelay',\n",
       "       'NASDelay', 'SecurityDelay', 'LateAircraftDelay'],\n",
       "      dtype='object')"
      ]
     },
     "execution_count": 253,
     "metadata": {},
     "output_type": "execute_result"
    }
   ],
   "source": [
    "df.columns"
   ]
  },
  {
   "cell_type": "markdown",
   "metadata": {},
   "source": [
    "**7. (1 балл)** Обратите внимание, что признаки DepTime, CRSDepTime, ArrTime, CRSArrTime приведены в формате hhmm, в связи с чем будет не вполне корректно рассматривать их как вещественные.\n",
    "\n",
    "Преобразуйте каждый признак FeatureName из указанных в пару новых признаков FeatureName\\_Hour, FeatureName\\_Minute, разделив каждое из значений на часы и минуты. Не забудьте при этом исключить исходный признак из выборки. В случае, если значение признака отсутствует, значения двух новых признаков, его заменяющих, также должны отсутствовать. \n",
    "\n",
    "Например, признак DepTime необходимо заменить на пару признаков DepTime_Hour, DepTime_Minute. При этом, например, значение 155 исходного признака будет преобразовано в значения 1 и 55 признаков DepTime_Hour, DepTime_Minute соответственно."
   ]
  },
  {
   "cell_type": "code",
   "execution_count": 254,
   "metadata": {
    "collapsed": false
   },
   "outputs": [
    {
     "data": {
      "text/plain": [
       "Index(['Year', 'Month', 'DayofMonth', 'DayOfWeek', 'UniqueCarrier',\n",
       "       'FlightNum', 'TailNum', 'ActualElapsedTime', 'CRSElapsedTime',\n",
       "       'AirTime', 'ArrDelay', 'Origin', 'Dest', 'Distance', 'TaxiIn',\n",
       "       'TaxiOut', 'Cancelled', 'CancellationCode', 'Diverted', 'CarrierDelay',\n",
       "       'WeatherDelay', 'NASDelay', 'SecurityDelay', 'LateAircraftDelay',\n",
       "       'DepTime_Hour', 'DepTime_Minute', 'CRSDepTime_Hour',\n",
       "       'CRSDepTime_Minute', 'ArrTime_Hour', 'ArrTime_Minute',\n",
       "       'CRSArrTime_Hour', 'CRSArrTime_Minute'],\n",
       "      dtype='object')"
      ]
     },
     "execution_count": 254,
     "metadata": {},
     "output_type": "execute_result"
    }
   ],
   "source": [
    "for i in ['DepTime', 'CRSDepTime', 'ArrTime', 'CRSArrTime']:\n",
    "    df[i+'_Hour'],df[i+'_Minute'] =  df[i]//100, df[i]%100\n",
    "    df = df.drop(i, axis=1)\n",
    "df.columns"
   ]
  },
  {
   "cell_type": "markdown",
   "metadata": {},
   "source": [
    "**8. (0.5 балла)** Некоторые из признаков, отличных от целевой переменной, могут оказывать чересчур значимое влияние на прогноз, поскольку по своему смыслу содержат большую долю информации о значении целевой переменной. Изучите описание датасета и исключите признаки, сильно коррелирующие с ответами. Ваш выбор признаков для исключения из выборки обоснуйте. Кроме того, исключите признаки TailNum и Year."
   ]
  },
  {
   "cell_type": "markdown",
   "metadata": {},
   "source": [
    "- Необходимо исключить признак *DepTime* (или *CRSDepTime*), так как *DepDelay* является линейной комбинацией этих двух признаков. Но *DepTime* становится известен почти одновременно с целевой переменной, следовательно, нужно исключить именно этот признак.\n",
    "- Необходимо исключить признак *ArrDelay*, так как *DepDelay* будет хорошо объясняться им (логика: насколько позже мы вылетели, настолько позже прилетим) + *ArrDelay* становится известен позже *DepDelay*. *ArrDelay*, в свою очередь, является линейной комбинацией *Arr_Time* и *CRSArrTime*. Поэтому по аналогии с *DepTime* ещё удалим *Arr_Time*. \n",
    "- *ActualElapsedTime* нужно удалить, так как он становится известен одновременно с задержкой рейса *DepDelay*. *CRSElapsedTime* (планируемая продолжительность полёта) стоит удалить, потому что она почти линейно будет зависеть от дистанции полёта *Distance* и времени в воздухе *AirTime*. *AirTime* также удалим из-за почти линейной связи с *Distance*."
   ]
  },
  {
   "cell_type": "code",
   "execution_count": 358,
   "metadata": {
    "collapsed": true
   },
   "outputs": [],
   "source": [
    "import warnings\n",
    "warnings.filterwarnings('ignore')"
   ]
  },
  {
   "cell_type": "code",
   "execution_count": 255,
   "metadata": {
    "collapsed": false
   },
   "outputs": [],
   "source": [
    "df = df.drop(['Year', 'TailNum'], axis=1)"
   ]
  },
  {
   "cell_type": "code",
   "execution_count": 261,
   "metadata": {
    "collapsed": false
   },
   "outputs": [
    {
     "name": "stdout",
     "output_type": "stream",
     "text": [
      "Признаки, сильно коррелированные с целевой переменной:\n",
      "\n",
      "UniqueCarrier: corr is NaN\n",
      "ArrDelay: corr is 0.933525938482\n",
      "Origin: corr is NaN\n",
      "Dest: corr is NaN\n",
      "CancellationCode: corr is NaN\n",
      "Other corrs are low\n"
     ]
    }
   ],
   "source": [
    "print('Признаки, сильно коррелированные с целевой переменной:\\n')\n",
    "for i in df.columns:\n",
    "    try:\n",
    "        if abs(df[i].corr(target)) >= 0.8:\n",
    "            print('%s: corr is %s'%(i, df[i].corr(target)))\n",
    "    except TypeError:\n",
    "        print('%s: corr is NaN'%i)\n",
    "print('Other corrs are low')"
   ]
  },
  {
   "cell_type": "markdown",
   "metadata": {},
   "source": [
    "Удалим признаки, сильно скоррелированные с DepDelay:"
   ]
  },
  {
   "cell_type": "code",
   "execution_count": 262,
   "metadata": {
    "collapsed": false
   },
   "outputs": [],
   "source": [
    "df = df.drop('ArrDelay',axis=1)"
   ]
  },
  {
   "cell_type": "markdown",
   "metadata": {},
   "source": [
    "Удалим остальные выбранные признаки:"
   ]
  },
  {
   "cell_type": "code",
   "execution_count": 321,
   "metadata": {
    "collapsed": false
   },
   "outputs": [],
   "source": [
    "df3 = df.drop(['DepTime_Hour','DepTime_Minute','ArrTime_Hour','ArrTime_Minute',\n",
    "            'ActualElapsedTime','CRSElapsedTime','AirTime'],axis=1)"
   ]
  },
  {
   "cell_type": "code",
   "execution_count": 322,
   "metadata": {
    "collapsed": false
   },
   "outputs": [
    {
     "data": {
      "text/plain": [
       "Index(['Month', 'DayofMonth', 'DayOfWeek', 'UniqueCarrier', 'FlightNum',\n",
       "       'Origin', 'Dest', 'Distance', 'TaxiIn', 'TaxiOut', 'Cancelled',\n",
       "       'CancellationCode', 'Diverted', 'CarrierDelay', 'WeatherDelay',\n",
       "       'NASDelay', 'SecurityDelay', 'LateAircraftDelay', 'CRSDepTime_Hour',\n",
       "       'CRSDepTime_Minute', 'CRSArrTime_Hour', 'CRSArrTime_Minute'],\n",
       "      dtype='object')"
      ]
     },
     "execution_count": 322,
     "metadata": {},
     "output_type": "execute_result"
    }
   ],
   "source": [
    "df3.columns"
   ]
  },
  {
   "cell_type": "markdown",
   "metadata": {},
   "source": [
    "Приведем данные к виду, пригодному для обучения линейных моделей. Для этого вещественные признаки надо отмасштабировать, а категориальные — привести к числовому виду. Также надо устранить пропуски в данных."
   ]
  },
  {
   "cell_type": "code",
   "execution_count": 290,
   "metadata": {
    "collapsed": false
   },
   "outputs": [
    {
     "name": "stdout",
     "output_type": "stream",
     "text": [
      "процент пропусков в признаке:\n",
      "\n"
     ]
    },
    {
     "data": {
      "text/plain": [
       "Month                 0.000000\n",
       "DayofMonth            0.000000\n",
       "DayOfWeek             0.000000\n",
       "UniqueCarrier         0.000000\n",
       "FlightNum             0.000000\n",
       "Origin                0.000000\n",
       "Dest                  0.000000\n",
       "Distance              0.000000\n",
       "TaxiIn                0.220806\n",
       "TaxiOut               0.011040\n",
       "Cancelled             0.000000\n",
       "CancellationCode     99.981074\n",
       "Diverted              0.000000\n",
       "CarrierDelay         76.553530\n",
       "WeatherDelay         76.553530\n",
       "NASDelay             76.553530\n",
       "SecurityDelay        76.553530\n",
       "LateAircraftDelay    76.553530\n",
       "CRSDepTime_Hour       0.000000\n",
       "CRSDepTime_Minute     0.000000\n",
       "CRSArrTime_Hour       0.000000\n",
       "CRSArrTime_Minute     0.000000\n",
       "dtype: float64"
      ]
     },
     "execution_count": 290,
     "metadata": {},
     "output_type": "execute_result"
    }
   ],
   "source": [
    "per = 100 * df3.isnull().sum(axis=0) / len(df3)\n",
    "print('процент пропусков в признаке:\\n')\n",
    "per"
   ]
  },
  {
   "cell_type": "markdown",
   "metadata": {},
   "source": [
    "Заметим, что признаки *CancellationCode*, *CarrierDelay*, *WeatherDelay*, *NASDelay*, *SecurityDelay*, *LateAircraftDelay* стоит удалить, так как процент пропущенных значений в них очень большой (превышает 75%). Признаки *TaxiIn* и *TaxiOut* являются вещественными, поэтому пропуски в них (которых малое количество) мы заполним средним. "
   ]
  },
  {
   "cell_type": "code",
   "execution_count": 323,
   "metadata": {
    "collapsed": false
   },
   "outputs": [],
   "source": [
    "df4 = df3.drop(['CancellationCode', 'CarrierDelay', 'WeatherDelay', 'NASDelay', 'SecurityDelay',\n",
    "                'LateAircraftDelay'], axis=1)"
   ]
  },
  {
   "cell_type": "code",
   "execution_count": 324,
   "metadata": {
    "collapsed": false
   },
   "outputs": [],
   "source": [
    "df4['TaxiIn'].fillna(df4['TaxiIn'].mean(), inplace = True)\n",
    "df4['TaxiOut'].fillna(df4['TaxiOut'].mean(), inplace = True)"
   ]
  },
  {
   "cell_type": "code",
   "execution_count": 325,
   "metadata": {
    "collapsed": false
   },
   "outputs": [
    {
     "data": {
      "text/plain": [
       "(63404, 16)"
      ]
     },
     "execution_count": 325,
     "metadata": {},
     "output_type": "execute_result"
    }
   ],
   "source": [
    "df4.shape"
   ]
  },
  {
   "cell_type": "markdown",
   "metadata": {},
   "source": [
    "Теперь приведем данные к виду, пригодному для обучения линейных моделей: для этого сначала разделим признаки на категориальные и вещественные"
   ]
  },
  {
   "cell_type": "code",
   "execution_count": 366,
   "metadata": {
    "collapsed": false
   },
   "outputs": [],
   "source": [
    "numf=[i for i in df4.columns if df4[i].dtype.name!='object' and i not in ('Cancelled','Diverted')]\n",
    "catf=[i for i in df4.columns if df4[i].dtype.name=='object' and i not in ('Cancelled','Diverted')]\n",
    "binf = [i for i in ('Cancelled','Diverted')]"
   ]
  },
  {
   "cell_type": "code",
   "execution_count": 370,
   "metadata": {
    "collapsed": false
   },
   "outputs": [
    {
     "name": "stdout",
     "output_type": "stream",
     "text": [
      "['UniqueCarrier', 'Origin', 'Dest']\n",
      "['Cancelled', 'Diverted']\n"
     ]
    }
   ],
   "source": [
    "print(catf)\n",
    "print(binf)"
   ]
  },
  {
   "cell_type": "markdown",
   "metadata": {},
   "source": [
    "Масштабируем вещественные признаки с помощью написанной ранее функции:"
   ]
  },
  {
   "cell_type": "code",
   "execution_count": 368,
   "metadata": {
    "collapsed": false
   },
   "outputs": [],
   "source": [
    "df4[numf] = scale(df4[numf])"
   ]
  },
  {
   "cell_type": "markdown",
   "metadata": {},
   "source": [
    "выведем количество категорий в каждом категориальном признаке"
   ]
  },
  {
   "cell_type": "code",
   "execution_count": 369,
   "metadata": {
    "collapsed": false
   },
   "outputs": [
    {
     "data": {
      "text/plain": [
       "[{'UniqueCarrier': 20}, {'Origin': 296}, {'Dest': 298}]"
      ]
     },
     "execution_count": 369,
     "metadata": {},
     "output_type": "execute_result"
    }
   ],
   "source": [
    "[{i:len(df4[i].unique())} for i in catf]"
   ]
  },
  {
   "cell_type": "markdown",
   "metadata": {},
   "source": [
    "One-hot Encoding приведет к возникновению новых (19+295+298) = 612 признаков, что очень много. Его реализации показана ниже в готовой функции."
   ]
  },
  {
   "cell_type": "markdown",
   "metadata": {},
   "source": [
    "**9*. (1 бонусный балл) ** В первую очередь поймем, зачем необходимо применять масштабирование. Следующие ячейки с кодом построят гистограммы для 3 вещественных признаков выборки."
   ]
  },
  {
   "cell_type": "code",
   "execution_count": 269,
   "metadata": {
    "collapsed": true
   },
   "outputs": [],
   "source": [
    "import matplotlib.pyplot as plt\n",
    "%matplotlib inline"
   ]
  },
  {
   "cell_type": "code",
   "execution_count": 271,
   "metadata": {
    "collapsed": false,
    "scrolled": true
   },
   "outputs": [
    {
     "data": {
      "image/png": "[encoded data removed]",
      "text/plain": [
       "<matplotlib.figure.Figure at 0x28ca2e70e80>"
      ]
     },
     "metadata": {},
     "output_type": "display_data"
    }
   ],
   "source": [
    "plt.figure(figsize=(3,3))\n",
    "df['DepTime_Hour'].hist(bins=20)\n",
    "plt.show()"
   ]
  },
  {
   "cell_type": "code",
   "execution_count": 272,
   "metadata": {
    "collapsed": false
   },
   "outputs": [
    {
     "data": {
      "image/png": "[encoded data removed]",
      "text/plain": [
       "<matplotlib.figure.Figure at 0x28ca2f83048>"
      ]
     },
     "metadata": {},
     "output_type": "display_data"
    }
   ],
   "source": [
    "plt.figure(figsize=(3,3))\n",
    "df['TaxiIn'].hist(bins=20)\n",
    "plt.show()"
   ]
  },
  {
   "cell_type": "code",
   "execution_count": 273,
   "metadata": {
    "collapsed": false
   },
   "outputs": [
    {
     "data": {
      "image/png": "[encoded data removed]",
      "text/plain": [
       "<matplotlib.figure.Figure at 0x28ca2fe6b38>"
      ]
     },
     "metadata": {},
     "output_type": "display_data"
    }
   ],
   "source": [
    "plt.figure(figsize=(3,3))\n",
    "df['FlightNum'].hist(bins=20)\n",
    "plt.show()"
   ]
  },
  {
   "cell_type": "markdown",
   "metadata": {},
   "source": [
    "Какую проблему вы наблюдаете на этих графиках? Как масштабирование поможет её исправить?"
   ]
  },
  {
   "cell_type": "markdown",
   "metadata": {},
   "source": [
    "На гистограммах видно, что признаки обладают большим разбросом в значениях внутри самого признака, а также разные признаки обладают разным масштабом. Поэтому необходимо масштабировать признаки, чтобы сократить величину разброса, а также измерять все числовые признаки в стандартных отклонениях (чтобы признаки было удобно сравнивать между собой). "
   ]
  },
  {
   "cell_type": "markdown",
   "metadata": {},
   "source": [
    "**10. (1 балл)** Вдобавок к масштабированию, некоторые из признаков в нашем датасете являются категориальными. Типичным подходом к работе с ними является бинарное, или [one-hot-кодирование](https://en.wikipedia.org/wiki/One-hot).\n",
    "\n",
    "\n",
    "Реализуйте функцию transform_data, которая принимает на вход DataFrame с признаками и выполняет следующие шаги:\n",
    "1. Замена пропущенных значений на нули для вещественных признаков и на строки 'nan' для категориальных.\n",
    "2. Масштабирование вещественных признаков с помощью [StandardScaler](http://scikit-learn.org/stable/modules/generated/sklearn.preprocessing.StandardScaler.html).\n",
    "3. One-hot-кодирование категориальных признаков с помощью [DictVectorizer](http://scikit-learn.org/stable/modules/generated/sklearn.feature_extraction.DictVectorizer.html) или функции [pd.get_dummies](http://pandas.pydata.org/pandas-docs/stable/generated/pandas.get_dummies.html).\n",
    "\n",
    "Метод должен возвращать преобразованный DataFrame, который должна состоять из масштабированных вещественных признаков и закодированных категориальных (исходные признаки должны быть исключены из выборки)."
   ]
  },
  {
   "cell_type": "code",
   "execution_count": 330,
   "metadata": {
    "collapsed": true
   },
   "outputs": [],
   "source": [
    "from sklearn.preprocessing import StandardScaler"
   ]
  },
  {
   "cell_type": "code",
   "execution_count": 362,
   "metadata": {
    "collapsed": true
   },
   "outputs": [],
   "source": [
    "scaler = StandardScaler()\n",
    "def transform_data(data):\n",
    "    numf=[i for i in df4.columns if df4[i].dtype.name!='object' and i not in ('Cancelled','Diverted')]\n",
    "    catf=[i for i in df4.columns if df4[i].dtype.name=='object' and i not in ('Cancelled','Diverted')]\n",
    "    binf = [i for i in ('Cancelled','Diverted')]\n",
    "    for i in numf:\n",
    "        data[i].fillna(data[i].mean(), inplace = True)\n",
    "        data[i] = scaler.fit_transform(data[i])\n",
    "    for j in catf: \n",
    "        data[j].fillna('nan', inplace = True)\n",
    "    data_catf = pd.get_dummies(data[catf])\n",
    "    for k in binf:\n",
    "        data[k].fillna('nan', inplace = True) \n",
    "    data = pd.concat((data[numf], data[binf], data_catf), axis=1)  \n",
    "    return data"
   ]
  },
  {
   "cell_type": "markdown",
   "metadata": {},
   "source": [
    "Примените функцию transform_data к данным. Сколько признаков получилось после преобразования?"
   ]
  },
  {
   "cell_type": "code",
   "execution_count": 363,
   "metadata": {
    "collapsed": false
   },
   "outputs": [],
   "source": [
    "kekdf = transform_data(df3)"
   ]
  },
  {
   "cell_type": "code",
   "execution_count": 371,
   "metadata": {
    "collapsed": false
   },
   "outputs": [
    {
     "name": "stdout",
     "output_type": "stream",
     "text": [
      "Количество признаков после преобразования:627\n"
     ]
    },
    {
     "data": {
      "text/html": [
       "<div>\n",
       "<style>\n",
       "    .dataframe thead tr:only-child th {\n",
       "        text-align: right;\n",
       "    }\n",
       "\n",
       "    .dataframe thead th {\n",
       "        text-align: left;\n",
       "    }\n",
       "\n",
       "    .dataframe tbody tr th {\n",
       "        vertical-align: top;\n",
       "    }\n",
       "</style>\n",
       "<table border=\"1\" class=\"dataframe\">\n",
       "  <thead>\n",
       "    <tr style=\"text-align: right;\">\n",
       "      <th></th>\n",
       "      <th>Month</th>\n",
       "      <th>DayofMonth</th>\n",
       "      <th>DayOfWeek</th>\n",
       "      <th>FlightNum</th>\n",
       "      <th>Distance</th>\n",
       "      <th>TaxiIn</th>\n",
       "      <th>TaxiOut</th>\n",
       "      <th>CRSDepTime_Hour</th>\n",
       "      <th>CRSDepTime_Minute</th>\n",
       "      <th>CRSArrTime_Hour</th>\n",
       "      <th>...</th>\n",
       "      <th>Dest_TYR</th>\n",
       "      <th>Dest_TYS</th>\n",
       "      <th>Dest_VLD</th>\n",
       "      <th>Dest_VPS</th>\n",
       "      <th>Dest_WRG</th>\n",
       "      <th>Dest_WYS</th>\n",
       "      <th>Dest_XNA</th>\n",
       "      <th>Dest_YAK</th>\n",
       "      <th>Dest_YKM</th>\n",
       "      <th>Dest_YUM</th>\n",
       "    </tr>\n",
       "  </thead>\n",
       "  <tbody>\n",
       "    <tr>\n",
       "      <th>0</th>\n",
       "      <td>-0.118281</td>\n",
       "      <td>0.256485</td>\n",
       "      <td>-0.462767</td>\n",
       "      <td>-0.991600</td>\n",
       "      <td>-0.744130</td>\n",
       "      <td>-0.791728</td>\n",
       "      <td>-0.741449</td>\n",
       "      <td>1.512432</td>\n",
       "      <td>1.586498</td>\n",
       "      <td>1.725956</td>\n",
       "      <td>...</td>\n",
       "      <td>0</td>\n",
       "      <td>0</td>\n",
       "      <td>0</td>\n",
       "      <td>0</td>\n",
       "      <td>0</td>\n",
       "      <td>0</td>\n",
       "      <td>0</td>\n",
       "      <td>0</td>\n",
       "      <td>0</td>\n",
       "      <td>0</td>\n",
       "    </tr>\n",
       "    <tr>\n",
       "      <th>1</th>\n",
       "      <td>-0.118281</td>\n",
       "      <td>-1.332050</td>\n",
       "      <td>-0.462767</td>\n",
       "      <td>0.106546</td>\n",
       "      <td>0.183961</td>\n",
       "      <td>-0.586761</td>\n",
       "      <td>-0.389973</td>\n",
       "      <td>0.214011</td>\n",
       "      <td>-0.936014</td>\n",
       "      <td>0.481702</td>\n",
       "      <td>...</td>\n",
       "      <td>0</td>\n",
       "      <td>0</td>\n",
       "      <td>0</td>\n",
       "      <td>0</td>\n",
       "      <td>0</td>\n",
       "      <td>0</td>\n",
       "      <td>0</td>\n",
       "      <td>0</td>\n",
       "      <td>0</td>\n",
       "      <td>0</td>\n",
       "    </tr>\n",
       "    <tr>\n",
       "      <th>2</th>\n",
       "      <td>0.467662</td>\n",
       "      <td>-1.445517</td>\n",
       "      <td>1.541454</td>\n",
       "      <td>-0.207284</td>\n",
       "      <td>0.471018</td>\n",
       "      <td>-0.586761</td>\n",
       "      <td>-0.653580</td>\n",
       "      <td>-0.435199</td>\n",
       "      <td>1.025940</td>\n",
       "      <td>0.066951</td>\n",
       "      <td>...</td>\n",
       "      <td>0</td>\n",
       "      <td>0</td>\n",
       "      <td>0</td>\n",
       "      <td>0</td>\n",
       "      <td>0</td>\n",
       "      <td>0</td>\n",
       "      <td>0</td>\n",
       "      <td>0</td>\n",
       "      <td>0</td>\n",
       "      <td>0</td>\n",
       "    </tr>\n",
       "    <tr>\n",
       "      <th>3</th>\n",
       "      <td>-1.583137</td>\n",
       "      <td>0.823819</td>\n",
       "      <td>-0.462767</td>\n",
       "      <td>0.836931</td>\n",
       "      <td>-0.347886</td>\n",
       "      <td>-0.586761</td>\n",
       "      <td>0.225109</td>\n",
       "      <td>-0.435199</td>\n",
       "      <td>0.969884</td>\n",
       "      <td>-0.347800</td>\n",
       "      <td>...</td>\n",
       "      <td>0</td>\n",
       "      <td>0</td>\n",
       "      <td>0</td>\n",
       "      <td>0</td>\n",
       "      <td>0</td>\n",
       "      <td>0</td>\n",
       "      <td>0</td>\n",
       "      <td>0</td>\n",
       "      <td>0</td>\n",
       "      <td>0</td>\n",
       "    </tr>\n",
       "    <tr>\n",
       "      <th>4</th>\n",
       "      <td>-0.411252</td>\n",
       "      <td>-1.332050</td>\n",
       "      <td>1.541454</td>\n",
       "      <td>-0.910960</td>\n",
       "      <td>0.634799</td>\n",
       "      <td>-0.586761</td>\n",
       "      <td>-0.741449</td>\n",
       "      <td>-1.084410</td>\n",
       "      <td>-0.375456</td>\n",
       "      <td>-0.347800</td>\n",
       "      <td>...</td>\n",
       "      <td>0</td>\n",
       "      <td>0</td>\n",
       "      <td>0</td>\n",
       "      <td>0</td>\n",
       "      <td>0</td>\n",
       "      <td>0</td>\n",
       "      <td>0</td>\n",
       "      <td>0</td>\n",
       "      <td>0</td>\n",
       "      <td>0</td>\n",
       "    </tr>\n",
       "  </tbody>\n",
       "</table>\n",
       "<p>5 rows × 627 columns</p>\n",
       "</div>"
      ],
      "text/plain": [
       "      Month  DayofMonth  DayOfWeek  FlightNum  Distance    TaxiIn   TaxiOut  \\\n",
       "0 -0.118281    0.256485  -0.462767  -0.991600 -0.744130 -0.791728 -0.741449   \n",
       "1 -0.118281   -1.332050  -0.462767   0.106546  0.183961 -0.586761 -0.389973   \n",
       "2  0.467662   -1.445517   1.541454  -0.207284  0.471018 -0.586761 -0.653580   \n",
       "3 -1.583137    0.823819  -0.462767   0.836931 -0.347886 -0.586761  0.225109   \n",
       "4 -0.411252   -1.332050   1.541454  -0.910960  0.634799 -0.586761 -0.741449   \n",
       "\n",
       "   CRSDepTime_Hour  CRSDepTime_Minute  CRSArrTime_Hour    ...     Dest_TYR  \\\n",
       "0         1.512432           1.586498         1.725956    ...            0   \n",
       "1         0.214011          -0.936014         0.481702    ...            0   \n",
       "2        -0.435199           1.025940         0.066951    ...            0   \n",
       "3        -0.435199           0.969884        -0.347800    ...            0   \n",
       "4        -1.084410          -0.375456        -0.347800    ...            0   \n",
       "\n",
       "   Dest_TYS  Dest_VLD  Dest_VPS  Dest_WRG  Dest_WYS  Dest_XNA  Dest_YAK  \\\n",
       "0         0         0         0         0         0         0         0   \n",
       "1         0         0         0         0         0         0         0   \n",
       "2         0         0         0         0         0         0         0   \n",
       "3         0         0         0         0         0         0         0   \n",
       "4         0         0         0         0         0         0         0   \n",
       "\n",
       "   Dest_YKM  Dest_YUM  \n",
       "0         0         0  \n",
       "1         0         0  \n",
       "2         0         0  \n",
       "3         0         0  \n",
       "4         0         0  \n",
       "\n",
       "[5 rows x 627 columns]"
      ]
     },
     "execution_count": 371,
     "metadata": {},
     "output_type": "execute_result"
    }
   ],
   "source": [
    "print('Количество признаков после преобразования:%s'%kekdf.shape[1])\n",
    "kekdf.head()"
   ]
  },
  {
   "cell_type": "markdown",
   "metadata": {},
   "source": [
    "**11. (0.75 балла)** Разбейте выборку и вектор целевой переменной на обучение и контроль в отношении 70/30 (для этого можно использовать, например, функцию [train_test_split](http://scikit-learn.org/stable/modules/generated/sklearn.cross_validation.train_test_split.html)). "
   ]
  },
  {
   "cell_type": "code",
   "execution_count": 375,
   "metadata": {
    "collapsed": true
   },
   "outputs": [],
   "source": [
    "from sklearn.model_selection import train_test_split"
   ]
  },
  {
   "cell_type": "code",
   "execution_count": 377,
   "metadata": {
    "collapsed": true
   },
   "outputs": [],
   "source": [
    "X_train, X_test, y_train, y_test = train_test_split(kekdf, target, test_size=0.3, random_state=42)"
   ]
  },
  {
   "cell_type": "markdown",
   "metadata": {},
   "source": [
    "### Scikit-learn\n",
    "\n",
    "<img src = \"https://pp.vk.me/c4534/u35727827/93547647/x_d31c4463.jpg\">\n",
    "Теперь, когда мы привели данные к пригодному виду, попробуем решить задачу при помощи метода наименьших квадратов. Напомним, что данный метод заключается в оптимизации функционала $MSE$:\n",
    "\n",
    "$$MSE(X, y) = \\frac{1}{l} \\sum_{i=1}^l (<w, x_i> - y_i)^2 \\to \\min_{w},$$\n",
    "\n",
    "где $\\{ (x_i, y_i ) \\}_{i=1}^l$ — обучающая выборка, состоящая из $l$ пар объект-ответ.\n",
    "\n",
    "Заметим, что решение данной задачи уже реализовано в модуле sklearn в виде класса [LinearRegression](http://scikit-learn.org/stable/modules/generated/sklearn.linear_model.LinearRegression.html#sklearn.linear_model.LinearRegression).\n",
    "\n",
    "**12. (0.5 балла)** Обучите линейную регрессию на 1000 объектах из обучающей выборки и выведите значения $MSE$ и $R^2$ на этой подвыборке и контрольной выборке (итого 4 различных числа). Проинтерпретируйте полученный результат — насколько качественные прогнозы строит полученная модель? Какие проблемы наблюдаются в модели?\n",
    "\n",
    "**Подсказка**: изучите значения полученных коэффициентов $w$, сохраненных в атрибуте coef_ объекта LinearRegression."
   ]
  },
  {
   "cell_type": "code",
   "execution_count": 383,
   "metadata": {
    "collapsed": true
   },
   "outputs": [],
   "source": [
    "from sklearn.linear_model import LinearRegression\n",
    "from sklearn.metrics import mean_squared_error, r2_score"
   ]
  },
  {
   "cell_type": "markdown",
   "metadata": {},
   "source": [
    "из документации по r2_score: \n",
    "- This is not a symmetric function.\n",
    "- Best possible score is 1.0 and it can be negative (because the model can be arbitrarily worse).\n",
    "- example: r2_score(y_true, y_pred) = -3.0"
   ]
  },
  {
   "cell_type": "code",
   "execution_count": 382,
   "metadata": {
    "collapsed": false
   },
   "outputs": [],
   "source": [
    "X_trainred, y_trainred = X_train[:1000],y_train[:1000]"
   ]
  },
  {
   "cell_type": "code",
   "execution_count": 384,
   "metadata": {
    "collapsed": true
   },
   "outputs": [],
   "source": [
    "linreg = LinearRegression()\n",
    "linreg.fit(X_trainred, y_trainred)\n",
    "predtest = linreg.predict(X_test)\n",
    "predtrain = linreg.predict(X_trainred)"
   ]
  },
  {
   "cell_type": "code",
   "execution_count": 385,
   "metadata": {
    "collapsed": false
   },
   "outputs": [
    {
     "name": "stdout",
     "output_type": "stream",
     "text": [
      "Mean squared error on train: 678.02\n",
      "R2 score on train: 0.36\n",
      "Mean squared error on test: 42655900310282604396937216.00\n",
      "R2 score on test: -31888233543269991055360.00\n"
     ]
    }
   ],
   "source": [
    "print(\"Mean squared error on train: %.2f\"\n",
    "      % mean_squared_error(y_trainred, predtrain))\n",
    "print('R2 score on train: %.2f' % r2_score(y_trainred, predtrain))\n",
    "print(\"Mean squared error on test: %.2f\"\n",
    "      % mean_squared_error(y_test, predtest))\n",
    "print('R2 score on test: %.2f' % r2_score(y_test, predtest))"
   ]
  },
  {
   "cell_type": "code",
   "execution_count": 386,
   "metadata": {
    "collapsed": false
   },
   "outputs": [
    {
     "name": "stdout",
     "output_type": "stream",
     "text": [
      "Coefficients: \n",
      " [ -5.93046514e-01   8.11425861e-01   7.59047180e-01   1.26556466e+00\n",
      "   6.21875788e-01   7.27336436e-01   4.98901400e+00   7.91379491e+00\n",
      "  -6.24145149e-01  -1.38230807e+00   2.44450130e+00  -3.40478518e+14\n",
      "  -1.07630840e+01   3.94798206e+13   3.94798206e+13  -3.99291547e+13\n",
      "   3.94798206e+13   3.94798206e+13   3.94798206e+13   3.94798206e+13\n",
      "   3.94798206e+13   3.94798206e+13   3.94798206e+13   3.94798206e+13\n",
      "   3.94798206e+13   3.94798206e+13   3.94798206e+13   3.94798206e+13\n",
      "   3.94798206e+13   3.94798206e+13   3.94798206e+13   3.94798206e+13\n",
      "   3.94798206e+13  -6.55877194e+12   4.70852834e+12   4.70852834e+12\n",
      "   4.70852834e+12  -2.09036322e+13   9.67936062e+11   4.70852834e+12\n",
      "   8.95584565e+12   6.09229346e+12   1.81507155e+13   1.82504028e+13\n",
      "   2.68758186e+12  -1.74242177e+13   4.70852834e+12  -2.08099289e+12\n",
      "   1.36084879e+12   4.70852834e+12   4.70852834e+12   4.70852834e+12\n",
      "   4.70852834e+12   4.70852834e+12   8.86219782e+12  -1.20465670e+13\n",
      "  -6.90891078e+12   4.70852834e+12   6.84658776e+12   4.70852834e+12\n",
      "  -2.07352685e+11   4.99560876e+12   4.70852834e+12  -1.57322329e+13\n",
      "   4.40425082e+12  -4.55101977e+12  -8.93026126e+12   4.70852834e+12\n",
      "   4.70852834e+12   4.70852834e+12  -9.99075369e+12   4.70852834e+12\n",
      "  -2.72701450e+12   6.96256097e+12   6.51554339e+12   1.12020381e+13\n",
      "  -1.31091103e+12   4.70852834e+12   4.70852834e+12   4.70852834e+12\n",
      "   4.70852834e+12   4.70852834e+12   4.70852834e+12  -2.70029445e+12\n",
      "  -9.92818778e+12   4.02715070e+12   4.70852834e+12  -3.52733481e+12\n",
      "   4.70852834e+12   1.91310025e+11   4.70852834e+12   4.70852834e+12\n",
      "   4.70852834e+12   4.70852834e+12   4.70852834e+12   4.70852834e+12\n",
      "  -1.40915598e+13   2.79217977e+12   1.01199978e+12   4.70852834e+12\n",
      "  -3.20638475e+12   4.70852834e+12   3.40812555e+12  -1.12097927e+13\n",
      "   4.70852834e+12  -5.13734104e+12  -2.93329512e+12   4.70852834e+12\n",
      "   4.70852834e+12   5.13519567e+10   4.70852834e+12   4.70852834e+12\n",
      "   4.70852834e+12   4.70852834e+12   4.70852834e+12  -3.28254040e+12\n",
      "   4.70852834e+12   4.70852834e+12  -9.00369226e+12  -4.26474344e+12\n",
      "   9.08819688e+11   4.70852834e+12  -9.94032640e+12   4.70852834e+12\n",
      "   1.28349567e+12   2.59358523e+12   4.70852834e+12  -6.52047967e+12\n",
      "   8.14396182e+11   2.96515617e+12   4.70852834e+12   4.70852834e+12\n",
      "  -1.14343482e+13   9.01783342e+11   4.70852834e+12   2.14542707e+12\n",
      "   4.70852834e+12  -2.12847055e+12  -2.95295718e+11   4.70852834e+12\n",
      "   2.78186441e+12   4.70852834e+12   4.70852834e+12   3.46202598e+11\n",
      "   4.70852834e+12   7.06476873e+12  -5.16967476e+12   4.70852834e+12\n",
      "   4.70852834e+12   4.70852834e+12   4.70852834e+12   4.70852834e+12\n",
      "   3.66123793e+12   1.34010294e+12  -3.37497819e+12   5.46650943e+12\n",
      "  -7.50762789e+11   6.67314824e+11   2.22102491e+12   4.70852834e+12\n",
      "   4.70852834e+12   4.70852834e+12  -3.41631104e+12   4.70852834e+12\n",
      "  -3.44105795e+12   4.70852834e+12   4.70852834e+12   4.70852834e+12\n",
      "   4.70852834e+12  -6.89688937e+12   4.70852834e+12  -6.57719232e+12\n",
      "  -8.12983299e+12   4.70852834e+12   3.68232266e+12  -5.29427694e+12\n",
      "  -4.45151632e+12   3.40269716e+12   4.70852834e+12   4.70852834e+12\n",
      "   4.70852834e+12   4.70852834e+12   4.70852834e+12  -7.71605420e+12\n",
      "   2.84221526e+12   4.70852834e+12  -4.53031672e+12   4.70852834e+12\n",
      "   4.70852834e+12  -2.54000341e+13   4.70852834e+12   3.00694560e+12\n",
      "   4.70852834e+12   4.70852834e+12  -1.75970861e+12   4.70852834e+12\n",
      "  -4.17749843e+11  -1.01057669e+11   4.70852834e+12   2.03308240e+10\n",
      "   3.78591489e+10  -4.71214443e+09  -2.88902115e+09   4.70852834e+12\n",
      "   4.70852834e+12   4.70852834e+12  -1.98489671e+08   4.70852834e+12\n",
      "  -1.68114232e+06   4.70852834e+12  -2.20315010e+06   4.70852834e+12\n",
      "   1.55868202e+05   4.70852834e+12   1.86026198e+04   4.70852834e+12\n",
      "   4.70852834e+12   4.70852834e+12  -1.21271598e+03   3.70659035e+02\n",
      "   4.70852834e+12  -3.18253174e+01   4.70852834e+12  -1.69565430e+01\n",
      "   1.77734375e+00   7.03125000e-01  -7.65625000e-01   4.70852834e+12\n",
      "   1.25000000e-01   4.70852834e+12   4.70852834e+12   3.90625000e-03\n",
      "   4.70852834e+12  -3.66210938e-04   4.70852834e+12   4.70852834e+12\n",
      "   4.70852834e+12   4.70852834e+12  -1.69277191e-05   4.70852834e+12\n",
      "   4.70852834e+12   4.70852834e+12   3.13252211e-04  -4.64016572e-04\n",
      "  -7.88338715e-04   4.70852834e+12   4.70852834e+12  -2.17963323e-04\n",
      "   3.73925235e-04   4.70852834e+12   4.70852834e+12   4.70852834e+12\n",
      "  -1.27146043e-05   4.70852834e+12  -1.40576491e-04  -1.44960719e-03\n",
      "   4.70852834e+12  -5.07347637e-05   3.87390740e-05  -5.71594867e-06\n",
      "   4.70852834e+12   4.70852834e+12   4.70852834e+12   4.70852834e+12\n",
      "  -5.24453014e-09   1.05696207e-09   4.70852834e+12   2.61834998e-12\n",
      "  -7.33635375e-13   4.70852834e+12   3.55271368e-15   4.70852834e+12\n",
      "   4.70852834e+12   4.70852834e+12   4.70852834e+12  -1.42108547e-14\n",
      "   4.70852834e+12   4.70852834e+12   4.70852834e+12   4.70852834e+12\n",
      "   4.70852834e+12   4.70852834e+12   4.70852834e+12  -8.88178420e-15\n",
      "  -3.55271368e-15   4.70852834e+12   4.70852834e+12   4.70852834e+12\n",
      "   4.70852834e+12   7.10542736e-15   4.70852834e+12  -1.77635684e-14\n",
      "   4.70852834e+12  -8.88178420e-16   4.70852834e+12   4.70852834e+12\n",
      "  -5.68434189e-14   4.70852834e+12   8.88178420e-16   4.70852834e+12\n",
      "  -6.21724894e-15   4.70852834e+12   4.70852834e+12   4.70852834e+12\n",
      "   3.39485554e-15   7.10542736e-15  -4.97379915e-14   3.82614947e-16\n",
      "   4.70852834e+12   4.70852834e+12  -6.12111409e-15   4.70852834e+12\n",
      "  -7.10542736e-15   4.70852834e+12   4.70852834e+12   4.70852834e+12\n",
      "   4.70852834e+12  -5.68434189e-14   3.55271368e-15  -5.43575601e-15\n",
      "   1.90958360e-14   4.70852834e+12  -5.75234305e-15   4.70852834e+12\n",
      "  -7.10542736e-15   4.70852834e+12   4.90905730e+12  -1.59872116e-14\n",
      "   4.70852834e+12   5.10958627e+12   5.10958627e+12   5.10958627e+12\n",
      "   2.13162821e-14  -7.99360578e-15   8.88178420e-16   5.10958627e+12\n",
      "  -1.06581410e-14   8.52651283e-14   8.88178420e-16   5.10958627e+12\n",
      "   1.24344979e-14  -5.32907052e-15   5.10958627e+12   5.10958627e+12\n",
      "   5.10958627e+12   8.42641928e-16   5.10958627e+12   5.10958627e+12\n",
      "   5.10958627e+12  -2.13162821e-14  -2.13162821e-14   5.10958627e+12\n",
      "   5.10958627e+12  -3.99680289e-15   5.10958627e+12   3.55271368e-15\n",
      "   7.10542736e-15   5.10958627e+12   3.55271368e-15   5.10958627e+12\n",
      "   1.78724291e-15   0.00000000e+00   5.10958627e+12   5.10958627e+12\n",
      "   5.10958627e+12   5.10958627e+12   1.52655666e-16   5.10958627e+12\n",
      "   0.00000000e+00   5.10958627e+12   0.00000000e+00   0.00000000e+00\n",
      "   0.00000000e+00   5.10958627e+12   5.10958627e+12   5.10958627e+12\n",
      "   5.10958627e+12   5.10958627e+12   5.10958627e+12   5.10958627e+12\n",
      "   0.00000000e+00   5.10958627e+12   0.00000000e+00   0.00000000e+00\n",
      "   0.00000000e+00   0.00000000e+00   0.00000000e+00   5.10958627e+12\n",
      "   5.10958627e+12   5.10958627e+12   5.10958627e+12   5.10958627e+12\n",
      "   5.10958627e+12   5.10958627e+12   0.00000000e+00   0.00000000e+00\n",
      "   5.10958627e+12   5.10958627e+12   5.10958627e+12   0.00000000e+00\n",
      "   0.00000000e+00   5.10958627e+12   0.00000000e+00   0.00000000e+00\n",
      "   5.10958627e+12   5.10958627e+12   0.00000000e+00   5.10958627e+12\n",
      "   5.10958627e+12   5.10958627e+12   0.00000000e+00   0.00000000e+00\n",
      "   0.00000000e+00   0.00000000e+00   5.10958627e+12   5.10958627e+12\n",
      "   5.10958627e+12   0.00000000e+00   0.00000000e+00   0.00000000e+00\n",
      "   0.00000000e+00   5.10958627e+12   5.10958627e+12   0.00000000e+00\n",
      "   5.10958627e+12   0.00000000e+00   5.10958627e+12   0.00000000e+00\n",
      "   5.10958627e+12   0.00000000e+00   5.10958627e+12   0.00000000e+00\n",
      "   5.10958627e+12   0.00000000e+00   0.00000000e+00   5.10958627e+12\n",
      "   0.00000000e+00   0.00000000e+00   0.00000000e+00   5.10958627e+12\n",
      "   5.10958627e+12   0.00000000e+00   5.10958627e+12   5.10958627e+12\n",
      "   0.00000000e+00   0.00000000e+00   5.10958627e+12   5.10958627e+12\n",
      "   5.10958627e+12   0.00000000e+00   0.00000000e+00   5.10958627e+12\n",
      "   0.00000000e+00   5.10958627e+12   0.00000000e+00   0.00000000e+00\n",
      "   5.10958627e+12   5.10958627e+12   5.10958627e+12   5.10958627e+12\n",
      "   0.00000000e+00   5.10958627e+12   0.00000000e+00   5.10958627e+12\n",
      "   5.10958627e+12   5.10958627e+12   5.10958627e+12   5.10958627e+12\n",
      "   5.10958627e+12   0.00000000e+00   5.10958627e+12   5.10958627e+12\n",
      "   0.00000000e+00   0.00000000e+00   0.00000000e+00   0.00000000e+00\n",
      "   0.00000000e+00   5.10958627e+12   5.10958627e+12   4.90905730e+12\n",
      "   5.10958627e+12   5.10958627e+12   0.00000000e+00   5.10958627e+12\n",
      "   0.00000000e+00   5.10958627e+12   5.10958627e+12   0.00000000e+00\n",
      "   0.00000000e+00   5.10958627e+12   5.10958627e+12   5.10958627e+12\n",
      "   5.10958627e+12   5.10958627e+12   0.00000000e+00   5.10958627e+12\n",
      "   5.10958627e+12   0.00000000e+00   0.00000000e+00   0.00000000e+00\n",
      "   0.00000000e+00   5.10958627e+12   5.10958627e+12   5.10958627e+12\n",
      "   0.00000000e+00   5.10958627e+12   5.10958627e+12   5.10958627e+12\n",
      "   0.00000000e+00   5.10958627e+12   5.10958627e+12   0.00000000e+00\n",
      "   0.00000000e+00   5.10958627e+12   5.10958627e+12   5.10958627e+12\n",
      "   0.00000000e+00   5.10958627e+12   5.10958627e+12   5.10958627e+12\n",
      "   0.00000000e+00   0.00000000e+00   5.10958627e+12   0.00000000e+00\n",
      "   0.00000000e+00   5.10958627e+12   5.10958627e+12   5.10958627e+12\n",
      "   5.10958627e+12   0.00000000e+00   5.10958627e+12   0.00000000e+00\n",
      "   5.10958627e+12   5.10958627e+12   5.10958627e+12   5.10958627e+12\n",
      "   0.00000000e+00   5.10958627e+12   5.10958627e+12   5.10958627e+12\n",
      "   0.00000000e+00   0.00000000e+00   0.00000000e+00   5.10958627e+12\n",
      "   5.10958627e+12   0.00000000e+00   5.10958627e+12   5.10958627e+12\n",
      "   5.10958627e+12   0.00000000e+00   0.00000000e+00   5.10958627e+12\n",
      "   0.00000000e+00   0.00000000e+00   0.00000000e+00   0.00000000e+00\n",
      "   0.00000000e+00   0.00000000e+00   5.10958627e+12   5.10958627e+12\n",
      "   0.00000000e+00   5.10958627e+12   0.00000000e+00   0.00000000e+00\n",
      "   5.10958627e+12   0.00000000e+00   0.00000000e+00   5.10958627e+12\n",
      "   0.00000000e+00   5.10958627e+12   5.10958627e+12   5.10958627e+12\n",
      "   0.00000000e+00   0.00000000e+00   5.10958627e+12   5.10958627e+12\n",
      "   5.10958627e+12   5.10958627e+12   5.10958627e+12   0.00000000e+00\n",
      "   5.10958627e+12   0.00000000e+00   0.00000000e+00   5.10958627e+12\n",
      "   5.10958627e+12   5.10958627e+12   5.10958627e+12   0.00000000e+00\n",
      "   0.00000000e+00   0.00000000e+00   5.10958627e+12   0.00000000e+00\n",
      "   5.10958627e+12   5.10958627e+12   0.00000000e+00   5.10958627e+12\n",
      "   0.00000000e+00   5.10958627e+12   0.00000000e+00   0.00000000e+00\n",
      "   5.10958627e+12   5.10958627e+12   5.10958627e+12   0.00000000e+00\n",
      "   0.00000000e+00   0.00000000e+00   0.00000000e+00   5.10958627e+12\n",
      "   5.10958627e+12   0.00000000e+00   5.10958627e+12   0.00000000e+00\n",
      "   5.10958627e+12   5.10958627e+12   0.00000000e+00   0.00000000e+00\n",
      "   0.00000000e+00   0.00000000e+00   5.10958627e+12   0.00000000e+00\n",
      "   5.10958627e+12   0.00000000e+00   0.00000000e+00   5.10958627e+12\n",
      "   0.00000000e+00   0.00000000e+00   0.00000000e+00]\n"
     ]
    }
   ],
   "source": [
    "print('Coefficients: \\n', linreg.coef_)"
   ]
  },
  {
   "cell_type": "markdown",
   "metadata": {},
   "source": [
    "**Выводы:**\n",
    "- Значения MSE и R2 на тренировочной выборке являются приемлемыми, однако модель показывает крайне плохое качество на тестовой выборке (высокое значение MSE, отрицательный R2), что говорит о низкой прогнозной силе модели\n",
    "- Это объясняется тем, что в модель включено очень много признаков (627 признаков на 1000 наблюдений) и все они используются в модели, это приводит к переобучению (что видно в огромной разнице между качеством модели на тренировочной и тестовой выборках, а также в огромных значениях весов, например 4.70852834e+12)"
   ]
  },
  {
   "cell_type": "markdown",
   "metadata": {
    "collapsed": true
   },
   "source": [
    "Для решения описанных вами в предыдущем пункте проблем используем L1- или L2-регуляризацию, тем самым получив Lasso и Ridge регрессии соответственно и изменив оптимизационную задачу одним из следующих образов:\n",
    "$$MSE_{L1}(X, y) = \\frac{1}{l} \\sum_{i=1}^l (<w, x_i> - y_i)^2 + \\alpha ||w||_1 \\to \\min_{w},$$\n",
    "$$MSE_{L2}(X, y) = \\frac{1}{l} \\sum_{i=1}^l (<w, x_i> - y_i)^2 + \\alpha ||w||_2^2 \\to \\min_{w},$$\n",
    "\n",
    "где $\\alpha$ — коэффициент регуляризации. Один из способов его подбора заключается в переборе некоторого количества значений и оценке качества на кросс-валидации для каждого из них, после чего выбирается значение, для которого было получено наилучшее качество.\n",
    "\n",
    "**13. (1 балл)** Обучите линейные регрессии с L1- и L2-регуляризатором, подобрав лучшее значение параметра регуляризации из списка alpha_grid при помощи кросс-валидации c 5 фолдами на тех же 1000 объектах, что и в п.12. Выведите значения $MSE$ и $R^2$ на обучающей и контрольной выборках. Удалось ли решить указанные вами ранее проблемы?\n",
    "\n",
    "Для выполнения данного задания вам могут понадобиться реализованные в библиотеке объекты [LassoCV](http://scikit-learn.org/stable/modules/generated/sklearn.linear_model.LassoCV.html), [RidgeCV](http://scikit-learn.org/stable/modules/generated/sklearn.linear_model.RidgeCV.html) и [KFold](http://scikit-learn.org/stable/modules/generated/sklearn.cross_validation.KFold.html).\n"
   ]
  },
  {
   "cell_type": "code",
   "execution_count": 387,
   "metadata": {
    "collapsed": false
   },
   "outputs": [],
   "source": [
    "from sklearn.linear_model import RidgeCV\n",
    "from sklearn.linear_model import LassoCV\n",
    "from sklearn.model_selection import KFold"
   ]
  },
  {
   "cell_type": "markdown",
   "metadata": {},
   "source": [
    "Lasso regression:"
   ]
  },
  {
   "cell_type": "code",
   "execution_count": 401,
   "metadata": {
    "collapsed": true
   },
   "outputs": [],
   "source": [
    "kf = KFold(n_splits=5,random_state=42)\n",
    "alpha_grid = [0.1, 0.5, 0.1, 10.0, 50.0]\n",
    "lasso = LassoCV(alphas=alpha_grid,cv=kf)"
   ]
  },
  {
   "cell_type": "code",
   "execution_count": 402,
   "metadata": {
    "collapsed": true
   },
   "outputs": [],
   "source": [
    "lasso.fit(X_trainred, y_trainred)\n",
    "lassotest = lasso.predict(X_test)\n",
    "lassotrain = lasso.predict(X_trainred)"
   ]
  },
  {
   "cell_type": "code",
   "execution_count": 403,
   "metadata": {
    "collapsed": false
   },
   "outputs": [
    {
     "name": "stdout",
     "output_type": "stream",
     "text": [
      "значение параметра регуляризации: 0.5\n",
      "значения весов:\n"
     ]
    },
    {
     "data": {
      "text/plain": [
       "array([-0.57850704,  0.07921026,  0.        ,  0.        ,  0.5072993 ,\n",
       "        0.12263146,  3.2803331 ,  5.34724828,  0.        ,  0.        ,\n",
       "        0.95664536,  0.        , -0.        , -0.        ,  0.        ,\n",
       "        0.        , -0.        ,  0.        ,  5.19116475, -0.        ,\n",
       "        0.        , -0.        , -0.        , -0.        , -0.        ,\n",
       "       -0.        ,  0.        ,  0.        ,  0.        , -0.        ,\n",
       "        1.43226292, -0.        , -0.        ,  0.        ,  0.        ,\n",
       "       -0.        ,  0.        ,  0.        ,  0.        , -0.        ,\n",
       "        0.        ,  0.        ,  0.        ,  0.        ,  0.        ,\n",
       "        0.        , -0.        ,  0.        ,  0.        , -0.        ,\n",
       "       -0.        , -0.        , -0.        ,  0.        ,  0.        ,\n",
       "        0.        ,  0.        , -0.        ,  0.        , -0.        ,\n",
       "        0.        ,  0.        ,  0.        ,  0.        ,  0.        ,\n",
       "        0.        ,  0.        ,  0.        , -0.        , -0.        ,\n",
       "        0.        , -0.        ,  0.        ,  0.        ,  0.        ,\n",
       "        0.        ,  0.        , -0.        ,  0.        , -0.        ,\n",
       "        0.        ,  0.        ,  0.        ,  0.        ,  0.        ,\n",
       "        0.        , -0.        ,  0.        , -0.        ,  0.        ,\n",
       "        0.        , -0.        , -0.        ,  0.        , -0.        ,\n",
       "        0.        ,  0.        ,  0.        ,  0.        , -0.        ,\n",
       "        0.        , -0.        ,  0.        ,  0.        , -0.        ,\n",
       "        0.        ,  0.        , -0.        , -0.        ,  0.        ,\n",
       "       -0.        , -0.        ,  0.        , -0.        , -0.        ,\n",
       "        0.        , -0.        , -0.        ,  0.        ,  0.        ,\n",
       "        0.        , -0.        ,  0.        ,  0.        ,  0.        ,\n",
       "        0.        ,  0.        ,  0.        ,  0.        ,  0.        ,\n",
       "        0.        , -0.        ,  0.        ,  0.        ,  0.        ,\n",
       "        0.        , -0.        ,  0.        ,  0.        , -0.        ,\n",
       "        0.        , -0.        , -0.        ,  0.        ,  0.        ,\n",
       "        0.        ,  0.        ,  0.        , -0.        , -0.        ,\n",
       "       -0.        , -0.        ,  0.        ,  0.        ,  0.        ,\n",
       "        0.        ,  0.        ,  0.        ,  0.        ,  0.        ,\n",
       "       -0.        , -0.        ,  0.        , -0.        ,  0.        ,\n",
       "       -0.        , -0.        , -0.        , -0.        ,  0.        ,\n",
       "        0.        ,  0.        ,  0.        ,  0.        ,  0.        ,\n",
       "        0.        ,  0.        ,  0.        , -0.        ,  0.        ,\n",
       "        0.        ,  0.        , -0.        ,  0.        ,  0.        ,\n",
       "       -0.        ,  0.        , -0.        , -0.        ,  0.        ,\n",
       "       -0.        ,  0.        , -0.        , -0.        ,  0.        ,\n",
       "       -0.        ,  0.        ,  0.        , -0.        ,  0.        ,\n",
       "        0.        ,  0.        ,  0.        , -0.        ,  0.        ,\n",
       "       -0.        ,  0.        , -0.        ,  0.        ,  0.        ,\n",
       "        0.        , -0.        ,  0.        , -0.        ,  0.        ,\n",
       "        0.        ,  0.        ,  0.        ,  0.        ,  0.        ,\n",
       "       -0.        ,  0.        , -0.        ,  0.        ,  0.        ,\n",
       "        0.        ,  0.        ,  0.        ,  0.        , -0.        ,\n",
       "       -0.        ,  0.        ,  0.        ,  0.        , -0.        ,\n",
       "       -0.        , -0.        , -0.        ,  0.        , -0.        ,\n",
       "        0.        , -0.        ,  0.        ,  0.        ,  0.        ,\n",
       "       -0.        , -0.        ,  0.        ,  0.        , -0.        ,\n",
       "       -0.        , -0.        ,  0.        , -0.        ,  0.        ,\n",
       "        0.        ,  0.        ,  0.        ,  0.        ,  0.        ,\n",
       "       -0.        ,  0.        , -0.        , -0.        ,  0.        ,\n",
       "        0.        , -0.        ,  0.        ,  0.        , -0.        ,\n",
       "        0.        , -0.        , -0.        ,  0.        , -0.        ,\n",
       "        0.        ,  0.        ,  0.        , -0.        , -0.        ,\n",
       "       -0.        , -0.        ,  0.        ,  0.        ,  0.        ,\n",
       "       -0.        , -0.        ,  0.        , -0.        ,  0.        ,\n",
       "       -0.        ,  0.        , -0.        ,  0.        , -0.        ,\n",
       "       -0.        ,  0.        , -0.        ,  0.        ,  0.        ,\n",
       "        0.        ,  0.        ,  0.        ,  0.        ,  0.        ,\n",
       "        0.        ,  0.        ,  0.        ,  0.        , -0.        ,\n",
       "        0.        ,  0.        ,  0.        , -0.        , -0.        ,\n",
       "        0.        , -0.        ,  0.        ,  0.        ,  0.        ,\n",
       "        0.        , -0.        ,  0.        ,  0.        ,  0.        ,\n",
       "       -0.        ,  0.        ,  0.        , -0.        ,  0.        ,\n",
       "       -0.        , -0.        ,  0.        ,  0.        ,  0.        ,\n",
       "       -0.        ,  0.        ,  0.        ,  0.        , -0.        ,\n",
       "        0.        ,  0.        ,  0.        , -0.        ,  0.        ,\n",
       "        0.        ,  0.        , -0.        , -0.        ,  0.        ,\n",
       "        0.        , -0.        , -0.        ,  0.        , -0.        ,\n",
       "        0.        ,  0.        , -0.        ,  0.        ,  0.        ,\n",
       "        0.        ,  0.        , -0.        , -0.        ,  0.        ,\n",
       "        0.        ,  0.        , -0.        ,  0.        ,  0.        ,\n",
       "        0.        ,  0.        ,  0.        , -0.        ,  0.        ,\n",
       "       -0.        , -0.        , -0.        , -0.        , -0.        ,\n",
       "        0.        , -0.        ,  0.        ,  0.        ,  0.        ,\n",
       "        0.        ,  0.        ,  0.        , -0.        , -0.        ,\n",
       "        0.        ,  0.        ,  0.        , -0.        ,  0.        ,\n",
       "        0.        , -0.        , -0.        , -0.        ,  0.        ,\n",
       "        0.        ,  0.        ,  0.        ,  0.        , -0.        ,\n",
       "        0.        ,  0.        , -0.        , -0.        ,  0.        ,\n",
       "        0.        ,  0.        ,  0.        ,  0.        , -0.        ,\n",
       "       -0.        , -0.        ,  0.        ,  0.        ,  0.        ,\n",
       "        0.        ,  0.        , -0.        ,  0.        ,  0.        ,\n",
       "        0.        , -0.        ,  0.        , -0.        ,  0.        ,\n",
       "       -0.        ,  0.        ,  0.        ,  0.        ,  0.        ,\n",
       "       -0.        ,  0.        ,  0.        ,  0.        , -0.        ,\n",
       "       -0.        ,  0.        , -0.        , -0.        ,  0.        ,\n",
       "        0.        , -0.        , -0.        , -0.        ,  0.        ,\n",
       "        0.        , -0.        ,  0.        , -0.        ,  0.        ,\n",
       "        0.        , -0.        , -0.        , -0.        , -0.        ,\n",
       "        0.        , -0.        ,  0.        ,  0.        ,  0.        ,\n",
       "       -0.        , -0.        , -0.        , -0.        ,  0.        ,\n",
       "       -0.        , -0.        ,  0.        ,  0.        ,  0.        ,\n",
       "        0.        ,  0.        ,  0.        , -0.        ,  0.        ,\n",
       "       -0.        , -0.        ,  0.        ,  0.        ,  0.        ,\n",
       "       -0.        , -0.        ,  0.        ,  0.        ,  0.        ,\n",
       "       -0.        , -0.        , -0.        , -0.        ,  0.        ,\n",
       "       -0.        ,  0.        ,  0.        ,  0.        ,  0.        ,\n",
       "        0.        , -0.        , -0.        , -0.        ,  0.        ,\n",
       "        0.        , -0.        , -0.        ,  0.        ,  0.        ,\n",
       "        0.        ,  0.        ,  0.        , -0.        ,  0.        ,\n",
       "       -0.        ,  0.        , -0.        ,  0.        , -0.        ,\n",
       "        0.        ,  0.        , -0.        ,  0.        ,  0.        ,\n",
       "       -0.        ,  0.        , -0.        , -0.        ,  0.        ,\n",
       "       -0.        ,  0.        , -0.        , -0.        , -0.        ,\n",
       "       -0.        ,  0.        , -0.        , -0.        , -0.        ,\n",
       "        0.        ,  0.        ,  0.        , -0.        , -0.        ,\n",
       "        0.        , -0.        ,  0.        , -0.        ,  0.        ,\n",
       "        0.        ,  0.        ,  0.        ,  0.        ,  0.        ,\n",
       "        0.        ,  0.        ,  0.        ,  0.        , -0.        ,\n",
       "        0.        ,  0.        ,  0.        ,  0.        ,  0.        ,\n",
       "        0.        ,  0.        , -0.        ,  0.        , -0.        ,\n",
       "       -0.        , -0.        ,  0.        ,  0.        , -0.        ,\n",
       "        0.        ,  0.        ,  0.        ,  0.        ,  0.        ,\n",
       "       -0.        ,  0.        ,  0.        ,  0.        , -0.        ,\n",
       "        0.        , -0.        ,  0.        ,  0.        ,  0.        ,\n",
       "        0.        ,  0.        ,  0.        , -0.        ,  0.        ,\n",
       "        0.        ,  0.        ,  0.        ,  0.        ,  0.        ,\n",
       "       -0.        , -0.        , -0.        ,  0.        ,  0.        ,\n",
       "        0.        ,  0.        , -0.        ,  0.        ,  0.        ,\n",
       "        0.        ,  0.        , -0.        , -0.        ,  0.        ,\n",
       "        0.        ,  0.        ,  0.        , -0.        ,  0.        ,\n",
       "        0.        ,  0.        ,  0.        , -0.        ,  0.        ,\n",
       "        0.        ,  0.        ])"
      ]
     },
     "execution_count": 403,
     "metadata": {},
     "output_type": "execute_result"
    }
   ],
   "source": [
    "print('значение параметра регуляризации: %s'%lasso.alpha_)\n",
    "print('значения весов:')\n",
    "lasso.coef_"
   ]
  },
  {
   "cell_type": "code",
   "execution_count": 404,
   "metadata": {
    "collapsed": false
   },
   "outputs": [
    {
     "name": "stdout",
     "output_type": "stream",
     "text": [
      "Lasso, Mean squared error on train: 999.35\n",
      "Lasso, R2 score on train: 0.06\n",
      "Lasso, Mean squared error on test: 1304.79\n",
      "Lasso, R2 score on test: 0.02\n"
     ]
    }
   ],
   "source": [
    "print(\"Lasso, Mean squared error on train: %.2f\"\n",
    "      % mean_squared_error(y_trainred, lassotrain))\n",
    "print('Lasso, R2 score on train: %.2f' % r2_score(y_trainred, lassotrain))\n",
    "print(\"Lasso, Mean squared error on test: %.2f\"\n",
    "      % mean_squared_error(y_test, lassotest))\n",
    "print('Lasso, R2 score on test: %.2f' % r2_score(y_test, lassotest))"
   ]
  },
  {
   "cell_type": "markdown",
   "metadata": {},
   "source": [
    "**Выводы**\n",
    "- Lasso-регрессия занулила большинство коэффициентов, тем самым сделав отбор признаков и уменьшив их количество (что являлось проблемой прошлой модели)\n",
    "- Модель после применения L1-регуляризации стала лучше, что проявляется в меньшем разбросе качества на обучающей и тестовой выборках (меньше переобучения), а так же в лучшем качестве на тестовой выборке (значение MSE ниже, R2 хоть и остался небольшим, но стал положительным)"
   ]
  },
  {
   "cell_type": "markdown",
   "metadata": {},
   "source": [
    "Ridge regression:"
   ]
  },
  {
   "cell_type": "code",
   "execution_count": 420,
   "metadata": {
    "collapsed": true
   },
   "outputs": [],
   "source": [
    "alpha_grid = [70.0, 80.0,100.0,110.0,120.0]\n",
    "ridge = RidgeCV(alphas=alpha_grid,cv=kf)"
   ]
  },
  {
   "cell_type": "code",
   "execution_count": 421,
   "metadata": {
    "collapsed": true
   },
   "outputs": [],
   "source": [
    "ridge.fit(X_trainred, y_trainred)\n",
    "ridgetest = ridge.predict(X_test)\n",
    "ridgetrain = ridge.predict(X_trainred)"
   ]
  },
  {
   "cell_type": "code",
   "execution_count": 422,
   "metadata": {
    "collapsed": false
   },
   "outputs": [
    {
     "name": "stdout",
     "output_type": "stream",
     "text": [
      "значение параметра регуляризации: 100.0\n",
      "значения весов:\n"
     ]
    },
    {
     "data": {
      "text/plain": [
       "array([ -9.22699352e-01,   5.72016559e-01,   1.29142906e-01,\n",
       "         5.26254858e-01,   9.46681318e-01,   6.79375870e-01,\n",
       "         3.55953611e+00,   5.16401012e+00,   1.58834328e-01,\n",
       "         3.90911755e-01,   1.26268530e+00,   0.00000000e+00,\n",
       "        -2.49449754e-01,  -1.42907237e+00,   1.06384362e+00,\n",
       "         0.00000000e+00,  -1.45002259e+00,   1.29891332e+00,\n",
       "         4.51313627e+00,  -1.54409703e+00,   1.24551146e+00,\n",
       "        -4.09835391e-01,  -1.69119924e+00,  -9.33562817e-01,\n",
       "        -2.01958966e+00,  -2.56610852e+00,   2.54798560e+00,\n",
       "         4.08094790e-02,   2.00613128e+00,  -2.02558758e+00,\n",
       "         3.07221202e+00,  -1.57753073e+00,  -1.41937096e-01,\n",
       "         0.00000000e+00,   1.35314899e+00,  -3.28707824e-02,\n",
       "         2.73964885e-01,   0.00000000e+00,   0.00000000e+00,\n",
       "        -2.59740233e-01,   0.00000000e+00,   0.00000000e+00,\n",
       "         0.00000000e+00,   0.00000000e+00,   0.00000000e+00,\n",
       "         0.00000000e+00,  -6.23204107e-02,   0.00000000e+00,\n",
       "         0.00000000e+00,  -5.22371381e-01,  -1.08917759e-01,\n",
       "        -2.40214469e+00,  -1.49580775e-01,   5.41269341e-02,\n",
       "         0.00000000e+00,   0.00000000e+00,   0.00000000e+00,\n",
       "        -6.68494321e-02,   0.00000000e+00,  -1.84589417e-01,\n",
       "         0.00000000e+00,   0.00000000e+00,   1.00645460e+00,\n",
       "         0.00000000e+00,   0.00000000e+00,   0.00000000e+00,\n",
       "         0.00000000e+00,   3.61562890e-01,  -2.95161172e-01,\n",
       "        -6.06955233e-01,   0.00000000e+00,  -5.08205456e-02,\n",
       "         0.00000000e+00,   0.00000000e+00,   0.00000000e+00,\n",
       "         0.00000000e+00,   0.00000000e+00,  -3.30076858e-02,\n",
       "         2.17466111e-01,  -6.88228116e-01,   5.12585910e-01,\n",
       "         6.90225744e-01,   1.16447006e-01,   0.00000000e+00,\n",
       "         0.00000000e+00,   0.00000000e+00,  -2.13620526e-01,\n",
       "         0.00000000e+00,  -9.61770595e-02,   0.00000000e+00,\n",
       "         1.32369700e+00,  -1.09276312e-01,  -3.83194467e-01,\n",
       "         3.83260622e-02,  -4.83944168e-01,   7.10042530e-01,\n",
       "         0.00000000e+00,   0.00000000e+00,   0.00000000e+00,\n",
       "        -2.79805399e-01,   0.00000000e+00,  -8.02585768e-02,\n",
       "         0.00000000e+00,   0.00000000e+00,  -7.84347857e-01,\n",
       "         0.00000000e+00,   0.00000000e+00,  -9.07089844e-02,\n",
       "        -3.46441724e-01,   0.00000000e+00,  -1.26440454e+00,\n",
       "        -1.44880384e+00,   4.94854862e-01,  -1.06277295e-01,\n",
       "        -3.18904572e-01,   0.00000000e+00,  -4.94929815e-01,\n",
       "        -1.62727484e+00,   0.00000000e+00,   0.00000000e+00,\n",
       "         0.00000000e+00,  -1.46990334e-01,   0.00000000e+00,\n",
       "         6.06975522e-01,   0.00000000e+00,   0.00000000e+00,\n",
       "         1.20829765e+00,   0.00000000e+00,   0.00000000e+00,\n",
       "         0.00000000e+00,   3.05300118e-03,  -1.58506613e-01,\n",
       "         0.00000000e+00,   0.00000000e+00,   3.51751199e-01,\n",
       "         0.00000000e+00,  -1.40874813e-01,   0.00000000e+00,\n",
       "         0.00000000e+00,  -2.36541201e-01,   0.00000000e+00,\n",
       "        -2.02154777e-01,  -4.74066678e-02,   0.00000000e+00,\n",
       "         5.40269619e-01,   0.00000000e+00,   0.00000000e+00,\n",
       "         5.79648231e-01,  -7.54607355e-02,  -8.00284115e-02,\n",
       "        -3.45590560e-01,  -1.73360726e-01,   0.00000000e+00,\n",
       "         0.00000000e+00,   0.00000000e+00,   0.00000000e+00,\n",
       "         0.00000000e+00,   0.00000000e+00,   0.00000000e+00,\n",
       "         6.89144841e-01,  -1.60867702e-01,  -1.36337227e-01,\n",
       "         0.00000000e+00,  -1.98848171e-01,   0.00000000e+00,\n",
       "        -1.30657198e+00,  -8.68407364e-01,  -4.22289408e-02,\n",
       "        -9.14050684e-02,   0.00000000e+00,   3.63042604e-01,\n",
       "         0.00000000e+00,   0.00000000e+00,   3.91886087e-03,\n",
       "         0.00000000e+00,   0.00000000e+00,   0.00000000e+00,\n",
       "         0.00000000e+00,  -5.24067810e-02,   1.10727433e+00,\n",
       "         4.68998280e-01,   6.79013439e-02,  -3.19256712e-01,\n",
       "         0.00000000e+00,   0.00000000e+00,  -1.14647899e+00,\n",
       "         0.00000000e+00,  -8.45858588e-01,  -1.94175970e-01,\n",
       "         0.00000000e+00,  -3.16331680e-01,   0.00000000e+00,\n",
       "        -1.89198232e+00,  -3.15678223e-01,   0.00000000e+00,\n",
       "        -2.46252296e-02,   0.00000000e+00,   0.00000000e+00,\n",
       "         2.76777454e-03,   0.00000000e+00,   0.00000000e+00,\n",
       "         0.00000000e+00,   0.00000000e+00,  -1.35311367e-01,\n",
       "         6.06885491e-02,  -6.44058075e-01,   0.00000000e+00,\n",
       "        -6.24562422e-01,   0.00000000e+00,   1.06967991e+00,\n",
       "         0.00000000e+00,   8.08445193e-03,   0.00000000e+00,\n",
       "        -9.17329760e-02,   0.00000000e+00,   1.72435729e+00,\n",
       "         1.65723428e+00,   1.26193684e+00,   0.00000000e+00,\n",
       "         0.00000000e+00,  -5.97227403e-02,   0.00000000e+00,\n",
       "         1.18964009e-02,   0.00000000e+00,   0.00000000e+00,\n",
       "         0.00000000e+00,   0.00000000e+00,   2.93159598e-02,\n",
       "         0.00000000e+00,  -1.13087835e+00,  -6.27025077e-01,\n",
       "         0.00000000e+00,   9.87806047e-01,   0.00000000e+00,\n",
       "        -1.45723082e-01,  -4.98170711e-01,  -5.29078986e-02,\n",
       "        -8.15575995e-02,   0.00000000e+00,  -5.65067306e-01,\n",
       "         2.29061303e+00,  -2.12553025e-01,   0.00000000e+00,\n",
       "         0.00000000e+00,   0.00000000e+00,  -3.38176903e-01,\n",
       "        -4.53596531e-01,   0.00000000e+00,   0.00000000e+00,\n",
       "        -2.16287309e-01,  -1.44722405e-01,  -1.42863759e-01,\n",
       "         0.00000000e+00,  -4.49619876e-01,   0.00000000e+00,\n",
       "         0.00000000e+00,   3.18260381e+00,   0.00000000e+00,\n",
       "         0.00000000e+00,   0.00000000e+00,  -5.18526982e-01,\n",
       "         1.64708937e-01,  -1.07219710e-01,  -2.06959210e-01,\n",
       "         0.00000000e+00,   0.00000000e+00,  -2.21762141e-01,\n",
       "         0.00000000e+00,   0.00000000e+00,  -2.30664576e-01,\n",
       "         0.00000000e+00,  -3.01381839e-01,  -1.57928981e-01,\n",
       "         4.52992621e-01,  -9.23827843e-02,   0.00000000e+00,\n",
       "         1.87571154e+00,   1.90982042e+00,  -7.87412883e-01,\n",
       "        -5.88672808e-02,  -3.42053198e-01,  -3.75327686e-02,\n",
       "         4.07210445e-01,   0.00000000e+00,   0.00000000e+00,\n",
       "        -8.52332668e-02,  -9.64163622e-01,   2.37580168e+00,\n",
       "        -1.73448385e-01,   0.00000000e+00,  -7.98429306e-02,\n",
       "         0.00000000e+00,  -4.25580106e-01,   0.00000000e+00,\n",
       "        -1.51349807e-01,  -1.33985514e-01,   0.00000000e+00,\n",
       "        -6.29127897e-01,   0.00000000e+00,   6.88479046e-01,\n",
       "         0.00000000e+00,   5.25533162e-01,   2.73765626e-01,\n",
       "         9.38783297e-01,   0.00000000e+00,   0.00000000e+00,\n",
       "         0.00000000e+00,   0.00000000e+00,   1.27512279e+00,\n",
       "        -2.27205320e-01,   0.00000000e+00,   6.25868933e-02,\n",
       "         0.00000000e+00,  -2.60845119e-01,  -1.92782485e-01,\n",
       "         1.30148343e-01,  -1.42138739e-01,   0.00000000e+00,\n",
       "         0.00000000e+00,   0.00000000e+00,   0.00000000e+00,\n",
       "        -4.42703829e-01,   0.00000000e+00,   6.89605857e-02,\n",
       "         0.00000000e+00,   1.45404295e-02,   2.99216413e-01,\n",
       "         0.00000000e+00,  -1.97605392e-01,   1.01286434e+00,\n",
       "        -1.68556600e-01,  -1.66630959e-01,   0.00000000e+00,\n",
       "         0.00000000e+00,   0.00000000e+00,  -3.50502141e-01,\n",
       "         0.00000000e+00,   0.00000000e+00,   0.00000000e+00,\n",
       "        -1.41299871e-01,   0.00000000e+00,   0.00000000e+00,\n",
       "         6.07510132e-02,  -7.37558882e-02,   1.97465541e-01,\n",
       "         0.00000000e+00,   1.74355185e+00,  -5.44891217e-01,\n",
       "        -1.47104735e-01,   0.00000000e+00,   0.00000000e+00,\n",
       "        -7.90569741e-02,  -7.39641256e-01,   0.00000000e+00,\n",
       "        -1.82388993e-01,   0.00000000e+00,   0.00000000e+00,\n",
       "        -1.34887469e-01,   0.00000000e+00,   1.75243354e-01,\n",
       "         0.00000000e+00,   0.00000000e+00,  -2.73239732e-02,\n",
       "        -4.61125786e-01,   9.90385716e-02,   2.22969495e+00,\n",
       "         0.00000000e+00,  -2.26895704e-01,   0.00000000e+00,\n",
       "         3.92586434e-02,   0.00000000e+00,   0.00000000e+00,\n",
       "         0.00000000e+00,  -1.49036638e-01,   2.10505661e-01,\n",
       "        -2.87569074e-01,   2.33698840e-02,   4.71203566e-04,\n",
       "        -1.08415420e-01,  -1.43518708e-01,   0.00000000e+00,\n",
       "        -1.58343804e-01,   0.00000000e+00,   0.00000000e+00,\n",
       "         0.00000000e+00,   0.00000000e+00,   0.00000000e+00,\n",
       "         9.30012597e-01,  -3.24863417e-01,   1.54991191e-04,\n",
       "         9.98275354e-02,   2.67400276e-01,   1.24434107e+00,\n",
       "        -1.45754799e-01,   0.00000000e+00,   0.00000000e+00,\n",
       "        -1.98124828e-01,  -2.50249414e-01,  -2.31731397e-01,\n",
       "         0.00000000e+00,   0.00000000e+00,   9.27560841e-01,\n",
       "         0.00000000e+00,   0.00000000e+00,  -2.98026924e-01,\n",
       "         1.02878951e+00,   0.00000000e+00,  -9.54095014e-01,\n",
       "        -1.46329237e+00,  -1.90905716e-01,   0.00000000e+00,\n",
       "         0.00000000e+00,   0.00000000e+00,   0.00000000e+00,\n",
       "        -4.29372819e-01,  -3.51885118e-01,  -1.99313813e-01,\n",
       "         0.00000000e+00,   0.00000000e+00,   0.00000000e+00,\n",
       "         0.00000000e+00,   1.25674305e-01,  -1.18186832e-01,\n",
       "         0.00000000e+00,   2.74213071e+00,   0.00000000e+00,\n",
       "        -3.49242915e-01,   0.00000000e+00,  -4.98361467e-01,\n",
       "         0.00000000e+00,  -5.43796617e-01,   0.00000000e+00,\n",
       "         8.93102225e-01,   0.00000000e+00,   0.00000000e+00,\n",
       "        -9.88733278e-02,   0.00000000e+00,   0.00000000e+00,\n",
       "         0.00000000e+00,  -2.44321374e-01,  -1.86710857e-01,\n",
       "         0.00000000e+00,  -2.56615425e-01,  -6.76888841e-03,\n",
       "         0.00000000e+00,   0.00000000e+00,  -8.14445204e-02,\n",
       "        -2.94703057e-01,  -3.40862523e-01,   0.00000000e+00,\n",
       "         0.00000000e+00,  -1.72103982e-01,   0.00000000e+00,\n",
       "        -6.08908390e-02,   0.00000000e+00,   0.00000000e+00,\n",
       "        -9.87087058e-02,  -8.23252600e-01,  -2.35084430e-01,\n",
       "        -1.29957882e-01,   0.00000000e+00,  -8.78138902e-02,\n",
       "         0.00000000e+00,   2.62434633e-01,   1.68672018e+00,\n",
       "        -5.56726918e-01,  -1.61174851e-01,  -1.27775430e-01,\n",
       "        -1.45447204e-01,   0.00000000e+00,  -2.10311478e-01,\n",
       "        -6.10284367e-02,   0.00000000e+00,   0.00000000e+00,\n",
       "         0.00000000e+00,   0.00000000e+00,   0.00000000e+00,\n",
       "         6.96560441e-01,  -1.16903709e+00,   2.99216413e-01,\n",
       "        -1.09056006e-01,  -1.16711597e-01,   0.00000000e+00,\n",
       "         1.12590153e+00,   0.00000000e+00,  -2.38158700e+00,\n",
       "        -8.43432582e-02,   0.00000000e+00,   0.00000000e+00,\n",
       "         1.27270162e-01,  -1.23645046e+00,  -1.76086095e-01,\n",
       "        -1.49475741e-01,  -2.52711921e-02,   0.00000000e+00,\n",
       "        -3.66799201e-01,   1.24865265e-01,   0.00000000e+00,\n",
       "         0.00000000e+00,   0.00000000e+00,   0.00000000e+00,\n",
       "        -1.69454566e-01,  -1.12766377e-01,  -5.94677777e-01,\n",
       "         0.00000000e+00,   1.00966413e-01,  -1.57599300e-01,\n",
       "        -1.79878479e-01,   0.00000000e+00,   1.82285532e-01,\n",
       "         3.25921092e-02,   0.00000000e+00,   0.00000000e+00,\n",
       "        -2.37620429e-01,   9.32627318e-02,  -2.34202784e-01,\n",
       "         0.00000000e+00,  -1.43467955e-01,   6.42118053e-03,\n",
       "        -4.87335970e-02,   0.00000000e+00,   0.00000000e+00,\n",
       "        -2.48725684e-01,   0.00000000e+00,   0.00000000e+00,\n",
       "        -3.10574448e-01,   8.65190007e-02,  -7.95334492e-01,\n",
       "        -6.24711186e-01,   0.00000000e+00,  -3.88651656e-01,\n",
       "         0.00000000e+00,  -4.48130141e-01,   2.35476239e-02,\n",
       "        -1.27835643e-01,  -4.57475077e-01,   0.00000000e+00,\n",
       "        -1.74969845e-01,  -2.63160699e-01,  -2.00019473e-01,\n",
       "         0.00000000e+00,   0.00000000e+00,   0.00000000e+00,\n",
       "        -1.09163725e-01,  -1.66816930e-01,   0.00000000e+00,\n",
       "        -1.56460947e-01,   1.74541019e+00,  -4.37364923e-01,\n",
       "         0.00000000e+00,   0.00000000e+00,   7.11403031e-01,\n",
       "         0.00000000e+00,   0.00000000e+00,   0.00000000e+00,\n",
       "         0.00000000e+00,   0.00000000e+00,   0.00000000e+00,\n",
       "         5.67733223e-01,  -1.95032380e-01,   0.00000000e+00,\n",
       "         8.49998030e-01,   0.00000000e+00,   0.00000000e+00,\n",
       "         7.88750541e-01,   0.00000000e+00,   0.00000000e+00,\n",
       "        -1.71612819e-01,   0.00000000e+00,  -1.55937138e-01,\n",
       "        -2.33797922e-01,  -3.20418441e-02,   0.00000000e+00,\n",
       "         0.00000000e+00,  -3.30812352e-01,   9.94557889e-01,\n",
       "         8.76039725e-01,   6.95123162e-02,   1.06039651e+00,\n",
       "         0.00000000e+00,  -2.05765889e-01,   0.00000000e+00,\n",
       "         0.00000000e+00,   1.47419191e+00,  -1.53785542e+00,\n",
       "         2.31760151e+00,  -7.93265534e-02,   0.00000000e+00,\n",
       "         0.00000000e+00,   0.00000000e+00,  -1.60741327e-03,\n",
       "         0.00000000e+00,   3.21545253e-02,   5.28648610e-03,\n",
       "         0.00000000e+00,   7.08136098e-01,   0.00000000e+00,\n",
       "         5.76893230e-03,   0.00000000e+00,   0.00000000e+00,\n",
       "        -3.14362577e-01,  -5.45967833e-01,  -1.31092085e-01,\n",
       "         0.00000000e+00,   0.00000000e+00,   0.00000000e+00,\n",
       "         0.00000000e+00,  -7.77782727e-02,   4.40194077e-01,\n",
       "         0.00000000e+00,   5.58364359e-01,   0.00000000e+00,\n",
       "        -6.88888229e-02,  -1.58799278e-01,   0.00000000e+00,\n",
       "         0.00000000e+00,   0.00000000e+00,   0.00000000e+00,\n",
       "        -5.83173005e-02,   0.00000000e+00,   3.94296574e-01,\n",
       "         0.00000000e+00,   0.00000000e+00,  -3.79233255e-01,\n",
       "         0.00000000e+00,   0.00000000e+00,   0.00000000e+00])"
      ]
     },
     "execution_count": 422,
     "metadata": {},
     "output_type": "execute_result"
    }
   ],
   "source": [
    "print('значение параметра регуляризации: %s'%ridge.alpha_)\n",
    "print('значения весов:')\n",
    "ridge.coef_"
   ]
  },
  {
   "cell_type": "code",
   "execution_count": 423,
   "metadata": {
    "collapsed": false
   },
   "outputs": [
    {
     "name": "stdout",
     "output_type": "stream",
     "text": [
      "Ridge, Mean squared error on train: 952.92\n",
      "Ridge, R2 score on train: 0.10\n",
      "Ridge, Mean squared error on test: 1295.90\n",
      "Ridge, R2 score on test: 0.03\n"
     ]
    }
   ],
   "source": [
    "print(\"Ridge, Mean squared error on train: %.2f\"\n",
    "      % mean_squared_error(y_trainred, ridgetrain))\n",
    "print('Ridge, R2 score on train: %.2f' % r2_score(y_trainred, ridgetrain))\n",
    "print(\"Ridge, Mean squared error on test: %.2f\"\n",
    "      % mean_squared_error(y_test, ridgetest))\n",
    "print('Ridge, R2 score on test: %.2f' % r2_score(y_test, ridgetest))"
   ]
  },
  {
   "cell_type": "markdown",
   "metadata": {},
   "source": [
    "**Выводы:**\n",
    "- Ridge-регрессия сократила значения коэффициентов, тем самым решив проблему прошлой модели\n",
    "- Модель после применения L2-регуляризации стала лучше, что проявляется в меньшем разбросе качества на обучающей и тестовой выборках (меньше переобучения), а так же в лучшем качестве на тестовой выборке (значение MSE ниже, R2 хоть и остался небольшим, но стал положительным). Качество на тестовой выборке у L2-модели в целом лучше, чем у L-1 модели."
   ]
  },
  {
   "cell_type": "markdown",
   "metadata": {},
   "source": [
    "### Градиентный спуск\n",
    "\n",
    "В предыдущем разделе мы использовали существующие реализации методов обучения линейной регрессии с регуляризацией и без. Тем не менее, подобные реализации, как правило, имеются лишь для ограниченного набора стандартных методов. В частности, при выходе функционала качества за пределы стандартного множества необходимо самостоятельно реализовывать составляющие процесса решения оптимизационной задачи. Именно этому и посвящен данный раздел задания.\n",
    "\n",
    "Пусть необходимо минимизировать следующий функционал (Mean Square Percentage Error — модифицированный [RMSPE](https://www.kaggle.com/c/rossmann-store-sales/details/evaluation)):\n",
    "$$MSPE(\\{x_i, y_i\\}_{i=1}^l, \\, w) = \\frac{1}{l}\\sum_{i=1}^l \\left( \\frac{y_i - \\langle w, x_i \\rangle }{y_i} \\right)^2,$$\n",
    "\n",
    "где $\\{x_i, y_i\\}_{i=1}^l$ — обучающая выборка, $w$ — вектор весов линейной модели. Будем также рассматривать функционал $MSPE$ с L2-регуляризацией:\n",
    "\n",
    "$$MSPE(\\{x_i, y_i\\}_{i=1}^l, \\, w) = \\frac{1}{l}\\sum_{i=1}^l \\left( \\frac{y_i - \\langle w, x_i \\rangle }{y_i} \\right)^2 + ||w||_2^2.$$\n",
    "\n",
    "**14. (0 баллов)** Добавьте к объектам обеих выборок из п. 11 единичный признак."
   ]
  },
  {
   "cell_type": "code",
   "execution_count": 430,
   "metadata": {
    "collapsed": true
   },
   "outputs": [],
   "source": [
    "X_train['const'] = 1\n",
    "X_test['const'] = 1"
   ]
  },
  {
   "cell_type": "markdown",
   "metadata": {},
   "source": [
    "**15. (1 балл)** Реализуйте функции, которые вычисляют:\n",
    " * прогнозы линейной модели;\n",
    " * функционал $MSPE$ и его градиент;\n",
    " * регуляризованный $MSPE$ и его градиент."
   ]
  },
  {
   "cell_type": "code",
   "execution_count": 431,
   "metadata": {
    "collapsed": true
   },
   "outputs": [],
   "source": [
    "# возвращает вектор прогнозов линейной модели с вектором весов w для выборки X\n",
    "def make_pred(X, w):\n",
    "    pred = np.dot(X,w)\n",
    "    return pred\n",
    "    pass"
   ]
  },
  {
   "cell_type": "code",
   "execution_count": 432,
   "metadata": {
    "collapsed": true
   },
   "outputs": [],
   "source": [
    "mat = np.random.randint(low=10,size=(5,4))\n",
    "w = np.array([1,2,0,1])"
   ]
  },
  {
   "cell_type": "code",
   "execution_count": 453,
   "metadata": {
    "collapsed": false
   },
   "outputs": [
    {
     "data": {
      "text/plain": [
       "array([24, 31, 11, 10, 16])"
      ]
     },
     "execution_count": 453,
     "metadata": {},
     "output_type": "execute_result"
    }
   ],
   "source": [
    "make_pred(mat,w)"
   ]
  },
  {
   "cell_type": "code",
   "execution_count": 443,
   "metadata": {
    "collapsed": true
   },
   "outputs": [],
   "source": [
    "# возвращает значение функционала MSPE для выборки (X, y) и вектора весов w\n",
    "def get_func(w, X, y):\n",
    "    pred = np.dot(X,w)\n",
    "    drob = (y - pred) / y\n",
    "    summa = np.dot(drob, drob) / len(y)\n",
    "    return summa\n",
    "    pass"
   ]
  },
  {
   "cell_type": "code",
   "execution_count": 441,
   "metadata": {
    "collapsed": false
   },
   "outputs": [
    {
     "data": {
      "text/plain": [
       "200.00102040816327"
      ]
     },
     "execution_count": 441,
     "metadata": {},
     "output_type": "execute_result"
    }
   ],
   "source": [
    "ykek = np.array([1.5,2,0.5,1,3.5])\n",
    "get_func(w,mat,ykek)"
   ]
  },
  {
   "cell_type": "code",
   "execution_count": 450,
   "metadata": {
    "collapsed": true
   },
   "outputs": [],
   "source": [
    "# возвращает градиент функционала MSPE для выборки (X, y) и вектора весов w\n",
    "def get_grad(w, X, y):\n",
    "    pred = np.dot(X,w) # X is matrix of shape lxd\n",
    "    drob = (y - pred) / np.power(y,2) # vector of shape lx1\n",
    "    grad = -2* np.dot(X.T, drob) / len(y)\n",
    "    return grad\n",
    "    pass"
   ]
  },
  {
   "cell_type": "code",
   "execution_count": 452,
   "metadata": {
    "collapsed": false
   },
   "outputs": [
    {
     "data": {
      "text/plain": [
       "array([  72.13265306,  133.5244898 ,  190.46530612,   74.04897959])"
      ]
     },
     "execution_count": 452,
     "metadata": {},
     "output_type": "execute_result"
    }
   ],
   "source": [
    "get_grad(w,mat,ykek)"
   ]
  },
  {
   "cell_type": "code",
   "execution_count": 442,
   "metadata": {
    "collapsed": true
   },
   "outputs": [],
   "source": [
    "# возвращает значение регуляризованного функционала MSPE для выборки (X, y) и вектора весов w\n",
    "def get_reg_func(w, X, y):\n",
    "    pred = np.dot(X,w)\n",
    "    drob = (y - pred) / y\n",
    "    summa = np.dot(drob, drob) / len(y) + np.dot(w,w)\n",
    "    return summa\n",
    "    pass"
   ]
  },
  {
   "cell_type": "code",
   "execution_count": 454,
   "metadata": {
    "collapsed": true
   },
   "outputs": [],
   "source": [
    "# возвращает градиент регуляризованного функционала MSPE для выборки (X, y) и вектора весов w\n",
    "def get_reg_grad(w, X, y):\n",
    "    pred = np.dot(X,w) # X is matrix of shape lxd\n",
    "    drob = (y - pred) / np.power(y,2) # vector of shape lx1\n",
    "    grad = -2* np.dot(X.T, drob) / len(y) + 2 * w\n",
    "    return grad\n",
    "    pass"
   ]
  },
  {
   "cell_type": "code",
   "execution_count": 455,
   "metadata": {
    "collapsed": false
   },
   "outputs": [
    {
     "data": {
      "text/plain": [
       "array([  74.13265306,  137.5244898 ,  190.46530612,   76.04897959])"
      ]
     },
     "execution_count": 455,
     "metadata": {},
     "output_type": "execute_result"
    }
   ],
   "source": [
    "get_reg_grad(w,mat,ykek)"
   ]
  },
  {
   "cell_type": "markdown",
   "metadata": {},
   "source": [
    "**16. (1 балл)** Реализуйте метод градиентного спуска для описанных функционалов ($MSPE$ и его регуляризованный вариант). Функция должна принимать следующие параметры:\n",
    " - X — матрица \"объект-признак\";\n",
    " - y — вектор целевой переменной;\n",
    " - w0 — начальное значение вектора весов;\n",
    " - step_size — значение темпа обучения;\n",
    " - max_iter — максимальное число итераций;\n",
    " - eps — значение, используемое в критерии останова;\n",
    " - is_reg — бинарный параметр, принимает значение True в случае наличия регуляризации функционала, False — в противном случае.\n",
    " \n",
    "Процесс должен быть остановлен, если выполнено хотя бы одно из следующих условий:\n",
    " - было выполнено заданное количество итераций max_iter;\n",
    " - евклидова норма разности векторов $w$ на соседних итерациях стала меньше, чем eps.\n",
    "\n",
    "Функция должна возвращать полученный в результате оптимизации вектор $w$ и список значений функционала на каждой итерации."
   ]
  },
  {
   "cell_type": "code",
   "execution_count": 493,
   "metadata": {
    "collapsed": true
   },
   "outputs": [],
   "source": [
    "def grad_descent(X, y, w0, step_size, max_iter, eps, is_reg):\n",
    "    if is_reg == False:\n",
    "        mspe_arr = []\n",
    "        w = w0 - step_size * get_grad(w0, X, y)\n",
    "        mspe_arr.append(get_func(w, X, y))\n",
    "        iteration = 2\n",
    "        while iteration <= max_iter and np.linalg.norm(w-w0) >= eps:\n",
    "            w0 = w\n",
    "            w = w0 - step_size * get_grad(w0, X, y)\n",
    "            mspe_arr.append(get_func(w, X, y))\n",
    "            iteration += 1\n",
    "    elif is_reg == True:\n",
    "        mspe_arr = []\n",
    "        w = w0 - step_size * get_grad(w0, X, y)\n",
    "        mspe_arr.append(get_reg_func(w, X, y))\n",
    "        iteration = 2\n",
    "        while iteration <= max_iter and np.linalg.norm(w-w0) >= eps:\n",
    "            w0 = w\n",
    "            w = w0 - step_size * get_reg_grad(w0, X, y)\n",
    "            mspe_arr.append(get_reg_func(w, X, y))\n",
    "            iteration += 1\n",
    "    return w, mspe_arr"
   ]
  },
  {
   "cell_type": "code",
   "execution_count": 497,
   "metadata": {
    "collapsed": false
   },
   "outputs": [
    {
     "data": {
      "text/plain": [
       "(array([ 0.08180387,  1.20819763, -0.78111289,  0.38309117]),\n",
       " [105.1778259932757,\n",
       "  57.648840869358956,\n",
       "  32.106849324151753,\n",
       "  18.306549932409485,\n",
       "  10.794367272087417,\n",
       "  6.6602424668877065,\n",
       "  4.3481099657001625,\n",
       "  3.0242326251816869,\n",
       "  2.2408775393128253,\n",
       "  1.7568904477021103])"
      ]
     },
     "execution_count": 497,
     "metadata": {},
     "output_type": "execute_result"
    }
   ],
   "source": [
    "grad_descent(mat, ykek, w, 0.01, 10, 0.001, False)"
   ]
  },
  {
   "cell_type": "code",
   "execution_count": 498,
   "metadata": {
    "collapsed": false
   },
   "outputs": [
    {
     "data": {
      "text/plain": [
       "(array([ 0.07786603,  1.02543535, -0.61750842,  0.33941105]),\n",
       " [109.39243307115991,\n",
       "  63.868108669806801,\n",
       "  38.010552664472826,\n",
       "  23.214534578559391,\n",
       "  14.672696753211834,\n",
       "  9.6840533378206608,\n",
       "  6.7246392169311271,\n",
       "  4.9315523189893975,\n",
       "  3.8145084393800381,\n",
       "  3.0938383247883632])"
      ]
     },
     "execution_count": 498,
     "metadata": {},
     "output_type": "execute_result"
    }
   ],
   "source": [
    "grad_descent(mat, ykek, w, 0.01, 10, 0.001, True)"
   ]
  },
  {
   "cell_type": "markdown",
   "metadata": {},
   "source": [
    "Обучите линейную регрессию с функционалом $MSPE$ на обучающей выборке при помощи метода градиентного спуска и изобразите кривые зависимости значения функционала от номера итерации для различных:\n",
    " * значений размера шага из набора [0.001, 1, 10];\n",
    " * способов начальной инициализации вектора весов (нули, случайные веса).\n",
    "\n",
    "Проанализируйте полученные результаты — влияют ли данные параметры на скорость сходимости и итоговое качество? Если да, то как?"
   ]
  },
  {
   "cell_type": "code",
   "execution_count": 500,
   "metadata": {
    "collapsed": false
   },
   "outputs": [],
   "source": [
    "# only 1000 to faster calculation\n",
    "# X_trainred, y_trainred = X_train[:1000],y_train[:1000]\n",
    "w0red = np.random.rand(X_trainred.shape[1])"
   ]
  },
  {
   "cell_type": "code",
   "execution_count": 501,
   "metadata": {
    "collapsed": false
   },
   "outputs": [
    {
     "data": {
      "image/png": "[encoded data removed]",
      "text/plain": [
       "<matplotlib.figure.Figure at 0x28ca5d582b0>"
      ]
     },
     "metadata": {},
     "output_type": "display_data"
    }
   ],
   "source": [
    "fig = plt.figure(figsize=(25,10))\n",
    "for i, alpha in enumerate([0.001, 1, 1.2, 10, 0.001, 1, 1.2, 10]):   \n",
    "    ax = fig.add_subplot(2, 4, i+1)\n",
    "    if i < 4:\n",
    "        w_opt, Loss = grad_descent(X_trainred, y_trainred, np.zeros(X_trainred.shape[1]), alpha, 1000, 0.0001, False)\n",
    "        Lmin = \"{:.2f}\".format(np.min(Loss)) \n",
    "        ax.set_title('alpha=' + str(alpha) + \" w0 = 0\" + ' min= ' + Lmin)\n",
    "        plt.plot(range(len(Loss)), Loss, c=\"r\")\n",
    "    else: \n",
    "        w_opt, Loss = grad_descent(X_trainred, y_trainred, w0red , alpha, 1000, 0.0001, False)\n",
    "        Lmin = \"{:.2f}\".format(np.min(Loss)) \n",
    "        ax.set_title('alpha=' + str(alpha) + \" w0 = rand\" + ' min= ' + Lmin)\n",
    "        plt.plot(range(len(Loss)), Loss, c=\"r\")"
   ]
  },
  {
   "cell_type": "markdown",
   "metadata": {},
   "source": [
    "**Выводы:**\n",
    "- шаг и инициализация весов влияют на сходимость\n",
    "- в случае, когда начальная инициализация весов $w$ - нули, при достаточно малых значениях $\\alpha = 0.001$ сходимость алгоритма происходит крайне медленно, однако при достаточно больших значениях $\\alpha = 10.0$ алгоритм не сходится вообще (расходится), что видно в увеличении значения функционала потерь с ростом итерации. По графикам можно сделать вывод, что оптимальное значение $\\alpha \\in [1.5, 2]$\n",
    "- в случае, когда начальная инициализация весов $w$ происходит случайно из $U \\sim [0,1]$, сходимость алгоритма зависит от $\\alpha$ так же, как и в первом случае. Но случайные веса все же влияют на сходимость алгоритма: при $\\alpha \\approx 1$ алгоритм сходится к тысячной итерации к тому же значению функционала, что и при нулевой инициализации. При $\\alpha << 1$ алгоритм сходится намного хуже чем в первом случае, так как скорость сходимости ниже и алгоритм не успевает сходиться за указанное кол-во итераций. При $\\alpha >> 1$ алгоритм расходится, как и в первом случае."
   ]
  },
  {
   "cell_type": "markdown",
   "metadata": {},
   "source": [
    "**17. (0.5 балла)** Обучите линейную регрессию с функционалом MSPE и его регуляризованным вариантом на обучающей выборке при помощи метода градиентного спуска и изобразите кривые зависимости значения функционала от номера итерации. Исследуйте зависимость скорости сходимости от наличия регуляризации. Обоснуйте, почему так происходит."
   ]
  },
  {
   "cell_type": "code",
   "execution_count": 502,
   "metadata": {
    "collapsed": false
   },
   "outputs": [
    {
     "data": {
      "image/png": "[encoded data removed]",
      "text/plain": [
       "<matplotlib.figure.Figure at 0x28ca9008390>"
      ]
     },
     "metadata": {},
     "output_type": "display_data"
    }
   ],
   "source": [
    "fig = plt.figure(figsize=(25,10))\n",
    "for i, alpha in enumerate([0.001, 0.01, 1, 2, 0.001, 0.01, 1, 2]):   \n",
    "    ax = fig.add_subplot(2, 4, i+1)\n",
    "    if i < 4:\n",
    "        w_opt, Loss = grad_descent(X_trainred, y_trainred, np.zeros(X_trainred.shape[1]), alpha, 1000, 0.0001, False)\n",
    "        Lmin = \"{:.2f}\".format(np.min(Loss)) \n",
    "        ax.set_title('alpha=' + str(alpha) + \" no Reg\" + ' min= ' + Lmin)\n",
    "        plt.plot(range(len(Loss)), Loss, c=\"r\")\n",
    "    else: \n",
    "        w_opt, Loss = grad_descent(X_trainred, y_trainred, np.zeros(X_trainred.shape[1]) , alpha, 1000, 0.0001, True)\n",
    "        Lmin = \"{:.2f}\".format(np.min(Loss)) \n",
    "        ax.set_title('alpha=' + str(alpha) + \" L2 Reg\" + ' min= ' + Lmin)\n",
    "        plt.plot(range(len(Loss)), Loss, c=\"r\")"
   ]
  },
  {
   "cell_type": "markdown",
   "metadata": {},
   "source": [
    "**Выводы:**\n",
    "- Регуляризация значительно влияет на сходимость алгоритма \n",
    "- регуляризованный алгоритм для сходимости должен принимать меньшие значения $\\alpha$ (в противном случае алгоритм расходится)\n",
    "- если сравнивать регуляризованный алгоритм и алгоритм без регуляризации, при равных значениях $\\alpha$, при которых оба алгоритма сходятся, регуляризованный алгоритм сходится быстрее. Например, при $\\epsilon = 0.0001$ регуляризованный алгоритм сходится в среднем за 250 итераций (в зависимости от $\\alpha$), алгоритм без регуляризации сходится более чем за 1000 итераций. \n",
    "- Возможно, регуляризация снижает разброс значений коэффициентов, что ускоряет сходимость алгоритма"
   ]
  },
  {
   "cell_type": "markdown",
   "metadata": {},
   "source": [
    "Метод градиентного спуска может быть весьма трудозатратен в случае большого размера обучающей выборки. Поэтому часто используют метод стохастического градиентного спуска, где на каждой итерации выбирается случайный объект из обучающей выборки и обновление весов происходит только по этому объекту. \n",
    "\n",
    "**18*. (1 бонусный балл)**  Реализуйте метод стохастического градиентного спуска (SGD) для описанных функционалов ($MSPE$ и его регуляризованный вариант). Функция должна иметь параметры и возвращаемое значение, аналогичные оным функции grad\\_descent из п.21. Кроме того, должен использоваться аналогичный критерий останова."
   ]
  },
  {
   "cell_type": "code",
   "execution_count": null,
   "metadata": {
    "collapsed": true
   },
   "outputs": [],
   "source": [
    "def sgd(X, y, step_size, max_iter, eps, is_reg):\n",
    "    # Your code here"
   ]
  },
  {
   "cell_type": "markdown",
   "metadata": {},
   "source": [
    "Обучите линейную регрессию с функционалом $MSPE$ и его регуляризованным вариантом на обучающей выборке при помощи метода стохастического градиентного спуска, подобрав при этом размер шага, при котором метод будет сходиться. Нарисуйте график сходимости. Выведите значения $MSPE, MSE, R^2$ на контрольной выборке."
   ]
  },
  {
   "cell_type": "code",
   "execution_count": null,
   "metadata": {
    "collapsed": true
   },
   "outputs": [],
   "source": [
    "# Your code here"
   ]
  },
  {
   "cell_type": "markdown",
   "metadata": {},
   "source": [
    "**19*. (0.5 бонусного балла)** Аналогично п.17 исследуйте зависимость скорости сходимости метода SGD от наличия регуляризации. Обоснуйте, почему так происходит."
   ]
  },
  {
   "cell_type": "code",
   "execution_count": null,
   "metadata": {
    "collapsed": true
   },
   "outputs": [],
   "source": [
    "# Your code here"
   ]
  },
  {
   "cell_type": "markdown",
   "metadata": {},
   "source": [
    "**20. (0.5 балла)** Обучите стандартную линейную регрессию с функционалом качества MSE на обучающей выборке и выведите значение MSPE полученного решения на контрольной выборке. Как оно соотносится с аналогичным результатом для решения, полученного в п.17? Почему?"
   ]
  },
  {
   "cell_type": "code",
   "execution_count": null,
   "metadata": {
    "collapsed": true
   },
   "outputs": [],
   "source": [
    "# Your code here"
   ]
  }
 ],
 "metadata": {
  "anaconda-cloud": {},
  "kernelspec": {
   "display_name": "Python 3",
   "language": "python",
   "name": "python3"
  },
  "language_info": {
   "codemirror_mode": {
    "name": "ipython",
    "version": 3
   },
   "file_extension": ".py",
   "mimetype": "text/x-python",
   "name": "python",
   "nbconvert_exporter": "python",
   "pygments_lexer": "ipython3",
   "version": "3.5.3"
  }
 },
 "nbformat": 4,
 "nbformat_minor": 0
}
