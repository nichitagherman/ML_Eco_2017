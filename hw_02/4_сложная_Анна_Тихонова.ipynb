{
 "cells": [
  {
   "cell_type": "markdown",
   "metadata": {},
   "source": [
    "Выполнила: Тихонова Анна БЭК146 (4 сложная)"
   ]
  },
  {
   "cell_type": "markdown",
   "metadata": {},
   "source": [
    "# Машинное обучение, ФЭН ВШЭ\n",
    "\n",
    "# Практическое задание 2\n",
    "(Основано на материалах курса машинного обучения на фкн)\n",
    "\n",
    "## Общая информация\n",
    "\n",
    "Дата выдачи: 21.09.2017\n",
    "\n",
    "Срок сдачи: 8.10.2017 23:59MSK\n",
    "\n",
    "### О задании\n",
    "\n",
    "Практическое задание 1 посвящено изучению основных библиотек для анализа данных, а также линейных моделей и методов их обучения. Вы научитесь:\n",
    " * применять библиотеку NumPy;\n",
    " * подготавливать данные для обучения линейных моделей;\n",
    " * обучать линейную, Lasso и Ridge-регрессии при помощи модуля scikit-learn;\n",
    " * реализовывать обычный и стохастический градиентные спуски;\n",
    " * обучать линейную регрессию для произвольного функционала качества.\n",
    " \n",
    "\n",
    "### Оценивание и штрафы\n",
    "\n",
    "Каждая из задач имеет определенную «стоимость» (указана в скобках около задачи). Максимально допустимая оценка за работу — 10 баллов. Кроме того, некоторые из заданий являются опциональными (необязательными), однако за их выполнение можно получить дополнительные баллы.\n",
    "\n",
    "\n",
    "Задание выполняется самостоятельно. «Похожие» решения считаются плагиатом и все задействованные студенты (в том числе те, у кого списали) не могут получить за него больше 0 баллов (подробнее о плагиате см. на странице курса). Если вы нашли решение какого-то из заданий (или его часть) в открытом источнике, необходимо указать ссылку на этот источник в отдельном блоке в конце Вашей работы (скорее всего вы будете не единственным, кто это нашел, поэтому чтобы исключить подозрение в плагиате, необходима ссылка на источник). \n",
    "\n",
    "Неэффективная реализация кода может негативно отразиться на оценке.\n",
    "\n",
    "\n",
    "### Формат сдачи\n",
    "Для сдачи задания переименуйте получившийся файл \\*.ipynb в соответствии со следующим форматом: *HW1_Username.ipynb*, где *Username* — Ваша фамилия и инициалы на латинице (например, *HW1_IvanovII.ipynb*). Далее отправьте этот файл на почту курса, указав соответствующую тему (см. вики-страничку курча)."
   ]
  },
  {
   "cell_type": "markdown",
   "metadata": {},
   "source": [
    "## Библиотеки для анализа данных\n",
    "\n",
    "### NumPy\n",
    "\n",
    "Во всех заданиях данного раздела запрещено использовать циклы  и list comprehensions. Под вектором и матрицей в данных заданиях понимается одномерный и двумерный numpy.array соответственно."
   ]
  },
  {
   "cell_type": "code",
   "execution_count": 834,
   "metadata": {
    "collapsed": true
   },
   "outputs": [],
   "source": [
    "import numpy as np"
   ]
  },
  {
   "cell_type": "markdown",
   "metadata": {},
   "source": [
    "**1. (0.3 балла)** Реализуйте функцию, возвращающую максимальный элемент в векторе x среди элементов, перед которыми стоит нулевой. Для x = np.array([6, 2, 0, 3, 0, 0, 5, 7, 0]) ответом является 5. Если нулевых элементов нет, функция должна возвращать None.\n"
   ]
  },
  {
   "cell_type": "code",
   "execution_count": 273,
   "metadata": {
    "collapsed": false
   },
   "outputs": [
    {
     "data": {
      "text/plain": [
       "9"
      ]
     },
     "execution_count": 273,
     "metadata": {},
     "output_type": "execute_result"
    }
   ],
   "source": [
    "X = np.array([1,2,0,9,8,0])\n",
    "max_element(X)"
   ]
  },
  {
   "cell_type": "code",
   "execution_count": 272,
   "metadata": {
    "collapsed": false
   },
   "outputs": [],
   "source": [
    "def max_element(arr):\n",
    "    if arr[-1] == 0:\n",
    "        arr = arr[:-1]\n",
    "    ind = np.where(arr == 0)[0]\n",
    "    ind = np.array(list(ind))\n",
    "    if ind.size:\n",
    "        return np.max(list(map(lambda i: arr[i+1], ind)))"
   ]
  },
  {
   "cell_type": "markdown",
   "metadata": {},
   "source": [
    "**2. (0.3 балла)** Реализуйте функцию, принимающую на вход матрицу и некоторое число и возвращающую ближайший к числу элемент матрицы. Например: для X = np.arange(0,10).reshape((2, 5)) и v = 3.6 ответом будет 4."
   ]
  },
  {
   "cell_type": "code",
   "execution_count": 252,
   "metadata": {
    "collapsed": false
   },
   "outputs": [
    {
     "data": {
      "text/plain": [
       "-5"
      ]
     },
     "execution_count": 252,
     "metadata": {},
     "output_type": "execute_result"
    }
   ],
   "source": [
    "X = np.arange(-10,0).reshape((2, 5))\n",
    "nearest_value(X, -5.4)"
   ]
  },
  {
   "cell_type": "code",
   "execution_count": 251,
   "metadata": {
    "collapsed": false
   },
   "outputs": [],
   "source": [
    "def nearest_value(X, v):\n",
    "    X = X.flatten()\n",
    "    X_dist = abs(X-v)\n",
    "    return X[np.argmin(X_dist)]"
   ]
  },
  {
   "cell_type": "markdown",
   "metadata": {},
   "source": [
    "**3. (0.3 балла)** Реализуйте функцию scale(X), которая принимает на вход матрицу и масштабирует каждый ее столбец (вычитает выборочное среднее и делит на стандартное отклонение). Убедитесь, что в функции не будет происходить деления на ноль. Протестируйте на случайной матрице (для её генерации можно использовать, например, функцию [numpy.random.randint](http://docs.scipy.org/doc/numpy/reference/generated/numpy.random.randint.html))."
   ]
  },
  {
   "cell_type": "code",
   "execution_count": 258,
   "metadata": {
    "collapsed": false
   },
   "outputs": [
    {
     "name": "stdout",
     "output_type": "stream",
     "text": [
      "[[4 2 0 0]\n",
      " [0 4 2 2]]\n",
      "Стандартное отклонение: [ 2.  1.  1.  1.]\n"
     ]
    }
   ],
   "source": [
    "X = np.random.randint(5, size=(2, 4))\n",
    "print(X)\n",
    "print('Стандартное отклонение:', np.std(X, axis=0))"
   ]
  },
  {
   "cell_type": "code",
   "execution_count": 259,
   "metadata": {
    "collapsed": false
   },
   "outputs": [],
   "source": [
    "def scale(X):\n",
    "    Ones = np.ones(X.shape[0])\n",
    "    Means = np.outer(Ones, X.mean(axis=0))\n",
    "    Std = np.outer(Ones, np.std(X, axis=0))\n",
    "    if 0 in Std:\n",
    "        return 'В функции есть деление на ноль, невозможно выполнить масштабирование введенной матрицы.'\n",
    "    else:\n",
    "        return (X-Means)/Std"
   ]
  },
  {
   "cell_type": "code",
   "execution_count": 260,
   "metadata": {
    "collapsed": false
   },
   "outputs": [
    {
     "name": "stdout",
     "output_type": "stream",
     "text": [
      "[[ 1. -1. -1. -1.]\n",
      " [-1.  1.  1.  1.]]\n"
     ]
    }
   ],
   "source": [
    "print(scale(X))"
   ]
  },
  {
   "cell_type": "markdown",
   "metadata": {},
   "source": [
    "**4. (0.3 балла)** Реализуйте функцию, которая для заданной матрицы находит:\n",
    " - определитель\n",
    " - след\n",
    " - наименьший и наибольший элементы\n",
    " - норму Фробениуса\n",
    " - собственные числа\n",
    " - обратную матрицу\n",
    "\n",
    "Для тестирования сгенерируйте матрицу с элементами из нормального распределения $\\mathcal{N}$(10,1)"
   ]
  },
  {
   "cell_type": "code",
   "execution_count": 269,
   "metadata": {
    "collapsed": false
   },
   "outputs": [
    {
     "name": "stdout",
     "output_type": "stream",
     "text": [
      "[[  9.18130084   9.57306921  11.60729434  10.93926223  10.73951246]\n",
      " [ 10.3060133   10.23586768  10.06600234  10.80223407  10.86563424]\n",
      " [  9.03392307   8.59188074  10.11652796  10.98819623   9.49309821]\n",
      " [  9.8138192   11.86175607  10.35343237  10.71289141  10.43783668]\n",
      " [ 10.93498912   9.91330077  10.44243015  10.99235696   9.69748505]]\n"
     ]
    }
   ],
   "source": [
    "X = np.random.normal(10, 1, size = (5,5))\n",
    "print(X)"
   ]
  },
  {
   "cell_type": "code",
   "execution_count": 270,
   "metadata": {
    "collapsed": false
   },
   "outputs": [
    {
     "data": {
      "text/plain": [
       "('Определитель:',\n",
       " 98.890756126006707,\n",
       " 'След:',\n",
       " 49.94407293717866,\n",
       " 'Наим.эл-т:',\n",
       " 8.5918807444700036,\n",
       " 'Наиб.эл-т:',\n",
       " 11.861756071789893,\n",
       " 'Норма Фробениуса:',\n",
       " 51.68226390416428,\n",
       " 'Собственные числа:',\n",
       " array([ 51.53697362+0.j        ,   0.39190301+1.08642411j,\n",
       "          0.39190301-1.08642411j,  -1.18835335+0.16224263j,\n",
       "         -1.18835335-0.16224263j]),\n",
       " 'Обратная матрица:',\n",
       " array([[-0.03647232,  0.18277857, -0.40788859, -0.29012743,  0.54716444],\n",
       "        [-0.12065036, -0.25575591, -0.04178743,  0.47081219, -0.04567085],\n",
       "        [ 0.63072099, -0.54367137, -0.41935376, -0.04525829,  0.36989625],\n",
       "        [-0.56440876, -0.16132207,  1.00089494,  0.1507413 , -0.33623826],\n",
       "        [ 0.12506237,  0.82364278, -0.18031618, -0.27627351, -0.48435786]]))"
      ]
     },
     "execution_count": 270,
     "metadata": {},
     "output_type": "execute_result"
    }
   ],
   "source": [
    "get_stats(X)"
   ]
  },
  {
   "cell_type": "code",
   "execution_count": 262,
   "metadata": {
    "collapsed": false
   },
   "outputs": [],
   "source": [
    "def get_stats(X):\n",
    "    return ('Определитель:', np.linalg.det(X), 'След:', np.trace(X) ,'Наим.эл-т:', np.min(X), 'Наиб.эл-т:', np.max(X), 'Норма Фробениуса:', np.linalg.norm(X, ord='fro'), 'Собственные числа:', np.linalg.eigvals(X), 'Обратная матрица:', np.linalg.inv(X))"
   ]
  },
  {
   "cell_type": "markdown",
   "metadata": {},
   "source": [
    "**5. (0.3 балла)** Повторите 100 раз следующий эксперимент: сгенерируйте две матрицы размера 10×10 из стандартного нормального распределения, перемножьте их (как матрицы) и найдите максимальный элемент. Какое среднее значение по экспериментам у максимальных элементов? 95-процентная квантиль?"
   ]
  },
  {
   "cell_type": "code",
   "execution_count": 281,
   "metadata": {
    "collapsed": true
   },
   "outputs": [],
   "source": [
    "dot_matr = []"
   ]
  },
  {
   "cell_type": "code",
   "execution_count": 282,
   "metadata": {
    "collapsed": false
   },
   "outputs": [],
   "source": [
    "for exp_num in range(100):\n",
    "    X = np.random.normal(0, 1, size = (10,10))\n",
    "    Y = np.random.normal(0, 1, size = (10,10))\n",
    "    XY = np.dot(X,Y)\n",
    "    dot_matr.append(np.max(XY))"
   ]
  },
  {
   "cell_type": "code",
   "execution_count": 283,
   "metadata": {
    "collapsed": false
   },
   "outputs": [
    {
     "data": {
      "text/plain": [
       "100"
      ]
     },
     "execution_count": 283,
     "metadata": {},
     "output_type": "execute_result"
    }
   ],
   "source": [
    "len(dot_matr)"
   ]
  },
  {
   "cell_type": "code",
   "execution_count": 285,
   "metadata": {
    "collapsed": false
   },
   "outputs": [
    {
     "data": {
      "text/plain": [
       "[5.9976308800465388,\n",
       " 8.0479239455012159,\n",
       " 6.4614051421757592,\n",
       " 6.7723588845207248,\n",
       " 11.77858216471288,\n",
       " 8.9757167260229291,\n",
       " 5.5587422717959925,\n",
       " 8.7484523764162887,\n",
       " 10.138258367453782,\n",
       " 10.02986993513195]"
      ]
     },
     "execution_count": 285,
     "metadata": {},
     "output_type": "execute_result"
    }
   ],
   "source": [
    "dot_matr[:10]"
   ]
  },
  {
   "cell_type": "code",
   "execution_count": 284,
   "metadata": {
    "collapsed": false
   },
   "outputs": [
    {
     "name": "stdout",
     "output_type": "stream",
     "text": [
      "Cреднее значение по экспериментам у максимальных элементов = 8.20932617112\n",
      "95-процентная квантиль = 11.5809254407\n"
     ]
    }
   ],
   "source": [
    "print('Cреднее значение по экспериментам у максимальных элементов =', np.mean(dot_matr))\n",
    "print('95-процентная квантиль =', np.percentile(dot_matr, 95))"
   ]
  },
  {
   "cell_type": "markdown",
   "metadata": {},
   "source": [
    "## Линейная регрессия\n",
    "\n",
    "В этой части мы разберемся с линейной регрессией, способами её обучения и измерением качества ее прогнозов. \n",
    "\n",
    "Будем рассматривать данные по авиарейсам в США за январь-апрель 2008 года для предсказания времени задержки отправления рейса в минутах (DepDelay). Отметим, что под задержкой подразумевается не только опоздание рейса относительно планируемого времени вылета, но и отправление до планируемого времени.\n",
    "\n",
    "\n",
    "[Данные](https://www.dropbox.com/s/dvfitn93obn0rql/2008.csv?dl=0) и их [описание](http://stat-computing.org/dataexpo/2009/the-data.html)\n",
    "\n"
   ]
  },
  {
   "cell_type": "markdown",
   "metadata": {},
   "source": [
    "Name \tDescription\n",
    "\n",
    "-  \tYear \t1987-2008\n",
    "-  \tMonth \t1-12\n",
    "-  \tDayofMonth \t1-31\n",
    "-  \tDayOfWeek \t1 (Monday) - 7 (Sunday)\n",
    "-  \tDepTime \tactual departure time (local, hhmm)\n",
    "-  \tCRSDepTime \tscheduled departure time (local, hhmm)\n",
    "-  \tArrTime \tactual arrival time (local, hhmm)\n",
    "-  \tCRSArrTime \tscheduled arrival time (local, hhmm)\n",
    "-  \tUniqueCarrier \tunique carrier code\n",
    "-  \tFlightNum \tflight number\n",
    "-  \tTailNum \tplane tail number\n",
    "-  \tActualElapsedTime \tin minutes\n",
    "-  \tCRSElapsedTime \tin minutes\n",
    "-  \tAirTime \tin minutes\n",
    "-  \tArrDelay \tarrival delay, in minutes\n",
    "-  \tDepDelay \tdeparture delay, in minutes\n",
    "-  \tOrigin \torigin IATA airport code\n",
    "-  \tDest \tdestination IATA airport code\n",
    "-  \tDistance \tin miles\n",
    "-  \tTaxiIn \ttaxi in time, in minutes\n",
    "-  \tTaxiOut \ttaxi out time in minutes\n",
    "-  \tCancelled \twas the flight cancelled?\n",
    "-  \tCancellationCode \treason for cancellation (A = carrier, B = weather, C = NAS, D = security)\n",
    "-  \tDiverted \t1 = yes, 0 = no\n",
    "-  \tCarrierDelay \tin minutes\n",
    "-  \tWeatherDelay \tin minutes\n",
    "-  \tNASDelay \tin minutes\n",
    "-  \tSecurityDelay \tin minutes\n",
    "-  \tLateAircraftDelay \tin minutes"
   ]
  },
  {
   "cell_type": "markdown",
   "metadata": {},
   "source": [
    "### Подготовка данных\n",
    "\n",
    "**6. (0.75 балла)** Считайте выборку из файла при помощи функции pd.read_csv и ответьте на вопросы\n"
   ]
  },
  {
   "cell_type": "code",
   "execution_count": 560,
   "metadata": {
    "collapsed": false,
    "scrolled": true
   },
   "outputs": [],
   "source": [
    "import pandas as pd"
   ]
  },
  {
   "cell_type": "code",
   "execution_count": 561,
   "metadata": {
    "collapsed": true
   },
   "outputs": [],
   "source": [
    "data = pd.read_csv('2008.csv')"
   ]
  },
  {
   "cell_type": "code",
   "execution_count": 562,
   "metadata": {
    "collapsed": false
   },
   "outputs": [
    {
     "data": {
      "text/html": [
       "<div>\n",
       "<style>\n",
       "    .dataframe thead tr:only-child th {\n",
       "        text-align: right;\n",
       "    }\n",
       "\n",
       "    .dataframe thead th {\n",
       "        text-align: left;\n",
       "    }\n",
       "\n",
       "    .dataframe tbody tr th {\n",
       "        vertical-align: top;\n",
       "    }\n",
       "</style>\n",
       "<table border=\"1\" class=\"dataframe\">\n",
       "  <thead>\n",
       "    <tr style=\"text-align: right;\">\n",
       "      <th></th>\n",
       "      <th>Year</th>\n",
       "      <th>Month</th>\n",
       "      <th>DayofMonth</th>\n",
       "      <th>DayOfWeek</th>\n",
       "      <th>DepTime</th>\n",
       "      <th>CRSDepTime</th>\n",
       "      <th>ArrTime</th>\n",
       "      <th>CRSArrTime</th>\n",
       "      <th>UniqueCarrier</th>\n",
       "      <th>FlightNum</th>\n",
       "      <th>...</th>\n",
       "      <th>TaxiIn</th>\n",
       "      <th>TaxiOut</th>\n",
       "      <th>Cancelled</th>\n",
       "      <th>CancellationCode</th>\n",
       "      <th>Diverted</th>\n",
       "      <th>CarrierDelay</th>\n",
       "      <th>WeatherDelay</th>\n",
       "      <th>NASDelay</th>\n",
       "      <th>SecurityDelay</th>\n",
       "      <th>LateAircraftDelay</th>\n",
       "    </tr>\n",
       "  </thead>\n",
       "  <tbody>\n",
       "    <tr>\n",
       "      <th>0</th>\n",
       "      <td>2008</td>\n",
       "      <td>6</td>\n",
       "      <td>18</td>\n",
       "      <td>3</td>\n",
       "      <td>2111.0</td>\n",
       "      <td>2055</td>\n",
       "      <td>2308.0</td>\n",
       "      <td>2300</td>\n",
       "      <td>WN</td>\n",
       "      <td>242</td>\n",
       "      <td>...</td>\n",
       "      <td>3.0</td>\n",
       "      <td>8.0</td>\n",
       "      <td>0</td>\n",
       "      <td>NaN</td>\n",
       "      <td>0</td>\n",
       "      <td>NaN</td>\n",
       "      <td>NaN</td>\n",
       "      <td>NaN</td>\n",
       "      <td>NaN</td>\n",
       "      <td>NaN</td>\n",
       "    </tr>\n",
       "    <tr>\n",
       "      <th>1</th>\n",
       "      <td>2008</td>\n",
       "      <td>6</td>\n",
       "      <td>4</td>\n",
       "      <td>3</td>\n",
       "      <td>1426.0</td>\n",
       "      <td>1410</td>\n",
       "      <td>1730.0</td>\n",
       "      <td>1728</td>\n",
       "      <td>XE</td>\n",
       "      <td>2380</td>\n",
       "      <td>...</td>\n",
       "      <td>4.0</td>\n",
       "      <td>12.0</td>\n",
       "      <td>0</td>\n",
       "      <td>NaN</td>\n",
       "      <td>0</td>\n",
       "      <td>NaN</td>\n",
       "      <td>NaN</td>\n",
       "      <td>NaN</td>\n",
       "      <td>NaN</td>\n",
       "      <td>NaN</td>\n",
       "    </tr>\n",
       "    <tr>\n",
       "      <th>2</th>\n",
       "      <td>2008</td>\n",
       "      <td>8</td>\n",
       "      <td>3</td>\n",
       "      <td>7</td>\n",
       "      <td>1143.0</td>\n",
       "      <td>1145</td>\n",
       "      <td>1501.0</td>\n",
       "      <td>1520</td>\n",
       "      <td>WN</td>\n",
       "      <td>1769</td>\n",
       "      <td>...</td>\n",
       "      <td>4.0</td>\n",
       "      <td>9.0</td>\n",
       "      <td>0</td>\n",
       "      <td>NaN</td>\n",
       "      <td>0</td>\n",
       "      <td>NaN</td>\n",
       "      <td>NaN</td>\n",
       "      <td>NaN</td>\n",
       "      <td>NaN</td>\n",
       "      <td>NaN</td>\n",
       "    </tr>\n",
       "    <tr>\n",
       "      <th>3</th>\n",
       "      <td>2008</td>\n",
       "      <td>1</td>\n",
       "      <td>23</td>\n",
       "      <td>3</td>\n",
       "      <td>1141.0</td>\n",
       "      <td>1144</td>\n",
       "      <td>1323.0</td>\n",
       "      <td>1335</td>\n",
       "      <td>OO</td>\n",
       "      <td>3802</td>\n",
       "      <td>...</td>\n",
       "      <td>4.0</td>\n",
       "      <td>19.0</td>\n",
       "      <td>0</td>\n",
       "      <td>NaN</td>\n",
       "      <td>0</td>\n",
       "      <td>NaN</td>\n",
       "      <td>NaN</td>\n",
       "      <td>NaN</td>\n",
       "      <td>NaN</td>\n",
       "      <td>NaN</td>\n",
       "    </tr>\n",
       "    <tr>\n",
       "      <th>4</th>\n",
       "      <td>2008</td>\n",
       "      <td>5</td>\n",
       "      <td>4</td>\n",
       "      <td>7</td>\n",
       "      <td>815.0</td>\n",
       "      <td>820</td>\n",
       "      <td>1243.0</td>\n",
       "      <td>1300</td>\n",
       "      <td>WN</td>\n",
       "      <td>399</td>\n",
       "      <td>...</td>\n",
       "      <td>4.0</td>\n",
       "      <td>8.0</td>\n",
       "      <td>0</td>\n",
       "      <td>NaN</td>\n",
       "      <td>0</td>\n",
       "      <td>NaN</td>\n",
       "      <td>NaN</td>\n",
       "      <td>NaN</td>\n",
       "      <td>NaN</td>\n",
       "      <td>NaN</td>\n",
       "    </tr>\n",
       "  </tbody>\n",
       "</table>\n",
       "<p>5 rows × 29 columns</p>\n",
       "</div>"
      ],
      "text/plain": [
       "   Year  Month  DayofMonth  DayOfWeek  DepTime  CRSDepTime  ArrTime  \\\n",
       "0  2008      6          18          3   2111.0        2055   2308.0   \n",
       "1  2008      6           4          3   1426.0        1410   1730.0   \n",
       "2  2008      8           3          7   1143.0        1145   1501.0   \n",
       "3  2008      1          23          3   1141.0        1144   1323.0   \n",
       "4  2008      5           4          7    815.0         820   1243.0   \n",
       "\n",
       "   CRSArrTime UniqueCarrier  FlightNum        ...         TaxiIn  TaxiOut  \\\n",
       "0        2300            WN        242        ...            3.0      8.0   \n",
       "1        1728            XE       2380        ...            4.0     12.0   \n",
       "2        1520            WN       1769        ...            4.0      9.0   \n",
       "3        1335            OO       3802        ...            4.0     19.0   \n",
       "4        1300            WN        399        ...            4.0      8.0   \n",
       "\n",
       "   Cancelled  CancellationCode  Diverted  CarrierDelay WeatherDelay NASDelay  \\\n",
       "0          0               NaN         0           NaN          NaN      NaN   \n",
       "1          0               NaN         0           NaN          NaN      NaN   \n",
       "2          0               NaN         0           NaN          NaN      NaN   \n",
       "3          0               NaN         0           NaN          NaN      NaN   \n",
       "4          0               NaN         0           NaN          NaN      NaN   \n",
       "\n",
       "   SecurityDelay  LateAircraftDelay  \n",
       "0            NaN                NaN  \n",
       "1            NaN                NaN  \n",
       "2            NaN                NaN  \n",
       "3            NaN                NaN  \n",
       "4            NaN                NaN  \n",
       "\n",
       "[5 rows x 29 columns]"
      ]
     },
     "execution_count": 562,
     "metadata": {},
     "output_type": "execute_result"
    }
   ],
   "source": [
    "data.head()"
   ]
  },
  {
   "cell_type": "markdown",
   "metadata": {},
   "source": [
    "Так как целевой признак это DepDelay, то поставим его первым столбцом, чтобы было удобно анализировать данные."
   ]
  },
  {
   "cell_type": "code",
   "execution_count": 563,
   "metadata": {
    "collapsed": true
   },
   "outputs": [],
   "source": [
    "data = data[['DepDelay', 'Year', 'Month', 'DayofMonth', 'DayOfWeek', 'DepTime', 'CRSDepTime',\n",
    "       'ArrTime', 'CRSArrTime', 'UniqueCarrier', 'FlightNum', 'TailNum',\n",
    "       'ActualElapsedTime', 'CRSElapsedTime', 'AirTime', 'ArrDelay', 'Origin', 'Dest', 'Distance', 'TaxiIn', 'TaxiOut',\n",
    "       'Cancelled', 'CancellationCode', 'Diverted', 'CarrierDelay',\n",
    "       'WeatherDelay', 'NASDelay', 'SecurityDelay', 'LateAircraftDelay']]"
   ]
  },
  {
   "cell_type": "code",
   "execution_count": 564,
   "metadata": {
    "collapsed": false
   },
   "outputs": [
    {
     "data": {
      "text/html": [
       "<div>\n",
       "<style>\n",
       "    .dataframe thead tr:only-child th {\n",
       "        text-align: right;\n",
       "    }\n",
       "\n",
       "    .dataframe thead th {\n",
       "        text-align: left;\n",
       "    }\n",
       "\n",
       "    .dataframe tbody tr th {\n",
       "        vertical-align: top;\n",
       "    }\n",
       "</style>\n",
       "<table border=\"1\" class=\"dataframe\">\n",
       "  <thead>\n",
       "    <tr style=\"text-align: right;\">\n",
       "      <th></th>\n",
       "      <th>DepDelay</th>\n",
       "      <th>Year</th>\n",
       "      <th>Month</th>\n",
       "      <th>DayofMonth</th>\n",
       "      <th>DayOfWeek</th>\n",
       "      <th>DepTime</th>\n",
       "      <th>CRSDepTime</th>\n",
       "      <th>ArrTime</th>\n",
       "      <th>CRSArrTime</th>\n",
       "      <th>UniqueCarrier</th>\n",
       "      <th>...</th>\n",
       "      <th>TaxiIn</th>\n",
       "      <th>TaxiOut</th>\n",
       "      <th>Cancelled</th>\n",
       "      <th>CancellationCode</th>\n",
       "      <th>Diverted</th>\n",
       "      <th>CarrierDelay</th>\n",
       "      <th>WeatherDelay</th>\n",
       "      <th>NASDelay</th>\n",
       "      <th>SecurityDelay</th>\n",
       "      <th>LateAircraftDelay</th>\n",
       "    </tr>\n",
       "  </thead>\n",
       "  <tbody>\n",
       "    <tr>\n",
       "      <th>0</th>\n",
       "      <td>16.0</td>\n",
       "      <td>2008</td>\n",
       "      <td>6</td>\n",
       "      <td>18</td>\n",
       "      <td>3</td>\n",
       "      <td>2111.0</td>\n",
       "      <td>2055</td>\n",
       "      <td>2308.0</td>\n",
       "      <td>2300</td>\n",
       "      <td>WN</td>\n",
       "      <td>...</td>\n",
       "      <td>3.0</td>\n",
       "      <td>8.0</td>\n",
       "      <td>0</td>\n",
       "      <td>NaN</td>\n",
       "      <td>0</td>\n",
       "      <td>NaN</td>\n",
       "      <td>NaN</td>\n",
       "      <td>NaN</td>\n",
       "      <td>NaN</td>\n",
       "      <td>NaN</td>\n",
       "    </tr>\n",
       "    <tr>\n",
       "      <th>1</th>\n",
       "      <td>16.0</td>\n",
       "      <td>2008</td>\n",
       "      <td>6</td>\n",
       "      <td>4</td>\n",
       "      <td>3</td>\n",
       "      <td>1426.0</td>\n",
       "      <td>1410</td>\n",
       "      <td>1730.0</td>\n",
       "      <td>1728</td>\n",
       "      <td>XE</td>\n",
       "      <td>...</td>\n",
       "      <td>4.0</td>\n",
       "      <td>12.0</td>\n",
       "      <td>0</td>\n",
       "      <td>NaN</td>\n",
       "      <td>0</td>\n",
       "      <td>NaN</td>\n",
       "      <td>NaN</td>\n",
       "      <td>NaN</td>\n",
       "      <td>NaN</td>\n",
       "      <td>NaN</td>\n",
       "    </tr>\n",
       "    <tr>\n",
       "      <th>2</th>\n",
       "      <td>-2.0</td>\n",
       "      <td>2008</td>\n",
       "      <td>8</td>\n",
       "      <td>3</td>\n",
       "      <td>7</td>\n",
       "      <td>1143.0</td>\n",
       "      <td>1145</td>\n",
       "      <td>1501.0</td>\n",
       "      <td>1520</td>\n",
       "      <td>WN</td>\n",
       "      <td>...</td>\n",
       "      <td>4.0</td>\n",
       "      <td>9.0</td>\n",
       "      <td>0</td>\n",
       "      <td>NaN</td>\n",
       "      <td>0</td>\n",
       "      <td>NaN</td>\n",
       "      <td>NaN</td>\n",
       "      <td>NaN</td>\n",
       "      <td>NaN</td>\n",
       "      <td>NaN</td>\n",
       "    </tr>\n",
       "    <tr>\n",
       "      <th>3</th>\n",
       "      <td>-3.0</td>\n",
       "      <td>2008</td>\n",
       "      <td>1</td>\n",
       "      <td>23</td>\n",
       "      <td>3</td>\n",
       "      <td>1141.0</td>\n",
       "      <td>1144</td>\n",
       "      <td>1323.0</td>\n",
       "      <td>1335</td>\n",
       "      <td>OO</td>\n",
       "      <td>...</td>\n",
       "      <td>4.0</td>\n",
       "      <td>19.0</td>\n",
       "      <td>0</td>\n",
       "      <td>NaN</td>\n",
       "      <td>0</td>\n",
       "      <td>NaN</td>\n",
       "      <td>NaN</td>\n",
       "      <td>NaN</td>\n",
       "      <td>NaN</td>\n",
       "      <td>NaN</td>\n",
       "    </tr>\n",
       "    <tr>\n",
       "      <th>4</th>\n",
       "      <td>-5.0</td>\n",
       "      <td>2008</td>\n",
       "      <td>5</td>\n",
       "      <td>4</td>\n",
       "      <td>7</td>\n",
       "      <td>815.0</td>\n",
       "      <td>820</td>\n",
       "      <td>1243.0</td>\n",
       "      <td>1300</td>\n",
       "      <td>WN</td>\n",
       "      <td>...</td>\n",
       "      <td>4.0</td>\n",
       "      <td>8.0</td>\n",
       "      <td>0</td>\n",
       "      <td>NaN</td>\n",
       "      <td>0</td>\n",
       "      <td>NaN</td>\n",
       "      <td>NaN</td>\n",
       "      <td>NaN</td>\n",
       "      <td>NaN</td>\n",
       "      <td>NaN</td>\n",
       "    </tr>\n",
       "  </tbody>\n",
       "</table>\n",
       "<p>5 rows × 29 columns</p>\n",
       "</div>"
      ],
      "text/plain": [
       "   DepDelay  Year  Month  DayofMonth  DayOfWeek  DepTime  CRSDepTime  ArrTime  \\\n",
       "0      16.0  2008      6          18          3   2111.0        2055   2308.0   \n",
       "1      16.0  2008      6           4          3   1426.0        1410   1730.0   \n",
       "2      -2.0  2008      8           3          7   1143.0        1145   1501.0   \n",
       "3      -3.0  2008      1          23          3   1141.0        1144   1323.0   \n",
       "4      -5.0  2008      5           4          7    815.0         820   1243.0   \n",
       "\n",
       "   CRSArrTime UniqueCarrier        ...          TaxiIn TaxiOut  Cancelled  \\\n",
       "0        2300            WN        ...             3.0     8.0          0   \n",
       "1        1728            XE        ...             4.0    12.0          0   \n",
       "2        1520            WN        ...             4.0     9.0          0   \n",
       "3        1335            OO        ...             4.0    19.0          0   \n",
       "4        1300            WN        ...             4.0     8.0          0   \n",
       "\n",
       "   CancellationCode  Diverted  CarrierDelay WeatherDelay NASDelay  \\\n",
       "0               NaN         0           NaN          NaN      NaN   \n",
       "1               NaN         0           NaN          NaN      NaN   \n",
       "2               NaN         0           NaN          NaN      NaN   \n",
       "3               NaN         0           NaN          NaN      NaN   \n",
       "4               NaN         0           NaN          NaN      NaN   \n",
       "\n",
       "   SecurityDelay  LateAircraftDelay  \n",
       "0            NaN                NaN  \n",
       "1            NaN                NaN  \n",
       "2            NaN                NaN  \n",
       "3            NaN                NaN  \n",
       "4            NaN                NaN  \n",
       "\n",
       "[5 rows x 29 columns]"
      ]
     },
     "execution_count": 564,
     "metadata": {},
     "output_type": "execute_result"
    }
   ],
   "source": [
    "data.head()"
   ]
  },
  {
   "cell_type": "markdown",
   "metadata": {},
   "source": [
    "- Имеются ли в данных пропущенные значения?"
   ]
  },
  {
   "cell_type": "code",
   "execution_count": 565,
   "metadata": {
    "collapsed": false
   },
   "outputs": [
    {
     "name": "stdout",
     "output_type": "stream",
     "text": [
      "Всего наблюдений: 70000\n"
     ]
    }
   ],
   "source": [
    "print('Всего наблюдений:', len(data))"
   ]
  },
  {
   "cell_type": "markdown",
   "metadata": {},
   "source": [
    "Метод count считает количество значений в столбцах кроме NaN и None, а значит с его помощью можно быстро посмотреть, сколько есть не пропущенных значений для каждого признака."
   ]
  },
  {
   "cell_type": "markdown",
   "metadata": {},
   "source": [
    "По каждому признаку ненулевых наблюдений:"
   ]
  },
  {
   "cell_type": "code",
   "execution_count": 566,
   "metadata": {
    "collapsed": false
   },
   "outputs": [
    {
     "data": {
      "text/plain": [
       "DepDelay             68601\n",
       "Year                 70000\n",
       "Month                70000\n",
       "DayofMonth           70000\n",
       "DayOfWeek            70000\n",
       "DepTime              68601\n",
       "CRSDepTime           70000\n",
       "ArrTime              68444\n",
       "CRSArrTime           70000\n",
       "UniqueCarrier        70000\n",
       "FlightNum            70000\n",
       "TailNum              69180\n",
       "ActualElapsedTime    68418\n",
       "CRSElapsedTime       69991\n",
       "AirTime              68418\n",
       "ArrDelay             68418\n",
       "Origin               70000\n",
       "Dest                 70000\n",
       "Distance             70000\n",
       "TaxiIn               68444\n",
       "TaxiOut              68594\n",
       "Cancelled            70000\n",
       "CancellationCode      1411\n",
       "Diverted             70000\n",
       "CarrierDelay         15253\n",
       "WeatherDelay         15253\n",
       "NASDelay             15253\n",
       "SecurityDelay        15253\n",
       "LateAircraftDelay    15253\n",
       "dtype: int64"
      ]
     },
     "execution_count": 566,
     "metadata": {},
     "output_type": "execute_result"
    }
   ],
   "source": [
    "data.count()"
   ]
  },
  {
   "cell_type": "markdown",
   "metadata": {},
   "source": [
    "Видно, что NaN или None значений наблюдений в некоторых признаках меньше, чем 70000, что говорит о наличии пропусков в данных."
   ]
  },
  {
   "cell_type": "markdown",
   "metadata": {},
   "source": [
    "Для наглядности выведем количество нулевых наблюдений по каждому признаку:"
   ]
  },
  {
   "cell_type": "code",
   "execution_count": 567,
   "metadata": {
    "collapsed": false
   },
   "outputs": [
    {
     "name": "stdout",
     "output_type": "stream",
     "text": [
      "DepDelay              1399\n",
      "Year                     0\n",
      "Month                    0\n",
      "DayofMonth               0\n",
      "DayOfWeek                0\n",
      "DepTime               1399\n",
      "CRSDepTime               0\n",
      "ArrTime               1556\n",
      "CRSArrTime               0\n",
      "UniqueCarrier            0\n",
      "FlightNum                0\n",
      "TailNum                820\n",
      "ActualElapsedTime     1582\n",
      "CRSElapsedTime           9\n",
      "AirTime               1582\n",
      "ArrDelay              1582\n",
      "Origin                   0\n",
      "Dest                     0\n",
      "Distance                 0\n",
      "TaxiIn                1556\n",
      "TaxiOut               1406\n",
      "Cancelled                0\n",
      "CancellationCode     68589\n",
      "Diverted                 0\n",
      "CarrierDelay         54747\n",
      "WeatherDelay         54747\n",
      "NASDelay             54747\n",
      "SecurityDelay        54747\n",
      "LateAircraftDelay    54747\n",
      "dtype: int64\n"
     ]
    }
   ],
   "source": [
    "null = len(data) - data.count()\n",
    "print(null)"
   ]
  },
  {
   "cell_type": "markdown",
   "metadata": {},
   "source": [
    "- Сколько всего пропущенных элементов в таблице \"объект-признак\"?"
   ]
  },
  {
   "cell_type": "code",
   "execution_count": 568,
   "metadata": {
    "collapsed": false
   },
   "outputs": [
    {
     "name": "stdout",
     "output_type": "stream",
     "text": [
      "Всего пропущенных значений: 355215\n"
     ]
    }
   ],
   "source": [
    "print('Всего пропущенных значений:', null.sum())"
   ]
  },
  {
   "cell_type": "markdown",
   "metadata": {},
   "source": [
    "- Сколько объектов имеют хотя бы один пропуск?"
   ]
  },
  {
   "cell_type": "markdown",
   "metadata": {},
   "source": [
    "Сначала определим, где в таблице есть нулевые значения:"
   ]
  },
  {
   "cell_type": "code",
   "execution_count": 569,
   "metadata": {
    "collapsed": false
   },
   "outputs": [],
   "source": [
    "n = data.isnull()"
   ]
  },
  {
   "cell_type": "markdown",
   "metadata": {
    "collapsed": true
   },
   "source": [
    "Посчитаем количество пропусков по строкам:"
   ]
  },
  {
   "cell_type": "code",
   "execution_count": 570,
   "metadata": {
    "collapsed": false
   },
   "outputs": [
    {
     "data": {
      "text/plain": [
       "70000"
      ]
     },
     "execution_count": 570,
     "metadata": {},
     "output_type": "execute_result"
    }
   ],
   "source": [
    "n.any(axis=1).sum()"
   ]
  },
  {
   "cell_type": "markdown",
   "metadata": {},
   "source": [
    "Таким образом, мы видим, что все объкты в выборке имеют хотя бы один пропуск!"
   ]
  },
  {
   "cell_type": "markdown",
   "metadata": {},
   "source": [
    "- Сколько признаков имеют хотя бы одно пропущенное значение?"
   ]
  },
  {
   "cell_type": "markdown",
   "metadata": {},
   "source": [
    "А теперь посчитаем по столбцам:"
   ]
  },
  {
   "cell_type": "code",
   "execution_count": 571,
   "metadata": {
    "collapsed": false
   },
   "outputs": [
    {
     "data": {
      "text/plain": [
       "16"
      ]
     },
     "execution_count": 571,
     "metadata": {},
     "output_type": "execute_result"
    }
   ],
   "source": [
    "n.any(axis=0).sum()"
   ]
  },
  {
   "cell_type": "markdown",
   "metadata": {},
   "source": [
    "Можно посмотреть, какие именно признаки имеют пропуски:"
   ]
  },
  {
   "cell_type": "code",
   "execution_count": 572,
   "metadata": {
    "collapsed": false
   },
   "outputs": [
    {
     "name": "stdout",
     "output_type": "stream",
     "text": [
      "DepDelay 1399\n",
      "DepTime 1399\n",
      "ArrTime 1556\n",
      "TailNum 820\n",
      "ActualElapsedTime 1582\n",
      "CRSElapsedTime 9\n",
      "AirTime 1582\n",
      "ArrDelay 1582\n",
      "TaxiIn 1556\n",
      "TaxiOut 1406\n",
      "CancellationCode 68589\n",
      "CarrierDelay 54747\n",
      "WeatherDelay 54747\n",
      "NASDelay 54747\n",
      "SecurityDelay 54747\n",
      "LateAircraftDelay 54747\n"
     ]
    }
   ],
   "source": [
    "for i in data:\n",
    "    if len(data) - data[i].count() > 0:\n",
    "        print(i, len(data) - data[i].count())"
   ]
  },
  {
   "cell_type": "markdown",
   "metadata": {},
   "source": [
    "Как вы понимаете, также не имеет смысла рассматривать при решении поставленной задачи объекты с пропущенным значением целевой переменной. В связи с этим ответьте на следующие вопросы и выполните соответствующие действия:\n",
    "- Имеются ли пропущенные значения в целевой переменной?"
   ]
  },
  {
   "cell_type": "code",
   "execution_count": 573,
   "metadata": {
    "collapsed": false
   },
   "outputs": [
    {
     "name": "stdout",
     "output_type": "stream",
     "text": [
      "Целевая переменная имеет 1399 пропущенных значений\n"
     ]
    }
   ],
   "source": [
    "print('Целевая переменная имеет', len(data) - data['DepDelay'].count(), 'пропущенных значений')"
   ]
  },
  {
   "cell_type": "markdown",
   "metadata": {},
   "source": [
    "- Проанализируйте объекты с пропущенными значениями целевой переменной. Чем вызвано это явление? Что их объединяет? Можно ли в связи с этим, на ваш взгляд, исключить какие-то признаки из рассмотрения? Обоснуйте свою точку зрения."
   ]
  },
  {
   "cell_type": "code",
   "execution_count": 574,
   "metadata": {
    "collapsed": false
   },
   "outputs": [
    {
     "data": {
      "text/html": [
       "<div>\n",
       "<style>\n",
       "    .dataframe thead tr:only-child th {\n",
       "        text-align: right;\n",
       "    }\n",
       "\n",
       "    .dataframe thead th {\n",
       "        text-align: left;\n",
       "    }\n",
       "\n",
       "    .dataframe tbody tr th {\n",
       "        vertical-align: top;\n",
       "    }\n",
       "</style>\n",
       "<table border=\"1\" class=\"dataframe\">\n",
       "  <thead>\n",
       "    <tr style=\"text-align: right;\">\n",
       "      <th></th>\n",
       "      <th>DepDelay</th>\n",
       "      <th>Year</th>\n",
       "      <th>Month</th>\n",
       "      <th>DayofMonth</th>\n",
       "      <th>DayOfWeek</th>\n",
       "      <th>DepTime</th>\n",
       "      <th>CRSDepTime</th>\n",
       "      <th>ArrTime</th>\n",
       "      <th>CRSArrTime</th>\n",
       "      <th>UniqueCarrier</th>\n",
       "      <th>...</th>\n",
       "      <th>TaxiIn</th>\n",
       "      <th>TaxiOut</th>\n",
       "      <th>Cancelled</th>\n",
       "      <th>CancellationCode</th>\n",
       "      <th>Diverted</th>\n",
       "      <th>CarrierDelay</th>\n",
       "      <th>WeatherDelay</th>\n",
       "      <th>NASDelay</th>\n",
       "      <th>SecurityDelay</th>\n",
       "      <th>LateAircraftDelay</th>\n",
       "    </tr>\n",
       "  </thead>\n",
       "  <tbody>\n",
       "    <tr>\n",
       "      <th>11</th>\n",
       "      <td>NaN</td>\n",
       "      <td>2008</td>\n",
       "      <td>3</td>\n",
       "      <td>6</td>\n",
       "      <td>4</td>\n",
       "      <td>NaN</td>\n",
       "      <td>1605</td>\n",
       "      <td>NaN</td>\n",
       "      <td>1940</td>\n",
       "      <td>AA</td>\n",
       "      <td>...</td>\n",
       "      <td>NaN</td>\n",
       "      <td>NaN</td>\n",
       "      <td>1</td>\n",
       "      <td>B</td>\n",
       "      <td>0</td>\n",
       "      <td>NaN</td>\n",
       "      <td>NaN</td>\n",
       "      <td>NaN</td>\n",
       "      <td>NaN</td>\n",
       "      <td>NaN</td>\n",
       "    </tr>\n",
       "    <tr>\n",
       "      <th>78</th>\n",
       "      <td>NaN</td>\n",
       "      <td>2008</td>\n",
       "      <td>1</td>\n",
       "      <td>19</td>\n",
       "      <td>6</td>\n",
       "      <td>NaN</td>\n",
       "      <td>750</td>\n",
       "      <td>NaN</td>\n",
       "      <td>930</td>\n",
       "      <td>EV</td>\n",
       "      <td>...</td>\n",
       "      <td>NaN</td>\n",
       "      <td>NaN</td>\n",
       "      <td>1</td>\n",
       "      <td>B</td>\n",
       "      <td>0</td>\n",
       "      <td>NaN</td>\n",
       "      <td>NaN</td>\n",
       "      <td>NaN</td>\n",
       "      <td>NaN</td>\n",
       "      <td>NaN</td>\n",
       "    </tr>\n",
       "    <tr>\n",
       "      <th>103</th>\n",
       "      <td>NaN</td>\n",
       "      <td>2008</td>\n",
       "      <td>7</td>\n",
       "      <td>24</td>\n",
       "      <td>4</td>\n",
       "      <td>NaN</td>\n",
       "      <td>1230</td>\n",
       "      <td>NaN</td>\n",
       "      <td>1355</td>\n",
       "      <td>FL</td>\n",
       "      <td>...</td>\n",
       "      <td>NaN</td>\n",
       "      <td>NaN</td>\n",
       "      <td>1</td>\n",
       "      <td>A</td>\n",
       "      <td>0</td>\n",
       "      <td>NaN</td>\n",
       "      <td>NaN</td>\n",
       "      <td>NaN</td>\n",
       "      <td>NaN</td>\n",
       "      <td>NaN</td>\n",
       "    </tr>\n",
       "    <tr>\n",
       "      <th>112</th>\n",
       "      <td>NaN</td>\n",
       "      <td>2008</td>\n",
       "      <td>2</td>\n",
       "      <td>4</td>\n",
       "      <td>1</td>\n",
       "      <td>NaN</td>\n",
       "      <td>620</td>\n",
       "      <td>NaN</td>\n",
       "      <td>758</td>\n",
       "      <td>NW</td>\n",
       "      <td>...</td>\n",
       "      <td>NaN</td>\n",
       "      <td>NaN</td>\n",
       "      <td>1</td>\n",
       "      <td>B</td>\n",
       "      <td>0</td>\n",
       "      <td>NaN</td>\n",
       "      <td>NaN</td>\n",
       "      <td>NaN</td>\n",
       "      <td>NaN</td>\n",
       "      <td>NaN</td>\n",
       "    </tr>\n",
       "    <tr>\n",
       "      <th>128</th>\n",
       "      <td>NaN</td>\n",
       "      <td>2008</td>\n",
       "      <td>1</td>\n",
       "      <td>21</td>\n",
       "      <td>1</td>\n",
       "      <td>NaN</td>\n",
       "      <td>1838</td>\n",
       "      <td>NaN</td>\n",
       "      <td>2005</td>\n",
       "      <td>UA</td>\n",
       "      <td>...</td>\n",
       "      <td>NaN</td>\n",
       "      <td>NaN</td>\n",
       "      <td>1</td>\n",
       "      <td>A</td>\n",
       "      <td>0</td>\n",
       "      <td>NaN</td>\n",
       "      <td>NaN</td>\n",
       "      <td>NaN</td>\n",
       "      <td>NaN</td>\n",
       "      <td>NaN</td>\n",
       "    </tr>\n",
       "    <tr>\n",
       "      <th>194</th>\n",
       "      <td>NaN</td>\n",
       "      <td>2008</td>\n",
       "      <td>1</td>\n",
       "      <td>28</td>\n",
       "      <td>1</td>\n",
       "      <td>NaN</td>\n",
       "      <td>1640</td>\n",
       "      <td>NaN</td>\n",
       "      <td>1719</td>\n",
       "      <td>UA</td>\n",
       "      <td>...</td>\n",
       "      <td>NaN</td>\n",
       "      <td>NaN</td>\n",
       "      <td>1</td>\n",
       "      <td>C</td>\n",
       "      <td>0</td>\n",
       "      <td>NaN</td>\n",
       "      <td>NaN</td>\n",
       "      <td>NaN</td>\n",
       "      <td>NaN</td>\n",
       "      <td>NaN</td>\n",
       "    </tr>\n",
       "    <tr>\n",
       "      <th>204</th>\n",
       "      <td>NaN</td>\n",
       "      <td>2008</td>\n",
       "      <td>6</td>\n",
       "      <td>13</td>\n",
       "      <td>5</td>\n",
       "      <td>NaN</td>\n",
       "      <td>1229</td>\n",
       "      <td>NaN</td>\n",
       "      <td>1421</td>\n",
       "      <td>OH</td>\n",
       "      <td>...</td>\n",
       "      <td>NaN</td>\n",
       "      <td>NaN</td>\n",
       "      <td>1</td>\n",
       "      <td>A</td>\n",
       "      <td>0</td>\n",
       "      <td>NaN</td>\n",
       "      <td>NaN</td>\n",
       "      <td>NaN</td>\n",
       "      <td>NaN</td>\n",
       "      <td>NaN</td>\n",
       "    </tr>\n",
       "    <tr>\n",
       "      <th>236</th>\n",
       "      <td>NaN</td>\n",
       "      <td>2008</td>\n",
       "      <td>7</td>\n",
       "      <td>19</td>\n",
       "      <td>6</td>\n",
       "      <td>NaN</td>\n",
       "      <td>544</td>\n",
       "      <td>NaN</td>\n",
       "      <td>917</td>\n",
       "      <td>OO</td>\n",
       "      <td>...</td>\n",
       "      <td>NaN</td>\n",
       "      <td>NaN</td>\n",
       "      <td>1</td>\n",
       "      <td>A</td>\n",
       "      <td>0</td>\n",
       "      <td>NaN</td>\n",
       "      <td>NaN</td>\n",
       "      <td>NaN</td>\n",
       "      <td>NaN</td>\n",
       "      <td>NaN</td>\n",
       "    </tr>\n",
       "    <tr>\n",
       "      <th>257</th>\n",
       "      <td>NaN</td>\n",
       "      <td>2008</td>\n",
       "      <td>4</td>\n",
       "      <td>19</td>\n",
       "      <td>6</td>\n",
       "      <td>NaN</td>\n",
       "      <td>1345</td>\n",
       "      <td>NaN</td>\n",
       "      <td>1435</td>\n",
       "      <td>AA</td>\n",
       "      <td>...</td>\n",
       "      <td>NaN</td>\n",
       "      <td>NaN</td>\n",
       "      <td>1</td>\n",
       "      <td>A</td>\n",
       "      <td>0</td>\n",
       "      <td>NaN</td>\n",
       "      <td>NaN</td>\n",
       "      <td>NaN</td>\n",
       "      <td>NaN</td>\n",
       "      <td>NaN</td>\n",
       "    </tr>\n",
       "    <tr>\n",
       "      <th>267</th>\n",
       "      <td>NaN</td>\n",
       "      <td>2008</td>\n",
       "      <td>9</td>\n",
       "      <td>23</td>\n",
       "      <td>2</td>\n",
       "      <td>NaN</td>\n",
       "      <td>1400</td>\n",
       "      <td>NaN</td>\n",
       "      <td>1515</td>\n",
       "      <td>WN</td>\n",
       "      <td>...</td>\n",
       "      <td>NaN</td>\n",
       "      <td>NaN</td>\n",
       "      <td>1</td>\n",
       "      <td>A</td>\n",
       "      <td>0</td>\n",
       "      <td>NaN</td>\n",
       "      <td>NaN</td>\n",
       "      <td>NaN</td>\n",
       "      <td>NaN</td>\n",
       "      <td>NaN</td>\n",
       "    </tr>\n",
       "    <tr>\n",
       "      <th>269</th>\n",
       "      <td>NaN</td>\n",
       "      <td>2008</td>\n",
       "      <td>2</td>\n",
       "      <td>17</td>\n",
       "      <td>7</td>\n",
       "      <td>NaN</td>\n",
       "      <td>1345</td>\n",
       "      <td>NaN</td>\n",
       "      <td>1535</td>\n",
       "      <td>MQ</td>\n",
       "      <td>...</td>\n",
       "      <td>NaN</td>\n",
       "      <td>NaN</td>\n",
       "      <td>1</td>\n",
       "      <td>B</td>\n",
       "      <td>0</td>\n",
       "      <td>NaN</td>\n",
       "      <td>NaN</td>\n",
       "      <td>NaN</td>\n",
       "      <td>NaN</td>\n",
       "      <td>NaN</td>\n",
       "    </tr>\n",
       "    <tr>\n",
       "      <th>288</th>\n",
       "      <td>NaN</td>\n",
       "      <td>2008</td>\n",
       "      <td>9</td>\n",
       "      <td>14</td>\n",
       "      <td>7</td>\n",
       "      <td>NaN</td>\n",
       "      <td>1115</td>\n",
       "      <td>NaN</td>\n",
       "      <td>1222</td>\n",
       "      <td>US</td>\n",
       "      <td>...</td>\n",
       "      <td>NaN</td>\n",
       "      <td>NaN</td>\n",
       "      <td>1</td>\n",
       "      <td>A</td>\n",
       "      <td>0</td>\n",
       "      <td>NaN</td>\n",
       "      <td>NaN</td>\n",
       "      <td>NaN</td>\n",
       "      <td>NaN</td>\n",
       "      <td>NaN</td>\n",
       "    </tr>\n",
       "    <tr>\n",
       "      <th>352</th>\n",
       "      <td>NaN</td>\n",
       "      <td>2008</td>\n",
       "      <td>1</td>\n",
       "      <td>20</td>\n",
       "      <td>7</td>\n",
       "      <td>NaN</td>\n",
       "      <td>2023</td>\n",
       "      <td>NaN</td>\n",
       "      <td>2122</td>\n",
       "      <td>AS</td>\n",
       "      <td>...</td>\n",
       "      <td>NaN</td>\n",
       "      <td>NaN</td>\n",
       "      <td>1</td>\n",
       "      <td>A</td>\n",
       "      <td>0</td>\n",
       "      <td>NaN</td>\n",
       "      <td>NaN</td>\n",
       "      <td>NaN</td>\n",
       "      <td>NaN</td>\n",
       "      <td>NaN</td>\n",
       "    </tr>\n",
       "    <tr>\n",
       "      <th>375</th>\n",
       "      <td>NaN</td>\n",
       "      <td>2008</td>\n",
       "      <td>12</td>\n",
       "      <td>22</td>\n",
       "      <td>1</td>\n",
       "      <td>NaN</td>\n",
       "      <td>935</td>\n",
       "      <td>NaN</td>\n",
       "      <td>1208</td>\n",
       "      <td>DL</td>\n",
       "      <td>...</td>\n",
       "      <td>NaN</td>\n",
       "      <td>NaN</td>\n",
       "      <td>1</td>\n",
       "      <td>A</td>\n",
       "      <td>0</td>\n",
       "      <td>NaN</td>\n",
       "      <td>NaN</td>\n",
       "      <td>NaN</td>\n",
       "      <td>NaN</td>\n",
       "      <td>NaN</td>\n",
       "    </tr>\n",
       "    <tr>\n",
       "      <th>423</th>\n",
       "      <td>NaN</td>\n",
       "      <td>2008</td>\n",
       "      <td>1</td>\n",
       "      <td>23</td>\n",
       "      <td>3</td>\n",
       "      <td>NaN</td>\n",
       "      <td>1640</td>\n",
       "      <td>NaN</td>\n",
       "      <td>1730</td>\n",
       "      <td>MQ</td>\n",
       "      <td>...</td>\n",
       "      <td>NaN</td>\n",
       "      <td>NaN</td>\n",
       "      <td>1</td>\n",
       "      <td>C</td>\n",
       "      <td>0</td>\n",
       "      <td>NaN</td>\n",
       "      <td>NaN</td>\n",
       "      <td>NaN</td>\n",
       "      <td>NaN</td>\n",
       "      <td>NaN</td>\n",
       "    </tr>\n",
       "    <tr>\n",
       "      <th>428</th>\n",
       "      <td>NaN</td>\n",
       "      <td>2008</td>\n",
       "      <td>10</td>\n",
       "      <td>3</td>\n",
       "      <td>5</td>\n",
       "      <td>NaN</td>\n",
       "      <td>1229</td>\n",
       "      <td>NaN</td>\n",
       "      <td>1341</td>\n",
       "      <td>DL</td>\n",
       "      <td>...</td>\n",
       "      <td>NaN</td>\n",
       "      <td>NaN</td>\n",
       "      <td>1</td>\n",
       "      <td>C</td>\n",
       "      <td>0</td>\n",
       "      <td>NaN</td>\n",
       "      <td>NaN</td>\n",
       "      <td>NaN</td>\n",
       "      <td>NaN</td>\n",
       "      <td>NaN</td>\n",
       "    </tr>\n",
       "    <tr>\n",
       "      <th>429</th>\n",
       "      <td>NaN</td>\n",
       "      <td>2008</td>\n",
       "      <td>3</td>\n",
       "      <td>6</td>\n",
       "      <td>4</td>\n",
       "      <td>NaN</td>\n",
       "      <td>1820</td>\n",
       "      <td>NaN</td>\n",
       "      <td>1934</td>\n",
       "      <td>AA</td>\n",
       "      <td>...</td>\n",
       "      <td>NaN</td>\n",
       "      <td>NaN</td>\n",
       "      <td>1</td>\n",
       "      <td>B</td>\n",
       "      <td>0</td>\n",
       "      <td>NaN</td>\n",
       "      <td>NaN</td>\n",
       "      <td>NaN</td>\n",
       "      <td>NaN</td>\n",
       "      <td>NaN</td>\n",
       "    </tr>\n",
       "    <tr>\n",
       "      <th>430</th>\n",
       "      <td>NaN</td>\n",
       "      <td>2008</td>\n",
       "      <td>8</td>\n",
       "      <td>5</td>\n",
       "      <td>2</td>\n",
       "      <td>NaN</td>\n",
       "      <td>810</td>\n",
       "      <td>NaN</td>\n",
       "      <td>911</td>\n",
       "      <td>YV</td>\n",
       "      <td>...</td>\n",
       "      <td>NaN</td>\n",
       "      <td>NaN</td>\n",
       "      <td>1</td>\n",
       "      <td>A</td>\n",
       "      <td>0</td>\n",
       "      <td>NaN</td>\n",
       "      <td>NaN</td>\n",
       "      <td>NaN</td>\n",
       "      <td>NaN</td>\n",
       "      <td>NaN</td>\n",
       "    </tr>\n",
       "    <tr>\n",
       "      <th>445</th>\n",
       "      <td>NaN</td>\n",
       "      <td>2008</td>\n",
       "      <td>2</td>\n",
       "      <td>11</td>\n",
       "      <td>1</td>\n",
       "      <td>NaN</td>\n",
       "      <td>635</td>\n",
       "      <td>NaN</td>\n",
       "      <td>912</td>\n",
       "      <td>YV</td>\n",
       "      <td>...</td>\n",
       "      <td>NaN</td>\n",
       "      <td>NaN</td>\n",
       "      <td>1</td>\n",
       "      <td>A</td>\n",
       "      <td>0</td>\n",
       "      <td>NaN</td>\n",
       "      <td>NaN</td>\n",
       "      <td>NaN</td>\n",
       "      <td>NaN</td>\n",
       "      <td>NaN</td>\n",
       "    </tr>\n",
       "    <tr>\n",
       "      <th>526</th>\n",
       "      <td>NaN</td>\n",
       "      <td>2008</td>\n",
       "      <td>12</td>\n",
       "      <td>30</td>\n",
       "      <td>2</td>\n",
       "      <td>NaN</td>\n",
       "      <td>825</td>\n",
       "      <td>NaN</td>\n",
       "      <td>930</td>\n",
       "      <td>AA</td>\n",
       "      <td>...</td>\n",
       "      <td>NaN</td>\n",
       "      <td>NaN</td>\n",
       "      <td>1</td>\n",
       "      <td>A</td>\n",
       "      <td>0</td>\n",
       "      <td>NaN</td>\n",
       "      <td>NaN</td>\n",
       "      <td>NaN</td>\n",
       "      <td>NaN</td>\n",
       "      <td>NaN</td>\n",
       "    </tr>\n",
       "    <tr>\n",
       "      <th>554</th>\n",
       "      <td>NaN</td>\n",
       "      <td>2008</td>\n",
       "      <td>12</td>\n",
       "      <td>27</td>\n",
       "      <td>6</td>\n",
       "      <td>NaN</td>\n",
       "      <td>700</td>\n",
       "      <td>NaN</td>\n",
       "      <td>955</td>\n",
       "      <td>9E</td>\n",
       "      <td>...</td>\n",
       "      <td>NaN</td>\n",
       "      <td>NaN</td>\n",
       "      <td>1</td>\n",
       "      <td>A</td>\n",
       "      <td>0</td>\n",
       "      <td>NaN</td>\n",
       "      <td>NaN</td>\n",
       "      <td>NaN</td>\n",
       "      <td>NaN</td>\n",
       "      <td>NaN</td>\n",
       "    </tr>\n",
       "    <tr>\n",
       "      <th>564</th>\n",
       "      <td>NaN</td>\n",
       "      <td>2008</td>\n",
       "      <td>9</td>\n",
       "      <td>12</td>\n",
       "      <td>5</td>\n",
       "      <td>NaN</td>\n",
       "      <td>1630</td>\n",
       "      <td>NaN</td>\n",
       "      <td>1739</td>\n",
       "      <td>CO</td>\n",
       "      <td>...</td>\n",
       "      <td>NaN</td>\n",
       "      <td>NaN</td>\n",
       "      <td>1</td>\n",
       "      <td>B</td>\n",
       "      <td>0</td>\n",
       "      <td>NaN</td>\n",
       "      <td>NaN</td>\n",
       "      <td>NaN</td>\n",
       "      <td>NaN</td>\n",
       "      <td>NaN</td>\n",
       "    </tr>\n",
       "    <tr>\n",
       "      <th>572</th>\n",
       "      <td>NaN</td>\n",
       "      <td>2008</td>\n",
       "      <td>9</td>\n",
       "      <td>13</td>\n",
       "      <td>6</td>\n",
       "      <td>NaN</td>\n",
       "      <td>1439</td>\n",
       "      <td>NaN</td>\n",
       "      <td>1610</td>\n",
       "      <td>NW</td>\n",
       "      <td>...</td>\n",
       "      <td>NaN</td>\n",
       "      <td>NaN</td>\n",
       "      <td>1</td>\n",
       "      <td>B</td>\n",
       "      <td>0</td>\n",
       "      <td>NaN</td>\n",
       "      <td>NaN</td>\n",
       "      <td>NaN</td>\n",
       "      <td>NaN</td>\n",
       "      <td>NaN</td>\n",
       "    </tr>\n",
       "    <tr>\n",
       "      <th>583</th>\n",
       "      <td>NaN</td>\n",
       "      <td>2008</td>\n",
       "      <td>3</td>\n",
       "      <td>3</td>\n",
       "      <td>1</td>\n",
       "      <td>NaN</td>\n",
       "      <td>1745</td>\n",
       "      <td>NaN</td>\n",
       "      <td>1959</td>\n",
       "      <td>XE</td>\n",
       "      <td>...</td>\n",
       "      <td>NaN</td>\n",
       "      <td>NaN</td>\n",
       "      <td>1</td>\n",
       "      <td>C</td>\n",
       "      <td>0</td>\n",
       "      <td>NaN</td>\n",
       "      <td>NaN</td>\n",
       "      <td>NaN</td>\n",
       "      <td>NaN</td>\n",
       "      <td>NaN</td>\n",
       "    </tr>\n",
       "    <tr>\n",
       "      <th>648</th>\n",
       "      <td>NaN</td>\n",
       "      <td>2008</td>\n",
       "      <td>1</td>\n",
       "      <td>10</td>\n",
       "      <td>4</td>\n",
       "      <td>NaN</td>\n",
       "      <td>2101</td>\n",
       "      <td>NaN</td>\n",
       "      <td>2140</td>\n",
       "      <td>OO</td>\n",
       "      <td>...</td>\n",
       "      <td>NaN</td>\n",
       "      <td>NaN</td>\n",
       "      <td>1</td>\n",
       "      <td>C</td>\n",
       "      <td>0</td>\n",
       "      <td>NaN</td>\n",
       "      <td>NaN</td>\n",
       "      <td>NaN</td>\n",
       "      <td>NaN</td>\n",
       "      <td>NaN</td>\n",
       "    </tr>\n",
       "    <tr>\n",
       "      <th>675</th>\n",
       "      <td>NaN</td>\n",
       "      <td>2008</td>\n",
       "      <td>1</td>\n",
       "      <td>29</td>\n",
       "      <td>2</td>\n",
       "      <td>NaN</td>\n",
       "      <td>700</td>\n",
       "      <td>NaN</td>\n",
       "      <td>803</td>\n",
       "      <td>NW</td>\n",
       "      <td>...</td>\n",
       "      <td>NaN</td>\n",
       "      <td>NaN</td>\n",
       "      <td>1</td>\n",
       "      <td>B</td>\n",
       "      <td>0</td>\n",
       "      <td>NaN</td>\n",
       "      <td>NaN</td>\n",
       "      <td>NaN</td>\n",
       "      <td>NaN</td>\n",
       "      <td>NaN</td>\n",
       "    </tr>\n",
       "    <tr>\n",
       "      <th>720</th>\n",
       "      <td>NaN</td>\n",
       "      <td>2008</td>\n",
       "      <td>6</td>\n",
       "      <td>29</td>\n",
       "      <td>7</td>\n",
       "      <td>NaN</td>\n",
       "      <td>1500</td>\n",
       "      <td>NaN</td>\n",
       "      <td>1655</td>\n",
       "      <td>MQ</td>\n",
       "      <td>...</td>\n",
       "      <td>NaN</td>\n",
       "      <td>NaN</td>\n",
       "      <td>1</td>\n",
       "      <td>C</td>\n",
       "      <td>0</td>\n",
       "      <td>NaN</td>\n",
       "      <td>NaN</td>\n",
       "      <td>NaN</td>\n",
       "      <td>NaN</td>\n",
       "      <td>NaN</td>\n",
       "    </tr>\n",
       "    <tr>\n",
       "      <th>721</th>\n",
       "      <td>NaN</td>\n",
       "      <td>2008</td>\n",
       "      <td>1</td>\n",
       "      <td>28</td>\n",
       "      <td>1</td>\n",
       "      <td>NaN</td>\n",
       "      <td>1930</td>\n",
       "      <td>NaN</td>\n",
       "      <td>2149</td>\n",
       "      <td>YV</td>\n",
       "      <td>...</td>\n",
       "      <td>NaN</td>\n",
       "      <td>NaN</td>\n",
       "      <td>1</td>\n",
       "      <td>C</td>\n",
       "      <td>0</td>\n",
       "      <td>NaN</td>\n",
       "      <td>NaN</td>\n",
       "      <td>NaN</td>\n",
       "      <td>NaN</td>\n",
       "      <td>NaN</td>\n",
       "    </tr>\n",
       "    <tr>\n",
       "      <th>816</th>\n",
       "      <td>NaN</td>\n",
       "      <td>2008</td>\n",
       "      <td>9</td>\n",
       "      <td>3</td>\n",
       "      <td>3</td>\n",
       "      <td>NaN</td>\n",
       "      <td>1440</td>\n",
       "      <td>NaN</td>\n",
       "      <td>1658</td>\n",
       "      <td>B6</td>\n",
       "      <td>...</td>\n",
       "      <td>NaN</td>\n",
       "      <td>NaN</td>\n",
       "      <td>1</td>\n",
       "      <td>B</td>\n",
       "      <td>0</td>\n",
       "      <td>NaN</td>\n",
       "      <td>NaN</td>\n",
       "      <td>NaN</td>\n",
       "      <td>NaN</td>\n",
       "      <td>NaN</td>\n",
       "    </tr>\n",
       "    <tr>\n",
       "      <th>821</th>\n",
       "      <td>NaN</td>\n",
       "      <td>2008</td>\n",
       "      <td>8</td>\n",
       "      <td>11</td>\n",
       "      <td>1</td>\n",
       "      <td>NaN</td>\n",
       "      <td>50</td>\n",
       "      <td>NaN</td>\n",
       "      <td>529</td>\n",
       "      <td>AS</td>\n",
       "      <td>...</td>\n",
       "      <td>NaN</td>\n",
       "      <td>NaN</td>\n",
       "      <td>1</td>\n",
       "      <td>A</td>\n",
       "      <td>0</td>\n",
       "      <td>NaN</td>\n",
       "      <td>NaN</td>\n",
       "      <td>NaN</td>\n",
       "      <td>NaN</td>\n",
       "      <td>NaN</td>\n",
       "    </tr>\n",
       "    <tr>\n",
       "      <th>...</th>\n",
       "      <td>...</td>\n",
       "      <td>...</td>\n",
       "      <td>...</td>\n",
       "      <td>...</td>\n",
       "      <td>...</td>\n",
       "      <td>...</td>\n",
       "      <td>...</td>\n",
       "      <td>...</td>\n",
       "      <td>...</td>\n",
       "      <td>...</td>\n",
       "      <td>...</td>\n",
       "      <td>...</td>\n",
       "      <td>...</td>\n",
       "      <td>...</td>\n",
       "      <td>...</td>\n",
       "      <td>...</td>\n",
       "      <td>...</td>\n",
       "      <td>...</td>\n",
       "      <td>...</td>\n",
       "      <td>...</td>\n",
       "      <td>...</td>\n",
       "    </tr>\n",
       "    <tr>\n",
       "      <th>69037</th>\n",
       "      <td>NaN</td>\n",
       "      <td>2008</td>\n",
       "      <td>7</td>\n",
       "      <td>11</td>\n",
       "      <td>5</td>\n",
       "      <td>NaN</td>\n",
       "      <td>1225</td>\n",
       "      <td>NaN</td>\n",
       "      <td>1322</td>\n",
       "      <td>9E</td>\n",
       "      <td>...</td>\n",
       "      <td>NaN</td>\n",
       "      <td>NaN</td>\n",
       "      <td>1</td>\n",
       "      <td>C</td>\n",
       "      <td>0</td>\n",
       "      <td>NaN</td>\n",
       "      <td>NaN</td>\n",
       "      <td>NaN</td>\n",
       "      <td>NaN</td>\n",
       "      <td>NaN</td>\n",
       "    </tr>\n",
       "    <tr>\n",
       "      <th>69045</th>\n",
       "      <td>NaN</td>\n",
       "      <td>2008</td>\n",
       "      <td>10</td>\n",
       "      <td>23</td>\n",
       "      <td>4</td>\n",
       "      <td>NaN</td>\n",
       "      <td>1905</td>\n",
       "      <td>NaN</td>\n",
       "      <td>2020</td>\n",
       "      <td>WN</td>\n",
       "      <td>...</td>\n",
       "      <td>NaN</td>\n",
       "      <td>NaN</td>\n",
       "      <td>1</td>\n",
       "      <td>A</td>\n",
       "      <td>0</td>\n",
       "      <td>NaN</td>\n",
       "      <td>NaN</td>\n",
       "      <td>NaN</td>\n",
       "      <td>NaN</td>\n",
       "      <td>NaN</td>\n",
       "    </tr>\n",
       "    <tr>\n",
       "      <th>69046</th>\n",
       "      <td>NaN</td>\n",
       "      <td>2008</td>\n",
       "      <td>8</td>\n",
       "      <td>14</td>\n",
       "      <td>4</td>\n",
       "      <td>NaN</td>\n",
       "      <td>1800</td>\n",
       "      <td>NaN</td>\n",
       "      <td>2133</td>\n",
       "      <td>B6</td>\n",
       "      <td>...</td>\n",
       "      <td>NaN</td>\n",
       "      <td>NaN</td>\n",
       "      <td>1</td>\n",
       "      <td>B</td>\n",
       "      <td>0</td>\n",
       "      <td>NaN</td>\n",
       "      <td>NaN</td>\n",
       "      <td>NaN</td>\n",
       "      <td>NaN</td>\n",
       "      <td>NaN</td>\n",
       "    </tr>\n",
       "    <tr>\n",
       "      <th>69108</th>\n",
       "      <td>NaN</td>\n",
       "      <td>2008</td>\n",
       "      <td>1</td>\n",
       "      <td>30</td>\n",
       "      <td>3</td>\n",
       "      <td>NaN</td>\n",
       "      <td>720</td>\n",
       "      <td>NaN</td>\n",
       "      <td>929</td>\n",
       "      <td>AA</td>\n",
       "      <td>...</td>\n",
       "      <td>NaN</td>\n",
       "      <td>NaN</td>\n",
       "      <td>1</td>\n",
       "      <td>B</td>\n",
       "      <td>0</td>\n",
       "      <td>NaN</td>\n",
       "      <td>NaN</td>\n",
       "      <td>NaN</td>\n",
       "      <td>NaN</td>\n",
       "      <td>NaN</td>\n",
       "    </tr>\n",
       "    <tr>\n",
       "      <th>69130</th>\n",
       "      <td>NaN</td>\n",
       "      <td>2008</td>\n",
       "      <td>3</td>\n",
       "      <td>18</td>\n",
       "      <td>2</td>\n",
       "      <td>NaN</td>\n",
       "      <td>1425</td>\n",
       "      <td>NaN</td>\n",
       "      <td>1644</td>\n",
       "      <td>XE</td>\n",
       "      <td>...</td>\n",
       "      <td>NaN</td>\n",
       "      <td>NaN</td>\n",
       "      <td>1</td>\n",
       "      <td>B</td>\n",
       "      <td>0</td>\n",
       "      <td>NaN</td>\n",
       "      <td>NaN</td>\n",
       "      <td>NaN</td>\n",
       "      <td>NaN</td>\n",
       "      <td>NaN</td>\n",
       "    </tr>\n",
       "    <tr>\n",
       "      <th>69133</th>\n",
       "      <td>NaN</td>\n",
       "      <td>2008</td>\n",
       "      <td>7</td>\n",
       "      <td>1</td>\n",
       "      <td>2</td>\n",
       "      <td>NaN</td>\n",
       "      <td>2024</td>\n",
       "      <td>NaN</td>\n",
       "      <td>2146</td>\n",
       "      <td>UA</td>\n",
       "      <td>...</td>\n",
       "      <td>NaN</td>\n",
       "      <td>NaN</td>\n",
       "      <td>1</td>\n",
       "      <td>A</td>\n",
       "      <td>0</td>\n",
       "      <td>NaN</td>\n",
       "      <td>NaN</td>\n",
       "      <td>NaN</td>\n",
       "      <td>NaN</td>\n",
       "      <td>NaN</td>\n",
       "    </tr>\n",
       "    <tr>\n",
       "      <th>69135</th>\n",
       "      <td>NaN</td>\n",
       "      <td>2008</td>\n",
       "      <td>2</td>\n",
       "      <td>22</td>\n",
       "      <td>5</td>\n",
       "      <td>NaN</td>\n",
       "      <td>1820</td>\n",
       "      <td>NaN</td>\n",
       "      <td>1956</td>\n",
       "      <td>EV</td>\n",
       "      <td>...</td>\n",
       "      <td>NaN</td>\n",
       "      <td>NaN</td>\n",
       "      <td>1</td>\n",
       "      <td>C</td>\n",
       "      <td>0</td>\n",
       "      <td>NaN</td>\n",
       "      <td>NaN</td>\n",
       "      <td>NaN</td>\n",
       "      <td>NaN</td>\n",
       "      <td>NaN</td>\n",
       "    </tr>\n",
       "    <tr>\n",
       "      <th>69136</th>\n",
       "      <td>NaN</td>\n",
       "      <td>2008</td>\n",
       "      <td>7</td>\n",
       "      <td>10</td>\n",
       "      <td>4</td>\n",
       "      <td>NaN</td>\n",
       "      <td>1510</td>\n",
       "      <td>NaN</td>\n",
       "      <td>1648</td>\n",
       "      <td>EV</td>\n",
       "      <td>...</td>\n",
       "      <td>NaN</td>\n",
       "      <td>NaN</td>\n",
       "      <td>1</td>\n",
       "      <td>C</td>\n",
       "      <td>0</td>\n",
       "      <td>NaN</td>\n",
       "      <td>NaN</td>\n",
       "      <td>NaN</td>\n",
       "      <td>NaN</td>\n",
       "      <td>NaN</td>\n",
       "    </tr>\n",
       "    <tr>\n",
       "      <th>69138</th>\n",
       "      <td>NaN</td>\n",
       "      <td>2008</td>\n",
       "      <td>8</td>\n",
       "      <td>15</td>\n",
       "      <td>5</td>\n",
       "      <td>NaN</td>\n",
       "      <td>1755</td>\n",
       "      <td>NaN</td>\n",
       "      <td>1910</td>\n",
       "      <td>XE</td>\n",
       "      <td>...</td>\n",
       "      <td>NaN</td>\n",
       "      <td>NaN</td>\n",
       "      <td>1</td>\n",
       "      <td>B</td>\n",
       "      <td>0</td>\n",
       "      <td>NaN</td>\n",
       "      <td>NaN</td>\n",
       "      <td>NaN</td>\n",
       "      <td>NaN</td>\n",
       "      <td>NaN</td>\n",
       "    </tr>\n",
       "    <tr>\n",
       "      <th>69152</th>\n",
       "      <td>NaN</td>\n",
       "      <td>2008</td>\n",
       "      <td>2</td>\n",
       "      <td>25</td>\n",
       "      <td>1</td>\n",
       "      <td>NaN</td>\n",
       "      <td>1735</td>\n",
       "      <td>NaN</td>\n",
       "      <td>1859</td>\n",
       "      <td>MQ</td>\n",
       "      <td>...</td>\n",
       "      <td>NaN</td>\n",
       "      <td>NaN</td>\n",
       "      <td>1</td>\n",
       "      <td>C</td>\n",
       "      <td>0</td>\n",
       "      <td>NaN</td>\n",
       "      <td>NaN</td>\n",
       "      <td>NaN</td>\n",
       "      <td>NaN</td>\n",
       "      <td>NaN</td>\n",
       "    </tr>\n",
       "    <tr>\n",
       "      <th>69184</th>\n",
       "      <td>NaN</td>\n",
       "      <td>2008</td>\n",
       "      <td>7</td>\n",
       "      <td>13</td>\n",
       "      <td>7</td>\n",
       "      <td>NaN</td>\n",
       "      <td>1119</td>\n",
       "      <td>NaN</td>\n",
       "      <td>1220</td>\n",
       "      <td>OO</td>\n",
       "      <td>...</td>\n",
       "      <td>NaN</td>\n",
       "      <td>NaN</td>\n",
       "      <td>1</td>\n",
       "      <td>A</td>\n",
       "      <td>0</td>\n",
       "      <td>NaN</td>\n",
       "      <td>NaN</td>\n",
       "      <td>NaN</td>\n",
       "      <td>NaN</td>\n",
       "      <td>NaN</td>\n",
       "    </tr>\n",
       "    <tr>\n",
       "      <th>69189</th>\n",
       "      <td>NaN</td>\n",
       "      <td>2008</td>\n",
       "      <td>5</td>\n",
       "      <td>9</td>\n",
       "      <td>5</td>\n",
       "      <td>NaN</td>\n",
       "      <td>1400</td>\n",
       "      <td>NaN</td>\n",
       "      <td>1558</td>\n",
       "      <td>9E</td>\n",
       "      <td>...</td>\n",
       "      <td>NaN</td>\n",
       "      <td>NaN</td>\n",
       "      <td>1</td>\n",
       "      <td>A</td>\n",
       "      <td>0</td>\n",
       "      <td>NaN</td>\n",
       "      <td>NaN</td>\n",
       "      <td>NaN</td>\n",
       "      <td>NaN</td>\n",
       "      <td>NaN</td>\n",
       "    </tr>\n",
       "    <tr>\n",
       "      <th>69249</th>\n",
       "      <td>NaN</td>\n",
       "      <td>2008</td>\n",
       "      <td>8</td>\n",
       "      <td>4</td>\n",
       "      <td>1</td>\n",
       "      <td>NaN</td>\n",
       "      <td>2055</td>\n",
       "      <td>NaN</td>\n",
       "      <td>2345</td>\n",
       "      <td>AA</td>\n",
       "      <td>...</td>\n",
       "      <td>NaN</td>\n",
       "      <td>NaN</td>\n",
       "      <td>1</td>\n",
       "      <td>B</td>\n",
       "      <td>0</td>\n",
       "      <td>NaN</td>\n",
       "      <td>NaN</td>\n",
       "      <td>NaN</td>\n",
       "      <td>NaN</td>\n",
       "      <td>NaN</td>\n",
       "    </tr>\n",
       "    <tr>\n",
       "      <th>69310</th>\n",
       "      <td>NaN</td>\n",
       "      <td>2008</td>\n",
       "      <td>2</td>\n",
       "      <td>22</td>\n",
       "      <td>5</td>\n",
       "      <td>NaN</td>\n",
       "      <td>2030</td>\n",
       "      <td>NaN</td>\n",
       "      <td>2239</td>\n",
       "      <td>FL</td>\n",
       "      <td>...</td>\n",
       "      <td>NaN</td>\n",
       "      <td>NaN</td>\n",
       "      <td>1</td>\n",
       "      <td>A</td>\n",
       "      <td>0</td>\n",
       "      <td>NaN</td>\n",
       "      <td>NaN</td>\n",
       "      <td>NaN</td>\n",
       "      <td>NaN</td>\n",
       "      <td>NaN</td>\n",
       "    </tr>\n",
       "    <tr>\n",
       "      <th>69374</th>\n",
       "      <td>NaN</td>\n",
       "      <td>2008</td>\n",
       "      <td>1</td>\n",
       "      <td>16</td>\n",
       "      <td>3</td>\n",
       "      <td>NaN</td>\n",
       "      <td>1959</td>\n",
       "      <td>NaN</td>\n",
       "      <td>2058</td>\n",
       "      <td>EV</td>\n",
       "      <td>...</td>\n",
       "      <td>NaN</td>\n",
       "      <td>NaN</td>\n",
       "      <td>1</td>\n",
       "      <td>B</td>\n",
       "      <td>0</td>\n",
       "      <td>NaN</td>\n",
       "      <td>NaN</td>\n",
       "      <td>NaN</td>\n",
       "      <td>NaN</td>\n",
       "      <td>NaN</td>\n",
       "    </tr>\n",
       "    <tr>\n",
       "      <th>69540</th>\n",
       "      <td>NaN</td>\n",
       "      <td>2008</td>\n",
       "      <td>3</td>\n",
       "      <td>19</td>\n",
       "      <td>3</td>\n",
       "      <td>NaN</td>\n",
       "      <td>1635</td>\n",
       "      <td>NaN</td>\n",
       "      <td>1758</td>\n",
       "      <td>XE</td>\n",
       "      <td>...</td>\n",
       "      <td>NaN</td>\n",
       "      <td>NaN</td>\n",
       "      <td>1</td>\n",
       "      <td>C</td>\n",
       "      <td>0</td>\n",
       "      <td>NaN</td>\n",
       "      <td>NaN</td>\n",
       "      <td>NaN</td>\n",
       "      <td>NaN</td>\n",
       "      <td>NaN</td>\n",
       "    </tr>\n",
       "    <tr>\n",
       "      <th>69570</th>\n",
       "      <td>NaN</td>\n",
       "      <td>2008</td>\n",
       "      <td>12</td>\n",
       "      <td>17</td>\n",
       "      <td>3</td>\n",
       "      <td>NaN</td>\n",
       "      <td>1030</td>\n",
       "      <td>NaN</td>\n",
       "      <td>1201</td>\n",
       "      <td>US</td>\n",
       "      <td>...</td>\n",
       "      <td>NaN</td>\n",
       "      <td>NaN</td>\n",
       "      <td>1</td>\n",
       "      <td>C</td>\n",
       "      <td>0</td>\n",
       "      <td>NaN</td>\n",
       "      <td>NaN</td>\n",
       "      <td>NaN</td>\n",
       "      <td>NaN</td>\n",
       "      <td>NaN</td>\n",
       "    </tr>\n",
       "    <tr>\n",
       "      <th>69607</th>\n",
       "      <td>NaN</td>\n",
       "      <td>2008</td>\n",
       "      <td>9</td>\n",
       "      <td>26</td>\n",
       "      <td>5</td>\n",
       "      <td>NaN</td>\n",
       "      <td>830</td>\n",
       "      <td>NaN</td>\n",
       "      <td>946</td>\n",
       "      <td>DL</td>\n",
       "      <td>...</td>\n",
       "      <td>NaN</td>\n",
       "      <td>NaN</td>\n",
       "      <td>1</td>\n",
       "      <td>C</td>\n",
       "      <td>0</td>\n",
       "      <td>NaN</td>\n",
       "      <td>NaN</td>\n",
       "      <td>NaN</td>\n",
       "      <td>NaN</td>\n",
       "      <td>NaN</td>\n",
       "    </tr>\n",
       "    <tr>\n",
       "      <th>69672</th>\n",
       "      <td>NaN</td>\n",
       "      <td>2008</td>\n",
       "      <td>12</td>\n",
       "      <td>19</td>\n",
       "      <td>5</td>\n",
       "      <td>NaN</td>\n",
       "      <td>1857</td>\n",
       "      <td>NaN</td>\n",
       "      <td>2010</td>\n",
       "      <td>XE</td>\n",
       "      <td>...</td>\n",
       "      <td>NaN</td>\n",
       "      <td>NaN</td>\n",
       "      <td>1</td>\n",
       "      <td>B</td>\n",
       "      <td>0</td>\n",
       "      <td>NaN</td>\n",
       "      <td>NaN</td>\n",
       "      <td>NaN</td>\n",
       "      <td>NaN</td>\n",
       "      <td>NaN</td>\n",
       "    </tr>\n",
       "    <tr>\n",
       "      <th>69703</th>\n",
       "      <td>NaN</td>\n",
       "      <td>2008</td>\n",
       "      <td>7</td>\n",
       "      <td>18</td>\n",
       "      <td>5</td>\n",
       "      <td>NaN</td>\n",
       "      <td>2005</td>\n",
       "      <td>NaN</td>\n",
       "      <td>2154</td>\n",
       "      <td>UA</td>\n",
       "      <td>...</td>\n",
       "      <td>NaN</td>\n",
       "      <td>NaN</td>\n",
       "      <td>1</td>\n",
       "      <td>A</td>\n",
       "      <td>0</td>\n",
       "      <td>NaN</td>\n",
       "      <td>NaN</td>\n",
       "      <td>NaN</td>\n",
       "      <td>NaN</td>\n",
       "      <td>NaN</td>\n",
       "    </tr>\n",
       "    <tr>\n",
       "      <th>69710</th>\n",
       "      <td>NaN</td>\n",
       "      <td>2008</td>\n",
       "      <td>7</td>\n",
       "      <td>12</td>\n",
       "      <td>6</td>\n",
       "      <td>NaN</td>\n",
       "      <td>1240</td>\n",
       "      <td>NaN</td>\n",
       "      <td>1501</td>\n",
       "      <td>US</td>\n",
       "      <td>...</td>\n",
       "      <td>NaN</td>\n",
       "      <td>NaN</td>\n",
       "      <td>1</td>\n",
       "      <td>A</td>\n",
       "      <td>0</td>\n",
       "      <td>NaN</td>\n",
       "      <td>NaN</td>\n",
       "      <td>NaN</td>\n",
       "      <td>NaN</td>\n",
       "      <td>NaN</td>\n",
       "    </tr>\n",
       "    <tr>\n",
       "      <th>69748</th>\n",
       "      <td>NaN</td>\n",
       "      <td>2008</td>\n",
       "      <td>1</td>\n",
       "      <td>28</td>\n",
       "      <td>1</td>\n",
       "      <td>NaN</td>\n",
       "      <td>1910</td>\n",
       "      <td>NaN</td>\n",
       "      <td>1957</td>\n",
       "      <td>OO</td>\n",
       "      <td>...</td>\n",
       "      <td>NaN</td>\n",
       "      <td>NaN</td>\n",
       "      <td>1</td>\n",
       "      <td>B</td>\n",
       "      <td>0</td>\n",
       "      <td>NaN</td>\n",
       "      <td>NaN</td>\n",
       "      <td>NaN</td>\n",
       "      <td>NaN</td>\n",
       "      <td>NaN</td>\n",
       "    </tr>\n",
       "    <tr>\n",
       "      <th>69752</th>\n",
       "      <td>NaN</td>\n",
       "      <td>2008</td>\n",
       "      <td>1</td>\n",
       "      <td>22</td>\n",
       "      <td>2</td>\n",
       "      <td>NaN</td>\n",
       "      <td>840</td>\n",
       "      <td>NaN</td>\n",
       "      <td>1009</td>\n",
       "      <td>EV</td>\n",
       "      <td>...</td>\n",
       "      <td>NaN</td>\n",
       "      <td>NaN</td>\n",
       "      <td>1</td>\n",
       "      <td>B</td>\n",
       "      <td>0</td>\n",
       "      <td>NaN</td>\n",
       "      <td>NaN</td>\n",
       "      <td>NaN</td>\n",
       "      <td>NaN</td>\n",
       "      <td>NaN</td>\n",
       "    </tr>\n",
       "    <tr>\n",
       "      <th>69755</th>\n",
       "      <td>NaN</td>\n",
       "      <td>2008</td>\n",
       "      <td>6</td>\n",
       "      <td>3</td>\n",
       "      <td>2</td>\n",
       "      <td>NaN</td>\n",
       "      <td>1304</td>\n",
       "      <td>NaN</td>\n",
       "      <td>1435</td>\n",
       "      <td>OO</td>\n",
       "      <td>...</td>\n",
       "      <td>NaN</td>\n",
       "      <td>NaN</td>\n",
       "      <td>1</td>\n",
       "      <td>C</td>\n",
       "      <td>0</td>\n",
       "      <td>NaN</td>\n",
       "      <td>NaN</td>\n",
       "      <td>NaN</td>\n",
       "      <td>NaN</td>\n",
       "      <td>NaN</td>\n",
       "    </tr>\n",
       "    <tr>\n",
       "      <th>69766</th>\n",
       "      <td>NaN</td>\n",
       "      <td>2008</td>\n",
       "      <td>2</td>\n",
       "      <td>12</td>\n",
       "      <td>2</td>\n",
       "      <td>NaN</td>\n",
       "      <td>1123</td>\n",
       "      <td>NaN</td>\n",
       "      <td>1338</td>\n",
       "      <td>US</td>\n",
       "      <td>...</td>\n",
       "      <td>NaN</td>\n",
       "      <td>NaN</td>\n",
       "      <td>1</td>\n",
       "      <td>A</td>\n",
       "      <td>0</td>\n",
       "      <td>NaN</td>\n",
       "      <td>NaN</td>\n",
       "      <td>NaN</td>\n",
       "      <td>NaN</td>\n",
       "      <td>NaN</td>\n",
       "    </tr>\n",
       "    <tr>\n",
       "      <th>69818</th>\n",
       "      <td>NaN</td>\n",
       "      <td>2008</td>\n",
       "      <td>6</td>\n",
       "      <td>9</td>\n",
       "      <td>1</td>\n",
       "      <td>NaN</td>\n",
       "      <td>1645</td>\n",
       "      <td>NaN</td>\n",
       "      <td>1800</td>\n",
       "      <td>MQ</td>\n",
       "      <td>...</td>\n",
       "      <td>NaN</td>\n",
       "      <td>NaN</td>\n",
       "      <td>1</td>\n",
       "      <td>C</td>\n",
       "      <td>0</td>\n",
       "      <td>NaN</td>\n",
       "      <td>NaN</td>\n",
       "      <td>NaN</td>\n",
       "      <td>NaN</td>\n",
       "      <td>NaN</td>\n",
       "    </tr>\n",
       "    <tr>\n",
       "      <th>69836</th>\n",
       "      <td>NaN</td>\n",
       "      <td>2008</td>\n",
       "      <td>1</td>\n",
       "      <td>25</td>\n",
       "      <td>5</td>\n",
       "      <td>NaN</td>\n",
       "      <td>938</td>\n",
       "      <td>NaN</td>\n",
       "      <td>1030</td>\n",
       "      <td>MQ</td>\n",
       "      <td>...</td>\n",
       "      <td>NaN</td>\n",
       "      <td>NaN</td>\n",
       "      <td>1</td>\n",
       "      <td>B</td>\n",
       "      <td>0</td>\n",
       "      <td>NaN</td>\n",
       "      <td>NaN</td>\n",
       "      <td>NaN</td>\n",
       "      <td>NaN</td>\n",
       "      <td>NaN</td>\n",
       "    </tr>\n",
       "    <tr>\n",
       "      <th>69884</th>\n",
       "      <td>NaN</td>\n",
       "      <td>2008</td>\n",
       "      <td>12</td>\n",
       "      <td>26</td>\n",
       "      <td>5</td>\n",
       "      <td>NaN</td>\n",
       "      <td>1935</td>\n",
       "      <td>NaN</td>\n",
       "      <td>2116</td>\n",
       "      <td>NW</td>\n",
       "      <td>...</td>\n",
       "      <td>NaN</td>\n",
       "      <td>NaN</td>\n",
       "      <td>1</td>\n",
       "      <td>B</td>\n",
       "      <td>0</td>\n",
       "      <td>NaN</td>\n",
       "      <td>NaN</td>\n",
       "      <td>NaN</td>\n",
       "      <td>NaN</td>\n",
       "      <td>NaN</td>\n",
       "    </tr>\n",
       "    <tr>\n",
       "      <th>69918</th>\n",
       "      <td>NaN</td>\n",
       "      <td>2008</td>\n",
       "      <td>3</td>\n",
       "      <td>1</td>\n",
       "      <td>6</td>\n",
       "      <td>NaN</td>\n",
       "      <td>600</td>\n",
       "      <td>NaN</td>\n",
       "      <td>742</td>\n",
       "      <td>EV</td>\n",
       "      <td>...</td>\n",
       "      <td>NaN</td>\n",
       "      <td>NaN</td>\n",
       "      <td>1</td>\n",
       "      <td>A</td>\n",
       "      <td>0</td>\n",
       "      <td>NaN</td>\n",
       "      <td>NaN</td>\n",
       "      <td>NaN</td>\n",
       "      <td>NaN</td>\n",
       "      <td>NaN</td>\n",
       "    </tr>\n",
       "    <tr>\n",
       "      <th>69949</th>\n",
       "      <td>NaN</td>\n",
       "      <td>2008</td>\n",
       "      <td>1</td>\n",
       "      <td>21</td>\n",
       "      <td>1</td>\n",
       "      <td>NaN</td>\n",
       "      <td>1630</td>\n",
       "      <td>NaN</td>\n",
       "      <td>1729</td>\n",
       "      <td>MQ</td>\n",
       "      <td>...</td>\n",
       "      <td>NaN</td>\n",
       "      <td>NaN</td>\n",
       "      <td>1</td>\n",
       "      <td>C</td>\n",
       "      <td>0</td>\n",
       "      <td>NaN</td>\n",
       "      <td>NaN</td>\n",
       "      <td>NaN</td>\n",
       "      <td>NaN</td>\n",
       "      <td>NaN</td>\n",
       "    </tr>\n",
       "  </tbody>\n",
       "</table>\n",
       "<p>1399 rows × 29 columns</p>\n",
       "</div>"
      ],
      "text/plain": [
       "       DepDelay  Year  Month  DayofMonth  DayOfWeek  DepTime  CRSDepTime  \\\n",
       "11          NaN  2008      3           6          4      NaN        1605   \n",
       "78          NaN  2008      1          19          6      NaN         750   \n",
       "103         NaN  2008      7          24          4      NaN        1230   \n",
       "112         NaN  2008      2           4          1      NaN         620   \n",
       "128         NaN  2008      1          21          1      NaN        1838   \n",
       "194         NaN  2008      1          28          1      NaN        1640   \n",
       "204         NaN  2008      6          13          5      NaN        1229   \n",
       "236         NaN  2008      7          19          6      NaN         544   \n",
       "257         NaN  2008      4          19          6      NaN        1345   \n",
       "267         NaN  2008      9          23          2      NaN        1400   \n",
       "269         NaN  2008      2          17          7      NaN        1345   \n",
       "288         NaN  2008      9          14          7      NaN        1115   \n",
       "352         NaN  2008      1          20          7      NaN        2023   \n",
       "375         NaN  2008     12          22          1      NaN         935   \n",
       "423         NaN  2008      1          23          3      NaN        1640   \n",
       "428         NaN  2008     10           3          5      NaN        1229   \n",
       "429         NaN  2008      3           6          4      NaN        1820   \n",
       "430         NaN  2008      8           5          2      NaN         810   \n",
       "445         NaN  2008      2          11          1      NaN         635   \n",
       "526         NaN  2008     12          30          2      NaN         825   \n",
       "554         NaN  2008     12          27          6      NaN         700   \n",
       "564         NaN  2008      9          12          5      NaN        1630   \n",
       "572         NaN  2008      9          13          6      NaN        1439   \n",
       "583         NaN  2008      3           3          1      NaN        1745   \n",
       "648         NaN  2008      1          10          4      NaN        2101   \n",
       "675         NaN  2008      1          29          2      NaN         700   \n",
       "720         NaN  2008      6          29          7      NaN        1500   \n",
       "721         NaN  2008      1          28          1      NaN        1930   \n",
       "816         NaN  2008      9           3          3      NaN        1440   \n",
       "821         NaN  2008      8          11          1      NaN          50   \n",
       "...         ...   ...    ...         ...        ...      ...         ...   \n",
       "69037       NaN  2008      7          11          5      NaN        1225   \n",
       "69045       NaN  2008     10          23          4      NaN        1905   \n",
       "69046       NaN  2008      8          14          4      NaN        1800   \n",
       "69108       NaN  2008      1          30          3      NaN         720   \n",
       "69130       NaN  2008      3          18          2      NaN        1425   \n",
       "69133       NaN  2008      7           1          2      NaN        2024   \n",
       "69135       NaN  2008      2          22          5      NaN        1820   \n",
       "69136       NaN  2008      7          10          4      NaN        1510   \n",
       "69138       NaN  2008      8          15          5      NaN        1755   \n",
       "69152       NaN  2008      2          25          1      NaN        1735   \n",
       "69184       NaN  2008      7          13          7      NaN        1119   \n",
       "69189       NaN  2008      5           9          5      NaN        1400   \n",
       "69249       NaN  2008      8           4          1      NaN        2055   \n",
       "69310       NaN  2008      2          22          5      NaN        2030   \n",
       "69374       NaN  2008      1          16          3      NaN        1959   \n",
       "69540       NaN  2008      3          19          3      NaN        1635   \n",
       "69570       NaN  2008     12          17          3      NaN        1030   \n",
       "69607       NaN  2008      9          26          5      NaN         830   \n",
       "69672       NaN  2008     12          19          5      NaN        1857   \n",
       "69703       NaN  2008      7          18          5      NaN        2005   \n",
       "69710       NaN  2008      7          12          6      NaN        1240   \n",
       "69748       NaN  2008      1          28          1      NaN        1910   \n",
       "69752       NaN  2008      1          22          2      NaN         840   \n",
       "69755       NaN  2008      6           3          2      NaN        1304   \n",
       "69766       NaN  2008      2          12          2      NaN        1123   \n",
       "69818       NaN  2008      6           9          1      NaN        1645   \n",
       "69836       NaN  2008      1          25          5      NaN         938   \n",
       "69884       NaN  2008     12          26          5      NaN        1935   \n",
       "69918       NaN  2008      3           1          6      NaN         600   \n",
       "69949       NaN  2008      1          21          1      NaN        1630   \n",
       "\n",
       "       ArrTime  CRSArrTime UniqueCarrier        ...          TaxiIn TaxiOut  \\\n",
       "11         NaN        1940            AA        ...             NaN     NaN   \n",
       "78         NaN         930            EV        ...             NaN     NaN   \n",
       "103        NaN        1355            FL        ...             NaN     NaN   \n",
       "112        NaN         758            NW        ...             NaN     NaN   \n",
       "128        NaN        2005            UA        ...             NaN     NaN   \n",
       "194        NaN        1719            UA        ...             NaN     NaN   \n",
       "204        NaN        1421            OH        ...             NaN     NaN   \n",
       "236        NaN         917            OO        ...             NaN     NaN   \n",
       "257        NaN        1435            AA        ...             NaN     NaN   \n",
       "267        NaN        1515            WN        ...             NaN     NaN   \n",
       "269        NaN        1535            MQ        ...             NaN     NaN   \n",
       "288        NaN        1222            US        ...             NaN     NaN   \n",
       "352        NaN        2122            AS        ...             NaN     NaN   \n",
       "375        NaN        1208            DL        ...             NaN     NaN   \n",
       "423        NaN        1730            MQ        ...             NaN     NaN   \n",
       "428        NaN        1341            DL        ...             NaN     NaN   \n",
       "429        NaN        1934            AA        ...             NaN     NaN   \n",
       "430        NaN         911            YV        ...             NaN     NaN   \n",
       "445        NaN         912            YV        ...             NaN     NaN   \n",
       "526        NaN         930            AA        ...             NaN     NaN   \n",
       "554        NaN         955            9E        ...             NaN     NaN   \n",
       "564        NaN        1739            CO        ...             NaN     NaN   \n",
       "572        NaN        1610            NW        ...             NaN     NaN   \n",
       "583        NaN        1959            XE        ...             NaN     NaN   \n",
       "648        NaN        2140            OO        ...             NaN     NaN   \n",
       "675        NaN         803            NW        ...             NaN     NaN   \n",
       "720        NaN        1655            MQ        ...             NaN     NaN   \n",
       "721        NaN        2149            YV        ...             NaN     NaN   \n",
       "816        NaN        1658            B6        ...             NaN     NaN   \n",
       "821        NaN         529            AS        ...             NaN     NaN   \n",
       "...        ...         ...           ...        ...             ...     ...   \n",
       "69037      NaN        1322            9E        ...             NaN     NaN   \n",
       "69045      NaN        2020            WN        ...             NaN     NaN   \n",
       "69046      NaN        2133            B6        ...             NaN     NaN   \n",
       "69108      NaN         929            AA        ...             NaN     NaN   \n",
       "69130      NaN        1644            XE        ...             NaN     NaN   \n",
       "69133      NaN        2146            UA        ...             NaN     NaN   \n",
       "69135      NaN        1956            EV        ...             NaN     NaN   \n",
       "69136      NaN        1648            EV        ...             NaN     NaN   \n",
       "69138      NaN        1910            XE        ...             NaN     NaN   \n",
       "69152      NaN        1859            MQ        ...             NaN     NaN   \n",
       "69184      NaN        1220            OO        ...             NaN     NaN   \n",
       "69189      NaN        1558            9E        ...             NaN     NaN   \n",
       "69249      NaN        2345            AA        ...             NaN     NaN   \n",
       "69310      NaN        2239            FL        ...             NaN     NaN   \n",
       "69374      NaN        2058            EV        ...             NaN     NaN   \n",
       "69540      NaN        1758            XE        ...             NaN     NaN   \n",
       "69570      NaN        1201            US        ...             NaN     NaN   \n",
       "69607      NaN         946            DL        ...             NaN     NaN   \n",
       "69672      NaN        2010            XE        ...             NaN     NaN   \n",
       "69703      NaN        2154            UA        ...             NaN     NaN   \n",
       "69710      NaN        1501            US        ...             NaN     NaN   \n",
       "69748      NaN        1957            OO        ...             NaN     NaN   \n",
       "69752      NaN        1009            EV        ...             NaN     NaN   \n",
       "69755      NaN        1435            OO        ...             NaN     NaN   \n",
       "69766      NaN        1338            US        ...             NaN     NaN   \n",
       "69818      NaN        1800            MQ        ...             NaN     NaN   \n",
       "69836      NaN        1030            MQ        ...             NaN     NaN   \n",
       "69884      NaN        2116            NW        ...             NaN     NaN   \n",
       "69918      NaN         742            EV        ...             NaN     NaN   \n",
       "69949      NaN        1729            MQ        ...             NaN     NaN   \n",
       "\n",
       "       Cancelled  CancellationCode  Diverted  CarrierDelay WeatherDelay  \\\n",
       "11             1                 B         0           NaN          NaN   \n",
       "78             1                 B         0           NaN          NaN   \n",
       "103            1                 A         0           NaN          NaN   \n",
       "112            1                 B         0           NaN          NaN   \n",
       "128            1                 A         0           NaN          NaN   \n",
       "194            1                 C         0           NaN          NaN   \n",
       "204            1                 A         0           NaN          NaN   \n",
       "236            1                 A         0           NaN          NaN   \n",
       "257            1                 A         0           NaN          NaN   \n",
       "267            1                 A         0           NaN          NaN   \n",
       "269            1                 B         0           NaN          NaN   \n",
       "288            1                 A         0           NaN          NaN   \n",
       "352            1                 A         0           NaN          NaN   \n",
       "375            1                 A         0           NaN          NaN   \n",
       "423            1                 C         0           NaN          NaN   \n",
       "428            1                 C         0           NaN          NaN   \n",
       "429            1                 B         0           NaN          NaN   \n",
       "430            1                 A         0           NaN          NaN   \n",
       "445            1                 A         0           NaN          NaN   \n",
       "526            1                 A         0           NaN          NaN   \n",
       "554            1                 A         0           NaN          NaN   \n",
       "564            1                 B         0           NaN          NaN   \n",
       "572            1                 B         0           NaN          NaN   \n",
       "583            1                 C         0           NaN          NaN   \n",
       "648            1                 C         0           NaN          NaN   \n",
       "675            1                 B         0           NaN          NaN   \n",
       "720            1                 C         0           NaN          NaN   \n",
       "721            1                 C         0           NaN          NaN   \n",
       "816            1                 B         0           NaN          NaN   \n",
       "821            1                 A         0           NaN          NaN   \n",
       "...          ...               ...       ...           ...          ...   \n",
       "69037          1                 C         0           NaN          NaN   \n",
       "69045          1                 A         0           NaN          NaN   \n",
       "69046          1                 B         0           NaN          NaN   \n",
       "69108          1                 B         0           NaN          NaN   \n",
       "69130          1                 B         0           NaN          NaN   \n",
       "69133          1                 A         0           NaN          NaN   \n",
       "69135          1                 C         0           NaN          NaN   \n",
       "69136          1                 C         0           NaN          NaN   \n",
       "69138          1                 B         0           NaN          NaN   \n",
       "69152          1                 C         0           NaN          NaN   \n",
       "69184          1                 A         0           NaN          NaN   \n",
       "69189          1                 A         0           NaN          NaN   \n",
       "69249          1                 B         0           NaN          NaN   \n",
       "69310          1                 A         0           NaN          NaN   \n",
       "69374          1                 B         0           NaN          NaN   \n",
       "69540          1                 C         0           NaN          NaN   \n",
       "69570          1                 C         0           NaN          NaN   \n",
       "69607          1                 C         0           NaN          NaN   \n",
       "69672          1                 B         0           NaN          NaN   \n",
       "69703          1                 A         0           NaN          NaN   \n",
       "69710          1                 A         0           NaN          NaN   \n",
       "69748          1                 B         0           NaN          NaN   \n",
       "69752          1                 B         0           NaN          NaN   \n",
       "69755          1                 C         0           NaN          NaN   \n",
       "69766          1                 A         0           NaN          NaN   \n",
       "69818          1                 C         0           NaN          NaN   \n",
       "69836          1                 B         0           NaN          NaN   \n",
       "69884          1                 B         0           NaN          NaN   \n",
       "69918          1                 A         0           NaN          NaN   \n",
       "69949          1                 C         0           NaN          NaN   \n",
       "\n",
       "      NASDelay  SecurityDelay  LateAircraftDelay  \n",
       "11         NaN            NaN                NaN  \n",
       "78         NaN            NaN                NaN  \n",
       "103        NaN            NaN                NaN  \n",
       "112        NaN            NaN                NaN  \n",
       "128        NaN            NaN                NaN  \n",
       "194        NaN            NaN                NaN  \n",
       "204        NaN            NaN                NaN  \n",
       "236        NaN            NaN                NaN  \n",
       "257        NaN            NaN                NaN  \n",
       "267        NaN            NaN                NaN  \n",
       "269        NaN            NaN                NaN  \n",
       "288        NaN            NaN                NaN  \n",
       "352        NaN            NaN                NaN  \n",
       "375        NaN            NaN                NaN  \n",
       "423        NaN            NaN                NaN  \n",
       "428        NaN            NaN                NaN  \n",
       "429        NaN            NaN                NaN  \n",
       "430        NaN            NaN                NaN  \n",
       "445        NaN            NaN                NaN  \n",
       "526        NaN            NaN                NaN  \n",
       "554        NaN            NaN                NaN  \n",
       "564        NaN            NaN                NaN  \n",
       "572        NaN            NaN                NaN  \n",
       "583        NaN            NaN                NaN  \n",
       "648        NaN            NaN                NaN  \n",
       "675        NaN            NaN                NaN  \n",
       "720        NaN            NaN                NaN  \n",
       "721        NaN            NaN                NaN  \n",
       "816        NaN            NaN                NaN  \n",
       "821        NaN            NaN                NaN  \n",
       "...        ...            ...                ...  \n",
       "69037      NaN            NaN                NaN  \n",
       "69045      NaN            NaN                NaN  \n",
       "69046      NaN            NaN                NaN  \n",
       "69108      NaN            NaN                NaN  \n",
       "69130      NaN            NaN                NaN  \n",
       "69133      NaN            NaN                NaN  \n",
       "69135      NaN            NaN                NaN  \n",
       "69136      NaN            NaN                NaN  \n",
       "69138      NaN            NaN                NaN  \n",
       "69152      NaN            NaN                NaN  \n",
       "69184      NaN            NaN                NaN  \n",
       "69189      NaN            NaN                NaN  \n",
       "69249      NaN            NaN                NaN  \n",
       "69310      NaN            NaN                NaN  \n",
       "69374      NaN            NaN                NaN  \n",
       "69540      NaN            NaN                NaN  \n",
       "69570      NaN            NaN                NaN  \n",
       "69607      NaN            NaN                NaN  \n",
       "69672      NaN            NaN                NaN  \n",
       "69703      NaN            NaN                NaN  \n",
       "69710      NaN            NaN                NaN  \n",
       "69748      NaN            NaN                NaN  \n",
       "69752      NaN            NaN                NaN  \n",
       "69755      NaN            NaN                NaN  \n",
       "69766      NaN            NaN                NaN  \n",
       "69818      NaN            NaN                NaN  \n",
       "69836      NaN            NaN                NaN  \n",
       "69884      NaN            NaN                NaN  \n",
       "69918      NaN            NaN                NaN  \n",
       "69949      NaN            NaN                NaN  \n",
       "\n",
       "[1399 rows x 29 columns]"
      ]
     },
     "execution_count": 574,
     "metadata": {},
     "output_type": "execute_result"
    }
   ],
   "source": [
    "data[data['DepDelay'].isnull()]"
   ]
  },
  {
   "cell_type": "markdown",
   "metadata": {},
   "source": [
    "Бросается в глаза то, что у тех объектов, у которых пропущено значение целевой переменной \n",
    "- отсутствуют и значения у таких признаков как DepTime, ArrTime, TaxiIn, TaxiOut, CarrierDelay, WeatherDelay, NASDelay,\tSecurityDelay, LateAircraftDelay\n",
    "- а так же то, что признак Cancelled = 1, а признак Diverted = 0"
   ]
  },
  {
   "cell_type": "markdown",
   "metadata": {},
   "source": [
    "Всего пропусков целевой переменной, как мы выяснили ранее, 1399. Но так же, ранее было выделено еще 15 признаков, которые содержали в себе пропуски. Посмотрим, связаны ли пропуски целевой переменной и некоторых признаков. Для этого проверим, сколько пропусков есть одновременно в:"
   ]
  },
  {
   "cell_type": "code",
   "execution_count": 575,
   "metadata": {
    "collapsed": false
   },
   "outputs": [
    {
     "name": "stdout",
     "output_type": "stream",
     "text": [
      "DepTime и DepDelay 1399\n",
      "ArrDelay и DepDelay 1399\n",
      "TaxiIn и DepDelay 1399\n",
      "TaxiOut и DepDelay 1399\n",
      "CarrierDelay и DepDelay 1399\n",
      "WeatherDelay и DepDelay 1399\n",
      "NASDelay и DepDelay 1399\n",
      "SecurityDelay и DepDelay 1399\n",
      "LateAircraftDelay и DepDelay 1399\n"
     ]
    }
   ],
   "source": [
    "print('DepTime и DepDelay', sum(data.DepTime.isnull() & data.DepDelay.isnull()))\n",
    "print('ArrDelay и DepDelay', sum(data.ArrDelay.isnull() & data.DepDelay.isnull()))\n",
    "print('TaxiIn и DepDelay', sum(data.TaxiIn.isnull() & data.DepDelay.isnull()))\n",
    "print('TaxiOut и DepDelay', sum(data.TaxiOut.isnull() & data.DepDelay.isnull()))\n",
    "print('CarrierDelay и DepDelay', sum(data.CarrierDelay.isnull() & data.DepDelay.isnull()))\n",
    "print('WeatherDelay и DepDelay', sum(data.WeatherDelay.isnull() & data.DepDelay.isnull()))\n",
    "print('NASDelay и DepDelay', sum(data.NASDelay.isnull() & data.DepDelay.isnull()))\n",
    "print('SecurityDelay и DepDelay', sum(data.SecurityDelay.isnull() & data.DepDelay.isnull()))\n",
    "print('LateAircraftDelay и DepDelay', sum(data.LateAircraftDelay.isnull() & data.DepDelay.isnull()))"
   ]
  },
  {
   "cell_type": "markdown",
   "metadata": {},
   "source": [
    "Во всех объектах с пропущенными значениями целевой переменной отсутствуют значения и по рассмотренным нами признакам. Чтобы понять, с чем это может быть связано, рассмотрим еще два, выделенных нами в начале признака, а именно Cancelled (отмененный рейс) и Diverted (отложенный рейс)."
   ]
  },
  {
   "cell_type": "code",
   "execution_count": 576,
   "metadata": {
    "collapsed": false
   },
   "outputs": [
    {
     "name": "stdout",
     "output_type": "stream",
     "text": [
      "Cancelled и DepDelay 1399\n",
      "Diverted и DepDelay 1399\n"
     ]
    }
   ],
   "source": [
    "print('Cancelled и DepDelay', data[(data.Cancelled==1) & data.DepDelay.isnull()].shape[0])\n",
    "print('Diverted и DepDelay', data[(data.Diverted ==0) & data.DepDelay.isnull()].shape[0])"
   ]
  },
  {
   "cell_type": "markdown",
   "metadata": {},
   "source": [
    "Получается, что во всех случаях отсутствия данных о целевой пепременной рейсы были отменены или отложены. Чтобы до конца понять взаимосвязь отмены/переноса рейса и отсутствия данных о его зажержке, стоит посмореть, есть ли рейсы о которых имеются данные, но которые согласно значениям признаков были отменены или перенесены."
   ]
  },
  {
   "cell_type": "code",
   "execution_count": 577,
   "metadata": {
    "collapsed": false
   },
   "outputs": [
    {
     "data": {
      "text/plain": [
       "5976     24.0\n",
       "15680    19.0\n",
       "16382    38.0\n",
       "20622    -1.0\n",
       "22462    -2.0\n",
       "30057    28.0\n",
       "33611    -4.0\n",
       "37581    -1.0\n",
       "40343    -5.0\n",
       "50401    -2.0\n",
       "50810    -7.0\n",
       "67078     7.0\n",
       "Name: DepDelay, dtype: float64"
      ]
     },
     "execution_count": 577,
     "metadata": {},
     "output_type": "execute_result"
    }
   ],
   "source": [
    "data[(data.Cancelled==1) & data.DepDelay.notnull()]['DepDelay']"
   ]
  },
  {
   "cell_type": "code",
   "execution_count": 578,
   "metadata": {
    "collapsed": false
   },
   "outputs": [
    {
     "data": {
      "text/plain": [
       "149       68.0\n",
       "631       15.0\n",
       "637       15.0\n",
       "673       -2.0\n",
       "1083      14.0\n",
       "1403      -2.0\n",
       "1784       0.0\n",
       "1958       2.0\n",
       "2081       0.0\n",
       "2131       0.0\n",
       "2719      36.0\n",
       "2882      78.0\n",
       "2965       0.0\n",
       "3027      37.0\n",
       "3305      20.0\n",
       "3585      -4.0\n",
       "3602      -4.0\n",
       "4042     138.0\n",
       "4174      -4.0\n",
       "4363      -1.0\n",
       "4555      -6.0\n",
       "5093      97.0\n",
       "7058       1.0\n",
       "7693      -5.0\n",
       "7733      -3.0\n",
       "8108      13.0\n",
       "8822       1.0\n",
       "8966      25.0\n",
       "9625       0.0\n",
       "9844       1.0\n",
       "         ...  \n",
       "58291    -11.0\n",
       "58679      0.0\n",
       "59056     11.0\n",
       "59985      0.0\n",
       "60422     12.0\n",
       "60801      1.0\n",
       "61172      0.0\n",
       "62486     60.0\n",
       "63003     75.0\n",
       "63399      0.0\n",
       "63924     -4.0\n",
       "64450     33.0\n",
       "64743     -3.0\n",
       "65601     -1.0\n",
       "66160      1.0\n",
       "66778     86.0\n",
       "66838     -4.0\n",
       "66952     -3.0\n",
       "67258      9.0\n",
       "67334     20.0\n",
       "67430      7.0\n",
       "67680     32.0\n",
       "67696     26.0\n",
       "67793     73.0\n",
       "67850     15.0\n",
       "68628    -11.0\n",
       "68853     93.0\n",
       "69080    120.0\n",
       "69149     24.0\n",
       "69978     -5.0\n",
       "Name: DepDelay, Length: 171, dtype: float64"
      ]
     },
     "execution_count": 578,
     "metadata": {},
     "output_type": "execute_result"
    }
   ],
   "source": [
    "data[(data.Diverted==1) & data.DepDelay.notnull()]['DepDelay']"
   ]
  },
  {
   "cell_type": "markdown",
   "metadata": {},
   "source": [
    "Отложенных рейсов по которым имеются ненулевые значения целевой переменной достаточно много, а значит нужно будет еще исследовать влияние этого признака на целевую переменную. "
   ]
  },
  {
   "cell_type": "markdown",
   "metadata": {},
   "source": [
    "Что же касается признака Cancelled, то только у 12 объектов есть данные по задержке рейса при его отмене. Это означает, что скорее всего этот признак не оказыавет значимого влияния на целевую переменную (учитывая, что всего в выборке 70000 наблюдений), а значит этот признак можно будет удалить в дальнейшем."
   ]
  },
  {
   "cell_type": "markdown",
   "metadata": {},
   "source": [
    "То, что если отсутствуют данные о целевой переменной, то отсутствуют и данные по переменным DepTime, ArrTime, TaxiIn, TaxiOut, CarrierDelay, WeatherDelay, NASDelay, SecurityDelay, LateAircraftDelay объясняется как раз тем, что эти рейсы были отменены, а следовательно они просто не имеют данных признаков."
   ]
  },
  {
   "cell_type": "markdown",
   "metadata": {
    "collapsed": true
   },
   "source": [
    "Исключите из выборки объекты с пропущенным значением целевой переменной и со значением целевой переменной, равным 0, а также при необходимости исключите признаки в соответствии с вашим ответом на последний вопрос из списка и выделите целевую переменную в отдельный вектор, исключив её из матрицы \"объект-признак\"."
   ]
  },
  {
   "cell_type": "markdown",
   "metadata": {},
   "source": [
    "Удалим объекты с пропускаим в целевой переменной:"
   ]
  },
  {
   "cell_type": "code",
   "execution_count": 579,
   "metadata": {
    "collapsed": false
   },
   "outputs": [],
   "source": [
    "data = data[-data.DepDelay.isnull()]"
   ]
  },
  {
   "cell_type": "code",
   "execution_count": 580,
   "metadata": {
    "collapsed": false
   },
   "outputs": [
    {
     "data": {
      "text/plain": [
       "(68601, 29)"
      ]
     },
     "execution_count": 580,
     "metadata": {},
     "output_type": "execute_result"
    }
   ],
   "source": [
    "data.shape"
   ]
  },
  {
   "cell_type": "markdown",
   "metadata": {},
   "source": [
    "И удалим объекты с нулевым значением целевой переменной:"
   ]
  },
  {
   "cell_type": "code",
   "execution_count": 581,
   "metadata": {
    "collapsed": false
   },
   "outputs": [],
   "source": [
    "data = data[data.DepDelay!=0]"
   ]
  },
  {
   "cell_type": "code",
   "execution_count": 582,
   "metadata": {
    "collapsed": false
   },
   "outputs": [
    {
     "data": {
      "text/plain": [
       "(63404, 29)"
      ]
     },
     "execution_count": 582,
     "metadata": {},
     "output_type": "execute_result"
    }
   ],
   "source": [
    "data.shape"
   ]
  },
  {
   "cell_type": "code",
   "execution_count": 583,
   "metadata": {
    "collapsed": false
   },
   "outputs": [
    {
     "data": {
      "text/html": [
       "<div>\n",
       "<style>\n",
       "    .dataframe thead tr:only-child th {\n",
       "        text-align: right;\n",
       "    }\n",
       "\n",
       "    .dataframe thead th {\n",
       "        text-align: left;\n",
       "    }\n",
       "\n",
       "    .dataframe tbody tr th {\n",
       "        vertical-align: top;\n",
       "    }\n",
       "</style>\n",
       "<table border=\"1\" class=\"dataframe\">\n",
       "  <thead>\n",
       "    <tr style=\"text-align: right;\">\n",
       "      <th></th>\n",
       "      <th>DepDelay</th>\n",
       "      <th>Year</th>\n",
       "      <th>Month</th>\n",
       "      <th>DayofMonth</th>\n",
       "      <th>DayOfWeek</th>\n",
       "      <th>DepTime</th>\n",
       "      <th>CRSDepTime</th>\n",
       "      <th>ArrTime</th>\n",
       "      <th>CRSArrTime</th>\n",
       "      <th>UniqueCarrier</th>\n",
       "      <th>...</th>\n",
       "      <th>TaxiIn</th>\n",
       "      <th>TaxiOut</th>\n",
       "      <th>Cancelled</th>\n",
       "      <th>CancellationCode</th>\n",
       "      <th>Diverted</th>\n",
       "      <th>CarrierDelay</th>\n",
       "      <th>WeatherDelay</th>\n",
       "      <th>NASDelay</th>\n",
       "      <th>SecurityDelay</th>\n",
       "      <th>LateAircraftDelay</th>\n",
       "    </tr>\n",
       "  </thead>\n",
       "  <tbody>\n",
       "    <tr>\n",
       "      <th>0</th>\n",
       "      <td>16.0</td>\n",
       "      <td>2008</td>\n",
       "      <td>6</td>\n",
       "      <td>18</td>\n",
       "      <td>3</td>\n",
       "      <td>2111.0</td>\n",
       "      <td>2055</td>\n",
       "      <td>2308.0</td>\n",
       "      <td>2300</td>\n",
       "      <td>WN</td>\n",
       "      <td>...</td>\n",
       "      <td>3.0</td>\n",
       "      <td>8.0</td>\n",
       "      <td>0</td>\n",
       "      <td>NaN</td>\n",
       "      <td>0</td>\n",
       "      <td>NaN</td>\n",
       "      <td>NaN</td>\n",
       "      <td>NaN</td>\n",
       "      <td>NaN</td>\n",
       "      <td>NaN</td>\n",
       "    </tr>\n",
       "    <tr>\n",
       "      <th>1</th>\n",
       "      <td>16.0</td>\n",
       "      <td>2008</td>\n",
       "      <td>6</td>\n",
       "      <td>4</td>\n",
       "      <td>3</td>\n",
       "      <td>1426.0</td>\n",
       "      <td>1410</td>\n",
       "      <td>1730.0</td>\n",
       "      <td>1728</td>\n",
       "      <td>XE</td>\n",
       "      <td>...</td>\n",
       "      <td>4.0</td>\n",
       "      <td>12.0</td>\n",
       "      <td>0</td>\n",
       "      <td>NaN</td>\n",
       "      <td>0</td>\n",
       "      <td>NaN</td>\n",
       "      <td>NaN</td>\n",
       "      <td>NaN</td>\n",
       "      <td>NaN</td>\n",
       "      <td>NaN</td>\n",
       "    </tr>\n",
       "    <tr>\n",
       "      <th>2</th>\n",
       "      <td>-2.0</td>\n",
       "      <td>2008</td>\n",
       "      <td>8</td>\n",
       "      <td>3</td>\n",
       "      <td>7</td>\n",
       "      <td>1143.0</td>\n",
       "      <td>1145</td>\n",
       "      <td>1501.0</td>\n",
       "      <td>1520</td>\n",
       "      <td>WN</td>\n",
       "      <td>...</td>\n",
       "      <td>4.0</td>\n",
       "      <td>9.0</td>\n",
       "      <td>0</td>\n",
       "      <td>NaN</td>\n",
       "      <td>0</td>\n",
       "      <td>NaN</td>\n",
       "      <td>NaN</td>\n",
       "      <td>NaN</td>\n",
       "      <td>NaN</td>\n",
       "      <td>NaN</td>\n",
       "    </tr>\n",
       "    <tr>\n",
       "      <th>3</th>\n",
       "      <td>-3.0</td>\n",
       "      <td>2008</td>\n",
       "      <td>1</td>\n",
       "      <td>23</td>\n",
       "      <td>3</td>\n",
       "      <td>1141.0</td>\n",
       "      <td>1144</td>\n",
       "      <td>1323.0</td>\n",
       "      <td>1335</td>\n",
       "      <td>OO</td>\n",
       "      <td>...</td>\n",
       "      <td>4.0</td>\n",
       "      <td>19.0</td>\n",
       "      <td>0</td>\n",
       "      <td>NaN</td>\n",
       "      <td>0</td>\n",
       "      <td>NaN</td>\n",
       "      <td>NaN</td>\n",
       "      <td>NaN</td>\n",
       "      <td>NaN</td>\n",
       "      <td>NaN</td>\n",
       "    </tr>\n",
       "    <tr>\n",
       "      <th>4</th>\n",
       "      <td>-5.0</td>\n",
       "      <td>2008</td>\n",
       "      <td>5</td>\n",
       "      <td>4</td>\n",
       "      <td>7</td>\n",
       "      <td>815.0</td>\n",
       "      <td>820</td>\n",
       "      <td>1243.0</td>\n",
       "      <td>1300</td>\n",
       "      <td>WN</td>\n",
       "      <td>...</td>\n",
       "      <td>4.0</td>\n",
       "      <td>8.0</td>\n",
       "      <td>0</td>\n",
       "      <td>NaN</td>\n",
       "      <td>0</td>\n",
       "      <td>NaN</td>\n",
       "      <td>NaN</td>\n",
       "      <td>NaN</td>\n",
       "      <td>NaN</td>\n",
       "      <td>NaN</td>\n",
       "    </tr>\n",
       "  </tbody>\n",
       "</table>\n",
       "<p>5 rows × 29 columns</p>\n",
       "</div>"
      ],
      "text/plain": [
       "   DepDelay  Year  Month  DayofMonth  DayOfWeek  DepTime  CRSDepTime  ArrTime  \\\n",
       "0      16.0  2008      6          18          3   2111.0        2055   2308.0   \n",
       "1      16.0  2008      6           4          3   1426.0        1410   1730.0   \n",
       "2      -2.0  2008      8           3          7   1143.0        1145   1501.0   \n",
       "3      -3.0  2008      1          23          3   1141.0        1144   1323.0   \n",
       "4      -5.0  2008      5           4          7    815.0         820   1243.0   \n",
       "\n",
       "   CRSArrTime UniqueCarrier        ...          TaxiIn TaxiOut  Cancelled  \\\n",
       "0        2300            WN        ...             3.0     8.0          0   \n",
       "1        1728            XE        ...             4.0    12.0          0   \n",
       "2        1520            WN        ...             4.0     9.0          0   \n",
       "3        1335            OO        ...             4.0    19.0          0   \n",
       "4        1300            WN        ...             4.0     8.0          0   \n",
       "\n",
       "   CancellationCode  Diverted  CarrierDelay WeatherDelay NASDelay  \\\n",
       "0               NaN         0           NaN          NaN      NaN   \n",
       "1               NaN         0           NaN          NaN      NaN   \n",
       "2               NaN         0           NaN          NaN      NaN   \n",
       "3               NaN         0           NaN          NaN      NaN   \n",
       "4               NaN         0           NaN          NaN      NaN   \n",
       "\n",
       "   SecurityDelay  LateAircraftDelay  \n",
       "0            NaN                NaN  \n",
       "1            NaN                NaN  \n",
       "2            NaN                NaN  \n",
       "3            NaN                NaN  \n",
       "4            NaN                NaN  \n",
       "\n",
       "[5 rows x 29 columns]"
      ]
     },
     "execution_count": 583,
     "metadata": {},
     "output_type": "execute_result"
    }
   ],
   "source": [
    "data.head()"
   ]
  },
  {
   "cell_type": "markdown",
   "metadata": {},
   "source": [
    "Выделим целевую переменную в отдельную переменную:"
   ]
  },
  {
   "cell_type": "code",
   "execution_count": 584,
   "metadata": {
    "collapsed": true
   },
   "outputs": [],
   "source": [
    "y = data.DepDelay"
   ]
  },
  {
   "cell_type": "markdown",
   "metadata": {},
   "source": [
    "**7. (1 балл)** Обратите внимание, что признаки DepTime, CRSDepTime, ArrTime, CRSArrTime приведены в формате hhmm, в связи с чем будет не вполне корректно рассматривать их как вещественные.\n",
    "\n",
    "Преобразуйте каждый признак FeatureName из указанных в пару новых признаков FeatureName\\_Hour, FeatureName\\_Minute, разделив каждое из значений на часы и минуты. Не забудьте при этом исключить исходный признак из выборки. В случае, если значение признака отсутствует, значения двух новых признаков, его заменяющих, также должны отсутствовать. \n",
    "\n",
    "Например, признак DepTime необходимо заменить на пару признаков DepTime_Hour, DepTime_Minute. При этом, например, значение 155 исходного признака будет преобразовано в значения 1 и 55 признаков DepTime_Hour, DepTime_Minute соответственно."
   ]
  },
  {
   "cell_type": "code",
   "execution_count": 585,
   "metadata": {
    "collapsed": false
   },
   "outputs": [],
   "source": [
    "def hhmm_in_hh_mm(column):\n",
    "    DepTime_Minute = []\n",
    "    DepTime_Hour = []\n",
    "\n",
    "    for x in data[column]:\n",
    "        if not np.isnan(x):\n",
    "            x = str(int(x))\n",
    "            DepTime_Minute.append(int(x[-2:]))\n",
    "            if x[:len(x)-2] == '':\n",
    "                DepTime_Hour.append(0)\n",
    "            else:\n",
    "                DepTime_Hour.append(int(x[:len(x)-2]))\n",
    "        else:\n",
    "            DepTime_Hour.append(x)\n",
    "            DepTime_Minute.append(x)\n",
    "    return DepTime_Hour, DepTime_Minute"
   ]
  },
  {
   "cell_type": "code",
   "execution_count": 586,
   "metadata": {
    "collapsed": false
   },
   "outputs": [
    {
     "data": {
      "text/plain": [
       "0"
      ]
     },
     "execution_count": 586,
     "metadata": {},
     "output_type": "execute_result"
    }
   ],
   "source": [
    "sum(data.DepTime.isnull())"
   ]
  },
  {
   "cell_type": "markdown",
   "metadata": {},
   "source": [
    "Ве объекты с пропусками были удалены на прошлом шаге, но в функции сделана проверна на пропуски."
   ]
  },
  {
   "cell_type": "code",
   "execution_count": 587,
   "metadata": {
    "collapsed": true
   },
   "outputs": [],
   "source": [
    "data['DepTime_Hour'] = hhmm_in_hh_mm('DepTime')[0]\n",
    "data['DepTime_Minute'] = hhmm_in_hh_mm('DepTime')[1]\n",
    "\n",
    "data['CRSDepTime_Hour'] = hhmm_in_hh_mm('CRSDepTime')[0]\n",
    "data['CRSDepTime_Minute'] = hhmm_in_hh_mm('CRSDepTime')[1]\n",
    "\n",
    "data['ArrTime_Hour'] = hhmm_in_hh_mm('ArrTime')[0]\n",
    "data['ArrTime_Minute'] = hhmm_in_hh_mm('ArrTime')[1]\n",
    "\n",
    "data['CRSArrTime_Hour'] = hhmm_in_hh_mm('CRSArrTime')[0]\n",
    "data['CRSArrTime_Minute'] = hhmm_in_hh_mm('CRSArrTime')[1]"
   ]
  },
  {
   "cell_type": "code",
   "execution_count": 588,
   "metadata": {
    "collapsed": false
   },
   "outputs": [
    {
     "data": {
      "text/html": [
       "<div>\n",
       "<style>\n",
       "    .dataframe thead tr:only-child th {\n",
       "        text-align: right;\n",
       "    }\n",
       "\n",
       "    .dataframe thead th {\n",
       "        text-align: left;\n",
       "    }\n",
       "\n",
       "    .dataframe tbody tr th {\n",
       "        vertical-align: top;\n",
       "    }\n",
       "</style>\n",
       "<table border=\"1\" class=\"dataframe\">\n",
       "  <thead>\n",
       "    <tr style=\"text-align: right;\">\n",
       "      <th></th>\n",
       "      <th>DepDelay</th>\n",
       "      <th>Year</th>\n",
       "      <th>Month</th>\n",
       "      <th>DayofMonth</th>\n",
       "      <th>DayOfWeek</th>\n",
       "      <th>DepTime</th>\n",
       "      <th>CRSDepTime</th>\n",
       "      <th>ArrTime</th>\n",
       "      <th>CRSArrTime</th>\n",
       "      <th>UniqueCarrier</th>\n",
       "      <th>...</th>\n",
       "      <th>SecurityDelay</th>\n",
       "      <th>LateAircraftDelay</th>\n",
       "      <th>DepTime_Hour</th>\n",
       "      <th>DepTime_Minute</th>\n",
       "      <th>CRSDepTime_Hour</th>\n",
       "      <th>CRSDepTime_Minute</th>\n",
       "      <th>ArrTime_Hour</th>\n",
       "      <th>ArrTime_Minute</th>\n",
       "      <th>CRSArrTime_Hour</th>\n",
       "      <th>CRSArrTime_Minute</th>\n",
       "    </tr>\n",
       "  </thead>\n",
       "  <tbody>\n",
       "    <tr>\n",
       "      <th>0</th>\n",
       "      <td>16.0</td>\n",
       "      <td>2008</td>\n",
       "      <td>6</td>\n",
       "      <td>18</td>\n",
       "      <td>3</td>\n",
       "      <td>2111.0</td>\n",
       "      <td>2055</td>\n",
       "      <td>2308.0</td>\n",
       "      <td>2300</td>\n",
       "      <td>WN</td>\n",
       "      <td>...</td>\n",
       "      <td>NaN</td>\n",
       "      <td>NaN</td>\n",
       "      <td>21</td>\n",
       "      <td>11</td>\n",
       "      <td>20</td>\n",
       "      <td>55</td>\n",
       "      <td>23.0</td>\n",
       "      <td>8.0</td>\n",
       "      <td>23</td>\n",
       "      <td>0</td>\n",
       "    </tr>\n",
       "    <tr>\n",
       "      <th>1</th>\n",
       "      <td>16.0</td>\n",
       "      <td>2008</td>\n",
       "      <td>6</td>\n",
       "      <td>4</td>\n",
       "      <td>3</td>\n",
       "      <td>1426.0</td>\n",
       "      <td>1410</td>\n",
       "      <td>1730.0</td>\n",
       "      <td>1728</td>\n",
       "      <td>XE</td>\n",
       "      <td>...</td>\n",
       "      <td>NaN</td>\n",
       "      <td>NaN</td>\n",
       "      <td>14</td>\n",
       "      <td>26</td>\n",
       "      <td>14</td>\n",
       "      <td>10</td>\n",
       "      <td>17.0</td>\n",
       "      <td>30.0</td>\n",
       "      <td>17</td>\n",
       "      <td>28</td>\n",
       "    </tr>\n",
       "    <tr>\n",
       "      <th>2</th>\n",
       "      <td>-2.0</td>\n",
       "      <td>2008</td>\n",
       "      <td>8</td>\n",
       "      <td>3</td>\n",
       "      <td>7</td>\n",
       "      <td>1143.0</td>\n",
       "      <td>1145</td>\n",
       "      <td>1501.0</td>\n",
       "      <td>1520</td>\n",
       "      <td>WN</td>\n",
       "      <td>...</td>\n",
       "      <td>NaN</td>\n",
       "      <td>NaN</td>\n",
       "      <td>11</td>\n",
       "      <td>43</td>\n",
       "      <td>11</td>\n",
       "      <td>45</td>\n",
       "      <td>15.0</td>\n",
       "      <td>1.0</td>\n",
       "      <td>15</td>\n",
       "      <td>20</td>\n",
       "    </tr>\n",
       "    <tr>\n",
       "      <th>3</th>\n",
       "      <td>-3.0</td>\n",
       "      <td>2008</td>\n",
       "      <td>1</td>\n",
       "      <td>23</td>\n",
       "      <td>3</td>\n",
       "      <td>1141.0</td>\n",
       "      <td>1144</td>\n",
       "      <td>1323.0</td>\n",
       "      <td>1335</td>\n",
       "      <td>OO</td>\n",
       "      <td>...</td>\n",
       "      <td>NaN</td>\n",
       "      <td>NaN</td>\n",
       "      <td>11</td>\n",
       "      <td>41</td>\n",
       "      <td>11</td>\n",
       "      <td>44</td>\n",
       "      <td>13.0</td>\n",
       "      <td>23.0</td>\n",
       "      <td>13</td>\n",
       "      <td>35</td>\n",
       "    </tr>\n",
       "    <tr>\n",
       "      <th>4</th>\n",
       "      <td>-5.0</td>\n",
       "      <td>2008</td>\n",
       "      <td>5</td>\n",
       "      <td>4</td>\n",
       "      <td>7</td>\n",
       "      <td>815.0</td>\n",
       "      <td>820</td>\n",
       "      <td>1243.0</td>\n",
       "      <td>1300</td>\n",
       "      <td>WN</td>\n",
       "      <td>...</td>\n",
       "      <td>NaN</td>\n",
       "      <td>NaN</td>\n",
       "      <td>8</td>\n",
       "      <td>15</td>\n",
       "      <td>8</td>\n",
       "      <td>20</td>\n",
       "      <td>12.0</td>\n",
       "      <td>43.0</td>\n",
       "      <td>13</td>\n",
       "      <td>0</td>\n",
       "    </tr>\n",
       "  </tbody>\n",
       "</table>\n",
       "<p>5 rows × 37 columns</p>\n",
       "</div>"
      ],
      "text/plain": [
       "   DepDelay  Year  Month  DayofMonth  DayOfWeek  DepTime  CRSDepTime  ArrTime  \\\n",
       "0      16.0  2008      6          18          3   2111.0        2055   2308.0   \n",
       "1      16.0  2008      6           4          3   1426.0        1410   1730.0   \n",
       "2      -2.0  2008      8           3          7   1143.0        1145   1501.0   \n",
       "3      -3.0  2008      1          23          3   1141.0        1144   1323.0   \n",
       "4      -5.0  2008      5           4          7    815.0         820   1243.0   \n",
       "\n",
       "   CRSArrTime UniqueCarrier        ...          SecurityDelay  \\\n",
       "0        2300            WN        ...                    NaN   \n",
       "1        1728            XE        ...                    NaN   \n",
       "2        1520            WN        ...                    NaN   \n",
       "3        1335            OO        ...                    NaN   \n",
       "4        1300            WN        ...                    NaN   \n",
       "\n",
       "  LateAircraftDelay  DepTime_Hour  DepTime_Minute  CRSDepTime_Hour  \\\n",
       "0               NaN            21              11               20   \n",
       "1               NaN            14              26               14   \n",
       "2               NaN            11              43               11   \n",
       "3               NaN            11              41               11   \n",
       "4               NaN             8              15                8   \n",
       "\n",
       "   CRSDepTime_Minute ArrTime_Hour ArrTime_Minute  CRSArrTime_Hour  \\\n",
       "0                 55         23.0            8.0               23   \n",
       "1                 10         17.0           30.0               17   \n",
       "2                 45         15.0            1.0               15   \n",
       "3                 44         13.0           23.0               13   \n",
       "4                 20         12.0           43.0               13   \n",
       "\n",
       "   CRSArrTime_Minute  \n",
       "0                  0  \n",
       "1                 28  \n",
       "2                 20  \n",
       "3                 35  \n",
       "4                  0  \n",
       "\n",
       "[5 rows x 37 columns]"
      ]
     },
     "execution_count": 588,
     "metadata": {},
     "output_type": "execute_result"
    }
   ],
   "source": [
    "data.head()"
   ]
  },
  {
   "cell_type": "code",
   "execution_count": 589,
   "metadata": {
    "collapsed": false
   },
   "outputs": [
    {
     "name": "stdout",
     "output_type": "stream",
     "text": [
      "Количество признаков: 37\n"
     ]
    }
   ],
   "source": [
    "print('Количество признаков:', data.shape[1])"
   ]
  },
  {
   "cell_type": "markdown",
   "metadata": {},
   "source": [
    " Удалим уже замененные признаки:"
   ]
  },
  {
   "cell_type": "code",
   "execution_count": 590,
   "metadata": {
    "collapsed": true
   },
   "outputs": [],
   "source": [
    "data.drop(['DepTime', 'CRSDepTime', 'ArrTime', 'CRSArrTime'], axis = 1, inplace = True)"
   ]
  },
  {
   "cell_type": "code",
   "execution_count": 591,
   "metadata": {
    "collapsed": false
   },
   "outputs": [
    {
     "name": "stdout",
     "output_type": "stream",
     "text": [
      "Количество признаков: 33\n"
     ]
    }
   ],
   "source": [
    "print('Количество признаков:', data.shape[1])"
   ]
  },
  {
   "cell_type": "markdown",
   "metadata": {},
   "source": [
    "Стоит отметить, что разделение на часы и минуты может быть не очень информативным для предсказания целевой переменной. Минуты не дают никакой информации без знания о часах, а значит этот признок может оказаться лишним при обучении модели."
   ]
  },
  {
   "cell_type": "markdown",
   "metadata": {},
   "source": [
    "**8. (0.5 балла)** Некоторые из признаков, отличных от целевой переменной, могут оказывать чересчур значимое влияние на прогноз, поскольку по своему смыслу содержат большую долю информации о значении целевой переменной. Изучите описание датасета и исключите признаки, сильно коррелирующие с ответами. Ваш выбор признаков для исключения из выборки обоснуйте. Кроме того, исключите признаки TailNum и Year."
   ]
  },
  {
   "cell_type": "code",
   "execution_count": 592,
   "metadata": {
    "collapsed": true
   },
   "outputs": [],
   "source": [
    "corr = data.corr()"
   ]
  },
  {
   "cell_type": "code",
   "execution_count": 593,
   "metadata": {
    "collapsed": false
   },
   "outputs": [
    {
     "data": {
      "text/html": [
       "<div>\n",
       "<style>\n",
       "    .dataframe thead tr:only-child th {\n",
       "        text-align: right;\n",
       "    }\n",
       "\n",
       "    .dataframe thead th {\n",
       "        text-align: left;\n",
       "    }\n",
       "\n",
       "    .dataframe tbody tr th {\n",
       "        vertical-align: top;\n",
       "    }\n",
       "</style>\n",
       "<table border=\"1\" class=\"dataframe\">\n",
       "  <thead>\n",
       "    <tr style=\"text-align: right;\">\n",
       "      <th></th>\n",
       "      <th>DepDelay</th>\n",
       "      <th>Year</th>\n",
       "      <th>Month</th>\n",
       "      <th>DayofMonth</th>\n",
       "      <th>DayOfWeek</th>\n",
       "      <th>FlightNum</th>\n",
       "      <th>ActualElapsedTime</th>\n",
       "      <th>CRSElapsedTime</th>\n",
       "      <th>AirTime</th>\n",
       "      <th>ArrDelay</th>\n",
       "      <th>...</th>\n",
       "      <th>SecurityDelay</th>\n",
       "      <th>LateAircraftDelay</th>\n",
       "      <th>DepTime_Hour</th>\n",
       "      <th>DepTime_Minute</th>\n",
       "      <th>CRSDepTime_Hour</th>\n",
       "      <th>CRSDepTime_Minute</th>\n",
       "      <th>ArrTime_Hour</th>\n",
       "      <th>ArrTime_Minute</th>\n",
       "      <th>CRSArrTime_Hour</th>\n",
       "      <th>CRSArrTime_Minute</th>\n",
       "    </tr>\n",
       "  </thead>\n",
       "  <tbody>\n",
       "    <tr>\n",
       "      <th>DepDelay</th>\n",
       "      <td>1.000000</td>\n",
       "      <td>NaN</td>\n",
       "      <td>-0.029528</td>\n",
       "      <td>0.008574</td>\n",
       "      <td>0.008530</td>\n",
       "      <td>0.021166</td>\n",
       "      <td>0.041946</td>\n",
       "      <td>0.034302</td>\n",
       "      <td>0.025237</td>\n",
       "      <td>0.933526</td>\n",
       "      <td>...</td>\n",
       "      <td>0.010668</td>\n",
       "      <td>0.553806</td>\n",
       "      <td>0.203125</td>\n",
       "      <td>-0.017055</td>\n",
       "      <td>0.140084</td>\n",
       "      <td>0.022437</td>\n",
       "      <td>0.070181</td>\n",
       "      <td>0.006171</td>\n",
       "      <td>0.135561</td>\n",
       "      <td>0.008609</td>\n",
       "    </tr>\n",
       "    <tr>\n",
       "      <th>Year</th>\n",
       "      <td>NaN</td>\n",
       "      <td>NaN</td>\n",
       "      <td>NaN</td>\n",
       "      <td>NaN</td>\n",
       "      <td>NaN</td>\n",
       "      <td>NaN</td>\n",
       "      <td>NaN</td>\n",
       "      <td>NaN</td>\n",
       "      <td>NaN</td>\n",
       "      <td>NaN</td>\n",
       "      <td>...</td>\n",
       "      <td>NaN</td>\n",
       "      <td>NaN</td>\n",
       "      <td>NaN</td>\n",
       "      <td>NaN</td>\n",
       "      <td>NaN</td>\n",
       "      <td>NaN</td>\n",
       "      <td>NaN</td>\n",
       "      <td>NaN</td>\n",
       "      <td>NaN</td>\n",
       "      <td>NaN</td>\n",
       "    </tr>\n",
       "    <tr>\n",
       "      <th>Month</th>\n",
       "      <td>-0.029528</td>\n",
       "      <td>NaN</td>\n",
       "      <td>1.000000</td>\n",
       "      <td>-0.004838</td>\n",
       "      <td>-0.010617</td>\n",
       "      <td>0.006598</td>\n",
       "      <td>-0.014230</td>\n",
       "      <td>-0.005765</td>\n",
       "      <td>-0.012840</td>\n",
       "      <td>-0.041950</td>\n",
       "      <td>...</td>\n",
       "      <td>0.008620</td>\n",
       "      <td>0.017445</td>\n",
       "      <td>-0.008803</td>\n",
       "      <td>0.002405</td>\n",
       "      <td>-0.006727</td>\n",
       "      <td>0.011477</td>\n",
       "      <td>-0.002887</td>\n",
       "      <td>-0.001491</td>\n",
       "      <td>0.002805</td>\n",
       "      <td>-0.005353</td>\n",
       "    </tr>\n",
       "    <tr>\n",
       "      <th>DayofMonth</th>\n",
       "      <td>0.008574</td>\n",
       "      <td>NaN</td>\n",
       "      <td>-0.004838</td>\n",
       "      <td>1.000000</td>\n",
       "      <td>0.015818</td>\n",
       "      <td>0.009847</td>\n",
       "      <td>-0.008110</td>\n",
       "      <td>-0.007024</td>\n",
       "      <td>-0.007842</td>\n",
       "      <td>0.006479</td>\n",
       "      <td>...</td>\n",
       "      <td>-0.007752</td>\n",
       "      <td>0.009641</td>\n",
       "      <td>0.001605</td>\n",
       "      <td>0.006268</td>\n",
       "      <td>0.002206</td>\n",
       "      <td>-0.000784</td>\n",
       "      <td>-0.001435</td>\n",
       "      <td>-0.006125</td>\n",
       "      <td>0.000708</td>\n",
       "      <td>0.001285</td>\n",
       "    </tr>\n",
       "    <tr>\n",
       "      <th>DayOfWeek</th>\n",
       "      <td>0.008530</td>\n",
       "      <td>NaN</td>\n",
       "      <td>-0.010617</td>\n",
       "      <td>0.015818</td>\n",
       "      <td>1.000000</td>\n",
       "      <td>-0.005878</td>\n",
       "      <td>0.010330</td>\n",
       "      <td>0.013325</td>\n",
       "      <td>0.011541</td>\n",
       "      <td>0.002943</td>\n",
       "      <td>...</td>\n",
       "      <td>0.005031</td>\n",
       "      <td>0.007566</td>\n",
       "      <td>0.005866</td>\n",
       "      <td>-0.000551</td>\n",
       "      <td>0.005484</td>\n",
       "      <td>-0.000623</td>\n",
       "      <td>0.005762</td>\n",
       "      <td>-0.000901</td>\n",
       "      <td>0.006235</td>\n",
       "      <td>0.000784</td>\n",
       "    </tr>\n",
       "    <tr>\n",
       "      <th>FlightNum</th>\n",
       "      <td>0.021166</td>\n",
       "      <td>NaN</td>\n",
       "      <td>0.006598</td>\n",
       "      <td>0.009847</td>\n",
       "      <td>-0.005878</td>\n",
       "      <td>1.000000</td>\n",
       "      <td>-0.324021</td>\n",
       "      <td>-0.331409</td>\n",
       "      <td>-0.336906</td>\n",
       "      <td>0.027777</td>\n",
       "      <td>...</td>\n",
       "      <td>0.009387</td>\n",
       "      <td>-0.022415</td>\n",
       "      <td>-0.003754</td>\n",
       "      <td>-0.006509</td>\n",
       "      <td>-0.011477</td>\n",
       "      <td>-0.002824</td>\n",
       "      <td>-0.019202</td>\n",
       "      <td>0.001697</td>\n",
       "      <td>-0.031454</td>\n",
       "      <td>0.018267</td>\n",
       "    </tr>\n",
       "    <tr>\n",
       "      <th>ActualElapsedTime</th>\n",
       "      <td>0.041946</td>\n",
       "      <td>NaN</td>\n",
       "      <td>-0.014230</td>\n",
       "      <td>-0.008110</td>\n",
       "      <td>0.010330</td>\n",
       "      <td>-0.324021</td>\n",
       "      <td>1.000000</td>\n",
       "      <td>0.979979</td>\n",
       "      <td>0.984401</td>\n",
       "      <td>0.089451</td>\n",
       "      <td>...</td>\n",
       "      <td>0.002250</td>\n",
       "      <td>-0.085353</td>\n",
       "      <td>-0.017290</td>\n",
       "      <td>0.000991</td>\n",
       "      <td>-0.016923</td>\n",
       "      <td>0.009981</td>\n",
       "      <td>0.033067</td>\n",
       "      <td>0.000021</td>\n",
       "      <td>0.052552</td>\n",
       "      <td>0.005242</td>\n",
       "    </tr>\n",
       "    <tr>\n",
       "      <th>CRSElapsedTime</th>\n",
       "      <td>0.034302</td>\n",
       "      <td>NaN</td>\n",
       "      <td>-0.005765</td>\n",
       "      <td>-0.007024</td>\n",
       "      <td>0.013325</td>\n",
       "      <td>-0.331409</td>\n",
       "      <td>0.979979</td>\n",
       "      <td>1.000000</td>\n",
       "      <td>0.988293</td>\n",
       "      <td>0.010358</td>\n",
       "      <td>...</td>\n",
       "      <td>0.003952</td>\n",
       "      <td>-0.041558</td>\n",
       "      <td>-0.014587</td>\n",
       "      <td>0.001035</td>\n",
       "      <td>-0.011965</td>\n",
       "      <td>0.011929</td>\n",
       "      <td>0.034166</td>\n",
       "      <td>0.002003</td>\n",
       "      <td>0.058308</td>\n",
       "      <td>0.005302</td>\n",
       "    </tr>\n",
       "    <tr>\n",
       "      <th>AirTime</th>\n",
       "      <td>0.025237</td>\n",
       "      <td>NaN</td>\n",
       "      <td>-0.012840</td>\n",
       "      <td>-0.007842</td>\n",
       "      <td>0.011541</td>\n",
       "      <td>-0.336906</td>\n",
       "      <td>0.984401</td>\n",
       "      <td>0.988293</td>\n",
       "      <td>1.000000</td>\n",
       "      <td>0.031206</td>\n",
       "      <td>...</td>\n",
       "      <td>0.004590</td>\n",
       "      <td>-0.060884</td>\n",
       "      <td>-0.023179</td>\n",
       "      <td>0.001006</td>\n",
       "      <td>-0.020695</td>\n",
       "      <td>0.011579</td>\n",
       "      <td>0.026744</td>\n",
       "      <td>0.000545</td>\n",
       "      <td>0.045576</td>\n",
       "      <td>0.002669</td>\n",
       "    </tr>\n",
       "    <tr>\n",
       "      <th>ArrDelay</th>\n",
       "      <td>0.933526</td>\n",
       "      <td>NaN</td>\n",
       "      <td>-0.041950</td>\n",
       "      <td>0.006479</td>\n",
       "      <td>0.002943</td>\n",
       "      <td>0.027777</td>\n",
       "      <td>0.089451</td>\n",
       "      <td>0.010358</td>\n",
       "      <td>0.031206</td>\n",
       "      <td>1.000000</td>\n",
       "      <td>...</td>\n",
       "      <td>0.008990</td>\n",
       "      <td>0.509705</td>\n",
       "      <td>0.181565</td>\n",
       "      <td>-0.016460</td>\n",
       "      <td>0.119652</td>\n",
       "      <td>0.017466</td>\n",
       "      <td>0.062637</td>\n",
       "      <td>0.002412</td>\n",
       "      <td>0.115969</td>\n",
       "      <td>0.009064</td>\n",
       "    </tr>\n",
       "    <tr>\n",
       "      <th>Distance</th>\n",
       "      <td>0.024252</td>\n",
       "      <td>NaN</td>\n",
       "      <td>-0.006289</td>\n",
       "      <td>-0.007196</td>\n",
       "      <td>0.014755</td>\n",
       "      <td>-0.350380</td>\n",
       "      <td>0.965089</td>\n",
       "      <td>0.983478</td>\n",
       "      <td>0.983222</td>\n",
       "      <td>0.003952</td>\n",
       "      <td>...</td>\n",
       "      <td>0.006950</td>\n",
       "      <td>-0.037445</td>\n",
       "      <td>-0.016906</td>\n",
       "      <td>-0.000497</td>\n",
       "      <td>-0.011925</td>\n",
       "      <td>0.015068</td>\n",
       "      <td>0.024635</td>\n",
       "      <td>0.002774</td>\n",
       "      <td>0.047643</td>\n",
       "      <td>0.005432</td>\n",
       "    </tr>\n",
       "    <tr>\n",
       "      <th>TaxiIn</th>\n",
       "      <td>0.020640</td>\n",
       "      <td>NaN</td>\n",
       "      <td>0.007768</td>\n",
       "      <td>-0.002673</td>\n",
       "      <td>0.001024</td>\n",
       "      <td>-0.005973</td>\n",
       "      <td>0.154726</td>\n",
       "      <td>0.100990</td>\n",
       "      <td>0.082090</td>\n",
       "      <td>0.117087</td>\n",
       "      <td>...</td>\n",
       "      <td>0.000476</td>\n",
       "      <td>-0.046780</td>\n",
       "      <td>-0.046532</td>\n",
       "      <td>-0.001050</td>\n",
       "      <td>-0.052721</td>\n",
       "      <td>-0.013244</td>\n",
       "      <td>0.001059</td>\n",
       "      <td>-0.009682</td>\n",
       "      <td>-0.012198</td>\n",
       "      <td>-0.002818</td>\n",
       "    </tr>\n",
       "    <tr>\n",
       "      <th>TaxiOut</th>\n",
       "      <td>0.101294</td>\n",
       "      <td>NaN</td>\n",
       "      <td>-0.014431</td>\n",
       "      <td>-0.002481</td>\n",
       "      <td>-0.005622</td>\n",
       "      <td>0.002628</td>\n",
       "      <td>0.264840</td>\n",
       "      <td>0.140438</td>\n",
       "      <td>0.105578</td>\n",
       "      <td>0.319716</td>\n",
       "      <td>...</td>\n",
       "      <td>-0.008832</td>\n",
       "      <td>-0.097731</td>\n",
       "      <td>0.051535</td>\n",
       "      <td>0.000526</td>\n",
       "      <td>0.041541</td>\n",
       "      <td>-0.001402</td>\n",
       "      <td>0.043886</td>\n",
       "      <td>0.001425</td>\n",
       "      <td>0.059814</td>\n",
       "      <td>0.018710</td>\n",
       "    </tr>\n",
       "    <tr>\n",
       "      <th>Cancelled</th>\n",
       "      <td>-0.001123</td>\n",
       "      <td>NaN</td>\n",
       "      <td>0.019871</td>\n",
       "      <td>-0.003236</td>\n",
       "      <td>0.000527</td>\n",
       "      <td>0.017384</td>\n",
       "      <td>NaN</td>\n",
       "      <td>-0.007500</td>\n",
       "      <td>NaN</td>\n",
       "      <td>NaN</td>\n",
       "      <td>...</td>\n",
       "      <td>NaN</td>\n",
       "      <td>NaN</td>\n",
       "      <td>0.005084</td>\n",
       "      <td>0.004247</td>\n",
       "      <td>0.005426</td>\n",
       "      <td>0.000811</td>\n",
       "      <td>NaN</td>\n",
       "      <td>NaN</td>\n",
       "      <td>-0.000505</td>\n",
       "      <td>-0.000116</td>\n",
       "    </tr>\n",
       "    <tr>\n",
       "      <th>Diverted</th>\n",
       "      <td>0.027166</td>\n",
       "      <td>NaN</td>\n",
       "      <td>0.000721</td>\n",
       "      <td>0.002144</td>\n",
       "      <td>0.004786</td>\n",
       "      <td>-0.003012</td>\n",
       "      <td>NaN</td>\n",
       "      <td>0.021977</td>\n",
       "      <td>NaN</td>\n",
       "      <td>NaN</td>\n",
       "      <td>...</td>\n",
       "      <td>NaN</td>\n",
       "      <td>NaN</td>\n",
       "      <td>0.005684</td>\n",
       "      <td>-0.002487</td>\n",
       "      <td>0.003163</td>\n",
       "      <td>-0.000544</td>\n",
       "      <td>-0.009086</td>\n",
       "      <td>0.004349</td>\n",
       "      <td>0.013582</td>\n",
       "      <td>-0.000412</td>\n",
       "    </tr>\n",
       "    <tr>\n",
       "      <th>CarrierDelay</th>\n",
       "      <td>0.532696</td>\n",
       "      <td>NaN</td>\n",
       "      <td>-0.008286</td>\n",
       "      <td>0.008789</td>\n",
       "      <td>0.015026</td>\n",
       "      <td>0.076525</td>\n",
       "      <td>-0.039599</td>\n",
       "      <td>-0.004071</td>\n",
       "      <td>-0.017756</td>\n",
       "      <td>0.501776</td>\n",
       "      <td>...</td>\n",
       "      <td>-0.013359</td>\n",
       "      <td>-0.139685</td>\n",
       "      <td>-0.015873</td>\n",
       "      <td>-0.010054</td>\n",
       "      <td>-0.073943</td>\n",
       "      <td>-0.020738</td>\n",
       "      <td>-0.073006</td>\n",
       "      <td>0.008268</td>\n",
       "      <td>-0.067815</td>\n",
       "      <td>0.003963</td>\n",
       "    </tr>\n",
       "    <tr>\n",
       "      <th>WeatherDelay</th>\n",
       "      <td>0.238872</td>\n",
       "      <td>NaN</td>\n",
       "      <td>0.017684</td>\n",
       "      <td>0.002709</td>\n",
       "      <td>-0.012198</td>\n",
       "      <td>0.060002</td>\n",
       "      <td>-0.011799</td>\n",
       "      <td>-0.018638</td>\n",
       "      <td>-0.024191</td>\n",
       "      <td>0.254704</td>\n",
       "      <td>...</td>\n",
       "      <td>-0.006283</td>\n",
       "      <td>-0.039146</td>\n",
       "      <td>0.021972</td>\n",
       "      <td>-0.005184</td>\n",
       "      <td>0.007648</td>\n",
       "      <td>-0.006072</td>\n",
       "      <td>-0.043228</td>\n",
       "      <td>0.011214</td>\n",
       "      <td>0.015905</td>\n",
       "      <td>0.001877</td>\n",
       "    </tr>\n",
       "    <tr>\n",
       "      <th>NASDelay</th>\n",
       "      <td>0.171591</td>\n",
       "      <td>NaN</td>\n",
       "      <td>0.000651</td>\n",
       "      <td>0.008594</td>\n",
       "      <td>0.000053</td>\n",
       "      <td>0.013833</td>\n",
       "      <td>0.183883</td>\n",
       "      <td>0.043392</td>\n",
       "      <td>0.061818</td>\n",
       "      <td>0.370920</td>\n",
       "      <td>...</td>\n",
       "      <td>-0.012667</td>\n",
       "      <td>-0.142288</td>\n",
       "      <td>-0.004054</td>\n",
       "      <td>-0.001930</td>\n",
       "      <td>-0.039952</td>\n",
       "      <td>-0.010783</td>\n",
       "      <td>0.022341</td>\n",
       "      <td>0.004407</td>\n",
       "      <td>-0.004435</td>\n",
       "      <td>0.011456</td>\n",
       "    </tr>\n",
       "    <tr>\n",
       "      <th>SecurityDelay</th>\n",
       "      <td>0.010668</td>\n",
       "      <td>NaN</td>\n",
       "      <td>0.008620</td>\n",
       "      <td>-0.007752</td>\n",
       "      <td>0.005031</td>\n",
       "      <td>0.009387</td>\n",
       "      <td>0.002250</td>\n",
       "      <td>0.003952</td>\n",
       "      <td>0.004590</td>\n",
       "      <td>0.008990</td>\n",
       "      <td>...</td>\n",
       "      <td>1.000000</td>\n",
       "      <td>-0.013749</td>\n",
       "      <td>-0.007682</td>\n",
       "      <td>-0.001091</td>\n",
       "      <td>-0.012255</td>\n",
       "      <td>-0.011749</td>\n",
       "      <td>-0.002659</td>\n",
       "      <td>0.004993</td>\n",
       "      <td>-0.013556</td>\n",
       "      <td>-0.001348</td>\n",
       "    </tr>\n",
       "    <tr>\n",
       "      <th>LateAircraftDelay</th>\n",
       "      <td>0.553806</td>\n",
       "      <td>NaN</td>\n",
       "      <td>0.017445</td>\n",
       "      <td>0.009641</td>\n",
       "      <td>0.007566</td>\n",
       "      <td>-0.022415</td>\n",
       "      <td>-0.085353</td>\n",
       "      <td>-0.041558</td>\n",
       "      <td>-0.060884</td>\n",
       "      <td>0.509705</td>\n",
       "      <td>...</td>\n",
       "      <td>-0.013749</td>\n",
       "      <td>1.000000</td>\n",
       "      <td>0.205894</td>\n",
       "      <td>0.006873</td>\n",
       "      <td>0.194631</td>\n",
       "      <td>0.029836</td>\n",
       "      <td>-0.002913</td>\n",
       "      <td>0.011328</td>\n",
       "      <td>0.150937</td>\n",
       "      <td>0.013136</td>\n",
       "    </tr>\n",
       "    <tr>\n",
       "      <th>DepTime_Hour</th>\n",
       "      <td>0.203125</td>\n",
       "      <td>NaN</td>\n",
       "      <td>-0.008803</td>\n",
       "      <td>0.001605</td>\n",
       "      <td>0.005866</td>\n",
       "      <td>-0.003754</td>\n",
       "      <td>-0.017290</td>\n",
       "      <td>-0.014587</td>\n",
       "      <td>-0.023179</td>\n",
       "      <td>0.181565</td>\n",
       "      <td>...</td>\n",
       "      <td>-0.007682</td>\n",
       "      <td>0.205894</td>\n",
       "      <td>1.000000</td>\n",
       "      <td>-0.077192</td>\n",
       "      <td>0.959597</td>\n",
       "      <td>0.088525</td>\n",
       "      <td>0.706969</td>\n",
       "      <td>0.008245</td>\n",
       "      <td>0.787868</td>\n",
       "      <td>0.028640</td>\n",
       "    </tr>\n",
       "    <tr>\n",
       "      <th>DepTime_Minute</th>\n",
       "      <td>-0.017055</td>\n",
       "      <td>NaN</td>\n",
       "      <td>0.002405</td>\n",
       "      <td>0.006268</td>\n",
       "      <td>-0.000551</td>\n",
       "      <td>-0.006509</td>\n",
       "      <td>0.000991</td>\n",
       "      <td>0.001035</td>\n",
       "      <td>0.001006</td>\n",
       "      <td>-0.016460</td>\n",
       "      <td>...</td>\n",
       "      <td>-0.001091</td>\n",
       "      <td>0.006873</td>\n",
       "      <td>-0.077192</td>\n",
       "      <td>1.000000</td>\n",
       "      <td>-0.036923</td>\n",
       "      <td>0.255442</td>\n",
       "      <td>-0.019308</td>\n",
       "      <td>0.013563</td>\n",
       "      <td>-0.018996</td>\n",
       "      <td>0.003356</td>\n",
       "    </tr>\n",
       "    <tr>\n",
       "      <th>CRSDepTime_Hour</th>\n",
       "      <td>0.140084</td>\n",
       "      <td>NaN</td>\n",
       "      <td>-0.006727</td>\n",
       "      <td>0.002206</td>\n",
       "      <td>0.005484</td>\n",
       "      <td>-0.011477</td>\n",
       "      <td>-0.016923</td>\n",
       "      <td>-0.011965</td>\n",
       "      <td>-0.020695</td>\n",
       "      <td>0.119652</td>\n",
       "      <td>...</td>\n",
       "      <td>-0.012255</td>\n",
       "      <td>0.194631</td>\n",
       "      <td>0.959597</td>\n",
       "      <td>-0.036923</td>\n",
       "      <td>1.000000</td>\n",
       "      <td>0.047769</td>\n",
       "      <td>0.685465</td>\n",
       "      <td>0.008590</td>\n",
       "      <td>0.785941</td>\n",
       "      <td>0.028171</td>\n",
       "    </tr>\n",
       "    <tr>\n",
       "      <th>CRSDepTime_Minute</th>\n",
       "      <td>0.022437</td>\n",
       "      <td>NaN</td>\n",
       "      <td>0.011477</td>\n",
       "      <td>-0.000784</td>\n",
       "      <td>-0.000623</td>\n",
       "      <td>-0.002824</td>\n",
       "      <td>0.009981</td>\n",
       "      <td>0.011929</td>\n",
       "      <td>0.011579</td>\n",
       "      <td>0.017466</td>\n",
       "      <td>...</td>\n",
       "      <td>-0.011749</td>\n",
       "      <td>0.029836</td>\n",
       "      <td>0.088525</td>\n",
       "      <td>0.255442</td>\n",
       "      <td>0.047769</td>\n",
       "      <td>1.000000</td>\n",
       "      <td>0.079174</td>\n",
       "      <td>0.014155</td>\n",
       "      <td>0.083759</td>\n",
       "      <td>0.022834</td>\n",
       "    </tr>\n",
       "    <tr>\n",
       "      <th>ArrTime_Hour</th>\n",
       "      <td>0.070181</td>\n",
       "      <td>NaN</td>\n",
       "      <td>-0.002887</td>\n",
       "      <td>-0.001435</td>\n",
       "      <td>0.005762</td>\n",
       "      <td>-0.019202</td>\n",
       "      <td>0.033067</td>\n",
       "      <td>0.034166</td>\n",
       "      <td>0.026744</td>\n",
       "      <td>0.062637</td>\n",
       "      <td>...</td>\n",
       "      <td>-0.002659</td>\n",
       "      <td>-0.002913</td>\n",
       "      <td>0.706969</td>\n",
       "      <td>-0.019308</td>\n",
       "      <td>0.685465</td>\n",
       "      <td>0.079174</td>\n",
       "      <td>1.000000</td>\n",
       "      <td>-0.022279</td>\n",
       "      <td>0.852284</td>\n",
       "      <td>0.008675</td>\n",
       "    </tr>\n",
       "    <tr>\n",
       "      <th>ArrTime_Minute</th>\n",
       "      <td>0.006171</td>\n",
       "      <td>NaN</td>\n",
       "      <td>-0.001491</td>\n",
       "      <td>-0.006125</td>\n",
       "      <td>-0.000901</td>\n",
       "      <td>0.001697</td>\n",
       "      <td>0.000021</td>\n",
       "      <td>0.002003</td>\n",
       "      <td>0.000545</td>\n",
       "      <td>0.002412</td>\n",
       "      <td>...</td>\n",
       "      <td>0.004993</td>\n",
       "      <td>0.011328</td>\n",
       "      <td>0.008245</td>\n",
       "      <td>0.013563</td>\n",
       "      <td>0.008590</td>\n",
       "      <td>0.014155</td>\n",
       "      <td>-0.022279</td>\n",
       "      <td>1.000000</td>\n",
       "      <td>0.001164</td>\n",
       "      <td>0.177660</td>\n",
       "    </tr>\n",
       "    <tr>\n",
       "      <th>CRSArrTime_Hour</th>\n",
       "      <td>0.135561</td>\n",
       "      <td>NaN</td>\n",
       "      <td>0.002805</td>\n",
       "      <td>0.000708</td>\n",
       "      <td>0.006235</td>\n",
       "      <td>-0.031454</td>\n",
       "      <td>0.052552</td>\n",
       "      <td>0.058308</td>\n",
       "      <td>0.045576</td>\n",
       "      <td>0.115969</td>\n",
       "      <td>...</td>\n",
       "      <td>-0.013556</td>\n",
       "      <td>0.150937</td>\n",
       "      <td>0.787868</td>\n",
       "      <td>-0.018996</td>\n",
       "      <td>0.785941</td>\n",
       "      <td>0.083759</td>\n",
       "      <td>0.852284</td>\n",
       "      <td>0.001164</td>\n",
       "      <td>1.000000</td>\n",
       "      <td>-0.008834</td>\n",
       "    </tr>\n",
       "    <tr>\n",
       "      <th>CRSArrTime_Minute</th>\n",
       "      <td>0.008609</td>\n",
       "      <td>NaN</td>\n",
       "      <td>-0.005353</td>\n",
       "      <td>0.001285</td>\n",
       "      <td>0.000784</td>\n",
       "      <td>0.018267</td>\n",
       "      <td>0.005242</td>\n",
       "      <td>0.005302</td>\n",
       "      <td>0.002669</td>\n",
       "      <td>0.009064</td>\n",
       "      <td>...</td>\n",
       "      <td>-0.001348</td>\n",
       "      <td>0.013136</td>\n",
       "      <td>0.028640</td>\n",
       "      <td>0.003356</td>\n",
       "      <td>0.028171</td>\n",
       "      <td>0.022834</td>\n",
       "      <td>0.008675</td>\n",
       "      <td>0.177660</td>\n",
       "      <td>-0.008834</td>\n",
       "      <td>1.000000</td>\n",
       "    </tr>\n",
       "  </tbody>\n",
       "</table>\n",
       "<p>28 rows × 28 columns</p>\n",
       "</div>"
      ],
      "text/plain": [
       "                   DepDelay  Year     Month  DayofMonth  DayOfWeek  FlightNum  \\\n",
       "DepDelay           1.000000   NaN -0.029528    0.008574   0.008530   0.021166   \n",
       "Year                    NaN   NaN       NaN         NaN        NaN        NaN   \n",
       "Month             -0.029528   NaN  1.000000   -0.004838  -0.010617   0.006598   \n",
       "DayofMonth         0.008574   NaN -0.004838    1.000000   0.015818   0.009847   \n",
       "DayOfWeek          0.008530   NaN -0.010617    0.015818   1.000000  -0.005878   \n",
       "FlightNum          0.021166   NaN  0.006598    0.009847  -0.005878   1.000000   \n",
       "ActualElapsedTime  0.041946   NaN -0.014230   -0.008110   0.010330  -0.324021   \n",
       "CRSElapsedTime     0.034302   NaN -0.005765   -0.007024   0.013325  -0.331409   \n",
       "AirTime            0.025237   NaN -0.012840   -0.007842   0.011541  -0.336906   \n",
       "ArrDelay           0.933526   NaN -0.041950    0.006479   0.002943   0.027777   \n",
       "Distance           0.024252   NaN -0.006289   -0.007196   0.014755  -0.350380   \n",
       "TaxiIn             0.020640   NaN  0.007768   -0.002673   0.001024  -0.005973   \n",
       "TaxiOut            0.101294   NaN -0.014431   -0.002481  -0.005622   0.002628   \n",
       "Cancelled         -0.001123   NaN  0.019871   -0.003236   0.000527   0.017384   \n",
       "Diverted           0.027166   NaN  0.000721    0.002144   0.004786  -0.003012   \n",
       "CarrierDelay       0.532696   NaN -0.008286    0.008789   0.015026   0.076525   \n",
       "WeatherDelay       0.238872   NaN  0.017684    0.002709  -0.012198   0.060002   \n",
       "NASDelay           0.171591   NaN  0.000651    0.008594   0.000053   0.013833   \n",
       "SecurityDelay      0.010668   NaN  0.008620   -0.007752   0.005031   0.009387   \n",
       "LateAircraftDelay  0.553806   NaN  0.017445    0.009641   0.007566  -0.022415   \n",
       "DepTime_Hour       0.203125   NaN -0.008803    0.001605   0.005866  -0.003754   \n",
       "DepTime_Minute    -0.017055   NaN  0.002405    0.006268  -0.000551  -0.006509   \n",
       "CRSDepTime_Hour    0.140084   NaN -0.006727    0.002206   0.005484  -0.011477   \n",
       "CRSDepTime_Minute  0.022437   NaN  0.011477   -0.000784  -0.000623  -0.002824   \n",
       "ArrTime_Hour       0.070181   NaN -0.002887   -0.001435   0.005762  -0.019202   \n",
       "ArrTime_Minute     0.006171   NaN -0.001491   -0.006125  -0.000901   0.001697   \n",
       "CRSArrTime_Hour    0.135561   NaN  0.002805    0.000708   0.006235  -0.031454   \n",
       "CRSArrTime_Minute  0.008609   NaN -0.005353    0.001285   0.000784   0.018267   \n",
       "\n",
       "                   ActualElapsedTime  CRSElapsedTime   AirTime  ArrDelay  \\\n",
       "DepDelay                    0.041946        0.034302  0.025237  0.933526   \n",
       "Year                             NaN             NaN       NaN       NaN   \n",
       "Month                      -0.014230       -0.005765 -0.012840 -0.041950   \n",
       "DayofMonth                 -0.008110       -0.007024 -0.007842  0.006479   \n",
       "DayOfWeek                   0.010330        0.013325  0.011541  0.002943   \n",
       "FlightNum                  -0.324021       -0.331409 -0.336906  0.027777   \n",
       "ActualElapsedTime           1.000000        0.979979  0.984401  0.089451   \n",
       "CRSElapsedTime              0.979979        1.000000  0.988293  0.010358   \n",
       "AirTime                     0.984401        0.988293  1.000000  0.031206   \n",
       "ArrDelay                    0.089451        0.010358  0.031206  1.000000   \n",
       "Distance                    0.965089        0.983478  0.983222  0.003952   \n",
       "TaxiIn                      0.154726        0.100990  0.082090  0.117087   \n",
       "TaxiOut                     0.264840        0.140438  0.105578  0.319716   \n",
       "Cancelled                        NaN       -0.007500       NaN       NaN   \n",
       "Diverted                         NaN        0.021977       NaN       NaN   \n",
       "CarrierDelay               -0.039599       -0.004071 -0.017756  0.501776   \n",
       "WeatherDelay               -0.011799       -0.018638 -0.024191  0.254704   \n",
       "NASDelay                    0.183883        0.043392  0.061818  0.370920   \n",
       "SecurityDelay               0.002250        0.003952  0.004590  0.008990   \n",
       "LateAircraftDelay          -0.085353       -0.041558 -0.060884  0.509705   \n",
       "DepTime_Hour               -0.017290       -0.014587 -0.023179  0.181565   \n",
       "DepTime_Minute              0.000991        0.001035  0.001006 -0.016460   \n",
       "CRSDepTime_Hour            -0.016923       -0.011965 -0.020695  0.119652   \n",
       "CRSDepTime_Minute           0.009981        0.011929  0.011579  0.017466   \n",
       "ArrTime_Hour                0.033067        0.034166  0.026744  0.062637   \n",
       "ArrTime_Minute              0.000021        0.002003  0.000545  0.002412   \n",
       "CRSArrTime_Hour             0.052552        0.058308  0.045576  0.115969   \n",
       "CRSArrTime_Minute           0.005242        0.005302  0.002669  0.009064   \n",
       "\n",
       "                         ...          SecurityDelay  LateAircraftDelay  \\\n",
       "DepDelay                 ...               0.010668           0.553806   \n",
       "Year                     ...                    NaN                NaN   \n",
       "Month                    ...               0.008620           0.017445   \n",
       "DayofMonth               ...              -0.007752           0.009641   \n",
       "DayOfWeek                ...               0.005031           0.007566   \n",
       "FlightNum                ...               0.009387          -0.022415   \n",
       "ActualElapsedTime        ...               0.002250          -0.085353   \n",
       "CRSElapsedTime           ...               0.003952          -0.041558   \n",
       "AirTime                  ...               0.004590          -0.060884   \n",
       "ArrDelay                 ...               0.008990           0.509705   \n",
       "Distance                 ...               0.006950          -0.037445   \n",
       "TaxiIn                   ...               0.000476          -0.046780   \n",
       "TaxiOut                  ...              -0.008832          -0.097731   \n",
       "Cancelled                ...                    NaN                NaN   \n",
       "Diverted                 ...                    NaN                NaN   \n",
       "CarrierDelay             ...              -0.013359          -0.139685   \n",
       "WeatherDelay             ...              -0.006283          -0.039146   \n",
       "NASDelay                 ...              -0.012667          -0.142288   \n",
       "SecurityDelay            ...               1.000000          -0.013749   \n",
       "LateAircraftDelay        ...              -0.013749           1.000000   \n",
       "DepTime_Hour             ...              -0.007682           0.205894   \n",
       "DepTime_Minute           ...              -0.001091           0.006873   \n",
       "CRSDepTime_Hour          ...              -0.012255           0.194631   \n",
       "CRSDepTime_Minute        ...              -0.011749           0.029836   \n",
       "ArrTime_Hour             ...              -0.002659          -0.002913   \n",
       "ArrTime_Minute           ...               0.004993           0.011328   \n",
       "CRSArrTime_Hour          ...              -0.013556           0.150937   \n",
       "CRSArrTime_Minute        ...              -0.001348           0.013136   \n",
       "\n",
       "                   DepTime_Hour  DepTime_Minute  CRSDepTime_Hour  \\\n",
       "DepDelay               0.203125       -0.017055         0.140084   \n",
       "Year                        NaN             NaN              NaN   \n",
       "Month                 -0.008803        0.002405        -0.006727   \n",
       "DayofMonth             0.001605        0.006268         0.002206   \n",
       "DayOfWeek              0.005866       -0.000551         0.005484   \n",
       "FlightNum             -0.003754       -0.006509        -0.011477   \n",
       "ActualElapsedTime     -0.017290        0.000991        -0.016923   \n",
       "CRSElapsedTime        -0.014587        0.001035        -0.011965   \n",
       "AirTime               -0.023179        0.001006        -0.020695   \n",
       "ArrDelay               0.181565       -0.016460         0.119652   \n",
       "Distance              -0.016906       -0.000497        -0.011925   \n",
       "TaxiIn                -0.046532       -0.001050        -0.052721   \n",
       "TaxiOut                0.051535        0.000526         0.041541   \n",
       "Cancelled              0.005084        0.004247         0.005426   \n",
       "Diverted               0.005684       -0.002487         0.003163   \n",
       "CarrierDelay          -0.015873       -0.010054        -0.073943   \n",
       "WeatherDelay           0.021972       -0.005184         0.007648   \n",
       "NASDelay              -0.004054       -0.001930        -0.039952   \n",
       "SecurityDelay         -0.007682       -0.001091        -0.012255   \n",
       "LateAircraftDelay      0.205894        0.006873         0.194631   \n",
       "DepTime_Hour           1.000000       -0.077192         0.959597   \n",
       "DepTime_Minute        -0.077192        1.000000        -0.036923   \n",
       "CRSDepTime_Hour        0.959597       -0.036923         1.000000   \n",
       "CRSDepTime_Minute      0.088525        0.255442         0.047769   \n",
       "ArrTime_Hour           0.706969       -0.019308         0.685465   \n",
       "ArrTime_Minute         0.008245        0.013563         0.008590   \n",
       "CRSArrTime_Hour        0.787868       -0.018996         0.785941   \n",
       "CRSArrTime_Minute      0.028640        0.003356         0.028171   \n",
       "\n",
       "                   CRSDepTime_Minute  ArrTime_Hour  ArrTime_Minute  \\\n",
       "DepDelay                    0.022437      0.070181        0.006171   \n",
       "Year                             NaN           NaN             NaN   \n",
       "Month                       0.011477     -0.002887       -0.001491   \n",
       "DayofMonth                 -0.000784     -0.001435       -0.006125   \n",
       "DayOfWeek                  -0.000623      0.005762       -0.000901   \n",
       "FlightNum                  -0.002824     -0.019202        0.001697   \n",
       "ActualElapsedTime           0.009981      0.033067        0.000021   \n",
       "CRSElapsedTime              0.011929      0.034166        0.002003   \n",
       "AirTime                     0.011579      0.026744        0.000545   \n",
       "ArrDelay                    0.017466      0.062637        0.002412   \n",
       "Distance                    0.015068      0.024635        0.002774   \n",
       "TaxiIn                     -0.013244      0.001059       -0.009682   \n",
       "TaxiOut                    -0.001402      0.043886        0.001425   \n",
       "Cancelled                   0.000811           NaN             NaN   \n",
       "Diverted                   -0.000544     -0.009086        0.004349   \n",
       "CarrierDelay               -0.020738     -0.073006        0.008268   \n",
       "WeatherDelay               -0.006072     -0.043228        0.011214   \n",
       "NASDelay                   -0.010783      0.022341        0.004407   \n",
       "SecurityDelay              -0.011749     -0.002659        0.004993   \n",
       "LateAircraftDelay           0.029836     -0.002913        0.011328   \n",
       "DepTime_Hour                0.088525      0.706969        0.008245   \n",
       "DepTime_Minute              0.255442     -0.019308        0.013563   \n",
       "CRSDepTime_Hour             0.047769      0.685465        0.008590   \n",
       "CRSDepTime_Minute           1.000000      0.079174        0.014155   \n",
       "ArrTime_Hour                0.079174      1.000000       -0.022279   \n",
       "ArrTime_Minute              0.014155     -0.022279        1.000000   \n",
       "CRSArrTime_Hour             0.083759      0.852284        0.001164   \n",
       "CRSArrTime_Minute           0.022834      0.008675        0.177660   \n",
       "\n",
       "                   CRSArrTime_Hour  CRSArrTime_Minute  \n",
       "DepDelay                  0.135561           0.008609  \n",
       "Year                           NaN                NaN  \n",
       "Month                     0.002805          -0.005353  \n",
       "DayofMonth                0.000708           0.001285  \n",
       "DayOfWeek                 0.006235           0.000784  \n",
       "FlightNum                -0.031454           0.018267  \n",
       "ActualElapsedTime         0.052552           0.005242  \n",
       "CRSElapsedTime            0.058308           0.005302  \n",
       "AirTime                   0.045576           0.002669  \n",
       "ArrDelay                  0.115969           0.009064  \n",
       "Distance                  0.047643           0.005432  \n",
       "TaxiIn                   -0.012198          -0.002818  \n",
       "TaxiOut                   0.059814           0.018710  \n",
       "Cancelled                -0.000505          -0.000116  \n",
       "Diverted                  0.013582          -0.000412  \n",
       "CarrierDelay             -0.067815           0.003963  \n",
       "WeatherDelay              0.015905           0.001877  \n",
       "NASDelay                 -0.004435           0.011456  \n",
       "SecurityDelay            -0.013556          -0.001348  \n",
       "LateAircraftDelay         0.150937           0.013136  \n",
       "DepTime_Hour              0.787868           0.028640  \n",
       "DepTime_Minute           -0.018996           0.003356  \n",
       "CRSDepTime_Hour           0.785941           0.028171  \n",
       "CRSDepTime_Minute         0.083759           0.022834  \n",
       "ArrTime_Hour              0.852284           0.008675  \n",
       "ArrTime_Minute            0.001164           0.177660  \n",
       "CRSArrTime_Hour           1.000000          -0.008834  \n",
       "CRSArrTime_Minute        -0.008834           1.000000  \n",
       "\n",
       "[28 rows x 28 columns]"
      ]
     },
     "execution_count": 593,
     "metadata": {},
     "output_type": "execute_result"
    }
   ],
   "source": [
    "corr"
   ]
  },
  {
   "cell_type": "markdown",
   "metadata": {},
   "source": [
    "Выберем порог \"высокой корреляции\" равный 0.5, что действительно свидетельствует о сильной взаимосвязи ответа и признака, и может стать основанием для удаления данного признака из нашего датасета. "
   ]
  },
  {
   "cell_type": "code",
   "execution_count": 594,
   "metadata": {
    "collapsed": false
   },
   "outputs": [
    {
     "name": "stdout",
     "output_type": "stream",
     "text": [
      "DepDelay 1.0\n",
      "ArrDelay 0.933525938482\n",
      "CarrierDelay 0.532696179045\n",
      "LateAircraftDelay 0.553805903594\n"
     ]
    }
   ],
   "source": [
    "corr_y = corr['DepDelay']\n",
    "for i in range(len(corr_y)):\n",
    "    if corr_y[i]>0.5:\n",
    "        print(corr.keys()[i], corr_y[i])"
   ]
  },
  {
   "cell_type": "markdown",
   "metadata": {},
   "source": [
    "Удалим лишние признаки:"
   ]
  },
  {
   "cell_type": "markdown",
   "metadata": {},
   "source": [
    "Сначала удалим признаки, которые показали корееляцию с ответом выше выбранного порога:"
   ]
  },
  {
   "cell_type": "code",
   "execution_count": 595,
   "metadata": {
    "collapsed": true
   },
   "outputs": [],
   "source": [
    "data.drop(['ArrDelay', 'LateAircraftDelay', 'CarrierDelay'], axis = 1, inplace = True)"
   ]
  },
  {
   "cell_type": "markdown",
   "metadata": {},
   "source": [
    "Признак Year принимает только одно значение = 2008, а значит никак не влияет на объяснение целевой переменной. Удалим признак Year.\n",
    "Так же удалим признаки, о которых было сказано в предыдущих пунктах, таких как например Canceled,для которого при его значении =1 для целефой переменной нет данных, а наблюдений с не отсутствующей целевой переменной так мало, что учитывать этот признак не имеет смысла. Так же стоит удалить признаки, которые отвечают за минуты, так как они сами по себе не дают никакой содержательной информации с помощью которой можно было бы объеснить целевую переменную."
   ]
  },
  {
   "cell_type": "code",
   "execution_count": 596,
   "metadata": {
    "collapsed": false
   },
   "outputs": [],
   "source": [
    "data.drop(['Year', 'TailNum', 'DepTime_Minute', 'CRSDepTime_Minute', 'ArrTime_Minute', 'CRSArrTime_Minute', 'Cancelled', 'CancellationCode'], axis = 1, inplace = True)"
   ]
  },
  {
   "cell_type": "code",
   "execution_count": 597,
   "metadata": {
    "collapsed": false
   },
   "outputs": [
    {
     "name": "stdout",
     "output_type": "stream",
     "text": [
      "Количество признаков: 22\n"
     ]
    }
   ],
   "source": [
    "print('Количество признаков:', data.shape[1])"
   ]
  },
  {
   "cell_type": "markdown",
   "metadata": {},
   "source": [
    "Приведем данные к виду, пригодному для обучения линейных моделей. Для этого вещественные признаки надо отмасштабировать, а категориальные — привести к числовому виду. Также надо устранить пропуски в данных."
   ]
  },
  {
   "cell_type": "markdown",
   "metadata": {},
   "source": [
    "**9*. (1 бонусный балл) ** В первую очередь поймем, зачем необходимо применять масштабирование. Следующие ячейки с кодом построят гистограммы для 3 вещественных признаков выборки."
   ]
  },
  {
   "cell_type": "code",
   "execution_count": 598,
   "metadata": {
    "collapsed": true
   },
   "outputs": [],
   "source": [
    "from matplotlib import pyplot as plt"
   ]
  },
  {
   "cell_type": "code",
   "execution_count": 599,
   "metadata": {
    "collapsed": true
   },
   "outputs": [],
   "source": [
    "X = data.drop(['DepDelay'], axis=1)"
   ]
  },
  {
   "cell_type": "code",
   "execution_count": 600,
   "metadata": {
    "collapsed": false,
    "scrolled": true
   },
   "outputs": [
    {
     "data": {
      "image/png": "[encoded data removed]",
      "text/plain": [
       "<matplotlib.figure.Figure at 0x11ed670f0>"
      ]
     },
     "metadata": {},
     "output_type": "display_data"
    }
   ],
   "source": [
    "X['DepTime_Hour'].hist(bins=20)\n",
    "plt.show()"
   ]
  },
  {
   "cell_type": "code",
   "execution_count": 601,
   "metadata": {
    "collapsed": false
   },
   "outputs": [
    {
     "data": {
      "image/png": "[encoded data removed]",
      "text/plain": [
       "<matplotlib.figure.Figure at 0x11bc1ac18>"
      ]
     },
     "metadata": {},
     "output_type": "display_data"
    }
   ],
   "source": [
    "X['TaxiIn'].hist(bins=20)\n",
    "plt.show()"
   ]
  },
  {
   "cell_type": "code",
   "execution_count": 602,
   "metadata": {
    "collapsed": false
   },
   "outputs": [
    {
     "data": {
      "image/png": "[encoded data removed]",
      "text/plain": [
       "<matplotlib.figure.Figure at 0x11fab6358>"
      ]
     },
     "metadata": {},
     "output_type": "display_data"
    }
   ],
   "source": [
    "X['FlightNum'].hist(bins=20)\n",
    "plt.show()"
   ]
  },
  {
   "cell_type": "markdown",
   "metadata": {},
   "source": [
    "Какую проблему вы наблюдаете на этих графиках? Как масштабирование поможет её исправить?"
   ]
  },
  {
   "cell_type": "markdown",
   "metadata": {},
   "source": [
    "Большие разбросы в значениях, то есть в одного признака данные имеют большие абсолютные значения в то время как у другого все значения очень маленькие. Например, у признака FlightNum большая часть значений находятся от 0 до 2000, в то время как у признаков TaxiIn и DepTime_Hour в среднем значения около 10 или 20. \n",
    "Такие различия приведут к тому, что признак с большими абсолютными значениями будет при обучении влиять на переменную больше, а влияние переменной с маленькими значениями может вообще не учитываться практически при обучении, хотя в реальности эти переменные могут влиять на объясняемую в одинаковой степени. \n",
    "Масштабирование помогает избежать описанных выше различий в степени влияния, приводит данные к одному масштабу, что помогает более точно оценить значимость колебаний признака в объяснении колебаний целевой переменной."
   ]
  },
  {
   "cell_type": "markdown",
   "metadata": {},
   "source": [
    "**10. (1 балл)** Вдобавок к масштабированию, некоторые из признаков в нашем датасете являются категориальными. Типичным подходом к работе с ними является бинарное, или [one-hot-кодирование](https://en.wikipedia.org/wiki/One-hot).\n",
    "\n",
    "\n",
    "Реализуйте функцию transform_data, которая принимает на вход DataFrame с признаками и выполняет следующие шаги:\n",
    "1. Замена пропущенных значений на нули для вещественных признаков и на строки 'nan' для категориальных.\n",
    "2. Масштабирование вещественных признаков с помощью [StandardScaler](http://scikit-learn.org/stable/modules/generated/sklearn.preprocessing.StandardScaler.html).\n",
    "3. One-hot-кодирование категориальных признаков с помощью [DictVectorizer](http://scikit-learn.org/stable/modules/generated/sklearn.feature_extraction.DictVectorizer.html) или функции [pd.get_dummies](http://pandas.pydata.org/pandas-docs/stable/generated/pandas.get_dummies.html).\n",
    "\n",
    "Метод должен возвращать преобразованный DataFrame, который должна состоять из масштабированных вещественных признаков и закодированных категориальных (исходные признаки должны быть исключены из выборки)."
   ]
  },
  {
   "cell_type": "code",
   "execution_count": 603,
   "metadata": {
    "collapsed": true
   },
   "outputs": [],
   "source": [
    "from sklearn.preprocessing import StandardScaler"
   ]
  },
  {
   "cell_type": "code",
   "execution_count": 704,
   "metadata": {
    "collapsed": false
   },
   "outputs": [],
   "source": [
    "def transform_data(data):\n",
    "    #находим вещественные признаки\n",
    "    num = data._get_numeric_data().fillna(value=0)\n",
    "    g = data.index\n",
    "    num = pd.DataFrame(num)\n",
    "\n",
    "    #заменяем и масштабируем вещественные\n",
    "    num_n = StandardScaler().fit_transform(num)\n",
    "    num_n = pd.DataFrame(num_n, index = g)\n",
    "    num_n.columns = num.columns\n",
    "\n",
    "    #заменяем категориальные\n",
    "    not_num = pd.DataFrame()\n",
    "    for i in data.columns:\n",
    "        if i not in num.columns:\n",
    "            data[i].fillna(value='nan')\n",
    "            not_num[i]=data[i]\n",
    "\n",
    "    #кодируем категориальные\n",
    "    d = []\n",
    "    for i in range(63404):\n",
    "        d.append(i)\n",
    "    cat_dum = pd.DataFrame()\n",
    "    for a in not_num.columns:\n",
    "        dum = pd.get_dummies(not_num[a], prefix=a)\n",
    "        for b in dum.keys():\n",
    "            cat_dum[b]=dum[b]\n",
    "            num_n[b] = dum[b]\n",
    "\n",
    "    return num_n"
   ]
  },
  {
   "cell_type": "markdown",
   "metadata": {},
   "source": [
    "Примените функцию transform_data к данным. Сколько признаков получилось после преобразования?"
   ]
  },
  {
   "cell_type": "code",
   "execution_count": 721,
   "metadata": {
    "collapsed": false
   },
   "outputs": [
    {
     "data": {
      "text/plain": [
       "(63404, 631)"
      ]
     },
     "execution_count": 721,
     "metadata": {},
     "output_type": "execute_result"
    }
   ],
   "source": [
    "X_new = transform_data(X)\n",
    "X_new.shape"
   ]
  },
  {
   "cell_type": "markdown",
   "metadata": {},
   "source": [
    "Из-за того, что у некоторых категориальных признаков было много уникальных значений, получилось достаточно много признаков, а именно 631. В целом такое количество признаков не очень хорошо, учитывая, что много различных признаков было создано по категориальным значениям, которые могли встречаться всего у нескольких наблюдений  "
   ]
  },
  {
   "cell_type": "markdown",
   "metadata": {},
   "source": [
    "**11. (0.75 балла)** Разбейте выборку и вектор целевой переменной на обучение и контроль в отношении 70/30 (для этого можно использовать, например, функцию [train_test_split](http://scikit-learn.org/stable/modules/generated/sklearn.cross_validation.train_test_split.html)). "
   ]
  },
  {
   "cell_type": "code",
   "execution_count": 723,
   "metadata": {
    "collapsed": false
   },
   "outputs": [],
   "source": [
    "from sklearn.model_selection import train_test_split\n",
    "X_train, X_test, y_train, y_test = train_test_split(X_new, y, test_size = 0.3)"
   ]
  },
  {
   "cell_type": "markdown",
   "metadata": {},
   "source": [
    "### Scikit-learn\n",
    "\n",
    "<img src = \"https://pp.vk.me/c4534/u35727827/93547647/x_d31c4463.jpg\">\n",
    "Теперь, когда мы привели данные к пригодному виду, попробуем решить задачу при помощи метода наименьших квадратов. Напомним, что данный метод заключается в оптимизации функционала $MSE$:\n",
    "\n",
    "$$MSE(X, y) = \\frac{1}{l} \\sum_{i=1}^l (<w, x_i> - y_i)^2 \\to \\min_{w},$$\n",
    "\n",
    "где $\\{ (x_i, y_i ) \\}_{i=1}^l$ — обучающая выборка, состоящая из $l$ пар объект-ответ.\n",
    "\n",
    "Заметим, что решение данной задачи уже реализовано в модуле sklearn в виде класса [LinearRegression](http://scikit-learn.org/stable/modules/generated/sklearn.linear_model.LinearRegression.html#sklearn.linear_model.LinearRegression).\n",
    "\n",
    "**12. (0.5 балла)** Обучите линейную регрессию на 1000 объектах из обучающей выборки и выведите значения $MSE$ и $R^2$ на этой подвыборке и контрольной выборке (итого 4 различных числа). Проинтерпретируйте полученный результат — насколько качественные прогнозы строит полученная модель? Какие проблемы наблюдаются в модели?\n",
    "\n",
    "**Подсказка**: изучите значения полученных коэффициентов $w$, сохраненных в атрибуте coef_ объекта LinearRegression."
   ]
  },
  {
   "cell_type": "code",
   "execution_count": 710,
   "metadata": {
    "collapsed": true
   },
   "outputs": [],
   "source": [
    "from sklearn.linear_model import LinearRegression"
   ]
  },
  {
   "cell_type": "code",
   "execution_count": 711,
   "metadata": {
    "collapsed": true
   },
   "outputs": [],
   "source": [
    "from sklearn.metrics import mean_squared_error, r2_score"
   ]
  },
  {
   "cell_type": "markdown",
   "metadata": {},
   "source": [
    "Обучим линейную регрессию по 1000 наблюдениям из обучающей выборки:"
   ]
  },
  {
   "cell_type": "code",
   "execution_count": 724,
   "metadata": {
    "collapsed": true
   },
   "outputs": [],
   "source": [
    "lin_regr = LinearRegression().fit(X_train[:1000], y_train[:1000])"
   ]
  },
  {
   "cell_type": "code",
   "execution_count": 725,
   "metadata": {
    "collapsed": true
   },
   "outputs": [],
   "source": [
    "y_pred = lin_regr.predict(X_test)"
   ]
  },
  {
   "cell_type": "markdown",
   "metadata": {},
   "source": [
    "А теперь найдем требуемые метрики качества:"
   ]
  },
  {
   "cell_type": "code",
   "execution_count": 726,
   "metadata": {
    "collapsed": false
   },
   "outputs": [
    {
     "name": "stdout",
     "output_type": "stream",
     "text": [
      "MSE: 3.31622403245e+29\n",
      "R^2: -2.73020356722e+26\n"
     ]
    }
   ],
   "source": [
    "print('MSE:', mean_squared_error(y_test, y_pred))\n",
    "print('R^2:', r2_score(y_test, y_pred))"
   ]
  },
  {
   "cell_type": "markdown",
   "metadata": {},
   "source": [
    "А теперь построим модель и найдем метрики на всей контрольной выборке:"
   ]
  },
  {
   "cell_type": "code",
   "execution_count": 727,
   "metadata": {
    "collapsed": true
   },
   "outputs": [],
   "source": [
    "lin_regr_all = LinearRegression().fit(X_train, y_train)\n",
    "y_pred = lin_regr_all.predict(X_test)"
   ]
  },
  {
   "cell_type": "code",
   "execution_count": 728,
   "metadata": {
    "collapsed": false
   },
   "outputs": [
    {
     "name": "stdout",
     "output_type": "stream",
     "text": [
      "MSE: 932.302023962\n",
      "R^2 0.232448023219\n"
     ]
    }
   ],
   "source": [
    "print('MSE:', mean_squared_error(y_test, y_pred))\n",
    "print('R^2', r2_score(y_test, y_pred))"
   ]
  },
  {
   "cell_type": "markdown",
   "metadata": {},
   "source": [
    "MSE для 1000 объектов значительно меньше MSE для случая обучения на всей выборке, так же как и значение R^2 значительно больше, когда мы проводим обучение используя всю выборку."
   ]
  },
  {
   "cell_type": "markdown",
   "metadata": {},
   "source": [
    "Интерпретировать качество модели с помощью MSE достаточно сложно, однако понятно, что чем меньше значение MSE, тем модель лучше, а значит могласно этой метрике качества модель обученная на 100 объектах лучше, чем модель обученная на всех объектах.То, что R^2 принимает отрицательные значения само по себе странно, так как его значение должно находиться в диапазоне от 0 до 1. Попробуем посмотреть на веса."
   ]
  },
  {
   "cell_type": "code",
   "execution_count": 729,
   "metadata": {
    "collapsed": false
   },
   "outputs": [
    {
     "data": {
      "text/plain": [
       "558249540258632.25"
      ]
     },
     "execution_count": 729,
     "metadata": {},
     "output_type": "execute_result"
    }
   ],
   "source": [
    "max(lin_regr.coef_)"
   ]
  },
  {
   "cell_type": "code",
   "execution_count": 730,
   "metadata": {
    "collapsed": false
   },
   "outputs": [
    {
     "data": {
      "text/plain": [
       "-178308961063701.34"
      ]
     },
     "execution_count": 730,
     "metadata": {},
     "output_type": "execute_result"
    }
   ],
   "source": [
    "min(lin_regr.coef_)"
   ]
  },
  {
   "cell_type": "code",
   "execution_count": 731,
   "metadata": {
    "collapsed": false
   },
   "outputs": [
    {
     "data": {
      "text/plain": [
       "758973640838.65625"
      ]
     },
     "execution_count": 731,
     "metadata": {},
     "output_type": "execute_result"
    }
   ],
   "source": [
    "np.mean(lin_regr.coef_)"
   ]
  },
  {
   "cell_type": "code",
   "execution_count": 732,
   "metadata": {
    "collapsed": false
   },
   "outputs": [
    {
     "data": {
      "text/plain": [
       "0.0"
      ]
     },
     "execution_count": 732,
     "metadata": {},
     "output_type": "execute_result"
    }
   ],
   "source": [
    "np.median(lin_regr.coef_)"
   ]
  },
  {
   "cell_type": "markdown",
   "metadata": {},
   "source": [
    "Так как значения коэффициентов очень разные, то некоторые признаки из модели получили слишком большие веса, что показано выше. Такие огромные веса свидетельствуют о переобучении модели!!!"
   ]
  },
  {
   "cell_type": "markdown",
   "metadata": {
    "collapsed": true
   },
   "source": [
    "### Для решения описанных вами в предыдущем пункте проблем используем L1- или L2-регуляризацию, тем самым получив Lasso и Ridge регрессии соответственно и изменив оптимизационную задачу одним из следующих образов:\n",
    "$$MSE_{L1}(X, y) = \\frac{1}{l} \\sum_{i=1}^l (<w, x_i> - y_i)^2 + \\alpha ||w||_1 \\to \\min_{w},$$\n",
    "$$MSE_{L2}(X, y) = \\frac{1}{l} \\sum_{i=1}^l (<w, x_i> - y_i)^2 + \\alpha ||w||_2^2 \\to \\min_{w},$$\n",
    "\n",
    "где $\\alpha$ — коэффициент регуляризации. Один из способов его подбора заключается в переборе некоторого количества значений и оценке качества на кросс-валидации для каждого из них, после чего выбирается значение, для которого было получено наилучшее качество.\n",
    "\n",
    "**13. (1 балл)** Обучите линейные регрессии с L1- и L2-регуляризатором, подобрав лучшее значение параметра регуляризации из списка alpha_grid при помощи кросс-валидации c 5 фолдами на тех же 1000 объектах, что и в п.12. Выведите значения $MSE$ и $R^2$ на обучающей и контрольной выборках. Удалось ли решить указанные вами ранее проблемы?\n",
    "\n",
    "Для выполнения данного задания вам могут понадобиться реализованные в библиотеке объекты [LassoCV](http://scikit-learn.org/stable/modules/generated/sklearn.linear_model.LassoCV.html), [RidgeCV](http://scikit-learn.org/stable/modules/generated/sklearn.linear_model.RidgeCV.html) и [KFold](http://scikit-learn.org/stable/modules/generated/sklearn.cross_validation.KFold.html).\n"
   ]
  },
  {
   "cell_type": "code",
   "execution_count": 733,
   "metadata": {
    "collapsed": true
   },
   "outputs": [],
   "source": [
    "from sklearn.linear_model import LassoCV, RidgeCV"
   ]
  },
  {
   "cell_type": "code",
   "execution_count": 735,
   "metadata": {
    "collapsed": false
   },
   "outputs": [],
   "source": [
    "from sklearn.cross_validation import KFold\n",
    "import sklearn\n",
    "from sklearn import cross_validation\n",
    "from sklearn.model_selection import GridSearchCV"
   ]
  },
  {
   "cell_type": "markdown",
   "metadata": {},
   "source": [
    "Попробуем сначала просто добавить в модель регуляризацию без дополничельного подбора оптимальных значений альфа:"
   ]
  },
  {
   "cell_type": "code",
   "execution_count": 736,
   "metadata": {
    "collapsed": true
   },
   "outputs": [],
   "source": [
    "L1 = LassoCV()\n",
    "L2 = RidgeCV()"
   ]
  },
  {
   "cell_type": "code",
   "execution_count": 737,
   "metadata": {
    "collapsed": true
   },
   "outputs": [],
   "source": [
    "L1.fit(X_train[:1000], y_train[:1000])\n",
    "y_pred = L1.predict(X_test)"
   ]
  },
  {
   "cell_type": "markdown",
   "metadata": {},
   "source": [
    "Для регрессии с Lasso:"
   ]
  },
  {
   "cell_type": "code",
   "execution_count": 738,
   "metadata": {
    "collapsed": false
   },
   "outputs": [
    {
     "name": "stdout",
     "output_type": "stream",
     "text": [
      "MSE: 972.169595563\n",
      "R^2: 0.199625576625\n"
     ]
    }
   ],
   "source": [
    "print('MSE:', mean_squared_error(y_test, y_pred))\n",
    "print('R^2:', r2_score(y_test, y_pred))"
   ]
  },
  {
   "cell_type": "code",
   "execution_count": 739,
   "metadata": {
    "collapsed": true
   },
   "outputs": [],
   "source": [
    "L2.fit(X_train[:1000], y_train[:1000])\n",
    "y_pred = L2.predict(X_test)"
   ]
  },
  {
   "cell_type": "markdown",
   "metadata": {},
   "source": [
    "Для регрессии Ridge:"
   ]
  },
  {
   "cell_type": "code",
   "execution_count": 740,
   "metadata": {
    "collapsed": false
   },
   "outputs": [
    {
     "name": "stdout",
     "output_type": "stream",
     "text": [
      "MSE: 971.710480959\n",
      "R^2: 0.200003559631\n"
     ]
    }
   ],
   "source": [
    "print('MSE:', mean_squared_error(y_test, y_pred))\n",
    "print('R^2:', r2_score(y_test, y_pred))"
   ]
  },
  {
   "cell_type": "markdown",
   "metadata": {},
   "source": [
    "Сравним полученные результаты с метриками на регрессиях без регуляризации:\n",
    "Значение R^2: -2.73020356722e+26 без регуляризации, а с ней \n",
    "- при Lasso R^2: 0.199625576625\n",
    "- при Ridge R^2: 0.200003559631\n",
    "что свидеельствует об улучшении качества модели."
   ]
  },
  {
   "cell_type": "markdown",
   "metadata": {},
   "source": [
    "А теперь с помощью GridSearch подберем оптимаьлные значения альфа и посмтроим регрессию с найденными значениями."
   ]
  },
  {
   "cell_type": "code",
   "execution_count": 741,
   "metadata": {
    "collapsed": true
   },
   "outputs": [],
   "source": [
    "L2_n = sklearn.linear_model.Ridge()"
   ]
  },
  {
   "cell_type": "code",
   "execution_count": 796,
   "metadata": {
    "collapsed": true
   },
   "outputs": [],
   "source": [
    "L1_n = sklearn.linear_model.Lasso()"
   ]
  },
  {
   "cell_type": "code",
   "execution_count": 797,
   "metadata": {
    "collapsed": true
   },
   "outputs": [],
   "source": [
    "cv = cross_validation.KFold(n=1000, n_folds=10, random_state=14, shuffle=True)\n",
    "alphas_R = GridSearchCV(L2_n, {'alpha': np.arange(10, 140, 5)}, cv = cv,scoring='r2')\n",
    "alphas_L = GridSearchCV(L1_n, {'alpha': np.arange(10, 140, 5)}, cv = cv,scoring='r2')"
   ]
  },
  {
   "cell_type": "code",
   "execution_count": 798,
   "metadata": {
    "collapsed": false
   },
   "outputs": [
    {
     "data": {
      "text/plain": [
       "GridSearchCV(cv=sklearn.cross_validation.KFold(n=1000, n_folds=10, shuffle=True, random_state=14),\n",
       "       error_score='raise',\n",
       "       estimator=Lasso(alpha=1.0, copy_X=True, fit_intercept=True, max_iter=1000,\n",
       "   normalize=False, positive=False, precompute=False, random_state=None,\n",
       "   selection='cyclic', tol=0.0001, warm_start=False),\n",
       "       fit_params=None, iid=True, n_jobs=1,\n",
       "       param_grid={'alpha': array([ 10,  15,  20,  25,  30,  35,  40,  45,  50,  55,  60,  65,  70,\n",
       "        75,  80,  85,  90,  95, 100, 105, 110, 115, 120, 125, 130, 135])},\n",
       "       pre_dispatch='2*n_jobs', refit=True, return_train_score=True,\n",
       "       scoring='r2', verbose=0)"
      ]
     },
     "execution_count": 798,
     "metadata": {},
     "output_type": "execute_result"
    }
   ],
   "source": [
    "alphas_R.fit(X_train[:1000],y_train[:1000])\n",
    "alphas_L.fit(X_train[:1000],y_train[:1000])"
   ]
  },
  {
   "cell_type": "code",
   "execution_count": 800,
   "metadata": {
    "collapsed": false
   },
   "outputs": [
    {
     "name": "stdout",
     "output_type": "stream",
     "text": [
      "R^2 для Ridge: 0.268392501774\n",
      "R^2 для Lasso: 0.000634094439195\n"
     ]
    }
   ],
   "source": [
    "alphas_R1 = pd.DataFrame(alphas_R.cv_results_)\n",
    "alphas_L1 = pd.DataFrame(alphas_L.cv_results_)\n",
    "print('R^2 для Ridge:', np.mean(alphas_R1.mean_test_score))\n",
    "print('R^2 для Lasso:', np.mean(alphas_L1.mean_test_score))"
   ]
  },
  {
   "cell_type": "markdown",
   "metadata": {},
   "source": [
    "Итак, подводя итог можно сказать, что согласно метрикам качества построенных моделей, \n",
    "- линейные регрессии без регуляризации склонны к переобучению о чем свидетельствуют огромные значения весов (в то время как признаки у нас масштабированные и имеют небольшие и не сильно различающиеся значения). Метрики качества на моделях без регуляризации ведут себя не вполне адекватно и как при обучении на всей выборке, так и при обучении на 1000 объектах показывают плохие результаты.\n",
    "- линейный модели с регуляризацией помогают справиться с возникавшей прежде проблемой. Ridge регрессия производит отбор некоторых признаков, что так же в итоге помогает улучшить качество модели. Значения MSE и R^2 уже значительно лучше, хотя R^2 все еще достаточно близок к нулю.\n",
    "- при подборе альф для Ridge регрессии показатель R^2 вырос, а значит модель обучается лучше с подобранными GridSearch-ем значиниями альфа."
   ]
  },
  {
   "cell_type": "markdown",
   "metadata": {},
   "source": [
    "### Градиентный спуск\n",
    "\n",
    "В предыдущем разделе мы использовали существующие реализации методов обучения линейной регрессии с регуляризацией и без. Тем не менее, подобные реализации, как правило, имеются лишь для ограниченного набора стандартных методов. В частности, при выходе функционала качества за пределы стандартного множества необходимо самостоятельно реализовывать составляющие процесса решения оптимизационной задачи. Именно этому и посвящен данный раздел задания.\n",
    "\n",
    "Пусть необходимо минимизировать следующий функционал (Mean Square Percentage Error — модифицированный [RMSPE](https://www.kaggle.com/c/rossmann-store-sales/details/evaluation)):\n",
    "$$MSPE(\\{x_i, y_i\\}_{i=1}^l, \\, w) = \\frac{1}{l}\\sum_{i=1}^l \\left( \\frac{y_i - \\langle w, x_i \\rangle }{y_i} \\right)^2,$$\n",
    "\n",
    "где $\\{x_i, y_i\\}_{i=1}^l$ — обучающая выборка, $w$ — вектор весов линейной модели. Будем также рассматривать функционал $MSPE$ с L2-регуляризацией:\n",
    "\n",
    "$$MSPE(\\{x_i, y_i\\}_{i=1}^l, \\, w) = \\frac{1}{l}\\sum_{i=1}^l \\left( \\frac{y_i - \\langle w, x_i \\rangle }{y_i} \\right)^2 + ||w||_2^2.$$\n",
    "\n",
    "**14. (0 баллов)** Добавьте к объектам обеих выборок из п. 11 единичный признак."
   ]
  },
  {
   "cell_type": "code",
   "execution_count": 747,
   "metadata": {
    "collapsed": true
   },
   "outputs": [],
   "source": [
    "X_new['One'] = np.ones(X_new.shape[0])\n",
    "X_train = X_train.reset_index(drop = True)\n",
    "y_train = y_train.reset_index(drop = True)"
   ]
  },
  {
   "cell_type": "markdown",
   "metadata": {},
   "source": [
    "**15. (1 балл)** Реализуйте функции, которые вычисляют:\n",
    " * прогнозы линейной модели;\n",
    " * функционал $MSPE$ и его градиент;\n",
    " * регуляризованный $MSPE$ и его градиент."
   ]
  },
  {
   "cell_type": "code",
   "execution_count": 843,
   "metadata": {
    "collapsed": true
   },
   "outputs": [],
   "source": [
    "?np.dot()"
   ]
  },
  {
   "cell_type": "code",
   "execution_count": 847,
   "metadata": {
    "collapsed": true
   },
   "outputs": [],
   "source": [
    "# возвращает вектор прогнозов линейной модели с вектором весов w для выборки X\n",
    "def make_pred(X, w):\n",
    "    return np.dot(X, w)"
   ]
  },
  {
   "cell_type": "code",
   "execution_count": 846,
   "metadata": {
    "collapsed": true
   },
   "outputs": [],
   "source": [
    "# возвращает значение функционала MSPE для выборки (X, y) и вектора весов w\n",
    "def get_func(w, X, y):\n",
    "    MSPE = 0\n",
    "    len_X = X.shape[0]\n",
    "    for i in range(len_X):\n",
    "        MSPE = MSPE + (((y[i]- make_pred(X,w)[i])/y[i])**2)\n",
    "    MSPE = MSPE/len_X\n",
    "    return(MSPE)"
   ]
  },
  {
   "cell_type": "code",
   "execution_count": 862,
   "metadata": {
    "collapsed": true
   },
   "outputs": [],
   "source": [
    "# возвращает градиент функционала MSPE для выборки (X, y) и вектора весов w\n",
    "def get_grad(w, X, y):\n",
    "    MSPE_grad = 0\n",
    "    len_X = X.shape[0]\n",
    "    for i in range(len_X):\n",
    "        MSPE_grad = MSPE_grad - (2/len_X)*(X.loc[i,]/y[i])+2*make_pred(X**2,w)[i]/y**2\n",
    "    return MSPE_grad"
   ]
  },
  {
   "cell_type": "code",
   "execution_count": 864,
   "metadata": {
    "collapsed": true
   },
   "outputs": [],
   "source": [
    "# возвращает значение регуляризованного функционала MSPE для выборки (X, y) и вектора весов w\n",
    "def get_reg_func(w, X, y):\n",
    "    MSPE_reg = 0\n",
    "    len_X = X.shape[0]\n",
    "    for i in range(len_X):\n",
    "        MSPE_reg = MSPE_reg + (((y[i]- make_pred(X,w)[i])/y[i])**2)+numpy.linalg.norm(w[i], 2)**2\n",
    "    MSPE_reg = MSPE_reg/len_X\n",
    "    return(MSPE_reg)"
   ]
  },
  {
   "cell_type": "code",
   "execution_count": 865,
   "metadata": {
    "collapsed": true
   },
   "outputs": [],
   "source": [
    "# возвращает градиент регуляризованного функционала MSPE для выборки (X, y) и вектора весов w\n",
    "def get_reg_grad(w, X, y):\n",
    "    MSPE_grad_reg = 0\n",
    "    len_X = X.shape[0]\n",
    "    for i in range(len_X):\n",
    "        MSPE_grad_reg = MSPE_grad_reg - (2/len_X)*(X.loc[i,]/y[i])+2*make_pred(X**2,w)[i]/y**2+2*w[i]\n",
    "    return MSPE_grad_reg"
   ]
  },
  {
   "cell_type": "markdown",
   "metadata": {},
   "source": [
    "**16. (1 балл)** Реализуйте метод градиентного спуска для описанных функционалов ($MSPE$ и его регуляризованный вариант). Функция должна принимать следующие параметры:\n",
    " - X — матрица \"объект-признак\";\n",
    " - y — вектор целевой переменной;\n",
    " - w0 — начальное значение вектора весов;\n",
    " - step_size — значение темпа обучения;\n",
    " - max_iter — максимальное число итераций;\n",
    " - eps — значение, используемое в критерии останова;\n",
    " - is_reg — бинарный параметр, принимает значение True в случае наличия регуляризации функционала, False — в противном случае.\n",
    " \n",
    "Процесс должен быть остановлен, если выполнено хотя бы одно из следующих условий:\n",
    " - было выполнено заданное количество итераций max_iter;\n",
    " - евклидова норма разности векторов $w$ на соседних итерациях стала меньше, чем eps.\n",
    "\n",
    "Функция должна возвращать полученный в результате оптимизации вектор $w$ и список значений функционала на каждой итерации."
   ]
  },
  {
   "cell_type": "code",
   "execution_count": 866,
   "metadata": {
    "collapsed": true
   },
   "outputs": [],
   "source": [
    "def grad_descent(X, y, eps, step_size, max_iter, is_reg):\n",
    "    func_value = []\n",
    "    w_new = [1 for x in range(X.shape[1])]\n",
    "    if is_reg:\n",
    "        for i in range(max_iter):\n",
    "            w = w_new\n",
    "            w_new = w - step_size*get_reg_grad(w, X, y)\n",
    "            func_value.append(get_reg_func(w_new, X, y))\n",
    "            if  np.linalg.norm(w_new - w) < eps:\n",
    "                break    \n",
    "    else:\n",
    "        for i in range(max_iter):\n",
    "            w = w_new\n",
    "            w_new = w - step_size*get_grad(w, X, y)\n",
    "            func_value.append(get_func(w_new, X, y))\n",
    "            if  np.linalg.norm(w_new - w) < eps:\n",
    "                break       \n",
    "    return  w_new, func_value"
   ]
  },
  {
   "cell_type": "markdown",
   "metadata": {},
   "source": [
    "Итак, сначала попробуем просто построить нашу линейную регрессионную модель, установив небольшое число итераций (20) и шаг 1:"
   ]
  },
  {
   "cell_type": "code",
   "execution_count": 884,
   "metadata": {
    "collapsed": true
   },
   "outputs": [],
   "source": [
    "w_pred, MSPE = grad_descent(X_train, y_train, eps=0.000001, step_size=1, max_iter=20, is_reg = True)"
   ]
  },
  {
   "cell_type": "code",
   "execution_count": 887,
   "metadata": {
    "collapsed": false
   },
   "outputs": [
    {
     "data": {
      "text/plain": [
       "[<matplotlib.lines.Line2D at 0x19117d208>]"
      ]
     },
     "execution_count": 887,
     "metadata": {},
     "output_type": "execute_result"
    }
   ],
   "source": [
    "plt.plot(MSPE)"
   ]
  },
  {
   "cell_type": "code",
   "execution_count": 889,
   "metadata": {
    "collapsed": false
   },
   "outputs": [
    {
     "data": {
      "image/png": "[encoded data removed]",
      "text/plain": [
       "<matplotlib.figure.Figure at 0x137ab6e48>"
      ]
     },
     "metadata": {},
     "output_type": "display_data"
    }
   ],
   "source": [
    "plt.show()"
   ]
  },
  {
   "cell_type": "markdown",
   "metadata": {},
   "source": [
    "Значение ошибки сходится, что свидетельствует о том, что градиет равботает правильно и возможно при большем количестве тераций можно получить картинку еще лучше."
   ]
  },
  {
   "cell_type": "markdown",
   "metadata": {},
   "source": [
    "Обучите линейную регрессию с функционалом $MSPE$ на обучающей выборке при помощи метода градиентного спуска и изобразите кривые зависимости значения функционала от номера итерации для различных:\n",
    " * значений размера шага из набора [0.001, 1, 10];\n",
    " * способов начальной инициализации вектора весов (нули, случайные веса).\n",
    "\n",
    "Проанализируйте полученные результаты — влияют ли данные параметры на скорость сходимости и итоговое качество? Если да, то как?"
   ]
  },
  {
   "cell_type": "markdown",
   "metadata": {},
   "source": [
    "Теперь уставином, как сказано в задании разные размеры шага и посмотрим на график, построенный по значениям ошибки на каждой итерации:"
   ]
  },
  {
   "cell_type": "markdown",
   "metadata": {},
   "source": [
    "Установим шаг 0.001, следаем побольше итераций и посмтроим график:"
   ]
  },
  {
   "cell_type": "code",
   "execution_count": 911,
   "metadata": {
    "collapsed": false
   },
   "outputs": [],
   "source": [
    "w_1, MSPE_1 = grad_descent(X_train, y_train, eps=0.000001, step_size=0.001, max_iter=100,is_reg = False)"
   ]
  },
  {
   "cell_type": "code",
   "execution_count": 912,
   "metadata": {
    "collapsed": false
   },
   "outputs": [
    {
     "data": {
      "image/png": "[encoded data removed]",
      "text/plain": [
       "<matplotlib.figure.Figure at 0x1262b7d68>"
      ]
     },
     "metadata": {},
     "output_type": "display_data"
    }
   ],
   "source": [
    "plt.plot(MSPE_1)\n",
    "plt.show()"
   ]
  },
  {
   "cell_type": "markdown",
   "metadata": {},
   "source": [
    "Судя по графику ошибка только растет. Попробуем другие размеры шага."
   ]
  },
  {
   "cell_type": "markdown",
   "metadata": {},
   "source": [
    "Установим шаг = 1:"
   ]
  },
  {
   "cell_type": "code",
   "execution_count": 895,
   "metadata": {
    "collapsed": true
   },
   "outputs": [],
   "source": [
    "w_2, MSPE_2 = grad_descent(X_train, y_train, eps=0.000001, step_size=1, max_iter=100,is_reg = False)"
   ]
  },
  {
   "cell_type": "code",
   "execution_count": 896,
   "metadata": {
    "collapsed": false
   },
   "outputs": [
    {
     "data": {
      "image/png": "[encoded data removed]",
      "text/plain": [
       "<matplotlib.figure.Figure at 0x19180d278>"
      ]
     },
     "metadata": {},
     "output_type": "display_data"
    }
   ],
   "source": [
    "plt.plot(MSPE_2)\n",
    "plt.show()"
   ]
  },
  {
   "cell_type": "markdown",
   "metadata": {},
   "source": [
    "И шаг равный 10:"
   ]
  },
  {
   "cell_type": "code",
   "execution_count": 897,
   "metadata": {
    "collapsed": true
   },
   "outputs": [],
   "source": [
    "w_3, MSPE_3 = grad_descent(X_train, y_train, eps=0.000001, step_size=10, max_iter=100,is_reg = False)"
   ]
  },
  {
   "cell_type": "code",
   "execution_count": 898,
   "metadata": {
    "collapsed": false
   },
   "outputs": [
    {
     "data": {
      "image/png": "[encoded data removed]",
      "text/plain": [
       "<matplotlib.figure.Figure at 0x1262abe48>"
      ]
     },
     "metadata": {},
     "output_type": "display_data"
    }
   ],
   "source": [
    "plt.plot(MSPE_3)\n",
    "plt.show()"
   ]
  },
  {
   "cell_type": "markdown",
   "metadata": {},
   "source": [
    "График выглядит странно, около 100 шага ее значение резко \"взлетает\", а до этого равно 0. Значит данные размеры шагов не подходят для оптимальной работы алгорится графиентного спуска."
   ]
  },
  {
   "cell_type": "markdown",
   "metadata": {},
   "source": [
    "Вероятно проблема в отсутствии регуляризации, которая справлялась с переобучением модели. Попробуем теперь рассмотреть графики с регуляризацие. Ожидаем, что графики будут выглядеть значительно лучше, так как для самаого первого графика, в котором мы применили регуляризацию, все выглядело очень даже неплохо. "
   ]
  },
  {
   "cell_type": "markdown",
   "metadata": {},
   "source": [
    "**17. (0.5 балла)** Обучите линейную регрессию с функционалом MSPE и его регуляризованным вариантом на обучающей выборке при помощи метода градиентного спуска и изобразите кривые зависимости значения функционала от номера итерации. Исследуйте зависимость скорости сходимости от наличия регуляризации. Обоснуйте, почему так происходит."
   ]
  },
  {
   "cell_type": "markdown",
   "metadata": {},
   "source": [
    "Возьмем количетво итераций = 60:"
   ]
  },
  {
   "cell_type": "markdown",
   "metadata": {},
   "source": [
    "Для шага 1:"
   ]
  },
  {
   "cell_type": "code",
   "execution_count": 913,
   "metadata": {
    "collapsed": false
   },
   "outputs": [],
   "source": [
    "w_4, MSPE_4 = grad_descent(X_train, y_train, eps=0.000001, step_size=1, max_iter=60, is_reg = True)"
   ]
  },
  {
   "cell_type": "code",
   "execution_count": 900,
   "metadata": {
    "collapsed": false
   },
   "outputs": [
    {
     "data": {
      "image/png": "[encoded data removed]",
      "text/plain": [
       "<matplotlib.figure.Figure at 0x1942d2390>"
      ]
     },
     "metadata": {},
     "output_type": "display_data"
    }
   ],
   "source": [
    "plt.plot(MSPE_4)\n",
    "plt.show()"
   ]
  },
  {
   "cell_type": "markdown",
   "metadata": {},
   "source": [
    "Видим, что до 40 итерации все выглядит очень даже неплохо:)"
   ]
  },
  {
   "cell_type": "markdown",
   "metadata": {},
   "source": [
    "Для шага 10:"
   ]
  },
  {
   "cell_type": "code",
   "execution_count": 914,
   "metadata": {
    "collapsed": false
   },
   "outputs": [],
   "source": [
    "w_5, MSPE_5 = grad_descent(X_train, y_train, eps=0.000001, step_size=10, max_iter=60, is_reg = True)"
   ]
  },
  {
   "cell_type": "code",
   "execution_count": 902,
   "metadata": {
    "collapsed": false
   },
   "outputs": [
    {
     "data": {
      "image/png": "[encoded data removed]",
      "text/plain": [
       "<matplotlib.figure.Figure at 0x19079d908>"
      ]
     },
     "metadata": {},
     "output_type": "display_data"
    }
   ],
   "source": [
    "plt.plot(MSPE_5)\n",
    "plt.show()"
   ]
  },
  {
   "cell_type": "code",
   "execution_count": 915,
   "metadata": {
    "collapsed": false
   },
   "outputs": [],
   "source": [
    "w_6, MSPE_6 = grad_descent(X_train, y_train, eps=0.000001, step_size=0.001, max_iter=60, is_reg = True)"
   ]
  },
  {
   "cell_type": "code",
   "execution_count": 904,
   "metadata": {
    "collapsed": false
   },
   "outputs": [
    {
     "data": {
      "image/png": "[encoded data removed]",
      "text/plain": [
       "<matplotlib.figure.Figure at 0x11f4c30f0>"
      ]
     },
     "metadata": {},
     "output_type": "display_data"
    }
   ],
   "source": [
    "plt.plot(MSPE_6)\n",
    "plt.show()"
   ]
  },
  {
   "cell_type": "markdown",
   "metadata": {},
   "source": [
    "Для размеров шага 0.001 и 10 не получилось нормальных графиков, из чего можно сделать вывод, что шаг 1 является более оптимальным в данной ситуации."
   ]
  },
  {
   "cell_type": "markdown",
   "metadata": {},
   "source": [
    "В целом нельзя сказать, что регуляризация помогла во всех случаях и для разных шагов, однако для шага 1 все же введение регуляризации привело к значительному улучшени предсказаний."
   ]
  },
  {
   "cell_type": "markdown",
   "metadata": {},
   "source": [
    "Метод градиентного спуска может быть весьма трудозатратен в случае большого размера обучающей выборки. Поэтому часто используют метод стохастического градиентного спуска, где на каждой итерации выбирается случайный объект из обучающей выборки и обновление весов происходит только по этому объекту. \n",
    "\n",
    "**18*. (1 бонусный балл)**  Реализуйте метод стохастического градиентного спуска (SGD) для описанных функционалов ($MSPE$ и его регуляризованный вариант). Функция должна иметь параметры и возвращаемое значение, аналогичные оным функции grad\\_descent из п.21. Кроме того, должен использоваться аналогичный критерий останова."
   ]
  },
  {
   "cell_type": "code",
   "execution_count": null,
   "metadata": {
    "collapsed": true
   },
   "outputs": [],
   "source": [
    "def sgd(X, y, step_size, max_iter, eps, is_reg):\n",
    "    # Your code here"
   ]
  },
  {
   "cell_type": "markdown",
   "metadata": {},
   "source": [
    "Обучите линейную регрессию с функционалом $MSPE$ и его регуляризованным вариантом на обучающей выборке при помощи метода стохастического градиентного спуска, подобрав при этом размер шага, при котором метод будет сходиться. Нарисуйте график сходимости. Выведите значения $MSPE, MSE, R^2$ на контрольной выборке."
   ]
  },
  {
   "cell_type": "code",
   "execution_count": null,
   "metadata": {
    "collapsed": true
   },
   "outputs": [],
   "source": [
    "# Your code here"
   ]
  },
  {
   "cell_type": "markdown",
   "metadata": {},
   "source": [
    "**19*. (0.5 бонусного балла)** Аналогично п.17 исследуйте зависимость скорости сходимости метода SGD от наличия регуляризации. Обоснуйте, почему так происходит."
   ]
  },
  {
   "cell_type": "code",
   "execution_count": null,
   "metadata": {
    "collapsed": true
   },
   "outputs": [],
   "source": [
    "# Your code here"
   ]
  },
  {
   "cell_type": "markdown",
   "metadata": {},
   "source": [
    "**20. (0.5 балла)** Обучите стандартную линейную регрессию с функционалом качества MSE на обучающей выборке и выведите значение MSPE полученного решения на контрольной выборке. Как оно соотносится с аналогичным результатом для решения, полученного в п.17? Почему?"
   ]
  },
  {
   "cell_type": "code",
   "execution_count": null,
   "metadata": {
    "collapsed": true
   },
   "outputs": [],
   "source": [
    "# Your code here"
   ]
  }
 ],
 "metadata": {
  "anaconda-cloud": {},
  "kernelspec": {
   "display_name": "Python 3",
   "language": "python",
   "name": "python3"
  },
  "language_info": {
   "codemirror_mode": {
    "name": "ipython",
    "version": 3
   },
   "file_extension": ".py",
   "mimetype": "text/x-python",
   "name": "python",
   "nbconvert_exporter": "python",
   "pygments_lexer": "ipython3",
   "version": "3.6.1"
  }
 },
 "nbformat": 4,
 "nbformat_minor": 0
}
