{
 "cells": [
  {
   "cell_type": "markdown",
   "metadata": {},
   "source": [
    "# Козловский Евгений\n",
    "\n",
    "# Машинное обучение, ФЭН ВШЭ\n",
    "\n",
    "# Практическое задание 2\n",
    "(Основано на материалах курса машинного обучения на фкн)\n",
    "\n",
    "## Общая информация\n",
    "\n",
    "Дата выдачи: 21.09.2017\n",
    "\n",
    "Срок сдачи: 8.10.2017 23:59MSK\n",
    "\n",
    "### О задании\n",
    "\n",
    "Практическое задание 1 посвящено изучению основных библиотек для анализа данных, а также линейных моделей и методов их обучения. Вы научитесь:\n",
    " * применять библиотеку NumPy;\n",
    " * подготавливать данные для обучения линейных моделей;\n",
    " * обучать линейную, Lasso и Ridge-регрессии при помощи модуля scikit-learn;\n",
    " * реализовывать обычный и стохастический градиентные спуски;\n",
    " * обучать линейную регрессию для произвольного функционала качества.\n",
    " \n",
    "\n",
    "### Оценивание и штрафы\n",
    "\n",
    "Каждая из задач имеет определенную «стоимость» (указана в скобках около задачи). Максимально допустимая оценка за работу — 10 баллов. Кроме того, некоторые из заданий являются опциональными (необязательными), однако за их выполнение можно получить дополнительные баллы.\n",
    "\n",
    "\n",
    "Задание выполняется самостоятельно. «Похожие» решения считаются плагиатом и все задействованные студенты (в том числе те, у кого списали) не могут получить за него больше 0 баллов (подробнее о плагиате см. на странице курса). Если вы нашли решение какого-то из заданий (или его часть) в открытом источнике, необходимо указать ссылку на этот источник в отдельном блоке в конце Вашей работы (скорее всего вы будете не единственным, кто это нашел, поэтому чтобы исключить подозрение в плагиате, необходима ссылка на источник). \n",
    "\n",
    "Неэффективная реализация кода может негативно отразиться на оценке.\n",
    "\n",
    "\n",
    "### Формат сдачи\n",
    "Для сдачи задания переименуйте получившийся файл \\*.ipynb в соответствии со следующим форматом: *HW1_Username.ipynb*, где *Username* — Ваша фамилия и инициалы на латинице (например, *HW1_IvanovII.ipynb*). Далее отправьте этот файл на почту курса, указав соответствующую тему (см. вики-страничку курча)."
   ]
  },
  {
   "cell_type": "markdown",
   "metadata": {},
   "source": [
    "## Библиотеки для анализа данных\n",
    "\n",
    "### NumPy\n",
    "\n",
    "Во всех заданиях данного раздела запрещено использовать циклы  и list comprehensions. Под вектором и матрицей в данных заданиях понимается одномерный и двумерный numpy.array соответственно."
   ]
  },
  {
   "cell_type": "code",
   "execution_count": 1,
   "metadata": {
    "collapsed": false
   },
   "outputs": [],
   "source": [
    "import numpy as np"
   ]
  },
  {
   "cell_type": "markdown",
   "metadata": {},
   "source": [
    "**1. (0.3 балла)** Реализуйте функцию, возвращающую максимальный элемент в векторе x среди элементов, перед которыми стоит нулевой. Для x = np.array([6, 2, 0, 3, 0, 0, 5, 7, 0]) ответом является 5. Если нулевых элементов нет, функция должна возвращать None.\n"
   ]
  },
  {
   "cell_type": "markdown",
   "metadata": {},
   "source": [
    "Только хардкор:)"
   ]
  },
  {
   "cell_type": "code",
   "execution_count": 2,
   "metadata": {
    "collapsed": false
   },
   "outputs": [],
   "source": [
    "def max_element(arr):\n",
    "    def max_auxillary(arr, c):\n",
    "      if arr[0]!=0 and len(arr)>1:\n",
    "        arr=arr[1:]\n",
    "        return max_auxillary(arr, c)\n",
    "      elif arr[0]==0 and len(arr)>1:\n",
    "            if arr[1]>c:\n",
    "                c=arr[1]\n",
    "                arr=arr[1:]\n",
    "                return max_auxillary(arr, c)\n",
    "            else:\n",
    "                arr=arr[1:]\n",
    "                return max_auxillary(arr, c)\n",
    "      else:\n",
    "        print(c)\n",
    "    \n",
    "    if arr[0]!=0 and len(arr)>1:\n",
    "        arr=arr[1:]\n",
    "        return max_element(arr)\n",
    "    elif arr[0]==0 and len(arr)>1:\n",
    "        c=arr[1]\n",
    "        arr=arr[1:]\n",
    "        return max_auxillary(arr, c)\n",
    "    else:\n",
    "        print(None)"
   ]
  },
  {
   "cell_type": "code",
   "execution_count": 3,
   "metadata": {
    "collapsed": false
   },
   "outputs": [
    {
     "name": "stdout",
     "output_type": "stream",
     "text": [
      "5\n"
     ]
    }
   ],
   "source": [
    "max_element(np.array([1,0,0,5]))"
   ]
  },
  {
   "cell_type": "markdown",
   "metadata": {},
   "source": [
    "**2. (0.3 балла)** Реализуйте функцию, принимающую на вход матрицу и некоторое число и возвращающую ближайший к числу элемент матрицы. Например: для X = np.arange(0,10).reshape((2, 5)) и v = 3.6 ответом будет 4."
   ]
  },
  {
   "cell_type": "code",
   "execution_count": 84,
   "metadata": {
    "collapsed": true
   },
   "outputs": [],
   "source": [
    "def nearest_value(X, v):  \n",
    "    def nearest_auxillary1(x, v, c):\n",
    "        if abs(x[0]-v)<abs(c-v):\n",
    "            c=x[0]\n",
    "            if len(x)>1:\n",
    "                x=x[1:]\n",
    "                return nearest_auxillary1(x, v, c)\n",
    "            else:\n",
    "                return c\n",
    "        else:\n",
    "            if len(x)>1:\n",
    "                x=x[1:]\n",
    "                return nearest_auxillary1(x, v, c)\n",
    "            else:\n",
    "                return c\n",
    "            \n",
    "    def nearest_auxillary2(X, v, c):\n",
    "       if X.shape[0]>1:\n",
    "         c=nearest_auxillary1(X[0], v, c)\n",
    "         X=X[1:]\n",
    "         return nearest_auxillary2(X, v, c)\n",
    "       else:\n",
    "         c=nearest_auxillary1(X[0], v, c)\n",
    "         return c   \n",
    "    \n",
    "    c=X[0][0]\n",
    "    print(nearest_auxillary2(X, v, c))"
   ]
  },
  {
   "cell_type": "code",
   "execution_count": 86,
   "metadata": {
    "collapsed": false
   },
   "outputs": [],
   "source": [
    "X = np.arange(10,20).reshape((5, 2))"
   ]
  },
  {
   "cell_type": "code",
   "execution_count": 87,
   "metadata": {
    "collapsed": false
   },
   "outputs": [
    {
     "name": "stdout",
     "output_type": "stream",
     "text": [
      "12\n"
     ]
    }
   ],
   "source": [
    "nearest_value(X, 11.7)"
   ]
  },
  {
   "cell_type": "markdown",
   "metadata": {},
   "source": [
    "**3. (0.3 балла)** Реализуйте функцию scale(X), которая принимает на вход матрицу и масштабирует каждый ее столбец (вычитает выборочное среднее и делит на стандартное отклонение). Убедитесь, что в функции не будет происходить деления на ноль. Протестируйте на случайной матрице (для её генерации можно использовать, например, функцию [numpy.random.randint](http://docs.scipy.org/doc/numpy/reference/generated/numpy.random.randint.html))."
   ]
  },
  {
   "cell_type": "code",
   "execution_count": 88,
   "metadata": {
    "collapsed": false
   },
   "outputs": [],
   "source": [
    "def scale(X):\n",
    "  def scale1(X,Z):\n",
    "    if X.shape[1]>1:\n",
    "      if np.std(X[:,0])!=0:\n",
    "        X[:,0]=(X[:,0]-np.mean(X[:,0]))/float(np.std(X[:,0]))\n",
    "      else:\n",
    "        X[:,0]=X[:,0]-np.mean(X[:,0])\n",
    "      Z=np.concatenate((Z, X[:,0].reshape(len(X[:,0]),1)), axis=1)\n",
    "      X=X[:,1:]\n",
    "      return scale1(X,Z)\n",
    "    else:\n",
    "      if np.std(X[:,0])!=0:\n",
    "        X[:,0]=X[:,0]-np.mean(X[:,0])/float(np.std(X[:,0]))\n",
    "      else:\n",
    "        X[:,0]=X[:,0]-np.mean(X[:,0])\n",
    "      Z=np.concatenate((Z, X[:,0].reshape(len(X[:,0]),1)), axis=1)\n",
    "      return Z[:,1:]\n",
    "  return scale1(X.astype(float),X[:,0].reshape(len(X[:,0]),1).astype(float))"
   ]
  },
  {
   "cell_type": "code",
   "execution_count": 91,
   "metadata": {
    "collapsed": false
   },
   "outputs": [
    {
     "data": {
      "text/plain": [
       "array([[ 4,  6],\n",
       "       [ 6,  6],\n",
       "       [12,  7],\n",
       "       [ 4,  6],\n",
       "       [10, 12]])"
      ]
     },
     "execution_count": 91,
     "metadata": {},
     "output_type": "execute_result"
    }
   ],
   "source": [
    "y = np.random.randint(2,15, size=(5, 2))\n",
    "y"
   ]
  },
  {
   "cell_type": "code",
   "execution_count": 92,
   "metadata": {
    "collapsed": false
   },
   "outputs": [
    {
     "data": {
      "text/plain": [
       "array([[-0.98473193,  2.82727617],\n",
       "       [-0.36927447,  2.82727617],\n",
       "       [ 1.47709789,  3.82727617],\n",
       "       [-0.98473193,  2.82727617],\n",
       "       [ 0.86164044,  8.82727617]])"
      ]
     },
     "execution_count": 92,
     "metadata": {},
     "output_type": "execute_result"
    }
   ],
   "source": [
    "scale(y)"
   ]
  },
  {
   "cell_type": "markdown",
   "metadata": {},
   "source": [
    "**4. (0.3 балла)** Реализуйте функцию, которая для заданной матрицы находит:\n",
    " - определитель\n",
    " - след\n",
    " - наименьший и наибольший элементы\n",
    " - норму Фробениуса\n",
    " - собственные числа\n",
    " - обратную матрицу\n",
    "\n",
    "Для тестирования сгенерируйте матрицу с элементами из нормального распределения $\\mathcal{N}$(10,1)"
   ]
  },
  {
   "cell_type": "code",
   "execution_count": 220,
   "metadata": {
    "collapsed": false
   },
   "outputs": [],
   "source": [
    "def get_stats(X):\n",
    "    print('Определитель = '+str(np.linalg.det(X)))\n",
    "    print('След = '+str(np.trace(X)))\n",
    "    print('Max = '+str(np.amax(X))+'; min = '+str(np.amin(X)))\n",
    "    print('Норма Фробениуса = '+str(np.linalg.norm(X, 'fro')))\n",
    "    print('Собственные числа: \\n'+str(np.linalg.eigvals(X)))\n",
    "    print('Обратная матрица:\\n '+str(np.linalg.inv(X)))"
   ]
  },
  {
   "cell_type": "code",
   "execution_count": 221,
   "metadata": {
    "collapsed": false
   },
   "outputs": [
    {
     "name": "stdout",
     "output_type": "stream",
     "text": [
      "Определитель = -289.095132546\n",
      "След = 46.4893454873\n",
      "Max = 12.5200419177; min = 8.30956141266\n",
      "Норма Фробениуса = 50.9510599849\n",
      "Собственные числа: \n",
      "[ 50.65102494  -2.92398223  -1.65520926  -0.89708336   1.31459539]\n",
      "Обратная матрица:\n",
      " [[-1.40149968  1.03462934  0.30630526 -0.26938461  0.29987684]\n",
      " [-0.17462689 -0.21073709  0.28429963  0.11424578 -0.01492068]\n",
      " [ 0.83492771 -0.62909976  0.26850415  0.10224889 -0.55786574]\n",
      " [ 0.55187116 -0.28067721 -0.28390255 -0.0816644   0.163214  ]\n",
      " [ 0.21616092  0.11360132 -0.57991532  0.15020934  0.14495412]]\n"
     ]
    }
   ],
   "source": [
    "X = np.random.normal(10, 1, size=(5,5))\n",
    "get_stats(X)"
   ]
  },
  {
   "cell_type": "markdown",
   "metadata": {},
   "source": [
    "**5. (0.3 балла)** Повторите 100 раз следующий эксперимент: сгенерируйте две матрицы размера 10×10 из стандартного нормального распределения, перемножьте их (как матрицы) и найдите максимальный элемент. Какое среднее значение по экспериментам у максимальных элементов? 95-процентная квантиль?"
   ]
  },
  {
   "cell_type": "code",
   "execution_count": 222,
   "metadata": {
    "collapsed": false
   },
   "outputs": [
    {
     "name": "stdout",
     "output_type": "stream",
     "text": [
      "Среднее = 8.29641511399\n",
      "95% персентиль = 10.8904021471\n"
     ]
    }
   ],
   "source": [
    "s = []\n",
    "for exp_num in range(100):\n",
    "    A = np.random.normal(0, 1, size=(10,10))\n",
    "    B = np.random.normal(0, 1, size=(10,10))\n",
    "    s.append(np.amax((np.dot(A, B))))\n",
    "print('Среднее = '+str(np.mean(s)))\n",
    "print('95% персентиль = '+str(np.percentile(s, 95)))"
   ]
  },
  {
   "cell_type": "markdown",
   "metadata": {},
   "source": [
    "## Линейная регрессия\n",
    "\n",
    "В этой части мы разберемся с линейной регрессией, способами её обучения и измерением качества ее прогнозов. \n",
    "\n",
    "Будем рассматривать данные по авиарейсам в США за январь-апрель 2008 года для предсказания времени задержки отправления рейса в минутах (DepDelay). Отметим, что под задержкой подразумевается не только опоздание рейса относительно планируемого времени вылета, но и отправление до планируемого времени.\n",
    "\n",
    "\n",
    "[Данные](https://www.dropbox.com/s/dvfitn93obn0rql/2008.csv?dl=0) и их [описание](http://stat-computing.org/dataexpo/2009/the-data.html)\n",
    "\n",
    "### Подготовка данных\n",
    "\n",
    "**6. (0.75 балла)** Считайте выборку из файла при помощи функции pd.read_csv и ответьте на следующие вопросы:\n",
    "   - Имеются ли в данных пропущенные значения?\n",
    "   - Сколько всего пропущенных элементов в таблице \"объект-признак\"?\n",
    "   - Сколько объектов имеют хотя бы один пропуск?\n",
    "   - Сколько признаков имеют хотя бы одно пропущенное значение?"
   ]
  },
  {
   "cell_type": "code",
   "execution_count": 2,
   "metadata": {
    "collapsed": false,
    "scrolled": true
   },
   "outputs": [
    {
     "name": "stderr",
     "output_type": "stream",
     "text": [
      "/Users/macbook/anaconda/lib/python3.5/site-packages/pandas/computation/__init__.py:19: UserWarning: The installed version of numexpr 2.4.4 is not supported in pandas and will be not be used\n",
      "\n",
      "  UserWarning)\n"
     ]
    },
    {
     "data": {
      "text/html": [
       "<div>\n",
       "<table border=\"1\" class=\"dataframe\">\n",
       "  <thead>\n",
       "    <tr style=\"text-align: right;\">\n",
       "      <th></th>\n",
       "      <th>Year</th>\n",
       "      <th>Month</th>\n",
       "      <th>DayofMonth</th>\n",
       "      <th>DayOfWeek</th>\n",
       "      <th>DepTime</th>\n",
       "      <th>CRSDepTime</th>\n",
       "      <th>ArrTime</th>\n",
       "      <th>CRSArrTime</th>\n",
       "      <th>UniqueCarrier</th>\n",
       "      <th>FlightNum</th>\n",
       "      <th>...</th>\n",
       "      <th>TaxiIn</th>\n",
       "      <th>TaxiOut</th>\n",
       "      <th>Cancelled</th>\n",
       "      <th>CancellationCode</th>\n",
       "      <th>Diverted</th>\n",
       "      <th>CarrierDelay</th>\n",
       "      <th>WeatherDelay</th>\n",
       "      <th>NASDelay</th>\n",
       "      <th>SecurityDelay</th>\n",
       "      <th>LateAircraftDelay</th>\n",
       "    </tr>\n",
       "  </thead>\n",
       "  <tbody>\n",
       "    <tr>\n",
       "      <th>0</th>\n",
       "      <td>2008</td>\n",
       "      <td>6</td>\n",
       "      <td>18</td>\n",
       "      <td>3</td>\n",
       "      <td>2111.0</td>\n",
       "      <td>2055</td>\n",
       "      <td>2308.0</td>\n",
       "      <td>2300</td>\n",
       "      <td>WN</td>\n",
       "      <td>242</td>\n",
       "      <td>...</td>\n",
       "      <td>3.0</td>\n",
       "      <td>8.0</td>\n",
       "      <td>0</td>\n",
       "      <td>NaN</td>\n",
       "      <td>0</td>\n",
       "      <td>NaN</td>\n",
       "      <td>NaN</td>\n",
       "      <td>NaN</td>\n",
       "      <td>NaN</td>\n",
       "      <td>NaN</td>\n",
       "    </tr>\n",
       "    <tr>\n",
       "      <th>1</th>\n",
       "      <td>2008</td>\n",
       "      <td>6</td>\n",
       "      <td>4</td>\n",
       "      <td>3</td>\n",
       "      <td>1426.0</td>\n",
       "      <td>1410</td>\n",
       "      <td>1730.0</td>\n",
       "      <td>1728</td>\n",
       "      <td>XE</td>\n",
       "      <td>2380</td>\n",
       "      <td>...</td>\n",
       "      <td>4.0</td>\n",
       "      <td>12.0</td>\n",
       "      <td>0</td>\n",
       "      <td>NaN</td>\n",
       "      <td>0</td>\n",
       "      <td>NaN</td>\n",
       "      <td>NaN</td>\n",
       "      <td>NaN</td>\n",
       "      <td>NaN</td>\n",
       "      <td>NaN</td>\n",
       "    </tr>\n",
       "    <tr>\n",
       "      <th>2</th>\n",
       "      <td>2008</td>\n",
       "      <td>8</td>\n",
       "      <td>3</td>\n",
       "      <td>7</td>\n",
       "      <td>1143.0</td>\n",
       "      <td>1145</td>\n",
       "      <td>1501.0</td>\n",
       "      <td>1520</td>\n",
       "      <td>WN</td>\n",
       "      <td>1769</td>\n",
       "      <td>...</td>\n",
       "      <td>4.0</td>\n",
       "      <td>9.0</td>\n",
       "      <td>0</td>\n",
       "      <td>NaN</td>\n",
       "      <td>0</td>\n",
       "      <td>NaN</td>\n",
       "      <td>NaN</td>\n",
       "      <td>NaN</td>\n",
       "      <td>NaN</td>\n",
       "      <td>NaN</td>\n",
       "    </tr>\n",
       "    <tr>\n",
       "      <th>3</th>\n",
       "      <td>2008</td>\n",
       "      <td>1</td>\n",
       "      <td>23</td>\n",
       "      <td>3</td>\n",
       "      <td>1141.0</td>\n",
       "      <td>1144</td>\n",
       "      <td>1323.0</td>\n",
       "      <td>1335</td>\n",
       "      <td>OO</td>\n",
       "      <td>3802</td>\n",
       "      <td>...</td>\n",
       "      <td>4.0</td>\n",
       "      <td>19.0</td>\n",
       "      <td>0</td>\n",
       "      <td>NaN</td>\n",
       "      <td>0</td>\n",
       "      <td>NaN</td>\n",
       "      <td>NaN</td>\n",
       "      <td>NaN</td>\n",
       "      <td>NaN</td>\n",
       "      <td>NaN</td>\n",
       "    </tr>\n",
       "    <tr>\n",
       "      <th>4</th>\n",
       "      <td>2008</td>\n",
       "      <td>5</td>\n",
       "      <td>4</td>\n",
       "      <td>7</td>\n",
       "      <td>815.0</td>\n",
       "      <td>820</td>\n",
       "      <td>1243.0</td>\n",
       "      <td>1300</td>\n",
       "      <td>WN</td>\n",
       "      <td>399</td>\n",
       "      <td>...</td>\n",
       "      <td>4.0</td>\n",
       "      <td>8.0</td>\n",
       "      <td>0</td>\n",
       "      <td>NaN</td>\n",
       "      <td>0</td>\n",
       "      <td>NaN</td>\n",
       "      <td>NaN</td>\n",
       "      <td>NaN</td>\n",
       "      <td>NaN</td>\n",
       "      <td>NaN</td>\n",
       "    </tr>\n",
       "  </tbody>\n",
       "</table>\n",
       "<p>5 rows × 29 columns</p>\n",
       "</div>"
      ],
      "text/plain": [
       "   Year  Month  DayofMonth  DayOfWeek  DepTime  CRSDepTime  ArrTime  \\\n",
       "0  2008      6          18          3   2111.0        2055   2308.0   \n",
       "1  2008      6           4          3   1426.0        1410   1730.0   \n",
       "2  2008      8           3          7   1143.0        1145   1501.0   \n",
       "3  2008      1          23          3   1141.0        1144   1323.0   \n",
       "4  2008      5           4          7    815.0         820   1243.0   \n",
       "\n",
       "   CRSArrTime UniqueCarrier  FlightNum        ...         TaxiIn  TaxiOut  \\\n",
       "0        2300            WN        242        ...            3.0      8.0   \n",
       "1        1728            XE       2380        ...            4.0     12.0   \n",
       "2        1520            WN       1769        ...            4.0      9.0   \n",
       "3        1335            OO       3802        ...            4.0     19.0   \n",
       "4        1300            WN        399        ...            4.0      8.0   \n",
       "\n",
       "   Cancelled  CancellationCode  Diverted  CarrierDelay WeatherDelay NASDelay  \\\n",
       "0          0               NaN         0           NaN          NaN      NaN   \n",
       "1          0               NaN         0           NaN          NaN      NaN   \n",
       "2          0               NaN         0           NaN          NaN      NaN   \n",
       "3          0               NaN         0           NaN          NaN      NaN   \n",
       "4          0               NaN         0           NaN          NaN      NaN   \n",
       "\n",
       "   SecurityDelay  LateAircraftDelay  \n",
       "0            NaN                NaN  \n",
       "1            NaN                NaN  \n",
       "2            NaN                NaN  \n",
       "3            NaN                NaN  \n",
       "4            NaN                NaN  \n",
       "\n",
       "[5 rows x 29 columns]"
      ]
     },
     "execution_count": 2,
     "metadata": {},
     "output_type": "execute_result"
    }
   ],
   "source": [
    "import pandas as pd\n",
    "df = pd.read_csv('2008_data.csv')\n",
    "df.head()"
   ]
  },
  {
   "cell_type": "markdown",
   "metadata": {},
   "source": [
    "Проверим, есть ли вообще в датасете пропущенные значения?"
   ]
  },
  {
   "cell_type": "code",
   "execution_count": 3,
   "metadata": {
    "collapsed": false
   },
   "outputs": [
    {
     "data": {
      "text/plain": [
       "True"
      ]
     },
     "execution_count": 3,
     "metadata": {},
     "output_type": "execute_result"
    }
   ],
   "source": [
    "df.isnull().values.any()"
   ]
  },
  {
   "cell_type": "markdown",
   "metadata": {},
   "source": [
    "Посчитаем количество пропущенных элементов в таблице \"объект-признак\""
   ]
  },
  {
   "cell_type": "code",
   "execution_count": 4,
   "metadata": {
    "collapsed": false
   },
   "outputs": [
    {
     "data": {
      "text/plain": [
       "355215"
      ]
     },
     "execution_count": 4,
     "metadata": {},
     "output_type": "execute_result"
    }
   ],
   "source": [
    "df.isnull().sum().sum()"
   ]
  },
  {
   "cell_type": "markdown",
   "metadata": {},
   "source": [
    "Посчитаем, сколько объектов имеют хотя бы один пропуск"
   ]
  },
  {
   "cell_type": "code",
   "execution_count": 5,
   "metadata": {
    "collapsed": false
   },
   "outputs": [
    {
     "data": {
      "text/plain": [
       "70000"
      ]
     },
     "execution_count": 5,
     "metadata": {},
     "output_type": "execute_result"
    }
   ],
   "source": [
    "df.isnull().values.any(axis=1).sum()"
   ]
  },
  {
   "cell_type": "markdown",
   "metadata": {},
   "source": [
    "Посчитаем, сколько признаков имеют хотя бы одно пропущенное значение"
   ]
  },
  {
   "cell_type": "code",
   "execution_count": 6,
   "metadata": {
    "collapsed": false
   },
   "outputs": [
    {
     "data": {
      "text/plain": [
       "16"
      ]
     },
     "execution_count": 6,
     "metadata": {},
     "output_type": "execute_result"
    }
   ],
   "source": [
    "df.isnull().values.any(axis=0).sum()"
   ]
  },
  {
   "cell_type": "markdown",
   "metadata": {},
   "source": [
    "Как вы понимаете, также не имеет смысла рассматривать при решении поставленной задачи объекты с пропущенным значением целевой переменной. В связи с этим ответьте на следующие вопросы и выполните соответствующие действия:\n",
    "- Имеются ли пропущенные значения в целевой переменной?\n",
    "- Проанализируйте объекты с пропущенными значениями целевой переменной. Чем вызвано это явление? Что их объединяет? Можно ли в связи с этим, на ваш взгляд, исключить какие-то признаки из рассмотрения? Обоснуйте свою точку зрения.\n",
    "\n",
    "Исключите из выборки объекты **с пропущенным значением целевой переменной и со значением целевой переменной, равным 0**, а также при необходимости исключите признаки в соответствии с вашим ответом на последний вопрос из списка и выделите целевую переменную в отдельный вектор, исключив её из матрицы \"объект-признак\"."
   ]
  },
  {
   "cell_type": "code",
   "execution_count": 7,
   "metadata": {
    "collapsed": false
   },
   "outputs": [
    {
     "data": {
      "text/plain": [
       "True"
      ]
     },
     "execution_count": 7,
     "metadata": {},
     "output_type": "execute_result"
    }
   ],
   "source": [
    "df['DepDelay'].isnull().any()"
   ]
  },
  {
   "cell_type": "code",
   "execution_count": 8,
   "metadata": {
    "collapsed": false
   },
   "outputs": [
    {
     "data": {
      "text/html": [
       "<div>\n",
       "<table border=\"1\" class=\"dataframe\">\n",
       "  <thead>\n",
       "    <tr style=\"text-align: right;\">\n",
       "      <th></th>\n",
       "      <th>Year</th>\n",
       "      <th>Month</th>\n",
       "      <th>DayofMonth</th>\n",
       "      <th>DayOfWeek</th>\n",
       "      <th>DepTime</th>\n",
       "      <th>CRSDepTime</th>\n",
       "      <th>ArrTime</th>\n",
       "      <th>CRSArrTime</th>\n",
       "      <th>UniqueCarrier</th>\n",
       "      <th>FlightNum</th>\n",
       "      <th>...</th>\n",
       "      <th>TaxiIn</th>\n",
       "      <th>TaxiOut</th>\n",
       "      <th>Cancelled</th>\n",
       "      <th>CancellationCode</th>\n",
       "      <th>Diverted</th>\n",
       "      <th>CarrierDelay</th>\n",
       "      <th>WeatherDelay</th>\n",
       "      <th>NASDelay</th>\n",
       "      <th>SecurityDelay</th>\n",
       "      <th>LateAircraftDelay</th>\n",
       "    </tr>\n",
       "  </thead>\n",
       "  <tbody>\n",
       "    <tr>\n",
       "      <th>11</th>\n",
       "      <td>2008</td>\n",
       "      <td>3</td>\n",
       "      <td>6</td>\n",
       "      <td>4</td>\n",
       "      <td>NaN</td>\n",
       "      <td>1605</td>\n",
       "      <td>NaN</td>\n",
       "      <td>1940</td>\n",
       "      <td>AA</td>\n",
       "      <td>484</td>\n",
       "      <td>...</td>\n",
       "      <td>NaN</td>\n",
       "      <td>NaN</td>\n",
       "      <td>1</td>\n",
       "      <td>B</td>\n",
       "      <td>0</td>\n",
       "      <td>NaN</td>\n",
       "      <td>NaN</td>\n",
       "      <td>NaN</td>\n",
       "      <td>NaN</td>\n",
       "      <td>NaN</td>\n",
       "    </tr>\n",
       "    <tr>\n",
       "      <th>78</th>\n",
       "      <td>2008</td>\n",
       "      <td>1</td>\n",
       "      <td>19</td>\n",
       "      <td>6</td>\n",
       "      <td>NaN</td>\n",
       "      <td>750</td>\n",
       "      <td>NaN</td>\n",
       "      <td>930</td>\n",
       "      <td>EV</td>\n",
       "      <td>4772</td>\n",
       "      <td>...</td>\n",
       "      <td>NaN</td>\n",
       "      <td>NaN</td>\n",
       "      <td>1</td>\n",
       "      <td>B</td>\n",
       "      <td>0</td>\n",
       "      <td>NaN</td>\n",
       "      <td>NaN</td>\n",
       "      <td>NaN</td>\n",
       "      <td>NaN</td>\n",
       "      <td>NaN</td>\n",
       "    </tr>\n",
       "    <tr>\n",
       "      <th>103</th>\n",
       "      <td>2008</td>\n",
       "      <td>7</td>\n",
       "      <td>24</td>\n",
       "      <td>4</td>\n",
       "      <td>NaN</td>\n",
       "      <td>1230</td>\n",
       "      <td>NaN</td>\n",
       "      <td>1355</td>\n",
       "      <td>FL</td>\n",
       "      <td>816</td>\n",
       "      <td>...</td>\n",
       "      <td>NaN</td>\n",
       "      <td>NaN</td>\n",
       "      <td>1</td>\n",
       "      <td>A</td>\n",
       "      <td>0</td>\n",
       "      <td>NaN</td>\n",
       "      <td>NaN</td>\n",
       "      <td>NaN</td>\n",
       "      <td>NaN</td>\n",
       "      <td>NaN</td>\n",
       "    </tr>\n",
       "    <tr>\n",
       "      <th>112</th>\n",
       "      <td>2008</td>\n",
       "      <td>2</td>\n",
       "      <td>4</td>\n",
       "      <td>1</td>\n",
       "      <td>NaN</td>\n",
       "      <td>620</td>\n",
       "      <td>NaN</td>\n",
       "      <td>758</td>\n",
       "      <td>NW</td>\n",
       "      <td>1281</td>\n",
       "      <td>...</td>\n",
       "      <td>NaN</td>\n",
       "      <td>NaN</td>\n",
       "      <td>1</td>\n",
       "      <td>B</td>\n",
       "      <td>0</td>\n",
       "      <td>NaN</td>\n",
       "      <td>NaN</td>\n",
       "      <td>NaN</td>\n",
       "      <td>NaN</td>\n",
       "      <td>NaN</td>\n",
       "    </tr>\n",
       "    <tr>\n",
       "      <th>128</th>\n",
       "      <td>2008</td>\n",
       "      <td>1</td>\n",
       "      <td>21</td>\n",
       "      <td>1</td>\n",
       "      <td>NaN</td>\n",
       "      <td>1838</td>\n",
       "      <td>NaN</td>\n",
       "      <td>2005</td>\n",
       "      <td>UA</td>\n",
       "      <td>1251</td>\n",
       "      <td>...</td>\n",
       "      <td>NaN</td>\n",
       "      <td>NaN</td>\n",
       "      <td>1</td>\n",
       "      <td>A</td>\n",
       "      <td>0</td>\n",
       "      <td>NaN</td>\n",
       "      <td>NaN</td>\n",
       "      <td>NaN</td>\n",
       "      <td>NaN</td>\n",
       "      <td>NaN</td>\n",
       "    </tr>\n",
       "  </tbody>\n",
       "</table>\n",
       "<p>5 rows × 29 columns</p>\n",
       "</div>"
      ],
      "text/plain": [
       "     Year  Month  DayofMonth  DayOfWeek  DepTime  CRSDepTime  ArrTime  \\\n",
       "11   2008      3           6          4      NaN        1605      NaN   \n",
       "78   2008      1          19          6      NaN         750      NaN   \n",
       "103  2008      7          24          4      NaN        1230      NaN   \n",
       "112  2008      2           4          1      NaN         620      NaN   \n",
       "128  2008      1          21          1      NaN        1838      NaN   \n",
       "\n",
       "     CRSArrTime UniqueCarrier  FlightNum        ...         TaxiIn  TaxiOut  \\\n",
       "11         1940            AA        484        ...            NaN      NaN   \n",
       "78          930            EV       4772        ...            NaN      NaN   \n",
       "103        1355            FL        816        ...            NaN      NaN   \n",
       "112         758            NW       1281        ...            NaN      NaN   \n",
       "128        2005            UA       1251        ...            NaN      NaN   \n",
       "\n",
       "     Cancelled  CancellationCode  Diverted  CarrierDelay WeatherDelay  \\\n",
       "11           1                 B         0           NaN          NaN   \n",
       "78           1                 B         0           NaN          NaN   \n",
       "103          1                 A         0           NaN          NaN   \n",
       "112          1                 B         0           NaN          NaN   \n",
       "128          1                 A         0           NaN          NaN   \n",
       "\n",
       "    NASDelay  SecurityDelay  LateAircraftDelay  \n",
       "11       NaN            NaN                NaN  \n",
       "78       NaN            NaN                NaN  \n",
       "103      NaN            NaN                NaN  \n",
       "112      NaN            NaN                NaN  \n",
       "128      NaN            NaN                NaN  \n",
       "\n",
       "[5 rows x 29 columns]"
      ]
     },
     "execution_count": 8,
     "metadata": {},
     "output_type": "execute_result"
    }
   ],
   "source": [
    "null = df[df['DepDelay'].isnull()==True]\n",
    "null.head()"
   ]
  },
  {
   "cell_type": "code",
   "execution_count": 9,
   "metadata": {
    "collapsed": false
   },
   "outputs": [
    {
     "data": {
      "text/plain": [
       "(1399, 29)"
      ]
     },
     "execution_count": 9,
     "metadata": {},
     "output_type": "execute_result"
    }
   ],
   "source": [
    "null.shape"
   ]
  },
  {
   "cell_type": "code",
   "execution_count": 10,
   "metadata": {
    "collapsed": false
   },
   "outputs": [
    {
     "data": {
      "text/plain": [
       "True"
      ]
     },
     "execution_count": 10,
     "metadata": {},
     "output_type": "execute_result"
    }
   ],
   "source": [
    "null['DepTime'].isnull().all()"
   ]
  },
  {
   "cell_type": "markdown",
   "metadata": {},
   "source": [
    "Пропуски в DepDelay обсуловлены отсутствием данных по времени вылета, тк у всех объектов с пропуском DepDelay имеется пропуск DepTime"
   ]
  },
  {
   "cell_type": "code",
   "execution_count": 11,
   "metadata": {
    "collapsed": false
   },
   "outputs": [
    {
     "name": "stdout",
     "output_type": "stream",
     "text": [
      "DepTime\n",
      "ArrTime\n",
      "ActualElapsedTime\n",
      "AirTime\n",
      "ArrDelay\n",
      "DepDelay\n",
      "TaxiIn\n",
      "TaxiOut\n",
      "CarrierDelay\n",
      "WeatherDelay\n",
      "NASDelay\n",
      "SecurityDelay\n",
      "LateAircraftDelay\n"
     ]
    }
   ],
   "source": [
    "spisok = []\n",
    "for i in null.columns.values:\n",
    "    if null[i].isnull().all()==True:\n",
    "      spisok.append(i)\n",
    "      print(str(i))"
   ]
  },
  {
   "cell_type": "markdown",
   "metadata": {},
   "source": [
    "Выше представлены признаки, значения которых пропущены для всех объектов, у которых пропущены значения DepDelay (и, следовательно, DepTime)"
   ]
  },
  {
   "cell_type": "markdown",
   "metadata": {},
   "source": [
    "Посмотрим, какова доля пропусков значений этих признаков по остальной выборке (т.е. рассматриваются объекты, для которых есть информация по DepLay)"
   ]
  },
  {
   "cell_type": "code",
   "execution_count": 12,
   "metadata": {
    "collapsed": false
   },
   "outputs": [
    {
     "name": "stdout",
     "output_type": "stream",
     "text": [
      "DepTime: 0.0\n",
      "ArrTime: 0.0022885963761461203\n",
      "ActualElapsedTime: 0.0026675995976735032\n",
      "AirTime: 0.0026675995976735032\n",
      "ArrDelay: 0.0026675995976735032\n",
      "DepDelay: 0.0\n",
      "TaxiIn: 0.0022885963761461203\n",
      "TaxiOut: 0.00010203932887275695\n",
      "CarrierDelay: 0.7776563023862626\n",
      "WeatherDelay: 0.7776563023862626\n",
      "NASDelay: 0.7776563023862626\n",
      "SecurityDelay: 0.7776563023862626\n",
      "LateAircraftDelay: 0.7776563023862626\n"
     ]
    }
   ],
   "source": [
    "not_null = df[df['DepDelay'].isnull()==False]\n",
    "for i in spisok:\n",
    "      print(str(i)+': '+str(not_null[not_null[i].isnull()==True].shape[0]/not_null.shape[0]))"
   ]
  },
  {
   "cell_type": "markdown",
   "metadata": {},
   "source": [
    "Доли пропусков последних пяти признаков слишком высоки (использование данных признаков может привести к смещенности оценок регрессий), но самое главное - с точки зрения предсказательной способности они не несут большого смысла, т.к. в них содержится информация о причинах уже произошедшей задержки, величину которой нам нужно предсказывать. Исходя из этого, по идее, нужно удалить данные признаки (мы продолжим рассмотрение данного вопроса в пункте 8). Также удалим объекты, у которых значение целевой переменной отсутствует либо равно нулю."
   ]
  },
  {
   "cell_type": "code",
   "execution_count": 13,
   "metadata": {
    "collapsed": false
   },
   "outputs": [
    {
     "data": {
      "text/html": [
       "<div>\n",
       "<table border=\"1\" class=\"dataframe\">\n",
       "  <thead>\n",
       "    <tr style=\"text-align: right;\">\n",
       "      <th></th>\n",
       "      <th>Year</th>\n",
       "      <th>Month</th>\n",
       "      <th>DayofMonth</th>\n",
       "      <th>DayOfWeek</th>\n",
       "      <th>DepTime</th>\n",
       "      <th>CRSDepTime</th>\n",
       "      <th>ArrTime</th>\n",
       "      <th>CRSArrTime</th>\n",
       "      <th>UniqueCarrier</th>\n",
       "      <th>FlightNum</th>\n",
       "      <th>...</th>\n",
       "      <th>TaxiIn</th>\n",
       "      <th>TaxiOut</th>\n",
       "      <th>Cancelled</th>\n",
       "      <th>CancellationCode</th>\n",
       "      <th>Diverted</th>\n",
       "      <th>CarrierDelay</th>\n",
       "      <th>WeatherDelay</th>\n",
       "      <th>NASDelay</th>\n",
       "      <th>SecurityDelay</th>\n",
       "      <th>LateAircraftDelay</th>\n",
       "    </tr>\n",
       "  </thead>\n",
       "  <tbody>\n",
       "    <tr>\n",
       "      <th>0</th>\n",
       "      <td>2008</td>\n",
       "      <td>6</td>\n",
       "      <td>18</td>\n",
       "      <td>3</td>\n",
       "      <td>2111.0</td>\n",
       "      <td>2055</td>\n",
       "      <td>2308.0</td>\n",
       "      <td>2300</td>\n",
       "      <td>WN</td>\n",
       "      <td>242</td>\n",
       "      <td>...</td>\n",
       "      <td>3.0</td>\n",
       "      <td>8.0</td>\n",
       "      <td>0</td>\n",
       "      <td>NaN</td>\n",
       "      <td>0</td>\n",
       "      <td>NaN</td>\n",
       "      <td>NaN</td>\n",
       "      <td>NaN</td>\n",
       "      <td>NaN</td>\n",
       "      <td>NaN</td>\n",
       "    </tr>\n",
       "    <tr>\n",
       "      <th>1</th>\n",
       "      <td>2008</td>\n",
       "      <td>6</td>\n",
       "      <td>4</td>\n",
       "      <td>3</td>\n",
       "      <td>1426.0</td>\n",
       "      <td>1410</td>\n",
       "      <td>1730.0</td>\n",
       "      <td>1728</td>\n",
       "      <td>XE</td>\n",
       "      <td>2380</td>\n",
       "      <td>...</td>\n",
       "      <td>4.0</td>\n",
       "      <td>12.0</td>\n",
       "      <td>0</td>\n",
       "      <td>NaN</td>\n",
       "      <td>0</td>\n",
       "      <td>NaN</td>\n",
       "      <td>NaN</td>\n",
       "      <td>NaN</td>\n",
       "      <td>NaN</td>\n",
       "      <td>NaN</td>\n",
       "    </tr>\n",
       "    <tr>\n",
       "      <th>2</th>\n",
       "      <td>2008</td>\n",
       "      <td>8</td>\n",
       "      <td>3</td>\n",
       "      <td>7</td>\n",
       "      <td>1143.0</td>\n",
       "      <td>1145</td>\n",
       "      <td>1501.0</td>\n",
       "      <td>1520</td>\n",
       "      <td>WN</td>\n",
       "      <td>1769</td>\n",
       "      <td>...</td>\n",
       "      <td>4.0</td>\n",
       "      <td>9.0</td>\n",
       "      <td>0</td>\n",
       "      <td>NaN</td>\n",
       "      <td>0</td>\n",
       "      <td>NaN</td>\n",
       "      <td>NaN</td>\n",
       "      <td>NaN</td>\n",
       "      <td>NaN</td>\n",
       "      <td>NaN</td>\n",
       "    </tr>\n",
       "    <tr>\n",
       "      <th>3</th>\n",
       "      <td>2008</td>\n",
       "      <td>1</td>\n",
       "      <td>23</td>\n",
       "      <td>3</td>\n",
       "      <td>1141.0</td>\n",
       "      <td>1144</td>\n",
       "      <td>1323.0</td>\n",
       "      <td>1335</td>\n",
       "      <td>OO</td>\n",
       "      <td>3802</td>\n",
       "      <td>...</td>\n",
       "      <td>4.0</td>\n",
       "      <td>19.0</td>\n",
       "      <td>0</td>\n",
       "      <td>NaN</td>\n",
       "      <td>0</td>\n",
       "      <td>NaN</td>\n",
       "      <td>NaN</td>\n",
       "      <td>NaN</td>\n",
       "      <td>NaN</td>\n",
       "      <td>NaN</td>\n",
       "    </tr>\n",
       "    <tr>\n",
       "      <th>4</th>\n",
       "      <td>2008</td>\n",
       "      <td>5</td>\n",
       "      <td>4</td>\n",
       "      <td>7</td>\n",
       "      <td>815.0</td>\n",
       "      <td>820</td>\n",
       "      <td>1243.0</td>\n",
       "      <td>1300</td>\n",
       "      <td>WN</td>\n",
       "      <td>399</td>\n",
       "      <td>...</td>\n",
       "      <td>4.0</td>\n",
       "      <td>8.0</td>\n",
       "      <td>0</td>\n",
       "      <td>NaN</td>\n",
       "      <td>0</td>\n",
       "      <td>NaN</td>\n",
       "      <td>NaN</td>\n",
       "      <td>NaN</td>\n",
       "      <td>NaN</td>\n",
       "      <td>NaN</td>\n",
       "    </tr>\n",
       "  </tbody>\n",
       "</table>\n",
       "<p>5 rows × 29 columns</p>\n",
       "</div>"
      ],
      "text/plain": [
       "   Year  Month  DayofMonth  DayOfWeek  DepTime  CRSDepTime  ArrTime  \\\n",
       "0  2008      6          18          3   2111.0        2055   2308.0   \n",
       "1  2008      6           4          3   1426.0        1410   1730.0   \n",
       "2  2008      8           3          7   1143.0        1145   1501.0   \n",
       "3  2008      1          23          3   1141.0        1144   1323.0   \n",
       "4  2008      5           4          7    815.0         820   1243.0   \n",
       "\n",
       "   CRSArrTime UniqueCarrier  FlightNum        ...         TaxiIn  TaxiOut  \\\n",
       "0        2300            WN        242        ...            3.0      8.0   \n",
       "1        1728            XE       2380        ...            4.0     12.0   \n",
       "2        1520            WN       1769        ...            4.0      9.0   \n",
       "3        1335            OO       3802        ...            4.0     19.0   \n",
       "4        1300            WN        399        ...            4.0      8.0   \n",
       "\n",
       "   Cancelled  CancellationCode  Diverted  CarrierDelay WeatherDelay NASDelay  \\\n",
       "0          0               NaN         0           NaN          NaN      NaN   \n",
       "1          0               NaN         0           NaN          NaN      NaN   \n",
       "2          0               NaN         0           NaN          NaN      NaN   \n",
       "3          0               NaN         0           NaN          NaN      NaN   \n",
       "4          0               NaN         0           NaN          NaN      NaN   \n",
       "\n",
       "   SecurityDelay  LateAircraftDelay  \n",
       "0            NaN                NaN  \n",
       "1            NaN                NaN  \n",
       "2            NaN                NaN  \n",
       "3            NaN                NaN  \n",
       "4            NaN                NaN  \n",
       "\n",
       "[5 rows x 29 columns]"
      ]
     },
     "execution_count": 13,
     "metadata": {},
     "output_type": "execute_result"
    }
   ],
   "source": [
    "df_new = df[(df['DepDelay'].isnull()==False)&(df['DepDelay']!=0)]\n",
    "df_new.head()"
   ]
  },
  {
   "cell_type": "markdown",
   "metadata": {},
   "source": [
    "Исходя из здравого смысла также избавимся от признака CancellationCode, но на всякий случай посмотрим на долю пропусков:"
   ]
  },
  {
   "cell_type": "code",
   "execution_count": 14,
   "metadata": {
    "collapsed": false
   },
   "outputs": [
    {
     "data": {
      "text/plain": [
       "0.9998107374929026"
      ]
     },
     "execution_count": 14,
     "metadata": {},
     "output_type": "execute_result"
    }
   ],
   "source": [
    "df_new[df_new['CancellationCode'].isnull()==True].shape[0]/df_new.shape[0]"
   ]
  },
  {
   "cell_type": "markdown",
   "metadata": {},
   "source": [
    "Очевидно, что признак нужно удалить"
   ]
  },
  {
   "cell_type": "code",
   "execution_count": 15,
   "metadata": {
    "collapsed": true
   },
   "outputs": [],
   "source": [
    "del df_new['CancellationCode']"
   ]
  },
  {
   "cell_type": "markdown",
   "metadata": {},
   "source": [
    "Исключим из матрицы \"объекты-признаки\" целевую переменную и выделим ее в отдельный вектор"
   ]
  },
  {
   "cell_type": "code",
   "execution_count": 16,
   "metadata": {
    "collapsed": true
   },
   "outputs": [],
   "source": [
    "y = df_new['DepDelay']\n",
    "del df_new['DepDelay']"
   ]
  },
  {
   "cell_type": "markdown",
   "metadata": {},
   "source": [
    "**7. (1 балл)** Обратите внимание, что признаки DepTime, CRSDepTime, ArrTime, CRSArrTime приведены в формате hhmm, в связи с чем будет не вполне корректно рассматривать их как вещественные.\n",
    "\n",
    "Преобразуйте каждый признак FeatureName из указанных в пару новых признаков FeatureName\\_Hour, FeatureName\\_Minute, разделив каждое из значений на часы и минуты. Не забудьте при этом исключить исходный признак из выборки. В случае, если значение признака отсутствует, значения двух новых признаков, его заменяющих, также должны отсутствовать. \n",
    "\n",
    "Например, признак DepTime необходимо заменить на пару признаков DepTime_Hour, DepTime_Minute. При этом, например, значение 155 исходного признака будет преобразовано в значения 1 и 55 признаков DepTime_Hour, DepTime_Minute соответственно."
   ]
  },
  {
   "cell_type": "markdown",
   "metadata": {
    "collapsed": false
   },
   "source": [
    "Проверим сначала исходные признаки на наличие пропущенных значений и заодно посчитаем их количество"
   ]
  },
  {
   "cell_type": "code",
   "execution_count": 17,
   "metadata": {
    "collapsed": false
   },
   "outputs": [
    {
     "name": "stdout",
     "output_type": "stream",
     "text": [
      "DepTime: 0\n",
      "CRSDepTime: 0\n",
      "ArrTime: 140\n",
      "CRSArrTime: 0\n"
     ]
    }
   ],
   "source": [
    "for i in  ['DepTime', 'CRSDepTime', 'ArrTime', 'CRSArrTime']:\n",
    "    print(i+': '+str(df_new[i].isnull().sum()))"
   ]
  },
  {
   "cell_type": "markdown",
   "metadata": {},
   "source": [
    "Посмотрим также, есть ли двухзначные и однозначные числа и заодно посчитаем их количество"
   ]
  },
  {
   "cell_type": "code",
   "execution_count": 18,
   "metadata": {
    "collapsed": false
   },
   "outputs": [
    {
     "name": "stdout",
     "output_type": "stream",
     "text": [
      "DepTime: 218\n",
      "CRSDepTime: 86\n",
      "ArrTime: 914\n",
      "CRSArrTime: 473\n"
     ]
    }
   ],
   "source": [
    "for j in  ['DepTime', 'CRSDepTime', 'ArrTime', 'CRSArrTime']:\n",
    "    s=0\n",
    "    for i in df_new.index.values:\n",
    "     if pd.isnull(df_new[j][i])!=True and len(str(int(df_new[j][i])))<3:\n",
    "        s+=1\n",
    "    print(j+': '+str(s))"
   ]
  },
  {
   "cell_type": "markdown",
   "metadata": {},
   "source": [
    "Посмотрим, сколько из этих чисел больше или равны 24"
   ]
  },
  {
   "cell_type": "code",
   "execution_count": 19,
   "metadata": {
    "collapsed": false
   },
   "outputs": [
    {
     "name": "stdout",
     "output_type": "stream",
     "text": [
      "DepTime: 122\n",
      "CRSDepTime: 72\n",
      "ArrTime: 453\n",
      "CRSArrTime: 212\n"
     ]
    }
   ],
   "source": [
    "for j in  ['DepTime', 'CRSDepTime', 'ArrTime', 'CRSArrTime']:\n",
    "    s=0\n",
    "    for i in df_new.index.values:\n",
    "     if pd.isnull(df_new[j][i])!=True and len(str(int(df_new[j][i])))<3:\n",
    "        if int(df_new[j][i])>=24:\n",
    "         s+=1\n",
    "    print(j+': '+str(s))"
   ]
  },
  {
   "cell_type": "markdown",
   "metadata": {},
   "source": [
    "Итак, около половины из двухзначных и однозначных чисел в исходных столбцах больше или равно 24, что дает основание полагать, что данные числа обозначают количество минут (mm), а не часов (hh). Исходя из этого значение hh для таких значений признаков = NaN."
   ]
  },
  {
   "cell_type": "markdown",
   "metadata": {},
   "source": [
    "Исходя из этого напишем соответствующие функции, проводящие преобразование исходных признаков"
   ]
  },
  {
   "cell_type": "code",
   "execution_count": 20,
   "metadata": {
    "collapsed": false
   },
   "outputs": [],
   "source": [
    "def function_hour(x):\n",
    "    if pd.isnull(x)==True:\n",
    "        return x\n",
    "    else:\n",
    "        if len(str(int(x)))<3:\n",
    "          return np.nan\n",
    "        elif len(str(int(x)))==3:\n",
    "            return int(str(int(x))[0])\n",
    "        elif len(str(int(x)))==4:\n",
    "            return int(str(int(x))[:2])    \n",
    "def function_minute(x):\n",
    "    if pd.isnull(x)==True:\n",
    "        return x\n",
    "    else:\n",
    "        if len(str(int(x)))<3:\n",
    "            return int(x)\n",
    "        elif len(str(int(x)))==3:\n",
    "            return int(str(int(x))[1:3])\n",
    "        elif len(str(int(x)))==4:\n",
    "            return int(str(int(x))[2:4])      "
   ]
  },
  {
   "cell_type": "code",
   "execution_count": 21,
   "metadata": {
    "collapsed": false
   },
   "outputs": [
    {
     "name": "stderr",
     "output_type": "stream",
     "text": [
      "/Users/macbook/anaconda/lib/python3.5/site-packages/ipykernel/__main__.py:1: SettingWithCopyWarning: \n",
      "A value is trying to be set on a copy of a slice from a DataFrame.\n",
      "Try using .loc[row_indexer,col_indexer] = value instead\n",
      "\n",
      "See the caveats in the documentation: http://pandas.pydata.org/pandas-docs/stable/indexing.html#indexing-view-versus-copy\n",
      "  if __name__ == '__main__':\n",
      "/Users/macbook/anaconda/lib/python3.5/site-packages/ipykernel/__main__.py:2: SettingWithCopyWarning: \n",
      "A value is trying to be set on a copy of a slice from a DataFrame.\n",
      "Try using .loc[row_indexer,col_indexer] = value instead\n",
      "\n",
      "See the caveats in the documentation: http://pandas.pydata.org/pandas-docs/stable/indexing.html#indexing-view-versus-copy\n",
      "  from ipykernel import kernelapp as app\n",
      "/Users/macbook/anaconda/lib/python3.5/site-packages/ipykernel/__main__.py:3: SettingWithCopyWarning: \n",
      "A value is trying to be set on a copy of a slice from a DataFrame.\n",
      "Try using .loc[row_indexer,col_indexer] = value instead\n",
      "\n",
      "See the caveats in the documentation: http://pandas.pydata.org/pandas-docs/stable/indexing.html#indexing-view-versus-copy\n",
      "  app.launch_new_instance()\n",
      "/Users/macbook/anaconda/lib/python3.5/site-packages/ipykernel/__main__.py:4: SettingWithCopyWarning: \n",
      "A value is trying to be set on a copy of a slice from a DataFrame.\n",
      "Try using .loc[row_indexer,col_indexer] = value instead\n",
      "\n",
      "See the caveats in the documentation: http://pandas.pydata.org/pandas-docs/stable/indexing.html#indexing-view-versus-copy\n",
      "/Users/macbook/anaconda/lib/python3.5/site-packages/ipykernel/__main__.py:5: SettingWithCopyWarning: \n",
      "A value is trying to be set on a copy of a slice from a DataFrame.\n",
      "Try using .loc[row_indexer,col_indexer] = value instead\n",
      "\n",
      "See the caveats in the documentation: http://pandas.pydata.org/pandas-docs/stable/indexing.html#indexing-view-versus-copy\n",
      "/Users/macbook/anaconda/lib/python3.5/site-packages/ipykernel/__main__.py:6: SettingWithCopyWarning: \n",
      "A value is trying to be set on a copy of a slice from a DataFrame.\n",
      "Try using .loc[row_indexer,col_indexer] = value instead\n",
      "\n",
      "See the caveats in the documentation: http://pandas.pydata.org/pandas-docs/stable/indexing.html#indexing-view-versus-copy\n",
      "/Users/macbook/anaconda/lib/python3.5/site-packages/ipykernel/__main__.py:7: SettingWithCopyWarning: \n",
      "A value is trying to be set on a copy of a slice from a DataFrame.\n",
      "Try using .loc[row_indexer,col_indexer] = value instead\n",
      "\n",
      "See the caveats in the documentation: http://pandas.pydata.org/pandas-docs/stable/indexing.html#indexing-view-versus-copy\n",
      "/Users/macbook/anaconda/lib/python3.5/site-packages/ipykernel/__main__.py:8: SettingWithCopyWarning: \n",
      "A value is trying to be set on a copy of a slice from a DataFrame.\n",
      "Try using .loc[row_indexer,col_indexer] = value instead\n",
      "\n",
      "See the caveats in the documentation: http://pandas.pydata.org/pandas-docs/stable/indexing.html#indexing-view-versus-copy\n"
     ]
    }
   ],
   "source": [
    "df_new['DepTime_Hour'] = df_new['DepTime'].apply(function_hour)\n",
    "df_new['DepTime_Minute'] = df_new['DepTime'].apply(function_minute)\n",
    "df_new['CRSDepTime_Hour'] = df_new['CRSDepTime'].apply(function_hour)\n",
    "df_new['CRSDepTime_Minute'] = df_new['CRSDepTime'].apply(function_minute)\n",
    "df_new['ArrTime_Hour'] = df_new['ArrTime'].apply(function_hour)\n",
    "df_new['ArrTime_Minute'] = df_new['ArrTime'].apply(function_minute)\n",
    "df_new['CRSArrTime_Hour'] = df_new['CRSArrTime'].apply(function_hour)\n",
    "df_new['CRSArrTime_Minute'] = df_new['CRSArrTime'].apply(function_minute)"
   ]
  },
  {
   "cell_type": "markdown",
   "metadata": {},
   "source": [
    "Если все было сделано правильно, то для новых признаков DepTime_Hour, CRSDepTime_Hour и CRSArrTime_Hour количество пропусков должно равняться количеству однозначных и двузначных чисел в соответствующих исходных признаках, а для нового признака ArrTime_Hour количество пропусков должно равняться количеству пропусков + количество однозначных и двухзначных чисел в соответствующем исходном признаке ArrTime_Hour. Сделаем проверку:"
   ]
  },
  {
   "cell_type": "code",
   "execution_count": 22,
   "metadata": {
    "collapsed": false
   },
   "outputs": [
    {
     "name": "stdout",
     "output_type": "stream",
     "text": [
      "DepTime_Hour: 218\n",
      "CRSDepTime_Hour: 86\n",
      "ArrTime_Hour: 1054\n",
      "CRSArrTime_Hour: 473\n",
      "DepTime: 218\n",
      "CRSDepTime: 86\n",
      "ArrTime: 1054\n",
      "CRSArrTime: 473\n"
     ]
    }
   ],
   "source": [
    "for j in ['DepTime_Hour', 'CRSDepTime_Hour' ,'ArrTime_Hour', 'CRSArrTime_Hour']:\n",
    "    print(j+': '+str(df_new[j].isnull().sum()))\n",
    "\n",
    "for j in  ['DepTime', 'CRSDepTime', 'ArrTime', 'CRSArrTime']:\n",
    "    s=0\n",
    "    for i in df_new.index.values:\n",
    "     if pd.isnull(df_new[j][i])!=True:\n",
    "      if len(str(int(df_new[j][i])))==4 or len(str(int(df_new[j][i])))==3:\n",
    "        pass\n",
    "      else:\n",
    "        s+=1\n",
    "     else:\n",
    "        s+=1\n",
    "    print(j+': '+str(s))"
   ]
  },
  {
   "cell_type": "markdown",
   "metadata": {},
   "source": [
    "Вывод: все совпадает. Удалим старые признаки:"
   ]
  },
  {
   "cell_type": "code",
   "execution_count": 23,
   "metadata": {
    "collapsed": true
   },
   "outputs": [],
   "source": [
    "for i in ['DepTime', 'CRSDepTime', 'ArrTime', 'CRSArrTime']:\n",
    "    del df_new[i]"
   ]
  },
  {
   "cell_type": "markdown",
   "metadata": {},
   "source": [
    "**8. (0.5 балла)** Некоторые из признаков, отличных от целевой переменной, могут оказывать чересчур значимое влияние на прогноз, поскольку по своему смыслу содержат большую долю информации о значении целевой переменной. Изучите описание датасета и исключите признаки, сильно коррелирующие с ответами. Ваш выбор признаков для исключения из выборки обоснуйте. Кроме того, исключите признаки TailNum и Year."
   ]
  },
  {
   "cell_type": "code",
   "execution_count": 24,
   "metadata": {
    "collapsed": false
   },
   "outputs": [],
   "source": [
    "del df_new['TailNum']\n",
    "del df_new['Year']"
   ]
  },
  {
   "cell_type": "markdown",
   "metadata": {},
   "source": [
    "Как уже было упомянуто в пункте 6, такие признаки, как CarrierDelay, WeatherDelay, NASDelay, SecurityDelay, LateAircraftDelay, нельзя использовать для предсказания DepDelay, поскольку они содержат информацию о количествах минут, приходящееся на конкретную причину задержки, при этом, данная информация становится известной уже после того, как задержка имела место. Другими словами, некорректно предсказывать DepDelay по значениям данных признаков. На всякий случай посмотрим на корреляционную матрицу для DepDelay, CarrierDelay, WeatherDelay, NASDelay, SecurityDelay:"
   ]
  },
  {
   "cell_type": "code",
   "execution_count": 25,
   "metadata": {
    "collapsed": false
   },
   "outputs": [
    {
     "data": {
      "text/plain": [
       "['Month',\n",
       " 'DayofMonth',\n",
       " 'DayOfWeek',\n",
       " 'UniqueCarrier',\n",
       " 'FlightNum',\n",
       " 'ActualElapsedTime',\n",
       " 'CRSElapsedTime',\n",
       " 'AirTime',\n",
       " 'ArrDelay',\n",
       " 'Origin',\n",
       " 'Dest',\n",
       " 'Distance',\n",
       " 'TaxiIn',\n",
       " 'TaxiOut',\n",
       " 'Cancelled',\n",
       " 'Diverted',\n",
       " 'CarrierDelay',\n",
       " 'WeatherDelay',\n",
       " 'NASDelay',\n",
       " 'SecurityDelay',\n",
       " 'LateAircraftDelay',\n",
       " 'DepTime_Hour',\n",
       " 'DepTime_Minute',\n",
       " 'CRSDepTime_Hour',\n",
       " 'CRSDepTime_Minute',\n",
       " 'ArrTime_Hour',\n",
       " 'ArrTime_Minute',\n",
       " 'CRSArrTime_Hour',\n",
       " 'CRSArrTime_Minute']"
      ]
     },
     "execution_count": 25,
     "metadata": {},
     "output_type": "execute_result"
    }
   ],
   "source": [
    "list(df_new.columns)"
   ]
  },
  {
   "cell_type": "code",
   "execution_count": 26,
   "metadata": {
    "collapsed": false
   },
   "outputs": [
    {
     "name": "stderr",
     "output_type": "stream",
     "text": [
      "/Users/macbook/anaconda/lib/python3.5/site-packages/ipykernel/__main__.py:2: SettingWithCopyWarning: \n",
      "A value is trying to be set on a copy of a slice from a DataFrame.\n",
      "Try using .loc[row_indexer,col_indexer] = value instead\n",
      "\n",
      "See the caveats in the documentation: http://pandas.pydata.org/pandas-docs/stable/indexing.html#indexing-view-versus-copy\n",
      "  from ipykernel import kernelapp as app\n"
     ]
    },
    {
     "data": {
      "text/html": [
       "<div>\n",
       "<table border=\"1\" class=\"dataframe\">\n",
       "  <thead>\n",
       "    <tr style=\"text-align: right;\">\n",
       "      <th></th>\n",
       "      <th>CarrierDelay</th>\n",
       "      <th>WeatherDelay</th>\n",
       "      <th>NASDelay</th>\n",
       "      <th>SecurityDelay</th>\n",
       "      <th>LateAircraftDelay</th>\n",
       "      <th>DepDelay</th>\n",
       "    </tr>\n",
       "  </thead>\n",
       "  <tbody>\n",
       "    <tr>\n",
       "      <th>0</th>\n",
       "      <td>NaN</td>\n",
       "      <td>NaN</td>\n",
       "      <td>NaN</td>\n",
       "      <td>NaN</td>\n",
       "      <td>NaN</td>\n",
       "      <td>16.0</td>\n",
       "    </tr>\n",
       "    <tr>\n",
       "      <th>1</th>\n",
       "      <td>NaN</td>\n",
       "      <td>NaN</td>\n",
       "      <td>NaN</td>\n",
       "      <td>NaN</td>\n",
       "      <td>NaN</td>\n",
       "      <td>16.0</td>\n",
       "    </tr>\n",
       "    <tr>\n",
       "      <th>2</th>\n",
       "      <td>NaN</td>\n",
       "      <td>NaN</td>\n",
       "      <td>NaN</td>\n",
       "      <td>NaN</td>\n",
       "      <td>NaN</td>\n",
       "      <td>-2.0</td>\n",
       "    </tr>\n",
       "    <tr>\n",
       "      <th>3</th>\n",
       "      <td>NaN</td>\n",
       "      <td>NaN</td>\n",
       "      <td>NaN</td>\n",
       "      <td>NaN</td>\n",
       "      <td>NaN</td>\n",
       "      <td>-3.0</td>\n",
       "    </tr>\n",
       "    <tr>\n",
       "      <th>4</th>\n",
       "      <td>NaN</td>\n",
       "      <td>NaN</td>\n",
       "      <td>NaN</td>\n",
       "      <td>NaN</td>\n",
       "      <td>NaN</td>\n",
       "      <td>-5.0</td>\n",
       "    </tr>\n",
       "  </tbody>\n",
       "</table>\n",
       "</div>"
      ],
      "text/plain": [
       "   CarrierDelay  WeatherDelay  NASDelay  SecurityDelay  LateAircraftDelay  \\\n",
       "0           NaN           NaN       NaN            NaN                NaN   \n",
       "1           NaN           NaN       NaN            NaN                NaN   \n",
       "2           NaN           NaN       NaN            NaN                NaN   \n",
       "3           NaN           NaN       NaN            NaN                NaN   \n",
       "4           NaN           NaN       NaN            NaN                NaN   \n",
       "\n",
       "   DepDelay  \n",
       "0      16.0  \n",
       "1      16.0  \n",
       "2      -2.0  \n",
       "3      -3.0  \n",
       "4      -5.0  "
      ]
     },
     "execution_count": 26,
     "metadata": {},
     "output_type": "execute_result"
    }
   ],
   "source": [
    "df_corr = df_new[list(df_new.columns[16:21])]\n",
    "df_corr['DepDelay'] = y\n",
    "df_corr.head()"
   ]
  },
  {
   "cell_type": "markdown",
   "metadata": {},
   "source": [
    "Корреляционна матрица (код для построения матрицы был взят из 'http://www.marketcalls.in/python/quick-start-guide-compute-correlation-matrix-using-nsepy-pandas-python.html')"
   ]
  },
  {
   "cell_type": "code",
   "execution_count": 27,
   "metadata": {
    "collapsed": false
   },
   "outputs": [
    {
     "name": "stdout",
     "output_type": "stream",
     "text": [
      "Populating the interactive namespace from numpy and matplotlib\n"
     ]
    },
    {
     "data": {
      "image/png": "[encoded data removed]",
      "text/plain": [
       "<matplotlib.figure.Figure at 0x10797e278>"
      ]
     },
     "metadata": {},
     "output_type": "display_data"
    }
   ],
   "source": [
    "corr = df_corr.corr()\n",
    "\n",
    "%pylab inline\n",
    "plt.figure(figsize=(10, 10))\n",
    "plt.imshow(corr, cmap='RdYlGn', interpolation='none', aspect='auto')\n",
    "plt.colorbar()\n",
    "plt.xticks(range(len(corr)), corr.columns, rotation='vertical')\n",
    "plt.yticks(range(len(corr)), corr.columns);\n",
    "plt.suptitle('Feature Correlations', fontsize=15, fontweight='bold')\n",
    "plt.show()"
   ]
  },
  {
   "cell_type": "markdown",
   "metadata": {},
   "source": [
    "Если посмотреть на последнюю строку в этой матрице, можно заметить, что между вышеупомянутыми признаками и DepDelay наблюдается довольно высокая корреляция. Мы еще раз убедились, что данные признаки нужно удалить."
   ]
  },
  {
   "cell_type": "code",
   "execution_count": 28,
   "metadata": {
    "collapsed": true
   },
   "outputs": [],
   "source": [
    "for i in list(df_new.columns[16:21]):\n",
    "    del df_new[i]"
   ]
  },
  {
   "cell_type": "markdown",
   "metadata": {},
   "source": [
    "Посмотрим также на корреляцию между DepDelay и остальными признаками:"
   ]
  },
  {
   "cell_type": "code",
   "execution_count": 29,
   "metadata": {
    "collapsed": false
   },
   "outputs": [
    {
     "name": "stdout",
     "output_type": "stream",
     "text": [
      "Populating the interactive namespace from numpy and matplotlib\n"
     ]
    },
    {
     "name": "stderr",
     "output_type": "stream",
     "text": [
      "/Users/macbook/anaconda/lib/python3.5/site-packages/ipykernel/__main__.py:1: SettingWithCopyWarning: \n",
      "A value is trying to be set on a copy of a slice from a DataFrame.\n",
      "Try using .loc[row_indexer,col_indexer] = value instead\n",
      "\n",
      "See the caveats in the documentation: http://pandas.pydata.org/pandas-docs/stable/indexing.html#indexing-view-versus-copy\n",
      "  if __name__ == '__main__':\n"
     ]
    },
    {
     "data": {
      "image/png": "[encoded data removed]",
      "text/plain": [
       "<matplotlib.figure.Figure at 0x105c959b0>"
      ]
     },
     "metadata": {},
     "output_type": "display_data"
    }
   ],
   "source": [
    "df_new['DepDelay'] = y\n",
    "corr = df_new.corr()\n",
    "\n",
    "#Plot Correlation Matrix using Matplotlib\n",
    "%pylab inline\n",
    "plt.figure(figsize=(10, 10))\n",
    "plt.imshow(corr, cmap='RdYlGn', interpolation='none', aspect='auto')\n",
    "plt.colorbar()\n",
    "plt.xticks(range(len(corr)), corr.columns, rotation='vertical')\n",
    "plt.yticks(range(len(corr)), corr.columns);\n",
    "plt.suptitle('Feature Correlations', fontsize=15, fontweight='bold')\n",
    "plt.show()"
   ]
  },
  {
   "cell_type": "markdown",
   "metadata": {},
   "source": [
    "Видно, что между ArrDelay и DepDelay очень высокая корреляция, и это логично, поскольку чем больше задержка при отправлении, тем больше задержка относительно запланированного времени прибытия. Поэтому удалим ArrDelay."
   ]
  },
  {
   "cell_type": "code",
   "execution_count": 30,
   "metadata": {
    "collapsed": true
   },
   "outputs": [],
   "source": [
    "del df_new['DepDelay']\n",
    "del df_new['ArrDelay']"
   ]
  },
  {
   "cell_type": "markdown",
   "metadata": {},
   "source": [
    "Приведем данные к виду, пригодному для обучения линейных моделей. Для этого вещественные признаки надо отмасштабировать, а категориальные — привести к числовому виду. Также надо устранить пропуски в данных."
   ]
  },
  {
   "cell_type": "markdown",
   "metadata": {},
   "source": [
    "**9*. (1 бонусный балл) ** В первую очередь поймем, зачем необходимо применять масштабирование. Следующие ячейки с кодом построят гистограммы для 3 вещественных признаков выборки."
   ]
  },
  {
   "cell_type": "code",
   "execution_count": 31,
   "metadata": {
    "collapsed": false,
    "scrolled": true
   },
   "outputs": [
    {
     "data": {
      "text/plain": [
       "<matplotlib.axes._subplots.AxesSubplot at 0x10797e898>"
      ]
     },
     "execution_count": 31,
     "metadata": {},
     "output_type": "execute_result"
    },
    {
     "data": {
      "image/png": "[encoded data removed]",
      "text/plain": [
       "<matplotlib.figure.Figure at 0x109dc8358>"
      ]
     },
     "metadata": {},
     "output_type": "display_data"
    }
   ],
   "source": [
    "df_new['DepTime_Hour'].hist(bins=20)"
   ]
  },
  {
   "cell_type": "code",
   "execution_count": 32,
   "metadata": {
    "collapsed": false
   },
   "outputs": [
    {
     "data": {
      "text/plain": [
       "<matplotlib.axes._subplots.AxesSubplot at 0x109f81eb8>"
      ]
     },
     "execution_count": 32,
     "metadata": {},
     "output_type": "execute_result"
    },
    {
     "data": {
      "image/png": "[encoded data removed]",
      "text/plain": [
       "<matplotlib.figure.Figure at 0x109dc0438>"
      ]
     },
     "metadata": {},
     "output_type": "display_data"
    }
   ],
   "source": [
    "df_new['TaxiIn'].hist(bins=20)"
   ]
  },
  {
   "cell_type": "code",
   "execution_count": 33,
   "metadata": {
    "collapsed": false
   },
   "outputs": [
    {
     "data": {
      "text/plain": [
       "<matplotlib.axes._subplots.AxesSubplot at 0x109f38e80>"
      ]
     },
     "execution_count": 33,
     "metadata": {},
     "output_type": "execute_result"
    },
    {
     "data": {
      "image/png": "[encoded data removed]",
      "text/plain": [
       "<matplotlib.figure.Figure at 0x109e63d30>"
      ]
     },
     "metadata": {},
     "output_type": "display_data"
    }
   ],
   "source": [
    "df_new['FlightNum'].hist(bins=20)"
   ]
  },
  {
   "cell_type": "markdown",
   "metadata": {},
   "source": [
    "Какую проблему вы наблюдаете на этих графиках? Как масштабирование поможет её исправить?"
   ]
  },
  {
   "cell_type": "markdown",
   "metadata": {},
   "source": [
    "Главная проблема состоит в том, что подавляющее большинство значений FlightNum больше, чем значения признаков 'DepTime_Hour' и 'TaxiIn', при этом, для нахождения весов признаков в линейной регрессии используется функционал MSE, который измеряет евклидово расстояние между $y$ и $<w,x>$. Соответственно, если значения одного признака в 1000 раз больше значений другого, то первый признак будет вносить гораздо более существенный вклад в результирующее расстояние, а другой признак в этом смысле будет практически незначимым, и, следовательно, при минимизации функционала веса (оценки коэффициентов) будут подобраны с учетом этих различий в относительном вкладе признака в величину расстояния. Хотя на самом деле вполне может получиться так, что признак с небольшими значениями имеет гораздо большую предсказательную способность, чем признак с большими значениями. Поэтому для избежания данной проблемы используется масштабирование, которое позволяет привести все признаки к одному масштабу, и, следовательно, все признаки будут вносить одинаковый (примерно) вклад в результирущее расстояние, что позволит получить более корректные оценки коэффицентов в регресии."
   ]
  },
  {
   "cell_type": "markdown",
   "metadata": {},
   "source": [
    "**10. (1 балл)** Вдобавок к масштабированию, некоторые из признаков в нашем датасете являются категориальными. Типичным подходом к работе с ними является бинарное, или [one-hot-кодирование](https://en.wikipedia.org/wiki/One-hot).\n",
    "\n",
    "\n",
    "Реализуйте функцию transform_data, которая принимает на вход DataFrame с признаками и выполняет следующие шаги:\n",
    "1. Замена пропущенных значений на нули для вещественных признаков и на строки 'nan' для категориальных.\n",
    "2. Масштабирование вещественных признаков с помощью [StandardScaler](http://scikit-learn.org/stable/modules/generated/sklearn.preprocessing.StandardScaler.html).\n",
    "3. One-hot-кодирование категориальных признаков с помощью [DictVectorizer](http://scikit-learn.org/stable/modules/generated/sklearn.feature_extraction.DictVectorizer.html) или функции [pd.get_dummies](http://pandas.pydata.org/pandas-docs/stable/generated/pandas.get_dummies.html).\n",
    "\n",
    "Метод должен возвращать преобразованный DataFrame, который должна состоять из масштабированных вещественных признаков и закодированных категориальных (исходные признаки должны быть исключены из выборки)."
   ]
  },
  {
   "cell_type": "markdown",
   "metadata": {},
   "source": [
    "Посмотрим, какие признаки являются категориальными"
   ]
  },
  {
   "cell_type": "code",
   "execution_count": 34,
   "metadata": {
    "collapsed": false
   },
   "outputs": [
    {
     "name": "stdout",
     "output_type": "stream",
     "text": [
      "['UniqueCarrier', 'Dest', 'Origin']\n",
      "['AirTime', 'FlightNum', 'Month', 'CRSElapsedTime', 'DayOfWeek', 'TaxiOut', 'TaxiIn', 'Diverted', 'DepTime_Minute', 'ArrTime_Hour', 'ArrTime_Minute', 'DayofMonth', 'Distance', 'CRSArrTime_Minute', 'CRSArrTime_Hour', 'ActualElapsedTime', 'Cancelled', 'CRSDepTime_Hour', 'CRSDepTime_Minute', 'DepTime_Hour']\n"
     ]
    }
   ],
   "source": [
    "num_cols1 = set(df_new._get_numeric_data().columns)\n",
    "num_cols = set(df_new.columns)\n",
    "categorial = list(num_cols-num_cols1)\n",
    "numerical = list(num_cols1)\n",
    "print(categorial)\n",
    "print(numerical)"
   ]
  },
  {
   "cell_type": "markdown",
   "metadata": {},
   "source": [
    "Конечно, такие признаки, как DayofMonth, DayOfWeek и Month, тоже можно отнести к категориальным, однако в таком случае значительно увеличится общее количество признаков, что негативно скажется на качестве модели. Поэтому делать мы этого не будем и оставим данные признаки в числе вещественных."
   ]
  },
  {
   "cell_type": "markdown",
   "metadata": {},
   "source": [
    "Посмотрим, сколько уникальных значений принимает каждый из выделенных нами категориальных признаков."
   ]
  },
  {
   "cell_type": "code",
   "execution_count": 35,
   "metadata": {
    "collapsed": false
   },
   "outputs": [
    {
     "name": "stdout",
     "output_type": "stream",
     "text": [
      "UniqueCarrier: 20\n",
      "Dest: 298\n",
      "Origin: 296\n"
     ]
    }
   ],
   "source": [
    "for i in categorial:\n",
    "  print(i+': '+str(df_new[i].value_counts().shape[0]))"
   ]
  },
  {
   "cell_type": "markdown",
   "metadata": {},
   "source": [
    "Очевидно, что от признаков Origin и Dest нужно избавляться, тк в противном случае модель будет неадекватной (огромное количество признаков)"
   ]
  },
  {
   "cell_type": "markdown",
   "metadata": {},
   "source": [
    "Для удобства избавимся от этих признаков после применения к датафрейму функции transfrom_data"
   ]
  },
  {
   "cell_type": "markdown",
   "metadata": {},
   "source": [
    "Реализуем функцию transfrom_data"
   ]
  },
  {
   "cell_type": "code",
   "execution_count": 36,
   "metadata": {
    "collapsed": false
   },
   "outputs": [],
   "source": [
    "from sklearn.preprocessing import StandardScaler\n",
    "def transform_data(data):\n",
    "  num_cols1 = set(data._get_numeric_data().columns)\n",
    "  num_cols = set(data.columns)\n",
    "  categorial = list(num_cols-num_cols1)\n",
    "  numerical = list(num_cols1)\n",
    "  for i in numerical:\n",
    "    data[i]=data[i].apply(lambda x: x if pd.isnull(x)==False else 0)\n",
    "  for i in categorial:\n",
    "    data[i]=data[i].apply(lambda x: x if pd.isnull(x)==False else 'nan')\n",
    "  scaler = StandardScaler()\n",
    "  data_num = scaler.fit_transform(data[list(data._get_numeric_data().columns)])\n",
    "  data_final = pd.DataFrame(data_num, index=data[list(data._get_numeric_data().columns)].index, columns=list(data._get_numeric_data().columns))\n",
    "  \n",
    "  dummies = pd.get_dummies(data[list(set(data.columns)-set(data._get_numeric_data().columns))])\n",
    "  for i in list(dummies.columns):\n",
    "        data_final[i]=dummies[i]\n",
    "  return data_final"
   ]
  },
  {
   "cell_type": "markdown",
   "metadata": {},
   "source": [
    "Примените функцию transform_data к данным. Сколько признаков получилось после преобразования?"
   ]
  },
  {
   "cell_type": "code",
   "execution_count": 37,
   "metadata": {
    "collapsed": false
   },
   "outputs": [
    {
     "name": "stderr",
     "output_type": "stream",
     "text": [
      "/Users/macbook/anaconda/lib/python3.5/site-packages/ipykernel/__main__.py:8: SettingWithCopyWarning: \n",
      "A value is trying to be set on a copy of a slice from a DataFrame.\n",
      "Try using .loc[row_indexer,col_indexer] = value instead\n",
      "\n",
      "See the caveats in the documentation: http://pandas.pydata.org/pandas-docs/stable/indexing.html#indexing-view-versus-copy\n",
      "/Users/macbook/anaconda/lib/python3.5/site-packages/ipykernel/__main__.py:10: SettingWithCopyWarning: \n",
      "A value is trying to be set on a copy of a slice from a DataFrame.\n",
      "Try using .loc[row_indexer,col_indexer] = value instead\n",
      "\n",
      "See the caveats in the documentation: http://pandas.pydata.org/pandas-docs/stable/indexing.html#indexing-view-versus-copy\n"
     ]
    },
    {
     "data": {
      "text/plain": [
       "(63404, 40)"
      ]
     },
     "execution_count": 37,
     "metadata": {},
     "output_type": "execute_result"
    }
   ],
   "source": [
    "df_new1 = transform_data(df_new)\n",
    "x = list(df_new1.columns)\n",
    "for i in x[len(x)-296-298-20:len(x)-298-20]:\n",
    "  del df_new1[i]\n",
    "for i in x[len(x)-298:]:\n",
    "  del df_new1[i]\n",
    "df_new1.shape"
   ]
  },
  {
   "cell_type": "markdown",
   "metadata": {},
   "source": [
    "В итоге получилось 40 признаков"
   ]
  },
  {
   "cell_type": "markdown",
   "metadata": {},
   "source": [
    "Проверим, совпадает ли количество строк?"
   ]
  },
  {
   "cell_type": "code",
   "execution_count": 38,
   "metadata": {
    "collapsed": false
   },
   "outputs": [
    {
     "data": {
      "text/plain": [
       "(63404, 23)"
      ]
     },
     "execution_count": 38,
     "metadata": {},
     "output_type": "execute_result"
    }
   ],
   "source": [
    "df_new.shape"
   ]
  },
  {
   "cell_type": "markdown",
   "metadata": {},
   "source": [
    "**11. (0.75 балла)** Разбейте выборку и вектор целевой переменной на обучение и контроль в отношении 70/30 (для этого можно использовать, например, функцию [train_test_split](http://scikit-learn.org/stable/modules/generated/sklearn.cross_validation.train_test_split.html)). "
   ]
  },
  {
   "cell_type": "code",
   "execution_count": 39,
   "metadata": {
    "collapsed": false
   },
   "outputs": [
    {
     "name": "stderr",
     "output_type": "stream",
     "text": [
      "/Users/macbook/anaconda/lib/python3.5/site-packages/sklearn/cross_validation.py:44: DeprecationWarning: This module was deprecated in version 0.18 in favor of the model_selection module into which all the refactored classes and functions are moved. Also note that the interface of the new CV iterators are different from that of this module. This module will be removed in 0.20.\n",
      "  \"This module will be removed in 0.20.\", DeprecationWarning)\n"
     ]
    }
   ],
   "source": [
    "from sklearn.cross_validation import train_test_split\n",
    "X_train, X_test, y_train, y_test = train_test_split(df_new1, y, test_size=0.3, random_state=89)"
   ]
  },
  {
   "cell_type": "markdown",
   "metadata": {},
   "source": [
    "### Scikit-learn\n",
    "\n",
    "<img src = \"https://pp.vk.me/c4534/u35727827/93547647/x_d31c4463.jpg\">\n",
    "Теперь, когда мы привели данные к пригодному виду, попробуем решить задачу при помощи метода наименьших квадратов. Напомним, что данный метод заключается в оптимизации функционала $MSE$:\n",
    "\n",
    "$$MSE(X, y) = \\frac{1}{l} \\sum_{i=1}^l (<w, x_i> - y_i)^2 \\to \\min_{w},$$\n",
    "\n",
    "где $\\{ (x_i, y_i ) \\}_{i=1}^l$ — обучающая выборка, состоящая из $l$ пар объект-ответ.\n",
    "\n",
    "Заметим, что решение данной задачи уже реализовано в модуле sklearn в виде класса [LinearRegression](http://scikit-learn.org/stable/modules/generated/sklearn.linear_model.LinearRegression.html#sklearn.linear_model.LinearRegression).\n",
    "\n",
    "**12. (0.5 балла)** Обучите линейную регрессию на 1000 объектах из обучающей выборки и выведите значения $MSE$ и $R^2$ на этой подвыборке и контрольной выборке (итого 4 различных числа). Проинтерпретируйте полученный результат — насколько качественные прогнозы строит полученная модель? Какие проблемы наблюдаются в модели?\n",
    "\n",
    "**Подсказка**: изучите значения полученных коэффициентов $w$, сохраненных в атрибуте coef_ объекта LinearRegression."
   ]
  },
  {
   "cell_type": "code",
   "execution_count": 40,
   "metadata": {
    "collapsed": false
   },
   "outputs": [
    {
     "name": "stdout",
     "output_type": "stream",
     "text": [
      "R2_train_1000 =0.0888907073432\n",
      "MSE_train_1000 =1262.22072466\n",
      "R2_test =0.0517272088521\n",
      "MSE_test =1226.09520843\n",
      "[ -5.83456573e-01   3.21126143e-01   4.20332879e-01  -8.83203062e-02\n",
      "  -3.49818563e+01  -6.52256055e-01   3.36953743e+01   2.76492612e+00\n",
      "   6.95745628e+00   7.83632555e+00  -6.75015599e-13   1.09754292e+00\n",
      "   2.11425651e+01  -1.38494807e+00  -1.58416384e+01   1.92885708e+00\n",
      "  -1.02143890e+00   3.85357324e-01   4.68594275e-01   1.97481439e+00\n",
      "  -1.06581410e-14   7.10542736e-15  -8.41752545e+00  -1.45378601e+01\n",
      "  -3.55271368e-15   2.14586820e+01  -1.77635684e-15   1.71645374e+01\n",
      "  -9.16933421e+00   0.00000000e+00   0.00000000e+00   0.00000000e+00\n",
      "   0.00000000e+00   1.44971580e+01  -4.87676854e+00  -5.57831252e+00\n",
      "   0.00000000e+00   0.00000000e+00   0.00000000e+00   0.00000000e+00]\n"
     ]
    }
   ],
   "source": [
    "from sklearn.linear_model import LinearRegression\n",
    "from sklearn.metrics import r2_score\n",
    "from sklearn.metrics import mean_squared_error\n",
    "regression = LinearRegression()\n",
    "regression.fit(X_train.iloc[:1000], y_train.iloc[:1000])\n",
    "prediction_train = regression.predict(X_train.iloc[:1000])\n",
    "prediction_test = regression.predict(X_test)\n",
    "print('R2_train_1000 ='+str(r2_score(y_train.iloc[:1000], prediction_train)))\n",
    "print('MSE_train_1000 ='+str(mean_squared_error(y_train.iloc[:1000], prediction_train)))\n",
    "print('R2_test ='+str(r2_score(y_test, prediction_test)))\n",
    "print('MSE_test ='+str(mean_squared_error(y_test, prediction_test)))\n",
    "print(regression.coef_)"
   ]
  },
  {
   "cell_type": "markdown",
   "metadata": {},
   "source": [
    "Модель переобучилась, тк $R^2$ для тренировочной и тестовой выборки довольно значительно различаются, хотя полученные коэффициенты не настолько большие (а если быть точным, совсем небольшие:)), чтобы можно было говорить о сильном переобучении (видимо, сказался тот факт, что мы не стали включать признаки Origin и Dest)"
   ]
  },
  {
   "cell_type": "markdown",
   "metadata": {
    "collapsed": true
   },
   "source": [
    "Для решения описанных вами в предыдущем пункте проблем используем L1- или L2-регуляризацию, тем самым получив Lasso и Ridge регрессии соответственно и изменив оптимизационную задачу одним из следующих образов:\n",
    "$$MSE_{L1}(X, y) = \\frac{1}{l} \\sum_{i=1}^l (<w, x_i> - y_i)^2 + \\alpha ||w||_1 \\to \\min_{w},$$\n",
    "$$MSE_{L2}(X, y) = \\frac{1}{l} \\sum_{i=1}^l (<w, x_i> - y_i)^2 + \\alpha ||w||_2^2 \\to \\min_{w},$$\n",
    "\n",
    "где $\\alpha$ — коэффициент регуляризации. Один из способов его подбора заключается в переборе некоторого количества значений и оценке качества на кросс-валидации для каждого из них, после чего выбирается значение, для которого было получено наилучшее качество.\n",
    "\n",
    "**13. (1 балл)** Обучите линейные регрессии с L1- и L2-регуляризатором, подобрав лучшее значение параметра регуляризации из списка alpha_grid при помощи кросс-валидации c 5 фолдами на тех же 1000 объектах, что и в п.12. Выведите значения $MSE$ и $R^2$ на обучающей и контрольной выборках. Удалось ли решить указанные вами ранее проблемы?\n",
    "\n",
    "Для выполнения данного задания вам могут понадобиться реализованные в библиотеке объекты [LassoCV](http://scikit-learn.org/stable/modules/generated/sklearn.linear_model.LassoCV.html), [RidgeCV](http://scikit-learn.org/stable/modules/generated/sklearn.linear_model.RidgeCV.html) и [KFold](http://scikit-learn.org/stable/modules/generated/sklearn.cross_validation.KFold.html).\n"
   ]
  },
  {
   "cell_type": "code",
   "execution_count": 41,
   "metadata": {
    "collapsed": false
   },
   "outputs": [],
   "source": [
    "from sklearn.cross_validation import KFold\n",
    "kf = KFold(n=1000, n_folds=5, random_state=100, shuffle=False)"
   ]
  },
  {
   "cell_type": "markdown",
   "metadata": {},
   "source": [
    "Lasso-регрессия"
   ]
  },
  {
   "cell_type": "markdown",
   "metadata": {},
   "source": [
    "Выбор оптимального $\\alpha$ проводится на основе метрики $R^2$"
   ]
  },
  {
   "cell_type": "code",
   "execution_count": 42,
   "metadata": {
    "collapsed": false
   },
   "outputs": [
    {
     "name": "stderr",
     "output_type": "stream",
     "text": [
      "/Users/macbook/anaconda/lib/python3.5/site-packages/sklearn/linear_model/coordinate_descent.py:479: ConvergenceWarning: Objective did not converge. You might want to increase the number of iterations. Fitting data with very small alpha may cause precision problems.\n",
      "  ConvergenceWarning)\n",
      "/Users/macbook/anaconda/lib/python3.5/site-packages/sklearn/linear_model/coordinate_descent.py:479: ConvergenceWarning: Objective did not converge. You might want to increase the number of iterations. Fitting data with very small alpha may cause precision problems.\n",
      "  ConvergenceWarning)\n",
      "/Users/macbook/anaconda/lib/python3.5/site-packages/sklearn/linear_model/coordinate_descent.py:479: ConvergenceWarning: Objective did not converge. You might want to increase the number of iterations. Fitting data with very small alpha may cause precision problems.\n",
      "  ConvergenceWarning)\n",
      "/Users/macbook/anaconda/lib/python3.5/site-packages/sklearn/linear_model/coordinate_descent.py:479: ConvergenceWarning: Objective did not converge. You might want to increase the number of iterations. Fitting data with very small alpha may cause precision problems.\n",
      "  ConvergenceWarning)\n",
      "/Users/macbook/anaconda/lib/python3.5/site-packages/sklearn/linear_model/coordinate_descent.py:479: ConvergenceWarning: Objective did not converge. You might want to increase the number of iterations. Fitting data with very small alpha may cause precision problems.\n",
      "  ConvergenceWarning)\n",
      "/Users/macbook/anaconda/lib/python3.5/site-packages/sklearn/linear_model/coordinate_descent.py:479: ConvergenceWarning: Objective did not converge. You might want to increase the number of iterations. Fitting data with very small alpha may cause precision problems.\n",
      "  ConvergenceWarning)\n",
      "/Users/macbook/anaconda/lib/python3.5/site-packages/sklearn/linear_model/coordinate_descent.py:479: ConvergenceWarning: Objective did not converge. You might want to increase the number of iterations. Fitting data with very small alpha may cause precision problems.\n",
      "  ConvergenceWarning)\n",
      "/Users/macbook/anaconda/lib/python3.5/site-packages/sklearn/linear_model/coordinate_descent.py:479: ConvergenceWarning: Objective did not converge. You might want to increase the number of iterations. Fitting data with very small alpha may cause precision problems.\n",
      "  ConvergenceWarning)\n",
      "/Users/macbook/anaconda/lib/python3.5/site-packages/sklearn/linear_model/coordinate_descent.py:479: ConvergenceWarning: Objective did not converge. You might want to increase the number of iterations. Fitting data with very small alpha may cause precision problems.\n",
      "  ConvergenceWarning)\n",
      "/Users/macbook/anaconda/lib/python3.5/site-packages/sklearn/linear_model/coordinate_descent.py:479: ConvergenceWarning: Objective did not converge. You might want to increase the number of iterations. Fitting data with very small alpha may cause precision problems.\n",
      "  ConvergenceWarning)\n"
     ]
    },
    {
     "name": "stdout",
     "output_type": "stream",
     "text": [
      "Optimal alpha = 1.35134268537\n",
      "R2_train_1000 =0.0502723814197\n",
      "MSE_train_1000 =1315.72127803\n",
      "R2_test =0.0358126062509\n",
      "MSE_test =1246.67242858\n"
     ]
    },
    {
     "name": "stderr",
     "output_type": "stream",
     "text": [
      "/Users/macbook/anaconda/lib/python3.5/site-packages/sklearn/linear_model/coordinate_descent.py:479: ConvergenceWarning: Objective did not converge. You might want to increase the number of iterations. Fitting data with very small alpha may cause precision problems.\n",
      "  ConvergenceWarning)\n"
     ]
    }
   ],
   "source": [
    "from sklearn.linear_model import LassoCV\n",
    "alpha_grid = np.linspace(0.01,10, num=500)\n",
    "X_train1 = X_train.iloc[:1000]\n",
    "y_train1 = y_train.iloc[:1000]\n",
    "new_index = [i for i in range(1000)]\n",
    "X_train1.reindex(new_index)\n",
    "y_train1.reindex(new_index)\n",
    "\n",
    "optim_search=[]\n",
    "for i in alpha_grid:\n",
    " lasso = LassoCV(alphas=[i])\n",
    " optim_search.append(np.mean([lasso.fit(X_train1.iloc[train_indices], \n",
    "                                        y_train1.iloc[train_indices]).score(X_train1.iloc[test_indices],y_train1.iloc[test_indices]) \n",
    "                                        for train_indices, test_indices in kf]))\n",
    "maximum_r2 = np.max(optim_search)\n",
    "optimal_alpha = alpha_grid[optim_search.index(maximum_r2)]\n",
    "\n",
    "lasso = LassoCV(alphas=[optimal_alpha])\n",
    "[lasso.fit(X_train1.iloc[train_indices], y_train1.iloc[train_indices]) for train_indices, test_indices in kf]\n",
    "                \n",
    "prediction_train = lasso.predict(X_train.iloc[:1000])\n",
    "prediction_test = lasso.predict(X_test)\n",
    "print('Optimal alpha = '+str(optimal_alpha))\n",
    "print('R2_train_1000 ='+str(r2_score(y_train.iloc[:1000], prediction_train)))\n",
    "print('MSE_train_1000 ='+str(mean_squared_error(y_train.iloc[:1000], prediction_train)))\n",
    "print('R2_test ='+str(r2_score(y_test, prediction_test)))\n",
    "print('MSE_test ='+str(mean_squared_error(y_test, prediction_test)))"
   ]
  },
  {
   "cell_type": "markdown",
   "metadata": {},
   "source": [
    "Результаты регрессии Lasso оказались хуже, чем в случае обычной регрессии. Видимо, в данном случае обычной регрессии не присуща проблема переобучения."
   ]
  },
  {
   "cell_type": "markdown",
   "metadata": {},
   "source": [
    "Ridge-регрессия."
   ]
  },
  {
   "cell_type": "markdown",
   "metadata": {},
   "source": [
    "Выбор оптимального $\\alpha$ проводится на основе метрики $R^2$"
   ]
  },
  {
   "cell_type": "code",
   "execution_count": 43,
   "metadata": {
    "collapsed": false
   },
   "outputs": [
    {
     "name": "stdout",
     "output_type": "stream",
     "text": [
      "Optimal alpha = 10.0\n",
      "R2_train_1000 =0.0768961663149\n",
      "MSE_train_1000 =1278.83756568\n",
      "R2_test =0.0373907698421\n",
      "MSE_test =1244.63189886\n"
     ]
    }
   ],
   "source": [
    "from sklearn.linear_model import RidgeCV\n",
    "alpha_grid = np.linspace(0.01,10, num=1000)\n",
    "optim_search=[]\n",
    "for i in alpha_grid:\n",
    " ridge = RidgeCV(alphas=[i])\n",
    " optim_search.append(np.mean([ridge.fit(X_train1.iloc[train_indices], \n",
    "                                        y_train1.iloc[train_indices]).score(X_train1.iloc[test_indices],y_train1.iloc[test_indices]) \n",
    "                                        for train_indices, test_indices in kf]))\n",
    "maximum_r2 = np.max(optim_search)\n",
    "optimal_alpha = alpha_grid[optim_search.index(maximum_r2)]\n",
    "\n",
    "ridge = RidgeCV(alphas=[optimal_alpha])\n",
    "[ridge.fit(X_train1.iloc[train_indices], y_train1.iloc[train_indices]) for train_indices, test_indices in kf]\n",
    "                \n",
    "prediction_train = ridge.predict(X_train.iloc[:1000])\n",
    "prediction_test = ridge.predict(X_test)\n",
    "print('Optimal alpha = '+str(optimal_alpha))\n",
    "print('R2_train_1000 ='+str(r2_score(y_train.iloc[:1000], prediction_train)))\n",
    "print('MSE_train_1000 ='+str(mean_squared_error(y_train.iloc[:1000], prediction_train)))\n",
    "print('R2_test ='+str(r2_score(y_test, prediction_test)))\n",
    "print('MSE_test ='+str(mean_squared_error(y_test, prediction_test)))"
   ]
  },
  {
   "cell_type": "markdown",
   "metadata": {},
   "source": [
    "Итоговые результаты оказались хуже, чем в обычной линейной регрессии (проводились попытки расширить диапазон значений $\\alpha$, но значения итоговых метрик остались примерно такими же)"
   ]
  },
  {
   "cell_type": "markdown",
   "metadata": {},
   "source": [
    "### Градиентный спуск\n",
    "\n",
    "В предыдущем разделе мы использовали существующие реализации методов обучения линейной регрессии с регуляризацией и без. Тем не менее, подобные реализации, как правило, имеются лишь для ограниченного набора стандартных методов. В частности, при выходе функционала качества за пределы стандартного множества необходимо самостоятельно реализовывать составляющие процесса решения оптимизационной задачи. Именно этому и посвящен данный раздел задания.\n",
    "\n",
    "Пусть необходимо минимизировать следующий функционал (Mean Square Percentage Error — модифицированный [RMSPE](https://www.kaggle.com/c/rossmann-store-sales/details/evaluation)):\n",
    "$$MSPE(\\{x_i, y_i\\}_{i=1}^l, \\, w) = \\frac{1}{l}\\sum_{i=1}^l \\left( \\frac{y_i - \\langle w, x_i \\rangle }{y_i} \\right)^2,$$\n",
    "\n",
    "где $\\{x_i, y_i\\}_{i=1}^l$ — обучающая выборка, $w$ — вектор весов линейной модели. Будем также рассматривать функционал $MSPE$ с L2-регуляризацией:\n",
    "\n",
    "$$MSPE(\\{x_i, y_i\\}_{i=1}^l, \\, w) = \\frac{1}{l}\\sum_{i=1}^l \\left( \\frac{y_i - \\langle w, x_i \\rangle }{y_i} \\right)^2 + ||w||_2^2.$$\n",
    "\n",
    "**14. (0 баллов)** Добавьте к объектам обеих выборок из п. 11 единичный признак."
   ]
  },
  {
   "cell_type": "code",
   "execution_count": 44,
   "metadata": {
    "collapsed": false
   },
   "outputs": [
    {
     "name": "stderr",
     "output_type": "stream",
     "text": [
      "/Users/macbook/anaconda/lib/python3.5/site-packages/ipykernel/__main__.py:2: SettingWithCopyWarning: \n",
      "A value is trying to be set on a copy of a slice from a DataFrame.\n",
      "Try using .loc[row_indexer,col_indexer] = value instead\n",
      "\n",
      "See the caveats in the documentation: http://pandas.pydata.org/pandas-docs/stable/indexing.html#indexing-view-versus-copy\n",
      "  from ipykernel import kernelapp as app\n"
     ]
    }
   ],
   "source": [
    "for data in [X_train, X_test]:\n",
    "    data['unit']=pd.Series(np.ones(data.shape[0]), index = data.index)"
   ]
  },
  {
   "cell_type": "markdown",
   "metadata": {},
   "source": [
    "**15. (1 балл)** Реализуйте функции, которые вычисляют:\n",
    " * прогнозы линейной модели;\n",
    " * функционал $MSPE$ и его градиент;\n",
    " * регуляризованный $MSPE$ и его градиент."
   ]
  },
  {
   "cell_type": "code",
   "execution_count": 45,
   "metadata": {
    "collapsed": true
   },
   "outputs": [],
   "source": [
    "# возвращает вектор прогнозов линейной модели с вектором весов w для выборки X\n",
    "def make_pred(X, w):\n",
    "    return np.dot(X,w)"
   ]
  },
  {
   "cell_type": "markdown",
   "metadata": {},
   "source": [
    "Сделаем проверку:"
   ]
  },
  {
   "cell_type": "code",
   "execution_count": 46,
   "metadata": {
    "collapsed": false
   },
   "outputs": [
    {
     "data": {
      "text/plain": [
       "array([ 142.22613565,    7.0577932 ,  121.35463729, ...,  -49.89855993,\n",
       "        100.50840353,   30.82180922])"
      ]
     },
     "execution_count": 46,
     "metadata": {},
     "output_type": "execute_result"
    }
   ],
   "source": [
    "w = np.array([i for i in range(X_train.shape[1])])\n",
    "make_pred(X_train, w)"
   ]
  },
  {
   "cell_type": "code",
   "execution_count": 47,
   "metadata": {
    "collapsed": false
   },
   "outputs": [
    {
     "name": "stdout",
     "output_type": "stream",
     "text": [
      "[[1 2]\n",
      " [3 4]]\n",
      "[1 2]\n",
      "[ 5 11]\n"
     ]
    }
   ],
   "source": [
    "X = np.arange(1,5).reshape(2,2)\n",
    "w = np.array([1,2])\n",
    "print(X)\n",
    "print(w)\n",
    "print(make_pred(X,w))"
   ]
  },
  {
   "cell_type": "code",
   "execution_count": 48,
   "metadata": {
    "collapsed": true
   },
   "outputs": [],
   "source": [
    "# возвращает значение функционала MSPE для выборки (X, y) и вектора весов w\n",
    "def get_func(w, X, y):\n",
    "    index = np.array([i for i in range(X.shape[0])])\n",
    "    X = X.set_index(index)\n",
    "    y = np.array(pd.DataFrame(y).set_index(index))\n",
    "    mspe=0\n",
    "    for i in range(len(y)):\n",
    "        mspe+=((y[i]-make_pred(X.iloc[i],w))/y[i])**2\n",
    "    return (mspe/X.shape[0])[0]"
   ]
  },
  {
   "cell_type": "markdown",
   "metadata": {},
   "source": [
    "Сделаем проверку:"
   ]
  },
  {
   "cell_type": "code",
   "execution_count": 49,
   "metadata": {
    "collapsed": false
   },
   "outputs": [
    {
     "data": {
      "text/plain": [
       "1081.3417577341866"
      ]
     },
     "execution_count": 49,
     "metadata": {},
     "output_type": "execute_result"
    }
   ],
   "source": [
    "w = np.array([i for i in range(X_train.shape[1])])\n",
    "get_func(w, X_train, y_train)"
   ]
  },
  {
   "cell_type": "code",
   "execution_count": 50,
   "metadata": {
    "collapsed": true
   },
   "outputs": [],
   "source": [
    "# возвращает градиент функционала MSPE для выборки (X, y) и вектора весов w\n",
    "def get_grad(w, X, y):\n",
    "    index = np.array([i for i in range(X.shape[0])])\n",
    "    X = X.set_index(index)\n",
    "    y = np.array(pd.DataFrame(y).set_index(index))\n",
    "    gradient = []\n",
    "    for i in range(len(w)):\n",
    "        dw_i = 0\n",
    "        for j in range(X.shape[0]):\n",
    "            dw_i+=-2*((y[j]-make_pred(X.iloc[j],w))/y[j])*X.iloc[j][i]/(y[j]*X.shape[0])\n",
    "        gradient.append(dw_i[0])\n",
    "    return np.array(gradient)"
   ]
  },
  {
   "cell_type": "markdown",
   "metadata": {},
   "source": [
    "Сделаем проверку:"
   ]
  },
  {
   "cell_type": "code",
   "execution_count": 51,
   "metadata": {
    "collapsed": false
   },
   "outputs": [
    {
     "data": {
      "text/plain": [
       "array([-32.95187264, -14.90065051,  -1.33304762, -10.02043288,\n",
       "         5.30898971,   6.782362  ,   7.41391437,   7.27470751,\n",
       "        -3.65252341,  -9.80900465,  -0.35174252,  -1.25324545,\n",
       "        16.47871228,   3.84056056,  17.37347706,  10.68983116,\n",
       "        17.71962494,  17.97862859,  18.50041601,  18.31078342,\n",
       "         0.        ,   0.        ,   0.        ,   0.        ,\n",
       "         0.        ,   0.        ,   0.        ,   0.        ,\n",
       "         0.        ,   0.        ,   0.        ,   0.        ,\n",
       "         0.        ,   0.        ,   0.        ,   0.        ,\n",
       "         0.        ,   0.        ,   0.        ,   0.        ,  25.56533421])"
      ]
     },
     "execution_count": 51,
     "metadata": {},
     "output_type": "execute_result"
    }
   ],
   "source": [
    "w = np.array([i for i in range(X_train.iloc[:10].shape[1])])\n",
    "get_grad(w, X_train.iloc[:10], y_train.iloc[:10])"
   ]
  },
  {
   "cell_type": "code",
   "execution_count": 52,
   "metadata": {
    "collapsed": true
   },
   "outputs": [],
   "source": [
    "# возвращает значение регуляризованного функционала MSPE для выборки (X, y) и вектора весов w\n",
    "def get_reg_func(w, X, y):\n",
    "    index = np.array([i for i in range(X.shape[0])])\n",
    "    X = X.set_index(index)\n",
    "    y = np.array(pd.DataFrame(y).set_index(index))\n",
    "    mspe=0\n",
    "    for i in range(len(y)):\n",
    "        mspe+=((y[i]-make_pred(X.iloc[i],w))/y[i])**2\n",
    "    mspe=(mspe/X.shape[0])[0]\n",
    "    mspe+=np.dot(w,w)\n",
    "    return mspe"
   ]
  },
  {
   "cell_type": "markdown",
   "metadata": {
    "collapsed": true
   },
   "source": [
    "Сделаем проверку:"
   ]
  },
  {
   "cell_type": "code",
   "execution_count": 53,
   "metadata": {
    "collapsed": true
   },
   "outputs": [],
   "source": [
    "# возвращает градиент регуляризованного функционала MSPE для выборки (X, y) и вектора весов w\n",
    "def get_reg_grad(w, X, y):\n",
    "    index = np.array([i for i in range(X.shape[0])])\n",
    "    X = X.set_index(index)\n",
    "    y = np.array(pd.DataFrame(y).set_index(index))\n",
    "    gradient = []\n",
    "    for i in range(len(w)):\n",
    "        dw_i = 0\n",
    "        for j in range(X.shape[0]):\n",
    "            dw_i+=-2*((y[j]-make_pred(X.iloc[j],w))/y[j])*X.iloc[j][i]/(y[j]*X.shape[0])\n",
    "        dw_i = dw_i+2*w[i]\n",
    "        gradient.append(dw_i[0])\n",
    "    return np.array(gradient)"
   ]
  },
  {
   "cell_type": "markdown",
   "metadata": {
    "collapsed": true
   },
   "source": [
    "Сделаем проверку:"
   ]
  },
  {
   "cell_type": "code",
   "execution_count": 54,
   "metadata": {
    "collapsed": false
   },
   "outputs": [
    {
     "data": {
      "text/plain": [
       "array([ -32.95187264,  -12.90065051,    2.66695238,   -4.02043288,\n",
       "         13.30898971,   16.782362  ,   19.41391437,   21.27470751,\n",
       "         12.34747659,    8.19099535,   19.64825748,   20.74675455,\n",
       "         40.47871228,   29.84056056,   45.37347706,   40.68983116,\n",
       "         49.71962494,   51.97862859,   54.50041601,   56.31078342,\n",
       "         40.        ,   42.        ,   44.        ,   46.        ,\n",
       "         48.        ,   50.        ,   52.        ,   54.        ,\n",
       "         56.        ,   58.        ,   60.        ,   62.        ,\n",
       "         64.        ,   66.        ,   68.        ,   70.        ,\n",
       "         72.        ,   74.        ,   76.        ,   78.        ,\n",
       "        105.56533421])"
      ]
     },
     "execution_count": 54,
     "metadata": {},
     "output_type": "execute_result"
    }
   ],
   "source": [
    "w = np.array([i for i in range(X_train.iloc[:10].shape[1])])\n",
    "get_reg_grad(w, X_train.iloc[:10], y_train.iloc[:10])"
   ]
  },
  {
   "cell_type": "markdown",
   "metadata": {},
   "source": [
    "**16. (1 балл)** Реализуйте метод градиентного спуска для описанных функционалов ($MSPE$ и его регуляризованный вариант). Функция должна принимать следующие параметры:\n",
    " - X — матрица \"объект-признак\";\n",
    " - y — вектор целевой переменной;\n",
    " - w0 — начальное значение вектора весов;\n",
    " - step_size — значение темпа обучения;\n",
    " - max_iter — максимальное число итераций;\n",
    " - eps — значение, используемое в критерии останова;\n",
    " - is_reg — бинарный параметр, принимает значение True в случае наличия регуляризации функционала, False — в противном случае.\n",
    " \n",
    "Процесс должен быть остановлен, если выполнено хотя бы одно из следующих условий:\n",
    " - было выполнено заданное количество итераций max_iter;\n",
    " - евклидова норма разности векторов $w$ на соседних итерациях стала меньше, чем eps.\n",
    "\n",
    "Функция должна возвращать полученный в результате оптимизации вектор $w$ и список значений функционала на каждой итерации."
   ]
  },
  {
   "cell_type": "code",
   "execution_count": 55,
   "metadata": {
    "collapsed": false
   },
   "outputs": [],
   "source": [
    "def grad_descent(X, y, w_0, step_size, max_iter, eps, is_reg):\n",
    "    w=w_0\n",
    "    values=[]\n",
    "    if is_reg==False:\n",
    "     for i in range(max_iter):\n",
    "           w_old=w\n",
    "           w=w-step_size*get_grad(w, X, y)\n",
    "           values.append(get_func(w, X, y))\n",
    "           if np.sqrt(np.dot(w-w_old, w-w_old))<=eps:\n",
    "                return {'w':w, 'значения функционала':values}\n",
    "     return {'w':w, 'значения функционала':values}\n",
    "    else:\n",
    "     for i in range(max_iter):\n",
    "           w_old=w\n",
    "           w=w-step_size*get_reg_grad(w, X, y)\n",
    "           values.append(get_reg_func(w, X, y))\n",
    "           if np.sqrt(np.dot(w-w_old, w-w_old))<=eps:\n",
    "                return {'w':w, 'значения функционала':values}\n",
    "     return {'w':w, 'значения функционала':values}"
   ]
  },
  {
   "cell_type": "markdown",
   "metadata": {},
   "source": [
    "Обучите линейную регрессию с функционалом $MSPE$ на обучающей выборке при помощи метода градиентного спуска и изобразите кривые зависимости значения функционала от номера итерации для различных:\n",
    " * значений размера шага из набора [0.001, 1, 10];\n",
    " * способов начальной инициализации вектора весов (нули, случайные веса).\n",
    "\n",
    "Проанализируйте полученные результаты — влияют ли данные параметры на скорость сходимости и итоговое качество? Если да, то как?"
   ]
  },
  {
   "cell_type": "markdown",
   "metadata": {},
   "source": [
    "Посмотрим сначала, как ведет себя алгоритм при различных размерах шага на малой выборке (а именно: нас интересует сходимость алгоритма, т.е. динамика евклидовой нормы разности соседних векторов). В целях простоты пока не будем использовать функцию grad_descent."
   ]
  },
  {
   "cell_type": "markdown",
   "metadata": {},
   "source": [
    "step_size=0.001. Нулевой вектор используется в качестве стартового вектора весов."
   ]
  },
  {
   "cell_type": "code",
   "execution_count": 67,
   "metadata": {
    "collapsed": false
   },
   "outputs": [
    {
     "name": "stdout",
     "output_type": "stream",
     "text": [
      "Евклидова норма = 0.000556748519173; значение функционала = 0.999690527835\n",
      "Евклидова норма = 0.000554964175906; значение функционала = 0.999383036036\n",
      "Евклидова норма = 0.000553186026039; значение функционала = 0.999077511406\n",
      "Евклидова норма = 0.000551414046755; значение функционала = 0.99877394084\n",
      "Евклидова норма = 0.000549648215321; значение функционала = 0.998472311321\n",
      "Евклидова норма = 0.000547888509091; значение функционала = 0.998172609925\n",
      "Евклидова норма = 0.000546134905508; значение функционала = 0.997874823813\n",
      "Евклидова норма = 0.000544387382098; значение функционала = 0.997578940239\n",
      "Евклидова норма = 0.000542645916475; значение функционала = 0.997284946542\n",
      "Евклидова норма = 0.000540910486337; значение функционала = 0.996992830149\n",
      "Евклидова норма = 0.000539181069468; значение функционала = 0.996702578574\n",
      "Евклидова норма = 0.000537457643735; значение функционала = 0.996414179416\n",
      "Евклидова норма = 0.000535740187093; значение функционала = 0.996127620361\n",
      "Евклидова норма = 0.000534028677578; значение функционала = 0.995842889179\n",
      "Евклидова норма = 0.000532323093311; значение функционала = 0.995559973723\n",
      "Евклидова норма = 0.000530623412495; значение функционала = 0.995278861932\n",
      "Евклидова норма = 0.000528929613419; значение функционала = 0.994999541826\n",
      "Евклидова норма = 0.000527241674452; значение функционала = 0.99472200151\n",
      "Евклидова норма = 0.000525559574048; значение функционала = 0.994446229167\n",
      "Евклидова норма = 0.00052388329074; значение функционала = 0.994172213064\n",
      "Евклидова норма = 0.000522212803146; значение функционала = 0.993899941549\n",
      "Евклидова норма = 0.000520548089964; значение функционала = 0.993629403048\n",
      "Евклидова норма = 0.000518889129974; значение функционала = 0.993360586069\n",
      "Евклидова норма = 0.000517235902035; значение функционала = 0.993093479197\n",
      "Евклидова норма = 0.000515588385089; значение функционала = 0.992828071096\n",
      "Евклидова норма = 0.000513946558157; значение функционала = 0.992564350508\n",
      "Евклидова норма = 0.000512310400341; значение функционала = 0.992302306254\n",
      "Евклидова норма = 0.00051067989082; значение функционала = 0.992041927228\n",
      "Евклидова норма = 0.000509055008857; значение функционала = 0.991783202404\n",
      "Евклидова норма = 0.000507435733789; значение функционала = 0.991526120829\n",
      "Евклидова норма = 0.000505822045034; значение функционала = 0.991270671627\n",
      "Евклидова норма = 0.000504213922091; значение функционала = 0.991016843996\n",
      "Евклидова норма = 0.000502611344532; значение функционала = 0.990764627208\n",
      "Евклидова норма = 0.00050101429201; значение функционала = 0.990514010608\n",
      "Евклидова норма = 0.000499422744256; значение функционала = 0.990264983616\n",
      "Евклидова норма = 0.000497836681076; значение функционала = 0.990017535721\n",
      "Евклидова норма = 0.000496256082355; значение функционала = 0.989771656488\n",
      "Евклидова норма = 0.000494680928054; значение функционала = 0.989527335552\n",
      "Евклидова норма = 0.000493111198209; значение функционала = 0.989284562617\n",
      "Евклидова норма = 0.000491546872934; значение функционала = 0.989043327461\n",
      "Евклидова норма = 0.000489987932417; значение функционала = 0.988803619929\n",
      "Евклидова норма = 0.000488434356923; значение функционала = 0.988565429938\n",
      "Евклидова норма = 0.000486886126791; значение функционала = 0.988328747473\n",
      "Евклидова норма = 0.000485343222436; значение функционала = 0.988093562586\n",
      "Евклидова норма = 0.000483805624347; значение функционала = 0.987859865399\n",
      "Евклидова норма = 0.000482273313086; значение функционала = 0.987627646102\n",
      "Евклидова норма = 0.000480746269292; значение функционала = 0.98739689495\n",
      "Евклидова норма = 0.000479224473674; значение функционала = 0.987167602267\n",
      "Евклидова норма = 0.000477707907017; значение функционала = 0.98693975844\n",
      "Евклидова норма = 0.000476196550179; значение функционала = 0.986713353926\n"
     ]
    },
    {
     "data": {
      "text/plain": [
       "<matplotlib.text.Text at 0x119337048>"
      ]
     },
     "execution_count": 67,
     "metadata": {},
     "output_type": "execute_result"
    },
    {
     "data": {
      "image/png": "[encoded data removed]",
      "text/plain": [
       "<matplotlib.figure.Figure at 0x10e5b2f98>"
      ]
     },
     "metadata": {},
     "output_type": "display_data"
    }
   ],
   "source": [
    "import matplotlib.pyplot as plt\n",
    "%matplotlib inline\n",
    "w_0 = np.zeros(X_train.iloc[:80].shape[1])\n",
    "w=w_0\n",
    "values=[]\n",
    "norm = []\n",
    "for i in range(50):\n",
    "   w_old=w\n",
    "   w=w-0.001*get_reg_grad(w, X_train.iloc[:80], y.iloc[:80])\n",
    "   get_reg_func(w, X_train.iloc[:80], y.iloc[:80])\n",
    "   values.append(get_reg_func(w, X_train.iloc[:80], y.iloc[:80]))\n",
    "   norm.append(np.sqrt(np.dot(np.transpose(w-w_old), w-w_old)))\n",
    "   print('Евклидова норма = '+str(np.sqrt(np.dot(np.transpose(w-w_old), w-w_old)))+'; значение функционала = '+\n",
    "         str(get_reg_func(w, X_train.iloc[:80], y.iloc[:80])))\n",
    "\n",
    "fig = plt.figure(figsize=(8,10))\n",
    "ax1 = fig.add_subplot(2, 1, 1)\n",
    "ax1.plot([i for i in range(1,51)], values, 'b-')\n",
    "ax1.set_ylabel('Functional', color='blue')\n",
    "ax1.set_xlabel('Number of iterations')\n",
    "\n",
    "ax2 = fig.add_subplot(2, 1, 2)\n",
    "ax2.plot([i for i in range(1,51)], norm, 'r-')\n",
    "ax2.set_ylabel('Euclid norm', color='red')\n",
    "ax2.set_xlabel('Number of iterations')"
   ]
  },
  {
   "cell_type": "markdown",
   "metadata": {
    "collapsed": false
   },
   "source": [
    "Видно, что для step_size=0.001 алгоритм постпенно сходится (но медленно;мы еще раз проверим сходимость уже на полной обучающей выборке с помощью функции grad_descent). Исходя из полученного результата в дальнейшем будем использовать eps = 0.00048"
   ]
  },
  {
   "cell_type": "markdown",
   "metadata": {},
   "source": [
    "Проделаем те же самые операции для step_size=1"
   ]
  },
  {
   "cell_type": "code",
   "execution_count": 68,
   "metadata": {
    "collapsed": false
   },
   "outputs": [
    {
     "name": "stdout",
     "output_type": "stream",
     "text": [
      "Евклидова норма = 0.556748519173; значение функционала = 1.18677946179\n",
      "Евклидова норма = 1.28039601168; значение функционала = 2.46087230404\n",
      "Евклидова норма = 3.34390489896; значение функционала = 12.2586691191\n",
      "Евклидова норма = 9.29944513938; значение функционала = 92.2465262311\n",
      "Евклидова норма = 26.632728823; значение функционала = 765.397621674\n",
      "Евклидова норма = 77.3757125964; значение функционала = 6522.10259227\n",
      "Евклидова норма = 226.474268354; значение функционала = 56185.9020303\n",
      "Евклидова норма = 665.540612072; значение функционала = 486736.404544\n",
      "Евклидова норма = 1960.17511813; значение функционала = 4229581.11174\n",
      "Евклидова норма = 5780.39281226; значение функционала = 36817524.3617\n",
      "Евклидова норма = 17057.963487; значение функционала = 320804476.966\n",
      "Евклидова норма = 50358.4279613; значение функционала = 2796862426.21\n",
      "Евклидова норма = 148702.174614; значение функционала = 24391699381.1\n",
      "Евклидова норма = 439157.096851; значение функционала = 212761741096.0\n",
      "Евклидова норма = 1297046.29454; значение функционала = 1.85605698749e+12\n",
      "Евклидова норма = 3830981.20762; значение функционала = 1.61925677732e+13\n",
      "Евклидова норма = 11315545.3534; значение функционала = 1.41271804058e+14\n",
      "Евклидова норма = 33423140.33; значение функционала = 1.23254875827e+15\n",
      "Евклидова норма = 98723977.5617; значение функционала = 1.07536978597e+16\n",
      "Евклидова норма = 291608467.629; значение функционала = 9.38241194679e+16\n",
      "Евклидова норма = 861348348.056; значение функционала = 8.18602118941e+17\n",
      "Евклидова норма = 2544240825.15; значение функционала = 7.14220338497e+18\n",
      "Евклидова норма = 7515156201.11; значение функционала = 6.2314932477e+19\n",
      "Евклидова норма = 22198214262.5; значение функционала = 5.43691285058e+20\n",
      "Евклидова норма = 65568945697.0; значение функционала = 4.74365180849e+21\n",
      "Евклидова норма = 193677174076.0; значение функционала = 4.13878955898e+22\n",
      "Евклидова норма = 572082580106.0; значение функционала = 3.61105371845e+23\n",
      "Евклидова норма = 1.68981450465e+12; значение функционала = 3.15060958429e+24\n",
      "Евклидова норма = 4.99136533388e+12; значение функционала = 2.74887664595e+25\n",
      "Евклидова норма = 1.47434693711e+13; значение функционала = 2.39836857731e+26\n",
      "Евклидова норма = 4.3549184853e+13; значение функционала = 2.09255367432e+27\n",
      "Евклидова норма = 1.28635361612e+14; значение функционала = 1.82573310969e+28\n",
      "Евклидова норма = 3.79962480959e+14; значение функционала = 1.59293472217e+29\n",
      "Евклидова норма = 1.12233125828e+15; значение функционала = 1.38982035411e+30\n",
      "Евклидова норма = 3.31513640963e+15; значение функционала = 1.21260500716e+31\n",
      "Евклидова норма = 9.79223321237e+15; значение функционала = 1.05798630778e+32\n",
      "Евклидова норма = 2.89242491042e+16; значение функционала = 9.23082967259e+32\n",
      "Евклидова норма = 8.543630123e+16; значение функционала = 8.05381089032e+33\n",
      "Евклидова норма = 2.52361316023e+17; значение функционала = 7.02687322491e+34\n",
      "Евклидова норма = 7.45423583574e+17; значение функционала = 6.13087990234e+35\n",
      "Евклидова норма = 2.20182842494e+18; значение функционала = 5.34913427016e+36\n",
      "Евклидова норма = 6.50374970665e+18; значение функционала = 4.66706865851e+37\n",
      "Евклидова норма = 1.92107431117e+19; значение функционала = 4.07197291443e+38\n",
      "Евклидова норма = 5.67445962024e+19; значение функционала = 3.55275755068e+39\n",
      "Евклидова норма = 1.67611902334e+20; значение функционала = 3.09974709539e+40\n",
      "Евклидова норма = 4.95091192541e+20; значение функционала = 2.7044997916e+41\n",
      "Евклидова норма = 1.46239786983e+21; значение функционала = 2.35965028685e+42\n",
      "Евклидова норма = 4.3196234591e+21; значение функционала = 2.05877238132e+43\n",
      "Евклидова норма = 1.27592820075e+22; значение функционала = 1.79625927693e+44\n",
      "Евклидова норма = 3.76883029017e+22; значение функционала = 1.56721909584e+45\n"
     ]
    },
    {
     "data": {
      "text/plain": [
       "<matplotlib.text.Text at 0x1177d2ac8>"
      ]
     },
     "execution_count": 68,
     "metadata": {},
     "output_type": "execute_result"
    },
    {
     "data": {
      "image/png": "[encoded data removed]",
      "text/plain": [
       "<matplotlib.figure.Figure at 0x119c057f0>"
      ]
     },
     "metadata": {},
     "output_type": "display_data"
    }
   ],
   "source": [
    "w_0 = np.zeros(X_train.iloc[:80].shape[1])\n",
    "w=w_0\n",
    "values=[]\n",
    "norm = []\n",
    "for i in range(50):\n",
    "   w_old=w\n",
    "   w=w-1*get_reg_grad(w, X_train.iloc[:80], y.iloc[:80])\n",
    "   get_reg_func(w, X_train.iloc[:80], y.iloc[:80])\n",
    "   values.append(get_reg_func(w, X_train.iloc[:80], y.iloc[:80]))\n",
    "   norm.append(np.sqrt(np.dot(np.transpose(w-w_old), w-w_old)))\n",
    "   print('Евклидова норма = '+str(np.sqrt(np.dot(np.transpose(w-w_old), w-w_old)))+'; значение функционала = '+\n",
    "         str(get_reg_func(w, X_train.iloc[:80], y.iloc[:80])))\n",
    "\n",
    "fig = plt.figure(figsize=(8,10))\n",
    "ax1 = fig.add_subplot(2, 1, 1)\n",
    "ax1.plot([i for i in range(1,51)], values, 'b-')\n",
    "ax1.set_ylabel('Functional', color='blue')\n",
    "ax1.set_xlabel('Number of iterations')\n",
    "\n",
    "ax2 = fig.add_subplot(2, 1, 2)\n",
    "ax2.plot([i for i in range(1,51)], norm, 'r-')\n",
    "ax2.set_ylabel('Euclid norm', color='red')\n",
    "ax2.set_xlabel('Number of iterations')"
   ]
  },
  {
   "cell_type": "markdown",
   "metadata": {
    "collapsed": false
   },
   "source": [
    "Очевидно, что сходимости в данном случае не наблюдается, скорее всего, проблема в самом шаге, а не в изначальном векторе весов (мы проверим это позже)."
   ]
  },
  {
   "cell_type": "markdown",
   "metadata": {},
   "source": [
    "Проделаем те же самые операции для step_size=10"
   ]
  },
  {
   "cell_type": "code",
   "execution_count": 69,
   "metadata": {
    "collapsed": false
   },
   "outputs": [
    {
     "name": "stdout",
     "output_type": "stream",
     "text": [
      "Евклидова норма = 5.56748519173; значение функционала = 47.5751484027\n",
      "Евклидова норма = 176.658961665; значение функционала = 50991.9420603\n",
      "Евклидова норма = 6034.99363746; значение функционала = 62925521.9225\n",
      "Евклидова норма = 216404.86208; значение функционала = 83685492765.4\n",
      "Евклидова норма = 7987960.63219; значение функционала = 1.1628056418e+14\n",
      "Евклидова норма = 299865337.821; значение функционала = 1.65758780785e+17\n",
      "Евклидова норма = 11369088228.4; значение функционала = 2.39919976628e+20\n",
      "Евклидова норма = 433634565707.0; значение функционала = 3.5051190491e+23\n",
      "Евклидова норма = 1.66007960407e+13; значение функционала = 5.15073200081e+26\n",
      "Евклидова норма = 6.37011889561e+14; значение функционала = 7.597039863e+29\n",
      "Евклидова норма = 2.44802112257e+16; значение функционала = 1.12319813506e+33\n",
      "Евклидова норма = 9.41678633374e+17; значение функционала = 1.66318972305e+36\n",
      "Евклидова норма = 3.62463254891e+19; значение функционала = 2.4652867267e+39\n",
      "Евклидова норма = 1.39574018296e+21; значение функционала = 3.65663903584e+42\n",
      "Евклидова норма = 5.37604748931e+22; значение функционала = 5.4260909689e+45\n",
      "Евклидова норма = 2.07109184376e+24; значение функционала = 8.05411222564e+48\n",
      "Евклидова норма = 7.97970773056e+25; значение функционала = 1.19572511229e+52\n",
      "Евклидова норма = 3.0747414221e+27; значение функционала = 1.77541557127e+55\n",
      "Евклидова норма = 1.18482095974e+29; значение функционала = 2.63636268149e+58\n",
      "Евклидова норма = 4.56574644093e+30; значение функционала = 3.91502439226e+61\n",
      "Евклидова норма = 1.75946551521e+32; значение функционала = 5.8140645032e+64\n",
      "Евклидова норма = 6.78041552673e+33; значение функционала = 8.63447397826e+67\n",
      "Евклидова норма = 2.61298088314e+35; значение функционала = 1.28232766759e+71\n",
      "Евклидова норма = 1.00697586447e+37; значение функционала = 1.90443806406e+74\n",
      "Евклидова норма = 3.88064417285e+38; значение функционала = 2.828380457e+77\n",
      "Евклидова норма = 1.49551188872e+40; значение функционала = 4.20059573823e+80\n",
      "Евклидова норма = 5.76337358945e+41; значение функционала = 6.23857404993e+83\n",
      "Евклидова норма = 2.22108021404e+43; значение функционала = 9.26532600215e+86\n",
      "Евклидова норма = 8.55957286681e+44; значение функционала = 1.37605784136e+90\n",
      "Евклидова норма = 3.29868006271e+46; значение функционала = 2.04368088724e+93\n",
      "Евклидова норма = 1.27124268127e+48; значение функционала = 3.03521702554e+96\n",
      "Евклидова норма = 4.89910612671e+49; значение функционала = 4.50782032385e+99\n",
      "Евклидова норма = 1.88801440565e+51; значение функционала = 6.69489184831e+102\n",
      "Евклидова норма = 7.27601874801e+52; значение функционала = 9.9430726913e+105\n",
      "Евклидова норма = 2.80402801404e+54; значение функционала = 1.47671850382e+109\n",
      "Евклидова норма = 1.08061479411e+56; значение функционала = 2.19318291868e+112\n",
      "Евклидова норма = 4.16446756866e+57; значение функционала = 3.2572569284e+115\n",
      "Евклидова норма = 1.60490034137e+59; значение функционала = 4.83759151763e+118\n",
      "Евклидова норма = 6.18495666433e+60; значение функционала = 7.1846626697e+121\n",
      "Евклидова норма = 2.38355543547e+62; значение функционала = 1.06704706926e+125\n",
      "Евклидова норма = 9.18573380535e+63; значение функционала = 1.5847500608e+128\n",
      "Евклидова норма = 3.53999343417e+65; значение функционала = 2.35362885626e+131\n",
      "Евклидова норма = 1.36424087791e+67; значение функционала = 3.49554731469e+134\n",
      "Евклидова норма = 5.25750460052e+68; значение функционала = 5.19149441749e+137\n",
      "Евклидова норма = 2.0261344685e+70; значение функционала = 7.7102702145e+140\n",
      "Евклидова норма = 7.80830679176e+71; значение функционала = 1.14510894328e+144\n",
      "Евклидова норма = 3.00916133345e+73; значение функционала = 1.70068552299e+147\n",
      "Евклидова норма = 1.15966907752e+75; значение функционала = 2.5258131699e+150\n",
      "Евклидова норма = 4.46912684526e+76; значение функционала = 3.75127093496e+153\n",
      "Евклидова норма = 1.72230985111e+78; значение функционала = 5.57128840689e+156\n"
     ]
    },
    {
     "data": {
      "text/plain": [
       "<matplotlib.text.Text at 0x1193c3cf8>"
      ]
     },
     "execution_count": 69,
     "metadata": {},
     "output_type": "execute_result"
    },
    {
     "data": {
      "image/png": "[encoded data removed]",
      "text/plain": [
       "<matplotlib.figure.Figure at 0x119c2e7f0>"
      ]
     },
     "metadata": {},
     "output_type": "display_data"
    }
   ],
   "source": [
    "w_0 = np.zeros(X_train.iloc[:80].shape[1])\n",
    "w=w_0\n",
    "values=[]\n",
    "norm = []\n",
    "for i in range(50):\n",
    "   w_old=w\n",
    "   w=w-10*get_reg_grad(w, X_train.iloc[:80], y.iloc[:80])\n",
    "   get_reg_func(w, X_train.iloc[:80], y.iloc[:80])\n",
    "   values.append(get_reg_func(w, X_train.iloc[:80], y.iloc[:80]))\n",
    "   norm.append(np.sqrt(np.dot(np.transpose(w-w_old), w-w_old)))\n",
    "   print('Евклидова норма = '+str(np.sqrt(np.dot(np.transpose(w-w_old), w-w_old)))+'; значение функционала = '+\n",
    "         str(get_reg_func(w, X_train.iloc[:80], y.iloc[:80])))\n",
    "\n",
    "fig = plt.figure(figsize=(8,10))\n",
    "ax1 = fig.add_subplot(2, 1, 1)\n",
    "ax1.plot([i for i in range(1,51)], values, 'b-')\n",
    "ax1.set_ylabel('Functional', color='blue')\n",
    "ax1.set_xlabel('Number of iterations')\n",
    "\n",
    "ax2 = fig.add_subplot(2, 1, 2)\n",
    "ax2.plot([i for i in range(1,51)], norm, 'r-')\n",
    "ax2.set_ylabel('Euclid norm', color='red')\n",
    "ax2.set_xlabel('Number of iterations')"
   ]
  },
  {
   "cell_type": "markdown",
   "metadata": {},
   "source": [
    "Аналогичная проблема: алгоритм расходится."
   ]
  },
  {
   "cell_type": "markdown",
   "metadata": {},
   "source": [
    "Перейдем теперь к обучению алгоритмов на более большой выборке. К сожалению, опытным путем было установлено, что вычислительные мощности моего компьюьтера не справляются со всей выборкой, поэтому пришлось урезать ее до 1000. При этом, для удобства установим верхнюю границу в размере 50000 на евклидову норму разности между соседними векторами, чтобы сэкономить время:) (при таком значений нормы алгоритм с очень большой вероятностью разойдется) если евклидова норма превысит этот предел, алгоритм будет выдавать соответствующее сообщение. Модицифицируем с учетом этого функцию grad_descent, также сделаем так, чтобы функцию выдавала график функционала в зависимости от итерации."
   ]
  },
  {
   "cell_type": "code",
   "execution_count": 118,
   "metadata": {
    "collapsed": false
   },
   "outputs": [],
   "source": [
    "def grad_descent(X, y, w_0, step_size, max_iter, eps, is_reg):\n",
    "    w=w_0\n",
    "    values=[]\n",
    "    if is_reg==False:\n",
    "     for i in range(max_iter):\n",
    "           w_old=w\n",
    "           w=w-step_size*get_grad(w, X, y)\n",
    "           values.append(get_func(w, X, y))\n",
    "           if np.sqrt(np.dot(w-w_old, w-w_old))>=50000:\n",
    "                return 'Алгоритм не сошелся'\n",
    "           elif np.sqrt(np.dot(w-w_old, w-w_old))<=eps:\n",
    "                fig = plt.figure(figsize=(8,10))\n",
    "                ax1 = fig.add_subplot(2, 1, 1)\n",
    "                ax1.plot([j for j in range(1,i+2)], values, 'b-')\n",
    "                ax1.set_ylabel('Functional', color='blue')\n",
    "                ax1.set_xlabel('Number of iterations')\n",
    "                return {'w':w, 'значения функционала':values}\n",
    "                \n",
    "     fig = plt.figure(figsize=(8,10))\n",
    "     ax1 = fig.add_subplot(2, 1, 1)\n",
    "     ax1.plot([j for j in range(1,max_iter+1)], values, 'b-')\n",
    "     ax1.set_ylabel('Functional', color='blue')\n",
    "     ax1.set_xlabel('Number of iterations')    \n",
    "     return {'w':w, 'значения функционала':values}\n",
    "     \n",
    "    else:\n",
    "     for i in range(max_iter):\n",
    "           w_old=w\n",
    "           w=w-step_size*get_reg_grad(w, X, y)\n",
    "           values.append(get_reg_func(w, X, y))\n",
    "           if np.sqrt(np.dot(w-w_old, w-w_old))>=50000:\n",
    "                return 'Алгоритм не сошелся'\n",
    "           elif np.sqrt(np.dot(w-w_old, w-w_old))<=eps:\n",
    "                fig = plt.figure(figsize=(8,10))\n",
    "                ax1 = fig.add_subplot(2, 1, 1)\n",
    "                ax1.plot([j for j in range(1,i+2)], values, 'b-')\n",
    "                ax1.set_ylabel('Functional', color='blue')\n",
    "                ax1.set_xlabel('Number of iterations')\n",
    "                return {'w':w, 'значения функционала':values}\n",
    "     \n",
    "     fig = plt.figure(figsize=(8,10))\n",
    "     ax1 = fig.add_subplot(2, 1, 1)\n",
    "     ax1.plot([j for j in range(1,max_iter+1)], values, 'b-')\n",
    "     ax1.set_ylabel('Functional', color='blue')\n",
    "     ax1.set_xlabel('Number of iterations')\n",
    "     return {'w':w, 'значения функционала':values}"
   ]
  },
  {
   "cell_type": "markdown",
   "metadata": {},
   "source": [
    "Перейдем теперь к обучению алгоритма на X_train[:1000] и y_train[:1000]. Максимальное количестов итераций=50, eps = 0.00048, верхняя граница на норму = 50000"
   ]
  },
  {
   "cell_type": "markdown",
   "metadata": {},
   "source": [
    "step_size=0.001, стартовый вектор весов - нулевой"
   ]
  },
  {
   "cell_type": "code",
   "execution_count": 78,
   "metadata": {
    "collapsed": false
   },
   "outputs": [
    {
     "data": {
      "text/plain": [
       "{'w': array([ -4.78954257e-04,  -9.99296040e-04,   1.84457463e-03,\n",
       "         -7.71077223e-04,   1.65636212e-03,   1.79619653e-03,\n",
       "          1.52285288e-03,   1.58447089e-03,   2.56338028e-04,\n",
       "          1.41180589e-03,   1.41387673e-04,   3.57070639e-03,\n",
       "          1.95673869e-03,  -3.10784315e-03,   1.25313466e-03,\n",
       "          6.69521891e-04,   1.10992090e-03,   1.32410020e-03,\n",
       "          1.06740358e-03,   3.95811805e-04,   0.00000000e+00,\n",
       "          0.00000000e+00,  -4.96783674e-05,  -1.19189553e-04,\n",
       "          0.00000000e+00,  -2.61016522e-04,   0.00000000e+00,\n",
       "         -1.14982422e-04,  -6.16128412e-05,   0.00000000e+00,\n",
       "          0.00000000e+00,   0.00000000e+00,   0.00000000e+00,\n",
       "          4.34895955e-06,  -2.49421922e-05,  -4.96691340e-05,\n",
       "          0.00000000e+00,   0.00000000e+00,   0.00000000e+00,\n",
       "          0.00000000e+00,  -1.02763326e-02]),\n",
       " 'значения функционала': [0.99993597494018338,\n",
       "  0.99987201239195167,\n",
       "  0.99980811226286814,\n",
       "  0.99974427446068448,\n",
       "  0.99968049889332244,\n",
       "  0.99961678546889698,\n",
       "  0.99955313409569735,\n",
       "  0.99948954468219797,\n",
       "  0.9994260171370517,\n",
       "  0.99936255136908603,\n",
       "  0.99929914728731661,\n",
       "  0.99923580480093133,\n",
       "  0.99917252381930222,\n",
       "  0.99910930425197308,\n",
       "  0.99904614600867281,\n",
       "  0.99898304899930068,\n",
       "  0.99892001313393919,\n",
       "  0.99885703832284278,\n",
       "  0.99879412447644378,\n",
       "  0.99873127150535002,\n",
       "  0.99866847932034597,\n",
       "  0.99860574783238687,\n",
       "  0.99854307695261035,\n",
       "  0.9984804665923217,\n",
       "  0.99841791666300106,\n",
       "  0.99835542707630209,\n",
       "  0.99829299774405633,\n",
       "  0.99823062857825828,\n",
       "  0.99816831949108231,\n",
       "  0.99810607039487498,\n",
       "  0.99804388120214915,\n",
       "  0.99798175182559246,\n",
       "  0.99791968217806004,\n",
       "  0.99785767217258081,\n",
       "  0.99779572172235331,\n",
       "  0.99773383074074229,\n",
       "  0.99767199914128557,\n",
       "  0.99761022683768563,\n",
       "  0.99754851374381803,\n",
       "  0.99748685977372298,\n",
       "  0.99742526484160643,\n",
       "  0.9973637288618481,\n",
       "  0.99730225174898968,\n",
       "  0.9972408334177385,\n",
       "  0.99717947378297023,\n",
       "  0.99711817275972814,\n",
       "  0.99705693026321396,\n",
       "  0.99699574620880405,\n",
       "  0.99693462051203308,\n",
       "  0.99687355308859638]}"
      ]
     },
     "execution_count": 78,
     "metadata": {},
     "output_type": "execute_result"
    },
    {
     "data": {
      "image/png": "[encoded data removed]",
      "text/plain": [
       "<matplotlib.figure.Figure at 0x11aad67b8>"
      ]
     },
     "metadata": {},
     "output_type": "display_data"
    }
   ],
   "source": [
    "grad_descent(X_train.iloc[:1000], y_train.iloc[:1000], np.zeros((X_train.iloc[:1000].shape[1])), 0.001, 50, 0.0000048, False)"
   ]
  },
  {
   "cell_type": "markdown",
   "metadata": {},
   "source": [
    "Конечно, алгоритм сошелся не полностью, но проблема здесь, видимо, в слишком малом шаге"
   ]
  },
  {
   "cell_type": "markdown",
   "metadata": {},
   "source": [
    "Теперь попробуем сделать то же самое со случайными весами, при этом, немного увеличим eps для экономии ресурсов:)"
   ]
  },
  {
   "cell_type": "code",
   "execution_count": 80,
   "metadata": {
    "collapsed": false
   },
   "outputs": [
    {
     "data": {
      "text/plain": [
       "{'w': array([-0.02192239, -0.00692579, -0.00034607,  0.01116688, -0.0028733 ,\n",
       "        -0.00910052, -0.00778374,  0.01226179, -0.00769234, -0.0035813 ,\n",
       "         0.01513991, -0.00532915,  0.001997  , -0.01936925,  0.00225708,\n",
       "        -0.00416885, -0.00360747,  0.00856428,  0.00850695,  0.00198152,\n",
       "        -0.0170494 ,  0.02055824,  0.01207889,  0.01056148,  0.0005143 ,\n",
       "        -0.00828938,  0.00053035, -0.02333785,  0.00571159,  0.00373591,\n",
       "         0.00860108, -0.00078241, -0.00812659,  0.01859567, -0.00781815,\n",
       "        -0.00335143,  0.00170428,  0.01701713, -0.00145426,  0.02384818,\n",
       "        -0.00049972]),\n",
       " 'значения функционала': [1.0022323324307474,\n",
       "  1.0021655164041785,\n",
       "  1.0020987687844372,\n",
       "  1.0020320894639601,\n",
       "  1.0019654783354035,\n",
       "  1.0018989352916565,\n",
       "  1.001832460225814,\n",
       "  1.0017660530312111,\n",
       "  1.0016997136013861,\n",
       "  1.0016334418301041,\n",
       "  1.0015672376113582,\n",
       "  1.0015011008393495,\n",
       "  1.0014350314085068,\n",
       "  1.001369029213468,\n",
       "  1.0013030941490972,\n",
       "  1.0012372261104721,\n",
       "  1.0011714249928885,\n",
       "  1.0011056906918507,\n",
       "  1.0010400231030958,\n",
       "  1.0009744221225583,\n",
       "  1.0009088876463983,\n",
       "  1.0008434195709872,\n",
       "  1.0007780177929071,\n",
       "  1.0007126822089587,\n",
       "  1.0006474127161493,\n",
       "  1.0005822092117092,\n",
       "  1.0005170715930656,\n",
       "  1.0004519997578678,\n",
       "  1.0003869936039711,\n",
       "  1.000322053029443,\n",
       "  1.0002571779325597,\n",
       "  1.0001923682118081,\n",
       "  1.0001276237658823,\n",
       "  1.0000629444936855,\n",
       "  0.99999833029432694,\n",
       "  0.99993378106712771,\n",
       "  0.99986929671160918,\n",
       "  0.99980487712750254,\n",
       "  0.99974052221474463,\n",
       "  0.99967623187348109,\n",
       "  0.9996120060040562,\n",
       "  0.99954784450702161,\n",
       "  0.9994837472831325,\n",
       "  0.99941971423334741,\n",
       "  0.99935574525882864,\n",
       "  0.99929184026094087,\n",
       "  0.99922799914124782,\n",
       "  0.99916422180151865,\n",
       "  0.99910050814372187,\n",
       "  0.99903685807002629]}"
      ]
     },
     "execution_count": 80,
     "metadata": {},
     "output_type": "execute_result"
    },
    {
     "data": {
      "image/png": "[encoded data removed]",
      "text/plain": [
       "<matplotlib.figure.Figure at 0x117baac18>"
      ]
     },
     "metadata": {},
     "output_type": "display_data"
    }
   ],
   "source": [
    "array = numpy.random.uniform(-1/X_train.iloc[:1000].shape[1], 1/X_train.iloc[:1000].shape[1], size=X_train.iloc[:1000].shape[1])\n",
    "grad_descent(X_train.iloc[:1000], y_train.iloc[:1000], array, 0.001, 50, 0.000058, False)"
   ]
  },
  {
   "cell_type": "markdown",
   "metadata": {},
   "source": [
    "Коэффициенты получились больше (по модулю), чем в предыдущем случае, при этом, сходимость очень медленная"
   ]
  },
  {
   "cell_type": "markdown",
   "metadata": {},
   "source": [
    "Обучение алгоритма со step_size=1 с нулевыми весами:"
   ]
  },
  {
   "cell_type": "code",
   "execution_count": 81,
   "metadata": {
    "collapsed": false
   },
   "outputs": [
    {
     "data": {
      "text/plain": [
       "{'w': array([-0.00450147, -0.03550848,  0.19791798, -0.09844568,  0.08820075,\n",
       "        -0.03371557,  0.10638596, -0.04022536, -0.22449892,  0.00335705,\n",
       "         0.01013245,  0.11946238,  0.14686305, -0.21369419, -0.15054741,\n",
       "         0.19382454,  0.14656283,  0.02988694, -0.10827382, -0.03551569,\n",
       "         0.        ,  0.        , -0.03096746, -0.03034159,  0.        ,\n",
       "        -0.13945663,  0.        , -0.07069807, -0.04753606,  0.        ,\n",
       "         0.        ,  0.        ,  0.        ,  0.00450562, -0.02040012,\n",
       "        -0.0238932 ,  0.        ,  0.        ,  0.        ,  0.        ,\n",
       "        -0.73644603]),\n",
       " 'значения функционала': [0.95159876557789336,\n",
       "  0.93088944057973033,\n",
       "  0.92014468732741694,\n",
       "  0.91414529857165994,\n",
       "  0.91058420618787728,\n",
       "  0.90835971986018482,\n",
       "  0.90691055023025247,\n",
       "  0.90593326388936113,\n",
       "  0.90525472592883216,\n",
       "  0.90477132698412721,\n",
       "  0.90441851579802079,\n",
       "  0.90415474112286043,\n",
       "  0.90395256291083981,\n",
       "  0.90379349863555658,\n",
       "  0.90366490838839153,\n",
       "  0.9035580445047352,\n",
       "  0.90346679480893355,\n",
       "  0.90338685433489085,\n",
       "  0.90331516983830318,\n",
       "  0.90324956220341168,\n",
       "  0.90318846704535427,\n",
       "  0.90313075498290307,\n",
       "  0.90307560621890892,\n",
       "  0.90302242247152231,\n",
       "  0.90297076478289073,\n",
       "  0.90292030936925749,\n",
       "  0.90287081611968378,\n",
       "  0.90282210600849655,\n",
       "  0.90277404482029477,\n",
       "  0.90272653136680736,\n",
       "  0.9026794889151204,\n",
       "  0.90263285892256628,\n",
       "  0.90258659643621031,\n",
       "  0.90254066669920663,\n",
       "  0.90249504263622682,\n",
       "  0.90244970298214622,\n",
       "  0.9024046308835969,\n",
       "  0.90235981284968825,\n",
       "  0.9023152379616598,\n",
       "  0.90227089727540133,\n",
       "  0.90222678336819528,\n",
       "  0.90218288999373075,\n",
       "  0.90213921181874879,\n",
       "  0.90209574422136296,\n",
       "  0.90205248313623665,\n",
       "  0.90200942493540415,\n",
       "  0.90196656633632499,\n",
       "  0.90192390433074088,\n",
       "  0.90188143612957805,\n",
       "  0.90183915912011614]}"
      ]
     },
     "execution_count": 81,
     "metadata": {},
     "output_type": "execute_result"
    },
    {
     "data": {
      "image/png": "[encoded data removed]",
      "text/plain": [
       "<matplotlib.figure.Figure at 0x117bbdd68>"
      ]
     },
     "metadata": {},
     "output_type": "display_data"
    }
   ],
   "source": [
    "grad_descent(X_train.iloc[:1000], y_train.iloc[:1000], np.zeros((X_train.iloc[:1000].shape[1])), 1, 50, 0.000058, False)"
   ]
  },
  {
   "cell_type": "markdown",
   "metadata": {},
   "source": [
    "График позволяет утверждать, что при step_size=1 алгоритм сошелся! Кроме того, веса получились более менее значимыми по модулю. "
   ]
  },
  {
   "cell_type": "markdown",
   "metadata": {},
   "source": [
    "С учетом того, что алгоритм сошелся, а также в целях экономии времени перейдем сразу к step_size=10. В этот раз зададим случайные веса."
   ]
  },
  {
   "cell_type": "code",
   "execution_count": 82,
   "metadata": {
    "collapsed": false
   },
   "outputs": [
    {
     "data": {
      "text/plain": [
       "'Алгоритм не сошелся'"
      ]
     },
     "execution_count": 82,
     "metadata": {},
     "output_type": "execute_result"
    }
   ],
   "source": [
    "array = numpy.random.uniform(-1/X_train.iloc[:1000].shape[1], 1/X_train.iloc[:1000].shape[1], size=X_train.iloc[:1000].shape[1])\n",
    "grad_descent(X_train.iloc[:1000], y_train.iloc[:1000], array, 10, 50, 0.000058, False)"
   ]
  },
  {
   "cell_type": "markdown",
   "metadata": {},
   "source": [
    "В таком случае попробуем нулевые веса, хотя это вряд ли что-то изменит, тк, по-видимому, step_size слишком большой."
   ]
  },
  {
   "cell_type": "code",
   "execution_count": 83,
   "metadata": {
    "collapsed": false
   },
   "outputs": [
    {
     "data": {
      "text/plain": [
       "'Алгоритм не сошелся'"
      ]
     },
     "execution_count": 83,
     "metadata": {},
     "output_type": "execute_result"
    }
   ],
   "source": [
    "grad_descent(X_train.iloc[:1000], y_train.iloc[:1000], np.zeros((X_train.iloc[:1000].shape[1])), 10, 50, 0.000058, False)"
   ]
  },
  {
   "cell_type": "markdown",
   "metadata": {},
   "source": [
    "Итог: step_size=10 - слишком большой темп обучения."
   ]
  },
  {
   "cell_type": "markdown",
   "metadata": {},
   "source": [
    "**17. (0.5 балла)** Обучите линейную регрессию с функционалом MSPE и его регуляризованным вариантом на обучающей выборке при помощи метода градиентного спуска и изобразите кривые зависимости значения функционала от номера итерации. Исследуйте зависимость скорости сходимости от наличия регуляризации. Обоснуйте, почему так происходит."
   ]
  },
  {
   "cell_type": "markdown",
   "metadata": {
    "collapsed": true
   },
   "source": [
    "С учетом полученных результатов будем использовать stepsize=1."
   ]
  },
  {
   "cell_type": "code",
   "execution_count": 93,
   "metadata": {
    "collapsed": false
   },
   "outputs": [
    {
     "data": {
      "text/plain": [
       "'Алгоритм не сошелся'"
      ]
     },
     "execution_count": 93,
     "metadata": {},
     "output_type": "execute_result"
    }
   ],
   "source": [
    "grad_descent(X_train.iloc[:1000], y_train.iloc[:1000], np.zeros((X_train.iloc[:1000].shape[1])), 1, 50, 0.000058, True)"
   ]
  },
  {
   "cell_type": "markdown",
   "metadata": {},
   "source": [
    "Функционал ошибки при одинаковых w при регуляризации больше, чем в обычном случае. Возможно, поэтому алгоритм не сошелся. Попробуем step_size=0.001"
   ]
  },
  {
   "cell_type": "code",
   "execution_count": 119,
   "metadata": {
    "collapsed": false
   },
   "outputs": [
    {
     "data": {
      "text/plain": [
       "{'w': array([ -4.56243387e-04,  -9.52109785e-04,   1.75714933e-03,\n",
       "         -7.34688367e-04,   1.57845374e-03,   1.71174952e-03,\n",
       "          1.45125758e-03,   1.51004640e-03,   2.44483366e-04,\n",
       "          1.34508017e-03,   1.34691857e-04,   3.40229640e-03,\n",
       "          1.86446405e-03,  -2.96084245e-03,   1.19423006e-03,\n",
       "          6.37544475e-04,   1.05782588e-03,   1.26158340e-03,\n",
       "          1.01735191e-03,   3.77247297e-04,   0.00000000e+00,\n",
       "          0.00000000e+00,   0.00000000e+00,   0.00000000e+00,\n",
       "         -7.38363153e-05,   0.00000000e+00,   0.00000000e+00,\n",
       "          0.00000000e+00,   0.00000000e+00,   0.00000000e+00,\n",
       "          0.00000000e+00,   0.00000000e+00,   0.00000000e+00,\n",
       "          6.56951576e-07,   0.00000000e+00,   2.20770359e-06,\n",
       "          0.00000000e+00,   0.00000000e+00,  -6.57916546e-05,\n",
       "          9.92284036e-07,  -9.78966759e-03]),\n",
       " 'значения функционала': [0.99993607693272557,\n",
       "  0.99987247159848269,\n",
       "  0.99980918238673477,\n",
       "  0.99974620769528699,\n",
       "  0.99968354593024877,\n",
       "  0.99962119550599149,\n",
       "  0.99955915484509295,\n",
       "  0.99949742237830963,\n",
       "  0.99943599654451443,\n",
       "  0.99937487579067619,\n",
       "  0.99931405857179467,\n",
       "  0.99925354335087702,\n",
       "  0.999193328598877,\n",
       "  0.99913341279467083,\n",
       "  0.99907379442500022,\n",
       "  0.99901447198444115,\n",
       "  0.99895544397535663,\n",
       "  0.99889670890785554,\n",
       "  0.99883826529975506,\n",
       "  0.99878011167653824,\n",
       "  0.99872224657131015,\n",
       "  0.99866466852476388,\n",
       "  0.99860737608513195,\n",
       "  0.99855036780815876,\n",
       "  0.99849364225704695,\n",
       "  0.99843719800242692,\n",
       "  0.99838103362231245,\n",
       "  0.99832514770206526,\n",
       "  0.99826953883435787,\n",
       "  0.99821420561912777,\n",
       "  0.99815914666354644,\n",
       "  0.99810436058197705,\n",
       "  0.9980498459959295,\n",
       "  0.99799560153404621,\n",
       "  0.99794162583203305,\n",
       "  0.9978879175326455,\n",
       "  0.99783447528564295,\n",
       "  0.99778129774775093,\n",
       "  0.99772838358262317,\n",
       "  0.99767573146081179,\n",
       "  0.99762334005972164,\n",
       "  0.99757120806358379,\n",
       "  0.99751933416340899,\n",
       "  0.99746771705696091,\n",
       "  0.99741635544871565,\n",
       "  0.99736524804983129,\n",
       "  0.99731439357810259,\n",
       "  0.99726379075793414,\n",
       "  0.99721343832030862,\n",
       "  0.99716333500274046]}"
      ]
     },
     "execution_count": 119,
     "metadata": {},
     "output_type": "execute_result"
    },
    {
     "data": {
      "image/png": "[encoded data removed]",
      "text/plain": [
       "<matplotlib.figure.Figure at 0x10d0cf2b0>"
      ]
     },
     "metadata": {},
     "output_type": "display_data"
    }
   ],
   "source": [
    "grad_descent(X_train.iloc[:1000], y_train.iloc[:1000], np.zeros((X_train.iloc[:1000].shape[1])), 0.001, 50, 0.000058, True)"
   ]
  },
  {
   "cell_type": "markdown",
   "metadata": {
    "collapsed": true
   },
   "source": [
    "При отсутствии регуляризации функционал быстро уменьшился с 0.95 до 0.90, но потом скорость сходимости резко замедлилась. Что же касается случая с регуляризацией, здесь нет быстрого уменьшения функциоанал и скорость сходимости примерно такая же, как и в случае отсутствия регуляризации (после резкого снижения). По идее, наличие штрафа за веса должно ускорять сходимость алгоритма. Возможно, стоило взять другой step_size для того, чтобы более наглядно представить различия в сходимости алгоритма."
   ]
  },
  {
   "cell_type": "markdown",
   "metadata": {},
   "source": [
    "Метод градиентного спуска может быть весьма трудозатратен в случае большого размера обучающей выборки. Поэтому часто используют метод стохастического градиентного спуска, где на каждой итерации выбирается случайный объект из обучающей выборки и обновление весов происходит только по этому объекту. \n",
    "\n",
    "**18*. (1 бонусный балл)**  Реализуйте метод стохастического градиентного спуска (SGD) для описанных функционалов ($MSPE$ и его регуляризованный вариант). Функция должна иметь параметры и возвращаемое значение, аналогичные оным функции grad\\_descent из п.21. Кроме того, должен использоваться аналогичный критерий останова."
   ]
  },
  {
   "cell_type": "code",
   "execution_count": 68,
   "metadata": {
    "collapsed": true
   },
   "outputs": [],
   "source": [
    "from sklearn.utils import shuffle\n",
    "def sgd(X, y, w_0, step_size, max_iter, eps, is_reg):\n",
    "    w=w_0\n",
    "    values=[]\n",
    "    if is_reg==False:\n",
    "     for i in range(max_iter):\n",
    "           X, y = shuffle(X, y, random_state=i)\n",
    "           index = np.array([i for i in range(X.shape[0])])\n",
    "           X = X.set_index(index)\n",
    "           y = np.array(pd.DataFrame(y).set_index(index))\n",
    "           X_new = X.iloc[:int(np.round(0.25*X.shape[0]))]\n",
    "           y_new = y[:int(np.round(0.25*X.shape[0]))]\n",
    "            \n",
    "            \n",
    "           w_old=w \n",
    "           w=w-step_size*get_grad(w, X_new, y_new)\n",
    "           values.append(get_func(w, X_new, y_new))\n",
    "           if np.sqrt(np.dot(w-w_old, w-w_old))<=eps:\n",
    "                return {'w':w, 'значения функционала':values}\n",
    "     return {'w':w, 'значения функционала':values}\n",
    "    else:\n",
    "     for i in range(max_iter):\n",
    "           X, y = shuffle(X, y, random_state=i)\n",
    "           index = np.array([i for i in range(X.shape[0])])\n",
    "           X = X.set_index(index)\n",
    "           y = np.array(pd.DataFrame(y).set_index(index))\n",
    "           X_new = X.iloc[:int(np.round(0.25*X.shape[0]))]\n",
    "           y_new = y[:int(np.round(0.25*X.shape[0]))]\n",
    "            \n",
    "           \n",
    "           w_old=w\n",
    "           w=w-step_size*get_reg_grad(w, X_new, y_new)\n",
    "           values.append(get_reg_func(w, X_new, y_new))\n",
    "           if np.sqrt(np.dot(w-w_old, w-w_old))<=eps:\n",
    "                return {'w':w, 'значения функционала':values}\n",
    "     return {'w':w, 'значения функционала':values}"
   ]
  },
  {
   "cell_type": "markdown",
   "metadata": {},
   "source": [
    "Обучите линейную регрессию с функционалом $MSPE$ и его регуляризованным вариантом на обучающей выборке при помощи метода стохастического градиентного спуска, подобрав при этом размер шага, при котором метод будет сходиться. Нарисуйте график сходимости. Выведите значения $MSPE, MSE, R^2$ на контрольной выборке."
   ]
  },
  {
   "cell_type": "code",
   "execution_count": 69,
   "metadata": {
    "collapsed": false
   },
   "outputs": [
    {
     "data": {
      "text/plain": [
       "{'w': array([  5.08179807e+16,   4.83512720e+16,  -2.77286127e+17,\n",
       "          5.17885018e+17,  -1.52508197e+18,  -1.53112565e+18,\n",
       "         -1.55388046e+18,  -1.53092536e+18,  -4.86089092e+15,\n",
       "         -1.96582370e+17,   2.22756353e+15,   3.68786792e+16,\n",
       "          4.37505631e+17,  -1.32057675e+15,   4.50819653e+17,\n",
       "         -5.46907026e+16,   3.07315206e+17,  -4.42744989e+17,\n",
       "          2.96550406e+17,   1.62739187e+17,   0.00000000e+00,\n",
       "          0.00000000e+00,   1.02037668e+14,   1.50217339e+15,\n",
       "          0.00000000e+00,   5.59233435e+14,   0.00000000e+00,\n",
       "          6.75109500e+14,   5.88801669e+14,   0.00000000e+00,\n",
       "          0.00000000e+00,   0.00000000e+00,   0.00000000e+00,\n",
       "          1.91398679e+12,   5.86852026e+12,   2.32220147e+14,\n",
       "          0.00000000e+00,   0.00000000e+00,   0.00000000e+00,\n",
       "          0.00000000e+00,  -1.61903673e+17]),\n",
       " 'значения функционала': [1.077599239264124,\n",
       "  1.4296641246292525,\n",
       "  3.6878457648107235,\n",
       "  5.6284684560360914,\n",
       "  18.17488624327757,\n",
       "  108.26038514398559,\n",
       "  428.52129923226778,\n",
       "  1934.7867577163893,\n",
       "  11129.063143542737,\n",
       "  50850.26338556112,\n",
       "  418131.48447099916,\n",
       "  1603822.9552274228,\n",
       "  7864014.7710670978,\n",
       "  122283972.71329677,\n",
       "  621708466.14436603,\n",
       "  5185818590.3459206,\n",
       "  20490409711.292389,\n",
       "  277428430362.24268,\n",
       "  2578388845051.3828,\n",
       "  15366063558896.836,\n",
       "  141486764010964.91,\n",
       "  674542593140520.62,\n",
       "  3855671685533379.5,\n",
       "  29789208397259340.0,\n",
       "  1.2642525019232586e+17,\n",
       "  8.640546779327255e+17,\n",
       "  3.0503750338467461e+18,\n",
       "  1.6306270398749051e+19,\n",
       "  1.2585408100680519e+20,\n",
       "  8.1620063947949788e+20,\n",
       "  4.1501563518183014e+21,\n",
       "  5.2292013126078503e+22,\n",
       "  4.177552800982447e+23,\n",
       "  1.8405892605232869e+24,\n",
       "  1.8830297360412282e+25,\n",
       "  1.2051473020665534e+26,\n",
       "  3.3375533167566775e+26,\n",
       "  2.3406206342565156e+27,\n",
       "  2.4015185794791771e+28,\n",
       "  7.5590415424223972e+28,\n",
       "  1.176799178893109e+30,\n",
       "  1.0134504057887239e+31,\n",
       "  6.5380703756705694e+31,\n",
       "  3.4931407350787236e+32,\n",
       "  1.6215216674686492e+33,\n",
       "  8.6265746722742474e+33,\n",
       "  4.9067365916613434e+34,\n",
       "  5.790210934003549e+35,\n",
       "  2.7169703513265418e+36,\n",
       "  1.9290297797861007e+37]}"
      ]
     },
     "execution_count": 69,
     "metadata": {},
     "output_type": "execute_result"
    }
   ],
   "source": [
    "sgd(X_train.iloc[:1000], y_train.iloc[:1000], np.zeros((X_train.iloc[:1000].shape[1])), 1, 50, 0.000058, True)"
   ]
  },
  {
   "cell_type": "markdown",
   "metadata": {},
   "source": [
    "Алгоритм \"разошелся\":("
   ]
  },
  {
   "cell_type": "markdown",
   "metadata": {},
   "source": [
    "Попробуем изменить алгоритм, а также модифицируем его таким образом, чтобы он строил нам график сходимости"
   ]
  },
  {
   "cell_type": "code",
   "execution_count": 74,
   "metadata": {
    "collapsed": false
   },
   "outputs": [],
   "source": [
    "def sgd(X, y, w_0, step_size, max_iter, eps, is_reg):\n",
    "    w=w_0\n",
    "    values=[]\n",
    "    if is_reg==False:\n",
    "     for i in range(max_iter):\n",
    "           X, y = shuffle(X, y, random_state=i)\n",
    "           index = np.array([i for i in range(X.shape[0])])\n",
    "           X = X.set_index(index)\n",
    "           y = np.array(pd.DataFrame(y).set_index(index))\n",
    "           X_new = X.iloc[:int(np.round(0.25*X.shape[0]))]\n",
    "           y_new = y[:int(np.round(0.25*X.shape[0]))]\n",
    "            \n",
    "            \n",
    "           w_old=w \n",
    "           w=w-step_size*get_grad(w, X_new, y_new)\n",
    "           values.append(get_func(w, X_new, y_new))\n",
    "           if np.sqrt(np.dot(w-w_old, w-w_old))>=50000:\n",
    "              return 'Алгоритм не сошелся'\n",
    "           elif np.sqrt(np.dot(w-w_old, w-w_old))<=eps:\n",
    "                fig = plt.figure(figsize=(8,10))\n",
    "                ax1 = fig.add_subplot(2, 1, 1)\n",
    "                ax1.plot([j for j in range(1,i+2)], values, 'b-')\n",
    "                ax1.set_ylabel('Functional', color='blue')\n",
    "                ax1.set_xlabel('Number of iterations')    \n",
    "                return {'w':w, 'значения функционала':values}\n",
    "     fig = plt.figure(figsize=(8,10))\n",
    "     ax1 = fig.add_subplot(2, 1, 1)\n",
    "     ax1.plot([j for j in range(1,max_iter+1)], values, 'b-')\n",
    "     ax1.set_ylabel('Functional', color='blue')\n",
    "     ax1.set_xlabel('Number of iterations')    \n",
    "     return {'w':w, 'значения функционала':values}\n",
    "    else:\n",
    "     for i in range(max_iter):\n",
    "           X, y = shuffle(X, y, random_state=i)\n",
    "           index = np.array([i for i in range(X.shape[0])])\n",
    "           X = X.set_index(index)\n",
    "           y = np.array(pd.DataFrame(y).set_index(index))\n",
    "           X_new = X.iloc[:int(np.round(0.25*X.shape[0]))]\n",
    "           y_new = y[:int(np.round(0.25*X.shape[0]))]\n",
    "            \n",
    "            \n",
    "           w_old=w \n",
    "           w=w-step_size*get_reg_grad(w, X_new, y_new)\n",
    "           values.append(get_reg_func(w, X_new, y_new))\n",
    "           if np.sqrt(np.dot(w-w_old, w-w_old))>=50000:\n",
    "              return 'Алгоритм не сошелся'\n",
    "           elif np.sqrt(np.dot(w-w_old, w-w_old))<=eps:\n",
    "                fig = plt.figure(figsize=(8,10))\n",
    "                ax1 = fig.add_subplot(2, 1, 1)\n",
    "                ax1.plot([j for j in range(1,i+2)], values, 'b-')\n",
    "                ax1.set_ylabel('Functional', color='blue')\n",
    "                ax1.set_xlabel('Number of iterations')    \n",
    "                return {'w':w, 'значения функционала':values}\n",
    "     fig = plt.figure(figsize=(8,10))\n",
    "     ax1 = fig.add_subplot(2, 1, 1)\n",
    "     ax1.plot([j for j in range(1,max_iter+1)], values, 'b-')\n",
    "     ax1.set_ylabel('Functional', color='blue')\n",
    "     ax1.set_xlabel('Number of iterations')    \n",
    "     return {'w':w, 'значения функционала':values}"
   ]
  },
  {
   "cell_type": "code",
   "execution_count": 75,
   "metadata": {
    "collapsed": false
   },
   "outputs": [
    {
     "data": {
      "text/plain": [
       "{'w': array([ -4.84426740e-03,  -4.17313553e-03,   1.46512317e-02,\n",
       "         -4.21391663e-03,   1.19689567e-02,   1.27567801e-02,\n",
       "          1.12865587e-02,   1.11246788e-02,   1.13774016e-03,\n",
       "          8.04916741e-03,   8.26231186e-04,   1.87139269e-02,\n",
       "          5.77555769e-03,  -1.87809695e-02,   1.26786638e-03,\n",
       "          5.82345526e-03,   2.09600166e-03,   6.68506563e-03,\n",
       "          1.77850308e-03,  -7.51279130e-04,   0.00000000e+00,\n",
       "          0.00000000e+00,  -2.33785036e-04,  -7.34200038e-04,\n",
       "          0.00000000e+00,  -1.57397833e-03,   0.00000000e+00,\n",
       "         -7.12678913e-04,  -2.88997799e-04,   0.00000000e+00,\n",
       "          0.00000000e+00,   0.00000000e+00,   0.00000000e+00,\n",
       "          3.33072356e-05,  -1.24944794e-04,  -2.47583905e-04,\n",
       "          0.00000000e+00,   0.00000000e+00,   0.00000000e+00,\n",
       "          0.00000000e+00,  -6.00520984e-02]),\n",
       " 'значения функционала': [0.99836838751978219,\n",
       "  0.9984856873149448,\n",
       "  0.99779865079692376,\n",
       "  0.9966562480993455,\n",
       "  0.99733039556154912,\n",
       "  0.99702627680153544,\n",
       "  0.99581357727591502,\n",
       "  0.99399975862171475,\n",
       "  0.99363280484085925,\n",
       "  0.99346783069998612,\n",
       "  0.99318823539290979,\n",
       "  0.99405896719442544,\n",
       "  0.9906945931860226,\n",
       "  0.99170883198335302,\n",
       "  0.99199317937408882,\n",
       "  0.99550449050154888,\n",
       "  0.99357099128817628,\n",
       "  0.99203131056004734,\n",
       "  0.99401907500419251,\n",
       "  0.98980636151395018,\n",
       "  0.98890993723466769,\n",
       "  0.99252242004121594,\n",
       "  0.9925173269666181,\n",
       "  0.98980406001435572,\n",
       "  0.99006967480888164,\n",
       "  0.98982655800475561,\n",
       "  0.99120207179703823,\n",
       "  0.9873125721628887,\n",
       "  0.99243482663642835,\n",
       "  0.99131345087888556,\n",
       "  0.99064422856264367,\n",
       "  0.99251551099740731,\n",
       "  0.99204908064556319,\n",
       "  0.98706873777900705,\n",
       "  0.98686712422682554,\n",
       "  0.99404325835504503,\n",
       "  0.98572477534248726,\n",
       "  0.98671963258244455,\n",
       "  0.98276556887685906,\n",
       "  0.98599529424783627,\n",
       "  0.98651856120930237,\n",
       "  0.98656858649665902,\n",
       "  0.98616401391727759,\n",
       "  0.99271678338199121,\n",
       "  0.99369220239245315,\n",
       "  0.98967241441950871,\n",
       "  0.98474798432294064,\n",
       "  0.99087821286507716,\n",
       "  0.99166766626048275,\n",
       "  0.98759851444017888]}"
      ]
     },
     "execution_count": 75,
     "metadata": {},
     "output_type": "execute_result"
    },
    {
     "data": {
      "image/png": "[encoded data removed]",
      "text/plain": [
       "<matplotlib.figure.Figure at 0x117b87550>"
      ]
     },
     "metadata": {},
     "output_type": "display_data"
    }
   ],
   "source": [
    "sgd(X_train.iloc[:1000], y_train.iloc[:1000], np.zeros((X_train.iloc[:1000].shape[1])), 0.01, 50, 0.000058, True)"
   ]
  },
  {
   "cell_type": "markdown",
   "metadata": {},
   "source": [
    "Наблюдается пусть и относительно медленная, но сходимость алгоритма. Полученные веса невелики по модулю, что говорит о том, что скорее всего алгоритм не переобучился. Также стоит омтетить, что из-за фактора случайности сходимость неравномерная и непостоянная."
   ]
  },
  {
   "cell_type": "markdown",
   "metadata": {},
   "source": [
    "Посчитаем статистики $MSPE$, $MSE$ и $R^2$ на контрольной выборке"
   ]
  },
  {
   "cell_type": "code",
   "execution_count": 76,
   "metadata": {
    "collapsed": true
   },
   "outputs": [],
   "source": [
    "w=array([ -4.84426740e-03,  -4.17313553e-03,   1.46512317e-02,\n",
    "         -4.21391663e-03,   1.19689567e-02,   1.27567801e-02,\n",
    "          1.12865587e-02,   1.11246788e-02,   1.13774016e-03,\n",
    "          8.04916741e-03,   8.26231186e-04,   1.87139269e-02,\n",
    "          5.77555769e-03,  -1.87809695e-02,   1.26786638e-03,\n",
    "          5.82345526e-03,   2.09600166e-03,   6.68506563e-03,\n",
    "          1.77850308e-03,  -7.51279130e-04,   0.00000000e+00,\n",
    "          0.00000000e+00,  -2.33785036e-04,  -7.34200038e-04,\n",
    "          0.00000000e+00,  -1.57397833e-03,   0.00000000e+00,\n",
    "         -7.12678913e-04,  -2.88997799e-04,   0.00000000e+00,\n",
    "          0.00000000e+00,   0.00000000e+00,   0.00000000e+00,\n",
    "          3.33072356e-05,  -1.24944794e-04,  -2.47583905e-04,\n",
    "          0.00000000e+00,   0.00000000e+00,   0.00000000e+00,\n",
    "          0.00000000e+00,  -6.00520984e-02])"
   ]
  },
  {
   "cell_type": "code",
   "execution_count": 78,
   "metadata": {
    "collapsed": false
   },
   "outputs": [
    {
     "name": "stdout",
     "output_type": "stream",
     "text": [
      "R2_test =-0.0913590857224\n",
      "MSE_test =1436.00927112\n",
      "MSPE_test =0.985114400881\n"
     ]
    }
   ],
   "source": [
    "prediction_test = make_pred(X_test[:1000], w)\n",
    "print('R2_test ='+str(r2_score(y_test[:1000], prediction_test)))\n",
    "print('MSE_test ='+str(mean_squared_error(y_test[:1000], prediction_test)))\n",
    "print('MSPE_test ='+str(get_func(w, X_test[:1000], y_test[:1000])))"
   ]
  },
  {
   "cell_type": "markdown",
   "metadata": {},
   "source": [
    "**19*. (0.5 бонусного балла)** Аналогично п.17 исследуйте зависимость скорости сходимости метода SGD от наличия регуляризации. Обоснуйте, почему так происходит."
   ]
  },
  {
   "cell_type": "code",
   "execution_count": null,
   "metadata": {
    "collapsed": true
   },
   "outputs": [],
   "source": []
  },
  {
   "cell_type": "markdown",
   "metadata": {},
   "source": [
    "**20. (0.5 балла)** Обучите стандартную линейную регрессию с функционалом качества MSE на обучающей выборке и выведите значение MSPE полученного решения на контрольной выборке. Как оно соотносится с аналогичным результатом для решения, полученного в п.17? Почему?"
   ]
  },
  {
   "cell_type": "markdown",
   "metadata": {
    "collapsed": true
   },
   "source": [
    "Для чистоты эксперимента будем обучать модель на той же выборке, что и в пункте 17. С учетом того, что в этой выборке 1000 наблюдений,  из контрольной выборки возьмем также 1000 наблюдений."
   ]
  },
  {
   "cell_type": "code",
   "execution_count": null,
   "metadata": {
    "collapsed": false
   },
   "outputs": [],
   "source": []
  },
  {
   "cell_type": "code",
   "execution_count": null,
   "metadata": {
    "collapsed": true
   },
   "outputs": [],
   "source": []
  },
  {
   "cell_type": "markdown",
   "metadata": {},
   "source": [
    "Список источников: http://www.marketcalls.in/python/quick-start-guide-compute-correlation-matrix-using-nsepy-pandas-python.html"
   ]
  }
 ],
 "metadata": {
  "anaconda-cloud": {},
  "kernelspec": {
   "display_name": "Python 3",
   "language": "python",
   "name": "python3"
  },
  "language_info": {
   "codemirror_mode": {
    "name": "ipython",
    "version": 3
   },
   "file_extension": ".py",
   "mimetype": "text/x-python",
   "name": "python",
   "nbconvert_exporter": "python",
   "pygments_lexer": "ipython3",
   "version": "3.5.2"
  }
 },
 "nbformat": 4,
 "nbformat_minor": 0
}
