{
 "cells": [
  {
   "cell_type": "markdown",
   "metadata": {},
   "source": [
    "Выполнила: Бердникович Алеся, 4-сложная"
   ]
  },
  {
   "cell_type": "markdown",
   "metadata": {},
   "source": [
    "# Машинное обучение, ФЭН ВШЭ\n",
    "\n",
    "# Практическое задание 2\n",
    "(Основано на материалах курса машинного обучения на фкн)\n",
    "\n",
    "## Общая информация\n",
    "\n",
    "Дата выдачи: 21.09.2017\n",
    "\n",
    "Срок сдачи: 8.10.2017 23:59MSK\n",
    "\n",
    "### О задании\n",
    "\n",
    "Практическое задание 1 посвящено изучению основных библиотек для анализа данных, а также линейных моделей и методов их обучения. Вы научитесь:\n",
    " * применять библиотеку NumPy;\n",
    " * подготавливать данные для обучения линейных моделей;\n",
    " * обучать линейную, Lasso и Ridge-регрессии при помощи модуля scikit-learn;\n",
    " * реализовывать обычный и стохастический градиентные спуски;\n",
    " * обучать линейную регрессию для произвольного функционала качества.\n",
    " \n",
    "\n",
    "### Оценивание и штрафы\n",
    "\n",
    "Каждая из задач имеет определенную «стоимость» (указана в скобках около задачи). Максимально допустимая оценка за работу — 10 баллов. Кроме того, некоторые из заданий являются опциональными (необязательными), однако за их выполнение можно получить дополнительные баллы.\n",
    "\n",
    "\n",
    "Задание выполняется самостоятельно. «Похожие» решения считаются плагиатом и все задействованные студенты (в том числе те, у кого списали) не могут получить за него больше 0 баллов (подробнее о плагиате см. на странице курса). Если вы нашли решение какого-то из заданий (или его часть) в открытом источнике, необходимо указать ссылку на этот источник в отдельном блоке в конце Вашей работы (скорее всего вы будете не единственным, кто это нашел, поэтому чтобы исключить подозрение в плагиате, необходима ссылка на источник). \n",
    "\n",
    "Неэффективная реализация кода может негативно отразиться на оценке.\n",
    "\n",
    "\n",
    "### Формат сдачи\n",
    "Для сдачи задания переименуйте получившийся файл \\*.ipynb в соответствии со следующим форматом: *HW1_Username.ipynb*, где *Username* — Ваша фамилия и инициалы на латинице (например, *HW1_IvanovII.ipynb*). Далее отправьте этот файл на почту курса, указав соответствующую тему (см. вики-страничку курча)."
   ]
  },
  {
   "cell_type": "markdown",
   "metadata": {},
   "source": [
    "## Библиотеки для анализа данных\n",
    "\n",
    "### NumPy\n",
    "\n",
    "Во всех заданиях данного раздела запрещено использовать циклы  и list comprehensions. Под вектором и матрицей в данных заданиях понимается одномерный и двумерный numpy.array соответственно."
   ]
  },
  {
   "cell_type": "code",
   "execution_count": 1,
   "metadata": {
    "collapsed": true
   },
   "outputs": [],
   "source": [
    "import numpy as np\n",
    "import math"
   ]
  },
  {
   "cell_type": "markdown",
   "metadata": {},
   "source": [
    "**1. (0.3 балла)** Реализуйте функцию, возвращающую максимальный элемент в векторе x среди элементов, перед которыми стоит нулевой. Для x = np.array([6, 2, 0, 3, 0, 0, 5, 7, 0]) ответом является 5. Если нулевых элементов нет, функция должна возвращать None.\n"
   ]
  },
  {
   "cell_type": "code",
   "execution_count": 2,
   "metadata": {
    "collapsed": false
   },
   "outputs": [],
   "source": [
    "def max_element(arr):\n",
    "    zero=(arr==0)\n",
    "    if len(np.where(arr==0)[0])>0:\n",
    "        zero1=zero[:-1]\n",
    "        arr1=arr[1:]\n",
    "        print(arr1[zero1].max())\n",
    "    else:\n",
    "        print (None)\n",
    "    "
   ]
  },
  {
   "cell_type": "markdown",
   "metadata": {},
   "source": [
    "Проверим на примере:"
   ]
  },
  {
   "cell_type": "code",
   "execution_count": 3,
   "metadata": {
    "collapsed": false
   },
   "outputs": [
    {
     "name": "stdout",
     "output_type": "stream",
     "text": [
      "5\n"
     ]
    }
   ],
   "source": [
    "arr = np.array([6, 2, 0, 3, 0, 0, 5, 7, 0]) \n",
    "max_element(arr)"
   ]
  },
  {
   "cell_type": "markdown",
   "metadata": {},
   "source": [
    "Проверим, если в списке нет нулей"
   ]
  },
  {
   "cell_type": "code",
   "execution_count": 4,
   "metadata": {
    "collapsed": false
   },
   "outputs": [
    {
     "name": "stdout",
     "output_type": "stream",
     "text": [
      "None\n"
     ]
    }
   ],
   "source": [
    "arr = np.array([6, 2,  3,  5, 7]) \n",
    "\n",
    "max_element(arr)"
   ]
  },
  {
   "cell_type": "markdown",
   "metadata": {},
   "source": [
    "**2. (0.3 балла)** Реализуйте функцию, принимающую на вход матрицу и некоторое число и возвращающую ближайший к числу элемент матрицы. Например: для X = np.arange(0,10).reshape((2, 5)) и v = 3.6 ответом будет 4."
   ]
  },
  {
   "cell_type": "code",
   "execution_count": 5,
   "metadata": {
    "collapsed": true
   },
   "outputs": [],
   "source": [
    "def nearest_value(X, v):\n",
    "    X1=abs(X-v)\n",
    "    print(X.ravel()[np.argmin(X1)])"
   ]
  },
  {
   "cell_type": "code",
   "execution_count": 6,
   "metadata": {
    "collapsed": false
   },
   "outputs": [
    {
     "name": "stdout",
     "output_type": "stream",
     "text": [
      "4\n"
     ]
    }
   ],
   "source": [
    "X = np.arange(0,10).reshape((2, 5))\n",
    "v = 3.6\n",
    "nearest_value(X, v)"
   ]
  },
  {
   "cell_type": "markdown",
   "metadata": {},
   "source": [
    "**3. (0.3 балла)** Реализуйте функцию scale(X), которая принимает на вход матрицу и масштабирует каждый ее столбец (вычитает выборочное среднее и делит на стандартное отклонение). Убедитесь, что в функции не будет происходить деления на ноль. Протестируйте на случайной матрице (для её генерации можно использовать, например, функцию [numpy.random.randint](http://docs.scipy.org/doc/numpy/reference/generated/numpy.random.randint.html))."
   ]
  },
  {
   "cell_type": "code",
   "execution_count": 7,
   "metadata": {
    "collapsed": true
   },
   "outputs": [],
   "source": [
    "def scale(X):\n",
    "    mean=np.mean(X,axis=0)\n",
    "    std=np.std(X,axis=0)\n",
    "    if len(np.where(std==0)[0])==0:\n",
    "        print((X-mean)/std)\n",
    "    else:\n",
    "        std[std == 0] = 1\n",
    "        print((X-mean)/std)"
   ]
  },
  {
   "cell_type": "markdown",
   "metadata": {},
   "source": [
    "Я проверила на простой матрице, что он по умолчанию будет делить каждый столбец матрицы на соответстыующий ему элемент вектора стандартных отклонений и аналогично с мат ожиданиями."
   ]
  },
  {
   "cell_type": "code",
   "execution_count": 8,
   "metadata": {
    "collapsed": false
   },
   "outputs": [
    {
     "name": "stdout",
     "output_type": "stream",
     "text": [
      "[[-0.75173097  0.87481777  0.25626989  1.36168561 -1.41404746  0.94867256\n",
      "  -1.40588501 -0.95786289  1.17294338  0.30656967]\n",
      " [ 1.41325423 -1.39970842  1.07633353 -0.35014773  0.72579427 -1.3826398\n",
      "   0.83566592  1.37997196  0.09774528  1.04233688]\n",
      " [-0.66152326  0.52489066 -1.33260342 -1.01153788  0.68825319  0.43396724\n",
      "   0.5702191  -0.42210907 -1.27068866 -1.34890655]]\n"
     ]
    }
   ],
   "source": [
    "X= np.random.randint(0, 100, (3,10))\n",
    "scale(X)   "
   ]
  },
  {
   "cell_type": "markdown",
   "metadata": {},
   "source": [
    "**4. (0.3 балла)** Реализуйте функцию, которая для заданной матрицы находит:\n",
    " - определитель\n",
    " - след\n",
    " - наименьший и наибольший элементы\n",
    " - норму Фробениуса\n",
    " - собственные числа\n",
    " - обратную матрицу\n",
    "\n",
    "Для тестирования сгенерируйте матрицу с элементами из нормального распределения $\\mathcal{N}$(10,1)"
   ]
  },
  {
   "cell_type": "code",
   "execution_count": 9,
   "metadata": {
    "collapsed": false
   },
   "outputs": [],
   "source": [
    "def get_stats(X):\n",
    "    print ('det:',(np.linalg.det(X)))\n",
    "    print ('tr:',(np.trace(X)))\n",
    "    print ('min:',(np.min(X)))\n",
    "    print ('max:', (np.max(X)))\n",
    "    print ('Норма Фробениуса:', (np.linalg.norm(X,ord='fro')))\n",
    "    print ('Собственные числа:', (np.linalg.eig(X))[0])\n",
    "    print ('Обратная матрица:', (np.linalg.inv(X)))"
   ]
  },
  {
   "cell_type": "code",
   "execution_count": 10,
   "metadata": {
    "collapsed": false
   },
   "outputs": [
    {
     "name": "stdout",
     "output_type": "stream",
     "text": [
      "det: 15.9177504639\n",
      "tr: 32.6739770914\n",
      "min: 9.32279281845\n",
      "max: 11.66491846\n",
      "Норма Фробениуса: 31.3312870486\n",
      "Собственные числа: [ 31.2539025+0.j           0.7100373+0.07177361j   0.7100373-0.07177361j]\n",
      "Обратная матрица: [[ 0.85811874 -0.48013313 -0.42944215]\n",
      " [ 0.97320125  0.15435031 -1.21161846]\n",
      " [-1.93545142  0.37453345  1.80778985]]\n"
     ]
    }
   ],
   "source": [
    "X= np.random.normal(10, 1, size = (3,3))\n",
    "get_stats(X)"
   ]
  },
  {
   "cell_type": "markdown",
   "metadata": {},
   "source": [
    "**5. (0.3 балла)** Повторите 100 раз следующий эксперимент: сгенерируйте две матрицы размера 10×10 из стандартного нормального распределения, перемножьте их (как матрицы) и найдите максимальный элемент. Какое среднее значение по экспериментам у максимальных элементов? 95-процентная квантиль?"
   ]
  },
  {
   "cell_type": "code",
   "execution_count": 11,
   "metadata": {
    "collapsed": true
   },
   "outputs": [],
   "source": [
    "a=[]\n",
    "for exp_num in range(100):\n",
    "    A = np.random.normal(0, 1, (10,10))\n",
    "    B = np.random.normal(0, 1, (10,10))\n",
    "    AB=np.dot(A,B)\n",
    "    a.append(np.max(AB))"
   ]
  },
  {
   "cell_type": "code",
   "execution_count": 12,
   "metadata": {
    "collapsed": false
   },
   "outputs": [
    {
     "name": "stdout",
     "output_type": "stream",
     "text": [
      "Среднее значение по эксперименту: 8.50391860575\n",
      "95% квантиль 12.7504713716\n"
     ]
    }
   ],
   "source": [
    "print('Среднее значение по эксперименту:',np.mean(a))\n",
    "print('95% квантиль', np.percentile(a, 95))"
   ]
  },
  {
   "cell_type": "markdown",
   "metadata": {},
   "source": [
    "## Линейная регрессия\n",
    "\n",
    "В этой части мы разберемся с линейной регрессией, способами её обучения и измерением качества ее прогнозов. \n",
    "\n",
    "Будем рассматривать данные по авиарейсам в США за январь-апрель 2008 года для предсказания времени задержки отправления рейса в минутах (DepDelay). Отметим, что под задержкой подразумевается не только опоздание рейса относительно планируемого времени вылета, но и отправление до планируемого времени.\n",
    "\n",
    "\n",
    "[Данные](https://www.dropbox.com/s/dvfitn93obn0rql/2008.csv?dl=0) и их [описание](http://stat-computing.org/dataexpo/2009/the-data.html)\n",
    "\n",
    "### Подготовка данных\n",
    "\n",
    "**6. (0.75 балла)** Считайте выборку из файла при помощи функции pd.read_csv и ответьте на следующие вопросы:\n",
    "   - Имеются ли в данных пропущенные значения?\n",
    "   - Сколько всего пропущенных элементов в таблице \"объект-признак\"?\n",
    "   - Сколько объектов имеют хотя бы один пропуск?\n",
    "   - Сколько признаков имеют хотя бы одно пропущенное значение?"
   ]
  },
  {
   "cell_type": "code",
   "execution_count": 2,
   "metadata": {
    "collapsed": false,
    "scrolled": true
   },
   "outputs": [
    {
     "data": {
      "text/html": [
       "<div>\n",
       "<table border=\"1\" class=\"dataframe\">\n",
       "  <thead>\n",
       "    <tr style=\"text-align: right;\">\n",
       "      <th></th>\n",
       "      <th>Year</th>\n",
       "      <th>Month</th>\n",
       "      <th>DayofMonth</th>\n",
       "      <th>DayOfWeek</th>\n",
       "      <th>DepTime</th>\n",
       "      <th>CRSDepTime</th>\n",
       "      <th>ArrTime</th>\n",
       "      <th>CRSArrTime</th>\n",
       "      <th>UniqueCarrier</th>\n",
       "      <th>FlightNum</th>\n",
       "      <th>...</th>\n",
       "      <th>TaxiIn</th>\n",
       "      <th>TaxiOut</th>\n",
       "      <th>Cancelled</th>\n",
       "      <th>CancellationCode</th>\n",
       "      <th>Diverted</th>\n",
       "      <th>CarrierDelay</th>\n",
       "      <th>WeatherDelay</th>\n",
       "      <th>NASDelay</th>\n",
       "      <th>SecurityDelay</th>\n",
       "      <th>LateAircraftDelay</th>\n",
       "    </tr>\n",
       "  </thead>\n",
       "  <tbody>\n",
       "    <tr>\n",
       "      <th>0</th>\n",
       "      <td>2008</td>\n",
       "      <td>6</td>\n",
       "      <td>18</td>\n",
       "      <td>3</td>\n",
       "      <td>2111</td>\n",
       "      <td>2055</td>\n",
       "      <td>2308</td>\n",
       "      <td>2300</td>\n",
       "      <td>WN</td>\n",
       "      <td>242</td>\n",
       "      <td>...</td>\n",
       "      <td>3</td>\n",
       "      <td>8</td>\n",
       "      <td>0</td>\n",
       "      <td>NaN</td>\n",
       "      <td>0</td>\n",
       "      <td>NaN</td>\n",
       "      <td>NaN</td>\n",
       "      <td>NaN</td>\n",
       "      <td>NaN</td>\n",
       "      <td>NaN</td>\n",
       "    </tr>\n",
       "    <tr>\n",
       "      <th>1</th>\n",
       "      <td>2008</td>\n",
       "      <td>6</td>\n",
       "      <td>4</td>\n",
       "      <td>3</td>\n",
       "      <td>1426</td>\n",
       "      <td>1410</td>\n",
       "      <td>1730</td>\n",
       "      <td>1728</td>\n",
       "      <td>XE</td>\n",
       "      <td>2380</td>\n",
       "      <td>...</td>\n",
       "      <td>4</td>\n",
       "      <td>12</td>\n",
       "      <td>0</td>\n",
       "      <td>NaN</td>\n",
       "      <td>0</td>\n",
       "      <td>NaN</td>\n",
       "      <td>NaN</td>\n",
       "      <td>NaN</td>\n",
       "      <td>NaN</td>\n",
       "      <td>NaN</td>\n",
       "    </tr>\n",
       "    <tr>\n",
       "      <th>2</th>\n",
       "      <td>2008</td>\n",
       "      <td>8</td>\n",
       "      <td>3</td>\n",
       "      <td>7</td>\n",
       "      <td>1143</td>\n",
       "      <td>1145</td>\n",
       "      <td>1501</td>\n",
       "      <td>1520</td>\n",
       "      <td>WN</td>\n",
       "      <td>1769</td>\n",
       "      <td>...</td>\n",
       "      <td>4</td>\n",
       "      <td>9</td>\n",
       "      <td>0</td>\n",
       "      <td>NaN</td>\n",
       "      <td>0</td>\n",
       "      <td>NaN</td>\n",
       "      <td>NaN</td>\n",
       "      <td>NaN</td>\n",
       "      <td>NaN</td>\n",
       "      <td>NaN</td>\n",
       "    </tr>\n",
       "    <tr>\n",
       "      <th>3</th>\n",
       "      <td>2008</td>\n",
       "      <td>1</td>\n",
       "      <td>23</td>\n",
       "      <td>3</td>\n",
       "      <td>1141</td>\n",
       "      <td>1144</td>\n",
       "      <td>1323</td>\n",
       "      <td>1335</td>\n",
       "      <td>OO</td>\n",
       "      <td>3802</td>\n",
       "      <td>...</td>\n",
       "      <td>4</td>\n",
       "      <td>19</td>\n",
       "      <td>0</td>\n",
       "      <td>NaN</td>\n",
       "      <td>0</td>\n",
       "      <td>NaN</td>\n",
       "      <td>NaN</td>\n",
       "      <td>NaN</td>\n",
       "      <td>NaN</td>\n",
       "      <td>NaN</td>\n",
       "    </tr>\n",
       "    <tr>\n",
       "      <th>4</th>\n",
       "      <td>2008</td>\n",
       "      <td>5</td>\n",
       "      <td>4</td>\n",
       "      <td>7</td>\n",
       "      <td>815</td>\n",
       "      <td>820</td>\n",
       "      <td>1243</td>\n",
       "      <td>1300</td>\n",
       "      <td>WN</td>\n",
       "      <td>399</td>\n",
       "      <td>...</td>\n",
       "      <td>4</td>\n",
       "      <td>8</td>\n",
       "      <td>0</td>\n",
       "      <td>NaN</td>\n",
       "      <td>0</td>\n",
       "      <td>NaN</td>\n",
       "      <td>NaN</td>\n",
       "      <td>NaN</td>\n",
       "      <td>NaN</td>\n",
       "      <td>NaN</td>\n",
       "    </tr>\n",
       "  </tbody>\n",
       "</table>\n",
       "<p>5 rows × 29 columns</p>\n",
       "</div>"
      ],
      "text/plain": [
       "   Year  Month  DayofMonth  DayOfWeek  DepTime  CRSDepTime  ArrTime  \\\n",
       "0  2008      6          18          3     2111        2055     2308   \n",
       "1  2008      6           4          3     1426        1410     1730   \n",
       "2  2008      8           3          7     1143        1145     1501   \n",
       "3  2008      1          23          3     1141        1144     1323   \n",
       "4  2008      5           4          7      815         820     1243   \n",
       "\n",
       "   CRSArrTime UniqueCarrier  FlightNum        ...         TaxiIn  TaxiOut  \\\n",
       "0        2300            WN        242        ...              3        8   \n",
       "1        1728            XE       2380        ...              4       12   \n",
       "2        1520            WN       1769        ...              4        9   \n",
       "3        1335            OO       3802        ...              4       19   \n",
       "4        1300            WN        399        ...              4        8   \n",
       "\n",
       "   Cancelled  CancellationCode  Diverted  CarrierDelay WeatherDelay NASDelay  \\\n",
       "0          0               NaN         0           NaN          NaN      NaN   \n",
       "1          0               NaN         0           NaN          NaN      NaN   \n",
       "2          0               NaN         0           NaN          NaN      NaN   \n",
       "3          0               NaN         0           NaN          NaN      NaN   \n",
       "4          0               NaN         0           NaN          NaN      NaN   \n",
       "\n",
       "   SecurityDelay  LateAircraftDelay  \n",
       "0            NaN                NaN  \n",
       "1            NaN                NaN  \n",
       "2            NaN                NaN  \n",
       "3            NaN                NaN  \n",
       "4            NaN                NaN  \n",
       "\n",
       "[5 rows x 29 columns]"
      ]
     },
     "execution_count": 2,
     "metadata": {},
     "output_type": "execute_result"
    }
   ],
   "source": [
    "import pandas as pd\n",
    "d = pd.read_csv('2008.csv.mdlp')\n",
    "d.head()"
   ]
  },
  {
   "cell_type": "code",
   "execution_count": 14,
   "metadata": {
    "collapsed": false
   },
   "outputs": [
    {
     "data": {
      "text/plain": [
       "Year                     0\n",
       "Month                    0\n",
       "DayofMonth               0\n",
       "DayOfWeek                0\n",
       "DepTime               1399\n",
       "CRSDepTime               0\n",
       "ArrTime               1556\n",
       "CRSArrTime               0\n",
       "UniqueCarrier            0\n",
       "FlightNum                0\n",
       "TailNum                820\n",
       "ActualElapsedTime     1582\n",
       "CRSElapsedTime           9\n",
       "AirTime               1582\n",
       "ArrDelay              1582\n",
       "DepDelay              1399\n",
       "Origin                   0\n",
       "Dest                     0\n",
       "Distance                 0\n",
       "TaxiIn                1556\n",
       "TaxiOut               1406\n",
       "Cancelled                0\n",
       "CancellationCode     68589\n",
       "Diverted                 0\n",
       "CarrierDelay         54747\n",
       "WeatherDelay         54747\n",
       "NASDelay             54747\n",
       "SecurityDelay        54747\n",
       "LateAircraftDelay    54747\n",
       "dtype: int64"
      ]
     },
     "execution_count": 14,
     "metadata": {},
     "output_type": "execute_result"
    }
   ],
   "source": [
    "pd.isnull(d).sum()"
   ]
  },
  {
   "cell_type": "markdown",
   "metadata": {},
   "source": [
    "Да, пропущеные значения в данных есть"
   ]
  },
  {
   "cell_type": "code",
   "execution_count": 15,
   "metadata": {
    "collapsed": false
   },
   "outputs": [
    {
     "name": "stdout",
     "output_type": "stream",
     "text": [
      "Всего пропущенных элементов в таблице \"объект-признак: 355215\n"
     ]
    }
   ],
   "source": [
    "nulls=(pd.isnull(d).sum()).sum()\n",
    "print('Всего пропущенных элементов в таблице \"объект-признак:', nulls)"
   ]
  },
  {
   "cell_type": "code",
   "execution_count": 16,
   "metadata": {
    "collapsed": false
   },
   "outputs": [
    {
     "name": "stdout",
     "output_type": "stream",
     "text": [
      "Всего объектов имеют хотя бы один пропуск: 70000\n"
     ]
    }
   ],
   "source": [
    "nulls_obj=(pd.isnull(d).sum(axis=1)!=0)\n",
    "print('Всего объектов имеют хотя бы один пропуск:',nulls_obj.sum())"
   ]
  },
  {
   "cell_type": "code",
   "execution_count": 17,
   "metadata": {
    "collapsed": false
   },
   "outputs": [
    {
     "name": "stdout",
     "output_type": "stream",
     "text": [
      "Всего признаков имеют хотя бы одно пропущенное значение: 16\n"
     ]
    }
   ],
   "source": [
    "nulls_= (pd.isnull(d).sum()!=0)\n",
    "print('Всего признаков имеют хотя бы одно пропущенное значение:',nulls_.sum())"
   ]
  },
  {
   "cell_type": "markdown",
   "metadata": {},
   "source": [
    "Как вы понимаете, также не имеет смысла рассматривать при решении поставленной задачи объекты с пропущенным значением целевой переменной. В связи с этим ответьте на следующие вопросы и выполните соответствующие действия:\n",
    "- Имеются ли пропущенные значения в целевой переменной?\n",
    "- Проанализируйте объекты с пропущенными значениями целевой переменной. Чем вызвано это явление? Что их объединяет? Можно ли в связи с этим, на ваш взгляд, исключить какие-то признаки из рассмотрения? Обоснуйте свою точку зрения.\n",
    "\n",
    "Исключите из выборки объекты **с пропущенным значением целевой переменной и со значением целевой переменной, равным 0**, а также при необходимости исключите признаки в соответствии с вашим ответом на последний вопрос из списка и выделите целевую переменную в отдельный вектор, исключив её из матрицы \"объект-признак\"."
   ]
  },
  {
   "cell_type": "code",
   "execution_count": 18,
   "metadata": {
    "collapsed": false
   },
   "outputs": [
    {
     "name": "stdout",
     "output_type": "stream",
     "text": [
      "В целевой переменной пропусков: 1399\n"
     ]
    }
   ],
   "source": [
    "tar_nulls=(pd.isnull(d).sum())['DepDelay']\n",
    "print('В целевой переменной пропусков:',tar_nulls)"
   ]
  },
  {
   "cell_type": "markdown",
   "metadata": {},
   "source": [
    "Рассмотрим объекты с пропусками в целвой переменной:"
   ]
  },
  {
   "cell_type": "code",
   "execution_count": 19,
   "metadata": {
    "collapsed": false
   },
   "outputs": [
    {
     "data": {
      "text/plain": [
       "(1399, 29)"
      ]
     },
     "execution_count": 19,
     "metadata": {},
     "output_type": "execute_result"
    }
   ],
   "source": [
    "tar_null_obj=d[(pd.isnull(d)['DepDelay'])]\n",
    "tar_null_obj.shape"
   ]
  },
  {
   "cell_type": "markdown",
   "metadata": {},
   "source": [
    "Посмотрим на пропуски по другим признакам:"
   ]
  },
  {
   "cell_type": "code",
   "execution_count": 20,
   "metadata": {
    "collapsed": false
   },
   "outputs": [
    {
     "data": {
      "text/plain": [
       "Year                    0\n",
       "Month                   0\n",
       "DayofMonth              0\n",
       "DayOfWeek               0\n",
       "DepTime              1399\n",
       "CRSDepTime              0\n",
       "ArrTime              1399\n",
       "CRSArrTime              0\n",
       "UniqueCarrier           0\n",
       "FlightNum               0\n",
       "TailNum               820\n",
       "ActualElapsedTime    1399\n",
       "CRSElapsedTime          4\n",
       "AirTime              1399\n",
       "ArrDelay             1399\n",
       "DepDelay             1399\n",
       "Origin                  0\n",
       "Dest                    0\n",
       "Distance                0\n",
       "TaxiIn               1399\n",
       "TaxiOut              1399\n",
       "Cancelled               0\n",
       "CancellationCode        0\n",
       "Diverted                0\n",
       "CarrierDelay         1399\n",
       "WeatherDelay         1399\n",
       "NASDelay             1399\n",
       "SecurityDelay        1399\n",
       "LateAircraftDelay    1399\n",
       "dtype: int64"
      ]
     },
     "execution_count": 20,
     "metadata": {},
     "output_type": "execute_result"
    }
   ],
   "source": [
    "pd.isnull(tar_null_obj).sum()"
   ]
  },
  {
   "cell_type": "markdown",
   "metadata": {},
   "source": [
    "Посмотрим на разброс значиний каждого признака для данной подвыборки:"
   ]
  },
  {
   "cell_type": "code",
   "execution_count": 21,
   "metadata": {
    "collapsed": false
   },
   "outputs": [
    {
     "data": {
      "text/plain": [
       "Year                    0.000000\n",
       "Month                   3.703790\n",
       "DayofMonth              8.582038\n",
       "DayOfWeek               2.017931\n",
       "DepTime                      NaN\n",
       "CRSDepTime            462.681660\n",
       "ArrTime                      NaN\n",
       "CRSArrTime            480.647577\n",
       "FlightNum            2130.627486\n",
       "ActualElapsedTime            NaN\n",
       "CRSElapsedTime         57.614958\n",
       "AirTime                      NaN\n",
       "ArrDelay                     NaN\n",
       "DepDelay                     NaN\n",
       "Distance              461.709737\n",
       "TaxiIn                       NaN\n",
       "TaxiOut                      NaN\n",
       "Cancelled               0.000000\n",
       "Diverted                0.000000\n",
       "CarrierDelay                 NaN\n",
       "WeatherDelay                 NaN\n",
       "NASDelay                     NaN\n",
       "SecurityDelay                NaN\n",
       "LateAircraftDelay            NaN\n",
       "dtype: float64"
      ]
     },
     "execution_count": 21,
     "metadata": {},
     "output_type": "execute_result"
    }
   ],
   "source": [
    "np.std(tar_null_obj)"
   ]
  },
  {
   "cell_type": "code",
   "execution_count": 22,
   "metadata": {
    "collapsed": false
   },
   "outputs": [
    {
     "data": {
      "text/plain": [
       "2008    1399\n",
       "Name: Year, dtype: int64"
      ]
     },
     "execution_count": 22,
     "metadata": {},
     "output_type": "execute_result"
    }
   ],
   "source": [
    "tar_null_obj['Year'].value_counts()"
   ]
  },
  {
   "cell_type": "code",
   "execution_count": 23,
   "metadata": {
    "collapsed": false
   },
   "outputs": [
    {
     "data": {
      "text/plain": [
       "0    1399\n",
       "Name: Diverted, dtype: int64"
      ]
     },
     "execution_count": 23,
     "metadata": {},
     "output_type": "execute_result"
    }
   ],
   "source": [
    "tar_null_obj['Diverted'].value_counts()"
   ]
  },
  {
   "cell_type": "code",
   "execution_count": 24,
   "metadata": {
    "collapsed": false
   },
   "outputs": [
    {
     "data": {
      "text/plain": [
       "1    1399\n",
       "Name: Cancelled, dtype: int64"
      ]
     },
     "execution_count": 24,
     "metadata": {},
     "output_type": "execute_result"
    }
   ],
   "source": [
    "tar_null_obj['Cancelled'].value_counts()"
   ]
  },
  {
   "cell_type": "markdown",
   "metadata": {},
   "source": [
    "Три признака: Year, Diverted, Cancelled принимают только одно значение на данной подвыборке. Но чтобы понять, могут ли они помочь в предсказании целевой переменной, надо посмотреть на их дисперсию на подвыборке из объектов без пропусков в переменных."
   ]
  },
  {
   "cell_type": "markdown",
   "metadata": {},
   "source": [
    "Исключим объекты с пропусками в целевой переменной и нулевым значением."
   ]
  },
  {
   "cell_type": "code",
   "execution_count": 3,
   "metadata": {
    "collapsed": false
   },
   "outputs": [],
   "source": [
    "d1= d[((d.DepDelay!=0)&((pd.isnull(d)['DepDelay'])==False))]"
   ]
  },
  {
   "cell_type": "code",
   "execution_count": 4,
   "metadata": {
    "collapsed": false
   },
   "outputs": [
    {
     "data": {
      "text/plain": [
       "(63404, 29)"
      ]
     },
     "execution_count": 4,
     "metadata": {},
     "output_type": "execute_result"
    }
   ],
   "source": [
    "d1.shape"
   ]
  },
  {
   "cell_type": "code",
   "execution_count": 128,
   "metadata": {
    "collapsed": false
   },
   "outputs": [
    {
     "data": {
      "text/plain": [
       "Year                    0.000000\n",
       "Month                   3.413304\n",
       "DayofMonth              8.813149\n",
       "DayOfWeek               1.995788\n",
       "DepTime               478.149179\n",
       "CRSDepTime            463.294804\n",
       "ArrTime               506.800954\n",
       "CRSArrTime            482.381056\n",
       "FlightNum            1946.917688\n",
       "ActualElapsedTime      70.438409\n",
       "CRSElapsedTime         69.903126\n",
       "AirTime                67.744981\n",
       "ArrDelay               39.150248\n",
       "DepDelay               36.045843\n",
       "Distance              567.832049\n",
       "TaxiIn                  4.884242\n",
       "TaxiOut                11.381227\n",
       "Cancelled               0.013756\n",
       "Diverted                0.048904\n",
       "CarrierDelay           39.008288\n",
       "WeatherDelay           17.909441\n",
       "NASDelay               32.277248\n",
       "SecurityDelay           2.090037\n",
       "LateAircraftDelay      39.428528\n",
       "dtype: float64"
      ]
     },
     "execution_count": 128,
     "metadata": {},
     "output_type": "execute_result"
    }
   ],
   "source": [
    "np.std(d1)"
   ]
  },
  {
   "cell_type": "markdown",
   "metadata": {},
   "source": [
    "По нашим \"подозрительным\" переменным разброс также мал, посмотрим на него:"
   ]
  },
  {
   "cell_type": "code",
   "execution_count": 28,
   "metadata": {
    "collapsed": false
   },
   "outputs": [
    {
     "data": {
      "text/plain": [
       "2008    63404\n",
       "Name: Year, dtype: int64"
      ]
     },
     "execution_count": 28,
     "metadata": {},
     "output_type": "execute_result"
    }
   ],
   "source": [
    "d1['Year'].value_counts()"
   ]
  },
  {
   "cell_type": "code",
   "execution_count": 29,
   "metadata": {
    "collapsed": false
   },
   "outputs": [
    {
     "data": {
      "text/plain": [
       "0    63252\n",
       "1      152\n",
       "Name: Diverted, dtype: int64"
      ]
     },
     "execution_count": 29,
     "metadata": {},
     "output_type": "execute_result"
    }
   ],
   "source": [
    "d1['Diverted'].value_counts()"
   ]
  },
  {
   "cell_type": "code",
   "execution_count": 30,
   "metadata": {
    "collapsed": false
   },
   "outputs": [
    {
     "data": {
      "text/plain": [
       "0    63392\n",
       "1       12\n",
       "Name: Cancelled, dtype: int64"
      ]
     },
     "execution_count": 30,
     "metadata": {},
     "output_type": "execute_result"
    }
   ],
   "source": [
    "d1['Cancelled'].value_counts()"
   ]
  },
  {
   "cell_type": "markdown",
   "metadata": {},
   "source": [
    "Явно исключаем переменную Year и Cancelled. Так как все наблюдения в выборке за 2008 год и практически все рейсы, по которым есть данные целевой переменной не были отменены. Также можем исключить и переменную CancellationCode (тк исключаем Cancelled).Переменная Diverted только в 152 случаях их 70000 принимает значение 1, но будем считать, что она может оказаться значимой. "
   ]
  },
  {
   "cell_type": "code",
   "execution_count": 5,
   "metadata": {
    "collapsed": false
   },
   "outputs": [
    {
     "data": {
      "text/html": [
       "<div>\n",
       "<table border=\"1\" class=\"dataframe\">\n",
       "  <thead>\n",
       "    <tr style=\"text-align: right;\">\n",
       "      <th></th>\n",
       "      <th>Month</th>\n",
       "      <th>DayofMonth</th>\n",
       "      <th>DayOfWeek</th>\n",
       "      <th>DepTime</th>\n",
       "      <th>CRSDepTime</th>\n",
       "      <th>ArrTime</th>\n",
       "      <th>CRSArrTime</th>\n",
       "      <th>UniqueCarrier</th>\n",
       "      <th>FlightNum</th>\n",
       "      <th>TailNum</th>\n",
       "      <th>...</th>\n",
       "      <th>Dest</th>\n",
       "      <th>Distance</th>\n",
       "      <th>TaxiIn</th>\n",
       "      <th>TaxiOut</th>\n",
       "      <th>Diverted</th>\n",
       "      <th>CarrierDelay</th>\n",
       "      <th>WeatherDelay</th>\n",
       "      <th>NASDelay</th>\n",
       "      <th>SecurityDelay</th>\n",
       "      <th>LateAircraftDelay</th>\n",
       "    </tr>\n",
       "  </thead>\n",
       "  <tbody>\n",
       "    <tr>\n",
       "      <th>0</th>\n",
       "      <td>6</td>\n",
       "      <td>18</td>\n",
       "      <td>3</td>\n",
       "      <td>2111</td>\n",
       "      <td>2055</td>\n",
       "      <td>2308</td>\n",
       "      <td>2300</td>\n",
       "      <td>WN</td>\n",
       "      <td>242</td>\n",
       "      <td>N699SW</td>\n",
       "      <td>...</td>\n",
       "      <td>CLE</td>\n",
       "      <td>307</td>\n",
       "      <td>3</td>\n",
       "      <td>8</td>\n",
       "      <td>0</td>\n",
       "      <td>NaN</td>\n",
       "      <td>NaN</td>\n",
       "      <td>NaN</td>\n",
       "      <td>NaN</td>\n",
       "      <td>NaN</td>\n",
       "    </tr>\n",
       "    <tr>\n",
       "      <th>1</th>\n",
       "      <td>6</td>\n",
       "      <td>4</td>\n",
       "      <td>3</td>\n",
       "      <td>1426</td>\n",
       "      <td>1410</td>\n",
       "      <td>1730</td>\n",
       "      <td>1728</td>\n",
       "      <td>XE</td>\n",
       "      <td>2380</td>\n",
       "      <td>N15980</td>\n",
       "      <td>...</td>\n",
       "      <td>AVL</td>\n",
       "      <td>834</td>\n",
       "      <td>4</td>\n",
       "      <td>12</td>\n",
       "      <td>0</td>\n",
       "      <td>NaN</td>\n",
       "      <td>NaN</td>\n",
       "      <td>NaN</td>\n",
       "      <td>NaN</td>\n",
       "      <td>NaN</td>\n",
       "    </tr>\n",
       "    <tr>\n",
       "      <th>2</th>\n",
       "      <td>8</td>\n",
       "      <td>3</td>\n",
       "      <td>7</td>\n",
       "      <td>1143</td>\n",
       "      <td>1145</td>\n",
       "      <td>1501</td>\n",
       "      <td>1520</td>\n",
       "      <td>WN</td>\n",
       "      <td>1769</td>\n",
       "      <td>N464WN</td>\n",
       "      <td>...</td>\n",
       "      <td>TPA</td>\n",
       "      <td>997</td>\n",
       "      <td>4</td>\n",
       "      <td>9</td>\n",
       "      <td>0</td>\n",
       "      <td>NaN</td>\n",
       "      <td>NaN</td>\n",
       "      <td>NaN</td>\n",
       "      <td>NaN</td>\n",
       "      <td>NaN</td>\n",
       "    </tr>\n",
       "    <tr>\n",
       "      <th>3</th>\n",
       "      <td>1</td>\n",
       "      <td>23</td>\n",
       "      <td>3</td>\n",
       "      <td>1141</td>\n",
       "      <td>1144</td>\n",
       "      <td>1323</td>\n",
       "      <td>1335</td>\n",
       "      <td>OO</td>\n",
       "      <td>3802</td>\n",
       "      <td>N465SW</td>\n",
       "      <td>...</td>\n",
       "      <td>FCA</td>\n",
       "      <td>532</td>\n",
       "      <td>4</td>\n",
       "      <td>19</td>\n",
       "      <td>0</td>\n",
       "      <td>NaN</td>\n",
       "      <td>NaN</td>\n",
       "      <td>NaN</td>\n",
       "      <td>NaN</td>\n",
       "      <td>NaN</td>\n",
       "    </tr>\n",
       "    <tr>\n",
       "      <th>4</th>\n",
       "      <td>5</td>\n",
       "      <td>4</td>\n",
       "      <td>7</td>\n",
       "      <td>815</td>\n",
       "      <td>820</td>\n",
       "      <td>1243</td>\n",
       "      <td>1300</td>\n",
       "      <td>WN</td>\n",
       "      <td>399</td>\n",
       "      <td>N489WN</td>\n",
       "      <td>...</td>\n",
       "      <td>AUS</td>\n",
       "      <td>1090</td>\n",
       "      <td>4</td>\n",
       "      <td>8</td>\n",
       "      <td>0</td>\n",
       "      <td>NaN</td>\n",
       "      <td>NaN</td>\n",
       "      <td>NaN</td>\n",
       "      <td>NaN</td>\n",
       "      <td>NaN</td>\n",
       "    </tr>\n",
       "  </tbody>\n",
       "</table>\n",
       "<p>5 rows × 26 columns</p>\n",
       "</div>"
      ],
      "text/plain": [
       "   Month  DayofMonth  DayOfWeek  DepTime  CRSDepTime  ArrTime  CRSArrTime  \\\n",
       "0      6          18          3     2111        2055     2308        2300   \n",
       "1      6           4          3     1426        1410     1730        1728   \n",
       "2      8           3          7     1143        1145     1501        1520   \n",
       "3      1          23          3     1141        1144     1323        1335   \n",
       "4      5           4          7      815         820     1243        1300   \n",
       "\n",
       "  UniqueCarrier  FlightNum TailNum        ...          Dest  Distance  TaxiIn  \\\n",
       "0            WN        242  N699SW        ...           CLE       307       3   \n",
       "1            XE       2380  N15980        ...           AVL       834       4   \n",
       "2            WN       1769  N464WN        ...           TPA       997       4   \n",
       "3            OO       3802  N465SW        ...           FCA       532       4   \n",
       "4            WN        399  N489WN        ...           AUS      1090       4   \n",
       "\n",
       "   TaxiOut  Diverted CarrierDelay WeatherDelay  NASDelay  SecurityDelay  \\\n",
       "0        8         0          NaN          NaN       NaN            NaN   \n",
       "1       12         0          NaN          NaN       NaN            NaN   \n",
       "2        9         0          NaN          NaN       NaN            NaN   \n",
       "3       19         0          NaN          NaN       NaN            NaN   \n",
       "4        8         0          NaN          NaN       NaN            NaN   \n",
       "\n",
       "   LateAircraftDelay  \n",
       "0                NaN  \n",
       "1                NaN  \n",
       "2                NaN  \n",
       "3                NaN  \n",
       "4                NaN  \n",
       "\n",
       "[5 rows x 26 columns]"
      ]
     },
     "execution_count": 5,
     "metadata": {},
     "output_type": "execute_result"
    }
   ],
   "source": [
    "d2=d1.drop(['Year','Cancelled', 'CancellationCode'], 1).reset_index(drop=True)\n",
    "d2.head()"
   ]
  },
  {
   "cell_type": "markdown",
   "metadata": {},
   "source": [
    "Выделим отдельно целевую переменную:"
   ]
  },
  {
   "cell_type": "code",
   "execution_count": 6,
   "metadata": {
    "collapsed": false
   },
   "outputs": [],
   "source": [
    "tar=d2.DepDelay\n",
    "X=d2.drop(['DepDelay'],1).reset_index(drop=True)"
   ]
  },
  {
   "cell_type": "markdown",
   "metadata": {},
   "source": [
    "**7. (1 балл)** Обратите внимание, что признаки DepTime, CRSDepTime, ArrTime, CRSArrTime приведены в формате hhmm, в связи с чем будет не вполне корректно рассматривать их как вещественные.\n",
    "\n",
    "Преобразуйте каждый признак FeatureName из указанных в пару новых признаков FeatureName\\_Hour, FeatureName\\_Minute, разделив каждое из значений на часы и минуты. Не забудьте при этом исключить исходный признак из выборки. В случае, если значение признака отсутствует, значения двух новых признаков, его заменяющих, также должны отсутствовать. \n",
    "\n",
    "Например, признак DepTime необходимо заменить на пару признаков DepTime_Hour, DepTime_Minute. При этом, например, значение 155 исходного признака будет преобразовано в значения 1 и 55 признаков DepTime_Hour, DepTime_Minute соответственно."
   ]
  },
  {
   "cell_type": "markdown",
   "metadata": {},
   "source": [
    "Создадим новые столбцы и заполним их значениями, которые будем преобразовывать и сразу удалим ненужные старые признаки"
   ]
  },
  {
   "cell_type": "code",
   "execution_count": 7,
   "metadata": {
    "collapsed": false
   },
   "outputs": [],
   "source": [
    "X['DepTime_Hour']=X['DepTime']\n",
    "X['DepTime_Minute'] =X['DepTime']\n",
    "X['CRSDepTime_Hour']=X['CRSDepTime']\n",
    "X['CRSDepTime_Minute'] =X['CRSDepTime']\n",
    "X['ArrTime_Hour']=X['ArrTime']\n",
    "X['ArrTime_Minute'] = X['ArrTime']\n",
    "X['CRSArrTime_Hour']=X['CRSArrTime'] \n",
    "X['CRSArrTime_Minute'] = X['CRSArrTime']\n",
    "X=X.drop(['DepTime','CRSDepTime','ArrTime','CRSArrTime'],1).reset_index(drop=True)"
   ]
  },
  {
   "cell_type": "code",
   "execution_count": 8,
   "metadata": {
    "collapsed": false
   },
   "outputs": [],
   "source": [
    "X['DepTime_Hour']=X['DepTime_Hour']//100\n",
    "X['CRSDepTime_Hour']=X['CRSDepTime_Hour']//100\n",
    "X['ArrTime_Hour']=X['ArrTime_Hour']//100\n",
    "X['CRSArrTime_Hour']=X['CRSArrTime_Hour']//100\n",
    "X['DepTime_Minute']=X['DepTime_Minute']%100\n",
    "X['CRSDepTime_Minute']=X['CRSDepTime_Minute']%100\n",
    "X['ArrTime_Minute']=X['ArrTime_Minute']%100 \n",
    "X['CRSArrTime_Minute']=X['CRSArrTime_Minute']%100"
   ]
  },
  {
   "cell_type": "markdown",
   "metadata": {},
   "source": [
    "**8. (0.5 балла)** Некоторые из признаков, отличных от целевой переменной, могут оказывать чересчур значимое влияние на прогноз, поскольку по своему смыслу содержат большую долю информации о значении целевой переменной. Изучите описание датасета и исключите признаки, сильно коррелирующие с ответами. Ваш выбор признаков для исключения из выборки обоснуйте. Кроме того, исключите признаки TailNum и Year."
   ]
  },
  {
   "cell_type": "markdown",
   "metadata": {},
   "source": [
    "В датасете многие признаки также как и целевая переменная показывают задержку, поэтому корреляция целевой переменной с ними будет большая, но на тестово выборке данных по этим переменным не будет и поэтому в прогнозе они участвовать не будут. Найдем корреляцию между признаками, но надо сначала объединить обратно матрицу с целевой переменной."
   ]
  },
  {
   "cell_type": "code",
   "execution_count": 9,
   "metadata": {
    "collapsed": true
   },
   "outputs": [],
   "source": [
    "X['DepDelay']=tar"
   ]
  },
  {
   "cell_type": "code",
   "execution_count": 10,
   "metadata": {
    "collapsed": false
   },
   "outputs": [
    {
     "data": {
      "text/plain": [
       "Index(['Month', 'DayofMonth', 'DayOfWeek', 'UniqueCarrier', 'FlightNum',\n",
       "       'TailNum', 'ActualElapsedTime', 'CRSElapsedTime', 'AirTime', 'ArrDelay',\n",
       "       'Origin', 'Dest', 'Distance', 'TaxiIn', 'TaxiOut', 'Diverted',\n",
       "       'CarrierDelay', 'WeatherDelay', 'NASDelay', 'SecurityDelay',\n",
       "       'LateAircraftDelay', 'DepTime_Hour', 'DepTime_Minute',\n",
       "       'CRSDepTime_Hour', 'CRSDepTime_Minute', 'ArrTime_Hour',\n",
       "       'ArrTime_Minute', 'CRSArrTime_Hour', 'CRSArrTime_Minute'],\n",
       "      dtype='object')"
      ]
     },
     "execution_count": 10,
     "metadata": {},
     "output_type": "execute_result"
    }
   ],
   "source": [
    "X.columns[:-1]"
   ]
  },
  {
   "cell_type": "code",
   "execution_count": 94,
   "metadata": {
    "collapsed": false
   },
   "outputs": [
    {
     "name": "stdout",
     "output_type": "stream",
     "text": [
      "Корреляция с целевой переменной: ('ArrDelay', 0.93352593848194243)\n"
     ]
    }
   ],
   "source": [
    "a=[]\n",
    "for i in X.columns[:-1]:\n",
    "    try:\n",
    "        if abs(X[i].corr(tar)) >= 0.7:\n",
    "            print('Корреляция с целевой переменной:',(i, (X[i].corr(tar))))\n",
    "    except TypeError:\n",
    "        a.append('null')\n",
    "                "
   ]
  },
  {
   "cell_type": "code",
   "execution_count": 11,
   "metadata": {
    "collapsed": false
   },
   "outputs": [],
   "source": [
    "X= X.drop(['ArrDelay'],axis=1).reset_index(drop=True)"
   ]
  },
  {
   "cell_type": "markdown",
   "metadata": {},
   "source": [
    "Признаки которые мы создавали с минутами и часами явно будут сильно коррелировать между собой. Проверим"
   ]
  },
  {
   "cell_type": "code",
   "execution_count": 179,
   "metadata": {
    "collapsed": false
   },
   "outputs": [
    {
     "name": "stdout",
     "output_type": "stream",
     "text": [
      "Высокая корреляция наблюдается между: ('ActualElapsedTime', 'ActualElapsedTime', 0.99999999999999978)\n",
      "Высокая корреляция наблюдается между: ('ActualElapsedTime', 'CRSElapsedTime', 0.97997930142573386)\n",
      "Высокая корреляция наблюдается между: ('ActualElapsedTime', 'AirTime', 0.98440124510666194)\n",
      "Высокая корреляция наблюдается между: ('ActualElapsedTime', 'Distance', 0.96508855709566399)\n",
      "Высокая корреляция наблюдается между: ('CRSElapsedTime', 'ActualElapsedTime', 0.97997930142573375)\n",
      "Высокая корреляция наблюдается между: ('CRSElapsedTime', 'AirTime', 0.98829345460618712)\n",
      "Высокая корреляция наблюдается между: ('CRSElapsedTime', 'Distance', 0.98347767148977894)\n",
      "Высокая корреляция наблюдается между: ('AirTime', 'ActualElapsedTime', 0.98440124510666205)\n",
      "Высокая корреляция наблюдается между: ('AirTime', 'CRSElapsedTime', 0.98829345460618712)\n",
      "Высокая корреляция наблюдается между: ('AirTime', 'AirTime', 0.99999999999999978)\n",
      "Высокая корреляция наблюдается между: ('AirTime', 'Distance', 0.98322204337239227)\n",
      "Высокая корреляция наблюдается между: ('Distance', 'ActualElapsedTime', 0.96508855709566388)\n",
      "Высокая корреляция наблюдается между: ('Distance', 'CRSElapsedTime', 0.98347767148977905)\n",
      "Высокая корреляция наблюдается между: ('Distance', 'AirTime', 0.98322204337239216)\n",
      "Высокая корреляция наблюдается между: ('Distance', 'Distance', 0.99999999999999978)\n",
      "Высокая корреляция наблюдается между: ('LateAircraftDelay', 'LateAircraftDelay', 0.99999999999999978)\n",
      "Высокая корреляция наблюдается между: ('DepTime_Hour', 'CRSDepTime_Hour', 0.95959740799223814)\n",
      "Высокая корреляция наблюдается между: ('DepTime_Hour', 'ArrTime_Hour', 0.70696905346585104)\n",
      "Высокая корреляция наблюдается между: ('DepTime_Hour', 'CRSArrTime_Hour', 0.78786810306712218)\n",
      "Высокая корреляция наблюдается между: ('CRSDepTime_Hour', 'DepTime_Hour', 0.95959740799223814)\n",
      "Высокая корреляция наблюдается между: ('CRSDepTime_Hour', 'CRSArrTime_Hour', 0.78594064599070579)\n",
      "Высокая корреляция наблюдается между: ('ArrTime_Hour', 'DepTime_Hour', 0.70696905346585104)\n",
      "Высокая корреляция наблюдается между: ('ArrTime_Hour', 'CRSArrTime_Hour', 0.85228386305986237)\n",
      "Высокая корреляция наблюдается между: ('ArrTime_Minute', 'ArrTime_Minute', 0.99999999999999978)\n",
      "Высокая корреляция наблюдается между: ('CRSArrTime_Hour', 'DepTime_Hour', 0.78786810306712218)\n",
      "Высокая корреляция наблюдается между: ('CRSArrTime_Hour', 'CRSDepTime_Hour', 0.78594064599070579)\n",
      "Высокая корреляция наблюдается между: ('CRSArrTime_Hour', 'ArrTime_Hour', 0.85228386305986248)\n"
     ]
    }
   ],
   "source": [
    "a=[]\n",
    "for i in X.columns[:-1]:\n",
    "    for j in X.columns[:-1]:\n",
    "        try:\n",
    "            if abs(X[i].corr(X[j])) >= 0.7:\n",
    "                if abs(X[i].corr(X[j])) <1:\n",
    "                    print('Высокая корреляция наблюдается между:',(i,j, (X[i].corr(X[j]))))\n",
    "        except TypeError:\n",
    "            a.append('null')\n",
    "\n",
    "\n",
    "            "
   ]
  },
  {
   "cell_type": "markdown",
   "metadata": {},
   "source": [
    "Можно удалить признаки сильно скоррелированные между собой, точнее оставить некоторые. Оставим 'Distance' и 'ArrTime_Hour'. А все признаки с минутами вообще смысла  по-моему не имеют, удалим тоже. "
   ]
  },
  {
   "cell_type": "code",
   "execution_count": 12,
   "metadata": {
    "collapsed": false
   },
   "outputs": [
    {
     "data": {
      "text/plain": [
       "Index(['Month', 'DayofMonth', 'DayOfWeek', 'UniqueCarrier', 'FlightNum',\n",
       "       'TailNum', 'ActualElapsedTime', 'CRSElapsedTime', 'AirTime', 'Origin',\n",
       "       'Dest', 'Distance', 'TaxiIn', 'TaxiOut', 'Diverted', 'CarrierDelay',\n",
       "       'WeatherDelay', 'NASDelay', 'SecurityDelay', 'LateAircraftDelay',\n",
       "       'DepTime_Hour', 'DepTime_Minute', 'CRSDepTime_Hour',\n",
       "       'CRSDepTime_Minute', 'ArrTime_Hour', 'ArrTime_Minute',\n",
       "       'CRSArrTime_Hour', 'CRSArrTime_Minute', 'DepDelay'],\n",
       "      dtype='object')"
      ]
     },
     "execution_count": 12,
     "metadata": {},
     "output_type": "execute_result"
    }
   ],
   "source": [
    "X.columns"
   ]
  },
  {
   "cell_type": "code",
   "execution_count": 13,
   "metadata": {
    "collapsed": false
   },
   "outputs": [],
   "source": [
    "X=X.drop([ 'ActualElapsedTime','AirTime','CRSElapsedTime','DepTime_Hour',\n",
    "          'CRSDepTime_Hour','CRSArrTime_Hour','ArrTime_Minute','DepTime_Minute',\n",
    "          'CRSDepTime_Minute','CRSArrTime_Minute'],axis=1).reset_index(drop=True)"
   ]
  },
  {
   "cell_type": "code",
   "execution_count": 14,
   "metadata": {
    "collapsed": true
   },
   "outputs": [],
   "source": [
    "X=X.drop(['TailNum'],1).reset_index(drop=True)"
   ]
  },
  {
   "cell_type": "markdown",
   "metadata": {},
   "source": [
    "Приведем данные к виду, пригодному для обучения линейных моделей. Для этого вещественные признаки надо отмасштабировать, а категориальные — привести к числовому виду. Также надо устранить пропуски в данных."
   ]
  },
  {
   "cell_type": "markdown",
   "metadata": {},
   "source": [
    "**9*. (1 бонусный балл) ** В первую очередь поймем, зачем необходимо применять масштабирование. Следующие ячейки с кодом построят гистограммы для 3 вещественных признаков выборки."
   ]
  },
  {
   "cell_type": "code",
   "execution_count": 15,
   "metadata": {
    "collapsed": true
   },
   "outputs": [],
   "source": [
    "%matplotlib inline"
   ]
  },
  {
   "cell_type": "code",
   "execution_count": 16,
   "metadata": {
    "collapsed": false
   },
   "outputs": [],
   "source": [
    "tar=X.DepDelay\n",
    "X=X.drop(['DepDelay'],1)"
   ]
  },
  {
   "cell_type": "code",
   "execution_count": 425,
   "metadata": {
    "collapsed": false,
    "scrolled": true
   },
   "outputs": [
    {
     "data": {
      "text/plain": [
       "<matplotlib.axes._subplots.AxesSubplot at 0x175903710>"
      ]
     },
     "execution_count": 425,
     "metadata": {},
     "output_type": "execute_result"
    },
    {
     "data": {
      "image/png": "[encoded data removed]",
      "text/plain": [
       "<matplotlib.figure.Figure at 0x18debf748>"
      ]
     },
     "metadata": {},
     "output_type": "display_data"
    }
   ],
   "source": [
    "X['ArrTime_Hour'].hist(bins=20,color=\"purple\",alpha=0.4)"
   ]
  },
  {
   "cell_type": "code",
   "execution_count": 29,
   "metadata": {
    "collapsed": false
   },
   "outputs": [
    {
     "data": {
      "text/plain": [
       "<matplotlib.axes._subplots.AxesSubplot at 0x1097e83c8>"
      ]
     },
     "execution_count": 29,
     "metadata": {},
     "output_type": "execute_result"
    },
    {
     "data": {
      "image/png": "[encoded data removed]",
      "text/plain": [
       "<matplotlib.figure.Figure at 0x10af73a20>"
      ]
     },
     "metadata": {},
     "output_type": "display_data"
    }
   ],
   "source": [
    "X['TaxiIn'].hist(bins=20,color=\"purple\",alpha=0.3)"
   ]
  },
  {
   "cell_type": "code",
   "execution_count": 30,
   "metadata": {
    "collapsed": false
   },
   "outputs": [
    {
     "data": {
      "text/plain": [
       "<matplotlib.axes._subplots.AxesSubplot at 0x113f18780>"
      ]
     },
     "execution_count": 30,
     "metadata": {},
     "output_type": "execute_result"
    },
    {
     "data": {
      "image/png": "[encoded data removed]",
      "text/plain": [
       "<matplotlib.figure.Figure at 0x113fb8780>"
      ]
     },
     "metadata": {},
     "output_type": "display_data"
    }
   ],
   "source": [
    "X['FlightNum'].hist(bins=20,color=\"purple\",alpha=0.2)"
   ]
  },
  {
   "cell_type": "markdown",
   "metadata": {},
   "source": [
    "Какую проблему вы наблюдаете на этих графиках? Как масштабирование поможет её исправить?"
   ]
  },
  {
   "cell_type": "markdown",
   "metadata": {},
   "source": [
    "Мы видим, что значения различнх признаков отличаются на порядки (цена деления у одних 5, а у других  1000), при оценке коэффициентов регрессии, меньшие по масштабу признаки будут иметь бОльшие веса, а признаки измеряемые в высоких порядках будут иметь маленькие беты, что плохо интерпретируемо. Плюс по графикам видно, что разброс одного признака 0-8000, а другого 0-40, поэтому также необхдимо разделить на стандартные отклонения, чтобы привести признаки в сравнимый вид и придать интерпретируемость весам в регресии."
   ]
  },
  {
   "cell_type": "markdown",
   "metadata": {},
   "source": [
    "Масштабирование как раз решает эту проблему (так как мы вычитаем м.о. и делим на ст. отклонение)"
   ]
  },
  {
   "cell_type": "markdown",
   "metadata": {},
   "source": [
    "**10. (1 балл)** Вдобавок к масштабированию, некоторые из признаков в нашем датасете являются категориальными. Типичным подходом к работе с ними является бинарное, или [one-hot-кодирование](https://en.wikipedia.org/wiki/One-hot).\n",
    "\n",
    "\n",
    "Реализуйте функцию transform_data, которая принимает на вход DataFrame с признаками и выполняет следующие шаги:\n",
    "1. Замена пропущенных значений на нули для вещественных признаков и на строки 'nan' для категориальных.\n",
    "2. Масштабирование вещественных признаков с помощью [StandardScaler](http://scikit-learn.org/stable/modules/generated/sklearn.preprocessing.StandardScaler.html).\n",
    "3. One-hot-кодирование категориальных признаков с помощью [DictVectorizer](http://scikit-learn.org/stable/modules/generated/sklearn.feature_extraction.DictVectorizer.html) или функции [pd.get_dummies](http://pandas.pydata.org/pandas-docs/stable/generated/pandas.get_dummies.html).\n",
    "\n",
    "Метод должен возвращать преобразованный DataFrame, который должна состоять из масштабированных вещественных признаков и закодированных категориальных (исходные признаки должны быть исключены из выборки)."
   ]
  },
  {
   "cell_type": "code",
   "execution_count": 17,
   "metadata": {
    "collapsed": true
   },
   "outputs": [],
   "source": [
    "from sklearn.preprocessing import StandardScaler"
   ]
  },
  {
   "cell_type": "markdown",
   "metadata": {},
   "source": [
    "Разделим признаки на вещественные и категориальные ( ничего страшного не случится если мы вместе с вещественными отмасштабируем бинарные, кроме того что беты регрессии будут по-другому интерпретироваться)"
   ]
  },
  {
   "cell_type": "code",
   "execution_count": 18,
   "metadata": {
    "collapsed": false
   },
   "outputs": [],
   "source": [
    "def transform_data(X):\n",
    "    cat= X.select_dtypes(exclude = [np.number, np.int64])\n",
    "    num=X.select_dtypes([np.number, np.int64])\n",
    "    for i in num:\n",
    "        X[i].fillna(0, inplace = True)\n",
    "        X[i] = StandardScaler().fit_transform(X[i])\n",
    "    \n",
    "    for i in cat:\n",
    "        X[i].fillna(\"nan\", inplace = True)\n",
    "    dum=pd.get_dummies(cat)\n",
    "    X=pd.concat([dum,num], axis = 1)\n",
    "\n",
    "    return X\n"
   ]
  },
  {
   "cell_type": "markdown",
   "metadata": {},
   "source": [
    "Примените функцию transform_data к данным. Сколько признаков получилось после преобразования?"
   ]
  },
  {
   "cell_type": "code",
   "execution_count": 22,
   "metadata": {
    "collapsed": false,
    "scrolled": true
   },
   "outputs": [
    {
     "name": "stderr",
     "output_type": "stream",
     "text": [
      "/Users/Air11/anaconda/lib/python3.5/site-packages/sklearn/preprocessing/data.py:586: DeprecationWarning: Passing 1d arrays as data is deprecated in 0.17 and will raise ValueError in 0.19. Reshape your data either using X.reshape(-1, 1) if your data has a single feature or X.reshape(1, -1) if it contains a single sample.\n",
      "  warnings.warn(DEPRECATION_MSG_1D, DeprecationWarning)\n",
      "/Users/Air11/anaconda/lib/python3.5/site-packages/sklearn/preprocessing/data.py:649: DeprecationWarning: Passing 1d arrays as data is deprecated in 0.17 and will raise ValueError in 0.19. Reshape your data either using X.reshape(-1, 1) if your data has a single feature or X.reshape(1, -1) if it contains a single sample.\n",
      "  warnings.warn(DEPRECATION_MSG_1D, DeprecationWarning)\n",
      "/Users/Air11/anaconda/lib/python3.5/site-packages/sklearn/preprocessing/data.py:586: DeprecationWarning: Passing 1d arrays as data is deprecated in 0.17 and will raise ValueError in 0.19. Reshape your data either using X.reshape(-1, 1) if your data has a single feature or X.reshape(1, -1) if it contains a single sample.\n",
      "  warnings.warn(DEPRECATION_MSG_1D, DeprecationWarning)\n",
      "/Users/Air11/anaconda/lib/python3.5/site-packages/sklearn/preprocessing/data.py:649: DeprecationWarning: Passing 1d arrays as data is deprecated in 0.17 and will raise ValueError in 0.19. Reshape your data either using X.reshape(-1, 1) if your data has a single feature or X.reshape(1, -1) if it contains a single sample.\n",
      "  warnings.warn(DEPRECATION_MSG_1D, DeprecationWarning)\n",
      "/Users/Air11/anaconda/lib/python3.5/site-packages/sklearn/preprocessing/data.py:586: DeprecationWarning: Passing 1d arrays as data is deprecated in 0.17 and will raise ValueError in 0.19. Reshape your data either using X.reshape(-1, 1) if your data has a single feature or X.reshape(1, -1) if it contains a single sample.\n",
      "  warnings.warn(DEPRECATION_MSG_1D, DeprecationWarning)\n",
      "/Users/Air11/anaconda/lib/python3.5/site-packages/sklearn/preprocessing/data.py:649: DeprecationWarning: Passing 1d arrays as data is deprecated in 0.17 and will raise ValueError in 0.19. Reshape your data either using X.reshape(-1, 1) if your data has a single feature or X.reshape(1, -1) if it contains a single sample.\n",
      "  warnings.warn(DEPRECATION_MSG_1D, DeprecationWarning)\n",
      "/Users/Air11/anaconda/lib/python3.5/site-packages/sklearn/preprocessing/data.py:586: DeprecationWarning: Passing 1d arrays as data is deprecated in 0.17 and will raise ValueError in 0.19. Reshape your data either using X.reshape(-1, 1) if your data has a single feature or X.reshape(1, -1) if it contains a single sample.\n",
      "  warnings.warn(DEPRECATION_MSG_1D, DeprecationWarning)\n",
      "/Users/Air11/anaconda/lib/python3.5/site-packages/sklearn/preprocessing/data.py:649: DeprecationWarning: Passing 1d arrays as data is deprecated in 0.17 and will raise ValueError in 0.19. Reshape your data either using X.reshape(-1, 1) if your data has a single feature or X.reshape(1, -1) if it contains a single sample.\n",
      "  warnings.warn(DEPRECATION_MSG_1D, DeprecationWarning)\n",
      "/Users/Air11/anaconda/lib/python3.5/site-packages/sklearn/preprocessing/data.py:586: DeprecationWarning: Passing 1d arrays as data is deprecated in 0.17 and will raise ValueError in 0.19. Reshape your data either using X.reshape(-1, 1) if your data has a single feature or X.reshape(1, -1) if it contains a single sample.\n",
      "  warnings.warn(DEPRECATION_MSG_1D, DeprecationWarning)\n",
      "/Users/Air11/anaconda/lib/python3.5/site-packages/sklearn/preprocessing/data.py:649: DeprecationWarning: Passing 1d arrays as data is deprecated in 0.17 and will raise ValueError in 0.19. Reshape your data either using X.reshape(-1, 1) if your data has a single feature or X.reshape(1, -1) if it contains a single sample.\n",
      "  warnings.warn(DEPRECATION_MSG_1D, DeprecationWarning)\n",
      "/Users/Air11/anaconda/lib/python3.5/site-packages/sklearn/preprocessing/data.py:586: DeprecationWarning: Passing 1d arrays as data is deprecated in 0.17 and will raise ValueError in 0.19. Reshape your data either using X.reshape(-1, 1) if your data has a single feature or X.reshape(1, -1) if it contains a single sample.\n",
      "  warnings.warn(DEPRECATION_MSG_1D, DeprecationWarning)\n",
      "/Users/Air11/anaconda/lib/python3.5/site-packages/sklearn/preprocessing/data.py:649: DeprecationWarning: Passing 1d arrays as data is deprecated in 0.17 and will raise ValueError in 0.19. Reshape your data either using X.reshape(-1, 1) if your data has a single feature or X.reshape(1, -1) if it contains a single sample.\n",
      "  warnings.warn(DEPRECATION_MSG_1D, DeprecationWarning)\n",
      "/Users/Air11/anaconda/lib/python3.5/site-packages/sklearn/preprocessing/data.py:586: DeprecationWarning: Passing 1d arrays as data is deprecated in 0.17 and will raise ValueError in 0.19. Reshape your data either using X.reshape(-1, 1) if your data has a single feature or X.reshape(1, -1) if it contains a single sample.\n",
      "  warnings.warn(DEPRECATION_MSG_1D, DeprecationWarning)\n",
      "/Users/Air11/anaconda/lib/python3.5/site-packages/sklearn/preprocessing/data.py:649: DeprecationWarning: Passing 1d arrays as data is deprecated in 0.17 and will raise ValueError in 0.19. Reshape your data either using X.reshape(-1, 1) if your data has a single feature or X.reshape(1, -1) if it contains a single sample.\n",
      "  warnings.warn(DEPRECATION_MSG_1D, DeprecationWarning)\n",
      "/Users/Air11/anaconda/lib/python3.5/site-packages/sklearn/preprocessing/data.py:586: DeprecationWarning: Passing 1d arrays as data is deprecated in 0.17 and will raise ValueError in 0.19. Reshape your data either using X.reshape(-1, 1) if your data has a single feature or X.reshape(1, -1) if it contains a single sample.\n",
      "  warnings.warn(DEPRECATION_MSG_1D, DeprecationWarning)\n",
      "/Users/Air11/anaconda/lib/python3.5/site-packages/sklearn/preprocessing/data.py:649: DeprecationWarning: Passing 1d arrays as data is deprecated in 0.17 and will raise ValueError in 0.19. Reshape your data either using X.reshape(-1, 1) if your data has a single feature or X.reshape(1, -1) if it contains a single sample.\n",
      "  warnings.warn(DEPRECATION_MSG_1D, DeprecationWarning)\n",
      "/Users/Air11/anaconda/lib/python3.5/site-packages/sklearn/preprocessing/data.py:586: DeprecationWarning: Passing 1d arrays as data is deprecated in 0.17 and will raise ValueError in 0.19. Reshape your data either using X.reshape(-1, 1) if your data has a single feature or X.reshape(1, -1) if it contains a single sample.\n",
      "  warnings.warn(DEPRECATION_MSG_1D, DeprecationWarning)\n",
      "/Users/Air11/anaconda/lib/python3.5/site-packages/sklearn/preprocessing/data.py:649: DeprecationWarning: Passing 1d arrays as data is deprecated in 0.17 and will raise ValueError in 0.19. Reshape your data either using X.reshape(-1, 1) if your data has a single feature or X.reshape(1, -1) if it contains a single sample.\n",
      "  warnings.warn(DEPRECATION_MSG_1D, DeprecationWarning)\n",
      "/Users/Air11/anaconda/lib/python3.5/site-packages/sklearn/preprocessing/data.py:586: DeprecationWarning: Passing 1d arrays as data is deprecated in 0.17 and will raise ValueError in 0.19. Reshape your data either using X.reshape(-1, 1) if your data has a single feature or X.reshape(1, -1) if it contains a single sample.\n",
      "  warnings.warn(DEPRECATION_MSG_1D, DeprecationWarning)\n",
      "/Users/Air11/anaconda/lib/python3.5/site-packages/sklearn/preprocessing/data.py:649: DeprecationWarning: Passing 1d arrays as data is deprecated in 0.17 and will raise ValueError in 0.19. Reshape your data either using X.reshape(-1, 1) if your data has a single feature or X.reshape(1, -1) if it contains a single sample.\n",
      "  warnings.warn(DEPRECATION_MSG_1D, DeprecationWarning)\n",
      "/Users/Air11/anaconda/lib/python3.5/site-packages/sklearn/preprocessing/data.py:586: DeprecationWarning: Passing 1d arrays as data is deprecated in 0.17 and will raise ValueError in 0.19. Reshape your data either using X.reshape(-1, 1) if your data has a single feature or X.reshape(1, -1) if it contains a single sample.\n",
      "  warnings.warn(DEPRECATION_MSG_1D, DeprecationWarning)\n",
      "/Users/Air11/anaconda/lib/python3.5/site-packages/sklearn/preprocessing/data.py:649: DeprecationWarning: Passing 1d arrays as data is deprecated in 0.17 and will raise ValueError in 0.19. Reshape your data either using X.reshape(-1, 1) if your data has a single feature or X.reshape(1, -1) if it contains a single sample.\n",
      "  warnings.warn(DEPRECATION_MSG_1D, DeprecationWarning)\n",
      "/Users/Air11/anaconda/lib/python3.5/site-packages/sklearn/preprocessing/data.py:586: DeprecationWarning: Passing 1d arrays as data is deprecated in 0.17 and will raise ValueError in 0.19. Reshape your data either using X.reshape(-1, 1) if your data has a single feature or X.reshape(1, -1) if it contains a single sample.\n",
      "  warnings.warn(DEPRECATION_MSG_1D, DeprecationWarning)\n",
      "/Users/Air11/anaconda/lib/python3.5/site-packages/sklearn/preprocessing/data.py:649: DeprecationWarning: Passing 1d arrays as data is deprecated in 0.17 and will raise ValueError in 0.19. Reshape your data either using X.reshape(-1, 1) if your data has a single feature or X.reshape(1, -1) if it contains a single sample.\n",
      "  warnings.warn(DEPRECATION_MSG_1D, DeprecationWarning)\n",
      "/Users/Air11/anaconda/lib/python3.5/site-packages/sklearn/preprocessing/data.py:586: DeprecationWarning: Passing 1d arrays as data is deprecated in 0.17 and will raise ValueError in 0.19. Reshape your data either using X.reshape(-1, 1) if your data has a single feature or X.reshape(1, -1) if it contains a single sample.\n",
      "  warnings.warn(DEPRECATION_MSG_1D, DeprecationWarning)\n",
      "/Users/Air11/anaconda/lib/python3.5/site-packages/sklearn/preprocessing/data.py:649: DeprecationWarning: Passing 1d arrays as data is deprecated in 0.17 and will raise ValueError in 0.19. Reshape your data either using X.reshape(-1, 1) if your data has a single feature or X.reshape(1, -1) if it contains a single sample.\n",
      "  warnings.warn(DEPRECATION_MSG_1D, DeprecationWarning)\n",
      "/Users/Air11/anaconda/lib/python3.5/site-packages/sklearn/preprocessing/data.py:586: DeprecationWarning: Passing 1d arrays as data is deprecated in 0.17 and will raise ValueError in 0.19. Reshape your data either using X.reshape(-1, 1) if your data has a single feature or X.reshape(1, -1) if it contains a single sample.\n",
      "  warnings.warn(DEPRECATION_MSG_1D, DeprecationWarning)\n",
      "/Users/Air11/anaconda/lib/python3.5/site-packages/sklearn/preprocessing/data.py:649: DeprecationWarning: Passing 1d arrays as data is deprecated in 0.17 and will raise ValueError in 0.19. Reshape your data either using X.reshape(-1, 1) if your data has a single feature or X.reshape(1, -1) if it contains a single sample.\n",
      "  warnings.warn(DEPRECATION_MSG_1D, DeprecationWarning)\n"
     ]
    }
   ],
   "source": [
    "X1= transform_data(X)"
   ]
  },
  {
   "cell_type": "code",
   "execution_count": 23,
   "metadata": {
    "collapsed": false
   },
   "outputs": [
    {
     "data": {
      "text/plain": [
       "(63404, 628)"
      ]
     },
     "execution_count": 23,
     "metadata": {},
     "output_type": "execute_result"
    }
   ],
   "source": [
    "X1.shape"
   ]
  },
  {
   "cell_type": "markdown",
   "metadata": {},
   "source": [
    "Получилось 628 признаков. Проверим удалились ли все пропуски:"
   ]
  },
  {
   "cell_type": "code",
   "execution_count": 24,
   "metadata": {
    "collapsed": false
   },
   "outputs": [
    {
     "data": {
      "text/plain": [
       "0"
      ]
     },
     "execution_count": 24,
     "metadata": {},
     "output_type": "execute_result"
    }
   ],
   "source": [
    "pd.isnull(X1).sum().sum()"
   ]
  },
  {
   "cell_type": "markdown",
   "metadata": {},
   "source": [
    "**11. (0.75 балла)** Разбейте выборку и вектор целевой переменной на обучение и контроль в отношении 70/30 (для этого можно использовать, например, функцию [train_test_split](http://scikit-learn.org/stable/modules/generated/sklearn.cross_validation.train_test_split.html)). "
   ]
  },
  {
   "cell_type": "code",
   "execution_count": 62,
   "metadata": {
    "collapsed": false
   },
   "outputs": [],
   "source": [
    "from sklearn.model_selection import train_test_split\n",
    "from sklearn.linear_model import LinearRegression\n",
    "from sklearn.metrics import mean_squared_error,r2_score\n",
    "\n",
    "X_train, X_test, y_train, y_test = train_test_split(X1, tar, test_size=0.3, random_state=1234)"
   ]
  },
  {
   "cell_type": "markdown",
   "metadata": {},
   "source": [
    "### Scikit-learn\n",
    "\n",
    "<img src = \"https://pp.vk.me/c4534/u35727827/93547647/x_d31c4463.jpg\">\n",
    "Теперь, когда мы привели данные к пригодному виду, попробуем решить задачу при помощи метода наименьших квадратов. Напомним, что данный метод заключается в оптимизации функционала $MSE$:\n",
    "\n",
    "$$MSE(X, y) = \\frac{1}{l} \\sum_{i=1}^l (<w, x_i> - y_i)^2 \\to \\min_{w},$$\n",
    "\n",
    "где $\\{ (x_i, y_i ) \\}_{i=1}^l$ — обучающая выборка, состоящая из $l$ пар объект-ответ.\n",
    "\n",
    "Заметим, что решение данной задачи уже реализовано в модуле sklearn в виде класса [LinearRegression](http://scikit-learn.org/stable/modules/generated/sklearn.linear_model.LinearRegression.html#sklearn.linear_model.LinearRegression).\n",
    "\n",
    "**12. (0.5 балла)** Обучите линейную регрессию на 1000 объектах из обучающей выборки и выведите значения $MSE$ и $R^2$ на этой подвыборке и контрольной выборке (итого 4 различных числа). Проинтерпретируйте полученный результат — насколько качественные прогнозы строит полученная модель? Какие проблемы наблюдаются в модели?\n",
    "\n",
    "**Подсказка**: изучите значения полученных коэффициентов $w$, сохраненных в атрибуте coef_ объекта LinearRegression."
   ]
  },
  {
   "cell_type": "code",
   "execution_count": 26,
   "metadata": {
    "collapsed": true
   },
   "outputs": [],
   "source": [
    "reg = LinearRegression().fit(X_train[:1000], y_train[:1000])\n",
    "y_pred = reg.predict(X_test)\n",
    "y_pred1 = reg.predict(X_train[:1000])"
   ]
  },
  {
   "cell_type": "code",
   "execution_count": 128,
   "metadata": {
    "collapsed": false
   },
   "outputs": [
    {
     "name": "stdout",
     "output_type": "stream",
     "text": [
      "MSE train: 56.8177686768\n",
      "R2 train 0.955183413933\n",
      "MSE test: 3.69995130127e+23\n",
      "R2 test -2.71039643244e+20\n"
     ]
    }
   ],
   "source": [
    "print(\"MSE train:\",mean_squared_error(y_train[:1000], y_pred1))\n",
    "print(\"R2 train\",r2_score(y_train[:1000], y_pred1))\n",
    "print(\"MSE test:\",mean_squared_error(y_test, y_pred))\n",
    "print(\"R2 test\",r2_score(y_test, y_pred))"
   ]
  },
  {
   "cell_type": "markdown",
   "metadata": {},
   "source": [
    "Значения MSE и R2 на тестовой и обучающей выборках различаются, MSE на тастовой ниже, но и R2  становися отрицательным.Что же это значит.... Посмотрим на коэф"
   ]
  },
  {
   "cell_type": "code",
   "execution_count": 129,
   "metadata": {
    "collapsed": false
   },
   "outputs": [
    {
     "name": "stdout",
     "output_type": "stream",
     "text": [
      "[ -6.57314295e+13  -6.57314295e+13  -6.57314295e+13  -6.57314295e+13\n",
      "  -6.57314295e+13  -6.57314295e+13  -6.57314295e+13  -6.57314295e+13\n",
      "  -6.57314295e+13  -6.57314295e+13  -6.57314295e+13  -6.57314295e+13\n",
      "  -6.57314295e+13  -6.57314295e+13  -6.57314295e+13  -6.57314295e+13\n",
      "  -6.57314295e+13  -6.57314295e+13  -6.57314295e+13  -6.57314295e+13\n",
      "  -1.92112960e+11  -1.92112960e+11  -1.92112960e+11   7.68512669e+12\n",
      "   1.20406655e+13  -1.92112960e+11  -1.92112960e+11  -3.06960246e+13\n",
      "   3.24012549e+13   1.26002715e+13  -1.92112960e+11  -1.92112960e+11\n",
      "  -6.47397208e+13   2.67196221e+12  -5.37607846e+12  -1.92112960e+11\n",
      "  -1.92112960e+11  -1.70481307e+12  -1.92112960e+11   2.19584107e+12\n",
      "  -1.92112960e+11  -1.92112960e+11  -1.92112960e+11   3.25426545e+12\n",
      "  -1.92112960e+11   3.37896941e+12  -1.92112960e+11  -9.76885659e+12\n",
      "   8.51737865e+11  -1.92112960e+11   5.74617588e+12  -7.96379544e+10\n",
      "   8.45309600e+09  -1.92112960e+11  -1.92112960e+11  -1.92112960e+11\n",
      "  -1.92112960e+11  -1.92112960e+11  -1.92112960e+11  -1.01341762e+12\n",
      "  -1.24731293e+11  -9.68661197e+11  -1.92112960e+11  -1.92112960e+11\n",
      "  -1.92112960e+11  -1.92112960e+11  -1.92112960e+11  -1.17601589e+12\n",
      "  -1.92112960e+11  -1.92112960e+11  -1.92112960e+11  -1.33714240e+11\n",
      "  -1.62535622e+11  -1.92112960e+11  -2.25390309e+12  -1.92112960e+11\n",
      "  -1.29890029e+11  -2.68863387e+12  -1.92112960e+11  -1.92112960e+11\n",
      "   3.06527949e+10  -1.92112960e+11  -1.92112960e+11  -1.92112960e+11\n",
      "   3.16166110e+11  -1.92112960e+11  -1.92112960e+11  -3.24822837e+11\n",
      "   3.43881568e+12  -1.92112960e+11   1.19566061e+12  -1.92112960e+11\n",
      "  -1.92112960e+11  -1.92112960e+11  -1.92112960e+11  -1.92112960e+11\n",
      "   1.72933823e+12  -1.92112960e+11  -1.92112960e+11  -1.92112960e+11\n",
      "  -1.17734007e+12  -1.92112960e+11  -1.27090431e+11  -1.92112960e+11\n",
      "  -1.92112960e+11  -4.26754924e+12  -8.79963315e+10   1.82277190e+11\n",
      "  -1.92112960e+11  -1.90716690e+12  -1.92112960e+11   2.39370239e+12\n",
      "  -3.49339524e+12  -1.92112960e+11  -1.92112960e+11  -4.84297138e+12\n",
      "  -7.63157987e+11  -1.83647477e+12  -1.92112960e+11  -1.92112960e+11\n",
      "  -1.58912411e+12  -1.92112960e+11  -4.88847402e+12   2.64868067e+12\n",
      "  -1.92112960e+11  -8.44291557e+11   2.33818347e+12  -1.92112960e+11\n",
      "  -1.92112960e+11   1.22172642e+12   1.92285539e+11  -5.93263728e+11\n",
      "  -1.92112960e+11  -1.92112960e+11  -1.92112960e+11  -1.09553364e+12\n",
      "  -1.92112960e+11  -1.92112960e+11  -1.92112960e+11  -3.29668390e+12\n",
      "   9.99264148e+11  -6.80676300e+11   1.74973319e+12   7.39633015e+12\n",
      "  -1.92112960e+11   1.56319566e+12  -1.92112960e+11  -1.92112960e+11\n",
      "  -1.92112960e+11  -1.92112960e+11  -1.92112960e+11  -2.44899714e+12\n",
      "  -1.92112960e+11  -1.92112960e+11  -1.92112960e+11  -3.76263158e+12\n",
      "   3.18365880e+12  -1.92112960e+11   1.95246451e+12  -1.10529846e+11\n",
      "  -1.92112960e+11   1.40000283e+12  -4.32768555e+11  -3.34605810e+10\n",
      "  -1.92112960e+11  -1.92112960e+11  -1.92112960e+11  -1.92112960e+11\n",
      "  -1.92112960e+11  -1.92112960e+11  -3.84059074e+11  -3.12031346e+11\n",
      "  -1.92112960e+11  -1.92112960e+11  -1.92112960e+11   1.16921212e+11\n",
      "  -2.76193064e+11  -1.92112960e+11  -1.92112960e+11  -1.92112960e+11\n",
      "  -1.92112960e+11  -1.92112960e+11  -1.92112960e+11   1.33037895e+11\n",
      "  -4.86729775e+10  -1.10215065e+11  -1.92112960e+11   2.73405991e+11\n",
      "  -3.84111969e+11   1.62593758e+11  -2.54875249e+11  -7.17699430e+10\n",
      "  -1.92112960e+11   4.82376912e+09  -1.92112960e+11  -1.92112960e+11\n",
      "  -1.92112960e+11  -1.92112960e+11  -1.92112960e+11  -1.92112960e+11\n",
      "  -1.92112960e+11  -1.92112960e+11  -1.92112960e+11  -1.92112960e+11\n",
      "  -1.92112960e+11  -1.85425402e+11   5.48649577e+10   6.15741373e+10\n",
      "  -1.92112960e+11  -1.92112960e+11  -3.77135946e+11   4.91861164e+11\n",
      "   6.13261535e+09   1.97727038e+11  -1.92112960e+11   3.06123645e+10\n",
      "  -1.92112960e+11  -1.92112960e+11   2.93991544e+11   3.23294019e+10\n",
      "  -5.81603797e+10  -1.92112960e+11  -1.92112960e+11  -1.92112960e+11\n",
      "  -1.92112960e+11   1.14796548e+10  -1.92112960e+11  -1.92112960e+11\n",
      "   1.36650475e+11  -4.07366640e+11   1.51958283e+11   1.91613367e+11\n",
      "  -1.92112960e+11  -1.92112960e+11  -1.92112960e+11  -1.92112960e+11\n",
      "  -1.92112960e+11  -1.92112960e+11  -1.92112960e+11  -4.55697825e+10\n",
      "  -1.92112960e+11   3.19702538e+10   1.05707415e+10  -1.92112960e+11\n",
      "   7.24140663e+09  -3.15090719e+10   9.97510770e+10  -1.92112960e+11\n",
      "  -1.92112960e+11  -1.92112960e+11   6.07680089e+09   7.92322218e+09\n",
      "  -1.92112960e+11  -1.92112960e+11   3.70977308e+10   2.80491858e+10\n",
      "  -1.92112960e+11   3.64352924e+09  -1.92112960e+11   4.56509976e+09\n",
      "  -1.92112960e+11   2.57544747e+10  -1.92112960e+11  -1.92112960e+11\n",
      "  -1.92112960e+11  -1.92112960e+11  -1.92112960e+11  -1.92112960e+11\n",
      "  -1.92112960e+11  -1.92112960e+11   1.27728708e+10   2.41050846e+10\n",
      "  -1.92112960e+11  -1.92112960e+11  -1.92112960e+11  -1.12886351e+10\n",
      "   1.04547100e+11  -9.54042162e+09  -2.73549301e+10  -1.92112960e+11\n",
      "  -8.95209013e+09  -1.92112960e+11  -1.92112960e+11  -1.29810538e+10\n",
      "  -1.92112960e+11   4.09651933e+10  -1.92112960e+11   1.37782618e+09\n",
      "  -1.59738812e+08  -1.92112960e+11  -1.92112960e+11  -1.92112960e+11\n",
      "  -4.09416817e+08   4.97428243e+09   3.43846327e+09  -3.18245075e+09\n",
      "  -1.92112960e+11  -4.08660119e+08  -1.05866535e+09   2.62365345e+09\n",
      "  -1.92112960e+11  -2.55066104e+09  -1.92112960e+11  -1.92112960e+11\n",
      "  -1.92112960e+11  -1.92112960e+11   5.67792336e+08   1.65742995e+09\n",
      "  -1.92112960e+11  -7.59475348e+08  -1.92112960e+11   9.74250336e+08\n",
      "  -1.92112960e+11   9.97510769e+10  -1.23674730e+09  -1.92112960e+11\n",
      "   1.38286359e+08  -2.28605030e+11  -2.28605030e+11   7.72887907e+05\n",
      "   5.75409298e+06  -2.28605030e+11   4.47864269e+05  -7.25811909e+04\n",
      "   4.15886830e+05   1.03246984e+05  -6.75025324e+03  -2.28605030e+11\n",
      "  -2.93725720e+02  -2.28605030e+11  -2.28605030e+11  -2.28605030e+11\n",
      "  -2.28605030e+11  -2.28605030e+11  -7.02292345e+00  -2.28605030e+11\n",
      "  -2.28605030e+11  -2.28605030e+11  -5.26218619e-01  -2.28605030e+11\n",
      "   1.71061936e-02  -5.48162744e-02  -6.70999641e-02  -7.29843831e-04\n",
      "  -2.28605030e+11   4.31602550e-04  -3.94202373e-06   4.50001628e-07\n",
      "   3.17803229e-06  -2.28605030e+11  -2.28605030e+11  -3.32324618e-10\n",
      "  -2.28605030e+11  -2.28605030e+11   2.18268891e-11   2.87736926e-11\n",
      "  -6.73935522e-11   6.97031967e-14   2.96615114e-13   5.38754352e-13\n",
      "  -2.28605030e+11   1.23387516e-14  -2.28605030e+11  -2.28605030e+11\n",
      "  -2.28605030e+11  -2.28605030e+11  -2.28605030e+11   7.97253150e-16\n",
      "   1.43293421e-15   5.84782786e-15  -2.28605030e+11   1.47802651e-15\n",
      "  -2.28605030e+11  -2.28605030e+11  -2.28605030e+11  -2.28605030e+11\n",
      "  -2.28605030e+11  -2.99991819e-16  -2.28605030e+11  -2.28605030e+11\n",
      "  -2.38664399e-15  -1.53291416e-17  -8.12826091e-28  -3.63687689e-29\n",
      "  -2.28605030e+11  -2.28605030e+11   0.00000000e+00   0.00000000e+00\n",
      "  -2.28605030e+11   0.00000000e+00   0.00000000e+00  -2.28605030e+11\n",
      "  -2.28605030e+11   0.00000000e+00  -2.28605030e+11  -2.28605030e+11\n",
      "  -2.28605030e+11   0.00000000e+00   0.00000000e+00   0.00000000e+00\n",
      "   0.00000000e+00   0.00000000e+00  -2.28605030e+11  -2.28605030e+11\n",
      "  -2.28605030e+11   0.00000000e+00  -2.28605030e+11   0.00000000e+00\n",
      "  -2.28605030e+11   0.00000000e+00   0.00000000e+00  -2.28605030e+11\n",
      "   0.00000000e+00  -2.28605030e+11   0.00000000e+00  -2.28605030e+11\n",
      "   0.00000000e+00   0.00000000e+00   0.00000000e+00  -2.28605030e+11\n",
      "   0.00000000e+00  -2.28605030e+11   0.00000000e+00  -2.28605030e+11\n",
      "  -2.28605030e+11   0.00000000e+00  -2.28605030e+11   0.00000000e+00\n",
      "   0.00000000e+00  -2.28605030e+11  -2.28605030e+11  -2.28605030e+11\n",
      "  -2.28605030e+11  -2.28605030e+11  -2.28605030e+11  -2.28605030e+11\n",
      "  -2.28605030e+11   0.00000000e+00  -2.28605030e+11   0.00000000e+00\n",
      "   0.00000000e+00   0.00000000e+00   0.00000000e+00   0.00000000e+00\n",
      "  -2.28605030e+11  -2.28605030e+11  -2.28605030e+11  -2.28605030e+11\n",
      "  -2.28605030e+11   0.00000000e+00  -2.28605030e+11  -2.28605030e+11\n",
      "  -2.28605030e+11   0.00000000e+00   0.00000000e+00  -2.28605030e+11\n",
      "   0.00000000e+00  -2.28605030e+11  -2.28605030e+11   0.00000000e+00\n",
      "   0.00000000e+00   0.00000000e+00   0.00000000e+00  -2.28605030e+11\n",
      "  -2.28605030e+11  -2.28605030e+11  -5.20469067e+11  -2.28605030e+11\n",
      "   0.00000000e+00  -2.28605030e+11  -2.28605030e+11  -2.28605030e+11\n",
      "  -2.28605030e+11   0.00000000e+00   0.00000000e+00  -2.28605030e+11\n",
      "  -2.28605030e+11  -2.28605030e+11  -2.28605030e+11  -2.28605030e+11\n",
      "  -2.28605030e+11   0.00000000e+00  -2.28605030e+11   0.00000000e+00\n",
      "  -2.28605030e+11   0.00000000e+00   0.00000000e+00   0.00000000e+00\n",
      "  -2.28605030e+11  -2.28605030e+11  -2.28605030e+11   0.00000000e+00\n",
      "  -2.28605030e+11   0.00000000e+00  -2.28605030e+11   0.00000000e+00\n",
      "  -2.28605030e+11  -2.28605030e+11   0.00000000e+00   0.00000000e+00\n",
      "  -2.28605030e+11  -2.28605030e+11  -2.28605030e+11   0.00000000e+00\n",
      "  -2.28605030e+11  -2.28605030e+11   0.00000000e+00   0.00000000e+00\n",
      "  -2.28605030e+11   0.00000000e+00   0.00000000e+00   0.00000000e+00\n",
      "  -2.28605030e+11  -2.28605030e+11  -2.28605030e+11  -2.28605030e+11\n",
      "   0.00000000e+00  -2.28605030e+11   0.00000000e+00  -2.28605030e+11\n",
      "  -2.28605030e+11  -2.28605030e+11  -2.28605030e+11   0.00000000e+00\n",
      "  -2.28605030e+11  -2.28605030e+11  -2.28605030e+11   0.00000000e+00\n",
      "   0.00000000e+00   0.00000000e+00  -2.28605030e+11  -2.28605030e+11\n",
      "   0.00000000e+00   0.00000000e+00  -2.28605030e+11  -2.28605030e+11\n",
      "   0.00000000e+00   0.00000000e+00  -2.28605030e+11  -2.28605030e+11\n",
      "   0.00000000e+00  -2.28605030e+11   0.00000000e+00   0.00000000e+00\n",
      "  -2.28605030e+11  -2.28605030e+11  -2.28605030e+11   0.00000000e+00\n",
      "  -2.28605030e+11   0.00000000e+00   0.00000000e+00  -2.28605030e+11\n",
      "   0.00000000e+00   0.00000000e+00  -2.28605030e+11   0.00000000e+00\n",
      "  -2.28605030e+11   0.00000000e+00  -2.28605030e+11   0.00000000e+00\n",
      "  -2.28605030e+11  -2.28605030e+11  -2.28605030e+11  -2.28605030e+11\n",
      "  -2.28605030e+11  -2.28605030e+11  -2.28605030e+11  -2.28605030e+11\n",
      "   0.00000000e+00   0.00000000e+00  -2.28605030e+11  -2.28605030e+11\n",
      "  -2.28605030e+11  -2.28605030e+11   0.00000000e+00  -2.28605030e+11\n",
      "   0.00000000e+00  -2.28605030e+11   0.00000000e+00  -2.28605030e+11\n",
      "  -2.28605030e+11   0.00000000e+00  -2.28605030e+11   0.00000000e+00\n",
      "  -2.28605030e+11   0.00000000e+00   0.00000000e+00  -2.28605030e+11\n",
      "  -2.28605030e+11  -2.28605030e+11   0.00000000e+00   0.00000000e+00\n",
      "   0.00000000e+00   0.00000000e+00  -2.28605030e+11   0.00000000e+00\n",
      "   0.00000000e+00  -2.28605030e+11   0.00000000e+00  -2.28605030e+11\n",
      "  -2.28605030e+11   0.00000000e+00   0.00000000e+00   0.00000000e+00\n",
      "  -2.28605030e+11  -2.28605030e+11   0.00000000e+00  -2.28605030e+11\n",
      "  -3.66589158e+10   0.00000000e+00  -2.28605030e+11   0.00000000e+00\n",
      "  -2.28605030e+11   0.00000000e+00   8.65896497e-03   2.14227013e-01\n",
      "   1.07669683e-01  -1.76368590e+00   3.59675511e-01  -2.51034632e+00\n",
      "  -7.02180889e+00   9.99002665e-01   1.96183559e+01   8.40088053e+00\n",
      "   1.46828905e+01   1.17022712e+00   2.23896705e+01   9.21076615e-01]\n"
     ]
    }
   ],
   "source": [
    "print( reg.coef_)"
   ]
  },
  {
   "cell_type": "code",
   "execution_count": 131,
   "metadata": {
    "collapsed": false
   },
   "outputs": [
    {
     "data": {
      "text/plain": [
       "-2270409809565.4917"
      ]
     },
     "execution_count": 131,
     "metadata": {},
     "output_type": "execute_result"
    }
   ],
   "source": [
    "np.mean(reg.coef_)"
   ]
  },
  {
   "cell_type": "code",
   "execution_count": 132,
   "metadata": {
    "collapsed": false
   },
   "outputs": [
    {
     "data": {
      "text/plain": [
       "32401254944357.402"
      ]
     },
     "execution_count": 132,
     "metadata": {},
     "output_type": "execute_result"
    }
   ],
   "source": [
    "np.max(reg.coef_)"
   ]
  },
  {
   "cell_type": "code",
   "execution_count": 133,
   "metadata": {
    "collapsed": false
   },
   "outputs": [
    {
     "data": {
      "text/plain": [
       "-65731429530802.875"
      ]
     },
     "execution_count": 133,
     "metadata": {},
     "output_type": "execute_result"
    }
   ],
   "source": [
    "np.min(reg.coef_)"
   ]
  },
  {
   "cell_type": "markdown",
   "metadata": {},
   "source": [
    "Получается, модель придает очень большой вес значениям некоторых категориальных переменных ( точнее дамми- перменным, которые мы создали). То есть модель не обучается, а запоминает конкретные объекты и их ответы. Нужна регуляризация!"
   ]
  },
  {
   "cell_type": "markdown",
   "metadata": {
    "collapsed": true
   },
   "source": [
    "Для решения описанных вами в предыдущем пункте проблем используем L1- или L2-регуляризацию, тем самым получив Lasso и Ridge регрессии соответственно и изменив оптимизационную задачу одним из следующих образов:\n",
    "$$MSE_{L1}(X, y) = \\frac{1}{l} \\sum_{i=1}^l (<w, x_i> - y_i)^2 + \\alpha ||w||_1 \\to \\min_{w},$$\n",
    "$$MSE_{L2}(X, y) = \\frac{1}{l} \\sum_{i=1}^l (<w, x_i> - y_i)^2 + \\alpha ||w||_2^2 \\to \\min_{w},$$\n",
    "\n",
    "где $\\alpha$ — коэффициент регуляризации. Один из способов его подбора заключается в переборе некоторого количества значений и оценке качества на кросс-валидации для каждого из них, после чего выбирается значение, для которого было получено наилучшее качество.\n",
    "\n",
    "**13. (1 балл)** Обучите линейные регрессии с L1- и L2-регуляризатором, подобрав лучшее значение параметра регуляризации из списка alpha_grid при помощи кросс-валидации c 5 фолдами на тех же 1000 объектах, что и в п.12. Выведите значения $MSE$ и $R^2$ на обучающей и контрольной выборках. Удалось ли решить указанные вами ранее проблемы?\n",
    "\n",
    "Для выполнения данного задания вам могут понадобиться реализованные в библиотеке объекты [LassoCV](http://scikit-learn.org/stable/modules/generated/sklearn.linear_model.LassoCV.html), [RidgeCV](http://scikit-learn.org/stable/modules/generated/sklearn.linear_model.RidgeCV.html) и [KFold](http://scikit-learn.org/stable/modules/generated/sklearn.cross_validation.KFold.html).\n"
   ]
  },
  {
   "cell_type": "code",
   "execution_count": 27,
   "metadata": {
    "collapsed": false
   },
   "outputs": [],
   "source": [
    "from sklearn.linear_model import LassoCV, RidgeCV\n",
    "from sklearn.model_selection import KFold"
   ]
  },
  {
   "cell_type": "code",
   "execution_count": 516,
   "metadata": {
    "collapsed": false
   },
   "outputs": [
    {
     "name": "stderr",
     "output_type": "stream",
     "text": [
      "/Users/Air11/anaconda/lib/python3.5/site-packages/sklearn/linear_model/coordinate_descent.py:461: UserWarning: Coordinate descent with alpha=0 may lead to unexpected results and is discouraged.\n",
      "  tol, rng, random, positive)\n",
      "/Users/Air11/anaconda/lib/python3.5/site-packages/sklearn/linear_model/coordinate_descent.py:479: ConvergenceWarning: Objective did not converge. You might want to increase the number of iterations. Fitting data with very small alpha may cause precision problems.\n",
      "  ConvergenceWarning)\n"
     ]
    },
    {
     "name": "stdout",
     "output_type": "stream",
     "text": [
      "alpha: 0.05\n",
      "MSE train: 79.8608232776\n",
      "R2 train 0.937007567472\n",
      "MSE test: 93.448073296\n",
      "R2 test 0.931544686982\n"
     ]
    }
   ],
   "source": [
    "folds = KFold(n_splits=5,random_state=1234)\n",
    "alpha_grid =  np.arange(0, 5, 0.05)\n",
    "lasso = LassoCV(alphas=alpha_grid,cv=folds)\n",
    "lasso.fit(X_train[:1000], y_train[:1000])\n",
    "lasso_pred = lasso.predict(X_test)\n",
    "lasso_pred1 = lasso.predict(X_train[:1000])\n",
    "print('alpha:', lasso.alpha_)\n",
    "print(\"MSE train:\",mean_squared_error(y_train[:1000], lasso_pred1))\n",
    "print(\"R2 train\",r2_score(y_train[:1000], lasso_pred1))\n",
    "print(\"MSE test:\",mean_squared_error(y_test, lasso_pred))\n",
    "print(\"R2 test\",r2_score(y_test, lasso_pred))"
   ]
  },
  {
   "cell_type": "markdown",
   "metadata": {},
   "source": [
    "Стало гораздо лучше"
   ]
  },
  {
   "cell_type": "code",
   "execution_count": 141,
   "metadata": {
    "collapsed": false
   },
   "outputs": [
    {
     "name": "stdout",
     "output_type": "stream",
     "text": [
      "alpha: 15\n",
      "MSE train: 74.2640471586\n",
      "R2 train 0.941422179387\n",
      "MSE test: 94.0892665268\n",
      "R2 test 0.931074981382\n"
     ]
    }
   ],
   "source": [
    "folds = KFold(n_splits=5,random_state=1234)\n",
    "alpha_grid =  np.arange(0, 1000, 5)\n",
    "ridge = RidgeCV(alphas=alpha_grid,cv=folds)\n",
    "ridge.fit(X_train[:1000], y_train[:1000])\n",
    "ridge_pred = ridge.predict(X_test)\n",
    "ridge_pred1 = ridge.predict(X_train[:1000])\n",
    "print('alpha:', ridge.alpha_)\n",
    "print(\"MSE train:\",mean_squared_error(y_train[:1000], ridge_pred1))\n",
    "print(\"R2 train\",r2_score(y_train[:1000], ridge_pred1))\n",
    "print(\"MSE test:\",mean_squared_error(y_test, ridge_pred))\n",
    "print(\"R2 test\",r2_score(y_test, ridge_pred))"
   ]
  },
  {
   "cell_type": "code",
   "execution_count": null,
   "metadata": {
    "collapsed": true
   },
   "outputs": [],
   "source": []
  },
  {
   "cell_type": "markdown",
   "metadata": {},
   "source": [
    "### Градиентный спуск\n",
    "\n",
    "В предыдущем разделе мы использовали существующие реализации методов обучения линейной регрессии с регуляризацией и без. Тем не менее, подобные реализации, как правило, имеются лишь для ограниченного набора стандартных методов. В частности, при выходе функционала качества за пределы стандартного множества необходимо самостоятельно реализовывать составляющие процесса решения оптимизационной задачи. Именно этому и посвящен данный раздел задания.\n",
    "\n",
    "Пусть необходимо минимизировать следующий функционал (Mean Square Percentage Error — модифицированный [RMSPE](https://www.kaggle.com/c/rossmann-store-sales/details/evaluation)):\n",
    "$$MSPE(\\{x_i, y_i\\}_{i=1}^l, \\, w) = \\frac{1}{l}\\sum_{i=1}^l \\left( \\frac{y_i - \\langle w, x_i \\rangle }{y_i} \\right)^2,$$\n",
    "\n",
    "где $\\{x_i, y_i\\}_{i=1}^l$ — обучающая выборка, $w$ — вектор весов линейной модели. Будем также рассматривать функционал $MSPE$ с L2-регуляризацией:\n",
    "\n",
    "$$MSPE(\\{x_i, y_i\\}_{i=1}^l, \\, w) = \\frac{1}{l}\\sum_{i=1}^l \\left( \\frac{y_i - \\langle w, x_i \\rangle }{y_i} \\right)^2 + ||w||_2^2.$$\n",
    "\n",
    "**14. (0 баллов)** Добавьте к объектам обеих выборок из п. 11 единичный признак."
   ]
  },
  {
   "cell_type": "code",
   "execution_count": 63,
   "metadata": {
    "collapsed": false
   },
   "outputs": [
    {
     "name": "stderr",
     "output_type": "stream",
     "text": [
      "/Users/Air11/anaconda/lib/python3.5/site-packages/ipykernel/__main__.py:1: SettingWithCopyWarning: \n",
      "A value is trying to be set on a copy of a slice from a DataFrame.\n",
      "Try using .loc[row_indexer,col_indexer] = value instead\n",
      "\n",
      "See the caveats in the documentation: http://pandas.pydata.org/pandas-docs/stable/indexing.html#indexing-view-versus-copy\n",
      "  if __name__ == '__main__':\n",
      "/Users/Air11/anaconda/lib/python3.5/site-packages/ipykernel/__main__.py:2: SettingWithCopyWarning: \n",
      "A value is trying to be set on a copy of a slice from a DataFrame.\n",
      "Try using .loc[row_indexer,col_indexer] = value instead\n",
      "\n",
      "See the caveats in the documentation: http://pandas.pydata.org/pandas-docs/stable/indexing.html#indexing-view-versus-copy\n",
      "  from ipykernel import kernelapp as app\n"
     ]
    }
   ],
   "source": [
    "X_train['beta0'] = 1\n",
    "X_test['beta0'] = 1"
   ]
  },
  {
   "cell_type": "markdown",
   "metadata": {},
   "source": [
    "**15. (1 балл)** Реализуйте функции, которые вычисляют:\n",
    " * прогнозы линейной модели;\n",
    " * функционал $MSPE$ и его градиент;\n",
    " * регуляризованный $MSPE$ и его градиент."
   ]
  },
  {
   "cell_type": "code",
   "execution_count": 64,
   "metadata": {
    "collapsed": false
   },
   "outputs": [],
   "source": [
    "X_train = X_train.reset_index(drop = True)\n",
    "y_train = y_train.reset_index(drop = True)\n",
    "X_test = X_test.reset_index(drop = True)\n",
    "y_test = y_test.reset_index(drop = True)"
   ]
  },
  {
   "cell_type": "code",
   "execution_count": 30,
   "metadata": {
    "collapsed": true
   },
   "outputs": [],
   "source": [
    "# возвращает вектор прогнозов линейной модели с вектором весов w для выборки X\n",
    "def make_pred(X, w):\n",
    "    pred = np.dot(X,w)\n",
    "    return pred"
   ]
  },
  {
   "cell_type": "code",
   "execution_count": 31,
   "metadata": {
    "collapsed": true
   },
   "outputs": [],
   "source": [
    "reg1 = LinearRegression().fit(X_train, y_train)\n",
    "y_pred = reg1.predict(X_test)\n",
    "y_pred1 = reg1.predict(X_train)"
   ]
  },
  {
   "cell_type": "code",
   "execution_count": 32,
   "metadata": {
    "collapsed": false
   },
   "outputs": [
    {
     "data": {
      "text/plain": [
       "array([ -4.18894558e+11,  -4.18894558e+11,  -4.18894558e+11, ...,\n",
       "        -4.18894558e+11,  -4.18894558e+11,  -4.18894558e+11])"
      ]
     },
     "execution_count": 32,
     "metadata": {},
     "output_type": "execute_result"
    }
   ],
   "source": [
    "make_pred(X_test,reg1.coef_)"
   ]
  },
  {
   "cell_type": "code",
   "execution_count": 33,
   "metadata": {
    "collapsed": false
   },
   "outputs": [],
   "source": [
    "# возвращает значение функционала MSPE для выборки (X, y) и вектора весов w\n",
    "def get_func(w, X, y):\n",
    "    return ((1/X.shape[0])*((np.dot(((y-np.dot(X,w))/y).T,((y-np.dot(X,w))/y)))))"
   ]
  },
  {
   "cell_type": "code",
   "execution_count": 34,
   "metadata": {
    "collapsed": false
   },
   "outputs": [
    {
     "data": {
      "text/plain": [
       "2.7993739319121799e+22"
      ]
     },
     "execution_count": 34,
     "metadata": {},
     "output_type": "execute_result"
    }
   ],
   "source": [
    "get_func(reg1.coef_, X_test, y_test)"
   ]
  },
  {
   "cell_type": "markdown",
   "metadata": {},
   "source": [
    "<img src=\"MSPE2.jpg\" width=\"400\" height=\"200\"> "
   ]
  },
  {
   "cell_type": "code",
   "execution_count": 98,
   "metadata": {
    "collapsed": false
   },
   "outputs": [],
   "source": [
    "# возвращает градиент функционала MSPE для выборки (X, y) и вектора весов w\n",
    "def get_grad(w, X, y):\n",
    "    return ((1/X.shape[0])*((-2*np.dot((X.T)/y, ((y- np.dot(X,w))/y))))) \n",
    "#    return ((1/X.shape[0])*((-2*(np.dot(X.T,y)/y))+2* (np.dot(np.dot(X.T,X),w)/y))) # вот тут что то не то с размерностями хотя это то же самое вроде бы "
   ]
  },
  {
   "cell_type": "code",
   "execution_count": 99,
   "metadata": {
    "collapsed": false
   },
   "outputs": [
    {
     "data": {
      "text/plain": [
       "array([ -4.74108477e+09,  -1.11077169e+10,  -1.26295380e+08,\n",
       "        -2.59123776e+09,  -2.96301464e+09,  -5.74181099e+09,\n",
       "        -1.01147007e+10,  -4.56336353e+09,  -1.71159899e+09,\n",
       "        -4.85740719e+09,  -1.25511380e+09,  -7.15019135e+09,\n",
       "        -5.95681820e+09,  -1.00440345e+09,  -8.64696075e+09,\n",
       "        -9.13763659e+09,  -7.98714408e+09,  -3.62720381e+10,\n",
       "        -5.70743834e+09,  -2.33909442e+09,  -6.23033706e+07,\n",
       "        -3.86688880e+07,  -8.04429107e+08,  -2.96894370e+06,\n",
       "        -4.76769708e+06,  -5.32284028e+07,  -5.48072321e+07,\n",
       "        -0.00000000e+00,  -0.00000000e+00,  -7.71059330e+05,\n",
       "        -6.93626914e+07,  -1.04877350e+07,  -2.79242263e+04,\n",
       "        -2.80220921e+08,  -4.71919425e+06,  -1.75466063e+08,\n",
       "        -2.69215548e+08,  -6.38620342e+07,  -8.15062240e+09,\n",
       "        -4.45027536e+07,  -1.45389687e+09,  -5.05650002e+07,\n",
       "        -5.44906036e+07,  -3.82331099e+07,  -7.08386276e+08,\n",
       "        -8.14917837e+06,  -3.92457576e+07,  -4.20121723e+06,\n",
       "        -3.21377128e+07,  -4.23627602e+08,  -7.82553228e+07,\n",
       "        -6.04760138e+07,  -0.00000000e+00,  -4.73444001e+07,\n",
       "        -1.26477587e+09,  -2.18248293e+08,  -1.82946752e+09,\n",
       "        -1.01934596e+07,  -6.33279075e+07,  -1.09719661e+07,\n",
       "        -1.03802794e+06,  -4.58849680e+07,  -7.55270753e+07,\n",
       "        -5.19821065e+07,  -3.76046872e+08,  -9.27927867e+08,\n",
       "        -2.60212116e+09,  -3.39721991e+07,  -1.62862884e+08,\n",
       "        -9.13938085e+07,  -2.15323200e+07,  -2.35094077e+07,\n",
       "        -1.46890587e+06,  -1.56204804e+07,  -2.39019971e+07,\n",
       "        -1.81739544e+08,  -6.38644281e+06,  -6.52033254e+07,\n",
       "        -7.50360994e+06,  -9.25712380e+08,  -6.12525047e+07,\n",
       "        -2.14081311e+09,  -6.32330774e+08,  -7.00662488e+07,\n",
       "        -1.93486964e+06,  -2.15313399e+07,  -2.26096167e+08,\n",
       "        -2.73054148e+07,  -1.37917846e+08,  -8.12847980e+07,\n",
       "        -4.01459233e+07,  -1.30043025e+09,  -2.88845525e+07,\n",
       "        -6.43672607e+07,  -1.52001079e+09,  -1.34757215e+08,\n",
       "        -2.55403556e+07,  -1.58967369e+09,  -4.73983635e+09,\n",
       "        -5.66940371e+09,  -5.09686248e+06,  -2.26603821e+07,\n",
       "        -3.37476240e+07,  -1.05347981e+08,  -3.39624760e+09,\n",
       "        -6.40652838e+07,  -4.58823661e+07,  -3.16902256e+07,\n",
       "        -4.37098428e+08,  -2.88395204e+07,  -6.67592126e+07,\n",
       "        -1.48435309e+07,  -3.55170197e+07,  -2.27804971e+09,\n",
       "        -2.30224580e+06,  -5.49782357e+07,  -1.04363752e+08,\n",
       "        -2.15121966e+08,  -5.75307013e+07,  -2.08663351e+07,\n",
       "        -2.34934979e+06,  -1.23516419e+09,  -2.65454676e+06,\n",
       "        -1.17392133e+08,  -4.09494074e+07,  -8.76673562e+06,\n",
       "        -7.50223263e+07,  -2.86151306e+07,  -4.54985830e+08,\n",
       "        -2.72314584e+06,  -1.41284519e+06,  -1.08222433e+08,\n",
       "        -2.43402342e+07,  -1.38667511e+08,  -6.30025550e+07,\n",
       "        -1.01915593e+08,  -1.68466978e+08,  -2.22222303e+08,\n",
       "        -1.45758726e+08,  -4.28044830e+04,  -4.79098659e+07,\n",
       "        -2.42371666e+06,  -2.22064415e+07,  -2.24035194e+07,\n",
       "        -2.10543581e+06,  -2.16477768e+07,  -8.59301691e+08,\n",
       "        -1.58605215e+09,  -6.42247536e+07,  -1.06044619e+08,\n",
       "        -8.61246751e+07,  -0.00000000e+00,  -1.67758558e+09,\n",
       "        -4.13142950e+09,  -1.95708139e+08,  -4.44487379e+07,\n",
       "        -5.73912008e+07,  -7.33595831e+08,  -1.17979856e+06,\n",
       "        -4.94491432e+06,  -2.42224274e+08,  -0.00000000e+00,\n",
       "        -7.66599082e+07,  -1.25436945e+06,  -4.25015037e+07,\n",
       "        -2.94703188e+08,  -6.60339346e+08,  -1.89614347e+09,\n",
       "        -6.89396755e+07,  -2.31415286e+08,  -2.69322874e+07,\n",
       "        -1.31349288e+07,  -4.28910928e+09,  -7.39432685e+07,\n",
       "        -4.91789367e+09,  -2.07427814e+08,  -5.83555816e+06,\n",
       "        -9.58429395e+07,  -4.85430102e+07,  -1.65493172e+09,\n",
       "        -2.64111827e+08,  -1.72521834e+08,  -3.51874692e+08,\n",
       "        -0.00000000e+00,  -2.48905789e+07,  -4.00401216e+07,\n",
       "        -5.21416898e+07,  -5.24354916e+05,  -2.49865210e+06,\n",
       "        -1.60529652e+07,  -8.47318986e+07,  -1.05272707e+07,\n",
       "        -1.35817665e+09,  -3.82045100e+07,  -3.14318655e+09,\n",
       "        -1.40576803e+08,  -2.31601228e+09,  -1.30459503e+07,\n",
       "        -1.46413233e+09,  -1.86351961e+07,  -6.35920202e+07,\n",
       "        -7.80621688e+07,  -3.91837253e+08,  -1.10703563e+09,\n",
       "        -5.14565434e+08,  -9.43838849e+05,  -8.48812616e+07,\n",
       "        -1.84840336e+08,  -2.86192600e+07,  -8.42089096e+07,\n",
       "        -7.14769333e+07,  -4.52484207e+06,  -3.62720908e+07,\n",
       "        -1.00484913e+08,  -1.29720030e+08,  -5.40950482e+07,\n",
       "        -2.37343684e+09,  -6.28115808e+08,  -4.19815944e+07,\n",
       "        -5.32325529e+07,  -1.23314969e+07,  -1.71057667e+09,\n",
       "        -3.86552448e+08,  -5.23468493e+08,  -3.39487395e+08,\n",
       "        -1.05392101e+07,  -7.51028330e+08,  -5.43164015e+09,\n",
       "        -2.92483525e+08,  -4.72461705e+06,  -4.17943290e+04,\n",
       "        -2.35547686e+07,  -5.20502665e+08,  -1.31721244e+09,\n",
       "        -4.13456302e+07,  -3.71493985e+07,  -1.61852969e+09,\n",
       "        -4.44999500e+09,  -4.65817188e+07,  -1.39680465e+07,\n",
       "        -7.63906066e+08,  -4.71919425e+06,  -2.63267679e+07,\n",
       "        -1.82052274e+08,  -1.23804268e+07,  -1.09213260e+06,\n",
       "        -6.30056255e+06,  -1.57160185e+08,  -4.17868232e+08,\n",
       "        -8.41529400e+07,  -1.15162275e+08,  -3.39188074e+06,\n",
       "        -1.00378406e+08,  -9.19459512e+08,  -2.23870418e+07,\n",
       "        -3.44718353e+03,  -2.64888777e+08,  -7.40417374e+06,\n",
       "        -6.17843183e+08,  -3.40090465e+07,  -1.53122432e+08,\n",
       "        -7.30575412e+06,  -1.26432116e+07,  -3.86643916e+08,\n",
       "        -2.10122303e+09,  -9.45935948e+08,  -2.50180659e+08,\n",
       "        -1.21928693e+08,  -6.83450938e+07,  -1.17609359e+08,\n",
       "        -1.96651115e+07,  -2.02256754e+07,  -3.46414446e+08,\n",
       "        -2.20607761e+09,  -2.63625707e+09,  -1.70969800e+08,\n",
       "        -6.73500982e+07,  -6.66047363e+07,  -4.00262320e+07,\n",
       "        -1.56128655e+09,  -5.86331838e+06,  -3.70841968e+08,\n",
       "        -2.85311784e+09,  -4.87520067e+06,  -1.32700337e+09,\n",
       "        -2.55678280e+07,  -8.07895803e+08,  -2.71288233e+07,\n",
       "        -2.12720816e+07,  -5.66960725e+07,  -1.47293325e+09,\n",
       "        -4.06954468e+07,  -0.00000000e+00,  -4.87845981e+07,\n",
       "        -1.11696905e+05,  -2.92187508e+07,  -2.49131011e+08,\n",
       "        -2.33046629e+05,  -6.26539167e+07,  -2.62015751e+07,\n",
       "        -1.73235885e+09,  -9.43805558e+06,  -4.90250179e+08,\n",
       "        -5.28844964e+08,  -1.53338290e+07,  -5.10180634e+06,\n",
       "        -3.01012738e+07,  -9.95983033e+06,  -1.82167975e+08,\n",
       "        -4.14644206e+07,  -7.04387457e+07,  -2.03515252e+07,\n",
       "        -1.39671222e+08,  -2.47410615e+05,  -2.22850839e+06,\n",
       "        -3.11251628e+07,  -7.79246890e+07,  -5.25320811e+07,\n",
       "        -9.22808780e+08,  -4.47064126e+06,  -2.94949640e+03,\n",
       "        -3.12903433e+07,  -6.81216540e+07,  -0.00000000e+00,\n",
       "        -1.17979856e+06,  -3.30424284e+06,  -2.14202379e+07,\n",
       "        -1.28713162e+07,  -0.00000000e+00,  -1.95584256e+08,\n",
       "        -1.64854616e+08,  -3.39090876e+08,  -1.03023697e+08,\n",
       "        -7.77016730e+09,  -5.67006577e+07,  -1.16236313e+09,\n",
       "        -4.66475435e+07,  -1.02415932e+08,  -4.18143927e+07,\n",
       "        -6.19423333e+08,  -4.36610179e+07,  -3.27613229e+07,\n",
       "        -5.91742716e+06,  -4.99795521e+07,  -5.24542489e+08,\n",
       "        -2.41493926e+07,  -3.24683817e+07,  -1.17979856e+06,\n",
       "        -2.33046629e+05,  -2.59804740e+07,  -1.24779729e+09,\n",
       "        -3.52199445e+08,  -2.10668898e+09,  -5.27996270e+05,\n",
       "        -3.52069784e+07,  -2.61356333e+07,  -6.02662737e+07,\n",
       "        -2.15924836e+07,  -1.95961598e+06,  -2.04178564e+08,\n",
       "        -1.44638773e+08,  -3.77034799e+08,  -1.03278014e+09,\n",
       "        -2.57617285e+09,  -1.29436270e+08,  -1.86510931e+08,\n",
       "        -1.08304401e+08,  -2.19623144e+07,  -3.01634901e+06,\n",
       "        -1.68895915e+06,  -5.12326505e+07,  -1.90794112e+05,\n",
       "        -2.10453666e+08,  -9.82255610e+06,  -1.41220434e+08,\n",
       "        -5.76395041e+07,  -1.30148224e+09,  -6.55055473e+06,\n",
       "        -2.12975938e+09,  -6.15130831e+08,  -6.45872499e+07,\n",
       "        -4.03228931e+06,  -5.17840175e+06,  -2.37193918e+08,\n",
       "        -4.11498789e+07,  -3.85161329e+07,  -5.14341921e+07,\n",
       "        -1.56539747e+07,  -7.55252819e+08,  -3.58166583e+07,\n",
       "        -3.39310809e+07,  -1.67189992e+09,  -2.96796006e+08,\n",
       "        -5.12524026e+06,  -1.51046023e+09,  -4.75163794e+09,\n",
       "        -4.78655528e+09,  -4.81391135e+06,  -0.00000000e+00,\n",
       "        -1.23618310e+07,  -3.30532907e+07,  -2.32615198e+08,\n",
       "        -2.59426666e+09,  -5.89736033e+07,  -1.78035378e+07,\n",
       "        -5.16748177e+07,  -5.13354079e+08,  -6.17427914e+07,\n",
       "        -1.12061488e+08,  -9.71573648e+07,  -2.03056412e+07,\n",
       "        -1.86674559e+09,  -2.49745588e+07,  -7.64058514e+07,\n",
       "        -6.37255265e+07,  -2.65742551e+08,  -3.25381279e+07,\n",
       "        -9.37007034e+07,  -5.76858394e+06,  -1.15222824e+09,\n",
       "        -1.39937111e+06,  -8.58820342e+07,  -7.39305166e+07,\n",
       "        -1.18935161e+08,  -4.46948046e+07,  -2.04478353e+07,\n",
       "        -3.38102924e+08,  -2.60335203e+07,  -5.37253541e+06,\n",
       "        -6.99733128e+07,  -4.97630455e+07,  -1.60632849e+08,\n",
       "        -1.48245134e+08,  -1.20776747e+08,  -2.44010428e+08,\n",
       "        -2.44455887e+08,  -1.00525671e+08,  -1.56006421e+05,\n",
       "        -4.37476545e+07,  -3.30340169e+06,  -2.99453639e+06,\n",
       "        -4.46926957e+07,  -8.68957757e+05,  -2.90738779e+07,\n",
       "        -9.82757978e+08,  -1.50909903e+09,  -1.95494204e+08,\n",
       "        -1.02437518e+08,  -1.29705874e+08,  -0.00000000e+00,\n",
       "        -1.48234961e+09,  -2.90170948e+09,  -2.18122882e+08,\n",
       "        -5.11602386e+07,  -1.92385330e+07,  -8.03147236e+08,\n",
       "        -0.00000000e+00,  -3.53211298e+05,  -3.01733929e+08,\n",
       "        -1.93486964e+06,  -1.36862641e+08,  -7.00214756e+06,\n",
       "        -7.28865953e+07,  -2.43152392e+08,  -8.29745135e+08,\n",
       "        -1.68812691e+09,  -3.99040807e+07,  -2.02945614e+08,\n",
       "        -4.33590289e+07,  -2.28081733e+07,  -4.33487543e+09,\n",
       "        -1.34009679e+07,  -4.89272118e+09,  -1.72831107e+08,\n",
       "        -5.86064003e+06,  -1.07110724e+08,  -9.44844656e+07,\n",
       "        -1.84538056e+09,  -2.29002728e+08,  -3.19809728e+08,\n",
       "        -2.72221127e+08,  -1.17979856e+06,  -3.76865911e+07,\n",
       "        -2.70818888e+07,  -8.93993029e+06,  -2.33046629e+05,\n",
       "        -2.55308409e+07,  -1.93602497e+07,  -1.42886592e+08,\n",
       "        -9.64767843e+06,  -1.22517206e+09,  -1.11998934e+05,\n",
       "        -3.02054295e+09,  -8.19628848e+07,  -2.49820976e+09,\n",
       "        -3.01722411e+06,  -1.22118454e+09,  -4.13701149e+07,\n",
       "        -1.55728640e+08,  -5.33740892e+07,  -3.46350415e+08,\n",
       "        -1.27524611e+09,  -5.55283143e+08,  -3.09952017e+06,\n",
       "        -6.88073855e+07,  -1.82471560e+08,  -1.24970441e+08,\n",
       "        -1.32763045e+08,  -3.62234399e+07,  -2.51952537e+07,\n",
       "        -2.11678758e+05,  -6.59968876e+07,  -2.35561318e+08,\n",
       "        -3.43556781e+07,  -1.92855248e+09,  -9.32922407e+08,\n",
       "        -2.17097318e+07,  -3.76152690e+07,  -4.64263843e+07,\n",
       "        -1.56350103e+09,  -4.87151308e+08,  -5.66564609e+08,\n",
       "        -6.21548334e+08,  -2.52214718e+06,  -8.08494400e+08,\n",
       "        -4.39562851e+09,  -4.80572501e+08,  -7.71384343e+05,\n",
       "        -4.41688494e+06,  -4.25214978e+07,  -6.26926836e+08,\n",
       "        -1.27332872e+09,  -2.86366501e+07,  -8.44898344e+07,\n",
       "        -1.88407842e+09,  -3.95651284e+09,  -4.39562109e+07,\n",
       "        -4.24989660e+07,  -8.41701603e+08,  -1.34706778e+07,\n",
       "        -2.89930548e+07,  -1.49449397e+08,  -2.56072563e+07,\n",
       "        -2.14732423e+07,  -2.09934567e+06,  -1.51736826e+08,\n",
       "        -5.25993594e+08,  -1.00953040e+08,  -5.20185766e+07,\n",
       "        -1.65801347e+07,  -5.78351071e+07,  -1.15313646e+09,\n",
       "        -5.24354916e+05,  -5.47426533e+06,  -2.19814792e+08,\n",
       "        -1.19892146e+07,  -5.77797633e+08,  -3.65722033e+07,\n",
       "        -1.49589859e+08,  -3.60080482e+07,  -4.82250808e+07,\n",
       "        -5.31717270e+08,  -2.51535280e+09,  -1.10816612e+09,\n",
       "        -2.85403560e+08,  -1.65718408e+08,  -1.01449937e+08,\n",
       "        -6.11782624e+07,  -4.47435260e+06,  -2.09741966e+07,\n",
       "        -4.91456063e+08,  -2.09597692e+09,  -2.77878628e+09,\n",
       "        -2.15264957e+08,  -1.66550852e+08,  -1.46855306e+08,\n",
       "        -5.21613150e+06,  -1.82882459e+09,  -5.45225568e+06,\n",
       "        -5.28225746e+08,  -2.52356846e+09,  -5.24354916e+05,\n",
       "        -1.30389163e+09,  -2.22403860e+07,  -1.06823067e+09,\n",
       "        -7.89721166e+06,  -5.99206924e+07,  -1.94753552e+08,\n",
       "        -1.45733615e+09,  -1.15116053e+08,  -1.96971656e+07,\n",
       "        -4.53286828e+07,  -8.38967866e+04,  -1.47416007e+08,\n",
       "        -2.65174158e+08,  -9.09525701e+07,  -1.75316461e+07,\n",
       "        -2.24972933e+09,  -7.99527647e+07,  -5.13294242e+08,\n",
       "        -5.12456752e+08,  -6.36125282e+07,  -3.07686947e+07,\n",
       "        -6.03848382e+06,  -1.98989362e+07,  -2.19429966e+08,\n",
       "        -2.45007909e+07,  -1.40798330e+08,  -5.86880711e+06,\n",
       "        -5.47426533e+06,  -2.60520021e+08,  -2.22434280e+06,\n",
       "        -7.56963097e+06,  -1.86198096e+07,  -4.86581017e+08,\n",
       "         2.50058520e+09,   1.57660645e+09,   1.51834663e+10,\n",
       "        -5.85822243e+09,   1.12271779e+10,   1.39395745e+10,\n",
       "         1.87699340e+09,   2.51464345e+10,   1.03751573e+10,\n",
       "         1.78972572e+10,   2.47223172e+09,   3.13655741e+10,\n",
       "         1.09415761e+10,  -1.33975070e+11])"
      ]
     },
     "execution_count": 99,
     "metadata": {},
     "output_type": "execute_result"
    }
   ],
   "source": [
    "get_grad(reg1.coef_, X_train, y_train)"
   ]
  },
  {
   "cell_type": "code",
   "execution_count": 37,
   "metadata": {
    "collapsed": true
   },
   "outputs": [],
   "source": [
    "# возвращает значение регуляризованного функционала MSPE для выборки (X, y) и вектора весов w\n",
    "def get_reg_func(w, X, y):\n",
    "       return ((1/X.shape[0])*((np.dot(((y-np.dot(X,w))/y).T,((y-np.dot(X,w))/y)))))+np.dot(w.T,w)"
   ]
  },
  {
   "cell_type": "code",
   "execution_count": 38,
   "metadata": {
    "collapsed": false
   },
   "outputs": [
    {
     "data": {
      "text/plain": [
       "1.0038443853180403e+26"
      ]
     },
     "execution_count": 38,
     "metadata": {},
     "output_type": "execute_result"
    }
   ],
   "source": [
    "get_reg_func(reg1.coef_, X_test, y_test)"
   ]
  },
  {
   "cell_type": "code",
   "execution_count": 100,
   "metadata": {
    "collapsed": true
   },
   "outputs": [],
   "source": [
    "# возвращает градиент регуляризованного функционала MSPE для выборки (X, y) и вектора весов w\n",
    "def get_reg_grad(w, X, y):\n",
    "    return ((1/X.shape[0])*((-2*np.dot((X.T)/y, ((y- np.dot(X,w))/y))))) +2*w"
   ]
  },
  {
   "cell_type": "code",
   "execution_count": 101,
   "metadata": {
    "collapsed": false
   },
   "outputs": [
    {
     "data": {
      "text/plain": [
       "array([  3.36478896e+11,   3.30542514e+11,   3.40603272e+11,\n",
       "         3.38253339e+11,   3.37846014e+11,   3.34171122e+11,\n",
       "         3.31290971e+11,   3.36274515e+11,   3.39018325e+11,\n",
       "         3.36866498e+11,   3.39689604e+11,   3.33092853e+11,\n",
       "         3.34548789e+11,   3.39522553e+11,   3.31410250e+11,\n",
       "         3.31800651e+11,   3.33088953e+11,   3.03947403e+11,\n",
       "         3.34290397e+11,   3.38375822e+11,  -1.17519900e+12,\n",
       "        -1.17520429e+12,  -1.17631425e+12,  -1.17512715e+12,\n",
       "        -1.17512655e+12,  -1.17517743e+12,  -1.17513827e+12,\n",
       "        -6.19646375e+10,  -4.10732479e+10,  -1.17516987e+12,\n",
       "        -1.17520721e+12,  -1.17517595e+12,  -1.17512583e+12,\n",
       "        -1.17529593e+12,  -1.17513860e+12,  -1.17544546e+12,\n",
       "        -1.17539040e+12,  -1.17518788e+12,  -1.18260341e+12,\n",
       "        -1.17514612e+12,  -1.17621021e+12,  -1.17519112e+12,\n",
       "        -1.17513876e+12,  -1.17514092e+12,  -1.17574387e+12,\n",
       "        -1.17512803e+12,  -1.17517084e+12,  -1.17512656e+12,\n",
       "        -1.17513921e+12,  -1.17558174e+12,  -1.17523516e+12,\n",
       "        -1.17512872e+12,  -9.77692158e+09,  -1.17524862e+12,\n",
       "        -1.17610432e+12,  -1.17552356e+12,  -1.17689634e+12,\n",
       "        -1.17512583e+12,  -1.17522234e+12,  -1.17512652e+12,\n",
       "        -1.17512583e+12,  -1.17513704e+12,  -1.17525158e+12,\n",
       "        -1.17527542e+12,  -1.17566928e+12,  -1.17610656e+12,\n",
       "        -1.17800934e+12,  -1.17518790e+12,  -1.17521833e+12,\n",
       "        -1.17537895e+12,  -1.17512640e+12,  -1.17512794e+12,\n",
       "        -1.17512690e+12,  -1.17515060e+12,  -1.17512673e+12,\n",
       "        -1.17519583e+12,  -1.17512980e+12,  -1.17525442e+12,\n",
       "        -1.17515699e+12,  -1.17639897e+12,  -1.17513686e+12,\n",
       "        -1.17715953e+12,  -1.17556944e+12,  -1.17512946e+12,\n",
       "        -1.17512858e+12,  -1.17517683e+12,  -1.17547563e+12,\n",
       "        -1.17524112e+12,  -1.17521349e+12,  -1.17518441e+12,\n",
       "        -1.17513141e+12,  -1.17657470e+12,  -1.17514651e+12,\n",
       "        -1.17514107e+12,  -1.17679711e+12,  -1.17543254e+12,\n",
       "        -1.17512896e+12,  -1.17662144e+12,  -1.18022322e+12,\n",
       "        -1.18031527e+12,  -1.17518164e+12,  -1.17513369e+12,\n",
       "        -1.17519815e+12,  -1.17524786e+12,  -1.17794504e+12,\n",
       "        -1.17518488e+12,  -1.17521743e+12,  -1.17513791e+12,\n",
       "        -1.17571932e+12,  -1.17512858e+12,  -1.17522308e+12,\n",
       "        -1.17515694e+12,  -1.17513684e+12,  -1.17761070e+12,\n",
       "        -1.17512622e+12,  -1.17518657e+12,  -1.17515100e+12,\n",
       "        -1.17530200e+12,  -1.17517731e+12,  -1.17515882e+12,\n",
       "        -1.17513063e+12,  -1.17607868e+12,  -1.17512583e+12,\n",
       "        -1.17520996e+12,  -1.17519159e+12,  -1.17513300e+12,\n",
       "        -1.17522864e+12,  -1.17512663e+12,  -1.17536186e+12,\n",
       "        -1.17512796e+12,  -1.17512583e+12,  -1.17530679e+12,\n",
       "        -1.17513399e+12,  -1.17516324e+12,  -1.17525585e+12,\n",
       "        -1.17514046e+12,  -1.17528540e+12,  -1.17536090e+12,\n",
       "        -1.17528298e+12,  -1.17512583e+12,  -1.17517435e+12,\n",
       "        -1.17512736e+12,  -1.17512583e+12,  -1.17513498e+12,\n",
       "        -1.17514081e+12,  -1.17513303e+12,  -1.17612424e+12,\n",
       "        -1.17678188e+12,  -1.17526206e+12,  -1.17518602e+12,\n",
       "        -1.17526621e+12,   1.61396981e+10,  -1.17635657e+12,\n",
       "        -1.17952856e+12,  -1.17531399e+12,  -1.17513270e+12,\n",
       "        -1.17524846e+12,  -1.17622616e+12,  -1.17512583e+12,\n",
       "        -1.17521881e+12,  -1.17540994e+12,   6.39371992e+10,\n",
       "        -1.17519988e+12,  -1.17512736e+12,  -1.17513485e+12,\n",
       "        -1.17538209e+12,  -1.17600180e+12,  -1.17715528e+12,\n",
       "        -1.17514310e+12,  -1.17526468e+12,  -1.17513071e+12,\n",
       "        -1.17513418e+12,  -1.17870415e+12,  -1.17520249e+12,\n",
       "        -1.17958882e+12,  -1.17545503e+12,  -1.17521392e+12,\n",
       "        -1.17525659e+12,  -1.17517095e+12,  -1.17695843e+12,\n",
       "        -1.17526983e+12,  -1.17515902e+12,  -1.17544997e+12,\n",
       "        -2.14065054e+10,  -1.17514750e+12,  -1.17517775e+12,\n",
       "        -1.17513052e+12,  -1.17512583e+12,  -1.17514272e+12,\n",
       "        -1.17512705e+12,  -1.17535751e+12,  -1.17513211e+12,\n",
       "        -1.17628608e+12,  -1.17513959e+12,  -1.17758258e+12,\n",
       "        -1.17525578e+12,  -1.17727382e+12,  -1.17512605e+12,\n",
       "        -1.17654520e+12,  -1.17519300e+12,  -1.17520848e+12,\n",
       "        -1.17518659e+12,  -1.17557369e+12,  -1.17625593e+12,\n",
       "        -1.17590131e+12,  -1.17512583e+12,  -1.17522003e+12,\n",
       "        -1.17515226e+12,  -1.17516072e+12,  -1.17517383e+12,\n",
       "        -1.17517527e+12,  -1.17512742e+12,  -1.17513426e+12,\n",
       "        -1.17519111e+12,  -1.17528011e+12,  -1.17513276e+12,\n",
       "        -1.17783954e+12,  -1.17596261e+12,  -1.17513964e+12,\n",
       "        -1.17519987e+12,  -1.17513075e+12,  -1.17671234e+12,\n",
       "        -1.17543436e+12,  -1.17550297e+12,  -1.17555284e+12,\n",
       "        -1.17512695e+12,  -1.17596744e+12,  -1.18152647e+12,\n",
       "        -1.17559124e+12,  -1.17513774e+12,  -1.17513999e+12,\n",
       "        -1.17517842e+12,  -1.17562178e+12,  -1.17636717e+12,\n",
       "        -1.17521286e+12,  -1.17515060e+12,  -1.17700134e+12,\n",
       "        -1.17957681e+12,  -1.17519885e+12,  -1.17513536e+12,\n",
       "        -1.17571736e+12,  -1.17512583e+12,  -1.17513149e+12,\n",
       "        -1.17530378e+12,  -1.17518675e+12,  -1.17513231e+12,\n",
       "        -1.17512583e+12,  -1.17528207e+12,  -1.17563796e+12,\n",
       "        -1.17527349e+12,  -1.17520240e+12,  -1.17518578e+12,\n",
       "        -1.17515240e+12,  -1.17630949e+12,  -1.17512583e+12,\n",
       "        -1.17512583e+12,  -1.17532167e+12,  -1.17513728e+12,\n",
       "        -1.17604580e+12,  -1.17513822e+12,  -1.17523745e+12,\n",
       "        -1.17512796e+12,  -1.17518935e+12,  -1.17537525e+12,\n",
       "        -1.17709786e+12,  -1.17622667e+12,  -1.17527647e+12,\n",
       "        -1.17530123e+12,  -1.17513066e+12,  -1.17521653e+12,\n",
       "        -1.17512583e+12,  -1.17512759e+12,  -1.17557555e+12,\n",
       "        -1.17813599e+12,  -1.17769202e+12,  -1.17517608e+12,\n",
       "        -1.17519533e+12,  -1.17534199e+12,  -1.17512595e+12,\n",
       "        -1.17650616e+12,  -1.17513270e+12,  -1.17530725e+12,\n",
       "        -1.17775739e+12,  -1.17516987e+12,  -1.17588204e+12,\n",
       "        -1.17513672e+12,  -1.17609334e+12,  -1.17512816e+12,\n",
       "        -1.17522019e+12,  -1.17520744e+12,  -1.17620867e+12,\n",
       "        -1.17513032e+12,   2.47215171e+10,  -1.17522846e+12,\n",
       "        -1.17517163e+12,  -1.17515022e+12,  -1.17522707e+12,\n",
       "        -1.17512583e+12,  -1.17525521e+12,  -1.17517561e+12,\n",
       "        -1.17708472e+12,  -1.17515005e+12,  -1.17565271e+12,\n",
       "        -1.17559077e+12,  -1.17513952e+12,  -1.17518675e+12,\n",
       "        -1.17512583e+12,  -1.17515336e+12,  -1.17531799e+12,\n",
       "        -1.17513075e+12,  -1.17519436e+12,  -1.17512651e+12,\n",
       "        -1.17525208e+12,  -1.17512624e+12,  -1.17512858e+12,\n",
       "        -1.17517340e+12,  -3.45905484e+09,  -3.40951021e+09,\n",
       "        -4.85153322e+09,  -3.44773118e+09,  -3.40102742e+09,\n",
       "        -3.43679379e+09,  -3.46179814e+09,  -3.50194575e+10,\n",
       "        -3.40102747e+09,  -3.40102744e+09,  -3.46151340e+09,\n",
       "        -3.41173593e+09,  -1.53339049e+10,  -3.68826674e+09,\n",
       "        -3.48091392e+09,  -3.67901434e+09,  -3.52053013e+09,\n",
       "        -1.05565918e+10,  -3.47362333e+09,  -4.67093641e+09,\n",
       "        -3.45726129e+09,  -3.45614853e+09,  -3.45975661e+09,\n",
       "        -4.07694926e+09,  -3.40510207e+09,  -3.50140222e+09,\n",
       "        -3.42327374e+09,  -3.40792249e+09,  -3.71727449e+09,\n",
       "        -3.52756073e+09,  -3.50778444e+09,  -3.40102746e+09,\n",
       "        -3.40102745e+09,  -3.55288429e+09,  -4.94092999e+09,\n",
       "        -3.73221940e+09,  -5.64247385e+09,  -3.40102747e+09,\n",
       "        -3.40106339e+09,  -3.41387389e+09,  -3.45625345e+09,\n",
       "        -3.40117986e+09,  -3.40714455e+09,  -3.56523403e+09,\n",
       "        -3.52059690e+09,  -3.82941758e+09,  -4.39593141e+09,\n",
       "        -6.30803776e+09,  -3.50468986e+09,  -3.50362318e+09,\n",
       "        -3.48580969e+09,  -3.40171562e+09,  -3.40309562e+09,\n",
       "        -3.40660932e+09,  -3.46602008e+09,  -3.40347423e+09,\n",
       "        -3.54483727e+09,  -3.40157119e+09,  -3.54001678e+09,\n",
       "        -3.41538698e+09,  -4.50095574e+09,  -3.41284275e+09,\n",
       "        -5.54097514e+09,  -4.23202104e+09,  -3.40400924e+09,\n",
       "        -3.40102745e+09,  -3.40278918e+09,  -3.80251111e+09,\n",
       "        -3.41556709e+09,  -3.50114014e+09,  -3.42248532e+09,\n",
       "        -3.49890340e+09,  -4.28016875e+09,  -3.45027321e+09,\n",
       "        -3.50265706e+09,  -5.39821295e+09,  -3.67268983e+09,\n",
       "        -3.40193852e+09,  -5.16777725e+09,  -7.67014478e+09,\n",
       "        -8.12796665e+09,  -3.40973356e+09,  -7.69353648e+09,\n",
       "        -3.44354461e+09,  -3.41801413e+09,  -3.81144196e+09,\n",
       "        -5.77333581e+09,  -3.46156630e+09,  -3.49686922e+09,\n",
       "        -3.42828667e+09,  -4.00916351e+09,  -3.40102745e+09,\n",
       "        -3.54607000e+09,  -3.48515738e+09,  -3.40102746e+09,\n",
       "        -5.46383278e+09,  -3.44996429e+09,  -3.46945554e+09,\n",
       "        -3.44430895e+09,  -3.70397784e+09,  -3.40691323e+09,\n",
       "        -3.40985667e+09,  -3.41613021e+09,  -4.83570782e+09,\n",
       "        -3.40102745e+09,  -3.60100298e+09,  -3.45774066e+09,\n",
       "        -3.41274859e+09,  -3.42623223e+09,  -3.40730361e+09,\n",
       "        -3.87241539e+09,  -3.40592114e+09,  -3.40936414e+09,\n",
       "        -3.45077320e+09,  -3.50671705e+09,  -3.55769857e+09,\n",
       "        -3.55551969e+09,  -3.49784771e+09,  -3.68445054e+09,\n",
       "        -3.58835111e+09,  -3.53689278e+09,  -3.40102748e+09,\n",
       "        -3.40437618e+09,  -3.40187704e+09,  -3.40592837e+09,\n",
       "        -3.46362419e+09,  -3.40102745e+09,  -3.42143677e+09,\n",
       "        -4.28986298e+09,  -4.62425034e+09,  -3.52496206e+09,\n",
       "        -3.53304286e+09,  -3.52684444e+09,  -2.41565995e+10,\n",
       "        -4.61727586e+09,  -6.92571906e+09,  -3.76796555e+09,\n",
       "        -3.41383678e+09,  -3.43023806e+09,  -4.34726630e+09,\n",
       "        -3.34162736e+10,  -3.46831562e+09,  -3.86566640e+09,\n",
       "        -3.40102745e+09,  -3.56295655e+09,  -3.45608141e+09,\n",
       "        -3.46951671e+09,  -3.72718759e+09,  -4.29966935e+09,\n",
       "        -4.73270019e+09,  -3.45484733e+09,  -3.67252087e+09,\n",
       "        -3.40167254e+09,  -3.46658397e+09,  -7.34625525e+09,\n",
       "        -3.41846790e+09,  -7.86174222e+09,  -3.64357315e+09,\n",
       "        -3.40768376e+09,  -3.51593761e+09,  -3.48106082e+09,\n",
       "        -4.78238366e+09,  -3.59904425e+09,  -3.72722371e+09,\n",
       "        -3.78765051e+09,  -3.40352417e+09,  -3.46358958e+09,\n",
       "        -3.40948957e+09,  -3.41411635e+09,  -3.40592115e+09,\n",
       "        -3.40102745e+09,  -3.40157118e+09,  -3.54015539e+09,\n",
       "        -3.43358308e+09,  -4.83761654e+09,  -3.40378714e+09,\n",
       "        -6.58924386e+09,  -3.53077451e+09,  -5.98917568e+09,\n",
       "        -3.40473136e+09,  -4.30995803e+09,  -3.54379923e+09,\n",
       "        -3.44991833e+09,  -3.47492578e+09,  -3.68440505e+09,\n",
       "        -4.29152519e+09,  -4.09283242e+09,  -3.40347735e+09,\n",
       "        -3.40869518e+09,  -3.47296660e+09,  -3.42390357e+09,\n",
       "        -3.58676803e+09,  -3.41801420e+09,  -3.40378015e+09,\n",
       "        -3.40157119e+09,  -3.46072576e+09,  -3.66984385e+09,\n",
       "        -3.47219320e+09,  -5.54022547e+09,  -4.55250654e+09,\n",
       "        -3.40919543e+09,  -3.48536439e+09,  -3.46961257e+09,\n",
       "        -5.19730879e+09,  -3.76822933e+09,  -3.80954945e+09,\n",
       "        -3.77793512e+09,  -3.41526883e+09,  -4.36918543e+09,\n",
       "        -8.21574473e+09,  -3.73255295e+09,  -3.40261447e+09,\n",
       "        -3.40385062e+09,  -3.41050897e+09,  -3.81111527e+09,\n",
       "        -4.57188332e+09,  -3.40310071e+09,  -3.46804562e+09,\n",
       "        -5.09308664e+09,  -6.50290558e+09,  -3.43542685e+09,\n",
       "        -3.40523602e+09,  -4.24529643e+09,  -3.40102745e+09,\n",
       "        -3.41293707e+09,  -3.62643261e+09,  -3.41000621e+09,\n",
       "        -3.44507786e+09,  -3.40428863e+09,  -3.65863119e+09,\n",
       "        -3.89964617e+09,  -3.49425585e+09,  -3.42379454e+09,\n",
       "        -3.41481714e+09,  -3.43864419e+09,  -4.59742937e+09,\n",
       "        -3.40107982e+09,  -3.44507062e+09,  -3.83675858e+09,\n",
       "        -3.40279513e+09,  -3.97204338e+09,  -3.41956590e+09,\n",
       "        -3.61177109e+09,  -3.40155113e+09,  -3.45240777e+09,\n",
       "        -3.93204536e+09,  -5.79193928e+09,  -4.55093965e+09,\n",
       "        -3.57607072e+09,  -3.79439625e+09,  -3.42733506e+09,\n",
       "        -3.44454190e+09,  -3.41247867e+09,  -3.40228485e+09,\n",
       "        -4.16752148e+09,  -5.72952928e+09,  -5.77026778e+09,\n",
       "        -3.61983686e+09,  -3.46357486e+09,  -3.51907721e+09,\n",
       "        -3.40715985e+09,  -4.84939896e+09,  -3.44795925e+09,\n",
       "        -3.78654921e+09,  -6.57209881e+09,  -3.40432387e+09,\n",
       "        -4.60122277e+09,  -3.49230690e+09,  -4.47060758e+09,\n",
       "        -3.41326280e+09,  -3.41612137e+09,  -3.53210239e+09,\n",
       "        -4.97025269e+09,  -3.45511412e+09,  -3.44507061e+09,\n",
       "        -3.47920776e+09,  -3.40102744e+09,  -3.52242774e+09,\n",
       "        -3.68088040e+09,  -3.55644133e+09,  -3.45404200e+09,\n",
       "        -5.54333407e+09,  -3.40378014e+09,  -3.79983362e+09,\n",
       "        -4.01967831e+09,  -3.43718403e+09,  -3.41709097e+09,\n",
       "        -3.40832854e+09,  -3.41768395e+09,  -3.58468506e+09,\n",
       "        -3.40378283e+09,  -3.47486608e+09,  -3.40368801e+09,\n",
       "        -3.40157119e+09,  -3.60328896e+09,  -3.40313480e+09,\n",
       "        -3.40102745e+09,  -3.47242631e+09,  -4.63923120e+09,\n",
       "         1.27561581e+09,  -2.43315060e+09,   1.40778640e+10,\n",
       "        -2.37092950e+09,   1.02529197e+10,   1.12005052e+10,\n",
       "        -1.67668060e+09,   2.51008311e+10,   1.03439364e+10,\n",
       "         1.54410020e+10,   2.47541706e+09,   3.12012891e+10,\n",
       "         1.05594450e+10,  -1.33642061e+11])"
      ]
     },
     "execution_count": 101,
     "metadata": {},
     "output_type": "execute_result"
    }
   ],
   "source": [
    "get_reg_grad(reg1.coef_, X_test, y_test)"
   ]
  },
  {
   "cell_type": "markdown",
   "metadata": {},
   "source": [
    "**16. (1 балл)** Реализуйте метод градиентного спуска для описанных функционалов ($MSPE$ и его регуляризованный вариант). Функция должна принимать следующие параметры:\n",
    " - X — матрица \"объект-признак\";\n",
    " - y — вектор целевой переменной;\n",
    " - w0 — начальное значение вектора весов;\n",
    " - step_size — значение темпа обучения;\n",
    " - max_iter — максимальное число итераций;\n",
    " - eps — значение, используемое в критерии останова;\n",
    " - is_reg — бинарный параметр, принимает значение True в случае наличия регуляризации функционала, False — в противном случае.\n",
    " \n",
    "Процесс должен быть остановлен, если выполнено хотя бы одно из следующих условий:\n",
    " - было выполнено заданное количество итераций max_iter;\n",
    " - евклидова норма разности векторов $w$ на соседних итерациях стала меньше, чем eps.\n",
    "\n",
    "Функция должна возвращать полученный в результате оптимизации вектор $w$ и список значений функционала на каждой итерации."
   ]
  },
  {
   "cell_type": "markdown",
   "metadata": {},
   "source": [
    "Будем использовать функции, созданные нами ранее:"
   ]
  },
  {
   "cell_type": "code",
   "execution_count": 111,
   "metadata": {
    "collapsed": false
   },
   "outputs": [],
   "source": [
    "#при написании данной функции я использовала материалы семинара по майнору ИАД, так что похожая функция мб у других\n",
    "import matplotlib.pyplot as plt  \n",
    "def grad_descent(X, y, step_size, max_iter, eps, is_reg): \n",
    "        w_list=[]\n",
    "        w0 = np.random.normal(size=X.shape[1])\n",
    "        MSPE = []\n",
    "        w=0\n",
    "        if is_reg==False:\n",
    "\n",
    "            for i in range(max_iter):\n",
    "                MSPE.append(get_func(w0, X, y))\n",
    "                w = w0 - step_size*get_grad(w0, X, y)\n",
    "                w_list.append(w)\n",
    "                if np.dot(((w)-w0).T,((w)-w0))<eps:\n",
    "                    break\n",
    "                w0=w\n",
    "            \n",
    "#            print('Оптимальные веса:',w) # чтобы два раза не выводилось \n",
    "#            print('Значения MSPE:',MSPE)\n",
    "            return  w, MSPE\n",
    "        else:\n",
    "            for i in range(max_iter):\n",
    "                MSPE.append(get_reg_func(w0, X, y))\n",
    "                w = w0 - step_size*get_reg_grad(w0, X, y)\n",
    "                w_list.append(w)\n",
    "                if np.dot(((w)-w0).T,((w)-w0))<eps:\n",
    "                    break\n",
    "                w0=w\n",
    "            \n",
    "#            print('Оптимальные веса:',w)\n",
    "#            print('Значения MSPE:',MSPE)\n",
    "            return  w, MSPE\n",
    "#        plt.figure(figsize=[10,3])\n",
    "    \n",
    "#        plt.subplot(1,2,1)\n",
    "#        plt.scatter(w_list, MSPE, c=\"r\")\n",
    "#        plt.plot(w_list, MSPE, c=\"r\")\n",
    "#        plt.plot(w, get_func(w0, X, y), c=\"b\")\n",
    "#        plt.xlim([-1,2.5])\n",
    "#        plt.ylim([0,3])\n",
    "#        plt.title(\"Descent trajectory\")\n",
    "#        plt.show()   \n",
    "\n",
    "    "
   ]
  },
  {
   "cell_type": "code",
   "execution_count": 103,
   "metadata": {
    "collapsed": false
   },
   "outputs": [
    {
     "data": {
      "text/plain": [
       "(array([  4.10299863e-01,   1.13083593e+00,   2.18680992e-01,\n",
       "         -4.71830916e-01,  -2.65124300e-01,   2.12010387e+00,\n",
       "          1.11834983e+00,  -1.50364623e+00,   1.61612427e+00,\n",
       "         -1.34970543e+00,  -1.10242853e+00,   9.50657983e-03,\n",
       "          2.43569607e+00,   2.10201536e-01,  -2.50982368e-01,\n",
       "         -1.11878556e-01,  -1.59767021e+00,   1.99228709e-01,\n",
       "         -1.07789913e+00,   1.32559777e-01,   4.89303564e-01,\n",
       "         -2.33565270e+00,   4.20834282e-01,   5.92140146e-01,\n",
       "          1.28055327e+00,  -9.62957825e-01,   4.30261763e-01,\n",
       "         -4.30978561e-01,   3.51218937e-01,  -2.59239751e-01,\n",
       "          2.30547063e-03,   3.03111012e+00,  -1.29711772e+00,\n",
       "          1.63279374e-01,  -5.32027534e-01,   2.09879173e+00,\n",
       "         -1.74541539e+00,   2.33874363e-01,   9.75878880e-02,\n",
       "          1.60739090e+00,  -1.59637954e-01,   1.38870605e+00,\n",
       "          1.42306969e+00,  -4.54873328e-01,  -8.17890656e-01,\n",
       "          1.57129203e+00,   1.33101867e+00,  -6.17757814e-01,\n",
       "         -3.93027427e-01,  -5.49141837e-01,   9.32618331e-01,\n",
       "          1.91874834e+00,  -1.87809953e-02,   1.16548897e+00,\n",
       "         -7.35271231e-02,   1.85601671e-02,   1.61776744e-01,\n",
       "          1.37325145e-01,   6.40461800e-01,  -3.99181784e-01,\n",
       "         -1.27560585e+00,  -5.04832000e-01,   9.20957517e-01,\n",
       "         -9.97261679e-01,   2.29544957e-01,  -7.62576846e-01,\n",
       "          7.01821804e-01,  -1.59358741e+00,   1.53483384e-01,\n",
       "         -3.22641159e-01,   2.15295223e-01,   8.10944378e-01,\n",
       "          1.44619631e+00,  -2.16896821e-01,  -2.45729171e-02,\n",
       "          1.96822061e+00,  -8.65225953e-01,  -3.48127522e-01,\n",
       "         -2.28258695e-01,   4.64103212e-01,   4.95802999e-02,\n",
       "          6.42043869e-02,   1.65407396e-01,   1.45309678e+00,\n",
       "          8.79736285e-01,  -7.96007621e-01,   9.99517662e-01,\n",
       "          4.97233598e-01,   7.13320574e-01,   1.60632852e-01,\n",
       "         -8.04793228e-01,   5.10079860e-01,   9.32500495e-02,\n",
       "          8.07991833e-01,   6.69328987e-01,  -1.26383074e+00,\n",
       "         -3.31255078e-01,  -7.18491561e-01,   6.71939887e-01,\n",
       "          1.43847588e-01,   1.33850108e+00,   5.16077235e-02,\n",
       "          6.57560062e-01,   2.66501340e-01,   1.33225047e+00,\n",
       "          1.22207494e+00,   7.36411240e-01,  -8.67263186e-01,\n",
       "          6.72611627e-01,   8.66422866e-01,  -8.66762549e-01,\n",
       "         -2.05608486e+00,  -2.40277794e-01,  -3.58769759e-01,\n",
       "         -6.46497495e-01,   1.08153125e+00,   5.92472715e-01,\n",
       "          2.43468220e-01,   3.36348100e-01,  -1.74413043e-01,\n",
       "          6.43685453e-01,   1.99942891e-01,   9.32972896e-01,\n",
       "         -5.42014193e-01,  -3.53794487e-01,  -1.18856011e+00,\n",
       "         -2.56331241e-01,   1.24872816e+00,  -1.28018809e+00,\n",
       "          7.72263296e-01,  -1.07878589e+00,  -3.99134708e-01,\n",
       "          2.01557263e-01,   1.33243382e+00,  -3.64259801e-01,\n",
       "          2.11364730e+00,   9.81872609e-01,  -3.68101796e-01,\n",
       "         -2.50357594e+00,  -1.12434990e+00,   1.16966489e+00,\n",
       "          5.48919034e-01,  -5.33857148e-01,   4.03473904e-02,\n",
       "         -4.38306196e-01,  -4.22095643e-02,  -3.12146478e-01,\n",
       "          1.21507040e+00,  -3.04144692e-01,  -5.95365752e-01,\n",
       "          9.39994727e-01,  -5.87926524e-01,  -5.90554027e-01,\n",
       "         -4.13289848e-01,  -3.00979134e-02,   1.29391236e+00,\n",
       "         -1.07190174e+00,   1.21575202e+00,   8.19814489e-01,\n",
       "         -1.58850590e+00,  -3.20063391e-01,   5.75482307e-01,\n",
       "         -1.40823251e+00,   5.64334196e-01,   5.22440370e-01,\n",
       "         -1.01522489e+00,   3.41690438e-01,   9.81152844e-01,\n",
       "         -1.56907942e+00,  -2.95072547e-01,  -2.90128717e-01,\n",
       "          8.00185186e-01,  -7.32044847e-01,  -3.09731675e-01,\n",
       "          3.27273940e-01,  -2.00587202e+00,   6.92183773e-01,\n",
       "         -3.72621541e-01,  -3.20843026e-01,   3.21678861e-01,\n",
       "         -6.95070519e-01,   1.02825441e-01,  -1.29734194e+00,\n",
       "         -1.02538030e+00,   1.05806400e+00,  -2.58925031e+00,\n",
       "          1.84259823e+00,  -4.65302283e-01,  -9.60528092e-01,\n",
       "          2.33508386e+00,   5.97904503e-01,  -2.14434966e-01,\n",
       "         -5.80764076e-03,   5.70511637e-01,  -8.26857748e-02,\n",
       "         -2.53987486e-01,   5.03735285e-01,   5.67922104e-02,\n",
       "          1.79620226e-01,  -2.74718110e-01,   1.24468430e+00,\n",
       "          1.39725450e+00,   6.34813120e-01,  -2.88149505e-02,\n",
       "          2.73690182e-01,   8.90834110e-01,   1.46383569e+00,\n",
       "          1.07461055e+00,   1.56685523e+00,  -9.66043253e-01,\n",
       "          2.82959585e-01,   1.60056646e+00,  -2.51058974e-01,\n",
       "         -2.52017711e-01,  -8.82256162e-01,  -5.14399386e-01,\n",
       "         -3.90194355e-01,  -1.27958760e+00,  -1.45054183e+00,\n",
       "         -1.80159797e+00,   2.05618099e+00,   1.09076697e+00,\n",
       "          1.09789848e+00,   7.19003122e-01,   1.50311873e-01,\n",
       "          1.00617577e+00,   8.55160058e-01,   1.03692605e+00,\n",
       "         -8.01532660e-01,  -1.36367026e+00,   1.44599477e+00,\n",
       "          1.44616117e+00,  -3.10520910e-01,  -8.90948103e-01,\n",
       "          1.30083406e-01,  -2.10558952e-02,  -3.41595443e-01,\n",
       "          6.48374916e-01,  -1.73849890e-01,   1.29586829e+00,\n",
       "          9.54178981e-01,   7.81840832e-01,   3.08805382e-01,\n",
       "          3.08011757e-01,   7.22047575e-01,  -6.28791777e-02,\n",
       "          9.15078745e-01,   6.85070175e-02,   1.33299050e+00,\n",
       "         -1.42201217e+00,  -2.53524559e-01,  -7.91532619e-01,\n",
       "          4.67058335e-01,  -7.20445386e-01,  -1.28731383e+00,\n",
       "         -8.06915265e-02,  -1.43602052e+00,  -1.74819766e+00,\n",
       "          5.92508381e-01,   2.63599388e-01,   1.55562251e+00,\n",
       "          2.47095104e-01,  -5.08041299e-01,  -5.66652137e-01,\n",
       "          1.08546078e+00,  -1.45628464e+00,  -5.76456248e-01,\n",
       "         -6.81134262e-01,   1.38468925e+00,   1.20384375e+00,\n",
       "          1.57943614e-01,  -2.57224994e-01,   9.97054452e-01,\n",
       "         -1.80906113e-01,   1.16392359e+00,   5.16188408e-01,\n",
       "         -7.92106158e-01,  -4.02125529e-01,  -1.12623251e+00,\n",
       "         -5.26713129e-01,  -3.27008583e+00,  -2.74377734e-01,\n",
       "         -1.67552587e+00,   1.20175824e+00,  -1.72792996e+00,\n",
       "          2.69812965e-01,  -7.89167028e-01,   1.37291846e+00,\n",
       "         -3.34702076e-01,   9.65084330e-01,  -8.87773591e-01,\n",
       "          4.90404201e-01,  -8.55965861e-01,   1.14519083e+00,\n",
       "          1.33623148e+00,  -1.99051671e-02,   7.80395165e-01,\n",
       "         -1.86187653e+00,   2.55305647e-01,  -6.71753093e-01,\n",
       "         -1.25889628e+00,  -7.70940921e-01,  -5.62109591e-01,\n",
       "          4.98160457e-01,  -1.22000279e-02,   9.98039852e-01,\n",
       "          1.14585497e+00,  -5.07875347e-01,   1.98073321e+00,\n",
       "          8.91587511e-01,   3.11767238e-01,  -2.95690184e+00,\n",
       "         -3.57677034e-02,   1.24880359e+00,  -2.71049736e-01,\n",
       "          3.56266983e-01,  -2.35639946e-01,  -1.05527109e-01,\n",
       "          2.81772219e-02,   8.04088550e-01,  -3.88399592e-01,\n",
       "          6.71928289e-01,  -7.03963100e-01,   2.89102282e-01,\n",
       "          5.88319291e-01,  -1.36553498e-01,   6.93425812e-01,\n",
       "         -4.20623129e-01,  -5.13307713e-02,   6.15608230e-01,\n",
       "          5.54411240e-01,  -2.98983961e-01,  -6.57688419e-01,\n",
       "         -4.42583659e-01,   3.19857635e+00,  -9.79714490e-01,\n",
       "         -1.29636461e+00,   1.91725038e+00,  -1.52307451e+00,\n",
       "         -2.78119438e-01,  -7.40440001e-01,  -8.06300590e-01,\n",
       "          1.57689263e+00,   1.87600902e-01,  -6.79339127e-01,\n",
       "          3.27964598e-02,  -1.84976781e-01,   4.50317485e-01,\n",
       "          1.28097227e+00,   2.40111690e-01,  -1.48384950e+00,\n",
       "          5.29632784e-01,  -9.81016203e-01,   2.05502399e-01,\n",
       "          1.19958884e+00,   9.34538296e-01,  -1.10552463e-01,\n",
       "          1.49189509e+00,   1.38415574e+00,   1.10888674e+00,\n",
       "         -2.61915905e-01,   3.83976825e-01,  -1.17058083e+00,\n",
       "          1.61463310e+00,  -1.50849303e+00,   9.26498789e-01,\n",
       "         -2.10644801e-01,  -1.58609002e+00,   3.19636342e-01,\n",
       "         -1.55794491e+00,  -6.52153379e-01,  -7.71721762e-01,\n",
       "         -1.19275026e+00,  -4.51128748e-01,   6.88123425e-01,\n",
       "          1.92001409e-01,  -3.38878012e-01,   1.18882856e+00,\n",
       "          1.28702279e+00,   1.53047583e+00,  -2.44747484e+00,\n",
       "         -1.08249741e+00,   3.09026834e-02,  -2.59573529e-01,\n",
       "         -5.78995475e-01,   7.24952692e-01,  -5.38746923e-01,\n",
       "          1.04518033e+00,  -5.93678933e-02,  -3.27768245e-02,\n",
       "         -5.59037179e-01,  -8.12714669e-01,   2.92862042e-01,\n",
       "          1.73855712e+00,   5.31094885e-01,   1.26521077e+00,\n",
       "          1.06903647e-01,   4.24692316e-01,   1.42165371e+00,\n",
       "          1.54836488e-01,   4.35666418e-02,  -5.30113829e-01,\n",
       "          2.39640388e-01,  -4.66298115e-01,  -9.71951104e-01,\n",
       "         -1.04744250e+00,   2.32392082e-02,   3.96871128e-01,\n",
       "          9.53399021e-01,  -4.16037110e-01,   8.42669730e-01,\n",
       "         -4.52229081e-01,   8.69831528e-02,  -9.00500070e-01,\n",
       "          1.77181693e+00,  -1.65993601e+00,  -4.53156691e-01,\n",
       "          1.49902649e-01,  -4.80744748e-01,  -1.88899176e+00,\n",
       "          7.40957077e-01,  -3.00920016e-01,   8.21569313e-02,\n",
       "         -2.84503106e-01,  -5.95315112e-02,   2.27129167e-01,\n",
       "         -3.82563204e-01,  -5.86416162e-01,  -6.34203349e-01,\n",
       "         -7.19735534e-01,   1.81633723e-01,   6.03978040e-02,\n",
       "          5.08581326e-02,  -1.01170434e+00,   9.96192992e-01,\n",
       "         -4.94584527e-01,  -5.65084247e-01,   6.51668302e-01,\n",
       "          3.60965037e-01,   1.73685695e-01,  -7.82039768e-01,\n",
       "         -3.59005301e-01,  -7.22269030e-02,  -1.21678828e-01,\n",
       "         -7.68147869e-01,   1.43589296e+00,   8.71193470e-01,\n",
       "         -1.45032775e+00,  -1.08579211e+00,   3.61999356e-01,\n",
       "          1.18498720e+00,  -6.28170524e-02,   9.85548508e-02,\n",
       "          1.52527727e+00,  -6.94809037e-01,  -8.19948939e-01,\n",
       "         -5.57527446e-01,   6.12982260e-01,  -6.89045088e-01,\n",
       "          1.29556700e+00,   1.57457408e-02,  -1.63529817e+00,\n",
       "          1.02917679e-01,   6.19444677e-01,   2.59176178e-01,\n",
       "         -2.44007007e-01,   1.33531375e+00,  -1.04144823e+00,\n",
       "         -3.44182121e-01,  -1.03352462e+00,   7.25644780e-01,\n",
       "         -5.15022818e-01,   2.83890870e-02,   6.91639744e-01,\n",
       "          1.84900913e-01,  -1.40787718e+00,  -1.10265508e+00,\n",
       "         -3.52331302e-01,   1.13660796e+00,   6.40168403e-01,\n",
       "         -4.34768159e-01,   4.15429413e-01,  -2.67216453e-01,\n",
       "          3.02112736e-02,  -2.92205875e-01,  -2.99213600e-01,\n",
       "          4.19444009e-01,   2.47821840e-01,   6.75291125e-02,\n",
       "         -1.15457401e+00,  -2.54759371e+00,   2.31178119e-01,\n",
       "          1.21440037e+00,   3.90084313e-01,  -1.78452588e+00,\n",
       "         -1.94993142e+00,  -1.54206085e-01,  -9.42580170e-01,\n",
       "          1.46867756e+00,   1.17632077e+00,  -1.66085202e+00,\n",
       "          4.04482417e-02,  -7.92192408e-02,   5.19851867e-01,\n",
       "          8.92421765e-01,  -1.51132569e+00,  -5.61931599e-01,\n",
       "         -7.17206767e-01,  -1.03708172e+00,   5.24047175e-02,\n",
       "          2.12410652e+00,  -1.48944712e+00,  -3.91810218e-02,\n",
       "          5.84958671e-01,  -1.69789318e-01,  -1.19833651e-01,\n",
       "          1.39457545e-01,  -1.35254445e+00,  -1.17449308e+00,\n",
       "         -8.53972433e-01,  -4.63849009e-01,   1.42536972e-01,\n",
       "         -1.17757010e+00,   5.95743134e-01,  -8.89985836e-01,\n",
       "          9.09409079e-01,   1.29217170e+00,  -4.79862915e-01,\n",
       "          1.45060531e-01,  -1.77255706e+00,   3.36071192e-01,\n",
       "         -2.53400976e-01,  -4.82034646e-01,  -7.37445132e-01,\n",
       "         -7.69556110e-01,  -1.31264860e+00,  -2.46788268e+00,\n",
       "          1.27629372e+00,   3.51238679e-01,   9.27518273e-01,\n",
       "         -1.58717656e+00,   6.12725138e-01,  -5.56168921e-01,\n",
       "          1.31884607e+00,  -1.10779308e+00,   5.13460201e-01,\n",
       "         -1.39776171e+00,  -9.81438764e-01,  -1.11448032e+00,\n",
       "         -1.20973049e+00,  -5.02618123e-01,  -1.17411297e+00,\n",
       "         -1.22450705e+00,  -5.35917769e-01,   9.86485343e-01,\n",
       "          5.05479622e-01,  -1.22195162e-01,   2.09016005e-02,\n",
       "         -4.88001856e-01,  -4.54086714e-01,   1.02611243e+00,\n",
       "          1.62961557e-02,   5.17890530e-01,   1.10381692e+00,\n",
       "          3.59525111e-01,  -1.06414031e-01,   1.43325996e+00,\n",
       "         -1.37616482e+00,   1.97614850e-01,   2.31577189e-01,\n",
       "         -1.24796020e+00,  -2.00536227e-01,  -1.27318332e+00,\n",
       "          4.32158852e-01,   6.72093426e-01,  -1.04875069e+00,\n",
       "         -6.47322835e-01,   1.10286459e+00,   6.79268196e-01,\n",
       "          9.90072486e-02,   7.13985631e-01,   3.81001087e-01,\n",
       "         -3.31970846e-01,   6.41762233e-01,  -2.05424472e+00,\n",
       "         -1.02574067e+00,   8.04661140e-02,   3.55241951e-01,\n",
       "         -7.21869765e-02,  -9.46375816e-01,   1.11110852e+00,\n",
       "         -3.96233947e-01,   5.41700061e-01,   6.54195132e-02,\n",
       "          3.98341226e-01,   2.13221343e+00,   2.39245099e+00,\n",
       "          1.73419792e-01,   7.14886684e-01,   1.45599185e+00,\n",
       "         -5.83169067e-01,   6.62993625e-01,  -5.94675048e-01,\n",
       "          9.36351724e-01,  -3.07248763e-01,   5.79147776e-01,\n",
       "          2.15165864e+00,  -1.12758341e+00,  -1.13431306e+00,\n",
       "         -1.20116635e-01,  -2.77204312e-01,  -6.54885347e-01,\n",
       "         -1.37964696e-02,   1.72582855e-01,  -1.59434299e-01,\n",
       "          1.07922874e-01,   1.08971257e-01,   1.92813610e-01,\n",
       "         -1.29628847e-01,   7.28081437e-02,   3.36358097e-01,\n",
       "          1.80722400e-02,   1.08396645e-01,  -1.09119056e-01,\n",
       "         -5.12677898e-01,   3.82759914e-01,  -2.08440954e-01,\n",
       "          3.25077941e-01,  -6.99027496e-01]),\n",
       " [4.4665819744078412,\n",
       "  2.8977658242656457,\n",
       "  2.1163765592063761,\n",
       "  1.7203243621179021,\n",
       "  1.5151638018336786,\n",
       "  1.4055257964604657])"
      ]
     },
     "execution_count": 103,
     "metadata": {},
     "output_type": "execute_result"
    }
   ],
   "source": [
    "grad_descent(X_test, y_test, step_size=1, max_iter=20, eps=0.1, is_reg= False)"
   ]
  },
  {
   "cell_type": "markdown",
   "metadata": {},
   "source": [
    "Сначала выводятся оптимальные веса, потом значения MSPE"
   ]
  },
  {
   "cell_type": "markdown",
   "metadata": {},
   "source": [
    "Обучите линейную регрессию с функционалом $MSPE$ на обучающей выборке при помощи метода градиентного спуска и изобразите кривые зависимости значения функционала от номера итерации для различных:\n",
    " * значений размера шага из набора [0.001, 1, 10];\n",
    " * способов начальной инициализации вектора весов (нули, случайные веса).\n",
    "\n",
    "Проанализируйте полученные результаты — влияют ли данные параметры на скорость сходимости и итоговое качество? Если да, то как?"
   ]
  },
  {
   "cell_type": "code",
   "execution_count": 113,
   "metadata": {
    "collapsed": false
   },
   "outputs": [
    {
     "data": {
      "text/plain": [
       "(array([ -2.00778492e-01,  -7.04041227e-01,   2.12373578e-01,\n",
       "         -3.02153168e-01,  -1.30329732e+00,  -8.67648861e-01,\n",
       "          5.30658958e-01,  -1.79341245e-01,   1.13764786e+00,\n",
       "         -3.08237202e+00,  -1.94152836e+00,  -4.91806654e-01,\n",
       "         -6.01111296e-01,   1.38920630e+00,   3.21157700e-01,\n",
       "          9.46257893e-01,  -1.69827673e-01,   4.60010970e-01,\n",
       "         -2.49553878e-01,   3.13831336e-01,   1.32315636e+00,\n",
       "         -2.67788915e-01,  -1.77205939e+00,   2.47057184e+00,\n",
       "         -4.66698710e-01,  -1.85966065e+00,   3.57645010e-01,\n",
       "          4.83304700e-02,   1.21332222e+00,   6.25944065e-02,\n",
       "         -1.03914786e-01,   7.31276925e-01,  -3.04783301e-01,\n",
       "          7.18759383e-01,   1.48817896e+00,  -8.28985203e-01,\n",
       "         -5.08484521e-01,  -1.19007408e+00,  -2.14322847e+00,\n",
       "         -1.88356637e+00,   1.60260072e+00,   4.51265156e-01,\n",
       "          1.85285014e+00,   8.59693417e-02,   6.34257777e-01,\n",
       "          8.71005550e-01,  -6.51499268e-01,  -9.07716087e-01,\n",
       "         -6.58652796e-01,   4.48839661e-01,  -2.44089682e-01,\n",
       "          6.15957913e-01,   1.20780263e+00,   4.53594515e-01,\n",
       "         -1.67223457e+00,   1.08912609e+00,   4.24001014e-01,\n",
       "         -7.28538275e-01,   1.07722083e+00,  -7.07286378e-01,\n",
       "         -1.51854981e+00,  -6.47511109e-01,  -1.19264227e+00,\n",
       "          3.46568314e-01,   3.08886332e-01,   1.24973488e+00,\n",
       "         -5.47622971e-01,  -1.27012799e+00,   2.63148078e-01,\n",
       "          1.48127053e-01,   7.43848503e-01,   7.93037506e-01,\n",
       "          4.95158471e-01,   1.72092179e+00,  -5.59759284e-01,\n",
       "          4.24567733e-01,   1.65404967e+00,   1.07337760e+00,\n",
       "          6.53378514e-01,  -5.32416628e-01,  -6.57259295e-01,\n",
       "         -2.85137775e-01,  -5.59705452e-01,  -1.78430150e+00,\n",
       "         -2.25980927e+00,   3.97020506e-01,  -1.17413303e+00,\n",
       "          1.30083415e+00,   2.28214653e+00,   2.64549688e-01,\n",
       "          1.91044229e+00,   1.28939987e-01,   7.99553217e-01,\n",
       "         -1.09243317e+00,   8.81109107e-01,  -2.24968292e-01,\n",
       "          6.20802077e-01,   9.10154079e-01,   7.40443081e-01,\n",
       "         -1.26831142e+00,   6.41689866e-01,   2.01189771e-01,\n",
       "          1.08507708e+00,   3.63393458e-01,   2.71257740e-01,\n",
       "         -4.60238847e-01,   1.32825646e+00,  -1.42089455e+00,\n",
       "          3.82591340e-01,  -4.54716118e-02,  -5.30376332e-01,\n",
       "          2.22955160e-01,   1.06330514e+00,  -8.63621425e-01,\n",
       "          4.99992573e-01,  -6.80715362e-01,   3.73265204e-01,\n",
       "          1.86701375e+00,   1.54352864e+00,  -7.74950823e-01,\n",
       "         -1.16243686e+00,   3.92436180e-01,   5.72720862e-01,\n",
       "          9.69957289e-01,  -5.40515968e-01,   1.07608385e-01,\n",
       "         -1.05848717e+00,   7.02025539e-02,   1.06020180e+00,\n",
       "          6.17551121e-01,  -9.96115154e-01,   4.88667332e-01,\n",
       "         -1.61080818e+00,  -2.48502445e-01,   7.89384240e-01,\n",
       "         -1.57017659e+00,   1.16149661e+00,  -3.78689341e-01,\n",
       "         -1.44127853e-01,  -9.04143627e-01,  -8.96194386e-02,\n",
       "          7.49113290e-01,   8.15901437e-01,  -1.19829215e+00,\n",
       "          1.91587601e-01,  -1.77267954e+00,   1.04041230e+00,\n",
       "         -7.56284897e-01,  -5.20979638e-01,  -7.48612763e-01,\n",
       "          5.94831443e-01,  -1.35844144e-01,  -1.57849634e+00,\n",
       "          1.91679648e+00,   3.29135665e-01,   2.20438300e-01,\n",
       "         -1.98839039e-01,   3.50052223e-01,  -1.77605458e+00,\n",
       "         -1.30059337e+00,   3.52768102e-02,  -3.50061665e-01,\n",
       "         -3.19515680e-01,  -1.33488673e+00,   4.15052448e-02,\n",
       "          5.92397986e-01,  -2.82698684e-01,  -3.94475328e-01,\n",
       "         -3.16406558e-01,   4.25248465e-02,   4.24767190e-01,\n",
       "         -2.34874673e-01,  -1.42726400e+00,  -2.00339145e+00,\n",
       "         -8.31455401e-01,  -1.39839814e+00,  -1.27947963e+00,\n",
       "          8.49061721e-03,   7.25899057e-01,  -9.79429726e-01,\n",
       "          2.15172854e+00,   3.29496647e-02,   4.25741808e-01,\n",
       "         -1.05600957e+00,  -8.48726648e-01,   9.31835132e-01,\n",
       "          2.08000401e-01,  -4.85359203e-01,   1.72662958e+00,\n",
       "         -7.80601786e-01,  -2.69586554e-01,   1.34126523e+00,\n",
       "          1.12105722e-01,   2.72048352e-01,  -7.62638324e-02,\n",
       "         -1.54818434e-01,  -4.29518482e-01,   1.90349867e+00,\n",
       "          1.30433617e+00,  -3.07064489e-01,  -1.29220405e-01,\n",
       "         -1.61092484e+00,   8.89171223e-01,  -6.34211345e-01,\n",
       "          1.82831013e+00,  -1.33616197e+00,   1.23677660e+00,\n",
       "         -2.09807050e+00,   1.08148971e+00,   4.24105241e-01,\n",
       "          3.80534002e-01,   7.07368801e-01,   5.90390273e-01,\n",
       "         -4.14984068e-01,  -1.77731731e+00,  -2.52836687e+00,\n",
       "          4.43149939e-01,   1.44301459e+00,  -4.02046290e-01,\n",
       "         -1.68285354e+00,  -3.33114117e-01,   1.39732088e+00,\n",
       "          4.14998593e-01,   4.75397515e-01,  -5.35698898e-01,\n",
       "          9.58508218e-01,   2.34321007e-01,  -8.34888758e-01,\n",
       "          3.73859173e-02,   1.39001549e-01,  -6.76654381e-01,\n",
       "          1.15534559e-01,  -5.23339519e-01,  -1.48499747e-01,\n",
       "         -1.51991026e+00,  -1.38254659e+00,   7.11353074e-01,\n",
       "          4.72561601e-01,   1.90706213e+00,  -3.74668648e-01,\n",
       "          6.73117716e-01,  -2.84620175e-01,  -2.30647035e-01,\n",
       "          2.53332117e-01,   3.91016277e-01,   1.46233473e+00,\n",
       "          1.09025777e+00,   6.05237361e-01,   1.38722110e+00,\n",
       "          3.85746706e-01,  -9.60050891e-01,  -6.96441954e-01,\n",
       "          5.33315774e-01,  -9.19673442e-01,   7.21396553e-01,\n",
       "          1.54595475e+00,  -9.12080105e-01,  -8.51018996e-02,\n",
       "          1.33952046e-01,  -1.39441840e+00,  -4.86097699e-01,\n",
       "          1.01344721e-01,  -1.16354739e-01,   1.57461284e-01,\n",
       "          3.77922873e-01,   1.12085086e+00,   2.49723969e-01,\n",
       "          1.49767216e+00,  -2.06675491e+00,  -1.66775702e-01,\n",
       "         -9.19066708e-02,   9.32439093e-01,   8.27277850e-01,\n",
       "          1.97814052e-02,  -1.74940781e+00,  -3.24620731e-01,\n",
       "          5.66034817e-01,  -8.44681933e-01,  -1.31982213e+00,\n",
       "          4.28304244e-01,   4.61177426e-01,   6.62752823e-01,\n",
       "          1.22717738e-01,  -7.88615158e-01,   4.94797138e-01,\n",
       "         -1.09993550e-01,   8.46068668e-01,   2.58800705e-01,\n",
       "          6.07772167e-02,   2.09404374e+00,  -1.11440836e+00,\n",
       "         -2.67538413e-02,   6.47884126e-02,  -8.99062205e-01,\n",
       "         -9.10566189e-01,   6.13508951e-01,  -4.22634695e-01,\n",
       "         -1.88083771e+00,   3.22206857e-01,  -3.78189156e-01,\n",
       "         -1.16908360e+00,   9.61845756e-01,  -1.34387414e+00,\n",
       "         -4.20158501e-01,   1.39457541e+00,  -2.30142200e-01,\n",
       "         -1.08849248e+00,  -5.46076907e-01,  -1.83260142e+00,\n",
       "         -4.07055822e-01,   9.88392866e-01,  -8.76658022e-01,\n",
       "         -7.98728671e-01,   2.07544060e+00,   9.22316267e-01,\n",
       "          5.03941511e-02,   1.10049435e+00,   3.46994617e-01,\n",
       "          6.82670071e-01,   4.76363387e-01,  -9.49033871e-01,\n",
       "         -2.09413005e-01,   1.73305779e+00,  -9.58876316e-01,\n",
       "          7.44322025e-01,  -8.39634263e-02,   3.93060342e-01,\n",
       "          1.55361699e+00,  -5.80582534e-01,  -6.18523024e-01,\n",
       "         -1.17245382e+00,  -1.27011569e-01,  -1.38192597e+00,\n",
       "         -2.74457432e-01,   1.19270043e+00,   1.95013235e-01,\n",
       "         -9.42347552e-01,  -1.47588434e+00,  -1.47622129e-01,\n",
       "         -1.94747897e+00,   1.21175913e+00,  -9.90470918e-01,\n",
       "         -1.21119028e+00,   1.02653087e+00,   4.12894224e-01,\n",
       "          7.46126061e-01,   9.42086311e-01,   1.32144775e+00,\n",
       "         -3.77816433e-01,  -4.12947141e-01,  -2.88894069e+00,\n",
       "          3.31324671e-01,  -2.65580477e-01,  -1.40210147e+00,\n",
       "         -6.63013622e-01,   1.07049156e-01,  -3.41367234e-01,\n",
       "         -4.47715281e-01,  -4.73234019e-01,  -1.07514611e+00,\n",
       "          2.15015419e+00,  -1.01987384e+00,   5.80995653e-01,\n",
       "          7.64963777e-01,   6.19722714e-01,   4.72996825e-01,\n",
       "          4.84277882e-01,  -1.47878995e+00,  -3.34809871e-01,\n",
       "         -1.43683000e+00,  -8.78183356e-01,   5.54862992e-01,\n",
       "         -1.12461305e+00,   9.16040184e-01,  -1.38250002e+00,\n",
       "          1.43835535e+00,   8.07858334e-01,   6.45400805e-01,\n",
       "         -1.39935707e-01,   7.72877894e-01,   1.92505133e+00,\n",
       "          9.18398441e-01,   4.30818659e-01,  -8.76418255e-01,\n",
       "          2.31822499e-01,   1.92882887e+00,   3.12184773e+00,\n",
       "          1.38939655e+00,  -1.17309165e+00,   1.16795197e+00,\n",
       "         -1.17702481e+00,  -1.34011285e+00,   5.22133922e-01,\n",
       "          1.98806862e-01,   1.10632597e+00,  -2.08891054e+00,\n",
       "         -1.40810135e-01,  -1.13766962e+00,   2.35107156e-01,\n",
       "         -8.25107785e-01,   5.76229672e-01,  -1.45350903e+00,\n",
       "         -1.35653738e+00,  -9.75303523e-01,   1.01650348e+00,\n",
       "          5.49154082e-01,  -5.93530505e-02,   7.33132343e-01,\n",
       "          5.95224333e-02,   3.85894717e-03,   7.45337066e-01,\n",
       "          1.38279318e+00,   6.29374027e-02,  -8.26327522e-01,\n",
       "          3.07982279e-01,  -7.18410779e-01,  -2.30181443e-01,\n",
       "         -1.51279682e-01,  -1.09947423e-02,   1.36556176e-01,\n",
       "         -1.05141035e+00,  -8.82578773e-01,   3.09677062e-01,\n",
       "         -1.60128904e+00,  -7.19529699e-01,   6.06842475e-01,\n",
       "         -1.85164009e+00,   1.85901431e-01,  -9.04384824e-01,\n",
       "          1.86638885e+00,   8.18981180e-02,  -9.52149602e-01,\n",
       "         -8.60904506e-01,   9.82762777e-01,  -2.92602567e-02,\n",
       "         -2.23657059e+00,   1.37981478e+00,   1.31603468e+00,\n",
       "         -5.52472313e-01,   1.43340365e+00,   1.79902484e+00,\n",
       "         -3.72102318e-01,   1.49488040e-01,  -1.77533721e+00,\n",
       "          1.68110762e+00,   1.91805423e-02,  -6.67664641e-01,\n",
       "         -2.67054862e-01,   1.16960366e+00,  -6.78985328e-01,\n",
       "         -1.62113118e-01,  -1.02864679e+00,   1.68556811e+00,\n",
       "          1.20617198e+00,  -1.85871070e+00,   4.71912502e-01,\n",
       "          3.15333145e+00,   9.08622392e-01,   9.33795213e-01,\n",
       "          5.59002563e-01,   3.40159266e-01,  -4.60867345e-01,\n",
       "          4.66417289e-01,  -8.83735369e-01,  -7.93752775e-01,\n",
       "          8.81469707e-01,   1.87889204e-01,  -3.48402449e-01,\n",
       "         -1.84751183e+00,  -1.08889949e+00,   5.50441408e-01,\n",
       "         -1.24425824e+00,   3.81783211e-01,   5.90152327e-01,\n",
       "          8.33557861e-01,  -1.35758769e+00,   5.62178491e-01,\n",
       "         -3.78328318e-02,   8.97086569e-01,   4.05900875e-01,\n",
       "         -1.50075201e+00,   1.15606523e+00,  -1.79643574e-01,\n",
       "         -6.30651574e-01,  -7.96028049e-01,   9.08596356e-01,\n",
       "         -6.91292962e-01,  -5.06087827e-01,   3.49219784e-01,\n",
       "          1.15404498e+00,   1.74998402e+00,  -1.49828796e+00,\n",
       "          5.03715903e-01,   8.68494750e-02,  -3.49329020e-02,\n",
       "         -5.91405622e-01,  -6.31543101e-01,  -1.14077431e-01,\n",
       "         -1.55683138e+00,   2.61785770e-01,  -1.78562002e+00,\n",
       "         -1.51327142e+00,  -8.32402243e-01,  -7.05839357e-01,\n",
       "         -5.41791415e-01,  -1.06180265e-01,   4.24930752e-01,\n",
       "         -1.01128682e+00,  -3.57589114e-02,  -7.95532623e-01,\n",
       "          5.26819101e-01,   8.21753380e-01,   9.92768100e-01,\n",
       "          2.10968010e+00,   2.38323355e-01,   1.83680136e-01,\n",
       "         -5.75580571e-01,   1.53296351e+00,  -5.69860319e-01,\n",
       "          3.12020721e-01,  -1.12619273e-01,   1.64527044e-01,\n",
       "          1.36202430e-01,   6.44687430e-01,   3.10215877e-01,\n",
       "         -4.75720740e-01,  -2.58854764e-01,  -5.87888521e-01,\n",
       "          4.12524408e-01,   1.03444920e+00,   4.86458606e-01,\n",
       "          6.01641926e-02,  -7.54142757e-01,  -9.26807854e-01,\n",
       "          8.73201666e-01,   9.20928884e-01,  -5.83418330e-01,\n",
       "          3.49792790e-01,   2.15107366e+00,  -6.46734315e-01,\n",
       "          5.09420616e-01,  -5.25266188e-01,  -5.14479345e-01,\n",
       "          1.39877318e+00,  -3.86064224e-02,  -1.25586234e+00,\n",
       "         -1.17156444e+00,  -4.41064363e-01,  -8.77761630e-01,\n",
       "         -9.97963459e-01,   4.01634391e-01,   1.49513705e+00,\n",
       "          3.14835120e-01,   9.59949300e-01,  -3.83146089e-01,\n",
       "         -4.04977569e-01,   1.19781227e+00,   5.62565845e-01,\n",
       "          7.28350361e-01,  -6.13281682e-01,  -2.50266286e-01,\n",
       "          4.77324379e-01,   2.95581559e-01,   9.14833938e-01,\n",
       "          1.14353741e+00,   1.21552397e+00,   6.34226928e-01,\n",
       "          7.05138817e-01,  -1.26171643e+00,   9.15250787e-01,\n",
       "         -1.23194175e+00,   6.54993810e-01,  -9.24280881e-01,\n",
       "          4.66679052e-01,  -1.09401533e+00,  -1.14643420e+00,\n",
       "          9.65851043e-02,   2.04410682e-01,   8.12432938e-01,\n",
       "          2.61519237e+00,   8.90479737e-01,  -4.26773589e-02,\n",
       "         -1.44307306e+00,  -4.09216100e-01,  -6.75946590e-01,\n",
       "         -3.17806259e-01,   2.92953007e-01,   9.13694419e-01,\n",
       "          3.61581250e-01,  -3.05899973e-01,  -3.03710897e-01,\n",
       "         -6.57709666e-01,   7.29512916e-01,   5.78527673e-01,\n",
       "          8.64177926e-01,  -4.43616029e-01,  -4.14498221e-01,\n",
       "          2.16295053e-01,   2.46656659e-01,   4.54256072e-01,\n",
       "         -1.21909133e-02,   3.52070681e-01,   7.35712732e-01,\n",
       "          1.07618337e+00,  -1.01846281e+00,  -6.80317671e-01,\n",
       "          2.29719128e-01,   1.01834860e+00,  -1.05487884e+00,\n",
       "          3.22231645e-02,   1.42031355e+00,  -6.05997717e-01,\n",
       "         -4.91582632e-01,  -1.26606689e-02,   7.16429940e-01,\n",
       "         -2.31408525e-01,   5.88774818e-01,   4.99202920e-01,\n",
       "         -1.20876517e+00,   3.13754438e-01,  -1.13257871e+00,\n",
       "          7.32059340e-01,   4.64423138e-01,  -8.64893201e-01,\n",
       "         -3.53450560e-01,  -3.07426197e-03,  -7.40185682e-01,\n",
       "         -2.03297351e-01,  -1.53563034e+00]),\n",
       " [2.4200551603696727,\n",
       "  2.419212720695485,\n",
       "  2.4183709329975045,\n",
       "  2.4175297967456104,\n",
       "  2.4166893114101056,\n",
       "  2.4158494764617555,\n",
       "  2.4150102913717522,\n",
       "  2.4141717556117417,\n",
       "  2.4133338686537997,\n",
       "  2.4124966299704629,\n",
       "  2.4116600390346794,\n",
       "  2.4108240953198705,\n",
       "  2.4099887982998736,\n",
       "  2.4091541474489828,\n",
       "  2.4083201422419229,\n",
       "  2.4074867821538604,\n",
       "  2.406654066660399,\n",
       "  2.4058219952375777,\n",
       "  2.4049905673618839,\n",
       "  2.4041597825102436,\n",
       "  2.4033296401599999,\n",
       "  2.4025001397889567,\n",
       "  2.4016712808753415,\n",
       "  2.4008430628978199,\n",
       "  2.4000154853355022,\n",
       "  2.3991885476679133,\n",
       "  2.3983622493750425,\n",
       "  2.3975365899372925,\n",
       "  2.396711568835499,\n",
       "  2.3958871855509525,\n",
       "  2.3950634395653561,\n",
       "  2.394240330360859,\n",
       "  2.3934178574200362,\n",
       "  2.3925960202258958,\n",
       "  2.3917748182618848,\n",
       "  2.390954251011876,\n",
       "  2.3901343179601762,\n",
       "  2.3893150185915171,\n",
       "  2.3884963523910696,\n",
       "  2.3876783188444359,\n",
       "  2.3868609174376414,\n",
       "  2.3860441476571417,\n",
       "  2.3852280089898268,\n",
       "  2.3844125009230139,\n",
       "  2.3835976229444475,\n",
       "  2.3827833745422962,\n",
       "  2.381969755205168,\n",
       "  2.3811567644220855,\n",
       "  2.380344401682513,\n",
       "  2.3795326664763219,\n",
       "  2.378721558293829,\n",
       "  2.3779110766257627,\n",
       "  2.3771012209632918,\n",
       "  2.37629199079799,\n",
       "  2.3754833856218833,\n",
       "  2.3746754049273946,\n",
       "  2.3738680482073917,\n",
       "  2.3730613149551529,\n",
       "  2.3722552046643854,\n",
       "  2.3714497168292237,\n",
       "  2.3706448509442146,\n",
       "  2.3698406065043462,\n",
       "  2.3690369830050013,\n",
       "  2.3682339799420045,\n",
       "  2.3674315968115955,\n",
       "  2.3666298331104421,\n",
       "  2.3658286883356121,\n",
       "  2.3650281619846254,\n",
       "  2.3642282535553938,\n",
       "  2.3634289625462617,\n",
       "  2.3626302884559904,\n",
       "  2.3618322307837576,\n",
       "  2.3610347890291652,\n",
       "  2.3602379626922279,\n",
       "  2.3594417512733785,\n",
       "  2.3586461542734787,\n",
       "  2.3578511711937793,\n",
       "  2.3570568015359812,\n",
       "  2.3562630448021782,\n",
       "  2.3554699004948927,\n",
       "  2.3546773681170534,\n",
       "  2.3538854471720185,\n",
       "  2.3530941371635379,\n",
       "  2.3523034375958018,\n",
       "  2.3515133479734005,\n",
       "  2.3507238678013342,\n",
       "  2.3499349965850267,\n",
       "  2.3491467338303154,\n",
       "  2.3483590790434352,\n",
       "  2.3475720317310609,\n",
       "  2.3467855914002498,\n",
       "  2.3459997575584834,\n",
       "  2.3452145297136684,\n",
       "  2.3444299073740948,\n",
       "  2.3436458900484896,\n",
       "  2.3428624772459687,\n",
       "  2.3420796684760763,\n",
       "  2.3412974632487522,\n",
       "  2.3405158610743548,\n",
       "  2.3397348614636484])"
      ]
     },
     "execution_count": 113,
     "metadata": {},
     "output_type": "execute_result"
    }
   ],
   "source": [
    "MSPE_001=grad_descent(X_train, y_train, step_size=0.001, max_iter=100, eps=0.000000001, is_reg= False)\n",
    "MSPE_001"
   ]
  },
  {
   "cell_type": "code",
   "execution_count": 115,
   "metadata": {
    "collapsed": false
   },
   "outputs": [
    {
     "data": {
      "text/plain": [
       "[<matplotlib.lines.Line2D at 0x10fa56ef0>]"
      ]
     },
     "execution_count": 115,
     "metadata": {},
     "output_type": "execute_result"
    },
    {
     "data": {
      "image/png": "[encoded data removed]",
      "text/plain": [
       "<matplotlib.figure.Figure at 0x10f70a940>"
      ]
     },
     "metadata": {},
     "output_type": "display_data"
    }
   ],
   "source": [
    "plt.plot(MSPE_001[1],color=\"purple\",alpha=0.5)"
   ]
  },
  {
   "cell_type": "code",
   "execution_count": 116,
   "metadata": {
    "collapsed": true
   },
   "outputs": [],
   "source": [
    "w_1=grad_descent(X_train, y_train, step_size=1, max_iter=100, eps=0.00001, is_reg= False)[0]\n",
    "MSPE_1=grad_descent(X_train, y_train, step_size=1, max_iter=100, eps=0.00001, is_reg= False)[1]"
   ]
  },
  {
   "cell_type": "code",
   "execution_count": 117,
   "metadata": {
    "collapsed": false
   },
   "outputs": [
    {
     "data": {
      "text/plain": [
       "[<matplotlib.lines.Line2D at 0x10fc59908>]"
      ]
     },
     "execution_count": 117,
     "metadata": {},
     "output_type": "execute_result"
    },
    {
     "data": {
      "image/png": "[encoded data removed]",
      "text/plain": [
       "<matplotlib.figure.Figure at 0x10fa2e898>"
      ]
     },
     "metadata": {},
     "output_type": "display_data"
    }
   ],
   "source": [
    "plt.plot(MSPE_1,color=\"purple\",alpha=0.7)"
   ]
  },
  {
   "cell_type": "code",
   "execution_count": 118,
   "metadata": {
    "collapsed": true
   },
   "outputs": [],
   "source": [
    "w_10=grad_descent(X_train, y_train, step_size=10, max_iter=50, eps=0.00001, is_reg= False)[0]\n",
    "MSPE_10=grad_descent(X_train, y_train, step_size=10, max_iter=50, eps=0.00001, is_reg= False)[1]"
   ]
  },
  {
   "cell_type": "code",
   "execution_count": 119,
   "metadata": {
    "collapsed": false
   },
   "outputs": [
    {
     "data": {
      "text/plain": [
       "[<matplotlib.lines.Line2D at 0x10fcd2048>]"
      ]
     },
     "execution_count": 119,
     "metadata": {},
     "output_type": "execute_result"
    },
    {
     "data": {
      "image/png": "[encoded data removed]",
      "text/plain": [
       "<matplotlib.figure.Figure at 0x10fb601d0>"
      ]
     },
     "metadata": {},
     "output_type": "display_data"
    }
   ],
   "source": [
    "plt.plot(MSPE_10,color=\"purple\",alpha=0.8)"
   ]
  },
  {
   "cell_type": "markdown",
   "metadata": {},
   "source": [
    "Cпособ инициализации векторов:"
   ]
  },
  {
   "cell_type": "markdown",
   "metadata": {},
   "source": [
    "Для нулей напишем новую функцию, и будем рассматривать для шага 1, чтобы для  случайной инициализации исп. предыдущие графики"
   ]
  },
  {
   "cell_type": "code",
   "execution_count": 120,
   "metadata": {
    "collapsed": true
   },
   "outputs": [],
   "source": [
    "def grad_descent_zero(X, y, step_size, max_iter, eps, is_reg): \n",
    "        w_list=[]\n",
    "        w0 = np.zeros(X.shape[1])\n",
    "        MSPE = []\n",
    "        w=0\n",
    "        if is_reg==False:\n",
    "\n",
    "            for i in range(max_iter):\n",
    "                MSPE.append(get_func(w0, X, y))\n",
    "                w = w0 - step_size*get_grad(w0, X, y)\n",
    "                w_list.append(w)\n",
    "                if np.dot(((w)-w0).T,((w)-w0))<eps:\n",
    "                    break\n",
    "                w0=w\n",
    "            return  w, MSPE\n",
    "        else:\n",
    "            for i in range(max_iter):\n",
    "                MSPE.append(get_reg_func(w0, X, y))\n",
    "                w = w0 - step_size*get_reg_grad(w0, X, y)\n",
    "                w_list.append(w)\n",
    "                if np.dot(((w)-w0).T,((w)-w0))<eps:\n",
    "                    break\n",
    "                w0=w\n",
    "\n",
    "            return  w, MSPE"
   ]
  },
  {
   "cell_type": "code",
   "execution_count": 121,
   "metadata": {
    "collapsed": false
   },
   "outputs": [],
   "source": [
    "w_1_zero=grad_descent_zero(X_train, y_train, step_size=1, max_iter=50, eps=0.0001, is_reg= False)[0]\n",
    "MSPE_1_zero=grad_descent_zero(X_train, y_train, step_size=1, max_iter=50, eps=0.0001, is_reg= False)[1]"
   ]
  },
  {
   "cell_type": "code",
   "execution_count": 122,
   "metadata": {
    "collapsed": false
   },
   "outputs": [
    {
     "data": {
      "text/plain": [
       "[<matplotlib.lines.Line2D at 0x10fd0cba8>]"
      ]
     },
     "execution_count": 122,
     "metadata": {},
     "output_type": "execute_result"
    },
    {
     "data": {
      "image/png": "[encoded data removed]",
      "text/plain": [
       "<matplotlib.figure.Figure at 0x10f97cb38>"
      ]
     },
     "metadata": {},
     "output_type": "display_data"
    }
   ],
   "source": [
    "plt.plot(MSPE_1_zero,color=\"purple\",alpha=0.7)"
   ]
  },
  {
   "cell_type": "markdown",
   "metadata": {},
   "source": [
    "Я так понимаю, что шаг 10 слишком большой имы перешагиваем через локальный минимум. А если маленький шаг брать 0.001 и при случайной инициализации весов, то сходимость будет, но нужно больше итераций, а времени ждать нет! Но ответ- да зависит и от шага и от инициализации. При нуливых весах сходимость медленнее."
   ]
  },
  {
   "cell_type": "markdown",
   "metadata": {},
   "source": [
    "**17. (0.5 балла)** Обучите линейную регрессию с функционалом MSPE и его регуляризованным вариантом на обучающей выборке при помощи метода градиентного спуска и изобразите кривые зависимости значения функционала от номера итерации. Исследуйте зависимость скорости сходимости от наличия регуляризации. Обоснуйте, почему так происходит."
   ]
  },
  {
   "cell_type": "code",
   "execution_count": 123,
   "metadata": {
    "collapsed": true
   },
   "outputs": [],
   "source": [
    "w_001_reg=grad_descent(X_train, y_train, step_size=1, max_iter=100, eps=0.001, is_reg= True)[0]\n",
    "MSPE_001_reg=grad_descent(X_train, y_train, step_size=1, max_iter=100, eps=0.001, is_reg= True)[1]"
   ]
  },
  {
   "cell_type": "code",
   "execution_count": 124,
   "metadata": {
    "collapsed": false
   },
   "outputs": [
    {
     "data": {
      "text/plain": [
       "[<matplotlib.lines.Line2D at 0x10ff0c208>]"
      ]
     },
     "execution_count": 124,
     "metadata": {},
     "output_type": "execute_result"
    },
    {
     "data": {
      "image/png": "[encoded data removed]",
      "text/plain": [
       "<matplotlib.figure.Figure at 0x10fe188d0>"
      ]
     },
     "metadata": {},
     "output_type": "display_data"
    }
   ],
   "source": [
    "plt.plot(MSPE_001_reg,color=\"purple\",alpha=0.5)"
   ]
  },
  {
   "cell_type": "markdown",
   "metadata": {},
   "source": [
    "А без регуляризации:"
   ]
  },
  {
   "cell_type": "code",
   "execution_count": 125,
   "metadata": {
    "collapsed": false
   },
   "outputs": [
    {
     "data": {
      "text/plain": [
       "[<matplotlib.lines.Line2D at 0x10fbfc128>]"
      ]
     },
     "execution_count": 125,
     "metadata": {},
     "output_type": "execute_result"
    },
    {
     "data": {
      "image/png": "[encoded data removed]",
      "text/plain": [
       "<matplotlib.figure.Figure at 0x10fd38a58>"
      ]
     },
     "metadata": {},
     "output_type": "display_data"
    }
   ],
   "source": [
    "plt.plot(MSPE_1,color=\"purple\",alpha=0.5)"
   ]
  },
  {
   "cell_type": "markdown",
   "metadata": {},
   "source": [
    "Возможно нужен просто меньше шаг."
   ]
  },
  {
   "cell_type": "markdown",
   "metadata": {},
   "source": [
    "Метод градиентного спуска может быть весьма трудозатратен в случае большого размера обучающей выборки. Поэтому часто используют метод стохастического градиентного спуска, где на каждой итерации выбирается случайный объект из обучающей выборки и обновление весов происходит только по этому объекту. \n",
    "\n",
    "**18*. (1 бонусный балл)**  Реализуйте метод стохастического градиентного спуска (SGD) для описанных функционалов ($MSPE$ и его регуляризованный вариант). Функция должна иметь параметры и возвращаемое значение, аналогичные оным функции grad\\_descent из п.21. Кроме того, должен использоваться аналогичный критерий останова."
   ]
  },
  {
   "cell_type": "code",
   "execution_count": null,
   "metadata": {
    "collapsed": true
   },
   "outputs": [],
   "source": [
    "def sgd(X, y, step_size, max_iter, eps, is_reg):\n",
    "    # Your code here"
   ]
  },
  {
   "cell_type": "markdown",
   "metadata": {},
   "source": [
    "Обучите линейную регрессию с функционалом $MSPE$ и его регуляризованным вариантом на обучающей выборке при помощи метода стохастического градиентного спуска, подобрав при этом размер шага, при котором метод будет сходиться. Нарисуйте график сходимости. Выведите значения $MSPE, MSE, R^2$ на контрольной выборке."
   ]
  },
  {
   "cell_type": "code",
   "execution_count": null,
   "metadata": {
    "collapsed": true
   },
   "outputs": [],
   "source": [
    "# Your code here"
   ]
  },
  {
   "cell_type": "markdown",
   "metadata": {},
   "source": [
    "**19*. (0.5 бонусного балла)** Аналогично п.17 исследуйте зависимость скорости сходимости метода SGD от наличия регуляризации. Обоснуйте, почему так происходит."
   ]
  },
  {
   "cell_type": "code",
   "execution_count": null,
   "metadata": {
    "collapsed": true
   },
   "outputs": [],
   "source": [
    "# Your code here"
   ]
  },
  {
   "cell_type": "markdown",
   "metadata": {},
   "source": [
    "**20. (0.5 балла)** Обучите стандартную линейную регрессию с функционалом качества MSE на обучающей выборке и выведите значение MSPE полученного решения на контрольной выборке. Как оно соотносится с аналогичным результатом для решения, полученного в п.17? Почему?"
   ]
  },
  {
   "cell_type": "code",
   "execution_count": 126,
   "metadata": {
    "collapsed": false
   },
   "outputs": [
    {
     "name": "stdout",
     "output_type": "stream",
     "text": [
      "MSPE test: 2.98181890127e+27\n"
     ]
    }
   ],
   "source": [
    "reg2 = LinearRegression().fit(X_train, y_train)\n",
    "y_pred = reg2.predict(X_test)\n",
    "y_pred1 = reg2.predict(X_train)\n",
    "print(\"MSPE test:\",get_func(reg2.coef_ ,X_test, y_pred))"
   ]
  },
  {
   "cell_type": "markdown",
   "metadata": {},
   "source": [
    "А если обучать градиентным:"
   ]
  },
  {
   "cell_type": "code",
   "execution_count": 127,
   "metadata": {
    "collapsed": true
   },
   "outputs": [],
   "source": [
    "w_grad= grad_descent(X_test, y_test, step_size=1, max_iter=100, eps=0.0000001, is_reg= False)[0]"
   ]
  },
  {
   "cell_type": "code",
   "execution_count": 132,
   "metadata": {
    "collapsed": false
   },
   "outputs": [],
   "source": [
    "MSPE_grad=grad_descent(X_test, y_test, step_size=1, max_iter=100, eps=0.0000001, is_reg= False)[1]"
   ]
  },
  {
   "cell_type": "code",
   "execution_count": 133,
   "metadata": {
    "collapsed": false
   },
   "outputs": [
    {
     "data": {
      "text/plain": [
       "[<matplotlib.lines.Line2D at 0x11d900ef0>]"
      ]
     },
     "execution_count": 133,
     "metadata": {},
     "output_type": "execute_result"
    },
    {
     "data": {
      "image/png": "[encoded data removed]",
      "text/plain": [
       "<matplotlib.figure.Figure at 0x11d8cd198>"
      ]
     },
     "metadata": {},
     "output_type": "display_data"
    }
   ],
   "source": [
    "plt.plot(MSPE_grad,color=\"purple\",alpha=0.5)"
   ]
  },
  {
   "cell_type": "code",
   "execution_count": 134,
   "metadata": {
    "collapsed": false
   },
   "outputs": [
    {
     "name": "stdout",
     "output_type": "stream",
     "text": [
      "MSPE test: 16192.2600016\n"
     ]
    }
   ],
   "source": [
    "print(\"MSPE test:\",get_func(w_grad,X_test, y_pred))"
   ]
  },
  {
   "cell_type": "markdown",
   "metadata": {},
   "source": [
    "С помощью градиентного спуска удалось досичь меньшего значения функционала качества. Наверное потому что в регрессии мы оптимизируем другой функционал и не особо корректно так сравнивать."
   ]
  }
 ],
 "metadata": {
  "anaconda-cloud": {},
  "kernelspec": {
   "display_name": "Python 3",
   "language": "python",
   "name": "python3"
  },
  "language_info": {
   "codemirror_mode": {
    "name": "ipython",
    "version": 3
   },
   "file_extension": ".py",
   "mimetype": "text/x-python",
   "name": "python",
   "nbconvert_exporter": "python",
   "pygments_lexer": "ipython3",
   "version": "3.5.2"
  }
 },
 "nbformat": 4,
 "nbformat_minor": 0
}
