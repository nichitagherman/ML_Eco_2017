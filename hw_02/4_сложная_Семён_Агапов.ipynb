{
 "cells": [
  {
   "cell_type": "markdown",
   "metadata": {},
   "source": [
    "# Машинное обучение, ФЭН ВШЭ\n",
    "\n",
    "# Практическое задание 2\n",
    "(Основано на материалах курса машинного обучения на фкн)\n",
    "\n",
    "## Общая информация\n",
    "\n",
    "Дата выдачи: 21.09.2017\n",
    "\n",
    "Срок сдачи: 8.10.2017 23:59MSK\n",
    "\n",
    "### О задании\n",
    "\n",
    "Практическое задание 1 посвящено изучению основных библиотек для анализа данных, а также линейных моделей и методов их обучения. Вы научитесь:\n",
    " * применять библиотеку NumPy;\n",
    " * подготавливать данные для обучения линейных моделей;\n",
    " * обучать линейную, Lasso и Ridge-регрессии при помощи модуля scikit-learn;\n",
    " * реализовывать обычный и стохастический градиентные спуски;\n",
    " * обучать линейную регрессию для произвольного функционала качества.\n",
    " \n",
    "\n",
    "### Оценивание и штрафы\n",
    "\n",
    "Каждая из задач имеет определенную «стоимость» (указана в скобках около задачи). Максимально допустимая оценка за работу — 10 баллов. Кроме того, некоторые из заданий являются опциональными (необязательными), однако за их выполнение можно получить дополнительные баллы.\n",
    "\n",
    "\n",
    "Задание выполняется самостоятельно. «Похожие» решения считаются плагиатом и все задействованные студенты (в том числе те, у кого списали) не могут получить за него больше 0 баллов (подробнее о плагиате см. на странице курса). Если вы нашли решение какого-то из заданий (или его часть) в открытом источнике, необходимо указать ссылку на этот источник в отдельном блоке в конце Вашей работы (скорее всего вы будете не единственным, кто это нашел, поэтому чтобы исключить подозрение в плагиате, необходима ссылка на источник). \n",
    "\n",
    "Неэффективная реализация кода может негативно отразиться на оценке.\n",
    "\n",
    "\n",
    "### Формат сдачи\n",
    "Для сдачи задания переименуйте получившийся файл \\*.ipynb в соответствии со следующим форматом: *HW1_Username.ipynb*, где *Username* — Ваша фамилия и инициалы на латинице (например, *HW1_IvanovII.ipynb*). Далее отправьте этот файл на почту курса, указав соответствующую тему (см. вики-страничку курча)."
   ]
  },
  {
   "cell_type": "markdown",
   "metadata": {},
   "source": [
    "## Библиотеки для анализа данных\n",
    "\n",
    "### NumPy\n",
    "\n",
    "Во всех заданиях данного раздела запрещено использовать циклы  и list comprehensions. Под вектором и матрицей в данных заданиях понимается одномерный и двумерный numpy.array соответственно."
   ]
  },
  {
   "cell_type": "code",
   "execution_count": 2,
   "metadata": {
    "collapsed": true
   },
   "outputs": [],
   "source": [
    "from sklearn.preprocessing import StandardScaler\n",
    "import numpy as np\n",
    "import matplotlib as plt\n",
    "%matplotlib inline"
   ]
  },
  {
   "cell_type": "markdown",
   "metadata": {},
   "source": [
    "**1. (0.3 балла)** Реализуйте функцию, возвращающую максимальный элемент в векторе x среди элементов, перед которыми стоит нулевой. Для x = np.array([6, 2, 0, 3, 0, 0, 5, 7, 0]) ответом является 5. Если нулевых элементов нет, функция должна возвращать None.\n"
   ]
  },
  {
   "cell_type": "code",
   "execution_count": 58,
   "metadata": {},
   "outputs": [
    {
     "name": "stdout",
     "output_type": "stream",
     "text": [
      "5\n"
     ]
    }
   ],
   "source": [
    "def fzero(x):\n",
    "    if (x != 0):\n",
    "        return 0\n",
    "    else:\n",
    "        return 1\n",
    "\n",
    "fzerov = np.vectorize(fzero)\n",
    "\n",
    "def max_element(arr):\n",
    "    b = fzerov(arr)\n",
    "    с = np.array([[0]])\n",
    "    d = np.append(0,b)\n",
    "    l = np.size(d)\n",
    "    d1 = d[0:l-1]\n",
    "    e=arr*d1\n",
    "    return np.max(e)\n",
    "    \n",
    "    \n",
    "    \n",
    "\n",
    "a = np.array([6, 2, 0, 3, 0, 0, 5, 7, 0])\n",
    "\n",
    "print(max_element(a))\n",
    "\n",
    "\n"
   ]
  },
  {
   "cell_type": "markdown",
   "metadata": {},
   "source": [
    "**2. (0.3 балла)** Реализуйте функцию, принимающую на вход матрицу и некоторое число и возвращающую ближайший к числу элемент матрицы. Например: для X = np.arange(0,10).reshape((2, 5)) и v = 3.6 ответом будет 4."
   ]
  },
  {
   "cell_type": "code",
   "execution_count": 137,
   "metadata": {},
   "outputs": [
    {
     "name": "stdout",
     "output_type": "stream",
     "text": [
      "4\n"
     ]
    }
   ],
   "source": [
    "def fdist(a,b):\n",
    "    return (abs(a-b))\n",
    "\n",
    "def fequ(a,b):\n",
    "    if (a==b):\n",
    "        return 1;\n",
    "    else:\n",
    "        return 0;\n",
    "\n",
    "fdist1 = np.vectorize(fdist)\n",
    "fequ1 = np.vectorize(fequ)\n",
    "\n",
    "def nearest_value(X, v):\n",
    "    y = X.reshape((1,np.size(X)))[0]\n",
    "    z = fdist1(y,v)\n",
    "    mindist = np.min(z)\n",
    "    nearest = fequ1(z,mindist)\n",
    "    nearest1 = nearest*y\n",
    "    if (np.min(nearest1) < 0):\n",
    "        return np.min(nearest1)\n",
    "    elif (np.max(nearest1) > 0):\n",
    "        return np.max(nearest1)\n",
    "    else:\n",
    "        return 0\n",
    "    \n",
    "X = np.arange(0,10).reshape((2, 5))\n",
    "print (nearest_value(X,3.6))\n",
    "\n"
   ]
  },
  {
   "cell_type": "markdown",
   "metadata": {},
   "source": [
    "**3. (0.3 балла)** Реализуйте функцию scale(X), которая принимает на вход матрицу и масштабирует каждый ее столбец (вычитает выборочное среднее и делит на стандартное отклонение). Убедитесь, что в функции не будет происходить деления на ноль. Протестируйте на случайной матрице (для её генерации можно использовать, например, функцию [numpy.random.randint](http://docs.scipy.org/doc/numpy/reference/generated/numpy.random.randint.html))."
   ]
  },
  {
   "cell_type": "code",
   "execution_count": 85,
   "metadata": {},
   "outputs": [
    {
     "name": "stdout",
     "output_type": "stream",
     "text": [
      "[[-0.14439004 -1.34590449  1.62289421  1.55413022 -0.22859833]\n",
      " [ 1.21940441  1.23973212 -1.48761362  0.54698086  0.09433351]\n",
      " [ 0.87966432  0.10818008 -0.05378688 -1.42060691 -1.76834157]\n",
      " [-0.3417252  -0.90651488  0.23036793 -0.20641592  0.92083543]\n",
      " [-1.61295349  0.90450716 -0.31186164 -0.47408825  0.98177096]]\n"
     ]
    }
   ],
   "source": [
    "def scale(X):\n",
    "    scaler = StandardScaler()\n",
    "    return scaler.fit_transform(X)\n",
    "\n",
    "X = np.random.standard_normal((5,5))\n",
    "\n",
    "print(scale(X))"
   ]
  },
  {
   "cell_type": "markdown",
   "metadata": {},
   "source": [
    "**4. (0.3 балла)** Реализуйте функцию, которая для заданной матрицы находит:\n",
    " - определитель\n",
    " - след\n",
    " - наименьший и наибольший элементы\n",
    " - норму Фробениуса\n",
    " - собственные числа\n",
    " - обратную матрицу\n",
    "\n",
    "Для тестирования сгенерируйте матрицу с элементами из нормального распределения $\\mathcal{N}$(10,1)"
   ]
  },
  {
   "cell_type": "code",
   "execution_count": 15,
   "metadata": {},
   "outputs": [
    {
     "name": "stdout",
     "output_type": "stream",
     "text": [
      "(array([ 51.97117986+0.j        ,   0.30243430+1.75783612j,\n",
      "         0.30243430-1.75783612j,  -0.51303467+0.j        ,   0.65733808+0.j        ]), array([[ 0.43475061+0.j        , -0.18947245+0.26437437j,\n",
      "        -0.18947245-0.26437437j,  0.28536710+0.j        , -0.36311779+0.j        ],\n",
      "       [ 0.46656028+0.j        , -0.02296051-0.25805545j,\n",
      "        -0.02296051+0.25805545j,  0.44600202+0.j        ,  0.81537753+0.j        ],\n",
      "       [ 0.42349153+0.j        , -0.26015201-0.46645061j,\n",
      "        -0.26015201+0.46645061j, -0.79609287+0.j        ,  0.10054600+0.j        ],\n",
      "       [ 0.45015399+0.j        ,  0.55975867+0.j        ,\n",
      "         0.55975867-0.j        ,  0.24639063+0.j        , -0.41760120+0.j        ],\n",
      "       [ 0.45970613+0.j        , -0.05842647+0.47443431j,\n",
      "        -0.05842647-0.47443431j, -0.15866828+0.j        , -0.13713024+0.j        ]]))\n",
      "[-55.760129404650456, 52.720351872667479, 8.7820151345136974, 12.506189915385278, 52.194524435630129, (array([ 51.97117986+0.j        ,   0.30243430+1.75783612j,\n",
      "         0.30243430-1.75783612j,  -0.51303467+0.j        ,   0.65733808+0.j        ]), array([[ 0.43475061+0.j        , -0.18947245+0.26437437j,\n",
      "        -0.18947245-0.26437437j,  0.28536710+0.j        , -0.36311779+0.j        ],\n",
      "       [ 0.46656028+0.j        , -0.02296051-0.25805545j,\n",
      "        -0.02296051+0.25805545j,  0.44600202+0.j        ,  0.81537753+0.j        ],\n",
      "       [ 0.42349153+0.j        , -0.26015201-0.46645061j,\n",
      "        -0.26015201+0.46645061j, -0.79609287+0.j        ,  0.10054600+0.j        ],\n",
      "       [ 0.45015399+0.j        ,  0.55975867+0.j        ,\n",
      "         0.55975867-0.j        ,  0.24639063+0.j        , -0.41760120+0.j        ],\n",
      "       [ 0.45970613+0.j        , -0.05842647+0.47443431j,\n",
      "        -0.05842647-0.47443431j, -0.15866828+0.j        , -0.13713024+0.j        ]])), array([[-0.25271441, -0.6198384 ,  0.27873889,  0.28403501,  0.35135902],\n",
      "       [-1.91385756,  0.59856377,  0.23526643, -0.60570999,  1.59839369],\n",
      "       [ 1.76672766,  0.67463856, -0.81570707, -0.38431714, -1.21001208],\n",
      "       [ 0.29647286, -0.61690014,  0.59693234,  0.38848609, -0.56576013],\n",
      "       [ 0.07390626, -0.03452571, -0.24441767,  0.35407037, -0.13716249]])]\n"
     ]
    }
   ],
   "source": [
    "import numpy.random as rand\n",
    "\n",
    "def sqr(a):\n",
    "    return a*a;\n",
    "\n",
    "sqr1 = np.vectorize(sqr)\n",
    "\n",
    "def get_stats(X):\n",
    "    Y=sqr(X)\n",
    "    n_Frob = (np.sum(Y))**0.5\n",
    "    print(np.linalg.eig(X))\n",
    "    return [np.linalg.det(X), np.trace(X), np.min(X), np.max(X), n_Frob, np.linalg.eig(X), np.linalg.inv(X)]\n",
    "\n",
    "\n",
    "X = np.random.standard_normal((5,5))+10*np.ones((5,5), float)\n",
    "\n",
    "print(get_stats(X))\n",
    "\n",
    "    \n",
    "    \n"
   ]
  },
  {
   "cell_type": "markdown",
   "metadata": {},
   "source": [
    "**5. (0.3 балла)** Повторите 100 раз следующий эксперимент: сгенерируйте две матрицы размера 10×10 из стандартного нормального распределения, перемножьте их (как матрицы) и найдите максимальный элемент. Какое среднее значение по экспериментам у максимальных элементов? 95-процентная квантиль?"
   ]
  },
  {
   "cell_type": "code",
   "execution_count": 135,
   "metadata": {},
   "outputs": [
    {
     "name": "stdout",
     "output_type": "stream",
     "text": [
      "mean max element =  7.97387243583\n",
      "95% quantile =  11.0807343133\n"
     ]
    }
   ],
   "source": [
    "sum_max=0\n",
    "arr_max=np.array([])\n",
    "\n",
    "for exp_num in range(100):\n",
    "    X = np.random.standard_normal((10,10))\n",
    "    Y = np.random.standard_normal((10,10))\n",
    "    Z = np.matmul(X,Y)\n",
    "    sum_max += np.max(Z)\n",
    "    arr_max = np.append(np.max(Z),arr_max)\n",
    "\n",
    "\n",
    "print(\"mean max element = \",sum_max/100)\n",
    "arr_max=np.sort(arr_max)\n",
    "print(\"95% quantile = \", arr_max[94])\n",
    "    "
   ]
  },
  {
   "cell_type": "markdown",
   "metadata": {},
   "source": [
    "## Линейная регрессия\n",
    "\n",
    "В этой части мы разберемся с линейной регрессией, способами её обучения и измерением качества ее прогнозов. \n",
    "\n",
    "Будем рассматривать данные по авиарейсам в США за январь-апрель 2008 года для предсказания времени задержки отправления рейса в минутах (DepDelay). Отметим, что под задержкой подразумевается не только опоздание рейса относительно планируемого времени вылета, но и отправление до планируемого времени.\n",
    "\n",
    "\n",
    "[Данные](https://www.dropbox.com/s/dvfitn93obn0rql/2008.csv?dl=0) и их [описание](http://stat-computing.org/dataexpo/2009/the-data.html)\n",
    "\n",
    "### Подготовка данных\n",
    "\n",
    "**6. (0.75 балла)** Считайте выборку из файла при помощи функции pd.read_csv и ответьте на следующие вопросы:\n",
    "   - Имеются ли в данных пропущенные значения?\n",
    "   - Сколько всего пропущенных элементов в таблице \"объект-признак\"?\n",
    "   - Сколько объектов имеют хотя бы один пропуск?\n",
    "   - Сколько признаков имеют хотя бы одно пропущенное значение?"
   ]
  },
  {
   "cell_type": "code",
   "execution_count": 3,
   "metadata": {
    "scrolled": true
   },
   "outputs": [
    {
     "name": "stdout",
     "output_type": "stream",
     "text": [
      "да\n",
      "пропущенных элементов в таблице объект-признак =  355215\n",
      "70000  объектов имеют хотя бы один пропуск\n",
      "16  признаков имеют хотя бы одно пропущенное значение\n"
     ]
    }
   ],
   "source": [
    "import pandas as pd\n",
    "X = pd.read_csv('2008.csv')\n",
    "print('да')\n",
    "print('пропущенных элементов в таблице объект-признак = ',X.isnull().sum().sum())\n",
    "print(X[\"Year\"].count()-X.isnull().sum(axis = 1).eq(0).sum(),' объектов имеют хотя бы один пропуск')\n",
    "print(X.isnull().sum(axis = 0).count()-X.isnull().sum(axis = 0).eq(0).sum(),' признаков имеют хотя бы одно пропущенное значение')"
   ]
  },
  {
   "cell_type": "markdown",
   "metadata": {},
   "source": [
    "Как вы понимаете, также не имеет смысла рассматривать при решении поставленной задачи объекты с пропущенным значением целевой переменной. В связи с этим ответьте на следующие вопросы и выполните соответствующие действия:\n",
    "- Имеются ли пропущенные значения в целевой переменной?\n",
    "- Проанализируйте объекты с значениями целевой переменной. Чем вызвано это явление? Что их объединяет? Можно ли в связи с этим, на ваш взгляд, исключить какие-то признаки из рассмотрения? Обоснуйте свою точку зрения.\n",
    "\n",
    "Исключите из выборки объекты **с пропущенным значением целевой переменной и со значением целевой переменной, равным 0**, а также при необходимости исключите признаки в соответствии с вашим ответом на последний вопрос из списка и выделите целевую переменную в отдельный вектор, исключив её из матрицы \"объект-признак\"."
   ]
  },
  {
   "cell_type": "code",
   "execution_count": 4,
   "metadata": {},
   "outputs": [
    {
     "name": "stdout",
     "output_type": "stream",
     "text": [
      "Year                     0\n",
      "Month                    0\n",
      "DayofMonth               0\n",
      "DayOfWeek                0\n",
      "DepTime               1399\n",
      "CRSDepTime               0\n",
      "ArrTime               1556\n",
      "CRSArrTime               0\n",
      "UniqueCarrier            0\n",
      "FlightNum                0\n",
      "TailNum                820\n",
      "ActualElapsedTime     1582\n",
      "CRSElapsedTime           9\n",
      "AirTime               1582\n",
      "ArrDelay              1582\n",
      "DepDelay              1399\n",
      "Origin                   0\n",
      "Dest                     0\n",
      "Distance                 0\n",
      "TaxiIn                1556\n",
      "TaxiOut               1406\n",
      "Cancelled                0\n",
      "CancellationCode     68589\n",
      "Diverted                 0\n",
      "CarrierDelay         54747\n",
      "WeatherDelay         54747\n",
      "NASDelay             54747\n",
      "SecurityDelay        54747\n",
      "LateAircraftDelay    54747\n",
      "dtype: int64\n"
     ]
    }
   ],
   "source": [
    "print(X.isnull().sum(axis = 0))\n",
    "X = X[(X['DepDelay'] != 0) & (X['DepDelay'].isnull() != True)]\n",
    "Y = X['DepDelay']\n",
    "X = X.drop('DepDelay', axis = 1)"
   ]
  },
  {
   "cell_type": "markdown",
   "metadata": {},
   "source": [
    "из таблицы видно, что есть 1399 пропусков целевой переменной"
   ]
  },
  {
   "cell_type": "code",
   "execution_count": null,
   "metadata": {
    "collapsed": true
   },
   "outputs": [],
   "source": []
  },
  {
   "cell_type": "markdown",
   "metadata": {},
   "source": [
    "**7. (1 балл)** Обратите внимание, что признаки DepTime, CRSDepTime, ArrTime, CRSArrTime приведены в формате hhmm, в связи с чем будет не вполне корректно рассматривать их как вещественные.\n",
    "\n",
    "Преобразуйте каждый признак FeatureName из указанных в пару новых признаков FeatureName\\_Hour, FeatureName\\_Minute, разделив каждое из значений на часы и минуты. Не забудьте при этом исключить исходный признак из выборки. В случае, если значение признака отсутствует, значения двух новых признаков, его заменяющих, также должны отсутствовать. \n",
    "\n",
    "Например, признак DepTime необходимо заменить на пару признаков DepTime_Hour, DepTime_Minute. При этом, например, значение 155 исходного признака будет преобразовано в значения 1 и 55 признаков DepTime_Hour, DepTime_Minute соответственно."
   ]
  },
  {
   "cell_type": "code",
   "execution_count": 5,
   "metadata": {
    "collapsed": true
   },
   "outputs": [],
   "source": [
    "def hour(a):\n",
    "    return a // 100\n",
    "def minute(a):\n",
    "    return a % 100\n",
    "\n",
    "FeatureName_Hour = hour(X['DepTime'])\n",
    "FeatureName_Minute = minute(X['DepTime'])\n",
    "X.insert(1,'DepTime_Hour',FeatureName_Hour)\n",
    "X.insert(1,'DepTime_Minute',FeatureName_Minute)\n",
    "X = X.drop('DepTime', axis = 1)\n",
    "\n",
    "FeatureName_Hour = hour(X['CRSDepTime'])\n",
    "FeatureName_Minute = minute(X['CRSDepTime'])\n",
    "X.insert(1,'CRSDepTime_Hour',FeatureName_Hour)\n",
    "X.insert(1,'CRSDepTime_Minute',FeatureName_Minute)\n",
    "X = X.drop('CRSDepTime', axis = 1)\n",
    "\n",
    "FeatureName_Hour = hour(X['ArrTime'])\n",
    "FeatureName_Minute = minute(X['ArrTime'])\n",
    "X.insert(1,'ArrTime_Hour',FeatureName_Hour)\n",
    "X.insert(1,'ArrTime_Minute',FeatureName_Minute)\n",
    "X = X.drop('ArrTime', axis = 1)\n",
    "\n",
    "FeatureName_Hour = hour(X['CRSArrTime'])\n",
    "FeatureName_Minute = minute(X['CRSArrTime'])\n",
    "X.insert(1,'CRSArrTime_Hour',FeatureName_Hour)\n",
    "X.insert(1,'CRSArrTime_Minute',FeatureName_Minute)\n",
    "X = X.drop('CRSArrTime', axis = 1)\n",
    "\n"
   ]
  },
  {
   "cell_type": "markdown",
   "metadata": {},
   "source": [
    "**8. (0.5 балла)** Некоторые из признаков, отличных от целевой переменной, могут оказывать чересчур значимое влияние на прогноз, поскольку по своему смыслу содержат большую долю информации о значении целевой переменной. Изучите описание датасета и исключите признаки, сильно коррелирующие с ответами. Ваш выбор признаков для исключения из выборки обоснуйте. Кроме того, исключите признаки TailNum и Year."
   ]
  },
  {
   "cell_type": "code",
   "execution_count": 6,
   "metadata": {
    "collapsed": true
   },
   "outputs": [],
   "source": [
    "X = X.drop('TailNum', axis = 1)\n",
    "X = X.drop('Year', axis = 1)\n",
    "X = X.drop('ArrDelay', axis = 1)"
   ]
  },
  {
   "cell_type": "markdown",
   "metadata": {},
   "source": [
    "ArrDelay - задержка прибытия - предопределяется задержкой отправления, если время полёта = const. Поэтому удалим переменную ArrDelay."
   ]
  },
  {
   "cell_type": "code",
   "execution_count": 7,
   "metadata": {},
   "outputs": [
    {
     "name": "stdout",
     "output_type": "stream",
     "text": [
      "                      Month  DayofMonth  DayOfWeek  FlightNum  \\\n",
      "Month              1.000000   -0.004838  -0.010617   0.006598   \n",
      "DayofMonth        -0.004838    1.000000   0.015818   0.009847   \n",
      "DayOfWeek         -0.010617    0.015818   1.000000  -0.005878   \n",
      "FlightNum          0.006598    0.009847  -0.005878   1.000000   \n",
      "ActualElapsedTime -0.014230   -0.008110   0.010330  -0.324021   \n",
      "CRSElapsedTime    -0.005765   -0.007024   0.013325  -0.331409   \n",
      "AirTime           -0.012840   -0.007842   0.011541  -0.336906   \n",
      "ArrDelay          -0.041950    0.006479   0.002943   0.027777   \n",
      "DepDelay          -0.029528    0.008574   0.008530   0.021166   \n",
      "Distance          -0.006289   -0.007196   0.014755  -0.350380   \n",
      "TaxiIn             0.007768   -0.002673   0.001024  -0.005973   \n",
      "TaxiOut           -0.014431   -0.002481  -0.005622   0.002628   \n",
      "Cancelled          0.019871   -0.003236   0.000527   0.017384   \n",
      "Diverted           0.000721    0.002144   0.004786  -0.003012   \n",
      "CarrierDelay      -0.008286    0.008789   0.015026   0.076525   \n",
      "WeatherDelay       0.017684    0.002709  -0.012198   0.060002   \n",
      "NASDelay           0.000651    0.008594   0.000053   0.013833   \n",
      "SecurityDelay      0.008620   -0.007752   0.005031   0.009387   \n",
      "LateAircraftDelay  0.017445    0.009641   0.007566  -0.022415   \n",
      "\n",
      "                   ActualElapsedTime  CRSElapsedTime   AirTime  ArrDelay  \\\n",
      "Month                      -0.014230       -0.005765 -0.012840 -0.041950   \n",
      "DayofMonth                 -0.008110       -0.007024 -0.007842  0.006479   \n",
      "DayOfWeek                   0.010330        0.013325  0.011541  0.002943   \n",
      "FlightNum                  -0.324021       -0.331409 -0.336906  0.027777   \n",
      "ActualElapsedTime           1.000000        0.979979  0.984401  0.089451   \n",
      "CRSElapsedTime              0.979979        1.000000  0.988293  0.010358   \n",
      "AirTime                     0.984401        0.988293  1.000000  0.031206   \n",
      "ArrDelay                    0.089451        0.010358  0.031206  1.000000   \n",
      "DepDelay                    0.041946        0.034302  0.025237  0.933526   \n",
      "Distance                    0.965089        0.983478  0.983222  0.003952   \n",
      "TaxiIn                      0.154726        0.100990  0.082090  0.117087   \n",
      "TaxiOut                     0.264840        0.140438  0.105578  0.319716   \n",
      "Cancelled                        NaN       -0.007500       NaN       NaN   \n",
      "Diverted                         NaN        0.021977       NaN       NaN   \n",
      "CarrierDelay               -0.039599       -0.004071 -0.017756  0.501776   \n",
      "WeatherDelay               -0.011799       -0.018638 -0.024191  0.254704   \n",
      "NASDelay                    0.183883        0.043392  0.061818  0.370920   \n",
      "SecurityDelay               0.002250        0.003952  0.004590  0.008990   \n",
      "LateAircraftDelay          -0.085353       -0.041558 -0.060884  0.509705   \n",
      "\n",
      "                   DepDelay  Distance    TaxiIn   TaxiOut  Cancelled  \\\n",
      "Month             -0.029528 -0.006289  0.007768 -0.014431   0.019871   \n",
      "DayofMonth         0.008574 -0.007196 -0.002673 -0.002481  -0.003236   \n",
      "DayOfWeek          0.008530  0.014755  0.001024 -0.005622   0.000527   \n",
      "FlightNum          0.021166 -0.350380 -0.005973  0.002628   0.017384   \n",
      "ActualElapsedTime  0.041946  0.965089  0.154726  0.264840        NaN   \n",
      "CRSElapsedTime     0.034302  0.983478  0.100990  0.140438  -0.007500   \n",
      "AirTime            0.025237  0.983222  0.082090  0.105578        NaN   \n",
      "ArrDelay           0.933526  0.003952  0.117087  0.319716        NaN   \n",
      "DepDelay           1.000000  0.024252  0.020640  0.101294  -0.001123   \n",
      "Distance           0.024252  1.000000  0.072517  0.090600  -0.007952   \n",
      "TaxiIn             0.020640  0.072517  1.000000  0.039556        NaN   \n",
      "TaxiOut            0.101294  0.090600  0.039556  1.000000   0.000595   \n",
      "Cancelled         -0.001123 -0.007952       NaN  0.000595   1.000000   \n",
      "Diverted           0.027166  0.018590 -0.001945  0.022172  -0.000674   \n",
      "CarrierDelay       0.532696 -0.000119 -0.058748 -0.072788        NaN   \n",
      "WeatherDelay       0.238872 -0.024372  0.004943  0.044044        NaN   \n",
      "NASDelay           0.171591  0.014192  0.221044  0.437811        NaN   \n",
      "SecurityDelay      0.010668  0.006950  0.000476 -0.008832        NaN   \n",
      "LateAircraftDelay  0.553806 -0.037445 -0.046780 -0.097731        NaN   \n",
      "\n",
      "                   Diverted  CarrierDelay  WeatherDelay  NASDelay  \\\n",
      "Month              0.000721     -0.008286      0.017684  0.000651   \n",
      "DayofMonth         0.002144      0.008789      0.002709  0.008594   \n",
      "DayOfWeek          0.004786      0.015026     -0.012198  0.000053   \n",
      "FlightNum         -0.003012      0.076525      0.060002  0.013833   \n",
      "ActualElapsedTime       NaN     -0.039599     -0.011799  0.183883   \n",
      "CRSElapsedTime     0.021977     -0.004071     -0.018638  0.043392   \n",
      "AirTime                 NaN     -0.017756     -0.024191  0.061818   \n",
      "ArrDelay                NaN      0.501776      0.254704  0.370920   \n",
      "DepDelay           0.027166      0.532696      0.238872  0.171591   \n",
      "Distance           0.018590     -0.000119     -0.024372  0.014192   \n",
      "TaxiIn            -0.001945     -0.058748      0.004943  0.221044   \n",
      "TaxiOut            0.022172     -0.072788      0.044044  0.437811   \n",
      "Cancelled         -0.000674           NaN           NaN       NaN   \n",
      "Diverted           1.000000           NaN           NaN       NaN   \n",
      "CarrierDelay            NaN      1.000000     -0.039276 -0.141216   \n",
      "WeatherDelay            NaN     -0.039276      1.000000 -0.015508   \n",
      "NASDelay                NaN     -0.141216     -0.015508  1.000000   \n",
      "SecurityDelay           NaN     -0.013359     -0.006283 -0.012667   \n",
      "LateAircraftDelay       NaN     -0.139685     -0.039146 -0.142288   \n",
      "\n",
      "                   SecurityDelay  LateAircraftDelay  \n",
      "Month                   0.008620           0.017445  \n",
      "DayofMonth             -0.007752           0.009641  \n",
      "DayOfWeek               0.005031           0.007566  \n",
      "FlightNum               0.009387          -0.022415  \n",
      "ActualElapsedTime       0.002250          -0.085353  \n",
      "CRSElapsedTime          0.003952          -0.041558  \n",
      "AirTime                 0.004590          -0.060884  \n",
      "ArrDelay                0.008990           0.509705  \n",
      "DepDelay                0.010668           0.553806  \n",
      "Distance                0.006950          -0.037445  \n",
      "TaxiIn                  0.000476          -0.046780  \n",
      "TaxiOut                -0.008832          -0.097731  \n",
      "Cancelled                    NaN                NaN  \n",
      "Diverted                     NaN                NaN  \n",
      "CarrierDelay           -0.013359          -0.139685  \n",
      "WeatherDelay           -0.006283          -0.039146  \n",
      "NASDelay               -0.012667          -0.142288  \n",
      "SecurityDelay           1.000000          -0.013749  \n",
      "LateAircraftDelay      -0.013749           1.000000  \n"
     ]
    }
   ],
   "source": [
    "Z = pd.read_csv('2008.csv')\n",
    "Z = Z[(Z['DepDelay'] != 0) & (Z['DepDelay'].isnull() != True)]\n",
    "Z = Z.drop('DepTime', axis = 1)\n",
    "Z = Z.drop('CRSDepTime', axis = 1)\n",
    "Z = Z.drop('ArrTime', axis = 1)\n",
    "Z = Z.drop('CRSArrTime', axis = 1)\n",
    "Z = Z.drop('TailNum', axis = 1)\n",
    "Z = Z.drop('Year', axis = 1)\n",
    "print(Z.corr())"
   ]
  },
  {
   "cell_type": "markdown",
   "metadata": {},
   "source": [
    "Приведем данные к виду, пригодному для обучения линейных моделей. Для этого вещественные признаки надо отмасштабировать, а категориальные — привести к числовому виду. Также надо устранить пропуски в данных."
   ]
  },
  {
   "cell_type": "markdown",
   "metadata": {},
   "source": [
    "**9*. (1 бонусный балл) ** В первую очередь поймем, зачем необходимо применять масштабирование. Следующие ячейки с кодом построят гистограммы для 3 вещественных признаков выборки."
   ]
  },
  {
   "cell_type": "code",
   "execution_count": 8,
   "metadata": {
    "scrolled": true
   },
   "outputs": [
    {
     "data": {
      "text/plain": [
       "<matplotlib.axes._subplots.AxesSubplot at 0x2650bbf8cc0>"
      ]
     },
     "execution_count": 8,
     "metadata": {},
     "output_type": "execute_result"
    },
    {
     "data": {
      "image/png": "[encoded data removed]",
      "text/plain": [
       "<matplotlib.figure.Figure at 0x2650bbdad68>"
      ]
     },
     "metadata": {},
     "output_type": "display_data"
    }
   ],
   "source": [
    "X['DepTime_Hour'].hist(bins=20)"
   ]
  },
  {
   "cell_type": "code",
   "execution_count": 9,
   "metadata": {},
   "outputs": [
    {
     "data": {
      "text/plain": [
       "<matplotlib.axes._subplots.AxesSubplot at 0x2650bc0eeb8>"
      ]
     },
     "execution_count": 9,
     "metadata": {},
     "output_type": "execute_result"
    },
    {
     "data": {
      "image/png": "[encoded data removed]",
      "text/plain": [
       "<matplotlib.figure.Figure at 0x2650bd26198>"
      ]
     },
     "metadata": {},
     "output_type": "display_data"
    }
   ],
   "source": [
    "X['TaxiIn'].hist(bins=20)"
   ]
  },
  {
   "cell_type": "code",
   "execution_count": 10,
   "metadata": {},
   "outputs": [
    {
     "data": {
      "text/plain": [
       "<matplotlib.axes._subplots.AxesSubplot at 0x2650bdf1b70>"
      ]
     },
     "execution_count": 10,
     "metadata": {},
     "output_type": "execute_result"
    },
    {
     "data": {
      "image/png": "[encoded data removed]",
      "text/plain": [
       "<matplotlib.figure.Figure at 0x2650be260b8>"
      ]
     },
     "metadata": {},
     "output_type": "display_data"
    }
   ],
   "source": [
    "X['FlightNum'].hist(bins=20)"
   ]
  },
  {
   "cell_type": "markdown",
   "metadata": {},
   "source": [
    "Какую проблему вы наблюдаете на этих графиках? Как масштабирование поможет её исправить?"
   ]
  },
  {
   "cell_type": "raw",
   "metadata": {},
   "source": [
    "на последнем графике разброс значений и их среднее значение по порядку равны нескольким тысячам, а на графике 2 эти же показатели равны ~10 => при одинаковом влиянии этих признаков на искомую переменную вес признака \"FlightNum\" будет в ~100 раз меньше, чем вес признака \"TaxiIn\" => при использовании регуляризации вес признака TaxiIn будет непропорционально сильно штрафоваться => масштабирование же сделает среднее и разброс всех переменных одинаковыми."
   ]
  },
  {
   "cell_type": "markdown",
   "metadata": {},
   "source": [
    "**10. (1 балл)** Вдобавок к масштабированию, некоторые из признаков в нашем датасете являются категориальными. Типичным подходом к работе с ними является бинарное, или [one-hot-кодирование](https://en.wikipedia.org/wiki/One-hot).\n",
    "\n",
    "\n",
    "Реализуйте функцию transform_data, которая принимает на вход DataFrame с признаками и выполняет следующие шаги:\n",
    "1. Замена пропущенных значений на нули для вещественных признаков и на строки 'nan' для категориальных.\n",
    "2. Масштабирование вещественных признаков с помощью [StandardScaler](http://scikit-learn.org/stable/modules/generated/sklearn.preprocessing.StandardScaler.html).\n",
    "3. One-hot-кодирование категориальных признаков с помощью [DictVectorizer](http://scikit-learn.org/stable/modules/generated/sklearn.feature_extraction.DictVectorizer.html) или функции [pd.get_dummies](http://pandas.pydata.org/pandas-docs/stable/generated/pandas.get_dummies.html).\n",
    "\n",
    "Метод должен возвращать преобразованный DataFrame, который должна состоять из масштабированных вещественных признаков и закодированных категориальных (исходные признаки должны быть исключены из выборки)."
   ]
  },
  {
   "cell_type": "code",
   "execution_count": 8,
   "metadata": {
    "collapsed": true
   },
   "outputs": [],
   "source": [
    "def transform_data(data):\n",
    "    data1 = data\n",
    "    mask = data1.dtypes.eq('int64') | data1.dtypes.eq('float')\n",
    "    data1 = data1.loc[:,mask]\n",
    "    data1 = data1.fillna(value = 0)\n",
    "    col_names = list(data1.columns.values)\n",
    "    scaler = StandardScaler()\n",
    "    data1 = pd.DataFrame(scaler.fit_transform(data1), columns=col_names)\n",
    "    \n",
    "    data2 = data\n",
    "    mask = data2.dtypes.eq('object')\n",
    "    data2 = data2.loc[:,mask]\n",
    "    data2 = data2.fillna(value = 'nan')\n",
    "    data2 = pd.get_dummies(data2)\n",
    "    \n",
    "    data3 = data1.join(data2)\n",
    "    data3 = data3.fillna(value = 0)\n",
    "    \n",
    "    return data3"
   ]
  },
  {
   "cell_type": "markdown",
   "metadata": {},
   "source": [
    "Примените функцию transform_data к данным. Сколько признаков получилось после преобразования?"
   ]
  },
  {
   "cell_type": "code",
   "execution_count": 9,
   "metadata": {},
   "outputs": [
    {
     "name": "stdout",
     "output_type": "stream",
     "text": [
      "       CRSArrTime_Minute  CRSArrTime_Hour  ArrTime_Minute  ArrTime_Hour  \\\n",
      "0              -1.647149         1.725956       -1.234084      1.663973   \n",
      "1              -0.051159         0.481702        0.034340      0.489585   \n",
      "2              -0.507156         0.066951       -1.637673      0.098122   \n",
      "3               0.347839        -0.347800       -0.369249     -0.293341   \n",
      "4              -1.647149        -0.347800        0.783864     -0.489072   \n",
      "5              -1.134152         0.274327        0.610897      0.293853   \n",
      "6              -0.792154        -0.140424       -0.945806     -0.097609   \n",
      "7               0.119840         1.311205        1.591043      1.076779   \n",
      "8               0.062840        -1.384678       -0.542216     -1.271998   \n",
      "9               0.461838        -3.043682       -0.311594     -2.837849   \n",
      "10              1.487832         1.725956        0.322618     -2.837849   \n",
      "11              0.347839         0.066951        1.418076      0.098122   \n",
      "12              0.233839         0.066951       -0.426905      0.098122   \n",
      "13             -0.507156         0.274327        0.034340      0.293853   \n",
      "14             -1.134152         0.896453       -1.695329      0.881048   \n",
      "15             -0.450157        -1.177302       -0.657528     -1.076267   \n",
      "16             -1.020153         1.311205       -1.522362      1.468242   \n",
      "17              1.487832        -3.043682       -1.522362     -2.642118   \n",
      "18              0.917835         0.066951        0.322618      0.098122   \n",
      "19              0.005841        -1.177302       -0.138627     -1.076267   \n",
      "20              1.715831        -0.762551       -1.580018     -0.489072   \n",
      "21              1.373833         0.066951       -1.637673      0.293853   \n",
      "22              0.974835         1.311205       -1.291740      1.468242   \n",
      "23              0.917835        -0.969926        1.302764     -0.880535   \n",
      "24             -0.222158        -0.555175       -0.830494     -0.489072   \n",
      "25             -1.590150        -0.969926       -1.695329     -0.880535   \n",
      "26             -0.849154         0.481702       -0.888150      0.489585   \n",
      "27              0.917835        -1.177302       -0.715183     -1.076267   \n",
      "28              0.176840         1.311205        0.149652      1.468242   \n",
      "29             -0.393157        -0.969926       -0.023315     -0.880535   \n",
      "...                  ...              ...             ...           ...   \n",
      "63374           1.202834         0.896453       -0.542216      1.076779   \n",
      "63375           0.803836        -0.969926        0.553241     -0.880535   \n",
      "63376          -0.222158         1.725956       -0.080971      1.663973   \n",
      "63377          -0.792154         0.274327       -1.522362      0.293853   \n",
      "63378           0.347839        -0.347800        0.207307     -0.293341   \n",
      "63379          -1.533150         0.066951        1.533387     -0.097609   \n",
      "63380          -1.362151         0.896453       -0.023315      0.881048   \n",
      "63381           0.461838         1.311205       -0.426905      1.272510   \n",
      "63382           1.601831        -0.969926       -1.349395     -0.684804   \n",
      "63383           0.917835        -1.592053       -1.695329     -2.837849   \n",
      "63384          -1.362151        -0.762551        1.475731     -0.880535   \n",
      "63385           1.487832        -0.347800       -0.599872     -0.097609   \n",
      "63386           0.404838        -0.555175       -1.580018     -0.293341   \n",
      "63387          -0.564156         0.481702       -1.637673      0.489585   \n",
      "63388          -1.077153        -0.140424        1.302764     -0.293341   \n",
      "63389          -1.647149        -1.592053        1.591043     -1.663461   \n",
      "63390          -1.476150        -1.384678        0.899175     -1.467729   \n",
      "63391           1.601831         0.896453        1.302764      0.881048   \n",
      "63392           1.715831        -1.384678       -1.522362     -1.076267   \n",
      "63393          -0.621155        -0.140424       -0.599872     -0.097609   \n",
      "63394          -0.564156        -1.799429        1.187453     -1.859192   \n",
      "63395          -0.792154         0.481702       -0.888150      0.489585   \n",
      "63396           0.119840        -0.555175        0.322618     -0.489072   \n",
      "63397           0.575837        -0.969926       -0.138627     -0.880535   \n",
      "63398           1.487832        -0.140424       -1.637673      0.098122   \n",
      "63399          -0.621155        -0.762551       -1.118773     -0.684804   \n",
      "63400           1.145834         1.311205        0.437930      1.272510   \n",
      "63401          -0.849154        -0.347800        0.380274     -0.293341   \n",
      "63402           0.575837         1.311205       -1.695329      1.468242   \n",
      "63403          -1.362151        -0.969926        1.706354     -1.076267   \n",
      "\n",
      "       CRSDepTime_Minute  CRSDepTime_Hour  DepTime_Minute  DepTime_Hour  \\\n",
      "0               1.586498         1.512432       -1.080604      1.656383   \n",
      "1              -0.936014         0.214011       -0.232910      0.195583   \n",
      "2               1.025940        -0.435199        0.727811     -0.430474   \n",
      "3               0.969884        -0.435199        0.614785     -0.430474   \n",
      "4              -0.375456        -1.084410       -0.854552     -1.056531   \n",
      "5              -0.095177        -0.002393        1.066889     -0.013103   \n",
      "6              -1.496572         0.214011        1.632018     -0.013103   \n",
      "7              -0.375456         1.079625       -0.854552      1.030326   \n",
      "8               0.185102        -1.517217       -0.232910     -1.473903   \n",
      "9              -1.104181         1.296028       -1.419682      1.239011   \n",
      "10             -1.496572         1.512432        0.671298      1.447697   \n",
      "11              1.306219        -0.651603       -1.645734     -0.430474   \n",
      "12              1.586498        -0.002393        1.010376     -0.013103   \n",
      "13             -0.936014         0.430414       -0.119884      0.404268   \n",
      "14             -1.496572         0.863221        1.179915      0.612954   \n",
      "15             -1.496572        -1.517217        1.518992     -1.682589   \n",
      "16              1.306219         1.296028        1.179915      1.239011   \n",
      "17              1.025940         1.296028       -1.419682      1.447697   \n",
      "18              1.025940        -0.651603        0.784324     -0.639160   \n",
      "19             -0.767846        -0.868006       -1.363169     -0.847846   \n",
      "20              1.025940        -0.868006        0.671298     -0.847846   \n",
      "21              1.025940         0.214011        0.671298      0.195583   \n",
      "22             -1.496572         1.512432        0.106168      1.447697   \n",
      "23              1.025940        -1.300813        0.614785     -1.265217   \n",
      "24             -1.496572        -0.868006       -1.645734     -0.847846   \n",
      "25             -1.496572        -1.084410        1.236428     -1.265217   \n",
      "26              0.745661         0.646818        0.501759      0.612954   \n",
      "27             -0.655735        -1.084410       -1.080604     -1.056531   \n",
      "28              1.025940         1.512432        0.445246      1.447697   \n",
      "29             -1.328404        -1.084410        1.575505     -1.265217   \n",
      "...                  ...              ...             ...           ...   \n",
      "63374          -0.655735         0.863221        1.010376      0.821640   \n",
      "63375           0.465382        -0.868006        0.388733     -0.847846   \n",
      "63376           1.306219         1.728835       -1.645734      1.865068   \n",
      "63377           1.025940        -1.084410        1.405966     -1.056531   \n",
      "63378          -1.160237        -0.002393       -1.532708     -0.013103   \n",
      "63379          -1.496572        -0.002393        1.632018     -0.221789   \n",
      "63380          -0.936014         1.079625        0.558272      1.030326   \n",
      "63381          -0.823902         1.512432       -1.080604      1.447697   \n",
      "63382           0.465382        -1.084410        0.558272     -1.056531   \n",
      "63383           0.241158        -1.300813       -0.232910     -1.265217   \n",
      "63384          -0.655735        -0.868006       -1.250143     -0.847846   \n",
      "63385           0.745661        -0.435199        1.405966     -0.430474   \n",
      "63386           1.194107        -0.651603       -0.458962     -0.430474   \n",
      "63387          -1.496572         0.214011        1.179915     -0.013103   \n",
      "63388           1.586498        -0.002393        1.179915     -0.013103   \n",
      "63389          -0.655735        -1.517217       -1.419682     -1.473903   \n",
      "63390          -0.487567        -1.517217       -0.854552     -1.473903   \n",
      "63391          -1.216293         1.296028       -1.645734      1.239011   \n",
      "63392           1.810721        -1.517217        1.179915     -1.473903   \n",
      "63393          -0.095177        -0.002393       -0.345936     -0.013103   \n",
      "63394           0.185102        -2.815638       -0.119884     -2.726017   \n",
      "63395           0.185102         0.646818       -0.176397      0.612954   \n",
      "63396          -0.375456        -0.868006       -0.911065     -0.847846   \n",
      "63397          -1.440516        -1.084410        1.349453     -1.265217   \n",
      "63398          -1.496572         0.214011       -1.137117      0.195583   \n",
      "63399          -0.095177        -0.868006       -0.571987     -0.847846   \n",
      "63400           0.745661         1.079625       -0.063371      1.030326   \n",
      "63401          -0.095177        -0.435199        1.066889     -0.430474   \n",
      "63402          -1.496572         1.296028       -1.363169      1.239011   \n",
      "63403          -1.496572        -0.868006        1.632018     -1.056531   \n",
      "\n",
      "          Month  DayofMonth          ...           Dest_VPS  Dest_WRG  \\\n",
      "0     -0.118281    0.256485          ...                0.0       0.0   \n",
      "1     -0.118281   -1.332050          ...                0.0       0.0   \n",
      "2      0.467662   -1.445517          ...                0.0       0.0   \n",
      "3     -1.583137    0.823819          ...                0.0       0.0   \n",
      "4     -0.411252   -1.332050          ...                0.0       0.0   \n",
      "5     -1.583137   -1.445517          ...                0.0       0.0   \n",
      "6     -0.997195    1.731554          ...                0.0       0.0   \n",
      "7     -0.704223    0.710352          ...                0.0       0.0   \n",
      "8     -0.997195   -1.332050          ...                0.0       0.0   \n",
      "9      1.053604   -1.105117          ...                0.0       0.0   \n",
      "10     1.346576    0.029551          ...                0.0       0.0   \n",
      "11     1.639547    0.823819          ...                0.0       0.0   \n",
      "12     0.174690   -0.083915          ...                0.0       0.0   \n",
      "13    -1.583137    1.504620          ...                0.0       0.0   \n",
      "14     1.346576   -0.310849          ...                0.0       0.0   \n",
      "15     0.174690   -1.218584          ...                0.0       0.0   \n",
      "16     0.174690   -0.878183          ...                0.0       0.0   \n",
      "17     0.467662    0.143018          ...                0.0       0.0   \n",
      "18    -0.411252   -1.558984          ...                0.0       0.0   \n",
      "19    -0.411252    0.369952          ...                0.0       0.0   \n",
      "20     0.467662   -1.558984          ...                0.0       0.0   \n",
      "21    -1.583137   -0.197382          ...                0.0       0.0   \n",
      "22    -0.411252    0.369952          ...                0.0       0.0   \n",
      "23    -0.411252    0.937286          ...                0.0       0.0   \n",
      "24     0.174690    0.369952          ...                0.0       0.0   \n",
      "25     0.760633    0.823819          ...                0.0       0.0   \n",
      "26    -1.583137    0.710352          ...                0.0       0.0   \n",
      "27    -0.997195    0.937286          ...                0.0       0.0   \n",
      "28    -1.290166    0.937286          ...                0.0       0.0   \n",
      "29    -0.411252    1.164220          ...                0.0       0.0   \n",
      "...         ...         ...          ...                ...       ...   \n",
      "63374  0.174690    0.596885          ...                0.0       0.0   \n",
      "63375  0.174690   -0.651249          ...                0.0       0.0   \n",
      "63376  1.639547   -0.991650          ...                0.0       0.0   \n",
      "63377 -0.704223   -0.764716          ...                0.0       0.0   \n",
      "63378 -0.997195    0.710352          ...                0.0       0.0   \n",
      "63379  0.467662    0.369952          ...                0.0       0.0   \n",
      "63380 -0.704223    0.483419          ...                0.0       0.0   \n",
      "63381  1.639547    1.731554          ...                0.0       0.0   \n",
      "63382 -0.704223   -1.105117          ...                0.0       0.0   \n",
      "63383  1.639547   -0.764716          ...                0.0       0.0   \n",
      "63384  1.639547   -1.558984          ...                0.0       0.0   \n",
      "63385 -0.411252   -0.424316          ...                0.0       0.0   \n",
      "63386 -1.583137   -1.558984          ...                0.0       0.0   \n",
      "63387 -0.118281   -0.310849          ...                0.0       0.0   \n",
      "63388  0.760633   -1.558984          ...                0.0       0.0   \n",
      "63389  1.053604   -1.332050          ...                0.0       0.0   \n",
      "63390  1.639547   -0.537783          ...                0.0       0.0   \n",
      "63391  1.639547   -1.332050          ...                0.0       0.0   \n",
      "63392  1.346576   -0.083915          ...                0.0       0.0   \n",
      "63393  1.639547   -0.991650          ...                0.0       0.0   \n",
      "63394  0.174690    0.937286          ...                0.0       0.0   \n",
      "63395  1.639547    0.823819          ...                0.0       0.0   \n",
      "63396 -0.704223    0.937286          ...                0.0       0.0   \n",
      "63397  1.346576   -1.332050          ...                0.0       0.0   \n",
      "63398 -1.290166    1.391153          ...                0.0       0.0   \n",
      "63399 -1.583137    1.164220          ...                0.0       0.0   \n",
      "63400 -0.411252   -0.424316          ...                0.0       0.0   \n",
      "63401 -0.411252   -0.537783          ...                0.0       0.0   \n",
      "63402 -1.290166    0.256485          ...                0.0       0.0   \n",
      "63403  1.639547   -1.105117          ...                0.0       0.0   \n",
      "\n",
      "       Dest_WYS  Dest_XNA  Dest_YAK  Dest_YKM  Dest_YUM  CancellationCode_A  \\\n",
      "0           0.0       0.0       0.0       0.0       0.0                 0.0   \n",
      "1           0.0       0.0       0.0       0.0       0.0                 0.0   \n",
      "2           0.0       0.0       0.0       0.0       0.0                 0.0   \n",
      "3           0.0       0.0       0.0       0.0       0.0                 0.0   \n",
      "4           0.0       0.0       0.0       0.0       0.0                 0.0   \n",
      "5           0.0       0.0       0.0       0.0       0.0                 0.0   \n",
      "6           0.0       0.0       0.0       0.0       0.0                 0.0   \n",
      "7           0.0       0.0       0.0       0.0       0.0                 0.0   \n",
      "8           0.0       0.0       0.0       0.0       0.0                 0.0   \n",
      "9           0.0       0.0       0.0       0.0       0.0                 0.0   \n",
      "10          0.0       0.0       0.0       0.0       0.0                 0.0   \n",
      "11          0.0       0.0       0.0       0.0       0.0                 0.0   \n",
      "12          0.0       0.0       0.0       0.0       0.0                 0.0   \n",
      "13          0.0       0.0       0.0       0.0       0.0                 0.0   \n",
      "14          0.0       0.0       0.0       0.0       0.0                 0.0   \n",
      "15          0.0       0.0       0.0       0.0       0.0                 0.0   \n",
      "16          0.0       0.0       0.0       0.0       0.0                 0.0   \n",
      "17          0.0       0.0       0.0       0.0       0.0                 0.0   \n",
      "18          0.0       0.0       0.0       0.0       0.0                 0.0   \n",
      "19          0.0       0.0       0.0       0.0       0.0                 0.0   \n",
      "20          0.0       0.0       0.0       0.0       0.0                 0.0   \n",
      "21          0.0       0.0       0.0       0.0       0.0                 0.0   \n",
      "22          0.0       0.0       0.0       0.0       0.0                 0.0   \n",
      "23          0.0       0.0       0.0       0.0       0.0                 0.0   \n",
      "24          0.0       0.0       0.0       0.0       0.0                 0.0   \n",
      "25          0.0       0.0       0.0       0.0       0.0                 0.0   \n",
      "26          0.0       0.0       0.0       0.0       0.0                 0.0   \n",
      "27          0.0       0.0       0.0       0.0       0.0                 0.0   \n",
      "28          0.0       0.0       0.0       0.0       0.0                 0.0   \n",
      "29          0.0       0.0       0.0       0.0       0.0                 0.0   \n",
      "...         ...       ...       ...       ...       ...                 ...   \n",
      "63374       0.0       0.0       0.0       0.0       0.0                 0.0   \n",
      "63375       0.0       0.0       0.0       0.0       0.0                 0.0   \n",
      "63376       0.0       0.0       0.0       0.0       0.0                 0.0   \n",
      "63377       0.0       0.0       0.0       0.0       0.0                 0.0   \n",
      "63378       0.0       0.0       0.0       0.0       0.0                 0.0   \n",
      "63379       0.0       0.0       0.0       0.0       0.0                 0.0   \n",
      "63380       0.0       0.0       0.0       0.0       0.0                 0.0   \n",
      "63381       0.0       0.0       0.0       0.0       0.0                 0.0   \n",
      "63382       0.0       0.0       0.0       0.0       0.0                 0.0   \n",
      "63383       0.0       0.0       0.0       0.0       0.0                 0.0   \n",
      "63384       0.0       0.0       0.0       0.0       0.0                 0.0   \n",
      "63385       0.0       0.0       0.0       0.0       0.0                 0.0   \n",
      "63386       0.0       0.0       0.0       0.0       0.0                 0.0   \n",
      "63387       0.0       0.0       0.0       0.0       0.0                 0.0   \n",
      "63388       0.0       0.0       0.0       0.0       0.0                 0.0   \n",
      "63389       0.0       0.0       0.0       0.0       0.0                 0.0   \n",
      "63390       0.0       0.0       0.0       0.0       0.0                 0.0   \n",
      "63391       0.0       0.0       0.0       0.0       0.0                 0.0   \n",
      "63392       0.0       0.0       0.0       0.0       0.0                 0.0   \n",
      "63393       0.0       0.0       0.0       0.0       0.0                 0.0   \n",
      "63394       0.0       0.0       0.0       0.0       0.0                 0.0   \n",
      "63395       0.0       0.0       0.0       0.0       0.0                 0.0   \n",
      "63396       0.0       0.0       0.0       0.0       0.0                 0.0   \n",
      "63397       0.0       0.0       0.0       0.0       0.0                 0.0   \n",
      "63398       0.0       0.0       0.0       0.0       0.0                 0.0   \n",
      "63399       0.0       0.0       0.0       0.0       0.0                 0.0   \n",
      "63400       0.0       0.0       0.0       0.0       0.0                 0.0   \n",
      "63401       0.0       0.0       0.0       0.0       0.0                 0.0   \n",
      "63402       0.0       0.0       0.0       0.0       0.0                 0.0   \n",
      "63403       0.0       0.0       0.0       0.0       0.0                 0.0   \n",
      "\n",
      "       CancellationCode_B  CancellationCode_nan  \n",
      "0                     0.0                   1.0  \n",
      "1                     0.0                   1.0  \n",
      "2                     0.0                   1.0  \n",
      "3                     0.0                   1.0  \n",
      "4                     0.0                   1.0  \n",
      "5                     0.0                   1.0  \n",
      "6                     0.0                   1.0  \n",
      "7                     0.0                   1.0  \n",
      "8                     0.0                   1.0  \n",
      "9                     0.0                   1.0  \n",
      "10                    0.0                   1.0  \n",
      "11                    0.0                   0.0  \n",
      "12                    0.0                   1.0  \n",
      "13                    0.0                   1.0  \n",
      "14                    0.0                   1.0  \n",
      "15                    0.0                   1.0  \n",
      "16                    0.0                   1.0  \n",
      "17                    0.0                   1.0  \n",
      "18                    0.0                   1.0  \n",
      "19                    0.0                   1.0  \n",
      "20                    0.0                   1.0  \n",
      "21                    0.0                   1.0  \n",
      "22                    0.0                   1.0  \n",
      "23                    0.0                   1.0  \n",
      "24                    0.0                   1.0  \n",
      "25                    0.0                   1.0  \n",
      "26                    0.0                   1.0  \n",
      "27                    0.0                   1.0  \n",
      "28                    0.0                   0.0  \n",
      "29                    0.0                   1.0  \n",
      "...                   ...                   ...  \n",
      "63374                 0.0                   1.0  \n",
      "63375                 0.0                   1.0  \n",
      "63376                 0.0                   0.0  \n",
      "63377                 0.0                   1.0  \n",
      "63378                 0.0                   1.0  \n",
      "63379                 0.0                   1.0  \n",
      "63380                 0.0                   1.0  \n",
      "63381                 0.0                   1.0  \n",
      "63382                 0.0                   1.0  \n",
      "63383                 0.0                   1.0  \n",
      "63384                 0.0                   1.0  \n",
      "63385                 0.0                   1.0  \n",
      "63386                 0.0                   0.0  \n",
      "63387                 0.0                   1.0  \n",
      "63388                 0.0                   1.0  \n",
      "63389                 0.0                   1.0  \n",
      "63390                 0.0                   1.0  \n",
      "63391                 0.0                   1.0  \n",
      "63392                 0.0                   1.0  \n",
      "63393                 0.0                   1.0  \n",
      "63394                 0.0                   1.0  \n",
      "63395                 0.0                   1.0  \n",
      "63396                 0.0                   1.0  \n",
      "63397                 0.0                   0.0  \n",
      "63398                 0.0                   1.0  \n",
      "63399                 0.0                   0.0  \n",
      "63400                 0.0                   1.0  \n",
      "63401                 0.0                   1.0  \n",
      "63402                 0.0                   1.0  \n",
      "63403                 0.0                   1.0  \n",
      "\n",
      "[63404 rows x 642 columns]\n"
     ]
    }
   ],
   "source": [
    "X = transform_data(X)\n",
    "print(X)"
   ]
  },
  {
   "cell_type": "markdown",
   "metadata": {},
   "source": [
    "[63404 rows x 642 columns] => 642 признака"
   ]
  },
  {
   "cell_type": "markdown",
   "metadata": {},
   "source": [
    "**11. (0.75 балла)** Разбейте выборку и вектор целевой переменной на обучение и контроль в отношении 70/30 (для этого можно использовать, например, функцию [train_test_split](http://scikit-learn.org/stable/modules/generated/sklearn.cross_validation.train_test_split.html)). "
   ]
  },
  {
   "cell_type": "code",
   "execution_count": 10,
   "metadata": {
    "collapsed": true
   },
   "outputs": [],
   "source": [
    "from sklearn.model_selection import train_test_split\n",
    "train_X, test_X, train_Y, test_Y = train_test_split(X, Y, test_size=0.3, random_state = 123) "
   ]
  },
  {
   "cell_type": "markdown",
   "metadata": {},
   "source": [
    "### Scikit-learn\n",
    "\n",
    "<img src = \"https://pp.vk.me/c4534/u35727827/93547647/x_d31c4463.jpg\">\n",
    "Теперь, когда мы привели данные к пригодному виду, попробуем решить задачу при помощи метода наименьших квадратов. Напомним, что данный метод заключается в оптимизации функционала $MSE$:\n",
    "\n",
    "$$MSE(X, y) = \\frac{1}{l} \\sum_{i=1}^l (<w, x_i> - y_i)^2 \\to \\min_{w},$$\n",
    "\n",
    "где $\\{ (x_i, y_i ) \\}_{i=1}^l$ — обучающая выборка, состоящая из $l$ пар объект-ответ.\n",
    "\n",
    "Заметим, что решение данной задачи уже реализовано в модуле sklearn в виде класса [LinearRegression](http://scikit-learn.org/stable/modules/generated/sklearn.linear_model.LinearRegression.html#sklearn.linear_model.LinearRegression).\n",
    "\n",
    "**12. (0.5 балла)** Обучите линейную регрессию на 1000 объектах из обучающей выборки и выведите значения $MSE$ и $R^2$ на этой подвыборке и контрольной выборке (итого 4 различных числа). Проинтерпретируйте полученный результат — насколько качественные прогнозы строит полученная модель? Какие проблемы наблюдаются в модели?\n",
    "\n",
    "**Подсказка**: изучите значения полученных коэффициентов $w$, сохраненных в атрибуте coef_ объекта LinearRegression."
   ]
  },
  {
   "cell_type": "code",
   "execution_count": 11,
   "metadata": {},
   "outputs": [
    {
     "name": "stdout",
     "output_type": "stream",
     "text": [
      "R^2 на обучающей подвыборке =  0.976522226968\n",
      "R^2 на контрольной выборке =  0.911365368938\n",
      "MSE на обучающей подвыборке =  37.8329008652\n",
      "MSE на контрольной выборке =  108.122230447\n",
      "          Имя признака  Вес признака\n",
      "14             AirTime   -102.793221\n",
      "17             TaxiOut    -17.986909\n",
      "205         Origin_LGB    -15.169798\n",
      "501           Dest_LFT    -15.078272\n",
      "185         Origin_ISP    -14.850536\n",
      "187         Origin_ITO    -14.819404\n",
      "59          Origin_ALO    -14.748521\n",
      "625           Dest_TUS    -14.515972\n",
      "374           Dest_BMI    -13.721894\n",
      "67          Origin_AVP    -12.482353\n",
      "354           Dest_ALB    -12.182584\n",
      "518           Dest_MDT    -10.865390\n",
      "148         Origin_FNT    -10.510997\n",
      "281         Origin_RIC    -10.434894\n",
      "58          Origin_ALB    -10.052496\n",
      "566           Dest_PNS     -9.577593\n",
      "93          Origin_CAE     -9.560846\n",
      "623           Dest_TRI     -9.251295\n",
      "128         Origin_DSM     -9.213807\n",
      "149         Origin_FSD     -9.004023\n",
      "555           Dest_PBI     -8.347233\n",
      "301         Origin_SGU     -8.344084\n",
      "485           Dest_ITO     -8.333536\n",
      "285         Origin_ROC     -8.294382\n",
      "293         Origin_SBN     -8.268546\n",
      "246         Origin_OAK     -7.985531\n",
      "385           Dest_BTV     -7.953863\n",
      "369           Dest_BHM     -7.930538\n",
      "201         Origin_LCH     -7.838392\n",
      "16              TaxiIn     -7.626301\n",
      "..                 ...           ...\n",
      "626           Dest_TVC      7.578204\n",
      "273         Origin_PVD      7.849072\n",
      "446           Dest_FNT      8.436732\n",
      "239         Origin_MSN      8.563460\n",
      "471           Dest_HPN      8.578448\n",
      "21        WeatherDelay      9.121925\n",
      "181         Origin_ILM      9.685002\n",
      "452           Dest_GFK      9.785773\n",
      "487           Dest_JAC     10.817579\n",
      "624           Dest_TUL     11.402012\n",
      "494           Dest_LAN     11.540605\n",
      "530           Dest_MLI     11.895545\n",
      "332         Origin_TYR     11.931271\n",
      "194         Origin_KOA     12.206541\n",
      "86          Origin_BTM     12.462182\n",
      "441           Dest_FAY     12.725079\n",
      "558           Dest_PHF     12.811839\n",
      "600           Dest_SHV     12.816763\n",
      "323         Origin_TLH     13.263689\n",
      "22            NASDelay     14.192134\n",
      "209         Origin_LNK     14.489914\n",
      "144         Origin_FCA     17.138178\n",
      "237         Origin_MQT     19.766056\n",
      "20        CarrierDelay     20.409940\n",
      "24   LateAircraftDelay     21.931450\n",
      "274         Origin_PWM     23.079309\n",
      "244         Origin_MYR     27.801722\n",
      "13      CRSElapsedTime     33.631622\n",
      "156         Origin_GJT     34.346468\n",
      "12   ActualElapsedTime     68.141900\n",
      "\n",
      "[642 rows x 2 columns]\n"
     ]
    }
   ],
   "source": [
    "import sklearn.linear_model as lm\n",
    "\n",
    "\n",
    "def MSE(regr, x, y):\n",
    "    pred = regr.predict(x)\n",
    "    y1 = np.array(y)\n",
    "    return (np.mean((pred - y1) * (pred - y1)))\n",
    "\n",
    "skm = lm.LinearRegression()\n",
    "skm.fit(train_X[:1000], train_Y[:1000])\n",
    "w = skm.coef_\n",
    "\n",
    "colnames = list(X.columns.values)\n",
    "print('R^2 на обучающей подвыборке = ', skm.score(train_X[:1000], train_Y[:1000]))\n",
    "print('R^2 на контрольной выборке = ', skm.score(test_X, test_Y))\n",
    "print('MSE на обучающей подвыборке = ', MSE(skm, train_X[:1000], train_Y[:1000]))\n",
    "print('MSE на контрольной выборке = ', MSE(skm, test_X, test_Y))\n",
    "pdw = pd.DataFrame({'Имя признака':colnames,'Вес признака':w},columns = ['Имя признака','Вес признака'])\n",
    "print(pdw.sort_values(by = 'Вес признака'))\n"
   ]
  },
  {
   "cell_type": "markdown",
   "metadata": {},
   "source": [
    "R^2 очень близок к 1 => прогнозы должны быть довольно хорошими. на обучающей выборке R^2 заметно больше, чем на тестовой, некоторые веса довольно велики => наверное, имеет место переобучение."
   ]
  },
  {
   "cell_type": "markdown",
   "metadata": {
    "collapsed": true
   },
   "source": [
    "Для решения описанных вами в предыдущем пункте проблем используем L1- или L2-регуляризацию, тем самым получив Lasso и Ridge регрессии соответственно и изменив оптимизационную задачу одним из следующих образов:\n",
    "$$MSE_{L1}(X, y) = \\frac{1}{l} \\sum_{i=1}^l (<w, x_i> - y_i)^2 + \\alpha ||w||_1 \\to \\min_{w},$$\n",
    "$$MSE_{L2}(X, y) = \\frac{1}{l} \\sum_{i=1}^l (<w, x_i> - y_i)^2 + \\alpha ||w||_2^2 \\to \\min_{w},$$\n",
    "\n",
    "где $\\alpha$ — коэффициент регуляризации. Один из способов его подбора заключается в переборе некоторого количества значений и оценке качества на кросс-валидации для каждого из них, после чего выбирается значение, для которого было получено наилучшее качество.\n",
    "\n",
    "**13. (1 балл)** Обучите линейные регрессии с L1- и L2-регуляризатором, подобрав лучшее значение параметра регуляризации из списка alpha_grid при помощи кросс-валидации c 5 фолдами на тех же 1000 объектах, что и в п.12. Выведите значения $MSE$ и $R^2$ на обучающей и контрольной выборках. Удалось ли решить указанные вами ранее проблемы?\n",
    "\n",
    "Для выполнения данного задания вам могут понадобиться реализованные в библиотеке объекты [LassoCV](http://scikit-learn.org/stable/modules/generated/sklearn.linear_model.LassoCV.html), [RidgeCV](http://scikit-learn.org/stable/modules/generated/sklearn.linear_model.RidgeCV.html) и [KFold](http://scikit-learn.org/stable/modules/generated/sklearn.cross_validation.KFold.html).\n"
   ]
  },
  {
   "cell_type": "code",
   "execution_count": 13,
   "metadata": {},
   "outputs": [
    {
     "name": "stdout",
     "output_type": "stream",
     "text": [
      "RidgeCV:\n",
      "R^2 на обучающей подвыборке =  0.964447132435\n",
      "R^2 на контрольной выборке =  0.911477332445\n",
      "MSE на обучающей подвыборке =  57.2911286034\n",
      "MSE на контрольной выборке =  107.985650151\n",
      "LassoCV:\n",
      "R^2 на обучающей подвыборке =  0.957308489915\n",
      "R^2 на контрольной выборке =  0.926204674496\n",
      "MSE на обучающей подвыборке =  68.7945856979\n",
      "MSE на контрольной выборке =  90.0202899752\n"
     ]
    },
    {
     "name": "stderr",
     "output_type": "stream",
     "text": [
      "C:\\Users\\agapo\\Anaconda3\\lib\\site-packages\\sklearn\\linear_model\\coordinate_descent.py:484: ConvergenceWarning: Objective did not converge. You might want to increase the number of iterations. Fitting data with very small alpha may cause precision problems.\n",
      "  ConvergenceWarning)\n"
     ]
    }
   ],
   "source": [
    "from sklearn import cross_validation\n",
    "import sklearn\n",
    "\n",
    "X1000 = train_X[:1000]\n",
    "Y1000 = train_Y[:1000]\n",
    "\n",
    "alphagrid = np.linspace(0.1,10,100)\n",
    "\n",
    "regr = sklearn.linear_model.RidgeCV(alphas=alphagrid, fit_intercept=False,\n",
    "                                                                normalize=False, scoring=None, cv=5, \n",
    "                                                                gcv_mode=None, store_cv_values=False)\n",
    "regr.fit(X1000, Y1000)\n",
    "print('RidgeCV:')\n",
    "print('R^2 на обучающей подвыборке = ', regr.score(X1000, Y1000))\n",
    "print('R^2 на контрольной выборке = ', regr.score(test_X, test_Y))\n",
    "print('MSE на обучающей подвыборке = ', MSE(regr, X1000, Y1000))\n",
    "print('MSE на контрольной выборке = ', MSE(regr, test_X, test_Y))\n",
    "\n",
    "regr1 = sklearn.linear_model.LassoCV(alphas=alphagrid, fit_intercept=False,\n",
    "                                                                normalize=False, cv=5)\n",
    "regr1.fit(X1000, Y1000)\n",
    "print('LassoCV:')\n",
    "print('R^2 на обучающей подвыборке = ', regr1.score(X1000, Y1000))\n",
    "print('R^2 на контрольной выборке = ', regr1.score(test_X, test_Y))\n",
    "print('MSE на обучающей подвыборке = ', MSE(regr1, X1000, Y1000))\n",
    "print('MSE на контрольной выборке = ', MSE(regr1, test_X, test_Y))"
   ]
  },
  {
   "cell_type": "markdown",
   "metadata": {},
   "source": [
    "как видно, LassoCV заметно сократила разрав между R^2 и MSE на тестовой и обучающей выборках => проблема отчасти решена."
   ]
  },
  {
   "cell_type": "markdown",
   "metadata": {},
   "source": [
    "### Градиентный спуск\n",
    "\n",
    "В предыдущем разделе мы использовали существующие реализации методов обучения линейной регрессии с регуляризацией и без. Тем не менее, подобные реализации, как правило, имеются лишь для ограниченного набора стандартных методов. В частности, при выходе функционала качества за пределы стандартного множества необходимо самостоятельно реализовывать составляющие процесса решения оптимизационной задачи. Именно этому и посвящен данный раздел задания.\n",
    "\n",
    "Пусть необходимо минимизировать следующий функционал (Mean Square Percentage Error — модифицированный [RMSPE](https://www.kaggle.com/c/rossmann-store-sales/details/evaluation)):\n",
    "$$MSPE(\\{x_i, y_i\\}_{i=1}^l, \\, w) = \\frac{1}{l}\\sum_{i=1}^l \\left( \\frac{y_i - \\langle w, x_i \\rangle }{y_i} \\right)^2,$$\n",
    "\n",
    "где $\\{x_i, y_i\\}_{i=1}^l$ — обучающая выборка, $w$ — вектор весов линейной модели. Будем также рассматривать функционал $MSPE$ с L2-регуляризацией:\n",
    "\n",
    "$$MSPE(\\{x_i, y_i\\}_{i=1}^l, \\, w) = \\frac{1}{l}\\sum_{i=1}^l \\left( \\frac{y_i - \\langle w, x_i \\rangle }{y_i} \\right)^2 + ||w||_2^2.$$\n",
    "\n",
    "**14. (0 баллов)** Добавьте к объектам обеих выборок из п. 11 единичный признак."
   ]
  },
  {
   "cell_type": "code",
   "execution_count": 14,
   "metadata": {
    "collapsed": true
   },
   "outputs": [],
   "source": [
    "one = np.ones((test_X.shape[0],1))\n",
    "test_X.insert(0,'const',one)\n",
    "\n",
    "one = np.ones((train_X.shape[0],1))\n",
    "train_X.insert(0,'const',one)"
   ]
  },
  {
   "cell_type": "code",
   "execution_count": 79,
   "metadata": {
    "collapsed": true
   },
   "outputs": [],
   "source": [
    "X1000 = train_X[:1000]\n",
    "Y1000 = train_Y[:1000]"
   ]
  },
  {
   "cell_type": "markdown",
   "metadata": {},
   "source": [
    "**15. (1 балл)** Реализуйте функции, которые вычисляют:\n",
    " * прогнозы линейной модели;\n",
    " * функционал $MSPE$ и его градиент;\n",
    " * регуляризованный $MSPE$ и его градиент."
   ]
  },
  {
   "cell_type": "code",
   "execution_count": 15,
   "metadata": {
    "collapsed": true
   },
   "outputs": [],
   "source": [
    "# возвращает вектор прогнозов линейной модели с вектором весов w для выборки X\n",
    "def make_pred(X, w):\n",
    "    return np.matmul(X,w)"
   ]
  },
  {
   "cell_type": "code",
   "execution_count": 16,
   "metadata": {
    "collapsed": true
   },
   "outputs": [],
   "source": [
    "# возвращает значение функционала MSPE для выборки (X, y) и вектора весов w\n",
    "def get_func(w, X, y):\n",
    "    Xw = np.matmul(X,w)\n",
    "    return np.mean(((y-Xw)/y)*((y-Xw)/y))"
   ]
  },
  {
   "cell_type": "code",
   "execution_count": 18,
   "metadata": {
    "collapsed": true
   },
   "outputs": [],
   "source": [
    "# возвращает градиент функционала MSPE для выборки (X, y) и вектора весов w\n",
    "def get_grad(w, X, y):\n",
    "    y_Xw = y - np.matmul(X,w)\n",
    "    ans = np.matmul(np.transpose(X),y_Xw/(y*y))/(np.size(y))*(-2) \n",
    "    return ans"
   ]
  },
  {
   "cell_type": "code",
   "execution_count": 19,
   "metadata": {
    "collapsed": true
   },
   "outputs": [],
   "source": [
    "# возвращает значение регуляризованного функционала MSPE для выборки (X, y) и вектора весов w\n",
    "def get_reg_func(w, X, y):\n",
    "    return (get_func(w, X, y) + np.sum(w*w))"
   ]
  },
  {
   "cell_type": "code",
   "execution_count": 20,
   "metadata": {
    "collapsed": true
   },
   "outputs": [],
   "source": [
    "# возвращает градиент регуляризованного функционала MSPE для выборки (X, y) и вектора весов w\n",
    "def get_reg_grad(w, X, y):\n",
    "    w2 = get_grad(w, X, y)\n",
    "    return (w*2)+w2"
   ]
  },
  {
   "cell_type": "markdown",
   "metadata": {},
   "source": [
    "**16. (1 балл)** Реализуйте метод градиентного спуска для описанных функционалов ($MSPE$ и его регуляризованный вариант). Функция должна принимать следующие параметры:\n",
    " - X — матрица \"объект-признак\";\n",
    " - y — вектор целевой переменной;\n",
    " - w0 — начальное значение вектора весов;\n",
    " - step_size — значение темпа обучения;\n",
    " - max_iter — максимальное число итераций;\n",
    " - eps — значение, используемое в критерии останова;\n",
    " - is_reg — бинарный параметр, принимает значение True в случае наличия регуляризации функционала, False — в противном случае.\n",
    " \n",
    "Процесс должен быть остановлен, если выполнено хотя бы одно из следующих условий:\n",
    " - было выполнено заданное количество итераций max_iter;\n",
    " - евклидова норма разности векторов $w$ на соседних итерациях стала меньше, чем eps.\n",
    "\n",
    "Функция должна возвращать полученный в результате оптимизации вектор $w$ и список значений функционала на каждой итерации."
   ]
  },
  {
   "cell_type": "code",
   "execution_count": 48,
   "metadata": {
    "collapsed": true
   },
   "outputs": [],
   "source": [
    "def grad(w, X, y, is_reg):\n",
    "    if (is_reg == False):\n",
    "        return get_grad(w,X,y)\n",
    "    else:\n",
    "        return get_reg_grad(w,X,y)\n",
    "\n",
    "    \n",
    "def func(w, X, y, is_reg):\n",
    "    if (is_reg == False):\n",
    "        return get_func(w,X,y)\n",
    "    else:\n",
    "        return get_reg_func(w,X,y)\n",
    "    \n",
    "    \n",
    "def grad_descent(X, y, w0, step_size, max_iter, eps, is_reg):\n",
    "    np_X = np.array(X)\n",
    "    np_y = np.array(y).reshape(X.shape[0],1)\n",
    "    \n",
    "    iter = 0\n",
    "    dw = 999999999\n",
    "    \n",
    "    f_val_list = []\n",
    "    w_old = w0\n",
    "    \n",
    "    while ((dw > eps) & (iter < max_iter)):\n",
    "        g = grad(w_old, np_X, np_y, is_reg)\n",
    "        w_new = w_old - g*step_size\n",
    "        iter = iter + 1;\n",
    "        dw = (np.sum((w_new - w_old)*(w_new - w_old)))**0.5\n",
    "        w_old = w_new\n",
    "        f_val_list.append(func(w_old, np_X, np_y, is_reg))\n",
    "    return w_old, f_val_list   "
   ]
  },
  {
   "cell_type": "markdown",
   "metadata": {},
   "source": [
    "Обучите линейную регрессию с функционалом $MSPE$ на обучающей выборке при помощи метода градиентного спуска и изобразите кривые зависимости значения функционала от номера итерации для различных:\n",
    " * значений размера шага из набора [0.001, 1, 10];\n",
    " * способов начальной инициализации вектора весов (нули, случайные веса).\n",
    "\n",
    "Проанализируйте полученные результаты — влияют ли данные параметры на скорость сходимости и итоговое качество? Если да, то как?"
   ]
  },
  {
   "cell_type": "code",
   "execution_count": 83,
   "metadata": {},
   "outputs": [
    {
     "data": {
      "text/plain": [
       "[<matplotlib.lines.Line2D at 0x21a23d262e8>]"
      ]
     },
     "execution_count": 83,
     "metadata": {},
     "output_type": "execute_result"
    },
    {
     "data": {
      "image/png": "[encoded data removed]",
      "text/plain": [
       "<matplotlib.figure.Figure at 0x21a23829a20>"
      ]
     },
     "metadata": {},
     "output_type": "display_data"
    }
   ],
   "source": [
    "import matplotlib.pyplot as pyplt\n",
    "\n",
    "w0 = np.zeros(X1000.shape[1]).reshape(X1000.shape[1],1)\n",
    "\n",
    "w,f_val_list = grad_descent(X1000, Y1000, w0, 1, 300000, 0.00001, False)\n",
    "\n",
    "pyplt.plot(f_val_list,label= 'test_MSPE_dynamics, step_size = 1')"
   ]
  },
  {
   "cell_type": "code",
   "execution_count": 121,
   "metadata": {},
   "outputs": [
    {
     "data": {
      "text/plain": [
       "[<matplotlib.lines.Line2D at 0x21a243dbb00>]"
      ]
     },
     "execution_count": 121,
     "metadata": {},
     "output_type": "execute_result"
    },
    {
     "data": {
      "image/png": "[encoded data removed]",
      "text/plain": [
       "<matplotlib.figure.Figure at 0x21a243ca748>"
      ]
     },
     "metadata": {},
     "output_type": "display_data"
    }
   ],
   "source": [
    "w0 = np.random.standard_normal((X1000.shape[1],1))\n",
    "\n",
    "w,f_val_list = grad_descent(X1000, Y1000, w0, 1, 300000, 0.00001, False)\n",
    "\n",
    "pyplt.plot(f_val_list,label= 'test_MSPE_dynamics, step_size = 1, random w0')"
   ]
  },
  {
   "cell_type": "markdown",
   "metadata": {},
   "source": [
    "сходимость с начальными нулевыми весами особо не отличается от сходимости с начальными случайными весами (in long run)"
   ]
  },
  {
   "cell_type": "code",
   "execution_count": 87,
   "metadata": {},
   "outputs": [
    {
     "data": {
      "text/plain": [
       "[<matplotlib.lines.Line2D at 0x21a23872320>]"
      ]
     },
     "execution_count": 87,
     "metadata": {},
     "output_type": "execute_result"
    },
    {
     "data": {
      "image/png": "[encoded data removed]",
      "text/plain": [
       "<matplotlib.figure.Figure at 0x21a2e005908>"
      ]
     },
     "metadata": {},
     "output_type": "display_data"
    }
   ],
   "source": [
    "w0 = np.zeros(X1000.shape[1]).reshape(X1000.shape[1],1)\n",
    "\n",
    "w,f_val_list = grad_descent(X1000, Y1000, w0, 0.001, 30000, 0.00001, False)\n",
    "\n",
    "pyplt.plot(f_val_list,label= 'test_MSPE_dynamics, step_size = 0.001')"
   ]
  },
  {
   "cell_type": "markdown",
   "metadata": {},
   "source": [
    "при step_size = 0.001 cсходимость очень медленная, однако она должна быть более точной"
   ]
  },
  {
   "cell_type": "code",
   "execution_count": 88,
   "metadata": {},
   "outputs": [
    {
     "data": {
      "text/plain": [
       "[<matplotlib.lines.Line2D at 0x21a23dd6358>]"
      ]
     },
     "execution_count": 88,
     "metadata": {},
     "output_type": "execute_result"
    },
    {
     "data": {
      "image/png": "[encoded data removed]",
      "text/plain": [
       "<matplotlib.figure.Figure at 0x21a24565978>"
      ]
     },
     "metadata": {},
     "output_type": "display_data"
    }
   ],
   "source": [
    "w0 = np.zeros(X1000.shape[1]).reshape(X1000.shape[1],1)\n",
    "\n",
    "w,f_val_list = grad_descent(X1000, Y1000, w0, 1.9, 6, 0.00001, False)\n",
    "\n",
    "pyplt.plot(f_val_list,label= 'test_MSPE_dynamics, step_size = 10')"
   ]
  },
  {
   "cell_type": "markdown",
   "metadata": {},
   "source": [
    "при step_size = 10 сходимость не наблюдается (в данном случае приведён более наглядный график со step_size = 1.9)"
   ]
  },
  {
   "cell_type": "markdown",
   "metadata": {},
   "source": [
    "уменьшение step_size замедляет сходимость, но увеличивает её качество; чем больше eps и меньше max_iter, тем хуже качество сходимости и меньше время обучения."
   ]
  },
  {
   "cell_type": "markdown",
   "metadata": {},
   "source": [
    "**17. (0.5 балла)** Обучите линейную регрессию с функционалом MSPE и его регуляризованным вариантом на обучающей выборке при помощи метода градиентного спуска и изобразите кривые зависимости значения функционала от номера итерации. Исследуйте зависимость скорости сходимости от наличия регуляризации. Обоснуйте, почему так происходит."
   ]
  },
  {
   "cell_type": "code",
   "execution_count": 99,
   "metadata": {},
   "outputs": [
    {
     "name": "stdout",
     "output_type": "stream",
     "text": [
      "MSPE non reg =  0.962770792607\n",
      "MSE =  36.4650648591\n"
     ]
    },
    {
     "data": {
      "image/png": "[encoded data removed]",
      "text/plain": [
       "<matplotlib.figure.Figure at 0x21a239cab70>"
      ]
     },
     "metadata": {},
     "output_type": "display_data"
    }
   ],
   "source": [
    "w0 = np.random.standard_normal((X1000.shape[1],1))\n",
    "\n",
    "w,f_val_list = grad_descent(X1000, Y1000, w0, 0.002, 10000, 0.000000001, True)\n",
    "\n",
    "pyplt.plot(f_val_list,label= 'test_MSPE_reg_dynamics, step_size = 1')\n",
    "\n",
    "y1 = np.array(test_Y).reshape(test_X.shape[0],1)\n",
    "\n",
    "MSPE = get_func(w,np.array(test_X),y1)\n",
    "\n",
    "print('MSPE non reg = ',MSPE)\n",
    "\n",
    "pred = make_pred(np.array(test_X),w)\n",
    "print('MSE = ',(np.mean((y1-pred)*(y1-pred)))**0.5)"
   ]
  },
  {
   "cell_type": "markdown",
   "metadata": {},
   "source": [
    "регуляризация резко увеличивает скорость сходимости"
   ]
  },
  {
   "cell_type": "markdown",
   "metadata": {},
   "source": [
    "Метод градиентного спуска может быть весьма трудозатратен в случае большого размера обучающей выборки. Поэтому часто используют метод стохастического градиентного спуска, где на каждой итерации выбирается случайный объект из обучающей выборки и обновление весов происходит только по этому объекту. \n",
    "\n",
    "**18*. (1 бонусный балл)**  Реализуйте метод стохастического градиентного спуска (SGD) для описанных функционалов ($MSPE$ и его регуляризованный вариант). Функция должна иметь параметры и возвращаемое значение, аналогичные оным функции grad\\_descent из п.21. Кроме того, должен использоваться аналогичный критерий останова."
   ]
  },
  {
   "cell_type": "code",
   "execution_count": null,
   "metadata": {
    "collapsed": true
   },
   "outputs": [],
   "source": [
    "def sgd(X, y, step_size, max_iter, eps, is_reg):\n",
    "    # Your code here"
   ]
  },
  {
   "cell_type": "markdown",
   "metadata": {},
   "source": [
    "Обучите линейную регрессию с функционалом $MSPE$ и его регуляризованным вариантом на обучающей выборке при помощи метода стохастического градиентного спуска, подобрав при этом размер шага, при котором метод будет сходиться. Нарисуйте график сходимости. Выведите значения $MSPE, MSE, R^2$ на контрольной выборке."
   ]
  },
  {
   "cell_type": "code",
   "execution_count": null,
   "metadata": {
    "collapsed": true
   },
   "outputs": [],
   "source": [
    "# Your code here"
   ]
  },
  {
   "cell_type": "markdown",
   "metadata": {},
   "source": [
    "**19*. (0.5 бонусного балла)** Аналогично п.17 исследуйте зависимость скорости сходимости метода SGD от наличия регуляризации. Обоснуйте, почему так происходит."
   ]
  },
  {
   "cell_type": "code",
   "execution_count": null,
   "metadata": {
    "collapsed": true
   },
   "outputs": [],
   "source": [
    "# Your code here"
   ]
  },
  {
   "cell_type": "markdown",
   "metadata": {},
   "source": [
    "**20. (0.5 балла)** Обучите стандартную линейную регрессию с функционалом качества MSE на обучающей выборке и выведите значение MSPE полученного решения на контрольной выборке. Как оно соотносится с аналогичным результатом для решения, полученного в п.17? Почему?"
   ]
  },
  {
   "cell_type": "code",
   "execution_count": 120,
   "metadata": {},
   "outputs": [
    {
     "name": "stdout",
     "output_type": "stream",
     "text": [
      "MSPE =  35.0562099281\n",
      "R^2 =  0.911365368938\n"
     ]
    }
   ],
   "source": [
    "skm = lm.LinearRegression()\n",
    "skm.fit(X1000.drop('const',axis = 1), Y1000)\n",
    "\n",
    "w = np.array(skm.coef_).reshape(test_X.shape[1]-1,1)\n",
    "\n",
    "pred = skm.predict(test_X.drop('const',axis = 1))\n",
    "x1=np.array(test_X.drop('const',axis = 1))\n",
    "y1 = np.array(test_Y).reshape(test_X.shape[0],1)\n",
    "Xw = np.matmul(x1,w)\n",
    "print('MSPE = ',np.mean(((y1-Xw)/y1)*((y1-Xw)/y1)))\n",
    "print('R^2 = ',skm.score(test_X.drop('const',axis = 1),test_Y))"
   ]
  },
  {
   "cell_type": "code",
   "execution_count": null,
   "metadata": {
    "collapsed": true
   },
   "outputs": [],
   "source": [
    "как видно, MSPE гораздо больше, чем в пункте 17, т.к. минимизация MSPE не эквивалентна минимизации MSE."
   ]
  }
 ],
 "metadata": {
  "anaconda-cloud": {},
  "kernelspec": {
   "display_name": "Python 3",
   "language": "python",
   "name": "python3"
  },
  "language_info": {
   "codemirror_mode": {
    "name": "ipython",
    "version": 3
   },
   "file_extension": ".py",
   "mimetype": "text/x-python",
   "name": "python",
   "nbconvert_exporter": "python",
   "pygments_lexer": "ipython3",
   "version": "3.6.1"
  }
 },
 "nbformat": 4,
 "nbformat_minor": 1
}
