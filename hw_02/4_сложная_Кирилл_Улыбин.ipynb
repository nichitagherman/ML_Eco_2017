{
 "cells": [
  {
   "cell_type": "markdown",
   "metadata": {},
   "source": [
    "# Машинное обучение, ФЭН ВШЭ\n",
    "\n",
    "# Практическое задание 2\n",
    "(Основано на материалах курса машинного обучения на фкн)\n",
    "\n",
    "## Общая информация\n",
    "\n",
    "Дата выдачи: 21.09.2017\n",
    "\n",
    "Срок сдачи: 8.10.2017 23:59MSK\n",
    "\n",
    "### О задании\n",
    "\n",
    "Практическое задание 1 посвящено изучению основных библиотек для анализа данных, а также линейных моделей и методов их обучения. Вы научитесь:\n",
    " * применять библиотеку NumPy;\n",
    " * подготавливать данные для обучения линейных моделей;\n",
    " * обучать линейную, Lasso и Ridge-регрессии при помощи модуля scikit-learn;\n",
    " * реализовывать обычный и стохастический градиентные спуски;\n",
    " * обучать линейную регрессию для произвольного функционала качества.\n",
    " \n",
    "\n",
    "### Оценивание и штрафы\n",
    "\n",
    "Каждая из задач имеет определенную «стоимость» (указана в скобках около задачи). Максимально допустимая оценка за работу — 10 баллов. Кроме того, некоторые из заданий являются опциональными (необязательными), однако за их выполнение можно получить дополнительные баллы.\n",
    "\n",
    "\n",
    "Задание выполняется самостоятельно. «Похожие» решения считаются плагиатом и все задействованные студенты (в том числе те, у кого списали) не могут получить за него больше 0 баллов (подробнее о плагиате см. на странице курса). Если вы нашли решение какого-то из заданий (или его часть) в открытом источнике, необходимо указать ссылку на этот источник в отдельном блоке в конце Вашей работы (скорее всего вы будете не единственным, кто это нашел, поэтому чтобы исключить подозрение в плагиате, необходима ссылка на источник). \n",
    "\n",
    "Неэффективная реализация кода может негативно отразиться на оценке.\n",
    "\n",
    "\n",
    "### Формат сдачи\n",
    "Для сдачи задания переименуйте получившийся файл \\*.ipynb в соответствии со следующим форматом: *HW1_Username.ipynb*, где *Username* — Ваша фамилия и инициалы на латинице (например, *HW1_IvanovII.ipynb*). Далее отправьте этот файл на почту курса, указав соответствующую тему (см. вики-страничку курча)."
   ]
  },
  {
   "cell_type": "markdown",
   "metadata": {},
   "source": [
    "## Библиотеки для анализа данных\n",
    "\n",
    "### NumPy\n",
    "\n",
    "Во всех заданиях данного раздела запрещено использовать циклы  и list comprehensions. Под вектором и матрицей в данных заданиях понимается одномерный и двумерный numpy.array соответственно."
   ]
  },
  {
   "cell_type": "code",
   "execution_count": 1059,
   "metadata": {
    "collapsed": true
   },
   "outputs": [],
   "source": [
    "import numpy as np\n",
    "np.random.seed(42)"
   ]
  },
  {
   "cell_type": "markdown",
   "metadata": {},
   "source": [
    "**1. (0.3 балла)** Реализуйте функцию, возвращающую максимальный элемент в векторе x среди элементов, перед которыми стоит нулевой. Для x = np.array([6, 2, 0, 3, 0, 0, 5, 7, 0]) ответом является 5. Если нулевых элементов нет, функция должна возвращать None.\n"
   ]
  },
  {
   "cell_type": "code",
   "execution_count": 1355,
   "metadata": {
    "collapsed": true
   },
   "outputs": [],
   "source": [
    "x = np.array([10,2,0,5,7,0])"
   ]
  },
  {
   "cell_type": "code",
   "execution_count": 1356,
   "metadata": {
    "collapsed": false
   },
   "outputs": [],
   "source": [
    "def max_element(arr):\n",
    "    a = np.insert(arr==0, 0, False)[:-1]\n",
    "    if sum(a)>0:\n",
    "        return(np.max(arr[a]))\n",
    "    else:\n",
    "        return None"
   ]
  },
  {
   "cell_type": "code",
   "execution_count": 1357,
   "metadata": {
    "collapsed": false
   },
   "outputs": [
    {
     "data": {
      "text/plain": [
       "5"
      ]
     },
     "execution_count": 1357,
     "metadata": {},
     "output_type": "execute_result"
    }
   ],
   "source": [
    "max_element(x)"
   ]
  },
  {
   "cell_type": "markdown",
   "metadata": {},
   "source": [
    "**2. (0.3 балла)** Реализуйте функцию, принимающую на вход матрицу и некоторое число и возвращающую ближайший к числу элемент матрицы. Например: для X = np.arange(0,10).reshape((2, 5)) и v = 3.6 ответом будет 4."
   ]
  },
  {
   "cell_type": "code",
   "execution_count": 1063,
   "metadata": {
    "collapsed": false
   },
   "outputs": [],
   "source": [
    "X = np.arange(0,10).reshape((2, 5))"
   ]
  },
  {
   "cell_type": "code",
   "execution_count": 1064,
   "metadata": {
    "collapsed": true
   },
   "outputs": [],
   "source": [
    "def nearest_value(X, v):\n",
    "    return X.item(np.abs(X-v).argmin())"
   ]
  },
  {
   "cell_type": "code",
   "execution_count": 1065,
   "metadata": {
    "collapsed": false
   },
   "outputs": [
    {
     "data": {
      "text/plain": [
       "4"
      ]
     },
     "execution_count": 1065,
     "metadata": {},
     "output_type": "execute_result"
    }
   ],
   "source": [
    "nearest_value(X, 3.6)"
   ]
  },
  {
   "cell_type": "markdown",
   "metadata": {},
   "source": [
    "**3. (0.3 балла)** Реализуйте функцию scale(X), которая принимает на вход матрицу и масштабирует каждый ее столбец (вычитает выборочное среднее и делит на стандартное отклонение). Убедитесь, что в функции не будет происходить деления на ноль. Протестируйте на случайной матрице (для её генерации можно использовать, например, функцию [numpy.random.randint](http://docs.scipy.org/doc/numpy/reference/generated/numpy.random.randint.html))."
   ]
  },
  {
   "cell_type": "code",
   "execution_count": 1066,
   "metadata": {
    "collapsed": false
   },
   "outputs": [
    {
     "data": {
      "text/plain": [
       "array([[2, 3, 0, 2],\n",
       "       [2, 3, 0, 0],\n",
       "       [2, 1, 2, 2]])"
      ]
     },
     "execution_count": 1066,
     "metadata": {},
     "output_type": "execute_result"
    }
   ],
   "source": [
    "X = np.random.randint(4, size=(3, 4))\n",
    "X"
   ]
  },
  {
   "cell_type": "code",
   "execution_count": 1067,
   "metadata": {
    "collapsed": true
   },
   "outputs": [],
   "source": [
    "def scale(X):\n",
    "    return np.divide(X-np.mean(X, axis=0), np.std(X, axis=0), where=[np.std(X, axis=0)!=0] )"
   ]
  },
  {
   "cell_type": "code",
   "execution_count": 1068,
   "metadata": {
    "collapsed": false
   },
   "outputs": [
    {
     "data": {
      "text/plain": [
       "array([[ 0.        ,  0.70710678, -0.70710678,  0.70710678],\n",
       "       [ 0.        ,  0.70710678, -0.70710678, -1.41421356],\n",
       "       [ 0.        , -1.41421356,  1.41421356,  0.70710678]])"
      ]
     },
     "execution_count": 1068,
     "metadata": {},
     "output_type": "execute_result"
    }
   ],
   "source": [
    "scale(X)"
   ]
  },
  {
   "cell_type": "markdown",
   "metadata": {},
   "source": [
    "**4. (0.3 балла)** Реализуйте функцию, которая для заданной матрицы находит:\n",
    " - определитель\n",
    " - след\n",
    " - наименьший и наибольший элементы\n",
    " - норму Фробениуса\n",
    " - собственные числа\n",
    " - обратную матрицу\n",
    "\n",
    "Для тестирования сгенерируйте матрицу с элементами из нормального распределения $\\mathcal{N}$(10,1)"
   ]
  },
  {
   "cell_type": "code",
   "execution_count": 1069,
   "metadata": {
    "collapsed": false
   },
   "outputs": [
    {
     "data": {
      "text/plain": [
       "array([[ 11.57921282,  10.76743473,   9.53052561],\n",
       "       [ 10.54256004,   9.53658231,   9.53427025],\n",
       "       [ 10.24196227,   8.08671976,   8.27508217]])"
      ]
     },
     "execution_count": 1069,
     "metadata": {},
     "output_type": "execute_result"
    }
   ],
   "source": [
    "X = np.random.normal(10, 1, size=(3, 3)) \n",
    "X"
   ]
  },
  {
   "cell_type": "code",
   "execution_count": 1070,
   "metadata": {
    "collapsed": false
   },
   "outputs": [],
   "source": [
    "def get_stats(X):\n",
    "    return {'det': np.linalg.det(X), 'trace': np.trace(X), 'min-max': (np.min(X),np.max(X)),\n",
    "            'norm': np.linalg.norm(X), 'eigvals': np.linalg.eigvals(X), 'inv': np.linalg.inv(X)}"
   ]
  },
  {
   "cell_type": "code",
   "execution_count": 1071,
   "metadata": {
    "collapsed": false
   },
   "outputs": [
    {
     "data": {
      "text/plain": [
       "{'det': 14.740107723974615,\n",
       " 'eigvals': array([ 29.51174417+0.j        ,  -0.06043344+0.70414035j,\n",
       "         -0.06043344-0.70414035j]),\n",
       " 'inv': array([[ 0.12313551, -0.81618924,  0.79856883],\n",
       "        [ 0.70617432, -0.12159655, -0.67321121],\n",
       "        [-0.84250318,  1.12901558, -0.20964644]]),\n",
       " 'min-max': (8.0867197553422017, 11.579212815507391),\n",
       " 'norm': 29.539987043198693,\n",
       " 'trace': 29.390877290181894}"
      ]
     },
     "execution_count": 1071,
     "metadata": {},
     "output_type": "execute_result"
    }
   ],
   "source": [
    "get_stats(X)"
   ]
  },
  {
   "cell_type": "markdown",
   "metadata": {},
   "source": [
    "**5. (0.3 балла)** Повторите 100 раз следующий эксперимент: сгенерируйте две матрицы размера 10×10 из стандартного нормального распределения, перемножьте их (как матрицы) и найдите максимальный элемент. Какое среднее значение по экспериментам у максимальных элементов? 95-процентная квантиль?"
   ]
  },
  {
   "cell_type": "code",
   "execution_count": 1072,
   "metadata": {
    "collapsed": false
   },
   "outputs": [],
   "source": [
    "gen = [np.max(np.dot(np.random.normal(size=(10, 10)), np.random.normal(size=(10, 10)))) for exp_num in range(100)] "
   ]
  },
  {
   "cell_type": "code",
   "execution_count": 1073,
   "metadata": {
    "collapsed": false
   },
   "outputs": [
    {
     "name": "stdout",
     "output_type": "stream",
     "text": [
      "Mean is: 8.43363660657 \n",
      "95-percentile is: 11.6041187631\n"
     ]
    }
   ],
   "source": [
    "print('Mean is:', np.mean(gen), '\\n95-percentile is:', \n",
    "np.percentile(gen, 95, interpolation='nearest'))"
   ]
  },
  {
   "cell_type": "markdown",
   "metadata": {},
   "source": [
    "## Линейная регрессия\n",
    "\n",
    "В этой части мы разберемся с линейной регрессией, способами её обучения и измерением качества ее прогнозов. \n",
    "\n",
    "Будем рассматривать данные по авиарейсам в США за январь-апрель 2008 года для предсказания времени задержки отправления рейса в минутах (DepDelay). Отметим, что под задержкой подразумевается не только опоздание рейса относительно планируемого времени вылета, но и отправление до планируемого времени.\n",
    "\n",
    "\n",
    "[Данные](https://www.dropbox.com/s/dvfitn93obn0rql/2008.csv?dl=0) и их [описание](http://stat-computing.org/dataexpo/2009/the-data.html)\n",
    "\n",
    "### Подготовка данных\n",
    "\n",
    "**6. (0.75 балла)** Считайте выборку из файла при помощи функции pd.read_csv и ответьте на следующие вопросы:\n",
    "   - Имеются ли в данных пропущенные значения?\n",
    "   - Сколько всего пропущенных элементов в таблице \"объект-признак\"?\n",
    "   - Сколько объектов имеют хотя бы один пропуск?\n",
    "   - Сколько признаков имеют хотя бы одно пропущенное значение?"
   ]
  },
  {
   "cell_type": "code",
   "execution_count": 1074,
   "metadata": {
    "collapsed": false,
    "scrolled": true
   },
   "outputs": [
    {
     "name": "stdout",
     "output_type": "stream",
     "text": [
      "(70000, 29)\n"
     ]
    },
    {
     "data": {
      "text/html": [
       "<div>\n",
       "<table border=\"1\" class=\"dataframe\">\n",
       "  <thead>\n",
       "    <tr style=\"text-align: right;\">\n",
       "      <th></th>\n",
       "      <th>Year</th>\n",
       "      <th>Month</th>\n",
       "      <th>DayofMonth</th>\n",
       "      <th>DayOfWeek</th>\n",
       "      <th>DepTime</th>\n",
       "      <th>CRSDepTime</th>\n",
       "      <th>ArrTime</th>\n",
       "      <th>CRSArrTime</th>\n",
       "      <th>UniqueCarrier</th>\n",
       "      <th>FlightNum</th>\n",
       "      <th>TailNum</th>\n",
       "      <th>ActualElapsedTime</th>\n",
       "      <th>CRSElapsedTime</th>\n",
       "      <th>AirTime</th>\n",
       "      <th>ArrDelay</th>\n",
       "      <th>DepDelay</th>\n",
       "      <th>Origin</th>\n",
       "      <th>Dest</th>\n",
       "      <th>Distance</th>\n",
       "      <th>TaxiIn</th>\n",
       "      <th>TaxiOut</th>\n",
       "      <th>Cancelled</th>\n",
       "      <th>CancellationCode</th>\n",
       "      <th>Diverted</th>\n",
       "      <th>CarrierDelay</th>\n",
       "      <th>WeatherDelay</th>\n",
       "      <th>NASDelay</th>\n",
       "      <th>SecurityDelay</th>\n",
       "      <th>LateAircraftDelay</th>\n",
       "    </tr>\n",
       "  </thead>\n",
       "  <tbody>\n",
       "    <tr>\n",
       "      <th>0</th>\n",
       "      <td>2008</td>\n",
       "      <td>6</td>\n",
       "      <td>18</td>\n",
       "      <td>3</td>\n",
       "      <td>2111.0</td>\n",
       "      <td>2055</td>\n",
       "      <td>2308.0</td>\n",
       "      <td>2300</td>\n",
       "      <td>WN</td>\n",
       "      <td>242</td>\n",
       "      <td>N699SW</td>\n",
       "      <td>57.0</td>\n",
       "      <td>65.0</td>\n",
       "      <td>46.0</td>\n",
       "      <td>8.0</td>\n",
       "      <td>16.0</td>\n",
       "      <td>MDW</td>\n",
       "      <td>CLE</td>\n",
       "      <td>307</td>\n",
       "      <td>3.0</td>\n",
       "      <td>8.0</td>\n",
       "      <td>0</td>\n",
       "      <td>NaN</td>\n",
       "      <td>0</td>\n",
       "      <td>NaN</td>\n",
       "      <td>NaN</td>\n",
       "      <td>NaN</td>\n",
       "      <td>NaN</td>\n",
       "      <td>NaN</td>\n",
       "    </tr>\n",
       "    <tr>\n",
       "      <th>1</th>\n",
       "      <td>2008</td>\n",
       "      <td>6</td>\n",
       "      <td>4</td>\n",
       "      <td>3</td>\n",
       "      <td>1426.0</td>\n",
       "      <td>1410</td>\n",
       "      <td>1730.0</td>\n",
       "      <td>1728</td>\n",
       "      <td>XE</td>\n",
       "      <td>2380</td>\n",
       "      <td>N15980</td>\n",
       "      <td>124.0</td>\n",
       "      <td>138.0</td>\n",
       "      <td>108.0</td>\n",
       "      <td>2.0</td>\n",
       "      <td>16.0</td>\n",
       "      <td>IAH</td>\n",
       "      <td>AVL</td>\n",
       "      <td>834</td>\n",
       "      <td>4.0</td>\n",
       "      <td>12.0</td>\n",
       "      <td>0</td>\n",
       "      <td>NaN</td>\n",
       "      <td>0</td>\n",
       "      <td>NaN</td>\n",
       "      <td>NaN</td>\n",
       "      <td>NaN</td>\n",
       "      <td>NaN</td>\n",
       "      <td>NaN</td>\n",
       "    </tr>\n",
       "    <tr>\n",
       "      <th>2</th>\n",
       "      <td>2008</td>\n",
       "      <td>8</td>\n",
       "      <td>3</td>\n",
       "      <td>7</td>\n",
       "      <td>1143.0</td>\n",
       "      <td>1145</td>\n",
       "      <td>1501.0</td>\n",
       "      <td>1520</td>\n",
       "      <td>WN</td>\n",
       "      <td>1769</td>\n",
       "      <td>N464WN</td>\n",
       "      <td>138.0</td>\n",
       "      <td>155.0</td>\n",
       "      <td>125.0</td>\n",
       "      <td>-19.0</td>\n",
       "      <td>-2.0</td>\n",
       "      <td>MDW</td>\n",
       "      <td>TPA</td>\n",
       "      <td>997</td>\n",
       "      <td>4.0</td>\n",
       "      <td>9.0</td>\n",
       "      <td>0</td>\n",
       "      <td>NaN</td>\n",
       "      <td>0</td>\n",
       "      <td>NaN</td>\n",
       "      <td>NaN</td>\n",
       "      <td>NaN</td>\n",
       "      <td>NaN</td>\n",
       "      <td>NaN</td>\n",
       "    </tr>\n",
       "    <tr>\n",
       "      <th>3</th>\n",
       "      <td>2008</td>\n",
       "      <td>1</td>\n",
       "      <td>23</td>\n",
       "      <td>3</td>\n",
       "      <td>1141.0</td>\n",
       "      <td>1144</td>\n",
       "      <td>1323.0</td>\n",
       "      <td>1335</td>\n",
       "      <td>OO</td>\n",
       "      <td>3802</td>\n",
       "      <td>N465SW</td>\n",
       "      <td>102.0</td>\n",
       "      <td>111.0</td>\n",
       "      <td>79.0</td>\n",
       "      <td>-12.0</td>\n",
       "      <td>-3.0</td>\n",
       "      <td>SLC</td>\n",
       "      <td>FCA</td>\n",
       "      <td>532</td>\n",
       "      <td>4.0</td>\n",
       "      <td>19.0</td>\n",
       "      <td>0</td>\n",
       "      <td>NaN</td>\n",
       "      <td>0</td>\n",
       "      <td>NaN</td>\n",
       "      <td>NaN</td>\n",
       "      <td>NaN</td>\n",
       "      <td>NaN</td>\n",
       "      <td>NaN</td>\n",
       "    </tr>\n",
       "    <tr>\n",
       "      <th>4</th>\n",
       "      <td>2008</td>\n",
       "      <td>5</td>\n",
       "      <td>4</td>\n",
       "      <td>7</td>\n",
       "      <td>815.0</td>\n",
       "      <td>820</td>\n",
       "      <td>1243.0</td>\n",
       "      <td>1300</td>\n",
       "      <td>WN</td>\n",
       "      <td>399</td>\n",
       "      <td>N489WN</td>\n",
       "      <td>148.0</td>\n",
       "      <td>160.0</td>\n",
       "      <td>136.0</td>\n",
       "      <td>-17.0</td>\n",
       "      <td>-5.0</td>\n",
       "      <td>LAS</td>\n",
       "      <td>AUS</td>\n",
       "      <td>1090</td>\n",
       "      <td>4.0</td>\n",
       "      <td>8.0</td>\n",
       "      <td>0</td>\n",
       "      <td>NaN</td>\n",
       "      <td>0</td>\n",
       "      <td>NaN</td>\n",
       "      <td>NaN</td>\n",
       "      <td>NaN</td>\n",
       "      <td>NaN</td>\n",
       "      <td>NaN</td>\n",
       "    </tr>\n",
       "  </tbody>\n",
       "</table>\n",
       "</div>"
      ],
      "text/plain": [
       "   Year  Month  DayofMonth  DayOfWeek  DepTime  CRSDepTime  ArrTime  \\\n",
       "0  2008      6          18          3   2111.0        2055   2308.0   \n",
       "1  2008      6           4          3   1426.0        1410   1730.0   \n",
       "2  2008      8           3          7   1143.0        1145   1501.0   \n",
       "3  2008      1          23          3   1141.0        1144   1323.0   \n",
       "4  2008      5           4          7    815.0         820   1243.0   \n",
       "\n",
       "   CRSArrTime UniqueCarrier  FlightNum TailNum  ActualElapsedTime  \\\n",
       "0        2300            WN        242  N699SW               57.0   \n",
       "1        1728            XE       2380  N15980              124.0   \n",
       "2        1520            WN       1769  N464WN              138.0   \n",
       "3        1335            OO       3802  N465SW              102.0   \n",
       "4        1300            WN        399  N489WN              148.0   \n",
       "\n",
       "   CRSElapsedTime  AirTime  ArrDelay  DepDelay Origin Dest  Distance  TaxiIn  \\\n",
       "0            65.0     46.0       8.0      16.0    MDW  CLE       307     3.0   \n",
       "1           138.0    108.0       2.0      16.0    IAH  AVL       834     4.0   \n",
       "2           155.0    125.0     -19.0      -2.0    MDW  TPA       997     4.0   \n",
       "3           111.0     79.0     -12.0      -3.0    SLC  FCA       532     4.0   \n",
       "4           160.0    136.0     -17.0      -5.0    LAS  AUS      1090     4.0   \n",
       "\n",
       "   TaxiOut  Cancelled CancellationCode  Diverted  CarrierDelay  WeatherDelay  \\\n",
       "0      8.0          0              NaN         0           NaN           NaN   \n",
       "1     12.0          0              NaN         0           NaN           NaN   \n",
       "2      9.0          0              NaN         0           NaN           NaN   \n",
       "3     19.0          0              NaN         0           NaN           NaN   \n",
       "4      8.0          0              NaN         0           NaN           NaN   \n",
       "\n",
       "   NASDelay  SecurityDelay  LateAircraftDelay  \n",
       "0       NaN            NaN                NaN  \n",
       "1       NaN            NaN                NaN  \n",
       "2       NaN            NaN                NaN  \n",
       "3       NaN            NaN                NaN  \n",
       "4       NaN            NaN                NaN  "
      ]
     },
     "execution_count": 1074,
     "metadata": {},
     "output_type": "execute_result"
    }
   ],
   "source": [
    "import pandas as pd\n",
    "pd.set_option('display.max_columns', None)\n",
    "data = pd.read_csv('2008.csv')\n",
    "print(data.shape)\n",
    "data.head()"
   ]
  },
  {
   "cell_type": "code",
   "execution_count": 1075,
   "metadata": {
    "collapsed": false
   },
   "outputs": [
    {
     "name": "stdout",
     "output_type": "stream",
     "text": [
      "355215 пропущенных элементов в таблице объект-признак\n"
     ]
    }
   ],
   "source": [
    "print(sum(data.isnull().sum()), 'пропущенных элементов в таблице объект-признак')"
   ]
  },
  {
   "cell_type": "code",
   "execution_count": 1076,
   "metadata": {
    "collapsed": false
   },
   "outputs": [
    {
     "name": "stdout",
     "output_type": "stream",
     "text": [
      "16 Признаков имеют хотя бы одно пропущенное значение\n"
     ]
    }
   ],
   "source": [
    "print(sum(data.isnull().sum(axis=0) > 0), 'Признаков имеют хотя бы одно пропущенное значение')"
   ]
  },
  {
   "cell_type": "code",
   "execution_count": 1077,
   "metadata": {
    "collapsed": false
   },
   "outputs": [
    {
     "name": "stdout",
     "output_type": "stream",
     "text": [
      "70000 Объектов имеют хотя бы один пропуск\n"
     ]
    }
   ],
   "source": [
    "print(sum(data.isnull().sum(axis=1) > 0), 'Объектов имеют хотя бы один пропуск')"
   ]
  },
  {
   "cell_type": "markdown",
   "metadata": {},
   "source": [
    "Как вы понимаете, также не имеет смысла рассматривать при решении поставленной задачи объекты с пропущенным значением целевой переменной. В связи с этим ответьте на следующие вопросы и выполните соответствующие действия:\n",
    "- Имеются ли пропущенные значения в целевой переменной?\n",
    "- Проанализируйте объекты с пропущенными значениями целевой переменной. Чем вызвано это явление? Что их объединяет? Можно ли в связи с этим, на ваш взгляд, исключить какие-то признаки из рассмотрения? Обоснуйте свою точку зрения.\n",
    "\n",
    "Исключите из выборки объекты **с пропущенным значением целевой переменной и со значением целевой переменной, равным 0**, а также при необходимости исключите признаки в соответствии с вашим ответом на последний вопрос из списка и выделите целевую переменную в отдельный вектор, исключив её из матрицы \"объект-признак\"."
   ]
  },
  {
   "cell_type": "code",
   "execution_count": 1078,
   "metadata": {
    "collapsed": false
   },
   "outputs": [
    {
     "name": "stdout",
     "output_type": "stream",
     "text": [
      "1399 пропущенных значений в целевой переменной\n"
     ]
    }
   ],
   "source": [
    "print(data['DepDelay'].isnull().sum(), 'пропущенных значений в целевой переменной')"
   ]
  },
  {
   "cell_type": "markdown",
   "metadata": {},
   "source": [
    "Посмотрим на объекты, у которых нет ответа, заметим, что у этих объектов в признаке Cancelled единицы, проверим, так ли это для всех объектов:"
   ]
  },
  {
   "cell_type": "code",
   "execution_count": 1079,
   "metadata": {
    "collapsed": false
   },
   "outputs": [
    {
     "data": {
      "text/plain": [
       "0"
      ]
     },
     "execution_count": 1079,
     "metadata": {},
     "output_type": "execute_result"
    }
   ],
   "source": [
    "sum(data[data['DepDelay'].isnull()]['Cancelled'] < 1)"
   ]
  },
  {
   "cell_type": "markdown",
   "metadata": {},
   "source": [
    "Дествительно, все объекты с отсутствующим ответом были отменены, проверим, работает ли это в обратную сторону"
   ]
  },
  {
   "cell_type": "code",
   "execution_count": 1080,
   "metadata": {
    "collapsed": false
   },
   "outputs": [
    {
     "data": {
      "text/html": [
       "<div>\n",
       "<table border=\"1\" class=\"dataframe\">\n",
       "  <thead>\n",
       "    <tr style=\"text-align: right;\">\n",
       "      <th></th>\n",
       "      <th>Year</th>\n",
       "      <th>Month</th>\n",
       "      <th>DayofMonth</th>\n",
       "      <th>DayOfWeek</th>\n",
       "      <th>DepTime</th>\n",
       "      <th>CRSDepTime</th>\n",
       "      <th>ArrTime</th>\n",
       "      <th>CRSArrTime</th>\n",
       "      <th>UniqueCarrier</th>\n",
       "      <th>FlightNum</th>\n",
       "      <th>TailNum</th>\n",
       "      <th>ActualElapsedTime</th>\n",
       "      <th>CRSElapsedTime</th>\n",
       "      <th>AirTime</th>\n",
       "      <th>ArrDelay</th>\n",
       "      <th>DepDelay</th>\n",
       "      <th>Origin</th>\n",
       "      <th>Dest</th>\n",
       "      <th>Distance</th>\n",
       "      <th>TaxiIn</th>\n",
       "      <th>TaxiOut</th>\n",
       "      <th>Cancelled</th>\n",
       "      <th>CancellationCode</th>\n",
       "      <th>Diverted</th>\n",
       "      <th>CarrierDelay</th>\n",
       "      <th>WeatherDelay</th>\n",
       "      <th>NASDelay</th>\n",
       "      <th>SecurityDelay</th>\n",
       "      <th>LateAircraftDelay</th>\n",
       "    </tr>\n",
       "  </thead>\n",
       "  <tbody>\n",
       "    <tr>\n",
       "      <th>5976</th>\n",
       "      <td>2008</td>\n",
       "      <td>11</td>\n",
       "      <td>29</td>\n",
       "      <td>6</td>\n",
       "      <td>1325.0</td>\n",
       "      <td>1301</td>\n",
       "      <td>NaN</td>\n",
       "      <td>1354</td>\n",
       "      <td>EV</td>\n",
       "      <td>5401</td>\n",
       "      <td>N636AS</td>\n",
       "      <td>NaN</td>\n",
       "      <td>53.0</td>\n",
       "      <td>NaN</td>\n",
       "      <td>NaN</td>\n",
       "      <td>24.0</td>\n",
       "      <td>ATL</td>\n",
       "      <td>AGS</td>\n",
       "      <td>143</td>\n",
       "      <td>NaN</td>\n",
       "      <td>NaN</td>\n",
       "      <td>1</td>\n",
       "      <td>A</td>\n",
       "      <td>0</td>\n",
       "      <td>NaN</td>\n",
       "      <td>NaN</td>\n",
       "      <td>NaN</td>\n",
       "      <td>NaN</td>\n",
       "      <td>NaN</td>\n",
       "    </tr>\n",
       "    <tr>\n",
       "      <th>15680</th>\n",
       "      <td>2008</td>\n",
       "      <td>12</td>\n",
       "      <td>19</td>\n",
       "      <td>5</td>\n",
       "      <td>954.0</td>\n",
       "      <td>935</td>\n",
       "      <td>NaN</td>\n",
       "      <td>1252</td>\n",
       "      <td>XE</td>\n",
       "      <td>2573</td>\n",
       "      <td>N21537</td>\n",
       "      <td>NaN</td>\n",
       "      <td>137.0</td>\n",
       "      <td>NaN</td>\n",
       "      <td>NaN</td>\n",
       "      <td>19.0</td>\n",
       "      <td>BNA</td>\n",
       "      <td>EWR</td>\n",
       "      <td>748</td>\n",
       "      <td>NaN</td>\n",
       "      <td>NaN</td>\n",
       "      <td>1</td>\n",
       "      <td>B</td>\n",
       "      <td>0</td>\n",
       "      <td>NaN</td>\n",
       "      <td>NaN</td>\n",
       "      <td>NaN</td>\n",
       "      <td>NaN</td>\n",
       "      <td>NaN</td>\n",
       "    </tr>\n",
       "    <tr>\n",
       "      <th>16382</th>\n",
       "      <td>2008</td>\n",
       "      <td>12</td>\n",
       "      <td>6</td>\n",
       "      <td>6</td>\n",
       "      <td>1806.0</td>\n",
       "      <td>1728</td>\n",
       "      <td>NaN</td>\n",
       "      <td>1827</td>\n",
       "      <td>OO</td>\n",
       "      <td>5790</td>\n",
       "      <td>N288SW</td>\n",
       "      <td>NaN</td>\n",
       "      <td>59.0</td>\n",
       "      <td>NaN</td>\n",
       "      <td>NaN</td>\n",
       "      <td>38.0</td>\n",
       "      <td>SFO</td>\n",
       "      <td>CIC</td>\n",
       "      <td>153</td>\n",
       "      <td>NaN</td>\n",
       "      <td>11.0</td>\n",
       "      <td>1</td>\n",
       "      <td>B</td>\n",
       "      <td>0</td>\n",
       "      <td>NaN</td>\n",
       "      <td>NaN</td>\n",
       "      <td>NaN</td>\n",
       "      <td>NaN</td>\n",
       "      <td>NaN</td>\n",
       "    </tr>\n",
       "    <tr>\n",
       "      <th>20622</th>\n",
       "      <td>2008</td>\n",
       "      <td>10</td>\n",
       "      <td>7</td>\n",
       "      <td>2</td>\n",
       "      <td>844.0</td>\n",
       "      <td>845</td>\n",
       "      <td>NaN</td>\n",
       "      <td>1039</td>\n",
       "      <td>YV</td>\n",
       "      <td>7302</td>\n",
       "      <td>N505MJ</td>\n",
       "      <td>NaN</td>\n",
       "      <td>114.0</td>\n",
       "      <td>NaN</td>\n",
       "      <td>NaN</td>\n",
       "      <td>-1.0</td>\n",
       "      <td>IAD</td>\n",
       "      <td>JAX</td>\n",
       "      <td>631</td>\n",
       "      <td>NaN</td>\n",
       "      <td>NaN</td>\n",
       "      <td>1</td>\n",
       "      <td>A</td>\n",
       "      <td>0</td>\n",
       "      <td>NaN</td>\n",
       "      <td>NaN</td>\n",
       "      <td>NaN</td>\n",
       "      <td>NaN</td>\n",
       "      <td>NaN</td>\n",
       "    </tr>\n",
       "    <tr>\n",
       "      <th>22462</th>\n",
       "      <td>2008</td>\n",
       "      <td>12</td>\n",
       "      <td>17</td>\n",
       "      <td>3</td>\n",
       "      <td>2132.0</td>\n",
       "      <td>2134</td>\n",
       "      <td>NaN</td>\n",
       "      <td>2232</td>\n",
       "      <td>YV</td>\n",
       "      <td>2859</td>\n",
       "      <td>N17231</td>\n",
       "      <td>NaN</td>\n",
       "      <td>58.0</td>\n",
       "      <td>NaN</td>\n",
       "      <td>NaN</td>\n",
       "      <td>-2.0</td>\n",
       "      <td>PHX</td>\n",
       "      <td>FLG</td>\n",
       "      <td>119</td>\n",
       "      <td>NaN</td>\n",
       "      <td>28.0</td>\n",
       "      <td>1</td>\n",
       "      <td>B</td>\n",
       "      <td>0</td>\n",
       "      <td>NaN</td>\n",
       "      <td>NaN</td>\n",
       "      <td>NaN</td>\n",
       "      <td>NaN</td>\n",
       "      <td>NaN</td>\n",
       "    </tr>\n",
       "    <tr>\n",
       "      <th>30057</th>\n",
       "      <td>2008</td>\n",
       "      <td>12</td>\n",
       "      <td>9</td>\n",
       "      <td>2</td>\n",
       "      <td>1358.0</td>\n",
       "      <td>1330</td>\n",
       "      <td>NaN</td>\n",
       "      <td>1700</td>\n",
       "      <td>OO</td>\n",
       "      <td>2874</td>\n",
       "      <td>N506CA</td>\n",
       "      <td>NaN</td>\n",
       "      <td>150.0</td>\n",
       "      <td>NaN</td>\n",
       "      <td>NaN</td>\n",
       "      <td>28.0</td>\n",
       "      <td>MKE</td>\n",
       "      <td>EWR</td>\n",
       "      <td>725</td>\n",
       "      <td>NaN</td>\n",
       "      <td>NaN</td>\n",
       "      <td>1</td>\n",
       "      <td>B</td>\n",
       "      <td>0</td>\n",
       "      <td>NaN</td>\n",
       "      <td>NaN</td>\n",
       "      <td>NaN</td>\n",
       "      <td>NaN</td>\n",
       "      <td>NaN</td>\n",
       "    </tr>\n",
       "    <tr>\n",
       "      <th>33611</th>\n",
       "      <td>2008</td>\n",
       "      <td>10</td>\n",
       "      <td>11</td>\n",
       "      <td>6</td>\n",
       "      <td>826.0</td>\n",
       "      <td>830</td>\n",
       "      <td>NaN</td>\n",
       "      <td>1015</td>\n",
       "      <td>OO</td>\n",
       "      <td>3721</td>\n",
       "      <td>N437SW</td>\n",
       "      <td>NaN</td>\n",
       "      <td>165.0</td>\n",
       "      <td>NaN</td>\n",
       "      <td>NaN</td>\n",
       "      <td>-4.0</td>\n",
       "      <td>MCI</td>\n",
       "      <td>SLC</td>\n",
       "      <td>919</td>\n",
       "      <td>NaN</td>\n",
       "      <td>NaN</td>\n",
       "      <td>1</td>\n",
       "      <td>A</td>\n",
       "      <td>0</td>\n",
       "      <td>NaN</td>\n",
       "      <td>NaN</td>\n",
       "      <td>NaN</td>\n",
       "      <td>NaN</td>\n",
       "      <td>NaN</td>\n",
       "    </tr>\n",
       "    <tr>\n",
       "      <th>37581</th>\n",
       "      <td>2008</td>\n",
       "      <td>12</td>\n",
       "      <td>3</td>\n",
       "      <td>3</td>\n",
       "      <td>2234.0</td>\n",
       "      <td>2235</td>\n",
       "      <td>NaN</td>\n",
       "      <td>2318</td>\n",
       "      <td>OO</td>\n",
       "      <td>5426</td>\n",
       "      <td>N560SW</td>\n",
       "      <td>NaN</td>\n",
       "      <td>43.0</td>\n",
       "      <td>NaN</td>\n",
       "      <td>NaN</td>\n",
       "      <td>-1.0</td>\n",
       "      <td>SFO</td>\n",
       "      <td>SMF</td>\n",
       "      <td>86</td>\n",
       "      <td>NaN</td>\n",
       "      <td>16.0</td>\n",
       "      <td>1</td>\n",
       "      <td>B</td>\n",
       "      <td>0</td>\n",
       "      <td>NaN</td>\n",
       "      <td>NaN</td>\n",
       "      <td>NaN</td>\n",
       "      <td>NaN</td>\n",
       "      <td>NaN</td>\n",
       "    </tr>\n",
       "    <tr>\n",
       "      <th>40343</th>\n",
       "      <td>2008</td>\n",
       "      <td>11</td>\n",
       "      <td>10</td>\n",
       "      <td>1</td>\n",
       "      <td>1440.0</td>\n",
       "      <td>1445</td>\n",
       "      <td>NaN</td>\n",
       "      <td>1731</td>\n",
       "      <td>EV</td>\n",
       "      <td>5309</td>\n",
       "      <td>N921EV</td>\n",
       "      <td>NaN</td>\n",
       "      <td>106.0</td>\n",
       "      <td>NaN</td>\n",
       "      <td>NaN</td>\n",
       "      <td>-5.0</td>\n",
       "      <td>SGF</td>\n",
       "      <td>ATL</td>\n",
       "      <td>563</td>\n",
       "      <td>NaN</td>\n",
       "      <td>NaN</td>\n",
       "      <td>1</td>\n",
       "      <td>A</td>\n",
       "      <td>0</td>\n",
       "      <td>NaN</td>\n",
       "      <td>NaN</td>\n",
       "      <td>NaN</td>\n",
       "      <td>NaN</td>\n",
       "      <td>NaN</td>\n",
       "    </tr>\n",
       "    <tr>\n",
       "      <th>50401</th>\n",
       "      <td>2008</td>\n",
       "      <td>11</td>\n",
       "      <td>29</td>\n",
       "      <td>6</td>\n",
       "      <td>2232.0</td>\n",
       "      <td>2234</td>\n",
       "      <td>NaN</td>\n",
       "      <td>11</td>\n",
       "      <td>OO</td>\n",
       "      <td>6412</td>\n",
       "      <td>N750SK</td>\n",
       "      <td>NaN</td>\n",
       "      <td>97.0</td>\n",
       "      <td>NaN</td>\n",
       "      <td>NaN</td>\n",
       "      <td>-2.0</td>\n",
       "      <td>SFO</td>\n",
       "      <td>EUG</td>\n",
       "      <td>451</td>\n",
       "      <td>NaN</td>\n",
       "      <td>21.0</td>\n",
       "      <td>1</td>\n",
       "      <td>B</td>\n",
       "      <td>0</td>\n",
       "      <td>NaN</td>\n",
       "      <td>NaN</td>\n",
       "      <td>NaN</td>\n",
       "      <td>NaN</td>\n",
       "      <td>NaN</td>\n",
       "    </tr>\n",
       "    <tr>\n",
       "      <th>50810</th>\n",
       "      <td>2008</td>\n",
       "      <td>11</td>\n",
       "      <td>19</td>\n",
       "      <td>3</td>\n",
       "      <td>1559.0</td>\n",
       "      <td>1606</td>\n",
       "      <td>NaN</td>\n",
       "      <td>1651</td>\n",
       "      <td>OO</td>\n",
       "      <td>5750</td>\n",
       "      <td>N581SW</td>\n",
       "      <td>NaN</td>\n",
       "      <td>45.0</td>\n",
       "      <td>NaN</td>\n",
       "      <td>NaN</td>\n",
       "      <td>-7.0</td>\n",
       "      <td>LAX</td>\n",
       "      <td>CLD</td>\n",
       "      <td>86</td>\n",
       "      <td>NaN</td>\n",
       "      <td>10.0</td>\n",
       "      <td>1</td>\n",
       "      <td>B</td>\n",
       "      <td>0</td>\n",
       "      <td>NaN</td>\n",
       "      <td>NaN</td>\n",
       "      <td>NaN</td>\n",
       "      <td>NaN</td>\n",
       "      <td>NaN</td>\n",
       "    </tr>\n",
       "    <tr>\n",
       "      <th>67078</th>\n",
       "      <td>2008</td>\n",
       "      <td>12</td>\n",
       "      <td>5</td>\n",
       "      <td>5</td>\n",
       "      <td>1517.0</td>\n",
       "      <td>1510</td>\n",
       "      <td>NaN</td>\n",
       "      <td>1615</td>\n",
       "      <td>XE</td>\n",
       "      <td>2173</td>\n",
       "      <td>N19554</td>\n",
       "      <td>NaN</td>\n",
       "      <td>65.0</td>\n",
       "      <td>NaN</td>\n",
       "      <td>NaN</td>\n",
       "      <td>7.0</td>\n",
       "      <td>BUF</td>\n",
       "      <td>CLE</td>\n",
       "      <td>192</td>\n",
       "      <td>NaN</td>\n",
       "      <td>NaN</td>\n",
       "      <td>1</td>\n",
       "      <td>A</td>\n",
       "      <td>0</td>\n",
       "      <td>NaN</td>\n",
       "      <td>NaN</td>\n",
       "      <td>NaN</td>\n",
       "      <td>NaN</td>\n",
       "      <td>NaN</td>\n",
       "    </tr>\n",
       "  </tbody>\n",
       "</table>\n",
       "</div>"
      ],
      "text/plain": [
       "       Year  Month  DayofMonth  DayOfWeek  DepTime  CRSDepTime  ArrTime  \\\n",
       "5976   2008     11          29          6   1325.0        1301      NaN   \n",
       "15680  2008     12          19          5    954.0         935      NaN   \n",
       "16382  2008     12           6          6   1806.0        1728      NaN   \n",
       "20622  2008     10           7          2    844.0         845      NaN   \n",
       "22462  2008     12          17          3   2132.0        2134      NaN   \n",
       "30057  2008     12           9          2   1358.0        1330      NaN   \n",
       "33611  2008     10          11          6    826.0         830      NaN   \n",
       "37581  2008     12           3          3   2234.0        2235      NaN   \n",
       "40343  2008     11          10          1   1440.0        1445      NaN   \n",
       "50401  2008     11          29          6   2232.0        2234      NaN   \n",
       "50810  2008     11          19          3   1559.0        1606      NaN   \n",
       "67078  2008     12           5          5   1517.0        1510      NaN   \n",
       "\n",
       "       CRSArrTime UniqueCarrier  FlightNum TailNum  ActualElapsedTime  \\\n",
       "5976         1354            EV       5401  N636AS                NaN   \n",
       "15680        1252            XE       2573  N21537                NaN   \n",
       "16382        1827            OO       5790  N288SW                NaN   \n",
       "20622        1039            YV       7302  N505MJ                NaN   \n",
       "22462        2232            YV       2859  N17231                NaN   \n",
       "30057        1700            OO       2874  N506CA                NaN   \n",
       "33611        1015            OO       3721  N437SW                NaN   \n",
       "37581        2318            OO       5426  N560SW                NaN   \n",
       "40343        1731            EV       5309  N921EV                NaN   \n",
       "50401          11            OO       6412  N750SK                NaN   \n",
       "50810        1651            OO       5750  N581SW                NaN   \n",
       "67078        1615            XE       2173  N19554                NaN   \n",
       "\n",
       "       CRSElapsedTime  AirTime  ArrDelay  DepDelay Origin Dest  Distance  \\\n",
       "5976             53.0      NaN       NaN      24.0    ATL  AGS       143   \n",
       "15680           137.0      NaN       NaN      19.0    BNA  EWR       748   \n",
       "16382            59.0      NaN       NaN      38.0    SFO  CIC       153   \n",
       "20622           114.0      NaN       NaN      -1.0    IAD  JAX       631   \n",
       "22462            58.0      NaN       NaN      -2.0    PHX  FLG       119   \n",
       "30057           150.0      NaN       NaN      28.0    MKE  EWR       725   \n",
       "33611           165.0      NaN       NaN      -4.0    MCI  SLC       919   \n",
       "37581            43.0      NaN       NaN      -1.0    SFO  SMF        86   \n",
       "40343           106.0      NaN       NaN      -5.0    SGF  ATL       563   \n",
       "50401            97.0      NaN       NaN      -2.0    SFO  EUG       451   \n",
       "50810            45.0      NaN       NaN      -7.0    LAX  CLD        86   \n",
       "67078            65.0      NaN       NaN       7.0    BUF  CLE       192   \n",
       "\n",
       "       TaxiIn  TaxiOut  Cancelled CancellationCode  Diverted  CarrierDelay  \\\n",
       "5976      NaN      NaN          1                A         0           NaN   \n",
       "15680     NaN      NaN          1                B         0           NaN   \n",
       "16382     NaN     11.0          1                B         0           NaN   \n",
       "20622     NaN      NaN          1                A         0           NaN   \n",
       "22462     NaN     28.0          1                B         0           NaN   \n",
       "30057     NaN      NaN          1                B         0           NaN   \n",
       "33611     NaN      NaN          1                A         0           NaN   \n",
       "37581     NaN     16.0          1                B         0           NaN   \n",
       "40343     NaN      NaN          1                A         0           NaN   \n",
       "50401     NaN     21.0          1                B         0           NaN   \n",
       "50810     NaN     10.0          1                B         0           NaN   \n",
       "67078     NaN      NaN          1                A         0           NaN   \n",
       "\n",
       "       WeatherDelay  NASDelay  SecurityDelay  LateAircraftDelay  \n",
       "5976            NaN       NaN            NaN                NaN  \n",
       "15680           NaN       NaN            NaN                NaN  \n",
       "16382           NaN       NaN            NaN                NaN  \n",
       "20622           NaN       NaN            NaN                NaN  \n",
       "22462           NaN       NaN            NaN                NaN  \n",
       "30057           NaN       NaN            NaN                NaN  \n",
       "33611           NaN       NaN            NaN                NaN  \n",
       "37581           NaN       NaN            NaN                NaN  \n",
       "40343           NaN       NaN            NaN                NaN  \n",
       "50401           NaN       NaN            NaN                NaN  \n",
       "50810           NaN       NaN            NaN                NaN  \n",
       "67078           NaN       NaN            NaN                NaN  "
      ]
     },
     "execution_count": 1080,
     "metadata": {},
     "output_type": "execute_result"
    }
   ],
   "source": [
    "data[(data['DepDelay'].isnull()==False) & (data['Cancelled']==1)]"
   ]
  },
  {
   "cell_type": "markdown",
   "metadata": {},
   "source": [
    "Для 12 объектов не выполнено обратное, то есть они были отменены, но вылетели из аэропорта, при этом они не прилетели, так как ArrDelay = NaN, но они и не были перенаправлены в другой аэропорт, а ActualElapsedTime - время от поднятия шасси до реального приземления неизвестно. Значит, их сбили (как только они подняли шасси). Но даже если это ошибки в данных, то признак Cancelled можно удалить, так как он будет иметь 12 единиц с учетом удаления оъектов без ответа, это не будет информативным\n",
    "\n",
    "__Вывод: удаляем Cancelled = 1__"
   ]
  },
  {
   "cell_type": "code",
   "execution_count": 1081,
   "metadata": {
    "collapsed": false
   },
   "outputs": [],
   "source": [
    "data.drop(['Cancelled','CancellationCode'], axis=1, inplace=True)"
   ]
  },
  {
   "cell_type": "code",
   "execution_count": 1082,
   "metadata": {
    "collapsed": false
   },
   "outputs": [],
   "source": [
    "data_1 = data[(data['DepDelay'].isnull()==False) & (data['DepDelay']!=0)]"
   ]
  },
  {
   "cell_type": "code",
   "execution_count": 1083,
   "metadata": {
    "collapsed": false
   },
   "outputs": [
    {
     "data": {
      "text/plain": [
       "(63404, 27)"
      ]
     },
     "execution_count": 1083,
     "metadata": {},
     "output_type": "execute_result"
    }
   ],
   "source": [
    "data_1.shape"
   ]
  },
  {
   "cell_type": "code",
   "execution_count": 1084,
   "metadata": {
    "collapsed": false
   },
   "outputs": [],
   "source": [
    "data_x = data_1[data_1.columns.difference(['DepDelay'])]"
   ]
  },
  {
   "cell_type": "code",
   "execution_count": 1085,
   "metadata": {
    "collapsed": false
   },
   "outputs": [
    {
     "data": {
      "text/plain": [
       "(63404, 26)"
      ]
     },
     "execution_count": 1085,
     "metadata": {},
     "output_type": "execute_result"
    }
   ],
   "source": [
    "data_x.shape"
   ]
  },
  {
   "cell_type": "code",
   "execution_count": 1086,
   "metadata": {
    "collapsed": true
   },
   "outputs": [],
   "source": [
    "data_y  = data_1['DepDelay']"
   ]
  },
  {
   "cell_type": "code",
   "execution_count": 1087,
   "metadata": {
    "collapsed": false
   },
   "outputs": [
    {
     "data": {
      "text/plain": [
       "(63404,)"
      ]
     },
     "execution_count": 1087,
     "metadata": {},
     "output_type": "execute_result"
    }
   ],
   "source": [
    "data_y.shape"
   ]
  },
  {
   "cell_type": "markdown",
   "metadata": {},
   "source": [
    "**7. (1 балл)** Обратите внимание, что признаки DepTime, CRSDepTime, ArrTime, CRSArrTime приведены в формате hhmm, в связи с чем будет не вполне корректно рассматривать их как вещественные.\n",
    "\n",
    "Преобразуйте каждый признак FeatureName из указанных в пару новых признаков FeatureName\\_Hour, FeatureName\\_Minute, разделив каждое из значений на часы и минуты. Не забудьте при этом исключить исходный признак из выборки. В случае, если значение признака отсутствует, значения двух новых признаков, его заменяющих, также должны отсутствовать. \n",
    "\n",
    "Например, признак DepTime необходимо заменить на пару признаков DepTime_Hour, DepTime_Minute. При этом, например, значение 155 исходного признака будет преобразовано в значения 1 и 55 признаков DepTime_Hour, DepTime_Minute соответственно."
   ]
  },
  {
   "cell_type": "code",
   "execution_count": 1088,
   "metadata": {
    "collapsed": true
   },
   "outputs": [],
   "source": [
    "for col in ['DepTime', 'CRSDepTime', 'ArrTime', 'CRSArrTime']:\n",
    "    data_x[col+'_Hour'] = data_x[col]//100\n",
    "    data_x[col+'_Minute'] = data_x[col]%100\n",
    "    data_x.drop([col], axis=1, inplace=True)"
   ]
  },
  {
   "cell_type": "code",
   "execution_count": 1089,
   "metadata": {
    "collapsed": false
   },
   "outputs": [
    {
     "data": {
      "text/html": [
       "<div>\n",
       "<table border=\"1\" class=\"dataframe\">\n",
       "  <thead>\n",
       "    <tr style=\"text-align: right;\">\n",
       "      <th></th>\n",
       "      <th>ActualElapsedTime</th>\n",
       "      <th>AirTime</th>\n",
       "      <th>ArrDelay</th>\n",
       "      <th>CRSElapsedTime</th>\n",
       "      <th>CarrierDelay</th>\n",
       "      <th>DayOfWeek</th>\n",
       "      <th>DayofMonth</th>\n",
       "      <th>Dest</th>\n",
       "      <th>Distance</th>\n",
       "      <th>Diverted</th>\n",
       "      <th>FlightNum</th>\n",
       "      <th>LateAircraftDelay</th>\n",
       "      <th>Month</th>\n",
       "      <th>NASDelay</th>\n",
       "      <th>Origin</th>\n",
       "      <th>SecurityDelay</th>\n",
       "      <th>TailNum</th>\n",
       "      <th>TaxiIn</th>\n",
       "      <th>TaxiOut</th>\n",
       "      <th>UniqueCarrier</th>\n",
       "      <th>WeatherDelay</th>\n",
       "      <th>Year</th>\n",
       "      <th>DepTime_Hour</th>\n",
       "      <th>DepTime_Minute</th>\n",
       "      <th>CRSDepTime_Hour</th>\n",
       "      <th>CRSDepTime_Minute</th>\n",
       "      <th>ArrTime_Hour</th>\n",
       "      <th>ArrTime_Minute</th>\n",
       "      <th>CRSArrTime_Hour</th>\n",
       "      <th>CRSArrTime_Minute</th>\n",
       "    </tr>\n",
       "  </thead>\n",
       "  <tbody>\n",
       "    <tr>\n",
       "      <th>0</th>\n",
       "      <td>57.0</td>\n",
       "      <td>46.0</td>\n",
       "      <td>8.0</td>\n",
       "      <td>65.0</td>\n",
       "      <td>NaN</td>\n",
       "      <td>3</td>\n",
       "      <td>18</td>\n",
       "      <td>CLE</td>\n",
       "      <td>307</td>\n",
       "      <td>0</td>\n",
       "      <td>242</td>\n",
       "      <td>NaN</td>\n",
       "      <td>6</td>\n",
       "      <td>NaN</td>\n",
       "      <td>MDW</td>\n",
       "      <td>NaN</td>\n",
       "      <td>N699SW</td>\n",
       "      <td>3.0</td>\n",
       "      <td>8.0</td>\n",
       "      <td>WN</td>\n",
       "      <td>NaN</td>\n",
       "      <td>2008</td>\n",
       "      <td>21.0</td>\n",
       "      <td>11.0</td>\n",
       "      <td>20</td>\n",
       "      <td>55</td>\n",
       "      <td>23.0</td>\n",
       "      <td>8.0</td>\n",
       "      <td>23</td>\n",
       "      <td>0</td>\n",
       "    </tr>\n",
       "    <tr>\n",
       "      <th>1</th>\n",
       "      <td>124.0</td>\n",
       "      <td>108.0</td>\n",
       "      <td>2.0</td>\n",
       "      <td>138.0</td>\n",
       "      <td>NaN</td>\n",
       "      <td>3</td>\n",
       "      <td>4</td>\n",
       "      <td>AVL</td>\n",
       "      <td>834</td>\n",
       "      <td>0</td>\n",
       "      <td>2380</td>\n",
       "      <td>NaN</td>\n",
       "      <td>6</td>\n",
       "      <td>NaN</td>\n",
       "      <td>IAH</td>\n",
       "      <td>NaN</td>\n",
       "      <td>N15980</td>\n",
       "      <td>4.0</td>\n",
       "      <td>12.0</td>\n",
       "      <td>XE</td>\n",
       "      <td>NaN</td>\n",
       "      <td>2008</td>\n",
       "      <td>14.0</td>\n",
       "      <td>26.0</td>\n",
       "      <td>14</td>\n",
       "      <td>10</td>\n",
       "      <td>17.0</td>\n",
       "      <td>30.0</td>\n",
       "      <td>17</td>\n",
       "      <td>28</td>\n",
       "    </tr>\n",
       "    <tr>\n",
       "      <th>2</th>\n",
       "      <td>138.0</td>\n",
       "      <td>125.0</td>\n",
       "      <td>-19.0</td>\n",
       "      <td>155.0</td>\n",
       "      <td>NaN</td>\n",
       "      <td>7</td>\n",
       "      <td>3</td>\n",
       "      <td>TPA</td>\n",
       "      <td>997</td>\n",
       "      <td>0</td>\n",
       "      <td>1769</td>\n",
       "      <td>NaN</td>\n",
       "      <td>8</td>\n",
       "      <td>NaN</td>\n",
       "      <td>MDW</td>\n",
       "      <td>NaN</td>\n",
       "      <td>N464WN</td>\n",
       "      <td>4.0</td>\n",
       "      <td>9.0</td>\n",
       "      <td>WN</td>\n",
       "      <td>NaN</td>\n",
       "      <td>2008</td>\n",
       "      <td>11.0</td>\n",
       "      <td>43.0</td>\n",
       "      <td>11</td>\n",
       "      <td>45</td>\n",
       "      <td>15.0</td>\n",
       "      <td>1.0</td>\n",
       "      <td>15</td>\n",
       "      <td>20</td>\n",
       "    </tr>\n",
       "    <tr>\n",
       "      <th>3</th>\n",
       "      <td>102.0</td>\n",
       "      <td>79.0</td>\n",
       "      <td>-12.0</td>\n",
       "      <td>111.0</td>\n",
       "      <td>NaN</td>\n",
       "      <td>3</td>\n",
       "      <td>23</td>\n",
       "      <td>FCA</td>\n",
       "      <td>532</td>\n",
       "      <td>0</td>\n",
       "      <td>3802</td>\n",
       "      <td>NaN</td>\n",
       "      <td>1</td>\n",
       "      <td>NaN</td>\n",
       "      <td>SLC</td>\n",
       "      <td>NaN</td>\n",
       "      <td>N465SW</td>\n",
       "      <td>4.0</td>\n",
       "      <td>19.0</td>\n",
       "      <td>OO</td>\n",
       "      <td>NaN</td>\n",
       "      <td>2008</td>\n",
       "      <td>11.0</td>\n",
       "      <td>41.0</td>\n",
       "      <td>11</td>\n",
       "      <td>44</td>\n",
       "      <td>13.0</td>\n",
       "      <td>23.0</td>\n",
       "      <td>13</td>\n",
       "      <td>35</td>\n",
       "    </tr>\n",
       "    <tr>\n",
       "      <th>4</th>\n",
       "      <td>148.0</td>\n",
       "      <td>136.0</td>\n",
       "      <td>-17.0</td>\n",
       "      <td>160.0</td>\n",
       "      <td>NaN</td>\n",
       "      <td>7</td>\n",
       "      <td>4</td>\n",
       "      <td>AUS</td>\n",
       "      <td>1090</td>\n",
       "      <td>0</td>\n",
       "      <td>399</td>\n",
       "      <td>NaN</td>\n",
       "      <td>5</td>\n",
       "      <td>NaN</td>\n",
       "      <td>LAS</td>\n",
       "      <td>NaN</td>\n",
       "      <td>N489WN</td>\n",
       "      <td>4.0</td>\n",
       "      <td>8.0</td>\n",
       "      <td>WN</td>\n",
       "      <td>NaN</td>\n",
       "      <td>2008</td>\n",
       "      <td>8.0</td>\n",
       "      <td>15.0</td>\n",
       "      <td>8</td>\n",
       "      <td>20</td>\n",
       "      <td>12.0</td>\n",
       "      <td>43.0</td>\n",
       "      <td>13</td>\n",
       "      <td>0</td>\n",
       "    </tr>\n",
       "  </tbody>\n",
       "</table>\n",
       "</div>"
      ],
      "text/plain": [
       "   ActualElapsedTime  AirTime  ArrDelay  CRSElapsedTime  CarrierDelay  \\\n",
       "0               57.0     46.0       8.0            65.0           NaN   \n",
       "1              124.0    108.0       2.0           138.0           NaN   \n",
       "2              138.0    125.0     -19.0           155.0           NaN   \n",
       "3              102.0     79.0     -12.0           111.0           NaN   \n",
       "4              148.0    136.0     -17.0           160.0           NaN   \n",
       "\n",
       "   DayOfWeek  DayofMonth Dest  Distance  Diverted  FlightNum  \\\n",
       "0          3          18  CLE       307         0        242   \n",
       "1          3           4  AVL       834         0       2380   \n",
       "2          7           3  TPA       997         0       1769   \n",
       "3          3          23  FCA       532         0       3802   \n",
       "4          7           4  AUS      1090         0        399   \n",
       "\n",
       "   LateAircraftDelay  Month  NASDelay Origin  SecurityDelay TailNum  TaxiIn  \\\n",
       "0                NaN      6       NaN    MDW            NaN  N699SW     3.0   \n",
       "1                NaN      6       NaN    IAH            NaN  N15980     4.0   \n",
       "2                NaN      8       NaN    MDW            NaN  N464WN     4.0   \n",
       "3                NaN      1       NaN    SLC            NaN  N465SW     4.0   \n",
       "4                NaN      5       NaN    LAS            NaN  N489WN     4.0   \n",
       "\n",
       "   TaxiOut UniqueCarrier  WeatherDelay  Year  DepTime_Hour  DepTime_Minute  \\\n",
       "0      8.0            WN           NaN  2008          21.0            11.0   \n",
       "1     12.0            XE           NaN  2008          14.0            26.0   \n",
       "2      9.0            WN           NaN  2008          11.0            43.0   \n",
       "3     19.0            OO           NaN  2008          11.0            41.0   \n",
       "4      8.0            WN           NaN  2008           8.0            15.0   \n",
       "\n",
       "   CRSDepTime_Hour  CRSDepTime_Minute  ArrTime_Hour  ArrTime_Minute  \\\n",
       "0               20                 55          23.0             8.0   \n",
       "1               14                 10          17.0            30.0   \n",
       "2               11                 45          15.0             1.0   \n",
       "3               11                 44          13.0            23.0   \n",
       "4                8                 20          12.0            43.0   \n",
       "\n",
       "   CRSArrTime_Hour  CRSArrTime_Minute  \n",
       "0               23                  0  \n",
       "1               17                 28  \n",
       "2               15                 20  \n",
       "3               13                 35  \n",
       "4               13                  0  "
      ]
     },
     "execution_count": 1089,
     "metadata": {},
     "output_type": "execute_result"
    }
   ],
   "source": [
    "data_x.head()"
   ]
  },
  {
   "cell_type": "markdown",
   "metadata": {},
   "source": [
    "**8. (0.5 балла)** Некоторые из признаков, отличных от целевой переменной, могут оказывать чересчур значимое влияние на прогноз, поскольку по своему смыслу содержат большую долю информации о значении целевой переменной. Изучите описание датасета и исключите признаки, сильно коррелирующие с ответами. Ваш выбор признаков для исключения из выборки обоснуйте. Кроме того, исключите признаки TailNum и Year."
   ]
  },
  {
   "cell_type": "markdown",
   "metadata": {},
   "source": [
    "Посмотрим, какие признаки сильно коррелируют с целевой переменной"
   ]
  },
  {
   "cell_type": "code",
   "execution_count": 1090,
   "metadata": {
    "collapsed": false
   },
   "outputs": [
    {
     "name": "stdout",
     "output_type": "stream",
     "text": [
      "Populating the interactive namespace from numpy and matplotlib\n"
     ]
    },
    {
     "name": "stderr",
     "output_type": "stream",
     "text": [
      "WARNING: pylab import has clobbered these variables: ['mat']\n",
      "`%matplotlib` prevents importing * from pylab and numpy\n"
     ]
    },
    {
     "data": {
      "text/plain": [
       "<matplotlib.axes._subplots.AxesSubplot at 0x12f06dac8>"
      ]
     },
     "execution_count": 1090,
     "metadata": {},
     "output_type": "execute_result"
    },
    {
     "data": {
      "image/png": "[encoded data removed]",
      "text/plain": [
       "<matplotlib.figure.Figure at 0x12fe8b4e0>"
      ]
     },
     "metadata": {},
     "output_type": "display_data"
    }
   ],
   "source": [
    "%pylab inline\n",
    "import seaborn as sns\n",
    "corr = data_1.corr(method='pearson')\n",
    "fig, ax = plt.subplots(figsize=(15,15))\n",
    "sns.heatmap(corr, annot=True, fmt=\".2f\", square=True, linewidths=.5,  ax=ax)"
   ]
  },
  {
   "cell_type": "markdown",
   "metadata": {},
   "source": [
    "Наиболее сильно кореелирующие признаки"
   ]
  },
  {
   "cell_type": "code",
   "execution_count": 1091,
   "metadata": {
    "collapsed": false
   },
   "outputs": [
    {
     "data": {
      "text/plain": [
       "ArrDelay             0.933526\n",
       "DepDelay             1.000000\n",
       "CarrierDelay         0.532696\n",
       "LateAircraftDelay    0.553806\n",
       "Name: DepDelay, dtype: float64"
      ]
     },
     "execution_count": 1091,
     "metadata": {},
     "output_type": "execute_result"
    }
   ],
   "source": [
    "corr_DepDelay = corr.loc['DepDelay',:]\n",
    "corr_DepDelay[corr_DepDelay > 0.4]"
   ]
  },
  {
   "cell_type": "markdown",
   "metadata": {},
   "source": [
    "Посмотрим на таймлайн переменных\n",
    "\n",
    "<img src=\"timeline.png\" width=\"600\" height=\"600\">\n",
    "\n",
    "[Источник](http://www.galitshmueli.com/sites/galitshmueli.com/files/FlightDelays.pdf)"
   ]
  },
  {
   "cell_type": "code",
   "execution_count": 1092,
   "metadata": {
    "collapsed": false
   },
   "outputs": [
    {
     "data": {
      "text/html": [
       "<div>\n",
       "<table border=\"1\" class=\"dataframe\">\n",
       "  <thead>\n",
       "    <tr style=\"text-align: right;\">\n",
       "      <th></th>\n",
       "      <th>DepDelay</th>\n",
       "      <th>TaxiOut</th>\n",
       "      <th>DepTime</th>\n",
       "      <th>CRSDepTime</th>\n",
       "    </tr>\n",
       "  </thead>\n",
       "  <tbody>\n",
       "    <tr>\n",
       "      <th>17</th>\n",
       "      <td>1.0</td>\n",
       "      <td>65.0</td>\n",
       "      <td>1951.0</td>\n",
       "      <td>1950</td>\n",
       "    </tr>\n",
       "    <tr>\n",
       "      <th>25</th>\n",
       "      <td>1.0</td>\n",
       "      <td>10.0</td>\n",
       "      <td>901.0</td>\n",
       "      <td>900</td>\n",
       "    </tr>\n",
       "    <tr>\n",
       "      <th>43</th>\n",
       "      <td>8.0</td>\n",
       "      <td>19.0</td>\n",
       "      <td>648.0</td>\n",
       "      <td>640</td>\n",
       "    </tr>\n",
       "    <tr>\n",
       "      <th>44</th>\n",
       "      <td>5.0</td>\n",
       "      <td>13.0</td>\n",
       "      <td>1735.0</td>\n",
       "      <td>1730</td>\n",
       "    </tr>\n",
       "    <tr>\n",
       "      <th>51</th>\n",
       "      <td>14.0</td>\n",
       "      <td>46.0</td>\n",
       "      <td>1416.0</td>\n",
       "      <td>1402</td>\n",
       "    </tr>\n",
       "  </tbody>\n",
       "</table>\n",
       "</div>"
      ],
      "text/plain": [
       "    DepDelay  TaxiOut  DepTime  CRSDepTime\n",
       "17       1.0     65.0   1951.0        1950\n",
       "25       1.0     10.0    901.0         900\n",
       "43       8.0     19.0    648.0         640\n",
       "44       5.0     13.0   1735.0        1730\n",
       "51      14.0     46.0   1416.0        1402"
      ]
     },
     "execution_count": 1092,
     "metadata": {},
     "output_type": "execute_result"
    }
   ],
   "source": [
    "data_1[(data_1['TaxiOut']> data_1['DepDelay']) & (data_1['DepDelay']>0)][['DepDelay', 'TaxiOut', 'DepTime',\n",
    "                                                                          'CRSDepTime']].head()"
   ]
  },
  {
   "cell_type": "markdown",
   "metadata": {},
   "source": [
    "Но по нашим данным TaxiOut не входит DepDelay, получается, что в нашем случае DepDelay = DepTime - CRSDepTime\n",
    "\n",
    "Логично предположить, что в момент предсказания мы находимся до вылета самолета и не знаем ни информацию после взлета, ни информацию о времени реального отправления - только расписание (иначе модель бессмысленна) \n",
    "\n",
    "Очевидно, что все переменные после __Wheels-off time__ мы не можем использовать, так как они не известны в момент нашего предсказания или не влияют на нашу переменную. \n",
    "- ActualElapsedTime - после вылета\n",
    "- CRSElapsedTime - не влияет\n",
    "- AirTime - после вылета\n",
    "- ArrDelay - после вылета\n",
    "- Year - не нужен \n",
    "- ArrTime_Hour - после вылета\n",
    "- ArrTime_Minute - после вылета\n",
    "- TaxiIn - после вылета\n",
    "- TailNum - не нужен \n",
    "- LateAircraftDelay - не можем знать до того, как произошло \n",
    "- WeatherDelay - не можем знать до того, как произошло \n",
    "- CarrierDelay - не можем знать до того, как произошло \n",
    "- Diverted - узнается в процессе полета и не влияет на задержку при вылете\n",
    "- NASDelay - не можем знать до того, как произошло \n",
    "- SecurityDelay - не можем знать до того, как произошло \n",
    "- TaxiOut - по данным происходит после задержки, так что не влияет на DepDelay\n",
    "- DepTime_Hour - не можем знать до того, как произошло \n",
    "- DepTime_Minute - не можем знать до того, как произошло\n",
    "- ArrTime_Hour - не можем знать до того, как произошло\n",
    "- ArrTime_Minute - не можем знать до того, как произошло"
   ]
  },
  {
   "cell_type": "markdown",
   "metadata": {},
   "source": [
    "Получаем данные:"
   ]
  },
  {
   "cell_type": "code",
   "execution_count": 1093,
   "metadata": {
    "collapsed": true
   },
   "outputs": [],
   "source": [
    "X = data_x[['DayOfWeek', 'DayofMonth', 'Dest', 'Distance',  'FlightNum', 'Month', 'Origin','UniqueCarrier',\n",
    "            'CRSDepTime_Hour', 'CRSDepTime_Minute','CRSArrTime_Hour','CRSArrTime_Minute']]"
   ]
  },
  {
   "cell_type": "code",
   "execution_count": 1094,
   "metadata": {
    "collapsed": false
   },
   "outputs": [
    {
     "data": {
      "text/html": [
       "<div>\n",
       "<table border=\"1\" class=\"dataframe\">\n",
       "  <thead>\n",
       "    <tr style=\"text-align: right;\">\n",
       "      <th></th>\n",
       "      <th>DayOfWeek</th>\n",
       "      <th>DayofMonth</th>\n",
       "      <th>Dest</th>\n",
       "      <th>Distance</th>\n",
       "      <th>FlightNum</th>\n",
       "      <th>Month</th>\n",
       "      <th>Origin</th>\n",
       "      <th>UniqueCarrier</th>\n",
       "      <th>CRSDepTime_Hour</th>\n",
       "      <th>CRSDepTime_Minute</th>\n",
       "      <th>CRSArrTime_Hour</th>\n",
       "      <th>CRSArrTime_Minute</th>\n",
       "    </tr>\n",
       "  </thead>\n",
       "  <tbody>\n",
       "    <tr>\n",
       "      <th>0</th>\n",
       "      <td>3</td>\n",
       "      <td>18</td>\n",
       "      <td>CLE</td>\n",
       "      <td>307</td>\n",
       "      <td>242</td>\n",
       "      <td>6</td>\n",
       "      <td>MDW</td>\n",
       "      <td>WN</td>\n",
       "      <td>20</td>\n",
       "      <td>55</td>\n",
       "      <td>23</td>\n",
       "      <td>0</td>\n",
       "    </tr>\n",
       "    <tr>\n",
       "      <th>1</th>\n",
       "      <td>3</td>\n",
       "      <td>4</td>\n",
       "      <td>AVL</td>\n",
       "      <td>834</td>\n",
       "      <td>2380</td>\n",
       "      <td>6</td>\n",
       "      <td>IAH</td>\n",
       "      <td>XE</td>\n",
       "      <td>14</td>\n",
       "      <td>10</td>\n",
       "      <td>17</td>\n",
       "      <td>28</td>\n",
       "    </tr>\n",
       "    <tr>\n",
       "      <th>2</th>\n",
       "      <td>7</td>\n",
       "      <td>3</td>\n",
       "      <td>TPA</td>\n",
       "      <td>997</td>\n",
       "      <td>1769</td>\n",
       "      <td>8</td>\n",
       "      <td>MDW</td>\n",
       "      <td>WN</td>\n",
       "      <td>11</td>\n",
       "      <td>45</td>\n",
       "      <td>15</td>\n",
       "      <td>20</td>\n",
       "    </tr>\n",
       "    <tr>\n",
       "      <th>3</th>\n",
       "      <td>3</td>\n",
       "      <td>23</td>\n",
       "      <td>FCA</td>\n",
       "      <td>532</td>\n",
       "      <td>3802</td>\n",
       "      <td>1</td>\n",
       "      <td>SLC</td>\n",
       "      <td>OO</td>\n",
       "      <td>11</td>\n",
       "      <td>44</td>\n",
       "      <td>13</td>\n",
       "      <td>35</td>\n",
       "    </tr>\n",
       "    <tr>\n",
       "      <th>4</th>\n",
       "      <td>7</td>\n",
       "      <td>4</td>\n",
       "      <td>AUS</td>\n",
       "      <td>1090</td>\n",
       "      <td>399</td>\n",
       "      <td>5</td>\n",
       "      <td>LAS</td>\n",
       "      <td>WN</td>\n",
       "      <td>8</td>\n",
       "      <td>20</td>\n",
       "      <td>13</td>\n",
       "      <td>0</td>\n",
       "    </tr>\n",
       "  </tbody>\n",
       "</table>\n",
       "</div>"
      ],
      "text/plain": [
       "   DayOfWeek  DayofMonth Dest  Distance  FlightNum  Month Origin  \\\n",
       "0          3          18  CLE       307        242      6    MDW   \n",
       "1          3           4  AVL       834       2380      6    IAH   \n",
       "2          7           3  TPA       997       1769      8    MDW   \n",
       "3          3          23  FCA       532       3802      1    SLC   \n",
       "4          7           4  AUS      1090        399      5    LAS   \n",
       "\n",
       "  UniqueCarrier  CRSDepTime_Hour  CRSDepTime_Minute  CRSArrTime_Hour  \\\n",
       "0            WN               20                 55               23   \n",
       "1            XE               14                 10               17   \n",
       "2            WN               11                 45               15   \n",
       "3            OO               11                 44               13   \n",
       "4            WN                8                 20               13   \n",
       "\n",
       "   CRSArrTime_Minute  \n",
       "0                  0  \n",
       "1                 28  \n",
       "2                 20  \n",
       "3                 35  \n",
       "4                  0  "
      ]
     },
     "execution_count": 1094,
     "metadata": {},
     "output_type": "execute_result"
    }
   ],
   "source": [
    "X.head()"
   ]
  },
  {
   "cell_type": "markdown",
   "metadata": {},
   "source": [
    "Приведем данные к виду, пригодному для обучения линейных моделей. Для этого вещественные признаки надо отмасштабировать, а категориальные — привести к числовому виду. Также надо устранить пропуски в данных."
   ]
  },
  {
   "cell_type": "markdown",
   "metadata": {},
   "source": [
    "**9*. (1 бонусный балл) ** В первую очередь поймем, зачем необходимо применять масштабирование. Следующие ячейки с кодом построят гистограммы для 3 вещественных признаков выборки."
   ]
  },
  {
   "cell_type": "code",
   "execution_count": 1095,
   "metadata": {
    "collapsed": false,
    "scrolled": true
   },
   "outputs": [
    {
     "data": {
      "text/plain": [
       "<matplotlib.axes._subplots.AxesSubplot at 0x12f068f60>"
      ]
     },
     "execution_count": 1095,
     "metadata": {},
     "output_type": "execute_result"
    },
    {
     "data": {
      "image/png": "[encoded data removed]",
      "text/plain": [
       "<matplotlib.figure.Figure at 0x1323beb70>"
      ]
     },
     "metadata": {},
     "output_type": "display_data"
    }
   ],
   "source": [
    "data_x['DepTime_Hour'].hist(bins=20)"
   ]
  },
  {
   "cell_type": "code",
   "execution_count": 1096,
   "metadata": {
    "collapsed": false
   },
   "outputs": [
    {
     "data": {
      "text/plain": [
       "<matplotlib.axes._subplots.AxesSubplot at 0x13275b160>"
      ]
     },
     "execution_count": 1096,
     "metadata": {},
     "output_type": "execute_result"
    },
    {
     "data": {
      "image/png": "[encoded data removed]",
      "text/plain": [
       "<matplotlib.figure.Figure at 0x13275f780>"
      ]
     },
     "metadata": {},
     "output_type": "display_data"
    }
   ],
   "source": [
    "data_x['TaxiIn'].hist(bins=20)"
   ]
  },
  {
   "cell_type": "code",
   "execution_count": 1097,
   "metadata": {
    "collapsed": false
   },
   "outputs": [
    {
     "data": {
      "text/plain": [
       "<matplotlib.axes._subplots.AxesSubplot at 0x1351981d0>"
      ]
     },
     "execution_count": 1097,
     "metadata": {},
     "output_type": "execute_result"
    },
    {
     "data": {
      "image/png": "[encoded data removed]",
      "text/plain": [
       "<matplotlib.figure.Figure at 0x133ff7ef0>"
      ]
     },
     "metadata": {},
     "output_type": "display_data"
    }
   ],
   "source": [
    "data_x['FlightNum'].hist(bins=20)"
   ]
  },
  {
   "cell_type": "markdown",
   "metadata": {},
   "source": [
    "Какую проблему вы наблюдаете на этих графиках? Как масштабирование поможет её исправить?"
   ]
  },
  {
   "cell_type": "markdown",
   "metadata": {},
   "source": [
    "Проблема - разные единицы измерения, следовательно разный разброс переменных, поэтому без масштабирования их нельзя сравнивать. Кроме того, это нужно для градиентного спуска, который мы будем использовать для обучения. Если признаки имеют разный масштаб, то на разных признаках веса будут обновляться с разной скоростью. Масштабирование ускорит сходимость алгоритма. "
   ]
  },
  {
   "cell_type": "markdown",
   "metadata": {},
   "source": [
    "**10. (1 балл)** Вдобавок к масштабированию, некоторые из признаков в нашем датасете являются категориальными. Типичным подходом к работе с ними является бинарное, или [one-hot-кодирование](https://en.wikipedia.org/wiki/One-hot).\n",
    "\n",
    "\n",
    "Реализуйте функцию transform_data, которая принимает на вход DataFrame с признаками и выполняет следующие шаги:\n",
    "1. Замена пропущенных значений на нули для вещественных признаков и на строки 'nan' для категориальных.\n",
    "2. Масштабирование вещественных признаков с помощью [StandardScaler](http://scikit-learn.org/stable/modules/generated/sklearn.preprocessing.StandardScaler.html).\n",
    "3. One-hot-кодирование категориальных признаков с помощью [DictVectorizer](http://scikit-learn.org/stable/modules/generated/sklearn.feature_extraction.DictVectorizer.html) или функции [pd.get_dummies](http://pandas.pydata.org/pandas-docs/stable/generated/pandas.get_dummies.html).\n",
    "\n",
    "Метод должен возвращать преобразованный DataFrame, который должна состоять из масштабированных вещественных признаков и закодированных категориальных (исходные признаки должны быть исключены из выборки)."
   ]
  },
  {
   "cell_type": "code",
   "execution_count": 1098,
   "metadata": {
    "collapsed": true
   },
   "outputs": [],
   "source": [
    "from sklearn.preprocessing import StandardScaler\n",
    "import warnings\n",
    "warnings.filterwarnings('ignore')\n",
    "pd.set_option('display.max_columns', 15)"
   ]
  },
  {
   "cell_type": "code",
   "execution_count": 1099,
   "metadata": {
    "collapsed": false
   },
   "outputs": [],
   "source": [
    "def transform_data(data):\n",
    "    ss = StandardScaler()\n",
    "    for col in data.columns:\n",
    "        if data[col].dtype.name == 'object':\n",
    "            data[col].fillna('nan', inplace = True)\n",
    "        else:\n",
    "            data[col].fillna(0, inplace = True)\n",
    "            data[col]= ss.fit_transform(data[col].reshape(-1, 1)).flatten('F')\n",
    "    data = pd.get_dummies(data)\n",
    "    return data "
   ]
  },
  {
   "cell_type": "markdown",
   "metadata": {},
   "source": [
    "Примените функцию transform_data к данным. Сколько признаков получилось после преобразования?"
   ]
  },
  {
   "cell_type": "code",
   "execution_count": 1100,
   "metadata": {
    "collapsed": false
   },
   "outputs": [],
   "source": [
    "X_trasf = transform_data(X)"
   ]
  },
  {
   "cell_type": "code",
   "execution_count": 1101,
   "metadata": {
    "collapsed": false
   },
   "outputs": [
    {
     "name": "stdout",
     "output_type": "stream",
     "text": [
      "623 признака после преобразования\n"
     ]
    }
   ],
   "source": [
    "print(X_trasf.shape[1], \"признака после преобразования\")"
   ]
  },
  {
   "cell_type": "code",
   "execution_count": 1102,
   "metadata": {
    "collapsed": false,
    "scrolled": true
   },
   "outputs": [
    {
     "data": {
      "text/html": [
       "<div>\n",
       "<table border=\"1\" class=\"dataframe\">\n",
       "  <thead>\n",
       "    <tr style=\"text-align: right;\">\n",
       "      <th></th>\n",
       "      <th>DayOfWeek</th>\n",
       "      <th>DayofMonth</th>\n",
       "      <th>Distance</th>\n",
       "      <th>FlightNum</th>\n",
       "      <th>Month</th>\n",
       "      <th>CRSDepTime_Hour</th>\n",
       "      <th>CRSDepTime_Minute</th>\n",
       "      <th>...</th>\n",
       "      <th>UniqueCarrier_OH</th>\n",
       "      <th>UniqueCarrier_OO</th>\n",
       "      <th>UniqueCarrier_UA</th>\n",
       "      <th>UniqueCarrier_US</th>\n",
       "      <th>UniqueCarrier_WN</th>\n",
       "      <th>UniqueCarrier_XE</th>\n",
       "      <th>UniqueCarrier_YV</th>\n",
       "    </tr>\n",
       "  </thead>\n",
       "  <tbody>\n",
       "    <tr>\n",
       "      <th>0</th>\n",
       "      <td>-0.462767</td>\n",
       "      <td>0.256485</td>\n",
       "      <td>-0.744130</td>\n",
       "      <td>-0.991600</td>\n",
       "      <td>-0.118281</td>\n",
       "      <td>1.512432</td>\n",
       "      <td>1.586498</td>\n",
       "      <td>...</td>\n",
       "      <td>0</td>\n",
       "      <td>0</td>\n",
       "      <td>0</td>\n",
       "      <td>0</td>\n",
       "      <td>1</td>\n",
       "      <td>0</td>\n",
       "      <td>0</td>\n",
       "    </tr>\n",
       "    <tr>\n",
       "      <th>1</th>\n",
       "      <td>-0.462767</td>\n",
       "      <td>-1.332050</td>\n",
       "      <td>0.183961</td>\n",
       "      <td>0.106546</td>\n",
       "      <td>-0.118281</td>\n",
       "      <td>0.214011</td>\n",
       "      <td>-0.936014</td>\n",
       "      <td>...</td>\n",
       "      <td>0</td>\n",
       "      <td>0</td>\n",
       "      <td>0</td>\n",
       "      <td>0</td>\n",
       "      <td>0</td>\n",
       "      <td>1</td>\n",
       "      <td>0</td>\n",
       "    </tr>\n",
       "    <tr>\n",
       "      <th>2</th>\n",
       "      <td>1.541454</td>\n",
       "      <td>-1.445517</td>\n",
       "      <td>0.471018</td>\n",
       "      <td>-0.207284</td>\n",
       "      <td>0.467662</td>\n",
       "      <td>-0.435199</td>\n",
       "      <td>1.025940</td>\n",
       "      <td>...</td>\n",
       "      <td>0</td>\n",
       "      <td>0</td>\n",
       "      <td>0</td>\n",
       "      <td>0</td>\n",
       "      <td>1</td>\n",
       "      <td>0</td>\n",
       "      <td>0</td>\n",
       "    </tr>\n",
       "    <tr>\n",
       "      <th>3</th>\n",
       "      <td>-0.462767</td>\n",
       "      <td>0.823819</td>\n",
       "      <td>-0.347886</td>\n",
       "      <td>0.836931</td>\n",
       "      <td>-1.583137</td>\n",
       "      <td>-0.435199</td>\n",
       "      <td>0.969884</td>\n",
       "      <td>...</td>\n",
       "      <td>0</td>\n",
       "      <td>1</td>\n",
       "      <td>0</td>\n",
       "      <td>0</td>\n",
       "      <td>0</td>\n",
       "      <td>0</td>\n",
       "      <td>0</td>\n",
       "    </tr>\n",
       "    <tr>\n",
       "      <th>4</th>\n",
       "      <td>1.541454</td>\n",
       "      <td>-1.332050</td>\n",
       "      <td>0.634799</td>\n",
       "      <td>-0.910960</td>\n",
       "      <td>-0.411252</td>\n",
       "      <td>-1.084410</td>\n",
       "      <td>-0.375456</td>\n",
       "      <td>...</td>\n",
       "      <td>0</td>\n",
       "      <td>0</td>\n",
       "      <td>0</td>\n",
       "      <td>0</td>\n",
       "      <td>1</td>\n",
       "      <td>0</td>\n",
       "      <td>0</td>\n",
       "    </tr>\n",
       "  </tbody>\n",
       "</table>\n",
       "<p>5 rows × 623 columns</p>\n",
       "</div>"
      ],
      "text/plain": [
       "   DayOfWeek  DayofMonth  Distance  FlightNum     Month  CRSDepTime_Hour  \\\n",
       "0  -0.462767    0.256485 -0.744130  -0.991600 -0.118281         1.512432   \n",
       "1  -0.462767   -1.332050  0.183961   0.106546 -0.118281         0.214011   \n",
       "2   1.541454   -1.445517  0.471018  -0.207284  0.467662        -0.435199   \n",
       "3  -0.462767    0.823819 -0.347886   0.836931 -1.583137        -0.435199   \n",
       "4   1.541454   -1.332050  0.634799  -0.910960 -0.411252        -1.084410   \n",
       "\n",
       "   CRSDepTime_Minute        ...         UniqueCarrier_OH  UniqueCarrier_OO  \\\n",
       "0           1.586498        ...                        0                 0   \n",
       "1          -0.936014        ...                        0                 0   \n",
       "2           1.025940        ...                        0                 0   \n",
       "3           0.969884        ...                        0                 1   \n",
       "4          -0.375456        ...                        0                 0   \n",
       "\n",
       "   UniqueCarrier_UA  UniqueCarrier_US  UniqueCarrier_WN  UniqueCarrier_XE  \\\n",
       "0                 0                 0                 1                 0   \n",
       "1                 0                 0                 0                 1   \n",
       "2                 0                 0                 1                 0   \n",
       "3                 0                 0                 0                 0   \n",
       "4                 0                 0                 1                 0   \n",
       "\n",
       "   UniqueCarrier_YV  \n",
       "0                 0  \n",
       "1                 0  \n",
       "2                 0  \n",
       "3                 0  \n",
       "4                 0  \n",
       "\n",
       "[5 rows x 623 columns]"
      ]
     },
     "execution_count": 1102,
     "metadata": {},
     "output_type": "execute_result"
    }
   ],
   "source": [
    "X_trasf.head()"
   ]
  },
  {
   "cell_type": "markdown",
   "metadata": {},
   "source": [
    "**11. (0.75 балла)** Разбейте выборку и вектор целевой переменной на обучение и контроль в отношении 70/30 (для этого можно использовать, например, функцию [train_test_split](http://scikit-learn.org/stable/modules/generated/sklearn.cross_validation.train_test_split.html)). "
   ]
  },
  {
   "cell_type": "code",
   "execution_count": 1124,
   "metadata": {
    "collapsed": true
   },
   "outputs": [],
   "source": [
    "from sklearn.model_selection import train_test_split\n",
    "X_train, X_test, y_train, y_test = train_test_split(X_trasf, data_y, test_size=0.3, random_state=42)"
   ]
  },
  {
   "cell_type": "markdown",
   "metadata": {},
   "source": [
    "### Scikit-learn\n",
    "\n",
    "<img src = \"https://pp.vk.me/c4534/u35727827/93547647/x_d31c4463.jpg\">\n",
    "Теперь, когда мы привели данные к пригодному виду, попробуем решить задачу при помощи метода наименьших квадратов. Напомним, что данный метод заключается в оптимизации функционала $MSE$:\n",
    "\n",
    "$$MSE(X, y) = \\frac{1}{l} \\sum_{i=1}^l (<w, x_i> - y_i)^2 \\to \\min_{w},$$\n",
    "\n",
    "где $\\{ (x_i, y_i ) \\}_{i=1}^l$ — обучающая выборка, состоящая из $l$ пар объект-ответ.\n",
    "\n",
    "Заметим, что решение данной задачи уже реализовано в модуле sklearn в виде класса [LinearRegression](http://scikit-learn.org/stable/modules/generated/sklearn.linear_model.LinearRegression.html#sklearn.linear_model.LinearRegression).\n",
    "\n",
    "**12. (0.5 балла)** Обучите линейную регрессию на 1000 объектах из обучающей выборки и выведите значения $MSE$ и $R^2$ на этой подвыборке и контрольной выборке (итого 4 различных числа). Проинтерпретируйте полученный результат — насколько качественные прогнозы строит полученная модель? Какие проблемы наблюдаются в модели?\n",
    "\n",
    "**Подсказка**: изучите значения полученных коэффициентов $w$, сохраненных в атрибуте coef_ объекта LinearRegression."
   ]
  },
  {
   "cell_type": "code",
   "execution_count": 1108,
   "metadata": {
    "collapsed": true
   },
   "outputs": [],
   "source": [
    "from sklearn.linear_model import LinearRegression\n",
    "from sklearn.metrics import mean_squared_error as mse\n",
    "from sklearn.metrics import r2_score"
   ]
  },
  {
   "cell_type": "code",
   "execution_count": 1125,
   "metadata": {
    "collapsed": true
   },
   "outputs": [],
   "source": [
    "X_train_2, y_train_2 = X_train[:1000], y_train[:1000]\n",
    "LinReg = LinearRegression()\n",
    "LinReg.fit(X_train_2, y_train_2)\n",
    "pr_train_LinReg = LinReg.predict(X_train_2)\n",
    "pr_test_LinReg = LinReg.predict(X_test)"
   ]
  },
  {
   "cell_type": "code",
   "execution_count": 1126,
   "metadata": {
    "collapsed": false
   },
   "outputs": [
    {
     "name": "stdout",
     "output_type": "stream",
     "text": [
      "-------Train-------\n",
      "MSE 690.8611 \n",
      "R2    0.3481 \n",
      "-------Test-------\n",
      "MSE 643673939059818729832448.0000 \n",
      "R2    -481190755444168654848.0000 \n"
     ]
    }
   ],
   "source": [
    "print('-------Train-------')\n",
    "print('MSE %0.4f \\nR2    %0.4f ' %(mse(y_train_2, pr_train_LinReg), r2_score(y_train_2, pr_train_LinReg)))\n",
    "print('-------Test-------')\n",
    "print('MSE %0.4f \\nR2    %0.4f ' %(mse(y_test, pr_test_LinReg), r2_score(y_test, pr_test_LinReg)))"
   ]
  },
  {
   "cell_type": "code",
   "execution_count": 1127,
   "metadata": {
    "collapsed": false
   },
   "outputs": [
    {
     "data": {
      "text/plain": [
       "array([  8.70810082e-01,   6.58980797e-01,   6.08631627e-01,\n",
       "         8.34016077e-01,  -5.55646737e-01,   7.73400703e+00,\n",
       "        -9.42995467e-01,  -1.06896116e+00,   2.55544851e+00,\n",
       "        -2.37168089e+12,  -2.37168089e+12,  -2.37168089e+12,\n",
       "         4.45493607e+12,  -2.99372613e+13,   2.32651013e+12,\n",
       "        -2.37168089e+12,  -1.45019066e+13,   4.50414295e+12,\n",
       "        -9.31172014e+12,  -2.37168089e+12,  -3.08358902e+12,\n",
       "        -8.90061311e+12,  -2.37168089e+12,  -2.37168089e+12,\n",
       "        -2.37168089e+12,   4.70174117e+12,  -2.37168089e+12,\n",
       "        -2.37168089e+12,  -2.37168089e+12,   6.07882902e+11,\n",
       "         1.80147175e+12,  -2.37168089e+12,  -2.37168089e+12,\n",
       "         5.37747455e+12,  -2.37168089e+12,  -1.44188278e+13,\n",
       "        -3.89560828e+12,  -2.37168089e+12,  -5.65322004e+11,\n",
       "        -2.37168089e+12,  -5.33439629e+12,   9.16378298e+09,\n",
       "        -2.37168089e+12,  -2.37168089e+12,  -2.37168089e+12,\n",
       "        -2.37168089e+12,  -2.84061955e+12,  -2.37168089e+12,\n",
       "         2.57830489e+12,  -2.37168089e+12,  -4.96596741e+11,\n",
       "        -3.86921838e+12,  -1.75534236e+12,  -2.37168089e+12,\n",
       "        -2.37168089e+12,  -2.37168089e+12,  -2.37168089e+12,\n",
       "        -2.37168089e+12,  -2.37168089e+12,  -2.37168089e+12,\n",
       "         1.07652331e+11,  -2.37168089e+12,   1.35704657e+12,\n",
       "         7.70675169e+12,   2.85767813e+12,   1.48327541e+12,\n",
       "         3.05873439e+12,  -2.37168089e+12,  -2.37168089e+12,\n",
       "        -2.37168089e+12,  -2.37168089e+12,  -2.37168089e+12,\n",
       "        -2.37168089e+12,  -2.37168089e+12,   3.29712413e+11,\n",
       "        -5.58920411e+12,  -2.37168089e+12,  -2.37168089e+12,\n",
       "        -2.37168089e+12,  -4.76209446e+12,   5.61347134e+12,\n",
       "        -2.37168089e+12,  -3.90792073e+12,  -1.64730005e+12,\n",
       "        -2.37168089e+12,  -2.37168089e+12,   7.78297770e+11,\n",
       "        -2.37168089e+12,  -2.37168089e+12,  -2.37168089e+12,\n",
       "        -2.35174336e+12,  -2.82429288e+12,  -2.66744612e+12,\n",
       "        -1.64349538e+12,  -2.37168089e+12,  -2.37168089e+12,\n",
       "        -2.37168089e+12,   3.89339516e+11,   7.59444702e+11,\n",
       "         1.20208550e+11,  -1.67713628e+12,  -2.37168089e+12,\n",
       "        -2.37168089e+12,   1.43454634e+12,  -2.37168089e+12,\n",
       "        -4.17922785e+12,  -2.37168089e+12,   1.84163195e+12,\n",
       "        -2.37168089e+12,  -3.41379625e+11,  -2.37168089e+12,\n",
       "         5.58002918e+11,  -2.37168089e+12,  -7.07266702e+11,\n",
       "        -3.38012420e+12,  -2.37168089e+12,   2.41576648e+12,\n",
       "        -1.17434995e+12,   7.96933323e+10,  -2.37168089e+12,\n",
       "        -2.37168089e+12,  -2.88050157e+11,  -2.37168089e+12,\n",
       "        -2.37168089e+12,   6.12570340e+12,   1.14312205e+12,\n",
       "        -2.37168089e+12,  -2.37168089e+12,  -2.37168089e+12,\n",
       "        -2.22376645e+12,   1.16599379e+12,  -2.37168089e+12,\n",
       "        -1.01371889e+12,  -2.37168089e+12,  -2.10485436e+12,\n",
       "        -5.95966476e+12,  -2.37168089e+12,  -2.37168089e+12,\n",
       "        -2.37168089e+12,  -2.37168089e+12,  -8.62495986e+11,\n",
       "        -2.37168089e+12,   1.49028899e+11,  -2.37168089e+12,\n",
       "        -2.37168089e+12,  -2.37168089e+12,  -2.37168089e+12,\n",
       "        -2.37168089e+12,  -2.37168089e+12,  -1.54643192e+11,\n",
       "        -2.37168089e+12,  -2.37168089e+12,   9.21198085e+11,\n",
       "        -1.36768472e+12,  -2.22289262e+12,   4.65802495e+12,\n",
       "        -1.90642695e+12,  -2.37168089e+12,  -2.37168089e+12,\n",
       "        -1.64096038e+12,  -2.37168089e+12,  -2.37168089e+12,\n",
       "        -1.30162783e+11,  -2.37168089e+12,  -9.36161530e+11,\n",
       "        -2.37168089e+12,  -2.37168089e+12,   3.34357314e+12,\n",
       "         9.75815612e+11,  -2.37168089e+12,  -2.37168089e+12,\n",
       "        -2.37168089e+12,  -2.37168089e+12,  -2.37168089e+12,\n",
       "        -1.64621734e+11,  -2.37168089e+12,  -2.37168089e+12,\n",
       "         1.72670809e+12,   1.42912995e+12,   3.24312687e+12,\n",
       "         1.28657313e+12,  -2.37168089e+12,  -2.37168089e+12,\n",
       "        -2.37168089e+12,  -3.11996493e+12,  -2.37168089e+12,\n",
       "        -2.37168089e+12,  -2.37168089e+12,   8.06863959e+11,\n",
       "        -2.37168089e+12,  -2.37168089e+12,  -1.48559270e+11,\n",
       "         3.00439038e+11,  -2.37168089e+12,  -2.37168089e+12,\n",
       "        -2.37168089e+12,   3.09992385e+11,  -2.37168089e+12,\n",
       "        -2.37168089e+12,  -2.37168089e+12,  -3.29656375e+11,\n",
       "         2.69199024e+10,  -2.37168089e+12,   6.26785877e+10,\n",
       "        -3.98416630e+11,  -2.37168089e+12,  -2.37168089e+12,\n",
       "        -2.37168089e+12,  -2.37168089e+12,   3.78557989e+10,\n",
       "        -2.37168089e+12,  -1.19655268e+11,  -2.37168089e+12,\n",
       "        -2.37168089e+12,  -2.37168089e+12,  -2.37168089e+12,\n",
       "         1.08250016e+11,  -2.37168089e+12,  -2.37168089e+12,\n",
       "        -2.37168089e+12,   9.34957063e+10,   1.36757204e+11,\n",
       "        -7.39168842e+10,  -2.37168089e+12,  -2.37168089e+12,\n",
       "        -3.36938497e+10,  -2.37168089e+12,  -2.37168089e+12,\n",
       "        -2.37168089e+12,  -1.52324360e+11,  -4.70118087e+10,\n",
       "        -2.37168089e+12,  -1.98264425e+11,  -1.43838372e+11,\n",
       "        -8.26807598e+10,  -4.05867655e+11,   6.82431862e+10,\n",
       "        -1.94591672e+11,  -2.37168089e+12,  -2.37168089e+12,\n",
       "        -2.15364701e+10,  -2.37168089e+12,  -6.67343486e+10,\n",
       "         1.26933800e+11,  -2.37168089e+12,  -1.94355855e+10,\n",
       "        -1.81924155e+11,  -2.37168089e+12,  -5.23160979e+10,\n",
       "        -2.37168089e+12,  -2.37168089e+12,  -2.37168089e+12,\n",
       "        -2.33681181e+11,  -1.52373009e+11,  -2.37168089e+12,\n",
       "        -2.37168089e+12,  -2.37168089e+12,  -2.37168089e+12,\n",
       "        -2.37168089e+12,  -4.32951637e+08,  -2.37168089e+12,\n",
       "        -8.56803973e+06,   1.82519680e+07,  -2.37168089e+12,\n",
       "        -2.37168089e+12,  -2.37168089e+12,  -2.37168089e+12,\n",
       "         8.88257689e+01,   1.72504427e+02,   8.70455801e+00,\n",
       "        -2.37168089e+12,   1.22298050e+00,  -2.37168089e+12,\n",
       "        -2.37168089e+12,  -8.30078125e-03,  -2.37168089e+12,\n",
       "         2.44140625e-04,  -2.37168089e+12,  -1.33514404e-05,\n",
       "        -2.38418579e-06,  -2.37168089e+12,  -2.37168089e+12,\n",
       "        -2.37168089e+12,  -1.04159117e-05,  -1.12916241e-05,\n",
       "         2.12205669e-06,  -7.13604322e-07,  -2.37168089e+12,\n",
       "        -2.37168089e+12,  -3.44624046e-05,  -2.37168089e+12,\n",
       "        -5.87062771e-06,  -2.37168089e+12,  -2.37168089e+12,\n",
       "         2.60789196e-06,   1.53445526e-05,  -1.61285805e-05,\n",
       "         9.95126366e-06,  -2.37168089e+12,   8.57503630e-06,\n",
       "        -2.37168089e+12,   1.01437657e-05,   8.34567956e-06,\n",
       "        -2.37168089e+12,  -3.85020908e-06,  -8.66928773e-06,\n",
       "         5.28791091e-06,   6.27454323e-07,  -1.57299368e+12,\n",
       "        -1.57299368e+12,  -1.57299368e+12,   1.66379757e-08,\n",
       "        -9.49508813e-07,  -1.57299368e+12,   1.44803510e-06,\n",
       "        -8.60033360e-08,  -4.70665175e-06,  -1.47268321e-06,\n",
       "         1.93107316e-06,  -5.80338904e-06,  -1.57299368e+12,\n",
       "        -8.50356750e-07,  -4.18664634e-07,  -1.57299368e+12,\n",
       "        -1.57299368e+12,  -1.57299368e+12,  -1.57299368e+12,\n",
       "        -1.57299368e+12,   4.24497113e-06,   2.19094889e-06,\n",
       "         3.48554843e-06,  -1.57299368e+12,  -4.40165079e-08,\n",
       "        -1.57299368e+12,  -6.70766767e-08,  -3.08655475e-07,\n",
       "        -1.57299368e+12,   4.32009983e-12,   3.40554679e-16,\n",
       "        -2.84217094e-14,   1.42108547e-14,  -1.57299368e+12,\n",
       "        -1.57299368e+12,  -1.57299368e+12,   6.15185630e-16,\n",
       "        -1.57299368e+12,   0.00000000e+00,   4.51792636e-15,\n",
       "        -2.48689958e-14,   1.42108547e-14,  -4.00547651e-15,\n",
       "        -1.57299368e+12,  -1.57299368e+12,  -1.57299368e+12,\n",
       "        -1.57299368e+12,  -1.57299368e+12,  -1.57299368e+12,\n",
       "         2.84217094e-14,   1.77635684e-15,   6.66133815e-15,\n",
       "        -1.57299368e+12,   3.55271368e-15,  -1.57299368e+12,\n",
       "         1.06581410e-14,  -1.57299368e+12,  -1.57299368e+12,\n",
       "        -1.57299368e+12,  -1.57299368e+12,  -1.57299368e+12,\n",
       "        -1.57299368e+12,   0.00000000e+00,   0.00000000e+00,\n",
       "         0.00000000e+00,  -1.57299368e+12,   0.00000000e+00,\n",
       "        -1.57299368e+12,   0.00000000e+00,   0.00000000e+00,\n",
       "        -1.57299368e+12,   0.00000000e+00,   0.00000000e+00,\n",
       "        -1.57299368e+12,  -1.57299368e+12,   0.00000000e+00,\n",
       "        -1.57299368e+12,  -1.57299368e+12,  -1.57299368e+12,\n",
       "        -1.57299368e+12,  -1.57299368e+12,   0.00000000e+00,\n",
       "        -1.57299368e+12,  -1.57299368e+12,   0.00000000e+00,\n",
       "         0.00000000e+00,   0.00000000e+00,  -1.57299368e+12,\n",
       "         0.00000000e+00,  -1.57299368e+12,   0.00000000e+00,\n",
       "         0.00000000e+00,  -1.57299368e+12,   0.00000000e+00,\n",
       "         0.00000000e+00,   0.00000000e+00,  -1.57299368e+12,\n",
       "        -1.57299368e+12,   0.00000000e+00,   0.00000000e+00,\n",
       "        -1.57299368e+12,   0.00000000e+00,  -1.57299368e+12,\n",
       "         0.00000000e+00,   0.00000000e+00,  -1.57299368e+12,\n",
       "         0.00000000e+00,  -1.57299368e+12,  -1.57299368e+12,\n",
       "         0.00000000e+00,  -1.57299368e+12,   0.00000000e+00,\n",
       "         0.00000000e+00,  -1.57299368e+12,  -1.57299368e+12,\n",
       "        -1.57299368e+12,  -1.57299368e+12,  -1.57299368e+12,\n",
       "         0.00000000e+00,   0.00000000e+00,   0.00000000e+00,\n",
       "         0.00000000e+00,   0.00000000e+00,   0.00000000e+00,\n",
       "         0.00000000e+00,  -1.57299368e+12,  -1.57299368e+12,\n",
       "        -1.57299368e+12,   0.00000000e+00,  -1.57299368e+12,\n",
       "         0.00000000e+00,  -1.57299368e+12,  -1.57299368e+12,\n",
       "        -1.57299368e+12,  -1.57299368e+12,   0.00000000e+00,\n",
       "        -1.57299368e+12,   0.00000000e+00,   0.00000000e+00,\n",
       "        -1.57299368e+12,   0.00000000e+00,   0.00000000e+00,\n",
       "         0.00000000e+00,   0.00000000e+00,  -1.57299368e+12,\n",
       "        -1.57299368e+12,  -1.57299368e+12,  -1.57299368e+12,\n",
       "        -1.57299368e+12,   0.00000000e+00,   0.00000000e+00,\n",
       "        -1.57299368e+12,   0.00000000e+00,  -1.57299368e+12,\n",
       "        -1.57299368e+12,   0.00000000e+00,  -1.57299368e+12,\n",
       "         0.00000000e+00,  -1.57299368e+12,  -1.57299368e+12,\n",
       "         0.00000000e+00,  -1.57299368e+12,   0.00000000e+00,\n",
       "         0.00000000e+00,  -1.57299368e+12,   0.00000000e+00,\n",
       "         0.00000000e+00,   0.00000000e+00,   0.00000000e+00,\n",
       "        -1.57299368e+12,  -1.57299368e+12,  -1.57299368e+12,\n",
       "         0.00000000e+00,  -1.57299368e+12,   0.00000000e+00,\n",
       "        -1.57299368e+12,   0.00000000e+00,  -1.57299368e+12,\n",
       "         0.00000000e+00,  -1.57299368e+12,   0.00000000e+00,\n",
       "        -1.57299368e+12,  -1.57299368e+12,  -1.57299368e+12,\n",
       "         0.00000000e+00,   0.00000000e+00,  -1.57299368e+12,\n",
       "         0.00000000e+00,  -1.57299368e+12,   0.00000000e+00,\n",
       "         0.00000000e+00,   0.00000000e+00,   0.00000000e+00,\n",
       "        -1.57299368e+12,   0.00000000e+00,  -1.57299368e+12,\n",
       "        -1.57299368e+12,   0.00000000e+00,  -1.57299368e+12,\n",
       "         0.00000000e+00,  -1.57299368e+12,  -1.57299368e+12,\n",
       "        -1.57299368e+12,  -1.57299368e+12,   0.00000000e+00,\n",
       "        -1.57299368e+12,  -1.57299368e+12,  -1.57299368e+12,\n",
       "         0.00000000e+00,   0.00000000e+00,   0.00000000e+00,\n",
       "        -1.57299368e+12,  -1.57299368e+12,   0.00000000e+00,\n",
       "         0.00000000e+00,  -1.57299368e+12,  -1.57299368e+12,\n",
       "        -1.57299368e+12,   0.00000000e+00,  -1.57299368e+12,\n",
       "         0.00000000e+00,   0.00000000e+00,  -1.57299368e+12,\n",
       "         0.00000000e+00,   0.00000000e+00,   0.00000000e+00,\n",
       "        -1.57299368e+12,  -1.57299368e+12,  -1.57299368e+12,\n",
       "        -1.57299368e+12,   0.00000000e+00,   0.00000000e+00,\n",
       "        -1.57299368e+12,   0.00000000e+00,   0.00000000e+00,\n",
       "        -1.57299368e+12,   0.00000000e+00,  -1.57299368e+12,\n",
       "        -1.57299368e+12,  -1.57299368e+12,  -1.57299368e+12,\n",
       "         0.00000000e+00,  -1.57299368e+12,  -1.57299368e+12,\n",
       "        -1.57299368e+12,  -1.57299368e+12,  -1.57299368e+12,\n",
       "        -1.57299368e+12,  -1.57299368e+12,   0.00000000e+00,\n",
       "         0.00000000e+00,  -1.57299368e+12,  -1.57299368e+12,\n",
       "        -1.57299368e+12,  -1.57299368e+12,   0.00000000e+00,\n",
       "        -1.57299368e+12,   0.00000000e+00,  -1.57299368e+12,\n",
       "         0.00000000e+00,  -1.57299368e+12,  -1.57299368e+12,\n",
       "         0.00000000e+00,  -1.57299368e+12,   0.00000000e+00,\n",
       "        -1.57299368e+12,   0.00000000e+00,  -1.57299368e+12,\n",
       "        -1.57299368e+12,  -1.57299368e+12,   0.00000000e+00,\n",
       "         0.00000000e+00,   0.00000000e+00,   0.00000000e+00,\n",
       "        -1.57299368e+12,  -1.57299368e+12,   0.00000000e+00,\n",
       "        -1.57299368e+12,   0.00000000e+00,  -1.57299368e+12,\n",
       "        -1.57299368e+12,  -1.57299368e+12,  -1.57299368e+12,\n",
       "         0.00000000e+00,   0.00000000e+00,   0.00000000e+00,\n",
       "         0.00000000e+00,  -1.57299368e+12,   0.00000000e+00,\n",
       "        -1.57299368e+12,   0.00000000e+00,  -1.57299368e+12,\n",
       "        -2.30371418e+12,   0.00000000e+00,  -1.57299368e+12,\n",
       "         1.12887777e+12,   1.12887777e+12,   0.00000000e+00,\n",
       "         1.12887777e+12,   1.12887777e+12,   1.12887777e+12,\n",
       "         1.12887777e+12,   1.12887777e+12,   1.12887777e+12,\n",
       "         1.12887777e+12,   1.12887777e+12,   1.12887777e+12,\n",
       "         1.12887777e+12,   1.12887777e+12,   1.12887777e+12,\n",
       "         1.12887777e+12,   1.12887777e+12,   1.12887777e+12,\n",
       "         1.12887777e+12,   1.12887777e+12])"
      ]
     },
     "execution_count": 1127,
     "metadata": {},
     "output_type": "execute_result"
    }
   ],
   "source": [
    "LinReg.coef_"
   ]
  },
  {
   "cell_type": "markdown",
   "metadata": {},
   "source": [
    "__ВЫВОД:__\n",
    "\n",
    "На тестовой выборке получили огромную MSE и сильно отрицательный $R^2$. Метрика r2_score может быть отрицательной, так как модель может быть \"сколь угодно плоха\" - в сравнении с моделью с одной константой, что дает $R^2$ = 0. То есть наша модель хуже предсказания среднего значения. Возможно, среднее тестовой выборки сильно отличается от среднего на обучающей, поэтому  просто предсказание среднего тестовой выборки намного лучше, то есть ошибка намного меньше, чем у нашей модели. \n",
    "\n",
    "Если модель адекватно работает на тренировочной, но хуже, чем бесполезна на тестовой, это значит, что существует проблема переобучения. Об этом свидетельствую экстремальные веса в модели - при таком большом количестве признаков модель теряет обобщающую способность, так как подстраивается под тренировочные данные, минимизируюя на них MSE, при этом коэффициенты в основном очень большие. \n",
    "\n",
    "Регуляризация как раз вводит штраф за большие веса модели, тем самым заставляя её меньше подстраиваться под тренировочные данные и сохранять обобщающую способность. \n",
    "\n",
    "------------------"
   ]
  },
  {
   "cell_type": "markdown",
   "metadata": {
    "collapsed": true
   },
   "source": [
    "Для решения описанных вами в предыдущем пункте проблем используем L1- или L2-регуляризацию, тем самым получив Lasso и Ridge регрессии соответственно и изменив оптимизационную задачу одним из следующих образов:\n",
    "$$MSE_{L1}(X, y) = \\frac{1}{l} \\sum_{i=1}^l (<w, x_i> - y_i)^2 + \\alpha ||w||_1 \\to \\min_{w},$$\n",
    "$$MSE_{L2}(X, y) = \\frac{1}{l} \\sum_{i=1}^l (<w, x_i> - y_i)^2 + \\alpha ||w||_2^2 \\to \\min_{w},$$\n",
    "\n",
    "где $\\alpha$ — коэффициент регуляризации. Один из способов его подбора заключается в переборе некоторого количества значений и оценке качества на кросс-валидации для каждого из них, после чего выбирается значение, для которого было получено наилучшее качество.\n",
    "\n",
    "**13. (1 балл)** Обучите линейные регрессии с L1- и L2-регуляризатором, подобрав лучшее значение параметра регуляризации из списка alpha_grid при помощи кросс-валидации c 5 фолдами на тех же 1000 объектах, что и в п.12. Выведите значения $MSE$ и $R^2$ на обучающей и контрольной выборках. Удалось ли решить указанные вами ранее проблемы?\n",
    "\n",
    "Для выполнения данного задания вам могут понадобиться реализованные в библиотеке объекты [LassoCV](http://scikit-learn.org/stable/modules/generated/sklearn.linear_model.LassoCV.html), [RidgeCV](http://scikit-learn.org/stable/modules/generated/sklearn.linear_model.RidgeCV.html) и [KFold](http://scikit-learn.org/stable/modules/generated/sklearn.cross_validation.KFold.html).\n"
   ]
  },
  {
   "cell_type": "code",
   "execution_count": 1027,
   "metadata": {
    "collapsed": false
   },
   "outputs": [],
   "source": [
    "from sklearn.linear_model import LassoCV\n",
    "from sklearn.linear_model import RidgeCV\n",
    "from sklearn.model_selection import KFold"
   ]
  },
  {
   "cell_type": "code",
   "execution_count": 1044,
   "metadata": {
    "collapsed": true
   },
   "outputs": [],
   "source": [
    "LassReg = LassoCV(alphas=np.linspace(0.01, 100, num=1000), cv=KFold(n_splits=5,random_state=42))\n",
    "LassReg.fit(X_train_2, y_train_2)\n",
    "pr_train_LassReg = LassReg.predict(X_train_2)\n",
    "pr_test_LassReg = LassReg.predict(X_test)"
   ]
  },
  {
   "cell_type": "code",
   "execution_count": 1045,
   "metadata": {
    "collapsed": false
   },
   "outputs": [
    {
     "data": {
      "text/plain": [
       "array([ 0.        ,  0.14977813,  0.73600924,  0.11622887, -0.6530681 ,\n",
       "        5.44399428,  0.        ,  0.        ,  1.06151939,  0.        ,\n",
       "       -0.        , -0.        ,  0.        ,  0.        ,  0.        ,\n",
       "       -0.        ,  0.        ,  0.        ,  0.        , -0.        ,\n",
       "        0.        ,  0.        ,  0.        , -0.        ,  0.        ,\n",
       "        0.        ,  0.        , -0.        , -0.        ,  0.        ,\n",
       "        0.        , -0.        , -0.        ,  0.        , -0.        ,\n",
       "        0.        ,  0.        , -0.        ,  0.        ,  0.        ,\n",
       "        0.        ,  0.        , -0.        , -0.        ,  0.        ,\n",
       "        0.        ,  0.        , -0.        ,  0.        ,  0.        ,\n",
       "        0.        ,  0.        ,  0.        , -0.        ,  0.        ,\n",
       "       -0.        , -0.        , -0.        , -0.        , -0.        ,\n",
       "        0.        , -0.        ,  0.        ,  0.        ,  0.        ,\n",
       "        0.        ,  0.        ,  0.        , -0.        , -0.        ,\n",
       "        0.        ,  0.        ,  0.        , -0.        ,  0.        ,\n",
       "        0.        , -0.        , -0.        , -0.        ,  0.        ,\n",
       "        0.        ,  0.        ,  0.        ,  0.        , -0.        ,\n",
       "        0.        ,  0.        , -0.        , -0.        ,  0.        ,\n",
       "        0.        ,  0.        ,  0.        ,  0.        , -0.        ,\n",
       "       -0.        , -0.        ,  0.        ,  0.        ,  0.        ,\n",
       "        0.        ,  0.        , -0.        ,  0.        ,  0.        ,\n",
       "        0.        , -0.        ,  0.        , -0.        ,  0.        ,\n",
       "       -0.        ,  0.        ,  0.        ,  0.        ,  0.        ,\n",
       "       -0.        ,  0.        ,  0.        ,  0.        , -0.        ,\n",
       "       -0.        ,  0.        , -0.        ,  0.        ,  0.        ,\n",
       "        0.        , -0.        , -0.        , -0.        ,  0.        ,\n",
       "        0.        , -0.        ,  0.        , -0.        ,  0.        ,\n",
       "        0.        , -0.        , -0.        , -0.        , -0.        ,\n",
       "        0.        , -0.        ,  0.        ,  0.        ,  0.        ,\n",
       "       -0.        , -0.        , -0.        , -0.        ,  0.        ,\n",
       "       -0.        , -0.        ,  0.        ,  0.        ,  0.        ,\n",
       "        0.        ,  0.        ,  0.        , -0.        ,  0.        ,\n",
       "       -0.        , -0.        ,  0.        ,  0.        ,  0.        ,\n",
       "       -0.        , -0.        ,  0.        ,  0.        ,  0.        ,\n",
       "       -0.        , -0.        , -0.        , -0.        ,  0.        ,\n",
       "       -0.        ,  0.        ,  0.        ,  0.        ,  0.        ,\n",
       "        0.        , -0.        , -0.        , -0.        ,  0.        ,\n",
       "        0.        , -0.        , -0.        ,  0.        ,  0.        ,\n",
       "        0.        ,  0.        ,  0.        , -0.        ,  0.        ,\n",
       "       -0.        ,  0.        , -0.        ,  0.        , -0.        ,\n",
       "        0.        ,  0.        , -0.        ,  0.        ,  0.        ,\n",
       "       -0.        ,  0.        , -0.        , -0.        ,  0.        ,\n",
       "       -0.        ,  0.        , -0.        , -0.        , -0.        ,\n",
       "       -0.        ,  0.        , -0.        , -0.        , -0.        ,\n",
       "        0.        ,  0.        ,  0.        , -0.        , -0.        ,\n",
       "        0.        , -0.        ,  0.        , -0.        ,  0.        ,\n",
       "        0.        ,  0.        ,  0.        ,  0.        ,  0.        ,\n",
       "        0.        ,  0.        ,  0.        ,  0.        , -0.        ,\n",
       "        0.        ,  0.        ,  0.        ,  0.        ,  0.        ,\n",
       "        0.        ,  0.        , -0.        ,  0.        , -0.        ,\n",
       "       -0.        , -0.        ,  0.        ,  0.        , -0.        ,\n",
       "        0.        ,  0.        ,  0.        ,  0.        ,  0.        ,\n",
       "       -0.        ,  0.        ,  0.        ,  0.        , -0.        ,\n",
       "        0.        , -0.        ,  0.        ,  0.        ,  0.        ,\n",
       "        0.        ,  0.        ,  0.        , -0.        ,  0.        ,\n",
       "        0.        ,  0.        ,  0.        ,  0.        ,  0.        ,\n",
       "       -0.        , -0.        , -0.        ,  0.        ,  0.        ,\n",
       "        0.        ,  0.        , -0.        ,  0.        ,  0.        ,\n",
       "        0.        ,  0.        , -0.        , -0.        ,  0.        ,\n",
       "        0.        ,  0.        ,  0.        , -0.        ,  0.        ,\n",
       "        0.        ,  0.        ,  0.        , -0.        ,  0.        ,\n",
       "        0.        ,  0.        ,  0.        ,  0.        , -0.        ,\n",
       "        0.        ,  0.        ,  0.        , -0.        ,  0.        ,\n",
       "        0.        ,  0.        ,  0.        ,  0.        ,  0.        ,\n",
       "       -0.        ,  0.        ,  0.        , -0.        , -0.        ,\n",
       "       -0.        , -0.        ,  0.        ,  0.        ,  0.        ,\n",
       "        0.        , -0.        ,  0.        , -0.        ,  0.        ,\n",
       "        0.        ,  0.        ,  0.        ,  0.        ,  0.        ,\n",
       "        0.        ,  0.        , -0.        , -0.        ,  0.        ,\n",
       "       -0.        ,  0.        ,  0.        ,  0.        ,  0.        ,\n",
       "        0.        ,  0.        ,  0.        , -0.        ,  0.        ,\n",
       "        0.        ,  0.        ,  0.        ,  0.        ,  0.        ,\n",
       "       -0.        ,  0.        , -0.        ,  0.        ,  0.        ,\n",
       "       -0.        , -0.        ,  0.        , -0.        ,  0.        ,\n",
       "        0.        ,  0.        ,  0.        , -0.        ,  0.        ,\n",
       "       -0.        ,  0.        ,  0.        , -0.        ,  0.        ,\n",
       "        0.        , -0.        , -0.        ,  0.        , -0.        ,\n",
       "       -0.        ,  0.        , -0.        , -0.        ,  0.        ,\n",
       "       -0.        , -0.        ,  0.        ,  0.        ,  0.        ,\n",
       "       -0.        ,  0.        ,  0.        ,  0.        ,  0.        ,\n",
       "        0.        ,  0.        ,  0.        ,  0.        , -0.        ,\n",
       "       -0.        ,  0.        ,  0.        ,  0.        ,  0.        ,\n",
       "       -0.        ,  0.        ,  0.        , -0.        ,  0.        ,\n",
       "       -0.        , -0.        ,  0.        ,  0.        ,  0.        ,\n",
       "        0.        ,  0.        , -0.        , -0.        , -0.        ,\n",
       "       -0.        ,  0.        ,  0.        ,  0.        ,  0.        ,\n",
       "        0.        ,  0.        ,  0.        ,  0.        , -0.        ,\n",
       "       -0.        ,  0.        , -0.        ,  0.        , -0.        ,\n",
       "       -0.        , -0.        , -0.        ,  0.        ,  0.        ,\n",
       "        0.        ,  0.        , -0.        ,  0.        ,  0.        ,\n",
       "        0.        ,  0.        , -0.        ,  0.        ,  0.        ,\n",
       "        0.        , -0.        ,  0.        ,  0.        , -0.        ,\n",
       "        0.        , -0.        , -0.        ,  0.        , -0.        ,\n",
       "        0.        , -0.        , -0.        ,  0.        , -0.        ,\n",
       "        0.        ,  0.        , -0.        ,  0.        ,  0.        ,\n",
       "        0.        ,  0.        , -0.        ,  0.        , -0.        ,\n",
       "        0.        , -0.        ,  0.        ,  0.        ,  0.        ,\n",
       "        0.        ,  0.        , -0.        ,  0.        ,  0.        ,\n",
       "        0.        ,  0.        ,  0.        ,  0.        , -0.        ,\n",
       "        0.        , -0.        ,  0.        ,  0.        ,  0.        ,\n",
       "        0.        , -0.        ,  0.        , -0.        , -0.        ,\n",
       "        0.        ,  0.        ,  0.        , -0.        , -0.        ,\n",
       "       -0.        , -0.        ,  0.        , -0.        ,  0.42524484,\n",
       "       -0.        ,  0.        ,  0.        ,  0.        , -0.        ,\n",
       "       -0.        ,  0.        ,  0.        ,  0.        , -0.        ,\n",
       "       -0.        ,  0.        , -0.        ,  0.        ,  0.        ,\n",
       "        0.        ,  0.        ,  0.        ,  0.        , -0.        ,\n",
       "        0.        , -0.        , -0.        ,  0.        ,  0.        ,\n",
       "       -0.        ,  0.        ,  0.        , -0.        ,  0.        ,\n",
       "       -0.        , -0.        ,  0.        , -0.        ,  0.        ,\n",
       "        0.        ,  0.        , -0.        , -0.        , -0.        ,\n",
       "       -0.        ,  0.        ,  0.        ,  0.        , -0.        ,\n",
       "       -0.        ,  0.        , -0.        ,  0.        , -0.        ,\n",
       "        0.        , -0.        ,  0.        , -0.        , -0.        ,\n",
       "        0.        , -0.        ,  0.        ,  0.        ,  0.        ,\n",
       "        0.        ,  0.        ,  0.        ,  0.        ,  0.        ,\n",
       "        0.        ,  0.        ,  0.        , -0.        ,  0.        ,\n",
       "        0.        ,  0.        , -0.        , -0.        ,  0.        ,\n",
       "       -0.        ,  0.        ,  0.        ,  0.        ,  0.        ,\n",
       "       -0.        ,  0.        ,  0.        ,  0.        , -0.        ,\n",
       "        0.        ,  0.        , -0.        , -0.        ,  0.        ,\n",
       "        0.        , -0.        ,  0.        ,  9.41647402, -0.        ,\n",
       "        0.        , -0.        , -0.        , -0.        , -0.        ,\n",
       "       -0.37888361,  0.        ,  0.        ,  0.        , -0.        ,\n",
       "        0.52638592, -0.        ,  0.        ])"
      ]
     },
     "execution_count": 1045,
     "metadata": {},
     "output_type": "execute_result"
    }
   ],
   "source": [
    "LassReg.coef_"
   ]
  },
  {
   "cell_type": "code",
   "execution_count": 1161,
   "metadata": {
    "collapsed": false
   },
   "outputs": [
    {
     "data": {
      "text/plain": [
       "0.41036036036036033"
      ]
     },
     "execution_count": 1161,
     "metadata": {},
     "output_type": "execute_result"
    }
   ],
   "source": [
    "LassReg.alpha_"
   ]
  },
  {
   "cell_type": "code",
   "execution_count": 1046,
   "metadata": {
    "collapsed": false
   },
   "outputs": [
    {
     "name": "stdout",
     "output_type": "stream",
     "text": [
      "-------Train-------\n",
      "MSE 1006.7691 \n",
      "R2    0.0501 \n",
      "-------Test-------\n",
      "MSE 1316.3999 \n",
      "R2    0.0159 \n"
     ]
    }
   ],
   "source": [
    "print('-------Train-------')\n",
    "print('MSE %0.4f \\nR2     %0.4f ' %(mse(y_train_2, pr_train_LassReg), r2_score(y_train_2, pr_train_LassReg)))\n",
    "print('-------Test-------')\n",
    "print('MSE %0.4f \\nR2     %0.4f ' %(mse(y_test, pr_test_LassReg), r2_score(y_test, pr_test_LassReg)))"
   ]
  },
  {
   "cell_type": "code",
   "execution_count": 1157,
   "metadata": {
    "collapsed": true
   },
   "outputs": [],
   "source": [
    "RidgeReg = RidgeCV(alphas=np.linspace(0.01, 150, num=100), cv=KFold(n_splits=5,random_state=42))\n",
    "RidgeReg.fit(X_train_2, y_train_2)\n",
    "pr_train_RidgeReg = RidgeReg.predict(X_train_2)\n",
    "pr_test_RidgeReg = RidgeReg.predict(X_test)"
   ]
  },
  {
   "cell_type": "code",
   "execution_count": 1158,
   "metadata": {
    "collapsed": false
   },
   "outputs": [
    {
     "data": {
      "text/plain": [
       "array([  2.12532400e-01,   5.64604054e-01,   1.14281567e+00,\n",
       "         4.79208763e-01,  -9.14402180e-01,   4.82606226e+00,\n",
       "        -1.82435175e-02,   7.46580505e-01,   1.30860125e+00,\n",
       "         8.79407046e-01,  -1.53591809e-01,  -1.83568173e-01,\n",
       "         0.00000000e+00,   0.00000000e+00,   0.00000000e+00,\n",
       "        -3.13300320e-01,   0.00000000e+00,   0.00000000e+00,\n",
       "         0.00000000e+00,  -1.12459251e-01,   0.00000000e+00,\n",
       "         0.00000000e+00,   6.95170110e-02,  -7.04885037e-02,\n",
       "         1.49167447e-01,   0.00000000e+00,   1.64111891e+00,\n",
       "        -4.03550007e-01,  -1.54884545e-01,   0.00000000e+00,\n",
       "         0.00000000e+00,  -9.05179407e-02,  -6.75599475e-01,\n",
       "         0.00000000e+00,  -1.85222488e-01,   0.00000000e+00,\n",
       "         0.00000000e+00,  -1.24331712e-01,   0.00000000e+00,\n",
       "         1.52102524e-01,   0.00000000e+00,   0.00000000e+00,\n",
       "        -2.91577155e-02,  -4.44932423e-01,   9.80666155e-02,\n",
       "         1.95595504e+00,   0.00000000e+00,  -1.83877373e-01,\n",
       "         0.00000000e+00,   2.61925809e-02,   0.00000000e+00,\n",
       "         0.00000000e+00,   0.00000000e+00,  -9.95266549e-02,\n",
       "         1.95999796e-01,  -2.72510333e-01,  -8.04678360e-02,\n",
       "        -1.22091216e-02,  -4.87567326e-02,  -1.40926961e-01,\n",
       "         0.00000000e+00,  -1.43530433e-01,   0.00000000e+00,\n",
       "         0.00000000e+00,   0.00000000e+00,   0.00000000e+00,\n",
       "         0.00000000e+00,   8.13556468e-01,  -3.03173557e-01,\n",
       "         7.59250597e-03,   8.27321113e-02,   1.45506650e-01,\n",
       "         1.03424176e+00,  -1.19441822e-01,   0.00000000e+00,\n",
       "         0.00000000e+00,  -1.80119034e-01,  -2.16807669e-01,\n",
       "        -2.15387881e-01,   0.00000000e+00,   0.00000000e+00,\n",
       "         8.84988399e-01,   0.00000000e+00,   0.00000000e+00,\n",
       "        -3.08352995e-01,   8.77018615e-01,   0.00000000e+00,\n",
       "        -8.05076749e-01,  -1.37609980e+00,   1.45207657e-02,\n",
       "         0.00000000e+00,   0.00000000e+00,   0.00000000e+00,\n",
       "         0.00000000e+00,  -3.51924762e-01,  -2.86251177e-01,\n",
       "        -1.31008532e-01,   0.00000000e+00,   0.00000000e+00,\n",
       "         0.00000000e+00,   0.00000000e+00,   1.06739830e-01,\n",
       "        -1.13068246e-01,   0.00000000e+00,   2.47578449e+00,\n",
       "         0.00000000e+00,  -3.09731807e-01,   0.00000000e+00,\n",
       "        -3.56087083e-01,   0.00000000e+00,  -4.13476435e-01,\n",
       "         0.00000000e+00,   7.99026251e-01,   0.00000000e+00,\n",
       "         0.00000000e+00,  -6.80485831e-02,   0.00000000e+00,\n",
       "         0.00000000e+00,   0.00000000e+00,  -1.79652186e-01,\n",
       "        -1.37053017e-01,   0.00000000e+00,  -2.18216753e-01,\n",
       "        -1.98641388e-03,   0.00000000e+00,   0.00000000e+00,\n",
       "        -8.21504430e-02,  -1.89867264e-01,  -3.11122910e-01,\n",
       "         0.00000000e+00,   0.00000000e+00,  -1.52268345e-01,\n",
       "         0.00000000e+00,  -5.34059749e-02,   0.00000000e+00,\n",
       "         0.00000000e+00,  -9.96488641e-02,  -8.12496529e-01,\n",
       "        -2.60971855e-01,  -1.20782045e-01,   0.00000000e+00,\n",
       "        -4.43985789e-02,   0.00000000e+00,   3.13814955e-01,\n",
       "         1.40454636e+00,  -4.41141120e-01,  -1.53115398e-01,\n",
       "        -1.12319114e-01,  -1.03738981e-01,   0.00000000e+00,\n",
       "        -1.87205315e-01,  -6.84976984e-02,   0.00000000e+00,\n",
       "         0.00000000e+00,   0.00000000e+00,   0.00000000e+00,\n",
       "         0.00000000e+00,   6.80942480e-01,  -9.82479703e-01,\n",
       "         2.30131553e-01,  -1.24724016e-01,  -1.07434647e-01,\n",
       "         0.00000000e+00,   9.31835769e-01,   0.00000000e+00,\n",
       "        -2.03101953e+00,  -8.17741253e-02,   0.00000000e+00,\n",
       "         0.00000000e+00,   1.20596471e-01,  -8.63120114e-01,\n",
       "        -1.76163332e-01,  -1.24859218e-01,  -3.68937831e-02,\n",
       "         0.00000000e+00,  -3.22054687e-01,   1.30801052e-01,\n",
       "         0.00000000e+00,   0.00000000e+00,   0.00000000e+00,\n",
       "         0.00000000e+00,  -1.72696737e-01,  -9.54955371e-02,\n",
       "        -4.61625619e-01,   0.00000000e+00,   2.39241162e-01,\n",
       "        -1.53252943e-01,  -2.47053691e-01,   0.00000000e+00,\n",
       "         1.57024460e-01,   3.64163772e-02,   0.00000000e+00,\n",
       "         0.00000000e+00,  -2.12224595e-01,  -5.72482531e-03,\n",
       "        -2.38638677e-01,   0.00000000e+00,  -1.27422381e-01,\n",
       "         8.56505385e-03,  -4.89329598e-02,   0.00000000e+00,\n",
       "         0.00000000e+00,  -2.36043251e-01,   0.00000000e+00,\n",
       "         0.00000000e+00,  -2.76126875e-01,   1.00457087e-01,\n",
       "        -8.29154384e-01,  -5.95783416e-01,   0.00000000e+00,\n",
       "        -3.20508153e-01,   0.00000000e+00,  -4.14120015e-01,\n",
       "         3.28174387e-03,  -1.21967050e-01,  -4.71334627e-01,\n",
       "         0.00000000e+00,  -1.63124852e-01,  -1.43097638e-01,\n",
       "        -1.92912904e-01,   0.00000000e+00,   0.00000000e+00,\n",
       "         0.00000000e+00,  -8.75568326e-02,  -3.41741030e-02,\n",
       "         0.00000000e+00,  -9.13524571e-02,   1.52525318e+00,\n",
       "        -4.65422442e-01,   0.00000000e+00,   0.00000000e+00,\n",
       "         7.31318775e-01,   0.00000000e+00,   0.00000000e+00,\n",
       "         0.00000000e+00,   0.00000000e+00,   0.00000000e+00,\n",
       "         0.00000000e+00,   4.61718610e-01,  -1.92687669e-01,\n",
       "         0.00000000e+00,   7.35774545e-01,   0.00000000e+00,\n",
       "         0.00000000e+00,   9.07457651e-01,   0.00000000e+00,\n",
       "         0.00000000e+00,  -1.37717570e-01,   0.00000000e+00,\n",
       "        -1.12143585e-01,  -2.00685956e-01,  -7.42005917e-02,\n",
       "         0.00000000e+00,   0.00000000e+00,  -2.72635223e-01,\n",
       "         8.68915691e-01,   7.28999771e-01,   9.18233904e-02,\n",
       "         9.11479983e-01,   0.00000000e+00,  -1.85161533e-01,\n",
       "         0.00000000e+00,   0.00000000e+00,   1.24139098e+00,\n",
       "        -1.54123100e+00,   1.94117510e+00,  -4.00630579e-02,\n",
       "         0.00000000e+00,   0.00000000e+00,   0.00000000e+00,\n",
       "        -4.24623912e-04,   0.00000000e+00,   2.85730180e-03,\n",
       "        -1.42308606e-01,   0.00000000e+00,   5.46443772e-01,\n",
       "         0.00000000e+00,  -4.44513894e-02,   0.00000000e+00,\n",
       "         0.00000000e+00,  -2.85863037e-01,  -5.63936737e-01,\n",
       "        -7.84601559e-02,   0.00000000e+00,   0.00000000e+00,\n",
       "         0.00000000e+00,   0.00000000e+00,  -7.64753981e-02,\n",
       "         4.15745543e-01,   0.00000000e+00,   5.92035973e-01,\n",
       "         0.00000000e+00,  -5.44814498e-02,  -1.52924503e-01,\n",
       "         0.00000000e+00,   0.00000000e+00,   0.00000000e+00,\n",
       "         0.00000000e+00,  -6.62198884e-02,   0.00000000e+00,\n",
       "         3.57660011e-01,   0.00000000e+00,   0.00000000e+00,\n",
       "        -3.41092765e-01,   0.00000000e+00,   0.00000000e+00,\n",
       "         0.00000000e+00,   0.00000000e+00,   1.21350644e+00,\n",
       "        -3.28441183e-02,   2.12221331e-01,   0.00000000e+00,\n",
       "         0.00000000e+00,  -2.43796854e-01,   0.00000000e+00,\n",
       "         0.00000000e+00,   0.00000000e+00,   0.00000000e+00,\n",
       "         0.00000000e+00,   0.00000000e+00,  -5.10750552e-02,\n",
       "         0.00000000e+00,   0.00000000e+00,  -4.95077016e-01,\n",
       "        -1.06000398e-01,  -1.81553294e+00,  -1.68255140e-01,\n",
       "         2.66744644e-02,   0.00000000e+00,   0.00000000e+00,\n",
       "         0.00000000e+00,  -6.01224002e-02,   0.00000000e+00,\n",
       "        -1.53991336e-01,   0.00000000e+00,   0.00000000e+00,\n",
       "         8.67249177e-01,   0.00000000e+00,   0.00000000e+00,\n",
       "         0.00000000e+00,   0.00000000e+00,   2.63876455e-01,\n",
       "        -2.11121726e-01,  -1.74481960e-01,   0.00000000e+00,\n",
       "        -5.45712162e-02,   0.00000000e+00,   0.00000000e+00,\n",
       "         0.00000000e+00,   0.00000000e+00,   0.00000000e+00,\n",
       "         4.40991414e-02,   1.77807672e-01,  -7.76219312e-01,\n",
       "         4.40689328e-01,   5.50034320e-01,   9.50569988e-02,\n",
       "         0.00000000e+00,   0.00000000e+00,   0.00000000e+00,\n",
       "        -1.94989631e-01,   0.00000000e+00,  -9.59510452e-02,\n",
       "         0.00000000e+00,   1.16140207e+00,  -1.16135730e-01,\n",
       "        -3.29855451e-01,   8.44164738e-03,  -1.18488642e-01,\n",
       "         6.02432435e-01,   0.00000000e+00,   0.00000000e+00,\n",
       "         0.00000000e+00,  -2.32290616e-01,   0.00000000e+00,\n",
       "        -8.31028959e-02,   0.00000000e+00,   0.00000000e+00,\n",
       "        -7.24892887e-01,   0.00000000e+00,   0.00000000e+00,\n",
       "        -1.56210519e-01,  -3.73656999e-01,   0.00000000e+00,\n",
       "        -1.12212297e+00,  -1.37208131e+00,   2.58694884e-01,\n",
       "        -1.06726619e-01,  -3.05757618e-01,   0.00000000e+00,\n",
       "        -4.25188615e-01,  -1.39960324e+00,   0.00000000e+00,\n",
       "         0.00000000e+00,   0.00000000e+00,  -1.21239766e-01,\n",
       "         0.00000000e+00,   4.99910704e-01,   0.00000000e+00,\n",
       "         0.00000000e+00,   1.52494753e+00,   0.00000000e+00,\n",
       "         0.00000000e+00,   0.00000000e+00,  -5.49063811e-02,\n",
       "        -1.43592073e-01,   0.00000000e+00,   0.00000000e+00,\n",
       "         2.38112718e-01,   0.00000000e+00,  -1.35009756e-01,\n",
       "         0.00000000e+00,   0.00000000e+00,  -1.91062605e-01,\n",
       "         0.00000000e+00,  -1.84297391e-01,  -5.77010323e-02,\n",
       "         0.00000000e+00,   4.38784446e-01,   0.00000000e+00,\n",
       "         0.00000000e+00,   4.60252808e-01,  -8.92979801e-02,\n",
       "        -8.29808238e-02,  -2.91672689e-01,  -1.14709715e-01,\n",
       "         0.00000000e+00,   0.00000000e+00,   0.00000000e+00,\n",
       "         0.00000000e+00,   0.00000000e+00,   0.00000000e+00,\n",
       "         0.00000000e+00,   5.95309261e-01,  -2.85641554e-01,\n",
       "        -1.27605361e-01,   0.00000000e+00,  -1.97555846e-01,\n",
       "         0.00000000e+00,  -1.11672179e+00,  -7.80066824e-01,\n",
       "        -6.95196435e-02,  -8.31178880e-02,   0.00000000e+00,\n",
       "         2.66867890e-01,   0.00000000e+00,   0.00000000e+00,\n",
       "        -8.78732430e-03,   0.00000000e+00,   0.00000000e+00,\n",
       "         0.00000000e+00,   0.00000000e+00,  -6.02230829e-02,\n",
       "         9.75550228e-01,   5.65186096e-01,   4.01710919e-02,\n",
       "        -3.39040116e-01,   0.00000000e+00,   0.00000000e+00,\n",
       "        -8.45352530e-01,   0.00000000e+00,  -7.03671029e-01,\n",
       "        -1.62275896e-01,   0.00000000e+00,  -2.65073518e-01,\n",
       "         0.00000000e+00,  -9.72616090e-01,  -2.86284519e-01,\n",
       "         0.00000000e+00,  -3.94296693e-02,   0.00000000e+00,\n",
       "         0.00000000e+00,  -4.44933545e-03,   0.00000000e+00,\n",
       "         0.00000000e+00,   0.00000000e+00,   0.00000000e+00,\n",
       "        -1.26089170e-01,   6.92212712e-02,  -6.64843981e-01,\n",
       "         0.00000000e+00,  -5.69218313e-01,   0.00000000e+00,\n",
       "         8.49769062e-01,   0.00000000e+00,   5.55184807e-02,\n",
       "         0.00000000e+00,  -1.33169941e-01,   0.00000000e+00,\n",
       "         1.45726729e+00,   1.34629523e+00,   1.09736346e+00,\n",
       "         0.00000000e+00,   0.00000000e+00,  -4.62026546e-02,\n",
       "         0.00000000e+00,  -1.50558222e-02,   0.00000000e+00,\n",
       "         0.00000000e+00,   0.00000000e+00,   0.00000000e+00,\n",
       "         4.33945139e-03,   0.00000000e+00,  -1.01067160e+00,\n",
       "        -6.56938738e-01,   0.00000000e+00,   8.18325284e-01,\n",
       "         0.00000000e+00,  -2.25491572e-01,  -4.74354430e-01,\n",
       "        -6.31419129e-02,  -8.29220251e-02,   0.00000000e+00,\n",
       "        -5.68578247e-01,   2.32631025e+00,  -2.36464465e-01,\n",
       "         0.00000000e+00,   0.00000000e+00,   0.00000000e+00,\n",
       "        -3.03425198e-01,  -4.61244124e-01,   0.00000000e+00,\n",
       "         0.00000000e+00,  -7.86051938e-03,  -2.30211384e-01,\n",
       "        -1.53276831e-01,   0.00000000e+00,  -4.42696063e-01,\n",
       "         0.00000000e+00,   0.00000000e+00,   2.71809851e+00,\n",
       "         0.00000000e+00,   0.00000000e+00,   0.00000000e+00,\n",
       "        -4.85630655e-01,   1.14050016e-01,  -1.13180638e-01,\n",
       "        -1.82551487e-01,   0.00000000e+00,   0.00000000e+00,\n",
       "         1.14126532e-02,   0.00000000e+00,   0.00000000e+00,\n",
       "        -2.04137215e-01,   0.00000000e+00,  -2.57308159e-01,\n",
       "        -1.38942158e-01,   3.70027253e-01,  -9.63373955e-02,\n",
       "         0.00000000e+00,   1.59028619e+00,   1.65510125e+00,\n",
       "        -3.26908522e-01,  -7.40164863e-02,  -3.38581318e-01,\n",
       "        -4.26406765e-02,   3.11518897e-01,   0.00000000e+00,\n",
       "         0.00000000e+00,  -1.13150154e-01,  -7.74029090e-01,\n",
       "         2.11923062e+00,  -1.87880893e-01,   0.00000000e+00,\n",
       "        -9.53808471e-02,   0.00000000e+00,  -4.92181432e-01,\n",
       "         0.00000000e+00,  -1.15592181e-01,   5.75545955e-02,\n",
       "         0.00000000e+00,  -6.36423518e-01,   0.00000000e+00,\n",
       "         5.33756964e-01,   0.00000000e+00,   4.43246524e-01,\n",
       "         2.13856617e-01,   7.52458865e-01,   0.00000000e+00,\n",
       "         0.00000000e+00,   0.00000000e+00,   0.00000000e+00,\n",
       "         1.08788030e+00,  -2.16761189e-01,   0.00000000e+00,\n",
       "         5.94788861e-02,   0.00000000e+00,  -2.99898753e-01,\n",
       "        -1.92602331e-01,   7.08225294e-02,  -1.29435447e-01,\n",
       "         0.00000000e+00,   0.00000000e+00,   0.00000000e+00,\n",
       "         0.00000000e+00,  -4.09645011e-01,   0.00000000e+00,\n",
       "         4.24612342e-02,   0.00000000e+00,  -2.06132464e-02,\n",
       "         2.30131553e-01,   0.00000000e+00,  -2.03330073e-01,\n",
       "        -1.23415102e+00,   1.11301415e+00,   0.00000000e+00,\n",
       "        -1.34087671e+00,   1.13943809e+00,   4.48458332e+00,\n",
       "        -1.07495496e+00,   1.22131513e+00,  -3.88145584e-01,\n",
       "        -1.59622428e+00,  -9.10170870e-01,  -1.76360241e+00,\n",
       "        -2.26747256e+00,   2.31942964e+00,  -1.93215861e-01,\n",
       "         1.99283473e+00,  -1.65081433e+00,   1.80794572e+00,\n",
       "        -1.68287521e+00,   2.39430249e-02])"
      ]
     },
     "execution_count": 1158,
     "metadata": {},
     "output_type": "execute_result"
    }
   ],
   "source": [
    "RidgeReg.coef_"
   ]
  },
  {
   "cell_type": "code",
   "execution_count": 1160,
   "metadata": {
    "collapsed": false
   },
   "outputs": [
    {
     "data": {
      "text/plain": [
       "116.6688888888889"
      ]
     },
     "execution_count": 1160,
     "metadata": {},
     "output_type": "execute_result"
    }
   ],
   "source": [
    "RidgeReg.alpha_"
   ]
  },
  {
   "cell_type": "code",
   "execution_count": 1159,
   "metadata": {
    "collapsed": false
   },
   "outputs": [
    {
     "name": "stdout",
     "output_type": "stream",
     "text": [
      "-------Train-------\n",
      "MSE 971.6110 \n",
      "R2     0.0832 \n",
      "-------Test-------\n",
      "MSE 1307.2449 \n",
      "R2     0.0227 \n"
     ]
    }
   ],
   "source": [
    "print('-------Train-------')\n",
    "print('MSE %0.4f \\nR2     %0.4f ' %(mse(y_train_2, pr_train_RidgeReg), r2_score(y_train_2, pr_train_RidgeReg)))\n",
    "print('-------Test-------')\n",
    "print('MSE %0.4f \\nR2     %0.4f ' %(mse(y_test, pr_test_RidgeReg), r2_score(y_test, pr_test_RidgeReg)))"
   ]
  },
  {
   "cell_type": "markdown",
   "metadata": {},
   "source": [
    "__ВЫВОД:__\n",
    "\n",
    "На тестовой выборке обе модели показали более высокую MSE и существенно более низкий $R^2$, однако на тестовой выборке MSE в обоих случаях улучшилась, при этом $R^2$ стал положительный, хотя и близкий к 0. Можно сделать вывод, что хотя модель и оставется бесполезной, уже нельзя сказать, что она хуже модели с константой (предсказания среднего). При этом и на тренировочной и на тестовой Ridge показывает себя немного лучше. \n",
    "\n",
    "Если посмотреть на веса, то можно увидеть, что Lasso занулила почти коэффициенты почти при всех признаках, кроме нескольких (отобрала признаки), а RidgeReg стянула к 0 все коэффициенты, не давая модели тем самым переобучаться так сильно. \n",
    "\n",
    "------------------"
   ]
  },
  {
   "cell_type": "markdown",
   "metadata": {},
   "source": [
    "### Градиентный спуск\n",
    "\n",
    "В предыдущем разделе мы использовали существующие реализации методов обучения линейной регрессии с регуляризацией и без. Тем не менее, подобные реализации, как правило, имеются лишь для ограниченного набора стандартных методов. В частности, при выходе функционала качества за пределы стандартного множества необходимо самостоятельно реализовывать составляющие процесса решения оптимизационной задачи. Именно этому и посвящен данный раздел задания.\n",
    "\n",
    "Пусть необходимо минимизировать следующий функционал (Mean Square Percentage Error — модифицированный [RMSPE](https://www.kaggle.com/c/rossmann-store-sales/details/evaluation)):\n",
    "$$MSPE(\\{x_i, y_i\\}_{i=1}^l, \\, w) = \\frac{1}{l}\\sum_{i=1}^l \\left( \\frac{y_i - \\langle w, x_i \\rangle }{y_i} \\right)^2,$$\n",
    "\n",
    "где $\\{x_i, y_i\\}_{i=1}^l$ — обучающая выборка, $w$ — вектор весов линейной модели. Будем также рассматривать функционал $MSPE$ с L2-регуляризацией:\n",
    "\n",
    "$$MSPE(\\{x_i, y_i\\}_{i=1}^l, \\, w) = \\frac{1}{l}\\sum_{i=1}^l \\left( \\frac{y_i - \\langle w, x_i \\rangle }{y_i} \\right)^2 + ||w||_2^2.$$\n",
    "\n",
    "**14. (0 баллов)** Добавьте к объектам обеих выборок из п. 11 единичный признак."
   ]
  },
  {
   "cell_type": "code",
   "execution_count": 1316,
   "metadata": {
    "collapsed": false
   },
   "outputs": [],
   "source": [
    "X_train['C'] = 1\n",
    "X_test['C'] = 1"
   ]
  },
  {
   "cell_type": "code",
   "execution_count": 1055,
   "metadata": {
    "collapsed": false
   },
   "outputs": [
    {
     "data": {
      "text/html": [
       "<div>\n",
       "<table border=\"1\" class=\"dataframe\">\n",
       "  <thead>\n",
       "    <tr style=\"text-align: right;\">\n",
       "      <th></th>\n",
       "      <th>DayOfWeek</th>\n",
       "      <th>DayofMonth</th>\n",
       "      <th>Distance</th>\n",
       "      <th>FlightNum</th>\n",
       "      <th>Month</th>\n",
       "      <th>CRSDepTime_Hour</th>\n",
       "      <th>CRSDepTime_Minute</th>\n",
       "      <th>...</th>\n",
       "      <th>UniqueCarrier_OO</th>\n",
       "      <th>UniqueCarrier_UA</th>\n",
       "      <th>UniqueCarrier_US</th>\n",
       "      <th>UniqueCarrier_WN</th>\n",
       "      <th>UniqueCarrier_XE</th>\n",
       "      <th>UniqueCarrier_YV</th>\n",
       "      <th>C</th>\n",
       "    </tr>\n",
       "  </thead>\n",
       "  <tbody>\n",
       "    <tr>\n",
       "      <th>47629</th>\n",
       "      <td>1.541454</td>\n",
       "      <td>-0.310849</td>\n",
       "      <td>1.066264</td>\n",
       "      <td>0.136336</td>\n",
       "      <td>0.174690</td>\n",
       "      <td>-0.651603</td>\n",
       "      <td>-0.655735</td>\n",
       "      <td>...</td>\n",
       "      <td>0</td>\n",
       "      <td>0</td>\n",
       "      <td>0</td>\n",
       "      <td>1</td>\n",
       "      <td>0</td>\n",
       "      <td>0</td>\n",
       "      <td>1</td>\n",
       "    </tr>\n",
       "    <tr>\n",
       "      <th>39632</th>\n",
       "      <td>1.541454</td>\n",
       "      <td>-1.218584</td>\n",
       "      <td>-0.391913</td>\n",
       "      <td>2.143612</td>\n",
       "      <td>1.053604</td>\n",
       "      <td>-0.651603</td>\n",
       "      <td>1.025940</td>\n",
       "      <td>...</td>\n",
       "      <td>0</td>\n",
       "      <td>0</td>\n",
       "      <td>0</td>\n",
       "      <td>0</td>\n",
       "      <td>0</td>\n",
       "      <td>0</td>\n",
       "      <td>1</td>\n",
       "    </tr>\n",
       "    <tr>\n",
       "      <th>46373</th>\n",
       "      <td>0.038288</td>\n",
       "      <td>-0.651249</td>\n",
       "      <td>-0.659598</td>\n",
       "      <td>1.822592</td>\n",
       "      <td>-1.583137</td>\n",
       "      <td>0.646818</td>\n",
       "      <td>-0.375456</td>\n",
       "      <td>...</td>\n",
       "      <td>0</td>\n",
       "      <td>0</td>\n",
       "      <td>0</td>\n",
       "      <td>0</td>\n",
       "      <td>0</td>\n",
       "      <td>0</td>\n",
       "      <td>1</td>\n",
       "    </tr>\n",
       "    <tr>\n",
       "      <th>42942</th>\n",
       "      <td>0.038288</td>\n",
       "      <td>0.710352</td>\n",
       "      <td>2.557903</td>\n",
       "      <td>-1.110249</td>\n",
       "      <td>-0.411252</td>\n",
       "      <td>-0.435199</td>\n",
       "      <td>-0.543623</td>\n",
       "      <td>...</td>\n",
       "      <td>0</td>\n",
       "      <td>0</td>\n",
       "      <td>0</td>\n",
       "      <td>0</td>\n",
       "      <td>0</td>\n",
       "      <td>0</td>\n",
       "      <td>1</td>\n",
       "    </tr>\n",
       "    <tr>\n",
       "      <th>44966</th>\n",
       "      <td>-0.963823</td>\n",
       "      <td>1.618087</td>\n",
       "      <td>0.442841</td>\n",
       "      <td>-0.590453</td>\n",
       "      <td>1.639547</td>\n",
       "      <td>1.079625</td>\n",
       "      <td>-1.440516</td>\n",
       "      <td>...</td>\n",
       "      <td>0</td>\n",
       "      <td>0</td>\n",
       "      <td>0</td>\n",
       "      <td>0</td>\n",
       "      <td>0</td>\n",
       "      <td>0</td>\n",
       "      <td>1</td>\n",
       "    </tr>\n",
       "  </tbody>\n",
       "</table>\n",
       "<p>5 rows × 624 columns</p>\n",
       "</div>"
      ],
      "text/plain": [
       "       DayOfWeek  DayofMonth  Distance  FlightNum     Month  CRSDepTime_Hour  \\\n",
       "47629   1.541454   -0.310849  1.066264   0.136336  0.174690        -0.651603   \n",
       "39632   1.541454   -1.218584 -0.391913   2.143612  1.053604        -0.651603   \n",
       "46373   0.038288   -0.651249 -0.659598   1.822592 -1.583137         0.646818   \n",
       "42942   0.038288    0.710352  2.557903  -1.110249 -0.411252        -0.435199   \n",
       "44966  -0.963823    1.618087  0.442841  -0.590453  1.639547         1.079625   \n",
       "\n",
       "       CRSDepTime_Minute ...  UniqueCarrier_OO  UniqueCarrier_UA  \\\n",
       "47629          -0.655735 ...                 0                 0   \n",
       "39632           1.025940 ...                 0                 0   \n",
       "46373          -0.375456 ...                 0                 0   \n",
       "42942          -0.543623 ...                 0                 0   \n",
       "44966          -1.440516 ...                 0                 0   \n",
       "\n",
       "       UniqueCarrier_US  UniqueCarrier_WN  UniqueCarrier_XE  UniqueCarrier_YV  \\\n",
       "47629                 0                 1                 0                 0   \n",
       "39632                 0                 0                 0                 0   \n",
       "46373                 0                 0                 0                 0   \n",
       "42942                 0                 0                 0                 0   \n",
       "44966                 0                 0                 0                 0   \n",
       "\n",
       "       C  \n",
       "47629  1  \n",
       "39632  1  \n",
       "46373  1  \n",
       "42942  1  \n",
       "44966  1  \n",
       "\n",
       "[5 rows x 624 columns]"
      ]
     },
     "execution_count": 1055,
     "metadata": {},
     "output_type": "execute_result"
    }
   ],
   "source": [
    "X_train.head()"
   ]
  },
  {
   "cell_type": "markdown",
   "metadata": {},
   "source": [
    "**15. (1 балл)** Реализуйте функции, которые вычисляют:\n",
    " * прогнозы линейной модели;\n",
    " * функционал $MSPE$ и его градиент;\n",
    " * регуляризованный $MSPE$ и его градиент."
   ]
  },
  {
   "cell_type": "code",
   "execution_count": 1390,
   "metadata": {
    "collapsed": true
   },
   "outputs": [],
   "source": [
    "# возвращает вектор прогнозов линейной модели с вектором весов w для выборки X\n",
    "def make_pred(X, w):\n",
    "    return np.dot(X,w)"
   ]
  },
  {
   "cell_type": "code",
   "execution_count": 1391,
   "metadata": {
    "collapsed": true
   },
   "outputs": [],
   "source": [
    "# возвращает значение функционала MSPE для выборки (X, y) и вектора весов w\n",
    "def get_func(w, X, y):\n",
    "    Li = (y-make_pred(X, w))/y\n",
    "    return np.dot(Li,Li)/y.shape[0]"
   ]
  },
  {
   "cell_type": "code",
   "execution_count": 1392,
   "metadata": {
    "collapsed": true
   },
   "outputs": [],
   "source": [
    "# возвращает градиент функционала MSPE для выборки (X, y) и вектора весов w\n",
    "def get_grad(w, X, y):\n",
    "    l1 = (y-make_pred(X, w))/y\n",
    "    L = np.dot(X.T, l1/y)\n",
    "    return -2*L/y.shape[0]"
   ]
  },
  {
   "cell_type": "code",
   "execution_count": 1393,
   "metadata": {
    "collapsed": true
   },
   "outputs": [],
   "source": [
    "# возвращает значение регуляризованного функционала MSPE для выборки (X, y) и вектора весов w\n",
    "def get_reg_func(w, X, y):\n",
    "    Li = (y-make_pred(X, w))/y\n",
    "    return np.dot(Li,Li)/y.shape[0]+np.dot(w,w)"
   ]
  },
  {
   "cell_type": "code",
   "execution_count": 1394,
   "metadata": {
    "collapsed": true
   },
   "outputs": [],
   "source": [
    "# возвращает градиент регуляризованного функционала MSPE для выборки (X, y) и вектора весов w\n",
    "def get_reg_grad(w, X, y):\n",
    "    l1 = (y-make_pred(X, w))/y\n",
    "    L = np.dot(X.T, l1/y)\n",
    "    return -2*L/y.shape[0] + 2*w"
   ]
  },
  {
   "cell_type": "markdown",
   "metadata": {},
   "source": [
    "**16. (1 балл)** Реализуйте метод градиентного спуска для описанных функционалов ($MSPE$ и его регуляризованный вариант). Функция должна принимать следующие параметры:\n",
    " - X — матрица \"объект-признак\";\n",
    " - y — вектор целевой переменной;\n",
    " - w0 — начальное значение вектора весов;\n",
    " - step_size — значение темпа обучения;\n",
    " - max_iter — максимальное число итераций;\n",
    " - eps — значение, используемое в критерии останова;\n",
    " - is_reg — бинарный параметр, принимает значение True в случае наличия регуляризации функционала, False — в противном случае.\n",
    " \n",
    "Процесс должен быть остановлен, если выполнено хотя бы одно из следующих условий:\n",
    " - было выполнено заданное количество итераций max_iter;\n",
    " - евклидова норма разности векторов $w$ на соседних итерациях стала меньше, чем eps.\n",
    "\n",
    "Функция должна возвращать полученный в результате оптимизации вектор $w$ и список значений функционала на каждой итерации."
   ]
  },
  {
   "cell_type": "code",
   "execution_count": 1238,
   "metadata": {
    "collapsed": false
   },
   "outputs": [],
   "source": [
    "def grad_descent(X, y, w0, step_size, max_iter=1000, eps=0.0001, is_reg=False):\n",
    "    w_old, w_new = w0, w0\n",
    "    L = [get_reg_func(w_old, X, y)] if is_reg else [get_func(w_old, X, y)]\n",
    "    iteration = 0\n",
    "    while iteration < max_iter and np.linalg.norm(w_old-w_new)>eps if iteration>0 else True:\n",
    "        #print('iter=', iteration, 'L=', L[iteration], 'norm=', np.linalg.norm(w_old-w_new))\n",
    "        w_old = w_new\n",
    "        iteration += 1\n",
    "        if is_reg:\n",
    "            w_new = w_old - step_size*get_reg_grad(w_old, X, y)\n",
    "            L.append(get_reg_func(w_new, X, y))\n",
    "            \n",
    "        else:\n",
    "            w_new = w_old - step_size*get_grad(w_old, X, y)\n",
    "            L.append(get_func(w_new, X, y))\n",
    "    return w_new, L"
   ]
  },
  {
   "cell_type": "markdown",
   "metadata": {},
   "source": [
    "Обучите линейную регрессию с функционалом $MSPE$ на обучающей выборке при помощи метода градиентного спуска и изобразите кривые зависимости значения функционала от номера итерации для различных:\n",
    " * значений размера шага из набора [0.001, 1, 10];\n",
    " * способов начальной инициализации вектора весов (нули, случайные веса).\n",
    "\n",
    "Проанализируйте полученные результаты — влияют ли данные параметры на скорость сходимости и итоговое качество? Если да, то как?"
   ]
  },
  {
   "cell_type": "markdown",
   "metadata": {},
   "source": [
    "Возьмем те же первые 1000 наблюдений для ускорения выполнения алгоритма и посмотрим на сходимость при разных параметрах:"
   ]
  },
  {
   "cell_type": "code",
   "execution_count": 1577,
   "metadata": {
    "collapsed": true
   },
   "outputs": [],
   "source": [
    "X_train_2, y_train_2 = X_train[:1000], y_train[:1000]\n",
    "w0rand = numpy.random.rand(X_train_2.shape[1])"
   ]
  },
  {
   "cell_type": "code",
   "execution_count": 1579,
   "metadata": {
    "collapsed": false
   },
   "outputs": [
    {
     "data": {
      "image/png": "[encoded data removed]",
      "text/plain": [
       "<matplotlib.figure.Figure at 0x169b89cf8>"
      ]
     },
     "metadata": {},
     "output_type": "display_data"
    }
   ],
   "source": [
    "fig = plt.figure(figsize=(25,10))\n",
    "for i, alpha in enumerate([0.001, 1, 1.2, 10, 0.001, 1, 1.2, 10]):   \n",
    "    ax = fig.add_subplot(2, 4, i+1)\n",
    "    if i < 4:\n",
    "        w_opt, Loss = grad_descent(X_train_2, y_train_2, np.zeros(X_train_2.shape[1]), alpha, 1000, 0.0001, False)\n",
    "        Lmin = \"{:.2f}\".format(np.min(Loss)) \n",
    "        ax.set_title('alpha=' + str(alpha) + \" w0 = 0\" + ' min= ' + Lmin)\n",
    "        plt.plot(range(len(Loss)), Loss, c=\"r\")\n",
    "    else: \n",
    "        w_opt, Loss = grad_descent(X_train_2, y_train_2, w0rand , alpha, 1000, 0.0001, False)\n",
    "        Lmin = \"{:.2f}\".format(np.min(Loss)) \n",
    "        ax.set_title('alpha=' + str(alpha) + \" w0 = rand\" + ' min= ' + Lmin)\n",
    "        plt.plot(range(len(Loss)), Loss, c=\"r\")"
   ]
  },
  {
   "cell_type": "markdown",
   "metadata": {},
   "source": [
    "__Вывод:__\n",
    "\n",
    "Параметры, конечно, влияют на сходимость. \n",
    "\n",
    "Рассмотрим случай, когда веса инициализируются нулями (верхние графики), в этом случае при маленьких значениях альфа (0.001) алгоритм сходится очень медленно, для больших значений альфа (10) алгоритм моментально расходится (если посмотреть на значения функционала потерь, то он из единицы начинает сразу расти в бесконечность), то есть оптимальный параметр скорости обучения альфа где-то в окрестности 1.5-2.   \n",
    "\n",
    "Рассмотрим случай, когда веса инициализируются случайными величинами, взятыми из равномерного на [0,1] распределения (нижние графики). Поведение алгоритма при различных параметрах альфа такое же, как и в первом случае. Однако стоит отметить, что такая инициализация изменяет схождение алгоритма. Для альфа около 1 алгоритм также сходится примерно к тому же значению функционала потерь к 1000-ой итерации (что и с нулевыми весами), хотя и начинает с большего значения. Для меньших альфа схождение существенно хуже, так как скорость сильно меньше и он не успевает сходиться к тому же уровню, что и алгоритм с нулевыми начальными весами. При больших альфа алгоритм также расходится. "
   ]
  },
  {
   "cell_type": "markdown",
   "metadata": {},
   "source": [
    "**17. (0.5 балла)** Обучите линейную регрессию с функционалом MSPE и его регуляризованным вариантом на обучающей выборке при помощи метода градиентного спуска и изобразите кривые зависимости значения функционала от номера итерации. Исследуйте зависимость скорости сходимости от наличия регуляризации. Обоснуйте, почему так происходит."
   ]
  },
  {
   "cell_type": "code",
   "execution_count": 1580,
   "metadata": {
    "collapsed": false
   },
   "outputs": [
    {
     "data": {
      "image/png": "[encoded data removed]",
      "text/plain": [
       "<matplotlib.figure.Figure at 0x1578496d8>"
      ]
     },
     "metadata": {},
     "output_type": "display_data"
    }
   ],
   "source": [
    "fig = plt.figure(figsize=(25,10))\n",
    "for i, alpha in enumerate([0.001, 0.01, 1, 2, 0.001, 0.01, 1, 2]):   \n",
    "    ax = fig.add_subplot(2, 4, i+1)\n",
    "    if i < 4:\n",
    "        w_opt, Loss = grad_descent(X_train_2, y_train_2, np.zeros(X_train_2.shape[1]), alpha, 1000, 0.0001, False)\n",
    "        Lmin = \"{:.2f}\".format(np.min(Loss)) \n",
    "        ax.set_title('alpha=' + str(alpha) + \" no Reg\" + ' min= ' + Lmin)\n",
    "        plt.plot(range(len(Loss)), Loss, c=\"r\")\n",
    "    else: \n",
    "        w_opt, Loss = grad_descent(X_train_2, y_train_2, np.zeros(X_train_2.shape[1]) , alpha, 1000, 0.0001, True)\n",
    "        Lmin = \"{:.2f}\".format(np.min(Loss)) \n",
    "        ax.set_title('alpha=' + str(alpha) + \" L2 Reg\" + ' min= ' + Lmin)\n",
    "        plt.plot(range(len(Loss)), Loss, c=\"r\")"
   ]
  },
  {
   "cell_type": "markdown",
   "metadata": {},
   "source": [
    "__Вывод:__\n",
    "\n",
    "Наличие ргуляизации сильно влияет на сходимость. \n",
    "\n",
    "Во-первых, чтобы сойтись алгоритму с регуляризацией нужны меньшие значения альфа, иначе алгоритм быстро расходится.\n",
    "Во-вторых, при одинаковых альфа, таких что оба алгоритма сходятся, алгоритм c регуляризацией сходится быстрее: при критерии останова = 0.0001 алгоритм с регуляризацией сходится за 130-340 интераций (в зависимости от выбора альфа), в то время, как алгоритм с регуляризацией еще до конца не сходится к 1000 шагу (но видно, что и не расходится). \n",
    "\n",
    "Возможно, регуляризация ограничнивает разброс значений коэффициентов, что ускоряет сходимость алгоритма\n",
    "\n",
    "---------------------------"
   ]
  },
  {
   "cell_type": "markdown",
   "metadata": {},
   "source": [
    "Метод градиентного спуска может быть весьма трудозатратен в случае большого размера обучающей выборки. Поэтому часто используют метод стохастического градиентного спуска, где на каждой итерации выбирается случайный объект из обучающей выборки и обновление весов происходит только по этому объекту. \n",
    "\n",
    "**18*. (1 бонусный балл)**  Реализуйте метод стохастического градиентного спуска (SGD) для описанных функционалов ($MSPE$ и его регуляризованный вариант). Функция должна иметь параметры и возвращаемое значение, аналогичные оным функции grad\\_descent из п.21. Кроме того, должен использоваться аналогичный критерий останова."
   ]
  },
  {
   "cell_type": "code",
   "execution_count": 1496,
   "metadata": {
    "collapsed": true
   },
   "outputs": [],
   "source": [
    "def sgd(X, y, w0, step_size, max_iter=1000, eps=0.0001, is_reg=False):\n",
    "    w_old, w_new = w0, w0\n",
    "    X0 = X.iloc[0].reshape(1, -1)\n",
    "    y0 = np.asarray(y.iloc[0]).reshape(1, -1)[0,:] \n",
    "    L = [get_reg_func(w_old, X0, y0)] if is_reg else [get_func(w_old, X0, y0)]\n",
    "    iteration = 0\n",
    "    while iteration < max_iter and np.linalg.norm(w_old-w_new)>eps if iteration>0 else True:\n",
    "        #print('iter=', iteration, 'L=', L[iteration], 'norm=', np.linalg.norm(w_old-w_new))\n",
    "        ind = numpy.random.randint(0, high=X.shape[0], size=1)[0]\n",
    "        X1 = X.iloc[ind].reshape(1, -1)\n",
    "        y1 = np.asarray(y.iloc[ind]).reshape(1, -1)[0,:] \n",
    "        w_old = w_new\n",
    "        iteration += 1\n",
    "        if is_reg:\n",
    "            w_new = w_old - step_size*get_reg_grad(w_old, X1, y1)\n",
    "            L.append(get_reg_func(w_new, X1, y1))\n",
    "            \n",
    "        else:\n",
    "            w_new = w_old - step_size*get_grad(w_old, X1, y1)\n",
    "            L.append(get_func(w_new, X1, y1))\n",
    "    return w_new, L"
   ]
  },
  {
   "cell_type": "markdown",
   "metadata": {},
   "source": [
    "Обучите линейную регрессию с функционалом $MSPE$ и его регуляризованным вариантом на обучающей выборке при помощи метода стохастического градиентного спуска, подобрав при этом размер шага, при котором метод будет сходиться. Нарисуйте график сходимости."
   ]
  },
  {
   "cell_type": "code",
   "execution_count": 1674,
   "metadata": {
    "collapsed": true
   },
   "outputs": [],
   "source": [
    "w0rand = numpy.random.rand(X_train.shape[1])"
   ]
  },
  {
   "cell_type": "markdown",
   "metadata": {},
   "source": [
    "__Алгоритм с регуляризацией__"
   ]
  },
  {
   "cell_type": "code",
   "execution_count": 1684,
   "metadata": {
    "collapsed": false
   },
   "outputs": [],
   "source": [
    "w_opt_r, Loss_r = sgd(X_train, y_train, w0rand , 0.0003, 20000, 0.0001, True)"
   ]
  },
  {
   "cell_type": "code",
   "execution_count": 1688,
   "metadata": {
    "collapsed": false
   },
   "outputs": [
    {
     "data": {
      "text/plain": [
       "<matplotlib.text.Text at 0x172048be0>"
      ]
     },
     "execution_count": 1688,
     "metadata": {},
     "output_type": "execute_result"
    },
    {
     "data": {
      "image/png": "[encoded data removed]",
      "text/plain": [
       "<matplotlib.figure.Figure at 0x170878898>"
      ]
     },
     "metadata": {},
     "output_type": "display_data"
    }
   ],
   "source": [
    "plt.plot(range(len(Loss_r)), Loss_r, c=\"r\")\n",
    "Lmin = \"{:.2f}\".format(Loss_r[-1]) \n",
    "plt.title('alpha= 0.0003,'+ \" L2 Reg,\" + ' min= ' + Lmin)"
   ]
  },
  {
   "cell_type": "markdown",
   "metadata": {},
   "source": [
    "__Алгоритм без регуляризации__"
   ]
  },
  {
   "cell_type": "code",
   "execution_count": 1758,
   "metadata": {
    "collapsed": false
   },
   "outputs": [],
   "source": [
    "w_opt, Loss = sgd(X_train, y_train, w0rand , 0.008, 20000, 0.0001, False)"
   ]
  },
  {
   "cell_type": "code",
   "execution_count": 1759,
   "metadata": {
    "collapsed": false
   },
   "outputs": [
    {
     "data": {
      "text/plain": [
       "<matplotlib.text.Text at 0x1757d8828>"
      ]
     },
     "execution_count": 1759,
     "metadata": {},
     "output_type": "execute_result"
    },
    {
     "data": {
      "image/png": "[encoded data removed]",
      "text/plain": [
       "<matplotlib.figure.Figure at 0x175533710>"
      ]
     },
     "metadata": {},
     "output_type": "display_data"
    }
   ],
   "source": [
    "plt.plot(range(len(Loss)), Loss, c=\"r\")\n",
    "Lmin = \"{:.2f}\".format(Loss[-1]) \n",
    "plt.title('alpha= 0.0003,'+ \" no Reg,\" + ' min= ' + Lmin)"
   ]
  },
  {
   "cell_type": "markdown",
   "metadata": {},
   "source": [
    "Выведите значения $MSPE, MSE, R^2$ на контрольной выборке."
   ]
  },
  {
   "cell_type": "code",
   "execution_count": 1761,
   "metadata": {
    "collapsed": true
   },
   "outputs": [],
   "source": [
    "pred_sgd_noReg = make_pred(X_test, w_opt)\n",
    "pred_sgd_L2Reg = make_pred(X_test, w_opt_r)"
   ]
  },
  {
   "cell_type": "code",
   "execution_count": 1776,
   "metadata": {
    "collapsed": false
   },
   "outputs": [
    {
     "name": "stdout",
     "output_type": "stream",
     "text": [
      "-------No Regularization-------\n",
      "MSPE 0.9859 \n",
      "MSE 1461.6479 \n",
      "R2  -0.0927 \n",
      "\n",
      "-------L2 Regularization-------\n",
      "MSPE 1.0038 \n",
      "MSE 1455.2100 \n",
      "R2  -0.0879 \n"
     ]
    }
   ],
   "source": [
    "print('-------No Regularization-------')\n",
    "print('MSPE %0.4f \\nMSE %0.4f \\nR2  %0.4f ' %(get_func(w_opt, X_test, y_test), mse(y_test, pred_sgd_noReg),\n",
    "                                                 r2_score(y_test, pred_sgd_noReg)))\n",
    "print('\\n-------L2 Regularization-------')\n",
    "print('MSPE %0.4f \\nMSE %0.4f \\nR2  %0.4f ' %(get_reg_func(w_opt_r, X_test, y_test), mse(y_test, pred_sgd_L2Reg), \n",
    "                                                 r2_score(y_test, pred_sgd_L2Reg)))"
   ]
  },
  {
   "cell_type": "markdown",
   "metadata": {},
   "source": [
    "**19*. (0.5 бонусного балла)** Аналогично п.17 исследуйте зависимость скорости сходимости метода SGD от наличия регуляризации. Обоснуйте, почему так происходит."
   ]
  },
  {
   "cell_type": "code",
   "execution_count": 1768,
   "metadata": {
    "collapsed": false
   },
   "outputs": [
    {
     "data": {
      "image/png": "[encoded data removed]",
      "text/plain": [
       "<matplotlib.figure.Figure at 0x175533f28>"
      ]
     },
     "metadata": {},
     "output_type": "display_data"
    }
   ],
   "source": [
    "fig = plt.figure(figsize=(25,10))\n",
    "for i, alpha in enumerate([0.0003, 0.008, 0.01, 0.0001, 0.0003, 0.008, 0.01, 0.0001]):   \n",
    "    ax = fig.add_subplot(2, 4, i+1)\n",
    "    if i < 4:\n",
    "        w_opt, Loss = sgd(X_train, y_train, w0rand, alpha, 20000, 0.0001, False)\n",
    "        ax.set_title('alpha=' + str(alpha) + \" no Reg\")\n",
    "        plt.plot(range(len(Loss)), Loss, c=\"r\")\n",
    "    else: \n",
    "        w_opt, Loss = sgd(X_train, y_train, w0rand , alpha, 20000, 0.0001, True)\n",
    "        ax.set_title('alpha=' + str(alpha) + \" L2 Reg\")\n",
    "        plt.plot(range(len(Loss)), Loss, c=\"r\")"
   ]
  },
  {
   "cell_type": "markdown",
   "metadata": {},
   "source": [
    "__Вывод:__\n",
    "    \n",
    "Как и в случае выше, мы видим, что регуляризация (нижний ряд) улучшает сходимость. Алгоритм без регуляризации ведет себя нестабильно и расходится при многих значениях альфа, чего не происходит с алгоритмом с резуляризацией.  \n",
    "\n",
    "Как уже было сказано выше, возможно, регуляризация позволяет снижать колебания весов, тем самым алгоритм становится боле устойчивым в смысле сходимости. "
   ]
  },
  {
   "cell_type": "markdown",
   "metadata": {},
   "source": [
    "**20. (0.5 балла)** Обучите стандартную линейную регрессию с функционалом качества MSE на обучающей выборке и выведите значение MSPE полученного решения на контрольной выборке. Как оно соотносится с аналогичным результатом для решения, полученного в п.17? Почему?"
   ]
  },
  {
   "cell_type": "code",
   "execution_count": 1775,
   "metadata": {
    "collapsed": true
   },
   "outputs": [],
   "source": [
    "LinReg_fin = LinearRegression()\n",
    "LinReg_fin.fit(X_train, y_train)\n",
    "w_linReg = LinReg_fin.coef_\n",
    "pred_linReg = LinReg_fin.predict(X_test)"
   ]
  },
  {
   "cell_type": "code",
   "execution_count": 1771,
   "metadata": {
    "collapsed": false
   },
   "outputs": [
    {
     "data": {
      "text/plain": [
       "(624,)"
      ]
     },
     "execution_count": 1771,
     "metadata": {},
     "output_type": "execute_result"
    }
   ],
   "source": [
    "w_linReg.shape"
   ]
  },
  {
   "cell_type": "code",
   "execution_count": 1777,
   "metadata": {
    "collapsed": false
   },
   "outputs": [
    {
     "name": "stdout",
     "output_type": "stream",
     "text": [
      "MSPE 46623002476017589682176.0000 \n",
      "R2  -113579502904386704.0000\n"
     ]
    }
   ],
   "source": [
    "print('MSPE %0.4f \\nR2  %0.4f' % (get_func(w_linReg, X_test, y_test), r2_score(y_test, pred_linReg)))"
   ]
  },
  {
   "cell_type": "markdown",
   "metadata": {},
   "source": [
    "В задании просят сравнить результаты модели, обученной на полной тренировочной, а это было сделано в пункте __18__."
   ]
  },
  {
   "cell_type": "markdown",
   "metadata": {},
   "source": [
    "Результаты, полученные при обучении регрессии с функционалом $MSPE$ и его регуляризованным вариантом на полной обучающей выборке при помощи метода стохастического градиентного спуска (пункт 18):"
   ]
  },
  {
   "cell_type": "code",
   "execution_count": 1778,
   "metadata": {
    "collapsed": false
   },
   "outputs": [
    {
     "name": "stdout",
     "output_type": "stream",
     "text": [
      "-------No Regularization-------\n",
      "MSPE 0.9859 \n",
      "MSE 1461.6479 \n",
      "R2  -0.0927 \n",
      "\n",
      "-------L2 Regularization-------\n",
      "MSPE 1.0038 \n",
      "MSE 1455.2100 \n",
      "R2  -0.0879 \n"
     ]
    }
   ],
   "source": [
    "print('-------No Regularization-------')\n",
    "print('MSPE %0.4f \\nMSE %0.4f \\nR2  %0.4f ' %(get_func(w_opt, X_test, y_test), mse(y_test, pred_sgd_noReg),\n",
    "                                                 r2_score(y_test, pred_sgd_noReg)))\n",
    "print('\\n-------L2 Regularization-------')\n",
    "print('MSPE %0.4f \\nMSE %0.4f \\nR2  %0.4f ' %(get_reg_func(w_opt_r, X_test, y_test), mse(y_test, pred_sgd_L2Reg), \n",
    "                                                 r2_score(y_test, pred_sgd_L2Reg)))"
   ]
  },
  {
   "cell_type": "markdown",
   "metadata": {},
   "source": [
    "Результаты простой линейной регрессии, обученной по полной обучающей выборке с функционалом $MSE$ и подсчитаным для нее $MSPE$ (пункт 20):"
   ]
  },
  {
   "cell_type": "code",
   "execution_count": 1779,
   "metadata": {
    "collapsed": false
   },
   "outputs": [
    {
     "name": "stdout",
     "output_type": "stream",
     "text": [
      "MSPE 46623002476017589682176.0000 \n",
      "MSE 151931775920007806976.0000 \n",
      "R2  -113579502904386704.0000\n"
     ]
    }
   ],
   "source": [
    "print('MSPE %0.4f \\nMSE %0.4f \\nR2  %0.4f' % (get_func(w_linReg, X_test, y_test), mse(y_test, pred_linReg), \n",
    "                                              r2_score(y_test, pred_linReg)))"
   ]
  },
  {
   "cell_type": "markdown",
   "metadata": {},
   "source": [
    "__Вывод:__\n",
    "\n",
    "Как мы уже видели ранее, простая линейная регрессия с функционалом $MSE$ характеризуется проблемой переобучения, то есть показывает очень плохой результат на тестовой выборке, хуже чем модель с константой. \n",
    "\n",
    "Если же сравнить её результаты с результатами регрессии с функционалом $MSPE$, то можно увидеть, что и $MSE$ и $MSPE$ на тестовой выборке для модели, обученной градиентным спуском с функционалом $MSPE$ в тысячи раз меньше, чем у обычной регрессии. При этом $R^2$ хоть и отрицательный, но он очень близок к 0, тогда как в обычной регрессии (с функционалом $MSE$) он сильно отрицательный. \n",
    "\n",
    "Если посмотреть на получившиеся коэффициенты в двух моделях (ниже), то можно заметить, что в регрессии с функционалом $MSE$ явно наблюдается симптом переобучения - экстремальные коэффициенты, в то время как в регрессии с функционалом $MSPE$ коэффициенты стянуты к 0 (даже без регуляризации), можно предположить, что функционал $MSPE$ помогает бороться с переобучением в данном случае. "
   ]
  },
  {
   "cell_type": "markdown",
   "metadata": {},
   "source": [
    "Коэффициенты в регрессии с функционалом $MSE$:"
   ]
  },
  {
   "cell_type": "code",
   "execution_count": 1780,
   "metadata": {
    "collapsed": false
   },
   "outputs": [
    {
     "data": {
      "text/plain": [
       "array([  3.42854184e-01,   2.02235049e-01,   5.62912377e-01,\n",
       "         1.08109055e+00,  -1.06756489e+00,   3.66834140e+00,\n",
       "         5.02838942e-01,   2.09204785e+00,   1.60698039e-01,\n",
       "        -6.07349247e+10,  -6.07349247e+10,  -6.07349247e+10,\n",
       "        -6.07349247e+10,   1.61501067e+12,  -6.07349247e+10,\n",
       "        -6.07349247e+10,  -6.07349247e+10,  -6.07349247e+10,\n",
       "        -6.07349247e+10,  -6.07349247e+10,  -6.07349247e+10,\n",
       "        -6.07349247e+10,  -6.07349247e+10,  -6.07349247e+10,\n",
       "        -6.07349247e+10,  -6.07349247e+10,  -6.07349247e+10,\n",
       "        -6.07349247e+10,  -6.07349247e+10,  -6.07349247e+10,\n",
       "        -6.07349247e+10,  -6.07349247e+10,  -6.07349247e+10,\n",
       "        -6.07349246e+10,  -6.07349247e+10,  -6.07349247e+10,\n",
       "        -6.07349247e+10,  -6.07349247e+10,  -6.07349247e+10,\n",
       "        -6.07349247e+10,  -6.07349247e+10,  -6.07349247e+10,\n",
       "        -6.07349247e+10,  -6.07349247e+10,  -6.07349247e+10,\n",
       "        -6.07349247e+10,  -6.07349247e+10,  -6.07349247e+10,\n",
       "        -6.07349247e+10,  -6.07349247e+10,  -6.07349247e+10,\n",
       "        -6.07349247e+10,  -6.07349247e+10,  -6.07349247e+10,\n",
       "        -6.07349247e+10,  -6.07349247e+10,  -6.07349247e+10,\n",
       "        -6.07349247e+10,  -6.07349247e+10,  -6.07349247e+10,\n",
       "        -6.07349247e+10,  -6.07349247e+10,  -6.07349247e+10,\n",
       "        -6.07349247e+10,  -6.07349246e+10,  -6.07349247e+10,\n",
       "        -6.07349247e+10,  -6.07349247e+10,  -6.07349247e+10,\n",
       "        -6.07349247e+10,  -6.07349247e+10,  -6.07349247e+10,\n",
       "        -6.07349247e+10,  -6.07349247e+10,  -6.07349247e+10,\n",
       "        -6.07349247e+10,  -6.07349247e+10,  -6.07349247e+10,\n",
       "        -6.07349247e+10,  -6.07349247e+10,  -6.07349247e+10,\n",
       "        -6.07349247e+10,  -6.07349247e+10,  -6.07349247e+10,\n",
       "        -6.07349247e+10,  -6.07349247e+10,  -6.07349247e+10,\n",
       "        -6.07349247e+10,  -6.07349247e+10,  -6.07349247e+10,\n",
       "        -6.07349247e+10,   9.32331234e+09,  -6.07349247e+10,\n",
       "        -6.07349247e+10,  -6.07349247e+10,  -6.07349247e+10,\n",
       "        -6.07349247e+10,  -6.07349247e+10,  -6.07349247e+10,\n",
       "        -6.07349247e+10,  -6.07349247e+10,  -6.07349247e+10,\n",
       "        -6.07349247e+10,  -6.07349247e+10,  -6.07349246e+10,\n",
       "        -6.07349247e+10,  -6.07349247e+10,  -6.07349247e+10,\n",
       "        -6.07349247e+10,  -6.07349246e+10,  -6.07349247e+10,\n",
       "        -6.07349247e+10,  -6.07349247e+10,  -6.07349247e+10,\n",
       "        -6.07349247e+10,  -6.07349247e+10,  -6.07349247e+10,\n",
       "        -6.07349247e+10,  -6.07349247e+10,  -6.07349247e+10,\n",
       "        -6.07349247e+10,  -6.07349246e+10,  -6.07349247e+10,\n",
       "        -6.07349247e+10,  -6.07349247e+10,  -6.07349247e+10,\n",
       "        -6.07349247e+10,  -6.07349247e+10,  -6.07349247e+10,\n",
       "        -6.07349247e+10,   2.61479800e+10,  -6.07349246e+10,\n",
       "        -6.07349247e+10,  -6.07349246e+10,  -6.07349247e+10,\n",
       "         1.26732616e+10,  -6.07349247e+10,  -6.07349247e+10,\n",
       "        -6.07349247e+10,  -6.07349247e+10,  -6.07349247e+10,\n",
       "        -6.07349247e+10,  -6.07349247e+10,  -6.07349247e+10,\n",
       "        -6.07349247e+10,  -6.07349247e+10,  -6.07349247e+10,\n",
       "        -6.07349247e+10,  -6.07349247e+10,   3.02717239e+10,\n",
       "        -6.07349247e+10,  -6.07349247e+10,  -6.07349247e+10,\n",
       "        -6.07349247e+10,  -6.07349247e+10,  -6.07349247e+10,\n",
       "        -6.07349247e+10,  -6.07349247e+10,  -6.07349247e+10,\n",
       "        -6.07349246e+10,  -6.07349247e+10,  -6.07349246e+10,\n",
       "        -6.07349247e+10,  -6.07349247e+10,  -6.07349246e+10,\n",
       "        -6.07349247e+10,  -6.07349247e+10,  -6.07349246e+10,\n",
       "        -6.07349247e+10,  -6.07349247e+10,  -6.07349247e+10,\n",
       "        -6.07349247e+10,  -6.07349247e+10,  -6.07349247e+10,\n",
       "        -6.07349246e+10,  -6.07349247e+10,  -6.07349247e+10,\n",
       "        -6.07349247e+10,  -6.07349247e+10,  -6.07349247e+10,\n",
       "        -6.07349247e+10,  -6.07349247e+10,  -6.07349247e+10,\n",
       "        -6.07349247e+10,  -6.07349246e+10,  -6.07349247e+10,\n",
       "        -6.07349247e+10,  -6.07349247e+10,  -6.07349247e+10,\n",
       "        -6.07349247e+10,  -6.07349247e+10,  -6.07349247e+10,\n",
       "        -6.07349247e+10,  -6.07349247e+10,  -6.07349247e+10,\n",
       "        -6.07349247e+10,  -6.07349247e+10,  -6.07349247e+10,\n",
       "        -6.07349247e+10,  -6.07349247e+10,  -6.07349247e+10,\n",
       "        -6.07349247e+10,  -6.07349247e+10,  -6.07349246e+10,\n",
       "        -6.07349247e+10,  -6.07349247e+10,  -6.07349247e+10,\n",
       "        -6.07349247e+10,  -6.07349247e+10,  -6.07349247e+10,\n",
       "        -6.07349247e+10,  -6.07349247e+10,  -6.07349247e+10,\n",
       "        -6.07349247e+10,  -6.07349247e+10,  -6.07349247e+10,\n",
       "        -6.07349247e+10,  -6.07349247e+10,  -6.07349247e+10,\n",
       "        -6.07349247e+10,  -6.07349247e+10,  -6.07349247e+10,\n",
       "        -6.07349247e+10,  -6.07349247e+10,  -6.07349247e+10,\n",
       "        -6.07349246e+10,  -6.07349247e+10,  -6.07349247e+10,\n",
       "        -6.07349247e+10,  -6.07349247e+10,  -6.07349247e+10,\n",
       "        -6.07349247e+10,  -6.07349247e+10,  -6.07349247e+10,\n",
       "        -6.07349247e+10,  -6.07349247e+10,  -6.07349247e+10,\n",
       "        -6.07349246e+10,  -6.07349247e+10,  -6.07349247e+10,\n",
       "        -6.07349247e+10,  -6.07349247e+10,  -6.07349247e+10,\n",
       "        -6.07349247e+10,  -6.07349247e+10,  -5.30157003e+09,\n",
       "        -6.07349247e+10,  -6.07349247e+10,  -6.07349247e+10,\n",
       "        -6.07349247e+10,  -6.07349247e+10,  -6.07349247e+10,\n",
       "        -6.07349247e+10,  -6.07349247e+10,  -6.07349247e+10,\n",
       "        -6.07349247e+10,  -6.07349247e+10,  -6.07349247e+10,\n",
       "        -6.07349247e+10,  -6.07349247e+10,  -6.07349247e+10,\n",
       "        -6.07349247e+10,  -6.07349247e+10,  -6.07349247e+10,\n",
       "        -6.07349247e+10,  -6.07349247e+10,  -6.07349247e+10,\n",
       "        -6.07349247e+10,  -6.07349247e+10,  -6.07349247e+10,\n",
       "        -6.07349247e+10,  -6.07349247e+10,  -6.07349247e+10,\n",
       "        -6.07349247e+10,  -6.07349247e+10,  -6.07349247e+10,\n",
       "        -6.07349247e+10,  -6.07349247e+10,  -6.07349247e+10,\n",
       "        -6.07349247e+10,  -6.07349247e+10,  -6.07349247e+10,\n",
       "        -6.07349247e+10,  -6.07349247e+10,  -6.07349247e+10,\n",
       "         2.78008129e+10,  -6.07349247e+10,  -6.07349247e+10,\n",
       "        -6.07349247e+10,  -6.07349247e+10,  -6.07349247e+10,\n",
       "        -6.07349247e+10,  -6.07349247e+10,  -6.07349247e+10,\n",
       "        -6.07349247e+10,  -6.07349247e+10,  -6.07349247e+10,\n",
       "        -6.07349247e+10,  -6.07349247e+10,  -6.07349247e+10,\n",
       "        -6.07349247e+10,  -6.07349246e+10,  -6.07349247e+10,\n",
       "        -6.07349247e+10,  -6.07349247e+10,  -6.07349247e+10,\n",
       "        -6.07349247e+10,   1.94273758e+11,   1.94273758e+11,\n",
       "         1.94273758e+11,   1.94273758e+11,   1.94273758e+11,\n",
       "         1.94273758e+11,   1.94273758e+11,   1.94273758e+11,\n",
       "         1.94273758e+11,   1.94273758e+11,   1.94273758e+11,\n",
       "         1.94273758e+11,   1.81108263e+10,   1.94273758e+11,\n",
       "         1.94273758e+11,   1.94273758e+11,   1.94273758e+11,\n",
       "         1.94273758e+11,   1.94273758e+11,   1.94273758e+11,\n",
       "         1.94273758e+11,   1.94273758e+11,   1.94273758e+11,\n",
       "         1.94273758e+11,   1.94273758e+11,   1.94273758e+11,\n",
       "         1.94273758e+11,   1.94273758e+11,   1.94273758e+11,\n",
       "         1.94273758e+11,   1.94273758e+11,   1.94273758e+11,\n",
       "         1.94273758e+11,   1.94273758e+11,   1.94273758e+11,\n",
       "         1.94273758e+11,   1.94273758e+11,   1.94273758e+11,\n",
       "         1.94273758e+11,   1.94273758e+11,   1.94273758e+11,\n",
       "         1.94273758e+11,   1.94273758e+11,   1.94273758e+11,\n",
       "         1.94273758e+11,   1.94273758e+11,   1.94273758e+11,\n",
       "         1.94273758e+11,   1.94273758e+11,   1.94273758e+11,\n",
       "         1.94273758e+11,   1.94273758e+11,   1.94273758e+11,\n",
       "         1.94273758e+11,   1.94273758e+11,   1.94273758e+11,\n",
       "         1.94273758e+11,   1.94273758e+11,   1.94273758e+11,\n",
       "         1.94273758e+11,   1.94273758e+11,   1.94273758e+11,\n",
       "         1.94273758e+11,   1.94273758e+11,   1.94273758e+11,\n",
       "         1.94273758e+11,   1.94273758e+11,   1.94273758e+11,\n",
       "         1.94273758e+11,   1.94273758e+11,   1.94273758e+11,\n",
       "         1.94273758e+11,   1.94273758e+11,   1.94273758e+11,\n",
       "         1.94273758e+11,   1.94273758e+11,   1.94273758e+11,\n",
       "         1.94273758e+11,   1.94273758e+11,   1.94273758e+11,\n",
       "         1.94273758e+11,   1.94273758e+11,   1.94273758e+11,\n",
       "         1.94273758e+11,   1.94273758e+11,   1.94273758e+11,\n",
       "         1.94273758e+11,   1.94273758e+11,   1.94273758e+11,\n",
       "         1.94273758e+11,   1.94273758e+11,   1.94273758e+11,\n",
       "         1.94273758e+11,   1.94273758e+11,   1.94273758e+11,\n",
       "         1.94273758e+11,   1.94273758e+11,   1.94273758e+11,\n",
       "         1.94273758e+11,   1.94273758e+11,   1.94273758e+11,\n",
       "         1.94273758e+11,   1.94273758e+11,   1.94273758e+11,\n",
       "         1.94273758e+11,   1.94273758e+11,   1.94273758e+11,\n",
       "         1.94273758e+11,   1.94273758e+11,   1.94273758e+11,\n",
       "         1.94273758e+11,   1.94273758e+11,   1.94273758e+11,\n",
       "         1.94273758e+11,   1.94273758e+11,   1.94273758e+11,\n",
       "         1.94273758e+11,   1.94273758e+11,   1.94273758e+11,\n",
       "         1.94273758e+11,   1.94273758e+11,   1.94273758e+11,\n",
       "         1.94273758e+11,   1.94273758e+11,   1.94273758e+11,\n",
       "         1.94273758e+11,   1.94273758e+11,   1.94273758e+11,\n",
       "         1.94273758e+11,   1.94273758e+11,   1.94273758e+11,\n",
       "         1.94273758e+11,   1.94273758e+11,   1.94273758e+11,\n",
       "         1.94273758e+11,   1.94273758e+11,   1.94273758e+11,\n",
       "         1.94273758e+11,   1.94273758e+11,   1.94273758e+11,\n",
       "         1.94273758e+11,   1.94273758e+11,   1.94273758e+11,\n",
       "         1.94273758e+11,   1.94273758e+11,   1.94273758e+11,\n",
       "         1.94273758e+11,   1.94273758e+11,   1.94273758e+11,\n",
       "         1.94273758e+11,   1.94273758e+11,   1.94273758e+11,\n",
       "         1.94273758e+11,   1.94273758e+11,   1.94273758e+11,\n",
       "         1.94273758e+11,   1.94273758e+11,   1.94273758e+11,\n",
       "         1.94273758e+11,   1.94273758e+11,   1.94273758e+11,\n",
       "         1.94273758e+11,   1.94273758e+11,   1.94273758e+11,\n",
       "         1.94273758e+11,   1.94273758e+11,   1.94273758e+11,\n",
       "         1.94273758e+11,   1.94273758e+11,   1.94273758e+11,\n",
       "         1.94273758e+11,   1.94273758e+11,   1.94273758e+11,\n",
       "         1.94273758e+11,   1.94273758e+11,   1.94273758e+11,\n",
       "         1.94273758e+11,   1.94273758e+11,   1.94273758e+11,\n",
       "         1.94273758e+11,   1.94273758e+11,   1.94273758e+11,\n",
       "         1.94273758e+11,   1.94273758e+11,   1.94273758e+11,\n",
       "         1.94273758e+11,   1.94273758e+11,   1.94273758e+11,\n",
       "         1.94273758e+11,   1.94273758e+11,   1.94273758e+11,\n",
       "         1.94273758e+11,   1.94273758e+11,   1.94273758e+11,\n",
       "         1.94273758e+11,   1.94273758e+11,   1.94273758e+11,\n",
       "         1.94273758e+11,   1.94273758e+11,   1.94273758e+11,\n",
       "         1.94273758e+11,   1.94273758e+11,   1.94273758e+11,\n",
       "         1.94273758e+11,   1.94273758e+11,   1.94273758e+11,\n",
       "         1.94273758e+11,   1.94273758e+11,   1.94273758e+11,\n",
       "         1.94273758e+11,   1.94273758e+11,   1.94273758e+11,\n",
       "         1.94273758e+11,   1.94273758e+11,   1.94273758e+11,\n",
       "         1.94273758e+11,   1.94273758e+11,   1.94273758e+11,\n",
       "         1.94273758e+11,   1.94273758e+11,   1.94273758e+11,\n",
       "         1.94273758e+11,   1.94273758e+11,   1.94273758e+11,\n",
       "         1.94273758e+11,   1.94273758e+11,   1.94273758e+11,\n",
       "         1.94273758e+11,   1.94273758e+11,   1.94273758e+11,\n",
       "         1.94273758e+11,   1.94273758e+11,   1.94273758e+11,\n",
       "         1.94273758e+11,   1.94273758e+11,   1.94273758e+11,\n",
       "         1.94273758e+11,   1.94273758e+11,   1.94273758e+11,\n",
       "         1.94273758e+11,   1.94273758e+11,   1.94273758e+11,\n",
       "         1.94273758e+11,   1.94273758e+11,   1.94273758e+11,\n",
       "         1.94273758e+11,   1.94273758e+11,   1.94273758e+11,\n",
       "         1.94273758e+11,   1.94273758e+11,   1.94273758e+11,\n",
       "         1.94273758e+11,   1.94273758e+11,   1.94273758e+11,\n",
       "         1.94273758e+11,   1.94273758e+11,   1.94273758e+11,\n",
       "         1.94273758e+11,   1.94273758e+11,   1.94273758e+11,\n",
       "         1.94273758e+11,   1.94273758e+11,   1.94273758e+11,\n",
       "         1.94273758e+11,   1.94273758e+11,   1.94273758e+11,\n",
       "         1.94273758e+11,   1.94273758e+11,   1.94273758e+11,\n",
       "         1.94273758e+11,   1.94273758e+11,   1.94273758e+11,\n",
       "         1.94273758e+11,   1.94273758e+11,   1.94273758e+11,\n",
       "         1.94273758e+11,   1.94273758e+11,   1.94273758e+11,\n",
       "         1.94273758e+11,   1.94273758e+11,   1.94273758e+11,\n",
       "         1.94273758e+11,   1.94273758e+11,   1.94273758e+11,\n",
       "         1.94273758e+11,   1.94273758e+11,   1.94273758e+11,\n",
       "         1.94273758e+11,   1.94273758e+11,   1.94273758e+11,\n",
       "         1.94273758e+11,   1.94273758e+11,   1.94273758e+11,\n",
       "         1.94273758e+11,   1.94273758e+11,   1.94273758e+11,\n",
       "         4.00386764e+11,   4.00386764e+11,   4.00386764e+11,\n",
       "         4.00386764e+11,   4.00386764e+11,   4.00386764e+11,\n",
       "         4.00386764e+11,   4.00386764e+11,   4.00386764e+11,\n",
       "         4.00386764e+11,   4.00386764e+11,   4.00386764e+11,\n",
       "         4.00386764e+11,   4.00386764e+11,   4.00386764e+11,\n",
       "         4.00386764e+11,   4.00386764e+11,   4.00386764e+11,\n",
       "         4.00386764e+11,   4.00386764e+11,   0.00000000e+00])"
      ]
     },
     "execution_count": 1780,
     "metadata": {},
     "output_type": "execute_result"
    }
   ],
   "source": [
    "LinReg_fin.coef_"
   ]
  },
  {
   "cell_type": "markdown",
   "metadata": {},
   "source": [
    "Коэффициенты в регрессии с функционалом $MSPE$ - без регуляризации:"
   ]
  },
  {
   "cell_type": "code",
   "execution_count": 1781,
   "metadata": {
    "collapsed": false
   },
   "outputs": [
    {
     "data": {
      "text/plain": [
       "array([  9.82185648e-03,   1.17192857e-02,   5.13242855e-03,\n",
       "         7.99127888e-04,  -8.28847981e-03,   2.59853545e-02,\n",
       "         2.09817712e-02,   1.77895140e-02,   1.52330432e-02,\n",
       "         1.26582452e-02,   1.11653679e-03,   1.23882019e-03,\n",
       "         2.86092407e-02,   3.26394436e-03,   2.29473549e-02,\n",
       "         1.79605201e-02,   3.22511962e-02,   2.81296347e-02,\n",
       "         1.16559313e-03,   1.13052970e-02,   3.40276747e-02,\n",
       "         2.14037045e-02,   1.21635623e-02,   1.24733544e-02,\n",
       "         2.29427519e-02,   2.10506524e-02,   1.88082901e-02,\n",
       "         9.87805991e-03,   7.93689493e-03,   8.70807597e-04,\n",
       "         3.92519844e-03,   1.13705896e-02,   2.91192372e-02,\n",
       "         2.65643397e-02,   4.24275038e-03,   8.75241605e-03,\n",
       "         2.00024554e-02,   2.24733720e-03,   1.33227848e-02,\n",
       "         1.41675541e-02,   8.66814279e-04,   3.00058189e-02,\n",
       "         4.60032121e-04,   9.23236891e-03,   2.96777722e-02,\n",
       "         1.55741159e-02,   3.25384575e-02,   1.06970517e-02,\n",
       "         2.16928236e-02,   3.31638992e-02,   1.62691595e-03,\n",
       "         3.29579431e-03,   2.74802028e-02,   1.55584128e-02,\n",
       "         2.02112033e-02,   2.76111665e-02,   3.08041513e-02,\n",
       "         1.82050575e-02,   2.03131236e-02,   3.14868665e-02,\n",
       "         9.93771308e-03,   2.60333821e-02,   6.92246631e-04,\n",
       "         1.35903772e-02,   1.96896903e-02,   5.06723102e-04,\n",
       "         1.77759758e-03,   2.77591114e-02,   2.65738135e-02,\n",
       "         2.48762855e-02,   1.08208251e-02,   1.58150476e-02,\n",
       "         2.02043782e-02,   2.43135283e-02,   1.77088529e-02,\n",
       "         3.17254391e-02,   2.22576967e-02,   4.41624977e-03,\n",
       "         1.17949551e-02,   3.28614917e-02,   1.32709587e-02,\n",
       "        -3.13628656e-04,   6.01854864e-03,   1.46759085e-02,\n",
       "         1.30134153e-02,   4.29047391e-03,   1.87947059e-02,\n",
       "         1.52553039e-02,   2.12472468e-02,   2.17885223e-02,\n",
       "         1.42373474e-03,   1.78534917e-02,   1.87203640e-02,\n",
       "         2.89700477e-02,   3.32153764e-02,   1.00632525e-02,\n",
       "         2.35861264e-02,   1.64811534e-02,   2.03657964e-02,\n",
       "         9.55935851e-03,   7.62252604e-03,   1.86057698e-02,\n",
       "         1.07134398e-02,   1.05662414e-02,   1.21559807e-02,\n",
       "         3.20209309e-03,   3.18526408e-02,   2.69885272e-02,\n",
       "         1.24489089e-02,   4.34826367e-03,   2.61085028e-02,\n",
       "         1.28171080e-02,   1.99937471e-03,   1.05520741e-03,\n",
       "         2.69889362e-02,   3.70134341e-03,   1.85616964e-02,\n",
       "         3.20201639e-02,   2.95670842e-02,   6.27520143e-03,\n",
       "         2.88968315e-02,   2.86059807e-02,   3.14290162e-02,\n",
       "         1.69743337e-02,   2.77623014e-02,   1.11857368e-03,\n",
       "         4.66475166e-03,   6.86398096e-03,   3.08816967e-02,\n",
       "         7.64976793e-03,   2.81366015e-02,   5.03661579e-03,\n",
       "         2.13559995e-02,   3.41718533e-02,   2.47570825e-02,\n",
       "         3.27054030e-02,   2.83227194e-02,   3.06980209e-02,\n",
       "         1.11032923e-02,   3.35165591e-02,   3.36593569e-02,\n",
       "         1.54993440e-02,   2.63375690e-02,   1.69841016e-02,\n",
       "         1.69267698e-02,   4.24311507e-04,   1.01175442e-02,\n",
       "         1.53983942e-02,   6.94050268e-03,   6.54230224e-04,\n",
       "         1.50793725e-03,   1.42478576e-02,   2.11582813e-02,\n",
       "         2.20286089e-02,   4.90188521e-03,   2.84702044e-02,\n",
       "         6.33622708e-03,   1.02390907e-02,   2.72921082e-02,\n",
       "         7.64728084e-03,   2.20148970e-03,   1.50871023e-04,\n",
       "         1.33468048e-02,   2.25200049e-02,   1.57317690e-02,\n",
       "         1.29433548e-02,   1.60193281e-02,   2.38298082e-02,\n",
       "         8.61209339e-03,   2.91504872e-03,   1.99307199e-02,\n",
       "         2.80015002e-02,   2.93859420e-02,   1.62540753e-02,\n",
       "         6.28234101e-03,   2.58671098e-02,   3.06334856e-06,\n",
       "         1.43836397e-02,   1.43407132e-02,   1.00652476e-02,\n",
       "         1.16554302e-02,   7.73932960e-04,   6.95112101e-03,\n",
       "         2.63318218e-02,   2.89461534e-02,   2.60008413e-02,\n",
       "         8.12877294e-03,   7.62731300e-03,   1.05944009e-02,\n",
       "         9.77356705e-03,   9.11501236e-03,   5.86787082e-04,\n",
       "         3.32111712e-02,   3.26289337e-02,   1.71734704e-02,\n",
       "         1.70718710e-02,   1.43332004e-02,   9.52960239e-03,\n",
       "         1.52535952e-02,   3.11069313e-02,   1.20677443e-02,\n",
       "         2.85875742e-02,   3.22650043e-02,   1.45633148e-02,\n",
       "         2.44406037e-03,   2.96761210e-02,   3.43160484e-02,\n",
       "         1.01866371e-02,   3.11814206e-02,   2.22241422e-02,\n",
       "         2.19820325e-02,   7.99441391e-03,   1.18956613e-02,\n",
       "         2.98977719e-02,   1.21171547e-02,   2.72920653e-02,\n",
       "         2.01964283e-02,   1.97979968e-02,   9.67706237e-03,\n",
       "         1.71541615e-02,   5.33782117e-03,   8.46246457e-03,\n",
       "         2.54206895e-02,   1.38271591e-03,   1.12877889e-02,\n",
       "         5.11059665e-03,   1.48838114e-02,   1.98776118e-02,\n",
       "         1.90411076e-02,   2.63215008e-02,   2.16994410e-02,\n",
       "         1.96793393e-02,   2.11603713e-02,   2.06629534e-02,\n",
       "         4.65998312e-03,   1.47183545e-02,   2.73315662e-02,\n",
       "         2.42765167e-02,   9.96531541e-03,   2.12667332e-02,\n",
       "         1.70400322e-02,   1.26091267e-02,   5.82919660e-04,\n",
       "         1.50401498e-02,   2.69326467e-02,   3.26596509e-02,\n",
       "         2.90545867e-02,   2.87092492e-02,   2.03326730e-02,\n",
       "         3.74078217e-04,   1.18591495e-02,   3.41840934e-02,\n",
       "         2.39274730e-02,   1.15273318e-02,   2.58647851e-02,\n",
       "         2.72491169e-02,   2.73610143e-02,   3.22708155e-03,\n",
       "         2.72187591e-02,   3.34657827e-02,   1.22184263e-02,\n",
       "         1.25906916e-02,   4.37830086e-03,   1.31619986e-02,\n",
       "         1.87299890e-02,   1.88529231e-02,   2.74975026e-02,\n",
       "         3.18069633e-02,   1.67911668e-02,   1.39314557e-02,\n",
       "         1.56127906e-02,   2.77963807e-02,   3.10989463e-02,\n",
       "        -2.48164249e-03,   1.83436537e-02,   2.08875890e-02,\n",
       "         1.95971364e-02,   3.06223030e-02,   1.45752782e-02,\n",
       "         9.38464880e-03,   1.87211317e-02,   2.80704238e-02,\n",
       "         2.41217973e-02,   5.08998742e-04,   1.52313298e-02,\n",
       "         2.08396386e-02,   3.33152130e-02,   1.42558060e-02,\n",
       "         9.27812045e-03,   2.28977413e-02,   7.77325672e-03,\n",
       "         1.07149239e-02,   2.32923281e-02,   2.58029109e-02,\n",
       "         2.53722475e-03,   2.83970276e-02,   2.95280892e-02,\n",
       "         1.54045983e-02,   2.73034012e-02,   2.74245070e-02,\n",
       "         2.34147746e-02,   6.54110880e-03,   1.65946082e-02,\n",
       "         3.35011019e-02,   3.02548395e-02,   5.45850189e-03,\n",
       "         5.17576505e-03,   2.67955236e-02,   2.70149760e-02,\n",
       "         7.48536997e-03,   2.44351964e-02,   1.67328094e-02,\n",
       "         7.62753738e-03,   6.67827244e-03,   2.66332374e-02,\n",
       "         3.22214455e-02,   2.00600108e-02,   3.03763439e-02,\n",
       "         2.62647611e-02,   1.04816281e-02,   1.00962378e-02,\n",
       "         3.19970611e-02,   1.24232673e-03,   2.94654211e-02,\n",
       "         2.85230983e-02,  -2.34166607e-03,   2.83917011e-02,\n",
       "         1.37589714e-02,   1.83159042e-02,   7.15442097e-03,\n",
       "         1.61268431e-02,   2.67211120e-02,   7.42799413e-03,\n",
       "         2.83757246e-02,   3.06381740e-02,   6.73373841e-03,\n",
       "         2.41882913e-02,   1.99127300e-03,   1.85023465e-02,\n",
       "         2.64654657e-02,   3.42303255e-02,   2.78776237e-02,\n",
       "         3.03263957e-02,   2.89550733e-02,   2.75553950e-02,\n",
       "         1.19812517e-02,   1.52610303e-02,   3.37223096e-04,\n",
       "         2.94583678e-02,   1.96165363e-02,   1.85073387e-02,\n",
       "         2.02891756e-02,   3.10932354e-02,   5.98351492e-03,\n",
       "         3.10682825e-02,   3.07546175e-02,   1.23790581e-02,\n",
       "         7.47216580e-04,   3.14181145e-02,   3.19374946e-03,\n",
       "         2.92833514e-02,   1.88754759e-02,   2.45299788e-02,\n",
       "         1.45759504e-02,   2.90518444e-02,   2.86364803e-02,\n",
       "         2.25655981e-02,   1.05728918e-02,   1.75293688e-02,\n",
       "         2.24645200e-02,   3.32412186e-02,   1.68941232e-02,\n",
       "         1.04095686e-02,   2.98294570e-02,   1.65002158e-02,\n",
       "         1.43911647e-02,   4.55376628e-04,   1.41233808e-02,\n",
       "         7.32508686e-03,   2.16492561e-04,   6.05492607e-03,\n",
       "         1.65694029e-02,   3.63326417e-03,   1.55140795e-03,\n",
       "         1.98051954e-02,  -2.90447657e-03,   1.82069069e-02,\n",
       "         1.98226389e-02,   1.97747943e-02,   9.48443569e-03,\n",
       "         1.49449516e-02,   1.31729626e-02,   1.07145486e-02,\n",
       "         1.46376289e-02,   2.04665119e-02,   1.94744832e-02,\n",
       "         3.24835331e-02,   2.98456268e-02,   3.41255452e-02,\n",
       "         1.95540527e-02,   2.40418817e-03,   1.76225187e-04,\n",
       "         3.03715356e-02,   6.18489477e-03,   1.57295672e-02,\n",
       "         2.42205181e-02,   1.71402562e-02,   9.24346312e-03,\n",
       "         3.14619844e-02,   1.60002832e-02,   1.56994898e-02,\n",
       "         1.34613002e-02,   2.63224046e-02,   2.02664521e-02,\n",
       "         5.52168760e-04,   2.19377811e-02,   2.40555842e-02,\n",
       "         6.34013310e-03,   3.39343633e-02,   3.25012984e-02,\n",
       "         1.05587976e-02,   2.54912485e-02,   1.32168430e-02,\n",
       "         4.44615289e-03,   2.15424479e-02,   1.42790312e-02,\n",
       "         1.69519654e-02,   1.07894509e-02,   2.07828395e-02,\n",
       "         1.69663576e-03,   8.84845530e-03,   3.32031602e-02,\n",
       "         3.47002253e-03,   2.84435714e-02,   1.62278161e-02,\n",
       "         1.23089099e-02,   1.49713446e-02,   3.26751848e-02,\n",
       "         2.55930944e-02,   3.16048640e-02,   9.08317389e-03,\n",
       "         8.82413197e-03,   6.31406476e-04,   1.52285715e-02,\n",
       "         3.13595989e-02,   2.07734660e-02,   3.09122590e-02,\n",
       "         3.10995192e-02,   2.34001292e-02,   2.37812882e-02,\n",
       "         1.66829930e-02,   2.31658156e-02,   3.93923094e-03,\n",
       "         2.46107674e-02,   3.99940876e-03,   2.29692103e-02,\n",
       "         9.60034612e-03,   2.98854047e-02,   3.40238666e-02,\n",
       "        -9.52336882e-04,   3.10513977e-02,  -2.73839495e-03,\n",
       "         1.95074128e-02,   1.54518631e-02,  -1.06249680e-04,\n",
       "         8.60358759e-03,   1.93531440e-02,   2.76431571e-02,\n",
       "         2.22487400e-03,   1.56742794e-02,   2.03933695e-02,\n",
       "         2.96642933e-02,   3.12439224e-02,   9.92190580e-03,\n",
       "         3.05992199e-02,   1.49663618e-02,   8.18899412e-03,\n",
       "         3.26913044e-02,   2.81985947e-02,   1.69835713e-02,\n",
       "         2.70843553e-02,   6.20486151e-03,   2.67911515e-02,\n",
       "         2.47286138e-02,   3.43065375e-02,   1.24581473e-02,\n",
       "         7.77565327e-03,   2.12266463e-02,   2.85783028e-02,\n",
       "         1.65975908e-02,   1.19373836e-02,   1.50605000e-03,\n",
       "         3.23988609e-02,   1.74872876e-02,   1.02520484e-02,\n",
       "         6.77545429e-03,   2.42033176e-02,   1.39685158e-02,\n",
       "         1.74711731e-02,   4.78106717e-03,   1.13944175e-03,\n",
       "         1.75058139e-02,   1.97135115e-02,   5.67765275e-03,\n",
       "         3.34058405e-02,   2.93345070e-02,   2.02945259e-03,\n",
       "         1.69252423e-02,   2.02698145e-02,   1.24974285e-02,\n",
       "         6.14501118e-03,   3.25011405e-02,   1.40283081e-02,\n",
       "         2.94773839e-02,   1.39574573e-02,   2.76045995e-02,\n",
       "         1.22309925e-02,   3.25269497e-02,   9.71634198e-03,\n",
       "         4.34791068e-03,   1.63562655e-02,   1.95868882e-02,\n",
       "         1.18255317e-02,   1.86546781e-03,  -9.67408612e-04,\n",
       "         1.16171978e-02,   1.39895461e-02,   9.31087100e-03,\n",
       "         1.49775523e-04,   1.14475917e-02,   5.75378081e-03,\n",
       "         6.19071392e-05,   9.98978208e-03,   2.48964035e-02,\n",
       "         2.50289976e-02,   2.08204581e-02,   9.06403347e-03,\n",
       "         1.89095021e-02,   1.22156924e-02,   1.37504317e-02,\n",
       "         3.03986271e-02,   2.62459505e-03,   1.50296810e-02,\n",
       "         5.27826459e-03,   2.49102344e-02,   9.48301940e-03,\n",
       "         2.88307077e-02,   5.39502014e-03,   1.89306052e-02,\n",
       "         2.06097265e-02,   1.97355763e-02,   2.63612948e-02,\n",
       "         1.88159426e-02,   6.34014031e-03,   3.40914331e-02,\n",
       "         3.16056533e-02,   6.02982759e-03,   2.52844233e-02,\n",
       "         1.01140335e-02,   2.99333948e-03,   2.65686364e-02,\n",
       "         3.15026223e-02,   1.02760704e-02,   5.75418149e-03,\n",
       "         1.18256004e-02,   1.68310283e-03,   2.38983417e-02,\n",
       "         2.91036571e-03,   8.11598135e-05,   2.30659738e-02,\n",
       "         3.08308949e-02,   1.34868363e-02,   1.89934098e-02,\n",
       "         5.19112343e-03,   3.22332260e-02,   1.84835786e-02,\n",
       "         1.25656195e-02,   1.20717624e-02,   2.14113597e-02,\n",
       "         6.41267133e-03,   6.38900114e-03,   3.13852535e-02,\n",
       "         5.78135737e-03,   1.31211029e-03,   1.16816045e-02,\n",
       "         2.99328521e-02,   1.22050736e-02,   1.30918967e-03,\n",
       "         1.37765057e-02,   2.26874381e-02,   1.00593172e-02,\n",
       "         1.47870437e-02,   1.45044423e-02,   2.51318411e-02,\n",
       "         8.23988870e-03,   2.35587046e-02,   2.59012896e-02,\n",
       "         1.26541403e-02,   4.80394579e-03,   1.71936839e-02,\n",
       "         1.30362976e-02,   1.20647944e-02,   1.50540928e-02,\n",
       "         2.10520228e-02,   2.05334708e-02,   1.05588180e-02,\n",
       "         2.53082495e-02,   2.91235326e-02,   5.67696086e-03,\n",
       "         1.25929839e-02,  -3.39690131e-03,   3.52864174e-04,\n",
       "         2.06975558e-02,   2.79039912e-02,   8.89737036e-03,\n",
       "        -6.65308864e-03,   1.46990994e-02,  -2.27827122e-03,\n",
       "         9.37054155e-03,   1.89667070e-02,   8.11829188e-03,\n",
       "         8.44278288e-03,   1.31932318e-02,  -9.18884773e-02])"
      ]
     },
     "execution_count": 1781,
     "metadata": {},
     "output_type": "execute_result"
    }
   ],
   "source": [
    "w_opt"
   ]
  },
  {
   "cell_type": "markdown",
   "metadata": {},
   "source": [
    "Коэффициенты в регрессии с функционалом $MSPE$ - с регуляризацией:"
   ]
  },
  {
   "cell_type": "code",
   "execution_count": 1782,
   "metadata": {
    "collapsed": false
   },
   "outputs": [
    {
     "data": {
      "text/plain": [
       "array([  4.23675034e-03,  -7.20513573e-03,   1.33468061e-02,\n",
       "        -7.30470944e-03,  -1.57825264e-02,   2.94790197e-02,\n",
       "         5.55553938e-03,   2.65954028e-02,  -5.29903563e-04,\n",
       "         3.26658209e-03,   3.50971460e-04,  -7.18207155e-05,\n",
       "         7.62733224e-03,   8.69763182e-04,   6.04429911e-03,\n",
       "         4.29043004e-03,   8.59561326e-03,   7.49141650e-03,\n",
       "         3.13710208e-04,   2.83783591e-03,   9.05432256e-03,\n",
       "         5.70357584e-03,   3.45420870e-03,   2.74896645e-03,\n",
       "         5.93068346e-03,   5.63003093e-03,  -6.49653003e-04,\n",
       "         2.48922308e-03,   1.91266472e-03,  -1.17220693e-04,\n",
       "         9.76661843e-04,   2.98117257e-03,   8.65333136e-03,\n",
       "         7.08228682e-03,   1.10493656e-03,   2.36533409e-03,\n",
       "         5.26175366e-03,   1.46071804e-03,   3.46890817e-03,\n",
       "         3.74225063e-03,   2.33884226e-04,   7.99583379e-03,\n",
       "         8.85789532e-05,   1.71358139e-03,   7.42013561e-03,\n",
       "         1.45893094e-03,   8.66786575e-03,   2.85411286e-03,\n",
       "         5.79228267e-03,   8.69693043e-03,   4.37971104e-04,\n",
       "         8.64535917e-04,   6.20375890e-03,   4.15064479e-03,\n",
       "         5.42028194e-03,   7.29558259e-03,   8.13956978e-03,\n",
       "         5.02319645e-03,   5.36815087e-03,   8.33074886e-03,\n",
       "         2.64816308e-03,   6.92801223e-03,   1.55657275e-04,\n",
       "         3.56112022e-03,   5.24677810e-03,  -3.30363212e-04,\n",
       "         4.73412373e-04,   7.47132152e-03,   7.07162114e-03,\n",
       "         5.78748000e-03,   2.83135528e-03,   2.87885861e-03,\n",
       "         5.47375046e-03,   6.48334127e-03,   4.71898617e-03,\n",
       "         8.44908542e-03,   5.95434900e-03,   8.52325660e-04,\n",
       "         3.14808711e-03,   8.92339097e-03,   3.56206512e-03,\n",
       "        -1.08927351e-03,   1.61868817e-03,   3.91799123e-03,\n",
       "         3.10269886e-03,   9.91667553e-04,   5.00920980e-03,\n",
       "         2.97017420e-03,   4.93775380e-03,   1.68911732e-03,\n",
       "         3.83070201e-04,   4.75752894e-03,   4.97642418e-03,\n",
       "         7.69457125e-03,   8.66638126e-03,  -6.11426075e-04,\n",
       "         6.00098610e-03,   4.27169890e-03,   5.42874026e-03,\n",
       "         3.06136617e-03,   1.76196652e-03,   5.00390210e-03,\n",
       "         2.80442746e-03,   2.81565086e-03,   2.78293496e-03,\n",
       "         8.60592334e-04,   8.38624219e-03,   7.13568098e-03,\n",
       "         3.54544450e-03,   1.17048693e-03,   7.08979715e-03,\n",
       "         3.41786686e-03,  -7.50108672e-04,   2.20887858e-04,\n",
       "         7.17877267e-03,   7.52485132e-04,   4.78342665e-03,\n",
       "         8.31893884e-03,   7.86933106e-03,   1.24401376e-03,\n",
       "         7.70696239e-03,   7.62060105e-03,   8.16003752e-03,\n",
       "         4.41926868e-03,   7.12987193e-03,   1.14342323e-04,\n",
       "         1.28335990e-03,   1.99797063e-03,   8.20436500e-03,\n",
       "         1.89656171e-03,   7.49773199e-03,   1.37213135e-03,\n",
       "         5.58469628e-03,   9.04627160e-03,   6.60757167e-03,\n",
       "         8.71520843e-03,   7.63667257e-03,   8.33222096e-03,\n",
       "         3.49384155e-03,   8.94295768e-03,   8.96933806e-03,\n",
       "         3.75839544e-03,   7.00909394e-03,   3.47711208e-03,\n",
       "         1.25741779e-03,   8.23426623e-05,   2.53850788e-03,\n",
       "         4.10821984e-03,   1.29214539e-03,   1.74336723e-04,\n",
       "         2.93257330e-04,   3.63091325e-03,   5.63817642e-03,\n",
       "         6.12669749e-03,   1.31663398e-03,   7.64363512e-03,\n",
       "         1.29437035e-03,   2.50260278e-03,   6.32586071e-03,\n",
       "         2.00958873e-03,   5.25408319e-04,   4.57590475e-05,\n",
       "         3.44875131e-03,   5.29182918e-03,   4.20654836e-03,\n",
       "         1.07932990e-03,   3.96146552e-03,   6.35059157e-03,\n",
       "         1.85383766e-03,   7.22465819e-04,   3.81553783e-03,\n",
       "         7.07594395e-03,   7.62133948e-03,   4.26905165e-03,\n",
       "         1.68230948e-03,   6.86668970e-03,  -1.42889158e-06,\n",
       "         3.75087480e-03,   3.82145740e-03,   2.69614349e-03,\n",
       "         3.10904067e-03,   3.54902687e-04,   1.79774876e-03,\n",
       "         6.65105912e-03,   7.71359290e-03,   6.98237201e-03,\n",
       "         2.04581926e-03,   2.03069792e-03,   2.82315469e-03,\n",
       "         1.48623953e-03,   2.29457797e-03,  -1.21549094e-04,\n",
       "         8.72018750e-03,   8.21844374e-03,   3.69844278e-03,\n",
       "         3.79671055e-03,   3.83071649e-03,   2.59233346e-03,\n",
       "         3.96631182e-03,   8.25160962e-03,   3.32695073e-03,\n",
       "         7.58300610e-03,   8.59899352e-03,   3.88332404e-03,\n",
       "         4.96596327e-04,   7.27262647e-03,   9.22885594e-03,\n",
       "         7.07320980e-04,   8.15787495e-03,   5.86739850e-03,\n",
       "         5.88666003e-03,   2.10626010e-03,   2.77602388e-03,\n",
       "         7.69405870e-03,   2.44498420e-03,   7.22190718e-03,\n",
       "         5.38757088e-03,   5.12536300e-03,   2.82807577e-04,\n",
       "         3.13078227e-03,   1.42622219e-03,   2.25394123e-03,\n",
       "         6.68144385e-03,  -4.45415327e-04,   2.74028021e-03,\n",
       "         1.36816278e-03,   4.12780050e-03,   4.29202823e-03,\n",
       "         3.26793967e-03,   6.82453481e-03,   5.77522561e-03,\n",
       "         4.15982154e-03,   5.51898916e-03,   5.52517975e-03,\n",
       "         1.11446747e-03,   3.88573616e-03,   7.28150921e-03,\n",
       "         6.47880895e-03,   3.00783607e-03,   5.35176354e-03,\n",
       "         4.48999527e-03,   3.23731536e-03,  -4.96118367e-05,\n",
       "         4.08510246e-03,   6.25890463e-03,   8.70301660e-03,\n",
       "         7.75158834e-03,   7.37559086e-03,   5.41600092e-03,\n",
       "        -1.99141612e-04,   3.03584261e-03,   8.83516744e-03,\n",
       "         6.21628380e-03,   2.89064456e-03,   7.05224759e-03,\n",
       "         4.75742907e-03,   7.43510054e-03,   8.97228369e-04,\n",
       "         7.44151919e-03,   8.95285961e-03,   3.24894915e-03,\n",
       "         3.35122073e-03,   1.16523656e-03,   3.45227566e-03,\n",
       "         5.02144472e-03,   3.31705978e-03,   6.87805993e-03,\n",
       "         8.36681218e-03,   4.51378343e-03,   3.71767198e-03,\n",
       "         2.57422200e-03,   7.34494723e-03,   8.41969017e-03,\n",
       "        -8.26549037e-04,   4.88814541e-03,   6.13024344e-03,\n",
       "         4.82811652e-03,   8.42852075e-03,   3.82296797e-03,\n",
       "         2.50433710e-03,   5.08208244e-03,   6.92533810e-03,\n",
       "         6.45343075e-03,   1.44115124e-04,   4.10370502e-03,\n",
       "         5.55326575e-03,   8.77566223e-03,   3.62803897e-03,\n",
       "         2.39298603e-03,   5.95551139e-03,   1.07443452e-03,\n",
       "         2.87945391e-03,   5.88631435e-03,   6.94613616e-03,\n",
       "         9.34306682e-04,   7.38199076e-03,   7.86536229e-03,\n",
       "         4.08349544e-03,   7.23297300e-03,   7.31950956e-03,\n",
       "         6.37415474e-03,   1.72470544e-03,   4.40445595e-03,\n",
       "         9.35660154e-03,   8.06255312e-03,   1.42767994e-03,\n",
       "         1.29156939e-03,   7.11283707e-03,   6.99151441e-03,\n",
       "         1.69653120e-03,   6.52023395e-03,   4.45889390e-03,\n",
       "         2.10458835e-03,   1.77979432e-03,   7.09590786e-03,\n",
       "         8.58624532e-03,   5.35565930e-03,   8.03629196e-03,\n",
       "         6.99970319e-03,   2.79310345e-03,   3.05833660e-03,\n",
       "         8.53092188e-03,   3.22788400e-04,   7.34249023e-03,\n",
       "         7.60820269e-03,  -7.18441100e-03,   7.44801066e-03,\n",
       "         3.06722674e-03,   4.83291939e-03,   1.93152587e-03,\n",
       "         4.31034650e-03,   6.46659764e-03,   1.97526295e-03,\n",
       "         7.48137965e-03,   8.16360155e-03,   1.78443170e-03,\n",
       "         5.84637026e-03,   3.57574643e-04,   4.92558204e-03,\n",
       "         7.05883325e-03,   9.06355458e-03,   6.72549930e-03,\n",
       "         8.01409932e-03,   5.29302591e-03,   7.35418589e-03,\n",
       "         3.17966811e-03,   4.04263312e-03,   9.26728183e-05,\n",
       "         7.85469890e-03,   4.93116394e-03,   4.82367948e-03,\n",
       "         5.07943352e-03,   7.31121625e-03,   1.28499372e-03,\n",
       "         8.36958077e-03,   7.69748933e-03,   3.23700780e-03,\n",
       "         1.36872971e-04,   8.37444574e-03,   8.50677229e-04,\n",
       "         7.74318053e-03,   5.02705286e-03,   6.47448743e-03,\n",
       "         3.88414251e-03,   8.00039245e-03,   7.42831075e-03,\n",
       "         6.42614221e-03,   2.81336359e-03,   4.31592359e-03,\n",
       "         5.65402977e-03,   8.82709116e-03,   4.50188015e-03,\n",
       "         2.77632554e-03,   8.11033319e-03,   4.38491783e-03,\n",
       "         3.91562622e-03,   4.40031343e-04,   3.72482394e-03,\n",
       "         1.46008412e-03,   4.16729973e-05,   1.57917141e-03,\n",
       "         4.46107691e-03,   8.83491938e-04,   1.37837284e-05,\n",
       "         3.03906083e-03,  -2.77358516e-03,   4.49009146e-03,\n",
       "         5.30832020e-03,   5.23916918e-03,   2.49408305e-03,\n",
       "         3.93652342e-03,   1.13694936e-03,   2.72146972e-03,\n",
       "         3.98182568e-03,   5.46449293e-03,   4.40024749e-03,\n",
       "         8.56895432e-03,   7.97094612e-03,   9.10326437e-03,\n",
       "         5.21068783e-03,   8.46352553e-04,   4.68949492e-05,\n",
       "         8.14979688e-03,   1.52734114e-03,   4.32797049e-03,\n",
       "         6.47595589e-03,   4.57624568e-03,   2.46294350e-03,\n",
       "         7.35919706e-03,   4.15837383e-03,   4.28149255e-03,\n",
       "         3.58632520e-03,   7.01019243e-03,   5.16530754e-03,\n",
       "         1.28336576e-04,   6.14051215e-03,   6.41739279e-03,\n",
       "         1.68990582e-03,   8.74404057e-03,   8.66971439e-03,\n",
       "         2.82805864e-03,   7.03098461e-03,   3.52598767e-03,\n",
       "         1.01748802e-03,   5.63650258e-03,   3.75416653e-03,\n",
       "         4.51729372e-03,   2.52103848e-03,   5.54150587e-03,\n",
       "         3.92343652e-04,   2.30196862e-03,   8.81303315e-03,\n",
       "         9.38542380e-04,   7.09411284e-03,   3.69440238e-03,\n",
       "         3.22043146e-03,   3.98214718e-03,   8.72695166e-03,\n",
       "         6.81994812e-03,   6.19738051e-03,   2.04095218e-03,\n",
       "         2.22628804e-03,   1.84141424e-04,   3.68834053e-03,\n",
       "         7.42917628e-03,   5.54181929e-03,   8.23726946e-03,\n",
       "         8.29235339e-03,   6.23372787e-03,   6.21257833e-03,\n",
       "         4.43754029e-03,   6.05144240e-03,   7.93152944e-04,\n",
       "         6.32818094e-03,  -5.60755243e-04,   6.13203647e-03,\n",
       "         2.45318791e-03,   7.95539523e-03,   8.98039406e-03,\n",
       "         1.90284108e-04,   8.12168003e-03,  -3.37426890e-03,\n",
       "         5.07139411e-03,   4.00763414e-03,   7.54488672e-05,\n",
       "         2.28434430e-03,   3.85147364e-03,   7.45703694e-03,\n",
       "         5.68376584e-04,   4.53102363e-03,   5.43508278e-03,\n",
       "         7.90529425e-03,   8.38151287e-03,   2.67925537e-03,\n",
       "         8.15396096e-03,   3.99030402e-03,   2.09064751e-03,\n",
       "         8.81289609e-03,   7.52789102e-03,   2.99779187e-03,\n",
       "         7.62733082e-03,  -1.01729853e-03,   6.81933475e-03,\n",
       "         6.92627468e-03,   9.14679744e-03,   3.92352636e-04,\n",
       "         2.10340930e-03,   5.65462521e-03,   7.31433233e-03,\n",
       "         4.19504958e-03,   2.59546859e-03,  -1.44371980e-04,\n",
       "         8.63489764e-03,   4.67752008e-03,   2.59590474e-03,\n",
       "         1.81296521e-03,   6.31451839e-03,   3.71136930e-03,\n",
       "         4.64226907e-03,   1.27393591e-03,   3.98560321e-04,\n",
       "         4.65594717e-03,   5.27529392e-03,  -1.07770828e-03,\n",
       "         8.44818691e-03,   7.83494997e-03,  -7.12962326e-05,\n",
       "         4.52679920e-03,   4.80905887e-03,   2.93382321e-03,\n",
       "         4.43582285e-04,   8.56810694e-03,   3.75044641e-03,\n",
       "         8.26641473e-03,   2.38812025e-03,   6.64354295e-03,\n",
       "         3.25926725e-03,   8.66900014e-03,   2.52771862e-03,\n",
       "         9.40563813e-04,   2.59400097e-03,   5.14102253e-03,\n",
       "         3.08079115e-03,  -2.08802141e-04,  -2.44296064e-03,\n",
       "         2.77408537e-03,   3.73001297e-03,   2.15042811e-03,\n",
       "         3.99115982e-05,   3.03653577e-03,   1.43742092e-03,\n",
       "         4.81832947e-05,   2.66088042e-03,   6.63429667e-03,\n",
       "         6.27705629e-03,   5.01940847e-03,   2.82792219e-03,\n",
       "         4.94842827e-03,   3.19803476e-03,   3.65458600e-03,\n",
       "         7.98633116e-03,   6.99391870e-04,   4.00505087e-03,\n",
       "         1.40036032e-03,   6.44463430e-03,   2.07108943e-03,\n",
       "         7.67518524e-03,   1.56235144e-03,   5.03984773e-03,\n",
       "         5.36214830e-03,   5.16769285e-03,   4.55909868e-03,\n",
       "         4.40027906e-03,   1.68849036e-03,   8.84837965e-03,\n",
       "         8.39552880e-03,   1.64276197e-03,   6.73769466e-03,\n",
       "         2.68139568e-03,   5.13124756e-05,   7.17496384e-03,\n",
       "         8.17049987e-03,   2.54358209e-03,   2.04244925e-03,\n",
       "         2.68651057e-03,   3.41508893e-04,   5.76417909e-03,\n",
       "         6.41331793e-04,   8.69296898e-05,   3.63044079e-03,\n",
       "         8.21811358e-03,   2.59128335e-03,   5.33387669e-03,\n",
       "         1.49352562e-03,   8.51416362e-03,   4.94217238e-03,\n",
       "         3.50931468e-03,   3.41530678e-03,   5.69614010e-03,\n",
       "         1.70886491e-03,   1.66629371e-03,   8.34612027e-03,\n",
       "         1.58275983e-03,  -4.01860990e-05,   3.10849130e-03,\n",
       "         7.90719588e-03,   3.26285687e-03,   5.89243829e-04,\n",
       "         3.68054412e-03,   5.90091985e-03,   2.35689928e-03,\n",
       "         3.95710992e-03,   3.88396605e-03,   6.72152473e-03,\n",
       "         2.00799525e-03,   5.98543485e-03,   6.90207479e-03,\n",
       "         3.40238674e-03,   1.28013677e-03,   4.49999520e-03,\n",
       "         3.45626438e-03,   3.21539367e-03,   4.01725075e-03,\n",
       "        -4.58345611e-05,  -2.09659996e-03,   2.75131781e-03,\n",
       "         5.90179822e-03,   3.76824046e-03,   3.04844166e-03,\n",
       "        -2.30369907e-03,  -5.42029037e-03,   3.49656538e-04,\n",
       "         2.57022563e-03,   7.14282362e-03,  -7.20376047e-04,\n",
       "        -8.30185773e-03,   2.85880823e-03,  -7.41854561e-03,\n",
       "         1.18429750e-03,   4.67799054e-04,  -6.83174941e-03,\n",
       "        -3.34331811e-03,   2.18361564e-03,  -9.35377169e-02])"
      ]
     },
     "execution_count": 1782,
     "metadata": {},
     "output_type": "execute_result"
    }
   ],
   "source": [
    "w_opt_r"
   ]
  }
 ],
 "metadata": {
  "anaconda-cloud": {},
  "kernelspec": {
   "display_name": "Python 3",
   "language": "python",
   "name": "python3"
  },
  "language_info": {
   "codemirror_mode": {
    "name": "ipython",
    "version": 3
   },
   "file_extension": ".py",
   "mimetype": "text/x-python",
   "name": "python",
   "nbconvert_exporter": "python",
   "pygments_lexer": "ipython3",
   "version": "3.5.2"
  }
 },
 "nbformat": 4,
 "nbformat_minor": 0
}
