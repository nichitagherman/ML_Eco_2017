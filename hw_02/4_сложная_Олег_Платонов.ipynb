{
 "cells": [
  {
   "cell_type": "markdown",
   "metadata": {},
   "source": [
    "# Машинное обучение, ФЭН ВШЭ\n",
    "\n",
    "# Практическое задание 2\n",
    "(Основано на материалах курса машинного обучения на фкн)\n",
    "\n",
    "## Общая информация\n",
    "\n",
    "Дата выдачи: 21.09.2017\n",
    "\n",
    "Срок сдачи: 8.10.2017 23:59MSK\n",
    "\n",
    "### О задании\n",
    "\n",
    "Практическое задание 1 посвящено изучению основных библиотек для анализа данных, а также линейных моделей и методов их обучения. Вы научитесь:\n",
    " * применять библиотеку NumPy;\n",
    " * подготавливать данные для обучения линейных моделей;\n",
    " * обучать линейную, Lasso и Ridge-регрессии при помощи модуля scikit-learn;\n",
    " * реализовывать обычный и стохастический градиентные спуски;\n",
    " * обучать линейную регрессию для произвольного функционала качества.\n",
    " \n",
    "\n",
    "### Оценивание и штрафы\n",
    "\n",
    "Каждая из задач имеет определенную «стоимость» (указана в скобках около задачи). Максимально допустимая оценка за работу — 10 баллов. Кроме того, некоторые из заданий являются опциональными (необязательными), однако за их выполнение можно получить дополнительные баллы.\n",
    "\n",
    "\n",
    "Задание выполняется самостоятельно. «Похожие» решения считаются плагиатом и все задействованные студенты (в том числе те, у кого списали) не могут получить за него больше 0 баллов (подробнее о плагиате см. на странице курса). Если вы нашли решение какого-то из заданий (или его часть) в открытом источнике, необходимо указать ссылку на этот источник в отдельном блоке в конце Вашей работы (скорее всего вы будете не единственным, кто это нашел, поэтому чтобы исключить подозрение в плагиате, необходима ссылка на источник). \n",
    "\n",
    "Неэффективная реализация кода может негативно отразиться на оценке.\n",
    "\n",
    "\n",
    "### Формат сдачи\n",
    "Для сдачи задания переименуйте получившийся файл \\*.ipynb в соответствии со следующим форматом: *HW1_Username.ipynb*, где *Username* — Ваша фамилия и инициалы на латинице (например, *HW1_IvanovII.ipynb*). Далее отправьте этот файл на почту курса, указав соответствующую тему (см. вики-страничку курча)."
   ]
  },
  {
   "cell_type": "markdown",
   "metadata": {},
   "source": [
    "## Библиотеки для анализа данных\n",
    "\n",
    "### NumPy\n",
    "\n",
    "Во всех заданиях данного раздела запрещено использовать циклы  и list comprehensions. Под вектором и матрицей в данных заданиях понимается одномерный и двумерный numpy.array соответственно."
   ]
  },
  {
   "cell_type": "code",
   "execution_count": 171,
   "metadata": {
    "collapsed": true
   },
   "outputs": [],
   "source": [
    "import numpy as np"
   ]
  },
  {
   "cell_type": "markdown",
   "metadata": {},
   "source": [
    "**1. (0.3 балла)** Реализуйте функцию, возвращающую максимальный элемент в векторе x среди элементов, перед которыми стоит нулевой. Для x = np.array([6, 2, 0, 3, 0, 0, 5, 7, 0]) ответом является 5. Если нулевых элементов нет, функция должна возвращать None.\n"
   ]
  },
  {
   "cell_type": "code",
   "execution_count": 172,
   "metadata": {
    "collapsed": true
   },
   "outputs": [],
   "source": [
    "def max_element(arr):\n",
    "    if 0 not in arr[:-1]:\n",
    "        return None\n",
    "    else:\n",
    "        return max(arr[np.concatenate((np.array([False]), (arr == 0)[:-1]))])"
   ]
  },
  {
   "cell_type": "code",
   "execution_count": 173,
   "metadata": {},
   "outputs": [
    {
     "data": {
      "text/plain": [
       "5"
      ]
     },
     "execution_count": 173,
     "metadata": {},
     "output_type": "execute_result"
    }
   ],
   "source": [
    "max_element(np.array([6, 2, 0, 3, 0, 0, 5, 7, 0]))"
   ]
  },
  {
   "cell_type": "markdown",
   "metadata": {},
   "source": [
    "**2. (0.3 балла)** Реализуйте функцию, принимающую на вход матрицу и некоторое число и возвращающую ближайший к числу элемент матрицы. Например: для X = np.arange(0,10).reshape((2, 5)) и v = 3.6 ответом будет 4."
   ]
  },
  {
   "cell_type": "code",
   "execution_count": 174,
   "metadata": {
    "collapsed": true
   },
   "outputs": [],
   "source": [
    "def nearest_value(X, v):\n",
    "    vector = X.ravel()\n",
    "    distances = list(abs(vector - v))\n",
    "    index = distances.index(min(distances))\n",
    "    return vector[index]"
   ]
  },
  {
   "cell_type": "code",
   "execution_count": 175,
   "metadata": {},
   "outputs": [
    {
     "data": {
      "text/plain": [
       "4"
      ]
     },
     "execution_count": 175,
     "metadata": {},
     "output_type": "execute_result"
    }
   ],
   "source": [
    "nearest_value(np.arange(0,10).reshape((2, 5)), 3.6)"
   ]
  },
  {
   "cell_type": "markdown",
   "metadata": {},
   "source": [
    "**3. (0.3 балла)** Реализуйте функцию scale(X), которая принимает на вход матрицу и масштабирует каждый ее столбец (вычитает выборочное среднее и делит на стандартное отклонение). Убедитесь, что в функции не будет происходить деления на ноль. Протестируйте на случайной матрице (для её генерации можно использовать, например, функцию [numpy.random.randint](http://docs.scipy.org/doc/numpy/reference/generated/numpy.random.randint.html))."
   ]
  },
  {
   "cell_type": "code",
   "execution_count": 176,
   "metadata": {
    "collapsed": true
   },
   "outputs": [],
   "source": [
    "def scale(X):\n",
    "    length = X.shape[0]\n",
    "    X = X - X.sum(axis=0, keepdims=True)/length\n",
    "    std = ((X**2).sum(axis=0, keepdims=True))**0.5\n",
    "    std[std == 0] = 1\n",
    "    X = X / std\n",
    "    return X"
   ]
  },
  {
   "cell_type": "code",
   "execution_count": 177,
   "metadata": {},
   "outputs": [
    {
     "data": {
      "text/plain": [
       "array([[  2,   0,  -6,   4],\n",
       "       [ -8,   6,  -4,  -5],\n",
       "       [  1,  -6, -10,   0]])"
      ]
     },
     "execution_count": 177,
     "metadata": {},
     "output_type": "execute_result"
    }
   ],
   "source": [
    "A = np.random.randint(-10, 10, size=(3, 4))\n",
    "A"
   ]
  },
  {
   "cell_type": "code",
   "execution_count": 178,
   "metadata": {},
   "outputs": [
    {
     "data": {
      "text/plain": [
       "array([[ 0.47075654,  0.        ,  0.15430335,  0.67952089],\n",
       "       [-0.81312494,  0.70710678,  0.6172134 , -0.73179172],\n",
       "       [ 0.34236839, -0.70710678, -0.77151675,  0.05227084]])"
      ]
     },
     "execution_count": 178,
     "metadata": {},
     "output_type": "execute_result"
    }
   ],
   "source": [
    "scale(A)"
   ]
  },
  {
   "cell_type": "markdown",
   "metadata": {},
   "source": [
    "**4. (0.3 балла)** Реализуйте функцию, которая для заданной матрицы находит:\n",
    " - определитель\n",
    " - след\n",
    " - наименьший и наибольший элементы\n",
    " - норму Фробениуса\n",
    " - собственные числа\n",
    " - обратную матрицу\n",
    "\n",
    "Для тестирования сгенерируйте матрицу с элементами из нормального распределения $\\mathcal{N}$(10,1)"
   ]
  },
  {
   "cell_type": "code",
   "execution_count": 179,
   "metadata": {
    "collapsed": true
   },
   "outputs": [],
   "source": [
    "def get_stats(X):\n",
    "    det = np.linalg.det(X)\n",
    "    print('определитель:', det, '\\n')\n",
    "    print('след:', np.trace(X), '\\n')\n",
    "    print('минимальное значение:', X.min(), '\\n')\n",
    "    print('максимальное значение:', X.max(), '\\n')\n",
    "    print('норма Фробениуса:', np.linalg.norm(X), '\\n')\n",
    "    print('собственные числа: \\n', np.linalg.eig(X)[0], '\\n')\n",
    "    if det == 0:\n",
    "        print('обратная матрица не существует')\n",
    "    else:\n",
    "        print('обратная матрица: \\n',np.linalg.inv(X))\n"
   ]
  },
  {
   "cell_type": "code",
   "execution_count": 180,
   "metadata": {},
   "outputs": [
    {
     "data": {
      "text/plain": [
       "array([[  8.42248954,  10.34339965,   9.34412523,   9.74132219],\n",
       "       [  8.56340495,  10.63543004,   9.64736541,   9.32287892],\n",
       "       [ 10.83319425,  10.31878023,   9.80894127,  11.58259523],\n",
       "       [  8.39061846,   8.94385914,  10.79350692,   9.12533055]])"
      ]
     },
     "execution_count": 180,
     "metadata": {},
     "output_type": "execute_result"
    }
   ],
   "source": [
    "A = np.random.normal(10, 1, 16).reshape(4,4)\n",
    "A"
   ]
  },
  {
   "cell_type": "code",
   "execution_count": 181,
   "metadata": {},
   "outputs": [
    {
     "name": "stdout",
     "output_type": "stream",
     "text": [
      "определитель: 38.5711552983 \n",
      "\n",
      "след: 37.992191405 \n",
      "\n",
      "минимальное значение: 8.39061845818 \n",
      "\n",
      "максимальное значение: 11.5825952333 \n",
      "\n",
      "норма Фробениуса: 39.1271772049 \n",
      "\n",
      "собственные числа: \n",
      " [ 38.97386497  -1.39916767  -0.65779838   1.07529249] \n",
      "\n",
      "обратная матрица: \n",
      " [[-1.71631907  1.26510516  0.51207809 -0.11028625]\n",
      " [-0.06794176  0.58643617 -0.16992662 -0.31091911]\n",
      " [-0.0627428  -0.09621068 -0.18776376  0.40359634]\n",
      " [ 1.71893552 -1.62422244 -0.0822132   0.03835112]]\n"
     ]
    }
   ],
   "source": [
    "get_stats(A)"
   ]
  },
  {
   "cell_type": "markdown",
   "metadata": {},
   "source": [
    "**5. (0.3 балла)** Повторите 100 раз следующий эксперимент: сгенерируйте две матрицы размера 10×10 из стандартного нормального распределения, перемножьте их (как матрицы) и найдите максимальный элемент. Какое среднее значение по экспериментам у максимальных элементов? 95-процентная квантиль?"
   ]
  },
  {
   "cell_type": "code",
   "execution_count": 182,
   "metadata": {},
   "outputs": [
    {
     "name": "stdout",
     "output_type": "stream",
     "text": [
      "Среднее значение: 8.38626718252\n",
      "95% квантиль: 11.1530015932\n"
     ]
    }
   ],
   "source": [
    "results = []\n",
    "\n",
    "for exp_num in range(100):\n",
    "    A = np.random.normal(0, 1, 100).reshape(10,10)\n",
    "    B = np.random.normal(0, 1, 100).reshape(10,10)\n",
    "    C = np.dot(A, B)\n",
    "    maximum = C.max()\n",
    "    results.append(maximum)\n",
    "\n",
    "print('Среднее значение:', np.mean(results))\n",
    "print('95% квантиль:', np.percentile(results, 95))"
   ]
  },
  {
   "cell_type": "markdown",
   "metadata": {},
   "source": [
    "## Линейная регрессия\n",
    "\n",
    "В этой части мы разберемся с линейной регрессией, способами её обучения и измерением качества ее прогнозов. \n",
    "\n",
    "Будем рассматривать данные по авиарейсам в США за январь-апрель 2008 года для предсказания времени задержки отправления рейса в минутах (DepDelay). Отметим, что под задержкой подразумевается не только опоздание рейса относительно планируемого времени вылета, но и отправление до планируемого времени.\n",
    "\n",
    "\n",
    "[Данные](https://www.dropbox.com/s/dvfitn93obn0rql/2008.csv?dl=0) и их [описание](http://stat-computing.org/dataexpo/2009/the-data.html)\n",
    "\n",
    "### Подготовка данных\n",
    "\n",
    "**6. (0.75 балла)** Считайте выборку из файла при помощи функции pd.read_csv и ответьте на следующие вопросы:\n",
    "   - Имеются ли в данных пропущенные значения?\n",
    "   - Сколько всего пропущенных элементов в таблице \"объект-признак\"?\n",
    "   - Сколько объектов имеют хотя бы один пропуск?\n",
    "   - Сколько признаков имеют хотя бы одно пропущенное значение?"
   ]
  },
  {
   "cell_type": "code",
   "execution_count": 183,
   "metadata": {
    "collapsed": true,
    "scrolled": true
   },
   "outputs": [],
   "source": [
    "import pandas as pd\n",
    "import matplotlib.pyplot as plt\n",
    "%matplotlib inline"
   ]
  },
  {
   "cell_type": "code",
   "execution_count": 184,
   "metadata": {},
   "outputs": [
    {
     "data": {
      "text/html": [
       "<div>\n",
       "<style>\n",
       "    .dataframe thead tr:only-child th {\n",
       "        text-align: right;\n",
       "    }\n",
       "\n",
       "    .dataframe thead th {\n",
       "        text-align: left;\n",
       "    }\n",
       "\n",
       "    .dataframe tbody tr th {\n",
       "        vertical-align: top;\n",
       "    }\n",
       "</style>\n",
       "<table border=\"1\" class=\"dataframe\">\n",
       "  <thead>\n",
       "    <tr style=\"text-align: right;\">\n",
       "      <th></th>\n",
       "      <th>Year</th>\n",
       "      <th>Month</th>\n",
       "      <th>DayofMonth</th>\n",
       "      <th>DayOfWeek</th>\n",
       "      <th>DepTime</th>\n",
       "      <th>CRSDepTime</th>\n",
       "      <th>ArrTime</th>\n",
       "      <th>CRSArrTime</th>\n",
       "      <th>UniqueCarrier</th>\n",
       "      <th>FlightNum</th>\n",
       "      <th>...</th>\n",
       "      <th>TaxiIn</th>\n",
       "      <th>TaxiOut</th>\n",
       "      <th>Cancelled</th>\n",
       "      <th>CancellationCode</th>\n",
       "      <th>Diverted</th>\n",
       "      <th>CarrierDelay</th>\n",
       "      <th>WeatherDelay</th>\n",
       "      <th>NASDelay</th>\n",
       "      <th>SecurityDelay</th>\n",
       "      <th>LateAircraftDelay</th>\n",
       "    </tr>\n",
       "  </thead>\n",
       "  <tbody>\n",
       "    <tr>\n",
       "      <th>0</th>\n",
       "      <td>2008</td>\n",
       "      <td>6</td>\n",
       "      <td>18</td>\n",
       "      <td>3</td>\n",
       "      <td>2111.0</td>\n",
       "      <td>2055</td>\n",
       "      <td>2308.0</td>\n",
       "      <td>2300</td>\n",
       "      <td>WN</td>\n",
       "      <td>242</td>\n",
       "      <td>...</td>\n",
       "      <td>3.0</td>\n",
       "      <td>8.0</td>\n",
       "      <td>0</td>\n",
       "      <td>NaN</td>\n",
       "      <td>0</td>\n",
       "      <td>NaN</td>\n",
       "      <td>NaN</td>\n",
       "      <td>NaN</td>\n",
       "      <td>NaN</td>\n",
       "      <td>NaN</td>\n",
       "    </tr>\n",
       "    <tr>\n",
       "      <th>1</th>\n",
       "      <td>2008</td>\n",
       "      <td>6</td>\n",
       "      <td>4</td>\n",
       "      <td>3</td>\n",
       "      <td>1426.0</td>\n",
       "      <td>1410</td>\n",
       "      <td>1730.0</td>\n",
       "      <td>1728</td>\n",
       "      <td>XE</td>\n",
       "      <td>2380</td>\n",
       "      <td>...</td>\n",
       "      <td>4.0</td>\n",
       "      <td>12.0</td>\n",
       "      <td>0</td>\n",
       "      <td>NaN</td>\n",
       "      <td>0</td>\n",
       "      <td>NaN</td>\n",
       "      <td>NaN</td>\n",
       "      <td>NaN</td>\n",
       "      <td>NaN</td>\n",
       "      <td>NaN</td>\n",
       "    </tr>\n",
       "    <tr>\n",
       "      <th>2</th>\n",
       "      <td>2008</td>\n",
       "      <td>8</td>\n",
       "      <td>3</td>\n",
       "      <td>7</td>\n",
       "      <td>1143.0</td>\n",
       "      <td>1145</td>\n",
       "      <td>1501.0</td>\n",
       "      <td>1520</td>\n",
       "      <td>WN</td>\n",
       "      <td>1769</td>\n",
       "      <td>...</td>\n",
       "      <td>4.0</td>\n",
       "      <td>9.0</td>\n",
       "      <td>0</td>\n",
       "      <td>NaN</td>\n",
       "      <td>0</td>\n",
       "      <td>NaN</td>\n",
       "      <td>NaN</td>\n",
       "      <td>NaN</td>\n",
       "      <td>NaN</td>\n",
       "      <td>NaN</td>\n",
       "    </tr>\n",
       "    <tr>\n",
       "      <th>3</th>\n",
       "      <td>2008</td>\n",
       "      <td>1</td>\n",
       "      <td>23</td>\n",
       "      <td>3</td>\n",
       "      <td>1141.0</td>\n",
       "      <td>1144</td>\n",
       "      <td>1323.0</td>\n",
       "      <td>1335</td>\n",
       "      <td>OO</td>\n",
       "      <td>3802</td>\n",
       "      <td>...</td>\n",
       "      <td>4.0</td>\n",
       "      <td>19.0</td>\n",
       "      <td>0</td>\n",
       "      <td>NaN</td>\n",
       "      <td>0</td>\n",
       "      <td>NaN</td>\n",
       "      <td>NaN</td>\n",
       "      <td>NaN</td>\n",
       "      <td>NaN</td>\n",
       "      <td>NaN</td>\n",
       "    </tr>\n",
       "    <tr>\n",
       "      <th>4</th>\n",
       "      <td>2008</td>\n",
       "      <td>5</td>\n",
       "      <td>4</td>\n",
       "      <td>7</td>\n",
       "      <td>815.0</td>\n",
       "      <td>820</td>\n",
       "      <td>1243.0</td>\n",
       "      <td>1300</td>\n",
       "      <td>WN</td>\n",
       "      <td>399</td>\n",
       "      <td>...</td>\n",
       "      <td>4.0</td>\n",
       "      <td>8.0</td>\n",
       "      <td>0</td>\n",
       "      <td>NaN</td>\n",
       "      <td>0</td>\n",
       "      <td>NaN</td>\n",
       "      <td>NaN</td>\n",
       "      <td>NaN</td>\n",
       "      <td>NaN</td>\n",
       "      <td>NaN</td>\n",
       "    </tr>\n",
       "    <tr>\n",
       "      <th>5</th>\n",
       "      <td>2008</td>\n",
       "      <td>1</td>\n",
       "      <td>3</td>\n",
       "      <td>4</td>\n",
       "      <td>1349.0</td>\n",
       "      <td>1325</td>\n",
       "      <td>1640.0</td>\n",
       "      <td>1609</td>\n",
       "      <td>B6</td>\n",
       "      <td>834</td>\n",
       "      <td>...</td>\n",
       "      <td>5.0</td>\n",
       "      <td>13.0</td>\n",
       "      <td>0</td>\n",
       "      <td>NaN</td>\n",
       "      <td>0</td>\n",
       "      <td>13.0</td>\n",
       "      <td>0.0</td>\n",
       "      <td>7.0</td>\n",
       "      <td>0.0</td>\n",
       "      <td>11.0</td>\n",
       "    </tr>\n",
       "    <tr>\n",
       "      <th>6</th>\n",
       "      <td>2008</td>\n",
       "      <td>3</td>\n",
       "      <td>31</td>\n",
       "      <td>1</td>\n",
       "      <td>1359.0</td>\n",
       "      <td>1400</td>\n",
       "      <td>1413.0</td>\n",
       "      <td>1415</td>\n",
       "      <td>WN</td>\n",
       "      <td>1589</td>\n",
       "      <td>...</td>\n",
       "      <td>5.0</td>\n",
       "      <td>14.0</td>\n",
       "      <td>0</td>\n",
       "      <td>NaN</td>\n",
       "      <td>0</td>\n",
       "      <td>NaN</td>\n",
       "      <td>NaN</td>\n",
       "      <td>NaN</td>\n",
       "      <td>NaN</td>\n",
       "      <td>NaN</td>\n",
       "    </tr>\n",
       "    <tr>\n",
       "      <th>7</th>\n",
       "      <td>2008</td>\n",
       "      <td>4</td>\n",
       "      <td>22</td>\n",
       "      <td>2</td>\n",
       "      <td>1815.0</td>\n",
       "      <td>1820</td>\n",
       "      <td>2057.0</td>\n",
       "      <td>2131</td>\n",
       "      <td>DL</td>\n",
       "      <td>617</td>\n",
       "      <td>...</td>\n",
       "      <td>9.0</td>\n",
       "      <td>31.0</td>\n",
       "      <td>0</td>\n",
       "      <td>NaN</td>\n",
       "      <td>0</td>\n",
       "      <td>NaN</td>\n",
       "      <td>NaN</td>\n",
       "      <td>NaN</td>\n",
       "      <td>NaN</td>\n",
       "      <td>NaN</td>\n",
       "    </tr>\n",
       "    <tr>\n",
       "      <th>8</th>\n",
       "      <td>2008</td>\n",
       "      <td>3</td>\n",
       "      <td>4</td>\n",
       "      <td>2</td>\n",
       "      <td>626.0</td>\n",
       "      <td>630</td>\n",
       "      <td>820.0</td>\n",
       "      <td>830</td>\n",
       "      <td>WN</td>\n",
       "      <td>454</td>\n",
       "      <td>...</td>\n",
       "      <td>4.0</td>\n",
       "      <td>6.0</td>\n",
       "      <td>0</td>\n",
       "      <td>NaN</td>\n",
       "      <td>0</td>\n",
       "      <td>NaN</td>\n",
       "      <td>NaN</td>\n",
       "      <td>NaN</td>\n",
       "      <td>NaN</td>\n",
       "      <td>NaN</td>\n",
       "    </tr>\n",
       "    <tr>\n",
       "      <th>9</th>\n",
       "      <td>2008</td>\n",
       "      <td>10</td>\n",
       "      <td>6</td>\n",
       "      <td>1</td>\n",
       "      <td>1905.0</td>\n",
       "      <td>1907</td>\n",
       "      <td>24.0</td>\n",
       "      <td>37</td>\n",
       "      <td>UA</td>\n",
       "      <td>270</td>\n",
       "      <td>...</td>\n",
       "      <td>6.0</td>\n",
       "      <td>16.0</td>\n",
       "      <td>0</td>\n",
       "      <td>NaN</td>\n",
       "      <td>0</td>\n",
       "      <td>NaN</td>\n",
       "      <td>NaN</td>\n",
       "      <td>NaN</td>\n",
       "      <td>NaN</td>\n",
       "      <td>NaN</td>\n",
       "    </tr>\n",
       "  </tbody>\n",
       "</table>\n",
       "<p>10 rows × 29 columns</p>\n",
       "</div>"
      ],
      "text/plain": [
       "   Year  Month  DayofMonth  DayOfWeek  DepTime  CRSDepTime  ArrTime  \\\n",
       "0  2008      6          18          3   2111.0        2055   2308.0   \n",
       "1  2008      6           4          3   1426.0        1410   1730.0   \n",
       "2  2008      8           3          7   1143.0        1145   1501.0   \n",
       "3  2008      1          23          3   1141.0        1144   1323.0   \n",
       "4  2008      5           4          7    815.0         820   1243.0   \n",
       "5  2008      1           3          4   1349.0        1325   1640.0   \n",
       "6  2008      3          31          1   1359.0        1400   1413.0   \n",
       "7  2008      4          22          2   1815.0        1820   2057.0   \n",
       "8  2008      3           4          2    626.0         630    820.0   \n",
       "9  2008     10           6          1   1905.0        1907     24.0   \n",
       "\n",
       "   CRSArrTime UniqueCarrier  FlightNum        ...         TaxiIn  TaxiOut  \\\n",
       "0        2300            WN        242        ...            3.0      8.0   \n",
       "1        1728            XE       2380        ...            4.0     12.0   \n",
       "2        1520            WN       1769        ...            4.0      9.0   \n",
       "3        1335            OO       3802        ...            4.0     19.0   \n",
       "4        1300            WN        399        ...            4.0      8.0   \n",
       "5        1609            B6        834        ...            5.0     13.0   \n",
       "6        1415            WN       1589        ...            5.0     14.0   \n",
       "7        2131            DL        617        ...            9.0     31.0   \n",
       "8         830            WN        454        ...            4.0      6.0   \n",
       "9          37            UA        270        ...            6.0     16.0   \n",
       "\n",
       "   Cancelled  CancellationCode  Diverted  CarrierDelay WeatherDelay NASDelay  \\\n",
       "0          0               NaN         0           NaN          NaN      NaN   \n",
       "1          0               NaN         0           NaN          NaN      NaN   \n",
       "2          0               NaN         0           NaN          NaN      NaN   \n",
       "3          0               NaN         0           NaN          NaN      NaN   \n",
       "4          0               NaN         0           NaN          NaN      NaN   \n",
       "5          0               NaN         0          13.0          0.0      7.0   \n",
       "6          0               NaN         0           NaN          NaN      NaN   \n",
       "7          0               NaN         0           NaN          NaN      NaN   \n",
       "8          0               NaN         0           NaN          NaN      NaN   \n",
       "9          0               NaN         0           NaN          NaN      NaN   \n",
       "\n",
       "   SecurityDelay  LateAircraftDelay  \n",
       "0            NaN                NaN  \n",
       "1            NaN                NaN  \n",
       "2            NaN                NaN  \n",
       "3            NaN                NaN  \n",
       "4            NaN                NaN  \n",
       "5            0.0               11.0  \n",
       "6            NaN                NaN  \n",
       "7            NaN                NaN  \n",
       "8            NaN                NaN  \n",
       "9            NaN                NaN  \n",
       "\n",
       "[10 rows x 29 columns]"
      ]
     },
     "execution_count": 184,
     "metadata": {},
     "output_type": "execute_result"
    }
   ],
   "source": [
    "df = pd.read_csv('2008.csv')\n",
    "df.head(10)"
   ]
  },
  {
   "cell_type": "markdown",
   "metadata": {},
   "source": [
    "<span style=\"color:blue\">Количество пропусков по столбцам:</span>"
   ]
  },
  {
   "cell_type": "code",
   "execution_count": 185,
   "metadata": {},
   "outputs": [
    {
     "data": {
      "text/plain": [
       "Year                     0\n",
       "Month                    0\n",
       "DayofMonth               0\n",
       "DayOfWeek                0\n",
       "DepTime               1399\n",
       "CRSDepTime               0\n",
       "ArrTime               1556\n",
       "CRSArrTime               0\n",
       "UniqueCarrier            0\n",
       "FlightNum                0\n",
       "TailNum                820\n",
       "ActualElapsedTime     1582\n",
       "CRSElapsedTime           9\n",
       "AirTime               1582\n",
       "ArrDelay              1582\n",
       "DepDelay              1399\n",
       "Origin                   0\n",
       "Dest                     0\n",
       "Distance                 0\n",
       "TaxiIn                1556\n",
       "TaxiOut               1406\n",
       "Cancelled                0\n",
       "CancellationCode     68589\n",
       "Diverted                 0\n",
       "CarrierDelay         54747\n",
       "WeatherDelay         54747\n",
       "NASDelay             54747\n",
       "SecurityDelay        54747\n",
       "LateAircraftDelay    54747\n",
       "dtype: int64"
      ]
     },
     "execution_count": 185,
     "metadata": {},
     "output_type": "execute_result"
    }
   ],
   "source": [
    "nans = df.isnull().sum()\n",
    "nans"
   ]
  },
  {
   "cell_type": "code",
   "execution_count": 186,
   "metadata": {},
   "outputs": [
    {
     "name": "stdout",
     "output_type": "stream",
     "text": [
      "Всего пропусков 355215\n"
     ]
    }
   ],
   "source": [
    "print('Всего пропусков', sum(nans))"
   ]
  },
  {
   "cell_type": "code",
   "execution_count": 187,
   "metadata": {
    "collapsed": true
   },
   "outputs": [],
   "source": [
    "array = np.array(df)"
   ]
  },
  {
   "cell_type": "code",
   "execution_count": 188,
   "metadata": {},
   "outputs": [
    {
     "name": "stdout",
     "output_type": "stream",
     "text": [
      "69409 объектов имеют пропуски\n"
     ]
    }
   ],
   "source": [
    "count = 0\n",
    "for i in range(len(array)):\n",
    "    if np.NaN in list(array[i]):\n",
    "        count += 1\n",
    "\n",
    "print(count, 'объектов имеют пропуски')"
   ]
  },
  {
   "cell_type": "code",
   "execution_count": 189,
   "metadata": {},
   "outputs": [
    {
     "name": "stdout",
     "output_type": "stream",
     "text": [
      "16 признаков имеют пропуски\n"
     ]
    }
   ],
   "source": [
    "print(sum(nans > 0), 'признаков имеют пропуски')"
   ]
  },
  {
   "cell_type": "markdown",
   "metadata": {},
   "source": [
    "Как вы понимаете, также не имеет смысла рассматривать при решении поставленной задачи объекты с пропущенным значением целевой переменной. В связи с этим ответьте на следующие вопросы и выполните соответствующие действия:\n",
    "- Имеются ли пропущенные значения в целевой переменной?\n",
    "- Проанализируйте объекты с пропущенными значениями целевой переменной. Чем вызвано это явление? Что их объединяет? Можно ли в связи с этим, на ваш взгляд, исключить какие-то признаки из рассмотрения? Обоснуйте свою точку зрения.\n",
    "\n",
    "Исключите из выборки объекты **с пропущенным значением целевой переменной и со значением целевой переменной, равным 0**, а также при необходимости исключите признаки в соответствии с вашим ответом на последний вопрос из списка и выделите целевую переменную в отдельный вектор, исключив её из матрицы \"объект-признак\"."
   ]
  },
  {
   "cell_type": "code",
   "execution_count": 190,
   "metadata": {},
   "outputs": [
    {
     "name": "stdout",
     "output_type": "stream",
     "text": [
      "1399 пропущенных значений целевой переменной\n"
     ]
    }
   ],
   "source": [
    "print(sum(np.isnan(list(df['DepDelay']))), 'пропущенных значений целевой переменной')"
   ]
  },
  {
   "cell_type": "code",
   "execution_count": 191,
   "metadata": {},
   "outputs": [
    {
     "data": {
      "text/html": [
       "<div>\n",
       "<style>\n",
       "    .dataframe thead tr:only-child th {\n",
       "        text-align: right;\n",
       "    }\n",
       "\n",
       "    .dataframe thead th {\n",
       "        text-align: left;\n",
       "    }\n",
       "\n",
       "    .dataframe tbody tr th {\n",
       "        vertical-align: top;\n",
       "    }\n",
       "</style>\n",
       "<table border=\"1\" class=\"dataframe\">\n",
       "  <thead>\n",
       "    <tr style=\"text-align: right;\">\n",
       "      <th></th>\n",
       "      <th>Year</th>\n",
       "      <th>Month</th>\n",
       "      <th>DayofMonth</th>\n",
       "      <th>DayOfWeek</th>\n",
       "      <th>DepTime</th>\n",
       "      <th>CRSDepTime</th>\n",
       "      <th>ArrTime</th>\n",
       "      <th>CRSArrTime</th>\n",
       "      <th>UniqueCarrier</th>\n",
       "      <th>FlightNum</th>\n",
       "      <th>...</th>\n",
       "      <th>TaxiIn</th>\n",
       "      <th>TaxiOut</th>\n",
       "      <th>Cancelled</th>\n",
       "      <th>CancellationCode</th>\n",
       "      <th>Diverted</th>\n",
       "      <th>CarrierDelay</th>\n",
       "      <th>WeatherDelay</th>\n",
       "      <th>NASDelay</th>\n",
       "      <th>SecurityDelay</th>\n",
       "      <th>LateAircraftDelay</th>\n",
       "    </tr>\n",
       "  </thead>\n",
       "  <tbody>\n",
       "    <tr>\n",
       "      <th>11</th>\n",
       "      <td>2008</td>\n",
       "      <td>3</td>\n",
       "      <td>6</td>\n",
       "      <td>4</td>\n",
       "      <td>NaN</td>\n",
       "      <td>1605</td>\n",
       "      <td>NaN</td>\n",
       "      <td>1940</td>\n",
       "      <td>AA</td>\n",
       "      <td>484</td>\n",
       "      <td>...</td>\n",
       "      <td>NaN</td>\n",
       "      <td>NaN</td>\n",
       "      <td>1</td>\n",
       "      <td>B</td>\n",
       "      <td>0</td>\n",
       "      <td>NaN</td>\n",
       "      <td>NaN</td>\n",
       "      <td>NaN</td>\n",
       "      <td>NaN</td>\n",
       "      <td>NaN</td>\n",
       "    </tr>\n",
       "    <tr>\n",
       "      <th>78</th>\n",
       "      <td>2008</td>\n",
       "      <td>1</td>\n",
       "      <td>19</td>\n",
       "      <td>6</td>\n",
       "      <td>NaN</td>\n",
       "      <td>750</td>\n",
       "      <td>NaN</td>\n",
       "      <td>930</td>\n",
       "      <td>EV</td>\n",
       "      <td>4772</td>\n",
       "      <td>...</td>\n",
       "      <td>NaN</td>\n",
       "      <td>NaN</td>\n",
       "      <td>1</td>\n",
       "      <td>B</td>\n",
       "      <td>0</td>\n",
       "      <td>NaN</td>\n",
       "      <td>NaN</td>\n",
       "      <td>NaN</td>\n",
       "      <td>NaN</td>\n",
       "      <td>NaN</td>\n",
       "    </tr>\n",
       "    <tr>\n",
       "      <th>103</th>\n",
       "      <td>2008</td>\n",
       "      <td>7</td>\n",
       "      <td>24</td>\n",
       "      <td>4</td>\n",
       "      <td>NaN</td>\n",
       "      <td>1230</td>\n",
       "      <td>NaN</td>\n",
       "      <td>1355</td>\n",
       "      <td>FL</td>\n",
       "      <td>816</td>\n",
       "      <td>...</td>\n",
       "      <td>NaN</td>\n",
       "      <td>NaN</td>\n",
       "      <td>1</td>\n",
       "      <td>A</td>\n",
       "      <td>0</td>\n",
       "      <td>NaN</td>\n",
       "      <td>NaN</td>\n",
       "      <td>NaN</td>\n",
       "      <td>NaN</td>\n",
       "      <td>NaN</td>\n",
       "    </tr>\n",
       "    <tr>\n",
       "      <th>112</th>\n",
       "      <td>2008</td>\n",
       "      <td>2</td>\n",
       "      <td>4</td>\n",
       "      <td>1</td>\n",
       "      <td>NaN</td>\n",
       "      <td>620</td>\n",
       "      <td>NaN</td>\n",
       "      <td>758</td>\n",
       "      <td>NW</td>\n",
       "      <td>1281</td>\n",
       "      <td>...</td>\n",
       "      <td>NaN</td>\n",
       "      <td>NaN</td>\n",
       "      <td>1</td>\n",
       "      <td>B</td>\n",
       "      <td>0</td>\n",
       "      <td>NaN</td>\n",
       "      <td>NaN</td>\n",
       "      <td>NaN</td>\n",
       "      <td>NaN</td>\n",
       "      <td>NaN</td>\n",
       "    </tr>\n",
       "    <tr>\n",
       "      <th>128</th>\n",
       "      <td>2008</td>\n",
       "      <td>1</td>\n",
       "      <td>21</td>\n",
       "      <td>1</td>\n",
       "      <td>NaN</td>\n",
       "      <td>1838</td>\n",
       "      <td>NaN</td>\n",
       "      <td>2005</td>\n",
       "      <td>UA</td>\n",
       "      <td>1251</td>\n",
       "      <td>...</td>\n",
       "      <td>NaN</td>\n",
       "      <td>NaN</td>\n",
       "      <td>1</td>\n",
       "      <td>A</td>\n",
       "      <td>0</td>\n",
       "      <td>NaN</td>\n",
       "      <td>NaN</td>\n",
       "      <td>NaN</td>\n",
       "      <td>NaN</td>\n",
       "      <td>NaN</td>\n",
       "    </tr>\n",
       "    <tr>\n",
       "      <th>194</th>\n",
       "      <td>2008</td>\n",
       "      <td>1</td>\n",
       "      <td>28</td>\n",
       "      <td>1</td>\n",
       "      <td>NaN</td>\n",
       "      <td>1640</td>\n",
       "      <td>NaN</td>\n",
       "      <td>1719</td>\n",
       "      <td>UA</td>\n",
       "      <td>753</td>\n",
       "      <td>...</td>\n",
       "      <td>NaN</td>\n",
       "      <td>NaN</td>\n",
       "      <td>1</td>\n",
       "      <td>C</td>\n",
       "      <td>0</td>\n",
       "      <td>NaN</td>\n",
       "      <td>NaN</td>\n",
       "      <td>NaN</td>\n",
       "      <td>NaN</td>\n",
       "      <td>NaN</td>\n",
       "    </tr>\n",
       "    <tr>\n",
       "      <th>204</th>\n",
       "      <td>2008</td>\n",
       "      <td>6</td>\n",
       "      <td>13</td>\n",
       "      <td>5</td>\n",
       "      <td>NaN</td>\n",
       "      <td>1229</td>\n",
       "      <td>NaN</td>\n",
       "      <td>1421</td>\n",
       "      <td>OH</td>\n",
       "      <td>5765</td>\n",
       "      <td>...</td>\n",
       "      <td>NaN</td>\n",
       "      <td>NaN</td>\n",
       "      <td>1</td>\n",
       "      <td>A</td>\n",
       "      <td>0</td>\n",
       "      <td>NaN</td>\n",
       "      <td>NaN</td>\n",
       "      <td>NaN</td>\n",
       "      <td>NaN</td>\n",
       "      <td>NaN</td>\n",
       "    </tr>\n",
       "    <tr>\n",
       "      <th>236</th>\n",
       "      <td>2008</td>\n",
       "      <td>7</td>\n",
       "      <td>19</td>\n",
       "      <td>6</td>\n",
       "      <td>NaN</td>\n",
       "      <td>544</td>\n",
       "      <td>NaN</td>\n",
       "      <td>917</td>\n",
       "      <td>OO</td>\n",
       "      <td>6151</td>\n",
       "      <td>...</td>\n",
       "      <td>NaN</td>\n",
       "      <td>NaN</td>\n",
       "      <td>1</td>\n",
       "      <td>A</td>\n",
       "      <td>0</td>\n",
       "      <td>NaN</td>\n",
       "      <td>NaN</td>\n",
       "      <td>NaN</td>\n",
       "      <td>NaN</td>\n",
       "      <td>NaN</td>\n",
       "    </tr>\n",
       "    <tr>\n",
       "      <th>257</th>\n",
       "      <td>2008</td>\n",
       "      <td>4</td>\n",
       "      <td>19</td>\n",
       "      <td>6</td>\n",
       "      <td>NaN</td>\n",
       "      <td>1345</td>\n",
       "      <td>NaN</td>\n",
       "      <td>1435</td>\n",
       "      <td>AA</td>\n",
       "      <td>1853</td>\n",
       "      <td>...</td>\n",
       "      <td>NaN</td>\n",
       "      <td>NaN</td>\n",
       "      <td>1</td>\n",
       "      <td>A</td>\n",
       "      <td>0</td>\n",
       "      <td>NaN</td>\n",
       "      <td>NaN</td>\n",
       "      <td>NaN</td>\n",
       "      <td>NaN</td>\n",
       "      <td>NaN</td>\n",
       "    </tr>\n",
       "    <tr>\n",
       "      <th>267</th>\n",
       "      <td>2008</td>\n",
       "      <td>9</td>\n",
       "      <td>23</td>\n",
       "      <td>2</td>\n",
       "      <td>NaN</td>\n",
       "      <td>1400</td>\n",
       "      <td>NaN</td>\n",
       "      <td>1515</td>\n",
       "      <td>WN</td>\n",
       "      <td>2049</td>\n",
       "      <td>...</td>\n",
       "      <td>NaN</td>\n",
       "      <td>NaN</td>\n",
       "      <td>1</td>\n",
       "      <td>A</td>\n",
       "      <td>0</td>\n",
       "      <td>NaN</td>\n",
       "      <td>NaN</td>\n",
       "      <td>NaN</td>\n",
       "      <td>NaN</td>\n",
       "      <td>NaN</td>\n",
       "    </tr>\n",
       "  </tbody>\n",
       "</table>\n",
       "<p>10 rows × 29 columns</p>\n",
       "</div>"
      ],
      "text/plain": [
       "     Year  Month  DayofMonth  DayOfWeek  DepTime  CRSDepTime  ArrTime  \\\n",
       "11   2008      3           6          4      NaN        1605      NaN   \n",
       "78   2008      1          19          6      NaN         750      NaN   \n",
       "103  2008      7          24          4      NaN        1230      NaN   \n",
       "112  2008      2           4          1      NaN         620      NaN   \n",
       "128  2008      1          21          1      NaN        1838      NaN   \n",
       "194  2008      1          28          1      NaN        1640      NaN   \n",
       "204  2008      6          13          5      NaN        1229      NaN   \n",
       "236  2008      7          19          6      NaN         544      NaN   \n",
       "257  2008      4          19          6      NaN        1345      NaN   \n",
       "267  2008      9          23          2      NaN        1400      NaN   \n",
       "\n",
       "     CRSArrTime UniqueCarrier  FlightNum        ...         TaxiIn  TaxiOut  \\\n",
       "11         1940            AA        484        ...            NaN      NaN   \n",
       "78          930            EV       4772        ...            NaN      NaN   \n",
       "103        1355            FL        816        ...            NaN      NaN   \n",
       "112         758            NW       1281        ...            NaN      NaN   \n",
       "128        2005            UA       1251        ...            NaN      NaN   \n",
       "194        1719            UA        753        ...            NaN      NaN   \n",
       "204        1421            OH       5765        ...            NaN      NaN   \n",
       "236         917            OO       6151        ...            NaN      NaN   \n",
       "257        1435            AA       1853        ...            NaN      NaN   \n",
       "267        1515            WN       2049        ...            NaN      NaN   \n",
       "\n",
       "     Cancelled  CancellationCode  Diverted  CarrierDelay WeatherDelay  \\\n",
       "11           1                 B         0           NaN          NaN   \n",
       "78           1                 B         0           NaN          NaN   \n",
       "103          1                 A         0           NaN          NaN   \n",
       "112          1                 B         0           NaN          NaN   \n",
       "128          1                 A         0           NaN          NaN   \n",
       "194          1                 C         0           NaN          NaN   \n",
       "204          1                 A         0           NaN          NaN   \n",
       "236          1                 A         0           NaN          NaN   \n",
       "257          1                 A         0           NaN          NaN   \n",
       "267          1                 A         0           NaN          NaN   \n",
       "\n",
       "    NASDelay  SecurityDelay  LateAircraftDelay  \n",
       "11       NaN            NaN                NaN  \n",
       "78       NaN            NaN                NaN  \n",
       "103      NaN            NaN                NaN  \n",
       "112      NaN            NaN                NaN  \n",
       "128      NaN            NaN                NaN  \n",
       "194      NaN            NaN                NaN  \n",
       "204      NaN            NaN                NaN  \n",
       "236      NaN            NaN                NaN  \n",
       "257      NaN            NaN                NaN  \n",
       "267      NaN            NaN                NaN  \n",
       "\n",
       "[10 rows x 29 columns]"
      ]
     },
     "execution_count": 191,
     "metadata": {},
     "output_type": "execute_result"
    }
   ],
   "source": [
    "df[np.isnan(list(df['DepDelay']))].head(10)"
   ]
  },
  {
   "cell_type": "markdown",
   "metadata": {},
   "source": [
    "<span style=\"color:blue\">\n",
    "Значение целевой переменной отсутсвует у отмененных рейсов (Cancelled = 1). Удалим объекты с пропуском целевой переменной.\n",
    "</span> "
   ]
  },
  {
   "cell_type": "code",
   "execution_count": 192,
   "metadata": {
    "collapsed": true
   },
   "outputs": [],
   "source": [
    "df = df[~ np.isnan(list(df['DepDelay']))]"
   ]
  },
  {
   "cell_type": "code",
   "execution_count": 193,
   "metadata": {
    "collapsed": true
   },
   "outputs": [],
   "source": [
    "df = df[df['DepDelay'] != 0]"
   ]
  },
  {
   "cell_type": "code",
   "execution_count": 194,
   "metadata": {},
   "outputs": [
    {
     "data": {
      "text/plain": [
       "12"
      ]
     },
     "execution_count": 194,
     "metadata": {},
     "output_type": "execute_result"
    }
   ],
   "source": [
    "len(df[df['Cancelled'] == 1])"
   ]
  },
  {
   "cell_type": "markdown",
   "metadata": {},
   "source": [
    "<span style=\"color:blue\">\n",
    "Есть 12 рейсов, которые были отменены, но задержка вылета по ним все равно дана. Это странно, так что удалим и их тоже. Теперь можно также удалить признаки Cancelled и CancellationCode, так как остались только неотмененные рейсы.\n",
    "</span> "
   ]
  },
  {
   "cell_type": "code",
   "execution_count": 195,
   "metadata": {
    "collapsed": true
   },
   "outputs": [],
   "source": [
    "df = df[df['Cancelled'] != 1]\n",
    "df = df.drop(['Cancelled', 'CancellationCode'], axis=1)"
   ]
  },
  {
   "cell_type": "markdown",
   "metadata": {},
   "source": [
    "**7. (1 балл)** Обратите внимание, что признаки DepTime, CRSDepTime, ArrTime, CRSArrTime приведены в формате hhmm, в связи с чем будет не вполне корректно рассматривать их как вещественные.\n",
    "\n",
    "Преобразуйте каждый признак FeatureName из указанных в пару новых признаков FeatureName\\_Hour, FeatureName\\_Minute, разделив каждое из значений на часы и минуты. Не забудьте при этом исключить исходный признак из выборки. В случае, если значение признака отсутствует, значения двух новых признаков, его заменяющих, также должны отсутствовать. \n",
    "\n",
    "Например, признак DepTime необходимо заменить на пару признаков DepTime_Hour, DepTime_Minute. При этом, например, значение 155 исходного признака будет преобразовано в значения 1 и 55 признаков DepTime_Hour, DepTime_Minute соответственно."
   ]
  },
  {
   "cell_type": "code",
   "execution_count": 196,
   "metadata": {
    "collapsed": true
   },
   "outputs": [],
   "source": [
    "for feature in ['DepTime', 'CRSDepTime', 'ArrTime', 'CRSArrTime']:\n",
    "    hours, minutes = [], []\n",
    "    time = list(df[feature])\n",
    "    for i in range(len(time)):\n",
    "        if np.isnan(time[i]):\n",
    "            hours.append(np.nan)\n",
    "            minutes.append(np.nan)\n",
    "        else:\n",
    "            if len(str(int(time[i]))) < 3:\n",
    "                hours.append(0)\n",
    "            else:\n",
    "                hours.append(int(str(int(time[i]))[:-2]))\n",
    "            if len(str(int(time[i]))) < 1:\n",
    "                minutes.append(0)\n",
    "            else:\n",
    "                minutes.append(int(str(int(time[i]))[-2:]))\n",
    "    df[feature + '_Hour'] = hours\n",
    "    df[feature + '_Minute'] = minutes\n",
    "    df = df.drop(feature, axis=1)"
   ]
  },
  {
   "cell_type": "code",
   "execution_count": 197,
   "metadata": {},
   "outputs": [
    {
     "data": {
      "text/html": [
       "<div>\n",
       "<style>\n",
       "    .dataframe thead tr:only-child th {\n",
       "        text-align: right;\n",
       "    }\n",
       "\n",
       "    .dataframe thead th {\n",
       "        text-align: left;\n",
       "    }\n",
       "\n",
       "    .dataframe tbody tr th {\n",
       "        vertical-align: top;\n",
       "    }\n",
       "</style>\n",
       "<table border=\"1\" class=\"dataframe\">\n",
       "  <thead>\n",
       "    <tr style=\"text-align: right;\">\n",
       "      <th></th>\n",
       "      <th>Year</th>\n",
       "      <th>Month</th>\n",
       "      <th>DayofMonth</th>\n",
       "      <th>DayOfWeek</th>\n",
       "      <th>UniqueCarrier</th>\n",
       "      <th>FlightNum</th>\n",
       "      <th>TailNum</th>\n",
       "      <th>ActualElapsedTime</th>\n",
       "      <th>CRSElapsedTime</th>\n",
       "      <th>AirTime</th>\n",
       "      <th>...</th>\n",
       "      <th>SecurityDelay</th>\n",
       "      <th>LateAircraftDelay</th>\n",
       "      <th>DepTime_Hour</th>\n",
       "      <th>DepTime_Minute</th>\n",
       "      <th>CRSDepTime_Hour</th>\n",
       "      <th>CRSDepTime_Minute</th>\n",
       "      <th>ArrTime_Hour</th>\n",
       "      <th>ArrTime_Minute</th>\n",
       "      <th>CRSArrTime_Hour</th>\n",
       "      <th>CRSArrTime_Minute</th>\n",
       "    </tr>\n",
       "  </thead>\n",
       "  <tbody>\n",
       "    <tr>\n",
       "      <th>0</th>\n",
       "      <td>2008</td>\n",
       "      <td>6</td>\n",
       "      <td>18</td>\n",
       "      <td>3</td>\n",
       "      <td>WN</td>\n",
       "      <td>242</td>\n",
       "      <td>N699SW</td>\n",
       "      <td>57.0</td>\n",
       "      <td>65.0</td>\n",
       "      <td>46.0</td>\n",
       "      <td>...</td>\n",
       "      <td>NaN</td>\n",
       "      <td>NaN</td>\n",
       "      <td>21</td>\n",
       "      <td>11</td>\n",
       "      <td>20</td>\n",
       "      <td>55</td>\n",
       "      <td>23.0</td>\n",
       "      <td>8.0</td>\n",
       "      <td>23</td>\n",
       "      <td>0</td>\n",
       "    </tr>\n",
       "    <tr>\n",
       "      <th>1</th>\n",
       "      <td>2008</td>\n",
       "      <td>6</td>\n",
       "      <td>4</td>\n",
       "      <td>3</td>\n",
       "      <td>XE</td>\n",
       "      <td>2380</td>\n",
       "      <td>N15980</td>\n",
       "      <td>124.0</td>\n",
       "      <td>138.0</td>\n",
       "      <td>108.0</td>\n",
       "      <td>...</td>\n",
       "      <td>NaN</td>\n",
       "      <td>NaN</td>\n",
       "      <td>14</td>\n",
       "      <td>26</td>\n",
       "      <td>14</td>\n",
       "      <td>10</td>\n",
       "      <td>17.0</td>\n",
       "      <td>30.0</td>\n",
       "      <td>17</td>\n",
       "      <td>28</td>\n",
       "    </tr>\n",
       "    <tr>\n",
       "      <th>2</th>\n",
       "      <td>2008</td>\n",
       "      <td>8</td>\n",
       "      <td>3</td>\n",
       "      <td>7</td>\n",
       "      <td>WN</td>\n",
       "      <td>1769</td>\n",
       "      <td>N464WN</td>\n",
       "      <td>138.0</td>\n",
       "      <td>155.0</td>\n",
       "      <td>125.0</td>\n",
       "      <td>...</td>\n",
       "      <td>NaN</td>\n",
       "      <td>NaN</td>\n",
       "      <td>11</td>\n",
       "      <td>43</td>\n",
       "      <td>11</td>\n",
       "      <td>45</td>\n",
       "      <td>15.0</td>\n",
       "      <td>1.0</td>\n",
       "      <td>15</td>\n",
       "      <td>20</td>\n",
       "    </tr>\n",
       "    <tr>\n",
       "      <th>3</th>\n",
       "      <td>2008</td>\n",
       "      <td>1</td>\n",
       "      <td>23</td>\n",
       "      <td>3</td>\n",
       "      <td>OO</td>\n",
       "      <td>3802</td>\n",
       "      <td>N465SW</td>\n",
       "      <td>102.0</td>\n",
       "      <td>111.0</td>\n",
       "      <td>79.0</td>\n",
       "      <td>...</td>\n",
       "      <td>NaN</td>\n",
       "      <td>NaN</td>\n",
       "      <td>11</td>\n",
       "      <td>41</td>\n",
       "      <td>11</td>\n",
       "      <td>44</td>\n",
       "      <td>13.0</td>\n",
       "      <td>23.0</td>\n",
       "      <td>13</td>\n",
       "      <td>35</td>\n",
       "    </tr>\n",
       "    <tr>\n",
       "      <th>4</th>\n",
       "      <td>2008</td>\n",
       "      <td>5</td>\n",
       "      <td>4</td>\n",
       "      <td>7</td>\n",
       "      <td>WN</td>\n",
       "      <td>399</td>\n",
       "      <td>N489WN</td>\n",
       "      <td>148.0</td>\n",
       "      <td>160.0</td>\n",
       "      <td>136.0</td>\n",
       "      <td>...</td>\n",
       "      <td>NaN</td>\n",
       "      <td>NaN</td>\n",
       "      <td>8</td>\n",
       "      <td>15</td>\n",
       "      <td>8</td>\n",
       "      <td>20</td>\n",
       "      <td>12.0</td>\n",
       "      <td>43.0</td>\n",
       "      <td>13</td>\n",
       "      <td>0</td>\n",
       "    </tr>\n",
       "    <tr>\n",
       "      <th>5</th>\n",
       "      <td>2008</td>\n",
       "      <td>1</td>\n",
       "      <td>3</td>\n",
       "      <td>4</td>\n",
       "      <td>B6</td>\n",
       "      <td>834</td>\n",
       "      <td>N640JB</td>\n",
       "      <td>171.0</td>\n",
       "      <td>164.0</td>\n",
       "      <td>153.0</td>\n",
       "      <td>...</td>\n",
       "      <td>0.0</td>\n",
       "      <td>11.0</td>\n",
       "      <td>13</td>\n",
       "      <td>49</td>\n",
       "      <td>13</td>\n",
       "      <td>25</td>\n",
       "      <td>16.0</td>\n",
       "      <td>40.0</td>\n",
       "      <td>16</td>\n",
       "      <td>9</td>\n",
       "    </tr>\n",
       "    <tr>\n",
       "      <th>6</th>\n",
       "      <td>2008</td>\n",
       "      <td>3</td>\n",
       "      <td>31</td>\n",
       "      <td>1</td>\n",
       "      <td>WN</td>\n",
       "      <td>1589</td>\n",
       "      <td>N387SW</td>\n",
       "      <td>74.0</td>\n",
       "      <td>75.0</td>\n",
       "      <td>55.0</td>\n",
       "      <td>...</td>\n",
       "      <td>NaN</td>\n",
       "      <td>NaN</td>\n",
       "      <td>13</td>\n",
       "      <td>59</td>\n",
       "      <td>14</td>\n",
       "      <td>0</td>\n",
       "      <td>14.0</td>\n",
       "      <td>13.0</td>\n",
       "      <td>14</td>\n",
       "      <td>15</td>\n",
       "    </tr>\n",
       "    <tr>\n",
       "      <th>7</th>\n",
       "      <td>2008</td>\n",
       "      <td>4</td>\n",
       "      <td>22</td>\n",
       "      <td>2</td>\n",
       "      <td>DL</td>\n",
       "      <td>617</td>\n",
       "      <td>N3765</td>\n",
       "      <td>342.0</td>\n",
       "      <td>371.0</td>\n",
       "      <td>302.0</td>\n",
       "      <td>...</td>\n",
       "      <td>NaN</td>\n",
       "      <td>NaN</td>\n",
       "      <td>18</td>\n",
       "      <td>15</td>\n",
       "      <td>18</td>\n",
       "      <td>20</td>\n",
       "      <td>20.0</td>\n",
       "      <td>57.0</td>\n",
       "      <td>21</td>\n",
       "      <td>31</td>\n",
       "    </tr>\n",
       "    <tr>\n",
       "      <th>8</th>\n",
       "      <td>2008</td>\n",
       "      <td>3</td>\n",
       "      <td>4</td>\n",
       "      <td>2</td>\n",
       "      <td>WN</td>\n",
       "      <td>454</td>\n",
       "      <td>N633SW</td>\n",
       "      <td>174.0</td>\n",
       "      <td>180.0</td>\n",
       "      <td>164.0</td>\n",
       "      <td>...</td>\n",
       "      <td>NaN</td>\n",
       "      <td>NaN</td>\n",
       "      <td>6</td>\n",
       "      <td>26</td>\n",
       "      <td>6</td>\n",
       "      <td>30</td>\n",
       "      <td>8.0</td>\n",
       "      <td>20.0</td>\n",
       "      <td>8</td>\n",
       "      <td>30</td>\n",
       "    </tr>\n",
       "    <tr>\n",
       "      <th>9</th>\n",
       "      <td>2008</td>\n",
       "      <td>10</td>\n",
       "      <td>6</td>\n",
       "      <td>1</td>\n",
       "      <td>UA</td>\n",
       "      <td>270</td>\n",
       "      <td>N421UA</td>\n",
       "      <td>199.0</td>\n",
       "      <td>210.0</td>\n",
       "      <td>177.0</td>\n",
       "      <td>...</td>\n",
       "      <td>NaN</td>\n",
       "      <td>NaN</td>\n",
       "      <td>19</td>\n",
       "      <td>5</td>\n",
       "      <td>19</td>\n",
       "      <td>7</td>\n",
       "      <td>0.0</td>\n",
       "      <td>24.0</td>\n",
       "      <td>0</td>\n",
       "      <td>37</td>\n",
       "    </tr>\n",
       "  </tbody>\n",
       "</table>\n",
       "<p>10 rows × 31 columns</p>\n",
       "</div>"
      ],
      "text/plain": [
       "   Year  Month  DayofMonth  DayOfWeek UniqueCarrier  FlightNum TailNum  \\\n",
       "0  2008      6          18          3            WN        242  N699SW   \n",
       "1  2008      6           4          3            XE       2380  N15980   \n",
       "2  2008      8           3          7            WN       1769  N464WN   \n",
       "3  2008      1          23          3            OO       3802  N465SW   \n",
       "4  2008      5           4          7            WN        399  N489WN   \n",
       "5  2008      1           3          4            B6        834  N640JB   \n",
       "6  2008      3          31          1            WN       1589  N387SW   \n",
       "7  2008      4          22          2            DL        617   N3765   \n",
       "8  2008      3           4          2            WN        454  N633SW   \n",
       "9  2008     10           6          1            UA        270  N421UA   \n",
       "\n",
       "   ActualElapsedTime  CRSElapsedTime  AirTime        ...          \\\n",
       "0               57.0            65.0     46.0        ...           \n",
       "1              124.0           138.0    108.0        ...           \n",
       "2              138.0           155.0    125.0        ...           \n",
       "3              102.0           111.0     79.0        ...           \n",
       "4              148.0           160.0    136.0        ...           \n",
       "5              171.0           164.0    153.0        ...           \n",
       "6               74.0            75.0     55.0        ...           \n",
       "7              342.0           371.0    302.0        ...           \n",
       "8              174.0           180.0    164.0        ...           \n",
       "9              199.0           210.0    177.0        ...           \n",
       "\n",
       "   SecurityDelay  LateAircraftDelay DepTime_Hour DepTime_Minute  \\\n",
       "0            NaN                NaN           21             11   \n",
       "1            NaN                NaN           14             26   \n",
       "2            NaN                NaN           11             43   \n",
       "3            NaN                NaN           11             41   \n",
       "4            NaN                NaN            8             15   \n",
       "5            0.0               11.0           13             49   \n",
       "6            NaN                NaN           13             59   \n",
       "7            NaN                NaN           18             15   \n",
       "8            NaN                NaN            6             26   \n",
       "9            NaN                NaN           19              5   \n",
       "\n",
       "   CRSDepTime_Hour  CRSDepTime_Minute  ArrTime_Hour  ArrTime_Minute  \\\n",
       "0               20                 55          23.0             8.0   \n",
       "1               14                 10          17.0            30.0   \n",
       "2               11                 45          15.0             1.0   \n",
       "3               11                 44          13.0            23.0   \n",
       "4                8                 20          12.0            43.0   \n",
       "5               13                 25          16.0            40.0   \n",
       "6               14                  0          14.0            13.0   \n",
       "7               18                 20          20.0            57.0   \n",
       "8                6                 30           8.0            20.0   \n",
       "9               19                  7           0.0            24.0   \n",
       "\n",
       "   CRSArrTime_Hour  CRSArrTime_Minute  \n",
       "0               23                  0  \n",
       "1               17                 28  \n",
       "2               15                 20  \n",
       "3               13                 35  \n",
       "4               13                  0  \n",
       "5               16                  9  \n",
       "6               14                 15  \n",
       "7               21                 31  \n",
       "8                8                 30  \n",
       "9                0                 37  \n",
       "\n",
       "[10 rows x 31 columns]"
      ]
     },
     "execution_count": 197,
     "metadata": {},
     "output_type": "execute_result"
    }
   ],
   "source": [
    "df.head(10)"
   ]
  },
  {
   "cell_type": "markdown",
   "metadata": {},
   "source": [
    "**8. (0.5 балла)** Некоторые из признаков, отличных от целевой переменной, могут оказывать чересчур значимое влияние на прогноз, поскольку по своему смыслу содержат большую долю информации о значении целевой переменной. Изучите описание датасета и исключите признаки, сильно коррелирующие с ответами. Ваш выбор признаков для исключения из выборки обоснуйте. Кроме того, исключите признаки TailNum и Year."
   ]
  },
  {
   "cell_type": "markdown",
   "metadata": {},
   "source": [
    "<span style=\"color:blue\">Признаки CRSDepTime и DepTime позволяют однозначно восстановить значение целевой переменной (как разность между DepTime и CRSDepTime, если привести их к нормальному формату времени). В будущем исключим из рассмотрения признак DepTime (но только в будущем, потому что он внезапно оказывается нужен для следующих заданий).<span>"
   ]
  },
  {
   "cell_type": "code",
   "execution_count": 198,
   "metadata": {},
   "outputs": [
    {
     "data": {
      "text/html": [
       "<div>\n",
       "<style>\n",
       "    .dataframe thead tr:only-child th {\n",
       "        text-align: right;\n",
       "    }\n",
       "\n",
       "    .dataframe thead th {\n",
       "        text-align: left;\n",
       "    }\n",
       "\n",
       "    .dataframe tbody tr th {\n",
       "        vertical-align: top;\n",
       "    }\n",
       "</style>\n",
       "<table border=\"1\" class=\"dataframe\">\n",
       "  <thead>\n",
       "    <tr style=\"text-align: right;\">\n",
       "      <th></th>\n",
       "      <th>DepDelay</th>\n",
       "      <th>NASDelay</th>\n",
       "      <th>SecurityDelay</th>\n",
       "      <th>CarrierDelay</th>\n",
       "      <th>WeatherDelay</th>\n",
       "      <th>LateAircraftDelay</th>\n",
       "    </tr>\n",
       "  </thead>\n",
       "  <tbody>\n",
       "    <tr>\n",
       "      <th>5</th>\n",
       "      <td>24.0</td>\n",
       "      <td>7.0</td>\n",
       "      <td>0.0</td>\n",
       "      <td>13.0</td>\n",
       "      <td>0.0</td>\n",
       "      <td>11.0</td>\n",
       "    </tr>\n",
       "    <tr>\n",
       "      <th>10</th>\n",
       "      <td>42.0</td>\n",
       "      <td>0.0</td>\n",
       "      <td>0.0</td>\n",
       "      <td>40.0</td>\n",
       "      <td>0.0</td>\n",
       "      <td>0.0</td>\n",
       "    </tr>\n",
       "    <tr>\n",
       "      <th>12</th>\n",
       "      <td>11.0</td>\n",
       "      <td>8.0</td>\n",
       "      <td>0.0</td>\n",
       "      <td>11.0</td>\n",
       "      <td>0.0</td>\n",
       "      <td>0.0</td>\n",
       "    </tr>\n",
       "    <tr>\n",
       "      <th>17</th>\n",
       "      <td>1.0</td>\n",
       "      <td>51.0</td>\n",
       "      <td>0.0</td>\n",
       "      <td>0.0</td>\n",
       "      <td>1.0</td>\n",
       "      <td>0.0</td>\n",
       "    </tr>\n",
       "    <tr>\n",
       "      <th>23</th>\n",
       "      <td>32.0</td>\n",
       "      <td>0.0</td>\n",
       "      <td>0.0</td>\n",
       "      <td>0.0</td>\n",
       "      <td>0.0</td>\n",
       "      <td>21.0</td>\n",
       "    </tr>\n",
       "    <tr>\n",
       "      <th>30</th>\n",
       "      <td>-7.0</td>\n",
       "      <td>60.0</td>\n",
       "      <td>0.0</td>\n",
       "      <td>0.0</td>\n",
       "      <td>0.0</td>\n",
       "      <td>0.0</td>\n",
       "    </tr>\n",
       "    <tr>\n",
       "      <th>35</th>\n",
       "      <td>37.0</td>\n",
       "      <td>0.0</td>\n",
       "      <td>0.0</td>\n",
       "      <td>2.0</td>\n",
       "      <td>0.0</td>\n",
       "      <td>30.0</td>\n",
       "    </tr>\n",
       "    <tr>\n",
       "      <th>37</th>\n",
       "      <td>-4.0</td>\n",
       "      <td>17.0</td>\n",
       "      <td>0.0</td>\n",
       "      <td>0.0</td>\n",
       "      <td>0.0</td>\n",
       "      <td>0.0</td>\n",
       "    </tr>\n",
       "    <tr>\n",
       "      <th>40</th>\n",
       "      <td>-4.0</td>\n",
       "      <td>16.0</td>\n",
       "      <td>0.0</td>\n",
       "      <td>0.0</td>\n",
       "      <td>0.0</td>\n",
       "      <td>0.0</td>\n",
       "    </tr>\n",
       "    <tr>\n",
       "      <th>42</th>\n",
       "      <td>57.0</td>\n",
       "      <td>12.0</td>\n",
       "      <td>0.0</td>\n",
       "      <td>0.0</td>\n",
       "      <td>17.0</td>\n",
       "      <td>40.0</td>\n",
       "    </tr>\n",
       "  </tbody>\n",
       "</table>\n",
       "</div>"
      ],
      "text/plain": [
       "    DepDelay  NASDelay  SecurityDelay  CarrierDelay  WeatherDelay  \\\n",
       "5       24.0       7.0            0.0          13.0           0.0   \n",
       "10      42.0       0.0            0.0          40.0           0.0   \n",
       "12      11.0       8.0            0.0          11.0           0.0   \n",
       "17       1.0      51.0            0.0           0.0           1.0   \n",
       "23      32.0       0.0            0.0           0.0           0.0   \n",
       "30      -7.0      60.0            0.0           0.0           0.0   \n",
       "35      37.0       0.0            0.0           2.0           0.0   \n",
       "37      -4.0      17.0            0.0           0.0           0.0   \n",
       "40      -4.0      16.0            0.0           0.0           0.0   \n",
       "42      57.0      12.0            0.0           0.0          17.0   \n",
       "\n",
       "    LateAircraftDelay  \n",
       "5                11.0  \n",
       "10                0.0  \n",
       "12                0.0  \n",
       "17                0.0  \n",
       "23               21.0  \n",
       "30                0.0  \n",
       "35               30.0  \n",
       "37                0.0  \n",
       "40                0.0  \n",
       "42               40.0  "
      ]
     },
     "execution_count": 198,
     "metadata": {},
     "output_type": "execute_result"
    }
   ],
   "source": [
    "delays = ['DepDelay', 'NASDelay', 'SecurityDelay', 'CarrierDelay', 'WeatherDelay','LateAircraftDelay']\n",
    "df.loc[:, delays][~ np.isnan(df['NASDelay'])].head(10)"
   ]
  },
  {
   "cell_type": "markdown",
   "metadata": {},
   "source": [
    "<span style=\"color:blue\">Обратим внимание, что целевая переменная не является суммой NASDelay, SecurityDelay, CarrierDelay, WeatherDelay и LateAircraftDelay. Однако эти признаки должны содержать много информации о ней (общая задержка состоит из различных типов задержки и некоторых неуказанных в таблице факторов), поэтому исключим эти признаки. Также исключим ArrTime и ArrDelay, так как задержка прибытия (или разница между запланированным и фактическим временем прибытия) зависит от задержки вылета.</span>"
   ]
  },
  {
   "cell_type": "code",
   "execution_count": 199,
   "metadata": {
    "collapsed": true
   },
   "outputs": [],
   "source": [
    "df = df.drop(['NASDelay', 'SecurityDelay', 'CarrierDelay', 'WeatherDelay','LateAircraftDelay', \\\n",
    "              'ArrTime_Hour', 'ArrTime_Minute', 'ArrDelay', 'TailNum', 'Year'], axis=1)"
   ]
  },
  {
   "cell_type": "code",
   "execution_count": 200,
   "metadata": {
    "collapsed": true
   },
   "outputs": [],
   "source": [
    "# выделим целевую переменную\n",
    "y = df['DepDelay']\n",
    "df = df.drop('DepDelay', axis=1)"
   ]
  },
  {
   "cell_type": "markdown",
   "metadata": {},
   "source": [
    "Приведем данные к виду, пригодному для обучения линейных моделей. Для этого вещественные признаки надо отмасштабировать, а категориальные — привести к числовому виду. Также надо устранить пропуски в данных."
   ]
  },
  {
   "cell_type": "markdown",
   "metadata": {},
   "source": [
    "**9*. (1 бонусный балл) ** В первую очередь поймем, зачем необходимо применять масштабирование. Следующие ячейки с кодом построят гистограммы для 3 вещественных признаков выборки."
   ]
  },
  {
   "cell_type": "code",
   "execution_count": 201,
   "metadata": {
    "scrolled": true
   },
   "outputs": [
    {
     "data": {
      "text/plain": [
       "<matplotlib.axes._subplots.AxesSubplot at 0x28f2008d828>"
      ]
     },
     "execution_count": 201,
     "metadata": {},
     "output_type": "execute_result"
    },
    {
     "data": {
      "image/png": "[encoded data removed]",
      "text/plain": [
       "<matplotlib.figure.Figure at 0x28f2009c320>"
      ]
     },
     "metadata": {},
     "output_type": "display_data"
    }
   ],
   "source": [
    "df['DepTime_Hour'].hist(bins=20)"
   ]
  },
  {
   "cell_type": "code",
   "execution_count": 202,
   "metadata": {},
   "outputs": [
    {
     "data": {
      "text/plain": [
       "<matplotlib.axes._subplots.AxesSubplot at 0x28f11579160>"
      ]
     },
     "execution_count": 202,
     "metadata": {},
     "output_type": "execute_result"
    },
    {
     "data": {
      "image/png": "[encoded data removed]",
      "text/plain": [
       "<matplotlib.figure.Figure at 0x28f11594f98>"
      ]
     },
     "metadata": {},
     "output_type": "display_data"
    }
   ],
   "source": [
    "df['TaxiIn'].hist(bins=20)"
   ]
  },
  {
   "cell_type": "code",
   "execution_count": 203,
   "metadata": {},
   "outputs": [
    {
     "data": {
      "text/plain": [
       "<matplotlib.axes._subplots.AxesSubplot at 0x28f1153e3c8>"
      ]
     },
     "execution_count": 203,
     "metadata": {},
     "output_type": "execute_result"
    },
    {
     "data": {
      "image/png": "[encoded data removed]",
      "text/plain": [
       "<matplotlib.figure.Figure at 0x28f115d59e8>"
      ]
     },
     "metadata": {},
     "output_type": "display_data"
    }
   ],
   "source": [
    "df['FlightNum'].hist(bins=20)"
   ]
  },
  {
   "cell_type": "code",
   "execution_count": 204,
   "metadata": {
    "collapsed": true
   },
   "outputs": [],
   "source": [
    "# наконец-то можно выбросить DepTime\n",
    "df = df.drop(['DepTime_Hour', 'DepTime_Minute'], axis=1)"
   ]
  },
  {
   "cell_type": "markdown",
   "metadata": {},
   "source": [
    "Какую проблему вы наблюдаете на этих графиках? Как масштабирование поможет её исправить?"
   ]
  },
  {
   "cell_type": "markdown",
   "metadata": {},
   "source": [
    "<span style=\"color:blue\">Распределения вещественных признаков сильно различаются. Масштабирование позволит привести их к распределению с одинаковым выборочным средним и дисперсией.</span>"
   ]
  },
  {
   "cell_type": "markdown",
   "metadata": {},
   "source": [
    "**10. (1 балл)** Вдобавок к масштабированию, некоторые из признаков в нашем датасете являются категориальными. Типичным подходом к работе с ними является бинарное, или [one-hot-кодирование](https://en.wikipedia.org/wiki/One-hot).\n",
    "\n",
    "\n",
    "Реализуйте функцию transform_data, которая принимает на вход DataFrame с признаками и выполняет следующие шаги:\n",
    "1. Замена пропущенных значений на нули для вещественных признаков и на строки 'nan' для категориальных.\n",
    "2. Масштабирование вещественных признаков с помощью [StandardScaler](http://scikit-learn.org/stable/modules/generated/sklearn.preprocessing.StandardScaler.html).\n",
    "3. One-hot-кодирование категориальных признаков с помощью [DictVectorizer](http://scikit-learn.org/stable/modules/generated/sklearn.feature_extraction.DictVectorizer.html) или функции [pd.get_dummies](http://pandas.pydata.org/pandas-docs/stable/generated/pandas.get_dummies.html).\n",
    "\n",
    "Метод должен возвращать преобразованный DataFrame, который должна состоять из масштабированных вещественных признаков и закодированных категориальных (исходные признаки должны быть исключены из выборки)."
   ]
  },
  {
   "cell_type": "markdown",
   "metadata": {},
   "source": [
    "<span style=\"color:blue\">\n",
    "Сначала еще раз посмотрим на признаки и оставим только те, которые нам действительно могут пригодиться. Удалим FlightNum, так как он неинформативен. Также удалим те признаки, значения которых становятся известны уже после вылета самолета (их применение в реальной модели бессмысленно, когда самолет уже вылетел, мы уже знаем его задержку и не нужно ее предсказывать). Это признаки ActualElapsedTime, AirTime и Diverted. Признаки Origin и Dest категориальные, но содержат почти 300 уникальных значений. Далее мы будем обучать модель на 1000 объектов, поэтому в ней не стоит использовать 600 dummies (многие примеры даже не попадут в обучающую выборку). В связи с этим удалим Origin и Dest. Значения времени вылета/прилета в минутах не информативны без привязки к часам. Удалим CRSDepTime_Minute, CRSArrTime_Minute.\n",
    "</span>"
   ]
  },
  {
   "cell_type": "code",
   "execution_count": 205,
   "metadata": {
    "collapsed": true
   },
   "outputs": [],
   "source": [
    "df = df.drop(['FlightNum', 'ActualElapsedTime', 'AirTime', 'Diverted', 'Origin', 'Dest', 'CRSDepTime_Minute', 'CRSArrTime_Minute'], axis=1)"
   ]
  },
  {
   "cell_type": "code",
   "execution_count": 206,
   "metadata": {},
   "outputs": [
    {
     "data": {
      "text/plain": [
       "Index(['Month', 'DayofMonth', 'DayOfWeek', 'UniqueCarrier', 'CRSElapsedTime',\n",
       "       'Distance', 'TaxiIn', 'TaxiOut', 'CRSDepTime_Hour', 'CRSArrTime_Hour'],\n",
       "      dtype='object')"
      ]
     },
     "execution_count": 206,
     "metadata": {},
     "output_type": "execute_result"
    }
   ],
   "source": [
    "df.columns"
   ]
  },
  {
   "cell_type": "code",
   "execution_count": 207,
   "metadata": {
    "collapsed": true
   },
   "outputs": [],
   "source": [
    "from sklearn.preprocessing import StandardScaler"
   ]
  },
  {
   "cell_type": "code",
   "execution_count": 208,
   "metadata": {
    "collapsed": true
   },
   "outputs": [],
   "source": [
    "def transform_data(data, real, categorical):\n",
    "    \n",
    "    for feature in real:        \n",
    "        vector = list(data[feature])\n",
    "        for i in range(len(vector)):\n",
    "            if np.isnan(vector[i]):\n",
    "                vector[i] = float(0)\n",
    "            else:\n",
    "                vector[i] = float(vector[i])\n",
    "        vector = StandardScaler().fit_transform(np.array(vector).reshape(-1, 1))\n",
    "        data[feature] = vector\n",
    "            \n",
    "    data = pd.get_dummies(data, columns=categorical, dummy_na=True)\n",
    "    return data\n"
   ]
  },
  {
   "cell_type": "markdown",
   "metadata": {},
   "source": [
    "Примените функцию transform_data к данным. Сколько признаков получилось после преобразования?"
   ]
  },
  {
   "cell_type": "code",
   "execution_count": 209,
   "metadata": {
    "collapsed": true
   },
   "outputs": [],
   "source": [
    "df = transform_data(df, real=['CRSElapsedTime', 'Distance', 'TaxiIn', 'TaxiOut'], \\\n",
    "                     categorical=['Month', 'DayofMonth', 'DayOfWeek', 'UniqueCarrier', 'CRSDepTime_Hour', 'CRSArrTime_Hour'])"
   ]
  },
  {
   "cell_type": "code",
   "execution_count": 210,
   "metadata": {},
   "outputs": [
    {
     "name": "stdout",
     "output_type": "stream",
     "text": [
      "129 признаков получено\n"
     ]
    }
   ],
   "source": [
    "print(len(df.columns), 'признаков получено')"
   ]
  },
  {
   "cell_type": "code",
   "execution_count": 211,
   "metadata": {},
   "outputs": [
    {
     "data": {
      "text/plain": [
       "Index(['CRSElapsedTime', 'Distance', 'TaxiIn', 'TaxiOut', 'Month_1.0',\n",
       "       'Month_2.0', 'Month_3.0', 'Month_4.0', 'Month_5.0', 'Month_6.0',\n",
       "       ...\n",
       "       'CRSArrTime_Hour_16.0', 'CRSArrTime_Hour_17.0', 'CRSArrTime_Hour_18.0',\n",
       "       'CRSArrTime_Hour_19.0', 'CRSArrTime_Hour_20.0', 'CRSArrTime_Hour_21.0',\n",
       "       'CRSArrTime_Hour_22.0', 'CRSArrTime_Hour_23.0', 'CRSArrTime_Hour_24.0',\n",
       "       'CRSArrTime_Hour_nan'],\n",
       "      dtype='object', length=129)"
      ]
     },
     "execution_count": 211,
     "metadata": {},
     "output_type": "execute_result"
    }
   ],
   "source": [
    "df.columns"
   ]
  },
  {
   "cell_type": "code",
   "execution_count": 212,
   "metadata": {},
   "outputs": [
    {
     "data": {
      "text/html": [
       "<div>\n",
       "<style>\n",
       "    .dataframe thead tr:only-child th {\n",
       "        text-align: right;\n",
       "    }\n",
       "\n",
       "    .dataframe thead th {\n",
       "        text-align: left;\n",
       "    }\n",
       "\n",
       "    .dataframe tbody tr th {\n",
       "        vertical-align: top;\n",
       "    }\n",
       "</style>\n",
       "<table border=\"1\" class=\"dataframe\">\n",
       "  <thead>\n",
       "    <tr style=\"text-align: right;\">\n",
       "      <th></th>\n",
       "      <th>CRSElapsedTime</th>\n",
       "      <th>Distance</th>\n",
       "      <th>TaxiIn</th>\n",
       "      <th>TaxiOut</th>\n",
       "      <th>Month_1.0</th>\n",
       "      <th>Month_2.0</th>\n",
       "      <th>Month_3.0</th>\n",
       "      <th>Month_4.0</th>\n",
       "      <th>Month_5.0</th>\n",
       "      <th>Month_6.0</th>\n",
       "      <th>...</th>\n",
       "      <th>CRSArrTime_Hour_16.0</th>\n",
       "      <th>CRSArrTime_Hour_17.0</th>\n",
       "      <th>CRSArrTime_Hour_18.0</th>\n",
       "      <th>CRSArrTime_Hour_19.0</th>\n",
       "      <th>CRSArrTime_Hour_20.0</th>\n",
       "      <th>CRSArrTime_Hour_21.0</th>\n",
       "      <th>CRSArrTime_Hour_22.0</th>\n",
       "      <th>CRSArrTime_Hour_23.0</th>\n",
       "      <th>CRSArrTime_Hour_24.0</th>\n",
       "      <th>CRSArrTime_Hour_nan</th>\n",
       "    </tr>\n",
       "  </thead>\n",
       "  <tbody>\n",
       "    <tr>\n",
       "      <th>0</th>\n",
       "      <td>-0.916899</td>\n",
       "      <td>-0.744211</td>\n",
       "      <td>-0.787245</td>\n",
       "      <td>-0.741383</td>\n",
       "      <td>0</td>\n",
       "      <td>0</td>\n",
       "      <td>0</td>\n",
       "      <td>0</td>\n",
       "      <td>0</td>\n",
       "      <td>1</td>\n",
       "      <td>...</td>\n",
       "      <td>0</td>\n",
       "      <td>0</td>\n",
       "      <td>0</td>\n",
       "      <td>0</td>\n",
       "      <td>0</td>\n",
       "      <td>0</td>\n",
       "      <td>0</td>\n",
       "      <td>1</td>\n",
       "      <td>0</td>\n",
       "      <td>0</td>\n",
       "    </tr>\n",
       "    <tr>\n",
       "      <th>1</th>\n",
       "      <td>0.127269</td>\n",
       "      <td>0.183845</td>\n",
       "      <td>-0.582705</td>\n",
       "      <td>-0.389936</td>\n",
       "      <td>0</td>\n",
       "      <td>0</td>\n",
       "      <td>0</td>\n",
       "      <td>0</td>\n",
       "      <td>0</td>\n",
       "      <td>1</td>\n",
       "      <td>...</td>\n",
       "      <td>0</td>\n",
       "      <td>1</td>\n",
       "      <td>0</td>\n",
       "      <td>0</td>\n",
       "      <td>0</td>\n",
       "      <td>0</td>\n",
       "      <td>0</td>\n",
       "      <td>0</td>\n",
       "      <td>0</td>\n",
       "      <td>0</td>\n",
       "    </tr>\n",
       "    <tr>\n",
       "      <th>2</th>\n",
       "      <td>0.370432</td>\n",
       "      <td>0.470891</td>\n",
       "      <td>-0.582705</td>\n",
       "      <td>-0.653522</td>\n",
       "      <td>0</td>\n",
       "      <td>0</td>\n",
       "      <td>0</td>\n",
       "      <td>0</td>\n",
       "      <td>0</td>\n",
       "      <td>0</td>\n",
       "      <td>...</td>\n",
       "      <td>0</td>\n",
       "      <td>0</td>\n",
       "      <td>0</td>\n",
       "      <td>0</td>\n",
       "      <td>0</td>\n",
       "      <td>0</td>\n",
       "      <td>0</td>\n",
       "      <td>0</td>\n",
       "      <td>0</td>\n",
       "      <td>0</td>\n",
       "    </tr>\n",
       "    <tr>\n",
       "      <th>3</th>\n",
       "      <td>-0.258930</td>\n",
       "      <td>-0.347982</td>\n",
       "      <td>-0.582705</td>\n",
       "      <td>0.225096</td>\n",
       "      <td>1</td>\n",
       "      <td>0</td>\n",
       "      <td>0</td>\n",
       "      <td>0</td>\n",
       "      <td>0</td>\n",
       "      <td>0</td>\n",
       "      <td>...</td>\n",
       "      <td>0</td>\n",
       "      <td>0</td>\n",
       "      <td>0</td>\n",
       "      <td>0</td>\n",
       "      <td>0</td>\n",
       "      <td>0</td>\n",
       "      <td>0</td>\n",
       "      <td>0</td>\n",
       "      <td>0</td>\n",
       "      <td>0</td>\n",
       "    </tr>\n",
       "    <tr>\n",
       "      <th>4</th>\n",
       "      <td>0.441950</td>\n",
       "      <td>0.634665</td>\n",
       "      <td>-0.582705</td>\n",
       "      <td>-0.741383</td>\n",
       "      <td>0</td>\n",
       "      <td>0</td>\n",
       "      <td>0</td>\n",
       "      <td>0</td>\n",
       "      <td>1</td>\n",
       "      <td>0</td>\n",
       "      <td>...</td>\n",
       "      <td>0</td>\n",
       "      <td>0</td>\n",
       "      <td>0</td>\n",
       "      <td>0</td>\n",
       "      <td>0</td>\n",
       "      <td>0</td>\n",
       "      <td>0</td>\n",
       "      <td>0</td>\n",
       "      <td>0</td>\n",
       "      <td>0</td>\n",
       "    </tr>\n",
       "    <tr>\n",
       "      <th>5</th>\n",
       "      <td>0.499165</td>\n",
       "      <td>0.525482</td>\n",
       "      <td>-0.378166</td>\n",
       "      <td>-0.302075</td>\n",
       "      <td>1</td>\n",
       "      <td>0</td>\n",
       "      <td>0</td>\n",
       "      <td>0</td>\n",
       "      <td>0</td>\n",
       "      <td>0</td>\n",
       "      <td>...</td>\n",
       "      <td>1</td>\n",
       "      <td>0</td>\n",
       "      <td>0</td>\n",
       "      <td>0</td>\n",
       "      <td>0</td>\n",
       "      <td>0</td>\n",
       "      <td>0</td>\n",
       "      <td>0</td>\n",
       "      <td>0</td>\n",
       "      <td>0</td>\n",
       "    </tr>\n",
       "    <tr>\n",
       "      <th>6</th>\n",
       "      <td>-0.773862</td>\n",
       "      <td>-0.707230</td>\n",
       "      <td>-0.378166</td>\n",
       "      <td>-0.214213</td>\n",
       "      <td>0</td>\n",
       "      <td>0</td>\n",
       "      <td>1</td>\n",
       "      <td>0</td>\n",
       "      <td>0</td>\n",
       "      <td>0</td>\n",
       "      <td>...</td>\n",
       "      <td>0</td>\n",
       "      <td>0</td>\n",
       "      <td>0</td>\n",
       "      <td>0</td>\n",
       "      <td>0</td>\n",
       "      <td>0</td>\n",
       "      <td>0</td>\n",
       "      <td>0</td>\n",
       "      <td>0</td>\n",
       "      <td>0</td>\n",
       "    </tr>\n",
       "    <tr>\n",
       "      <th>7</th>\n",
       "      <td>3.460025</td>\n",
       "      <td>2.673923</td>\n",
       "      <td>0.439994</td>\n",
       "      <td>1.279437</td>\n",
       "      <td>0</td>\n",
       "      <td>0</td>\n",
       "      <td>0</td>\n",
       "      <td>1</td>\n",
       "      <td>0</td>\n",
       "      <td>0</td>\n",
       "      <td>...</td>\n",
       "      <td>0</td>\n",
       "      <td>0</td>\n",
       "      <td>0</td>\n",
       "      <td>0</td>\n",
       "      <td>0</td>\n",
       "      <td>1</td>\n",
       "      <td>0</td>\n",
       "      <td>0</td>\n",
       "      <td>0</td>\n",
       "      <td>0</td>\n",
       "    </tr>\n",
       "    <tr>\n",
       "      <th>8</th>\n",
       "      <td>0.728024</td>\n",
       "      <td>0.602967</td>\n",
       "      <td>-0.582705</td>\n",
       "      <td>-0.917107</td>\n",
       "      <td>0</td>\n",
       "      <td>0</td>\n",
       "      <td>1</td>\n",
       "      <td>0</td>\n",
       "      <td>0</td>\n",
       "      <td>0</td>\n",
       "      <td>...</td>\n",
       "      <td>0</td>\n",
       "      <td>0</td>\n",
       "      <td>0</td>\n",
       "      <td>0</td>\n",
       "      <td>0</td>\n",
       "      <td>0</td>\n",
       "      <td>0</td>\n",
       "      <td>0</td>\n",
       "      <td>0</td>\n",
       "      <td>0</td>\n",
       "    </tr>\n",
       "    <tr>\n",
       "      <th>9</th>\n",
       "      <td>1.157134</td>\n",
       "      <td>1.457060</td>\n",
       "      <td>-0.173626</td>\n",
       "      <td>-0.038489</td>\n",
       "      <td>0</td>\n",
       "      <td>0</td>\n",
       "      <td>0</td>\n",
       "      <td>0</td>\n",
       "      <td>0</td>\n",
       "      <td>0</td>\n",
       "      <td>...</td>\n",
       "      <td>0</td>\n",
       "      <td>0</td>\n",
       "      <td>0</td>\n",
       "      <td>0</td>\n",
       "      <td>0</td>\n",
       "      <td>0</td>\n",
       "      <td>0</td>\n",
       "      <td>0</td>\n",
       "      <td>0</td>\n",
       "      <td>0</td>\n",
       "    </tr>\n",
       "  </tbody>\n",
       "</table>\n",
       "<p>10 rows × 129 columns</p>\n",
       "</div>"
      ],
      "text/plain": [
       "   CRSElapsedTime  Distance    TaxiIn   TaxiOut  Month_1.0  Month_2.0  \\\n",
       "0       -0.916899 -0.744211 -0.787245 -0.741383          0          0   \n",
       "1        0.127269  0.183845 -0.582705 -0.389936          0          0   \n",
       "2        0.370432  0.470891 -0.582705 -0.653522          0          0   \n",
       "3       -0.258930 -0.347982 -0.582705  0.225096          1          0   \n",
       "4        0.441950  0.634665 -0.582705 -0.741383          0          0   \n",
       "5        0.499165  0.525482 -0.378166 -0.302075          1          0   \n",
       "6       -0.773862 -0.707230 -0.378166 -0.214213          0          0   \n",
       "7        3.460025  2.673923  0.439994  1.279437          0          0   \n",
       "8        0.728024  0.602967 -0.582705 -0.917107          0          0   \n",
       "9        1.157134  1.457060 -0.173626 -0.038489          0          0   \n",
       "\n",
       "   Month_3.0  Month_4.0  Month_5.0  Month_6.0         ...           \\\n",
       "0          0          0          0          1         ...            \n",
       "1          0          0          0          1         ...            \n",
       "2          0          0          0          0         ...            \n",
       "3          0          0          0          0         ...            \n",
       "4          0          0          1          0         ...            \n",
       "5          0          0          0          0         ...            \n",
       "6          1          0          0          0         ...            \n",
       "7          0          1          0          0         ...            \n",
       "8          1          0          0          0         ...            \n",
       "9          0          0          0          0         ...            \n",
       "\n",
       "   CRSArrTime_Hour_16.0  CRSArrTime_Hour_17.0  CRSArrTime_Hour_18.0  \\\n",
       "0                     0                     0                     0   \n",
       "1                     0                     1                     0   \n",
       "2                     0                     0                     0   \n",
       "3                     0                     0                     0   \n",
       "4                     0                     0                     0   \n",
       "5                     1                     0                     0   \n",
       "6                     0                     0                     0   \n",
       "7                     0                     0                     0   \n",
       "8                     0                     0                     0   \n",
       "9                     0                     0                     0   \n",
       "\n",
       "   CRSArrTime_Hour_19.0  CRSArrTime_Hour_20.0  CRSArrTime_Hour_21.0  \\\n",
       "0                     0                     0                     0   \n",
       "1                     0                     0                     0   \n",
       "2                     0                     0                     0   \n",
       "3                     0                     0                     0   \n",
       "4                     0                     0                     0   \n",
       "5                     0                     0                     0   \n",
       "6                     0                     0                     0   \n",
       "7                     0                     0                     1   \n",
       "8                     0                     0                     0   \n",
       "9                     0                     0                     0   \n",
       "\n",
       "   CRSArrTime_Hour_22.0  CRSArrTime_Hour_23.0  CRSArrTime_Hour_24.0  \\\n",
       "0                     0                     1                     0   \n",
       "1                     0                     0                     0   \n",
       "2                     0                     0                     0   \n",
       "3                     0                     0                     0   \n",
       "4                     0                     0                     0   \n",
       "5                     0                     0                     0   \n",
       "6                     0                     0                     0   \n",
       "7                     0                     0                     0   \n",
       "8                     0                     0                     0   \n",
       "9                     0                     0                     0   \n",
       "\n",
       "   CRSArrTime_Hour_nan  \n",
       "0                    0  \n",
       "1                    0  \n",
       "2                    0  \n",
       "3                    0  \n",
       "4                    0  \n",
       "5                    0  \n",
       "6                    0  \n",
       "7                    0  \n",
       "8                    0  \n",
       "9                    0  \n",
       "\n",
       "[10 rows x 129 columns]"
      ]
     },
     "execution_count": 212,
     "metadata": {},
     "output_type": "execute_result"
    }
   ],
   "source": [
    "df.head(10)"
   ]
  },
  {
   "cell_type": "code",
   "execution_count": 213,
   "metadata": {
    "collapsed": true
   },
   "outputs": [],
   "source": [
    "# также отмасштабируем целевую переменную\n",
    "y = StandardScaler().fit_transform(y.values.reshape(-1, 1))"
   ]
  },
  {
   "cell_type": "markdown",
   "metadata": {},
   "source": [
    "**11. (0.75 балла)** Разбейте выборку и вектор целевой переменной на обучение и контроль в отношении 70/30 (для этого можно использовать, например, функцию [train_test_split](http://scikit-learn.org/stable/modules/generated/sklearn.cross_validation.train_test_split.html)). "
   ]
  },
  {
   "cell_type": "code",
   "execution_count": 214,
   "metadata": {
    "collapsed": true
   },
   "outputs": [],
   "source": [
    "from sklearn.model_selection import train_test_split"
   ]
  },
  {
   "cell_type": "code",
   "execution_count": 215,
   "metadata": {
    "collapsed": true
   },
   "outputs": [],
   "source": [
    "X = np.array(df)\n",
    "y = y.ravel()"
   ]
  },
  {
   "cell_type": "code",
   "execution_count": 216,
   "metadata": {
    "collapsed": true
   },
   "outputs": [],
   "source": [
    "X_train, X_test, y_train, y_test = train_test_split(X, y, train_size=0.7, random_state=71)"
   ]
  },
  {
   "cell_type": "markdown",
   "metadata": {},
   "source": [
    "### Scikit-learn\n",
    "\n",
    "<img src = \"https://pp.vk.me/c4534/u35727827/93547647/x_d31c4463.jpg\">\n",
    "Теперь, когда мы привели данные к пригодному виду, попробуем решить задачу при помощи метода наименьших квадратов. Напомним, что данный метод заключается в оптимизации функционала $MSE$:\n",
    "\n",
    "$$MSE(X, y) = \\frac{1}{l} \\sum_{i=1}^l (<w, x_i> - y_i)^2 \\to \\min_{w},$$\n",
    "\n",
    "где $\\{ (x_i, y_i ) \\}_{i=1}^l$ — обучающая выборка, состоящая из $l$ пар объект-ответ.\n",
    "\n",
    "Заметим, что решение данной задачи уже реализовано в модуле sklearn в виде класса [LinearRegression](http://scikit-learn.org/stable/modules/generated/sklearn.linear_model.LinearRegression.html#sklearn.linear_model.LinearRegression).\n",
    "\n",
    "**12. (0.5 балла)** Обучите линейную регрессию на 1000 объектах из обучающей выборки и выведите значения $MSE$ и $R^2$ на этой подвыборке и контрольной выборке (итого 4 различных числа). Проинтерпретируйте полученный результат — насколько качественные прогнозы строит полученная модель? Какие проблемы наблюдаются в модели?\n",
    "\n",
    "**Подсказка**: изучите значения полученных коэффициентов $w$, сохраненных в атрибуте coef_ объекта LinearRegression."
   ]
  },
  {
   "cell_type": "code",
   "execution_count": 217,
   "metadata": {
    "collapsed": true
   },
   "outputs": [],
   "source": [
    "from sklearn.linear_model import LinearRegression"
   ]
  },
  {
   "cell_type": "code",
   "execution_count": 218,
   "metadata": {},
   "outputs": [
    {
     "data": {
      "text/plain": [
       "LinearRegression(copy_X=True, fit_intercept=True, n_jobs=1, normalize=False)"
      ]
     },
     "execution_count": 218,
     "metadata": {},
     "output_type": "execute_result"
    }
   ],
   "source": [
    "linreg = LinearRegression()\n",
    "linreg.fit(X_train[:1000], y_train[:1000])"
   ]
  },
  {
   "cell_type": "code",
   "execution_count": 219,
   "metadata": {
    "collapsed": true
   },
   "outputs": [],
   "source": [
    "from sklearn.metrics import mean_squared_error, r2_score"
   ]
  },
  {
   "cell_type": "code",
   "execution_count": 220,
   "metadata": {},
   "outputs": [
    {
     "name": "stdout",
     "output_type": "stream",
     "text": [
      "train_1000: MSE = 0.656210967067, R^2 = 0.209877254015\n",
      "test: MSE = 4.2573755973e+17, R^2 = -4.37767433929e+17\n"
     ]
    }
   ],
   "source": [
    "print('train_1000: MSE = %s, R^2 = %s' % (mean_squared_error(y_train[:1000], linreg.predict(X_train[:1000])), \\\n",
    "                                          r2_score(y_train[:1000], linreg.predict(X_train[:1000]))))\n",
    "\n",
    "print('test: MSE = %s, R^2 = %s' % (mean_squared_error(y_test, linreg.predict(X_test)), \\\n",
    "                                          r2_score(y_test, linreg.predict(X_test))))"
   ]
  },
  {
   "cell_type": "markdown",
   "metadata": {},
   "source": [
    "<span style=\"color:blue\">\n",
    "На тренировочной подвыборке довольно низкий R^2. На тестовой выборке R^2 отрицательный - среднее значение целевой переменной давало бы лучший результат, чем линейная регрессия. Эта модель не подходит для предсказания целевой переменной.\n",
    "</span>"
   ]
  },
  {
   "cell_type": "code",
   "execution_count": 221,
   "metadata": {},
   "outputs": [
    {
     "data": {
      "text/plain": [
       "36188773546.622269"
      ]
     },
     "execution_count": 221,
     "metadata": {},
     "output_type": "execute_result"
    }
   ],
   "source": [
    "linreg.intercept_"
   ]
  },
  {
   "cell_type": "code",
   "execution_count": 222,
   "metadata": {},
   "outputs": [
    {
     "data": {
      "text/plain": [
       "array([  5.86652259e-01,  -5.38398935e-01,   1.79678748e-02,\n",
       "         3.99224697e-02,   2.98406489e+10,   2.98406489e+10,\n",
       "         2.98406489e+10,   2.98406489e+10,   2.98406489e+10,\n",
       "         2.98406489e+10,   2.98406489e+10,   2.98406489e+10,\n",
       "         2.98406489e+10,   2.98406489e+10,   2.98406489e+10,\n",
       "         2.98406489e+10,   9.98886431e+08,  -4.85983195e+09,\n",
       "        -4.85983195e+09,  -4.85983195e+09,  -4.85983195e+09,\n",
       "        -4.85983195e+09,  -4.85983195e+09,  -4.85983195e+09,\n",
       "        -4.85983195e+09,  -4.85983195e+09,  -4.85983195e+09,\n",
       "        -4.85983195e+09,  -4.85983195e+09,  -4.85983195e+09,\n",
       "        -4.85983195e+09,  -4.85983195e+09,  -4.85983195e+09,\n",
       "        -4.85983195e+09,  -4.85983195e+09,  -4.85983195e+09,\n",
       "        -4.85983195e+09,  -4.85983195e+09,  -4.85983195e+09,\n",
       "        -4.85983195e+09,  -4.85983195e+09,  -4.85983195e+09,\n",
       "        -4.85983195e+09,  -4.85983195e+09,  -4.85983195e+09,\n",
       "        -4.85983195e+09,  -4.85983195e+09,  -4.85983195e+09,\n",
       "         2.78880069e+07,  -3.30499833e+10,  -3.30499833e+10,\n",
       "        -3.30499833e+10,  -3.30499833e+10,  -3.30499833e+10,\n",
       "        -3.30499833e+10,  -3.30499833e+10,  -8.36394001e+06,\n",
       "        -1.67422057e+10,  -1.67422057e+10,  -3.27173983e+06,\n",
       "        -1.67422057e+10,  -1.67422057e+10,  -1.67422057e+10,\n",
       "        -1.67422057e+10,  -1.67422057e+10,  -1.67422057e+10,\n",
       "        -1.67422057e+10,  -1.67422057e+10,  -1.67422057e+10,\n",
       "        -1.67422057e+10,  -1.67422057e+10,  -1.67422057e+10,\n",
       "        -1.67422057e+10,  -1.67422057e+10,  -1.67422057e+10,\n",
       "        -1.67422057e+10,  -1.67422057e+10,  -1.82403196e+03,\n",
       "        -4.05864693e+09,  -4.05864693e+09,   1.03784322e+02,\n",
       "        -5.64002274e+00,   9.01489458e+00,  -4.05864693e+09,\n",
       "        -4.05864693e+09,  -4.05864693e+09,  -4.05864693e+09,\n",
       "        -4.05864693e+09,  -4.05864693e+09,  -4.05864693e+09,\n",
       "        -4.05864693e+09,  -4.05864693e+09,  -4.05864693e+09,\n",
       "        -4.05864693e+09,  -4.05864693e+09,  -4.05864693e+09,\n",
       "        -4.05864693e+09,  -4.05864693e+09,  -4.05864693e+09,\n",
       "        -4.05864693e+09,  -4.05864693e+09,  -4.05864693e+09,\n",
       "        -3.47913812e-07,  -7.31875456e+09,  -7.31875456e+09,\n",
       "        -7.31875456e+09,  -1.02251157e-06,  -7.31875456e+09,\n",
       "        -7.31875456e+09,  -7.31875456e+09,  -7.31875456e+09,\n",
       "        -7.31875456e+09,  -7.31875456e+09,  -7.31875456e+09,\n",
       "        -7.31875456e+09,  -7.31875456e+09,  -7.31875456e+09,\n",
       "        -7.31875456e+09,  -7.31875456e+09,  -7.31875456e+09,\n",
       "        -7.31875456e+09,  -7.31875456e+09,  -7.31875456e+09,\n",
       "        -7.31875456e+09,  -7.31875456e+09,  -7.31875456e+09,\n",
       "        -7.31875456e+09,   0.00000000e+00,   0.00000000e+00])"
      ]
     },
     "execution_count": 222,
     "metadata": {},
     "output_type": "execute_result"
    }
   ],
   "source": [
    "linreg.coef_"
   ]
  },
  {
   "cell_type": "markdown",
   "metadata": {},
   "source": [
    "<span style=\"color:blue\">\n",
    "Значения большинства коэффициентов очень большие. Также интересно, что значения очень многих коэффициентов совпадают.\n",
    "</span>"
   ]
  },
  {
   "cell_type": "markdown",
   "metadata": {
    "collapsed": true
   },
   "source": [
    "Для решения описанных вами в предыдущем пункте проблем используем L1- или L2-регуляризацию, тем самым получив Lasso и Ridge регрессии соответственно и изменив оптимизационную задачу одним из следующих образов:\n",
    "$$MSE_{L1}(X, y) = \\frac{1}{l} \\sum_{i=1}^l (<w, x_i> - y_i)^2 + \\alpha ||w||_1 \\to \\min_{w},$$\n",
    "$$MSE_{L2}(X, y) = \\frac{1}{l} \\sum_{i=1}^l (<w, x_i> - y_i)^2 + \\alpha ||w||_2^2 \\to \\min_{w},$$\n",
    "\n",
    "где $\\alpha$ — коэффициент регуляризации. Один из способов его подбора заключается в переборе некоторого количества значений и оценке качества на кросс-валидации для каждого из них, после чего выбирается значение, для которого было получено наилучшее качество.\n",
    "\n",
    "**13. (1 балл)** Обучите линейные регрессии с L1- и L2-регуляризатором, подобрав лучшее значение параметра регуляризации из списка alpha_grid при помощи кросс-валидации c 5 фолдами на тех же 1000 объектах, что и в п.12. Выведите значения $MSE$ и $R^2$ на обучающей и контрольной выборках. Удалось ли решить указанные вами ранее проблемы?\n",
    "\n",
    "Для выполнения данного задания вам могут понадобиться реализованные в библиотеке объекты [LassoCV](http://scikit-learn.org/stable/modules/generated/sklearn.linear_model.LassoCV.html), [RidgeCV](http://scikit-learn.org/stable/modules/generated/sklearn.linear_model.RidgeCV.html) и [KFold](http://scikit-learn.org/stable/modules/generated/sklearn.cross_validation.KFold.html).\n"
   ]
  },
  {
   "cell_type": "code",
   "execution_count": 223,
   "metadata": {
    "collapsed": true
   },
   "outputs": [],
   "source": [
    "from sklearn.linear_model import LassoCV, RidgeCV"
   ]
  },
  {
   "cell_type": "code",
   "execution_count": 224,
   "metadata": {
    "collapsed": true
   },
   "outputs": [],
   "source": [
    "alphagrid = np.linspace(0.001,2,1000)"
   ]
  },
  {
   "cell_type": "code",
   "execution_count": 225,
   "metadata": {},
   "outputs": [
    {
     "data": {
      "text/plain": [
       "LassoCV(alphas=array([  1.00000e-03,   3.00100e-03, ...,   1.99800e+00,   2.00000e+00]),\n",
       "    copy_X=True, cv=5, eps=0.001, fit_intercept=True, max_iter=1000,\n",
       "    n_alphas=100, n_jobs=1, normalize=False, positive=False,\n",
       "    precompute='auto', random_state=71, selection='cyclic', tol=0.0001,\n",
       "    verbose=False)"
      ]
     },
     "execution_count": 225,
     "metadata": {},
     "output_type": "execute_result"
    }
   ],
   "source": [
    "lasso = LassoCV(alphas=alphagrid, cv=5, random_state=71)\n",
    "lasso.fit(X_train[:1000], y_train[:1000])"
   ]
  },
  {
   "cell_type": "code",
   "execution_count": 226,
   "metadata": {},
   "outputs": [
    {
     "data": {
      "text/plain": [
       "0.0070030030030030031"
      ]
     },
     "execution_count": 226,
     "metadata": {},
     "output_type": "execute_result"
    }
   ],
   "source": [
    "lasso.alpha_"
   ]
  },
  {
   "cell_type": "code",
   "execution_count": 228,
   "metadata": {},
   "outputs": [
    {
     "name": "stdout",
     "output_type": "stream",
     "text": [
      "train_1000: MSE = 0.719152727629, R^2 = 0.134091082817\n",
      "test: MSE = 0.953291350229, R^2 = 0.0197719260641\n"
     ]
    }
   ],
   "source": [
    "print('train_1000: MSE = %s, R^2 = %s' % (mean_squared_error(y_train[:1000], lasso.predict(X_train[:1000])), \\\n",
    "                                          r2_score(y_train[:1000], lasso.predict(X_train[:1000]))))\n",
    "\n",
    "print('test: MSE = %s, R^2 = %s' % (mean_squared_error(y_test, lasso.predict(X_test)), \\\n",
    "                                          r2_score(y_test, lasso.predict(X_test))))"
   ]
  },
  {
   "cell_type": "markdown",
   "metadata": {},
   "source": [
    "<span style=\"color:blue\">\n",
    "Результаты на тестовой выборке при использовании Lasso стали лучше.\n",
    "</span>"
   ]
  },
  {
   "cell_type": "code",
   "execution_count": 229,
   "metadata": {
    "collapsed": true
   },
   "outputs": [],
   "source": [
    "alphagrid = np.linspace(10,100,1000)"
   ]
  },
  {
   "cell_type": "code",
   "execution_count": 230,
   "metadata": {},
   "outputs": [
    {
     "data": {
      "text/plain": [
       "RidgeCV(alphas=array([  10.     ,   10.09009, ...,   99.90991,  100.     ]),\n",
       "    cv=5, fit_intercept=True, gcv_mode=None, normalize=False, scoring=None,\n",
       "    store_cv_values=False)"
      ]
     },
     "execution_count": 230,
     "metadata": {},
     "output_type": "execute_result"
    }
   ],
   "source": [
    "ridge = RidgeCV(alphas=alphagrid, cv=5)\n",
    "ridge.fit(X_train[:1000], y_train[:1000])"
   ]
  },
  {
   "cell_type": "code",
   "execution_count": 231,
   "metadata": {},
   "outputs": [
    {
     "data": {
      "text/plain": [
       "76.846846846846844"
      ]
     },
     "execution_count": 231,
     "metadata": {},
     "output_type": "execute_result"
    }
   ],
   "source": [
    "ridge.alpha_"
   ]
  },
  {
   "cell_type": "code",
   "execution_count": 232,
   "metadata": {},
   "outputs": [
    {
     "name": "stdout",
     "output_type": "stream",
     "text": [
      "train_1000: MSE = 0.721884990371, R^2 = 0.130801252185\n",
      "test: MSE = 0.938834917171, R^2 = 0.0346368480303\n"
     ]
    }
   ],
   "source": [
    "print('train_1000: MSE = %s, R^2 = %s' % (mean_squared_error(y_train[:1000], ridge.predict(X_train[:1000])), \\\n",
    "                                          r2_score(y_train[:1000], ridge.predict(X_train[:1000]))))\n",
    "\n",
    "print('test: MSE = %s, R^2 = %s' % (mean_squared_error(y_test, ridge.predict(X_test)), \\\n",
    "                                          r2_score(y_test, ridge.predict(X_test))))"
   ]
  },
  {
   "cell_type": "markdown",
   "metadata": {},
   "source": [
    "<span style=\"color:blue\">\n",
    "Результаты на тестовой выборке при использовании Ridge стали лучше\n",
    "</span>"
   ]
  },
  {
   "cell_type": "code",
   "execution_count": 233,
   "metadata": {},
   "outputs": [
    {
     "data": {
      "text/plain": [
       "-0.077819139277396199"
      ]
     },
     "execution_count": 233,
     "metadata": {},
     "output_type": "execute_result"
    }
   ],
   "source": [
    "lasso.intercept_"
   ]
  },
  {
   "cell_type": "code",
   "execution_count": 234,
   "metadata": {},
   "outputs": [
    {
     "data": {
      "text/plain": [
       "array([ 0.05252569, -0.        ,  0.01677318,  0.03791435, -0.        ,\n",
       "        0.        ,  0.        , -0.10250817,  0.        ,  0.16132647,\n",
       "        0.04901185,  0.        , -0.1328485 , -0.05910387, -0.03948511,\n",
       "        0.02329793,  0.        , -0.        , -0.        , -0.        ,\n",
       "       -0.        ,  0.        ,  0.        , -0.        ,  0.05873084,\n",
       "        0.        ,  0.        , -0.        ,  0.        ,  0.05407614,\n",
       "       -0.        , -0.        , -0.03468235, -0.        ,  0.        ,\n",
       "        0.        , -0.        , -0.        ,  0.        ,  0.        ,\n",
       "        0.        , -0.03990645, -0.        ,  0.        ,  0.        ,\n",
       "       -0.        , -0.        ,  0.        ,  0.        ,  0.00361749,\n",
       "       -0.        , -0.0571838 , -0.03825912,  0.0117809 , -0.        ,\n",
       "        0.        ,  0.        , -0.01616532,  0.        ,  0.        ,\n",
       "       -0.        , -0.        ,  0.        , -0.        , -0.        ,\n",
       "       -0.        , -0.        , -0.        ,  0.03492229, -0.15168385,\n",
       "        0.7563665 , -0.        , -0.00941707, -0.        ,  0.02295632,\n",
       "        0.13191712,  0.        ,  0.        ,  0.        , -0.        ,\n",
       "        0.        ,  0.        ,  0.        , -0.        , -0.02706349,\n",
       "       -0.05974182, -0.07201437, -0.13315817,  0.        , -0.        ,\n",
       "       -0.        , -0.        , -0.        ,  0.04297711,  0.        ,\n",
       "        0.        ,  0.01463721,  0.0578289 ,  0.4712012 ,  0.        ,\n",
       "        0.        , -0.        ,  0.        ,  0.        , -0.        ,\n",
       "       -0.        ,  0.        , -0.        , -0.        ,  0.        ,\n",
       "       -0.        , -0.        , -0.07507014, -0.        , -0.0537504 ,\n",
       "        0.        , -0.        ,  0.        , -0.01727976, -0.        ,\n",
       "       -0.        ,  0.07532137,  0.36912308,  0.08277608,  0.15835201,\n",
       "        0.19882399,  0.16983676,  0.        ,  0.        ])"
      ]
     },
     "execution_count": 234,
     "metadata": {},
     "output_type": "execute_result"
    }
   ],
   "source": [
    "lasso.coef_"
   ]
  },
  {
   "cell_type": "markdown",
   "metadata": {},
   "source": [
    "<span style=\"color:blue\">\n",
    "Lasso осуществляет отбор признаков. Большинстов коэффициентов теперь нулевые. Значения остальных значительно меньше, чем без регуляризации.\n",
    "</span>"
   ]
  },
  {
   "cell_type": "code",
   "execution_count": 235,
   "metadata": {},
   "outputs": [
    {
     "data": {
      "text/plain": [
       "-0.019781209975865875"
      ]
     },
     "execution_count": 235,
     "metadata": {},
     "output_type": "execute_result"
    }
   ],
   "source": [
    "ridge.intercept_"
   ]
  },
  {
   "cell_type": "code",
   "execution_count": 236,
   "metadata": {},
   "outputs": [
    {
     "data": {
      "text/plain": [
       "array([ 0.10896881, -0.05747959,  0.019439  ,  0.04514041, -0.02470389,\n",
       "        0.02630806,  0.0246788 , -0.10250648,  0.01940038,  0.12548284,\n",
       "        0.06649591,  0.03590795, -0.10312221, -0.07418273, -0.05695161,\n",
       "        0.06319299,  0.        , -0.00816568, -0.00331169, -0.04207906,\n",
       "       -0.00407329,  0.00093889,  0.00512006, -0.0263623 ,  0.07961734,\n",
       "        0.03387779,  0.04312452, -0.00929445,  0.04893393,  0.08529207,\n",
       "       -0.02845873, -0.0496626 , -0.07520156, -0.01754124,  0.01390868,\n",
       "        0.0148448 , -0.00806032, -0.05753872,  0.04739621,  0.00887385,\n",
       "        0.01376048, -0.07347501, -0.05762571,  0.02691906,  0.05145252,\n",
       "       -0.03743457, -0.03673703,  0.06096178,  0.        ,  0.04479548,\n",
       "        0.01401115, -0.05721468, -0.05044506,  0.0493833 , -0.01554956,\n",
       "        0.01501937,  0.        , -0.06847459,  0.0409405 ,  0.        ,\n",
       "       -0.04061008, -0.05627727,  0.04244655, -0.00932604, -0.02434145,\n",
       "       -0.04166535, -0.01367029, -0.0363574 ,  0.05987041, -0.12197682,\n",
       "        0.19333284, -0.02925073, -0.06091048, -0.01781464,  0.05214409,\n",
       "        0.10678848,  0.02515226,  0.        , -0.00259337, -0.00163173,\n",
       "        0.        ,  0.        ,  0.        , -0.01248156, -0.07498904,\n",
       "       -0.08695333, -0.08734945, -0.10045619, -0.01164413, -0.02573337,\n",
       "       -0.04740058, -0.03009431, -0.03987964,  0.06537336,  0.044423  ,\n",
       "        0.00398541,  0.06310462,  0.07798852,  0.22884323,  0.01771523,\n",
       "        0.02972908, -0.00995573,  0.        ,  0.04576084, -0.00978489,\n",
       "       -0.0015307 ,  0.        , -0.0091466 , -0.01439021,  0.00052168,\n",
       "       -0.05938895, -0.04843175, -0.09990313, -0.06889262, -0.09560523,\n",
       "       -0.0214263 , -0.02569271,  0.01208694, -0.07244596, -0.069647  ,\n",
       "       -0.06305979,  0.04392322,  0.14489645,  0.04918414,  0.10619662,\n",
       "        0.13740333,  0.11937263,  0.        ,  0.        ])"
      ]
     },
     "execution_count": 236,
     "metadata": {},
     "output_type": "execute_result"
    }
   ],
   "source": [
    "ridge.coef_"
   ]
  },
  {
   "cell_type": "markdown",
   "metadata": {},
   "source": [
    "<span style=\"color:blue\">\n",
    "При использовании Ridge значения коэффициентов тоже значительно меньше, чем без регуляризации. Некоторые даже обнулились.\n",
    "</span>"
   ]
  },
  {
   "cell_type": "markdown",
   "metadata": {},
   "source": [
    "### Градиентный спуск\n",
    "\n",
    "В предыдущем разделе мы использовали существующие реализации методов обучения линейной регрессии с регуляризацией и без. Тем не менее, подобные реализации, как правило, имеются лишь для ограниченного набора стандартных методов. В частности, при выходе функционала качества за пределы стандартного множества необходимо самостоятельно реализовывать составляющие процесса решения оптимизационной задачи. Именно этому и посвящен данный раздел задания.\n",
    "\n",
    "Пусть необходимо минимизировать следующий функционал (Mean Square Percentage Error — модифицированный [RMSPE](https://www.kaggle.com/c/rossmann-store-sales/details/evaluation)):\n",
    "$$MSPE(\\{x_i, y_i\\}_{i=1}^l, \\, w) = \\frac{1}{l}\\sum_{i=1}^l \\left( \\frac{y_i - \\langle w, x_i \\rangle }{y_i} \\right)^2,$$\n",
    "\n",
    "где $\\{x_i, y_i\\}_{i=1}^l$ — обучающая выборка, $w$ — вектор весов линейной модели. Будем также рассматривать функционал $MSPE$ с L2-регуляризацией:\n",
    "\n",
    "$$MSPE(\\{x_i, y_i\\}_{i=1}^l, \\, w) = \\frac{1}{l}\\sum_{i=1}^l \\left( \\frac{y_i - \\langle w, x_i \\rangle }{y_i} \\right)^2 + ||w||_2^2.$$\n",
    "\n",
    "**14. (0 баллов)** Добавьте к объектам обеих выборок из п. 11 единичный признак."
   ]
  },
  {
   "cell_type": "code",
   "execution_count": 237,
   "metadata": {
    "collapsed": true
   },
   "outputs": [],
   "source": [
    "X_train = np.append(X_train, np.array([[1]*len(X_train)]).T, axis=1)\n",
    "X_test = np.append(X_test, np.array([[1]*len(X_test)]).T, axis=1)"
   ]
  },
  {
   "cell_type": "markdown",
   "metadata": {},
   "source": [
    "**15. (1 балл)** Реализуйте функции, которые вычисляют:\n",
    " * прогнозы линейной модели;\n",
    " * функционал $MSPE$ и его градиент;\n",
    " * регуляризованный $MSPE$ и его градиент."
   ]
  },
  {
   "cell_type": "code",
   "execution_count": 238,
   "metadata": {
    "collapsed": true
   },
   "outputs": [],
   "source": [
    "# возвращает вектор прогнозов линейной модели с вектором весов w для выборки X\n",
    "def make_pred(X, w):\n",
    "    return np.dot(X, w)"
   ]
  },
  {
   "cell_type": "code",
   "execution_count": 239,
   "metadata": {
    "collapsed": true
   },
   "outputs": [],
   "source": [
    "# возвращает значение функционала MSPE для выборки (X, y) и вектора весов w\n",
    "def get_func(w, X, y):\n",
    "    return np.mean(((y - np.dot(X, w)) / y)**2)"
   ]
  },
  {
   "cell_type": "markdown",
   "metadata": {},
   "source": [
    "<span style=\"color:blue\">\n",
    "Перепишем функционал в матричном виде:\n",
    "</span>"
   ]
  },
  {
   "cell_type": "markdown",
   "metadata": {},
   "source": [
    "<span style=\"color:blue\">\n",
    "$$ MSPE(w) = \\frac{1}{l}(Y^*(y-Xw))^T(Y^*(y-Xw)), \\: где \\: Y^* =\n",
    "\\begin{pmatrix}\n",
    "1/y_1 & 0 &\\ldots & 0\\\\\n",
    "0 & 1/y_2 &\\ldots & 0\\\\\n",
    "\\vdots& \\vdots &\\ddots & \\vdots\\\\\n",
    "0 & 0 &\\ldots & 1/y_l\n",
    "\\end{pmatrix}\n",
    "$$\n",
    "</span>"
   ]
  },
  {
   "cell_type": "markdown",
   "metadata": {},
   "source": [
    "<span style=\"color:blue\">\n",
    "Тогда $ \\nabla MSPE(w) = (-\\frac{2}{l}(Y^*(y-Xw))^T Y^*X)^T $, $ \\nabla MSPE\\_L2(w) = (-\\frac{2}{l}(Y^*(y-Xw))^T Y^*X + 2w^T)^T $\n",
    "</span>"
   ]
  },
  {
   "cell_type": "code",
   "execution_count": 240,
   "metadata": {
    "collapsed": true
   },
   "outputs": [],
   "source": [
    "# возвращает градиент функционала MSPE для выборки (X, y) и вектора весов w\n",
    "def get_grad(w, X, y):\n",
    "    return -2 * np.dot((y - np.dot(X, w))/(y**2), X) / len(y)"
   ]
  },
  {
   "cell_type": "code",
   "execution_count": 241,
   "metadata": {
    "collapsed": true
   },
   "outputs": [],
   "source": [
    "# возвращает значение регуляризованного функционала MSPE для выборки (X, y) и вектора весов w\n",
    "def get_reg_func(w, X, y):\n",
    "    return np.mean(((y - np.dot(X, w)) / y)**2) + sum(w**2)"
   ]
  },
  {
   "cell_type": "code",
   "execution_count": 242,
   "metadata": {
    "collapsed": true
   },
   "outputs": [],
   "source": [
    "# возвращает градиент регуляризованного функционала MSPE для выборки (X, y) и вектора весов w\n",
    "def get_reg_grad(w, X, y):\n",
    "    return -2 * np.dot((y - np.dot(X, w))/(y**2), X) / len(y) + 2*w"
   ]
  },
  {
   "cell_type": "markdown",
   "metadata": {},
   "source": [
    "**16. (1 балл)** Реализуйте метод градиентного спуска для описанных функционалов ($MSPE$ и его регуляризованный вариант). Функция должна принимать следующие параметры:\n",
    " - X — матрица \"объект-признак\";\n",
    " - y — вектор целевой переменной;\n",
    " - w0 — начальное значение вектора весов;\n",
    " - step_size — значение темпа обучения;\n",
    " - max_iter — максимальное число итераций;\n",
    " - eps — значение, используемое в критерии останова;\n",
    " - is_reg — бинарный параметр, принимает значение True в случае наличия регуляризации функционала, False — в противном случае.\n",
    " \n",
    "Процесс должен быть остановлен, если выполнено хотя бы одно из следующих условий:\n",
    " - было выполнено заданное количество итераций max_iter;\n",
    " - евклидова норма разности векторов $w$ на соседних итерациях стала меньше, чем eps.\n",
    "\n",
    "Функция должна возвращать полученный в результате оптимизации вектор $w$ и список значений функционала на каждой итерации."
   ]
  },
  {
   "cell_type": "code",
   "execution_count": 243,
   "metadata": {
    "collapsed": true
   },
   "outputs": [],
   "source": [
    "def grad_descent(X, y, w0, step_size, max_iter, eps, is_reg):\n",
    "    if is_reg:\n",
    "        Q = get_reg_func\n",
    "        gradient = get_reg_grad\n",
    "    else:\n",
    "        Q = get_func\n",
    "        gradient = get_grad\n",
    "    \n",
    "    w_old = w0\n",
    "    Q_old = Q(w_old, X, y)\n",
    "    \n",
    "    Q_values = [Q_old]\n",
    "    \n",
    "    for i in range(max_iter):\n",
    "        w_new = w_old - (step_size*(0.9**(i**0.5))) * gradient(w_old, X, y)\n",
    "        Q_new = Q(w_new, X, y)\n",
    "        \n",
    "        Q_values.append(Q_new)\n",
    "        \n",
    "        if sum((w_new - w_old)**2)**0.5 < eps:\n",
    "            break\n",
    "        \n",
    "        w_old = w_new\n",
    "        Q_old = Q_new\n",
    "    \n",
    "    return w_new, Q_values"
   ]
  },
  {
   "cell_type": "markdown",
   "metadata": {},
   "source": [
    "Обучите линейную регрессию с функционалом $MSPE$ на обучающей выборке при помощи метода градиентного спуска и изобразите кривые зависимости значения функционала от номера итерации для различных:\n",
    " * значений размера шага из набора [0.001, 1, 10];\n",
    " * способов начальной инициализации вектора весов (нули, случайные веса).\n",
    "\n",
    "Проанализируйте полученные результаты — влияют ли данные параметры на скорость сходимости и итоговое качество? Если да, то как?"
   ]
  },
  {
   "cell_type": "code",
   "execution_count": 245,
   "metadata": {},
   "outputs": [
    {
     "data": {
      "image/png": "[encoded data removed]",
      "text/plain": [
       "<matplotlib.figure.Figure at 0x28f16741160>"
      ]
     },
     "metadata": {},
     "output_type": "display_data"
    },
    {
     "name": "stdout",
     "output_type": "stream",
     "text": [
      "77 итераций. Значение функционала на последней итерации: 0.989049619821\n"
     ]
    }
   ],
   "source": [
    "# step_size = 0.001\n",
    "\n",
    "w, Q = grad_descent(X_train, y_train, np.array([0]*len(X_train[0])), 0.001, 300, 0.0001, False)\n",
    "\n",
    "plt.plot(range(1, len(Q)+1), Q, '-')\n",
    "plt.grid(True)\n",
    "plt.title('step_size = 0.001')\n",
    "plt.xlabel('iterations')\n",
    "plt.ylabel('Q')\n",
    "plt.show()\n",
    "\n",
    "print(len(Q)-1, 'итераций. Значение функционала на последней итерации:', Q[-1])"
   ]
  },
  {
   "cell_type": "code",
   "execution_count": 246,
   "metadata": {},
   "outputs": [
    {
     "data": {
      "image/png": "[encoded data removed]",
      "text/plain": [
       "<matplotlib.figure.Figure at 0x28f16747358>"
      ]
     },
     "metadata": {},
     "output_type": "display_data"
    },
    {
     "name": "stdout",
     "output_type": "stream",
     "text": [
      "88 итераций. Значение функционала на последней итерации: 0.987331330352\n"
     ]
    }
   ],
   "source": [
    "# step_size = 0.002\n",
    "\n",
    "w, Q = grad_descent(X_train, y_train, np.array([0]*len(X_train[0])), 0.002, 300, 0.0001, False)\n",
    "\n",
    "plt.plot(range(1, len(Q)+1), Q, '-')\n",
    "plt.grid(True)\n",
    "plt.title('step_size = 0.002')\n",
    "plt.xlabel('iterations')\n",
    "plt.ylabel('Q')\n",
    "plt.show()\n",
    "\n",
    "print(len(Q)-1, 'итераций. Значение функционала на последней итерации:', Q[-1])"
   ]
  },
  {
   "cell_type": "code",
   "execution_count": 247,
   "metadata": {},
   "outputs": [
    {
     "data": {
      "image/png": "[encoded data removed]",
      "text/plain": [
       "<matplotlib.figure.Figure at 0x28f16f69470>"
      ]
     },
     "metadata": {},
     "output_type": "display_data"
    },
    {
     "name": "stdout",
     "output_type": "stream",
     "text": [
      "300 итераций. Значение функционала на последней итерации: 1.57796218252e+266\n"
     ]
    }
   ],
   "source": [
    "# step_size = 0.01\n",
    "\n",
    "w, Q = grad_descent(X_train, y_train, np.array([0]*len(X_train[0])), 0.01, 300, 0.0001, False)\n",
    "\n",
    "plt.plot(range(1, len(Q)+1), Q, '-')\n",
    "plt.grid(True)\n",
    "plt.title('step_size = 0.01')\n",
    "plt.xlabel('iterations')\n",
    "plt.ylabel('Q')\n",
    "plt.show()\n",
    "\n",
    "print(len(Q)-1, 'итераций. Значение функционала на последней итерации:', Q[-1])"
   ]
  },
  {
   "cell_type": "markdown",
   "metadata": {},
   "source": [
    "<span style=\"color:blue\">\n",
    "При шаге 0.01 и больше градиентный спуск не сходится\n",
    "</span>"
   ]
  },
  {
   "cell_type": "markdown",
   "metadata": {},
   "source": [
    "**17. (0.5 балла)** Обучите линейную регрессию с функционалом MSPE и его регуляризованным вариантом на обучающей выборке при помощи метода градиентного спуска и изобразите кривые зависимости значения функционала от номера итерации. Исследуйте зависимость скорости сходимости от наличия регуляризации. Обоснуйте, почему так происходит."
   ]
  },
  {
   "cell_type": "code",
   "execution_count": 265,
   "metadata": {},
   "outputs": [
    {
     "data": {
      "image/png": "[encoded data removed]",
      "text/plain": [
       "<matplotlib.figure.Figure at 0x28f1a8d8a90>"
      ]
     },
     "metadata": {},
     "output_type": "display_data"
    },
    {
     "name": "stdout",
     "output_type": "stream",
     "text": [
      "88 итераций. Значение функционала на последней итерации: 0.987331330352\n"
     ]
    }
   ],
   "source": [
    "w, Q = grad_descent(X_train, y_train, np.array([0]*len(X_train[0])), 0.002, 300, 0.0001, False)\n",
    "\n",
    "plt.plot(range(1, len(Q)+1), Q, '-')\n",
    "plt.grid(True)\n",
    "plt.title('Без регуляризации')\n",
    "plt.xlabel('iterations')\n",
    "plt.ylabel('Q')\n",
    "plt.show()\n",
    "\n",
    "print(len(Q)-1, 'итераций. Значение функционала на последней итерации:', Q[-1])"
   ]
  },
  {
   "cell_type": "code",
   "execution_count": 266,
   "metadata": {},
   "outputs": [
    {
     "name": "stdout",
     "output_type": "stream",
     "text": [
      "Контрольная выборка:\n",
      "R^2 = 0.00197879597854\n",
      "MSE = 0.970595524079\n",
      "MSPE = 1.00533709567\n"
     ]
    }
   ],
   "source": [
    "y_predicted = make_pred(X_test, w)\n",
    "print('Контрольная выборка:')\n",
    "print('R^2 =', r2_score(y_test, y_predicted))\n",
    "print('MSE =', mean_squared_error(y_test, y_predicted))\n",
    "print('MSPE =', np.mean(((y_test - y_predicted) / y_test)**2))"
   ]
  },
  {
   "cell_type": "code",
   "execution_count": 267,
   "metadata": {},
   "outputs": [
    {
     "data": {
      "image/png": "[encoded data removed]",
      "text/plain": [
       "<matplotlib.figure.Figure at 0x28f1b71c4a8>"
      ]
     },
     "metadata": {},
     "output_type": "display_data"
    },
    {
     "name": "stdout",
     "output_type": "stream",
     "text": [
      "76 итераций. Значение функционала на последней итерации: 0.988294117049\n"
     ]
    }
   ],
   "source": [
    "w, Q = grad_descent(X_train, y_train, np.array([0]*len(X_train[0])), 0.002, 300, 0.0001, True)\n",
    "\n",
    "plt.plot(range(1, len(Q)+1), Q, '-')\n",
    "plt.grid(True)\n",
    "plt.title('С регулиризацией')\n",
    "plt.xlabel('iterations')\n",
    "plt.ylabel('Q')\n",
    "plt.show()\n",
    "\n",
    "print(len(Q)-1, 'итераций. Значение функционала на последней итерации:', Q[-1])"
   ]
  },
  {
   "cell_type": "code",
   "execution_count": 268,
   "metadata": {},
   "outputs": [
    {
     "name": "stdout",
     "output_type": "stream",
     "text": [
      "Контрольная выборка:\n",
      "R^2 = 0.00185080176617\n",
      "MSE = 0.970720001003\n",
      "MSPE = 1.00346369748\n"
     ]
    }
   ],
   "source": [
    "y_predicted = make_pred(X_test, w)\n",
    "print('Контрольная выборка:')\n",
    "print('R^2 =', r2_score(y_test, y_predicted))\n",
    "print('MSE =', mean_squared_error(y_test, y_predicted))\n",
    "print('MSPE =', np.mean(((y_test - y_predicted) / y_test)**2))"
   ]
  },
  {
   "cell_type": "markdown",
   "metadata": {},
   "source": [
    "<span style=\"color:blue\">\n",
    "С регуляризацией градиентный спуск сходится быстрее, так как подбирает меньше весов (большинство остаются нулевыми).\n",
    "</span>"
   ]
  },
  {
   "cell_type": "markdown",
   "metadata": {},
   "source": [
    "Метод градиентного спуска может быть весьма трудозатратен в случае большого размера обучающей выборки. Поэтому часто используют метод стохастического градиентного спуска, где на каждой итерации выбирается случайный объект из обучающей выборки и обновление весов происходит только по этому объекту. \n",
    "\n",
    "**18*. (1 бонусный балл)**  Реализуйте метод стохастического градиентного спуска (SGD) для описанных функционалов ($MSPE$ и его регуляризованный вариант). Функция должна иметь параметры и возвращаемое значение, аналогичные оным функции grad\\_descent из п.21. Кроме того, должен использоваться аналогичный критерий останова."
   ]
  },
  {
   "cell_type": "code",
   "execution_count": 269,
   "metadata": {
    "collapsed": true
   },
   "outputs": [],
   "source": [
    "import random"
   ]
  },
  {
   "cell_type": "code",
   "execution_count": 270,
   "metadata": {
    "collapsed": true
   },
   "outputs": [],
   "source": [
    "def sgd(X, y, w0, step_size, max_iter, eps, is_reg, batch_size):\n",
    "    if is_reg:\n",
    "        Q = get_reg_func\n",
    "        gradient = get_reg_grad\n",
    "    else:\n",
    "        Q = get_func\n",
    "        gradient = get_grad\n",
    "    \n",
    "    w_old = w0\n",
    "    Q_old = Q(w_old, X, y)\n",
    "    \n",
    "    Q_values = [Q_old]\n",
    "    \n",
    "    for i in range(max_iter):\n",
    "        random_nums = random.sample(range(len(X)), batch_size)\n",
    "        w_new = w_old - (step_size*(0.9**(i**0.5))) * gradient(w_old, np.array([X[j] for j in random_nums]), np.array([y[j] for j in random_nums]))\n",
    "        Q_new = Q(w_new, X, y)\n",
    "        \n",
    "        Q_values.append(Q_new)\n",
    "        \n",
    "        if sum((w_new - w_old)**2)**0.5 < eps:\n",
    "            break\n",
    "        \n",
    "        w_old = w_new\n",
    "        Q_old = Q_new\n",
    "    \n",
    "    return w_new, Q_values"
   ]
  },
  {
   "cell_type": "markdown",
   "metadata": {},
   "source": [
    "Обучите линейную регрессию с функционалом $MSPE$ и его регуляризованным вариантом на обучающей выборке при помощи метода стохастического градиентного спуска, подобрав при этом размер шага, при котором метод будет сходиться. Нарисуйте график сходимости. Выведите значения $MSPE, MSE, R^2$ на контрольной выборке."
   ]
  },
  {
   "cell_type": "code",
   "execution_count": 271,
   "metadata": {},
   "outputs": [
    {
     "data": {
      "image/png": "[encoded data removed]",
      "text/plain": [
       "<matplotlib.figure.Figure at 0x28f1aec8d30>"
      ]
     },
     "metadata": {},
     "output_type": "display_data"
    },
    {
     "name": "stdout",
     "output_type": "stream",
     "text": [
      "500 итераций. Значение функционала на последней итерации: 0.987666470029\n"
     ]
    }
   ],
   "source": [
    "random.seed(42)\n",
    "w, Q = sgd(X_train, y_train, np.array([0]*len(X_train[0])), 0.001, 500, 0.0001, False, 1000)\n",
    "\n",
    "plt.plot(range(1, len(Q)+1), Q, '-')\n",
    "plt.grid(True)\n",
    "plt.title('Без регуляризации')\n",
    "plt.xlabel('iterations')\n",
    "plt.ylabel('Q')\n",
    "plt.show()\n",
    "\n",
    "print(len(Q)-1, 'итераций. Значение функционала на последней итерации:', Q[-1])"
   ]
  },
  {
   "cell_type": "code",
   "execution_count": 272,
   "metadata": {},
   "outputs": [
    {
     "name": "stdout",
     "output_type": "stream",
     "text": [
      "Контрольная выборка:\n",
      "R^2 = 0.00201965739076\n",
      "MSE = 0.970555785541\n",
      "MSPE = 1.00693449822\n"
     ]
    }
   ],
   "source": [
    "y_predicted = make_pred(X_test, w)\n",
    "print('Контрольная выборка:')\n",
    "print('R^2 =', r2_score(y_test, y_predicted))\n",
    "print('MSE =', mean_squared_error(y_test, y_predicted))\n",
    "print('MSPE =', np.mean(((y_test - y_predicted) / y_test)**2))"
   ]
  },
  {
   "cell_type": "markdown",
   "metadata": {},
   "source": [
    "**19*. (0.5 бонусного балла)** Аналогично п.17 исследуйте зависимость скорости сходимости метода SGD от наличия регуляризации. Обоснуйте, почему так происходит."
   ]
  },
  {
   "cell_type": "code",
   "execution_count": 273,
   "metadata": {},
   "outputs": [
    {
     "data": {
      "image/png": "[encoded data removed]",
      "text/plain": [
       "<matplotlib.figure.Figure at 0x28f14954080>"
      ]
     },
     "metadata": {},
     "output_type": "display_data"
    },
    {
     "name": "stdout",
     "output_type": "stream",
     "text": [
      "500 итераций. Значение функционала на последней итерации: 0.988589806854\n"
     ]
    }
   ],
   "source": [
    "random.seed(42)\n",
    "w, Q = sgd(X_train, y_train, np.array([0]*len(X_train[0])), 0.001, 500, 0.0001, True, 1000)\n",
    "\n",
    "plt.plot(range(1, len(Q)+1), Q, '-')\n",
    "plt.grid(True)\n",
    "plt.title('С регуляризацией')\n",
    "plt.xlabel('iterations')\n",
    "plt.ylabel('Q')\n",
    "plt.show()\n",
    "\n",
    "print(len(Q)-1, 'итераций. Значение функционала на последней итерации:', Q[-1])"
   ]
  },
  {
   "cell_type": "code",
   "execution_count": 274,
   "metadata": {},
   "outputs": [
    {
     "name": "stdout",
     "output_type": "stream",
     "text": [
      "Контрольная выборка:\n",
      "R^2 = 0.00191512489823\n",
      "MSE = 0.970657445474\n",
      "MSPE = 1.00513401245\n"
     ]
    }
   ],
   "source": [
    "y_predicted = make_pred(X_test, w)\n",
    "print('Контрольная выборка:')\n",
    "print('R^2 =', r2_score(y_test, y_predicted))\n",
    "print('MSE =', mean_squared_error(y_test, y_predicted))\n",
    "print('MSPE =', np.mean(((y_test - y_predicted) / y_test)**2))"
   ]
  },
  {
   "cell_type": "markdown",
   "metadata": {},
   "source": [
    "<span style=\"color:blue\">\n",
    "При использовании регуляризации и без нее градиентный спуск не сошелся за 500 итераций, но в обоих случаях находился очень близко к минимуму.\n",
    "</span>"
   ]
  },
  {
   "cell_type": "markdown",
   "metadata": {},
   "source": [
    "**20. (0.5 балла)** Обучите стандартную линейную регрессию с функционалом качества MSE на обучающей выборке и выведите значение MSPE полученного решения на контрольной выборке. Как оно соотносится с аналогичным результатом для решения, полученного в п.17? Почему?"
   ]
  },
  {
   "cell_type": "code",
   "execution_count": 275,
   "metadata": {},
   "outputs": [
    {
     "name": "stdout",
     "output_type": "stream",
     "text": [
      "MSPE = 18.9976485533\n"
     ]
    }
   ],
   "source": [
    "linreg = LinearRegression()\n",
    "linreg.fit(X_train, y_train)\n",
    "y_predicted = linreg.predict(X_test)\n",
    "print('MSPE =', np.mean(((y_test - y_predicted) / y_test)**2))"
   ]
  },
  {
   "cell_type": "markdown",
   "metadata": {},
   "source": [
    "<span style=\"color:blue\">\n",
    "В пункте 17 без регуляризации MSPE был 1.00533709567, что значительно меньше, чем при использовании обычной линейной регрессии. Это объясняется тем, что при обучении обычной линейной регрессии минимизируется другая целевая функция, веса в минимумах MSE и MSPE не совпадают.\n",
    "</span>"
   ]
  },
  {
   "cell_type": "code",
   "execution_count": null,
   "metadata": {
    "collapsed": true
   },
   "outputs": [],
   "source": []
  }
 ],
 "metadata": {
  "anaconda-cloud": {},
  "kernelspec": {
   "display_name": "Python 3",
   "language": "python",
   "name": "python3"
  },
  "language_info": {
   "codemirror_mode": {
    "name": "ipython",
    "version": 3
   },
   "file_extension": ".py",
   "mimetype": "text/x-python",
   "name": "python",
   "nbconvert_exporter": "python",
   "pygments_lexer": "ipython3",
   "version": "3.6.1"
  }
 },
 "nbformat": 4,
 "nbformat_minor": 1
}
